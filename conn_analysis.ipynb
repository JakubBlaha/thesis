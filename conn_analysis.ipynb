{
 "cells": [
  {
   "cell_type": "code",
   "execution_count": 54,
   "id": "8f20edc6-9b8b-4216-940f-9dd4e36b7bb8",
   "metadata": {},
   "outputs": [
    {
     "name": "stdout",
     "output_type": "stream",
     "text": [
      "The autoreload extension is already loaded. To reload it, use:\n",
      "  %reload_ext autoreload\n"
     ]
    }
   ],
   "source": [
    "%load_ext autoreload\n",
    "%autoreload 2\n",
    "import mne\n",
    "import numpy as np\n",
    "from scripts.dasps_preprocess import DaspsPreprocessor\n",
    "from main import *\n",
    "import scipy.stats as stats\n"
   ]
  },
  {
   "cell_type": "code",
   "execution_count": 55,
   "id": "79440750",
   "metadata": {},
   "outputs": [
    {
     "name": "stdout",
     "output_type": "stream",
     "text": [
      "Getting epochs for filename data/dasps_raw_mat/S01.mat\n",
      "Not setting metadata\n",
      "2 matching events found\n",
      "No baseline correction applied\n",
      "0 projection items activated\n",
      "Getting epochs for filename data/dasps_raw_mat/S01.mat\n",
      "Not setting metadata\n",
      "2 matching events found\n",
      "No baseline correction applied\n",
      "0 projection items activated\n",
      "Getting epochs for filename data/dasps_raw_mat/S02.mat\n",
      "Not setting metadata\n",
      "2 matching events found\n",
      "No baseline correction applied\n",
      "0 projection items activated\n",
      "Getting epochs for filename data/dasps_raw_mat/S02.mat\n",
      "Not setting metadata\n",
      "2 matching events found\n",
      "No baseline correction applied\n",
      "0 projection items activated\n",
      "Getting epochs for filename data/dasps_raw_mat/S02.mat\n",
      "Not setting metadata\n",
      "2 matching events found\n",
      "No baseline correction applied\n",
      "0 projection items activated\n",
      "Getting epochs for filename data/dasps_raw_mat/S02.mat\n",
      "Not setting metadata\n",
      "2 matching events found\n",
      "No baseline correction applied\n",
      "0 projection items activated\n",
      "Getting epochs for filename data/dasps_raw_mat/S03.mat\n",
      "Not setting metadata\n",
      "2 matching events found\n",
      "No baseline correction applied\n",
      "0 projection items activated\n",
      "Getting epochs for filename data/dasps_raw_mat/S03.mat\n",
      "Not setting metadata\n",
      "2 matching events found\n",
      "No baseline correction applied\n",
      "0 projection items activated\n",
      "Getting epochs for filename data/dasps_raw_mat/S03.mat\n",
      "Not setting metadata\n",
      "2 matching events found\n",
      "No baseline correction applied\n",
      "0 projection items activated\n",
      "Getting epochs for filename data/dasps_raw_mat/S03.mat\n",
      "Not setting metadata\n",
      "2 matching events found\n",
      "No baseline correction applied\n",
      "0 projection items activated\n",
      "Getting epochs for filename data/dasps_raw_mat/S03.mat\n",
      "Not setting metadata\n",
      "2 matching events found\n",
      "No baseline correction applied\n",
      "0 projection items activated\n",
      "Getting epochs for filename data/dasps_raw_mat/S04.mat\n",
      "Not setting metadata\n",
      "2 matching events found\n",
      "No baseline correction applied\n",
      "0 projection items activated\n",
      "Getting epochs for filename data/dasps_raw_mat/S04.mat\n",
      "Not setting metadata\n",
      "2 matching events found\n",
      "No baseline correction applied\n",
      "0 projection items activated\n",
      "Getting epochs for filename data/dasps_raw_mat/S04.mat\n",
      "Not setting metadata\n",
      "2 matching events found\n",
      "No baseline correction applied\n",
      "0 projection items activated\n",
      "Getting epochs for filename data/dasps_raw_mat/S06.mat\n",
      "Not setting metadata\n",
      "2 matching events found\n",
      "No baseline correction applied\n",
      "0 projection items activated\n",
      "Getting epochs for filename data/dasps_raw_mat/S06.mat\n",
      "Not setting metadata\n",
      "2 matching events found\n",
      "No baseline correction applied\n",
      "0 projection items activated\n",
      "Getting epochs for filename data/dasps_raw_mat/S07.mat\n",
      "Not setting metadata\n",
      "2 matching events found\n",
      "No baseline correction applied\n",
      "0 projection items activated\n",
      "Getting epochs for filename data/dasps_raw_mat/S07.mat\n",
      "Not setting metadata\n",
      "2 matching events found\n",
      "No baseline correction applied\n",
      "0 projection items activated\n",
      "Getting epochs for filename data/dasps_raw_mat/S07.mat\n",
      "Not setting metadata\n",
      "2 matching events found\n",
      "No baseline correction applied\n",
      "0 projection items activated\n",
      "Getting epochs for filename data/dasps_raw_mat/S08.mat\n",
      "Not setting metadata\n",
      "2 matching events found\n",
      "No baseline correction applied\n",
      "0 projection items activated\n",
      "Getting epochs for filename data/dasps_raw_mat/S08.mat\n",
      "Not setting metadata\n",
      "2 matching events found\n",
      "No baseline correction applied\n",
      "0 projection items activated\n",
      "Getting epochs for filename data/dasps_raw_mat/S08.mat\n",
      "Not setting metadata\n",
      "2 matching events found\n",
      "No baseline correction applied\n",
      "0 projection items activated\n",
      "Getting epochs for filename data/dasps_raw_mat/S08.mat\n",
      "Not setting metadata\n",
      "2 matching events found\n",
      "No baseline correction applied\n",
      "0 projection items activated\n",
      "Getting epochs for filename data/dasps_raw_mat/S08.mat\n",
      "Not setting metadata\n",
      "2 matching events found\n",
      "No baseline correction applied\n",
      "0 projection items activated\n",
      "Getting epochs for filename data/dasps_raw_mat/S09.mat\n",
      "Not setting metadata\n",
      "2 matching events found\n",
      "No baseline correction applied\n",
      "0 projection items activated\n",
      "Getting epochs for filename data/dasps_raw_mat/S09.mat\n",
      "Not setting metadata\n",
      "2 matching events found\n",
      "No baseline correction applied\n",
      "0 projection items activated\n",
      "Getting epochs for filename data/dasps_raw_mat/S09.mat\n",
      "Not setting metadata\n",
      "2 matching events found\n",
      "No baseline correction applied\n",
      "0 projection items activated\n",
      "Getting epochs for filename data/dasps_raw_mat/S10.mat\n",
      "Not setting metadata\n",
      "2 matching events found\n",
      "No baseline correction applied\n",
      "0 projection items activated\n",
      "Getting epochs for filename data/dasps_raw_mat/S10.mat\n",
      "Not setting metadata\n",
      "2 matching events found\n",
      "No baseline correction applied\n",
      "0 projection items activated\n",
      "Getting epochs for filename data/dasps_raw_mat/S10.mat\n",
      "Not setting metadata\n",
      "2 matching events found\n",
      "No baseline correction applied\n",
      "0 projection items activated\n",
      "Getting epochs for filename data/dasps_raw_mat/S10.mat\n",
      "Not setting metadata\n",
      "2 matching events found\n",
      "No baseline correction applied\n",
      "0 projection items activated\n",
      "Getting epochs for filename data/dasps_raw_mat/S10.mat\n",
      "Not setting metadata\n",
      "2 matching events found\n",
      "No baseline correction applied\n",
      "0 projection items activated\n",
      "Getting epochs for filename data/dasps_raw_mat/S10.mat\n",
      "Not setting metadata\n",
      "2 matching events found\n",
      "No baseline correction applied\n",
      "0 projection items activated\n",
      "Getting epochs for filename data/dasps_raw_mat/S11.mat\n",
      "Not setting metadata\n",
      "2 matching events found\n",
      "No baseline correction applied\n",
      "0 projection items activated\n",
      "Getting epochs for filename data/dasps_raw_mat/S11.mat\n",
      "Not setting metadata\n",
      "2 matching events found\n",
      "No baseline correction applied\n",
      "0 projection items activated\n",
      "Getting epochs for filename data/dasps_raw_mat/S11.mat\n",
      "Not setting metadata\n",
      "2 matching events found\n",
      "No baseline correction applied\n",
      "0 projection items activated\n",
      "Getting epochs for filename data/dasps_raw_mat/S11.mat\n",
      "Not setting metadata\n",
      "2 matching events found\n",
      "No baseline correction applied\n",
      "0 projection items activated\n",
      "Getting epochs for filename data/dasps_raw_mat/S11.mat\n",
      "Not setting metadata\n",
      "2 matching events found\n",
      "No baseline correction applied\n",
      "0 projection items activated\n",
      "Getting epochs for filename data/dasps_raw_mat/S12.mat\n",
      "Not setting metadata\n",
      "2 matching events found\n",
      "No baseline correction applied\n",
      "0 projection items activated\n",
      "Getting epochs for filename data/dasps_raw_mat/S12.mat\n",
      "Not setting metadata\n",
      "2 matching events found\n",
      "No baseline correction applied\n",
      "0 projection items activated\n",
      "Getting epochs for filename data/dasps_raw_mat/S12.mat\n",
      "Not setting metadata\n",
      "2 matching events found\n",
      "No baseline correction applied\n",
      "0 projection items activated\n",
      "Getting epochs for filename data/dasps_raw_mat/S12.mat\n",
      "Not setting metadata\n",
      "2 matching events found\n",
      "No baseline correction applied\n",
      "0 projection items activated\n",
      "Getting epochs for filename data/dasps_raw_mat/S13.mat\n",
      "Not setting metadata\n",
      "2 matching events found\n",
      "No baseline correction applied\n",
      "0 projection items activated\n",
      "Getting epochs for filename data/dasps_raw_mat/S13.mat\n",
      "Not setting metadata\n",
      "2 matching events found\n",
      "No baseline correction applied\n",
      "0 projection items activated\n",
      "Getting epochs for filename data/dasps_raw_mat/S13.mat\n",
      "Not setting metadata\n",
      "2 matching events found\n",
      "No baseline correction applied\n",
      "0 projection items activated\n",
      "Getting epochs for filename data/dasps_raw_mat/S13.mat\n",
      "Not setting metadata\n",
      "2 matching events found\n",
      "No baseline correction applied\n",
      "0 projection items activated\n",
      "Getting epochs for filename data/dasps_raw_mat/S14.mat\n",
      "Not setting metadata\n",
      "2 matching events found\n",
      "No baseline correction applied\n",
      "0 projection items activated\n",
      "Getting epochs for filename data/dasps_raw_mat/S14.mat\n",
      "Not setting metadata\n",
      "2 matching events found\n",
      "No baseline correction applied\n",
      "0 projection items activated\n",
      "Getting epochs for filename data/dasps_raw_mat/S14.mat\n",
      "Not setting metadata\n",
      "2 matching events found\n",
      "No baseline correction applied\n",
      "0 projection items activated\n",
      "Getting epochs for filename data/dasps_raw_mat/S14.mat\n",
      "Not setting metadata\n",
      "2 matching events found\n",
      "No baseline correction applied\n",
      "0 projection items activated\n",
      "Getting epochs for filename data/dasps_raw_mat/S15.mat\n",
      "Not setting metadata\n",
      "2 matching events found\n",
      "No baseline correction applied\n",
      "0 projection items activated\n",
      "Getting epochs for filename data/dasps_raw_mat/S15.mat\n",
      "Not setting metadata\n",
      "2 matching events found\n",
      "No baseline correction applied\n",
      "0 projection items activated\n",
      "Getting epochs for filename data/dasps_raw_mat/S15.mat\n",
      "Not setting metadata\n",
      "2 matching events found\n",
      "No baseline correction applied\n",
      "0 projection items activated\n",
      "Getting epochs for filename data/dasps_raw_mat/S16.mat\n",
      "Not setting metadata\n",
      "2 matching events found\n",
      "No baseline correction applied\n",
      "0 projection items activated\n",
      "Getting epochs for filename data/dasps_raw_mat/S16.mat\n",
      "Not setting metadata\n",
      "2 matching events found\n",
      "No baseline correction applied\n",
      "0 projection items activated\n",
      "Getting epochs for filename data/dasps_raw_mat/S16.mat\n",
      "Not setting metadata\n",
      "2 matching events found\n",
      "No baseline correction applied\n",
      "0 projection items activated\n",
      "Getting epochs for filename data/dasps_raw_mat/S16.mat\n",
      "Not setting metadata\n",
      "2 matching events found\n",
      "No baseline correction applied\n",
      "0 projection items activated\n",
      "Getting epochs for filename data/dasps_raw_mat/S17.mat\n",
      "Not setting metadata\n",
      "2 matching events found\n",
      "No baseline correction applied\n",
      "0 projection items activated\n",
      "Getting epochs for filename data/dasps_raw_mat/S18.mat\n",
      "Not setting metadata\n",
      "2 matching events found\n",
      "No baseline correction applied\n",
      "0 projection items activated\n",
      "Getting epochs for filename data/dasps_raw_mat/S18.mat\n",
      "Not setting metadata\n",
      "2 matching events found\n",
      "No baseline correction applied\n",
      "0 projection items activated\n",
      "Getting epochs for filename data/dasps_raw_mat/S18.mat\n",
      "Not setting metadata\n",
      "2 matching events found\n",
      "No baseline correction applied\n",
      "0 projection items activated\n",
      "Getting epochs for filename data/dasps_raw_mat/S18.mat\n",
      "Not setting metadata\n",
      "2 matching events found\n",
      "No baseline correction applied\n",
      "0 projection items activated\n",
      "Getting epochs for filename data/dasps_raw_mat/S19.mat\n",
      "Not setting metadata\n",
      "2 matching events found\n",
      "No baseline correction applied\n",
      "0 projection items activated\n",
      "Getting epochs for filename data/dasps_raw_mat/S19.mat\n",
      "Not setting metadata\n",
      "2 matching events found\n",
      "No baseline correction applied\n",
      "0 projection items activated\n",
      "Getting epochs for filename data/dasps_raw_mat/S20.mat\n",
      "Not setting metadata\n",
      "2 matching events found\n",
      "No baseline correction applied\n",
      "0 projection items activated\n",
      "Getting epochs for filename data/dasps_raw_mat/S20.mat\n",
      "Not setting metadata\n",
      "2 matching events found\n",
      "No baseline correction applied\n",
      "0 projection items activated\n",
      "Getting epochs for filename data/dasps_raw_mat/S20.mat\n",
      "Not setting metadata\n",
      "2 matching events found\n",
      "No baseline correction applied\n",
      "0 projection items activated\n",
      "Getting epochs for filename data/dasps_raw_mat/S21.mat\n",
      "Not setting metadata\n",
      "2 matching events found\n",
      "No baseline correction applied\n",
      "0 projection items activated\n",
      "Getting epochs for filename data/dasps_raw_mat/S21.mat\n",
      "Not setting metadata\n",
      "2 matching events found\n",
      "No baseline correction applied\n",
      "0 projection items activated\n",
      "Getting epochs for filename data/dasps_raw_mat/S21.mat\n",
      "Not setting metadata\n",
      "2 matching events found\n",
      "No baseline correction applied\n",
      "0 projection items activated\n",
      "Getting epochs for filename data/dasps_raw_mat/S22.mat\n",
      "Not setting metadata\n",
      "2 matching events found\n",
      "No baseline correction applied\n",
      "0 projection items activated\n",
      "Getting epochs for filename data/dasps_raw_mat/S22.mat\n",
      "Not setting metadata\n",
      "2 matching events found\n",
      "No baseline correction applied\n",
      "0 projection items activated\n",
      "Getting epochs for filename data/dasps_raw_mat/S22.mat\n",
      "Not setting metadata\n",
      "2 matching events found\n",
      "No baseline correction applied\n",
      "0 projection items activated\n",
      "Getting epochs for filename data/dasps_raw_mat/S22.mat\n",
      "Not setting metadata\n",
      "2 matching events found\n",
      "No baseline correction applied\n",
      "0 projection items activated\n",
      "Getting epochs for filename data/dasps_raw_mat/S23.mat\n",
      "Not setting metadata\n",
      "2 matching events found\n",
      "No baseline correction applied\n",
      "0 projection items activated\n",
      "Getting epochs for filename data/dasps_raw_mat/S23.mat\n",
      "Not setting metadata\n",
      "2 matching events found\n",
      "No baseline correction applied\n",
      "0 projection items activated\n",
      "Getting epochs for filename data/dasps_raw_mat/S23.mat\n",
      "Not setting metadata\n",
      "2 matching events found\n",
      "No baseline correction applied\n",
      "0 projection items activated\n",
      "Getting epochs for filename data/dasps_raw_mat/S23.mat\n",
      "Not setting metadata\n",
      "2 matching events found\n",
      "No baseline correction applied\n",
      "0 projection items activated\n",
      "Not setting metadata\n",
      "156 matching events found\n",
      "No baseline correction applied\n",
      "Getting epochs for filename data/dasps_raw_mat/S01.mat\n",
      "Not setting metadata\n",
      "2 matching events found\n",
      "No baseline correction applied\n",
      "0 projection items activated\n",
      "Getting epochs for filename data/dasps_raw_mat/S01.mat\n",
      "Not setting metadata\n",
      "2 matching events found\n",
      "No baseline correction applied\n",
      "0 projection items activated\n",
      "Getting epochs for filename data/dasps_raw_mat/S01.mat\n",
      "Not setting metadata\n",
      "2 matching events found\n",
      "No baseline correction applied\n",
      "0 projection items activated\n",
      "Getting epochs for filename data/dasps_raw_mat/S01.mat\n",
      "Not setting metadata\n",
      "2 matching events found\n",
      "No baseline correction applied\n",
      "0 projection items activated\n",
      "Getting epochs for filename data/dasps_raw_mat/S02.mat\n",
      "Not setting metadata\n",
      "2 matching events found\n",
      "No baseline correction applied\n",
      "0 projection items activated\n",
      "Getting epochs for filename data/dasps_raw_mat/S04.mat\n",
      "Not setting metadata\n",
      "2 matching events found\n",
      "No baseline correction applied\n",
      "0 projection items activated\n",
      "Getting epochs for filename data/dasps_raw_mat/S04.mat\n",
      "Not setting metadata\n",
      "2 matching events found\n",
      "No baseline correction applied\n",
      "0 projection items activated\n",
      "Getting epochs for filename data/dasps_raw_mat/S04.mat\n",
      "Not setting metadata\n",
      "2 matching events found\n",
      "No baseline correction applied\n",
      "0 projection items activated\n",
      "Getting epochs for filename data/dasps_raw_mat/S05.mat\n",
      "Not setting metadata\n",
      "2 matching events found\n",
      "No baseline correction applied\n",
      "0 projection items activated\n",
      "Getting epochs for filename data/dasps_raw_mat/S05.mat\n",
      "Not setting metadata\n",
      "2 matching events found\n",
      "No baseline correction applied\n",
      "0 projection items activated\n",
      "Getting epochs for filename data/dasps_raw_mat/S05.mat\n",
      "Not setting metadata\n",
      "2 matching events found\n",
      "No baseline correction applied\n",
      "0 projection items activated\n",
      "Getting epochs for filename data/dasps_raw_mat/S05.mat\n",
      "Not setting metadata\n",
      "2 matching events found\n",
      "No baseline correction applied\n",
      "0 projection items activated\n",
      "Getting epochs for filename data/dasps_raw_mat/S05.mat\n",
      "Not setting metadata\n",
      "2 matching events found\n",
      "No baseline correction applied\n",
      "0 projection items activated\n",
      "Getting epochs for filename data/dasps_raw_mat/S06.mat\n",
      "Not setting metadata\n",
      "2 matching events found\n",
      "No baseline correction applied\n",
      "0 projection items activated\n",
      "Getting epochs for filename data/dasps_raw_mat/S06.mat\n",
      "Not setting metadata\n",
      "2 matching events found\n",
      "No baseline correction applied\n",
      "0 projection items activated\n",
      "Getting epochs for filename data/dasps_raw_mat/S06.mat\n",
      "Not setting metadata\n",
      "2 matching events found\n",
      "No baseline correction applied\n",
      "0 projection items activated\n",
      "Getting epochs for filename data/dasps_raw_mat/S07.mat\n",
      "Not setting metadata\n",
      "2 matching events found\n",
      "No baseline correction applied\n",
      "0 projection items activated\n",
      "Getting epochs for filename data/dasps_raw_mat/S07.mat\n",
      "Not setting metadata\n",
      "2 matching events found\n",
      "No baseline correction applied\n",
      "0 projection items activated\n",
      "Getting epochs for filename data/dasps_raw_mat/S07.mat\n",
      "Not setting metadata\n",
      "2 matching events found\n",
      "No baseline correction applied\n",
      "0 projection items activated\n",
      "Getting epochs for filename data/dasps_raw_mat/S08.mat\n",
      "Not setting metadata\n",
      "2 matching events found\n",
      "No baseline correction applied\n",
      "0 projection items activated\n",
      "Getting epochs for filename data/dasps_raw_mat/S09.mat\n",
      "Not setting metadata\n",
      "2 matching events found\n",
      "No baseline correction applied\n",
      "0 projection items activated\n",
      "Getting epochs for filename data/dasps_raw_mat/S09.mat\n",
      "Not setting metadata\n",
      "2 matching events found\n",
      "No baseline correction applied\n",
      "0 projection items activated\n",
      "Getting epochs for filename data/dasps_raw_mat/S09.mat\n",
      "Not setting metadata\n",
      "2 matching events found\n",
      "No baseline correction applied\n",
      "0 projection items activated\n",
      "Getting epochs for filename data/dasps_raw_mat/S11.mat\n",
      "Not setting metadata\n",
      "2 matching events found\n",
      "No baseline correction applied\n",
      "0 projection items activated\n",
      "Getting epochs for filename data/dasps_raw_mat/S12.mat\n",
      "Not setting metadata\n",
      "2 matching events found\n",
      "No baseline correction applied\n",
      "0 projection items activated\n",
      "Getting epochs for filename data/dasps_raw_mat/S13.mat\n",
      "Not setting metadata\n",
      "2 matching events found\n",
      "No baseline correction applied\n",
      "0 projection items activated\n",
      "Getting epochs for filename data/dasps_raw_mat/S14.mat\n",
      "Not setting metadata\n",
      "2 matching events found\n",
      "No baseline correction applied\n",
      "0 projection items activated\n",
      "Getting epochs for filename data/dasps_raw_mat/S15.mat\n",
      "Not setting metadata\n",
      "2 matching events found\n",
      "No baseline correction applied\n",
      "0 projection items activated\n",
      "Getting epochs for filename data/dasps_raw_mat/S16.mat\n",
      "Not setting metadata\n",
      "2 matching events found\n",
      "No baseline correction applied\n",
      "0 projection items activated\n",
      "Getting epochs for filename data/dasps_raw_mat/S16.mat\n",
      "Not setting metadata\n",
      "2 matching events found\n",
      "No baseline correction applied\n",
      "0 projection items activated\n",
      "Getting epochs for filename data/dasps_raw_mat/S17.mat\n",
      "Not setting metadata\n",
      "2 matching events found\n",
      "No baseline correction applied\n",
      "0 projection items activated\n",
      "Getting epochs for filename data/dasps_raw_mat/S17.mat\n",
      "Not setting metadata\n",
      "2 matching events found\n",
      "No baseline correction applied\n",
      "0 projection items activated\n",
      "Getting epochs for filename data/dasps_raw_mat/S17.mat\n",
      "Not setting metadata\n",
      "2 matching events found\n",
      "No baseline correction applied\n",
      "0 projection items activated\n",
      "Getting epochs for filename data/dasps_raw_mat/S17.mat\n",
      "Not setting metadata\n",
      "2 matching events found\n",
      "No baseline correction applied\n",
      "0 projection items activated\n",
      "Getting epochs for filename data/dasps_raw_mat/S18.mat\n",
      "Not setting metadata\n",
      "2 matching events found\n",
      "No baseline correction applied\n",
      "0 projection items activated\n",
      "Getting epochs for filename data/dasps_raw_mat/S18.mat\n",
      "Not setting metadata\n",
      "2 matching events found\n",
      "No baseline correction applied\n",
      "0 projection items activated\n",
      "Getting epochs for filename data/dasps_raw_mat/S19.mat\n",
      "Not setting metadata\n",
      "2 matching events found\n",
      "No baseline correction applied\n",
      "0 projection items activated\n",
      "Getting epochs for filename data/dasps_raw_mat/S19.mat\n",
      "Not setting metadata\n",
      "2 matching events found\n",
      "No baseline correction applied\n",
      "0 projection items activated\n",
      "Getting epochs for filename data/dasps_raw_mat/S19.mat\n",
      "Not setting metadata\n",
      "2 matching events found\n",
      "No baseline correction applied\n",
      "0 projection items activated\n",
      "Getting epochs for filename data/dasps_raw_mat/S19.mat\n",
      "Not setting metadata\n",
      "2 matching events found\n",
      "No baseline correction applied\n",
      "0 projection items activated\n",
      "Getting epochs for filename data/dasps_raw_mat/S20.mat\n",
      "Not setting metadata\n",
      "2 matching events found\n",
      "No baseline correction applied\n",
      "0 projection items activated\n",
      "Getting epochs for filename data/dasps_raw_mat/S20.mat\n",
      "Not setting metadata\n",
      "2 matching events found\n",
      "No baseline correction applied\n",
      "0 projection items activated\n",
      "Getting epochs for filename data/dasps_raw_mat/S20.mat\n",
      "Not setting metadata\n",
      "2 matching events found\n",
      "No baseline correction applied\n",
      "0 projection items activated\n",
      "Getting epochs for filename data/dasps_raw_mat/S21.mat\n",
      "Not setting metadata\n",
      "2 matching events found\n",
      "No baseline correction applied\n",
      "0 projection items activated\n",
      "Getting epochs for filename data/dasps_raw_mat/S21.mat\n",
      "Not setting metadata\n",
      "2 matching events found\n",
      "No baseline correction applied\n",
      "0 projection items activated\n",
      "Getting epochs for filename data/dasps_raw_mat/S21.mat\n",
      "Not setting metadata\n",
      "2 matching events found\n",
      "No baseline correction applied\n",
      "0 projection items activated\n",
      "Getting epochs for filename data/dasps_raw_mat/S22.mat\n",
      "Not setting metadata\n",
      "2 matching events found\n",
      "No baseline correction applied\n",
      "0 projection items activated\n",
      "Getting epochs for filename data/dasps_raw_mat/S22.mat\n",
      "Not setting metadata\n",
      "2 matching events found\n",
      "No baseline correction applied\n",
      "0 projection items activated\n",
      "Getting epochs for filename data/dasps_raw_mat/S23.mat\n",
      "Not setting metadata\n",
      "2 matching events found\n",
      "No baseline correction applied\n",
      "0 projection items activated\n",
      "Getting epochs for filename data/dasps_raw_mat/S23.mat\n",
      "Not setting metadata\n",
      "2 matching events found\n",
      "No baseline correction applied\n",
      "0 projection items activated\n",
      "Not setting metadata\n",
      "100 matching events found\n",
      "No baseline correction applied\n",
      "Normal epochs: 100\n",
      "Anxious epochs: 100\n"
     ]
    }
   ],
   "source": [
    "normal_epochs = DaspsPreprocessor.get_normal_epochs()[:100]\n",
    "n_normal_epochs = normal_epochs.get_data().shape[0]\n",
    "\n",
    "anxious_epochs = DaspsPreprocessor.get_severe_moderate_epochs()[:100]\n",
    "n_anxious_epochs = anxious_epochs.get_data().shape[0]\n",
    "\n",
    "print(f\"Normal epochs: {n_normal_epochs}\")\n",
    "print(f\"Anxious epochs: {n_anxious_epochs}\")"
   ]
  },
  {
   "cell_type": "code",
   "execution_count": 56,
   "id": "58b52a54",
   "metadata": {},
   "outputs": [
    {
     "name": "stdout",
     "output_type": "stream",
     "text": [
      "0\n",
      "[ 4.    4.25  4.5   4.75  5.    5.25  5.5   5.75  6.    6.25  6.5   6.75\n",
      "  7.    7.25  7.5   7.75  8.    8.25  8.5   8.75  9.    9.25  9.5   9.75\n",
      " 10.   10.25 10.5  10.75 11.   11.25 11.5  11.75 12.   12.25 12.5  12.75\n",
      " 13.   13.25 13.5  13.75 14.   14.25 14.5  14.75 15.   15.25 15.5  15.75\n",
      " 16.   16.25 16.5  16.75 17.   17.25 17.5  17.75 18.   18.25 18.5  18.75\n",
      " 19.   19.25 19.5  19.75 20.   20.25 20.5  20.75 21.   21.25 21.5  21.75\n",
      " 22.   22.25 22.5  22.75 23.   23.25 23.5  23.75 24.   24.25 24.5  24.75\n",
      " 25.   25.25 25.5  25.75 26.   26.25 26.5  26.75 27.   27.25 27.5  27.75\n",
      " 28.   28.25 28.5  28.75 29.   29.25 29.5  29.75 30.   30.25 30.5  30.75\n",
      " 31.   31.25 31.5  31.75 32.   32.25 32.5  32.75 33.   33.25 33.5  33.75\n",
      " 34.   34.25 34.5  34.75 35.   35.25 35.5  35.75 36.   36.25 36.5  36.75\n",
      " 37.   37.25 37.5  37.75 38.   38.25 38.5  38.75 39.   39.25 39.5  39.75\n",
      " 40.   40.25 40.5  40.75 41.   41.25 41.5  41.75 42.   42.25 42.5  42.75\n",
      " 43.   43.25 43.5  43.75 44.   44.25 44.5  44.75 45.  ]\n",
      "only using indices for lower-triangular matrix\n",
      "Connectivity computation...\n",
      "   Processing epoch 1 / 1 ...\n"
     ]
    },
    {
     "name": "stderr",
     "output_type": "stream",
     "text": [
      "/Users/jakubblaha/Documents/thesis/thesis-python/main.py:111: RuntimeWarning: There were no Annotations stored in <EpochsArray | 1 events (all good), 0 – 14.992 s (baseline off), ~225 kB, data loaded,\n",
      " '1': 1>, so metadata was not modified.\n",
      "  res = mne_connectivity.spectral_connectivity_time(\n"
     ]
    },
    {
     "name": "stdout",
     "output_type": "stream",
     "text": [
      "[Connectivity computation done]\n",
      "1\n",
      "[ 4.    4.25  4.5   4.75  5.    5.25  5.5   5.75  6.    6.25  6.5   6.75\n",
      "  7.    7.25  7.5   7.75  8.    8.25  8.5   8.75  9.    9.25  9.5   9.75\n",
      " 10.   10.25 10.5  10.75 11.   11.25 11.5  11.75 12.   12.25 12.5  12.75\n",
      " 13.   13.25 13.5  13.75 14.   14.25 14.5  14.75 15.   15.25 15.5  15.75\n",
      " 16.   16.25 16.5  16.75 17.   17.25 17.5  17.75 18.   18.25 18.5  18.75\n",
      " 19.   19.25 19.5  19.75 20.   20.25 20.5  20.75 21.   21.25 21.5  21.75\n",
      " 22.   22.25 22.5  22.75 23.   23.25 23.5  23.75 24.   24.25 24.5  24.75\n",
      " 25.   25.25 25.5  25.75 26.   26.25 26.5  26.75 27.   27.25 27.5  27.75\n",
      " 28.   28.25 28.5  28.75 29.   29.25 29.5  29.75 30.   30.25 30.5  30.75\n",
      " 31.   31.25 31.5  31.75 32.   32.25 32.5  32.75 33.   33.25 33.5  33.75\n",
      " 34.   34.25 34.5  34.75 35.   35.25 35.5  35.75 36.   36.25 36.5  36.75\n",
      " 37.   37.25 37.5  37.75 38.   38.25 38.5  38.75 39.   39.25 39.5  39.75\n",
      " 40.   40.25 40.5  40.75 41.   41.25 41.5  41.75 42.   42.25 42.5  42.75\n",
      " 43.   43.25 43.5  43.75 44.   44.25 44.5  44.75 45.  ]\n",
      "only using indices for lower-triangular matrix\n",
      "Connectivity computation...\n",
      "   Processing epoch 1 / 1 ...\n"
     ]
    },
    {
     "name": "stderr",
     "output_type": "stream",
     "text": [
      "/Users/jakubblaha/Documents/thesis/thesis-python/main.py:111: RuntimeWarning: There were no Annotations stored in <EpochsArray | 1 events (all good), 0 – 14.992 s (baseline off), ~225 kB, data loaded,\n",
      " '1': 1>, so metadata was not modified.\n",
      "  res = mne_connectivity.spectral_connectivity_time(\n"
     ]
    },
    {
     "name": "stdout",
     "output_type": "stream",
     "text": [
      "[Connectivity computation done]\n",
      "2\n",
      "[ 4.    4.25  4.5   4.75  5.    5.25  5.5   5.75  6.    6.25  6.5   6.75\n",
      "  7.    7.25  7.5   7.75  8.    8.25  8.5   8.75  9.    9.25  9.5   9.75\n",
      " 10.   10.25 10.5  10.75 11.   11.25 11.5  11.75 12.   12.25 12.5  12.75\n",
      " 13.   13.25 13.5  13.75 14.   14.25 14.5  14.75 15.   15.25 15.5  15.75\n",
      " 16.   16.25 16.5  16.75 17.   17.25 17.5  17.75 18.   18.25 18.5  18.75\n",
      " 19.   19.25 19.5  19.75 20.   20.25 20.5  20.75 21.   21.25 21.5  21.75\n",
      " 22.   22.25 22.5  22.75 23.   23.25 23.5  23.75 24.   24.25 24.5  24.75\n",
      " 25.   25.25 25.5  25.75 26.   26.25 26.5  26.75 27.   27.25 27.5  27.75\n",
      " 28.   28.25 28.5  28.75 29.   29.25 29.5  29.75 30.   30.25 30.5  30.75\n",
      " 31.   31.25 31.5  31.75 32.   32.25 32.5  32.75 33.   33.25 33.5  33.75\n",
      " 34.   34.25 34.5  34.75 35.   35.25 35.5  35.75 36.   36.25 36.5  36.75\n",
      " 37.   37.25 37.5  37.75 38.   38.25 38.5  38.75 39.   39.25 39.5  39.75\n",
      " 40.   40.25 40.5  40.75 41.   41.25 41.5  41.75 42.   42.25 42.5  42.75\n",
      " 43.   43.25 43.5  43.75 44.   44.25 44.5  44.75 45.  ]\n",
      "only using indices for lower-triangular matrix\n",
      "Connectivity computation...\n",
      "   Processing epoch 1 / 1 ...\n"
     ]
    },
    {
     "name": "stderr",
     "output_type": "stream",
     "text": [
      "/Users/jakubblaha/Documents/thesis/thesis-python/main.py:111: RuntimeWarning: There were no Annotations stored in <EpochsArray | 1 events (all good), 0 – 14.992 s (baseline off), ~225 kB, data loaded,\n",
      " '1': 1>, so metadata was not modified.\n",
      "  res = mne_connectivity.spectral_connectivity_time(\n"
     ]
    },
    {
     "name": "stdout",
     "output_type": "stream",
     "text": [
      "[Connectivity computation done]\n",
      "3\n",
      "[ 4.    4.25  4.5   4.75  5.    5.25  5.5   5.75  6.    6.25  6.5   6.75\n",
      "  7.    7.25  7.5   7.75  8.    8.25  8.5   8.75  9.    9.25  9.5   9.75\n",
      " 10.   10.25 10.5  10.75 11.   11.25 11.5  11.75 12.   12.25 12.5  12.75\n",
      " 13.   13.25 13.5  13.75 14.   14.25 14.5  14.75 15.   15.25 15.5  15.75\n",
      " 16.   16.25 16.5  16.75 17.   17.25 17.5  17.75 18.   18.25 18.5  18.75\n",
      " 19.   19.25 19.5  19.75 20.   20.25 20.5  20.75 21.   21.25 21.5  21.75\n",
      " 22.   22.25 22.5  22.75 23.   23.25 23.5  23.75 24.   24.25 24.5  24.75\n",
      " 25.   25.25 25.5  25.75 26.   26.25 26.5  26.75 27.   27.25 27.5  27.75\n",
      " 28.   28.25 28.5  28.75 29.   29.25 29.5  29.75 30.   30.25 30.5  30.75\n",
      " 31.   31.25 31.5  31.75 32.   32.25 32.5  32.75 33.   33.25 33.5  33.75\n",
      " 34.   34.25 34.5  34.75 35.   35.25 35.5  35.75 36.   36.25 36.5  36.75\n",
      " 37.   37.25 37.5  37.75 38.   38.25 38.5  38.75 39.   39.25 39.5  39.75\n",
      " 40.   40.25 40.5  40.75 41.   41.25 41.5  41.75 42.   42.25 42.5  42.75\n",
      " 43.   43.25 43.5  43.75 44.   44.25 44.5  44.75 45.  ]\n",
      "only using indices for lower-triangular matrix\n",
      "Connectivity computation...\n",
      "   Processing epoch 1 / 1 ...\n"
     ]
    },
    {
     "name": "stderr",
     "output_type": "stream",
     "text": [
      "/Users/jakubblaha/Documents/thesis/thesis-python/main.py:111: RuntimeWarning: There were no Annotations stored in <EpochsArray | 1 events (all good), 0 – 14.992 s (baseline off), ~225 kB, data loaded,\n",
      " '1': 1>, so metadata was not modified.\n",
      "  res = mne_connectivity.spectral_connectivity_time(\n"
     ]
    },
    {
     "name": "stdout",
     "output_type": "stream",
     "text": [
      "[Connectivity computation done]\n",
      "4\n",
      "[ 4.    4.25  4.5   4.75  5.    5.25  5.5   5.75  6.    6.25  6.5   6.75\n",
      "  7.    7.25  7.5   7.75  8.    8.25  8.5   8.75  9.    9.25  9.5   9.75\n",
      " 10.   10.25 10.5  10.75 11.   11.25 11.5  11.75 12.   12.25 12.5  12.75\n",
      " 13.   13.25 13.5  13.75 14.   14.25 14.5  14.75 15.   15.25 15.5  15.75\n",
      " 16.   16.25 16.5  16.75 17.   17.25 17.5  17.75 18.   18.25 18.5  18.75\n",
      " 19.   19.25 19.5  19.75 20.   20.25 20.5  20.75 21.   21.25 21.5  21.75\n",
      " 22.   22.25 22.5  22.75 23.   23.25 23.5  23.75 24.   24.25 24.5  24.75\n",
      " 25.   25.25 25.5  25.75 26.   26.25 26.5  26.75 27.   27.25 27.5  27.75\n",
      " 28.   28.25 28.5  28.75 29.   29.25 29.5  29.75 30.   30.25 30.5  30.75\n",
      " 31.   31.25 31.5  31.75 32.   32.25 32.5  32.75 33.   33.25 33.5  33.75\n",
      " 34.   34.25 34.5  34.75 35.   35.25 35.5  35.75 36.   36.25 36.5  36.75\n",
      " 37.   37.25 37.5  37.75 38.   38.25 38.5  38.75 39.   39.25 39.5  39.75\n",
      " 40.   40.25 40.5  40.75 41.   41.25 41.5  41.75 42.   42.25 42.5  42.75\n",
      " 43.   43.25 43.5  43.75 44.   44.25 44.5  44.75 45.  ]\n",
      "only using indices for lower-triangular matrix\n",
      "Connectivity computation...\n",
      "   Processing epoch 1 / 1 ...\n"
     ]
    },
    {
     "name": "stderr",
     "output_type": "stream",
     "text": [
      "/Users/jakubblaha/Documents/thesis/thesis-python/main.py:111: RuntimeWarning: There were no Annotations stored in <EpochsArray | 1 events (all good), 0 – 14.992 s (baseline off), ~225 kB, data loaded,\n",
      " '1': 1>, so metadata was not modified.\n",
      "  res = mne_connectivity.spectral_connectivity_time(\n"
     ]
    },
    {
     "name": "stdout",
     "output_type": "stream",
     "text": [
      "[Connectivity computation done]\n",
      "5\n",
      "[ 4.    4.25  4.5   4.75  5.    5.25  5.5   5.75  6.    6.25  6.5   6.75\n",
      "  7.    7.25  7.5   7.75  8.    8.25  8.5   8.75  9.    9.25  9.5   9.75\n",
      " 10.   10.25 10.5  10.75 11.   11.25 11.5  11.75 12.   12.25 12.5  12.75\n",
      " 13.   13.25 13.5  13.75 14.   14.25 14.5  14.75 15.   15.25 15.5  15.75\n",
      " 16.   16.25 16.5  16.75 17.   17.25 17.5  17.75 18.   18.25 18.5  18.75\n",
      " 19.   19.25 19.5  19.75 20.   20.25 20.5  20.75 21.   21.25 21.5  21.75\n",
      " 22.   22.25 22.5  22.75 23.   23.25 23.5  23.75 24.   24.25 24.5  24.75\n",
      " 25.   25.25 25.5  25.75 26.   26.25 26.5  26.75 27.   27.25 27.5  27.75\n",
      " 28.   28.25 28.5  28.75 29.   29.25 29.5  29.75 30.   30.25 30.5  30.75\n",
      " 31.   31.25 31.5  31.75 32.   32.25 32.5  32.75 33.   33.25 33.5  33.75\n",
      " 34.   34.25 34.5  34.75 35.   35.25 35.5  35.75 36.   36.25 36.5  36.75\n",
      " 37.   37.25 37.5  37.75 38.   38.25 38.5  38.75 39.   39.25 39.5  39.75\n",
      " 40.   40.25 40.5  40.75 41.   41.25 41.5  41.75 42.   42.25 42.5  42.75\n",
      " 43.   43.25 43.5  43.75 44.   44.25 44.5  44.75 45.  ]\n",
      "only using indices for lower-triangular matrix\n",
      "Connectivity computation...\n",
      "   Processing epoch 1 / 1 ...\n"
     ]
    },
    {
     "name": "stderr",
     "output_type": "stream",
     "text": [
      "/Users/jakubblaha/Documents/thesis/thesis-python/main.py:111: RuntimeWarning: There were no Annotations stored in <EpochsArray | 1 events (all good), 0 – 14.992 s (baseline off), ~225 kB, data loaded,\n",
      " '1': 1>, so metadata was not modified.\n",
      "  res = mne_connectivity.spectral_connectivity_time(\n"
     ]
    },
    {
     "name": "stdout",
     "output_type": "stream",
     "text": [
      "[Connectivity computation done]\n",
      "6\n",
      "[ 4.    4.25  4.5   4.75  5.    5.25  5.5   5.75  6.    6.25  6.5   6.75\n",
      "  7.    7.25  7.5   7.75  8.    8.25  8.5   8.75  9.    9.25  9.5   9.75\n",
      " 10.   10.25 10.5  10.75 11.   11.25 11.5  11.75 12.   12.25 12.5  12.75\n",
      " 13.   13.25 13.5  13.75 14.   14.25 14.5  14.75 15.   15.25 15.5  15.75\n",
      " 16.   16.25 16.5  16.75 17.   17.25 17.5  17.75 18.   18.25 18.5  18.75\n",
      " 19.   19.25 19.5  19.75 20.   20.25 20.5  20.75 21.   21.25 21.5  21.75\n",
      " 22.   22.25 22.5  22.75 23.   23.25 23.5  23.75 24.   24.25 24.5  24.75\n",
      " 25.   25.25 25.5  25.75 26.   26.25 26.5  26.75 27.   27.25 27.5  27.75\n",
      " 28.   28.25 28.5  28.75 29.   29.25 29.5  29.75 30.   30.25 30.5  30.75\n",
      " 31.   31.25 31.5  31.75 32.   32.25 32.5  32.75 33.   33.25 33.5  33.75\n",
      " 34.   34.25 34.5  34.75 35.   35.25 35.5  35.75 36.   36.25 36.5  36.75\n",
      " 37.   37.25 37.5  37.75 38.   38.25 38.5  38.75 39.   39.25 39.5  39.75\n",
      " 40.   40.25 40.5  40.75 41.   41.25 41.5  41.75 42.   42.25 42.5  42.75\n",
      " 43.   43.25 43.5  43.75 44.   44.25 44.5  44.75 45.  ]\n",
      "only using indices for lower-triangular matrix\n",
      "Connectivity computation...\n",
      "   Processing epoch 1 / 1 ...\n"
     ]
    },
    {
     "name": "stderr",
     "output_type": "stream",
     "text": [
      "/Users/jakubblaha/Documents/thesis/thesis-python/main.py:111: RuntimeWarning: There were no Annotations stored in <EpochsArray | 1 events (all good), 0 – 14.992 s (baseline off), ~225 kB, data loaded,\n",
      " '1': 1>, so metadata was not modified.\n",
      "  res = mne_connectivity.spectral_connectivity_time(\n"
     ]
    },
    {
     "name": "stdout",
     "output_type": "stream",
     "text": [
      "[Connectivity computation done]\n",
      "7\n",
      "[ 4.    4.25  4.5   4.75  5.    5.25  5.5   5.75  6.    6.25  6.5   6.75\n",
      "  7.    7.25  7.5   7.75  8.    8.25  8.5   8.75  9.    9.25  9.5   9.75\n",
      " 10.   10.25 10.5  10.75 11.   11.25 11.5  11.75 12.   12.25 12.5  12.75\n",
      " 13.   13.25 13.5  13.75 14.   14.25 14.5  14.75 15.   15.25 15.5  15.75\n",
      " 16.   16.25 16.5  16.75 17.   17.25 17.5  17.75 18.   18.25 18.5  18.75\n",
      " 19.   19.25 19.5  19.75 20.   20.25 20.5  20.75 21.   21.25 21.5  21.75\n",
      " 22.   22.25 22.5  22.75 23.   23.25 23.5  23.75 24.   24.25 24.5  24.75\n",
      " 25.   25.25 25.5  25.75 26.   26.25 26.5  26.75 27.   27.25 27.5  27.75\n",
      " 28.   28.25 28.5  28.75 29.   29.25 29.5  29.75 30.   30.25 30.5  30.75\n",
      " 31.   31.25 31.5  31.75 32.   32.25 32.5  32.75 33.   33.25 33.5  33.75\n",
      " 34.   34.25 34.5  34.75 35.   35.25 35.5  35.75 36.   36.25 36.5  36.75\n",
      " 37.   37.25 37.5  37.75 38.   38.25 38.5  38.75 39.   39.25 39.5  39.75\n",
      " 40.   40.25 40.5  40.75 41.   41.25 41.5  41.75 42.   42.25 42.5  42.75\n",
      " 43.   43.25 43.5  43.75 44.   44.25 44.5  44.75 45.  ]\n",
      "only using indices for lower-triangular matrix\n",
      "Connectivity computation...\n",
      "   Processing epoch 1 / 1 ...\n"
     ]
    },
    {
     "name": "stderr",
     "output_type": "stream",
     "text": [
      "/Users/jakubblaha/Documents/thesis/thesis-python/main.py:111: RuntimeWarning: There were no Annotations stored in <EpochsArray | 1 events (all good), 0 – 14.992 s (baseline off), ~225 kB, data loaded,\n",
      " '1': 1>, so metadata was not modified.\n",
      "  res = mne_connectivity.spectral_connectivity_time(\n"
     ]
    },
    {
     "name": "stdout",
     "output_type": "stream",
     "text": [
      "[Connectivity computation done]\n",
      "8\n",
      "[ 4.    4.25  4.5   4.75  5.    5.25  5.5   5.75  6.    6.25  6.5   6.75\n",
      "  7.    7.25  7.5   7.75  8.    8.25  8.5   8.75  9.    9.25  9.5   9.75\n",
      " 10.   10.25 10.5  10.75 11.   11.25 11.5  11.75 12.   12.25 12.5  12.75\n",
      " 13.   13.25 13.5  13.75 14.   14.25 14.5  14.75 15.   15.25 15.5  15.75\n",
      " 16.   16.25 16.5  16.75 17.   17.25 17.5  17.75 18.   18.25 18.5  18.75\n",
      " 19.   19.25 19.5  19.75 20.   20.25 20.5  20.75 21.   21.25 21.5  21.75\n",
      " 22.   22.25 22.5  22.75 23.   23.25 23.5  23.75 24.   24.25 24.5  24.75\n",
      " 25.   25.25 25.5  25.75 26.   26.25 26.5  26.75 27.   27.25 27.5  27.75\n",
      " 28.   28.25 28.5  28.75 29.   29.25 29.5  29.75 30.   30.25 30.5  30.75\n",
      " 31.   31.25 31.5  31.75 32.   32.25 32.5  32.75 33.   33.25 33.5  33.75\n",
      " 34.   34.25 34.5  34.75 35.   35.25 35.5  35.75 36.   36.25 36.5  36.75\n",
      " 37.   37.25 37.5  37.75 38.   38.25 38.5  38.75 39.   39.25 39.5  39.75\n",
      " 40.   40.25 40.5  40.75 41.   41.25 41.5  41.75 42.   42.25 42.5  42.75\n",
      " 43.   43.25 43.5  43.75 44.   44.25 44.5  44.75 45.  ]\n",
      "only using indices for lower-triangular matrix\n",
      "Connectivity computation...\n",
      "   Processing epoch 1 / 1 ...\n"
     ]
    },
    {
     "name": "stderr",
     "output_type": "stream",
     "text": [
      "/Users/jakubblaha/Documents/thesis/thesis-python/main.py:111: RuntimeWarning: There were no Annotations stored in <EpochsArray | 1 events (all good), 0 – 14.992 s (baseline off), ~225 kB, data loaded,\n",
      " '1': 1>, so metadata was not modified.\n",
      "  res = mne_connectivity.spectral_connectivity_time(\n"
     ]
    },
    {
     "name": "stdout",
     "output_type": "stream",
     "text": [
      "[Connectivity computation done]\n",
      "9\n",
      "[ 4.    4.25  4.5   4.75  5.    5.25  5.5   5.75  6.    6.25  6.5   6.75\n",
      "  7.    7.25  7.5   7.75  8.    8.25  8.5   8.75  9.    9.25  9.5   9.75\n",
      " 10.   10.25 10.5  10.75 11.   11.25 11.5  11.75 12.   12.25 12.5  12.75\n",
      " 13.   13.25 13.5  13.75 14.   14.25 14.5  14.75 15.   15.25 15.5  15.75\n",
      " 16.   16.25 16.5  16.75 17.   17.25 17.5  17.75 18.   18.25 18.5  18.75\n",
      " 19.   19.25 19.5  19.75 20.   20.25 20.5  20.75 21.   21.25 21.5  21.75\n",
      " 22.   22.25 22.5  22.75 23.   23.25 23.5  23.75 24.   24.25 24.5  24.75\n",
      " 25.   25.25 25.5  25.75 26.   26.25 26.5  26.75 27.   27.25 27.5  27.75\n",
      " 28.   28.25 28.5  28.75 29.   29.25 29.5  29.75 30.   30.25 30.5  30.75\n",
      " 31.   31.25 31.5  31.75 32.   32.25 32.5  32.75 33.   33.25 33.5  33.75\n",
      " 34.   34.25 34.5  34.75 35.   35.25 35.5  35.75 36.   36.25 36.5  36.75\n",
      " 37.   37.25 37.5  37.75 38.   38.25 38.5  38.75 39.   39.25 39.5  39.75\n",
      " 40.   40.25 40.5  40.75 41.   41.25 41.5  41.75 42.   42.25 42.5  42.75\n",
      " 43.   43.25 43.5  43.75 44.   44.25 44.5  44.75 45.  ]\n",
      "only using indices for lower-triangular matrix\n",
      "Connectivity computation...\n",
      "   Processing epoch 1 / 1 ...\n"
     ]
    },
    {
     "name": "stderr",
     "output_type": "stream",
     "text": [
      "/Users/jakubblaha/Documents/thesis/thesis-python/main.py:111: RuntimeWarning: There were no Annotations stored in <EpochsArray | 1 events (all good), 0 – 14.992 s (baseline off), ~225 kB, data loaded,\n",
      " '1': 1>, so metadata was not modified.\n",
      "  res = mne_connectivity.spectral_connectivity_time(\n"
     ]
    },
    {
     "name": "stdout",
     "output_type": "stream",
     "text": [
      "[Connectivity computation done]\n",
      "10\n",
      "[ 4.    4.25  4.5   4.75  5.    5.25  5.5   5.75  6.    6.25  6.5   6.75\n",
      "  7.    7.25  7.5   7.75  8.    8.25  8.5   8.75  9.    9.25  9.5   9.75\n",
      " 10.   10.25 10.5  10.75 11.   11.25 11.5  11.75 12.   12.25 12.5  12.75\n",
      " 13.   13.25 13.5  13.75 14.   14.25 14.5  14.75 15.   15.25 15.5  15.75\n",
      " 16.   16.25 16.5  16.75 17.   17.25 17.5  17.75 18.   18.25 18.5  18.75\n",
      " 19.   19.25 19.5  19.75 20.   20.25 20.5  20.75 21.   21.25 21.5  21.75\n",
      " 22.   22.25 22.5  22.75 23.   23.25 23.5  23.75 24.   24.25 24.5  24.75\n",
      " 25.   25.25 25.5  25.75 26.   26.25 26.5  26.75 27.   27.25 27.5  27.75\n",
      " 28.   28.25 28.5  28.75 29.   29.25 29.5  29.75 30.   30.25 30.5  30.75\n",
      " 31.   31.25 31.5  31.75 32.   32.25 32.5  32.75 33.   33.25 33.5  33.75\n",
      " 34.   34.25 34.5  34.75 35.   35.25 35.5  35.75 36.   36.25 36.5  36.75\n",
      " 37.   37.25 37.5  37.75 38.   38.25 38.5  38.75 39.   39.25 39.5  39.75\n",
      " 40.   40.25 40.5  40.75 41.   41.25 41.5  41.75 42.   42.25 42.5  42.75\n",
      " 43.   43.25 43.5  43.75 44.   44.25 44.5  44.75 45.  ]\n",
      "only using indices for lower-triangular matrix\n",
      "Connectivity computation...\n",
      "   Processing epoch 1 / 1 ...\n"
     ]
    },
    {
     "name": "stderr",
     "output_type": "stream",
     "text": [
      "/Users/jakubblaha/Documents/thesis/thesis-python/main.py:111: RuntimeWarning: There were no Annotations stored in <EpochsArray | 1 events (all good), 0 – 14.992 s (baseline off), ~225 kB, data loaded,\n",
      " '1': 1>, so metadata was not modified.\n",
      "  res = mne_connectivity.spectral_connectivity_time(\n"
     ]
    },
    {
     "name": "stdout",
     "output_type": "stream",
     "text": [
      "[Connectivity computation done]\n",
      "11\n",
      "[ 4.    4.25  4.5   4.75  5.    5.25  5.5   5.75  6.    6.25  6.5   6.75\n",
      "  7.    7.25  7.5   7.75  8.    8.25  8.5   8.75  9.    9.25  9.5   9.75\n",
      " 10.   10.25 10.5  10.75 11.   11.25 11.5  11.75 12.   12.25 12.5  12.75\n",
      " 13.   13.25 13.5  13.75 14.   14.25 14.5  14.75 15.   15.25 15.5  15.75\n",
      " 16.   16.25 16.5  16.75 17.   17.25 17.5  17.75 18.   18.25 18.5  18.75\n",
      " 19.   19.25 19.5  19.75 20.   20.25 20.5  20.75 21.   21.25 21.5  21.75\n",
      " 22.   22.25 22.5  22.75 23.   23.25 23.5  23.75 24.   24.25 24.5  24.75\n",
      " 25.   25.25 25.5  25.75 26.   26.25 26.5  26.75 27.   27.25 27.5  27.75\n",
      " 28.   28.25 28.5  28.75 29.   29.25 29.5  29.75 30.   30.25 30.5  30.75\n",
      " 31.   31.25 31.5  31.75 32.   32.25 32.5  32.75 33.   33.25 33.5  33.75\n",
      " 34.   34.25 34.5  34.75 35.   35.25 35.5  35.75 36.   36.25 36.5  36.75\n",
      " 37.   37.25 37.5  37.75 38.   38.25 38.5  38.75 39.   39.25 39.5  39.75\n",
      " 40.   40.25 40.5  40.75 41.   41.25 41.5  41.75 42.   42.25 42.5  42.75\n",
      " 43.   43.25 43.5  43.75 44.   44.25 44.5  44.75 45.  ]\n",
      "only using indices for lower-triangular matrix\n",
      "Connectivity computation...\n",
      "   Processing epoch 1 / 1 ...\n"
     ]
    },
    {
     "name": "stderr",
     "output_type": "stream",
     "text": [
      "/Users/jakubblaha/Documents/thesis/thesis-python/main.py:111: RuntimeWarning: There were no Annotations stored in <EpochsArray | 1 events (all good), 0 – 14.992 s (baseline off), ~225 kB, data loaded,\n",
      " '1': 1>, so metadata was not modified.\n",
      "  res = mne_connectivity.spectral_connectivity_time(\n"
     ]
    },
    {
     "name": "stdout",
     "output_type": "stream",
     "text": [
      "[Connectivity computation done]\n",
      "12\n",
      "[ 4.    4.25  4.5   4.75  5.    5.25  5.5   5.75  6.    6.25  6.5   6.75\n",
      "  7.    7.25  7.5   7.75  8.    8.25  8.5   8.75  9.    9.25  9.5   9.75\n",
      " 10.   10.25 10.5  10.75 11.   11.25 11.5  11.75 12.   12.25 12.5  12.75\n",
      " 13.   13.25 13.5  13.75 14.   14.25 14.5  14.75 15.   15.25 15.5  15.75\n",
      " 16.   16.25 16.5  16.75 17.   17.25 17.5  17.75 18.   18.25 18.5  18.75\n",
      " 19.   19.25 19.5  19.75 20.   20.25 20.5  20.75 21.   21.25 21.5  21.75\n",
      " 22.   22.25 22.5  22.75 23.   23.25 23.5  23.75 24.   24.25 24.5  24.75\n",
      " 25.   25.25 25.5  25.75 26.   26.25 26.5  26.75 27.   27.25 27.5  27.75\n",
      " 28.   28.25 28.5  28.75 29.   29.25 29.5  29.75 30.   30.25 30.5  30.75\n",
      " 31.   31.25 31.5  31.75 32.   32.25 32.5  32.75 33.   33.25 33.5  33.75\n",
      " 34.   34.25 34.5  34.75 35.   35.25 35.5  35.75 36.   36.25 36.5  36.75\n",
      " 37.   37.25 37.5  37.75 38.   38.25 38.5  38.75 39.   39.25 39.5  39.75\n",
      " 40.   40.25 40.5  40.75 41.   41.25 41.5  41.75 42.   42.25 42.5  42.75\n",
      " 43.   43.25 43.5  43.75 44.   44.25 44.5  44.75 45.  ]\n",
      "only using indices for lower-triangular matrix\n",
      "Connectivity computation...\n",
      "   Processing epoch 1 / 1 ...\n"
     ]
    },
    {
     "name": "stderr",
     "output_type": "stream",
     "text": [
      "/Users/jakubblaha/Documents/thesis/thesis-python/main.py:111: RuntimeWarning: There were no Annotations stored in <EpochsArray | 1 events (all good), 0 – 14.992 s (baseline off), ~225 kB, data loaded,\n",
      " '1': 1>, so metadata was not modified.\n",
      "  res = mne_connectivity.spectral_connectivity_time(\n"
     ]
    },
    {
     "name": "stdout",
     "output_type": "stream",
     "text": [
      "[Connectivity computation done]\n",
      "13\n",
      "[ 4.    4.25  4.5   4.75  5.    5.25  5.5   5.75  6.    6.25  6.5   6.75\n",
      "  7.    7.25  7.5   7.75  8.    8.25  8.5   8.75  9.    9.25  9.5   9.75\n",
      " 10.   10.25 10.5  10.75 11.   11.25 11.5  11.75 12.   12.25 12.5  12.75\n",
      " 13.   13.25 13.5  13.75 14.   14.25 14.5  14.75 15.   15.25 15.5  15.75\n",
      " 16.   16.25 16.5  16.75 17.   17.25 17.5  17.75 18.   18.25 18.5  18.75\n",
      " 19.   19.25 19.5  19.75 20.   20.25 20.5  20.75 21.   21.25 21.5  21.75\n",
      " 22.   22.25 22.5  22.75 23.   23.25 23.5  23.75 24.   24.25 24.5  24.75\n",
      " 25.   25.25 25.5  25.75 26.   26.25 26.5  26.75 27.   27.25 27.5  27.75\n",
      " 28.   28.25 28.5  28.75 29.   29.25 29.5  29.75 30.   30.25 30.5  30.75\n",
      " 31.   31.25 31.5  31.75 32.   32.25 32.5  32.75 33.   33.25 33.5  33.75\n",
      " 34.   34.25 34.5  34.75 35.   35.25 35.5  35.75 36.   36.25 36.5  36.75\n",
      " 37.   37.25 37.5  37.75 38.   38.25 38.5  38.75 39.   39.25 39.5  39.75\n",
      " 40.   40.25 40.5  40.75 41.   41.25 41.5  41.75 42.   42.25 42.5  42.75\n",
      " 43.   43.25 43.5  43.75 44.   44.25 44.5  44.75 45.  ]\n",
      "only using indices for lower-triangular matrix\n",
      "Connectivity computation...\n",
      "   Processing epoch 1 / 1 ...\n"
     ]
    },
    {
     "name": "stderr",
     "output_type": "stream",
     "text": [
      "/Users/jakubblaha/Documents/thesis/thesis-python/main.py:111: RuntimeWarning: There were no Annotations stored in <EpochsArray | 1 events (all good), 0 – 14.992 s (baseline off), ~225 kB, data loaded,\n",
      " '1': 1>, so metadata was not modified.\n",
      "  res = mne_connectivity.spectral_connectivity_time(\n"
     ]
    },
    {
     "name": "stdout",
     "output_type": "stream",
     "text": [
      "[Connectivity computation done]\n",
      "14\n",
      "[ 4.    4.25  4.5   4.75  5.    5.25  5.5   5.75  6.    6.25  6.5   6.75\n",
      "  7.    7.25  7.5   7.75  8.    8.25  8.5   8.75  9.    9.25  9.5   9.75\n",
      " 10.   10.25 10.5  10.75 11.   11.25 11.5  11.75 12.   12.25 12.5  12.75\n",
      " 13.   13.25 13.5  13.75 14.   14.25 14.5  14.75 15.   15.25 15.5  15.75\n",
      " 16.   16.25 16.5  16.75 17.   17.25 17.5  17.75 18.   18.25 18.5  18.75\n",
      " 19.   19.25 19.5  19.75 20.   20.25 20.5  20.75 21.   21.25 21.5  21.75\n",
      " 22.   22.25 22.5  22.75 23.   23.25 23.5  23.75 24.   24.25 24.5  24.75\n",
      " 25.   25.25 25.5  25.75 26.   26.25 26.5  26.75 27.   27.25 27.5  27.75\n",
      " 28.   28.25 28.5  28.75 29.   29.25 29.5  29.75 30.   30.25 30.5  30.75\n",
      " 31.   31.25 31.5  31.75 32.   32.25 32.5  32.75 33.   33.25 33.5  33.75\n",
      " 34.   34.25 34.5  34.75 35.   35.25 35.5  35.75 36.   36.25 36.5  36.75\n",
      " 37.   37.25 37.5  37.75 38.   38.25 38.5  38.75 39.   39.25 39.5  39.75\n",
      " 40.   40.25 40.5  40.75 41.   41.25 41.5  41.75 42.   42.25 42.5  42.75\n",
      " 43.   43.25 43.5  43.75 44.   44.25 44.5  44.75 45.  ]\n",
      "only using indices for lower-triangular matrix\n",
      "Connectivity computation...\n",
      "   Processing epoch 1 / 1 ...\n"
     ]
    },
    {
     "name": "stderr",
     "output_type": "stream",
     "text": [
      "/Users/jakubblaha/Documents/thesis/thesis-python/main.py:111: RuntimeWarning: There were no Annotations stored in <EpochsArray | 1 events (all good), 0 – 14.992 s (baseline off), ~225 kB, data loaded,\n",
      " '1': 1>, so metadata was not modified.\n",
      "  res = mne_connectivity.spectral_connectivity_time(\n"
     ]
    },
    {
     "name": "stdout",
     "output_type": "stream",
     "text": [
      "[Connectivity computation done]\n",
      "15\n",
      "[ 4.    4.25  4.5   4.75  5.    5.25  5.5   5.75  6.    6.25  6.5   6.75\n",
      "  7.    7.25  7.5   7.75  8.    8.25  8.5   8.75  9.    9.25  9.5   9.75\n",
      " 10.   10.25 10.5  10.75 11.   11.25 11.5  11.75 12.   12.25 12.5  12.75\n",
      " 13.   13.25 13.5  13.75 14.   14.25 14.5  14.75 15.   15.25 15.5  15.75\n",
      " 16.   16.25 16.5  16.75 17.   17.25 17.5  17.75 18.   18.25 18.5  18.75\n",
      " 19.   19.25 19.5  19.75 20.   20.25 20.5  20.75 21.   21.25 21.5  21.75\n",
      " 22.   22.25 22.5  22.75 23.   23.25 23.5  23.75 24.   24.25 24.5  24.75\n",
      " 25.   25.25 25.5  25.75 26.   26.25 26.5  26.75 27.   27.25 27.5  27.75\n",
      " 28.   28.25 28.5  28.75 29.   29.25 29.5  29.75 30.   30.25 30.5  30.75\n",
      " 31.   31.25 31.5  31.75 32.   32.25 32.5  32.75 33.   33.25 33.5  33.75\n",
      " 34.   34.25 34.5  34.75 35.   35.25 35.5  35.75 36.   36.25 36.5  36.75\n",
      " 37.   37.25 37.5  37.75 38.   38.25 38.5  38.75 39.   39.25 39.5  39.75\n",
      " 40.   40.25 40.5  40.75 41.   41.25 41.5  41.75 42.   42.25 42.5  42.75\n",
      " 43.   43.25 43.5  43.75 44.   44.25 44.5  44.75 45.  ]\n",
      "only using indices for lower-triangular matrix\n",
      "Connectivity computation...\n",
      "   Processing epoch 1 / 1 ...\n"
     ]
    },
    {
     "name": "stderr",
     "output_type": "stream",
     "text": [
      "/Users/jakubblaha/Documents/thesis/thesis-python/main.py:111: RuntimeWarning: There were no Annotations stored in <EpochsArray | 1 events (all good), 0 – 14.992 s (baseline off), ~225 kB, data loaded,\n",
      " '1': 1>, so metadata was not modified.\n",
      "  res = mne_connectivity.spectral_connectivity_time(\n"
     ]
    },
    {
     "name": "stdout",
     "output_type": "stream",
     "text": [
      "[Connectivity computation done]\n",
      "16\n",
      "[ 4.    4.25  4.5   4.75  5.    5.25  5.5   5.75  6.    6.25  6.5   6.75\n",
      "  7.    7.25  7.5   7.75  8.    8.25  8.5   8.75  9.    9.25  9.5   9.75\n",
      " 10.   10.25 10.5  10.75 11.   11.25 11.5  11.75 12.   12.25 12.5  12.75\n",
      " 13.   13.25 13.5  13.75 14.   14.25 14.5  14.75 15.   15.25 15.5  15.75\n",
      " 16.   16.25 16.5  16.75 17.   17.25 17.5  17.75 18.   18.25 18.5  18.75\n",
      " 19.   19.25 19.5  19.75 20.   20.25 20.5  20.75 21.   21.25 21.5  21.75\n",
      " 22.   22.25 22.5  22.75 23.   23.25 23.5  23.75 24.   24.25 24.5  24.75\n",
      " 25.   25.25 25.5  25.75 26.   26.25 26.5  26.75 27.   27.25 27.5  27.75\n",
      " 28.   28.25 28.5  28.75 29.   29.25 29.5  29.75 30.   30.25 30.5  30.75\n",
      " 31.   31.25 31.5  31.75 32.   32.25 32.5  32.75 33.   33.25 33.5  33.75\n",
      " 34.   34.25 34.5  34.75 35.   35.25 35.5  35.75 36.   36.25 36.5  36.75\n",
      " 37.   37.25 37.5  37.75 38.   38.25 38.5  38.75 39.   39.25 39.5  39.75\n",
      " 40.   40.25 40.5  40.75 41.   41.25 41.5  41.75 42.   42.25 42.5  42.75\n",
      " 43.   43.25 43.5  43.75 44.   44.25 44.5  44.75 45.  ]\n",
      "only using indices for lower-triangular matrix\n",
      "Connectivity computation...\n",
      "   Processing epoch 1 / 1 ...\n"
     ]
    },
    {
     "name": "stderr",
     "output_type": "stream",
     "text": [
      "/Users/jakubblaha/Documents/thesis/thesis-python/main.py:111: RuntimeWarning: There were no Annotations stored in <EpochsArray | 1 events (all good), 0 – 14.992 s (baseline off), ~225 kB, data loaded,\n",
      " '1': 1>, so metadata was not modified.\n",
      "  res = mne_connectivity.spectral_connectivity_time(\n"
     ]
    },
    {
     "name": "stdout",
     "output_type": "stream",
     "text": [
      "[Connectivity computation done]\n",
      "17\n",
      "[ 4.    4.25  4.5   4.75  5.    5.25  5.5   5.75  6.    6.25  6.5   6.75\n",
      "  7.    7.25  7.5   7.75  8.    8.25  8.5   8.75  9.    9.25  9.5   9.75\n",
      " 10.   10.25 10.5  10.75 11.   11.25 11.5  11.75 12.   12.25 12.5  12.75\n",
      " 13.   13.25 13.5  13.75 14.   14.25 14.5  14.75 15.   15.25 15.5  15.75\n",
      " 16.   16.25 16.5  16.75 17.   17.25 17.5  17.75 18.   18.25 18.5  18.75\n",
      " 19.   19.25 19.5  19.75 20.   20.25 20.5  20.75 21.   21.25 21.5  21.75\n",
      " 22.   22.25 22.5  22.75 23.   23.25 23.5  23.75 24.   24.25 24.5  24.75\n",
      " 25.   25.25 25.5  25.75 26.   26.25 26.5  26.75 27.   27.25 27.5  27.75\n",
      " 28.   28.25 28.5  28.75 29.   29.25 29.5  29.75 30.   30.25 30.5  30.75\n",
      " 31.   31.25 31.5  31.75 32.   32.25 32.5  32.75 33.   33.25 33.5  33.75\n",
      " 34.   34.25 34.5  34.75 35.   35.25 35.5  35.75 36.   36.25 36.5  36.75\n",
      " 37.   37.25 37.5  37.75 38.   38.25 38.5  38.75 39.   39.25 39.5  39.75\n",
      " 40.   40.25 40.5  40.75 41.   41.25 41.5  41.75 42.   42.25 42.5  42.75\n",
      " 43.   43.25 43.5  43.75 44.   44.25 44.5  44.75 45.  ]\n",
      "only using indices for lower-triangular matrix\n",
      "Connectivity computation...\n",
      "   Processing epoch 1 / 1 ...\n"
     ]
    },
    {
     "name": "stderr",
     "output_type": "stream",
     "text": [
      "/Users/jakubblaha/Documents/thesis/thesis-python/main.py:111: RuntimeWarning: There were no Annotations stored in <EpochsArray | 1 events (all good), 0 – 14.992 s (baseline off), ~225 kB, data loaded,\n",
      " '1': 1>, so metadata was not modified.\n",
      "  res = mne_connectivity.spectral_connectivity_time(\n"
     ]
    },
    {
     "name": "stdout",
     "output_type": "stream",
     "text": [
      "[Connectivity computation done]\n",
      "18\n",
      "[ 4.    4.25  4.5   4.75  5.    5.25  5.5   5.75  6.    6.25  6.5   6.75\n",
      "  7.    7.25  7.5   7.75  8.    8.25  8.5   8.75  9.    9.25  9.5   9.75\n",
      " 10.   10.25 10.5  10.75 11.   11.25 11.5  11.75 12.   12.25 12.5  12.75\n",
      " 13.   13.25 13.5  13.75 14.   14.25 14.5  14.75 15.   15.25 15.5  15.75\n",
      " 16.   16.25 16.5  16.75 17.   17.25 17.5  17.75 18.   18.25 18.5  18.75\n",
      " 19.   19.25 19.5  19.75 20.   20.25 20.5  20.75 21.   21.25 21.5  21.75\n",
      " 22.   22.25 22.5  22.75 23.   23.25 23.5  23.75 24.   24.25 24.5  24.75\n",
      " 25.   25.25 25.5  25.75 26.   26.25 26.5  26.75 27.   27.25 27.5  27.75\n",
      " 28.   28.25 28.5  28.75 29.   29.25 29.5  29.75 30.   30.25 30.5  30.75\n",
      " 31.   31.25 31.5  31.75 32.   32.25 32.5  32.75 33.   33.25 33.5  33.75\n",
      " 34.   34.25 34.5  34.75 35.   35.25 35.5  35.75 36.   36.25 36.5  36.75\n",
      " 37.   37.25 37.5  37.75 38.   38.25 38.5  38.75 39.   39.25 39.5  39.75\n",
      " 40.   40.25 40.5  40.75 41.   41.25 41.5  41.75 42.   42.25 42.5  42.75\n",
      " 43.   43.25 43.5  43.75 44.   44.25 44.5  44.75 45.  ]\n",
      "only using indices for lower-triangular matrix\n",
      "Connectivity computation...\n",
      "   Processing epoch 1 / 1 ...\n"
     ]
    },
    {
     "name": "stderr",
     "output_type": "stream",
     "text": [
      "/Users/jakubblaha/Documents/thesis/thesis-python/main.py:111: RuntimeWarning: There were no Annotations stored in <EpochsArray | 1 events (all good), 0 – 14.992 s (baseline off), ~225 kB, data loaded,\n",
      " '1': 1>, so metadata was not modified.\n",
      "  res = mne_connectivity.spectral_connectivity_time(\n"
     ]
    },
    {
     "name": "stdout",
     "output_type": "stream",
     "text": [
      "[Connectivity computation done]\n",
      "19\n",
      "[ 4.    4.25  4.5   4.75  5.    5.25  5.5   5.75  6.    6.25  6.5   6.75\n",
      "  7.    7.25  7.5   7.75  8.    8.25  8.5   8.75  9.    9.25  9.5   9.75\n",
      " 10.   10.25 10.5  10.75 11.   11.25 11.5  11.75 12.   12.25 12.5  12.75\n",
      " 13.   13.25 13.5  13.75 14.   14.25 14.5  14.75 15.   15.25 15.5  15.75\n",
      " 16.   16.25 16.5  16.75 17.   17.25 17.5  17.75 18.   18.25 18.5  18.75\n",
      " 19.   19.25 19.5  19.75 20.   20.25 20.5  20.75 21.   21.25 21.5  21.75\n",
      " 22.   22.25 22.5  22.75 23.   23.25 23.5  23.75 24.   24.25 24.5  24.75\n",
      " 25.   25.25 25.5  25.75 26.   26.25 26.5  26.75 27.   27.25 27.5  27.75\n",
      " 28.   28.25 28.5  28.75 29.   29.25 29.5  29.75 30.   30.25 30.5  30.75\n",
      " 31.   31.25 31.5  31.75 32.   32.25 32.5  32.75 33.   33.25 33.5  33.75\n",
      " 34.   34.25 34.5  34.75 35.   35.25 35.5  35.75 36.   36.25 36.5  36.75\n",
      " 37.   37.25 37.5  37.75 38.   38.25 38.5  38.75 39.   39.25 39.5  39.75\n",
      " 40.   40.25 40.5  40.75 41.   41.25 41.5  41.75 42.   42.25 42.5  42.75\n",
      " 43.   43.25 43.5  43.75 44.   44.25 44.5  44.75 45.  ]\n",
      "only using indices for lower-triangular matrix\n",
      "Connectivity computation...\n",
      "   Processing epoch 1 / 1 ...\n"
     ]
    },
    {
     "name": "stderr",
     "output_type": "stream",
     "text": [
      "/Users/jakubblaha/Documents/thesis/thesis-python/main.py:111: RuntimeWarning: There were no Annotations stored in <EpochsArray | 1 events (all good), 0 – 14.992 s (baseline off), ~225 kB, data loaded,\n",
      " '1': 1>, so metadata was not modified.\n",
      "  res = mne_connectivity.spectral_connectivity_time(\n"
     ]
    },
    {
     "name": "stdout",
     "output_type": "stream",
     "text": [
      "[Connectivity computation done]\n",
      "20\n",
      "[ 4.    4.25  4.5   4.75  5.    5.25  5.5   5.75  6.    6.25  6.5   6.75\n",
      "  7.    7.25  7.5   7.75  8.    8.25  8.5   8.75  9.    9.25  9.5   9.75\n",
      " 10.   10.25 10.5  10.75 11.   11.25 11.5  11.75 12.   12.25 12.5  12.75\n",
      " 13.   13.25 13.5  13.75 14.   14.25 14.5  14.75 15.   15.25 15.5  15.75\n",
      " 16.   16.25 16.5  16.75 17.   17.25 17.5  17.75 18.   18.25 18.5  18.75\n",
      " 19.   19.25 19.5  19.75 20.   20.25 20.5  20.75 21.   21.25 21.5  21.75\n",
      " 22.   22.25 22.5  22.75 23.   23.25 23.5  23.75 24.   24.25 24.5  24.75\n",
      " 25.   25.25 25.5  25.75 26.   26.25 26.5  26.75 27.   27.25 27.5  27.75\n",
      " 28.   28.25 28.5  28.75 29.   29.25 29.5  29.75 30.   30.25 30.5  30.75\n",
      " 31.   31.25 31.5  31.75 32.   32.25 32.5  32.75 33.   33.25 33.5  33.75\n",
      " 34.   34.25 34.5  34.75 35.   35.25 35.5  35.75 36.   36.25 36.5  36.75\n",
      " 37.   37.25 37.5  37.75 38.   38.25 38.5  38.75 39.   39.25 39.5  39.75\n",
      " 40.   40.25 40.5  40.75 41.   41.25 41.5  41.75 42.   42.25 42.5  42.75\n",
      " 43.   43.25 43.5  43.75 44.   44.25 44.5  44.75 45.  ]\n",
      "only using indices for lower-triangular matrix\n",
      "Connectivity computation...\n",
      "   Processing epoch 1 / 1 ...\n"
     ]
    },
    {
     "name": "stderr",
     "output_type": "stream",
     "text": [
      "/Users/jakubblaha/Documents/thesis/thesis-python/main.py:111: RuntimeWarning: There were no Annotations stored in <EpochsArray | 1 events (all good), 0 – 14.992 s (baseline off), ~225 kB, data loaded,\n",
      " '1': 1>, so metadata was not modified.\n",
      "  res = mne_connectivity.spectral_connectivity_time(\n"
     ]
    },
    {
     "name": "stdout",
     "output_type": "stream",
     "text": [
      "[Connectivity computation done]\n",
      "21\n",
      "[ 4.    4.25  4.5   4.75  5.    5.25  5.5   5.75  6.    6.25  6.5   6.75\n",
      "  7.    7.25  7.5   7.75  8.    8.25  8.5   8.75  9.    9.25  9.5   9.75\n",
      " 10.   10.25 10.5  10.75 11.   11.25 11.5  11.75 12.   12.25 12.5  12.75\n",
      " 13.   13.25 13.5  13.75 14.   14.25 14.5  14.75 15.   15.25 15.5  15.75\n",
      " 16.   16.25 16.5  16.75 17.   17.25 17.5  17.75 18.   18.25 18.5  18.75\n",
      " 19.   19.25 19.5  19.75 20.   20.25 20.5  20.75 21.   21.25 21.5  21.75\n",
      " 22.   22.25 22.5  22.75 23.   23.25 23.5  23.75 24.   24.25 24.5  24.75\n",
      " 25.   25.25 25.5  25.75 26.   26.25 26.5  26.75 27.   27.25 27.5  27.75\n",
      " 28.   28.25 28.5  28.75 29.   29.25 29.5  29.75 30.   30.25 30.5  30.75\n",
      " 31.   31.25 31.5  31.75 32.   32.25 32.5  32.75 33.   33.25 33.5  33.75\n",
      " 34.   34.25 34.5  34.75 35.   35.25 35.5  35.75 36.   36.25 36.5  36.75\n",
      " 37.   37.25 37.5  37.75 38.   38.25 38.5  38.75 39.   39.25 39.5  39.75\n",
      " 40.   40.25 40.5  40.75 41.   41.25 41.5  41.75 42.   42.25 42.5  42.75\n",
      " 43.   43.25 43.5  43.75 44.   44.25 44.5  44.75 45.  ]\n",
      "only using indices for lower-triangular matrix\n",
      "Connectivity computation...\n",
      "   Processing epoch 1 / 1 ...\n"
     ]
    },
    {
     "name": "stderr",
     "output_type": "stream",
     "text": [
      "/Users/jakubblaha/Documents/thesis/thesis-python/main.py:111: RuntimeWarning: There were no Annotations stored in <EpochsArray | 1 events (all good), 0 – 14.992 s (baseline off), ~225 kB, data loaded,\n",
      " '1': 1>, so metadata was not modified.\n",
      "  res = mne_connectivity.spectral_connectivity_time(\n"
     ]
    },
    {
     "name": "stdout",
     "output_type": "stream",
     "text": [
      "[Connectivity computation done]\n",
      "22\n",
      "[ 4.    4.25  4.5   4.75  5.    5.25  5.5   5.75  6.    6.25  6.5   6.75\n",
      "  7.    7.25  7.5   7.75  8.    8.25  8.5   8.75  9.    9.25  9.5   9.75\n",
      " 10.   10.25 10.5  10.75 11.   11.25 11.5  11.75 12.   12.25 12.5  12.75\n",
      " 13.   13.25 13.5  13.75 14.   14.25 14.5  14.75 15.   15.25 15.5  15.75\n",
      " 16.   16.25 16.5  16.75 17.   17.25 17.5  17.75 18.   18.25 18.5  18.75\n",
      " 19.   19.25 19.5  19.75 20.   20.25 20.5  20.75 21.   21.25 21.5  21.75\n",
      " 22.   22.25 22.5  22.75 23.   23.25 23.5  23.75 24.   24.25 24.5  24.75\n",
      " 25.   25.25 25.5  25.75 26.   26.25 26.5  26.75 27.   27.25 27.5  27.75\n",
      " 28.   28.25 28.5  28.75 29.   29.25 29.5  29.75 30.   30.25 30.5  30.75\n",
      " 31.   31.25 31.5  31.75 32.   32.25 32.5  32.75 33.   33.25 33.5  33.75\n",
      " 34.   34.25 34.5  34.75 35.   35.25 35.5  35.75 36.   36.25 36.5  36.75\n",
      " 37.   37.25 37.5  37.75 38.   38.25 38.5  38.75 39.   39.25 39.5  39.75\n",
      " 40.   40.25 40.5  40.75 41.   41.25 41.5  41.75 42.   42.25 42.5  42.75\n",
      " 43.   43.25 43.5  43.75 44.   44.25 44.5  44.75 45.  ]\n",
      "only using indices for lower-triangular matrix\n",
      "Connectivity computation...\n",
      "   Processing epoch 1 / 1 ...\n"
     ]
    },
    {
     "name": "stderr",
     "output_type": "stream",
     "text": [
      "/Users/jakubblaha/Documents/thesis/thesis-python/main.py:111: RuntimeWarning: There were no Annotations stored in <EpochsArray | 1 events (all good), 0 – 14.992 s (baseline off), ~225 kB, data loaded,\n",
      " '1': 1>, so metadata was not modified.\n",
      "  res = mne_connectivity.spectral_connectivity_time(\n"
     ]
    },
    {
     "name": "stdout",
     "output_type": "stream",
     "text": [
      "[Connectivity computation done]\n",
      "23\n",
      "[ 4.    4.25  4.5   4.75  5.    5.25  5.5   5.75  6.    6.25  6.5   6.75\n",
      "  7.    7.25  7.5   7.75  8.    8.25  8.5   8.75  9.    9.25  9.5   9.75\n",
      " 10.   10.25 10.5  10.75 11.   11.25 11.5  11.75 12.   12.25 12.5  12.75\n",
      " 13.   13.25 13.5  13.75 14.   14.25 14.5  14.75 15.   15.25 15.5  15.75\n",
      " 16.   16.25 16.5  16.75 17.   17.25 17.5  17.75 18.   18.25 18.5  18.75\n",
      " 19.   19.25 19.5  19.75 20.   20.25 20.5  20.75 21.   21.25 21.5  21.75\n",
      " 22.   22.25 22.5  22.75 23.   23.25 23.5  23.75 24.   24.25 24.5  24.75\n",
      " 25.   25.25 25.5  25.75 26.   26.25 26.5  26.75 27.   27.25 27.5  27.75\n",
      " 28.   28.25 28.5  28.75 29.   29.25 29.5  29.75 30.   30.25 30.5  30.75\n",
      " 31.   31.25 31.5  31.75 32.   32.25 32.5  32.75 33.   33.25 33.5  33.75\n",
      " 34.   34.25 34.5  34.75 35.   35.25 35.5  35.75 36.   36.25 36.5  36.75\n",
      " 37.   37.25 37.5  37.75 38.   38.25 38.5  38.75 39.   39.25 39.5  39.75\n",
      " 40.   40.25 40.5  40.75 41.   41.25 41.5  41.75 42.   42.25 42.5  42.75\n",
      " 43.   43.25 43.5  43.75 44.   44.25 44.5  44.75 45.  ]\n",
      "only using indices for lower-triangular matrix\n",
      "Connectivity computation...\n",
      "   Processing epoch 1 / 1 ...\n"
     ]
    },
    {
     "name": "stderr",
     "output_type": "stream",
     "text": [
      "/Users/jakubblaha/Documents/thesis/thesis-python/main.py:111: RuntimeWarning: There were no Annotations stored in <EpochsArray | 1 events (all good), 0 – 14.992 s (baseline off), ~225 kB, data loaded,\n",
      " '1': 1>, so metadata was not modified.\n",
      "  res = mne_connectivity.spectral_connectivity_time(\n"
     ]
    },
    {
     "name": "stdout",
     "output_type": "stream",
     "text": [
      "[Connectivity computation done]\n",
      "24\n",
      "[ 4.    4.25  4.5   4.75  5.    5.25  5.5   5.75  6.    6.25  6.5   6.75\n",
      "  7.    7.25  7.5   7.75  8.    8.25  8.5   8.75  9.    9.25  9.5   9.75\n",
      " 10.   10.25 10.5  10.75 11.   11.25 11.5  11.75 12.   12.25 12.5  12.75\n",
      " 13.   13.25 13.5  13.75 14.   14.25 14.5  14.75 15.   15.25 15.5  15.75\n",
      " 16.   16.25 16.5  16.75 17.   17.25 17.5  17.75 18.   18.25 18.5  18.75\n",
      " 19.   19.25 19.5  19.75 20.   20.25 20.5  20.75 21.   21.25 21.5  21.75\n",
      " 22.   22.25 22.5  22.75 23.   23.25 23.5  23.75 24.   24.25 24.5  24.75\n",
      " 25.   25.25 25.5  25.75 26.   26.25 26.5  26.75 27.   27.25 27.5  27.75\n",
      " 28.   28.25 28.5  28.75 29.   29.25 29.5  29.75 30.   30.25 30.5  30.75\n",
      " 31.   31.25 31.5  31.75 32.   32.25 32.5  32.75 33.   33.25 33.5  33.75\n",
      " 34.   34.25 34.5  34.75 35.   35.25 35.5  35.75 36.   36.25 36.5  36.75\n",
      " 37.   37.25 37.5  37.75 38.   38.25 38.5  38.75 39.   39.25 39.5  39.75\n",
      " 40.   40.25 40.5  40.75 41.   41.25 41.5  41.75 42.   42.25 42.5  42.75\n",
      " 43.   43.25 43.5  43.75 44.   44.25 44.5  44.75 45.  ]\n",
      "only using indices for lower-triangular matrix\n",
      "Connectivity computation...\n",
      "   Processing epoch 1 / 1 ...\n"
     ]
    },
    {
     "name": "stderr",
     "output_type": "stream",
     "text": [
      "/Users/jakubblaha/Documents/thesis/thesis-python/main.py:111: RuntimeWarning: There were no Annotations stored in <EpochsArray | 1 events (all good), 0 – 14.992 s (baseline off), ~225 kB, data loaded,\n",
      " '1': 1>, so metadata was not modified.\n",
      "  res = mne_connectivity.spectral_connectivity_time(\n"
     ]
    },
    {
     "name": "stdout",
     "output_type": "stream",
     "text": [
      "[Connectivity computation done]\n",
      "25\n",
      "[ 4.    4.25  4.5   4.75  5.    5.25  5.5   5.75  6.    6.25  6.5   6.75\n",
      "  7.    7.25  7.5   7.75  8.    8.25  8.5   8.75  9.    9.25  9.5   9.75\n",
      " 10.   10.25 10.5  10.75 11.   11.25 11.5  11.75 12.   12.25 12.5  12.75\n",
      " 13.   13.25 13.5  13.75 14.   14.25 14.5  14.75 15.   15.25 15.5  15.75\n",
      " 16.   16.25 16.5  16.75 17.   17.25 17.5  17.75 18.   18.25 18.5  18.75\n",
      " 19.   19.25 19.5  19.75 20.   20.25 20.5  20.75 21.   21.25 21.5  21.75\n",
      " 22.   22.25 22.5  22.75 23.   23.25 23.5  23.75 24.   24.25 24.5  24.75\n",
      " 25.   25.25 25.5  25.75 26.   26.25 26.5  26.75 27.   27.25 27.5  27.75\n",
      " 28.   28.25 28.5  28.75 29.   29.25 29.5  29.75 30.   30.25 30.5  30.75\n",
      " 31.   31.25 31.5  31.75 32.   32.25 32.5  32.75 33.   33.25 33.5  33.75\n",
      " 34.   34.25 34.5  34.75 35.   35.25 35.5  35.75 36.   36.25 36.5  36.75\n",
      " 37.   37.25 37.5  37.75 38.   38.25 38.5  38.75 39.   39.25 39.5  39.75\n",
      " 40.   40.25 40.5  40.75 41.   41.25 41.5  41.75 42.   42.25 42.5  42.75\n",
      " 43.   43.25 43.5  43.75 44.   44.25 44.5  44.75 45.  ]\n",
      "only using indices for lower-triangular matrix\n",
      "Connectivity computation...\n",
      "   Processing epoch 1 / 1 ...\n"
     ]
    },
    {
     "name": "stderr",
     "output_type": "stream",
     "text": [
      "/Users/jakubblaha/Documents/thesis/thesis-python/main.py:111: RuntimeWarning: There were no Annotations stored in <EpochsArray | 1 events (all good), 0 – 14.992 s (baseline off), ~225 kB, data loaded,\n",
      " '1': 1>, so metadata was not modified.\n",
      "  res = mne_connectivity.spectral_connectivity_time(\n"
     ]
    },
    {
     "name": "stdout",
     "output_type": "stream",
     "text": [
      "[Connectivity computation done]\n",
      "26\n",
      "[ 4.    4.25  4.5   4.75  5.    5.25  5.5   5.75  6.    6.25  6.5   6.75\n",
      "  7.    7.25  7.5   7.75  8.    8.25  8.5   8.75  9.    9.25  9.5   9.75\n",
      " 10.   10.25 10.5  10.75 11.   11.25 11.5  11.75 12.   12.25 12.5  12.75\n",
      " 13.   13.25 13.5  13.75 14.   14.25 14.5  14.75 15.   15.25 15.5  15.75\n",
      " 16.   16.25 16.5  16.75 17.   17.25 17.5  17.75 18.   18.25 18.5  18.75\n",
      " 19.   19.25 19.5  19.75 20.   20.25 20.5  20.75 21.   21.25 21.5  21.75\n",
      " 22.   22.25 22.5  22.75 23.   23.25 23.5  23.75 24.   24.25 24.5  24.75\n",
      " 25.   25.25 25.5  25.75 26.   26.25 26.5  26.75 27.   27.25 27.5  27.75\n",
      " 28.   28.25 28.5  28.75 29.   29.25 29.5  29.75 30.   30.25 30.5  30.75\n",
      " 31.   31.25 31.5  31.75 32.   32.25 32.5  32.75 33.   33.25 33.5  33.75\n",
      " 34.   34.25 34.5  34.75 35.   35.25 35.5  35.75 36.   36.25 36.5  36.75\n",
      " 37.   37.25 37.5  37.75 38.   38.25 38.5  38.75 39.   39.25 39.5  39.75\n",
      " 40.   40.25 40.5  40.75 41.   41.25 41.5  41.75 42.   42.25 42.5  42.75\n",
      " 43.   43.25 43.5  43.75 44.   44.25 44.5  44.75 45.  ]\n",
      "only using indices for lower-triangular matrix\n",
      "Connectivity computation...\n",
      "   Processing epoch 1 / 1 ...\n"
     ]
    },
    {
     "name": "stderr",
     "output_type": "stream",
     "text": [
      "/Users/jakubblaha/Documents/thesis/thesis-python/main.py:111: RuntimeWarning: There were no Annotations stored in <EpochsArray | 1 events (all good), 0 – 14.992 s (baseline off), ~225 kB, data loaded,\n",
      " '1': 1>, so metadata was not modified.\n",
      "  res = mne_connectivity.spectral_connectivity_time(\n"
     ]
    },
    {
     "name": "stdout",
     "output_type": "stream",
     "text": [
      "[Connectivity computation done]\n",
      "27\n",
      "[ 4.    4.25  4.5   4.75  5.    5.25  5.5   5.75  6.    6.25  6.5   6.75\n",
      "  7.    7.25  7.5   7.75  8.    8.25  8.5   8.75  9.    9.25  9.5   9.75\n",
      " 10.   10.25 10.5  10.75 11.   11.25 11.5  11.75 12.   12.25 12.5  12.75\n",
      " 13.   13.25 13.5  13.75 14.   14.25 14.5  14.75 15.   15.25 15.5  15.75\n",
      " 16.   16.25 16.5  16.75 17.   17.25 17.5  17.75 18.   18.25 18.5  18.75\n",
      " 19.   19.25 19.5  19.75 20.   20.25 20.5  20.75 21.   21.25 21.5  21.75\n",
      " 22.   22.25 22.5  22.75 23.   23.25 23.5  23.75 24.   24.25 24.5  24.75\n",
      " 25.   25.25 25.5  25.75 26.   26.25 26.5  26.75 27.   27.25 27.5  27.75\n",
      " 28.   28.25 28.5  28.75 29.   29.25 29.5  29.75 30.   30.25 30.5  30.75\n",
      " 31.   31.25 31.5  31.75 32.   32.25 32.5  32.75 33.   33.25 33.5  33.75\n",
      " 34.   34.25 34.5  34.75 35.   35.25 35.5  35.75 36.   36.25 36.5  36.75\n",
      " 37.   37.25 37.5  37.75 38.   38.25 38.5  38.75 39.   39.25 39.5  39.75\n",
      " 40.   40.25 40.5  40.75 41.   41.25 41.5  41.75 42.   42.25 42.5  42.75\n",
      " 43.   43.25 43.5  43.75 44.   44.25 44.5  44.75 45.  ]\n",
      "only using indices for lower-triangular matrix\n",
      "Connectivity computation...\n",
      "   Processing epoch 1 / 1 ...\n"
     ]
    },
    {
     "name": "stderr",
     "output_type": "stream",
     "text": [
      "/Users/jakubblaha/Documents/thesis/thesis-python/main.py:111: RuntimeWarning: There were no Annotations stored in <EpochsArray | 1 events (all good), 0 – 14.992 s (baseline off), ~225 kB, data loaded,\n",
      " '1': 1>, so metadata was not modified.\n",
      "  res = mne_connectivity.spectral_connectivity_time(\n"
     ]
    },
    {
     "name": "stdout",
     "output_type": "stream",
     "text": [
      "[Connectivity computation done]\n",
      "28\n",
      "[ 4.    4.25  4.5   4.75  5.    5.25  5.5   5.75  6.    6.25  6.5   6.75\n",
      "  7.    7.25  7.5   7.75  8.    8.25  8.5   8.75  9.    9.25  9.5   9.75\n",
      " 10.   10.25 10.5  10.75 11.   11.25 11.5  11.75 12.   12.25 12.5  12.75\n",
      " 13.   13.25 13.5  13.75 14.   14.25 14.5  14.75 15.   15.25 15.5  15.75\n",
      " 16.   16.25 16.5  16.75 17.   17.25 17.5  17.75 18.   18.25 18.5  18.75\n",
      " 19.   19.25 19.5  19.75 20.   20.25 20.5  20.75 21.   21.25 21.5  21.75\n",
      " 22.   22.25 22.5  22.75 23.   23.25 23.5  23.75 24.   24.25 24.5  24.75\n",
      " 25.   25.25 25.5  25.75 26.   26.25 26.5  26.75 27.   27.25 27.5  27.75\n",
      " 28.   28.25 28.5  28.75 29.   29.25 29.5  29.75 30.   30.25 30.5  30.75\n",
      " 31.   31.25 31.5  31.75 32.   32.25 32.5  32.75 33.   33.25 33.5  33.75\n",
      " 34.   34.25 34.5  34.75 35.   35.25 35.5  35.75 36.   36.25 36.5  36.75\n",
      " 37.   37.25 37.5  37.75 38.   38.25 38.5  38.75 39.   39.25 39.5  39.75\n",
      " 40.   40.25 40.5  40.75 41.   41.25 41.5  41.75 42.   42.25 42.5  42.75\n",
      " 43.   43.25 43.5  43.75 44.   44.25 44.5  44.75 45.  ]\n",
      "only using indices for lower-triangular matrix\n",
      "Connectivity computation...\n",
      "   Processing epoch 1 / 1 ...\n"
     ]
    },
    {
     "name": "stderr",
     "output_type": "stream",
     "text": [
      "/Users/jakubblaha/Documents/thesis/thesis-python/main.py:111: RuntimeWarning: There were no Annotations stored in <EpochsArray | 1 events (all good), 0 – 14.992 s (baseline off), ~225 kB, data loaded,\n",
      " '1': 1>, so metadata was not modified.\n",
      "  res = mne_connectivity.spectral_connectivity_time(\n"
     ]
    },
    {
     "name": "stdout",
     "output_type": "stream",
     "text": [
      "[Connectivity computation done]\n",
      "29\n",
      "[ 4.    4.25  4.5   4.75  5.    5.25  5.5   5.75  6.    6.25  6.5   6.75\n",
      "  7.    7.25  7.5   7.75  8.    8.25  8.5   8.75  9.    9.25  9.5   9.75\n",
      " 10.   10.25 10.5  10.75 11.   11.25 11.5  11.75 12.   12.25 12.5  12.75\n",
      " 13.   13.25 13.5  13.75 14.   14.25 14.5  14.75 15.   15.25 15.5  15.75\n",
      " 16.   16.25 16.5  16.75 17.   17.25 17.5  17.75 18.   18.25 18.5  18.75\n",
      " 19.   19.25 19.5  19.75 20.   20.25 20.5  20.75 21.   21.25 21.5  21.75\n",
      " 22.   22.25 22.5  22.75 23.   23.25 23.5  23.75 24.   24.25 24.5  24.75\n",
      " 25.   25.25 25.5  25.75 26.   26.25 26.5  26.75 27.   27.25 27.5  27.75\n",
      " 28.   28.25 28.5  28.75 29.   29.25 29.5  29.75 30.   30.25 30.5  30.75\n",
      " 31.   31.25 31.5  31.75 32.   32.25 32.5  32.75 33.   33.25 33.5  33.75\n",
      " 34.   34.25 34.5  34.75 35.   35.25 35.5  35.75 36.   36.25 36.5  36.75\n",
      " 37.   37.25 37.5  37.75 38.   38.25 38.5  38.75 39.   39.25 39.5  39.75\n",
      " 40.   40.25 40.5  40.75 41.   41.25 41.5  41.75 42.   42.25 42.5  42.75\n",
      " 43.   43.25 43.5  43.75 44.   44.25 44.5  44.75 45.  ]\n",
      "only using indices for lower-triangular matrix\n",
      "Connectivity computation...\n",
      "   Processing epoch 1 / 1 ...\n"
     ]
    },
    {
     "name": "stderr",
     "output_type": "stream",
     "text": [
      "/Users/jakubblaha/Documents/thesis/thesis-python/main.py:111: RuntimeWarning: There were no Annotations stored in <EpochsArray | 1 events (all good), 0 – 14.992 s (baseline off), ~225 kB, data loaded,\n",
      " '1': 1>, so metadata was not modified.\n",
      "  res = mne_connectivity.spectral_connectivity_time(\n"
     ]
    },
    {
     "name": "stdout",
     "output_type": "stream",
     "text": [
      "[Connectivity computation done]\n",
      "30\n",
      "[ 4.    4.25  4.5   4.75  5.    5.25  5.5   5.75  6.    6.25  6.5   6.75\n",
      "  7.    7.25  7.5   7.75  8.    8.25  8.5   8.75  9.    9.25  9.5   9.75\n",
      " 10.   10.25 10.5  10.75 11.   11.25 11.5  11.75 12.   12.25 12.5  12.75\n",
      " 13.   13.25 13.5  13.75 14.   14.25 14.5  14.75 15.   15.25 15.5  15.75\n",
      " 16.   16.25 16.5  16.75 17.   17.25 17.5  17.75 18.   18.25 18.5  18.75\n",
      " 19.   19.25 19.5  19.75 20.   20.25 20.5  20.75 21.   21.25 21.5  21.75\n",
      " 22.   22.25 22.5  22.75 23.   23.25 23.5  23.75 24.   24.25 24.5  24.75\n",
      " 25.   25.25 25.5  25.75 26.   26.25 26.5  26.75 27.   27.25 27.5  27.75\n",
      " 28.   28.25 28.5  28.75 29.   29.25 29.5  29.75 30.   30.25 30.5  30.75\n",
      " 31.   31.25 31.5  31.75 32.   32.25 32.5  32.75 33.   33.25 33.5  33.75\n",
      " 34.   34.25 34.5  34.75 35.   35.25 35.5  35.75 36.   36.25 36.5  36.75\n",
      " 37.   37.25 37.5  37.75 38.   38.25 38.5  38.75 39.   39.25 39.5  39.75\n",
      " 40.   40.25 40.5  40.75 41.   41.25 41.5  41.75 42.   42.25 42.5  42.75\n",
      " 43.   43.25 43.5  43.75 44.   44.25 44.5  44.75 45.  ]\n",
      "only using indices for lower-triangular matrix\n",
      "Connectivity computation...\n",
      "   Processing epoch 1 / 1 ...\n"
     ]
    },
    {
     "name": "stderr",
     "output_type": "stream",
     "text": [
      "/Users/jakubblaha/Documents/thesis/thesis-python/main.py:111: RuntimeWarning: There were no Annotations stored in <EpochsArray | 1 events (all good), 0 – 14.992 s (baseline off), ~225 kB, data loaded,\n",
      " '1': 1>, so metadata was not modified.\n",
      "  res = mne_connectivity.spectral_connectivity_time(\n"
     ]
    },
    {
     "name": "stdout",
     "output_type": "stream",
     "text": [
      "[Connectivity computation done]\n",
      "31\n",
      "[ 4.    4.25  4.5   4.75  5.    5.25  5.5   5.75  6.    6.25  6.5   6.75\n",
      "  7.    7.25  7.5   7.75  8.    8.25  8.5   8.75  9.    9.25  9.5   9.75\n",
      " 10.   10.25 10.5  10.75 11.   11.25 11.5  11.75 12.   12.25 12.5  12.75\n",
      " 13.   13.25 13.5  13.75 14.   14.25 14.5  14.75 15.   15.25 15.5  15.75\n",
      " 16.   16.25 16.5  16.75 17.   17.25 17.5  17.75 18.   18.25 18.5  18.75\n",
      " 19.   19.25 19.5  19.75 20.   20.25 20.5  20.75 21.   21.25 21.5  21.75\n",
      " 22.   22.25 22.5  22.75 23.   23.25 23.5  23.75 24.   24.25 24.5  24.75\n",
      " 25.   25.25 25.5  25.75 26.   26.25 26.5  26.75 27.   27.25 27.5  27.75\n",
      " 28.   28.25 28.5  28.75 29.   29.25 29.5  29.75 30.   30.25 30.5  30.75\n",
      " 31.   31.25 31.5  31.75 32.   32.25 32.5  32.75 33.   33.25 33.5  33.75\n",
      " 34.   34.25 34.5  34.75 35.   35.25 35.5  35.75 36.   36.25 36.5  36.75\n",
      " 37.   37.25 37.5  37.75 38.   38.25 38.5  38.75 39.   39.25 39.5  39.75\n",
      " 40.   40.25 40.5  40.75 41.   41.25 41.5  41.75 42.   42.25 42.5  42.75\n",
      " 43.   43.25 43.5  43.75 44.   44.25 44.5  44.75 45.  ]\n",
      "only using indices for lower-triangular matrix\n",
      "Connectivity computation...\n",
      "   Processing epoch 1 / 1 ...\n"
     ]
    },
    {
     "name": "stderr",
     "output_type": "stream",
     "text": [
      "/Users/jakubblaha/Documents/thesis/thesis-python/main.py:111: RuntimeWarning: There were no Annotations stored in <EpochsArray | 1 events (all good), 0 – 14.992 s (baseline off), ~225 kB, data loaded,\n",
      " '1': 1>, so metadata was not modified.\n",
      "  res = mne_connectivity.spectral_connectivity_time(\n"
     ]
    },
    {
     "name": "stdout",
     "output_type": "stream",
     "text": [
      "[Connectivity computation done]\n",
      "32\n",
      "[ 4.    4.25  4.5   4.75  5.    5.25  5.5   5.75  6.    6.25  6.5   6.75\n",
      "  7.    7.25  7.5   7.75  8.    8.25  8.5   8.75  9.    9.25  9.5   9.75\n",
      " 10.   10.25 10.5  10.75 11.   11.25 11.5  11.75 12.   12.25 12.5  12.75\n",
      " 13.   13.25 13.5  13.75 14.   14.25 14.5  14.75 15.   15.25 15.5  15.75\n",
      " 16.   16.25 16.5  16.75 17.   17.25 17.5  17.75 18.   18.25 18.5  18.75\n",
      " 19.   19.25 19.5  19.75 20.   20.25 20.5  20.75 21.   21.25 21.5  21.75\n",
      " 22.   22.25 22.5  22.75 23.   23.25 23.5  23.75 24.   24.25 24.5  24.75\n",
      " 25.   25.25 25.5  25.75 26.   26.25 26.5  26.75 27.   27.25 27.5  27.75\n",
      " 28.   28.25 28.5  28.75 29.   29.25 29.5  29.75 30.   30.25 30.5  30.75\n",
      " 31.   31.25 31.5  31.75 32.   32.25 32.5  32.75 33.   33.25 33.5  33.75\n",
      " 34.   34.25 34.5  34.75 35.   35.25 35.5  35.75 36.   36.25 36.5  36.75\n",
      " 37.   37.25 37.5  37.75 38.   38.25 38.5  38.75 39.   39.25 39.5  39.75\n",
      " 40.   40.25 40.5  40.75 41.   41.25 41.5  41.75 42.   42.25 42.5  42.75\n",
      " 43.   43.25 43.5  43.75 44.   44.25 44.5  44.75 45.  ]\n",
      "only using indices for lower-triangular matrix\n",
      "Connectivity computation...\n",
      "   Processing epoch 1 / 1 ...\n"
     ]
    },
    {
     "name": "stderr",
     "output_type": "stream",
     "text": [
      "/Users/jakubblaha/Documents/thesis/thesis-python/main.py:111: RuntimeWarning: There were no Annotations stored in <EpochsArray | 1 events (all good), 0 – 14.992 s (baseline off), ~225 kB, data loaded,\n",
      " '1': 1>, so metadata was not modified.\n",
      "  res = mne_connectivity.spectral_connectivity_time(\n"
     ]
    },
    {
     "name": "stdout",
     "output_type": "stream",
     "text": [
      "[Connectivity computation done]\n",
      "33\n",
      "[ 4.    4.25  4.5   4.75  5.    5.25  5.5   5.75  6.    6.25  6.5   6.75\n",
      "  7.    7.25  7.5   7.75  8.    8.25  8.5   8.75  9.    9.25  9.5   9.75\n",
      " 10.   10.25 10.5  10.75 11.   11.25 11.5  11.75 12.   12.25 12.5  12.75\n",
      " 13.   13.25 13.5  13.75 14.   14.25 14.5  14.75 15.   15.25 15.5  15.75\n",
      " 16.   16.25 16.5  16.75 17.   17.25 17.5  17.75 18.   18.25 18.5  18.75\n",
      " 19.   19.25 19.5  19.75 20.   20.25 20.5  20.75 21.   21.25 21.5  21.75\n",
      " 22.   22.25 22.5  22.75 23.   23.25 23.5  23.75 24.   24.25 24.5  24.75\n",
      " 25.   25.25 25.5  25.75 26.   26.25 26.5  26.75 27.   27.25 27.5  27.75\n",
      " 28.   28.25 28.5  28.75 29.   29.25 29.5  29.75 30.   30.25 30.5  30.75\n",
      " 31.   31.25 31.5  31.75 32.   32.25 32.5  32.75 33.   33.25 33.5  33.75\n",
      " 34.   34.25 34.5  34.75 35.   35.25 35.5  35.75 36.   36.25 36.5  36.75\n",
      " 37.   37.25 37.5  37.75 38.   38.25 38.5  38.75 39.   39.25 39.5  39.75\n",
      " 40.   40.25 40.5  40.75 41.   41.25 41.5  41.75 42.   42.25 42.5  42.75\n",
      " 43.   43.25 43.5  43.75 44.   44.25 44.5  44.75 45.  ]\n",
      "only using indices for lower-triangular matrix\n",
      "Connectivity computation...\n",
      "   Processing epoch 1 / 1 ...\n"
     ]
    },
    {
     "name": "stderr",
     "output_type": "stream",
     "text": [
      "/Users/jakubblaha/Documents/thesis/thesis-python/main.py:111: RuntimeWarning: There were no Annotations stored in <EpochsArray | 1 events (all good), 0 – 14.992 s (baseline off), ~225 kB, data loaded,\n",
      " '1': 1>, so metadata was not modified.\n",
      "  res = mne_connectivity.spectral_connectivity_time(\n"
     ]
    },
    {
     "name": "stdout",
     "output_type": "stream",
     "text": [
      "[Connectivity computation done]\n",
      "34\n",
      "[ 4.    4.25  4.5   4.75  5.    5.25  5.5   5.75  6.    6.25  6.5   6.75\n",
      "  7.    7.25  7.5   7.75  8.    8.25  8.5   8.75  9.    9.25  9.5   9.75\n",
      " 10.   10.25 10.5  10.75 11.   11.25 11.5  11.75 12.   12.25 12.5  12.75\n",
      " 13.   13.25 13.5  13.75 14.   14.25 14.5  14.75 15.   15.25 15.5  15.75\n",
      " 16.   16.25 16.5  16.75 17.   17.25 17.5  17.75 18.   18.25 18.5  18.75\n",
      " 19.   19.25 19.5  19.75 20.   20.25 20.5  20.75 21.   21.25 21.5  21.75\n",
      " 22.   22.25 22.5  22.75 23.   23.25 23.5  23.75 24.   24.25 24.5  24.75\n",
      " 25.   25.25 25.5  25.75 26.   26.25 26.5  26.75 27.   27.25 27.5  27.75\n",
      " 28.   28.25 28.5  28.75 29.   29.25 29.5  29.75 30.   30.25 30.5  30.75\n",
      " 31.   31.25 31.5  31.75 32.   32.25 32.5  32.75 33.   33.25 33.5  33.75\n",
      " 34.   34.25 34.5  34.75 35.   35.25 35.5  35.75 36.   36.25 36.5  36.75\n",
      " 37.   37.25 37.5  37.75 38.   38.25 38.5  38.75 39.   39.25 39.5  39.75\n",
      " 40.   40.25 40.5  40.75 41.   41.25 41.5  41.75 42.   42.25 42.5  42.75\n",
      " 43.   43.25 43.5  43.75 44.   44.25 44.5  44.75 45.  ]\n",
      "only using indices for lower-triangular matrix\n",
      "Connectivity computation...\n",
      "   Processing epoch 1 / 1 ...\n"
     ]
    },
    {
     "name": "stderr",
     "output_type": "stream",
     "text": [
      "/Users/jakubblaha/Documents/thesis/thesis-python/main.py:111: RuntimeWarning: There were no Annotations stored in <EpochsArray | 1 events (all good), 0 – 14.992 s (baseline off), ~225 kB, data loaded,\n",
      " '1': 1>, so metadata was not modified.\n",
      "  res = mne_connectivity.spectral_connectivity_time(\n"
     ]
    },
    {
     "name": "stdout",
     "output_type": "stream",
     "text": [
      "[Connectivity computation done]\n",
      "35\n",
      "[ 4.    4.25  4.5   4.75  5.    5.25  5.5   5.75  6.    6.25  6.5   6.75\n",
      "  7.    7.25  7.5   7.75  8.    8.25  8.5   8.75  9.    9.25  9.5   9.75\n",
      " 10.   10.25 10.5  10.75 11.   11.25 11.5  11.75 12.   12.25 12.5  12.75\n",
      " 13.   13.25 13.5  13.75 14.   14.25 14.5  14.75 15.   15.25 15.5  15.75\n",
      " 16.   16.25 16.5  16.75 17.   17.25 17.5  17.75 18.   18.25 18.5  18.75\n",
      " 19.   19.25 19.5  19.75 20.   20.25 20.5  20.75 21.   21.25 21.5  21.75\n",
      " 22.   22.25 22.5  22.75 23.   23.25 23.5  23.75 24.   24.25 24.5  24.75\n",
      " 25.   25.25 25.5  25.75 26.   26.25 26.5  26.75 27.   27.25 27.5  27.75\n",
      " 28.   28.25 28.5  28.75 29.   29.25 29.5  29.75 30.   30.25 30.5  30.75\n",
      " 31.   31.25 31.5  31.75 32.   32.25 32.5  32.75 33.   33.25 33.5  33.75\n",
      " 34.   34.25 34.5  34.75 35.   35.25 35.5  35.75 36.   36.25 36.5  36.75\n",
      " 37.   37.25 37.5  37.75 38.   38.25 38.5  38.75 39.   39.25 39.5  39.75\n",
      " 40.   40.25 40.5  40.75 41.   41.25 41.5  41.75 42.   42.25 42.5  42.75\n",
      " 43.   43.25 43.5  43.75 44.   44.25 44.5  44.75 45.  ]\n",
      "only using indices for lower-triangular matrix\n",
      "Connectivity computation...\n",
      "   Processing epoch 1 / 1 ...\n"
     ]
    },
    {
     "name": "stderr",
     "output_type": "stream",
     "text": [
      "/Users/jakubblaha/Documents/thesis/thesis-python/main.py:111: RuntimeWarning: There were no Annotations stored in <EpochsArray | 1 events (all good), 0 – 14.992 s (baseline off), ~225 kB, data loaded,\n",
      " '1': 1>, so metadata was not modified.\n",
      "  res = mne_connectivity.spectral_connectivity_time(\n"
     ]
    },
    {
     "name": "stdout",
     "output_type": "stream",
     "text": [
      "[Connectivity computation done]\n",
      "36\n",
      "[ 4.    4.25  4.5   4.75  5.    5.25  5.5   5.75  6.    6.25  6.5   6.75\n",
      "  7.    7.25  7.5   7.75  8.    8.25  8.5   8.75  9.    9.25  9.5   9.75\n",
      " 10.   10.25 10.5  10.75 11.   11.25 11.5  11.75 12.   12.25 12.5  12.75\n",
      " 13.   13.25 13.5  13.75 14.   14.25 14.5  14.75 15.   15.25 15.5  15.75\n",
      " 16.   16.25 16.5  16.75 17.   17.25 17.5  17.75 18.   18.25 18.5  18.75\n",
      " 19.   19.25 19.5  19.75 20.   20.25 20.5  20.75 21.   21.25 21.5  21.75\n",
      " 22.   22.25 22.5  22.75 23.   23.25 23.5  23.75 24.   24.25 24.5  24.75\n",
      " 25.   25.25 25.5  25.75 26.   26.25 26.5  26.75 27.   27.25 27.5  27.75\n",
      " 28.   28.25 28.5  28.75 29.   29.25 29.5  29.75 30.   30.25 30.5  30.75\n",
      " 31.   31.25 31.5  31.75 32.   32.25 32.5  32.75 33.   33.25 33.5  33.75\n",
      " 34.   34.25 34.5  34.75 35.   35.25 35.5  35.75 36.   36.25 36.5  36.75\n",
      " 37.   37.25 37.5  37.75 38.   38.25 38.5  38.75 39.   39.25 39.5  39.75\n",
      " 40.   40.25 40.5  40.75 41.   41.25 41.5  41.75 42.   42.25 42.5  42.75\n",
      " 43.   43.25 43.5  43.75 44.   44.25 44.5  44.75 45.  ]\n",
      "only using indices for lower-triangular matrix\n",
      "Connectivity computation...\n",
      "   Processing epoch 1 / 1 ...\n"
     ]
    },
    {
     "name": "stderr",
     "output_type": "stream",
     "text": [
      "/Users/jakubblaha/Documents/thesis/thesis-python/main.py:111: RuntimeWarning: There were no Annotations stored in <EpochsArray | 1 events (all good), 0 – 14.992 s (baseline off), ~225 kB, data loaded,\n",
      " '1': 1>, so metadata was not modified.\n",
      "  res = mne_connectivity.spectral_connectivity_time(\n"
     ]
    },
    {
     "name": "stdout",
     "output_type": "stream",
     "text": [
      "[Connectivity computation done]\n",
      "37\n",
      "[ 4.    4.25  4.5   4.75  5.    5.25  5.5   5.75  6.    6.25  6.5   6.75\n",
      "  7.    7.25  7.5   7.75  8.    8.25  8.5   8.75  9.    9.25  9.5   9.75\n",
      " 10.   10.25 10.5  10.75 11.   11.25 11.5  11.75 12.   12.25 12.5  12.75\n",
      " 13.   13.25 13.5  13.75 14.   14.25 14.5  14.75 15.   15.25 15.5  15.75\n",
      " 16.   16.25 16.5  16.75 17.   17.25 17.5  17.75 18.   18.25 18.5  18.75\n",
      " 19.   19.25 19.5  19.75 20.   20.25 20.5  20.75 21.   21.25 21.5  21.75\n",
      " 22.   22.25 22.5  22.75 23.   23.25 23.5  23.75 24.   24.25 24.5  24.75\n",
      " 25.   25.25 25.5  25.75 26.   26.25 26.5  26.75 27.   27.25 27.5  27.75\n",
      " 28.   28.25 28.5  28.75 29.   29.25 29.5  29.75 30.   30.25 30.5  30.75\n",
      " 31.   31.25 31.5  31.75 32.   32.25 32.5  32.75 33.   33.25 33.5  33.75\n",
      " 34.   34.25 34.5  34.75 35.   35.25 35.5  35.75 36.   36.25 36.5  36.75\n",
      " 37.   37.25 37.5  37.75 38.   38.25 38.5  38.75 39.   39.25 39.5  39.75\n",
      " 40.   40.25 40.5  40.75 41.   41.25 41.5  41.75 42.   42.25 42.5  42.75\n",
      " 43.   43.25 43.5  43.75 44.   44.25 44.5  44.75 45.  ]\n",
      "only using indices for lower-triangular matrix\n",
      "Connectivity computation...\n",
      "   Processing epoch 1 / 1 ...\n"
     ]
    },
    {
     "name": "stderr",
     "output_type": "stream",
     "text": [
      "/Users/jakubblaha/Documents/thesis/thesis-python/main.py:111: RuntimeWarning: There were no Annotations stored in <EpochsArray | 1 events (all good), 0 – 14.992 s (baseline off), ~225 kB, data loaded,\n",
      " '1': 1>, so metadata was not modified.\n",
      "  res = mne_connectivity.spectral_connectivity_time(\n"
     ]
    },
    {
     "name": "stdout",
     "output_type": "stream",
     "text": [
      "[Connectivity computation done]\n",
      "38\n",
      "[ 4.    4.25  4.5   4.75  5.    5.25  5.5   5.75  6.    6.25  6.5   6.75\n",
      "  7.    7.25  7.5   7.75  8.    8.25  8.5   8.75  9.    9.25  9.5   9.75\n",
      " 10.   10.25 10.5  10.75 11.   11.25 11.5  11.75 12.   12.25 12.5  12.75\n",
      " 13.   13.25 13.5  13.75 14.   14.25 14.5  14.75 15.   15.25 15.5  15.75\n",
      " 16.   16.25 16.5  16.75 17.   17.25 17.5  17.75 18.   18.25 18.5  18.75\n",
      " 19.   19.25 19.5  19.75 20.   20.25 20.5  20.75 21.   21.25 21.5  21.75\n",
      " 22.   22.25 22.5  22.75 23.   23.25 23.5  23.75 24.   24.25 24.5  24.75\n",
      " 25.   25.25 25.5  25.75 26.   26.25 26.5  26.75 27.   27.25 27.5  27.75\n",
      " 28.   28.25 28.5  28.75 29.   29.25 29.5  29.75 30.   30.25 30.5  30.75\n",
      " 31.   31.25 31.5  31.75 32.   32.25 32.5  32.75 33.   33.25 33.5  33.75\n",
      " 34.   34.25 34.5  34.75 35.   35.25 35.5  35.75 36.   36.25 36.5  36.75\n",
      " 37.   37.25 37.5  37.75 38.   38.25 38.5  38.75 39.   39.25 39.5  39.75\n",
      " 40.   40.25 40.5  40.75 41.   41.25 41.5  41.75 42.   42.25 42.5  42.75\n",
      " 43.   43.25 43.5  43.75 44.   44.25 44.5  44.75 45.  ]\n",
      "only using indices for lower-triangular matrix\n",
      "Connectivity computation...\n",
      "   Processing epoch 1 / 1 ...\n"
     ]
    },
    {
     "name": "stderr",
     "output_type": "stream",
     "text": [
      "/Users/jakubblaha/Documents/thesis/thesis-python/main.py:111: RuntimeWarning: There were no Annotations stored in <EpochsArray | 1 events (all good), 0 – 14.992 s (baseline off), ~225 kB, data loaded,\n",
      " '1': 1>, so metadata was not modified.\n",
      "  res = mne_connectivity.spectral_connectivity_time(\n"
     ]
    },
    {
     "name": "stdout",
     "output_type": "stream",
     "text": [
      "[Connectivity computation done]\n",
      "39\n",
      "[ 4.    4.25  4.5   4.75  5.    5.25  5.5   5.75  6.    6.25  6.5   6.75\n",
      "  7.    7.25  7.5   7.75  8.    8.25  8.5   8.75  9.    9.25  9.5   9.75\n",
      " 10.   10.25 10.5  10.75 11.   11.25 11.5  11.75 12.   12.25 12.5  12.75\n",
      " 13.   13.25 13.5  13.75 14.   14.25 14.5  14.75 15.   15.25 15.5  15.75\n",
      " 16.   16.25 16.5  16.75 17.   17.25 17.5  17.75 18.   18.25 18.5  18.75\n",
      " 19.   19.25 19.5  19.75 20.   20.25 20.5  20.75 21.   21.25 21.5  21.75\n",
      " 22.   22.25 22.5  22.75 23.   23.25 23.5  23.75 24.   24.25 24.5  24.75\n",
      " 25.   25.25 25.5  25.75 26.   26.25 26.5  26.75 27.   27.25 27.5  27.75\n",
      " 28.   28.25 28.5  28.75 29.   29.25 29.5  29.75 30.   30.25 30.5  30.75\n",
      " 31.   31.25 31.5  31.75 32.   32.25 32.5  32.75 33.   33.25 33.5  33.75\n",
      " 34.   34.25 34.5  34.75 35.   35.25 35.5  35.75 36.   36.25 36.5  36.75\n",
      " 37.   37.25 37.5  37.75 38.   38.25 38.5  38.75 39.   39.25 39.5  39.75\n",
      " 40.   40.25 40.5  40.75 41.   41.25 41.5  41.75 42.   42.25 42.5  42.75\n",
      " 43.   43.25 43.5  43.75 44.   44.25 44.5  44.75 45.  ]\n",
      "only using indices for lower-triangular matrix\n",
      "Connectivity computation...\n",
      "   Processing epoch 1 / 1 ...\n"
     ]
    },
    {
     "name": "stderr",
     "output_type": "stream",
     "text": [
      "/Users/jakubblaha/Documents/thesis/thesis-python/main.py:111: RuntimeWarning: There were no Annotations stored in <EpochsArray | 1 events (all good), 0 – 14.992 s (baseline off), ~225 kB, data loaded,\n",
      " '1': 1>, so metadata was not modified.\n",
      "  res = mne_connectivity.spectral_connectivity_time(\n"
     ]
    },
    {
     "name": "stdout",
     "output_type": "stream",
     "text": [
      "[Connectivity computation done]\n",
      "40\n",
      "[ 4.    4.25  4.5   4.75  5.    5.25  5.5   5.75  6.    6.25  6.5   6.75\n",
      "  7.    7.25  7.5   7.75  8.    8.25  8.5   8.75  9.    9.25  9.5   9.75\n",
      " 10.   10.25 10.5  10.75 11.   11.25 11.5  11.75 12.   12.25 12.5  12.75\n",
      " 13.   13.25 13.5  13.75 14.   14.25 14.5  14.75 15.   15.25 15.5  15.75\n",
      " 16.   16.25 16.5  16.75 17.   17.25 17.5  17.75 18.   18.25 18.5  18.75\n",
      " 19.   19.25 19.5  19.75 20.   20.25 20.5  20.75 21.   21.25 21.5  21.75\n",
      " 22.   22.25 22.5  22.75 23.   23.25 23.5  23.75 24.   24.25 24.5  24.75\n",
      " 25.   25.25 25.5  25.75 26.   26.25 26.5  26.75 27.   27.25 27.5  27.75\n",
      " 28.   28.25 28.5  28.75 29.   29.25 29.5  29.75 30.   30.25 30.5  30.75\n",
      " 31.   31.25 31.5  31.75 32.   32.25 32.5  32.75 33.   33.25 33.5  33.75\n",
      " 34.   34.25 34.5  34.75 35.   35.25 35.5  35.75 36.   36.25 36.5  36.75\n",
      " 37.   37.25 37.5  37.75 38.   38.25 38.5  38.75 39.   39.25 39.5  39.75\n",
      " 40.   40.25 40.5  40.75 41.   41.25 41.5  41.75 42.   42.25 42.5  42.75\n",
      " 43.   43.25 43.5  43.75 44.   44.25 44.5  44.75 45.  ]\n",
      "only using indices for lower-triangular matrix\n",
      "Connectivity computation...\n",
      "   Processing epoch 1 / 1 ...\n"
     ]
    },
    {
     "name": "stderr",
     "output_type": "stream",
     "text": [
      "/Users/jakubblaha/Documents/thesis/thesis-python/main.py:111: RuntimeWarning: There were no Annotations stored in <EpochsArray | 1 events (all good), 0 – 14.992 s (baseline off), ~225 kB, data loaded,\n",
      " '1': 1>, so metadata was not modified.\n",
      "  res = mne_connectivity.spectral_connectivity_time(\n"
     ]
    },
    {
     "name": "stdout",
     "output_type": "stream",
     "text": [
      "[Connectivity computation done]\n",
      "41\n",
      "[ 4.    4.25  4.5   4.75  5.    5.25  5.5   5.75  6.    6.25  6.5   6.75\n",
      "  7.    7.25  7.5   7.75  8.    8.25  8.5   8.75  9.    9.25  9.5   9.75\n",
      " 10.   10.25 10.5  10.75 11.   11.25 11.5  11.75 12.   12.25 12.5  12.75\n",
      " 13.   13.25 13.5  13.75 14.   14.25 14.5  14.75 15.   15.25 15.5  15.75\n",
      " 16.   16.25 16.5  16.75 17.   17.25 17.5  17.75 18.   18.25 18.5  18.75\n",
      " 19.   19.25 19.5  19.75 20.   20.25 20.5  20.75 21.   21.25 21.5  21.75\n",
      " 22.   22.25 22.5  22.75 23.   23.25 23.5  23.75 24.   24.25 24.5  24.75\n",
      " 25.   25.25 25.5  25.75 26.   26.25 26.5  26.75 27.   27.25 27.5  27.75\n",
      " 28.   28.25 28.5  28.75 29.   29.25 29.5  29.75 30.   30.25 30.5  30.75\n",
      " 31.   31.25 31.5  31.75 32.   32.25 32.5  32.75 33.   33.25 33.5  33.75\n",
      " 34.   34.25 34.5  34.75 35.   35.25 35.5  35.75 36.   36.25 36.5  36.75\n",
      " 37.   37.25 37.5  37.75 38.   38.25 38.5  38.75 39.   39.25 39.5  39.75\n",
      " 40.   40.25 40.5  40.75 41.   41.25 41.5  41.75 42.   42.25 42.5  42.75\n",
      " 43.   43.25 43.5  43.75 44.   44.25 44.5  44.75 45.  ]\n",
      "only using indices for lower-triangular matrix\n",
      "Connectivity computation...\n",
      "   Processing epoch 1 / 1 ...\n"
     ]
    },
    {
     "name": "stderr",
     "output_type": "stream",
     "text": [
      "/Users/jakubblaha/Documents/thesis/thesis-python/main.py:111: RuntimeWarning: There were no Annotations stored in <EpochsArray | 1 events (all good), 0 – 14.992 s (baseline off), ~225 kB, data loaded,\n",
      " '1': 1>, so metadata was not modified.\n",
      "  res = mne_connectivity.spectral_connectivity_time(\n"
     ]
    },
    {
     "name": "stdout",
     "output_type": "stream",
     "text": [
      "[Connectivity computation done]\n",
      "42\n",
      "[ 4.    4.25  4.5   4.75  5.    5.25  5.5   5.75  6.    6.25  6.5   6.75\n",
      "  7.    7.25  7.5   7.75  8.    8.25  8.5   8.75  9.    9.25  9.5   9.75\n",
      " 10.   10.25 10.5  10.75 11.   11.25 11.5  11.75 12.   12.25 12.5  12.75\n",
      " 13.   13.25 13.5  13.75 14.   14.25 14.5  14.75 15.   15.25 15.5  15.75\n",
      " 16.   16.25 16.5  16.75 17.   17.25 17.5  17.75 18.   18.25 18.5  18.75\n",
      " 19.   19.25 19.5  19.75 20.   20.25 20.5  20.75 21.   21.25 21.5  21.75\n",
      " 22.   22.25 22.5  22.75 23.   23.25 23.5  23.75 24.   24.25 24.5  24.75\n",
      " 25.   25.25 25.5  25.75 26.   26.25 26.5  26.75 27.   27.25 27.5  27.75\n",
      " 28.   28.25 28.5  28.75 29.   29.25 29.5  29.75 30.   30.25 30.5  30.75\n",
      " 31.   31.25 31.5  31.75 32.   32.25 32.5  32.75 33.   33.25 33.5  33.75\n",
      " 34.   34.25 34.5  34.75 35.   35.25 35.5  35.75 36.   36.25 36.5  36.75\n",
      " 37.   37.25 37.5  37.75 38.   38.25 38.5  38.75 39.   39.25 39.5  39.75\n",
      " 40.   40.25 40.5  40.75 41.   41.25 41.5  41.75 42.   42.25 42.5  42.75\n",
      " 43.   43.25 43.5  43.75 44.   44.25 44.5  44.75 45.  ]\n",
      "only using indices for lower-triangular matrix\n",
      "Connectivity computation...\n",
      "   Processing epoch 1 / 1 ...\n"
     ]
    },
    {
     "name": "stderr",
     "output_type": "stream",
     "text": [
      "/Users/jakubblaha/Documents/thesis/thesis-python/main.py:111: RuntimeWarning: There were no Annotations stored in <EpochsArray | 1 events (all good), 0 – 14.992 s (baseline off), ~225 kB, data loaded,\n",
      " '1': 1>, so metadata was not modified.\n",
      "  res = mne_connectivity.spectral_connectivity_time(\n"
     ]
    },
    {
     "name": "stdout",
     "output_type": "stream",
     "text": [
      "[Connectivity computation done]\n",
      "43\n",
      "[ 4.    4.25  4.5   4.75  5.    5.25  5.5   5.75  6.    6.25  6.5   6.75\n",
      "  7.    7.25  7.5   7.75  8.    8.25  8.5   8.75  9.    9.25  9.5   9.75\n",
      " 10.   10.25 10.5  10.75 11.   11.25 11.5  11.75 12.   12.25 12.5  12.75\n",
      " 13.   13.25 13.5  13.75 14.   14.25 14.5  14.75 15.   15.25 15.5  15.75\n",
      " 16.   16.25 16.5  16.75 17.   17.25 17.5  17.75 18.   18.25 18.5  18.75\n",
      " 19.   19.25 19.5  19.75 20.   20.25 20.5  20.75 21.   21.25 21.5  21.75\n",
      " 22.   22.25 22.5  22.75 23.   23.25 23.5  23.75 24.   24.25 24.5  24.75\n",
      " 25.   25.25 25.5  25.75 26.   26.25 26.5  26.75 27.   27.25 27.5  27.75\n",
      " 28.   28.25 28.5  28.75 29.   29.25 29.5  29.75 30.   30.25 30.5  30.75\n",
      " 31.   31.25 31.5  31.75 32.   32.25 32.5  32.75 33.   33.25 33.5  33.75\n",
      " 34.   34.25 34.5  34.75 35.   35.25 35.5  35.75 36.   36.25 36.5  36.75\n",
      " 37.   37.25 37.5  37.75 38.   38.25 38.5  38.75 39.   39.25 39.5  39.75\n",
      " 40.   40.25 40.5  40.75 41.   41.25 41.5  41.75 42.   42.25 42.5  42.75\n",
      " 43.   43.25 43.5  43.75 44.   44.25 44.5  44.75 45.  ]\n",
      "only using indices for lower-triangular matrix\n",
      "Connectivity computation...\n",
      "   Processing epoch 1 / 1 ...\n"
     ]
    },
    {
     "name": "stderr",
     "output_type": "stream",
     "text": [
      "/Users/jakubblaha/Documents/thesis/thesis-python/main.py:111: RuntimeWarning: There were no Annotations stored in <EpochsArray | 1 events (all good), 0 – 14.992 s (baseline off), ~225 kB, data loaded,\n",
      " '1': 1>, so metadata was not modified.\n",
      "  res = mne_connectivity.spectral_connectivity_time(\n"
     ]
    },
    {
     "name": "stdout",
     "output_type": "stream",
     "text": [
      "[Connectivity computation done]\n",
      "44\n",
      "[ 4.    4.25  4.5   4.75  5.    5.25  5.5   5.75  6.    6.25  6.5   6.75\n",
      "  7.    7.25  7.5   7.75  8.    8.25  8.5   8.75  9.    9.25  9.5   9.75\n",
      " 10.   10.25 10.5  10.75 11.   11.25 11.5  11.75 12.   12.25 12.5  12.75\n",
      " 13.   13.25 13.5  13.75 14.   14.25 14.5  14.75 15.   15.25 15.5  15.75\n",
      " 16.   16.25 16.5  16.75 17.   17.25 17.5  17.75 18.   18.25 18.5  18.75\n",
      " 19.   19.25 19.5  19.75 20.   20.25 20.5  20.75 21.   21.25 21.5  21.75\n",
      " 22.   22.25 22.5  22.75 23.   23.25 23.5  23.75 24.   24.25 24.5  24.75\n",
      " 25.   25.25 25.5  25.75 26.   26.25 26.5  26.75 27.   27.25 27.5  27.75\n",
      " 28.   28.25 28.5  28.75 29.   29.25 29.5  29.75 30.   30.25 30.5  30.75\n",
      " 31.   31.25 31.5  31.75 32.   32.25 32.5  32.75 33.   33.25 33.5  33.75\n",
      " 34.   34.25 34.5  34.75 35.   35.25 35.5  35.75 36.   36.25 36.5  36.75\n",
      " 37.   37.25 37.5  37.75 38.   38.25 38.5  38.75 39.   39.25 39.5  39.75\n",
      " 40.   40.25 40.5  40.75 41.   41.25 41.5  41.75 42.   42.25 42.5  42.75\n",
      " 43.   43.25 43.5  43.75 44.   44.25 44.5  44.75 45.  ]\n",
      "only using indices for lower-triangular matrix\n",
      "Connectivity computation...\n",
      "   Processing epoch 1 / 1 ...\n"
     ]
    },
    {
     "name": "stderr",
     "output_type": "stream",
     "text": [
      "/Users/jakubblaha/Documents/thesis/thesis-python/main.py:111: RuntimeWarning: There were no Annotations stored in <EpochsArray | 1 events (all good), 0 – 14.992 s (baseline off), ~225 kB, data loaded,\n",
      " '1': 1>, so metadata was not modified.\n",
      "  res = mne_connectivity.spectral_connectivity_time(\n"
     ]
    },
    {
     "name": "stdout",
     "output_type": "stream",
     "text": [
      "[Connectivity computation done]\n",
      "45\n",
      "[ 4.    4.25  4.5   4.75  5.    5.25  5.5   5.75  6.    6.25  6.5   6.75\n",
      "  7.    7.25  7.5   7.75  8.    8.25  8.5   8.75  9.    9.25  9.5   9.75\n",
      " 10.   10.25 10.5  10.75 11.   11.25 11.5  11.75 12.   12.25 12.5  12.75\n",
      " 13.   13.25 13.5  13.75 14.   14.25 14.5  14.75 15.   15.25 15.5  15.75\n",
      " 16.   16.25 16.5  16.75 17.   17.25 17.5  17.75 18.   18.25 18.5  18.75\n",
      " 19.   19.25 19.5  19.75 20.   20.25 20.5  20.75 21.   21.25 21.5  21.75\n",
      " 22.   22.25 22.5  22.75 23.   23.25 23.5  23.75 24.   24.25 24.5  24.75\n",
      " 25.   25.25 25.5  25.75 26.   26.25 26.5  26.75 27.   27.25 27.5  27.75\n",
      " 28.   28.25 28.5  28.75 29.   29.25 29.5  29.75 30.   30.25 30.5  30.75\n",
      " 31.   31.25 31.5  31.75 32.   32.25 32.5  32.75 33.   33.25 33.5  33.75\n",
      " 34.   34.25 34.5  34.75 35.   35.25 35.5  35.75 36.   36.25 36.5  36.75\n",
      " 37.   37.25 37.5  37.75 38.   38.25 38.5  38.75 39.   39.25 39.5  39.75\n",
      " 40.   40.25 40.5  40.75 41.   41.25 41.5  41.75 42.   42.25 42.5  42.75\n",
      " 43.   43.25 43.5  43.75 44.   44.25 44.5  44.75 45.  ]\n",
      "only using indices for lower-triangular matrix\n",
      "Connectivity computation...\n",
      "   Processing epoch 1 / 1 ...\n"
     ]
    },
    {
     "name": "stderr",
     "output_type": "stream",
     "text": [
      "/Users/jakubblaha/Documents/thesis/thesis-python/main.py:111: RuntimeWarning: There were no Annotations stored in <EpochsArray | 1 events (all good), 0 – 14.992 s (baseline off), ~225 kB, data loaded,\n",
      " '1': 1>, so metadata was not modified.\n",
      "  res = mne_connectivity.spectral_connectivity_time(\n"
     ]
    },
    {
     "name": "stdout",
     "output_type": "stream",
     "text": [
      "[Connectivity computation done]\n",
      "46\n",
      "[ 4.    4.25  4.5   4.75  5.    5.25  5.5   5.75  6.    6.25  6.5   6.75\n",
      "  7.    7.25  7.5   7.75  8.    8.25  8.5   8.75  9.    9.25  9.5   9.75\n",
      " 10.   10.25 10.5  10.75 11.   11.25 11.5  11.75 12.   12.25 12.5  12.75\n",
      " 13.   13.25 13.5  13.75 14.   14.25 14.5  14.75 15.   15.25 15.5  15.75\n",
      " 16.   16.25 16.5  16.75 17.   17.25 17.5  17.75 18.   18.25 18.5  18.75\n",
      " 19.   19.25 19.5  19.75 20.   20.25 20.5  20.75 21.   21.25 21.5  21.75\n",
      " 22.   22.25 22.5  22.75 23.   23.25 23.5  23.75 24.   24.25 24.5  24.75\n",
      " 25.   25.25 25.5  25.75 26.   26.25 26.5  26.75 27.   27.25 27.5  27.75\n",
      " 28.   28.25 28.5  28.75 29.   29.25 29.5  29.75 30.   30.25 30.5  30.75\n",
      " 31.   31.25 31.5  31.75 32.   32.25 32.5  32.75 33.   33.25 33.5  33.75\n",
      " 34.   34.25 34.5  34.75 35.   35.25 35.5  35.75 36.   36.25 36.5  36.75\n",
      " 37.   37.25 37.5  37.75 38.   38.25 38.5  38.75 39.   39.25 39.5  39.75\n",
      " 40.   40.25 40.5  40.75 41.   41.25 41.5  41.75 42.   42.25 42.5  42.75\n",
      " 43.   43.25 43.5  43.75 44.   44.25 44.5  44.75 45.  ]\n",
      "only using indices for lower-triangular matrix\n",
      "Connectivity computation...\n",
      "   Processing epoch 1 / 1 ...\n"
     ]
    },
    {
     "name": "stderr",
     "output_type": "stream",
     "text": [
      "/Users/jakubblaha/Documents/thesis/thesis-python/main.py:111: RuntimeWarning: There were no Annotations stored in <EpochsArray | 1 events (all good), 0 – 14.992 s (baseline off), ~225 kB, data loaded,\n",
      " '1': 1>, so metadata was not modified.\n",
      "  res = mne_connectivity.spectral_connectivity_time(\n"
     ]
    },
    {
     "name": "stdout",
     "output_type": "stream",
     "text": [
      "[Connectivity computation done]\n",
      "47\n",
      "[ 4.    4.25  4.5   4.75  5.    5.25  5.5   5.75  6.    6.25  6.5   6.75\n",
      "  7.    7.25  7.5   7.75  8.    8.25  8.5   8.75  9.    9.25  9.5   9.75\n",
      " 10.   10.25 10.5  10.75 11.   11.25 11.5  11.75 12.   12.25 12.5  12.75\n",
      " 13.   13.25 13.5  13.75 14.   14.25 14.5  14.75 15.   15.25 15.5  15.75\n",
      " 16.   16.25 16.5  16.75 17.   17.25 17.5  17.75 18.   18.25 18.5  18.75\n",
      " 19.   19.25 19.5  19.75 20.   20.25 20.5  20.75 21.   21.25 21.5  21.75\n",
      " 22.   22.25 22.5  22.75 23.   23.25 23.5  23.75 24.   24.25 24.5  24.75\n",
      " 25.   25.25 25.5  25.75 26.   26.25 26.5  26.75 27.   27.25 27.5  27.75\n",
      " 28.   28.25 28.5  28.75 29.   29.25 29.5  29.75 30.   30.25 30.5  30.75\n",
      " 31.   31.25 31.5  31.75 32.   32.25 32.5  32.75 33.   33.25 33.5  33.75\n",
      " 34.   34.25 34.5  34.75 35.   35.25 35.5  35.75 36.   36.25 36.5  36.75\n",
      " 37.   37.25 37.5  37.75 38.   38.25 38.5  38.75 39.   39.25 39.5  39.75\n",
      " 40.   40.25 40.5  40.75 41.   41.25 41.5  41.75 42.   42.25 42.5  42.75\n",
      " 43.   43.25 43.5  43.75 44.   44.25 44.5  44.75 45.  ]\n",
      "only using indices for lower-triangular matrix\n",
      "Connectivity computation...\n",
      "   Processing epoch 1 / 1 ...\n"
     ]
    },
    {
     "name": "stderr",
     "output_type": "stream",
     "text": [
      "/Users/jakubblaha/Documents/thesis/thesis-python/main.py:111: RuntimeWarning: There were no Annotations stored in <EpochsArray | 1 events (all good), 0 – 14.992 s (baseline off), ~225 kB, data loaded,\n",
      " '1': 1>, so metadata was not modified.\n",
      "  res = mne_connectivity.spectral_connectivity_time(\n"
     ]
    },
    {
     "name": "stdout",
     "output_type": "stream",
     "text": [
      "[Connectivity computation done]\n",
      "48\n",
      "[ 4.    4.25  4.5   4.75  5.    5.25  5.5   5.75  6.    6.25  6.5   6.75\n",
      "  7.    7.25  7.5   7.75  8.    8.25  8.5   8.75  9.    9.25  9.5   9.75\n",
      " 10.   10.25 10.5  10.75 11.   11.25 11.5  11.75 12.   12.25 12.5  12.75\n",
      " 13.   13.25 13.5  13.75 14.   14.25 14.5  14.75 15.   15.25 15.5  15.75\n",
      " 16.   16.25 16.5  16.75 17.   17.25 17.5  17.75 18.   18.25 18.5  18.75\n",
      " 19.   19.25 19.5  19.75 20.   20.25 20.5  20.75 21.   21.25 21.5  21.75\n",
      " 22.   22.25 22.5  22.75 23.   23.25 23.5  23.75 24.   24.25 24.5  24.75\n",
      " 25.   25.25 25.5  25.75 26.   26.25 26.5  26.75 27.   27.25 27.5  27.75\n",
      " 28.   28.25 28.5  28.75 29.   29.25 29.5  29.75 30.   30.25 30.5  30.75\n",
      " 31.   31.25 31.5  31.75 32.   32.25 32.5  32.75 33.   33.25 33.5  33.75\n",
      " 34.   34.25 34.5  34.75 35.   35.25 35.5  35.75 36.   36.25 36.5  36.75\n",
      " 37.   37.25 37.5  37.75 38.   38.25 38.5  38.75 39.   39.25 39.5  39.75\n",
      " 40.   40.25 40.5  40.75 41.   41.25 41.5  41.75 42.   42.25 42.5  42.75\n",
      " 43.   43.25 43.5  43.75 44.   44.25 44.5  44.75 45.  ]\n",
      "only using indices for lower-triangular matrix\n",
      "Connectivity computation...\n",
      "   Processing epoch 1 / 1 ...\n"
     ]
    },
    {
     "name": "stderr",
     "output_type": "stream",
     "text": [
      "/Users/jakubblaha/Documents/thesis/thesis-python/main.py:111: RuntimeWarning: There were no Annotations stored in <EpochsArray | 1 events (all good), 0 – 14.992 s (baseline off), ~225 kB, data loaded,\n",
      " '1': 1>, so metadata was not modified.\n",
      "  res = mne_connectivity.spectral_connectivity_time(\n"
     ]
    },
    {
     "name": "stdout",
     "output_type": "stream",
     "text": [
      "[Connectivity computation done]\n",
      "49\n",
      "[ 4.    4.25  4.5   4.75  5.    5.25  5.5   5.75  6.    6.25  6.5   6.75\n",
      "  7.    7.25  7.5   7.75  8.    8.25  8.5   8.75  9.    9.25  9.5   9.75\n",
      " 10.   10.25 10.5  10.75 11.   11.25 11.5  11.75 12.   12.25 12.5  12.75\n",
      " 13.   13.25 13.5  13.75 14.   14.25 14.5  14.75 15.   15.25 15.5  15.75\n",
      " 16.   16.25 16.5  16.75 17.   17.25 17.5  17.75 18.   18.25 18.5  18.75\n",
      " 19.   19.25 19.5  19.75 20.   20.25 20.5  20.75 21.   21.25 21.5  21.75\n",
      " 22.   22.25 22.5  22.75 23.   23.25 23.5  23.75 24.   24.25 24.5  24.75\n",
      " 25.   25.25 25.5  25.75 26.   26.25 26.5  26.75 27.   27.25 27.5  27.75\n",
      " 28.   28.25 28.5  28.75 29.   29.25 29.5  29.75 30.   30.25 30.5  30.75\n",
      " 31.   31.25 31.5  31.75 32.   32.25 32.5  32.75 33.   33.25 33.5  33.75\n",
      " 34.   34.25 34.5  34.75 35.   35.25 35.5  35.75 36.   36.25 36.5  36.75\n",
      " 37.   37.25 37.5  37.75 38.   38.25 38.5  38.75 39.   39.25 39.5  39.75\n",
      " 40.   40.25 40.5  40.75 41.   41.25 41.5  41.75 42.   42.25 42.5  42.75\n",
      " 43.   43.25 43.5  43.75 44.   44.25 44.5  44.75 45.  ]\n",
      "only using indices for lower-triangular matrix\n",
      "Connectivity computation...\n",
      "   Processing epoch 1 / 1 ...\n"
     ]
    },
    {
     "name": "stderr",
     "output_type": "stream",
     "text": [
      "/Users/jakubblaha/Documents/thesis/thesis-python/main.py:111: RuntimeWarning: There were no Annotations stored in <EpochsArray | 1 events (all good), 0 – 14.992 s (baseline off), ~225 kB, data loaded,\n",
      " '1': 1>, so metadata was not modified.\n",
      "  res = mne_connectivity.spectral_connectivity_time(\n"
     ]
    },
    {
     "name": "stdout",
     "output_type": "stream",
     "text": [
      "[Connectivity computation done]\n",
      "50\n",
      "[ 4.    4.25  4.5   4.75  5.    5.25  5.5   5.75  6.    6.25  6.5   6.75\n",
      "  7.    7.25  7.5   7.75  8.    8.25  8.5   8.75  9.    9.25  9.5   9.75\n",
      " 10.   10.25 10.5  10.75 11.   11.25 11.5  11.75 12.   12.25 12.5  12.75\n",
      " 13.   13.25 13.5  13.75 14.   14.25 14.5  14.75 15.   15.25 15.5  15.75\n",
      " 16.   16.25 16.5  16.75 17.   17.25 17.5  17.75 18.   18.25 18.5  18.75\n",
      " 19.   19.25 19.5  19.75 20.   20.25 20.5  20.75 21.   21.25 21.5  21.75\n",
      " 22.   22.25 22.5  22.75 23.   23.25 23.5  23.75 24.   24.25 24.5  24.75\n",
      " 25.   25.25 25.5  25.75 26.   26.25 26.5  26.75 27.   27.25 27.5  27.75\n",
      " 28.   28.25 28.5  28.75 29.   29.25 29.5  29.75 30.   30.25 30.5  30.75\n",
      " 31.   31.25 31.5  31.75 32.   32.25 32.5  32.75 33.   33.25 33.5  33.75\n",
      " 34.   34.25 34.5  34.75 35.   35.25 35.5  35.75 36.   36.25 36.5  36.75\n",
      " 37.   37.25 37.5  37.75 38.   38.25 38.5  38.75 39.   39.25 39.5  39.75\n",
      " 40.   40.25 40.5  40.75 41.   41.25 41.5  41.75 42.   42.25 42.5  42.75\n",
      " 43.   43.25 43.5  43.75 44.   44.25 44.5  44.75 45.  ]\n",
      "only using indices for lower-triangular matrix\n",
      "Connectivity computation...\n",
      "   Processing epoch 1 / 1 ...\n"
     ]
    },
    {
     "name": "stderr",
     "output_type": "stream",
     "text": [
      "/Users/jakubblaha/Documents/thesis/thesis-python/main.py:111: RuntimeWarning: There were no Annotations stored in <EpochsArray | 1 events (all good), 0 – 14.992 s (baseline off), ~225 kB, data loaded,\n",
      " '1': 1>, so metadata was not modified.\n",
      "  res = mne_connectivity.spectral_connectivity_time(\n"
     ]
    },
    {
     "name": "stdout",
     "output_type": "stream",
     "text": [
      "[Connectivity computation done]\n",
      "51\n",
      "[ 4.    4.25  4.5   4.75  5.    5.25  5.5   5.75  6.    6.25  6.5   6.75\n",
      "  7.    7.25  7.5   7.75  8.    8.25  8.5   8.75  9.    9.25  9.5   9.75\n",
      " 10.   10.25 10.5  10.75 11.   11.25 11.5  11.75 12.   12.25 12.5  12.75\n",
      " 13.   13.25 13.5  13.75 14.   14.25 14.5  14.75 15.   15.25 15.5  15.75\n",
      " 16.   16.25 16.5  16.75 17.   17.25 17.5  17.75 18.   18.25 18.5  18.75\n",
      " 19.   19.25 19.5  19.75 20.   20.25 20.5  20.75 21.   21.25 21.5  21.75\n",
      " 22.   22.25 22.5  22.75 23.   23.25 23.5  23.75 24.   24.25 24.5  24.75\n",
      " 25.   25.25 25.5  25.75 26.   26.25 26.5  26.75 27.   27.25 27.5  27.75\n",
      " 28.   28.25 28.5  28.75 29.   29.25 29.5  29.75 30.   30.25 30.5  30.75\n",
      " 31.   31.25 31.5  31.75 32.   32.25 32.5  32.75 33.   33.25 33.5  33.75\n",
      " 34.   34.25 34.5  34.75 35.   35.25 35.5  35.75 36.   36.25 36.5  36.75\n",
      " 37.   37.25 37.5  37.75 38.   38.25 38.5  38.75 39.   39.25 39.5  39.75\n",
      " 40.   40.25 40.5  40.75 41.   41.25 41.5  41.75 42.   42.25 42.5  42.75\n",
      " 43.   43.25 43.5  43.75 44.   44.25 44.5  44.75 45.  ]\n",
      "only using indices for lower-triangular matrix\n",
      "Connectivity computation...\n",
      "   Processing epoch 1 / 1 ...\n"
     ]
    },
    {
     "name": "stderr",
     "output_type": "stream",
     "text": [
      "/Users/jakubblaha/Documents/thesis/thesis-python/main.py:111: RuntimeWarning: There were no Annotations stored in <EpochsArray | 1 events (all good), 0 – 14.992 s (baseline off), ~225 kB, data loaded,\n",
      " '1': 1>, so metadata was not modified.\n",
      "  res = mne_connectivity.spectral_connectivity_time(\n"
     ]
    },
    {
     "name": "stdout",
     "output_type": "stream",
     "text": [
      "[Connectivity computation done]\n",
      "52\n",
      "[ 4.    4.25  4.5   4.75  5.    5.25  5.5   5.75  6.    6.25  6.5   6.75\n",
      "  7.    7.25  7.5   7.75  8.    8.25  8.5   8.75  9.    9.25  9.5   9.75\n",
      " 10.   10.25 10.5  10.75 11.   11.25 11.5  11.75 12.   12.25 12.5  12.75\n",
      " 13.   13.25 13.5  13.75 14.   14.25 14.5  14.75 15.   15.25 15.5  15.75\n",
      " 16.   16.25 16.5  16.75 17.   17.25 17.5  17.75 18.   18.25 18.5  18.75\n",
      " 19.   19.25 19.5  19.75 20.   20.25 20.5  20.75 21.   21.25 21.5  21.75\n",
      " 22.   22.25 22.5  22.75 23.   23.25 23.5  23.75 24.   24.25 24.5  24.75\n",
      " 25.   25.25 25.5  25.75 26.   26.25 26.5  26.75 27.   27.25 27.5  27.75\n",
      " 28.   28.25 28.5  28.75 29.   29.25 29.5  29.75 30.   30.25 30.5  30.75\n",
      " 31.   31.25 31.5  31.75 32.   32.25 32.5  32.75 33.   33.25 33.5  33.75\n",
      " 34.   34.25 34.5  34.75 35.   35.25 35.5  35.75 36.   36.25 36.5  36.75\n",
      " 37.   37.25 37.5  37.75 38.   38.25 38.5  38.75 39.   39.25 39.5  39.75\n",
      " 40.   40.25 40.5  40.75 41.   41.25 41.5  41.75 42.   42.25 42.5  42.75\n",
      " 43.   43.25 43.5  43.75 44.   44.25 44.5  44.75 45.  ]\n",
      "only using indices for lower-triangular matrix\n",
      "Connectivity computation...\n",
      "   Processing epoch 1 / 1 ...\n"
     ]
    },
    {
     "name": "stderr",
     "output_type": "stream",
     "text": [
      "/Users/jakubblaha/Documents/thesis/thesis-python/main.py:111: RuntimeWarning: There were no Annotations stored in <EpochsArray | 1 events (all good), 0 – 14.992 s (baseline off), ~225 kB, data loaded,\n",
      " '1': 1>, so metadata was not modified.\n",
      "  res = mne_connectivity.spectral_connectivity_time(\n"
     ]
    },
    {
     "name": "stdout",
     "output_type": "stream",
     "text": [
      "[Connectivity computation done]\n",
      "53\n",
      "[ 4.    4.25  4.5   4.75  5.    5.25  5.5   5.75  6.    6.25  6.5   6.75\n",
      "  7.    7.25  7.5   7.75  8.    8.25  8.5   8.75  9.    9.25  9.5   9.75\n",
      " 10.   10.25 10.5  10.75 11.   11.25 11.5  11.75 12.   12.25 12.5  12.75\n",
      " 13.   13.25 13.5  13.75 14.   14.25 14.5  14.75 15.   15.25 15.5  15.75\n",
      " 16.   16.25 16.5  16.75 17.   17.25 17.5  17.75 18.   18.25 18.5  18.75\n",
      " 19.   19.25 19.5  19.75 20.   20.25 20.5  20.75 21.   21.25 21.5  21.75\n",
      " 22.   22.25 22.5  22.75 23.   23.25 23.5  23.75 24.   24.25 24.5  24.75\n",
      " 25.   25.25 25.5  25.75 26.   26.25 26.5  26.75 27.   27.25 27.5  27.75\n",
      " 28.   28.25 28.5  28.75 29.   29.25 29.5  29.75 30.   30.25 30.5  30.75\n",
      " 31.   31.25 31.5  31.75 32.   32.25 32.5  32.75 33.   33.25 33.5  33.75\n",
      " 34.   34.25 34.5  34.75 35.   35.25 35.5  35.75 36.   36.25 36.5  36.75\n",
      " 37.   37.25 37.5  37.75 38.   38.25 38.5  38.75 39.   39.25 39.5  39.75\n",
      " 40.   40.25 40.5  40.75 41.   41.25 41.5  41.75 42.   42.25 42.5  42.75\n",
      " 43.   43.25 43.5  43.75 44.   44.25 44.5  44.75 45.  ]\n",
      "only using indices for lower-triangular matrix\n",
      "Connectivity computation...\n",
      "   Processing epoch 1 / 1 ...\n"
     ]
    },
    {
     "name": "stderr",
     "output_type": "stream",
     "text": [
      "/Users/jakubblaha/Documents/thesis/thesis-python/main.py:111: RuntimeWarning: There were no Annotations stored in <EpochsArray | 1 events (all good), 0 – 14.992 s (baseline off), ~225 kB, data loaded,\n",
      " '1': 1>, so metadata was not modified.\n",
      "  res = mne_connectivity.spectral_connectivity_time(\n"
     ]
    },
    {
     "name": "stdout",
     "output_type": "stream",
     "text": [
      "[Connectivity computation done]\n",
      "54\n",
      "[ 4.    4.25  4.5   4.75  5.    5.25  5.5   5.75  6.    6.25  6.5   6.75\n",
      "  7.    7.25  7.5   7.75  8.    8.25  8.5   8.75  9.    9.25  9.5   9.75\n",
      " 10.   10.25 10.5  10.75 11.   11.25 11.5  11.75 12.   12.25 12.5  12.75\n",
      " 13.   13.25 13.5  13.75 14.   14.25 14.5  14.75 15.   15.25 15.5  15.75\n",
      " 16.   16.25 16.5  16.75 17.   17.25 17.5  17.75 18.   18.25 18.5  18.75\n",
      " 19.   19.25 19.5  19.75 20.   20.25 20.5  20.75 21.   21.25 21.5  21.75\n",
      " 22.   22.25 22.5  22.75 23.   23.25 23.5  23.75 24.   24.25 24.5  24.75\n",
      " 25.   25.25 25.5  25.75 26.   26.25 26.5  26.75 27.   27.25 27.5  27.75\n",
      " 28.   28.25 28.5  28.75 29.   29.25 29.5  29.75 30.   30.25 30.5  30.75\n",
      " 31.   31.25 31.5  31.75 32.   32.25 32.5  32.75 33.   33.25 33.5  33.75\n",
      " 34.   34.25 34.5  34.75 35.   35.25 35.5  35.75 36.   36.25 36.5  36.75\n",
      " 37.   37.25 37.5  37.75 38.   38.25 38.5  38.75 39.   39.25 39.5  39.75\n",
      " 40.   40.25 40.5  40.75 41.   41.25 41.5  41.75 42.   42.25 42.5  42.75\n",
      " 43.   43.25 43.5  43.75 44.   44.25 44.5  44.75 45.  ]\n",
      "only using indices for lower-triangular matrix\n",
      "Connectivity computation...\n",
      "   Processing epoch 1 / 1 ...\n"
     ]
    },
    {
     "name": "stderr",
     "output_type": "stream",
     "text": [
      "/Users/jakubblaha/Documents/thesis/thesis-python/main.py:111: RuntimeWarning: There were no Annotations stored in <EpochsArray | 1 events (all good), 0 – 14.992 s (baseline off), ~225 kB, data loaded,\n",
      " '1': 1>, so metadata was not modified.\n",
      "  res = mne_connectivity.spectral_connectivity_time(\n"
     ]
    },
    {
     "name": "stdout",
     "output_type": "stream",
     "text": [
      "[Connectivity computation done]\n",
      "55\n",
      "[ 4.    4.25  4.5   4.75  5.    5.25  5.5   5.75  6.    6.25  6.5   6.75\n",
      "  7.    7.25  7.5   7.75  8.    8.25  8.5   8.75  9.    9.25  9.5   9.75\n",
      " 10.   10.25 10.5  10.75 11.   11.25 11.5  11.75 12.   12.25 12.5  12.75\n",
      " 13.   13.25 13.5  13.75 14.   14.25 14.5  14.75 15.   15.25 15.5  15.75\n",
      " 16.   16.25 16.5  16.75 17.   17.25 17.5  17.75 18.   18.25 18.5  18.75\n",
      " 19.   19.25 19.5  19.75 20.   20.25 20.5  20.75 21.   21.25 21.5  21.75\n",
      " 22.   22.25 22.5  22.75 23.   23.25 23.5  23.75 24.   24.25 24.5  24.75\n",
      " 25.   25.25 25.5  25.75 26.   26.25 26.5  26.75 27.   27.25 27.5  27.75\n",
      " 28.   28.25 28.5  28.75 29.   29.25 29.5  29.75 30.   30.25 30.5  30.75\n",
      " 31.   31.25 31.5  31.75 32.   32.25 32.5  32.75 33.   33.25 33.5  33.75\n",
      " 34.   34.25 34.5  34.75 35.   35.25 35.5  35.75 36.   36.25 36.5  36.75\n",
      " 37.   37.25 37.5  37.75 38.   38.25 38.5  38.75 39.   39.25 39.5  39.75\n",
      " 40.   40.25 40.5  40.75 41.   41.25 41.5  41.75 42.   42.25 42.5  42.75\n",
      " 43.   43.25 43.5  43.75 44.   44.25 44.5  44.75 45.  ]\n",
      "only using indices for lower-triangular matrix\n",
      "Connectivity computation...\n",
      "   Processing epoch 1 / 1 ...\n"
     ]
    },
    {
     "name": "stderr",
     "output_type": "stream",
     "text": [
      "/Users/jakubblaha/Documents/thesis/thesis-python/main.py:111: RuntimeWarning: There were no Annotations stored in <EpochsArray | 1 events (all good), 0 – 14.992 s (baseline off), ~225 kB, data loaded,\n",
      " '1': 1>, so metadata was not modified.\n",
      "  res = mne_connectivity.spectral_connectivity_time(\n"
     ]
    },
    {
     "name": "stdout",
     "output_type": "stream",
     "text": [
      "[Connectivity computation done]\n",
      "56\n",
      "[ 4.    4.25  4.5   4.75  5.    5.25  5.5   5.75  6.    6.25  6.5   6.75\n",
      "  7.    7.25  7.5   7.75  8.    8.25  8.5   8.75  9.    9.25  9.5   9.75\n",
      " 10.   10.25 10.5  10.75 11.   11.25 11.5  11.75 12.   12.25 12.5  12.75\n",
      " 13.   13.25 13.5  13.75 14.   14.25 14.5  14.75 15.   15.25 15.5  15.75\n",
      " 16.   16.25 16.5  16.75 17.   17.25 17.5  17.75 18.   18.25 18.5  18.75\n",
      " 19.   19.25 19.5  19.75 20.   20.25 20.5  20.75 21.   21.25 21.5  21.75\n",
      " 22.   22.25 22.5  22.75 23.   23.25 23.5  23.75 24.   24.25 24.5  24.75\n",
      " 25.   25.25 25.5  25.75 26.   26.25 26.5  26.75 27.   27.25 27.5  27.75\n",
      " 28.   28.25 28.5  28.75 29.   29.25 29.5  29.75 30.   30.25 30.5  30.75\n",
      " 31.   31.25 31.5  31.75 32.   32.25 32.5  32.75 33.   33.25 33.5  33.75\n",
      " 34.   34.25 34.5  34.75 35.   35.25 35.5  35.75 36.   36.25 36.5  36.75\n",
      " 37.   37.25 37.5  37.75 38.   38.25 38.5  38.75 39.   39.25 39.5  39.75\n",
      " 40.   40.25 40.5  40.75 41.   41.25 41.5  41.75 42.   42.25 42.5  42.75\n",
      " 43.   43.25 43.5  43.75 44.   44.25 44.5  44.75 45.  ]\n",
      "only using indices for lower-triangular matrix\n",
      "Connectivity computation...\n",
      "   Processing epoch 1 / 1 ...\n"
     ]
    },
    {
     "name": "stderr",
     "output_type": "stream",
     "text": [
      "/Users/jakubblaha/Documents/thesis/thesis-python/main.py:111: RuntimeWarning: There were no Annotations stored in <EpochsArray | 1 events (all good), 0 – 14.992 s (baseline off), ~225 kB, data loaded,\n",
      " '1': 1>, so metadata was not modified.\n",
      "  res = mne_connectivity.spectral_connectivity_time(\n"
     ]
    },
    {
     "name": "stdout",
     "output_type": "stream",
     "text": [
      "[Connectivity computation done]\n",
      "57\n",
      "[ 4.    4.25  4.5   4.75  5.    5.25  5.5   5.75  6.    6.25  6.5   6.75\n",
      "  7.    7.25  7.5   7.75  8.    8.25  8.5   8.75  9.    9.25  9.5   9.75\n",
      " 10.   10.25 10.5  10.75 11.   11.25 11.5  11.75 12.   12.25 12.5  12.75\n",
      " 13.   13.25 13.5  13.75 14.   14.25 14.5  14.75 15.   15.25 15.5  15.75\n",
      " 16.   16.25 16.5  16.75 17.   17.25 17.5  17.75 18.   18.25 18.5  18.75\n",
      " 19.   19.25 19.5  19.75 20.   20.25 20.5  20.75 21.   21.25 21.5  21.75\n",
      " 22.   22.25 22.5  22.75 23.   23.25 23.5  23.75 24.   24.25 24.5  24.75\n",
      " 25.   25.25 25.5  25.75 26.   26.25 26.5  26.75 27.   27.25 27.5  27.75\n",
      " 28.   28.25 28.5  28.75 29.   29.25 29.5  29.75 30.   30.25 30.5  30.75\n",
      " 31.   31.25 31.5  31.75 32.   32.25 32.5  32.75 33.   33.25 33.5  33.75\n",
      " 34.   34.25 34.5  34.75 35.   35.25 35.5  35.75 36.   36.25 36.5  36.75\n",
      " 37.   37.25 37.5  37.75 38.   38.25 38.5  38.75 39.   39.25 39.5  39.75\n",
      " 40.   40.25 40.5  40.75 41.   41.25 41.5  41.75 42.   42.25 42.5  42.75\n",
      " 43.   43.25 43.5  43.75 44.   44.25 44.5  44.75 45.  ]\n",
      "only using indices for lower-triangular matrix\n",
      "Connectivity computation...\n",
      "   Processing epoch 1 / 1 ...\n"
     ]
    },
    {
     "name": "stderr",
     "output_type": "stream",
     "text": [
      "/Users/jakubblaha/Documents/thesis/thesis-python/main.py:111: RuntimeWarning: There were no Annotations stored in <EpochsArray | 1 events (all good), 0 – 14.992 s (baseline off), ~225 kB, data loaded,\n",
      " '1': 1>, so metadata was not modified.\n",
      "  res = mne_connectivity.spectral_connectivity_time(\n"
     ]
    },
    {
     "name": "stdout",
     "output_type": "stream",
     "text": [
      "[Connectivity computation done]\n",
      "58\n",
      "[ 4.    4.25  4.5   4.75  5.    5.25  5.5   5.75  6.    6.25  6.5   6.75\n",
      "  7.    7.25  7.5   7.75  8.    8.25  8.5   8.75  9.    9.25  9.5   9.75\n",
      " 10.   10.25 10.5  10.75 11.   11.25 11.5  11.75 12.   12.25 12.5  12.75\n",
      " 13.   13.25 13.5  13.75 14.   14.25 14.5  14.75 15.   15.25 15.5  15.75\n",
      " 16.   16.25 16.5  16.75 17.   17.25 17.5  17.75 18.   18.25 18.5  18.75\n",
      " 19.   19.25 19.5  19.75 20.   20.25 20.5  20.75 21.   21.25 21.5  21.75\n",
      " 22.   22.25 22.5  22.75 23.   23.25 23.5  23.75 24.   24.25 24.5  24.75\n",
      " 25.   25.25 25.5  25.75 26.   26.25 26.5  26.75 27.   27.25 27.5  27.75\n",
      " 28.   28.25 28.5  28.75 29.   29.25 29.5  29.75 30.   30.25 30.5  30.75\n",
      " 31.   31.25 31.5  31.75 32.   32.25 32.5  32.75 33.   33.25 33.5  33.75\n",
      " 34.   34.25 34.5  34.75 35.   35.25 35.5  35.75 36.   36.25 36.5  36.75\n",
      " 37.   37.25 37.5  37.75 38.   38.25 38.5  38.75 39.   39.25 39.5  39.75\n",
      " 40.   40.25 40.5  40.75 41.   41.25 41.5  41.75 42.   42.25 42.5  42.75\n",
      " 43.   43.25 43.5  43.75 44.   44.25 44.5  44.75 45.  ]\n",
      "only using indices for lower-triangular matrix\n",
      "Connectivity computation...\n",
      "   Processing epoch 1 / 1 ...\n"
     ]
    },
    {
     "name": "stderr",
     "output_type": "stream",
     "text": [
      "/Users/jakubblaha/Documents/thesis/thesis-python/main.py:111: RuntimeWarning: There were no Annotations stored in <EpochsArray | 1 events (all good), 0 – 14.992 s (baseline off), ~225 kB, data loaded,\n",
      " '1': 1>, so metadata was not modified.\n",
      "  res = mne_connectivity.spectral_connectivity_time(\n"
     ]
    },
    {
     "name": "stdout",
     "output_type": "stream",
     "text": [
      "[Connectivity computation done]\n",
      "59\n",
      "[ 4.    4.25  4.5   4.75  5.    5.25  5.5   5.75  6.    6.25  6.5   6.75\n",
      "  7.    7.25  7.5   7.75  8.    8.25  8.5   8.75  9.    9.25  9.5   9.75\n",
      " 10.   10.25 10.5  10.75 11.   11.25 11.5  11.75 12.   12.25 12.5  12.75\n",
      " 13.   13.25 13.5  13.75 14.   14.25 14.5  14.75 15.   15.25 15.5  15.75\n",
      " 16.   16.25 16.5  16.75 17.   17.25 17.5  17.75 18.   18.25 18.5  18.75\n",
      " 19.   19.25 19.5  19.75 20.   20.25 20.5  20.75 21.   21.25 21.5  21.75\n",
      " 22.   22.25 22.5  22.75 23.   23.25 23.5  23.75 24.   24.25 24.5  24.75\n",
      " 25.   25.25 25.5  25.75 26.   26.25 26.5  26.75 27.   27.25 27.5  27.75\n",
      " 28.   28.25 28.5  28.75 29.   29.25 29.5  29.75 30.   30.25 30.5  30.75\n",
      " 31.   31.25 31.5  31.75 32.   32.25 32.5  32.75 33.   33.25 33.5  33.75\n",
      " 34.   34.25 34.5  34.75 35.   35.25 35.5  35.75 36.   36.25 36.5  36.75\n",
      " 37.   37.25 37.5  37.75 38.   38.25 38.5  38.75 39.   39.25 39.5  39.75\n",
      " 40.   40.25 40.5  40.75 41.   41.25 41.5  41.75 42.   42.25 42.5  42.75\n",
      " 43.   43.25 43.5  43.75 44.   44.25 44.5  44.75 45.  ]\n",
      "only using indices for lower-triangular matrix\n",
      "Connectivity computation...\n",
      "   Processing epoch 1 / 1 ...\n"
     ]
    },
    {
     "name": "stderr",
     "output_type": "stream",
     "text": [
      "/Users/jakubblaha/Documents/thesis/thesis-python/main.py:111: RuntimeWarning: There were no Annotations stored in <EpochsArray | 1 events (all good), 0 – 14.992 s (baseline off), ~225 kB, data loaded,\n",
      " '1': 1>, so metadata was not modified.\n",
      "  res = mne_connectivity.spectral_connectivity_time(\n"
     ]
    },
    {
     "name": "stdout",
     "output_type": "stream",
     "text": [
      "[Connectivity computation done]\n",
      "60\n",
      "[ 4.    4.25  4.5   4.75  5.    5.25  5.5   5.75  6.    6.25  6.5   6.75\n",
      "  7.    7.25  7.5   7.75  8.    8.25  8.5   8.75  9.    9.25  9.5   9.75\n",
      " 10.   10.25 10.5  10.75 11.   11.25 11.5  11.75 12.   12.25 12.5  12.75\n",
      " 13.   13.25 13.5  13.75 14.   14.25 14.5  14.75 15.   15.25 15.5  15.75\n",
      " 16.   16.25 16.5  16.75 17.   17.25 17.5  17.75 18.   18.25 18.5  18.75\n",
      " 19.   19.25 19.5  19.75 20.   20.25 20.5  20.75 21.   21.25 21.5  21.75\n",
      " 22.   22.25 22.5  22.75 23.   23.25 23.5  23.75 24.   24.25 24.5  24.75\n",
      " 25.   25.25 25.5  25.75 26.   26.25 26.5  26.75 27.   27.25 27.5  27.75\n",
      " 28.   28.25 28.5  28.75 29.   29.25 29.5  29.75 30.   30.25 30.5  30.75\n",
      " 31.   31.25 31.5  31.75 32.   32.25 32.5  32.75 33.   33.25 33.5  33.75\n",
      " 34.   34.25 34.5  34.75 35.   35.25 35.5  35.75 36.   36.25 36.5  36.75\n",
      " 37.   37.25 37.5  37.75 38.   38.25 38.5  38.75 39.   39.25 39.5  39.75\n",
      " 40.   40.25 40.5  40.75 41.   41.25 41.5  41.75 42.   42.25 42.5  42.75\n",
      " 43.   43.25 43.5  43.75 44.   44.25 44.5  44.75 45.  ]\n",
      "only using indices for lower-triangular matrix\n",
      "Connectivity computation...\n",
      "   Processing epoch 1 / 1 ...\n"
     ]
    },
    {
     "name": "stderr",
     "output_type": "stream",
     "text": [
      "/Users/jakubblaha/Documents/thesis/thesis-python/main.py:111: RuntimeWarning: There were no Annotations stored in <EpochsArray | 1 events (all good), 0 – 14.992 s (baseline off), ~225 kB, data loaded,\n",
      " '1': 1>, so metadata was not modified.\n",
      "  res = mne_connectivity.spectral_connectivity_time(\n"
     ]
    },
    {
     "name": "stdout",
     "output_type": "stream",
     "text": [
      "[Connectivity computation done]\n",
      "61\n",
      "[ 4.    4.25  4.5   4.75  5.    5.25  5.5   5.75  6.    6.25  6.5   6.75\n",
      "  7.    7.25  7.5   7.75  8.    8.25  8.5   8.75  9.    9.25  9.5   9.75\n",
      " 10.   10.25 10.5  10.75 11.   11.25 11.5  11.75 12.   12.25 12.5  12.75\n",
      " 13.   13.25 13.5  13.75 14.   14.25 14.5  14.75 15.   15.25 15.5  15.75\n",
      " 16.   16.25 16.5  16.75 17.   17.25 17.5  17.75 18.   18.25 18.5  18.75\n",
      " 19.   19.25 19.5  19.75 20.   20.25 20.5  20.75 21.   21.25 21.5  21.75\n",
      " 22.   22.25 22.5  22.75 23.   23.25 23.5  23.75 24.   24.25 24.5  24.75\n",
      " 25.   25.25 25.5  25.75 26.   26.25 26.5  26.75 27.   27.25 27.5  27.75\n",
      " 28.   28.25 28.5  28.75 29.   29.25 29.5  29.75 30.   30.25 30.5  30.75\n",
      " 31.   31.25 31.5  31.75 32.   32.25 32.5  32.75 33.   33.25 33.5  33.75\n",
      " 34.   34.25 34.5  34.75 35.   35.25 35.5  35.75 36.   36.25 36.5  36.75\n",
      " 37.   37.25 37.5  37.75 38.   38.25 38.5  38.75 39.   39.25 39.5  39.75\n",
      " 40.   40.25 40.5  40.75 41.   41.25 41.5  41.75 42.   42.25 42.5  42.75\n",
      " 43.   43.25 43.5  43.75 44.   44.25 44.5  44.75 45.  ]\n",
      "only using indices for lower-triangular matrix\n",
      "Connectivity computation...\n",
      "   Processing epoch 1 / 1 ...\n"
     ]
    },
    {
     "name": "stderr",
     "output_type": "stream",
     "text": [
      "/Users/jakubblaha/Documents/thesis/thesis-python/main.py:111: RuntimeWarning: There were no Annotations stored in <EpochsArray | 1 events (all good), 0 – 14.992 s (baseline off), ~225 kB, data loaded,\n",
      " '1': 1>, so metadata was not modified.\n",
      "  res = mne_connectivity.spectral_connectivity_time(\n"
     ]
    },
    {
     "name": "stdout",
     "output_type": "stream",
     "text": [
      "[Connectivity computation done]\n",
      "62\n",
      "[ 4.    4.25  4.5   4.75  5.    5.25  5.5   5.75  6.    6.25  6.5   6.75\n",
      "  7.    7.25  7.5   7.75  8.    8.25  8.5   8.75  9.    9.25  9.5   9.75\n",
      " 10.   10.25 10.5  10.75 11.   11.25 11.5  11.75 12.   12.25 12.5  12.75\n",
      " 13.   13.25 13.5  13.75 14.   14.25 14.5  14.75 15.   15.25 15.5  15.75\n",
      " 16.   16.25 16.5  16.75 17.   17.25 17.5  17.75 18.   18.25 18.5  18.75\n",
      " 19.   19.25 19.5  19.75 20.   20.25 20.5  20.75 21.   21.25 21.5  21.75\n",
      " 22.   22.25 22.5  22.75 23.   23.25 23.5  23.75 24.   24.25 24.5  24.75\n",
      " 25.   25.25 25.5  25.75 26.   26.25 26.5  26.75 27.   27.25 27.5  27.75\n",
      " 28.   28.25 28.5  28.75 29.   29.25 29.5  29.75 30.   30.25 30.5  30.75\n",
      " 31.   31.25 31.5  31.75 32.   32.25 32.5  32.75 33.   33.25 33.5  33.75\n",
      " 34.   34.25 34.5  34.75 35.   35.25 35.5  35.75 36.   36.25 36.5  36.75\n",
      " 37.   37.25 37.5  37.75 38.   38.25 38.5  38.75 39.   39.25 39.5  39.75\n",
      " 40.   40.25 40.5  40.75 41.   41.25 41.5  41.75 42.   42.25 42.5  42.75\n",
      " 43.   43.25 43.5  43.75 44.   44.25 44.5  44.75 45.  ]\n",
      "only using indices for lower-triangular matrix\n",
      "Connectivity computation...\n",
      "   Processing epoch 1 / 1 ...\n"
     ]
    },
    {
     "name": "stderr",
     "output_type": "stream",
     "text": [
      "/Users/jakubblaha/Documents/thesis/thesis-python/main.py:111: RuntimeWarning: There were no Annotations stored in <EpochsArray | 1 events (all good), 0 – 14.992 s (baseline off), ~225 kB, data loaded,\n",
      " '1': 1>, so metadata was not modified.\n",
      "  res = mne_connectivity.spectral_connectivity_time(\n"
     ]
    },
    {
     "name": "stdout",
     "output_type": "stream",
     "text": [
      "[Connectivity computation done]\n",
      "63\n",
      "[ 4.    4.25  4.5   4.75  5.    5.25  5.5   5.75  6.    6.25  6.5   6.75\n",
      "  7.    7.25  7.5   7.75  8.    8.25  8.5   8.75  9.    9.25  9.5   9.75\n",
      " 10.   10.25 10.5  10.75 11.   11.25 11.5  11.75 12.   12.25 12.5  12.75\n",
      " 13.   13.25 13.5  13.75 14.   14.25 14.5  14.75 15.   15.25 15.5  15.75\n",
      " 16.   16.25 16.5  16.75 17.   17.25 17.5  17.75 18.   18.25 18.5  18.75\n",
      " 19.   19.25 19.5  19.75 20.   20.25 20.5  20.75 21.   21.25 21.5  21.75\n",
      " 22.   22.25 22.5  22.75 23.   23.25 23.5  23.75 24.   24.25 24.5  24.75\n",
      " 25.   25.25 25.5  25.75 26.   26.25 26.5  26.75 27.   27.25 27.5  27.75\n",
      " 28.   28.25 28.5  28.75 29.   29.25 29.5  29.75 30.   30.25 30.5  30.75\n",
      " 31.   31.25 31.5  31.75 32.   32.25 32.5  32.75 33.   33.25 33.5  33.75\n",
      " 34.   34.25 34.5  34.75 35.   35.25 35.5  35.75 36.   36.25 36.5  36.75\n",
      " 37.   37.25 37.5  37.75 38.   38.25 38.5  38.75 39.   39.25 39.5  39.75\n",
      " 40.   40.25 40.5  40.75 41.   41.25 41.5  41.75 42.   42.25 42.5  42.75\n",
      " 43.   43.25 43.5  43.75 44.   44.25 44.5  44.75 45.  ]\n",
      "only using indices for lower-triangular matrix\n",
      "Connectivity computation...\n",
      "   Processing epoch 1 / 1 ...\n"
     ]
    },
    {
     "name": "stderr",
     "output_type": "stream",
     "text": [
      "/Users/jakubblaha/Documents/thesis/thesis-python/main.py:111: RuntimeWarning: There were no Annotations stored in <EpochsArray | 1 events (all good), 0 – 14.992 s (baseline off), ~225 kB, data loaded,\n",
      " '1': 1>, so metadata was not modified.\n",
      "  res = mne_connectivity.spectral_connectivity_time(\n"
     ]
    },
    {
     "name": "stdout",
     "output_type": "stream",
     "text": [
      "[Connectivity computation done]\n",
      "64\n",
      "[ 4.    4.25  4.5   4.75  5.    5.25  5.5   5.75  6.    6.25  6.5   6.75\n",
      "  7.    7.25  7.5   7.75  8.    8.25  8.5   8.75  9.    9.25  9.5   9.75\n",
      " 10.   10.25 10.5  10.75 11.   11.25 11.5  11.75 12.   12.25 12.5  12.75\n",
      " 13.   13.25 13.5  13.75 14.   14.25 14.5  14.75 15.   15.25 15.5  15.75\n",
      " 16.   16.25 16.5  16.75 17.   17.25 17.5  17.75 18.   18.25 18.5  18.75\n",
      " 19.   19.25 19.5  19.75 20.   20.25 20.5  20.75 21.   21.25 21.5  21.75\n",
      " 22.   22.25 22.5  22.75 23.   23.25 23.5  23.75 24.   24.25 24.5  24.75\n",
      " 25.   25.25 25.5  25.75 26.   26.25 26.5  26.75 27.   27.25 27.5  27.75\n",
      " 28.   28.25 28.5  28.75 29.   29.25 29.5  29.75 30.   30.25 30.5  30.75\n",
      " 31.   31.25 31.5  31.75 32.   32.25 32.5  32.75 33.   33.25 33.5  33.75\n",
      " 34.   34.25 34.5  34.75 35.   35.25 35.5  35.75 36.   36.25 36.5  36.75\n",
      " 37.   37.25 37.5  37.75 38.   38.25 38.5  38.75 39.   39.25 39.5  39.75\n",
      " 40.   40.25 40.5  40.75 41.   41.25 41.5  41.75 42.   42.25 42.5  42.75\n",
      " 43.   43.25 43.5  43.75 44.   44.25 44.5  44.75 45.  ]\n",
      "only using indices for lower-triangular matrix\n",
      "Connectivity computation...\n",
      "   Processing epoch 1 / 1 ...\n"
     ]
    },
    {
     "name": "stderr",
     "output_type": "stream",
     "text": [
      "/Users/jakubblaha/Documents/thesis/thesis-python/main.py:111: RuntimeWarning: There were no Annotations stored in <EpochsArray | 1 events (all good), 0 – 14.992 s (baseline off), ~225 kB, data loaded,\n",
      " '1': 1>, so metadata was not modified.\n",
      "  res = mne_connectivity.spectral_connectivity_time(\n"
     ]
    },
    {
     "name": "stdout",
     "output_type": "stream",
     "text": [
      "[Connectivity computation done]\n",
      "65\n",
      "[ 4.    4.25  4.5   4.75  5.    5.25  5.5   5.75  6.    6.25  6.5   6.75\n",
      "  7.    7.25  7.5   7.75  8.    8.25  8.5   8.75  9.    9.25  9.5   9.75\n",
      " 10.   10.25 10.5  10.75 11.   11.25 11.5  11.75 12.   12.25 12.5  12.75\n",
      " 13.   13.25 13.5  13.75 14.   14.25 14.5  14.75 15.   15.25 15.5  15.75\n",
      " 16.   16.25 16.5  16.75 17.   17.25 17.5  17.75 18.   18.25 18.5  18.75\n",
      " 19.   19.25 19.5  19.75 20.   20.25 20.5  20.75 21.   21.25 21.5  21.75\n",
      " 22.   22.25 22.5  22.75 23.   23.25 23.5  23.75 24.   24.25 24.5  24.75\n",
      " 25.   25.25 25.5  25.75 26.   26.25 26.5  26.75 27.   27.25 27.5  27.75\n",
      " 28.   28.25 28.5  28.75 29.   29.25 29.5  29.75 30.   30.25 30.5  30.75\n",
      " 31.   31.25 31.5  31.75 32.   32.25 32.5  32.75 33.   33.25 33.5  33.75\n",
      " 34.   34.25 34.5  34.75 35.   35.25 35.5  35.75 36.   36.25 36.5  36.75\n",
      " 37.   37.25 37.5  37.75 38.   38.25 38.5  38.75 39.   39.25 39.5  39.75\n",
      " 40.   40.25 40.5  40.75 41.   41.25 41.5  41.75 42.   42.25 42.5  42.75\n",
      " 43.   43.25 43.5  43.75 44.   44.25 44.5  44.75 45.  ]\n",
      "only using indices for lower-triangular matrix\n",
      "Connectivity computation...\n",
      "   Processing epoch 1 / 1 ...\n"
     ]
    },
    {
     "name": "stderr",
     "output_type": "stream",
     "text": [
      "/Users/jakubblaha/Documents/thesis/thesis-python/main.py:111: RuntimeWarning: There were no Annotations stored in <EpochsArray | 1 events (all good), 0 – 14.992 s (baseline off), ~225 kB, data loaded,\n",
      " '1': 1>, so metadata was not modified.\n",
      "  res = mne_connectivity.spectral_connectivity_time(\n"
     ]
    },
    {
     "name": "stdout",
     "output_type": "stream",
     "text": [
      "[Connectivity computation done]\n",
      "66\n",
      "[ 4.    4.25  4.5   4.75  5.    5.25  5.5   5.75  6.    6.25  6.5   6.75\n",
      "  7.    7.25  7.5   7.75  8.    8.25  8.5   8.75  9.    9.25  9.5   9.75\n",
      " 10.   10.25 10.5  10.75 11.   11.25 11.5  11.75 12.   12.25 12.5  12.75\n",
      " 13.   13.25 13.5  13.75 14.   14.25 14.5  14.75 15.   15.25 15.5  15.75\n",
      " 16.   16.25 16.5  16.75 17.   17.25 17.5  17.75 18.   18.25 18.5  18.75\n",
      " 19.   19.25 19.5  19.75 20.   20.25 20.5  20.75 21.   21.25 21.5  21.75\n",
      " 22.   22.25 22.5  22.75 23.   23.25 23.5  23.75 24.   24.25 24.5  24.75\n",
      " 25.   25.25 25.5  25.75 26.   26.25 26.5  26.75 27.   27.25 27.5  27.75\n",
      " 28.   28.25 28.5  28.75 29.   29.25 29.5  29.75 30.   30.25 30.5  30.75\n",
      " 31.   31.25 31.5  31.75 32.   32.25 32.5  32.75 33.   33.25 33.5  33.75\n",
      " 34.   34.25 34.5  34.75 35.   35.25 35.5  35.75 36.   36.25 36.5  36.75\n",
      " 37.   37.25 37.5  37.75 38.   38.25 38.5  38.75 39.   39.25 39.5  39.75\n",
      " 40.   40.25 40.5  40.75 41.   41.25 41.5  41.75 42.   42.25 42.5  42.75\n",
      " 43.   43.25 43.5  43.75 44.   44.25 44.5  44.75 45.  ]\n",
      "only using indices for lower-triangular matrix\n",
      "Connectivity computation...\n",
      "   Processing epoch 1 / 1 ...\n"
     ]
    },
    {
     "name": "stderr",
     "output_type": "stream",
     "text": [
      "/Users/jakubblaha/Documents/thesis/thesis-python/main.py:111: RuntimeWarning: There were no Annotations stored in <EpochsArray | 1 events (all good), 0 – 14.992 s (baseline off), ~225 kB, data loaded,\n",
      " '1': 1>, so metadata was not modified.\n",
      "  res = mne_connectivity.spectral_connectivity_time(\n"
     ]
    },
    {
     "name": "stdout",
     "output_type": "stream",
     "text": [
      "[Connectivity computation done]\n",
      "67\n",
      "[ 4.    4.25  4.5   4.75  5.    5.25  5.5   5.75  6.    6.25  6.5   6.75\n",
      "  7.    7.25  7.5   7.75  8.    8.25  8.5   8.75  9.    9.25  9.5   9.75\n",
      " 10.   10.25 10.5  10.75 11.   11.25 11.5  11.75 12.   12.25 12.5  12.75\n",
      " 13.   13.25 13.5  13.75 14.   14.25 14.5  14.75 15.   15.25 15.5  15.75\n",
      " 16.   16.25 16.5  16.75 17.   17.25 17.5  17.75 18.   18.25 18.5  18.75\n",
      " 19.   19.25 19.5  19.75 20.   20.25 20.5  20.75 21.   21.25 21.5  21.75\n",
      " 22.   22.25 22.5  22.75 23.   23.25 23.5  23.75 24.   24.25 24.5  24.75\n",
      " 25.   25.25 25.5  25.75 26.   26.25 26.5  26.75 27.   27.25 27.5  27.75\n",
      " 28.   28.25 28.5  28.75 29.   29.25 29.5  29.75 30.   30.25 30.5  30.75\n",
      " 31.   31.25 31.5  31.75 32.   32.25 32.5  32.75 33.   33.25 33.5  33.75\n",
      " 34.   34.25 34.5  34.75 35.   35.25 35.5  35.75 36.   36.25 36.5  36.75\n",
      " 37.   37.25 37.5  37.75 38.   38.25 38.5  38.75 39.   39.25 39.5  39.75\n",
      " 40.   40.25 40.5  40.75 41.   41.25 41.5  41.75 42.   42.25 42.5  42.75\n",
      " 43.   43.25 43.5  43.75 44.   44.25 44.5  44.75 45.  ]\n",
      "only using indices for lower-triangular matrix\n",
      "Connectivity computation...\n",
      "   Processing epoch 1 / 1 ...\n"
     ]
    },
    {
     "name": "stderr",
     "output_type": "stream",
     "text": [
      "/Users/jakubblaha/Documents/thesis/thesis-python/main.py:111: RuntimeWarning: There were no Annotations stored in <EpochsArray | 1 events (all good), 0 – 14.992 s (baseline off), ~225 kB, data loaded,\n",
      " '1': 1>, so metadata was not modified.\n",
      "  res = mne_connectivity.spectral_connectivity_time(\n"
     ]
    },
    {
     "name": "stdout",
     "output_type": "stream",
     "text": [
      "[Connectivity computation done]\n",
      "68\n",
      "[ 4.    4.25  4.5   4.75  5.    5.25  5.5   5.75  6.    6.25  6.5   6.75\n",
      "  7.    7.25  7.5   7.75  8.    8.25  8.5   8.75  9.    9.25  9.5   9.75\n",
      " 10.   10.25 10.5  10.75 11.   11.25 11.5  11.75 12.   12.25 12.5  12.75\n",
      " 13.   13.25 13.5  13.75 14.   14.25 14.5  14.75 15.   15.25 15.5  15.75\n",
      " 16.   16.25 16.5  16.75 17.   17.25 17.5  17.75 18.   18.25 18.5  18.75\n",
      " 19.   19.25 19.5  19.75 20.   20.25 20.5  20.75 21.   21.25 21.5  21.75\n",
      " 22.   22.25 22.5  22.75 23.   23.25 23.5  23.75 24.   24.25 24.5  24.75\n",
      " 25.   25.25 25.5  25.75 26.   26.25 26.5  26.75 27.   27.25 27.5  27.75\n",
      " 28.   28.25 28.5  28.75 29.   29.25 29.5  29.75 30.   30.25 30.5  30.75\n",
      " 31.   31.25 31.5  31.75 32.   32.25 32.5  32.75 33.   33.25 33.5  33.75\n",
      " 34.   34.25 34.5  34.75 35.   35.25 35.5  35.75 36.   36.25 36.5  36.75\n",
      " 37.   37.25 37.5  37.75 38.   38.25 38.5  38.75 39.   39.25 39.5  39.75\n",
      " 40.   40.25 40.5  40.75 41.   41.25 41.5  41.75 42.   42.25 42.5  42.75\n",
      " 43.   43.25 43.5  43.75 44.   44.25 44.5  44.75 45.  ]\n",
      "only using indices for lower-triangular matrix\n",
      "Connectivity computation...\n",
      "   Processing epoch 1 / 1 ...\n"
     ]
    },
    {
     "name": "stderr",
     "output_type": "stream",
     "text": [
      "/Users/jakubblaha/Documents/thesis/thesis-python/main.py:111: RuntimeWarning: There were no Annotations stored in <EpochsArray | 1 events (all good), 0 – 14.992 s (baseline off), ~225 kB, data loaded,\n",
      " '1': 1>, so metadata was not modified.\n",
      "  res = mne_connectivity.spectral_connectivity_time(\n"
     ]
    },
    {
     "name": "stdout",
     "output_type": "stream",
     "text": [
      "[Connectivity computation done]\n",
      "69\n",
      "[ 4.    4.25  4.5   4.75  5.    5.25  5.5   5.75  6.    6.25  6.5   6.75\n",
      "  7.    7.25  7.5   7.75  8.    8.25  8.5   8.75  9.    9.25  9.5   9.75\n",
      " 10.   10.25 10.5  10.75 11.   11.25 11.5  11.75 12.   12.25 12.5  12.75\n",
      " 13.   13.25 13.5  13.75 14.   14.25 14.5  14.75 15.   15.25 15.5  15.75\n",
      " 16.   16.25 16.5  16.75 17.   17.25 17.5  17.75 18.   18.25 18.5  18.75\n",
      " 19.   19.25 19.5  19.75 20.   20.25 20.5  20.75 21.   21.25 21.5  21.75\n",
      " 22.   22.25 22.5  22.75 23.   23.25 23.5  23.75 24.   24.25 24.5  24.75\n",
      " 25.   25.25 25.5  25.75 26.   26.25 26.5  26.75 27.   27.25 27.5  27.75\n",
      " 28.   28.25 28.5  28.75 29.   29.25 29.5  29.75 30.   30.25 30.5  30.75\n",
      " 31.   31.25 31.5  31.75 32.   32.25 32.5  32.75 33.   33.25 33.5  33.75\n",
      " 34.   34.25 34.5  34.75 35.   35.25 35.5  35.75 36.   36.25 36.5  36.75\n",
      " 37.   37.25 37.5  37.75 38.   38.25 38.5  38.75 39.   39.25 39.5  39.75\n",
      " 40.   40.25 40.5  40.75 41.   41.25 41.5  41.75 42.   42.25 42.5  42.75\n",
      " 43.   43.25 43.5  43.75 44.   44.25 44.5  44.75 45.  ]\n",
      "only using indices for lower-triangular matrix\n",
      "Connectivity computation...\n",
      "   Processing epoch 1 / 1 ...\n"
     ]
    },
    {
     "name": "stderr",
     "output_type": "stream",
     "text": [
      "/Users/jakubblaha/Documents/thesis/thesis-python/main.py:111: RuntimeWarning: There were no Annotations stored in <EpochsArray | 1 events (all good), 0 – 14.992 s (baseline off), ~225 kB, data loaded,\n",
      " '1': 1>, so metadata was not modified.\n",
      "  res = mne_connectivity.spectral_connectivity_time(\n"
     ]
    },
    {
     "name": "stdout",
     "output_type": "stream",
     "text": [
      "[Connectivity computation done]\n",
      "70\n",
      "[ 4.    4.25  4.5   4.75  5.    5.25  5.5   5.75  6.    6.25  6.5   6.75\n",
      "  7.    7.25  7.5   7.75  8.    8.25  8.5   8.75  9.    9.25  9.5   9.75\n",
      " 10.   10.25 10.5  10.75 11.   11.25 11.5  11.75 12.   12.25 12.5  12.75\n",
      " 13.   13.25 13.5  13.75 14.   14.25 14.5  14.75 15.   15.25 15.5  15.75\n",
      " 16.   16.25 16.5  16.75 17.   17.25 17.5  17.75 18.   18.25 18.5  18.75\n",
      " 19.   19.25 19.5  19.75 20.   20.25 20.5  20.75 21.   21.25 21.5  21.75\n",
      " 22.   22.25 22.5  22.75 23.   23.25 23.5  23.75 24.   24.25 24.5  24.75\n",
      " 25.   25.25 25.5  25.75 26.   26.25 26.5  26.75 27.   27.25 27.5  27.75\n",
      " 28.   28.25 28.5  28.75 29.   29.25 29.5  29.75 30.   30.25 30.5  30.75\n",
      " 31.   31.25 31.5  31.75 32.   32.25 32.5  32.75 33.   33.25 33.5  33.75\n",
      " 34.   34.25 34.5  34.75 35.   35.25 35.5  35.75 36.   36.25 36.5  36.75\n",
      " 37.   37.25 37.5  37.75 38.   38.25 38.5  38.75 39.   39.25 39.5  39.75\n",
      " 40.   40.25 40.5  40.75 41.   41.25 41.5  41.75 42.   42.25 42.5  42.75\n",
      " 43.   43.25 43.5  43.75 44.   44.25 44.5  44.75 45.  ]\n",
      "only using indices for lower-triangular matrix\n",
      "Connectivity computation...\n",
      "   Processing epoch 1 / 1 ...\n"
     ]
    },
    {
     "name": "stderr",
     "output_type": "stream",
     "text": [
      "/Users/jakubblaha/Documents/thesis/thesis-python/main.py:111: RuntimeWarning: There were no Annotations stored in <EpochsArray | 1 events (all good), 0 – 14.992 s (baseline off), ~225 kB, data loaded,\n",
      " '1': 1>, so metadata was not modified.\n",
      "  res = mne_connectivity.spectral_connectivity_time(\n"
     ]
    },
    {
     "name": "stdout",
     "output_type": "stream",
     "text": [
      "[Connectivity computation done]\n",
      "71\n",
      "[ 4.    4.25  4.5   4.75  5.    5.25  5.5   5.75  6.    6.25  6.5   6.75\n",
      "  7.    7.25  7.5   7.75  8.    8.25  8.5   8.75  9.    9.25  9.5   9.75\n",
      " 10.   10.25 10.5  10.75 11.   11.25 11.5  11.75 12.   12.25 12.5  12.75\n",
      " 13.   13.25 13.5  13.75 14.   14.25 14.5  14.75 15.   15.25 15.5  15.75\n",
      " 16.   16.25 16.5  16.75 17.   17.25 17.5  17.75 18.   18.25 18.5  18.75\n",
      " 19.   19.25 19.5  19.75 20.   20.25 20.5  20.75 21.   21.25 21.5  21.75\n",
      " 22.   22.25 22.5  22.75 23.   23.25 23.5  23.75 24.   24.25 24.5  24.75\n",
      " 25.   25.25 25.5  25.75 26.   26.25 26.5  26.75 27.   27.25 27.5  27.75\n",
      " 28.   28.25 28.5  28.75 29.   29.25 29.5  29.75 30.   30.25 30.5  30.75\n",
      " 31.   31.25 31.5  31.75 32.   32.25 32.5  32.75 33.   33.25 33.5  33.75\n",
      " 34.   34.25 34.5  34.75 35.   35.25 35.5  35.75 36.   36.25 36.5  36.75\n",
      " 37.   37.25 37.5  37.75 38.   38.25 38.5  38.75 39.   39.25 39.5  39.75\n",
      " 40.   40.25 40.5  40.75 41.   41.25 41.5  41.75 42.   42.25 42.5  42.75\n",
      " 43.   43.25 43.5  43.75 44.   44.25 44.5  44.75 45.  ]\n",
      "only using indices for lower-triangular matrix\n",
      "Connectivity computation...\n",
      "   Processing epoch 1 / 1 ...\n"
     ]
    },
    {
     "name": "stderr",
     "output_type": "stream",
     "text": [
      "/Users/jakubblaha/Documents/thesis/thesis-python/main.py:111: RuntimeWarning: There were no Annotations stored in <EpochsArray | 1 events (all good), 0 – 14.992 s (baseline off), ~225 kB, data loaded,\n",
      " '1': 1>, so metadata was not modified.\n",
      "  res = mne_connectivity.spectral_connectivity_time(\n"
     ]
    },
    {
     "name": "stdout",
     "output_type": "stream",
     "text": [
      "[Connectivity computation done]\n",
      "72\n",
      "[ 4.    4.25  4.5   4.75  5.    5.25  5.5   5.75  6.    6.25  6.5   6.75\n",
      "  7.    7.25  7.5   7.75  8.    8.25  8.5   8.75  9.    9.25  9.5   9.75\n",
      " 10.   10.25 10.5  10.75 11.   11.25 11.5  11.75 12.   12.25 12.5  12.75\n",
      " 13.   13.25 13.5  13.75 14.   14.25 14.5  14.75 15.   15.25 15.5  15.75\n",
      " 16.   16.25 16.5  16.75 17.   17.25 17.5  17.75 18.   18.25 18.5  18.75\n",
      " 19.   19.25 19.5  19.75 20.   20.25 20.5  20.75 21.   21.25 21.5  21.75\n",
      " 22.   22.25 22.5  22.75 23.   23.25 23.5  23.75 24.   24.25 24.5  24.75\n",
      " 25.   25.25 25.5  25.75 26.   26.25 26.5  26.75 27.   27.25 27.5  27.75\n",
      " 28.   28.25 28.5  28.75 29.   29.25 29.5  29.75 30.   30.25 30.5  30.75\n",
      " 31.   31.25 31.5  31.75 32.   32.25 32.5  32.75 33.   33.25 33.5  33.75\n",
      " 34.   34.25 34.5  34.75 35.   35.25 35.5  35.75 36.   36.25 36.5  36.75\n",
      " 37.   37.25 37.5  37.75 38.   38.25 38.5  38.75 39.   39.25 39.5  39.75\n",
      " 40.   40.25 40.5  40.75 41.   41.25 41.5  41.75 42.   42.25 42.5  42.75\n",
      " 43.   43.25 43.5  43.75 44.   44.25 44.5  44.75 45.  ]\n",
      "only using indices for lower-triangular matrix\n",
      "Connectivity computation...\n",
      "   Processing epoch 1 / 1 ...\n"
     ]
    },
    {
     "name": "stderr",
     "output_type": "stream",
     "text": [
      "/Users/jakubblaha/Documents/thesis/thesis-python/main.py:111: RuntimeWarning: There were no Annotations stored in <EpochsArray | 1 events (all good), 0 – 14.992 s (baseline off), ~225 kB, data loaded,\n",
      " '1': 1>, so metadata was not modified.\n",
      "  res = mne_connectivity.spectral_connectivity_time(\n"
     ]
    },
    {
     "name": "stdout",
     "output_type": "stream",
     "text": [
      "[Connectivity computation done]\n",
      "73\n",
      "[ 4.    4.25  4.5   4.75  5.    5.25  5.5   5.75  6.    6.25  6.5   6.75\n",
      "  7.    7.25  7.5   7.75  8.    8.25  8.5   8.75  9.    9.25  9.5   9.75\n",
      " 10.   10.25 10.5  10.75 11.   11.25 11.5  11.75 12.   12.25 12.5  12.75\n",
      " 13.   13.25 13.5  13.75 14.   14.25 14.5  14.75 15.   15.25 15.5  15.75\n",
      " 16.   16.25 16.5  16.75 17.   17.25 17.5  17.75 18.   18.25 18.5  18.75\n",
      " 19.   19.25 19.5  19.75 20.   20.25 20.5  20.75 21.   21.25 21.5  21.75\n",
      " 22.   22.25 22.5  22.75 23.   23.25 23.5  23.75 24.   24.25 24.5  24.75\n",
      " 25.   25.25 25.5  25.75 26.   26.25 26.5  26.75 27.   27.25 27.5  27.75\n",
      " 28.   28.25 28.5  28.75 29.   29.25 29.5  29.75 30.   30.25 30.5  30.75\n",
      " 31.   31.25 31.5  31.75 32.   32.25 32.5  32.75 33.   33.25 33.5  33.75\n",
      " 34.   34.25 34.5  34.75 35.   35.25 35.5  35.75 36.   36.25 36.5  36.75\n",
      " 37.   37.25 37.5  37.75 38.   38.25 38.5  38.75 39.   39.25 39.5  39.75\n",
      " 40.   40.25 40.5  40.75 41.   41.25 41.5  41.75 42.   42.25 42.5  42.75\n",
      " 43.   43.25 43.5  43.75 44.   44.25 44.5  44.75 45.  ]\n",
      "only using indices for lower-triangular matrix\n",
      "Connectivity computation...\n",
      "   Processing epoch 1 / 1 ...\n"
     ]
    },
    {
     "name": "stderr",
     "output_type": "stream",
     "text": [
      "/Users/jakubblaha/Documents/thesis/thesis-python/main.py:111: RuntimeWarning: There were no Annotations stored in <EpochsArray | 1 events (all good), 0 – 14.992 s (baseline off), ~225 kB, data loaded,\n",
      " '1': 1>, so metadata was not modified.\n",
      "  res = mne_connectivity.spectral_connectivity_time(\n"
     ]
    },
    {
     "name": "stdout",
     "output_type": "stream",
     "text": [
      "[Connectivity computation done]\n",
      "74\n",
      "[ 4.    4.25  4.5   4.75  5.    5.25  5.5   5.75  6.    6.25  6.5   6.75\n",
      "  7.    7.25  7.5   7.75  8.    8.25  8.5   8.75  9.    9.25  9.5   9.75\n",
      " 10.   10.25 10.5  10.75 11.   11.25 11.5  11.75 12.   12.25 12.5  12.75\n",
      " 13.   13.25 13.5  13.75 14.   14.25 14.5  14.75 15.   15.25 15.5  15.75\n",
      " 16.   16.25 16.5  16.75 17.   17.25 17.5  17.75 18.   18.25 18.5  18.75\n",
      " 19.   19.25 19.5  19.75 20.   20.25 20.5  20.75 21.   21.25 21.5  21.75\n",
      " 22.   22.25 22.5  22.75 23.   23.25 23.5  23.75 24.   24.25 24.5  24.75\n",
      " 25.   25.25 25.5  25.75 26.   26.25 26.5  26.75 27.   27.25 27.5  27.75\n",
      " 28.   28.25 28.5  28.75 29.   29.25 29.5  29.75 30.   30.25 30.5  30.75\n",
      " 31.   31.25 31.5  31.75 32.   32.25 32.5  32.75 33.   33.25 33.5  33.75\n",
      " 34.   34.25 34.5  34.75 35.   35.25 35.5  35.75 36.   36.25 36.5  36.75\n",
      " 37.   37.25 37.5  37.75 38.   38.25 38.5  38.75 39.   39.25 39.5  39.75\n",
      " 40.   40.25 40.5  40.75 41.   41.25 41.5  41.75 42.   42.25 42.5  42.75\n",
      " 43.   43.25 43.5  43.75 44.   44.25 44.5  44.75 45.  ]\n",
      "only using indices for lower-triangular matrix\n",
      "Connectivity computation...\n",
      "   Processing epoch 1 / 1 ...\n"
     ]
    },
    {
     "name": "stderr",
     "output_type": "stream",
     "text": [
      "/Users/jakubblaha/Documents/thesis/thesis-python/main.py:111: RuntimeWarning: There were no Annotations stored in <EpochsArray | 1 events (all good), 0 – 14.992 s (baseline off), ~225 kB, data loaded,\n",
      " '1': 1>, so metadata was not modified.\n",
      "  res = mne_connectivity.spectral_connectivity_time(\n"
     ]
    },
    {
     "name": "stdout",
     "output_type": "stream",
     "text": [
      "[Connectivity computation done]\n",
      "75\n",
      "[ 4.    4.25  4.5   4.75  5.    5.25  5.5   5.75  6.    6.25  6.5   6.75\n",
      "  7.    7.25  7.5   7.75  8.    8.25  8.5   8.75  9.    9.25  9.5   9.75\n",
      " 10.   10.25 10.5  10.75 11.   11.25 11.5  11.75 12.   12.25 12.5  12.75\n",
      " 13.   13.25 13.5  13.75 14.   14.25 14.5  14.75 15.   15.25 15.5  15.75\n",
      " 16.   16.25 16.5  16.75 17.   17.25 17.5  17.75 18.   18.25 18.5  18.75\n",
      " 19.   19.25 19.5  19.75 20.   20.25 20.5  20.75 21.   21.25 21.5  21.75\n",
      " 22.   22.25 22.5  22.75 23.   23.25 23.5  23.75 24.   24.25 24.5  24.75\n",
      " 25.   25.25 25.5  25.75 26.   26.25 26.5  26.75 27.   27.25 27.5  27.75\n",
      " 28.   28.25 28.5  28.75 29.   29.25 29.5  29.75 30.   30.25 30.5  30.75\n",
      " 31.   31.25 31.5  31.75 32.   32.25 32.5  32.75 33.   33.25 33.5  33.75\n",
      " 34.   34.25 34.5  34.75 35.   35.25 35.5  35.75 36.   36.25 36.5  36.75\n",
      " 37.   37.25 37.5  37.75 38.   38.25 38.5  38.75 39.   39.25 39.5  39.75\n",
      " 40.   40.25 40.5  40.75 41.   41.25 41.5  41.75 42.   42.25 42.5  42.75\n",
      " 43.   43.25 43.5  43.75 44.   44.25 44.5  44.75 45.  ]\n",
      "only using indices for lower-triangular matrix\n",
      "Connectivity computation...\n",
      "   Processing epoch 1 / 1 ...\n"
     ]
    },
    {
     "name": "stderr",
     "output_type": "stream",
     "text": [
      "/Users/jakubblaha/Documents/thesis/thesis-python/main.py:111: RuntimeWarning: There were no Annotations stored in <EpochsArray | 1 events (all good), 0 – 14.992 s (baseline off), ~225 kB, data loaded,\n",
      " '1': 1>, so metadata was not modified.\n",
      "  res = mne_connectivity.spectral_connectivity_time(\n"
     ]
    },
    {
     "name": "stdout",
     "output_type": "stream",
     "text": [
      "[Connectivity computation done]\n",
      "76\n",
      "[ 4.    4.25  4.5   4.75  5.    5.25  5.5   5.75  6.    6.25  6.5   6.75\n",
      "  7.    7.25  7.5   7.75  8.    8.25  8.5   8.75  9.    9.25  9.5   9.75\n",
      " 10.   10.25 10.5  10.75 11.   11.25 11.5  11.75 12.   12.25 12.5  12.75\n",
      " 13.   13.25 13.5  13.75 14.   14.25 14.5  14.75 15.   15.25 15.5  15.75\n",
      " 16.   16.25 16.5  16.75 17.   17.25 17.5  17.75 18.   18.25 18.5  18.75\n",
      " 19.   19.25 19.5  19.75 20.   20.25 20.5  20.75 21.   21.25 21.5  21.75\n",
      " 22.   22.25 22.5  22.75 23.   23.25 23.5  23.75 24.   24.25 24.5  24.75\n",
      " 25.   25.25 25.5  25.75 26.   26.25 26.5  26.75 27.   27.25 27.5  27.75\n",
      " 28.   28.25 28.5  28.75 29.   29.25 29.5  29.75 30.   30.25 30.5  30.75\n",
      " 31.   31.25 31.5  31.75 32.   32.25 32.5  32.75 33.   33.25 33.5  33.75\n",
      " 34.   34.25 34.5  34.75 35.   35.25 35.5  35.75 36.   36.25 36.5  36.75\n",
      " 37.   37.25 37.5  37.75 38.   38.25 38.5  38.75 39.   39.25 39.5  39.75\n",
      " 40.   40.25 40.5  40.75 41.   41.25 41.5  41.75 42.   42.25 42.5  42.75\n",
      " 43.   43.25 43.5  43.75 44.   44.25 44.5  44.75 45.  ]\n",
      "only using indices for lower-triangular matrix\n",
      "Connectivity computation...\n",
      "   Processing epoch 1 / 1 ...\n"
     ]
    },
    {
     "name": "stderr",
     "output_type": "stream",
     "text": [
      "/Users/jakubblaha/Documents/thesis/thesis-python/main.py:111: RuntimeWarning: There were no Annotations stored in <EpochsArray | 1 events (all good), 0 – 14.992 s (baseline off), ~225 kB, data loaded,\n",
      " '1': 1>, so metadata was not modified.\n",
      "  res = mne_connectivity.spectral_connectivity_time(\n"
     ]
    },
    {
     "name": "stdout",
     "output_type": "stream",
     "text": [
      "[Connectivity computation done]\n",
      "77\n",
      "[ 4.    4.25  4.5   4.75  5.    5.25  5.5   5.75  6.    6.25  6.5   6.75\n",
      "  7.    7.25  7.5   7.75  8.    8.25  8.5   8.75  9.    9.25  9.5   9.75\n",
      " 10.   10.25 10.5  10.75 11.   11.25 11.5  11.75 12.   12.25 12.5  12.75\n",
      " 13.   13.25 13.5  13.75 14.   14.25 14.5  14.75 15.   15.25 15.5  15.75\n",
      " 16.   16.25 16.5  16.75 17.   17.25 17.5  17.75 18.   18.25 18.5  18.75\n",
      " 19.   19.25 19.5  19.75 20.   20.25 20.5  20.75 21.   21.25 21.5  21.75\n",
      " 22.   22.25 22.5  22.75 23.   23.25 23.5  23.75 24.   24.25 24.5  24.75\n",
      " 25.   25.25 25.5  25.75 26.   26.25 26.5  26.75 27.   27.25 27.5  27.75\n",
      " 28.   28.25 28.5  28.75 29.   29.25 29.5  29.75 30.   30.25 30.5  30.75\n",
      " 31.   31.25 31.5  31.75 32.   32.25 32.5  32.75 33.   33.25 33.5  33.75\n",
      " 34.   34.25 34.5  34.75 35.   35.25 35.5  35.75 36.   36.25 36.5  36.75\n",
      " 37.   37.25 37.5  37.75 38.   38.25 38.5  38.75 39.   39.25 39.5  39.75\n",
      " 40.   40.25 40.5  40.75 41.   41.25 41.5  41.75 42.   42.25 42.5  42.75\n",
      " 43.   43.25 43.5  43.75 44.   44.25 44.5  44.75 45.  ]\n",
      "only using indices for lower-triangular matrix\n",
      "Connectivity computation...\n",
      "   Processing epoch 1 / 1 ...\n"
     ]
    },
    {
     "name": "stderr",
     "output_type": "stream",
     "text": [
      "/Users/jakubblaha/Documents/thesis/thesis-python/main.py:111: RuntimeWarning: There were no Annotations stored in <EpochsArray | 1 events (all good), 0 – 14.992 s (baseline off), ~225 kB, data loaded,\n",
      " '1': 1>, so metadata was not modified.\n",
      "  res = mne_connectivity.spectral_connectivity_time(\n"
     ]
    },
    {
     "name": "stdout",
     "output_type": "stream",
     "text": [
      "[Connectivity computation done]\n",
      "78\n",
      "[ 4.    4.25  4.5   4.75  5.    5.25  5.5   5.75  6.    6.25  6.5   6.75\n",
      "  7.    7.25  7.5   7.75  8.    8.25  8.5   8.75  9.    9.25  9.5   9.75\n",
      " 10.   10.25 10.5  10.75 11.   11.25 11.5  11.75 12.   12.25 12.5  12.75\n",
      " 13.   13.25 13.5  13.75 14.   14.25 14.5  14.75 15.   15.25 15.5  15.75\n",
      " 16.   16.25 16.5  16.75 17.   17.25 17.5  17.75 18.   18.25 18.5  18.75\n",
      " 19.   19.25 19.5  19.75 20.   20.25 20.5  20.75 21.   21.25 21.5  21.75\n",
      " 22.   22.25 22.5  22.75 23.   23.25 23.5  23.75 24.   24.25 24.5  24.75\n",
      " 25.   25.25 25.5  25.75 26.   26.25 26.5  26.75 27.   27.25 27.5  27.75\n",
      " 28.   28.25 28.5  28.75 29.   29.25 29.5  29.75 30.   30.25 30.5  30.75\n",
      " 31.   31.25 31.5  31.75 32.   32.25 32.5  32.75 33.   33.25 33.5  33.75\n",
      " 34.   34.25 34.5  34.75 35.   35.25 35.5  35.75 36.   36.25 36.5  36.75\n",
      " 37.   37.25 37.5  37.75 38.   38.25 38.5  38.75 39.   39.25 39.5  39.75\n",
      " 40.   40.25 40.5  40.75 41.   41.25 41.5  41.75 42.   42.25 42.5  42.75\n",
      " 43.   43.25 43.5  43.75 44.   44.25 44.5  44.75 45.  ]\n",
      "only using indices for lower-triangular matrix\n",
      "Connectivity computation...\n",
      "   Processing epoch 1 / 1 ...\n"
     ]
    },
    {
     "name": "stderr",
     "output_type": "stream",
     "text": [
      "/Users/jakubblaha/Documents/thesis/thesis-python/main.py:111: RuntimeWarning: There were no Annotations stored in <EpochsArray | 1 events (all good), 0 – 14.992 s (baseline off), ~225 kB, data loaded,\n",
      " '1': 1>, so metadata was not modified.\n",
      "  res = mne_connectivity.spectral_connectivity_time(\n"
     ]
    },
    {
     "name": "stdout",
     "output_type": "stream",
     "text": [
      "[Connectivity computation done]\n",
      "79\n",
      "[ 4.    4.25  4.5   4.75  5.    5.25  5.5   5.75  6.    6.25  6.5   6.75\n",
      "  7.    7.25  7.5   7.75  8.    8.25  8.5   8.75  9.    9.25  9.5   9.75\n",
      " 10.   10.25 10.5  10.75 11.   11.25 11.5  11.75 12.   12.25 12.5  12.75\n",
      " 13.   13.25 13.5  13.75 14.   14.25 14.5  14.75 15.   15.25 15.5  15.75\n",
      " 16.   16.25 16.5  16.75 17.   17.25 17.5  17.75 18.   18.25 18.5  18.75\n",
      " 19.   19.25 19.5  19.75 20.   20.25 20.5  20.75 21.   21.25 21.5  21.75\n",
      " 22.   22.25 22.5  22.75 23.   23.25 23.5  23.75 24.   24.25 24.5  24.75\n",
      " 25.   25.25 25.5  25.75 26.   26.25 26.5  26.75 27.   27.25 27.5  27.75\n",
      " 28.   28.25 28.5  28.75 29.   29.25 29.5  29.75 30.   30.25 30.5  30.75\n",
      " 31.   31.25 31.5  31.75 32.   32.25 32.5  32.75 33.   33.25 33.5  33.75\n",
      " 34.   34.25 34.5  34.75 35.   35.25 35.5  35.75 36.   36.25 36.5  36.75\n",
      " 37.   37.25 37.5  37.75 38.   38.25 38.5  38.75 39.   39.25 39.5  39.75\n",
      " 40.   40.25 40.5  40.75 41.   41.25 41.5  41.75 42.   42.25 42.5  42.75\n",
      " 43.   43.25 43.5  43.75 44.   44.25 44.5  44.75 45.  ]\n",
      "only using indices for lower-triangular matrix\n",
      "Connectivity computation...\n",
      "   Processing epoch 1 / 1 ...\n"
     ]
    },
    {
     "name": "stderr",
     "output_type": "stream",
     "text": [
      "/Users/jakubblaha/Documents/thesis/thesis-python/main.py:111: RuntimeWarning: There were no Annotations stored in <EpochsArray | 1 events (all good), 0 – 14.992 s (baseline off), ~225 kB, data loaded,\n",
      " '1': 1>, so metadata was not modified.\n",
      "  res = mne_connectivity.spectral_connectivity_time(\n"
     ]
    },
    {
     "name": "stdout",
     "output_type": "stream",
     "text": [
      "[Connectivity computation done]\n",
      "80\n",
      "[ 4.    4.25  4.5   4.75  5.    5.25  5.5   5.75  6.    6.25  6.5   6.75\n",
      "  7.    7.25  7.5   7.75  8.    8.25  8.5   8.75  9.    9.25  9.5   9.75\n",
      " 10.   10.25 10.5  10.75 11.   11.25 11.5  11.75 12.   12.25 12.5  12.75\n",
      " 13.   13.25 13.5  13.75 14.   14.25 14.5  14.75 15.   15.25 15.5  15.75\n",
      " 16.   16.25 16.5  16.75 17.   17.25 17.5  17.75 18.   18.25 18.5  18.75\n",
      " 19.   19.25 19.5  19.75 20.   20.25 20.5  20.75 21.   21.25 21.5  21.75\n",
      " 22.   22.25 22.5  22.75 23.   23.25 23.5  23.75 24.   24.25 24.5  24.75\n",
      " 25.   25.25 25.5  25.75 26.   26.25 26.5  26.75 27.   27.25 27.5  27.75\n",
      " 28.   28.25 28.5  28.75 29.   29.25 29.5  29.75 30.   30.25 30.5  30.75\n",
      " 31.   31.25 31.5  31.75 32.   32.25 32.5  32.75 33.   33.25 33.5  33.75\n",
      " 34.   34.25 34.5  34.75 35.   35.25 35.5  35.75 36.   36.25 36.5  36.75\n",
      " 37.   37.25 37.5  37.75 38.   38.25 38.5  38.75 39.   39.25 39.5  39.75\n",
      " 40.   40.25 40.5  40.75 41.   41.25 41.5  41.75 42.   42.25 42.5  42.75\n",
      " 43.   43.25 43.5  43.75 44.   44.25 44.5  44.75 45.  ]\n",
      "only using indices for lower-triangular matrix\n",
      "Connectivity computation...\n",
      "   Processing epoch 1 / 1 ...\n"
     ]
    },
    {
     "name": "stderr",
     "output_type": "stream",
     "text": [
      "/Users/jakubblaha/Documents/thesis/thesis-python/main.py:111: RuntimeWarning: There were no Annotations stored in <EpochsArray | 1 events (all good), 0 – 14.992 s (baseline off), ~225 kB, data loaded,\n",
      " '1': 1>, so metadata was not modified.\n",
      "  res = mne_connectivity.spectral_connectivity_time(\n"
     ]
    },
    {
     "name": "stdout",
     "output_type": "stream",
     "text": [
      "[Connectivity computation done]\n",
      "81\n",
      "[ 4.    4.25  4.5   4.75  5.    5.25  5.5   5.75  6.    6.25  6.5   6.75\n",
      "  7.    7.25  7.5   7.75  8.    8.25  8.5   8.75  9.    9.25  9.5   9.75\n",
      " 10.   10.25 10.5  10.75 11.   11.25 11.5  11.75 12.   12.25 12.5  12.75\n",
      " 13.   13.25 13.5  13.75 14.   14.25 14.5  14.75 15.   15.25 15.5  15.75\n",
      " 16.   16.25 16.5  16.75 17.   17.25 17.5  17.75 18.   18.25 18.5  18.75\n",
      " 19.   19.25 19.5  19.75 20.   20.25 20.5  20.75 21.   21.25 21.5  21.75\n",
      " 22.   22.25 22.5  22.75 23.   23.25 23.5  23.75 24.   24.25 24.5  24.75\n",
      " 25.   25.25 25.5  25.75 26.   26.25 26.5  26.75 27.   27.25 27.5  27.75\n",
      " 28.   28.25 28.5  28.75 29.   29.25 29.5  29.75 30.   30.25 30.5  30.75\n",
      " 31.   31.25 31.5  31.75 32.   32.25 32.5  32.75 33.   33.25 33.5  33.75\n",
      " 34.   34.25 34.5  34.75 35.   35.25 35.5  35.75 36.   36.25 36.5  36.75\n",
      " 37.   37.25 37.5  37.75 38.   38.25 38.5  38.75 39.   39.25 39.5  39.75\n",
      " 40.   40.25 40.5  40.75 41.   41.25 41.5  41.75 42.   42.25 42.5  42.75\n",
      " 43.   43.25 43.5  43.75 44.   44.25 44.5  44.75 45.  ]\n",
      "only using indices for lower-triangular matrix\n",
      "Connectivity computation...\n",
      "   Processing epoch 1 / 1 ...\n"
     ]
    },
    {
     "name": "stderr",
     "output_type": "stream",
     "text": [
      "/Users/jakubblaha/Documents/thesis/thesis-python/main.py:111: RuntimeWarning: There were no Annotations stored in <EpochsArray | 1 events (all good), 0 – 14.992 s (baseline off), ~225 kB, data loaded,\n",
      " '1': 1>, so metadata was not modified.\n",
      "  res = mne_connectivity.spectral_connectivity_time(\n"
     ]
    },
    {
     "name": "stdout",
     "output_type": "stream",
     "text": [
      "[Connectivity computation done]\n",
      "82\n",
      "[ 4.    4.25  4.5   4.75  5.    5.25  5.5   5.75  6.    6.25  6.5   6.75\n",
      "  7.    7.25  7.5   7.75  8.    8.25  8.5   8.75  9.    9.25  9.5   9.75\n",
      " 10.   10.25 10.5  10.75 11.   11.25 11.5  11.75 12.   12.25 12.5  12.75\n",
      " 13.   13.25 13.5  13.75 14.   14.25 14.5  14.75 15.   15.25 15.5  15.75\n",
      " 16.   16.25 16.5  16.75 17.   17.25 17.5  17.75 18.   18.25 18.5  18.75\n",
      " 19.   19.25 19.5  19.75 20.   20.25 20.5  20.75 21.   21.25 21.5  21.75\n",
      " 22.   22.25 22.5  22.75 23.   23.25 23.5  23.75 24.   24.25 24.5  24.75\n",
      " 25.   25.25 25.5  25.75 26.   26.25 26.5  26.75 27.   27.25 27.5  27.75\n",
      " 28.   28.25 28.5  28.75 29.   29.25 29.5  29.75 30.   30.25 30.5  30.75\n",
      " 31.   31.25 31.5  31.75 32.   32.25 32.5  32.75 33.   33.25 33.5  33.75\n",
      " 34.   34.25 34.5  34.75 35.   35.25 35.5  35.75 36.   36.25 36.5  36.75\n",
      " 37.   37.25 37.5  37.75 38.   38.25 38.5  38.75 39.   39.25 39.5  39.75\n",
      " 40.   40.25 40.5  40.75 41.   41.25 41.5  41.75 42.   42.25 42.5  42.75\n",
      " 43.   43.25 43.5  43.75 44.   44.25 44.5  44.75 45.  ]\n",
      "only using indices for lower-triangular matrix\n",
      "Connectivity computation...\n",
      "   Processing epoch 1 / 1 ...\n"
     ]
    },
    {
     "name": "stderr",
     "output_type": "stream",
     "text": [
      "/Users/jakubblaha/Documents/thesis/thesis-python/main.py:111: RuntimeWarning: There were no Annotations stored in <EpochsArray | 1 events (all good), 0 – 14.992 s (baseline off), ~225 kB, data loaded,\n",
      " '1': 1>, so metadata was not modified.\n",
      "  res = mne_connectivity.spectral_connectivity_time(\n"
     ]
    },
    {
     "name": "stdout",
     "output_type": "stream",
     "text": [
      "[Connectivity computation done]\n",
      "83\n",
      "[ 4.    4.25  4.5   4.75  5.    5.25  5.5   5.75  6.    6.25  6.5   6.75\n",
      "  7.    7.25  7.5   7.75  8.    8.25  8.5   8.75  9.    9.25  9.5   9.75\n",
      " 10.   10.25 10.5  10.75 11.   11.25 11.5  11.75 12.   12.25 12.5  12.75\n",
      " 13.   13.25 13.5  13.75 14.   14.25 14.5  14.75 15.   15.25 15.5  15.75\n",
      " 16.   16.25 16.5  16.75 17.   17.25 17.5  17.75 18.   18.25 18.5  18.75\n",
      " 19.   19.25 19.5  19.75 20.   20.25 20.5  20.75 21.   21.25 21.5  21.75\n",
      " 22.   22.25 22.5  22.75 23.   23.25 23.5  23.75 24.   24.25 24.5  24.75\n",
      " 25.   25.25 25.5  25.75 26.   26.25 26.5  26.75 27.   27.25 27.5  27.75\n",
      " 28.   28.25 28.5  28.75 29.   29.25 29.5  29.75 30.   30.25 30.5  30.75\n",
      " 31.   31.25 31.5  31.75 32.   32.25 32.5  32.75 33.   33.25 33.5  33.75\n",
      " 34.   34.25 34.5  34.75 35.   35.25 35.5  35.75 36.   36.25 36.5  36.75\n",
      " 37.   37.25 37.5  37.75 38.   38.25 38.5  38.75 39.   39.25 39.5  39.75\n",
      " 40.   40.25 40.5  40.75 41.   41.25 41.5  41.75 42.   42.25 42.5  42.75\n",
      " 43.   43.25 43.5  43.75 44.   44.25 44.5  44.75 45.  ]\n",
      "only using indices for lower-triangular matrix\n",
      "Connectivity computation...\n",
      "   Processing epoch 1 / 1 ...\n"
     ]
    },
    {
     "name": "stderr",
     "output_type": "stream",
     "text": [
      "/Users/jakubblaha/Documents/thesis/thesis-python/main.py:111: RuntimeWarning: There were no Annotations stored in <EpochsArray | 1 events (all good), 0 – 14.992 s (baseline off), ~225 kB, data loaded,\n",
      " '1': 1>, so metadata was not modified.\n",
      "  res = mne_connectivity.spectral_connectivity_time(\n"
     ]
    },
    {
     "name": "stdout",
     "output_type": "stream",
     "text": [
      "[Connectivity computation done]\n",
      "84\n",
      "[ 4.    4.25  4.5   4.75  5.    5.25  5.5   5.75  6.    6.25  6.5   6.75\n",
      "  7.    7.25  7.5   7.75  8.    8.25  8.5   8.75  9.    9.25  9.5   9.75\n",
      " 10.   10.25 10.5  10.75 11.   11.25 11.5  11.75 12.   12.25 12.5  12.75\n",
      " 13.   13.25 13.5  13.75 14.   14.25 14.5  14.75 15.   15.25 15.5  15.75\n",
      " 16.   16.25 16.5  16.75 17.   17.25 17.5  17.75 18.   18.25 18.5  18.75\n",
      " 19.   19.25 19.5  19.75 20.   20.25 20.5  20.75 21.   21.25 21.5  21.75\n",
      " 22.   22.25 22.5  22.75 23.   23.25 23.5  23.75 24.   24.25 24.5  24.75\n",
      " 25.   25.25 25.5  25.75 26.   26.25 26.5  26.75 27.   27.25 27.5  27.75\n",
      " 28.   28.25 28.5  28.75 29.   29.25 29.5  29.75 30.   30.25 30.5  30.75\n",
      " 31.   31.25 31.5  31.75 32.   32.25 32.5  32.75 33.   33.25 33.5  33.75\n",
      " 34.   34.25 34.5  34.75 35.   35.25 35.5  35.75 36.   36.25 36.5  36.75\n",
      " 37.   37.25 37.5  37.75 38.   38.25 38.5  38.75 39.   39.25 39.5  39.75\n",
      " 40.   40.25 40.5  40.75 41.   41.25 41.5  41.75 42.   42.25 42.5  42.75\n",
      " 43.   43.25 43.5  43.75 44.   44.25 44.5  44.75 45.  ]\n",
      "only using indices for lower-triangular matrix\n",
      "Connectivity computation...\n",
      "   Processing epoch 1 / 1 ...\n"
     ]
    },
    {
     "name": "stderr",
     "output_type": "stream",
     "text": [
      "/Users/jakubblaha/Documents/thesis/thesis-python/main.py:111: RuntimeWarning: There were no Annotations stored in <EpochsArray | 1 events (all good), 0 – 14.992 s (baseline off), ~225 kB, data loaded,\n",
      " '1': 1>, so metadata was not modified.\n",
      "  res = mne_connectivity.spectral_connectivity_time(\n"
     ]
    },
    {
     "name": "stdout",
     "output_type": "stream",
     "text": [
      "[Connectivity computation done]\n",
      "85\n",
      "[ 4.    4.25  4.5   4.75  5.    5.25  5.5   5.75  6.    6.25  6.5   6.75\n",
      "  7.    7.25  7.5   7.75  8.    8.25  8.5   8.75  9.    9.25  9.5   9.75\n",
      " 10.   10.25 10.5  10.75 11.   11.25 11.5  11.75 12.   12.25 12.5  12.75\n",
      " 13.   13.25 13.5  13.75 14.   14.25 14.5  14.75 15.   15.25 15.5  15.75\n",
      " 16.   16.25 16.5  16.75 17.   17.25 17.5  17.75 18.   18.25 18.5  18.75\n",
      " 19.   19.25 19.5  19.75 20.   20.25 20.5  20.75 21.   21.25 21.5  21.75\n",
      " 22.   22.25 22.5  22.75 23.   23.25 23.5  23.75 24.   24.25 24.5  24.75\n",
      " 25.   25.25 25.5  25.75 26.   26.25 26.5  26.75 27.   27.25 27.5  27.75\n",
      " 28.   28.25 28.5  28.75 29.   29.25 29.5  29.75 30.   30.25 30.5  30.75\n",
      " 31.   31.25 31.5  31.75 32.   32.25 32.5  32.75 33.   33.25 33.5  33.75\n",
      " 34.   34.25 34.5  34.75 35.   35.25 35.5  35.75 36.   36.25 36.5  36.75\n",
      " 37.   37.25 37.5  37.75 38.   38.25 38.5  38.75 39.   39.25 39.5  39.75\n",
      " 40.   40.25 40.5  40.75 41.   41.25 41.5  41.75 42.   42.25 42.5  42.75\n",
      " 43.   43.25 43.5  43.75 44.   44.25 44.5  44.75 45.  ]\n",
      "only using indices for lower-triangular matrix\n",
      "Connectivity computation...\n",
      "   Processing epoch 1 / 1 ...\n"
     ]
    },
    {
     "name": "stderr",
     "output_type": "stream",
     "text": [
      "/Users/jakubblaha/Documents/thesis/thesis-python/main.py:111: RuntimeWarning: There were no Annotations stored in <EpochsArray | 1 events (all good), 0 – 14.992 s (baseline off), ~225 kB, data loaded,\n",
      " '1': 1>, so metadata was not modified.\n",
      "  res = mne_connectivity.spectral_connectivity_time(\n"
     ]
    },
    {
     "name": "stdout",
     "output_type": "stream",
     "text": [
      "[Connectivity computation done]\n",
      "86\n",
      "[ 4.    4.25  4.5   4.75  5.    5.25  5.5   5.75  6.    6.25  6.5   6.75\n",
      "  7.    7.25  7.5   7.75  8.    8.25  8.5   8.75  9.    9.25  9.5   9.75\n",
      " 10.   10.25 10.5  10.75 11.   11.25 11.5  11.75 12.   12.25 12.5  12.75\n",
      " 13.   13.25 13.5  13.75 14.   14.25 14.5  14.75 15.   15.25 15.5  15.75\n",
      " 16.   16.25 16.5  16.75 17.   17.25 17.5  17.75 18.   18.25 18.5  18.75\n",
      " 19.   19.25 19.5  19.75 20.   20.25 20.5  20.75 21.   21.25 21.5  21.75\n",
      " 22.   22.25 22.5  22.75 23.   23.25 23.5  23.75 24.   24.25 24.5  24.75\n",
      " 25.   25.25 25.5  25.75 26.   26.25 26.5  26.75 27.   27.25 27.5  27.75\n",
      " 28.   28.25 28.5  28.75 29.   29.25 29.5  29.75 30.   30.25 30.5  30.75\n",
      " 31.   31.25 31.5  31.75 32.   32.25 32.5  32.75 33.   33.25 33.5  33.75\n",
      " 34.   34.25 34.5  34.75 35.   35.25 35.5  35.75 36.   36.25 36.5  36.75\n",
      " 37.   37.25 37.5  37.75 38.   38.25 38.5  38.75 39.   39.25 39.5  39.75\n",
      " 40.   40.25 40.5  40.75 41.   41.25 41.5  41.75 42.   42.25 42.5  42.75\n",
      " 43.   43.25 43.5  43.75 44.   44.25 44.5  44.75 45.  ]\n",
      "only using indices for lower-triangular matrix\n",
      "Connectivity computation...\n",
      "   Processing epoch 1 / 1 ...\n"
     ]
    },
    {
     "name": "stderr",
     "output_type": "stream",
     "text": [
      "/Users/jakubblaha/Documents/thesis/thesis-python/main.py:111: RuntimeWarning: There were no Annotations stored in <EpochsArray | 1 events (all good), 0 – 14.992 s (baseline off), ~225 kB, data loaded,\n",
      " '1': 1>, so metadata was not modified.\n",
      "  res = mne_connectivity.spectral_connectivity_time(\n"
     ]
    },
    {
     "name": "stdout",
     "output_type": "stream",
     "text": [
      "[Connectivity computation done]\n",
      "87\n",
      "[ 4.    4.25  4.5   4.75  5.    5.25  5.5   5.75  6.    6.25  6.5   6.75\n",
      "  7.    7.25  7.5   7.75  8.    8.25  8.5   8.75  9.    9.25  9.5   9.75\n",
      " 10.   10.25 10.5  10.75 11.   11.25 11.5  11.75 12.   12.25 12.5  12.75\n",
      " 13.   13.25 13.5  13.75 14.   14.25 14.5  14.75 15.   15.25 15.5  15.75\n",
      " 16.   16.25 16.5  16.75 17.   17.25 17.5  17.75 18.   18.25 18.5  18.75\n",
      " 19.   19.25 19.5  19.75 20.   20.25 20.5  20.75 21.   21.25 21.5  21.75\n",
      " 22.   22.25 22.5  22.75 23.   23.25 23.5  23.75 24.   24.25 24.5  24.75\n",
      " 25.   25.25 25.5  25.75 26.   26.25 26.5  26.75 27.   27.25 27.5  27.75\n",
      " 28.   28.25 28.5  28.75 29.   29.25 29.5  29.75 30.   30.25 30.5  30.75\n",
      " 31.   31.25 31.5  31.75 32.   32.25 32.5  32.75 33.   33.25 33.5  33.75\n",
      " 34.   34.25 34.5  34.75 35.   35.25 35.5  35.75 36.   36.25 36.5  36.75\n",
      " 37.   37.25 37.5  37.75 38.   38.25 38.5  38.75 39.   39.25 39.5  39.75\n",
      " 40.   40.25 40.5  40.75 41.   41.25 41.5  41.75 42.   42.25 42.5  42.75\n",
      " 43.   43.25 43.5  43.75 44.   44.25 44.5  44.75 45.  ]\n",
      "only using indices for lower-triangular matrix\n",
      "Connectivity computation...\n",
      "   Processing epoch 1 / 1 ...\n"
     ]
    },
    {
     "name": "stderr",
     "output_type": "stream",
     "text": [
      "/Users/jakubblaha/Documents/thesis/thesis-python/main.py:111: RuntimeWarning: There were no Annotations stored in <EpochsArray | 1 events (all good), 0 – 14.992 s (baseline off), ~225 kB, data loaded,\n",
      " '1': 1>, so metadata was not modified.\n",
      "  res = mne_connectivity.spectral_connectivity_time(\n"
     ]
    },
    {
     "name": "stdout",
     "output_type": "stream",
     "text": [
      "[Connectivity computation done]\n",
      "88\n",
      "[ 4.    4.25  4.5   4.75  5.    5.25  5.5   5.75  6.    6.25  6.5   6.75\n",
      "  7.    7.25  7.5   7.75  8.    8.25  8.5   8.75  9.    9.25  9.5   9.75\n",
      " 10.   10.25 10.5  10.75 11.   11.25 11.5  11.75 12.   12.25 12.5  12.75\n",
      " 13.   13.25 13.5  13.75 14.   14.25 14.5  14.75 15.   15.25 15.5  15.75\n",
      " 16.   16.25 16.5  16.75 17.   17.25 17.5  17.75 18.   18.25 18.5  18.75\n",
      " 19.   19.25 19.5  19.75 20.   20.25 20.5  20.75 21.   21.25 21.5  21.75\n",
      " 22.   22.25 22.5  22.75 23.   23.25 23.5  23.75 24.   24.25 24.5  24.75\n",
      " 25.   25.25 25.5  25.75 26.   26.25 26.5  26.75 27.   27.25 27.5  27.75\n",
      " 28.   28.25 28.5  28.75 29.   29.25 29.5  29.75 30.   30.25 30.5  30.75\n",
      " 31.   31.25 31.5  31.75 32.   32.25 32.5  32.75 33.   33.25 33.5  33.75\n",
      " 34.   34.25 34.5  34.75 35.   35.25 35.5  35.75 36.   36.25 36.5  36.75\n",
      " 37.   37.25 37.5  37.75 38.   38.25 38.5  38.75 39.   39.25 39.5  39.75\n",
      " 40.   40.25 40.5  40.75 41.   41.25 41.5  41.75 42.   42.25 42.5  42.75\n",
      " 43.   43.25 43.5  43.75 44.   44.25 44.5  44.75 45.  ]\n",
      "only using indices for lower-triangular matrix\n",
      "Connectivity computation...\n",
      "   Processing epoch 1 / 1 ...\n"
     ]
    },
    {
     "name": "stderr",
     "output_type": "stream",
     "text": [
      "/Users/jakubblaha/Documents/thesis/thesis-python/main.py:111: RuntimeWarning: There were no Annotations stored in <EpochsArray | 1 events (all good), 0 – 14.992 s (baseline off), ~225 kB, data loaded,\n",
      " '1': 1>, so metadata was not modified.\n",
      "  res = mne_connectivity.spectral_connectivity_time(\n"
     ]
    },
    {
     "name": "stdout",
     "output_type": "stream",
     "text": [
      "[Connectivity computation done]\n",
      "89\n",
      "[ 4.    4.25  4.5   4.75  5.    5.25  5.5   5.75  6.    6.25  6.5   6.75\n",
      "  7.    7.25  7.5   7.75  8.    8.25  8.5   8.75  9.    9.25  9.5   9.75\n",
      " 10.   10.25 10.5  10.75 11.   11.25 11.5  11.75 12.   12.25 12.5  12.75\n",
      " 13.   13.25 13.5  13.75 14.   14.25 14.5  14.75 15.   15.25 15.5  15.75\n",
      " 16.   16.25 16.5  16.75 17.   17.25 17.5  17.75 18.   18.25 18.5  18.75\n",
      " 19.   19.25 19.5  19.75 20.   20.25 20.5  20.75 21.   21.25 21.5  21.75\n",
      " 22.   22.25 22.5  22.75 23.   23.25 23.5  23.75 24.   24.25 24.5  24.75\n",
      " 25.   25.25 25.5  25.75 26.   26.25 26.5  26.75 27.   27.25 27.5  27.75\n",
      " 28.   28.25 28.5  28.75 29.   29.25 29.5  29.75 30.   30.25 30.5  30.75\n",
      " 31.   31.25 31.5  31.75 32.   32.25 32.5  32.75 33.   33.25 33.5  33.75\n",
      " 34.   34.25 34.5  34.75 35.   35.25 35.5  35.75 36.   36.25 36.5  36.75\n",
      " 37.   37.25 37.5  37.75 38.   38.25 38.5  38.75 39.   39.25 39.5  39.75\n",
      " 40.   40.25 40.5  40.75 41.   41.25 41.5  41.75 42.   42.25 42.5  42.75\n",
      " 43.   43.25 43.5  43.75 44.   44.25 44.5  44.75 45.  ]\n",
      "only using indices for lower-triangular matrix\n",
      "Connectivity computation...\n",
      "   Processing epoch 1 / 1 ...\n"
     ]
    },
    {
     "name": "stderr",
     "output_type": "stream",
     "text": [
      "/Users/jakubblaha/Documents/thesis/thesis-python/main.py:111: RuntimeWarning: There were no Annotations stored in <EpochsArray | 1 events (all good), 0 – 14.992 s (baseline off), ~225 kB, data loaded,\n",
      " '1': 1>, so metadata was not modified.\n",
      "  res = mne_connectivity.spectral_connectivity_time(\n"
     ]
    },
    {
     "name": "stdout",
     "output_type": "stream",
     "text": [
      "[Connectivity computation done]\n",
      "90\n",
      "[ 4.    4.25  4.5   4.75  5.    5.25  5.5   5.75  6.    6.25  6.5   6.75\n",
      "  7.    7.25  7.5   7.75  8.    8.25  8.5   8.75  9.    9.25  9.5   9.75\n",
      " 10.   10.25 10.5  10.75 11.   11.25 11.5  11.75 12.   12.25 12.5  12.75\n",
      " 13.   13.25 13.5  13.75 14.   14.25 14.5  14.75 15.   15.25 15.5  15.75\n",
      " 16.   16.25 16.5  16.75 17.   17.25 17.5  17.75 18.   18.25 18.5  18.75\n",
      " 19.   19.25 19.5  19.75 20.   20.25 20.5  20.75 21.   21.25 21.5  21.75\n",
      " 22.   22.25 22.5  22.75 23.   23.25 23.5  23.75 24.   24.25 24.5  24.75\n",
      " 25.   25.25 25.5  25.75 26.   26.25 26.5  26.75 27.   27.25 27.5  27.75\n",
      " 28.   28.25 28.5  28.75 29.   29.25 29.5  29.75 30.   30.25 30.5  30.75\n",
      " 31.   31.25 31.5  31.75 32.   32.25 32.5  32.75 33.   33.25 33.5  33.75\n",
      " 34.   34.25 34.5  34.75 35.   35.25 35.5  35.75 36.   36.25 36.5  36.75\n",
      " 37.   37.25 37.5  37.75 38.   38.25 38.5  38.75 39.   39.25 39.5  39.75\n",
      " 40.   40.25 40.5  40.75 41.   41.25 41.5  41.75 42.   42.25 42.5  42.75\n",
      " 43.   43.25 43.5  43.75 44.   44.25 44.5  44.75 45.  ]\n",
      "only using indices for lower-triangular matrix\n",
      "Connectivity computation...\n",
      "   Processing epoch 1 / 1 ...\n"
     ]
    },
    {
     "name": "stderr",
     "output_type": "stream",
     "text": [
      "/Users/jakubblaha/Documents/thesis/thesis-python/main.py:111: RuntimeWarning: There were no Annotations stored in <EpochsArray | 1 events (all good), 0 – 14.992 s (baseline off), ~225 kB, data loaded,\n",
      " '1': 1>, so metadata was not modified.\n",
      "  res = mne_connectivity.spectral_connectivity_time(\n"
     ]
    },
    {
     "name": "stdout",
     "output_type": "stream",
     "text": [
      "[Connectivity computation done]\n",
      "91\n",
      "[ 4.    4.25  4.5   4.75  5.    5.25  5.5   5.75  6.    6.25  6.5   6.75\n",
      "  7.    7.25  7.5   7.75  8.    8.25  8.5   8.75  9.    9.25  9.5   9.75\n",
      " 10.   10.25 10.5  10.75 11.   11.25 11.5  11.75 12.   12.25 12.5  12.75\n",
      " 13.   13.25 13.5  13.75 14.   14.25 14.5  14.75 15.   15.25 15.5  15.75\n",
      " 16.   16.25 16.5  16.75 17.   17.25 17.5  17.75 18.   18.25 18.5  18.75\n",
      " 19.   19.25 19.5  19.75 20.   20.25 20.5  20.75 21.   21.25 21.5  21.75\n",
      " 22.   22.25 22.5  22.75 23.   23.25 23.5  23.75 24.   24.25 24.5  24.75\n",
      " 25.   25.25 25.5  25.75 26.   26.25 26.5  26.75 27.   27.25 27.5  27.75\n",
      " 28.   28.25 28.5  28.75 29.   29.25 29.5  29.75 30.   30.25 30.5  30.75\n",
      " 31.   31.25 31.5  31.75 32.   32.25 32.5  32.75 33.   33.25 33.5  33.75\n",
      " 34.   34.25 34.5  34.75 35.   35.25 35.5  35.75 36.   36.25 36.5  36.75\n",
      " 37.   37.25 37.5  37.75 38.   38.25 38.5  38.75 39.   39.25 39.5  39.75\n",
      " 40.   40.25 40.5  40.75 41.   41.25 41.5  41.75 42.   42.25 42.5  42.75\n",
      " 43.   43.25 43.5  43.75 44.   44.25 44.5  44.75 45.  ]\n",
      "only using indices for lower-triangular matrix\n",
      "Connectivity computation...\n",
      "   Processing epoch 1 / 1 ...\n"
     ]
    },
    {
     "name": "stderr",
     "output_type": "stream",
     "text": [
      "/Users/jakubblaha/Documents/thesis/thesis-python/main.py:111: RuntimeWarning: There were no Annotations stored in <EpochsArray | 1 events (all good), 0 – 14.992 s (baseline off), ~225 kB, data loaded,\n",
      " '1': 1>, so metadata was not modified.\n",
      "  res = mne_connectivity.spectral_connectivity_time(\n"
     ]
    },
    {
     "name": "stdout",
     "output_type": "stream",
     "text": [
      "[Connectivity computation done]\n",
      "92\n",
      "[ 4.    4.25  4.5   4.75  5.    5.25  5.5   5.75  6.    6.25  6.5   6.75\n",
      "  7.    7.25  7.5   7.75  8.    8.25  8.5   8.75  9.    9.25  9.5   9.75\n",
      " 10.   10.25 10.5  10.75 11.   11.25 11.5  11.75 12.   12.25 12.5  12.75\n",
      " 13.   13.25 13.5  13.75 14.   14.25 14.5  14.75 15.   15.25 15.5  15.75\n",
      " 16.   16.25 16.5  16.75 17.   17.25 17.5  17.75 18.   18.25 18.5  18.75\n",
      " 19.   19.25 19.5  19.75 20.   20.25 20.5  20.75 21.   21.25 21.5  21.75\n",
      " 22.   22.25 22.5  22.75 23.   23.25 23.5  23.75 24.   24.25 24.5  24.75\n",
      " 25.   25.25 25.5  25.75 26.   26.25 26.5  26.75 27.   27.25 27.5  27.75\n",
      " 28.   28.25 28.5  28.75 29.   29.25 29.5  29.75 30.   30.25 30.5  30.75\n",
      " 31.   31.25 31.5  31.75 32.   32.25 32.5  32.75 33.   33.25 33.5  33.75\n",
      " 34.   34.25 34.5  34.75 35.   35.25 35.5  35.75 36.   36.25 36.5  36.75\n",
      " 37.   37.25 37.5  37.75 38.   38.25 38.5  38.75 39.   39.25 39.5  39.75\n",
      " 40.   40.25 40.5  40.75 41.   41.25 41.5  41.75 42.   42.25 42.5  42.75\n",
      " 43.   43.25 43.5  43.75 44.   44.25 44.5  44.75 45.  ]\n",
      "only using indices for lower-triangular matrix\n",
      "Connectivity computation...\n",
      "   Processing epoch 1 / 1 ...\n"
     ]
    },
    {
     "name": "stderr",
     "output_type": "stream",
     "text": [
      "/Users/jakubblaha/Documents/thesis/thesis-python/main.py:111: RuntimeWarning: There were no Annotations stored in <EpochsArray | 1 events (all good), 0 – 14.992 s (baseline off), ~225 kB, data loaded,\n",
      " '1': 1>, so metadata was not modified.\n",
      "  res = mne_connectivity.spectral_connectivity_time(\n"
     ]
    },
    {
     "name": "stdout",
     "output_type": "stream",
     "text": [
      "[Connectivity computation done]\n",
      "93\n",
      "[ 4.    4.25  4.5   4.75  5.    5.25  5.5   5.75  6.    6.25  6.5   6.75\n",
      "  7.    7.25  7.5   7.75  8.    8.25  8.5   8.75  9.    9.25  9.5   9.75\n",
      " 10.   10.25 10.5  10.75 11.   11.25 11.5  11.75 12.   12.25 12.5  12.75\n",
      " 13.   13.25 13.5  13.75 14.   14.25 14.5  14.75 15.   15.25 15.5  15.75\n",
      " 16.   16.25 16.5  16.75 17.   17.25 17.5  17.75 18.   18.25 18.5  18.75\n",
      " 19.   19.25 19.5  19.75 20.   20.25 20.5  20.75 21.   21.25 21.5  21.75\n",
      " 22.   22.25 22.5  22.75 23.   23.25 23.5  23.75 24.   24.25 24.5  24.75\n",
      " 25.   25.25 25.5  25.75 26.   26.25 26.5  26.75 27.   27.25 27.5  27.75\n",
      " 28.   28.25 28.5  28.75 29.   29.25 29.5  29.75 30.   30.25 30.5  30.75\n",
      " 31.   31.25 31.5  31.75 32.   32.25 32.5  32.75 33.   33.25 33.5  33.75\n",
      " 34.   34.25 34.5  34.75 35.   35.25 35.5  35.75 36.   36.25 36.5  36.75\n",
      " 37.   37.25 37.5  37.75 38.   38.25 38.5  38.75 39.   39.25 39.5  39.75\n",
      " 40.   40.25 40.5  40.75 41.   41.25 41.5  41.75 42.   42.25 42.5  42.75\n",
      " 43.   43.25 43.5  43.75 44.   44.25 44.5  44.75 45.  ]\n",
      "only using indices for lower-triangular matrix\n",
      "Connectivity computation...\n",
      "   Processing epoch 1 / 1 ...\n"
     ]
    },
    {
     "name": "stderr",
     "output_type": "stream",
     "text": [
      "/Users/jakubblaha/Documents/thesis/thesis-python/main.py:111: RuntimeWarning: There were no Annotations stored in <EpochsArray | 1 events (all good), 0 – 14.992 s (baseline off), ~225 kB, data loaded,\n",
      " '1': 1>, so metadata was not modified.\n",
      "  res = mne_connectivity.spectral_connectivity_time(\n"
     ]
    },
    {
     "name": "stdout",
     "output_type": "stream",
     "text": [
      "[Connectivity computation done]\n",
      "94\n",
      "[ 4.    4.25  4.5   4.75  5.    5.25  5.5   5.75  6.    6.25  6.5   6.75\n",
      "  7.    7.25  7.5   7.75  8.    8.25  8.5   8.75  9.    9.25  9.5   9.75\n",
      " 10.   10.25 10.5  10.75 11.   11.25 11.5  11.75 12.   12.25 12.5  12.75\n",
      " 13.   13.25 13.5  13.75 14.   14.25 14.5  14.75 15.   15.25 15.5  15.75\n",
      " 16.   16.25 16.5  16.75 17.   17.25 17.5  17.75 18.   18.25 18.5  18.75\n",
      " 19.   19.25 19.5  19.75 20.   20.25 20.5  20.75 21.   21.25 21.5  21.75\n",
      " 22.   22.25 22.5  22.75 23.   23.25 23.5  23.75 24.   24.25 24.5  24.75\n",
      " 25.   25.25 25.5  25.75 26.   26.25 26.5  26.75 27.   27.25 27.5  27.75\n",
      " 28.   28.25 28.5  28.75 29.   29.25 29.5  29.75 30.   30.25 30.5  30.75\n",
      " 31.   31.25 31.5  31.75 32.   32.25 32.5  32.75 33.   33.25 33.5  33.75\n",
      " 34.   34.25 34.5  34.75 35.   35.25 35.5  35.75 36.   36.25 36.5  36.75\n",
      " 37.   37.25 37.5  37.75 38.   38.25 38.5  38.75 39.   39.25 39.5  39.75\n",
      " 40.   40.25 40.5  40.75 41.   41.25 41.5  41.75 42.   42.25 42.5  42.75\n",
      " 43.   43.25 43.5  43.75 44.   44.25 44.5  44.75 45.  ]\n",
      "only using indices for lower-triangular matrix\n",
      "Connectivity computation...\n",
      "   Processing epoch 1 / 1 ...\n"
     ]
    },
    {
     "name": "stderr",
     "output_type": "stream",
     "text": [
      "/Users/jakubblaha/Documents/thesis/thesis-python/main.py:111: RuntimeWarning: There were no Annotations stored in <EpochsArray | 1 events (all good), 0 – 14.992 s (baseline off), ~225 kB, data loaded,\n",
      " '1': 1>, so metadata was not modified.\n",
      "  res = mne_connectivity.spectral_connectivity_time(\n"
     ]
    },
    {
     "name": "stdout",
     "output_type": "stream",
     "text": [
      "[Connectivity computation done]\n",
      "95\n",
      "[ 4.    4.25  4.5   4.75  5.    5.25  5.5   5.75  6.    6.25  6.5   6.75\n",
      "  7.    7.25  7.5   7.75  8.    8.25  8.5   8.75  9.    9.25  9.5   9.75\n",
      " 10.   10.25 10.5  10.75 11.   11.25 11.5  11.75 12.   12.25 12.5  12.75\n",
      " 13.   13.25 13.5  13.75 14.   14.25 14.5  14.75 15.   15.25 15.5  15.75\n",
      " 16.   16.25 16.5  16.75 17.   17.25 17.5  17.75 18.   18.25 18.5  18.75\n",
      " 19.   19.25 19.5  19.75 20.   20.25 20.5  20.75 21.   21.25 21.5  21.75\n",
      " 22.   22.25 22.5  22.75 23.   23.25 23.5  23.75 24.   24.25 24.5  24.75\n",
      " 25.   25.25 25.5  25.75 26.   26.25 26.5  26.75 27.   27.25 27.5  27.75\n",
      " 28.   28.25 28.5  28.75 29.   29.25 29.5  29.75 30.   30.25 30.5  30.75\n",
      " 31.   31.25 31.5  31.75 32.   32.25 32.5  32.75 33.   33.25 33.5  33.75\n",
      " 34.   34.25 34.5  34.75 35.   35.25 35.5  35.75 36.   36.25 36.5  36.75\n",
      " 37.   37.25 37.5  37.75 38.   38.25 38.5  38.75 39.   39.25 39.5  39.75\n",
      " 40.   40.25 40.5  40.75 41.   41.25 41.5  41.75 42.   42.25 42.5  42.75\n",
      " 43.   43.25 43.5  43.75 44.   44.25 44.5  44.75 45.  ]\n",
      "only using indices for lower-triangular matrix\n",
      "Connectivity computation...\n",
      "   Processing epoch 1 / 1 ...\n"
     ]
    },
    {
     "name": "stderr",
     "output_type": "stream",
     "text": [
      "/Users/jakubblaha/Documents/thesis/thesis-python/main.py:111: RuntimeWarning: There were no Annotations stored in <EpochsArray | 1 events (all good), 0 – 14.992 s (baseline off), ~225 kB, data loaded,\n",
      " '1': 1>, so metadata was not modified.\n",
      "  res = mne_connectivity.spectral_connectivity_time(\n"
     ]
    },
    {
     "name": "stdout",
     "output_type": "stream",
     "text": [
      "[Connectivity computation done]\n",
      "96\n",
      "[ 4.    4.25  4.5   4.75  5.    5.25  5.5   5.75  6.    6.25  6.5   6.75\n",
      "  7.    7.25  7.5   7.75  8.    8.25  8.5   8.75  9.    9.25  9.5   9.75\n",
      " 10.   10.25 10.5  10.75 11.   11.25 11.5  11.75 12.   12.25 12.5  12.75\n",
      " 13.   13.25 13.5  13.75 14.   14.25 14.5  14.75 15.   15.25 15.5  15.75\n",
      " 16.   16.25 16.5  16.75 17.   17.25 17.5  17.75 18.   18.25 18.5  18.75\n",
      " 19.   19.25 19.5  19.75 20.   20.25 20.5  20.75 21.   21.25 21.5  21.75\n",
      " 22.   22.25 22.5  22.75 23.   23.25 23.5  23.75 24.   24.25 24.5  24.75\n",
      " 25.   25.25 25.5  25.75 26.   26.25 26.5  26.75 27.   27.25 27.5  27.75\n",
      " 28.   28.25 28.5  28.75 29.   29.25 29.5  29.75 30.   30.25 30.5  30.75\n",
      " 31.   31.25 31.5  31.75 32.   32.25 32.5  32.75 33.   33.25 33.5  33.75\n",
      " 34.   34.25 34.5  34.75 35.   35.25 35.5  35.75 36.   36.25 36.5  36.75\n",
      " 37.   37.25 37.5  37.75 38.   38.25 38.5  38.75 39.   39.25 39.5  39.75\n",
      " 40.   40.25 40.5  40.75 41.   41.25 41.5  41.75 42.   42.25 42.5  42.75\n",
      " 43.   43.25 43.5  43.75 44.   44.25 44.5  44.75 45.  ]\n",
      "only using indices for lower-triangular matrix\n",
      "Connectivity computation...\n",
      "   Processing epoch 1 / 1 ...\n"
     ]
    },
    {
     "name": "stderr",
     "output_type": "stream",
     "text": [
      "/Users/jakubblaha/Documents/thesis/thesis-python/main.py:111: RuntimeWarning: There were no Annotations stored in <EpochsArray | 1 events (all good), 0 – 14.992 s (baseline off), ~225 kB, data loaded,\n",
      " '1': 1>, so metadata was not modified.\n",
      "  res = mne_connectivity.spectral_connectivity_time(\n"
     ]
    },
    {
     "name": "stdout",
     "output_type": "stream",
     "text": [
      "[Connectivity computation done]\n",
      "97\n",
      "[ 4.    4.25  4.5   4.75  5.    5.25  5.5   5.75  6.    6.25  6.5   6.75\n",
      "  7.    7.25  7.5   7.75  8.    8.25  8.5   8.75  9.    9.25  9.5   9.75\n",
      " 10.   10.25 10.5  10.75 11.   11.25 11.5  11.75 12.   12.25 12.5  12.75\n",
      " 13.   13.25 13.5  13.75 14.   14.25 14.5  14.75 15.   15.25 15.5  15.75\n",
      " 16.   16.25 16.5  16.75 17.   17.25 17.5  17.75 18.   18.25 18.5  18.75\n",
      " 19.   19.25 19.5  19.75 20.   20.25 20.5  20.75 21.   21.25 21.5  21.75\n",
      " 22.   22.25 22.5  22.75 23.   23.25 23.5  23.75 24.   24.25 24.5  24.75\n",
      " 25.   25.25 25.5  25.75 26.   26.25 26.5  26.75 27.   27.25 27.5  27.75\n",
      " 28.   28.25 28.5  28.75 29.   29.25 29.5  29.75 30.   30.25 30.5  30.75\n",
      " 31.   31.25 31.5  31.75 32.   32.25 32.5  32.75 33.   33.25 33.5  33.75\n",
      " 34.   34.25 34.5  34.75 35.   35.25 35.5  35.75 36.   36.25 36.5  36.75\n",
      " 37.   37.25 37.5  37.75 38.   38.25 38.5  38.75 39.   39.25 39.5  39.75\n",
      " 40.   40.25 40.5  40.75 41.   41.25 41.5  41.75 42.   42.25 42.5  42.75\n",
      " 43.   43.25 43.5  43.75 44.   44.25 44.5  44.75 45.  ]\n",
      "only using indices for lower-triangular matrix\n",
      "Connectivity computation...\n",
      "   Processing epoch 1 / 1 ...\n"
     ]
    },
    {
     "name": "stderr",
     "output_type": "stream",
     "text": [
      "/Users/jakubblaha/Documents/thesis/thesis-python/main.py:111: RuntimeWarning: There were no Annotations stored in <EpochsArray | 1 events (all good), 0 – 14.992 s (baseline off), ~225 kB, data loaded,\n",
      " '1': 1>, so metadata was not modified.\n",
      "  res = mne_connectivity.spectral_connectivity_time(\n"
     ]
    },
    {
     "name": "stdout",
     "output_type": "stream",
     "text": [
      "[Connectivity computation done]\n",
      "98\n",
      "[ 4.    4.25  4.5   4.75  5.    5.25  5.5   5.75  6.    6.25  6.5   6.75\n",
      "  7.    7.25  7.5   7.75  8.    8.25  8.5   8.75  9.    9.25  9.5   9.75\n",
      " 10.   10.25 10.5  10.75 11.   11.25 11.5  11.75 12.   12.25 12.5  12.75\n",
      " 13.   13.25 13.5  13.75 14.   14.25 14.5  14.75 15.   15.25 15.5  15.75\n",
      " 16.   16.25 16.5  16.75 17.   17.25 17.5  17.75 18.   18.25 18.5  18.75\n",
      " 19.   19.25 19.5  19.75 20.   20.25 20.5  20.75 21.   21.25 21.5  21.75\n",
      " 22.   22.25 22.5  22.75 23.   23.25 23.5  23.75 24.   24.25 24.5  24.75\n",
      " 25.   25.25 25.5  25.75 26.   26.25 26.5  26.75 27.   27.25 27.5  27.75\n",
      " 28.   28.25 28.5  28.75 29.   29.25 29.5  29.75 30.   30.25 30.5  30.75\n",
      " 31.   31.25 31.5  31.75 32.   32.25 32.5  32.75 33.   33.25 33.5  33.75\n",
      " 34.   34.25 34.5  34.75 35.   35.25 35.5  35.75 36.   36.25 36.5  36.75\n",
      " 37.   37.25 37.5  37.75 38.   38.25 38.5  38.75 39.   39.25 39.5  39.75\n",
      " 40.   40.25 40.5  40.75 41.   41.25 41.5  41.75 42.   42.25 42.5  42.75\n",
      " 43.   43.25 43.5  43.75 44.   44.25 44.5  44.75 45.  ]\n",
      "only using indices for lower-triangular matrix\n",
      "Connectivity computation...\n",
      "   Processing epoch 1 / 1 ...\n"
     ]
    },
    {
     "name": "stderr",
     "output_type": "stream",
     "text": [
      "/Users/jakubblaha/Documents/thesis/thesis-python/main.py:111: RuntimeWarning: There were no Annotations stored in <EpochsArray | 1 events (all good), 0 – 14.992 s (baseline off), ~225 kB, data loaded,\n",
      " '1': 1>, so metadata was not modified.\n",
      "  res = mne_connectivity.spectral_connectivity_time(\n"
     ]
    },
    {
     "name": "stdout",
     "output_type": "stream",
     "text": [
      "[Connectivity computation done]\n",
      "99\n",
      "[ 4.    4.25  4.5   4.75  5.    5.25  5.5   5.75  6.    6.25  6.5   6.75\n",
      "  7.    7.25  7.5   7.75  8.    8.25  8.5   8.75  9.    9.25  9.5   9.75\n",
      " 10.   10.25 10.5  10.75 11.   11.25 11.5  11.75 12.   12.25 12.5  12.75\n",
      " 13.   13.25 13.5  13.75 14.   14.25 14.5  14.75 15.   15.25 15.5  15.75\n",
      " 16.   16.25 16.5  16.75 17.   17.25 17.5  17.75 18.   18.25 18.5  18.75\n",
      " 19.   19.25 19.5  19.75 20.   20.25 20.5  20.75 21.   21.25 21.5  21.75\n",
      " 22.   22.25 22.5  22.75 23.   23.25 23.5  23.75 24.   24.25 24.5  24.75\n",
      " 25.   25.25 25.5  25.75 26.   26.25 26.5  26.75 27.   27.25 27.5  27.75\n",
      " 28.   28.25 28.5  28.75 29.   29.25 29.5  29.75 30.   30.25 30.5  30.75\n",
      " 31.   31.25 31.5  31.75 32.   32.25 32.5  32.75 33.   33.25 33.5  33.75\n",
      " 34.   34.25 34.5  34.75 35.   35.25 35.5  35.75 36.   36.25 36.5  36.75\n",
      " 37.   37.25 37.5  37.75 38.   38.25 38.5  38.75 39.   39.25 39.5  39.75\n",
      " 40.   40.25 40.5  40.75 41.   41.25 41.5  41.75 42.   42.25 42.5  42.75\n",
      " 43.   43.25 43.5  43.75 44.   44.25 44.5  44.75 45.  ]\n",
      "only using indices for lower-triangular matrix\n",
      "Connectivity computation...\n",
      "   Processing epoch 1 / 1 ...\n"
     ]
    },
    {
     "name": "stderr",
     "output_type": "stream",
     "text": [
      "/Users/jakubblaha/Documents/thesis/thesis-python/main.py:111: RuntimeWarning: There were no Annotations stored in <EpochsArray | 1 events (all good), 0 – 14.992 s (baseline off), ~225 kB, data loaded,\n",
      " '1': 1>, so metadata was not modified.\n",
      "  res = mne_connectivity.spectral_connectivity_time(\n"
     ]
    },
    {
     "name": "stdout",
     "output_type": "stream",
     "text": [
      "[Connectivity computation done]\n"
     ]
    },
    {
     "data": {
      "text/plain": [
       "(5, 100, 14, 14)"
      ]
     },
     "execution_count": 56,
     "metadata": {},
     "output_type": "execute_result"
    }
   ],
   "source": [
    "normal_conn = np.zeros((n_normal_epochs, n_channels, n_channels, n_bands))\n",
    "\n",
    "for i in range(n_normal_epochs):\n",
    "    print(i)\n",
    "    trial = Trial(TrialLabel.CONTROL, normal_epochs[i])\n",
    "    normal_conn[i] = trial.compute_connectivity()\n",
    "\n",
    "normal_conn = np.moveaxis(normal_conn, 3, 0)\n",
    "normal_conn.shape"
   ]
  },
  {
   "cell_type": "code",
   "execution_count": 57,
   "id": "8d3b60a6",
   "metadata": {},
   "outputs": [
    {
     "name": "stdout",
     "output_type": "stream",
     "text": [
      "0\n",
      "[ 4.    4.25  4.5   4.75  5.    5.25  5.5   5.75  6.    6.25  6.5   6.75\n",
      "  7.    7.25  7.5   7.75  8.    8.25  8.5   8.75  9.    9.25  9.5   9.75\n",
      " 10.   10.25 10.5  10.75 11.   11.25 11.5  11.75 12.   12.25 12.5  12.75\n",
      " 13.   13.25 13.5  13.75 14.   14.25 14.5  14.75 15.   15.25 15.5  15.75\n",
      " 16.   16.25 16.5  16.75 17.   17.25 17.5  17.75 18.   18.25 18.5  18.75\n",
      " 19.   19.25 19.5  19.75 20.   20.25 20.5  20.75 21.   21.25 21.5  21.75\n",
      " 22.   22.25 22.5  22.75 23.   23.25 23.5  23.75 24.   24.25 24.5  24.75\n",
      " 25.   25.25 25.5  25.75 26.   26.25 26.5  26.75 27.   27.25 27.5  27.75\n",
      " 28.   28.25 28.5  28.75 29.   29.25 29.5  29.75 30.   30.25 30.5  30.75\n",
      " 31.   31.25 31.5  31.75 32.   32.25 32.5  32.75 33.   33.25 33.5  33.75\n",
      " 34.   34.25 34.5  34.75 35.   35.25 35.5  35.75 36.   36.25 36.5  36.75\n",
      " 37.   37.25 37.5  37.75 38.   38.25 38.5  38.75 39.   39.25 39.5  39.75\n",
      " 40.   40.25 40.5  40.75 41.   41.25 41.5  41.75 42.   42.25 42.5  42.75\n",
      " 43.   43.25 43.5  43.75 44.   44.25 44.5  44.75 45.  ]\n",
      "only using indices for lower-triangular matrix\n",
      "Connectivity computation...\n",
      "   Processing epoch 1 / 1 ...\n"
     ]
    },
    {
     "name": "stderr",
     "output_type": "stream",
     "text": [
      "/Users/jakubblaha/Documents/thesis/thesis-python/main.py:111: RuntimeWarning: There were no Annotations stored in <EpochsArray | 1 events (all good), 0 – 14.992 s (baseline off), ~225 kB, data loaded,\n",
      " '1': 1>, so metadata was not modified.\n",
      "  res = mne_connectivity.spectral_connectivity_time(\n"
     ]
    },
    {
     "name": "stdout",
     "output_type": "stream",
     "text": [
      "[Connectivity computation done]\n",
      "1\n",
      "[ 4.    4.25  4.5   4.75  5.    5.25  5.5   5.75  6.    6.25  6.5   6.75\n",
      "  7.    7.25  7.5   7.75  8.    8.25  8.5   8.75  9.    9.25  9.5   9.75\n",
      " 10.   10.25 10.5  10.75 11.   11.25 11.5  11.75 12.   12.25 12.5  12.75\n",
      " 13.   13.25 13.5  13.75 14.   14.25 14.5  14.75 15.   15.25 15.5  15.75\n",
      " 16.   16.25 16.5  16.75 17.   17.25 17.5  17.75 18.   18.25 18.5  18.75\n",
      " 19.   19.25 19.5  19.75 20.   20.25 20.5  20.75 21.   21.25 21.5  21.75\n",
      " 22.   22.25 22.5  22.75 23.   23.25 23.5  23.75 24.   24.25 24.5  24.75\n",
      " 25.   25.25 25.5  25.75 26.   26.25 26.5  26.75 27.   27.25 27.5  27.75\n",
      " 28.   28.25 28.5  28.75 29.   29.25 29.5  29.75 30.   30.25 30.5  30.75\n",
      " 31.   31.25 31.5  31.75 32.   32.25 32.5  32.75 33.   33.25 33.5  33.75\n",
      " 34.   34.25 34.5  34.75 35.   35.25 35.5  35.75 36.   36.25 36.5  36.75\n",
      " 37.   37.25 37.5  37.75 38.   38.25 38.5  38.75 39.   39.25 39.5  39.75\n",
      " 40.   40.25 40.5  40.75 41.   41.25 41.5  41.75 42.   42.25 42.5  42.75\n",
      " 43.   43.25 43.5  43.75 44.   44.25 44.5  44.75 45.  ]\n",
      "only using indices for lower-triangular matrix\n",
      "Connectivity computation...\n",
      "   Processing epoch 1 / 1 ...\n"
     ]
    },
    {
     "name": "stderr",
     "output_type": "stream",
     "text": [
      "/Users/jakubblaha/Documents/thesis/thesis-python/main.py:111: RuntimeWarning: There were no Annotations stored in <EpochsArray | 1 events (all good), 0 – 14.992 s (baseline off), ~225 kB, data loaded,\n",
      " '1': 1>, so metadata was not modified.\n",
      "  res = mne_connectivity.spectral_connectivity_time(\n"
     ]
    },
    {
     "name": "stdout",
     "output_type": "stream",
     "text": [
      "[Connectivity computation done]\n",
      "2\n",
      "[ 4.    4.25  4.5   4.75  5.    5.25  5.5   5.75  6.    6.25  6.5   6.75\n",
      "  7.    7.25  7.5   7.75  8.    8.25  8.5   8.75  9.    9.25  9.5   9.75\n",
      " 10.   10.25 10.5  10.75 11.   11.25 11.5  11.75 12.   12.25 12.5  12.75\n",
      " 13.   13.25 13.5  13.75 14.   14.25 14.5  14.75 15.   15.25 15.5  15.75\n",
      " 16.   16.25 16.5  16.75 17.   17.25 17.5  17.75 18.   18.25 18.5  18.75\n",
      " 19.   19.25 19.5  19.75 20.   20.25 20.5  20.75 21.   21.25 21.5  21.75\n",
      " 22.   22.25 22.5  22.75 23.   23.25 23.5  23.75 24.   24.25 24.5  24.75\n",
      " 25.   25.25 25.5  25.75 26.   26.25 26.5  26.75 27.   27.25 27.5  27.75\n",
      " 28.   28.25 28.5  28.75 29.   29.25 29.5  29.75 30.   30.25 30.5  30.75\n",
      " 31.   31.25 31.5  31.75 32.   32.25 32.5  32.75 33.   33.25 33.5  33.75\n",
      " 34.   34.25 34.5  34.75 35.   35.25 35.5  35.75 36.   36.25 36.5  36.75\n",
      " 37.   37.25 37.5  37.75 38.   38.25 38.5  38.75 39.   39.25 39.5  39.75\n",
      " 40.   40.25 40.5  40.75 41.   41.25 41.5  41.75 42.   42.25 42.5  42.75\n",
      " 43.   43.25 43.5  43.75 44.   44.25 44.5  44.75 45.  ]\n",
      "only using indices for lower-triangular matrix\n",
      "Connectivity computation...\n",
      "   Processing epoch 1 / 1 ...\n"
     ]
    },
    {
     "name": "stderr",
     "output_type": "stream",
     "text": [
      "/Users/jakubblaha/Documents/thesis/thesis-python/main.py:111: RuntimeWarning: There were no Annotations stored in <EpochsArray | 1 events (all good), 0 – 14.992 s (baseline off), ~225 kB, data loaded,\n",
      " '1': 1>, so metadata was not modified.\n",
      "  res = mne_connectivity.spectral_connectivity_time(\n"
     ]
    },
    {
     "name": "stdout",
     "output_type": "stream",
     "text": [
      "[Connectivity computation done]\n",
      "3\n",
      "[ 4.    4.25  4.5   4.75  5.    5.25  5.5   5.75  6.    6.25  6.5   6.75\n",
      "  7.    7.25  7.5   7.75  8.    8.25  8.5   8.75  9.    9.25  9.5   9.75\n",
      " 10.   10.25 10.5  10.75 11.   11.25 11.5  11.75 12.   12.25 12.5  12.75\n",
      " 13.   13.25 13.5  13.75 14.   14.25 14.5  14.75 15.   15.25 15.5  15.75\n",
      " 16.   16.25 16.5  16.75 17.   17.25 17.5  17.75 18.   18.25 18.5  18.75\n",
      " 19.   19.25 19.5  19.75 20.   20.25 20.5  20.75 21.   21.25 21.5  21.75\n",
      " 22.   22.25 22.5  22.75 23.   23.25 23.5  23.75 24.   24.25 24.5  24.75\n",
      " 25.   25.25 25.5  25.75 26.   26.25 26.5  26.75 27.   27.25 27.5  27.75\n",
      " 28.   28.25 28.5  28.75 29.   29.25 29.5  29.75 30.   30.25 30.5  30.75\n",
      " 31.   31.25 31.5  31.75 32.   32.25 32.5  32.75 33.   33.25 33.5  33.75\n",
      " 34.   34.25 34.5  34.75 35.   35.25 35.5  35.75 36.   36.25 36.5  36.75\n",
      " 37.   37.25 37.5  37.75 38.   38.25 38.5  38.75 39.   39.25 39.5  39.75\n",
      " 40.   40.25 40.5  40.75 41.   41.25 41.5  41.75 42.   42.25 42.5  42.75\n",
      " 43.   43.25 43.5  43.75 44.   44.25 44.5  44.75 45.  ]\n",
      "only using indices for lower-triangular matrix\n",
      "Connectivity computation...\n",
      "   Processing epoch 1 / 1 ...\n"
     ]
    },
    {
     "name": "stderr",
     "output_type": "stream",
     "text": [
      "/Users/jakubblaha/Documents/thesis/thesis-python/main.py:111: RuntimeWarning: There were no Annotations stored in <EpochsArray | 1 events (all good), 0 – 14.992 s (baseline off), ~225 kB, data loaded,\n",
      " '1': 1>, so metadata was not modified.\n",
      "  res = mne_connectivity.spectral_connectivity_time(\n"
     ]
    },
    {
     "name": "stdout",
     "output_type": "stream",
     "text": [
      "[Connectivity computation done]\n",
      "4\n",
      "[ 4.    4.25  4.5   4.75  5.    5.25  5.5   5.75  6.    6.25  6.5   6.75\n",
      "  7.    7.25  7.5   7.75  8.    8.25  8.5   8.75  9.    9.25  9.5   9.75\n",
      " 10.   10.25 10.5  10.75 11.   11.25 11.5  11.75 12.   12.25 12.5  12.75\n",
      " 13.   13.25 13.5  13.75 14.   14.25 14.5  14.75 15.   15.25 15.5  15.75\n",
      " 16.   16.25 16.5  16.75 17.   17.25 17.5  17.75 18.   18.25 18.5  18.75\n",
      " 19.   19.25 19.5  19.75 20.   20.25 20.5  20.75 21.   21.25 21.5  21.75\n",
      " 22.   22.25 22.5  22.75 23.   23.25 23.5  23.75 24.   24.25 24.5  24.75\n",
      " 25.   25.25 25.5  25.75 26.   26.25 26.5  26.75 27.   27.25 27.5  27.75\n",
      " 28.   28.25 28.5  28.75 29.   29.25 29.5  29.75 30.   30.25 30.5  30.75\n",
      " 31.   31.25 31.5  31.75 32.   32.25 32.5  32.75 33.   33.25 33.5  33.75\n",
      " 34.   34.25 34.5  34.75 35.   35.25 35.5  35.75 36.   36.25 36.5  36.75\n",
      " 37.   37.25 37.5  37.75 38.   38.25 38.5  38.75 39.   39.25 39.5  39.75\n",
      " 40.   40.25 40.5  40.75 41.   41.25 41.5  41.75 42.   42.25 42.5  42.75\n",
      " 43.   43.25 43.5  43.75 44.   44.25 44.5  44.75 45.  ]\n",
      "only using indices for lower-triangular matrix\n",
      "Connectivity computation...\n",
      "   Processing epoch 1 / 1 ...\n"
     ]
    },
    {
     "name": "stderr",
     "output_type": "stream",
     "text": [
      "/Users/jakubblaha/Documents/thesis/thesis-python/main.py:111: RuntimeWarning: There were no Annotations stored in <EpochsArray | 1 events (all good), 0 – 14.992 s (baseline off), ~225 kB, data loaded,\n",
      " '1': 1>, so metadata was not modified.\n",
      "  res = mne_connectivity.spectral_connectivity_time(\n"
     ]
    },
    {
     "name": "stdout",
     "output_type": "stream",
     "text": [
      "[Connectivity computation done]\n",
      "5\n",
      "[ 4.    4.25  4.5   4.75  5.    5.25  5.5   5.75  6.    6.25  6.5   6.75\n",
      "  7.    7.25  7.5   7.75  8.    8.25  8.5   8.75  9.    9.25  9.5   9.75\n",
      " 10.   10.25 10.5  10.75 11.   11.25 11.5  11.75 12.   12.25 12.5  12.75\n",
      " 13.   13.25 13.5  13.75 14.   14.25 14.5  14.75 15.   15.25 15.5  15.75\n",
      " 16.   16.25 16.5  16.75 17.   17.25 17.5  17.75 18.   18.25 18.5  18.75\n",
      " 19.   19.25 19.5  19.75 20.   20.25 20.5  20.75 21.   21.25 21.5  21.75\n",
      " 22.   22.25 22.5  22.75 23.   23.25 23.5  23.75 24.   24.25 24.5  24.75\n",
      " 25.   25.25 25.5  25.75 26.   26.25 26.5  26.75 27.   27.25 27.5  27.75\n",
      " 28.   28.25 28.5  28.75 29.   29.25 29.5  29.75 30.   30.25 30.5  30.75\n",
      " 31.   31.25 31.5  31.75 32.   32.25 32.5  32.75 33.   33.25 33.5  33.75\n",
      " 34.   34.25 34.5  34.75 35.   35.25 35.5  35.75 36.   36.25 36.5  36.75\n",
      " 37.   37.25 37.5  37.75 38.   38.25 38.5  38.75 39.   39.25 39.5  39.75\n",
      " 40.   40.25 40.5  40.75 41.   41.25 41.5  41.75 42.   42.25 42.5  42.75\n",
      " 43.   43.25 43.5  43.75 44.   44.25 44.5  44.75 45.  ]\n",
      "only using indices for lower-triangular matrix\n",
      "Connectivity computation...\n",
      "   Processing epoch 1 / 1 ...\n"
     ]
    },
    {
     "name": "stderr",
     "output_type": "stream",
     "text": [
      "/Users/jakubblaha/Documents/thesis/thesis-python/main.py:111: RuntimeWarning: There were no Annotations stored in <EpochsArray | 1 events (all good), 0 – 14.992 s (baseline off), ~225 kB, data loaded,\n",
      " '1': 1>, so metadata was not modified.\n",
      "  res = mne_connectivity.spectral_connectivity_time(\n"
     ]
    },
    {
     "name": "stdout",
     "output_type": "stream",
     "text": [
      "[Connectivity computation done]\n",
      "6\n",
      "[ 4.    4.25  4.5   4.75  5.    5.25  5.5   5.75  6.    6.25  6.5   6.75\n",
      "  7.    7.25  7.5   7.75  8.    8.25  8.5   8.75  9.    9.25  9.5   9.75\n",
      " 10.   10.25 10.5  10.75 11.   11.25 11.5  11.75 12.   12.25 12.5  12.75\n",
      " 13.   13.25 13.5  13.75 14.   14.25 14.5  14.75 15.   15.25 15.5  15.75\n",
      " 16.   16.25 16.5  16.75 17.   17.25 17.5  17.75 18.   18.25 18.5  18.75\n",
      " 19.   19.25 19.5  19.75 20.   20.25 20.5  20.75 21.   21.25 21.5  21.75\n",
      " 22.   22.25 22.5  22.75 23.   23.25 23.5  23.75 24.   24.25 24.5  24.75\n",
      " 25.   25.25 25.5  25.75 26.   26.25 26.5  26.75 27.   27.25 27.5  27.75\n",
      " 28.   28.25 28.5  28.75 29.   29.25 29.5  29.75 30.   30.25 30.5  30.75\n",
      " 31.   31.25 31.5  31.75 32.   32.25 32.5  32.75 33.   33.25 33.5  33.75\n",
      " 34.   34.25 34.5  34.75 35.   35.25 35.5  35.75 36.   36.25 36.5  36.75\n",
      " 37.   37.25 37.5  37.75 38.   38.25 38.5  38.75 39.   39.25 39.5  39.75\n",
      " 40.   40.25 40.5  40.75 41.   41.25 41.5  41.75 42.   42.25 42.5  42.75\n",
      " 43.   43.25 43.5  43.75 44.   44.25 44.5  44.75 45.  ]\n",
      "only using indices for lower-triangular matrix\n",
      "Connectivity computation...\n",
      "   Processing epoch 1 / 1 ...\n"
     ]
    },
    {
     "name": "stderr",
     "output_type": "stream",
     "text": [
      "/Users/jakubblaha/Documents/thesis/thesis-python/main.py:111: RuntimeWarning: There were no Annotations stored in <EpochsArray | 1 events (all good), 0 – 14.992 s (baseline off), ~225 kB, data loaded,\n",
      " '1': 1>, so metadata was not modified.\n",
      "  res = mne_connectivity.spectral_connectivity_time(\n"
     ]
    },
    {
     "name": "stdout",
     "output_type": "stream",
     "text": [
      "[Connectivity computation done]\n",
      "7\n",
      "[ 4.    4.25  4.5   4.75  5.    5.25  5.5   5.75  6.    6.25  6.5   6.75\n",
      "  7.    7.25  7.5   7.75  8.    8.25  8.5   8.75  9.    9.25  9.5   9.75\n",
      " 10.   10.25 10.5  10.75 11.   11.25 11.5  11.75 12.   12.25 12.5  12.75\n",
      " 13.   13.25 13.5  13.75 14.   14.25 14.5  14.75 15.   15.25 15.5  15.75\n",
      " 16.   16.25 16.5  16.75 17.   17.25 17.5  17.75 18.   18.25 18.5  18.75\n",
      " 19.   19.25 19.5  19.75 20.   20.25 20.5  20.75 21.   21.25 21.5  21.75\n",
      " 22.   22.25 22.5  22.75 23.   23.25 23.5  23.75 24.   24.25 24.5  24.75\n",
      " 25.   25.25 25.5  25.75 26.   26.25 26.5  26.75 27.   27.25 27.5  27.75\n",
      " 28.   28.25 28.5  28.75 29.   29.25 29.5  29.75 30.   30.25 30.5  30.75\n",
      " 31.   31.25 31.5  31.75 32.   32.25 32.5  32.75 33.   33.25 33.5  33.75\n",
      " 34.   34.25 34.5  34.75 35.   35.25 35.5  35.75 36.   36.25 36.5  36.75\n",
      " 37.   37.25 37.5  37.75 38.   38.25 38.5  38.75 39.   39.25 39.5  39.75\n",
      " 40.   40.25 40.5  40.75 41.   41.25 41.5  41.75 42.   42.25 42.5  42.75\n",
      " 43.   43.25 43.5  43.75 44.   44.25 44.5  44.75 45.  ]\n",
      "only using indices for lower-triangular matrix\n",
      "Connectivity computation...\n",
      "   Processing epoch 1 / 1 ...\n"
     ]
    },
    {
     "name": "stderr",
     "output_type": "stream",
     "text": [
      "/Users/jakubblaha/Documents/thesis/thesis-python/main.py:111: RuntimeWarning: There were no Annotations stored in <EpochsArray | 1 events (all good), 0 – 14.992 s (baseline off), ~225 kB, data loaded,\n",
      " '1': 1>, so metadata was not modified.\n",
      "  res = mne_connectivity.spectral_connectivity_time(\n"
     ]
    },
    {
     "name": "stdout",
     "output_type": "stream",
     "text": [
      "[Connectivity computation done]\n",
      "8\n",
      "[ 4.    4.25  4.5   4.75  5.    5.25  5.5   5.75  6.    6.25  6.5   6.75\n",
      "  7.    7.25  7.5   7.75  8.    8.25  8.5   8.75  9.    9.25  9.5   9.75\n",
      " 10.   10.25 10.5  10.75 11.   11.25 11.5  11.75 12.   12.25 12.5  12.75\n",
      " 13.   13.25 13.5  13.75 14.   14.25 14.5  14.75 15.   15.25 15.5  15.75\n",
      " 16.   16.25 16.5  16.75 17.   17.25 17.5  17.75 18.   18.25 18.5  18.75\n",
      " 19.   19.25 19.5  19.75 20.   20.25 20.5  20.75 21.   21.25 21.5  21.75\n",
      " 22.   22.25 22.5  22.75 23.   23.25 23.5  23.75 24.   24.25 24.5  24.75\n",
      " 25.   25.25 25.5  25.75 26.   26.25 26.5  26.75 27.   27.25 27.5  27.75\n",
      " 28.   28.25 28.5  28.75 29.   29.25 29.5  29.75 30.   30.25 30.5  30.75\n",
      " 31.   31.25 31.5  31.75 32.   32.25 32.5  32.75 33.   33.25 33.5  33.75\n",
      " 34.   34.25 34.5  34.75 35.   35.25 35.5  35.75 36.   36.25 36.5  36.75\n",
      " 37.   37.25 37.5  37.75 38.   38.25 38.5  38.75 39.   39.25 39.5  39.75\n",
      " 40.   40.25 40.5  40.75 41.   41.25 41.5  41.75 42.   42.25 42.5  42.75\n",
      " 43.   43.25 43.5  43.75 44.   44.25 44.5  44.75 45.  ]\n",
      "only using indices for lower-triangular matrix\n",
      "Connectivity computation...\n",
      "   Processing epoch 1 / 1 ...\n"
     ]
    },
    {
     "name": "stderr",
     "output_type": "stream",
     "text": [
      "/Users/jakubblaha/Documents/thesis/thesis-python/main.py:111: RuntimeWarning: There were no Annotations stored in <EpochsArray | 1 events (all good), 0 – 14.992 s (baseline off), ~225 kB, data loaded,\n",
      " '1': 1>, so metadata was not modified.\n",
      "  res = mne_connectivity.spectral_connectivity_time(\n"
     ]
    },
    {
     "name": "stdout",
     "output_type": "stream",
     "text": [
      "[Connectivity computation done]\n",
      "9\n",
      "[ 4.    4.25  4.5   4.75  5.    5.25  5.5   5.75  6.    6.25  6.5   6.75\n",
      "  7.    7.25  7.5   7.75  8.    8.25  8.5   8.75  9.    9.25  9.5   9.75\n",
      " 10.   10.25 10.5  10.75 11.   11.25 11.5  11.75 12.   12.25 12.5  12.75\n",
      " 13.   13.25 13.5  13.75 14.   14.25 14.5  14.75 15.   15.25 15.5  15.75\n",
      " 16.   16.25 16.5  16.75 17.   17.25 17.5  17.75 18.   18.25 18.5  18.75\n",
      " 19.   19.25 19.5  19.75 20.   20.25 20.5  20.75 21.   21.25 21.5  21.75\n",
      " 22.   22.25 22.5  22.75 23.   23.25 23.5  23.75 24.   24.25 24.5  24.75\n",
      " 25.   25.25 25.5  25.75 26.   26.25 26.5  26.75 27.   27.25 27.5  27.75\n",
      " 28.   28.25 28.5  28.75 29.   29.25 29.5  29.75 30.   30.25 30.5  30.75\n",
      " 31.   31.25 31.5  31.75 32.   32.25 32.5  32.75 33.   33.25 33.5  33.75\n",
      " 34.   34.25 34.5  34.75 35.   35.25 35.5  35.75 36.   36.25 36.5  36.75\n",
      " 37.   37.25 37.5  37.75 38.   38.25 38.5  38.75 39.   39.25 39.5  39.75\n",
      " 40.   40.25 40.5  40.75 41.   41.25 41.5  41.75 42.   42.25 42.5  42.75\n",
      " 43.   43.25 43.5  43.75 44.   44.25 44.5  44.75 45.  ]\n",
      "only using indices for lower-triangular matrix\n",
      "Connectivity computation...\n",
      "   Processing epoch 1 / 1 ...\n"
     ]
    },
    {
     "name": "stderr",
     "output_type": "stream",
     "text": [
      "/Users/jakubblaha/Documents/thesis/thesis-python/main.py:111: RuntimeWarning: There were no Annotations stored in <EpochsArray | 1 events (all good), 0 – 14.992 s (baseline off), ~225 kB, data loaded,\n",
      " '1': 1>, so metadata was not modified.\n",
      "  res = mne_connectivity.spectral_connectivity_time(\n"
     ]
    },
    {
     "name": "stdout",
     "output_type": "stream",
     "text": [
      "[Connectivity computation done]\n",
      "10\n",
      "[ 4.    4.25  4.5   4.75  5.    5.25  5.5   5.75  6.    6.25  6.5   6.75\n",
      "  7.    7.25  7.5   7.75  8.    8.25  8.5   8.75  9.    9.25  9.5   9.75\n",
      " 10.   10.25 10.5  10.75 11.   11.25 11.5  11.75 12.   12.25 12.5  12.75\n",
      " 13.   13.25 13.5  13.75 14.   14.25 14.5  14.75 15.   15.25 15.5  15.75\n",
      " 16.   16.25 16.5  16.75 17.   17.25 17.5  17.75 18.   18.25 18.5  18.75\n",
      " 19.   19.25 19.5  19.75 20.   20.25 20.5  20.75 21.   21.25 21.5  21.75\n",
      " 22.   22.25 22.5  22.75 23.   23.25 23.5  23.75 24.   24.25 24.5  24.75\n",
      " 25.   25.25 25.5  25.75 26.   26.25 26.5  26.75 27.   27.25 27.5  27.75\n",
      " 28.   28.25 28.5  28.75 29.   29.25 29.5  29.75 30.   30.25 30.5  30.75\n",
      " 31.   31.25 31.5  31.75 32.   32.25 32.5  32.75 33.   33.25 33.5  33.75\n",
      " 34.   34.25 34.5  34.75 35.   35.25 35.5  35.75 36.   36.25 36.5  36.75\n",
      " 37.   37.25 37.5  37.75 38.   38.25 38.5  38.75 39.   39.25 39.5  39.75\n",
      " 40.   40.25 40.5  40.75 41.   41.25 41.5  41.75 42.   42.25 42.5  42.75\n",
      " 43.   43.25 43.5  43.75 44.   44.25 44.5  44.75 45.  ]\n",
      "only using indices for lower-triangular matrix\n",
      "Connectivity computation...\n",
      "   Processing epoch 1 / 1 ...\n"
     ]
    },
    {
     "name": "stderr",
     "output_type": "stream",
     "text": [
      "/Users/jakubblaha/Documents/thesis/thesis-python/main.py:111: RuntimeWarning: There were no Annotations stored in <EpochsArray | 1 events (all good), 0 – 14.992 s (baseline off), ~225 kB, data loaded,\n",
      " '1': 1>, so metadata was not modified.\n",
      "  res = mne_connectivity.spectral_connectivity_time(\n"
     ]
    },
    {
     "name": "stdout",
     "output_type": "stream",
     "text": [
      "[Connectivity computation done]\n",
      "11\n",
      "[ 4.    4.25  4.5   4.75  5.    5.25  5.5   5.75  6.    6.25  6.5   6.75\n",
      "  7.    7.25  7.5   7.75  8.    8.25  8.5   8.75  9.    9.25  9.5   9.75\n",
      " 10.   10.25 10.5  10.75 11.   11.25 11.5  11.75 12.   12.25 12.5  12.75\n",
      " 13.   13.25 13.5  13.75 14.   14.25 14.5  14.75 15.   15.25 15.5  15.75\n",
      " 16.   16.25 16.5  16.75 17.   17.25 17.5  17.75 18.   18.25 18.5  18.75\n",
      " 19.   19.25 19.5  19.75 20.   20.25 20.5  20.75 21.   21.25 21.5  21.75\n",
      " 22.   22.25 22.5  22.75 23.   23.25 23.5  23.75 24.   24.25 24.5  24.75\n",
      " 25.   25.25 25.5  25.75 26.   26.25 26.5  26.75 27.   27.25 27.5  27.75\n",
      " 28.   28.25 28.5  28.75 29.   29.25 29.5  29.75 30.   30.25 30.5  30.75\n",
      " 31.   31.25 31.5  31.75 32.   32.25 32.5  32.75 33.   33.25 33.5  33.75\n",
      " 34.   34.25 34.5  34.75 35.   35.25 35.5  35.75 36.   36.25 36.5  36.75\n",
      " 37.   37.25 37.5  37.75 38.   38.25 38.5  38.75 39.   39.25 39.5  39.75\n",
      " 40.   40.25 40.5  40.75 41.   41.25 41.5  41.75 42.   42.25 42.5  42.75\n",
      " 43.   43.25 43.5  43.75 44.   44.25 44.5  44.75 45.  ]\n",
      "only using indices for lower-triangular matrix\n",
      "Connectivity computation...\n",
      "   Processing epoch 1 / 1 ...\n"
     ]
    },
    {
     "name": "stderr",
     "output_type": "stream",
     "text": [
      "/Users/jakubblaha/Documents/thesis/thesis-python/main.py:111: RuntimeWarning: There were no Annotations stored in <EpochsArray | 1 events (all good), 0 – 14.992 s (baseline off), ~225 kB, data loaded,\n",
      " '1': 1>, so metadata was not modified.\n",
      "  res = mne_connectivity.spectral_connectivity_time(\n"
     ]
    },
    {
     "name": "stdout",
     "output_type": "stream",
     "text": [
      "[Connectivity computation done]\n",
      "12\n",
      "[ 4.    4.25  4.5   4.75  5.    5.25  5.5   5.75  6.    6.25  6.5   6.75\n",
      "  7.    7.25  7.5   7.75  8.    8.25  8.5   8.75  9.    9.25  9.5   9.75\n",
      " 10.   10.25 10.5  10.75 11.   11.25 11.5  11.75 12.   12.25 12.5  12.75\n",
      " 13.   13.25 13.5  13.75 14.   14.25 14.5  14.75 15.   15.25 15.5  15.75\n",
      " 16.   16.25 16.5  16.75 17.   17.25 17.5  17.75 18.   18.25 18.5  18.75\n",
      " 19.   19.25 19.5  19.75 20.   20.25 20.5  20.75 21.   21.25 21.5  21.75\n",
      " 22.   22.25 22.5  22.75 23.   23.25 23.5  23.75 24.   24.25 24.5  24.75\n",
      " 25.   25.25 25.5  25.75 26.   26.25 26.5  26.75 27.   27.25 27.5  27.75\n",
      " 28.   28.25 28.5  28.75 29.   29.25 29.5  29.75 30.   30.25 30.5  30.75\n",
      " 31.   31.25 31.5  31.75 32.   32.25 32.5  32.75 33.   33.25 33.5  33.75\n",
      " 34.   34.25 34.5  34.75 35.   35.25 35.5  35.75 36.   36.25 36.5  36.75\n",
      " 37.   37.25 37.5  37.75 38.   38.25 38.5  38.75 39.   39.25 39.5  39.75\n",
      " 40.   40.25 40.5  40.75 41.   41.25 41.5  41.75 42.   42.25 42.5  42.75\n",
      " 43.   43.25 43.5  43.75 44.   44.25 44.5  44.75 45.  ]\n",
      "only using indices for lower-triangular matrix\n",
      "Connectivity computation...\n",
      "   Processing epoch 1 / 1 ...\n"
     ]
    },
    {
     "name": "stderr",
     "output_type": "stream",
     "text": [
      "/Users/jakubblaha/Documents/thesis/thesis-python/main.py:111: RuntimeWarning: There were no Annotations stored in <EpochsArray | 1 events (all good), 0 – 14.992 s (baseline off), ~225 kB, data loaded,\n",
      " '1': 1>, so metadata was not modified.\n",
      "  res = mne_connectivity.spectral_connectivity_time(\n"
     ]
    },
    {
     "name": "stdout",
     "output_type": "stream",
     "text": [
      "[Connectivity computation done]\n",
      "13\n",
      "[ 4.    4.25  4.5   4.75  5.    5.25  5.5   5.75  6.    6.25  6.5   6.75\n",
      "  7.    7.25  7.5   7.75  8.    8.25  8.5   8.75  9.    9.25  9.5   9.75\n",
      " 10.   10.25 10.5  10.75 11.   11.25 11.5  11.75 12.   12.25 12.5  12.75\n",
      " 13.   13.25 13.5  13.75 14.   14.25 14.5  14.75 15.   15.25 15.5  15.75\n",
      " 16.   16.25 16.5  16.75 17.   17.25 17.5  17.75 18.   18.25 18.5  18.75\n",
      " 19.   19.25 19.5  19.75 20.   20.25 20.5  20.75 21.   21.25 21.5  21.75\n",
      " 22.   22.25 22.5  22.75 23.   23.25 23.5  23.75 24.   24.25 24.5  24.75\n",
      " 25.   25.25 25.5  25.75 26.   26.25 26.5  26.75 27.   27.25 27.5  27.75\n",
      " 28.   28.25 28.5  28.75 29.   29.25 29.5  29.75 30.   30.25 30.5  30.75\n",
      " 31.   31.25 31.5  31.75 32.   32.25 32.5  32.75 33.   33.25 33.5  33.75\n",
      " 34.   34.25 34.5  34.75 35.   35.25 35.5  35.75 36.   36.25 36.5  36.75\n",
      " 37.   37.25 37.5  37.75 38.   38.25 38.5  38.75 39.   39.25 39.5  39.75\n",
      " 40.   40.25 40.5  40.75 41.   41.25 41.5  41.75 42.   42.25 42.5  42.75\n",
      " 43.   43.25 43.5  43.75 44.   44.25 44.5  44.75 45.  ]\n",
      "only using indices for lower-triangular matrix\n",
      "Connectivity computation...\n",
      "   Processing epoch 1 / 1 ...\n"
     ]
    },
    {
     "name": "stderr",
     "output_type": "stream",
     "text": [
      "/Users/jakubblaha/Documents/thesis/thesis-python/main.py:111: RuntimeWarning: There were no Annotations stored in <EpochsArray | 1 events (all good), 0 – 14.992 s (baseline off), ~225 kB, data loaded,\n",
      " '1': 1>, so metadata was not modified.\n",
      "  res = mne_connectivity.spectral_connectivity_time(\n"
     ]
    },
    {
     "name": "stdout",
     "output_type": "stream",
     "text": [
      "[Connectivity computation done]\n",
      "14\n",
      "[ 4.    4.25  4.5   4.75  5.    5.25  5.5   5.75  6.    6.25  6.5   6.75\n",
      "  7.    7.25  7.5   7.75  8.    8.25  8.5   8.75  9.    9.25  9.5   9.75\n",
      " 10.   10.25 10.5  10.75 11.   11.25 11.5  11.75 12.   12.25 12.5  12.75\n",
      " 13.   13.25 13.5  13.75 14.   14.25 14.5  14.75 15.   15.25 15.5  15.75\n",
      " 16.   16.25 16.5  16.75 17.   17.25 17.5  17.75 18.   18.25 18.5  18.75\n",
      " 19.   19.25 19.5  19.75 20.   20.25 20.5  20.75 21.   21.25 21.5  21.75\n",
      " 22.   22.25 22.5  22.75 23.   23.25 23.5  23.75 24.   24.25 24.5  24.75\n",
      " 25.   25.25 25.5  25.75 26.   26.25 26.5  26.75 27.   27.25 27.5  27.75\n",
      " 28.   28.25 28.5  28.75 29.   29.25 29.5  29.75 30.   30.25 30.5  30.75\n",
      " 31.   31.25 31.5  31.75 32.   32.25 32.5  32.75 33.   33.25 33.5  33.75\n",
      " 34.   34.25 34.5  34.75 35.   35.25 35.5  35.75 36.   36.25 36.5  36.75\n",
      " 37.   37.25 37.5  37.75 38.   38.25 38.5  38.75 39.   39.25 39.5  39.75\n",
      " 40.   40.25 40.5  40.75 41.   41.25 41.5  41.75 42.   42.25 42.5  42.75\n",
      " 43.   43.25 43.5  43.75 44.   44.25 44.5  44.75 45.  ]\n",
      "only using indices for lower-triangular matrix\n",
      "Connectivity computation...\n",
      "   Processing epoch 1 / 1 ...\n"
     ]
    },
    {
     "name": "stderr",
     "output_type": "stream",
     "text": [
      "/Users/jakubblaha/Documents/thesis/thesis-python/main.py:111: RuntimeWarning: There were no Annotations stored in <EpochsArray | 1 events (all good), 0 – 14.992 s (baseline off), ~225 kB, data loaded,\n",
      " '1': 1>, so metadata was not modified.\n",
      "  res = mne_connectivity.spectral_connectivity_time(\n"
     ]
    },
    {
     "name": "stdout",
     "output_type": "stream",
     "text": [
      "[Connectivity computation done]\n",
      "15\n",
      "[ 4.    4.25  4.5   4.75  5.    5.25  5.5   5.75  6.    6.25  6.5   6.75\n",
      "  7.    7.25  7.5   7.75  8.    8.25  8.5   8.75  9.    9.25  9.5   9.75\n",
      " 10.   10.25 10.5  10.75 11.   11.25 11.5  11.75 12.   12.25 12.5  12.75\n",
      " 13.   13.25 13.5  13.75 14.   14.25 14.5  14.75 15.   15.25 15.5  15.75\n",
      " 16.   16.25 16.5  16.75 17.   17.25 17.5  17.75 18.   18.25 18.5  18.75\n",
      " 19.   19.25 19.5  19.75 20.   20.25 20.5  20.75 21.   21.25 21.5  21.75\n",
      " 22.   22.25 22.5  22.75 23.   23.25 23.5  23.75 24.   24.25 24.5  24.75\n",
      " 25.   25.25 25.5  25.75 26.   26.25 26.5  26.75 27.   27.25 27.5  27.75\n",
      " 28.   28.25 28.5  28.75 29.   29.25 29.5  29.75 30.   30.25 30.5  30.75\n",
      " 31.   31.25 31.5  31.75 32.   32.25 32.5  32.75 33.   33.25 33.5  33.75\n",
      " 34.   34.25 34.5  34.75 35.   35.25 35.5  35.75 36.   36.25 36.5  36.75\n",
      " 37.   37.25 37.5  37.75 38.   38.25 38.5  38.75 39.   39.25 39.5  39.75\n",
      " 40.   40.25 40.5  40.75 41.   41.25 41.5  41.75 42.   42.25 42.5  42.75\n",
      " 43.   43.25 43.5  43.75 44.   44.25 44.5  44.75 45.  ]\n",
      "only using indices for lower-triangular matrix\n",
      "Connectivity computation...\n",
      "   Processing epoch 1 / 1 ...\n"
     ]
    },
    {
     "name": "stderr",
     "output_type": "stream",
     "text": [
      "/Users/jakubblaha/Documents/thesis/thesis-python/main.py:111: RuntimeWarning: There were no Annotations stored in <EpochsArray | 1 events (all good), 0 – 14.992 s (baseline off), ~225 kB, data loaded,\n",
      " '1': 1>, so metadata was not modified.\n",
      "  res = mne_connectivity.spectral_connectivity_time(\n"
     ]
    },
    {
     "name": "stdout",
     "output_type": "stream",
     "text": [
      "[Connectivity computation done]\n",
      "16\n",
      "[ 4.    4.25  4.5   4.75  5.    5.25  5.5   5.75  6.    6.25  6.5   6.75\n",
      "  7.    7.25  7.5   7.75  8.    8.25  8.5   8.75  9.    9.25  9.5   9.75\n",
      " 10.   10.25 10.5  10.75 11.   11.25 11.5  11.75 12.   12.25 12.5  12.75\n",
      " 13.   13.25 13.5  13.75 14.   14.25 14.5  14.75 15.   15.25 15.5  15.75\n",
      " 16.   16.25 16.5  16.75 17.   17.25 17.5  17.75 18.   18.25 18.5  18.75\n",
      " 19.   19.25 19.5  19.75 20.   20.25 20.5  20.75 21.   21.25 21.5  21.75\n",
      " 22.   22.25 22.5  22.75 23.   23.25 23.5  23.75 24.   24.25 24.5  24.75\n",
      " 25.   25.25 25.5  25.75 26.   26.25 26.5  26.75 27.   27.25 27.5  27.75\n",
      " 28.   28.25 28.5  28.75 29.   29.25 29.5  29.75 30.   30.25 30.5  30.75\n",
      " 31.   31.25 31.5  31.75 32.   32.25 32.5  32.75 33.   33.25 33.5  33.75\n",
      " 34.   34.25 34.5  34.75 35.   35.25 35.5  35.75 36.   36.25 36.5  36.75\n",
      " 37.   37.25 37.5  37.75 38.   38.25 38.5  38.75 39.   39.25 39.5  39.75\n",
      " 40.   40.25 40.5  40.75 41.   41.25 41.5  41.75 42.   42.25 42.5  42.75\n",
      " 43.   43.25 43.5  43.75 44.   44.25 44.5  44.75 45.  ]\n",
      "only using indices for lower-triangular matrix\n",
      "Connectivity computation...\n",
      "   Processing epoch 1 / 1 ...\n"
     ]
    },
    {
     "name": "stderr",
     "output_type": "stream",
     "text": [
      "/Users/jakubblaha/Documents/thesis/thesis-python/main.py:111: RuntimeWarning: There were no Annotations stored in <EpochsArray | 1 events (all good), 0 – 14.992 s (baseline off), ~225 kB, data loaded,\n",
      " '1': 1>, so metadata was not modified.\n",
      "  res = mne_connectivity.spectral_connectivity_time(\n"
     ]
    },
    {
     "name": "stdout",
     "output_type": "stream",
     "text": [
      "[Connectivity computation done]\n",
      "17\n",
      "[ 4.    4.25  4.5   4.75  5.    5.25  5.5   5.75  6.    6.25  6.5   6.75\n",
      "  7.    7.25  7.5   7.75  8.    8.25  8.5   8.75  9.    9.25  9.5   9.75\n",
      " 10.   10.25 10.5  10.75 11.   11.25 11.5  11.75 12.   12.25 12.5  12.75\n",
      " 13.   13.25 13.5  13.75 14.   14.25 14.5  14.75 15.   15.25 15.5  15.75\n",
      " 16.   16.25 16.5  16.75 17.   17.25 17.5  17.75 18.   18.25 18.5  18.75\n",
      " 19.   19.25 19.5  19.75 20.   20.25 20.5  20.75 21.   21.25 21.5  21.75\n",
      " 22.   22.25 22.5  22.75 23.   23.25 23.5  23.75 24.   24.25 24.5  24.75\n",
      " 25.   25.25 25.5  25.75 26.   26.25 26.5  26.75 27.   27.25 27.5  27.75\n",
      " 28.   28.25 28.5  28.75 29.   29.25 29.5  29.75 30.   30.25 30.5  30.75\n",
      " 31.   31.25 31.5  31.75 32.   32.25 32.5  32.75 33.   33.25 33.5  33.75\n",
      " 34.   34.25 34.5  34.75 35.   35.25 35.5  35.75 36.   36.25 36.5  36.75\n",
      " 37.   37.25 37.5  37.75 38.   38.25 38.5  38.75 39.   39.25 39.5  39.75\n",
      " 40.   40.25 40.5  40.75 41.   41.25 41.5  41.75 42.   42.25 42.5  42.75\n",
      " 43.   43.25 43.5  43.75 44.   44.25 44.5  44.75 45.  ]\n",
      "only using indices for lower-triangular matrix\n",
      "Connectivity computation...\n",
      "   Processing epoch 1 / 1 ...\n"
     ]
    },
    {
     "name": "stderr",
     "output_type": "stream",
     "text": [
      "/Users/jakubblaha/Documents/thesis/thesis-python/main.py:111: RuntimeWarning: There were no Annotations stored in <EpochsArray | 1 events (all good), 0 – 14.992 s (baseline off), ~225 kB, data loaded,\n",
      " '1': 1>, so metadata was not modified.\n",
      "  res = mne_connectivity.spectral_connectivity_time(\n"
     ]
    },
    {
     "name": "stdout",
     "output_type": "stream",
     "text": [
      "[Connectivity computation done]\n",
      "18\n",
      "[ 4.    4.25  4.5   4.75  5.    5.25  5.5   5.75  6.    6.25  6.5   6.75\n",
      "  7.    7.25  7.5   7.75  8.    8.25  8.5   8.75  9.    9.25  9.5   9.75\n",
      " 10.   10.25 10.5  10.75 11.   11.25 11.5  11.75 12.   12.25 12.5  12.75\n",
      " 13.   13.25 13.5  13.75 14.   14.25 14.5  14.75 15.   15.25 15.5  15.75\n",
      " 16.   16.25 16.5  16.75 17.   17.25 17.5  17.75 18.   18.25 18.5  18.75\n",
      " 19.   19.25 19.5  19.75 20.   20.25 20.5  20.75 21.   21.25 21.5  21.75\n",
      " 22.   22.25 22.5  22.75 23.   23.25 23.5  23.75 24.   24.25 24.5  24.75\n",
      " 25.   25.25 25.5  25.75 26.   26.25 26.5  26.75 27.   27.25 27.5  27.75\n",
      " 28.   28.25 28.5  28.75 29.   29.25 29.5  29.75 30.   30.25 30.5  30.75\n",
      " 31.   31.25 31.5  31.75 32.   32.25 32.5  32.75 33.   33.25 33.5  33.75\n",
      " 34.   34.25 34.5  34.75 35.   35.25 35.5  35.75 36.   36.25 36.5  36.75\n",
      " 37.   37.25 37.5  37.75 38.   38.25 38.5  38.75 39.   39.25 39.5  39.75\n",
      " 40.   40.25 40.5  40.75 41.   41.25 41.5  41.75 42.   42.25 42.5  42.75\n",
      " 43.   43.25 43.5  43.75 44.   44.25 44.5  44.75 45.  ]\n",
      "only using indices for lower-triangular matrix\n",
      "Connectivity computation...\n",
      "   Processing epoch 1 / 1 ...\n"
     ]
    },
    {
     "name": "stderr",
     "output_type": "stream",
     "text": [
      "/Users/jakubblaha/Documents/thesis/thesis-python/main.py:111: RuntimeWarning: There were no Annotations stored in <EpochsArray | 1 events (all good), 0 – 14.992 s (baseline off), ~225 kB, data loaded,\n",
      " '1': 1>, so metadata was not modified.\n",
      "  res = mne_connectivity.spectral_connectivity_time(\n"
     ]
    },
    {
     "name": "stdout",
     "output_type": "stream",
     "text": [
      "[Connectivity computation done]\n",
      "19\n",
      "[ 4.    4.25  4.5   4.75  5.    5.25  5.5   5.75  6.    6.25  6.5   6.75\n",
      "  7.    7.25  7.5   7.75  8.    8.25  8.5   8.75  9.    9.25  9.5   9.75\n",
      " 10.   10.25 10.5  10.75 11.   11.25 11.5  11.75 12.   12.25 12.5  12.75\n",
      " 13.   13.25 13.5  13.75 14.   14.25 14.5  14.75 15.   15.25 15.5  15.75\n",
      " 16.   16.25 16.5  16.75 17.   17.25 17.5  17.75 18.   18.25 18.5  18.75\n",
      " 19.   19.25 19.5  19.75 20.   20.25 20.5  20.75 21.   21.25 21.5  21.75\n",
      " 22.   22.25 22.5  22.75 23.   23.25 23.5  23.75 24.   24.25 24.5  24.75\n",
      " 25.   25.25 25.5  25.75 26.   26.25 26.5  26.75 27.   27.25 27.5  27.75\n",
      " 28.   28.25 28.5  28.75 29.   29.25 29.5  29.75 30.   30.25 30.5  30.75\n",
      " 31.   31.25 31.5  31.75 32.   32.25 32.5  32.75 33.   33.25 33.5  33.75\n",
      " 34.   34.25 34.5  34.75 35.   35.25 35.5  35.75 36.   36.25 36.5  36.75\n",
      " 37.   37.25 37.5  37.75 38.   38.25 38.5  38.75 39.   39.25 39.5  39.75\n",
      " 40.   40.25 40.5  40.75 41.   41.25 41.5  41.75 42.   42.25 42.5  42.75\n",
      " 43.   43.25 43.5  43.75 44.   44.25 44.5  44.75 45.  ]\n",
      "only using indices for lower-triangular matrix\n",
      "Connectivity computation...\n",
      "   Processing epoch 1 / 1 ...\n"
     ]
    },
    {
     "name": "stderr",
     "output_type": "stream",
     "text": [
      "/Users/jakubblaha/Documents/thesis/thesis-python/main.py:111: RuntimeWarning: There were no Annotations stored in <EpochsArray | 1 events (all good), 0 – 14.992 s (baseline off), ~225 kB, data loaded,\n",
      " '1': 1>, so metadata was not modified.\n",
      "  res = mne_connectivity.spectral_connectivity_time(\n"
     ]
    },
    {
     "name": "stdout",
     "output_type": "stream",
     "text": [
      "[Connectivity computation done]\n",
      "20\n",
      "[ 4.    4.25  4.5   4.75  5.    5.25  5.5   5.75  6.    6.25  6.5   6.75\n",
      "  7.    7.25  7.5   7.75  8.    8.25  8.5   8.75  9.    9.25  9.5   9.75\n",
      " 10.   10.25 10.5  10.75 11.   11.25 11.5  11.75 12.   12.25 12.5  12.75\n",
      " 13.   13.25 13.5  13.75 14.   14.25 14.5  14.75 15.   15.25 15.5  15.75\n",
      " 16.   16.25 16.5  16.75 17.   17.25 17.5  17.75 18.   18.25 18.5  18.75\n",
      " 19.   19.25 19.5  19.75 20.   20.25 20.5  20.75 21.   21.25 21.5  21.75\n",
      " 22.   22.25 22.5  22.75 23.   23.25 23.5  23.75 24.   24.25 24.5  24.75\n",
      " 25.   25.25 25.5  25.75 26.   26.25 26.5  26.75 27.   27.25 27.5  27.75\n",
      " 28.   28.25 28.5  28.75 29.   29.25 29.5  29.75 30.   30.25 30.5  30.75\n",
      " 31.   31.25 31.5  31.75 32.   32.25 32.5  32.75 33.   33.25 33.5  33.75\n",
      " 34.   34.25 34.5  34.75 35.   35.25 35.5  35.75 36.   36.25 36.5  36.75\n",
      " 37.   37.25 37.5  37.75 38.   38.25 38.5  38.75 39.   39.25 39.5  39.75\n",
      " 40.   40.25 40.5  40.75 41.   41.25 41.5  41.75 42.   42.25 42.5  42.75\n",
      " 43.   43.25 43.5  43.75 44.   44.25 44.5  44.75 45.  ]\n",
      "only using indices for lower-triangular matrix\n",
      "Connectivity computation...\n",
      "   Processing epoch 1 / 1 ...\n"
     ]
    },
    {
     "name": "stderr",
     "output_type": "stream",
     "text": [
      "/Users/jakubblaha/Documents/thesis/thesis-python/main.py:111: RuntimeWarning: There were no Annotations stored in <EpochsArray | 1 events (all good), 0 – 14.992 s (baseline off), ~225 kB, data loaded,\n",
      " '1': 1>, so metadata was not modified.\n",
      "  res = mne_connectivity.spectral_connectivity_time(\n"
     ]
    },
    {
     "name": "stdout",
     "output_type": "stream",
     "text": [
      "[Connectivity computation done]\n",
      "21\n",
      "[ 4.    4.25  4.5   4.75  5.    5.25  5.5   5.75  6.    6.25  6.5   6.75\n",
      "  7.    7.25  7.5   7.75  8.    8.25  8.5   8.75  9.    9.25  9.5   9.75\n",
      " 10.   10.25 10.5  10.75 11.   11.25 11.5  11.75 12.   12.25 12.5  12.75\n",
      " 13.   13.25 13.5  13.75 14.   14.25 14.5  14.75 15.   15.25 15.5  15.75\n",
      " 16.   16.25 16.5  16.75 17.   17.25 17.5  17.75 18.   18.25 18.5  18.75\n",
      " 19.   19.25 19.5  19.75 20.   20.25 20.5  20.75 21.   21.25 21.5  21.75\n",
      " 22.   22.25 22.5  22.75 23.   23.25 23.5  23.75 24.   24.25 24.5  24.75\n",
      " 25.   25.25 25.5  25.75 26.   26.25 26.5  26.75 27.   27.25 27.5  27.75\n",
      " 28.   28.25 28.5  28.75 29.   29.25 29.5  29.75 30.   30.25 30.5  30.75\n",
      " 31.   31.25 31.5  31.75 32.   32.25 32.5  32.75 33.   33.25 33.5  33.75\n",
      " 34.   34.25 34.5  34.75 35.   35.25 35.5  35.75 36.   36.25 36.5  36.75\n",
      " 37.   37.25 37.5  37.75 38.   38.25 38.5  38.75 39.   39.25 39.5  39.75\n",
      " 40.   40.25 40.5  40.75 41.   41.25 41.5  41.75 42.   42.25 42.5  42.75\n",
      " 43.   43.25 43.5  43.75 44.   44.25 44.5  44.75 45.  ]\n",
      "only using indices for lower-triangular matrix\n",
      "Connectivity computation...\n",
      "   Processing epoch 1 / 1 ...\n"
     ]
    },
    {
     "name": "stderr",
     "output_type": "stream",
     "text": [
      "/Users/jakubblaha/Documents/thesis/thesis-python/main.py:111: RuntimeWarning: There were no Annotations stored in <EpochsArray | 1 events (all good), 0 – 14.992 s (baseline off), ~225 kB, data loaded,\n",
      " '1': 1>, so metadata was not modified.\n",
      "  res = mne_connectivity.spectral_connectivity_time(\n"
     ]
    },
    {
     "name": "stdout",
     "output_type": "stream",
     "text": [
      "[Connectivity computation done]\n",
      "22\n",
      "[ 4.    4.25  4.5   4.75  5.    5.25  5.5   5.75  6.    6.25  6.5   6.75\n",
      "  7.    7.25  7.5   7.75  8.    8.25  8.5   8.75  9.    9.25  9.5   9.75\n",
      " 10.   10.25 10.5  10.75 11.   11.25 11.5  11.75 12.   12.25 12.5  12.75\n",
      " 13.   13.25 13.5  13.75 14.   14.25 14.5  14.75 15.   15.25 15.5  15.75\n",
      " 16.   16.25 16.5  16.75 17.   17.25 17.5  17.75 18.   18.25 18.5  18.75\n",
      " 19.   19.25 19.5  19.75 20.   20.25 20.5  20.75 21.   21.25 21.5  21.75\n",
      " 22.   22.25 22.5  22.75 23.   23.25 23.5  23.75 24.   24.25 24.5  24.75\n",
      " 25.   25.25 25.5  25.75 26.   26.25 26.5  26.75 27.   27.25 27.5  27.75\n",
      " 28.   28.25 28.5  28.75 29.   29.25 29.5  29.75 30.   30.25 30.5  30.75\n",
      " 31.   31.25 31.5  31.75 32.   32.25 32.5  32.75 33.   33.25 33.5  33.75\n",
      " 34.   34.25 34.5  34.75 35.   35.25 35.5  35.75 36.   36.25 36.5  36.75\n",
      " 37.   37.25 37.5  37.75 38.   38.25 38.5  38.75 39.   39.25 39.5  39.75\n",
      " 40.   40.25 40.5  40.75 41.   41.25 41.5  41.75 42.   42.25 42.5  42.75\n",
      " 43.   43.25 43.5  43.75 44.   44.25 44.5  44.75 45.  ]\n",
      "only using indices for lower-triangular matrix\n",
      "Connectivity computation...\n",
      "   Processing epoch 1 / 1 ...\n"
     ]
    },
    {
     "name": "stderr",
     "output_type": "stream",
     "text": [
      "/Users/jakubblaha/Documents/thesis/thesis-python/main.py:111: RuntimeWarning: There were no Annotations stored in <EpochsArray | 1 events (all good), 0 – 14.992 s (baseline off), ~225 kB, data loaded,\n",
      " '1': 1>, so metadata was not modified.\n",
      "  res = mne_connectivity.spectral_connectivity_time(\n"
     ]
    },
    {
     "name": "stdout",
     "output_type": "stream",
     "text": [
      "[Connectivity computation done]\n",
      "23\n",
      "[ 4.    4.25  4.5   4.75  5.    5.25  5.5   5.75  6.    6.25  6.5   6.75\n",
      "  7.    7.25  7.5   7.75  8.    8.25  8.5   8.75  9.    9.25  9.5   9.75\n",
      " 10.   10.25 10.5  10.75 11.   11.25 11.5  11.75 12.   12.25 12.5  12.75\n",
      " 13.   13.25 13.5  13.75 14.   14.25 14.5  14.75 15.   15.25 15.5  15.75\n",
      " 16.   16.25 16.5  16.75 17.   17.25 17.5  17.75 18.   18.25 18.5  18.75\n",
      " 19.   19.25 19.5  19.75 20.   20.25 20.5  20.75 21.   21.25 21.5  21.75\n",
      " 22.   22.25 22.5  22.75 23.   23.25 23.5  23.75 24.   24.25 24.5  24.75\n",
      " 25.   25.25 25.5  25.75 26.   26.25 26.5  26.75 27.   27.25 27.5  27.75\n",
      " 28.   28.25 28.5  28.75 29.   29.25 29.5  29.75 30.   30.25 30.5  30.75\n",
      " 31.   31.25 31.5  31.75 32.   32.25 32.5  32.75 33.   33.25 33.5  33.75\n",
      " 34.   34.25 34.5  34.75 35.   35.25 35.5  35.75 36.   36.25 36.5  36.75\n",
      " 37.   37.25 37.5  37.75 38.   38.25 38.5  38.75 39.   39.25 39.5  39.75\n",
      " 40.   40.25 40.5  40.75 41.   41.25 41.5  41.75 42.   42.25 42.5  42.75\n",
      " 43.   43.25 43.5  43.75 44.   44.25 44.5  44.75 45.  ]\n",
      "only using indices for lower-triangular matrix\n",
      "Connectivity computation...\n",
      "   Processing epoch 1 / 1 ...\n"
     ]
    },
    {
     "name": "stderr",
     "output_type": "stream",
     "text": [
      "/Users/jakubblaha/Documents/thesis/thesis-python/main.py:111: RuntimeWarning: There were no Annotations stored in <EpochsArray | 1 events (all good), 0 – 14.992 s (baseline off), ~225 kB, data loaded,\n",
      " '1': 1>, so metadata was not modified.\n",
      "  res = mne_connectivity.spectral_connectivity_time(\n"
     ]
    },
    {
     "name": "stdout",
     "output_type": "stream",
     "text": [
      "[Connectivity computation done]\n",
      "24\n",
      "[ 4.    4.25  4.5   4.75  5.    5.25  5.5   5.75  6.    6.25  6.5   6.75\n",
      "  7.    7.25  7.5   7.75  8.    8.25  8.5   8.75  9.    9.25  9.5   9.75\n",
      " 10.   10.25 10.5  10.75 11.   11.25 11.5  11.75 12.   12.25 12.5  12.75\n",
      " 13.   13.25 13.5  13.75 14.   14.25 14.5  14.75 15.   15.25 15.5  15.75\n",
      " 16.   16.25 16.5  16.75 17.   17.25 17.5  17.75 18.   18.25 18.5  18.75\n",
      " 19.   19.25 19.5  19.75 20.   20.25 20.5  20.75 21.   21.25 21.5  21.75\n",
      " 22.   22.25 22.5  22.75 23.   23.25 23.5  23.75 24.   24.25 24.5  24.75\n",
      " 25.   25.25 25.5  25.75 26.   26.25 26.5  26.75 27.   27.25 27.5  27.75\n",
      " 28.   28.25 28.5  28.75 29.   29.25 29.5  29.75 30.   30.25 30.5  30.75\n",
      " 31.   31.25 31.5  31.75 32.   32.25 32.5  32.75 33.   33.25 33.5  33.75\n",
      " 34.   34.25 34.5  34.75 35.   35.25 35.5  35.75 36.   36.25 36.5  36.75\n",
      " 37.   37.25 37.5  37.75 38.   38.25 38.5  38.75 39.   39.25 39.5  39.75\n",
      " 40.   40.25 40.5  40.75 41.   41.25 41.5  41.75 42.   42.25 42.5  42.75\n",
      " 43.   43.25 43.5  43.75 44.   44.25 44.5  44.75 45.  ]\n",
      "only using indices for lower-triangular matrix\n",
      "Connectivity computation...\n",
      "   Processing epoch 1 / 1 ...\n"
     ]
    },
    {
     "name": "stderr",
     "output_type": "stream",
     "text": [
      "/Users/jakubblaha/Documents/thesis/thesis-python/main.py:111: RuntimeWarning: There were no Annotations stored in <EpochsArray | 1 events (all good), 0 – 14.992 s (baseline off), ~225 kB, data loaded,\n",
      " '1': 1>, so metadata was not modified.\n",
      "  res = mne_connectivity.spectral_connectivity_time(\n"
     ]
    },
    {
     "name": "stdout",
     "output_type": "stream",
     "text": [
      "[Connectivity computation done]\n",
      "25\n",
      "[ 4.    4.25  4.5   4.75  5.    5.25  5.5   5.75  6.    6.25  6.5   6.75\n",
      "  7.    7.25  7.5   7.75  8.    8.25  8.5   8.75  9.    9.25  9.5   9.75\n",
      " 10.   10.25 10.5  10.75 11.   11.25 11.5  11.75 12.   12.25 12.5  12.75\n",
      " 13.   13.25 13.5  13.75 14.   14.25 14.5  14.75 15.   15.25 15.5  15.75\n",
      " 16.   16.25 16.5  16.75 17.   17.25 17.5  17.75 18.   18.25 18.5  18.75\n",
      " 19.   19.25 19.5  19.75 20.   20.25 20.5  20.75 21.   21.25 21.5  21.75\n",
      " 22.   22.25 22.5  22.75 23.   23.25 23.5  23.75 24.   24.25 24.5  24.75\n",
      " 25.   25.25 25.5  25.75 26.   26.25 26.5  26.75 27.   27.25 27.5  27.75\n",
      " 28.   28.25 28.5  28.75 29.   29.25 29.5  29.75 30.   30.25 30.5  30.75\n",
      " 31.   31.25 31.5  31.75 32.   32.25 32.5  32.75 33.   33.25 33.5  33.75\n",
      " 34.   34.25 34.5  34.75 35.   35.25 35.5  35.75 36.   36.25 36.5  36.75\n",
      " 37.   37.25 37.5  37.75 38.   38.25 38.5  38.75 39.   39.25 39.5  39.75\n",
      " 40.   40.25 40.5  40.75 41.   41.25 41.5  41.75 42.   42.25 42.5  42.75\n",
      " 43.   43.25 43.5  43.75 44.   44.25 44.5  44.75 45.  ]\n",
      "only using indices for lower-triangular matrix\n",
      "Connectivity computation...\n",
      "   Processing epoch 1 / 1 ...\n"
     ]
    },
    {
     "name": "stderr",
     "output_type": "stream",
     "text": [
      "/Users/jakubblaha/Documents/thesis/thesis-python/main.py:111: RuntimeWarning: There were no Annotations stored in <EpochsArray | 1 events (all good), 0 – 14.992 s (baseline off), ~225 kB, data loaded,\n",
      " '1': 1>, so metadata was not modified.\n",
      "  res = mne_connectivity.spectral_connectivity_time(\n"
     ]
    },
    {
     "name": "stdout",
     "output_type": "stream",
     "text": [
      "[Connectivity computation done]\n",
      "26\n",
      "[ 4.    4.25  4.5   4.75  5.    5.25  5.5   5.75  6.    6.25  6.5   6.75\n",
      "  7.    7.25  7.5   7.75  8.    8.25  8.5   8.75  9.    9.25  9.5   9.75\n",
      " 10.   10.25 10.5  10.75 11.   11.25 11.5  11.75 12.   12.25 12.5  12.75\n",
      " 13.   13.25 13.5  13.75 14.   14.25 14.5  14.75 15.   15.25 15.5  15.75\n",
      " 16.   16.25 16.5  16.75 17.   17.25 17.5  17.75 18.   18.25 18.5  18.75\n",
      " 19.   19.25 19.5  19.75 20.   20.25 20.5  20.75 21.   21.25 21.5  21.75\n",
      " 22.   22.25 22.5  22.75 23.   23.25 23.5  23.75 24.   24.25 24.5  24.75\n",
      " 25.   25.25 25.5  25.75 26.   26.25 26.5  26.75 27.   27.25 27.5  27.75\n",
      " 28.   28.25 28.5  28.75 29.   29.25 29.5  29.75 30.   30.25 30.5  30.75\n",
      " 31.   31.25 31.5  31.75 32.   32.25 32.5  32.75 33.   33.25 33.5  33.75\n",
      " 34.   34.25 34.5  34.75 35.   35.25 35.5  35.75 36.   36.25 36.5  36.75\n",
      " 37.   37.25 37.5  37.75 38.   38.25 38.5  38.75 39.   39.25 39.5  39.75\n",
      " 40.   40.25 40.5  40.75 41.   41.25 41.5  41.75 42.   42.25 42.5  42.75\n",
      " 43.   43.25 43.5  43.75 44.   44.25 44.5  44.75 45.  ]\n",
      "only using indices for lower-triangular matrix\n",
      "Connectivity computation...\n",
      "   Processing epoch 1 / 1 ...\n"
     ]
    },
    {
     "name": "stderr",
     "output_type": "stream",
     "text": [
      "/Users/jakubblaha/Documents/thesis/thesis-python/main.py:111: RuntimeWarning: There were no Annotations stored in <EpochsArray | 1 events (all good), 0 – 14.992 s (baseline off), ~225 kB, data loaded,\n",
      " '1': 1>, so metadata was not modified.\n",
      "  res = mne_connectivity.spectral_connectivity_time(\n"
     ]
    },
    {
     "name": "stdout",
     "output_type": "stream",
     "text": [
      "[Connectivity computation done]\n",
      "27\n",
      "[ 4.    4.25  4.5   4.75  5.    5.25  5.5   5.75  6.    6.25  6.5   6.75\n",
      "  7.    7.25  7.5   7.75  8.    8.25  8.5   8.75  9.    9.25  9.5   9.75\n",
      " 10.   10.25 10.5  10.75 11.   11.25 11.5  11.75 12.   12.25 12.5  12.75\n",
      " 13.   13.25 13.5  13.75 14.   14.25 14.5  14.75 15.   15.25 15.5  15.75\n",
      " 16.   16.25 16.5  16.75 17.   17.25 17.5  17.75 18.   18.25 18.5  18.75\n",
      " 19.   19.25 19.5  19.75 20.   20.25 20.5  20.75 21.   21.25 21.5  21.75\n",
      " 22.   22.25 22.5  22.75 23.   23.25 23.5  23.75 24.   24.25 24.5  24.75\n",
      " 25.   25.25 25.5  25.75 26.   26.25 26.5  26.75 27.   27.25 27.5  27.75\n",
      " 28.   28.25 28.5  28.75 29.   29.25 29.5  29.75 30.   30.25 30.5  30.75\n",
      " 31.   31.25 31.5  31.75 32.   32.25 32.5  32.75 33.   33.25 33.5  33.75\n",
      " 34.   34.25 34.5  34.75 35.   35.25 35.5  35.75 36.   36.25 36.5  36.75\n",
      " 37.   37.25 37.5  37.75 38.   38.25 38.5  38.75 39.   39.25 39.5  39.75\n",
      " 40.   40.25 40.5  40.75 41.   41.25 41.5  41.75 42.   42.25 42.5  42.75\n",
      " 43.   43.25 43.5  43.75 44.   44.25 44.5  44.75 45.  ]\n",
      "only using indices for lower-triangular matrix\n",
      "Connectivity computation...\n",
      "   Processing epoch 1 / 1 ...\n"
     ]
    },
    {
     "name": "stderr",
     "output_type": "stream",
     "text": [
      "/Users/jakubblaha/Documents/thesis/thesis-python/main.py:111: RuntimeWarning: There were no Annotations stored in <EpochsArray | 1 events (all good), 0 – 14.992 s (baseline off), ~225 kB, data loaded,\n",
      " '1': 1>, so metadata was not modified.\n",
      "  res = mne_connectivity.spectral_connectivity_time(\n"
     ]
    },
    {
     "name": "stdout",
     "output_type": "stream",
     "text": [
      "[Connectivity computation done]\n",
      "28\n",
      "[ 4.    4.25  4.5   4.75  5.    5.25  5.5   5.75  6.    6.25  6.5   6.75\n",
      "  7.    7.25  7.5   7.75  8.    8.25  8.5   8.75  9.    9.25  9.5   9.75\n",
      " 10.   10.25 10.5  10.75 11.   11.25 11.5  11.75 12.   12.25 12.5  12.75\n",
      " 13.   13.25 13.5  13.75 14.   14.25 14.5  14.75 15.   15.25 15.5  15.75\n",
      " 16.   16.25 16.5  16.75 17.   17.25 17.5  17.75 18.   18.25 18.5  18.75\n",
      " 19.   19.25 19.5  19.75 20.   20.25 20.5  20.75 21.   21.25 21.5  21.75\n",
      " 22.   22.25 22.5  22.75 23.   23.25 23.5  23.75 24.   24.25 24.5  24.75\n",
      " 25.   25.25 25.5  25.75 26.   26.25 26.5  26.75 27.   27.25 27.5  27.75\n",
      " 28.   28.25 28.5  28.75 29.   29.25 29.5  29.75 30.   30.25 30.5  30.75\n",
      " 31.   31.25 31.5  31.75 32.   32.25 32.5  32.75 33.   33.25 33.5  33.75\n",
      " 34.   34.25 34.5  34.75 35.   35.25 35.5  35.75 36.   36.25 36.5  36.75\n",
      " 37.   37.25 37.5  37.75 38.   38.25 38.5  38.75 39.   39.25 39.5  39.75\n",
      " 40.   40.25 40.5  40.75 41.   41.25 41.5  41.75 42.   42.25 42.5  42.75\n",
      " 43.   43.25 43.5  43.75 44.   44.25 44.5  44.75 45.  ]\n",
      "only using indices for lower-triangular matrix\n",
      "Connectivity computation...\n",
      "   Processing epoch 1 / 1 ...\n"
     ]
    },
    {
     "name": "stderr",
     "output_type": "stream",
     "text": [
      "/Users/jakubblaha/Documents/thesis/thesis-python/main.py:111: RuntimeWarning: There were no Annotations stored in <EpochsArray | 1 events (all good), 0 – 14.992 s (baseline off), ~225 kB, data loaded,\n",
      " '1': 1>, so metadata was not modified.\n",
      "  res = mne_connectivity.spectral_connectivity_time(\n"
     ]
    },
    {
     "name": "stdout",
     "output_type": "stream",
     "text": [
      "[Connectivity computation done]\n",
      "29\n",
      "[ 4.    4.25  4.5   4.75  5.    5.25  5.5   5.75  6.    6.25  6.5   6.75\n",
      "  7.    7.25  7.5   7.75  8.    8.25  8.5   8.75  9.    9.25  9.5   9.75\n",
      " 10.   10.25 10.5  10.75 11.   11.25 11.5  11.75 12.   12.25 12.5  12.75\n",
      " 13.   13.25 13.5  13.75 14.   14.25 14.5  14.75 15.   15.25 15.5  15.75\n",
      " 16.   16.25 16.5  16.75 17.   17.25 17.5  17.75 18.   18.25 18.5  18.75\n",
      " 19.   19.25 19.5  19.75 20.   20.25 20.5  20.75 21.   21.25 21.5  21.75\n",
      " 22.   22.25 22.5  22.75 23.   23.25 23.5  23.75 24.   24.25 24.5  24.75\n",
      " 25.   25.25 25.5  25.75 26.   26.25 26.5  26.75 27.   27.25 27.5  27.75\n",
      " 28.   28.25 28.5  28.75 29.   29.25 29.5  29.75 30.   30.25 30.5  30.75\n",
      " 31.   31.25 31.5  31.75 32.   32.25 32.5  32.75 33.   33.25 33.5  33.75\n",
      " 34.   34.25 34.5  34.75 35.   35.25 35.5  35.75 36.   36.25 36.5  36.75\n",
      " 37.   37.25 37.5  37.75 38.   38.25 38.5  38.75 39.   39.25 39.5  39.75\n",
      " 40.   40.25 40.5  40.75 41.   41.25 41.5  41.75 42.   42.25 42.5  42.75\n",
      " 43.   43.25 43.5  43.75 44.   44.25 44.5  44.75 45.  ]\n",
      "only using indices for lower-triangular matrix\n",
      "Connectivity computation...\n",
      "   Processing epoch 1 / 1 ...\n"
     ]
    },
    {
     "name": "stderr",
     "output_type": "stream",
     "text": [
      "/Users/jakubblaha/Documents/thesis/thesis-python/main.py:111: RuntimeWarning: There were no Annotations stored in <EpochsArray | 1 events (all good), 0 – 14.992 s (baseline off), ~225 kB, data loaded,\n",
      " '1': 1>, so metadata was not modified.\n",
      "  res = mne_connectivity.spectral_connectivity_time(\n"
     ]
    },
    {
     "name": "stdout",
     "output_type": "stream",
     "text": [
      "[Connectivity computation done]\n",
      "30\n",
      "[ 4.    4.25  4.5   4.75  5.    5.25  5.5   5.75  6.    6.25  6.5   6.75\n",
      "  7.    7.25  7.5   7.75  8.    8.25  8.5   8.75  9.    9.25  9.5   9.75\n",
      " 10.   10.25 10.5  10.75 11.   11.25 11.5  11.75 12.   12.25 12.5  12.75\n",
      " 13.   13.25 13.5  13.75 14.   14.25 14.5  14.75 15.   15.25 15.5  15.75\n",
      " 16.   16.25 16.5  16.75 17.   17.25 17.5  17.75 18.   18.25 18.5  18.75\n",
      " 19.   19.25 19.5  19.75 20.   20.25 20.5  20.75 21.   21.25 21.5  21.75\n",
      " 22.   22.25 22.5  22.75 23.   23.25 23.5  23.75 24.   24.25 24.5  24.75\n",
      " 25.   25.25 25.5  25.75 26.   26.25 26.5  26.75 27.   27.25 27.5  27.75\n",
      " 28.   28.25 28.5  28.75 29.   29.25 29.5  29.75 30.   30.25 30.5  30.75\n",
      " 31.   31.25 31.5  31.75 32.   32.25 32.5  32.75 33.   33.25 33.5  33.75\n",
      " 34.   34.25 34.5  34.75 35.   35.25 35.5  35.75 36.   36.25 36.5  36.75\n",
      " 37.   37.25 37.5  37.75 38.   38.25 38.5  38.75 39.   39.25 39.5  39.75\n",
      " 40.   40.25 40.5  40.75 41.   41.25 41.5  41.75 42.   42.25 42.5  42.75\n",
      " 43.   43.25 43.5  43.75 44.   44.25 44.5  44.75 45.  ]\n",
      "only using indices for lower-triangular matrix\n",
      "Connectivity computation...\n",
      "   Processing epoch 1 / 1 ...\n"
     ]
    },
    {
     "name": "stderr",
     "output_type": "stream",
     "text": [
      "/Users/jakubblaha/Documents/thesis/thesis-python/main.py:111: RuntimeWarning: There were no Annotations stored in <EpochsArray | 1 events (all good), 0 – 14.992 s (baseline off), ~225 kB, data loaded,\n",
      " '1': 1>, so metadata was not modified.\n",
      "  res = mne_connectivity.spectral_connectivity_time(\n"
     ]
    },
    {
     "name": "stdout",
     "output_type": "stream",
     "text": [
      "[Connectivity computation done]\n",
      "31\n",
      "[ 4.    4.25  4.5   4.75  5.    5.25  5.5   5.75  6.    6.25  6.5   6.75\n",
      "  7.    7.25  7.5   7.75  8.    8.25  8.5   8.75  9.    9.25  9.5   9.75\n",
      " 10.   10.25 10.5  10.75 11.   11.25 11.5  11.75 12.   12.25 12.5  12.75\n",
      " 13.   13.25 13.5  13.75 14.   14.25 14.5  14.75 15.   15.25 15.5  15.75\n",
      " 16.   16.25 16.5  16.75 17.   17.25 17.5  17.75 18.   18.25 18.5  18.75\n",
      " 19.   19.25 19.5  19.75 20.   20.25 20.5  20.75 21.   21.25 21.5  21.75\n",
      " 22.   22.25 22.5  22.75 23.   23.25 23.5  23.75 24.   24.25 24.5  24.75\n",
      " 25.   25.25 25.5  25.75 26.   26.25 26.5  26.75 27.   27.25 27.5  27.75\n",
      " 28.   28.25 28.5  28.75 29.   29.25 29.5  29.75 30.   30.25 30.5  30.75\n",
      " 31.   31.25 31.5  31.75 32.   32.25 32.5  32.75 33.   33.25 33.5  33.75\n",
      " 34.   34.25 34.5  34.75 35.   35.25 35.5  35.75 36.   36.25 36.5  36.75\n",
      " 37.   37.25 37.5  37.75 38.   38.25 38.5  38.75 39.   39.25 39.5  39.75\n",
      " 40.   40.25 40.5  40.75 41.   41.25 41.5  41.75 42.   42.25 42.5  42.75\n",
      " 43.   43.25 43.5  43.75 44.   44.25 44.5  44.75 45.  ]\n",
      "only using indices for lower-triangular matrix\n",
      "Connectivity computation...\n",
      "   Processing epoch 1 / 1 ...\n"
     ]
    },
    {
     "name": "stderr",
     "output_type": "stream",
     "text": [
      "/Users/jakubblaha/Documents/thesis/thesis-python/main.py:111: RuntimeWarning: There were no Annotations stored in <EpochsArray | 1 events (all good), 0 – 14.992 s (baseline off), ~225 kB, data loaded,\n",
      " '1': 1>, so metadata was not modified.\n",
      "  res = mne_connectivity.spectral_connectivity_time(\n"
     ]
    },
    {
     "name": "stdout",
     "output_type": "stream",
     "text": [
      "[Connectivity computation done]\n",
      "32\n",
      "[ 4.    4.25  4.5   4.75  5.    5.25  5.5   5.75  6.    6.25  6.5   6.75\n",
      "  7.    7.25  7.5   7.75  8.    8.25  8.5   8.75  9.    9.25  9.5   9.75\n",
      " 10.   10.25 10.5  10.75 11.   11.25 11.5  11.75 12.   12.25 12.5  12.75\n",
      " 13.   13.25 13.5  13.75 14.   14.25 14.5  14.75 15.   15.25 15.5  15.75\n",
      " 16.   16.25 16.5  16.75 17.   17.25 17.5  17.75 18.   18.25 18.5  18.75\n",
      " 19.   19.25 19.5  19.75 20.   20.25 20.5  20.75 21.   21.25 21.5  21.75\n",
      " 22.   22.25 22.5  22.75 23.   23.25 23.5  23.75 24.   24.25 24.5  24.75\n",
      " 25.   25.25 25.5  25.75 26.   26.25 26.5  26.75 27.   27.25 27.5  27.75\n",
      " 28.   28.25 28.5  28.75 29.   29.25 29.5  29.75 30.   30.25 30.5  30.75\n",
      " 31.   31.25 31.5  31.75 32.   32.25 32.5  32.75 33.   33.25 33.5  33.75\n",
      " 34.   34.25 34.5  34.75 35.   35.25 35.5  35.75 36.   36.25 36.5  36.75\n",
      " 37.   37.25 37.5  37.75 38.   38.25 38.5  38.75 39.   39.25 39.5  39.75\n",
      " 40.   40.25 40.5  40.75 41.   41.25 41.5  41.75 42.   42.25 42.5  42.75\n",
      " 43.   43.25 43.5  43.75 44.   44.25 44.5  44.75 45.  ]\n",
      "only using indices for lower-triangular matrix\n",
      "Connectivity computation...\n",
      "   Processing epoch 1 / 1 ...\n"
     ]
    },
    {
     "name": "stderr",
     "output_type": "stream",
     "text": [
      "/Users/jakubblaha/Documents/thesis/thesis-python/main.py:111: RuntimeWarning: There were no Annotations stored in <EpochsArray | 1 events (all good), 0 – 14.992 s (baseline off), ~225 kB, data loaded,\n",
      " '1': 1>, so metadata was not modified.\n",
      "  res = mne_connectivity.spectral_connectivity_time(\n"
     ]
    },
    {
     "name": "stdout",
     "output_type": "stream",
     "text": [
      "[Connectivity computation done]\n",
      "33\n",
      "[ 4.    4.25  4.5   4.75  5.    5.25  5.5   5.75  6.    6.25  6.5   6.75\n",
      "  7.    7.25  7.5   7.75  8.    8.25  8.5   8.75  9.    9.25  9.5   9.75\n",
      " 10.   10.25 10.5  10.75 11.   11.25 11.5  11.75 12.   12.25 12.5  12.75\n",
      " 13.   13.25 13.5  13.75 14.   14.25 14.5  14.75 15.   15.25 15.5  15.75\n",
      " 16.   16.25 16.5  16.75 17.   17.25 17.5  17.75 18.   18.25 18.5  18.75\n",
      " 19.   19.25 19.5  19.75 20.   20.25 20.5  20.75 21.   21.25 21.5  21.75\n",
      " 22.   22.25 22.5  22.75 23.   23.25 23.5  23.75 24.   24.25 24.5  24.75\n",
      " 25.   25.25 25.5  25.75 26.   26.25 26.5  26.75 27.   27.25 27.5  27.75\n",
      " 28.   28.25 28.5  28.75 29.   29.25 29.5  29.75 30.   30.25 30.5  30.75\n",
      " 31.   31.25 31.5  31.75 32.   32.25 32.5  32.75 33.   33.25 33.5  33.75\n",
      " 34.   34.25 34.5  34.75 35.   35.25 35.5  35.75 36.   36.25 36.5  36.75\n",
      " 37.   37.25 37.5  37.75 38.   38.25 38.5  38.75 39.   39.25 39.5  39.75\n",
      " 40.   40.25 40.5  40.75 41.   41.25 41.5  41.75 42.   42.25 42.5  42.75\n",
      " 43.   43.25 43.5  43.75 44.   44.25 44.5  44.75 45.  ]\n",
      "only using indices for lower-triangular matrix\n",
      "Connectivity computation...\n",
      "   Processing epoch 1 / 1 ...\n"
     ]
    },
    {
     "name": "stderr",
     "output_type": "stream",
     "text": [
      "/Users/jakubblaha/Documents/thesis/thesis-python/main.py:111: RuntimeWarning: There were no Annotations stored in <EpochsArray | 1 events (all good), 0 – 14.992 s (baseline off), ~225 kB, data loaded,\n",
      " '1': 1>, so metadata was not modified.\n",
      "  res = mne_connectivity.spectral_connectivity_time(\n"
     ]
    },
    {
     "name": "stdout",
     "output_type": "stream",
     "text": [
      "[Connectivity computation done]\n",
      "34\n",
      "[ 4.    4.25  4.5   4.75  5.    5.25  5.5   5.75  6.    6.25  6.5   6.75\n",
      "  7.    7.25  7.5   7.75  8.    8.25  8.5   8.75  9.    9.25  9.5   9.75\n",
      " 10.   10.25 10.5  10.75 11.   11.25 11.5  11.75 12.   12.25 12.5  12.75\n",
      " 13.   13.25 13.5  13.75 14.   14.25 14.5  14.75 15.   15.25 15.5  15.75\n",
      " 16.   16.25 16.5  16.75 17.   17.25 17.5  17.75 18.   18.25 18.5  18.75\n",
      " 19.   19.25 19.5  19.75 20.   20.25 20.5  20.75 21.   21.25 21.5  21.75\n",
      " 22.   22.25 22.5  22.75 23.   23.25 23.5  23.75 24.   24.25 24.5  24.75\n",
      " 25.   25.25 25.5  25.75 26.   26.25 26.5  26.75 27.   27.25 27.5  27.75\n",
      " 28.   28.25 28.5  28.75 29.   29.25 29.5  29.75 30.   30.25 30.5  30.75\n",
      " 31.   31.25 31.5  31.75 32.   32.25 32.5  32.75 33.   33.25 33.5  33.75\n",
      " 34.   34.25 34.5  34.75 35.   35.25 35.5  35.75 36.   36.25 36.5  36.75\n",
      " 37.   37.25 37.5  37.75 38.   38.25 38.5  38.75 39.   39.25 39.5  39.75\n",
      " 40.   40.25 40.5  40.75 41.   41.25 41.5  41.75 42.   42.25 42.5  42.75\n",
      " 43.   43.25 43.5  43.75 44.   44.25 44.5  44.75 45.  ]\n",
      "only using indices for lower-triangular matrix\n",
      "Connectivity computation...\n",
      "   Processing epoch 1 / 1 ...\n"
     ]
    },
    {
     "name": "stderr",
     "output_type": "stream",
     "text": [
      "/Users/jakubblaha/Documents/thesis/thesis-python/main.py:111: RuntimeWarning: There were no Annotations stored in <EpochsArray | 1 events (all good), 0 – 14.992 s (baseline off), ~225 kB, data loaded,\n",
      " '1': 1>, so metadata was not modified.\n",
      "  res = mne_connectivity.spectral_connectivity_time(\n"
     ]
    },
    {
     "name": "stdout",
     "output_type": "stream",
     "text": [
      "[Connectivity computation done]\n",
      "35\n",
      "[ 4.    4.25  4.5   4.75  5.    5.25  5.5   5.75  6.    6.25  6.5   6.75\n",
      "  7.    7.25  7.5   7.75  8.    8.25  8.5   8.75  9.    9.25  9.5   9.75\n",
      " 10.   10.25 10.5  10.75 11.   11.25 11.5  11.75 12.   12.25 12.5  12.75\n",
      " 13.   13.25 13.5  13.75 14.   14.25 14.5  14.75 15.   15.25 15.5  15.75\n",
      " 16.   16.25 16.5  16.75 17.   17.25 17.5  17.75 18.   18.25 18.5  18.75\n",
      " 19.   19.25 19.5  19.75 20.   20.25 20.5  20.75 21.   21.25 21.5  21.75\n",
      " 22.   22.25 22.5  22.75 23.   23.25 23.5  23.75 24.   24.25 24.5  24.75\n",
      " 25.   25.25 25.5  25.75 26.   26.25 26.5  26.75 27.   27.25 27.5  27.75\n",
      " 28.   28.25 28.5  28.75 29.   29.25 29.5  29.75 30.   30.25 30.5  30.75\n",
      " 31.   31.25 31.5  31.75 32.   32.25 32.5  32.75 33.   33.25 33.5  33.75\n",
      " 34.   34.25 34.5  34.75 35.   35.25 35.5  35.75 36.   36.25 36.5  36.75\n",
      " 37.   37.25 37.5  37.75 38.   38.25 38.5  38.75 39.   39.25 39.5  39.75\n",
      " 40.   40.25 40.5  40.75 41.   41.25 41.5  41.75 42.   42.25 42.5  42.75\n",
      " 43.   43.25 43.5  43.75 44.   44.25 44.5  44.75 45.  ]\n",
      "only using indices for lower-triangular matrix\n",
      "Connectivity computation...\n",
      "   Processing epoch 1 / 1 ...\n"
     ]
    },
    {
     "name": "stderr",
     "output_type": "stream",
     "text": [
      "/Users/jakubblaha/Documents/thesis/thesis-python/main.py:111: RuntimeWarning: There were no Annotations stored in <EpochsArray | 1 events (all good), 0 – 14.992 s (baseline off), ~225 kB, data loaded,\n",
      " '1': 1>, so metadata was not modified.\n",
      "  res = mne_connectivity.spectral_connectivity_time(\n"
     ]
    },
    {
     "name": "stdout",
     "output_type": "stream",
     "text": [
      "[Connectivity computation done]\n",
      "36\n",
      "[ 4.    4.25  4.5   4.75  5.    5.25  5.5   5.75  6.    6.25  6.5   6.75\n",
      "  7.    7.25  7.5   7.75  8.    8.25  8.5   8.75  9.    9.25  9.5   9.75\n",
      " 10.   10.25 10.5  10.75 11.   11.25 11.5  11.75 12.   12.25 12.5  12.75\n",
      " 13.   13.25 13.5  13.75 14.   14.25 14.5  14.75 15.   15.25 15.5  15.75\n",
      " 16.   16.25 16.5  16.75 17.   17.25 17.5  17.75 18.   18.25 18.5  18.75\n",
      " 19.   19.25 19.5  19.75 20.   20.25 20.5  20.75 21.   21.25 21.5  21.75\n",
      " 22.   22.25 22.5  22.75 23.   23.25 23.5  23.75 24.   24.25 24.5  24.75\n",
      " 25.   25.25 25.5  25.75 26.   26.25 26.5  26.75 27.   27.25 27.5  27.75\n",
      " 28.   28.25 28.5  28.75 29.   29.25 29.5  29.75 30.   30.25 30.5  30.75\n",
      " 31.   31.25 31.5  31.75 32.   32.25 32.5  32.75 33.   33.25 33.5  33.75\n",
      " 34.   34.25 34.5  34.75 35.   35.25 35.5  35.75 36.   36.25 36.5  36.75\n",
      " 37.   37.25 37.5  37.75 38.   38.25 38.5  38.75 39.   39.25 39.5  39.75\n",
      " 40.   40.25 40.5  40.75 41.   41.25 41.5  41.75 42.   42.25 42.5  42.75\n",
      " 43.   43.25 43.5  43.75 44.   44.25 44.5  44.75 45.  ]\n",
      "only using indices for lower-triangular matrix\n",
      "Connectivity computation...\n",
      "   Processing epoch 1 / 1 ...\n"
     ]
    },
    {
     "name": "stderr",
     "output_type": "stream",
     "text": [
      "/Users/jakubblaha/Documents/thesis/thesis-python/main.py:111: RuntimeWarning: There were no Annotations stored in <EpochsArray | 1 events (all good), 0 – 14.992 s (baseline off), ~225 kB, data loaded,\n",
      " '1': 1>, so metadata was not modified.\n",
      "  res = mne_connectivity.spectral_connectivity_time(\n"
     ]
    },
    {
     "name": "stdout",
     "output_type": "stream",
     "text": [
      "[Connectivity computation done]\n",
      "37\n",
      "[ 4.    4.25  4.5   4.75  5.    5.25  5.5   5.75  6.    6.25  6.5   6.75\n",
      "  7.    7.25  7.5   7.75  8.    8.25  8.5   8.75  9.    9.25  9.5   9.75\n",
      " 10.   10.25 10.5  10.75 11.   11.25 11.5  11.75 12.   12.25 12.5  12.75\n",
      " 13.   13.25 13.5  13.75 14.   14.25 14.5  14.75 15.   15.25 15.5  15.75\n",
      " 16.   16.25 16.5  16.75 17.   17.25 17.5  17.75 18.   18.25 18.5  18.75\n",
      " 19.   19.25 19.5  19.75 20.   20.25 20.5  20.75 21.   21.25 21.5  21.75\n",
      " 22.   22.25 22.5  22.75 23.   23.25 23.5  23.75 24.   24.25 24.5  24.75\n",
      " 25.   25.25 25.5  25.75 26.   26.25 26.5  26.75 27.   27.25 27.5  27.75\n",
      " 28.   28.25 28.5  28.75 29.   29.25 29.5  29.75 30.   30.25 30.5  30.75\n",
      " 31.   31.25 31.5  31.75 32.   32.25 32.5  32.75 33.   33.25 33.5  33.75\n",
      " 34.   34.25 34.5  34.75 35.   35.25 35.5  35.75 36.   36.25 36.5  36.75\n",
      " 37.   37.25 37.5  37.75 38.   38.25 38.5  38.75 39.   39.25 39.5  39.75\n",
      " 40.   40.25 40.5  40.75 41.   41.25 41.5  41.75 42.   42.25 42.5  42.75\n",
      " 43.   43.25 43.5  43.75 44.   44.25 44.5  44.75 45.  ]\n",
      "only using indices for lower-triangular matrix\n",
      "Connectivity computation...\n",
      "   Processing epoch 1 / 1 ...\n"
     ]
    },
    {
     "name": "stderr",
     "output_type": "stream",
     "text": [
      "/Users/jakubblaha/Documents/thesis/thesis-python/main.py:111: RuntimeWarning: There were no Annotations stored in <EpochsArray | 1 events (all good), 0 – 14.992 s (baseline off), ~225 kB, data loaded,\n",
      " '1': 1>, so metadata was not modified.\n",
      "  res = mne_connectivity.spectral_connectivity_time(\n"
     ]
    },
    {
     "name": "stdout",
     "output_type": "stream",
     "text": [
      "[Connectivity computation done]\n",
      "38\n",
      "[ 4.    4.25  4.5   4.75  5.    5.25  5.5   5.75  6.    6.25  6.5   6.75\n",
      "  7.    7.25  7.5   7.75  8.    8.25  8.5   8.75  9.    9.25  9.5   9.75\n",
      " 10.   10.25 10.5  10.75 11.   11.25 11.5  11.75 12.   12.25 12.5  12.75\n",
      " 13.   13.25 13.5  13.75 14.   14.25 14.5  14.75 15.   15.25 15.5  15.75\n",
      " 16.   16.25 16.5  16.75 17.   17.25 17.5  17.75 18.   18.25 18.5  18.75\n",
      " 19.   19.25 19.5  19.75 20.   20.25 20.5  20.75 21.   21.25 21.5  21.75\n",
      " 22.   22.25 22.5  22.75 23.   23.25 23.5  23.75 24.   24.25 24.5  24.75\n",
      " 25.   25.25 25.5  25.75 26.   26.25 26.5  26.75 27.   27.25 27.5  27.75\n",
      " 28.   28.25 28.5  28.75 29.   29.25 29.5  29.75 30.   30.25 30.5  30.75\n",
      " 31.   31.25 31.5  31.75 32.   32.25 32.5  32.75 33.   33.25 33.5  33.75\n",
      " 34.   34.25 34.5  34.75 35.   35.25 35.5  35.75 36.   36.25 36.5  36.75\n",
      " 37.   37.25 37.5  37.75 38.   38.25 38.5  38.75 39.   39.25 39.5  39.75\n",
      " 40.   40.25 40.5  40.75 41.   41.25 41.5  41.75 42.   42.25 42.5  42.75\n",
      " 43.   43.25 43.5  43.75 44.   44.25 44.5  44.75 45.  ]\n",
      "only using indices for lower-triangular matrix\n",
      "Connectivity computation...\n",
      "   Processing epoch 1 / 1 ...\n"
     ]
    },
    {
     "name": "stderr",
     "output_type": "stream",
     "text": [
      "/Users/jakubblaha/Documents/thesis/thesis-python/main.py:111: RuntimeWarning: There were no Annotations stored in <EpochsArray | 1 events (all good), 0 – 14.992 s (baseline off), ~225 kB, data loaded,\n",
      " '1': 1>, so metadata was not modified.\n",
      "  res = mne_connectivity.spectral_connectivity_time(\n"
     ]
    },
    {
     "name": "stdout",
     "output_type": "stream",
     "text": [
      "[Connectivity computation done]\n",
      "39\n",
      "[ 4.    4.25  4.5   4.75  5.    5.25  5.5   5.75  6.    6.25  6.5   6.75\n",
      "  7.    7.25  7.5   7.75  8.    8.25  8.5   8.75  9.    9.25  9.5   9.75\n",
      " 10.   10.25 10.5  10.75 11.   11.25 11.5  11.75 12.   12.25 12.5  12.75\n",
      " 13.   13.25 13.5  13.75 14.   14.25 14.5  14.75 15.   15.25 15.5  15.75\n",
      " 16.   16.25 16.5  16.75 17.   17.25 17.5  17.75 18.   18.25 18.5  18.75\n",
      " 19.   19.25 19.5  19.75 20.   20.25 20.5  20.75 21.   21.25 21.5  21.75\n",
      " 22.   22.25 22.5  22.75 23.   23.25 23.5  23.75 24.   24.25 24.5  24.75\n",
      " 25.   25.25 25.5  25.75 26.   26.25 26.5  26.75 27.   27.25 27.5  27.75\n",
      " 28.   28.25 28.5  28.75 29.   29.25 29.5  29.75 30.   30.25 30.5  30.75\n",
      " 31.   31.25 31.5  31.75 32.   32.25 32.5  32.75 33.   33.25 33.5  33.75\n",
      " 34.   34.25 34.5  34.75 35.   35.25 35.5  35.75 36.   36.25 36.5  36.75\n",
      " 37.   37.25 37.5  37.75 38.   38.25 38.5  38.75 39.   39.25 39.5  39.75\n",
      " 40.   40.25 40.5  40.75 41.   41.25 41.5  41.75 42.   42.25 42.5  42.75\n",
      " 43.   43.25 43.5  43.75 44.   44.25 44.5  44.75 45.  ]\n",
      "only using indices for lower-triangular matrix\n",
      "Connectivity computation...\n",
      "   Processing epoch 1 / 1 ...\n"
     ]
    },
    {
     "name": "stderr",
     "output_type": "stream",
     "text": [
      "/Users/jakubblaha/Documents/thesis/thesis-python/main.py:111: RuntimeWarning: There were no Annotations stored in <EpochsArray | 1 events (all good), 0 – 14.992 s (baseline off), ~225 kB, data loaded,\n",
      " '1': 1>, so metadata was not modified.\n",
      "  res = mne_connectivity.spectral_connectivity_time(\n"
     ]
    },
    {
     "name": "stdout",
     "output_type": "stream",
     "text": [
      "[Connectivity computation done]\n",
      "40\n",
      "[ 4.    4.25  4.5   4.75  5.    5.25  5.5   5.75  6.    6.25  6.5   6.75\n",
      "  7.    7.25  7.5   7.75  8.    8.25  8.5   8.75  9.    9.25  9.5   9.75\n",
      " 10.   10.25 10.5  10.75 11.   11.25 11.5  11.75 12.   12.25 12.5  12.75\n",
      " 13.   13.25 13.5  13.75 14.   14.25 14.5  14.75 15.   15.25 15.5  15.75\n",
      " 16.   16.25 16.5  16.75 17.   17.25 17.5  17.75 18.   18.25 18.5  18.75\n",
      " 19.   19.25 19.5  19.75 20.   20.25 20.5  20.75 21.   21.25 21.5  21.75\n",
      " 22.   22.25 22.5  22.75 23.   23.25 23.5  23.75 24.   24.25 24.5  24.75\n",
      " 25.   25.25 25.5  25.75 26.   26.25 26.5  26.75 27.   27.25 27.5  27.75\n",
      " 28.   28.25 28.5  28.75 29.   29.25 29.5  29.75 30.   30.25 30.5  30.75\n",
      " 31.   31.25 31.5  31.75 32.   32.25 32.5  32.75 33.   33.25 33.5  33.75\n",
      " 34.   34.25 34.5  34.75 35.   35.25 35.5  35.75 36.   36.25 36.5  36.75\n",
      " 37.   37.25 37.5  37.75 38.   38.25 38.5  38.75 39.   39.25 39.5  39.75\n",
      " 40.   40.25 40.5  40.75 41.   41.25 41.5  41.75 42.   42.25 42.5  42.75\n",
      " 43.   43.25 43.5  43.75 44.   44.25 44.5  44.75 45.  ]\n",
      "only using indices for lower-triangular matrix\n",
      "Connectivity computation...\n",
      "   Processing epoch 1 / 1 ...\n"
     ]
    },
    {
     "name": "stderr",
     "output_type": "stream",
     "text": [
      "/Users/jakubblaha/Documents/thesis/thesis-python/main.py:111: RuntimeWarning: There were no Annotations stored in <EpochsArray | 1 events (all good), 0 – 14.992 s (baseline off), ~225 kB, data loaded,\n",
      " '1': 1>, so metadata was not modified.\n",
      "  res = mne_connectivity.spectral_connectivity_time(\n"
     ]
    },
    {
     "name": "stdout",
     "output_type": "stream",
     "text": [
      "[Connectivity computation done]\n",
      "41\n",
      "[ 4.    4.25  4.5   4.75  5.    5.25  5.5   5.75  6.    6.25  6.5   6.75\n",
      "  7.    7.25  7.5   7.75  8.    8.25  8.5   8.75  9.    9.25  9.5   9.75\n",
      " 10.   10.25 10.5  10.75 11.   11.25 11.5  11.75 12.   12.25 12.5  12.75\n",
      " 13.   13.25 13.5  13.75 14.   14.25 14.5  14.75 15.   15.25 15.5  15.75\n",
      " 16.   16.25 16.5  16.75 17.   17.25 17.5  17.75 18.   18.25 18.5  18.75\n",
      " 19.   19.25 19.5  19.75 20.   20.25 20.5  20.75 21.   21.25 21.5  21.75\n",
      " 22.   22.25 22.5  22.75 23.   23.25 23.5  23.75 24.   24.25 24.5  24.75\n",
      " 25.   25.25 25.5  25.75 26.   26.25 26.5  26.75 27.   27.25 27.5  27.75\n",
      " 28.   28.25 28.5  28.75 29.   29.25 29.5  29.75 30.   30.25 30.5  30.75\n",
      " 31.   31.25 31.5  31.75 32.   32.25 32.5  32.75 33.   33.25 33.5  33.75\n",
      " 34.   34.25 34.5  34.75 35.   35.25 35.5  35.75 36.   36.25 36.5  36.75\n",
      " 37.   37.25 37.5  37.75 38.   38.25 38.5  38.75 39.   39.25 39.5  39.75\n",
      " 40.   40.25 40.5  40.75 41.   41.25 41.5  41.75 42.   42.25 42.5  42.75\n",
      " 43.   43.25 43.5  43.75 44.   44.25 44.5  44.75 45.  ]\n",
      "only using indices for lower-triangular matrix\n",
      "Connectivity computation...\n",
      "   Processing epoch 1 / 1 ...\n"
     ]
    },
    {
     "name": "stderr",
     "output_type": "stream",
     "text": [
      "/Users/jakubblaha/Documents/thesis/thesis-python/main.py:111: RuntimeWarning: There were no Annotations stored in <EpochsArray | 1 events (all good), 0 – 14.992 s (baseline off), ~225 kB, data loaded,\n",
      " '1': 1>, so metadata was not modified.\n",
      "  res = mne_connectivity.spectral_connectivity_time(\n"
     ]
    },
    {
     "name": "stdout",
     "output_type": "stream",
     "text": [
      "[Connectivity computation done]\n",
      "42\n",
      "[ 4.    4.25  4.5   4.75  5.    5.25  5.5   5.75  6.    6.25  6.5   6.75\n",
      "  7.    7.25  7.5   7.75  8.    8.25  8.5   8.75  9.    9.25  9.5   9.75\n",
      " 10.   10.25 10.5  10.75 11.   11.25 11.5  11.75 12.   12.25 12.5  12.75\n",
      " 13.   13.25 13.5  13.75 14.   14.25 14.5  14.75 15.   15.25 15.5  15.75\n",
      " 16.   16.25 16.5  16.75 17.   17.25 17.5  17.75 18.   18.25 18.5  18.75\n",
      " 19.   19.25 19.5  19.75 20.   20.25 20.5  20.75 21.   21.25 21.5  21.75\n",
      " 22.   22.25 22.5  22.75 23.   23.25 23.5  23.75 24.   24.25 24.5  24.75\n",
      " 25.   25.25 25.5  25.75 26.   26.25 26.5  26.75 27.   27.25 27.5  27.75\n",
      " 28.   28.25 28.5  28.75 29.   29.25 29.5  29.75 30.   30.25 30.5  30.75\n",
      " 31.   31.25 31.5  31.75 32.   32.25 32.5  32.75 33.   33.25 33.5  33.75\n",
      " 34.   34.25 34.5  34.75 35.   35.25 35.5  35.75 36.   36.25 36.5  36.75\n",
      " 37.   37.25 37.5  37.75 38.   38.25 38.5  38.75 39.   39.25 39.5  39.75\n",
      " 40.   40.25 40.5  40.75 41.   41.25 41.5  41.75 42.   42.25 42.5  42.75\n",
      " 43.   43.25 43.5  43.75 44.   44.25 44.5  44.75 45.  ]\n",
      "only using indices for lower-triangular matrix\n",
      "Connectivity computation...\n",
      "   Processing epoch 1 / 1 ...\n"
     ]
    },
    {
     "name": "stderr",
     "output_type": "stream",
     "text": [
      "/Users/jakubblaha/Documents/thesis/thesis-python/main.py:111: RuntimeWarning: There were no Annotations stored in <EpochsArray | 1 events (all good), 0 – 14.992 s (baseline off), ~225 kB, data loaded,\n",
      " '1': 1>, so metadata was not modified.\n",
      "  res = mne_connectivity.spectral_connectivity_time(\n"
     ]
    },
    {
     "name": "stdout",
     "output_type": "stream",
     "text": [
      "[Connectivity computation done]\n",
      "43\n",
      "[ 4.    4.25  4.5   4.75  5.    5.25  5.5   5.75  6.    6.25  6.5   6.75\n",
      "  7.    7.25  7.5   7.75  8.    8.25  8.5   8.75  9.    9.25  9.5   9.75\n",
      " 10.   10.25 10.5  10.75 11.   11.25 11.5  11.75 12.   12.25 12.5  12.75\n",
      " 13.   13.25 13.5  13.75 14.   14.25 14.5  14.75 15.   15.25 15.5  15.75\n",
      " 16.   16.25 16.5  16.75 17.   17.25 17.5  17.75 18.   18.25 18.5  18.75\n",
      " 19.   19.25 19.5  19.75 20.   20.25 20.5  20.75 21.   21.25 21.5  21.75\n",
      " 22.   22.25 22.5  22.75 23.   23.25 23.5  23.75 24.   24.25 24.5  24.75\n",
      " 25.   25.25 25.5  25.75 26.   26.25 26.5  26.75 27.   27.25 27.5  27.75\n",
      " 28.   28.25 28.5  28.75 29.   29.25 29.5  29.75 30.   30.25 30.5  30.75\n",
      " 31.   31.25 31.5  31.75 32.   32.25 32.5  32.75 33.   33.25 33.5  33.75\n",
      " 34.   34.25 34.5  34.75 35.   35.25 35.5  35.75 36.   36.25 36.5  36.75\n",
      " 37.   37.25 37.5  37.75 38.   38.25 38.5  38.75 39.   39.25 39.5  39.75\n",
      " 40.   40.25 40.5  40.75 41.   41.25 41.5  41.75 42.   42.25 42.5  42.75\n",
      " 43.   43.25 43.5  43.75 44.   44.25 44.5  44.75 45.  ]\n",
      "only using indices for lower-triangular matrix\n",
      "Connectivity computation...\n",
      "   Processing epoch 1 / 1 ...\n"
     ]
    },
    {
     "name": "stderr",
     "output_type": "stream",
     "text": [
      "/Users/jakubblaha/Documents/thesis/thesis-python/main.py:111: RuntimeWarning: There were no Annotations stored in <EpochsArray | 1 events (all good), 0 – 14.992 s (baseline off), ~225 kB, data loaded,\n",
      " '1': 1>, so metadata was not modified.\n",
      "  res = mne_connectivity.spectral_connectivity_time(\n"
     ]
    },
    {
     "name": "stdout",
     "output_type": "stream",
     "text": [
      "[Connectivity computation done]\n",
      "44\n",
      "[ 4.    4.25  4.5   4.75  5.    5.25  5.5   5.75  6.    6.25  6.5   6.75\n",
      "  7.    7.25  7.5   7.75  8.    8.25  8.5   8.75  9.    9.25  9.5   9.75\n",
      " 10.   10.25 10.5  10.75 11.   11.25 11.5  11.75 12.   12.25 12.5  12.75\n",
      " 13.   13.25 13.5  13.75 14.   14.25 14.5  14.75 15.   15.25 15.5  15.75\n",
      " 16.   16.25 16.5  16.75 17.   17.25 17.5  17.75 18.   18.25 18.5  18.75\n",
      " 19.   19.25 19.5  19.75 20.   20.25 20.5  20.75 21.   21.25 21.5  21.75\n",
      " 22.   22.25 22.5  22.75 23.   23.25 23.5  23.75 24.   24.25 24.5  24.75\n",
      " 25.   25.25 25.5  25.75 26.   26.25 26.5  26.75 27.   27.25 27.5  27.75\n",
      " 28.   28.25 28.5  28.75 29.   29.25 29.5  29.75 30.   30.25 30.5  30.75\n",
      " 31.   31.25 31.5  31.75 32.   32.25 32.5  32.75 33.   33.25 33.5  33.75\n",
      " 34.   34.25 34.5  34.75 35.   35.25 35.5  35.75 36.   36.25 36.5  36.75\n",
      " 37.   37.25 37.5  37.75 38.   38.25 38.5  38.75 39.   39.25 39.5  39.75\n",
      " 40.   40.25 40.5  40.75 41.   41.25 41.5  41.75 42.   42.25 42.5  42.75\n",
      " 43.   43.25 43.5  43.75 44.   44.25 44.5  44.75 45.  ]\n",
      "only using indices for lower-triangular matrix\n",
      "Connectivity computation...\n",
      "   Processing epoch 1 / 1 ...\n"
     ]
    },
    {
     "name": "stderr",
     "output_type": "stream",
     "text": [
      "/Users/jakubblaha/Documents/thesis/thesis-python/main.py:111: RuntimeWarning: There were no Annotations stored in <EpochsArray | 1 events (all good), 0 – 14.992 s (baseline off), ~225 kB, data loaded,\n",
      " '1': 1>, so metadata was not modified.\n",
      "  res = mne_connectivity.spectral_connectivity_time(\n"
     ]
    },
    {
     "name": "stdout",
     "output_type": "stream",
     "text": [
      "[Connectivity computation done]\n",
      "45\n",
      "[ 4.    4.25  4.5   4.75  5.    5.25  5.5   5.75  6.    6.25  6.5   6.75\n",
      "  7.    7.25  7.5   7.75  8.    8.25  8.5   8.75  9.    9.25  9.5   9.75\n",
      " 10.   10.25 10.5  10.75 11.   11.25 11.5  11.75 12.   12.25 12.5  12.75\n",
      " 13.   13.25 13.5  13.75 14.   14.25 14.5  14.75 15.   15.25 15.5  15.75\n",
      " 16.   16.25 16.5  16.75 17.   17.25 17.5  17.75 18.   18.25 18.5  18.75\n",
      " 19.   19.25 19.5  19.75 20.   20.25 20.5  20.75 21.   21.25 21.5  21.75\n",
      " 22.   22.25 22.5  22.75 23.   23.25 23.5  23.75 24.   24.25 24.5  24.75\n",
      " 25.   25.25 25.5  25.75 26.   26.25 26.5  26.75 27.   27.25 27.5  27.75\n",
      " 28.   28.25 28.5  28.75 29.   29.25 29.5  29.75 30.   30.25 30.5  30.75\n",
      " 31.   31.25 31.5  31.75 32.   32.25 32.5  32.75 33.   33.25 33.5  33.75\n",
      " 34.   34.25 34.5  34.75 35.   35.25 35.5  35.75 36.   36.25 36.5  36.75\n",
      " 37.   37.25 37.5  37.75 38.   38.25 38.5  38.75 39.   39.25 39.5  39.75\n",
      " 40.   40.25 40.5  40.75 41.   41.25 41.5  41.75 42.   42.25 42.5  42.75\n",
      " 43.   43.25 43.5  43.75 44.   44.25 44.5  44.75 45.  ]\n",
      "only using indices for lower-triangular matrix\n",
      "Connectivity computation...\n",
      "   Processing epoch 1 / 1 ...\n"
     ]
    },
    {
     "name": "stderr",
     "output_type": "stream",
     "text": [
      "/Users/jakubblaha/Documents/thesis/thesis-python/main.py:111: RuntimeWarning: There were no Annotations stored in <EpochsArray | 1 events (all good), 0 – 14.992 s (baseline off), ~225 kB, data loaded,\n",
      " '1': 1>, so metadata was not modified.\n",
      "  res = mne_connectivity.spectral_connectivity_time(\n"
     ]
    },
    {
     "name": "stdout",
     "output_type": "stream",
     "text": [
      "[Connectivity computation done]\n",
      "46\n",
      "[ 4.    4.25  4.5   4.75  5.    5.25  5.5   5.75  6.    6.25  6.5   6.75\n",
      "  7.    7.25  7.5   7.75  8.    8.25  8.5   8.75  9.    9.25  9.5   9.75\n",
      " 10.   10.25 10.5  10.75 11.   11.25 11.5  11.75 12.   12.25 12.5  12.75\n",
      " 13.   13.25 13.5  13.75 14.   14.25 14.5  14.75 15.   15.25 15.5  15.75\n",
      " 16.   16.25 16.5  16.75 17.   17.25 17.5  17.75 18.   18.25 18.5  18.75\n",
      " 19.   19.25 19.5  19.75 20.   20.25 20.5  20.75 21.   21.25 21.5  21.75\n",
      " 22.   22.25 22.5  22.75 23.   23.25 23.5  23.75 24.   24.25 24.5  24.75\n",
      " 25.   25.25 25.5  25.75 26.   26.25 26.5  26.75 27.   27.25 27.5  27.75\n",
      " 28.   28.25 28.5  28.75 29.   29.25 29.5  29.75 30.   30.25 30.5  30.75\n",
      " 31.   31.25 31.5  31.75 32.   32.25 32.5  32.75 33.   33.25 33.5  33.75\n",
      " 34.   34.25 34.5  34.75 35.   35.25 35.5  35.75 36.   36.25 36.5  36.75\n",
      " 37.   37.25 37.5  37.75 38.   38.25 38.5  38.75 39.   39.25 39.5  39.75\n",
      " 40.   40.25 40.5  40.75 41.   41.25 41.5  41.75 42.   42.25 42.5  42.75\n",
      " 43.   43.25 43.5  43.75 44.   44.25 44.5  44.75 45.  ]\n",
      "only using indices for lower-triangular matrix\n",
      "Connectivity computation...\n",
      "   Processing epoch 1 / 1 ...\n"
     ]
    },
    {
     "name": "stderr",
     "output_type": "stream",
     "text": [
      "/Users/jakubblaha/Documents/thesis/thesis-python/main.py:111: RuntimeWarning: There were no Annotations stored in <EpochsArray | 1 events (all good), 0 – 14.992 s (baseline off), ~225 kB, data loaded,\n",
      " '1': 1>, so metadata was not modified.\n",
      "  res = mne_connectivity.spectral_connectivity_time(\n"
     ]
    },
    {
     "name": "stdout",
     "output_type": "stream",
     "text": [
      "[Connectivity computation done]\n",
      "47\n",
      "[ 4.    4.25  4.5   4.75  5.    5.25  5.5   5.75  6.    6.25  6.5   6.75\n",
      "  7.    7.25  7.5   7.75  8.    8.25  8.5   8.75  9.    9.25  9.5   9.75\n",
      " 10.   10.25 10.5  10.75 11.   11.25 11.5  11.75 12.   12.25 12.5  12.75\n",
      " 13.   13.25 13.5  13.75 14.   14.25 14.5  14.75 15.   15.25 15.5  15.75\n",
      " 16.   16.25 16.5  16.75 17.   17.25 17.5  17.75 18.   18.25 18.5  18.75\n",
      " 19.   19.25 19.5  19.75 20.   20.25 20.5  20.75 21.   21.25 21.5  21.75\n",
      " 22.   22.25 22.5  22.75 23.   23.25 23.5  23.75 24.   24.25 24.5  24.75\n",
      " 25.   25.25 25.5  25.75 26.   26.25 26.5  26.75 27.   27.25 27.5  27.75\n",
      " 28.   28.25 28.5  28.75 29.   29.25 29.5  29.75 30.   30.25 30.5  30.75\n",
      " 31.   31.25 31.5  31.75 32.   32.25 32.5  32.75 33.   33.25 33.5  33.75\n",
      " 34.   34.25 34.5  34.75 35.   35.25 35.5  35.75 36.   36.25 36.5  36.75\n",
      " 37.   37.25 37.5  37.75 38.   38.25 38.5  38.75 39.   39.25 39.5  39.75\n",
      " 40.   40.25 40.5  40.75 41.   41.25 41.5  41.75 42.   42.25 42.5  42.75\n",
      " 43.   43.25 43.5  43.75 44.   44.25 44.5  44.75 45.  ]\n",
      "only using indices for lower-triangular matrix\n",
      "Connectivity computation...\n",
      "   Processing epoch 1 / 1 ...\n"
     ]
    },
    {
     "name": "stderr",
     "output_type": "stream",
     "text": [
      "/Users/jakubblaha/Documents/thesis/thesis-python/main.py:111: RuntimeWarning: There were no Annotations stored in <EpochsArray | 1 events (all good), 0 – 14.992 s (baseline off), ~225 kB, data loaded,\n",
      " '1': 1>, so metadata was not modified.\n",
      "  res = mne_connectivity.spectral_connectivity_time(\n"
     ]
    },
    {
     "name": "stdout",
     "output_type": "stream",
     "text": [
      "[Connectivity computation done]\n",
      "48\n",
      "[ 4.    4.25  4.5   4.75  5.    5.25  5.5   5.75  6.    6.25  6.5   6.75\n",
      "  7.    7.25  7.5   7.75  8.    8.25  8.5   8.75  9.    9.25  9.5   9.75\n",
      " 10.   10.25 10.5  10.75 11.   11.25 11.5  11.75 12.   12.25 12.5  12.75\n",
      " 13.   13.25 13.5  13.75 14.   14.25 14.5  14.75 15.   15.25 15.5  15.75\n",
      " 16.   16.25 16.5  16.75 17.   17.25 17.5  17.75 18.   18.25 18.5  18.75\n",
      " 19.   19.25 19.5  19.75 20.   20.25 20.5  20.75 21.   21.25 21.5  21.75\n",
      " 22.   22.25 22.5  22.75 23.   23.25 23.5  23.75 24.   24.25 24.5  24.75\n",
      " 25.   25.25 25.5  25.75 26.   26.25 26.5  26.75 27.   27.25 27.5  27.75\n",
      " 28.   28.25 28.5  28.75 29.   29.25 29.5  29.75 30.   30.25 30.5  30.75\n",
      " 31.   31.25 31.5  31.75 32.   32.25 32.5  32.75 33.   33.25 33.5  33.75\n",
      " 34.   34.25 34.5  34.75 35.   35.25 35.5  35.75 36.   36.25 36.5  36.75\n",
      " 37.   37.25 37.5  37.75 38.   38.25 38.5  38.75 39.   39.25 39.5  39.75\n",
      " 40.   40.25 40.5  40.75 41.   41.25 41.5  41.75 42.   42.25 42.5  42.75\n",
      " 43.   43.25 43.5  43.75 44.   44.25 44.5  44.75 45.  ]\n",
      "only using indices for lower-triangular matrix\n",
      "Connectivity computation...\n",
      "   Processing epoch 1 / 1 ...\n"
     ]
    },
    {
     "name": "stderr",
     "output_type": "stream",
     "text": [
      "/Users/jakubblaha/Documents/thesis/thesis-python/main.py:111: RuntimeWarning: There were no Annotations stored in <EpochsArray | 1 events (all good), 0 – 14.992 s (baseline off), ~225 kB, data loaded,\n",
      " '1': 1>, so metadata was not modified.\n",
      "  res = mne_connectivity.spectral_connectivity_time(\n"
     ]
    },
    {
     "name": "stdout",
     "output_type": "stream",
     "text": [
      "[Connectivity computation done]\n",
      "49\n",
      "[ 4.    4.25  4.5   4.75  5.    5.25  5.5   5.75  6.    6.25  6.5   6.75\n",
      "  7.    7.25  7.5   7.75  8.    8.25  8.5   8.75  9.    9.25  9.5   9.75\n",
      " 10.   10.25 10.5  10.75 11.   11.25 11.5  11.75 12.   12.25 12.5  12.75\n",
      " 13.   13.25 13.5  13.75 14.   14.25 14.5  14.75 15.   15.25 15.5  15.75\n",
      " 16.   16.25 16.5  16.75 17.   17.25 17.5  17.75 18.   18.25 18.5  18.75\n",
      " 19.   19.25 19.5  19.75 20.   20.25 20.5  20.75 21.   21.25 21.5  21.75\n",
      " 22.   22.25 22.5  22.75 23.   23.25 23.5  23.75 24.   24.25 24.5  24.75\n",
      " 25.   25.25 25.5  25.75 26.   26.25 26.5  26.75 27.   27.25 27.5  27.75\n",
      " 28.   28.25 28.5  28.75 29.   29.25 29.5  29.75 30.   30.25 30.5  30.75\n",
      " 31.   31.25 31.5  31.75 32.   32.25 32.5  32.75 33.   33.25 33.5  33.75\n",
      " 34.   34.25 34.5  34.75 35.   35.25 35.5  35.75 36.   36.25 36.5  36.75\n",
      " 37.   37.25 37.5  37.75 38.   38.25 38.5  38.75 39.   39.25 39.5  39.75\n",
      " 40.   40.25 40.5  40.75 41.   41.25 41.5  41.75 42.   42.25 42.5  42.75\n",
      " 43.   43.25 43.5  43.75 44.   44.25 44.5  44.75 45.  ]\n",
      "only using indices for lower-triangular matrix\n",
      "Connectivity computation...\n",
      "   Processing epoch 1 / 1 ...\n"
     ]
    },
    {
     "name": "stderr",
     "output_type": "stream",
     "text": [
      "/Users/jakubblaha/Documents/thesis/thesis-python/main.py:111: RuntimeWarning: There were no Annotations stored in <EpochsArray | 1 events (all good), 0 – 14.992 s (baseline off), ~225 kB, data loaded,\n",
      " '1': 1>, so metadata was not modified.\n",
      "  res = mne_connectivity.spectral_connectivity_time(\n"
     ]
    },
    {
     "name": "stdout",
     "output_type": "stream",
     "text": [
      "[Connectivity computation done]\n",
      "50\n",
      "[ 4.    4.25  4.5   4.75  5.    5.25  5.5   5.75  6.    6.25  6.5   6.75\n",
      "  7.    7.25  7.5   7.75  8.    8.25  8.5   8.75  9.    9.25  9.5   9.75\n",
      " 10.   10.25 10.5  10.75 11.   11.25 11.5  11.75 12.   12.25 12.5  12.75\n",
      " 13.   13.25 13.5  13.75 14.   14.25 14.5  14.75 15.   15.25 15.5  15.75\n",
      " 16.   16.25 16.5  16.75 17.   17.25 17.5  17.75 18.   18.25 18.5  18.75\n",
      " 19.   19.25 19.5  19.75 20.   20.25 20.5  20.75 21.   21.25 21.5  21.75\n",
      " 22.   22.25 22.5  22.75 23.   23.25 23.5  23.75 24.   24.25 24.5  24.75\n",
      " 25.   25.25 25.5  25.75 26.   26.25 26.5  26.75 27.   27.25 27.5  27.75\n",
      " 28.   28.25 28.5  28.75 29.   29.25 29.5  29.75 30.   30.25 30.5  30.75\n",
      " 31.   31.25 31.5  31.75 32.   32.25 32.5  32.75 33.   33.25 33.5  33.75\n",
      " 34.   34.25 34.5  34.75 35.   35.25 35.5  35.75 36.   36.25 36.5  36.75\n",
      " 37.   37.25 37.5  37.75 38.   38.25 38.5  38.75 39.   39.25 39.5  39.75\n",
      " 40.   40.25 40.5  40.75 41.   41.25 41.5  41.75 42.   42.25 42.5  42.75\n",
      " 43.   43.25 43.5  43.75 44.   44.25 44.5  44.75 45.  ]\n",
      "only using indices for lower-triangular matrix\n",
      "Connectivity computation...\n",
      "   Processing epoch 1 / 1 ...\n"
     ]
    },
    {
     "name": "stderr",
     "output_type": "stream",
     "text": [
      "/Users/jakubblaha/Documents/thesis/thesis-python/main.py:111: RuntimeWarning: There were no Annotations stored in <EpochsArray | 1 events (all good), 0 – 14.992 s (baseline off), ~225 kB, data loaded,\n",
      " '1': 1>, so metadata was not modified.\n",
      "  res = mne_connectivity.spectral_connectivity_time(\n"
     ]
    },
    {
     "name": "stdout",
     "output_type": "stream",
     "text": [
      "[Connectivity computation done]\n",
      "51\n",
      "[ 4.    4.25  4.5   4.75  5.    5.25  5.5   5.75  6.    6.25  6.5   6.75\n",
      "  7.    7.25  7.5   7.75  8.    8.25  8.5   8.75  9.    9.25  9.5   9.75\n",
      " 10.   10.25 10.5  10.75 11.   11.25 11.5  11.75 12.   12.25 12.5  12.75\n",
      " 13.   13.25 13.5  13.75 14.   14.25 14.5  14.75 15.   15.25 15.5  15.75\n",
      " 16.   16.25 16.5  16.75 17.   17.25 17.5  17.75 18.   18.25 18.5  18.75\n",
      " 19.   19.25 19.5  19.75 20.   20.25 20.5  20.75 21.   21.25 21.5  21.75\n",
      " 22.   22.25 22.5  22.75 23.   23.25 23.5  23.75 24.   24.25 24.5  24.75\n",
      " 25.   25.25 25.5  25.75 26.   26.25 26.5  26.75 27.   27.25 27.5  27.75\n",
      " 28.   28.25 28.5  28.75 29.   29.25 29.5  29.75 30.   30.25 30.5  30.75\n",
      " 31.   31.25 31.5  31.75 32.   32.25 32.5  32.75 33.   33.25 33.5  33.75\n",
      " 34.   34.25 34.5  34.75 35.   35.25 35.5  35.75 36.   36.25 36.5  36.75\n",
      " 37.   37.25 37.5  37.75 38.   38.25 38.5  38.75 39.   39.25 39.5  39.75\n",
      " 40.   40.25 40.5  40.75 41.   41.25 41.5  41.75 42.   42.25 42.5  42.75\n",
      " 43.   43.25 43.5  43.75 44.   44.25 44.5  44.75 45.  ]\n",
      "only using indices for lower-triangular matrix\n",
      "Connectivity computation...\n",
      "   Processing epoch 1 / 1 ...\n"
     ]
    },
    {
     "name": "stderr",
     "output_type": "stream",
     "text": [
      "/Users/jakubblaha/Documents/thesis/thesis-python/main.py:111: RuntimeWarning: There were no Annotations stored in <EpochsArray | 1 events (all good), 0 – 14.992 s (baseline off), ~225 kB, data loaded,\n",
      " '1': 1>, so metadata was not modified.\n",
      "  res = mne_connectivity.spectral_connectivity_time(\n"
     ]
    },
    {
     "name": "stdout",
     "output_type": "stream",
     "text": [
      "[Connectivity computation done]\n",
      "52\n",
      "[ 4.    4.25  4.5   4.75  5.    5.25  5.5   5.75  6.    6.25  6.5   6.75\n",
      "  7.    7.25  7.5   7.75  8.    8.25  8.5   8.75  9.    9.25  9.5   9.75\n",
      " 10.   10.25 10.5  10.75 11.   11.25 11.5  11.75 12.   12.25 12.5  12.75\n",
      " 13.   13.25 13.5  13.75 14.   14.25 14.5  14.75 15.   15.25 15.5  15.75\n",
      " 16.   16.25 16.5  16.75 17.   17.25 17.5  17.75 18.   18.25 18.5  18.75\n",
      " 19.   19.25 19.5  19.75 20.   20.25 20.5  20.75 21.   21.25 21.5  21.75\n",
      " 22.   22.25 22.5  22.75 23.   23.25 23.5  23.75 24.   24.25 24.5  24.75\n",
      " 25.   25.25 25.5  25.75 26.   26.25 26.5  26.75 27.   27.25 27.5  27.75\n",
      " 28.   28.25 28.5  28.75 29.   29.25 29.5  29.75 30.   30.25 30.5  30.75\n",
      " 31.   31.25 31.5  31.75 32.   32.25 32.5  32.75 33.   33.25 33.5  33.75\n",
      " 34.   34.25 34.5  34.75 35.   35.25 35.5  35.75 36.   36.25 36.5  36.75\n",
      " 37.   37.25 37.5  37.75 38.   38.25 38.5  38.75 39.   39.25 39.5  39.75\n",
      " 40.   40.25 40.5  40.75 41.   41.25 41.5  41.75 42.   42.25 42.5  42.75\n",
      " 43.   43.25 43.5  43.75 44.   44.25 44.5  44.75 45.  ]\n",
      "only using indices for lower-triangular matrix\n",
      "Connectivity computation...\n",
      "   Processing epoch 1 / 1 ...\n"
     ]
    },
    {
     "name": "stderr",
     "output_type": "stream",
     "text": [
      "/Users/jakubblaha/Documents/thesis/thesis-python/main.py:111: RuntimeWarning: There were no Annotations stored in <EpochsArray | 1 events (all good), 0 – 14.992 s (baseline off), ~225 kB, data loaded,\n",
      " '1': 1>, so metadata was not modified.\n",
      "  res = mne_connectivity.spectral_connectivity_time(\n"
     ]
    },
    {
     "name": "stdout",
     "output_type": "stream",
     "text": [
      "[Connectivity computation done]\n",
      "53\n",
      "[ 4.    4.25  4.5   4.75  5.    5.25  5.5   5.75  6.    6.25  6.5   6.75\n",
      "  7.    7.25  7.5   7.75  8.    8.25  8.5   8.75  9.    9.25  9.5   9.75\n",
      " 10.   10.25 10.5  10.75 11.   11.25 11.5  11.75 12.   12.25 12.5  12.75\n",
      " 13.   13.25 13.5  13.75 14.   14.25 14.5  14.75 15.   15.25 15.5  15.75\n",
      " 16.   16.25 16.5  16.75 17.   17.25 17.5  17.75 18.   18.25 18.5  18.75\n",
      " 19.   19.25 19.5  19.75 20.   20.25 20.5  20.75 21.   21.25 21.5  21.75\n",
      " 22.   22.25 22.5  22.75 23.   23.25 23.5  23.75 24.   24.25 24.5  24.75\n",
      " 25.   25.25 25.5  25.75 26.   26.25 26.5  26.75 27.   27.25 27.5  27.75\n",
      " 28.   28.25 28.5  28.75 29.   29.25 29.5  29.75 30.   30.25 30.5  30.75\n",
      " 31.   31.25 31.5  31.75 32.   32.25 32.5  32.75 33.   33.25 33.5  33.75\n",
      " 34.   34.25 34.5  34.75 35.   35.25 35.5  35.75 36.   36.25 36.5  36.75\n",
      " 37.   37.25 37.5  37.75 38.   38.25 38.5  38.75 39.   39.25 39.5  39.75\n",
      " 40.   40.25 40.5  40.75 41.   41.25 41.5  41.75 42.   42.25 42.5  42.75\n",
      " 43.   43.25 43.5  43.75 44.   44.25 44.5  44.75 45.  ]\n",
      "only using indices for lower-triangular matrix\n",
      "Connectivity computation...\n",
      "   Processing epoch 1 / 1 ...\n"
     ]
    },
    {
     "name": "stderr",
     "output_type": "stream",
     "text": [
      "/Users/jakubblaha/Documents/thesis/thesis-python/main.py:111: RuntimeWarning: There were no Annotations stored in <EpochsArray | 1 events (all good), 0 – 14.992 s (baseline off), ~225 kB, data loaded,\n",
      " '1': 1>, so metadata was not modified.\n",
      "  res = mne_connectivity.spectral_connectivity_time(\n"
     ]
    },
    {
     "name": "stdout",
     "output_type": "stream",
     "text": [
      "[Connectivity computation done]\n",
      "54\n",
      "[ 4.    4.25  4.5   4.75  5.    5.25  5.5   5.75  6.    6.25  6.5   6.75\n",
      "  7.    7.25  7.5   7.75  8.    8.25  8.5   8.75  9.    9.25  9.5   9.75\n",
      " 10.   10.25 10.5  10.75 11.   11.25 11.5  11.75 12.   12.25 12.5  12.75\n",
      " 13.   13.25 13.5  13.75 14.   14.25 14.5  14.75 15.   15.25 15.5  15.75\n",
      " 16.   16.25 16.5  16.75 17.   17.25 17.5  17.75 18.   18.25 18.5  18.75\n",
      " 19.   19.25 19.5  19.75 20.   20.25 20.5  20.75 21.   21.25 21.5  21.75\n",
      " 22.   22.25 22.5  22.75 23.   23.25 23.5  23.75 24.   24.25 24.5  24.75\n",
      " 25.   25.25 25.5  25.75 26.   26.25 26.5  26.75 27.   27.25 27.5  27.75\n",
      " 28.   28.25 28.5  28.75 29.   29.25 29.5  29.75 30.   30.25 30.5  30.75\n",
      " 31.   31.25 31.5  31.75 32.   32.25 32.5  32.75 33.   33.25 33.5  33.75\n",
      " 34.   34.25 34.5  34.75 35.   35.25 35.5  35.75 36.   36.25 36.5  36.75\n",
      " 37.   37.25 37.5  37.75 38.   38.25 38.5  38.75 39.   39.25 39.5  39.75\n",
      " 40.   40.25 40.5  40.75 41.   41.25 41.5  41.75 42.   42.25 42.5  42.75\n",
      " 43.   43.25 43.5  43.75 44.   44.25 44.5  44.75 45.  ]\n",
      "only using indices for lower-triangular matrix\n",
      "Connectivity computation...\n",
      "   Processing epoch 1 / 1 ...\n"
     ]
    },
    {
     "name": "stderr",
     "output_type": "stream",
     "text": [
      "/Users/jakubblaha/Documents/thesis/thesis-python/main.py:111: RuntimeWarning: There were no Annotations stored in <EpochsArray | 1 events (all good), 0 – 14.992 s (baseline off), ~225 kB, data loaded,\n",
      " '1': 1>, so metadata was not modified.\n",
      "  res = mne_connectivity.spectral_connectivity_time(\n"
     ]
    },
    {
     "name": "stdout",
     "output_type": "stream",
     "text": [
      "[Connectivity computation done]\n",
      "55\n",
      "[ 4.    4.25  4.5   4.75  5.    5.25  5.5   5.75  6.    6.25  6.5   6.75\n",
      "  7.    7.25  7.5   7.75  8.    8.25  8.5   8.75  9.    9.25  9.5   9.75\n",
      " 10.   10.25 10.5  10.75 11.   11.25 11.5  11.75 12.   12.25 12.5  12.75\n",
      " 13.   13.25 13.5  13.75 14.   14.25 14.5  14.75 15.   15.25 15.5  15.75\n",
      " 16.   16.25 16.5  16.75 17.   17.25 17.5  17.75 18.   18.25 18.5  18.75\n",
      " 19.   19.25 19.5  19.75 20.   20.25 20.5  20.75 21.   21.25 21.5  21.75\n",
      " 22.   22.25 22.5  22.75 23.   23.25 23.5  23.75 24.   24.25 24.5  24.75\n",
      " 25.   25.25 25.5  25.75 26.   26.25 26.5  26.75 27.   27.25 27.5  27.75\n",
      " 28.   28.25 28.5  28.75 29.   29.25 29.5  29.75 30.   30.25 30.5  30.75\n",
      " 31.   31.25 31.5  31.75 32.   32.25 32.5  32.75 33.   33.25 33.5  33.75\n",
      " 34.   34.25 34.5  34.75 35.   35.25 35.5  35.75 36.   36.25 36.5  36.75\n",
      " 37.   37.25 37.5  37.75 38.   38.25 38.5  38.75 39.   39.25 39.5  39.75\n",
      " 40.   40.25 40.5  40.75 41.   41.25 41.5  41.75 42.   42.25 42.5  42.75\n",
      " 43.   43.25 43.5  43.75 44.   44.25 44.5  44.75 45.  ]\n",
      "only using indices for lower-triangular matrix\n",
      "Connectivity computation...\n",
      "   Processing epoch 1 / 1 ...\n"
     ]
    },
    {
     "name": "stderr",
     "output_type": "stream",
     "text": [
      "/Users/jakubblaha/Documents/thesis/thesis-python/main.py:111: RuntimeWarning: There were no Annotations stored in <EpochsArray | 1 events (all good), 0 – 14.992 s (baseline off), ~225 kB, data loaded,\n",
      " '1': 1>, so metadata was not modified.\n",
      "  res = mne_connectivity.spectral_connectivity_time(\n"
     ]
    },
    {
     "name": "stdout",
     "output_type": "stream",
     "text": [
      "[Connectivity computation done]\n",
      "56\n",
      "[ 4.    4.25  4.5   4.75  5.    5.25  5.5   5.75  6.    6.25  6.5   6.75\n",
      "  7.    7.25  7.5   7.75  8.    8.25  8.5   8.75  9.    9.25  9.5   9.75\n",
      " 10.   10.25 10.5  10.75 11.   11.25 11.5  11.75 12.   12.25 12.5  12.75\n",
      " 13.   13.25 13.5  13.75 14.   14.25 14.5  14.75 15.   15.25 15.5  15.75\n",
      " 16.   16.25 16.5  16.75 17.   17.25 17.5  17.75 18.   18.25 18.5  18.75\n",
      " 19.   19.25 19.5  19.75 20.   20.25 20.5  20.75 21.   21.25 21.5  21.75\n",
      " 22.   22.25 22.5  22.75 23.   23.25 23.5  23.75 24.   24.25 24.5  24.75\n",
      " 25.   25.25 25.5  25.75 26.   26.25 26.5  26.75 27.   27.25 27.5  27.75\n",
      " 28.   28.25 28.5  28.75 29.   29.25 29.5  29.75 30.   30.25 30.5  30.75\n",
      " 31.   31.25 31.5  31.75 32.   32.25 32.5  32.75 33.   33.25 33.5  33.75\n",
      " 34.   34.25 34.5  34.75 35.   35.25 35.5  35.75 36.   36.25 36.5  36.75\n",
      " 37.   37.25 37.5  37.75 38.   38.25 38.5  38.75 39.   39.25 39.5  39.75\n",
      " 40.   40.25 40.5  40.75 41.   41.25 41.5  41.75 42.   42.25 42.5  42.75\n",
      " 43.   43.25 43.5  43.75 44.   44.25 44.5  44.75 45.  ]\n",
      "only using indices for lower-triangular matrix\n",
      "Connectivity computation...\n",
      "   Processing epoch 1 / 1 ...\n"
     ]
    },
    {
     "name": "stderr",
     "output_type": "stream",
     "text": [
      "/Users/jakubblaha/Documents/thesis/thesis-python/main.py:111: RuntimeWarning: There were no Annotations stored in <EpochsArray | 1 events (all good), 0 – 14.992 s (baseline off), ~225 kB, data loaded,\n",
      " '1': 1>, so metadata was not modified.\n",
      "  res = mne_connectivity.spectral_connectivity_time(\n"
     ]
    },
    {
     "name": "stdout",
     "output_type": "stream",
     "text": [
      "[Connectivity computation done]\n",
      "57\n",
      "[ 4.    4.25  4.5   4.75  5.    5.25  5.5   5.75  6.    6.25  6.5   6.75\n",
      "  7.    7.25  7.5   7.75  8.    8.25  8.5   8.75  9.    9.25  9.5   9.75\n",
      " 10.   10.25 10.5  10.75 11.   11.25 11.5  11.75 12.   12.25 12.5  12.75\n",
      " 13.   13.25 13.5  13.75 14.   14.25 14.5  14.75 15.   15.25 15.5  15.75\n",
      " 16.   16.25 16.5  16.75 17.   17.25 17.5  17.75 18.   18.25 18.5  18.75\n",
      " 19.   19.25 19.5  19.75 20.   20.25 20.5  20.75 21.   21.25 21.5  21.75\n",
      " 22.   22.25 22.5  22.75 23.   23.25 23.5  23.75 24.   24.25 24.5  24.75\n",
      " 25.   25.25 25.5  25.75 26.   26.25 26.5  26.75 27.   27.25 27.5  27.75\n",
      " 28.   28.25 28.5  28.75 29.   29.25 29.5  29.75 30.   30.25 30.5  30.75\n",
      " 31.   31.25 31.5  31.75 32.   32.25 32.5  32.75 33.   33.25 33.5  33.75\n",
      " 34.   34.25 34.5  34.75 35.   35.25 35.5  35.75 36.   36.25 36.5  36.75\n",
      " 37.   37.25 37.5  37.75 38.   38.25 38.5  38.75 39.   39.25 39.5  39.75\n",
      " 40.   40.25 40.5  40.75 41.   41.25 41.5  41.75 42.   42.25 42.5  42.75\n",
      " 43.   43.25 43.5  43.75 44.   44.25 44.5  44.75 45.  ]\n",
      "only using indices for lower-triangular matrix\n",
      "Connectivity computation...\n",
      "   Processing epoch 1 / 1 ...\n"
     ]
    },
    {
     "name": "stderr",
     "output_type": "stream",
     "text": [
      "/Users/jakubblaha/Documents/thesis/thesis-python/main.py:111: RuntimeWarning: There were no Annotations stored in <EpochsArray | 1 events (all good), 0 – 14.992 s (baseline off), ~225 kB, data loaded,\n",
      " '1': 1>, so metadata was not modified.\n",
      "  res = mne_connectivity.spectral_connectivity_time(\n"
     ]
    },
    {
     "name": "stdout",
     "output_type": "stream",
     "text": [
      "[Connectivity computation done]\n",
      "58\n",
      "[ 4.    4.25  4.5   4.75  5.    5.25  5.5   5.75  6.    6.25  6.5   6.75\n",
      "  7.    7.25  7.5   7.75  8.    8.25  8.5   8.75  9.    9.25  9.5   9.75\n",
      " 10.   10.25 10.5  10.75 11.   11.25 11.5  11.75 12.   12.25 12.5  12.75\n",
      " 13.   13.25 13.5  13.75 14.   14.25 14.5  14.75 15.   15.25 15.5  15.75\n",
      " 16.   16.25 16.5  16.75 17.   17.25 17.5  17.75 18.   18.25 18.5  18.75\n",
      " 19.   19.25 19.5  19.75 20.   20.25 20.5  20.75 21.   21.25 21.5  21.75\n",
      " 22.   22.25 22.5  22.75 23.   23.25 23.5  23.75 24.   24.25 24.5  24.75\n",
      " 25.   25.25 25.5  25.75 26.   26.25 26.5  26.75 27.   27.25 27.5  27.75\n",
      " 28.   28.25 28.5  28.75 29.   29.25 29.5  29.75 30.   30.25 30.5  30.75\n",
      " 31.   31.25 31.5  31.75 32.   32.25 32.5  32.75 33.   33.25 33.5  33.75\n",
      " 34.   34.25 34.5  34.75 35.   35.25 35.5  35.75 36.   36.25 36.5  36.75\n",
      " 37.   37.25 37.5  37.75 38.   38.25 38.5  38.75 39.   39.25 39.5  39.75\n",
      " 40.   40.25 40.5  40.75 41.   41.25 41.5  41.75 42.   42.25 42.5  42.75\n",
      " 43.   43.25 43.5  43.75 44.   44.25 44.5  44.75 45.  ]\n",
      "only using indices for lower-triangular matrix\n",
      "Connectivity computation...\n",
      "   Processing epoch 1 / 1 ...\n"
     ]
    },
    {
     "name": "stderr",
     "output_type": "stream",
     "text": [
      "/Users/jakubblaha/Documents/thesis/thesis-python/main.py:111: RuntimeWarning: There were no Annotations stored in <EpochsArray | 1 events (all good), 0 – 14.992 s (baseline off), ~225 kB, data loaded,\n",
      " '1': 1>, so metadata was not modified.\n",
      "  res = mne_connectivity.spectral_connectivity_time(\n"
     ]
    },
    {
     "name": "stdout",
     "output_type": "stream",
     "text": [
      "[Connectivity computation done]\n",
      "59\n",
      "[ 4.    4.25  4.5   4.75  5.    5.25  5.5   5.75  6.    6.25  6.5   6.75\n",
      "  7.    7.25  7.5   7.75  8.    8.25  8.5   8.75  9.    9.25  9.5   9.75\n",
      " 10.   10.25 10.5  10.75 11.   11.25 11.5  11.75 12.   12.25 12.5  12.75\n",
      " 13.   13.25 13.5  13.75 14.   14.25 14.5  14.75 15.   15.25 15.5  15.75\n",
      " 16.   16.25 16.5  16.75 17.   17.25 17.5  17.75 18.   18.25 18.5  18.75\n",
      " 19.   19.25 19.5  19.75 20.   20.25 20.5  20.75 21.   21.25 21.5  21.75\n",
      " 22.   22.25 22.5  22.75 23.   23.25 23.5  23.75 24.   24.25 24.5  24.75\n",
      " 25.   25.25 25.5  25.75 26.   26.25 26.5  26.75 27.   27.25 27.5  27.75\n",
      " 28.   28.25 28.5  28.75 29.   29.25 29.5  29.75 30.   30.25 30.5  30.75\n",
      " 31.   31.25 31.5  31.75 32.   32.25 32.5  32.75 33.   33.25 33.5  33.75\n",
      " 34.   34.25 34.5  34.75 35.   35.25 35.5  35.75 36.   36.25 36.5  36.75\n",
      " 37.   37.25 37.5  37.75 38.   38.25 38.5  38.75 39.   39.25 39.5  39.75\n",
      " 40.   40.25 40.5  40.75 41.   41.25 41.5  41.75 42.   42.25 42.5  42.75\n",
      " 43.   43.25 43.5  43.75 44.   44.25 44.5  44.75 45.  ]\n",
      "only using indices for lower-triangular matrix\n",
      "Connectivity computation...\n",
      "   Processing epoch 1 / 1 ...\n"
     ]
    },
    {
     "name": "stderr",
     "output_type": "stream",
     "text": [
      "/Users/jakubblaha/Documents/thesis/thesis-python/main.py:111: RuntimeWarning: There were no Annotations stored in <EpochsArray | 1 events (all good), 0 – 14.992 s (baseline off), ~225 kB, data loaded,\n",
      " '1': 1>, so metadata was not modified.\n",
      "  res = mne_connectivity.spectral_connectivity_time(\n"
     ]
    },
    {
     "name": "stdout",
     "output_type": "stream",
     "text": [
      "[Connectivity computation done]\n",
      "60\n",
      "[ 4.    4.25  4.5   4.75  5.    5.25  5.5   5.75  6.    6.25  6.5   6.75\n",
      "  7.    7.25  7.5   7.75  8.    8.25  8.5   8.75  9.    9.25  9.5   9.75\n",
      " 10.   10.25 10.5  10.75 11.   11.25 11.5  11.75 12.   12.25 12.5  12.75\n",
      " 13.   13.25 13.5  13.75 14.   14.25 14.5  14.75 15.   15.25 15.5  15.75\n",
      " 16.   16.25 16.5  16.75 17.   17.25 17.5  17.75 18.   18.25 18.5  18.75\n",
      " 19.   19.25 19.5  19.75 20.   20.25 20.5  20.75 21.   21.25 21.5  21.75\n",
      " 22.   22.25 22.5  22.75 23.   23.25 23.5  23.75 24.   24.25 24.5  24.75\n",
      " 25.   25.25 25.5  25.75 26.   26.25 26.5  26.75 27.   27.25 27.5  27.75\n",
      " 28.   28.25 28.5  28.75 29.   29.25 29.5  29.75 30.   30.25 30.5  30.75\n",
      " 31.   31.25 31.5  31.75 32.   32.25 32.5  32.75 33.   33.25 33.5  33.75\n",
      " 34.   34.25 34.5  34.75 35.   35.25 35.5  35.75 36.   36.25 36.5  36.75\n",
      " 37.   37.25 37.5  37.75 38.   38.25 38.5  38.75 39.   39.25 39.5  39.75\n",
      " 40.   40.25 40.5  40.75 41.   41.25 41.5  41.75 42.   42.25 42.5  42.75\n",
      " 43.   43.25 43.5  43.75 44.   44.25 44.5  44.75 45.  ]\n",
      "only using indices for lower-triangular matrix\n",
      "Connectivity computation...\n",
      "   Processing epoch 1 / 1 ...\n"
     ]
    },
    {
     "name": "stderr",
     "output_type": "stream",
     "text": [
      "/Users/jakubblaha/Documents/thesis/thesis-python/main.py:111: RuntimeWarning: There were no Annotations stored in <EpochsArray | 1 events (all good), 0 – 14.992 s (baseline off), ~225 kB, data loaded,\n",
      " '1': 1>, so metadata was not modified.\n",
      "  res = mne_connectivity.spectral_connectivity_time(\n"
     ]
    },
    {
     "name": "stdout",
     "output_type": "stream",
     "text": [
      "[Connectivity computation done]\n",
      "61\n",
      "[ 4.    4.25  4.5   4.75  5.    5.25  5.5   5.75  6.    6.25  6.5   6.75\n",
      "  7.    7.25  7.5   7.75  8.    8.25  8.5   8.75  9.    9.25  9.5   9.75\n",
      " 10.   10.25 10.5  10.75 11.   11.25 11.5  11.75 12.   12.25 12.5  12.75\n",
      " 13.   13.25 13.5  13.75 14.   14.25 14.5  14.75 15.   15.25 15.5  15.75\n",
      " 16.   16.25 16.5  16.75 17.   17.25 17.5  17.75 18.   18.25 18.5  18.75\n",
      " 19.   19.25 19.5  19.75 20.   20.25 20.5  20.75 21.   21.25 21.5  21.75\n",
      " 22.   22.25 22.5  22.75 23.   23.25 23.5  23.75 24.   24.25 24.5  24.75\n",
      " 25.   25.25 25.5  25.75 26.   26.25 26.5  26.75 27.   27.25 27.5  27.75\n",
      " 28.   28.25 28.5  28.75 29.   29.25 29.5  29.75 30.   30.25 30.5  30.75\n",
      " 31.   31.25 31.5  31.75 32.   32.25 32.5  32.75 33.   33.25 33.5  33.75\n",
      " 34.   34.25 34.5  34.75 35.   35.25 35.5  35.75 36.   36.25 36.5  36.75\n",
      " 37.   37.25 37.5  37.75 38.   38.25 38.5  38.75 39.   39.25 39.5  39.75\n",
      " 40.   40.25 40.5  40.75 41.   41.25 41.5  41.75 42.   42.25 42.5  42.75\n",
      " 43.   43.25 43.5  43.75 44.   44.25 44.5  44.75 45.  ]\n",
      "only using indices for lower-triangular matrix\n",
      "Connectivity computation...\n",
      "   Processing epoch 1 / 1 ...\n"
     ]
    },
    {
     "name": "stderr",
     "output_type": "stream",
     "text": [
      "/Users/jakubblaha/Documents/thesis/thesis-python/main.py:111: RuntimeWarning: There were no Annotations stored in <EpochsArray | 1 events (all good), 0 – 14.992 s (baseline off), ~225 kB, data loaded,\n",
      " '1': 1>, so metadata was not modified.\n",
      "  res = mne_connectivity.spectral_connectivity_time(\n"
     ]
    },
    {
     "name": "stdout",
     "output_type": "stream",
     "text": [
      "[Connectivity computation done]\n",
      "62\n",
      "[ 4.    4.25  4.5   4.75  5.    5.25  5.5   5.75  6.    6.25  6.5   6.75\n",
      "  7.    7.25  7.5   7.75  8.    8.25  8.5   8.75  9.    9.25  9.5   9.75\n",
      " 10.   10.25 10.5  10.75 11.   11.25 11.5  11.75 12.   12.25 12.5  12.75\n",
      " 13.   13.25 13.5  13.75 14.   14.25 14.5  14.75 15.   15.25 15.5  15.75\n",
      " 16.   16.25 16.5  16.75 17.   17.25 17.5  17.75 18.   18.25 18.5  18.75\n",
      " 19.   19.25 19.5  19.75 20.   20.25 20.5  20.75 21.   21.25 21.5  21.75\n",
      " 22.   22.25 22.5  22.75 23.   23.25 23.5  23.75 24.   24.25 24.5  24.75\n",
      " 25.   25.25 25.5  25.75 26.   26.25 26.5  26.75 27.   27.25 27.5  27.75\n",
      " 28.   28.25 28.5  28.75 29.   29.25 29.5  29.75 30.   30.25 30.5  30.75\n",
      " 31.   31.25 31.5  31.75 32.   32.25 32.5  32.75 33.   33.25 33.5  33.75\n",
      " 34.   34.25 34.5  34.75 35.   35.25 35.5  35.75 36.   36.25 36.5  36.75\n",
      " 37.   37.25 37.5  37.75 38.   38.25 38.5  38.75 39.   39.25 39.5  39.75\n",
      " 40.   40.25 40.5  40.75 41.   41.25 41.5  41.75 42.   42.25 42.5  42.75\n",
      " 43.   43.25 43.5  43.75 44.   44.25 44.5  44.75 45.  ]\n",
      "only using indices for lower-triangular matrix\n",
      "Connectivity computation...\n",
      "   Processing epoch 1 / 1 ...\n"
     ]
    },
    {
     "name": "stderr",
     "output_type": "stream",
     "text": [
      "/Users/jakubblaha/Documents/thesis/thesis-python/main.py:111: RuntimeWarning: There were no Annotations stored in <EpochsArray | 1 events (all good), 0 – 14.992 s (baseline off), ~225 kB, data loaded,\n",
      " '1': 1>, so metadata was not modified.\n",
      "  res = mne_connectivity.spectral_connectivity_time(\n"
     ]
    },
    {
     "name": "stdout",
     "output_type": "stream",
     "text": [
      "[Connectivity computation done]\n",
      "63\n",
      "[ 4.    4.25  4.5   4.75  5.    5.25  5.5   5.75  6.    6.25  6.5   6.75\n",
      "  7.    7.25  7.5   7.75  8.    8.25  8.5   8.75  9.    9.25  9.5   9.75\n",
      " 10.   10.25 10.5  10.75 11.   11.25 11.5  11.75 12.   12.25 12.5  12.75\n",
      " 13.   13.25 13.5  13.75 14.   14.25 14.5  14.75 15.   15.25 15.5  15.75\n",
      " 16.   16.25 16.5  16.75 17.   17.25 17.5  17.75 18.   18.25 18.5  18.75\n",
      " 19.   19.25 19.5  19.75 20.   20.25 20.5  20.75 21.   21.25 21.5  21.75\n",
      " 22.   22.25 22.5  22.75 23.   23.25 23.5  23.75 24.   24.25 24.5  24.75\n",
      " 25.   25.25 25.5  25.75 26.   26.25 26.5  26.75 27.   27.25 27.5  27.75\n",
      " 28.   28.25 28.5  28.75 29.   29.25 29.5  29.75 30.   30.25 30.5  30.75\n",
      " 31.   31.25 31.5  31.75 32.   32.25 32.5  32.75 33.   33.25 33.5  33.75\n",
      " 34.   34.25 34.5  34.75 35.   35.25 35.5  35.75 36.   36.25 36.5  36.75\n",
      " 37.   37.25 37.5  37.75 38.   38.25 38.5  38.75 39.   39.25 39.5  39.75\n",
      " 40.   40.25 40.5  40.75 41.   41.25 41.5  41.75 42.   42.25 42.5  42.75\n",
      " 43.   43.25 43.5  43.75 44.   44.25 44.5  44.75 45.  ]\n",
      "only using indices for lower-triangular matrix\n",
      "Connectivity computation...\n",
      "   Processing epoch 1 / 1 ...\n"
     ]
    },
    {
     "name": "stderr",
     "output_type": "stream",
     "text": [
      "/Users/jakubblaha/Documents/thesis/thesis-python/main.py:111: RuntimeWarning: There were no Annotations stored in <EpochsArray | 1 events (all good), 0 – 14.992 s (baseline off), ~225 kB, data loaded,\n",
      " '1': 1>, so metadata was not modified.\n",
      "  res = mne_connectivity.spectral_connectivity_time(\n"
     ]
    },
    {
     "name": "stdout",
     "output_type": "stream",
     "text": [
      "[Connectivity computation done]\n",
      "64\n",
      "[ 4.    4.25  4.5   4.75  5.    5.25  5.5   5.75  6.    6.25  6.5   6.75\n",
      "  7.    7.25  7.5   7.75  8.    8.25  8.5   8.75  9.    9.25  9.5   9.75\n",
      " 10.   10.25 10.5  10.75 11.   11.25 11.5  11.75 12.   12.25 12.5  12.75\n",
      " 13.   13.25 13.5  13.75 14.   14.25 14.5  14.75 15.   15.25 15.5  15.75\n",
      " 16.   16.25 16.5  16.75 17.   17.25 17.5  17.75 18.   18.25 18.5  18.75\n",
      " 19.   19.25 19.5  19.75 20.   20.25 20.5  20.75 21.   21.25 21.5  21.75\n",
      " 22.   22.25 22.5  22.75 23.   23.25 23.5  23.75 24.   24.25 24.5  24.75\n",
      " 25.   25.25 25.5  25.75 26.   26.25 26.5  26.75 27.   27.25 27.5  27.75\n",
      " 28.   28.25 28.5  28.75 29.   29.25 29.5  29.75 30.   30.25 30.5  30.75\n",
      " 31.   31.25 31.5  31.75 32.   32.25 32.5  32.75 33.   33.25 33.5  33.75\n",
      " 34.   34.25 34.5  34.75 35.   35.25 35.5  35.75 36.   36.25 36.5  36.75\n",
      " 37.   37.25 37.5  37.75 38.   38.25 38.5  38.75 39.   39.25 39.5  39.75\n",
      " 40.   40.25 40.5  40.75 41.   41.25 41.5  41.75 42.   42.25 42.5  42.75\n",
      " 43.   43.25 43.5  43.75 44.   44.25 44.5  44.75 45.  ]\n",
      "only using indices for lower-triangular matrix\n",
      "Connectivity computation...\n",
      "   Processing epoch 1 / 1 ...\n"
     ]
    },
    {
     "name": "stderr",
     "output_type": "stream",
     "text": [
      "/Users/jakubblaha/Documents/thesis/thesis-python/main.py:111: RuntimeWarning: There were no Annotations stored in <EpochsArray | 1 events (all good), 0 – 14.992 s (baseline off), ~225 kB, data loaded,\n",
      " '1': 1>, so metadata was not modified.\n",
      "  res = mne_connectivity.spectral_connectivity_time(\n"
     ]
    },
    {
     "name": "stdout",
     "output_type": "stream",
     "text": [
      "[Connectivity computation done]\n",
      "65\n",
      "[ 4.    4.25  4.5   4.75  5.    5.25  5.5   5.75  6.    6.25  6.5   6.75\n",
      "  7.    7.25  7.5   7.75  8.    8.25  8.5   8.75  9.    9.25  9.5   9.75\n",
      " 10.   10.25 10.5  10.75 11.   11.25 11.5  11.75 12.   12.25 12.5  12.75\n",
      " 13.   13.25 13.5  13.75 14.   14.25 14.5  14.75 15.   15.25 15.5  15.75\n",
      " 16.   16.25 16.5  16.75 17.   17.25 17.5  17.75 18.   18.25 18.5  18.75\n",
      " 19.   19.25 19.5  19.75 20.   20.25 20.5  20.75 21.   21.25 21.5  21.75\n",
      " 22.   22.25 22.5  22.75 23.   23.25 23.5  23.75 24.   24.25 24.5  24.75\n",
      " 25.   25.25 25.5  25.75 26.   26.25 26.5  26.75 27.   27.25 27.5  27.75\n",
      " 28.   28.25 28.5  28.75 29.   29.25 29.5  29.75 30.   30.25 30.5  30.75\n",
      " 31.   31.25 31.5  31.75 32.   32.25 32.5  32.75 33.   33.25 33.5  33.75\n",
      " 34.   34.25 34.5  34.75 35.   35.25 35.5  35.75 36.   36.25 36.5  36.75\n",
      " 37.   37.25 37.5  37.75 38.   38.25 38.5  38.75 39.   39.25 39.5  39.75\n",
      " 40.   40.25 40.5  40.75 41.   41.25 41.5  41.75 42.   42.25 42.5  42.75\n",
      " 43.   43.25 43.5  43.75 44.   44.25 44.5  44.75 45.  ]\n",
      "only using indices for lower-triangular matrix\n",
      "Connectivity computation...\n",
      "   Processing epoch 1 / 1 ...\n"
     ]
    },
    {
     "name": "stderr",
     "output_type": "stream",
     "text": [
      "/Users/jakubblaha/Documents/thesis/thesis-python/main.py:111: RuntimeWarning: There were no Annotations stored in <EpochsArray | 1 events (all good), 0 – 14.992 s (baseline off), ~225 kB, data loaded,\n",
      " '1': 1>, so metadata was not modified.\n",
      "  res = mne_connectivity.spectral_connectivity_time(\n"
     ]
    },
    {
     "name": "stdout",
     "output_type": "stream",
     "text": [
      "[Connectivity computation done]\n",
      "66\n",
      "[ 4.    4.25  4.5   4.75  5.    5.25  5.5   5.75  6.    6.25  6.5   6.75\n",
      "  7.    7.25  7.5   7.75  8.    8.25  8.5   8.75  9.    9.25  9.5   9.75\n",
      " 10.   10.25 10.5  10.75 11.   11.25 11.5  11.75 12.   12.25 12.5  12.75\n",
      " 13.   13.25 13.5  13.75 14.   14.25 14.5  14.75 15.   15.25 15.5  15.75\n",
      " 16.   16.25 16.5  16.75 17.   17.25 17.5  17.75 18.   18.25 18.5  18.75\n",
      " 19.   19.25 19.5  19.75 20.   20.25 20.5  20.75 21.   21.25 21.5  21.75\n",
      " 22.   22.25 22.5  22.75 23.   23.25 23.5  23.75 24.   24.25 24.5  24.75\n",
      " 25.   25.25 25.5  25.75 26.   26.25 26.5  26.75 27.   27.25 27.5  27.75\n",
      " 28.   28.25 28.5  28.75 29.   29.25 29.5  29.75 30.   30.25 30.5  30.75\n",
      " 31.   31.25 31.5  31.75 32.   32.25 32.5  32.75 33.   33.25 33.5  33.75\n",
      " 34.   34.25 34.5  34.75 35.   35.25 35.5  35.75 36.   36.25 36.5  36.75\n",
      " 37.   37.25 37.5  37.75 38.   38.25 38.5  38.75 39.   39.25 39.5  39.75\n",
      " 40.   40.25 40.5  40.75 41.   41.25 41.5  41.75 42.   42.25 42.5  42.75\n",
      " 43.   43.25 43.5  43.75 44.   44.25 44.5  44.75 45.  ]\n",
      "only using indices for lower-triangular matrix\n",
      "Connectivity computation...\n",
      "   Processing epoch 1 / 1 ...\n"
     ]
    },
    {
     "name": "stderr",
     "output_type": "stream",
     "text": [
      "/Users/jakubblaha/Documents/thesis/thesis-python/main.py:111: RuntimeWarning: There were no Annotations stored in <EpochsArray | 1 events (all good), 0 – 14.992 s (baseline off), ~225 kB, data loaded,\n",
      " '1': 1>, so metadata was not modified.\n",
      "  res = mne_connectivity.spectral_connectivity_time(\n"
     ]
    },
    {
     "name": "stdout",
     "output_type": "stream",
     "text": [
      "[Connectivity computation done]\n",
      "67\n",
      "[ 4.    4.25  4.5   4.75  5.    5.25  5.5   5.75  6.    6.25  6.5   6.75\n",
      "  7.    7.25  7.5   7.75  8.    8.25  8.5   8.75  9.    9.25  9.5   9.75\n",
      " 10.   10.25 10.5  10.75 11.   11.25 11.5  11.75 12.   12.25 12.5  12.75\n",
      " 13.   13.25 13.5  13.75 14.   14.25 14.5  14.75 15.   15.25 15.5  15.75\n",
      " 16.   16.25 16.5  16.75 17.   17.25 17.5  17.75 18.   18.25 18.5  18.75\n",
      " 19.   19.25 19.5  19.75 20.   20.25 20.5  20.75 21.   21.25 21.5  21.75\n",
      " 22.   22.25 22.5  22.75 23.   23.25 23.5  23.75 24.   24.25 24.5  24.75\n",
      " 25.   25.25 25.5  25.75 26.   26.25 26.5  26.75 27.   27.25 27.5  27.75\n",
      " 28.   28.25 28.5  28.75 29.   29.25 29.5  29.75 30.   30.25 30.5  30.75\n",
      " 31.   31.25 31.5  31.75 32.   32.25 32.5  32.75 33.   33.25 33.5  33.75\n",
      " 34.   34.25 34.5  34.75 35.   35.25 35.5  35.75 36.   36.25 36.5  36.75\n",
      " 37.   37.25 37.5  37.75 38.   38.25 38.5  38.75 39.   39.25 39.5  39.75\n",
      " 40.   40.25 40.5  40.75 41.   41.25 41.5  41.75 42.   42.25 42.5  42.75\n",
      " 43.   43.25 43.5  43.75 44.   44.25 44.5  44.75 45.  ]\n",
      "only using indices for lower-triangular matrix\n",
      "Connectivity computation...\n",
      "   Processing epoch 1 / 1 ...\n"
     ]
    },
    {
     "name": "stderr",
     "output_type": "stream",
     "text": [
      "/Users/jakubblaha/Documents/thesis/thesis-python/main.py:111: RuntimeWarning: There were no Annotations stored in <EpochsArray | 1 events (all good), 0 – 14.992 s (baseline off), ~225 kB, data loaded,\n",
      " '1': 1>, so metadata was not modified.\n",
      "  res = mne_connectivity.spectral_connectivity_time(\n"
     ]
    },
    {
     "name": "stdout",
     "output_type": "stream",
     "text": [
      "[Connectivity computation done]\n",
      "68\n",
      "[ 4.    4.25  4.5   4.75  5.    5.25  5.5   5.75  6.    6.25  6.5   6.75\n",
      "  7.    7.25  7.5   7.75  8.    8.25  8.5   8.75  9.    9.25  9.5   9.75\n",
      " 10.   10.25 10.5  10.75 11.   11.25 11.5  11.75 12.   12.25 12.5  12.75\n",
      " 13.   13.25 13.5  13.75 14.   14.25 14.5  14.75 15.   15.25 15.5  15.75\n",
      " 16.   16.25 16.5  16.75 17.   17.25 17.5  17.75 18.   18.25 18.5  18.75\n",
      " 19.   19.25 19.5  19.75 20.   20.25 20.5  20.75 21.   21.25 21.5  21.75\n",
      " 22.   22.25 22.5  22.75 23.   23.25 23.5  23.75 24.   24.25 24.5  24.75\n",
      " 25.   25.25 25.5  25.75 26.   26.25 26.5  26.75 27.   27.25 27.5  27.75\n",
      " 28.   28.25 28.5  28.75 29.   29.25 29.5  29.75 30.   30.25 30.5  30.75\n",
      " 31.   31.25 31.5  31.75 32.   32.25 32.5  32.75 33.   33.25 33.5  33.75\n",
      " 34.   34.25 34.5  34.75 35.   35.25 35.5  35.75 36.   36.25 36.5  36.75\n",
      " 37.   37.25 37.5  37.75 38.   38.25 38.5  38.75 39.   39.25 39.5  39.75\n",
      " 40.   40.25 40.5  40.75 41.   41.25 41.5  41.75 42.   42.25 42.5  42.75\n",
      " 43.   43.25 43.5  43.75 44.   44.25 44.5  44.75 45.  ]\n",
      "only using indices for lower-triangular matrix\n",
      "Connectivity computation...\n",
      "   Processing epoch 1 / 1 ...\n"
     ]
    },
    {
     "name": "stderr",
     "output_type": "stream",
     "text": [
      "/Users/jakubblaha/Documents/thesis/thesis-python/main.py:111: RuntimeWarning: There were no Annotations stored in <EpochsArray | 1 events (all good), 0 – 14.992 s (baseline off), ~225 kB, data loaded,\n",
      " '1': 1>, so metadata was not modified.\n",
      "  res = mne_connectivity.spectral_connectivity_time(\n"
     ]
    },
    {
     "name": "stdout",
     "output_type": "stream",
     "text": [
      "[Connectivity computation done]\n",
      "69\n",
      "[ 4.    4.25  4.5   4.75  5.    5.25  5.5   5.75  6.    6.25  6.5   6.75\n",
      "  7.    7.25  7.5   7.75  8.    8.25  8.5   8.75  9.    9.25  9.5   9.75\n",
      " 10.   10.25 10.5  10.75 11.   11.25 11.5  11.75 12.   12.25 12.5  12.75\n",
      " 13.   13.25 13.5  13.75 14.   14.25 14.5  14.75 15.   15.25 15.5  15.75\n",
      " 16.   16.25 16.5  16.75 17.   17.25 17.5  17.75 18.   18.25 18.5  18.75\n",
      " 19.   19.25 19.5  19.75 20.   20.25 20.5  20.75 21.   21.25 21.5  21.75\n",
      " 22.   22.25 22.5  22.75 23.   23.25 23.5  23.75 24.   24.25 24.5  24.75\n",
      " 25.   25.25 25.5  25.75 26.   26.25 26.5  26.75 27.   27.25 27.5  27.75\n",
      " 28.   28.25 28.5  28.75 29.   29.25 29.5  29.75 30.   30.25 30.5  30.75\n",
      " 31.   31.25 31.5  31.75 32.   32.25 32.5  32.75 33.   33.25 33.5  33.75\n",
      " 34.   34.25 34.5  34.75 35.   35.25 35.5  35.75 36.   36.25 36.5  36.75\n",
      " 37.   37.25 37.5  37.75 38.   38.25 38.5  38.75 39.   39.25 39.5  39.75\n",
      " 40.   40.25 40.5  40.75 41.   41.25 41.5  41.75 42.   42.25 42.5  42.75\n",
      " 43.   43.25 43.5  43.75 44.   44.25 44.5  44.75 45.  ]\n",
      "only using indices for lower-triangular matrix\n",
      "Connectivity computation...\n",
      "   Processing epoch 1 / 1 ...\n"
     ]
    },
    {
     "name": "stderr",
     "output_type": "stream",
     "text": [
      "/Users/jakubblaha/Documents/thesis/thesis-python/main.py:111: RuntimeWarning: There were no Annotations stored in <EpochsArray | 1 events (all good), 0 – 14.992 s (baseline off), ~225 kB, data loaded,\n",
      " '1': 1>, so metadata was not modified.\n",
      "  res = mne_connectivity.spectral_connectivity_time(\n"
     ]
    },
    {
     "name": "stdout",
     "output_type": "stream",
     "text": [
      "[Connectivity computation done]\n",
      "70\n",
      "[ 4.    4.25  4.5   4.75  5.    5.25  5.5   5.75  6.    6.25  6.5   6.75\n",
      "  7.    7.25  7.5   7.75  8.    8.25  8.5   8.75  9.    9.25  9.5   9.75\n",
      " 10.   10.25 10.5  10.75 11.   11.25 11.5  11.75 12.   12.25 12.5  12.75\n",
      " 13.   13.25 13.5  13.75 14.   14.25 14.5  14.75 15.   15.25 15.5  15.75\n",
      " 16.   16.25 16.5  16.75 17.   17.25 17.5  17.75 18.   18.25 18.5  18.75\n",
      " 19.   19.25 19.5  19.75 20.   20.25 20.5  20.75 21.   21.25 21.5  21.75\n",
      " 22.   22.25 22.5  22.75 23.   23.25 23.5  23.75 24.   24.25 24.5  24.75\n",
      " 25.   25.25 25.5  25.75 26.   26.25 26.5  26.75 27.   27.25 27.5  27.75\n",
      " 28.   28.25 28.5  28.75 29.   29.25 29.5  29.75 30.   30.25 30.5  30.75\n",
      " 31.   31.25 31.5  31.75 32.   32.25 32.5  32.75 33.   33.25 33.5  33.75\n",
      " 34.   34.25 34.5  34.75 35.   35.25 35.5  35.75 36.   36.25 36.5  36.75\n",
      " 37.   37.25 37.5  37.75 38.   38.25 38.5  38.75 39.   39.25 39.5  39.75\n",
      " 40.   40.25 40.5  40.75 41.   41.25 41.5  41.75 42.   42.25 42.5  42.75\n",
      " 43.   43.25 43.5  43.75 44.   44.25 44.5  44.75 45.  ]\n",
      "only using indices for lower-triangular matrix\n",
      "Connectivity computation...\n",
      "   Processing epoch 1 / 1 ...\n"
     ]
    },
    {
     "name": "stderr",
     "output_type": "stream",
     "text": [
      "/Users/jakubblaha/Documents/thesis/thesis-python/main.py:111: RuntimeWarning: There were no Annotations stored in <EpochsArray | 1 events (all good), 0 – 14.992 s (baseline off), ~225 kB, data loaded,\n",
      " '1': 1>, so metadata was not modified.\n",
      "  res = mne_connectivity.spectral_connectivity_time(\n"
     ]
    },
    {
     "name": "stdout",
     "output_type": "stream",
     "text": [
      "[Connectivity computation done]\n",
      "71\n",
      "[ 4.    4.25  4.5   4.75  5.    5.25  5.5   5.75  6.    6.25  6.5   6.75\n",
      "  7.    7.25  7.5   7.75  8.    8.25  8.5   8.75  9.    9.25  9.5   9.75\n",
      " 10.   10.25 10.5  10.75 11.   11.25 11.5  11.75 12.   12.25 12.5  12.75\n",
      " 13.   13.25 13.5  13.75 14.   14.25 14.5  14.75 15.   15.25 15.5  15.75\n",
      " 16.   16.25 16.5  16.75 17.   17.25 17.5  17.75 18.   18.25 18.5  18.75\n",
      " 19.   19.25 19.5  19.75 20.   20.25 20.5  20.75 21.   21.25 21.5  21.75\n",
      " 22.   22.25 22.5  22.75 23.   23.25 23.5  23.75 24.   24.25 24.5  24.75\n",
      " 25.   25.25 25.5  25.75 26.   26.25 26.5  26.75 27.   27.25 27.5  27.75\n",
      " 28.   28.25 28.5  28.75 29.   29.25 29.5  29.75 30.   30.25 30.5  30.75\n",
      " 31.   31.25 31.5  31.75 32.   32.25 32.5  32.75 33.   33.25 33.5  33.75\n",
      " 34.   34.25 34.5  34.75 35.   35.25 35.5  35.75 36.   36.25 36.5  36.75\n",
      " 37.   37.25 37.5  37.75 38.   38.25 38.5  38.75 39.   39.25 39.5  39.75\n",
      " 40.   40.25 40.5  40.75 41.   41.25 41.5  41.75 42.   42.25 42.5  42.75\n",
      " 43.   43.25 43.5  43.75 44.   44.25 44.5  44.75 45.  ]\n",
      "only using indices for lower-triangular matrix\n",
      "Connectivity computation...\n",
      "   Processing epoch 1 / 1 ...\n"
     ]
    },
    {
     "name": "stderr",
     "output_type": "stream",
     "text": [
      "/Users/jakubblaha/Documents/thesis/thesis-python/main.py:111: RuntimeWarning: There were no Annotations stored in <EpochsArray | 1 events (all good), 0 – 14.992 s (baseline off), ~225 kB, data loaded,\n",
      " '1': 1>, so metadata was not modified.\n",
      "  res = mne_connectivity.spectral_connectivity_time(\n"
     ]
    },
    {
     "name": "stdout",
     "output_type": "stream",
     "text": [
      "[Connectivity computation done]\n",
      "72\n",
      "[ 4.    4.25  4.5   4.75  5.    5.25  5.5   5.75  6.    6.25  6.5   6.75\n",
      "  7.    7.25  7.5   7.75  8.    8.25  8.5   8.75  9.    9.25  9.5   9.75\n",
      " 10.   10.25 10.5  10.75 11.   11.25 11.5  11.75 12.   12.25 12.5  12.75\n",
      " 13.   13.25 13.5  13.75 14.   14.25 14.5  14.75 15.   15.25 15.5  15.75\n",
      " 16.   16.25 16.5  16.75 17.   17.25 17.5  17.75 18.   18.25 18.5  18.75\n",
      " 19.   19.25 19.5  19.75 20.   20.25 20.5  20.75 21.   21.25 21.5  21.75\n",
      " 22.   22.25 22.5  22.75 23.   23.25 23.5  23.75 24.   24.25 24.5  24.75\n",
      " 25.   25.25 25.5  25.75 26.   26.25 26.5  26.75 27.   27.25 27.5  27.75\n",
      " 28.   28.25 28.5  28.75 29.   29.25 29.5  29.75 30.   30.25 30.5  30.75\n",
      " 31.   31.25 31.5  31.75 32.   32.25 32.5  32.75 33.   33.25 33.5  33.75\n",
      " 34.   34.25 34.5  34.75 35.   35.25 35.5  35.75 36.   36.25 36.5  36.75\n",
      " 37.   37.25 37.5  37.75 38.   38.25 38.5  38.75 39.   39.25 39.5  39.75\n",
      " 40.   40.25 40.5  40.75 41.   41.25 41.5  41.75 42.   42.25 42.5  42.75\n",
      " 43.   43.25 43.5  43.75 44.   44.25 44.5  44.75 45.  ]\n",
      "only using indices for lower-triangular matrix\n",
      "Connectivity computation...\n",
      "   Processing epoch 1 / 1 ...\n"
     ]
    },
    {
     "name": "stderr",
     "output_type": "stream",
     "text": [
      "/Users/jakubblaha/Documents/thesis/thesis-python/main.py:111: RuntimeWarning: There were no Annotations stored in <EpochsArray | 1 events (all good), 0 – 14.992 s (baseline off), ~225 kB, data loaded,\n",
      " '1': 1>, so metadata was not modified.\n",
      "  res = mne_connectivity.spectral_connectivity_time(\n"
     ]
    },
    {
     "name": "stdout",
     "output_type": "stream",
     "text": [
      "[Connectivity computation done]\n",
      "73\n",
      "[ 4.    4.25  4.5   4.75  5.    5.25  5.5   5.75  6.    6.25  6.5   6.75\n",
      "  7.    7.25  7.5   7.75  8.    8.25  8.5   8.75  9.    9.25  9.5   9.75\n",
      " 10.   10.25 10.5  10.75 11.   11.25 11.5  11.75 12.   12.25 12.5  12.75\n",
      " 13.   13.25 13.5  13.75 14.   14.25 14.5  14.75 15.   15.25 15.5  15.75\n",
      " 16.   16.25 16.5  16.75 17.   17.25 17.5  17.75 18.   18.25 18.5  18.75\n",
      " 19.   19.25 19.5  19.75 20.   20.25 20.5  20.75 21.   21.25 21.5  21.75\n",
      " 22.   22.25 22.5  22.75 23.   23.25 23.5  23.75 24.   24.25 24.5  24.75\n",
      " 25.   25.25 25.5  25.75 26.   26.25 26.5  26.75 27.   27.25 27.5  27.75\n",
      " 28.   28.25 28.5  28.75 29.   29.25 29.5  29.75 30.   30.25 30.5  30.75\n",
      " 31.   31.25 31.5  31.75 32.   32.25 32.5  32.75 33.   33.25 33.5  33.75\n",
      " 34.   34.25 34.5  34.75 35.   35.25 35.5  35.75 36.   36.25 36.5  36.75\n",
      " 37.   37.25 37.5  37.75 38.   38.25 38.5  38.75 39.   39.25 39.5  39.75\n",
      " 40.   40.25 40.5  40.75 41.   41.25 41.5  41.75 42.   42.25 42.5  42.75\n",
      " 43.   43.25 43.5  43.75 44.   44.25 44.5  44.75 45.  ]\n",
      "only using indices for lower-triangular matrix\n",
      "Connectivity computation...\n",
      "   Processing epoch 1 / 1 ...\n"
     ]
    },
    {
     "name": "stderr",
     "output_type": "stream",
     "text": [
      "/Users/jakubblaha/Documents/thesis/thesis-python/main.py:111: RuntimeWarning: There were no Annotations stored in <EpochsArray | 1 events (all good), 0 – 14.992 s (baseline off), ~225 kB, data loaded,\n",
      " '1': 1>, so metadata was not modified.\n",
      "  res = mne_connectivity.spectral_connectivity_time(\n"
     ]
    },
    {
     "name": "stdout",
     "output_type": "stream",
     "text": [
      "[Connectivity computation done]\n",
      "74\n",
      "[ 4.    4.25  4.5   4.75  5.    5.25  5.5   5.75  6.    6.25  6.5   6.75\n",
      "  7.    7.25  7.5   7.75  8.    8.25  8.5   8.75  9.    9.25  9.5   9.75\n",
      " 10.   10.25 10.5  10.75 11.   11.25 11.5  11.75 12.   12.25 12.5  12.75\n",
      " 13.   13.25 13.5  13.75 14.   14.25 14.5  14.75 15.   15.25 15.5  15.75\n",
      " 16.   16.25 16.5  16.75 17.   17.25 17.5  17.75 18.   18.25 18.5  18.75\n",
      " 19.   19.25 19.5  19.75 20.   20.25 20.5  20.75 21.   21.25 21.5  21.75\n",
      " 22.   22.25 22.5  22.75 23.   23.25 23.5  23.75 24.   24.25 24.5  24.75\n",
      " 25.   25.25 25.5  25.75 26.   26.25 26.5  26.75 27.   27.25 27.5  27.75\n",
      " 28.   28.25 28.5  28.75 29.   29.25 29.5  29.75 30.   30.25 30.5  30.75\n",
      " 31.   31.25 31.5  31.75 32.   32.25 32.5  32.75 33.   33.25 33.5  33.75\n",
      " 34.   34.25 34.5  34.75 35.   35.25 35.5  35.75 36.   36.25 36.5  36.75\n",
      " 37.   37.25 37.5  37.75 38.   38.25 38.5  38.75 39.   39.25 39.5  39.75\n",
      " 40.   40.25 40.5  40.75 41.   41.25 41.5  41.75 42.   42.25 42.5  42.75\n",
      " 43.   43.25 43.5  43.75 44.   44.25 44.5  44.75 45.  ]\n",
      "only using indices for lower-triangular matrix\n",
      "Connectivity computation...\n",
      "   Processing epoch 1 / 1 ...\n"
     ]
    },
    {
     "name": "stderr",
     "output_type": "stream",
     "text": [
      "/Users/jakubblaha/Documents/thesis/thesis-python/main.py:111: RuntimeWarning: There were no Annotations stored in <EpochsArray | 1 events (all good), 0 – 14.992 s (baseline off), ~225 kB, data loaded,\n",
      " '1': 1>, so metadata was not modified.\n",
      "  res = mne_connectivity.spectral_connectivity_time(\n"
     ]
    },
    {
     "name": "stdout",
     "output_type": "stream",
     "text": [
      "[Connectivity computation done]\n",
      "75\n",
      "[ 4.    4.25  4.5   4.75  5.    5.25  5.5   5.75  6.    6.25  6.5   6.75\n",
      "  7.    7.25  7.5   7.75  8.    8.25  8.5   8.75  9.    9.25  9.5   9.75\n",
      " 10.   10.25 10.5  10.75 11.   11.25 11.5  11.75 12.   12.25 12.5  12.75\n",
      " 13.   13.25 13.5  13.75 14.   14.25 14.5  14.75 15.   15.25 15.5  15.75\n",
      " 16.   16.25 16.5  16.75 17.   17.25 17.5  17.75 18.   18.25 18.5  18.75\n",
      " 19.   19.25 19.5  19.75 20.   20.25 20.5  20.75 21.   21.25 21.5  21.75\n",
      " 22.   22.25 22.5  22.75 23.   23.25 23.5  23.75 24.   24.25 24.5  24.75\n",
      " 25.   25.25 25.5  25.75 26.   26.25 26.5  26.75 27.   27.25 27.5  27.75\n",
      " 28.   28.25 28.5  28.75 29.   29.25 29.5  29.75 30.   30.25 30.5  30.75\n",
      " 31.   31.25 31.5  31.75 32.   32.25 32.5  32.75 33.   33.25 33.5  33.75\n",
      " 34.   34.25 34.5  34.75 35.   35.25 35.5  35.75 36.   36.25 36.5  36.75\n",
      " 37.   37.25 37.5  37.75 38.   38.25 38.5  38.75 39.   39.25 39.5  39.75\n",
      " 40.   40.25 40.5  40.75 41.   41.25 41.5  41.75 42.   42.25 42.5  42.75\n",
      " 43.   43.25 43.5  43.75 44.   44.25 44.5  44.75 45.  ]\n",
      "only using indices for lower-triangular matrix\n",
      "Connectivity computation...\n",
      "   Processing epoch 1 / 1 ...\n"
     ]
    },
    {
     "name": "stderr",
     "output_type": "stream",
     "text": [
      "/Users/jakubblaha/Documents/thesis/thesis-python/main.py:111: RuntimeWarning: There were no Annotations stored in <EpochsArray | 1 events (all good), 0 – 14.992 s (baseline off), ~225 kB, data loaded,\n",
      " '1': 1>, so metadata was not modified.\n",
      "  res = mne_connectivity.spectral_connectivity_time(\n"
     ]
    },
    {
     "name": "stdout",
     "output_type": "stream",
     "text": [
      "[Connectivity computation done]\n",
      "76\n",
      "[ 4.    4.25  4.5   4.75  5.    5.25  5.5   5.75  6.    6.25  6.5   6.75\n",
      "  7.    7.25  7.5   7.75  8.    8.25  8.5   8.75  9.    9.25  9.5   9.75\n",
      " 10.   10.25 10.5  10.75 11.   11.25 11.5  11.75 12.   12.25 12.5  12.75\n",
      " 13.   13.25 13.5  13.75 14.   14.25 14.5  14.75 15.   15.25 15.5  15.75\n",
      " 16.   16.25 16.5  16.75 17.   17.25 17.5  17.75 18.   18.25 18.5  18.75\n",
      " 19.   19.25 19.5  19.75 20.   20.25 20.5  20.75 21.   21.25 21.5  21.75\n",
      " 22.   22.25 22.5  22.75 23.   23.25 23.5  23.75 24.   24.25 24.5  24.75\n",
      " 25.   25.25 25.5  25.75 26.   26.25 26.5  26.75 27.   27.25 27.5  27.75\n",
      " 28.   28.25 28.5  28.75 29.   29.25 29.5  29.75 30.   30.25 30.5  30.75\n",
      " 31.   31.25 31.5  31.75 32.   32.25 32.5  32.75 33.   33.25 33.5  33.75\n",
      " 34.   34.25 34.5  34.75 35.   35.25 35.5  35.75 36.   36.25 36.5  36.75\n",
      " 37.   37.25 37.5  37.75 38.   38.25 38.5  38.75 39.   39.25 39.5  39.75\n",
      " 40.   40.25 40.5  40.75 41.   41.25 41.5  41.75 42.   42.25 42.5  42.75\n",
      " 43.   43.25 43.5  43.75 44.   44.25 44.5  44.75 45.  ]\n",
      "only using indices for lower-triangular matrix\n",
      "Connectivity computation...\n",
      "   Processing epoch 1 / 1 ...\n"
     ]
    },
    {
     "name": "stderr",
     "output_type": "stream",
     "text": [
      "/Users/jakubblaha/Documents/thesis/thesis-python/main.py:111: RuntimeWarning: There were no Annotations stored in <EpochsArray | 1 events (all good), 0 – 14.992 s (baseline off), ~225 kB, data loaded,\n",
      " '1': 1>, so metadata was not modified.\n",
      "  res = mne_connectivity.spectral_connectivity_time(\n"
     ]
    },
    {
     "name": "stdout",
     "output_type": "stream",
     "text": [
      "[Connectivity computation done]\n",
      "77\n",
      "[ 4.    4.25  4.5   4.75  5.    5.25  5.5   5.75  6.    6.25  6.5   6.75\n",
      "  7.    7.25  7.5   7.75  8.    8.25  8.5   8.75  9.    9.25  9.5   9.75\n",
      " 10.   10.25 10.5  10.75 11.   11.25 11.5  11.75 12.   12.25 12.5  12.75\n",
      " 13.   13.25 13.5  13.75 14.   14.25 14.5  14.75 15.   15.25 15.5  15.75\n",
      " 16.   16.25 16.5  16.75 17.   17.25 17.5  17.75 18.   18.25 18.5  18.75\n",
      " 19.   19.25 19.5  19.75 20.   20.25 20.5  20.75 21.   21.25 21.5  21.75\n",
      " 22.   22.25 22.5  22.75 23.   23.25 23.5  23.75 24.   24.25 24.5  24.75\n",
      " 25.   25.25 25.5  25.75 26.   26.25 26.5  26.75 27.   27.25 27.5  27.75\n",
      " 28.   28.25 28.5  28.75 29.   29.25 29.5  29.75 30.   30.25 30.5  30.75\n",
      " 31.   31.25 31.5  31.75 32.   32.25 32.5  32.75 33.   33.25 33.5  33.75\n",
      " 34.   34.25 34.5  34.75 35.   35.25 35.5  35.75 36.   36.25 36.5  36.75\n",
      " 37.   37.25 37.5  37.75 38.   38.25 38.5  38.75 39.   39.25 39.5  39.75\n",
      " 40.   40.25 40.5  40.75 41.   41.25 41.5  41.75 42.   42.25 42.5  42.75\n",
      " 43.   43.25 43.5  43.75 44.   44.25 44.5  44.75 45.  ]\n",
      "only using indices for lower-triangular matrix\n",
      "Connectivity computation...\n",
      "   Processing epoch 1 / 1 ...\n"
     ]
    },
    {
     "name": "stderr",
     "output_type": "stream",
     "text": [
      "/Users/jakubblaha/Documents/thesis/thesis-python/main.py:111: RuntimeWarning: There were no Annotations stored in <EpochsArray | 1 events (all good), 0 – 14.992 s (baseline off), ~225 kB, data loaded,\n",
      " '1': 1>, so metadata was not modified.\n",
      "  res = mne_connectivity.spectral_connectivity_time(\n"
     ]
    },
    {
     "name": "stdout",
     "output_type": "stream",
     "text": [
      "[Connectivity computation done]\n",
      "78\n",
      "[ 4.    4.25  4.5   4.75  5.    5.25  5.5   5.75  6.    6.25  6.5   6.75\n",
      "  7.    7.25  7.5   7.75  8.    8.25  8.5   8.75  9.    9.25  9.5   9.75\n",
      " 10.   10.25 10.5  10.75 11.   11.25 11.5  11.75 12.   12.25 12.5  12.75\n",
      " 13.   13.25 13.5  13.75 14.   14.25 14.5  14.75 15.   15.25 15.5  15.75\n",
      " 16.   16.25 16.5  16.75 17.   17.25 17.5  17.75 18.   18.25 18.5  18.75\n",
      " 19.   19.25 19.5  19.75 20.   20.25 20.5  20.75 21.   21.25 21.5  21.75\n",
      " 22.   22.25 22.5  22.75 23.   23.25 23.5  23.75 24.   24.25 24.5  24.75\n",
      " 25.   25.25 25.5  25.75 26.   26.25 26.5  26.75 27.   27.25 27.5  27.75\n",
      " 28.   28.25 28.5  28.75 29.   29.25 29.5  29.75 30.   30.25 30.5  30.75\n",
      " 31.   31.25 31.5  31.75 32.   32.25 32.5  32.75 33.   33.25 33.5  33.75\n",
      " 34.   34.25 34.5  34.75 35.   35.25 35.5  35.75 36.   36.25 36.5  36.75\n",
      " 37.   37.25 37.5  37.75 38.   38.25 38.5  38.75 39.   39.25 39.5  39.75\n",
      " 40.   40.25 40.5  40.75 41.   41.25 41.5  41.75 42.   42.25 42.5  42.75\n",
      " 43.   43.25 43.5  43.75 44.   44.25 44.5  44.75 45.  ]\n",
      "only using indices for lower-triangular matrix\n",
      "Connectivity computation...\n",
      "   Processing epoch 1 / 1 ...\n"
     ]
    },
    {
     "name": "stderr",
     "output_type": "stream",
     "text": [
      "/Users/jakubblaha/Documents/thesis/thesis-python/main.py:111: RuntimeWarning: There were no Annotations stored in <EpochsArray | 1 events (all good), 0 – 14.992 s (baseline off), ~225 kB, data loaded,\n",
      " '1': 1>, so metadata was not modified.\n",
      "  res = mne_connectivity.spectral_connectivity_time(\n"
     ]
    },
    {
     "name": "stdout",
     "output_type": "stream",
     "text": [
      "[Connectivity computation done]\n",
      "79\n",
      "[ 4.    4.25  4.5   4.75  5.    5.25  5.5   5.75  6.    6.25  6.5   6.75\n",
      "  7.    7.25  7.5   7.75  8.    8.25  8.5   8.75  9.    9.25  9.5   9.75\n",
      " 10.   10.25 10.5  10.75 11.   11.25 11.5  11.75 12.   12.25 12.5  12.75\n",
      " 13.   13.25 13.5  13.75 14.   14.25 14.5  14.75 15.   15.25 15.5  15.75\n",
      " 16.   16.25 16.5  16.75 17.   17.25 17.5  17.75 18.   18.25 18.5  18.75\n",
      " 19.   19.25 19.5  19.75 20.   20.25 20.5  20.75 21.   21.25 21.5  21.75\n",
      " 22.   22.25 22.5  22.75 23.   23.25 23.5  23.75 24.   24.25 24.5  24.75\n",
      " 25.   25.25 25.5  25.75 26.   26.25 26.5  26.75 27.   27.25 27.5  27.75\n",
      " 28.   28.25 28.5  28.75 29.   29.25 29.5  29.75 30.   30.25 30.5  30.75\n",
      " 31.   31.25 31.5  31.75 32.   32.25 32.5  32.75 33.   33.25 33.5  33.75\n",
      " 34.   34.25 34.5  34.75 35.   35.25 35.5  35.75 36.   36.25 36.5  36.75\n",
      " 37.   37.25 37.5  37.75 38.   38.25 38.5  38.75 39.   39.25 39.5  39.75\n",
      " 40.   40.25 40.5  40.75 41.   41.25 41.5  41.75 42.   42.25 42.5  42.75\n",
      " 43.   43.25 43.5  43.75 44.   44.25 44.5  44.75 45.  ]\n",
      "only using indices for lower-triangular matrix\n",
      "Connectivity computation...\n",
      "   Processing epoch 1 / 1 ...\n"
     ]
    },
    {
     "name": "stderr",
     "output_type": "stream",
     "text": [
      "/Users/jakubblaha/Documents/thesis/thesis-python/main.py:111: RuntimeWarning: There were no Annotations stored in <EpochsArray | 1 events (all good), 0 – 14.992 s (baseline off), ~225 kB, data loaded,\n",
      " '1': 1>, so metadata was not modified.\n",
      "  res = mne_connectivity.spectral_connectivity_time(\n"
     ]
    },
    {
     "name": "stdout",
     "output_type": "stream",
     "text": [
      "[Connectivity computation done]\n",
      "80\n",
      "[ 4.    4.25  4.5   4.75  5.    5.25  5.5   5.75  6.    6.25  6.5   6.75\n",
      "  7.    7.25  7.5   7.75  8.    8.25  8.5   8.75  9.    9.25  9.5   9.75\n",
      " 10.   10.25 10.5  10.75 11.   11.25 11.5  11.75 12.   12.25 12.5  12.75\n",
      " 13.   13.25 13.5  13.75 14.   14.25 14.5  14.75 15.   15.25 15.5  15.75\n",
      " 16.   16.25 16.5  16.75 17.   17.25 17.5  17.75 18.   18.25 18.5  18.75\n",
      " 19.   19.25 19.5  19.75 20.   20.25 20.5  20.75 21.   21.25 21.5  21.75\n",
      " 22.   22.25 22.5  22.75 23.   23.25 23.5  23.75 24.   24.25 24.5  24.75\n",
      " 25.   25.25 25.5  25.75 26.   26.25 26.5  26.75 27.   27.25 27.5  27.75\n",
      " 28.   28.25 28.5  28.75 29.   29.25 29.5  29.75 30.   30.25 30.5  30.75\n",
      " 31.   31.25 31.5  31.75 32.   32.25 32.5  32.75 33.   33.25 33.5  33.75\n",
      " 34.   34.25 34.5  34.75 35.   35.25 35.5  35.75 36.   36.25 36.5  36.75\n",
      " 37.   37.25 37.5  37.75 38.   38.25 38.5  38.75 39.   39.25 39.5  39.75\n",
      " 40.   40.25 40.5  40.75 41.   41.25 41.5  41.75 42.   42.25 42.5  42.75\n",
      " 43.   43.25 43.5  43.75 44.   44.25 44.5  44.75 45.  ]\n",
      "only using indices for lower-triangular matrix\n",
      "Connectivity computation...\n",
      "   Processing epoch 1 / 1 ...\n"
     ]
    },
    {
     "name": "stderr",
     "output_type": "stream",
     "text": [
      "/Users/jakubblaha/Documents/thesis/thesis-python/main.py:111: RuntimeWarning: There were no Annotations stored in <EpochsArray | 1 events (all good), 0 – 14.992 s (baseline off), ~225 kB, data loaded,\n",
      " '1': 1>, so metadata was not modified.\n",
      "  res = mne_connectivity.spectral_connectivity_time(\n"
     ]
    },
    {
     "name": "stdout",
     "output_type": "stream",
     "text": [
      "[Connectivity computation done]\n",
      "81\n",
      "[ 4.    4.25  4.5   4.75  5.    5.25  5.5   5.75  6.    6.25  6.5   6.75\n",
      "  7.    7.25  7.5   7.75  8.    8.25  8.5   8.75  9.    9.25  9.5   9.75\n",
      " 10.   10.25 10.5  10.75 11.   11.25 11.5  11.75 12.   12.25 12.5  12.75\n",
      " 13.   13.25 13.5  13.75 14.   14.25 14.5  14.75 15.   15.25 15.5  15.75\n",
      " 16.   16.25 16.5  16.75 17.   17.25 17.5  17.75 18.   18.25 18.5  18.75\n",
      " 19.   19.25 19.5  19.75 20.   20.25 20.5  20.75 21.   21.25 21.5  21.75\n",
      " 22.   22.25 22.5  22.75 23.   23.25 23.5  23.75 24.   24.25 24.5  24.75\n",
      " 25.   25.25 25.5  25.75 26.   26.25 26.5  26.75 27.   27.25 27.5  27.75\n",
      " 28.   28.25 28.5  28.75 29.   29.25 29.5  29.75 30.   30.25 30.5  30.75\n",
      " 31.   31.25 31.5  31.75 32.   32.25 32.5  32.75 33.   33.25 33.5  33.75\n",
      " 34.   34.25 34.5  34.75 35.   35.25 35.5  35.75 36.   36.25 36.5  36.75\n",
      " 37.   37.25 37.5  37.75 38.   38.25 38.5  38.75 39.   39.25 39.5  39.75\n",
      " 40.   40.25 40.5  40.75 41.   41.25 41.5  41.75 42.   42.25 42.5  42.75\n",
      " 43.   43.25 43.5  43.75 44.   44.25 44.5  44.75 45.  ]\n",
      "only using indices for lower-triangular matrix\n",
      "Connectivity computation...\n",
      "   Processing epoch 1 / 1 ...\n"
     ]
    },
    {
     "name": "stderr",
     "output_type": "stream",
     "text": [
      "/Users/jakubblaha/Documents/thesis/thesis-python/main.py:111: RuntimeWarning: There were no Annotations stored in <EpochsArray | 1 events (all good), 0 – 14.992 s (baseline off), ~225 kB, data loaded,\n",
      " '1': 1>, so metadata was not modified.\n",
      "  res = mne_connectivity.spectral_connectivity_time(\n"
     ]
    },
    {
     "name": "stdout",
     "output_type": "stream",
     "text": [
      "[Connectivity computation done]\n",
      "82\n",
      "[ 4.    4.25  4.5   4.75  5.    5.25  5.5   5.75  6.    6.25  6.5   6.75\n",
      "  7.    7.25  7.5   7.75  8.    8.25  8.5   8.75  9.    9.25  9.5   9.75\n",
      " 10.   10.25 10.5  10.75 11.   11.25 11.5  11.75 12.   12.25 12.5  12.75\n",
      " 13.   13.25 13.5  13.75 14.   14.25 14.5  14.75 15.   15.25 15.5  15.75\n",
      " 16.   16.25 16.5  16.75 17.   17.25 17.5  17.75 18.   18.25 18.5  18.75\n",
      " 19.   19.25 19.5  19.75 20.   20.25 20.5  20.75 21.   21.25 21.5  21.75\n",
      " 22.   22.25 22.5  22.75 23.   23.25 23.5  23.75 24.   24.25 24.5  24.75\n",
      " 25.   25.25 25.5  25.75 26.   26.25 26.5  26.75 27.   27.25 27.5  27.75\n",
      " 28.   28.25 28.5  28.75 29.   29.25 29.5  29.75 30.   30.25 30.5  30.75\n",
      " 31.   31.25 31.5  31.75 32.   32.25 32.5  32.75 33.   33.25 33.5  33.75\n",
      " 34.   34.25 34.5  34.75 35.   35.25 35.5  35.75 36.   36.25 36.5  36.75\n",
      " 37.   37.25 37.5  37.75 38.   38.25 38.5  38.75 39.   39.25 39.5  39.75\n",
      " 40.   40.25 40.5  40.75 41.   41.25 41.5  41.75 42.   42.25 42.5  42.75\n",
      " 43.   43.25 43.5  43.75 44.   44.25 44.5  44.75 45.  ]\n",
      "only using indices for lower-triangular matrix\n",
      "Connectivity computation...\n",
      "   Processing epoch 1 / 1 ...\n"
     ]
    },
    {
     "name": "stderr",
     "output_type": "stream",
     "text": [
      "/Users/jakubblaha/Documents/thesis/thesis-python/main.py:111: RuntimeWarning: There were no Annotations stored in <EpochsArray | 1 events (all good), 0 – 14.992 s (baseline off), ~225 kB, data loaded,\n",
      " '1': 1>, so metadata was not modified.\n",
      "  res = mne_connectivity.spectral_connectivity_time(\n"
     ]
    },
    {
     "name": "stdout",
     "output_type": "stream",
     "text": [
      "[Connectivity computation done]\n",
      "83\n",
      "[ 4.    4.25  4.5   4.75  5.    5.25  5.5   5.75  6.    6.25  6.5   6.75\n",
      "  7.    7.25  7.5   7.75  8.    8.25  8.5   8.75  9.    9.25  9.5   9.75\n",
      " 10.   10.25 10.5  10.75 11.   11.25 11.5  11.75 12.   12.25 12.5  12.75\n",
      " 13.   13.25 13.5  13.75 14.   14.25 14.5  14.75 15.   15.25 15.5  15.75\n",
      " 16.   16.25 16.5  16.75 17.   17.25 17.5  17.75 18.   18.25 18.5  18.75\n",
      " 19.   19.25 19.5  19.75 20.   20.25 20.5  20.75 21.   21.25 21.5  21.75\n",
      " 22.   22.25 22.5  22.75 23.   23.25 23.5  23.75 24.   24.25 24.5  24.75\n",
      " 25.   25.25 25.5  25.75 26.   26.25 26.5  26.75 27.   27.25 27.5  27.75\n",
      " 28.   28.25 28.5  28.75 29.   29.25 29.5  29.75 30.   30.25 30.5  30.75\n",
      " 31.   31.25 31.5  31.75 32.   32.25 32.5  32.75 33.   33.25 33.5  33.75\n",
      " 34.   34.25 34.5  34.75 35.   35.25 35.5  35.75 36.   36.25 36.5  36.75\n",
      " 37.   37.25 37.5  37.75 38.   38.25 38.5  38.75 39.   39.25 39.5  39.75\n",
      " 40.   40.25 40.5  40.75 41.   41.25 41.5  41.75 42.   42.25 42.5  42.75\n",
      " 43.   43.25 43.5  43.75 44.   44.25 44.5  44.75 45.  ]\n",
      "only using indices for lower-triangular matrix\n",
      "Connectivity computation...\n",
      "   Processing epoch 1 / 1 ...\n"
     ]
    },
    {
     "name": "stderr",
     "output_type": "stream",
     "text": [
      "/Users/jakubblaha/Documents/thesis/thesis-python/main.py:111: RuntimeWarning: There were no Annotations stored in <EpochsArray | 1 events (all good), 0 – 14.992 s (baseline off), ~225 kB, data loaded,\n",
      " '1': 1>, so metadata was not modified.\n",
      "  res = mne_connectivity.spectral_connectivity_time(\n"
     ]
    },
    {
     "name": "stdout",
     "output_type": "stream",
     "text": [
      "[Connectivity computation done]\n",
      "84\n",
      "[ 4.    4.25  4.5   4.75  5.    5.25  5.5   5.75  6.    6.25  6.5   6.75\n",
      "  7.    7.25  7.5   7.75  8.    8.25  8.5   8.75  9.    9.25  9.5   9.75\n",
      " 10.   10.25 10.5  10.75 11.   11.25 11.5  11.75 12.   12.25 12.5  12.75\n",
      " 13.   13.25 13.5  13.75 14.   14.25 14.5  14.75 15.   15.25 15.5  15.75\n",
      " 16.   16.25 16.5  16.75 17.   17.25 17.5  17.75 18.   18.25 18.5  18.75\n",
      " 19.   19.25 19.5  19.75 20.   20.25 20.5  20.75 21.   21.25 21.5  21.75\n",
      " 22.   22.25 22.5  22.75 23.   23.25 23.5  23.75 24.   24.25 24.5  24.75\n",
      " 25.   25.25 25.5  25.75 26.   26.25 26.5  26.75 27.   27.25 27.5  27.75\n",
      " 28.   28.25 28.5  28.75 29.   29.25 29.5  29.75 30.   30.25 30.5  30.75\n",
      " 31.   31.25 31.5  31.75 32.   32.25 32.5  32.75 33.   33.25 33.5  33.75\n",
      " 34.   34.25 34.5  34.75 35.   35.25 35.5  35.75 36.   36.25 36.5  36.75\n",
      " 37.   37.25 37.5  37.75 38.   38.25 38.5  38.75 39.   39.25 39.5  39.75\n",
      " 40.   40.25 40.5  40.75 41.   41.25 41.5  41.75 42.   42.25 42.5  42.75\n",
      " 43.   43.25 43.5  43.75 44.   44.25 44.5  44.75 45.  ]\n",
      "only using indices for lower-triangular matrix\n",
      "Connectivity computation...\n",
      "   Processing epoch 1 / 1 ...\n"
     ]
    },
    {
     "name": "stderr",
     "output_type": "stream",
     "text": [
      "/Users/jakubblaha/Documents/thesis/thesis-python/main.py:111: RuntimeWarning: There were no Annotations stored in <EpochsArray | 1 events (all good), 0 – 14.992 s (baseline off), ~225 kB, data loaded,\n",
      " '1': 1>, so metadata was not modified.\n",
      "  res = mne_connectivity.spectral_connectivity_time(\n"
     ]
    },
    {
     "name": "stdout",
     "output_type": "stream",
     "text": [
      "[Connectivity computation done]\n",
      "85\n",
      "[ 4.    4.25  4.5   4.75  5.    5.25  5.5   5.75  6.    6.25  6.5   6.75\n",
      "  7.    7.25  7.5   7.75  8.    8.25  8.5   8.75  9.    9.25  9.5   9.75\n",
      " 10.   10.25 10.5  10.75 11.   11.25 11.5  11.75 12.   12.25 12.5  12.75\n",
      " 13.   13.25 13.5  13.75 14.   14.25 14.5  14.75 15.   15.25 15.5  15.75\n",
      " 16.   16.25 16.5  16.75 17.   17.25 17.5  17.75 18.   18.25 18.5  18.75\n",
      " 19.   19.25 19.5  19.75 20.   20.25 20.5  20.75 21.   21.25 21.5  21.75\n",
      " 22.   22.25 22.5  22.75 23.   23.25 23.5  23.75 24.   24.25 24.5  24.75\n",
      " 25.   25.25 25.5  25.75 26.   26.25 26.5  26.75 27.   27.25 27.5  27.75\n",
      " 28.   28.25 28.5  28.75 29.   29.25 29.5  29.75 30.   30.25 30.5  30.75\n",
      " 31.   31.25 31.5  31.75 32.   32.25 32.5  32.75 33.   33.25 33.5  33.75\n",
      " 34.   34.25 34.5  34.75 35.   35.25 35.5  35.75 36.   36.25 36.5  36.75\n",
      " 37.   37.25 37.5  37.75 38.   38.25 38.5  38.75 39.   39.25 39.5  39.75\n",
      " 40.   40.25 40.5  40.75 41.   41.25 41.5  41.75 42.   42.25 42.5  42.75\n",
      " 43.   43.25 43.5  43.75 44.   44.25 44.5  44.75 45.  ]\n",
      "only using indices for lower-triangular matrix\n",
      "Connectivity computation...\n",
      "   Processing epoch 1 / 1 ...\n"
     ]
    },
    {
     "name": "stderr",
     "output_type": "stream",
     "text": [
      "/Users/jakubblaha/Documents/thesis/thesis-python/main.py:111: RuntimeWarning: There were no Annotations stored in <EpochsArray | 1 events (all good), 0 – 14.992 s (baseline off), ~225 kB, data loaded,\n",
      " '1': 1>, so metadata was not modified.\n",
      "  res = mne_connectivity.spectral_connectivity_time(\n"
     ]
    },
    {
     "name": "stdout",
     "output_type": "stream",
     "text": [
      "[Connectivity computation done]\n",
      "86\n",
      "[ 4.    4.25  4.5   4.75  5.    5.25  5.5   5.75  6.    6.25  6.5   6.75\n",
      "  7.    7.25  7.5   7.75  8.    8.25  8.5   8.75  9.    9.25  9.5   9.75\n",
      " 10.   10.25 10.5  10.75 11.   11.25 11.5  11.75 12.   12.25 12.5  12.75\n",
      " 13.   13.25 13.5  13.75 14.   14.25 14.5  14.75 15.   15.25 15.5  15.75\n",
      " 16.   16.25 16.5  16.75 17.   17.25 17.5  17.75 18.   18.25 18.5  18.75\n",
      " 19.   19.25 19.5  19.75 20.   20.25 20.5  20.75 21.   21.25 21.5  21.75\n",
      " 22.   22.25 22.5  22.75 23.   23.25 23.5  23.75 24.   24.25 24.5  24.75\n",
      " 25.   25.25 25.5  25.75 26.   26.25 26.5  26.75 27.   27.25 27.5  27.75\n",
      " 28.   28.25 28.5  28.75 29.   29.25 29.5  29.75 30.   30.25 30.5  30.75\n",
      " 31.   31.25 31.5  31.75 32.   32.25 32.5  32.75 33.   33.25 33.5  33.75\n",
      " 34.   34.25 34.5  34.75 35.   35.25 35.5  35.75 36.   36.25 36.5  36.75\n",
      " 37.   37.25 37.5  37.75 38.   38.25 38.5  38.75 39.   39.25 39.5  39.75\n",
      " 40.   40.25 40.5  40.75 41.   41.25 41.5  41.75 42.   42.25 42.5  42.75\n",
      " 43.   43.25 43.5  43.75 44.   44.25 44.5  44.75 45.  ]\n",
      "only using indices for lower-triangular matrix\n",
      "Connectivity computation...\n",
      "   Processing epoch 1 / 1 ...\n"
     ]
    },
    {
     "name": "stderr",
     "output_type": "stream",
     "text": [
      "/Users/jakubblaha/Documents/thesis/thesis-python/main.py:111: RuntimeWarning: There were no Annotations stored in <EpochsArray | 1 events (all good), 0 – 14.992 s (baseline off), ~225 kB, data loaded,\n",
      " '1': 1>, so metadata was not modified.\n",
      "  res = mne_connectivity.spectral_connectivity_time(\n"
     ]
    },
    {
     "name": "stdout",
     "output_type": "stream",
     "text": [
      "[Connectivity computation done]\n",
      "87\n",
      "[ 4.    4.25  4.5   4.75  5.    5.25  5.5   5.75  6.    6.25  6.5   6.75\n",
      "  7.    7.25  7.5   7.75  8.    8.25  8.5   8.75  9.    9.25  9.5   9.75\n",
      " 10.   10.25 10.5  10.75 11.   11.25 11.5  11.75 12.   12.25 12.5  12.75\n",
      " 13.   13.25 13.5  13.75 14.   14.25 14.5  14.75 15.   15.25 15.5  15.75\n",
      " 16.   16.25 16.5  16.75 17.   17.25 17.5  17.75 18.   18.25 18.5  18.75\n",
      " 19.   19.25 19.5  19.75 20.   20.25 20.5  20.75 21.   21.25 21.5  21.75\n",
      " 22.   22.25 22.5  22.75 23.   23.25 23.5  23.75 24.   24.25 24.5  24.75\n",
      " 25.   25.25 25.5  25.75 26.   26.25 26.5  26.75 27.   27.25 27.5  27.75\n",
      " 28.   28.25 28.5  28.75 29.   29.25 29.5  29.75 30.   30.25 30.5  30.75\n",
      " 31.   31.25 31.5  31.75 32.   32.25 32.5  32.75 33.   33.25 33.5  33.75\n",
      " 34.   34.25 34.5  34.75 35.   35.25 35.5  35.75 36.   36.25 36.5  36.75\n",
      " 37.   37.25 37.5  37.75 38.   38.25 38.5  38.75 39.   39.25 39.5  39.75\n",
      " 40.   40.25 40.5  40.75 41.   41.25 41.5  41.75 42.   42.25 42.5  42.75\n",
      " 43.   43.25 43.5  43.75 44.   44.25 44.5  44.75 45.  ]\n",
      "only using indices for lower-triangular matrix\n",
      "Connectivity computation...\n",
      "   Processing epoch 1 / 1 ...\n"
     ]
    },
    {
     "name": "stderr",
     "output_type": "stream",
     "text": [
      "/Users/jakubblaha/Documents/thesis/thesis-python/main.py:111: RuntimeWarning: There were no Annotations stored in <EpochsArray | 1 events (all good), 0 – 14.992 s (baseline off), ~225 kB, data loaded,\n",
      " '1': 1>, so metadata was not modified.\n",
      "  res = mne_connectivity.spectral_connectivity_time(\n"
     ]
    },
    {
     "name": "stdout",
     "output_type": "stream",
     "text": [
      "[Connectivity computation done]\n",
      "88\n",
      "[ 4.    4.25  4.5   4.75  5.    5.25  5.5   5.75  6.    6.25  6.5   6.75\n",
      "  7.    7.25  7.5   7.75  8.    8.25  8.5   8.75  9.    9.25  9.5   9.75\n",
      " 10.   10.25 10.5  10.75 11.   11.25 11.5  11.75 12.   12.25 12.5  12.75\n",
      " 13.   13.25 13.5  13.75 14.   14.25 14.5  14.75 15.   15.25 15.5  15.75\n",
      " 16.   16.25 16.5  16.75 17.   17.25 17.5  17.75 18.   18.25 18.5  18.75\n",
      " 19.   19.25 19.5  19.75 20.   20.25 20.5  20.75 21.   21.25 21.5  21.75\n",
      " 22.   22.25 22.5  22.75 23.   23.25 23.5  23.75 24.   24.25 24.5  24.75\n",
      " 25.   25.25 25.5  25.75 26.   26.25 26.5  26.75 27.   27.25 27.5  27.75\n",
      " 28.   28.25 28.5  28.75 29.   29.25 29.5  29.75 30.   30.25 30.5  30.75\n",
      " 31.   31.25 31.5  31.75 32.   32.25 32.5  32.75 33.   33.25 33.5  33.75\n",
      " 34.   34.25 34.5  34.75 35.   35.25 35.5  35.75 36.   36.25 36.5  36.75\n",
      " 37.   37.25 37.5  37.75 38.   38.25 38.5  38.75 39.   39.25 39.5  39.75\n",
      " 40.   40.25 40.5  40.75 41.   41.25 41.5  41.75 42.   42.25 42.5  42.75\n",
      " 43.   43.25 43.5  43.75 44.   44.25 44.5  44.75 45.  ]\n",
      "only using indices for lower-triangular matrix\n",
      "Connectivity computation...\n",
      "   Processing epoch 1 / 1 ...\n"
     ]
    },
    {
     "name": "stderr",
     "output_type": "stream",
     "text": [
      "/Users/jakubblaha/Documents/thesis/thesis-python/main.py:111: RuntimeWarning: There were no Annotations stored in <EpochsArray | 1 events (all good), 0 – 14.992 s (baseline off), ~225 kB, data loaded,\n",
      " '1': 1>, so metadata was not modified.\n",
      "  res = mne_connectivity.spectral_connectivity_time(\n"
     ]
    },
    {
     "name": "stdout",
     "output_type": "stream",
     "text": [
      "[Connectivity computation done]\n",
      "89\n",
      "[ 4.    4.25  4.5   4.75  5.    5.25  5.5   5.75  6.    6.25  6.5   6.75\n",
      "  7.    7.25  7.5   7.75  8.    8.25  8.5   8.75  9.    9.25  9.5   9.75\n",
      " 10.   10.25 10.5  10.75 11.   11.25 11.5  11.75 12.   12.25 12.5  12.75\n",
      " 13.   13.25 13.5  13.75 14.   14.25 14.5  14.75 15.   15.25 15.5  15.75\n",
      " 16.   16.25 16.5  16.75 17.   17.25 17.5  17.75 18.   18.25 18.5  18.75\n",
      " 19.   19.25 19.5  19.75 20.   20.25 20.5  20.75 21.   21.25 21.5  21.75\n",
      " 22.   22.25 22.5  22.75 23.   23.25 23.5  23.75 24.   24.25 24.5  24.75\n",
      " 25.   25.25 25.5  25.75 26.   26.25 26.5  26.75 27.   27.25 27.5  27.75\n",
      " 28.   28.25 28.5  28.75 29.   29.25 29.5  29.75 30.   30.25 30.5  30.75\n",
      " 31.   31.25 31.5  31.75 32.   32.25 32.5  32.75 33.   33.25 33.5  33.75\n",
      " 34.   34.25 34.5  34.75 35.   35.25 35.5  35.75 36.   36.25 36.5  36.75\n",
      " 37.   37.25 37.5  37.75 38.   38.25 38.5  38.75 39.   39.25 39.5  39.75\n",
      " 40.   40.25 40.5  40.75 41.   41.25 41.5  41.75 42.   42.25 42.5  42.75\n",
      " 43.   43.25 43.5  43.75 44.   44.25 44.5  44.75 45.  ]\n",
      "only using indices for lower-triangular matrix\n",
      "Connectivity computation...\n",
      "   Processing epoch 1 / 1 ...\n"
     ]
    },
    {
     "name": "stderr",
     "output_type": "stream",
     "text": [
      "/Users/jakubblaha/Documents/thesis/thesis-python/main.py:111: RuntimeWarning: There were no Annotations stored in <EpochsArray | 1 events (all good), 0 – 14.992 s (baseline off), ~225 kB, data loaded,\n",
      " '1': 1>, so metadata was not modified.\n",
      "  res = mne_connectivity.spectral_connectivity_time(\n"
     ]
    },
    {
     "name": "stdout",
     "output_type": "stream",
     "text": [
      "[Connectivity computation done]\n",
      "90\n",
      "[ 4.    4.25  4.5   4.75  5.    5.25  5.5   5.75  6.    6.25  6.5   6.75\n",
      "  7.    7.25  7.5   7.75  8.    8.25  8.5   8.75  9.    9.25  9.5   9.75\n",
      " 10.   10.25 10.5  10.75 11.   11.25 11.5  11.75 12.   12.25 12.5  12.75\n",
      " 13.   13.25 13.5  13.75 14.   14.25 14.5  14.75 15.   15.25 15.5  15.75\n",
      " 16.   16.25 16.5  16.75 17.   17.25 17.5  17.75 18.   18.25 18.5  18.75\n",
      " 19.   19.25 19.5  19.75 20.   20.25 20.5  20.75 21.   21.25 21.5  21.75\n",
      " 22.   22.25 22.5  22.75 23.   23.25 23.5  23.75 24.   24.25 24.5  24.75\n",
      " 25.   25.25 25.5  25.75 26.   26.25 26.5  26.75 27.   27.25 27.5  27.75\n",
      " 28.   28.25 28.5  28.75 29.   29.25 29.5  29.75 30.   30.25 30.5  30.75\n",
      " 31.   31.25 31.5  31.75 32.   32.25 32.5  32.75 33.   33.25 33.5  33.75\n",
      " 34.   34.25 34.5  34.75 35.   35.25 35.5  35.75 36.   36.25 36.5  36.75\n",
      " 37.   37.25 37.5  37.75 38.   38.25 38.5  38.75 39.   39.25 39.5  39.75\n",
      " 40.   40.25 40.5  40.75 41.   41.25 41.5  41.75 42.   42.25 42.5  42.75\n",
      " 43.   43.25 43.5  43.75 44.   44.25 44.5  44.75 45.  ]\n",
      "only using indices for lower-triangular matrix\n",
      "Connectivity computation...\n",
      "   Processing epoch 1 / 1 ...\n"
     ]
    },
    {
     "name": "stderr",
     "output_type": "stream",
     "text": [
      "/Users/jakubblaha/Documents/thesis/thesis-python/main.py:111: RuntimeWarning: There were no Annotations stored in <EpochsArray | 1 events (all good), 0 – 14.992 s (baseline off), ~225 kB, data loaded,\n",
      " '1': 1>, so metadata was not modified.\n",
      "  res = mne_connectivity.spectral_connectivity_time(\n"
     ]
    },
    {
     "name": "stdout",
     "output_type": "stream",
     "text": [
      "[Connectivity computation done]\n",
      "91\n",
      "[ 4.    4.25  4.5   4.75  5.    5.25  5.5   5.75  6.    6.25  6.5   6.75\n",
      "  7.    7.25  7.5   7.75  8.    8.25  8.5   8.75  9.    9.25  9.5   9.75\n",
      " 10.   10.25 10.5  10.75 11.   11.25 11.5  11.75 12.   12.25 12.5  12.75\n",
      " 13.   13.25 13.5  13.75 14.   14.25 14.5  14.75 15.   15.25 15.5  15.75\n",
      " 16.   16.25 16.5  16.75 17.   17.25 17.5  17.75 18.   18.25 18.5  18.75\n",
      " 19.   19.25 19.5  19.75 20.   20.25 20.5  20.75 21.   21.25 21.5  21.75\n",
      " 22.   22.25 22.5  22.75 23.   23.25 23.5  23.75 24.   24.25 24.5  24.75\n",
      " 25.   25.25 25.5  25.75 26.   26.25 26.5  26.75 27.   27.25 27.5  27.75\n",
      " 28.   28.25 28.5  28.75 29.   29.25 29.5  29.75 30.   30.25 30.5  30.75\n",
      " 31.   31.25 31.5  31.75 32.   32.25 32.5  32.75 33.   33.25 33.5  33.75\n",
      " 34.   34.25 34.5  34.75 35.   35.25 35.5  35.75 36.   36.25 36.5  36.75\n",
      " 37.   37.25 37.5  37.75 38.   38.25 38.5  38.75 39.   39.25 39.5  39.75\n",
      " 40.   40.25 40.5  40.75 41.   41.25 41.5  41.75 42.   42.25 42.5  42.75\n",
      " 43.   43.25 43.5  43.75 44.   44.25 44.5  44.75 45.  ]\n",
      "only using indices for lower-triangular matrix\n",
      "Connectivity computation...\n",
      "   Processing epoch 1 / 1 ...\n"
     ]
    },
    {
     "name": "stderr",
     "output_type": "stream",
     "text": [
      "/Users/jakubblaha/Documents/thesis/thesis-python/main.py:111: RuntimeWarning: There were no Annotations stored in <EpochsArray | 1 events (all good), 0 – 14.992 s (baseline off), ~225 kB, data loaded,\n",
      " '1': 1>, so metadata was not modified.\n",
      "  res = mne_connectivity.spectral_connectivity_time(\n"
     ]
    },
    {
     "name": "stdout",
     "output_type": "stream",
     "text": [
      "[Connectivity computation done]\n",
      "92\n",
      "[ 4.    4.25  4.5   4.75  5.    5.25  5.5   5.75  6.    6.25  6.5   6.75\n",
      "  7.    7.25  7.5   7.75  8.    8.25  8.5   8.75  9.    9.25  9.5   9.75\n",
      " 10.   10.25 10.5  10.75 11.   11.25 11.5  11.75 12.   12.25 12.5  12.75\n",
      " 13.   13.25 13.5  13.75 14.   14.25 14.5  14.75 15.   15.25 15.5  15.75\n",
      " 16.   16.25 16.5  16.75 17.   17.25 17.5  17.75 18.   18.25 18.5  18.75\n",
      " 19.   19.25 19.5  19.75 20.   20.25 20.5  20.75 21.   21.25 21.5  21.75\n",
      " 22.   22.25 22.5  22.75 23.   23.25 23.5  23.75 24.   24.25 24.5  24.75\n",
      " 25.   25.25 25.5  25.75 26.   26.25 26.5  26.75 27.   27.25 27.5  27.75\n",
      " 28.   28.25 28.5  28.75 29.   29.25 29.5  29.75 30.   30.25 30.5  30.75\n",
      " 31.   31.25 31.5  31.75 32.   32.25 32.5  32.75 33.   33.25 33.5  33.75\n",
      " 34.   34.25 34.5  34.75 35.   35.25 35.5  35.75 36.   36.25 36.5  36.75\n",
      " 37.   37.25 37.5  37.75 38.   38.25 38.5  38.75 39.   39.25 39.5  39.75\n",
      " 40.   40.25 40.5  40.75 41.   41.25 41.5  41.75 42.   42.25 42.5  42.75\n",
      " 43.   43.25 43.5  43.75 44.   44.25 44.5  44.75 45.  ]\n",
      "only using indices for lower-triangular matrix\n",
      "Connectivity computation...\n",
      "   Processing epoch 1 / 1 ...\n"
     ]
    },
    {
     "name": "stderr",
     "output_type": "stream",
     "text": [
      "/Users/jakubblaha/Documents/thesis/thesis-python/main.py:111: RuntimeWarning: There were no Annotations stored in <EpochsArray | 1 events (all good), 0 – 14.992 s (baseline off), ~225 kB, data loaded,\n",
      " '1': 1>, so metadata was not modified.\n",
      "  res = mne_connectivity.spectral_connectivity_time(\n"
     ]
    },
    {
     "name": "stdout",
     "output_type": "stream",
     "text": [
      "[Connectivity computation done]\n",
      "93\n",
      "[ 4.    4.25  4.5   4.75  5.    5.25  5.5   5.75  6.    6.25  6.5   6.75\n",
      "  7.    7.25  7.5   7.75  8.    8.25  8.5   8.75  9.    9.25  9.5   9.75\n",
      " 10.   10.25 10.5  10.75 11.   11.25 11.5  11.75 12.   12.25 12.5  12.75\n",
      " 13.   13.25 13.5  13.75 14.   14.25 14.5  14.75 15.   15.25 15.5  15.75\n",
      " 16.   16.25 16.5  16.75 17.   17.25 17.5  17.75 18.   18.25 18.5  18.75\n",
      " 19.   19.25 19.5  19.75 20.   20.25 20.5  20.75 21.   21.25 21.5  21.75\n",
      " 22.   22.25 22.5  22.75 23.   23.25 23.5  23.75 24.   24.25 24.5  24.75\n",
      " 25.   25.25 25.5  25.75 26.   26.25 26.5  26.75 27.   27.25 27.5  27.75\n",
      " 28.   28.25 28.5  28.75 29.   29.25 29.5  29.75 30.   30.25 30.5  30.75\n",
      " 31.   31.25 31.5  31.75 32.   32.25 32.5  32.75 33.   33.25 33.5  33.75\n",
      " 34.   34.25 34.5  34.75 35.   35.25 35.5  35.75 36.   36.25 36.5  36.75\n",
      " 37.   37.25 37.5  37.75 38.   38.25 38.5  38.75 39.   39.25 39.5  39.75\n",
      " 40.   40.25 40.5  40.75 41.   41.25 41.5  41.75 42.   42.25 42.5  42.75\n",
      " 43.   43.25 43.5  43.75 44.   44.25 44.5  44.75 45.  ]\n",
      "only using indices for lower-triangular matrix\n",
      "Connectivity computation...\n",
      "   Processing epoch 1 / 1 ...\n"
     ]
    },
    {
     "name": "stderr",
     "output_type": "stream",
     "text": [
      "/Users/jakubblaha/Documents/thesis/thesis-python/main.py:111: RuntimeWarning: There were no Annotations stored in <EpochsArray | 1 events (all good), 0 – 14.992 s (baseline off), ~225 kB, data loaded,\n",
      " '1': 1>, so metadata was not modified.\n",
      "  res = mne_connectivity.spectral_connectivity_time(\n"
     ]
    },
    {
     "name": "stdout",
     "output_type": "stream",
     "text": [
      "[Connectivity computation done]\n",
      "94\n",
      "[ 4.    4.25  4.5   4.75  5.    5.25  5.5   5.75  6.    6.25  6.5   6.75\n",
      "  7.    7.25  7.5   7.75  8.    8.25  8.5   8.75  9.    9.25  9.5   9.75\n",
      " 10.   10.25 10.5  10.75 11.   11.25 11.5  11.75 12.   12.25 12.5  12.75\n",
      " 13.   13.25 13.5  13.75 14.   14.25 14.5  14.75 15.   15.25 15.5  15.75\n",
      " 16.   16.25 16.5  16.75 17.   17.25 17.5  17.75 18.   18.25 18.5  18.75\n",
      " 19.   19.25 19.5  19.75 20.   20.25 20.5  20.75 21.   21.25 21.5  21.75\n",
      " 22.   22.25 22.5  22.75 23.   23.25 23.5  23.75 24.   24.25 24.5  24.75\n",
      " 25.   25.25 25.5  25.75 26.   26.25 26.5  26.75 27.   27.25 27.5  27.75\n",
      " 28.   28.25 28.5  28.75 29.   29.25 29.5  29.75 30.   30.25 30.5  30.75\n",
      " 31.   31.25 31.5  31.75 32.   32.25 32.5  32.75 33.   33.25 33.5  33.75\n",
      " 34.   34.25 34.5  34.75 35.   35.25 35.5  35.75 36.   36.25 36.5  36.75\n",
      " 37.   37.25 37.5  37.75 38.   38.25 38.5  38.75 39.   39.25 39.5  39.75\n",
      " 40.   40.25 40.5  40.75 41.   41.25 41.5  41.75 42.   42.25 42.5  42.75\n",
      " 43.   43.25 43.5  43.75 44.   44.25 44.5  44.75 45.  ]\n",
      "only using indices for lower-triangular matrix\n",
      "Connectivity computation...\n",
      "   Processing epoch 1 / 1 ...\n"
     ]
    },
    {
     "name": "stderr",
     "output_type": "stream",
     "text": [
      "/Users/jakubblaha/Documents/thesis/thesis-python/main.py:111: RuntimeWarning: There were no Annotations stored in <EpochsArray | 1 events (all good), 0 – 14.992 s (baseline off), ~225 kB, data loaded,\n",
      " '1': 1>, so metadata was not modified.\n",
      "  res = mne_connectivity.spectral_connectivity_time(\n"
     ]
    },
    {
     "name": "stdout",
     "output_type": "stream",
     "text": [
      "[Connectivity computation done]\n",
      "95\n",
      "[ 4.    4.25  4.5   4.75  5.    5.25  5.5   5.75  6.    6.25  6.5   6.75\n",
      "  7.    7.25  7.5   7.75  8.    8.25  8.5   8.75  9.    9.25  9.5   9.75\n",
      " 10.   10.25 10.5  10.75 11.   11.25 11.5  11.75 12.   12.25 12.5  12.75\n",
      " 13.   13.25 13.5  13.75 14.   14.25 14.5  14.75 15.   15.25 15.5  15.75\n",
      " 16.   16.25 16.5  16.75 17.   17.25 17.5  17.75 18.   18.25 18.5  18.75\n",
      " 19.   19.25 19.5  19.75 20.   20.25 20.5  20.75 21.   21.25 21.5  21.75\n",
      " 22.   22.25 22.5  22.75 23.   23.25 23.5  23.75 24.   24.25 24.5  24.75\n",
      " 25.   25.25 25.5  25.75 26.   26.25 26.5  26.75 27.   27.25 27.5  27.75\n",
      " 28.   28.25 28.5  28.75 29.   29.25 29.5  29.75 30.   30.25 30.5  30.75\n",
      " 31.   31.25 31.5  31.75 32.   32.25 32.5  32.75 33.   33.25 33.5  33.75\n",
      " 34.   34.25 34.5  34.75 35.   35.25 35.5  35.75 36.   36.25 36.5  36.75\n",
      " 37.   37.25 37.5  37.75 38.   38.25 38.5  38.75 39.   39.25 39.5  39.75\n",
      " 40.   40.25 40.5  40.75 41.   41.25 41.5  41.75 42.   42.25 42.5  42.75\n",
      " 43.   43.25 43.5  43.75 44.   44.25 44.5  44.75 45.  ]\n",
      "only using indices for lower-triangular matrix\n",
      "Connectivity computation...\n",
      "   Processing epoch 1 / 1 ...\n"
     ]
    },
    {
     "name": "stderr",
     "output_type": "stream",
     "text": [
      "/Users/jakubblaha/Documents/thesis/thesis-python/main.py:111: RuntimeWarning: There were no Annotations stored in <EpochsArray | 1 events (all good), 0 – 14.992 s (baseline off), ~225 kB, data loaded,\n",
      " '1': 1>, so metadata was not modified.\n",
      "  res = mne_connectivity.spectral_connectivity_time(\n"
     ]
    },
    {
     "name": "stdout",
     "output_type": "stream",
     "text": [
      "[Connectivity computation done]\n",
      "96\n",
      "[ 4.    4.25  4.5   4.75  5.    5.25  5.5   5.75  6.    6.25  6.5   6.75\n",
      "  7.    7.25  7.5   7.75  8.    8.25  8.5   8.75  9.    9.25  9.5   9.75\n",
      " 10.   10.25 10.5  10.75 11.   11.25 11.5  11.75 12.   12.25 12.5  12.75\n",
      " 13.   13.25 13.5  13.75 14.   14.25 14.5  14.75 15.   15.25 15.5  15.75\n",
      " 16.   16.25 16.5  16.75 17.   17.25 17.5  17.75 18.   18.25 18.5  18.75\n",
      " 19.   19.25 19.5  19.75 20.   20.25 20.5  20.75 21.   21.25 21.5  21.75\n",
      " 22.   22.25 22.5  22.75 23.   23.25 23.5  23.75 24.   24.25 24.5  24.75\n",
      " 25.   25.25 25.5  25.75 26.   26.25 26.5  26.75 27.   27.25 27.5  27.75\n",
      " 28.   28.25 28.5  28.75 29.   29.25 29.5  29.75 30.   30.25 30.5  30.75\n",
      " 31.   31.25 31.5  31.75 32.   32.25 32.5  32.75 33.   33.25 33.5  33.75\n",
      " 34.   34.25 34.5  34.75 35.   35.25 35.5  35.75 36.   36.25 36.5  36.75\n",
      " 37.   37.25 37.5  37.75 38.   38.25 38.5  38.75 39.   39.25 39.5  39.75\n",
      " 40.   40.25 40.5  40.75 41.   41.25 41.5  41.75 42.   42.25 42.5  42.75\n",
      " 43.   43.25 43.5  43.75 44.   44.25 44.5  44.75 45.  ]\n",
      "only using indices for lower-triangular matrix\n",
      "Connectivity computation...\n",
      "   Processing epoch 1 / 1 ...\n"
     ]
    },
    {
     "name": "stderr",
     "output_type": "stream",
     "text": [
      "/Users/jakubblaha/Documents/thesis/thesis-python/main.py:111: RuntimeWarning: There were no Annotations stored in <EpochsArray | 1 events (all good), 0 – 14.992 s (baseline off), ~225 kB, data loaded,\n",
      " '1': 1>, so metadata was not modified.\n",
      "  res = mne_connectivity.spectral_connectivity_time(\n"
     ]
    },
    {
     "name": "stdout",
     "output_type": "stream",
     "text": [
      "[Connectivity computation done]\n",
      "97\n",
      "[ 4.    4.25  4.5   4.75  5.    5.25  5.5   5.75  6.    6.25  6.5   6.75\n",
      "  7.    7.25  7.5   7.75  8.    8.25  8.5   8.75  9.    9.25  9.5   9.75\n",
      " 10.   10.25 10.5  10.75 11.   11.25 11.5  11.75 12.   12.25 12.5  12.75\n",
      " 13.   13.25 13.5  13.75 14.   14.25 14.5  14.75 15.   15.25 15.5  15.75\n",
      " 16.   16.25 16.5  16.75 17.   17.25 17.5  17.75 18.   18.25 18.5  18.75\n",
      " 19.   19.25 19.5  19.75 20.   20.25 20.5  20.75 21.   21.25 21.5  21.75\n",
      " 22.   22.25 22.5  22.75 23.   23.25 23.5  23.75 24.   24.25 24.5  24.75\n",
      " 25.   25.25 25.5  25.75 26.   26.25 26.5  26.75 27.   27.25 27.5  27.75\n",
      " 28.   28.25 28.5  28.75 29.   29.25 29.5  29.75 30.   30.25 30.5  30.75\n",
      " 31.   31.25 31.5  31.75 32.   32.25 32.5  32.75 33.   33.25 33.5  33.75\n",
      " 34.   34.25 34.5  34.75 35.   35.25 35.5  35.75 36.   36.25 36.5  36.75\n",
      " 37.   37.25 37.5  37.75 38.   38.25 38.5  38.75 39.   39.25 39.5  39.75\n",
      " 40.   40.25 40.5  40.75 41.   41.25 41.5  41.75 42.   42.25 42.5  42.75\n",
      " 43.   43.25 43.5  43.75 44.   44.25 44.5  44.75 45.  ]\n",
      "only using indices for lower-triangular matrix\n",
      "Connectivity computation...\n",
      "   Processing epoch 1 / 1 ...\n"
     ]
    },
    {
     "name": "stderr",
     "output_type": "stream",
     "text": [
      "/Users/jakubblaha/Documents/thesis/thesis-python/main.py:111: RuntimeWarning: There were no Annotations stored in <EpochsArray | 1 events (all good), 0 – 14.992 s (baseline off), ~225 kB, data loaded,\n",
      " '1': 1>, so metadata was not modified.\n",
      "  res = mne_connectivity.spectral_connectivity_time(\n"
     ]
    },
    {
     "name": "stdout",
     "output_type": "stream",
     "text": [
      "[Connectivity computation done]\n",
      "98\n",
      "[ 4.    4.25  4.5   4.75  5.    5.25  5.5   5.75  6.    6.25  6.5   6.75\n",
      "  7.    7.25  7.5   7.75  8.    8.25  8.5   8.75  9.    9.25  9.5   9.75\n",
      " 10.   10.25 10.5  10.75 11.   11.25 11.5  11.75 12.   12.25 12.5  12.75\n",
      " 13.   13.25 13.5  13.75 14.   14.25 14.5  14.75 15.   15.25 15.5  15.75\n",
      " 16.   16.25 16.5  16.75 17.   17.25 17.5  17.75 18.   18.25 18.5  18.75\n",
      " 19.   19.25 19.5  19.75 20.   20.25 20.5  20.75 21.   21.25 21.5  21.75\n",
      " 22.   22.25 22.5  22.75 23.   23.25 23.5  23.75 24.   24.25 24.5  24.75\n",
      " 25.   25.25 25.5  25.75 26.   26.25 26.5  26.75 27.   27.25 27.5  27.75\n",
      " 28.   28.25 28.5  28.75 29.   29.25 29.5  29.75 30.   30.25 30.5  30.75\n",
      " 31.   31.25 31.5  31.75 32.   32.25 32.5  32.75 33.   33.25 33.5  33.75\n",
      " 34.   34.25 34.5  34.75 35.   35.25 35.5  35.75 36.   36.25 36.5  36.75\n",
      " 37.   37.25 37.5  37.75 38.   38.25 38.5  38.75 39.   39.25 39.5  39.75\n",
      " 40.   40.25 40.5  40.75 41.   41.25 41.5  41.75 42.   42.25 42.5  42.75\n",
      " 43.   43.25 43.5  43.75 44.   44.25 44.5  44.75 45.  ]\n",
      "only using indices for lower-triangular matrix\n",
      "Connectivity computation...\n",
      "   Processing epoch 1 / 1 ...\n"
     ]
    },
    {
     "name": "stderr",
     "output_type": "stream",
     "text": [
      "/Users/jakubblaha/Documents/thesis/thesis-python/main.py:111: RuntimeWarning: There were no Annotations stored in <EpochsArray | 1 events (all good), 0 – 14.992 s (baseline off), ~225 kB, data loaded,\n",
      " '1': 1>, so metadata was not modified.\n",
      "  res = mne_connectivity.spectral_connectivity_time(\n"
     ]
    },
    {
     "name": "stdout",
     "output_type": "stream",
     "text": [
      "[Connectivity computation done]\n",
      "99\n",
      "[ 4.    4.25  4.5   4.75  5.    5.25  5.5   5.75  6.    6.25  6.5   6.75\n",
      "  7.    7.25  7.5   7.75  8.    8.25  8.5   8.75  9.    9.25  9.5   9.75\n",
      " 10.   10.25 10.5  10.75 11.   11.25 11.5  11.75 12.   12.25 12.5  12.75\n",
      " 13.   13.25 13.5  13.75 14.   14.25 14.5  14.75 15.   15.25 15.5  15.75\n",
      " 16.   16.25 16.5  16.75 17.   17.25 17.5  17.75 18.   18.25 18.5  18.75\n",
      " 19.   19.25 19.5  19.75 20.   20.25 20.5  20.75 21.   21.25 21.5  21.75\n",
      " 22.   22.25 22.5  22.75 23.   23.25 23.5  23.75 24.   24.25 24.5  24.75\n",
      " 25.   25.25 25.5  25.75 26.   26.25 26.5  26.75 27.   27.25 27.5  27.75\n",
      " 28.   28.25 28.5  28.75 29.   29.25 29.5  29.75 30.   30.25 30.5  30.75\n",
      " 31.   31.25 31.5  31.75 32.   32.25 32.5  32.75 33.   33.25 33.5  33.75\n",
      " 34.   34.25 34.5  34.75 35.   35.25 35.5  35.75 36.   36.25 36.5  36.75\n",
      " 37.   37.25 37.5  37.75 38.   38.25 38.5  38.75 39.   39.25 39.5  39.75\n",
      " 40.   40.25 40.5  40.75 41.   41.25 41.5  41.75 42.   42.25 42.5  42.75\n",
      " 43.   43.25 43.5  43.75 44.   44.25 44.5  44.75 45.  ]\n",
      "only using indices for lower-triangular matrix\n",
      "Connectivity computation...\n",
      "   Processing epoch 1 / 1 ...\n"
     ]
    },
    {
     "name": "stderr",
     "output_type": "stream",
     "text": [
      "/Users/jakubblaha/Documents/thesis/thesis-python/main.py:111: RuntimeWarning: There were no Annotations stored in <EpochsArray | 1 events (all good), 0 – 14.992 s (baseline off), ~225 kB, data loaded,\n",
      " '1': 1>, so metadata was not modified.\n",
      "  res = mne_connectivity.spectral_connectivity_time(\n"
     ]
    },
    {
     "name": "stdout",
     "output_type": "stream",
     "text": [
      "[Connectivity computation done]\n"
     ]
    }
   ],
   "source": [
    "anx_conn = np.empty((n_normal_epochs, n_channels, n_channels, n_bands))\n",
    "\n",
    "for i in range(n_anxious_epochs):\n",
    "    print(i)\n",
    "    trial = Trial(TrialLabel.CONTROL, anxious_epochs[i])\n",
    "    anx_conn[i] = trial.compute_connectivity()\n",
    "\n",
    "anx_conn = np.moveaxis(anx_conn, 3, 0)"
   ]
  },
  {
   "cell_type": "code",
   "execution_count": 58,
   "id": "64792d04",
   "metadata": {},
   "outputs": [
    {
     "name": "stdout",
     "output_type": "stream",
     "text": [
      "Band 0\n",
      "Band 1\n",
      "Band 2\n",
      "Band 3\n",
      "Band 4\n",
      "Total significant: 65\n"
     ]
    },
    {
     "name": "stderr",
     "output_type": "stream",
     "text": [
      "/Users/jakubblaha/.local/share/virtualenvs/thesis-python-yCK4mToH/lib/python3.12/site-packages/scipy/stats/_axis_nan_policy.py:605: ConstantInputWarning: Each of the input arrays is constant; the F statistic is not defined or infinite\n",
      "  res = hypotest_fun_out(*samples, axis=axis, **kwds)\n",
      "/Users/jakubblaha/.local/share/virtualenvs/thesis-python-yCK4mToH/lib/python3.12/site-packages/scipy/stats/_axis_nan_policy.py:605: ConstantInputWarning: Each of the input arrays is constant; the F statistic is not defined or infinite\n",
      "  res = hypotest_fun_out(*samples, axis=axis, **kwds)\n",
      "/Users/jakubblaha/.local/share/virtualenvs/thesis-python-yCK4mToH/lib/python3.12/site-packages/scipy/stats/_axis_nan_policy.py:605: ConstantInputWarning: Each of the input arrays is constant; the F statistic is not defined or infinite\n",
      "  res = hypotest_fun_out(*samples, axis=axis, **kwds)\n",
      "/Users/jakubblaha/.local/share/virtualenvs/thesis-python-yCK4mToH/lib/python3.12/site-packages/scipy/stats/_axis_nan_policy.py:605: ConstantInputWarning: Each of the input arrays is constant; the F statistic is not defined or infinite\n",
      "  res = hypotest_fun_out(*samples, axis=axis, **kwds)\n",
      "/Users/jakubblaha/.local/share/virtualenvs/thesis-python-yCK4mToH/lib/python3.12/site-packages/scipy/stats/_axis_nan_policy.py:605: ConstantInputWarning: Each of the input arrays is constant; the F statistic is not defined or infinite\n",
      "  res = hypotest_fun_out(*samples, axis=axis, **kwds)\n"
     ]
    },
    {
     "data": {
      "image/png": "[encoded data removed]",
      "text/plain": [
       "<Figure size 2000x2000 with 21 Axes>"
      ]
     },
     "metadata": {},
     "output_type": "display_data"
    }
   ],
   "source": [
    "fig, axs = plt.subplots(n_bands, 4, figsize=(20, 20))\n",
    "\n",
    "total_sig = 0\n",
    "\n",
    "for i in range(n_bands):\n",
    "    print(f\"Band {i}\")\n",
    "    \n",
    "    avg_normal_conn = np.mean(normal_conn[i], axis=0)\n",
    "    avg_anx_conn = np.mean(anx_conn[i], axis=0)\n",
    "\n",
    "    diff_matrix = np.abs(avg_normal_conn - avg_anx_conn)\n",
    "\n",
    "    # Anova\n",
    "    res = stats.f_oneway(normal_conn[i], anx_conn[i], axis=0)\n",
    "    th_pval = res.pvalue < 0.05\n",
    "\n",
    "    # Plot band\n",
    "    axs[i][0].imshow(avg_normal_conn)\n",
    "    axs[i][1].imshow(avg_anx_conn)\n",
    "    im = axs[i][2].imshow(diff_matrix)\n",
    "\n",
    "    # Plot p-values\n",
    "    axs[i][3].imshow(th_pval)\n",
    "\n",
    "    axs[i][3].set_xticks(range(n_channels), CHANNEL_NAMES)\n",
    "    axs[i][3].set_yticks(range(n_channels), CHANNEL_NAMES)\n",
    "\n",
    "    total_sig += np.sum(res.pvalue < 0.05)\n",
    "\n",
    "fig.colorbar(im, ax=axs.ravel())\n",
    "\n",
    "print(f\"Total significant: {total_sig}\")\n",
    "\n",
    "plt.show()"
   ]
  },
  {
   "cell_type": "code",
   "execution_count": null,
   "id": "c47bc6c3",
   "metadata": {},
   "outputs": [],
   "source": []
  }
 ],
 "metadata": {
  "kernelspec": {
   "display_name": "Python 3 (ipykernel)",
   "language": "python",
   "name": "python3"
  },
  "language_info": {
   "codemirror_mode": {
    "name": "ipython",
    "version": 3
   },
   "file_extension": ".py",
   "mimetype": "text/x-python",
   "name": "python",
   "nbconvert_exporter": "python",
   "pygments_lexer": "ipython3",
   "version": "3.12.4"
  }
 },
 "nbformat": 4,
 "nbformat_minor": 5
}
