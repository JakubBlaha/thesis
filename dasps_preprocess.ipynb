{
 "cells": [
  {
   "cell_type": "code",
   "execution_count": null,
   "metadata": {},
   "outputs": [],
   "source": [
    "from dataclasses import dataclass\n",
    "from enum import Enum\n",
    "import csv\n",
    "import h5py\n",
    "import numpy as np\n",
    "import matplotlib.pyplot as plt\n",
    "import mne\n",
    "\n",
    "DASPS_FS = 128\n",
    "CHANNEL_NAMES = ['AF3', 'F7', 'F3', 'FC5', 'T7',\n",
    "                 'P7', 'O1', 'O2', 'P8', 'T8', 'FC6', 'F4', 'F8', 'AF4']"
   ]
  },
  {
   "cell_type": "code",
   "execution_count": 44,
   "metadata": {},
   "outputs": [
    {
     "name": "stdout",
     "output_type": "stream",
     "text": [
      "Not setting metadata\n",
      "12 matching events found\n",
      "No baseline correction applied\n",
      "0 projection items activated\n"
     ]
    },
    {
     "name": "stderr",
     "output_type": "stream",
     "text": [
      "/var/folders/wg/8xzwtj0n6fd93r4pqlr_bv1c0000gn/T/ipykernel_30899/2376265215.py:5: DeprecationWarning: __array__ implementation doesn't accept a copy keyword, so passing copy=False failed. __array__ must implement 'dtype' and 'copy' keyword arguments.\n",
      "  data = np.array(f['data'])\n"
     ]
    },
    {
     "data": {
      "text/plain": [
       "'nothing'"
      ]
     },
     "execution_count": 44,
     "metadata": {},
     "output_type": "execute_result"
    }
   ],
   "source": [
    "# filename = f'data/dasps_preprocessed/{self.id_}preprocessed.mat'\n",
    "filename = f'data/dasps_raw_mat/S01.mat'\n",
    "\n",
    "with h5py.File(filename, 'r') as f:\n",
    "    data = np.array(f['data'])\n",
    "\n",
    "first_epoch = data[0].T\n",
    "second_epoch = data[1].T\n",
    "\n",
    "first_and_second_epoch = np.concatenate(\n",
    "    (first_epoch, second_epoch), axis=1)\n",
    "\n",
    "# print(first_and_second_epoch.shape)\n",
    "\n",
    "# fig = plt.figure()\n",
    "\n",
    "# for index, electrode in enumerate(first_and_second_epoch):\n",
    "#     ax = fig.add_subplot(14, 1, index + 1)\n",
    "#     ax.plot(electrode, linewidth=0.5)\n",
    "\n",
    "# ax.plot(first_epoch)\n",
    "\n",
    "# plt.show()\n",
    "\n",
    "# print(data.shape)\n",
    "\n",
    "data = data.swapaxes(1, 2)\n",
    "\n",
    "channel_types = ['eeg'] * len(CHANNEL_NAMES)  # All channels are EEG\n",
    "info = mne.create_info(ch_names=CHANNEL_NAMES,\n",
    "                        ch_types=channel_types, sfreq=DASPS_FS)\n",
    "epochs = mne.EpochsArray(data, info)"
   ]
  },
  {
   "cell_type": "code",
   "execution_count": null,
   "metadata": {},
   "outputs": [],
   "source": []
  }
 ],
 "metadata": {
  "kernelspec": {
   "display_name": "thesis-python-yCK4mToH",
   "language": "python",
   "name": "python3"
  },
  "language_info": {
   "codemirror_mode": {
    "name": "ipython",
    "version": 3
   },
   "file_extension": ".py",
   "mimetype": "text/x-python",
   "name": "python",
   "nbconvert_exporter": "python",
   "pygments_lexer": "ipython3",
   "version": "3.12.4"
  }
 },
 "nbformat": 4,
 "nbformat_minor": 2
}
