{
 "cells": [
  {
   "cell_type": "code",
   "execution_count": 3,
   "metadata": {},
   "outputs": [
    {
     "data": {
      "text/plain": [
       "['../data/segmented/15s/clean/S016-epo.fif',\n",
       " '../data/segmented/15s/clean/S006-epo.fif',\n",
       " '../data/segmented/15s/clean/S410-epo.fif',\n",
       " '../data/segmented/15s/clean/S115-epo.fif',\n",
       " '../data/segmented/15s/clean/S105-epo.fif',\n",
       " '../data/segmented/15s/clean/S419-epo.fif',\n",
       " '../data/segmented/15s/clean/S409-epo.fif',\n",
       " '../data/segmented/15s/clean/S020-epo.fif',\n",
       " '../data/segmented/15s/clean/S104-epo.fif',\n",
       " '../data/segmented/15s/clean/S114-epo.fif',\n",
       " '../data/segmented/15s/clean/S408-epo.fif',\n",
       " '../data/segmented/15s/clean/S418-epo.fif',\n",
       " '../data/segmented/15s/clean/S021-epo.fif',\n",
       " '../data/segmented/15s/clean/S007-epo.fif',\n",
       " '../data/segmented/15s/clean/S017-epo.fif',\n",
       " '../data/segmented/15s/clean/S411-epo.fif',\n",
       " '../data/segmented/15s/clean/S401-epo.fif',\n",
       " '../data/segmented/15s/clean/S116-epo.fif',\n",
       " '../data/segmented/15s/clean/S106-epo.fif',\n",
       " '../data/segmented/15s/clean/S023-epo.fif',\n",
       " '../data/segmented/15s/clean/S015-epo.fif',\n",
       " '../data/segmented/15s/clean/S005-epo.fif',\n",
       " '../data/segmented/15s/clean/S403-epo.fif',\n",
       " '../data/segmented/15s/clean/S413-epo.fif',\n",
       " '../data/segmented/15s/clean/S120-epo.fif',\n",
       " '../data/segmented/15s/clean/S004-epo.fif',\n",
       " '../data/segmented/15s/clean/S014-epo.fif',\n",
       " '../data/segmented/15s/clean/S412-epo.fif',\n",
       " '../data/segmented/15s/clean/S402-epo.fif',\n",
       " '../data/segmented/15s/clean/S121-epo.fif',\n",
       " '../data/segmented/15s/clean/S107-epo.fif',\n",
       " '../data/segmented/15s/clean/S117-epo.fif',\n",
       " '../data/segmented/15s/clean/S022-epo.fif',\n",
       " '../data/segmented/15s/clean/S008-epo.fif',\n",
       " '../data/segmented/15s/clean/S018-epo.fif',\n",
       " '../data/segmented/15s/clean/S421-epo.fif',\n",
       " '../data/segmented/15s/clean/S112-epo.fif',\n",
       " '../data/segmented/15s/clean/S102-epo.fif',\n",
       " '../data/segmented/15s/clean/S407-epo.fif',\n",
       " '../data/segmented/15s/clean/S417-epo.fif',\n",
       " '../data/segmented/15s/clean/S011-epo.fif',\n",
       " '../data/segmented/15s/clean/S001-epo.fif',\n",
       " '../data/segmented/15s/clean/S416-epo.fif',\n",
       " '../data/segmented/15s/clean/S406-epo.fif',\n",
       " '../data/segmented/15s/clean/S010-epo.fif',\n",
       " '../data/segmented/15s/clean/S019-epo.fif',\n",
       " '../data/segmented/15s/clean/S009-epo.fif',\n",
       " '../data/segmented/15s/clean/S420-epo.fif',\n",
       " '../data/segmented/15s/clean/S103-epo.fif',\n",
       " '../data/segmented/15s/clean/S113-epo.fif',\n",
       " '../data/segmented/15s/clean/S404-epo.fif',\n",
       " '../data/segmented/15s/clean/S414-epo.fif',\n",
       " '../data/segmented/15s/clean/S012-epo.fif',\n",
       " '../data/segmented/15s/clean/S002-epo.fif',\n",
       " '../data/segmented/15s/clean/S108-epo.fif',\n",
       " '../data/segmented/15s/clean/S118-epo.fif',\n",
       " '../data/segmented/15s/clean/S111-epo.fif',\n",
       " '../data/segmented/15s/clean/S101-epo.fif',\n",
       " '../data/segmented/15s/clean/S110-epo.fif',\n",
       " '../data/segmented/15s/clean/S415-epo.fif',\n",
       " '../data/segmented/15s/clean/S405-epo.fif',\n",
       " '../data/segmented/15s/clean/S003-epo.fif',\n",
       " '../data/segmented/15s/clean/S013-epo.fif',\n",
       " '../data/segmented/15s/clean/S119-epo.fif',\n",
       " '../data/segmented/15s/clean/S109-epo.fif']"
      ]
     },
     "execution_count": 3,
     "metadata": {},
     "output_type": "execute_result"
    }
   ],
   "source": [
    "import glob\n",
    "\n",
    "# Get all SAD control epochs\n",
    "\n",
    "sad_paths = glob.glob(f'../data/segmented/{15}s/clean/*')\n",
    "\n",
    "sad_paths\n"
   ]
  }
 ],
 "metadata": {
  "kernelspec": {
   "display_name": "thesis-python-yCK4mToH",
   "language": "python",
   "name": "python3"
  },
  "language_info": {
   "codemirror_mode": {
    "name": "ipython",
    "version": 3
   },
   "file_extension": ".py",
   "mimetype": "text/x-python",
   "name": "python",
   "nbconvert_exporter": "python",
   "pygments_lexer": "ipython3",
   "version": "3.12.7"
  }
 },
 "nbformat": 4,
 "nbformat_minor": 2
}
