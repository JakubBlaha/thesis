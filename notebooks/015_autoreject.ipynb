{
 "cells": [
  {
   "cell_type": "code",
   "execution_count": 21,
   "metadata": {},
   "outputs": [
    {
     "name": "stdout",
     "output_type": "stream",
     "text": [
      "Skipping existing /Users/jakubblaha/Documents/thesis/thesis-python/data/fif/dasps_prep_5s_dur_S12-epo.fif\n",
      "Skipping existing /Users/jakubblaha/Documents/thesis/thesis-python/data/fif/dasps_prep_5s_dur_S02-epo.fif\n",
      "Skipping existing /Users/jakubblaha/Documents/thesis/thesis-python/data/fif/dasps_prep_5s_dur_S03-epo.fif\n",
      "Skipping existing /Users/jakubblaha/Documents/thesis/thesis-python/data/fif/dasps_prep_5s_dur_S13-epo.fif\n",
      "Skipping existing /Users/jakubblaha/Documents/thesis/thesis-python/data/fif/dasps_prep_5s_dur_S11-epo.fif\n",
      "Skipping existing /Users/jakubblaha/Documents/thesis/thesis-python/data/fif/dasps_prep_5s_dur_S01-epo.fif\n",
      "Skipping existing /Users/jakubblaha/Documents/thesis/thesis-python/data/fif/dasps_prep_5s_dur_S08-epo.fif\n",
      "Skipping existing /Users/jakubblaha/Documents/thesis/thesis-python/data/fif/dasps_prep_5s_dur_S18-epo.fif\n",
      "Skipping existing /Users/jakubblaha/Documents/thesis/thesis-python/data/fif/dasps_prep_5s_dur_S19-epo.fif\n",
      "Skipping existing /Users/jakubblaha/Documents/thesis/thesis-python/data/fif/dasps_prep_5s_dur_S09-epo.fif\n",
      "Skipping existing /Users/jakubblaha/Documents/thesis/thesis-python/data/fif/dasps_prep_5s_dur_S10-epo.fif\n",
      "Skipping existing /Users/jakubblaha/Documents/thesis/thesis-python/data/fif/dasps_prep_5s_dur_S15-epo.fif\n",
      "Skipping existing /Users/jakubblaha/Documents/thesis/thesis-python/data/fif/dasps_prep_5s_dur_S05-epo.fif\n",
      "Skipping existing /Users/jakubblaha/Documents/thesis/thesis-python/data/fif/dasps_prep_5s_dur_S23-epo.fif\n",
      "Skipping existing /Users/jakubblaha/Documents/thesis/thesis-python/data/fif/dasps_prep_5s_dur_S22-epo.fif\n",
      "Skipping existing /Users/jakubblaha/Documents/thesis/thesis-python/data/fif/dasps_prep_5s_dur_S04-epo.fif\n",
      "Skipping existing /Users/jakubblaha/Documents/thesis/thesis-python/data/fif/dasps_prep_5s_dur_S14-epo.fif\n",
      "Skipping existing /Users/jakubblaha/Documents/thesis/thesis-python/data/fif/dasps_prep_5s_dur_S20-epo.fif\n",
      "Skipping existing /Users/jakubblaha/Documents/thesis/thesis-python/data/fif/dasps_prep_5s_dur_S16-epo.fif\n",
      "Skipping existing /Users/jakubblaha/Documents/thesis/thesis-python/data/fif/dasps_prep_5s_dur_S06-epo.fif\n",
      "Skipping existing /Users/jakubblaha/Documents/thesis/thesis-python/data/fif/dasps_prep_5s_dur_S07-epo.fif\n",
      "Skipping existing /Users/jakubblaha/Documents/thesis/thesis-python/data/fif/dasps_prep_5s_dur_S17-epo.fif\n",
      "Skipping existing /Users/jakubblaha/Documents/thesis/thesis-python/data/fif/dasps_prep_5s_dur_S21-epo.fif\n"
     ]
    }
   ],
   "source": [
    "%matplotlib qt\n",
    "\n",
    "import mne\n",
    "import numpy as np\n",
    "import glob\n",
    "import os\n",
    "from autoreject import AutoReject, get_rejection_threshold\n",
    "\n",
    "DIR = os.path.abspath(\"../data/fif\")\n",
    "fnames = glob.glob(os.path.join(DIR, \"dasps_prep_*\"))\n",
    "\n",
    "def autoreject_file(path):\n",
    "    _, fname = os.path.split(path)\n",
    "    fname = \"ar_\" + fname\n",
    "    new_path = os.path.join(DIR, fname)\n",
    "\n",
    "    if os.path.exists(new_path):\n",
    "        print(\"Skipping existing\", path)\n",
    "        return\n",
    "\n",
    "    epochs = mne.read_epochs(path, preload=True)\n",
    "    ar = AutoReject()\n",
    "    epochs_clean = ar.fit_transform(epochs)\n",
    "\n",
    "    epochs_clean.save(new_path, overwrite=True)\n",
    "    # reject = get_rejection_threshold(epochs)\n",
    "\n",
    "\n",
    "for fname in fnames:\n",
    "    autoreject_file(fname)\n"
   ]
  }
 ],
 "metadata": {
  "kernelspec": {
   "display_name": "thesis-python-yCK4mToH",
   "language": "python",
   "name": "python3"
  },
  "language_info": {
   "codemirror_mode": {
    "name": "ipython",
    "version": 3
   },
   "file_extension": ".py",
   "mimetype": "text/x-python",
   "name": "python",
   "nbconvert_exporter": "python",
   "pygments_lexer": "ipython3",
   "version": "3.12.7"
  }
 },
 "nbformat": 4,
 "nbformat_minor": 2
}
