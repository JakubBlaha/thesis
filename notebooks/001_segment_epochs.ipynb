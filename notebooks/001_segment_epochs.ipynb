{
 "cells": [
  {
   "cell_type": "code",
   "execution_count": 21,
   "metadata": {},
   "outputs": [],
   "source": [
    "SECONDS_PER_EPOCH = None\n",
    "SECONDS_PER_EPOCH = 8\n",
    "\n",
    "OVERLAP = 0.5"
   ]
  },
  {
   "cell_type": "code",
   "execution_count": 29,
   "metadata": {},
   "outputs": [
    {
     "name": "stdout",
     "output_type": "stream",
     "text": [
      "Reading /Users/jakubblaha/Documents/thesis/thesis-python/notebooks/../data/fif/S01-epo.fif ...\n",
      "    Found the data of interest:\n",
      "        t =       0.00 ...   14992.19 ms\n",
      "        0 CTF compensation matrices available\n",
      "Adding metadata with 3 columns\n",
      "12 matching events found\n",
      "No baseline correction applied\n",
      "0 projection items activated\n",
      "Creating RawArray with float64 data, n_channels=14, n_times=23040\n",
      "    Range : 0 ... 23039 =      0.000 ...   179.992 secs\n",
      "Ready.\n",
      "Not setting metadata\n",
      "44 matching events found\n",
      "No baseline correction applied\n",
      "0 projection items activated\n",
      "Using data from preloaded Raw for 44 events and 1024 original time points ...\n",
      "0 bad epochs dropped\n",
      "Adding metadata with 3 columns\n",
      "Overwriting existing file.\n",
      "Overwriting existing file.\n"
     ]
    }
   ],
   "source": [
    "import glob, mne\n",
    "import numpy as np\n",
    "import pandas as pd\n",
    "\n",
    "def segment_file(path):\n",
    "    orig_epochs = mne.read_epochs(path, preload=True)\n",
    "\n",
    "    if SECONDS_PER_EPOCH:\n",
    "        data = orig_epochs.get_data()\n",
    "        data = np.concatenate(data, axis=1)\n",
    "\n",
    "        raw = mne.io.RawArray(data, orig_epochs.info)\n",
    "        epochs = mne.make_fixed_length_epochs(raw, duration=SECONDS_PER_EPOCH, overlap=OVERLAP * SECONDS_PER_EPOCH, preload=True)\n",
    "\n",
    "    epochs.metadata = pd.DataFrame({k: [v[0]] * len(epochs) for k, v in orig_epochs.metadata.items()})\n",
    "\n",
    "    epochs.save(path.replace(\"-epo.fif\", f\"_seg_{SECONDS_PER_EPOCH or 0}s-epo.fif\"), overwrite=True)\n",
    "\n",
    "\n",
    "paths = glob.glob(\"../data/fif/S??-epo.fif\")\n",
    "\n",
    "for path in paths:\n",
    "    segment_file(path)"
   ]
  }
 ],
 "metadata": {
  "kernelspec": {
   "display_name": "thesis-python-yCK4mToH",
   "language": "python",
   "name": "python3"
  },
  "language_info": {
   "codemirror_mode": {
    "name": "ipython",
    "version": 3
   },
   "file_extension": ".py",
   "mimetype": "text/x-python",
   "name": "python",
   "nbconvert_exporter": "python",
   "pygments_lexer": "ipython3",
   "version": "3.12.7"
  }
 },
 "nbformat": 4,
 "nbformat_minor": 2
}
