{
 "cells": [
  {
   "cell_type": "code",
   "execution_count": 1,
   "metadata": {},
   "outputs": [],
   "source": [
    "%reload_ext autoreload\n",
    "%autoreload 2\n",
    "\n",
    "import torch\n",
    "import torch.nn as nn\n",
    "import torch.optim as optim\n",
    "import numpy as np\n",
    "from torch.utils.data import DataLoader\n",
    "from main import FeatureGroup, CustomDataset\n",
    "from torch import tensor\n",
    "from scripts.dasps_preprocess import DaspsPreprocessor\n",
    "from matplotlib import pyplot as plt\n",
    "from torcheval.metrics import MulticlassAccuracy\n",
    "import itertools"
   ]
  },
  {
   "cell_type": "code",
   "execution_count": 2,
   "metadata": {},
   "outputs": [
    {
     "name": "stdout",
     "output_type": "stream",
     "text": [
      "Getting epochs for filename data/dasps_raw_mat/S01.mat\n",
      "Not setting metadata\n",
      "2 matching events found\n",
      "No baseline correction applied\n",
      "0 projection items activated\n",
      "Creating RawArray with float64 data, n_channels=14, n_times=3840\n",
      "    Range : 0 ... 3839 =      0.000 ...    29.992 secs\n",
      "Ready.\n",
      "Not setting metadata\n",
      "6 matching events found\n",
      "No baseline correction applied\n",
      "0 projection items activated\n",
      "Getting epochs for filename data/dasps_raw_mat/S01.mat\n",
      "Not setting metadata\n",
      "2 matching events found\n",
      "No baseline correction applied\n",
      "0 projection items activated\n",
      "Creating RawArray with float64 data, n_channels=14, n_times=3840\n",
      "    Range : 0 ... 3839 =      0.000 ...    29.992 secs\n",
      "Ready.\n",
      "Not setting metadata\n",
      "6 matching events found\n",
      "No baseline correction applied\n",
      "0 projection items activated\n",
      "Getting epochs for filename data/dasps_raw_mat/S02.mat\n",
      "Not setting metadata\n",
      "2 matching events found\n",
      "No baseline correction applied\n",
      "0 projection items activated\n",
      "Creating RawArray with float64 data, n_channels=14, n_times=3840\n",
      "    Range : 0 ... 3839 =      0.000 ...    29.992 secs\n",
      "Ready.\n",
      "Not setting metadata\n",
      "6 matching events found\n",
      "No baseline correction applied\n",
      "0 projection items activated\n",
      "Getting epochs for filename data/dasps_raw_mat/S02.mat\n",
      "Not setting metadata\n",
      "2 matching events found\n",
      "No baseline correction applied\n",
      "0 projection items activated\n",
      "Creating RawArray with float64 data, n_channels=14, n_times=3840\n",
      "    Range : 0 ... 3839 =      0.000 ...    29.992 secs\n",
      "Ready.\n",
      "Not setting metadata\n",
      "6 matching events found\n",
      "No baseline correction applied\n",
      "0 projection items activated\n",
      "Getting epochs for filename data/dasps_raw_mat/S02.mat\n",
      "Not setting metadata\n",
      "2 matching events found\n",
      "No baseline correction applied\n",
      "0 projection items activated\n",
      "Creating RawArray with float64 data, n_channels=14, n_times=3840\n",
      "    Range : 0 ... 3839 =      0.000 ...    29.992 secs\n",
      "Ready.\n",
      "Not setting metadata\n",
      "6 matching events found\n",
      "No baseline correction applied\n",
      "0 projection items activated\n",
      "Getting epochs for filename data/dasps_raw_mat/S02.mat\n",
      "Not setting metadata\n",
      "2 matching events found\n",
      "No baseline correction applied\n",
      "0 projection items activated\n",
      "Creating RawArray with float64 data, n_channels=14, n_times=3840\n",
      "    Range : 0 ... 3839 =      0.000 ...    29.992 secs\n",
      "Ready.\n",
      "Not setting metadata\n",
      "6 matching events found\n",
      "No baseline correction applied\n",
      "0 projection items activated\n",
      "Getting epochs for filename data/dasps_raw_mat/S03.mat\n",
      "Not setting metadata\n",
      "2 matching events found\n",
      "No baseline correction applied\n",
      "0 projection items activated\n",
      "Creating RawArray with float64 data, n_channels=14, n_times=3840\n",
      "    Range : 0 ... 3839 =      0.000 ...    29.992 secs\n",
      "Ready.\n",
      "Not setting metadata\n",
      "6 matching events found\n",
      "No baseline correction applied\n",
      "0 projection items activated\n",
      "Getting epochs for filename data/dasps_raw_mat/S03.mat\n",
      "Not setting metadata\n",
      "2 matching events found\n",
      "No baseline correction applied\n",
      "0 projection items activated\n",
      "Creating RawArray with float64 data, n_channels=14, n_times=3840\n",
      "    Range : 0 ... 3839 =      0.000 ...    29.992 secs\n",
      "Ready.\n",
      "Not setting metadata\n",
      "6 matching events found\n",
      "No baseline correction applied\n",
      "0 projection items activated\n",
      "Getting epochs for filename data/dasps_raw_mat/S03.mat\n",
      "Not setting metadata\n",
      "2 matching events found\n",
      "No baseline correction applied\n",
      "0 projection items activated\n",
      "Creating RawArray with float64 data, n_channels=14, n_times=3840\n",
      "    Range : 0 ... 3839 =      0.000 ...    29.992 secs\n",
      "Ready.\n",
      "Not setting metadata\n",
      "6 matching events found\n",
      "No baseline correction applied\n",
      "0 projection items activated\n",
      "Getting epochs for filename data/dasps_raw_mat/S03.mat\n",
      "Not setting metadata\n",
      "2 matching events found\n",
      "No baseline correction applied\n",
      "0 projection items activated\n",
      "Creating RawArray with float64 data, n_channels=14, n_times=3840\n",
      "    Range : 0 ... 3839 =      0.000 ...    29.992 secs\n",
      "Ready.\n",
      "Not setting metadata\n",
      "6 matching events found\n",
      "No baseline correction applied\n",
      "0 projection items activated\n",
      "Getting epochs for filename data/dasps_raw_mat/S03.mat\n",
      "Not setting metadata\n",
      "2 matching events found\n",
      "No baseline correction applied\n",
      "0 projection items activated\n",
      "Creating RawArray with float64 data, n_channels=14, n_times=3840\n",
      "    Range : 0 ... 3839 =      0.000 ...    29.992 secs\n",
      "Ready.\n",
      "Not setting metadata\n",
      "6 matching events found\n",
      "No baseline correction applied\n",
      "0 projection items activated\n",
      "Getting epochs for filename data/dasps_raw_mat/S04.mat\n",
      "Not setting metadata\n",
      "2 matching events found\n",
      "No baseline correction applied\n",
      "0 projection items activated\n",
      "Creating RawArray with float64 data, n_channels=14, n_times=3840\n",
      "    Range : 0 ... 3839 =      0.000 ...    29.992 secs\n",
      "Ready.\n",
      "Not setting metadata\n",
      "6 matching events found\n",
      "No baseline correction applied\n",
      "0 projection items activated\n",
      "Getting epochs for filename data/dasps_raw_mat/S04.mat\n",
      "Not setting metadata\n",
      "2 matching events found\n",
      "No baseline correction applied\n",
      "0 projection items activated\n",
      "Creating RawArray with float64 data, n_channels=14, n_times=3840\n",
      "    Range : 0 ... 3839 =      0.000 ...    29.992 secs\n",
      "Ready.\n",
      "Not setting metadata\n",
      "6 matching events found\n",
      "No baseline correction applied\n",
      "0 projection items activated\n",
      "Getting epochs for filename data/dasps_raw_mat/S04.mat\n",
      "Not setting metadata\n",
      "2 matching events found\n",
      "No baseline correction applied\n",
      "0 projection items activated\n",
      "Creating RawArray with float64 data, n_channels=14, n_times=3840\n",
      "    Range : 0 ... 3839 =      0.000 ...    29.992 secs\n",
      "Ready.\n",
      "Not setting metadata\n",
      "6 matching events found\n",
      "No baseline correction applied\n",
      "0 projection items activated\n",
      "Getting epochs for filename data/dasps_raw_mat/S06.mat\n",
      "Not setting metadata\n",
      "2 matching events found\n",
      "No baseline correction applied\n",
      "0 projection items activated\n",
      "Creating RawArray with float64 data, n_channels=14, n_times=3840\n",
      "    Range : 0 ... 3839 =      0.000 ...    29.992 secs\n",
      "Ready.\n",
      "Not setting metadata\n",
      "6 matching events found\n",
      "No baseline correction applied\n",
      "0 projection items activated\n",
      "Getting epochs for filename data/dasps_raw_mat/S06.mat\n",
      "Not setting metadata\n",
      "2 matching events found\n",
      "No baseline correction applied\n",
      "0 projection items activated\n",
      "Creating RawArray with float64 data, n_channels=14, n_times=3840\n",
      "    Range : 0 ... 3839 =      0.000 ...    29.992 secs\n",
      "Ready.\n",
      "Not setting metadata\n",
      "6 matching events found\n",
      "No baseline correction applied\n",
      "0 projection items activated\n",
      "Getting epochs for filename data/dasps_raw_mat/S07.mat\n",
      "Not setting metadata\n",
      "2 matching events found\n",
      "No baseline correction applied\n",
      "0 projection items activated\n",
      "Creating RawArray with float64 data, n_channels=14, n_times=3840\n",
      "    Range : 0 ... 3839 =      0.000 ...    29.992 secs\n",
      "Ready.\n",
      "Not setting metadata\n",
      "6 matching events found\n",
      "No baseline correction applied\n",
      "0 projection items activated\n",
      "Getting epochs for filename data/dasps_raw_mat/S07.mat\n",
      "Not setting metadata\n",
      "2 matching events found\n",
      "No baseline correction applied\n",
      "0 projection items activated\n",
      "Creating RawArray with float64 data, n_channels=14, n_times=3840\n",
      "    Range : 0 ... 3839 =      0.000 ...    29.992 secs\n",
      "Ready.\n",
      "Not setting metadata\n",
      "6 matching events found\n",
      "No baseline correction applied\n",
      "0 projection items activated\n",
      "Getting epochs for filename data/dasps_raw_mat/S07.mat\n",
      "Not setting metadata\n",
      "2 matching events found\n",
      "No baseline correction applied\n",
      "0 projection items activated\n",
      "Creating RawArray with float64 data, n_channels=14, n_times=3840\n",
      "    Range : 0 ... 3839 =      0.000 ...    29.992 secs\n",
      "Ready.\n",
      "Not setting metadata\n",
      "6 matching events found\n",
      "No baseline correction applied\n",
      "0 projection items activated\n",
      "Getting epochs for filename data/dasps_raw_mat/S08.mat\n",
      "Not setting metadata\n",
      "2 matching events found\n",
      "No baseline correction applied\n",
      "0 projection items activated\n",
      "Creating RawArray with float64 data, n_channels=14, n_times=3840\n",
      "    Range : 0 ... 3839 =      0.000 ...    29.992 secs\n",
      "Ready.\n",
      "Not setting metadata\n",
      "6 matching events found\n",
      "No baseline correction applied\n",
      "0 projection items activated\n",
      "Getting epochs for filename data/dasps_raw_mat/S08.mat\n",
      "Not setting metadata\n",
      "2 matching events found\n",
      "No baseline correction applied\n",
      "0 projection items activated\n",
      "Creating RawArray with float64 data, n_channels=14, n_times=3840\n",
      "    Range : 0 ... 3839 =      0.000 ...    29.992 secs\n",
      "Ready.\n",
      "Not setting metadata\n",
      "6 matching events found\n",
      "No baseline correction applied\n",
      "0 projection items activated\n",
      "Getting epochs for filename data/dasps_raw_mat/S08.mat\n",
      "Not setting metadata\n",
      "2 matching events found\n",
      "No baseline correction applied\n",
      "0 projection items activated\n",
      "Creating RawArray with float64 data, n_channels=14, n_times=3840\n",
      "    Range : 0 ... 3839 =      0.000 ...    29.992 secs\n",
      "Ready.\n",
      "Not setting metadata\n",
      "6 matching events found\n",
      "No baseline correction applied\n",
      "0 projection items activated\n",
      "Getting epochs for filename data/dasps_raw_mat/S08.mat\n",
      "Not setting metadata\n",
      "2 matching events found\n",
      "No baseline correction applied\n",
      "0 projection items activated\n",
      "Creating RawArray with float64 data, n_channels=14, n_times=3840\n",
      "    Range : 0 ... 3839 =      0.000 ...    29.992 secs\n",
      "Ready.\n",
      "Not setting metadata\n",
      "6 matching events found\n",
      "No baseline correction applied\n",
      "0 projection items activated\n",
      "Getting epochs for filename data/dasps_raw_mat/S08.mat\n",
      "Not setting metadata\n",
      "2 matching events found\n",
      "No baseline correction applied\n",
      "0 projection items activated\n",
      "Creating RawArray with float64 data, n_channels=14, n_times=3840\n",
      "    Range : 0 ... 3839 =      0.000 ...    29.992 secs\n",
      "Ready.\n",
      "Not setting metadata\n",
      "6 matching events found\n",
      "No baseline correction applied\n",
      "0 projection items activated\n",
      "Getting epochs for filename data/dasps_raw_mat/S09.mat\n",
      "Not setting metadata\n",
      "2 matching events found\n",
      "No baseline correction applied\n",
      "0 projection items activated\n",
      "Creating RawArray with float64 data, n_channels=14, n_times=3840\n",
      "    Range : 0 ... 3839 =      0.000 ...    29.992 secs\n",
      "Ready.\n",
      "Not setting metadata\n",
      "6 matching events found\n",
      "No baseline correction applied\n",
      "0 projection items activated\n",
      "Getting epochs for filename data/dasps_raw_mat/S09.mat\n",
      "Not setting metadata\n",
      "2 matching events found\n",
      "No baseline correction applied\n",
      "0 projection items activated\n",
      "Creating RawArray with float64 data, n_channels=14, n_times=3840\n",
      "    Range : 0 ... 3839 =      0.000 ...    29.992 secs\n",
      "Ready.\n",
      "Not setting metadata\n",
      "6 matching events found\n",
      "No baseline correction applied\n",
      "0 projection items activated\n",
      "Getting epochs for filename data/dasps_raw_mat/S09.mat\n",
      "Not setting metadata\n",
      "2 matching events found\n",
      "No baseline correction applied\n",
      "0 projection items activated\n",
      "Creating RawArray with float64 data, n_channels=14, n_times=3840\n",
      "    Range : 0 ... 3839 =      0.000 ...    29.992 secs\n",
      "Ready.\n",
      "Not setting metadata\n",
      "6 matching events found\n",
      "No baseline correction applied\n",
      "0 projection items activated\n",
      "Getting epochs for filename data/dasps_raw_mat/S10.mat\n",
      "Not setting metadata\n",
      "2 matching events found\n",
      "No baseline correction applied\n",
      "0 projection items activated\n",
      "Creating RawArray with float64 data, n_channels=14, n_times=3840\n",
      "    Range : 0 ... 3839 =      0.000 ...    29.992 secs\n",
      "Ready.\n",
      "Not setting metadata\n",
      "6 matching events found\n",
      "No baseline correction applied\n",
      "0 projection items activated\n",
      "Getting epochs for filename data/dasps_raw_mat/S10.mat\n",
      "Not setting metadata\n",
      "2 matching events found\n",
      "No baseline correction applied\n",
      "0 projection items activated\n",
      "Creating RawArray with float64 data, n_channels=14, n_times=3840\n",
      "    Range : 0 ... 3839 =      0.000 ...    29.992 secs\n",
      "Ready.\n",
      "Not setting metadata\n",
      "6 matching events found\n",
      "No baseline correction applied\n",
      "0 projection items activated\n",
      "Getting epochs for filename data/dasps_raw_mat/S10.mat\n",
      "Not setting metadata\n",
      "2 matching events found\n",
      "No baseline correction applied\n",
      "0 projection items activated\n",
      "Creating RawArray with float64 data, n_channels=14, n_times=3840\n",
      "    Range : 0 ... 3839 =      0.000 ...    29.992 secs\n",
      "Ready.\n",
      "Not setting metadata\n",
      "6 matching events found\n",
      "No baseline correction applied\n",
      "0 projection items activated\n",
      "Getting epochs for filename data/dasps_raw_mat/S10.mat\n",
      "Not setting metadata\n",
      "2 matching events found\n",
      "No baseline correction applied\n",
      "0 projection items activated\n",
      "Creating RawArray with float64 data, n_channels=14, n_times=3840\n",
      "    Range : 0 ... 3839 =      0.000 ...    29.992 secs\n",
      "Ready.\n",
      "Not setting metadata\n",
      "6 matching events found\n",
      "No baseline correction applied\n",
      "0 projection items activated\n",
      "Getting epochs for filename data/dasps_raw_mat/S10.mat\n",
      "Not setting metadata\n",
      "2 matching events found\n",
      "No baseline correction applied\n",
      "0 projection items activated\n",
      "Creating RawArray with float64 data, n_channels=14, n_times=3840\n",
      "    Range : 0 ... 3839 =      0.000 ...    29.992 secs\n",
      "Ready.\n",
      "Not setting metadata\n",
      "6 matching events found\n",
      "No baseline correction applied\n",
      "0 projection items activated\n",
      "Getting epochs for filename data/dasps_raw_mat/S10.mat\n",
      "Not setting metadata\n",
      "2 matching events found\n",
      "No baseline correction applied\n",
      "0 projection items activated\n",
      "Creating RawArray with float64 data, n_channels=14, n_times=3840\n",
      "    Range : 0 ... 3839 =      0.000 ...    29.992 secs\n",
      "Ready.\n",
      "Not setting metadata\n",
      "6 matching events found\n",
      "No baseline correction applied\n",
      "0 projection items activated\n",
      "Getting epochs for filename data/dasps_raw_mat/S11.mat\n",
      "Not setting metadata\n",
      "2 matching events found\n",
      "No baseline correction applied\n",
      "0 projection items activated\n",
      "Creating RawArray with float64 data, n_channels=14, n_times=3840\n",
      "    Range : 0 ... 3839 =      0.000 ...    29.992 secs\n",
      "Ready.\n",
      "Not setting metadata\n",
      "6 matching events found\n",
      "No baseline correction applied\n",
      "0 projection items activated\n",
      "Getting epochs for filename data/dasps_raw_mat/S11.mat\n",
      "Not setting metadata\n",
      "2 matching events found\n",
      "No baseline correction applied\n",
      "0 projection items activated\n",
      "Creating RawArray with float64 data, n_channels=14, n_times=3840\n",
      "    Range : 0 ... 3839 =      0.000 ...    29.992 secs\n",
      "Ready.\n",
      "Not setting metadata\n",
      "6 matching events found\n",
      "No baseline correction applied\n",
      "0 projection items activated\n",
      "Getting epochs for filename data/dasps_raw_mat/S11.mat\n",
      "Not setting metadata\n",
      "2 matching events found\n",
      "No baseline correction applied\n",
      "0 projection items activated\n",
      "Creating RawArray with float64 data, n_channels=14, n_times=3840\n",
      "    Range : 0 ... 3839 =      0.000 ...    29.992 secs\n",
      "Ready.\n",
      "Not setting metadata\n",
      "6 matching events found\n",
      "No baseline correction applied\n",
      "0 projection items activated\n",
      "Getting epochs for filename data/dasps_raw_mat/S11.mat\n",
      "Not setting metadata\n",
      "2 matching events found\n",
      "No baseline correction applied\n",
      "0 projection items activated\n",
      "Creating RawArray with float64 data, n_channels=14, n_times=3840\n",
      "    Range : 0 ... 3839 =      0.000 ...    29.992 secs\n",
      "Ready.\n",
      "Not setting metadata\n",
      "6 matching events found\n",
      "No baseline correction applied\n",
      "0 projection items activated\n",
      "Getting epochs for filename data/dasps_raw_mat/S11.mat\n",
      "Not setting metadata\n",
      "2 matching events found\n",
      "No baseline correction applied\n",
      "0 projection items activated\n",
      "Creating RawArray with float64 data, n_channels=14, n_times=3840\n",
      "    Range : 0 ... 3839 =      0.000 ...    29.992 secs\n",
      "Ready.\n",
      "Not setting metadata\n",
      "6 matching events found\n",
      "No baseline correction applied\n",
      "0 projection items activated\n",
      "Getting epochs for filename data/dasps_raw_mat/S12.mat\n",
      "Not setting metadata\n",
      "2 matching events found\n",
      "No baseline correction applied\n",
      "0 projection items activated\n",
      "Creating RawArray with float64 data, n_channels=14, n_times=3840\n",
      "    Range : 0 ... 3839 =      0.000 ...    29.992 secs\n",
      "Ready.\n",
      "Not setting metadata\n",
      "6 matching events found\n",
      "No baseline correction applied\n",
      "0 projection items activated\n",
      "Getting epochs for filename data/dasps_raw_mat/S12.mat\n",
      "Not setting metadata\n",
      "2 matching events found\n",
      "No baseline correction applied\n",
      "0 projection items activated\n",
      "Creating RawArray with float64 data, n_channels=14, n_times=3840\n",
      "    Range : 0 ... 3839 =      0.000 ...    29.992 secs\n",
      "Ready.\n",
      "Not setting metadata\n",
      "6 matching events found\n",
      "No baseline correction applied\n",
      "0 projection items activated\n",
      "Getting epochs for filename data/dasps_raw_mat/S12.mat\n",
      "Not setting metadata\n",
      "2 matching events found\n",
      "No baseline correction applied\n",
      "0 projection items activated\n",
      "Creating RawArray with float64 data, n_channels=14, n_times=3840\n",
      "    Range : 0 ... 3839 =      0.000 ...    29.992 secs\n",
      "Ready.\n",
      "Not setting metadata\n",
      "6 matching events found\n",
      "No baseline correction applied\n",
      "0 projection items activated\n",
      "Getting epochs for filename data/dasps_raw_mat/S12.mat\n",
      "Not setting metadata\n",
      "2 matching events found\n",
      "No baseline correction applied\n",
      "0 projection items activated\n",
      "Creating RawArray with float64 data, n_channels=14, n_times=3840\n",
      "    Range : 0 ... 3839 =      0.000 ...    29.992 secs\n",
      "Ready.\n",
      "Not setting metadata\n",
      "6 matching events found\n",
      "No baseline correction applied\n",
      "0 projection items activated\n",
      "Getting epochs for filename data/dasps_raw_mat/S13.mat\n",
      "Not setting metadata\n",
      "2 matching events found\n",
      "No baseline correction applied\n",
      "0 projection items activated\n",
      "Creating RawArray with float64 data, n_channels=14, n_times=3840\n",
      "    Range : 0 ... 3839 =      0.000 ...    29.992 secs\n",
      "Ready.\n",
      "Not setting metadata\n",
      "6 matching events found\n",
      "No baseline correction applied\n",
      "0 projection items activated\n",
      "Getting epochs for filename data/dasps_raw_mat/S13.mat\n",
      "Not setting metadata\n",
      "2 matching events found\n",
      "No baseline correction applied\n",
      "0 projection items activated\n",
      "Creating RawArray with float64 data, n_channels=14, n_times=3840\n",
      "    Range : 0 ... 3839 =      0.000 ...    29.992 secs\n",
      "Ready.\n",
      "Not setting metadata\n",
      "6 matching events found\n",
      "No baseline correction applied\n",
      "0 projection items activated\n",
      "Getting epochs for filename data/dasps_raw_mat/S13.mat\n",
      "Not setting metadata\n",
      "2 matching events found\n",
      "No baseline correction applied\n",
      "0 projection items activated\n",
      "Creating RawArray with float64 data, n_channels=14, n_times=3840\n",
      "    Range : 0 ... 3839 =      0.000 ...    29.992 secs\n",
      "Ready.\n",
      "Not setting metadata\n",
      "6 matching events found\n",
      "No baseline correction applied\n",
      "0 projection items activated\n",
      "Getting epochs for filename data/dasps_raw_mat/S13.mat\n",
      "Not setting metadata\n",
      "2 matching events found\n",
      "No baseline correction applied\n",
      "0 projection items activated\n",
      "Creating RawArray with float64 data, n_channels=14, n_times=3840\n",
      "    Range : 0 ... 3839 =      0.000 ...    29.992 secs\n",
      "Ready.\n",
      "Not setting metadata\n",
      "6 matching events found\n",
      "No baseline correction applied\n",
      "0 projection items activated\n",
      "Getting epochs for filename data/dasps_raw_mat/S14.mat\n",
      "Not setting metadata\n",
      "2 matching events found\n",
      "No baseline correction applied\n",
      "0 projection items activated\n",
      "Creating RawArray with float64 data, n_channels=14, n_times=3840\n",
      "    Range : 0 ... 3839 =      0.000 ...    29.992 secs\n",
      "Ready.\n",
      "Not setting metadata\n",
      "6 matching events found\n",
      "No baseline correction applied\n",
      "0 projection items activated\n",
      "Getting epochs for filename data/dasps_raw_mat/S14.mat\n",
      "Not setting metadata\n",
      "2 matching events found\n",
      "No baseline correction applied\n",
      "0 projection items activated\n",
      "Creating RawArray with float64 data, n_channels=14, n_times=3840\n",
      "    Range : 0 ... 3839 =      0.000 ...    29.992 secs\n",
      "Ready.\n",
      "Not setting metadata\n",
      "6 matching events found\n",
      "No baseline correction applied\n",
      "0 projection items activated\n",
      "Getting epochs for filename data/dasps_raw_mat/S14.mat\n",
      "Not setting metadata\n",
      "2 matching events found\n",
      "No baseline correction applied\n",
      "0 projection items activated\n",
      "Creating RawArray with float64 data, n_channels=14, n_times=3840\n",
      "    Range : 0 ... 3839 =      0.000 ...    29.992 secs\n",
      "Ready.\n",
      "Not setting metadata\n",
      "6 matching events found\n",
      "No baseline correction applied\n",
      "0 projection items activated\n",
      "Getting epochs for filename data/dasps_raw_mat/S14.mat\n",
      "Not setting metadata\n",
      "2 matching events found\n",
      "No baseline correction applied\n",
      "0 projection items activated\n",
      "Creating RawArray with float64 data, n_channels=14, n_times=3840\n",
      "    Range : 0 ... 3839 =      0.000 ...    29.992 secs\n",
      "Ready.\n",
      "Not setting metadata\n",
      "6 matching events found\n",
      "No baseline correction applied\n",
      "0 projection items activated\n",
      "Getting epochs for filename data/dasps_raw_mat/S15.mat\n",
      "Not setting metadata\n",
      "2 matching events found\n",
      "No baseline correction applied\n",
      "0 projection items activated\n",
      "Creating RawArray with float64 data, n_channels=14, n_times=3840\n",
      "    Range : 0 ... 3839 =      0.000 ...    29.992 secs\n",
      "Ready.\n",
      "Not setting metadata\n",
      "6 matching events found\n",
      "No baseline correction applied\n",
      "0 projection items activated\n",
      "Getting epochs for filename data/dasps_raw_mat/S15.mat\n",
      "Not setting metadata\n",
      "2 matching events found\n",
      "No baseline correction applied\n",
      "0 projection items activated\n",
      "Creating RawArray with float64 data, n_channels=14, n_times=3840\n",
      "    Range : 0 ... 3839 =      0.000 ...    29.992 secs\n",
      "Ready.\n",
      "Not setting metadata\n",
      "6 matching events found\n",
      "No baseline correction applied\n",
      "0 projection items activated\n",
      "Getting epochs for filename data/dasps_raw_mat/S15.mat\n",
      "Not setting metadata\n",
      "2 matching events found\n",
      "No baseline correction applied\n",
      "0 projection items activated\n",
      "Creating RawArray with float64 data, n_channels=14, n_times=3840\n",
      "    Range : 0 ... 3839 =      0.000 ...    29.992 secs\n",
      "Ready.\n",
      "Not setting metadata\n",
      "6 matching events found\n",
      "No baseline correction applied\n",
      "0 projection items activated\n",
      "Getting epochs for filename data/dasps_raw_mat/S16.mat\n",
      "Not setting metadata\n",
      "2 matching events found\n",
      "No baseline correction applied\n",
      "0 projection items activated\n",
      "Creating RawArray with float64 data, n_channels=14, n_times=3840\n",
      "    Range : 0 ... 3839 =      0.000 ...    29.992 secs\n",
      "Ready.\n",
      "Not setting metadata\n",
      "6 matching events found\n",
      "No baseline correction applied\n",
      "0 projection items activated\n",
      "Getting epochs for filename data/dasps_raw_mat/S16.mat\n",
      "Not setting metadata\n",
      "2 matching events found\n",
      "No baseline correction applied\n",
      "0 projection items activated\n",
      "Creating RawArray with float64 data, n_channels=14, n_times=3840\n",
      "    Range : 0 ... 3839 =      0.000 ...    29.992 secs\n",
      "Ready.\n",
      "Not setting metadata\n",
      "6 matching events found\n",
      "No baseline correction applied\n",
      "0 projection items activated\n",
      "Getting epochs for filename data/dasps_raw_mat/S16.mat\n",
      "Not setting metadata\n",
      "2 matching events found\n",
      "No baseline correction applied\n",
      "0 projection items activated\n",
      "Creating RawArray with float64 data, n_channels=14, n_times=3840\n",
      "    Range : 0 ... 3839 =      0.000 ...    29.992 secs\n",
      "Ready.\n",
      "Not setting metadata\n",
      "6 matching events found\n",
      "No baseline correction applied\n",
      "0 projection items activated\n",
      "Getting epochs for filename data/dasps_raw_mat/S16.mat\n",
      "Not setting metadata\n",
      "2 matching events found\n",
      "No baseline correction applied\n",
      "0 projection items activated\n",
      "Creating RawArray with float64 data, n_channels=14, n_times=3840\n",
      "    Range : 0 ... 3839 =      0.000 ...    29.992 secs\n",
      "Ready.\n",
      "Not setting metadata\n",
      "6 matching events found\n",
      "No baseline correction applied\n",
      "0 projection items activated\n",
      "Getting epochs for filename data/dasps_raw_mat/S17.mat\n",
      "Not setting metadata\n",
      "2 matching events found\n",
      "No baseline correction applied\n",
      "0 projection items activated\n",
      "Creating RawArray with float64 data, n_channels=14, n_times=3840\n",
      "    Range : 0 ... 3839 =      0.000 ...    29.992 secs\n",
      "Ready.\n",
      "Not setting metadata\n",
      "6 matching events found\n",
      "No baseline correction applied\n",
      "0 projection items activated\n",
      "Getting epochs for filename data/dasps_raw_mat/S18.mat\n",
      "Not setting metadata\n",
      "2 matching events found\n",
      "No baseline correction applied\n",
      "0 projection items activated\n",
      "Creating RawArray with float64 data, n_channels=14, n_times=3840\n",
      "    Range : 0 ... 3839 =      0.000 ...    29.992 secs\n",
      "Ready.\n",
      "Not setting metadata\n",
      "6 matching events found\n",
      "No baseline correction applied\n",
      "0 projection items activated\n",
      "Getting epochs for filename data/dasps_raw_mat/S18.mat\n",
      "Not setting metadata\n",
      "2 matching events found\n",
      "No baseline correction applied\n",
      "0 projection items activated\n",
      "Creating RawArray with float64 data, n_channels=14, n_times=3840\n",
      "    Range : 0 ... 3839 =      0.000 ...    29.992 secs\n",
      "Ready.\n",
      "Not setting metadata\n",
      "6 matching events found\n",
      "No baseline correction applied\n",
      "0 projection items activated\n",
      "Getting epochs for filename data/dasps_raw_mat/S18.mat\n",
      "Not setting metadata\n",
      "2 matching events found\n",
      "No baseline correction applied\n",
      "0 projection items activated\n",
      "Creating RawArray with float64 data, n_channels=14, n_times=3840\n",
      "    Range : 0 ... 3839 =      0.000 ...    29.992 secs\n",
      "Ready.\n",
      "Not setting metadata\n",
      "6 matching events found\n",
      "No baseline correction applied\n",
      "0 projection items activated\n",
      "Getting epochs for filename data/dasps_raw_mat/S18.mat\n",
      "Not setting metadata\n",
      "2 matching events found\n",
      "No baseline correction applied\n",
      "0 projection items activated\n",
      "Creating RawArray with float64 data, n_channels=14, n_times=3840\n",
      "    Range : 0 ... 3839 =      0.000 ...    29.992 secs\n",
      "Ready.\n",
      "Not setting metadata\n",
      "6 matching events found\n",
      "No baseline correction applied\n",
      "0 projection items activated\n",
      "Getting epochs for filename data/dasps_raw_mat/S19.mat\n",
      "Not setting metadata\n",
      "2 matching events found\n",
      "No baseline correction applied\n",
      "0 projection items activated\n",
      "Creating RawArray with float64 data, n_channels=14, n_times=3840\n",
      "    Range : 0 ... 3839 =      0.000 ...    29.992 secs\n",
      "Ready.\n",
      "Not setting metadata\n",
      "6 matching events found\n",
      "No baseline correction applied\n",
      "0 projection items activated\n",
      "Getting epochs for filename data/dasps_raw_mat/S19.mat\n",
      "Not setting metadata\n",
      "2 matching events found\n",
      "No baseline correction applied\n",
      "0 projection items activated\n",
      "Creating RawArray with float64 data, n_channels=14, n_times=3840\n",
      "    Range : 0 ... 3839 =      0.000 ...    29.992 secs\n",
      "Ready.\n",
      "Not setting metadata\n",
      "6 matching events found\n",
      "No baseline correction applied\n",
      "0 projection items activated\n",
      "Getting epochs for filename data/dasps_raw_mat/S20.mat\n",
      "Not setting metadata\n",
      "2 matching events found\n",
      "No baseline correction applied\n",
      "0 projection items activated\n",
      "Creating RawArray with float64 data, n_channels=14, n_times=3840\n",
      "    Range : 0 ... 3839 =      0.000 ...    29.992 secs\n",
      "Ready.\n",
      "Not setting metadata\n",
      "6 matching events found\n",
      "No baseline correction applied\n",
      "0 projection items activated\n",
      "Getting epochs for filename data/dasps_raw_mat/S20.mat\n",
      "Not setting metadata\n",
      "2 matching events found\n",
      "No baseline correction applied\n",
      "0 projection items activated\n",
      "Creating RawArray with float64 data, n_channels=14, n_times=3840\n",
      "    Range : 0 ... 3839 =      0.000 ...    29.992 secs\n",
      "Ready.\n",
      "Not setting metadata\n",
      "6 matching events found\n",
      "No baseline correction applied\n",
      "0 projection items activated\n",
      "Getting epochs for filename data/dasps_raw_mat/S20.mat\n",
      "Not setting metadata\n",
      "2 matching events found\n",
      "No baseline correction applied\n",
      "0 projection items activated\n",
      "Creating RawArray with float64 data, n_channels=14, n_times=3840\n",
      "    Range : 0 ... 3839 =      0.000 ...    29.992 secs\n",
      "Ready.\n",
      "Not setting metadata\n",
      "6 matching events found\n",
      "No baseline correction applied\n",
      "0 projection items activated\n",
      "Getting epochs for filename data/dasps_raw_mat/S21.mat\n",
      "Not setting metadata\n",
      "2 matching events found\n",
      "No baseline correction applied\n",
      "0 projection items activated\n",
      "Creating RawArray with float64 data, n_channels=14, n_times=3840\n",
      "    Range : 0 ... 3839 =      0.000 ...    29.992 secs\n",
      "Ready.\n",
      "Not setting metadata\n",
      "6 matching events found\n",
      "No baseline correction applied\n",
      "0 projection items activated\n",
      "Getting epochs for filename data/dasps_raw_mat/S21.mat\n",
      "Not setting metadata\n",
      "2 matching events found\n",
      "No baseline correction applied\n",
      "0 projection items activated\n",
      "Creating RawArray with float64 data, n_channels=14, n_times=3840\n",
      "    Range : 0 ... 3839 =      0.000 ...    29.992 secs\n",
      "Ready.\n",
      "Not setting metadata\n",
      "6 matching events found\n",
      "No baseline correction applied\n",
      "0 projection items activated\n",
      "Getting epochs for filename data/dasps_raw_mat/S21.mat\n",
      "Not setting metadata\n",
      "2 matching events found\n",
      "No baseline correction applied\n",
      "0 projection items activated\n",
      "Creating RawArray with float64 data, n_channels=14, n_times=3840\n",
      "    Range : 0 ... 3839 =      0.000 ...    29.992 secs\n",
      "Ready.\n",
      "Not setting metadata\n",
      "6 matching events found\n",
      "No baseline correction applied\n",
      "0 projection items activated\n",
      "Getting epochs for filename data/dasps_raw_mat/S22.mat\n",
      "Not setting metadata\n",
      "2 matching events found\n",
      "No baseline correction applied\n",
      "0 projection items activated\n",
      "Creating RawArray with float64 data, n_channels=14, n_times=3840\n",
      "    Range : 0 ... 3839 =      0.000 ...    29.992 secs\n",
      "Ready.\n",
      "Not setting metadata\n",
      "6 matching events found\n",
      "No baseline correction applied\n",
      "0 projection items activated\n",
      "Getting epochs for filename data/dasps_raw_mat/S22.mat\n",
      "Not setting metadata\n",
      "2 matching events found\n",
      "No baseline correction applied\n",
      "0 projection items activated\n",
      "Creating RawArray with float64 data, n_channels=14, n_times=3840\n",
      "    Range : 0 ... 3839 =      0.000 ...    29.992 secs\n",
      "Ready.\n",
      "Not setting metadata\n",
      "6 matching events found\n",
      "No baseline correction applied\n",
      "0 projection items activated\n",
      "Getting epochs for filename data/dasps_raw_mat/S22.mat\n",
      "Not setting metadata\n",
      "2 matching events found\n",
      "No baseline correction applied\n",
      "0 projection items activated\n",
      "Creating RawArray with float64 data, n_channels=14, n_times=3840\n",
      "    Range : 0 ... 3839 =      0.000 ...    29.992 secs\n",
      "Ready.\n",
      "Not setting metadata\n",
      "6 matching events found\n",
      "No baseline correction applied\n",
      "0 projection items activated\n",
      "Getting epochs for filename data/dasps_raw_mat/S22.mat\n",
      "Not setting metadata\n",
      "2 matching events found\n",
      "No baseline correction applied\n",
      "0 projection items activated\n",
      "Creating RawArray with float64 data, n_channels=14, n_times=3840\n",
      "    Range : 0 ... 3839 =      0.000 ...    29.992 secs\n",
      "Ready.\n",
      "Not setting metadata\n",
      "6 matching events found\n",
      "No baseline correction applied\n",
      "0 projection items activated\n",
      "Getting epochs for filename data/dasps_raw_mat/S23.mat\n",
      "Not setting metadata\n",
      "2 matching events found\n",
      "No baseline correction applied\n",
      "0 projection items activated\n",
      "Creating RawArray with float64 data, n_channels=14, n_times=3840\n",
      "    Range : 0 ... 3839 =      0.000 ...    29.992 secs\n",
      "Ready.\n",
      "Not setting metadata\n",
      "6 matching events found\n",
      "No baseline correction applied\n",
      "0 projection items activated\n",
      "Getting epochs for filename data/dasps_raw_mat/S23.mat\n",
      "Not setting metadata\n",
      "2 matching events found\n",
      "No baseline correction applied\n",
      "0 projection items activated\n",
      "Creating RawArray with float64 data, n_channels=14, n_times=3840\n",
      "    Range : 0 ... 3839 =      0.000 ...    29.992 secs\n",
      "Ready.\n",
      "Not setting metadata\n",
      "6 matching events found\n",
      "No baseline correction applied\n",
      "0 projection items activated\n",
      "Getting epochs for filename data/dasps_raw_mat/S23.mat\n",
      "Not setting metadata\n",
      "2 matching events found\n",
      "No baseline correction applied\n",
      "0 projection items activated\n",
      "Creating RawArray with float64 data, n_channels=14, n_times=3840\n",
      "    Range : 0 ... 3839 =      0.000 ...    29.992 secs\n",
      "Ready.\n",
      "Not setting metadata\n",
      "6 matching events found\n",
      "No baseline correction applied\n",
      "0 projection items activated\n",
      "Getting epochs for filename data/dasps_raw_mat/S23.mat\n",
      "Not setting metadata\n",
      "2 matching events found\n",
      "No baseline correction applied\n",
      "0 projection items activated\n",
      "Creating RawArray with float64 data, n_channels=14, n_times=3840\n",
      "    Range : 0 ... 3839 =      0.000 ...    29.992 secs\n",
      "Ready.\n",
      "Not setting metadata\n",
      "6 matching events found\n",
      "No baseline correction applied\n",
      "0 projection items activated\n",
      "Using data from preloaded Raw for 6 events and 1024 original time points ...\n",
      "0 bad epochs dropped\n",
      "Using data from preloaded Raw for 6 events and 1024 original time points ...\n",
      "0 bad epochs dropped\n",
      "Using data from preloaded Raw for 6 events and 1024 original time points ...\n",
      "0 bad epochs dropped\n",
      "Using data from preloaded Raw for 6 events and 1024 original time points ...\n",
      "0 bad epochs dropped\n",
      "Using data from preloaded Raw for 6 events and 1024 original time points ...\n",
      "0 bad epochs dropped\n",
      "Using data from preloaded Raw for 6 events and 1024 original time points ...\n",
      "0 bad epochs dropped\n",
      "Using data from preloaded Raw for 6 events and 1024 original time points ...\n",
      "0 bad epochs dropped\n",
      "Using data from preloaded Raw for 6 events and 1024 original time points ...\n",
      "0 bad epochs dropped\n",
      "Using data from preloaded Raw for 6 events and 1024 original time points ...\n",
      "0 bad epochs dropped\n",
      "Using data from preloaded Raw for 6 events and 1024 original time points ...\n",
      "0 bad epochs dropped\n",
      "Using data from preloaded Raw for 6 events and 1024 original time points ...\n",
      "0 bad epochs dropped\n",
      "Using data from preloaded Raw for 6 events and 1024 original time points ...\n",
      "0 bad epochs dropped\n",
      "Using data from preloaded Raw for 6 events and 1024 original time points ...\n",
      "0 bad epochs dropped\n",
      "Using data from preloaded Raw for 6 events and 1024 original time points ...\n",
      "0 bad epochs dropped\n",
      "Using data from preloaded Raw for 6 events and 1024 original time points ...\n",
      "0 bad epochs dropped\n",
      "Using data from preloaded Raw for 6 events and 1024 original time points ...\n",
      "0 bad epochs dropped\n",
      "Using data from preloaded Raw for 6 events and 1024 original time points ...\n",
      "0 bad epochs dropped\n",
      "Using data from preloaded Raw for 6 events and 1024 original time points ...\n",
      "0 bad epochs dropped\n",
      "Using data from preloaded Raw for 6 events and 1024 original time points ...\n",
      "0 bad epochs dropped\n",
      "Using data from preloaded Raw for 6 events and 1024 original time points ...\n",
      "0 bad epochs dropped\n",
      "Using data from preloaded Raw for 6 events and 1024 original time points ...\n",
      "0 bad epochs dropped\n",
      "Using data from preloaded Raw for 6 events and 1024 original time points ...\n",
      "0 bad epochs dropped\n",
      "Using data from preloaded Raw for 6 events and 1024 original time points ...\n",
      "0 bad epochs dropped\n",
      "Using data from preloaded Raw for 6 events and 1024 original time points ...\n",
      "0 bad epochs dropped\n",
      "Using data from preloaded Raw for 6 events and 1024 original time points ...\n",
      "0 bad epochs dropped\n",
      "Using data from preloaded Raw for 6 events and 1024 original time points ...\n",
      "0 bad epochs dropped\n",
      "Using data from preloaded Raw for 6 events and 1024 original time points ...\n",
      "0 bad epochs dropped\n",
      "Using data from preloaded Raw for 6 events and 1024 original time points ...\n",
      "0 bad epochs dropped\n",
      "Using data from preloaded Raw for 6 events and 1024 original time points ...\n",
      "0 bad epochs dropped\n",
      "Using data from preloaded Raw for 6 events and 1024 original time points ...\n",
      "0 bad epochs dropped\n",
      "Using data from preloaded Raw for 6 events and 1024 original time points ...\n",
      "0 bad epochs dropped\n",
      "Using data from preloaded Raw for 6 events and 1024 original time points ...\n",
      "0 bad epochs dropped\n",
      "Using data from preloaded Raw for 6 events and 1024 original time points ...\n",
      "0 bad epochs dropped\n",
      "Using data from preloaded Raw for 6 events and 1024 original time points ...\n",
      "0 bad epochs dropped\n",
      "Using data from preloaded Raw for 6 events and 1024 original time points ...\n",
      "0 bad epochs dropped\n",
      "Using data from preloaded Raw for 6 events and 1024 original time points ...\n",
      "0 bad epochs dropped\n",
      "Using data from preloaded Raw for 6 events and 1024 original time points ...\n",
      "0 bad epochs dropped\n",
      "Using data from preloaded Raw for 6 events and 1024 original time points ...\n",
      "0 bad epochs dropped\n",
      "Using data from preloaded Raw for 6 events and 1024 original time points ...\n",
      "0 bad epochs dropped\n",
      "Using data from preloaded Raw for 6 events and 1024 original time points ...\n",
      "0 bad epochs dropped\n",
      "Using data from preloaded Raw for 6 events and 1024 original time points ...\n",
      "0 bad epochs dropped\n",
      "Using data from preloaded Raw for 6 events and 1024 original time points ...\n",
      "0 bad epochs dropped\n",
      "Using data from preloaded Raw for 6 events and 1024 original time points ...\n",
      "0 bad epochs dropped\n",
      "Using data from preloaded Raw for 6 events and 1024 original time points ...\n",
      "0 bad epochs dropped\n",
      "Using data from preloaded Raw for 6 events and 1024 original time points ...\n",
      "0 bad epochs dropped\n",
      "Using data from preloaded Raw for 6 events and 1024 original time points ...\n",
      "0 bad epochs dropped\n",
      "Using data from preloaded Raw for 6 events and 1024 original time points ...\n",
      "0 bad epochs dropped\n",
      "Using data from preloaded Raw for 6 events and 1024 original time points ...\n",
      "0 bad epochs dropped\n",
      "Using data from preloaded Raw for 6 events and 1024 original time points ...\n",
      "0 bad epochs dropped\n",
      "Using data from preloaded Raw for 6 events and 1024 original time points ...\n",
      "0 bad epochs dropped\n",
      "Using data from preloaded Raw for 6 events and 1024 original time points ...\n",
      "0 bad epochs dropped\n",
      "Using data from preloaded Raw for 6 events and 1024 original time points ...\n",
      "0 bad epochs dropped\n",
      "Using data from preloaded Raw for 6 events and 1024 original time points ...\n",
      "0 bad epochs dropped\n",
      "Using data from preloaded Raw for 6 events and 1024 original time points ...\n",
      "0 bad epochs dropped\n",
      "Using data from preloaded Raw for 6 events and 1024 original time points ...\n",
      "0 bad epochs dropped\n",
      "Using data from preloaded Raw for 6 events and 1024 original time points ...\n",
      "0 bad epochs dropped\n",
      "Using data from preloaded Raw for 6 events and 1024 original time points ...\n",
      "0 bad epochs dropped\n",
      "Using data from preloaded Raw for 6 events and 1024 original time points ...\n",
      "0 bad epochs dropped\n",
      "Using data from preloaded Raw for 6 events and 1024 original time points ...\n",
      "0 bad epochs dropped\n",
      "Using data from preloaded Raw for 6 events and 1024 original time points ...\n",
      "0 bad epochs dropped\n",
      "Using data from preloaded Raw for 6 events and 1024 original time points ...\n",
      "0 bad epochs dropped\n",
      "Using data from preloaded Raw for 6 events and 1024 original time points ...\n",
      "0 bad epochs dropped\n",
      "Using data from preloaded Raw for 6 events and 1024 original time points ...\n",
      "0 bad epochs dropped\n",
      "Using data from preloaded Raw for 6 events and 1024 original time points ...\n",
      "0 bad epochs dropped\n",
      "Using data from preloaded Raw for 6 events and 1024 original time points ...\n",
      "0 bad epochs dropped\n",
      "Using data from preloaded Raw for 6 events and 1024 original time points ...\n",
      "0 bad epochs dropped\n",
      "Using data from preloaded Raw for 6 events and 1024 original time points ...\n",
      "0 bad epochs dropped\n",
      "Using data from preloaded Raw for 6 events and 1024 original time points ...\n",
      "0 bad epochs dropped\n",
      "Using data from preloaded Raw for 6 events and 1024 original time points ...\n",
      "0 bad epochs dropped\n",
      "Using data from preloaded Raw for 6 events and 1024 original time points ...\n",
      "0 bad epochs dropped\n",
      "Using data from preloaded Raw for 6 events and 1024 original time points ...\n",
      "0 bad epochs dropped\n",
      "Using data from preloaded Raw for 6 events and 1024 original time points ...\n",
      "0 bad epochs dropped\n",
      "Using data from preloaded Raw for 6 events and 1024 original time points ...\n",
      "0 bad epochs dropped\n",
      "Using data from preloaded Raw for 6 events and 1024 original time points ...\n",
      "0 bad epochs dropped\n",
      "Using data from preloaded Raw for 6 events and 1024 original time points ...\n",
      "0 bad epochs dropped\n",
      "Using data from preloaded Raw for 6 events and 1024 original time points ...\n",
      "0 bad epochs dropped\n",
      "Using data from preloaded Raw for 6 events and 1024 original time points ...\n",
      "0 bad epochs dropped\n",
      "Using data from preloaded Raw for 6 events and 1024 original time points ...\n",
      "0 bad epochs dropped\n",
      "Using data from preloaded Raw for 6 events and 1024 original time points ...\n",
      "Using data from preloaded Raw for 6 events and 1024 original time points ...\n",
      "Using data from preloaded Raw for 6 events and 1024 original time points ...\n",
      "Using data from preloaded Raw for 6 events and 1024 original time points ...\n",
      "Using data from preloaded Raw for 6 events and 1024 original time points ...\n",
      "Using data from preloaded Raw for 6 events and 1024 original time points ...\n",
      "Using data from preloaded Raw for 6 events and 1024 original time points ...\n",
      "Using data from preloaded Raw for 6 events and 1024 original time points ...\n",
      "Using data from preloaded Raw for 6 events and 1024 original time points ...\n",
      "Using data from preloaded Raw for 6 events and 1024 original time points ...\n",
      "Using data from preloaded Raw for 6 events and 1024 original time points ...\n",
      "Using data from preloaded Raw for 6 events and 1024 original time points ...\n",
      "Using data from preloaded Raw for 6 events and 1024 original time points ...\n",
      "Using data from preloaded Raw for 6 events and 1024 original time points ...\n",
      "Using data from preloaded Raw for 6 events and 1024 original time points ...\n",
      "Using data from preloaded Raw for 6 events and 1024 original time points ...\n",
      "Using data from preloaded Raw for 6 events and 1024 original time points ...\n",
      "Using data from preloaded Raw for 6 events and 1024 original time points ...\n",
      "Using data from preloaded Raw for 6 events and 1024 original time points ...\n",
      "Using data from preloaded Raw for 6 events and 1024 original time points ...\n",
      "Using data from preloaded Raw for 6 events and 1024 original time points ...\n",
      "Using data from preloaded Raw for 6 events and 1024 original time points ...\n",
      "Using data from preloaded Raw for 6 events and 1024 original time points ...\n",
      "Using data from preloaded Raw for 6 events and 1024 original time points ...\n",
      "Using data from preloaded Raw for 6 events and 1024 original time points ...\n",
      "Using data from preloaded Raw for 6 events and 1024 original time points ...\n",
      "Using data from preloaded Raw for 6 events and 1024 original time points ...\n",
      "Using data from preloaded Raw for 6 events and 1024 original time points ...\n",
      "Using data from preloaded Raw for 6 events and 1024 original time points ...\n",
      "Using data from preloaded Raw for 6 events and 1024 original time points ...\n",
      "Using data from preloaded Raw for 6 events and 1024 original time points ...\n",
      "Using data from preloaded Raw for 6 events and 1024 original time points ...\n",
      "Using data from preloaded Raw for 6 events and 1024 original time points ...\n",
      "Using data from preloaded Raw for 6 events and 1024 original time points ...\n",
      "Using data from preloaded Raw for 6 events and 1024 original time points ...\n",
      "Using data from preloaded Raw for 6 events and 1024 original time points ...\n",
      "Using data from preloaded Raw for 6 events and 1024 original time points ...\n",
      "Using data from preloaded Raw for 6 events and 1024 original time points ...\n",
      "Using data from preloaded Raw for 6 events and 1024 original time points ...\n",
      "Using data from preloaded Raw for 6 events and 1024 original time points ...\n",
      "Using data from preloaded Raw for 6 events and 1024 original time points ...\n",
      "Using data from preloaded Raw for 6 events and 1024 original time points ...\n",
      "Using data from preloaded Raw for 6 events and 1024 original time points ...\n",
      "Using data from preloaded Raw for 6 events and 1024 original time points ...\n",
      "Using data from preloaded Raw for 6 events and 1024 original time points ...\n",
      "Using data from preloaded Raw for 6 events and 1024 original time points ...\n",
      "Using data from preloaded Raw for 6 events and 1024 original time points ...\n",
      "Using data from preloaded Raw for 6 events and 1024 original time points ...\n",
      "Using data from preloaded Raw for 6 events and 1024 original time points ...\n",
      "Using data from preloaded Raw for 6 events and 1024 original time points ...\n",
      "Using data from preloaded Raw for 6 events and 1024 original time points ...\n",
      "Using data from preloaded Raw for 6 events and 1024 original time points ...\n",
      "Using data from preloaded Raw for 6 events and 1024 original time points ...\n",
      "Using data from preloaded Raw for 6 events and 1024 original time points ...\n",
      "Using data from preloaded Raw for 6 events and 1024 original time points ...\n",
      "Using data from preloaded Raw for 6 events and 1024 original time points ...\n",
      "Using data from preloaded Raw for 6 events and 1024 original time points ...\n",
      "Using data from preloaded Raw for 6 events and 1024 original time points ...\n",
      "Using data from preloaded Raw for 6 events and 1024 original time points ...\n",
      "Using data from preloaded Raw for 6 events and 1024 original time points ...\n",
      "Using data from preloaded Raw for 6 events and 1024 original time points ...\n",
      "Using data from preloaded Raw for 6 events and 1024 original time points ...\n",
      "Using data from preloaded Raw for 6 events and 1024 original time points ...\n",
      "Using data from preloaded Raw for 6 events and 1024 original time points ...\n",
      "Using data from preloaded Raw for 6 events and 1024 original time points ...\n",
      "Using data from preloaded Raw for 6 events and 1024 original time points ...\n",
      "Using data from preloaded Raw for 6 events and 1024 original time points ...\n",
      "Using data from preloaded Raw for 6 events and 1024 original time points ...\n",
      "Using data from preloaded Raw for 6 events and 1024 original time points ...\n",
      "Using data from preloaded Raw for 6 events and 1024 original time points ...\n",
      "Using data from preloaded Raw for 6 events and 1024 original time points ...\n",
      "Using data from preloaded Raw for 6 events and 1024 original time points ...\n",
      "Using data from preloaded Raw for 6 events and 1024 original time points ...\n",
      "Using data from preloaded Raw for 6 events and 1024 original time points ...\n",
      "Using data from preloaded Raw for 6 events and 1024 original time points ...\n",
      "Using data from preloaded Raw for 6 events and 1024 original time points ...\n",
      "Using data from preloaded Raw for 6 events and 1024 original time points ...\n",
      "Using data from preloaded Raw for 6 events and 1024 original time points ...\n",
      "Not setting metadata\n",
      "468 matching events found\n",
      "No baseline correction applied\n",
      "Getting epochs for filename data/dasps_raw_mat/S01.mat\n",
      "Not setting metadata\n",
      "2 matching events found\n",
      "No baseline correction applied\n",
      "0 projection items activated\n",
      "Creating RawArray with float64 data, n_channels=14, n_times=3840\n",
      "    Range : 0 ... 3839 =      0.000 ...    29.992 secs\n",
      "Ready.\n",
      "Not setting metadata\n",
      "6 matching events found\n",
      "No baseline correction applied\n",
      "0 projection items activated\n",
      "Getting epochs for filename data/dasps_raw_mat/S01.mat\n",
      "Not setting metadata\n",
      "2 matching events found\n",
      "No baseline correction applied\n",
      "0 projection items activated\n",
      "Creating RawArray with float64 data, n_channels=14, n_times=3840\n",
      "    Range : 0 ... 3839 =      0.000 ...    29.992 secs\n",
      "Ready.\n",
      "Not setting metadata\n",
      "6 matching events found\n",
      "No baseline correction applied\n",
      "0 projection items activated\n",
      "Getting epochs for filename data/dasps_raw_mat/S01.mat\n",
      "Not setting metadata\n",
      "2 matching events found\n",
      "No baseline correction applied\n",
      "0 projection items activated\n",
      "Creating RawArray with float64 data, n_channels=14, n_times=3840\n",
      "    Range : 0 ... 3839 =      0.000 ...    29.992 secs\n",
      "Ready.\n",
      "Not setting metadata\n",
      "6 matching events found\n",
      "No baseline correction applied\n",
      "0 projection items activated\n",
      "Getting epochs for filename data/dasps_raw_mat/S01.mat\n",
      "Not setting metadata\n",
      "2 matching events found\n",
      "No baseline correction applied\n",
      "0 projection items activated\n",
      "Creating RawArray with float64 data, n_channels=14, n_times=3840\n",
      "    Range : 0 ... 3839 =      0.000 ...    29.992 secs\n",
      "Ready.\n",
      "Not setting metadata\n",
      "6 matching events found\n",
      "No baseline correction applied\n",
      "0 projection items activated\n",
      "Getting epochs for filename data/dasps_raw_mat/S02.mat\n",
      "Not setting metadata\n",
      "2 matching events found\n",
      "No baseline correction applied\n",
      "0 projection items activated\n",
      "Creating RawArray with float64 data, n_channels=14, n_times=3840\n",
      "    Range : 0 ... 3839 =      0.000 ...    29.992 secs\n",
      "Ready.\n",
      "Not setting metadata\n",
      "6 matching events found\n",
      "No baseline correction applied\n",
      "0 projection items activated\n",
      "Getting epochs for filename data/dasps_raw_mat/S04.mat\n",
      "Not setting metadata\n",
      "2 matching events found\n",
      "No baseline correction applied\n",
      "0 projection items activated\n",
      "Creating RawArray with float64 data, n_channels=14, n_times=3840\n",
      "    Range : 0 ... 3839 =      0.000 ...    29.992 secs\n",
      "Ready.\n",
      "Not setting metadata\n",
      "6 matching events found\n",
      "No baseline correction applied\n",
      "0 projection items activated\n",
      "Getting epochs for filename data/dasps_raw_mat/S04.mat\n",
      "Not setting metadata\n",
      "2 matching events found\n",
      "No baseline correction applied\n",
      "0 projection items activated\n",
      "Creating RawArray with float64 data, n_channels=14, n_times=3840\n",
      "    Range : 0 ... 3839 =      0.000 ...    29.992 secs\n",
      "Ready.\n",
      "Not setting metadata\n",
      "6 matching events found\n",
      "No baseline correction applied\n",
      "0 projection items activated\n",
      "Getting epochs for filename data/dasps_raw_mat/S04.mat\n",
      "Not setting metadata\n",
      "2 matching events found\n",
      "No baseline correction applied\n",
      "0 projection items activated\n",
      "Creating RawArray with float64 data, n_channels=14, n_times=3840\n",
      "    Range : 0 ... 3839 =      0.000 ...    29.992 secs\n",
      "Ready.\n",
      "Not setting metadata\n",
      "6 matching events found\n",
      "No baseline correction applied\n",
      "0 projection items activated\n",
      "Getting epochs for filename data/dasps_raw_mat/S05.mat\n",
      "Not setting metadata\n",
      "2 matching events found\n",
      "No baseline correction applied\n",
      "0 projection items activated\n",
      "Creating RawArray with float64 data, n_channels=14, n_times=3840\n",
      "    Range : 0 ... 3839 =      0.000 ...    29.992 secs\n",
      "Ready.\n",
      "Not setting metadata\n",
      "6 matching events found\n",
      "No baseline correction applied\n",
      "0 projection items activated\n",
      "Getting epochs for filename data/dasps_raw_mat/S05.mat\n",
      "Not setting metadata\n",
      "2 matching events found\n",
      "No baseline correction applied\n",
      "0 projection items activated\n",
      "Creating RawArray with float64 data, n_channels=14, n_times=3840\n",
      "    Range : 0 ... 3839 =      0.000 ...    29.992 secs\n",
      "Ready.\n",
      "Not setting metadata\n",
      "6 matching events found\n",
      "No baseline correction applied\n",
      "0 projection items activated\n",
      "Getting epochs for filename data/dasps_raw_mat/S05.mat\n",
      "Not setting metadata\n",
      "2 matching events found\n",
      "No baseline correction applied\n",
      "0 projection items activated\n",
      "Creating RawArray with float64 data, n_channels=14, n_times=3840\n",
      "    Range : 0 ... 3839 =      0.000 ...    29.992 secs\n",
      "Ready.\n",
      "Not setting metadata\n",
      "6 matching events found\n",
      "No baseline correction applied\n",
      "0 projection items activated\n",
      "Getting epochs for filename data/dasps_raw_mat/S05.mat\n",
      "Not setting metadata\n",
      "2 matching events found\n",
      "No baseline correction applied\n",
      "0 projection items activated\n",
      "Creating RawArray with float64 data, n_channels=14, n_times=3840\n",
      "    Range : 0 ... 3839 =      0.000 ...    29.992 secs\n",
      "Ready.\n",
      "Not setting metadata\n",
      "6 matching events found\n",
      "No baseline correction applied\n",
      "0 projection items activated\n",
      "Getting epochs for filename data/dasps_raw_mat/S05.mat\n",
      "Not setting metadata\n",
      "2 matching events found\n",
      "No baseline correction applied\n",
      "0 projection items activated\n",
      "Creating RawArray with float64 data, n_channels=14, n_times=3840\n",
      "    Range : 0 ... 3839 =      0.000 ...    29.992 secs\n",
      "Ready.\n",
      "Not setting metadata\n",
      "6 matching events found\n",
      "No baseline correction applied\n",
      "0 projection items activated\n",
      "Getting epochs for filename data/dasps_raw_mat/S06.mat\n",
      "Not setting metadata\n",
      "2 matching events found\n",
      "No baseline correction applied\n",
      "0 projection items activated\n",
      "Creating RawArray with float64 data, n_channels=14, n_times=3840\n",
      "    Range : 0 ... 3839 =      0.000 ...    29.992 secs\n",
      "Ready.\n",
      "Not setting metadata\n",
      "6 matching events found\n",
      "No baseline correction applied\n",
      "0 projection items activated\n",
      "Getting epochs for filename data/dasps_raw_mat/S06.mat\n",
      "Not setting metadata\n",
      "2 matching events found\n",
      "No baseline correction applied\n",
      "0 projection items activated\n",
      "Creating RawArray with float64 data, n_channels=14, n_times=3840\n",
      "    Range : 0 ... 3839 =      0.000 ...    29.992 secs\n",
      "Ready.\n",
      "Not setting metadata\n",
      "6 matching events found\n",
      "No baseline correction applied\n",
      "0 projection items activated\n",
      "Getting epochs for filename data/dasps_raw_mat/S06.mat\n",
      "Not setting metadata\n",
      "2 matching events found\n",
      "No baseline correction applied\n",
      "0 projection items activated\n",
      "Creating RawArray with float64 data, n_channels=14, n_times=3840\n",
      "    Range : 0 ... 3839 =      0.000 ...    29.992 secs\n",
      "Ready.\n",
      "Not setting metadata\n",
      "6 matching events found\n",
      "No baseline correction applied\n",
      "0 projection items activated\n",
      "Getting epochs for filename data/dasps_raw_mat/S07.mat\n",
      "Not setting metadata\n",
      "2 matching events found\n",
      "No baseline correction applied\n",
      "0 projection items activated\n",
      "Creating RawArray with float64 data, n_channels=14, n_times=3840\n",
      "    Range : 0 ... 3839 =      0.000 ...    29.992 secs\n",
      "Ready.\n",
      "Not setting metadata\n",
      "6 matching events found\n",
      "No baseline correction applied\n",
      "0 projection items activated\n",
      "Getting epochs for filename data/dasps_raw_mat/S07.mat\n",
      "Not setting metadata\n",
      "2 matching events found\n",
      "No baseline correction applied\n",
      "0 projection items activated\n",
      "Creating RawArray with float64 data, n_channels=14, n_times=3840\n",
      "    Range : 0 ... 3839 =      0.000 ...    29.992 secs\n",
      "Ready.\n",
      "Not setting metadata\n",
      "6 matching events found\n",
      "No baseline correction applied\n",
      "0 projection items activated\n",
      "Getting epochs for filename data/dasps_raw_mat/S07.mat\n",
      "Not setting metadata\n",
      "2 matching events found\n",
      "No baseline correction applied\n",
      "0 projection items activated\n",
      "Creating RawArray with float64 data, n_channels=14, n_times=3840\n",
      "    Range : 0 ... 3839 =      0.000 ...    29.992 secs\n",
      "Ready.\n",
      "Not setting metadata\n",
      "6 matching events found\n",
      "No baseline correction applied\n",
      "0 projection items activated\n",
      "Getting epochs for filename data/dasps_raw_mat/S08.mat\n",
      "Not setting metadata\n",
      "2 matching events found\n",
      "No baseline correction applied\n",
      "0 projection items activated\n",
      "Creating RawArray with float64 data, n_channels=14, n_times=3840\n",
      "    Range : 0 ... 3839 =      0.000 ...    29.992 secs\n",
      "Ready.\n",
      "Not setting metadata\n",
      "6 matching events found\n",
      "No baseline correction applied\n",
      "0 projection items activated\n",
      "Getting epochs for filename data/dasps_raw_mat/S09.mat\n",
      "Not setting metadata\n",
      "2 matching events found\n",
      "No baseline correction applied\n",
      "0 projection items activated\n",
      "Creating RawArray with float64 data, n_channels=14, n_times=3840\n",
      "    Range : 0 ... 3839 =      0.000 ...    29.992 secs\n",
      "Ready.\n",
      "Not setting metadata\n",
      "6 matching events found\n",
      "No baseline correction applied\n",
      "0 projection items activated\n",
      "Getting epochs for filename data/dasps_raw_mat/S09.mat\n",
      "Not setting metadata\n",
      "2 matching events found\n",
      "No baseline correction applied\n",
      "0 projection items activated\n",
      "Creating RawArray with float64 data, n_channels=14, n_times=3840\n",
      "    Range : 0 ... 3839 =      0.000 ...    29.992 secs\n",
      "Ready.\n",
      "Not setting metadata\n",
      "6 matching events found\n",
      "No baseline correction applied\n",
      "0 projection items activated\n",
      "Getting epochs for filename data/dasps_raw_mat/S09.mat\n",
      "Not setting metadata\n",
      "2 matching events found\n",
      "No baseline correction applied\n",
      "0 projection items activated\n",
      "Creating RawArray with float64 data, n_channels=14, n_times=3840\n",
      "    Range : 0 ... 3839 =      0.000 ...    29.992 secs\n",
      "Ready.\n",
      "Not setting metadata\n",
      "6 matching events found\n",
      "No baseline correction applied\n",
      "0 projection items activated\n",
      "Getting epochs for filename data/dasps_raw_mat/S11.mat\n",
      "Not setting metadata\n",
      "2 matching events found\n",
      "No baseline correction applied\n",
      "0 projection items activated\n",
      "Creating RawArray with float64 data, n_channels=14, n_times=3840\n",
      "    Range : 0 ... 3839 =      0.000 ...    29.992 secs\n",
      "Ready.\n",
      "Not setting metadata\n",
      "6 matching events found\n",
      "No baseline correction applied\n",
      "0 projection items activated\n",
      "Getting epochs for filename data/dasps_raw_mat/S12.mat\n",
      "Not setting metadata\n",
      "2 matching events found\n",
      "No baseline correction applied\n",
      "0 projection items activated\n",
      "Creating RawArray with float64 data, n_channels=14, n_times=3840\n",
      "    Range : 0 ... 3839 =      0.000 ...    29.992 secs\n",
      "Ready.\n",
      "Not setting metadata\n",
      "6 matching events found\n",
      "No baseline correction applied\n",
      "0 projection items activated\n",
      "Getting epochs for filename data/dasps_raw_mat/S13.mat\n",
      "Not setting metadata\n",
      "2 matching events found\n",
      "No baseline correction applied\n",
      "0 projection items activated\n",
      "Creating RawArray with float64 data, n_channels=14, n_times=3840\n",
      "    Range : 0 ... 3839 =      0.000 ...    29.992 secs\n",
      "Ready.\n",
      "Not setting metadata\n",
      "6 matching events found\n",
      "No baseline correction applied\n",
      "0 projection items activated\n",
      "Getting epochs for filename data/dasps_raw_mat/S14.mat\n",
      "Not setting metadata\n",
      "2 matching events found\n",
      "No baseline correction applied\n",
      "0 projection items activated\n",
      "Creating RawArray with float64 data, n_channels=14, n_times=3840\n",
      "    Range : 0 ... 3839 =      0.000 ...    29.992 secs\n",
      "Ready.\n",
      "Not setting metadata\n",
      "6 matching events found\n",
      "No baseline correction applied\n",
      "0 projection items activated\n",
      "Getting epochs for filename data/dasps_raw_mat/S15.mat\n",
      "Not setting metadata\n",
      "2 matching events found\n",
      "No baseline correction applied\n",
      "0 projection items activated\n",
      "Creating RawArray with float64 data, n_channels=14, n_times=3840\n",
      "    Range : 0 ... 3839 =      0.000 ...    29.992 secs\n",
      "Ready.\n",
      "Not setting metadata\n",
      "6 matching events found\n",
      "No baseline correction applied\n",
      "0 projection items activated\n",
      "Getting epochs for filename data/dasps_raw_mat/S16.mat\n",
      "Not setting metadata\n",
      "2 matching events found\n",
      "No baseline correction applied\n",
      "0 projection items activated\n",
      "Creating RawArray with float64 data, n_channels=14, n_times=3840\n",
      "    Range : 0 ... 3839 =      0.000 ...    29.992 secs\n",
      "Ready.\n",
      "Not setting metadata\n",
      "6 matching events found\n",
      "No baseline correction applied\n",
      "0 projection items activated\n",
      "Getting epochs for filename data/dasps_raw_mat/S16.mat\n",
      "Not setting metadata\n",
      "2 matching events found\n",
      "No baseline correction applied\n",
      "0 projection items activated\n",
      "Creating RawArray with float64 data, n_channels=14, n_times=3840\n",
      "    Range : 0 ... 3839 =      0.000 ...    29.992 secs\n",
      "Ready.\n",
      "Not setting metadata\n",
      "6 matching events found\n",
      "No baseline correction applied\n",
      "0 projection items activated\n",
      "Getting epochs for filename data/dasps_raw_mat/S17.mat\n",
      "Not setting metadata\n",
      "2 matching events found\n",
      "No baseline correction applied\n",
      "0 projection items activated\n",
      "Creating RawArray with float64 data, n_channels=14, n_times=3840\n",
      "    Range : 0 ... 3839 =      0.000 ...    29.992 secs\n",
      "Ready.\n",
      "Not setting metadata\n",
      "6 matching events found\n",
      "No baseline correction applied\n",
      "0 projection items activated\n",
      "Getting epochs for filename data/dasps_raw_mat/S17.mat\n",
      "Not setting metadata\n",
      "2 matching events found\n",
      "No baseline correction applied\n",
      "0 projection items activated\n",
      "Creating RawArray with float64 data, n_channels=14, n_times=3840\n",
      "    Range : 0 ... 3839 =      0.000 ...    29.992 secs\n",
      "Ready.\n",
      "Not setting metadata\n",
      "6 matching events found\n",
      "No baseline correction applied\n",
      "0 projection items activated\n",
      "Getting epochs for filename data/dasps_raw_mat/S17.mat\n",
      "Not setting metadata\n",
      "2 matching events found\n",
      "No baseline correction applied\n",
      "0 projection items activated\n",
      "Creating RawArray with float64 data, n_channels=14, n_times=3840\n",
      "    Range : 0 ... 3839 =      0.000 ...    29.992 secs\n",
      "Ready.\n",
      "Not setting metadata\n",
      "6 matching events found\n",
      "No baseline correction applied\n",
      "0 projection items activated\n",
      "Getting epochs for filename data/dasps_raw_mat/S17.mat\n",
      "Not setting metadata\n",
      "2 matching events found\n",
      "No baseline correction applied\n",
      "0 projection items activated\n",
      "Creating RawArray with float64 data, n_channels=14, n_times=3840\n",
      "    Range : 0 ... 3839 =      0.000 ...    29.992 secs\n",
      "Ready.\n",
      "Not setting metadata\n",
      "6 matching events found\n",
      "No baseline correction applied\n",
      "0 projection items activated\n",
      "Getting epochs for filename data/dasps_raw_mat/S18.mat\n",
      "Not setting metadata\n",
      "2 matching events found\n",
      "No baseline correction applied\n",
      "0 projection items activated\n",
      "Creating RawArray with float64 data, n_channels=14, n_times=3840\n",
      "    Range : 0 ... 3839 =      0.000 ...    29.992 secs\n",
      "Ready.\n",
      "Not setting metadata\n",
      "6 matching events found\n",
      "No baseline correction applied\n",
      "0 projection items activated\n",
      "Getting epochs for filename data/dasps_raw_mat/S18.mat\n",
      "Not setting metadata\n",
      "2 matching events found\n",
      "No baseline correction applied\n",
      "0 projection items activated\n",
      "Creating RawArray with float64 data, n_channels=14, n_times=3840\n",
      "    Range : 0 ... 3839 =      0.000 ...    29.992 secs\n",
      "Ready.\n",
      "Not setting metadata\n",
      "6 matching events found\n",
      "No baseline correction applied\n",
      "0 projection items activated\n",
      "Getting epochs for filename data/dasps_raw_mat/S19.mat\n",
      "Not setting metadata\n",
      "2 matching events found\n",
      "No baseline correction applied\n",
      "0 projection items activated\n",
      "Creating RawArray with float64 data, n_channels=14, n_times=3840\n",
      "    Range : 0 ... 3839 =      0.000 ...    29.992 secs\n",
      "Ready.\n",
      "Not setting metadata\n",
      "6 matching events found\n",
      "No baseline correction applied\n",
      "0 projection items activated\n",
      "Getting epochs for filename data/dasps_raw_mat/S19.mat\n",
      "Not setting metadata\n",
      "2 matching events found\n",
      "No baseline correction applied\n",
      "0 projection items activated\n",
      "Creating RawArray with float64 data, n_channels=14, n_times=3840\n",
      "    Range : 0 ... 3839 =      0.000 ...    29.992 secs\n",
      "Ready.\n",
      "Not setting metadata\n",
      "6 matching events found\n",
      "No baseline correction applied\n",
      "0 projection items activated\n",
      "Getting epochs for filename data/dasps_raw_mat/S19.mat\n",
      "Not setting metadata\n",
      "2 matching events found\n",
      "No baseline correction applied\n",
      "0 projection items activated\n",
      "Creating RawArray with float64 data, n_channels=14, n_times=3840\n",
      "    Range : 0 ... 3839 =      0.000 ...    29.992 secs\n",
      "Ready.\n",
      "Not setting metadata\n",
      "6 matching events found\n",
      "No baseline correction applied\n",
      "0 projection items activated\n",
      "Getting epochs for filename data/dasps_raw_mat/S19.mat\n",
      "Not setting metadata\n",
      "2 matching events found\n",
      "No baseline correction applied\n",
      "0 projection items activated\n",
      "Creating RawArray with float64 data, n_channels=14, n_times=3840\n",
      "    Range : 0 ... 3839 =      0.000 ...    29.992 secs\n",
      "Ready.\n",
      "Not setting metadata\n",
      "6 matching events found\n",
      "No baseline correction applied\n",
      "0 projection items activated\n",
      "Getting epochs for filename data/dasps_raw_mat/S20.mat\n",
      "Not setting metadata\n",
      "2 matching events found\n",
      "No baseline correction applied\n",
      "0 projection items activated\n",
      "Creating RawArray with float64 data, n_channels=14, n_times=3840\n",
      "    Range : 0 ... 3839 =      0.000 ...    29.992 secs\n",
      "Ready.\n",
      "Not setting metadata\n",
      "6 matching events found\n",
      "No baseline correction applied\n",
      "0 projection items activated\n",
      "Getting epochs for filename data/dasps_raw_mat/S20.mat\n",
      "Not setting metadata\n",
      "2 matching events found\n",
      "No baseline correction applied\n",
      "0 projection items activated\n",
      "Creating RawArray with float64 data, n_channels=14, n_times=3840\n",
      "    Range : 0 ... 3839 =      0.000 ...    29.992 secs\n",
      "Ready.\n",
      "Not setting metadata\n",
      "6 matching events found\n",
      "No baseline correction applied\n",
      "0 projection items activated\n",
      "Getting epochs for filename data/dasps_raw_mat/S20.mat\n",
      "Not setting metadata\n",
      "2 matching events found\n",
      "No baseline correction applied\n",
      "0 projection items activated\n",
      "Creating RawArray with float64 data, n_channels=14, n_times=3840\n",
      "    Range : 0 ... 3839 =      0.000 ...    29.992 secs\n",
      "Ready.\n",
      "Not setting metadata\n",
      "6 matching events found\n",
      "No baseline correction applied\n",
      "0 projection items activated\n",
      "Getting epochs for filename data/dasps_raw_mat/S21.mat\n",
      "Not setting metadata\n",
      "2 matching events found\n",
      "No baseline correction applied\n",
      "0 projection items activated\n",
      "Creating RawArray with float64 data, n_channels=14, n_times=3840\n",
      "    Range : 0 ... 3839 =      0.000 ...    29.992 secs\n",
      "Ready.\n",
      "Not setting metadata\n",
      "6 matching events found\n",
      "No baseline correction applied\n",
      "0 projection items activated\n",
      "Getting epochs for filename data/dasps_raw_mat/S21.mat\n",
      "Not setting metadata\n",
      "2 matching events found\n",
      "No baseline correction applied\n",
      "0 projection items activated\n",
      "Creating RawArray with float64 data, n_channels=14, n_times=3840\n",
      "    Range : 0 ... 3839 =      0.000 ...    29.992 secs\n",
      "Ready.\n",
      "Not setting metadata\n",
      "6 matching events found\n",
      "No baseline correction applied\n",
      "0 projection items activated\n",
      "Getting epochs for filename data/dasps_raw_mat/S21.mat\n",
      "Not setting metadata\n",
      "2 matching events found\n",
      "No baseline correction applied\n",
      "0 projection items activated\n",
      "Creating RawArray with float64 data, n_channels=14, n_times=3840\n",
      "    Range : 0 ... 3839 =      0.000 ...    29.992 secs\n",
      "Ready.\n",
      "Not setting metadata\n",
      "6 matching events found\n",
      "No baseline correction applied\n",
      "0 projection items activated\n",
      "Getting epochs for filename data/dasps_raw_mat/S22.mat\n",
      "Not setting metadata\n",
      "2 matching events found\n",
      "No baseline correction applied\n",
      "0 projection items activated\n",
      "Creating RawArray with float64 data, n_channels=14, n_times=3840\n",
      "    Range : 0 ... 3839 =      0.000 ...    29.992 secs\n",
      "Ready.\n",
      "Not setting metadata\n",
      "6 matching events found\n",
      "No baseline correction applied\n",
      "0 projection items activated\n",
      "Getting epochs for filename data/dasps_raw_mat/S22.mat\n",
      "Not setting metadata\n",
      "2 matching events found\n",
      "No baseline correction applied\n",
      "0 projection items activated\n",
      "Creating RawArray with float64 data, n_channels=14, n_times=3840\n",
      "    Range : 0 ... 3839 =      0.000 ...    29.992 secs\n",
      "Ready.\n",
      "Not setting metadata\n",
      "6 matching events found\n",
      "No baseline correction applied\n",
      "0 projection items activated\n",
      "Getting epochs for filename data/dasps_raw_mat/S23.mat\n",
      "Not setting metadata\n",
      "2 matching events found\n",
      "No baseline correction applied\n",
      "0 projection items activated\n",
      "Creating RawArray with float64 data, n_channels=14, n_times=3840\n",
      "    Range : 0 ... 3839 =      0.000 ...    29.992 secs\n",
      "Ready.\n",
      "Not setting metadata\n",
      "6 matching events found\n",
      "No baseline correction applied\n",
      "0 projection items activated\n",
      "Getting epochs for filename data/dasps_raw_mat/S23.mat\n",
      "Not setting metadata\n",
      "2 matching events found\n",
      "No baseline correction applied\n",
      "0 projection items activated\n",
      "Creating RawArray with float64 data, n_channels=14, n_times=3840\n",
      "    Range : 0 ... 3839 =      0.000 ...    29.992 secs\n",
      "Ready.\n",
      "Not setting metadata\n",
      "6 matching events found\n",
      "No baseline correction applied\n",
      "0 projection items activated\n",
      "Using data from preloaded Raw for 6 events and 1024 original time points ...\n",
      "0 bad epochs dropped\n",
      "Using data from preloaded Raw for 6 events and 1024 original time points ...\n",
      "0 bad epochs dropped\n",
      "Using data from preloaded Raw for 6 events and 1024 original time points ...\n",
      "0 bad epochs dropped\n",
      "Using data from preloaded Raw for 6 events and 1024 original time points ...\n",
      "0 bad epochs dropped\n",
      "Using data from preloaded Raw for 6 events and 1024 original time points ...\n",
      "0 bad epochs dropped\n",
      "Using data from preloaded Raw for 6 events and 1024 original time points ...\n",
      "0 bad epochs dropped\n",
      "Using data from preloaded Raw for 6 events and 1024 original time points ...\n",
      "0 bad epochs dropped\n",
      "Using data from preloaded Raw for 6 events and 1024 original time points ...\n",
      "0 bad epochs dropped\n",
      "Using data from preloaded Raw for 6 events and 1024 original time points ...\n",
      "0 bad epochs dropped\n",
      "Using data from preloaded Raw for 6 events and 1024 original time points ...\n",
      "0 bad epochs dropped\n",
      "Using data from preloaded Raw for 6 events and 1024 original time points ...\n",
      "0 bad epochs dropped\n",
      "Using data from preloaded Raw for 6 events and 1024 original time points ...\n",
      "0 bad epochs dropped\n",
      "Using data from preloaded Raw for 6 events and 1024 original time points ...\n",
      "0 bad epochs dropped\n",
      "Using data from preloaded Raw for 6 events and 1024 original time points ...\n",
      "0 bad epochs dropped\n",
      "Using data from preloaded Raw for 6 events and 1024 original time points ...\n",
      "0 bad epochs dropped\n",
      "Using data from preloaded Raw for 6 events and 1024 original time points ...\n",
      "0 bad epochs dropped\n",
      "Using data from preloaded Raw for 6 events and 1024 original time points ...\n",
      "0 bad epochs dropped\n",
      "Using data from preloaded Raw for 6 events and 1024 original time points ...\n",
      "0 bad epochs dropped\n",
      "Using data from preloaded Raw for 6 events and 1024 original time points ...\n",
      "0 bad epochs dropped\n",
      "Using data from preloaded Raw for 6 events and 1024 original time points ...\n",
      "0 bad epochs dropped\n",
      "Using data from preloaded Raw for 6 events and 1024 original time points ...\n",
      "0 bad epochs dropped\n",
      "Using data from preloaded Raw for 6 events and 1024 original time points ...\n",
      "0 bad epochs dropped\n",
      "Using data from preloaded Raw for 6 events and 1024 original time points ...\n",
      "0 bad epochs dropped\n",
      "Using data from preloaded Raw for 6 events and 1024 original time points ...\n",
      "0 bad epochs dropped\n",
      "Using data from preloaded Raw for 6 events and 1024 original time points ...\n",
      "0 bad epochs dropped\n",
      "Using data from preloaded Raw for 6 events and 1024 original time points ...\n",
      "0 bad epochs dropped\n",
      "Using data from preloaded Raw for 6 events and 1024 original time points ...\n",
      "0 bad epochs dropped\n",
      "Using data from preloaded Raw for 6 events and 1024 original time points ...\n",
      "0 bad epochs dropped\n",
      "Using data from preloaded Raw for 6 events and 1024 original time points ...\n",
      "0 bad epochs dropped\n",
      "Using data from preloaded Raw for 6 events and 1024 original time points ...\n",
      "0 bad epochs dropped\n",
      "Using data from preloaded Raw for 6 events and 1024 original time points ...\n",
      "0 bad epochs dropped\n",
      "Using data from preloaded Raw for 6 events and 1024 original time points ...\n",
      "0 bad epochs dropped\n",
      "Using data from preloaded Raw for 6 events and 1024 original time points ...\n",
      "0 bad epochs dropped\n",
      "Using data from preloaded Raw for 6 events and 1024 original time points ...\n",
      "0 bad epochs dropped\n",
      "Using data from preloaded Raw for 6 events and 1024 original time points ...\n",
      "0 bad epochs dropped\n",
      "Using data from preloaded Raw for 6 events and 1024 original time points ...\n",
      "0 bad epochs dropped\n",
      "Using data from preloaded Raw for 6 events and 1024 original time points ...\n",
      "0 bad epochs dropped\n",
      "Using data from preloaded Raw for 6 events and 1024 original time points ...\n",
      "0 bad epochs dropped\n",
      "Using data from preloaded Raw for 6 events and 1024 original time points ...\n",
      "0 bad epochs dropped\n",
      "Using data from preloaded Raw for 6 events and 1024 original time points ...\n",
      "0 bad epochs dropped\n",
      "Using data from preloaded Raw for 6 events and 1024 original time points ...\n",
      "0 bad epochs dropped\n",
      "Using data from preloaded Raw for 6 events and 1024 original time points ...\n",
      "0 bad epochs dropped\n",
      "Using data from preloaded Raw for 6 events and 1024 original time points ...\n",
      "0 bad epochs dropped\n",
      "Using data from preloaded Raw for 6 events and 1024 original time points ...\n",
      "0 bad epochs dropped\n",
      "Using data from preloaded Raw for 6 events and 1024 original time points ...\n",
      "0 bad epochs dropped\n",
      "Using data from preloaded Raw for 6 events and 1024 original time points ...\n",
      "0 bad epochs dropped\n",
      "Using data from preloaded Raw for 6 events and 1024 original time points ...\n",
      "0 bad epochs dropped\n",
      "Using data from preloaded Raw for 6 events and 1024 original time points ...\n",
      "0 bad epochs dropped\n",
      "Using data from preloaded Raw for 6 events and 1024 original time points ...\n",
      "0 bad epochs dropped\n",
      "Using data from preloaded Raw for 6 events and 1024 original time points ...\n",
      "0 bad epochs dropped\n",
      "Using data from preloaded Raw for 6 events and 1024 original time points ...\n",
      "Using data from preloaded Raw for 6 events and 1024 original time points ...\n",
      "Using data from preloaded Raw for 6 events and 1024 original time points ...\n",
      "Using data from preloaded Raw for 6 events and 1024 original time points ...\n",
      "Using data from preloaded Raw for 6 events and 1024 original time points ...\n",
      "Using data from preloaded Raw for 6 events and 1024 original time points ...\n",
      "Using data from preloaded Raw for 6 events and 1024 original time points ...\n",
      "Using data from preloaded Raw for 6 events and 1024 original time points ...\n",
      "Using data from preloaded Raw for 6 events and 1024 original time points ...\n",
      "Using data from preloaded Raw for 6 events and 1024 original time points ...\n",
      "Using data from preloaded Raw for 6 events and 1024 original time points ...\n",
      "Using data from preloaded Raw for 6 events and 1024 original time points ...\n",
      "Using data from preloaded Raw for 6 events and 1024 original time points ...\n",
      "Using data from preloaded Raw for 6 events and 1024 original time points ...\n",
      "Using data from preloaded Raw for 6 events and 1024 original time points ...\n",
      "Using data from preloaded Raw for 6 events and 1024 original time points ...\n",
      "Using data from preloaded Raw for 6 events and 1024 original time points ...\n",
      "Using data from preloaded Raw for 6 events and 1024 original time points ...\n",
      "Using data from preloaded Raw for 6 events and 1024 original time points ...\n",
      "Using data from preloaded Raw for 6 events and 1024 original time points ...\n",
      "Using data from preloaded Raw for 6 events and 1024 original time points ...\n",
      "Using data from preloaded Raw for 6 events and 1024 original time points ...\n",
      "Using data from preloaded Raw for 6 events and 1024 original time points ...\n",
      "Using data from preloaded Raw for 6 events and 1024 original time points ...\n",
      "Using data from preloaded Raw for 6 events and 1024 original time points ...\n",
      "Using data from preloaded Raw for 6 events and 1024 original time points ...\n",
      "Using data from preloaded Raw for 6 events and 1024 original time points ...\n",
      "Using data from preloaded Raw for 6 events and 1024 original time points ...\n",
      "Using data from preloaded Raw for 6 events and 1024 original time points ...\n",
      "Using data from preloaded Raw for 6 events and 1024 original time points ...\n",
      "Using data from preloaded Raw for 6 events and 1024 original time points ...\n",
      "Using data from preloaded Raw for 6 events and 1024 original time points ...\n",
      "Using data from preloaded Raw for 6 events and 1024 original time points ...\n",
      "Using data from preloaded Raw for 6 events and 1024 original time points ...\n",
      "Using data from preloaded Raw for 6 events and 1024 original time points ...\n",
      "Using data from preloaded Raw for 6 events and 1024 original time points ...\n",
      "Using data from preloaded Raw for 6 events and 1024 original time points ...\n",
      "Using data from preloaded Raw for 6 events and 1024 original time points ...\n",
      "Using data from preloaded Raw for 6 events and 1024 original time points ...\n",
      "Using data from preloaded Raw for 6 events and 1024 original time points ...\n",
      "Using data from preloaded Raw for 6 events and 1024 original time points ...\n",
      "Using data from preloaded Raw for 6 events and 1024 original time points ...\n",
      "Using data from preloaded Raw for 6 events and 1024 original time points ...\n",
      "Using data from preloaded Raw for 6 events and 1024 original time points ...\n",
      "Using data from preloaded Raw for 6 events and 1024 original time points ...\n",
      "Using data from preloaded Raw for 6 events and 1024 original time points ...\n",
      "Using data from preloaded Raw for 6 events and 1024 original time points ...\n",
      "Using data from preloaded Raw for 6 events and 1024 original time points ...\n",
      "Using data from preloaded Raw for 6 events and 1024 original time points ...\n",
      "Using data from preloaded Raw for 6 events and 1024 original time points ...\n",
      "Not setting metadata\n",
      "300 matching events found\n",
      "No baseline correction applied\n"
     ]
    }
   ],
   "source": [
    "dataset = CustomDataset(DaspsPreprocessor.get_trials(duration=8))"
   ]
  },
  {
   "cell_type": "code",
   "execution_count": 49,
   "metadata": {},
   "outputs": [
    {
     "name": "stdout",
     "output_type": "stream",
     "text": [
      "Computing features for trial:  0\n",
      "[ 4  8 10 13 30 45]\n",
      "(6,)\n",
      "[ 4  8 10 13 30 45]\n",
      "(6,)\n",
      "only using indices for lower-triangular matrix\n",
      "Connectivity computation...\n",
      "   Processing epoch 1 / 1 ...\n"
     ]
    },
    {
     "name": "stderr",
     "output_type": "stream",
     "text": [
      "/Users/jakubblaha/Documents/thesis/thesis-python/common.py:114: RuntimeWarning: There were no Annotations stored in <EpochsArray | 1 events (all good), 0 – 7.992 s (baseline off), ~134 kB, data loaded,\n",
      " '1': 1>, so metadata was not modified.\n",
      "  res = mne_connectivity.spectral_connectivity_time(\n"
     ]
    },
    {
     "name": "stdout",
     "output_type": "stream",
     "text": [
      "[Connectivity computation done]\n",
      "Computing features for trial:  1\n",
      "[ 4  8 10 13 30 45]\n",
      "(6,)\n",
      "[ 4  8 10 13 30 45]\n",
      "(6,)\n",
      "only using indices for lower-triangular matrix\n",
      "Connectivity computation...\n",
      "   Processing epoch 1 / 1 ...\n"
     ]
    },
    {
     "name": "stderr",
     "output_type": "stream",
     "text": [
      "/Users/jakubblaha/Documents/thesis/thesis-python/common.py:114: RuntimeWarning: There were no Annotations stored in <EpochsArray | 1 events (all good), 0 – 7.992 s (baseline off), ~134 kB, data loaded,\n",
      " '1': 1>, so metadata was not modified.\n",
      "  res = mne_connectivity.spectral_connectivity_time(\n"
     ]
    },
    {
     "name": "stdout",
     "output_type": "stream",
     "text": [
      "[Connectivity computation done]\n",
      "Computing features for trial:  2\n",
      "[ 4  8 10 13 30 45]\n",
      "(6,)\n",
      "[ 4  8 10 13 30 45]\n",
      "(6,)\n",
      "only using indices for lower-triangular matrix\n",
      "Connectivity computation...\n",
      "   Processing epoch 1 / 1 ...\n",
      "[Connectivity computation done]\n"
     ]
    },
    {
     "name": "stderr",
     "output_type": "stream",
     "text": [
      "/Users/jakubblaha/Documents/thesis/thesis-python/common.py:114: RuntimeWarning: There were no Annotations stored in <EpochsArray | 1 events (all good), 0 – 7.992 s (baseline off), ~134 kB, data loaded,\n",
      " '1': 1>, so metadata was not modified.\n",
      "  res = mne_connectivity.spectral_connectivity_time(\n"
     ]
    },
    {
     "name": "stdout",
     "output_type": "stream",
     "text": [
      "Computing features for trial:  3\n",
      "[ 4  8 10 13 30 45]\n",
      "(6,)\n",
      "[ 4  8 10 13 30 45]\n",
      "(6,)\n",
      "only using indices for lower-triangular matrix\n",
      "Connectivity computation...\n",
      "   Processing epoch 1 / 1 ...\n",
      "[Connectivity computation done]\n",
      "Computing features for trial:  4\n"
     ]
    },
    {
     "name": "stderr",
     "output_type": "stream",
     "text": [
      "/Users/jakubblaha/Documents/thesis/thesis-python/common.py:114: RuntimeWarning: There were no Annotations stored in <EpochsArray | 1 events (all good), 0 – 7.992 s (baseline off), ~134 kB, data loaded,\n",
      " '1': 1>, so metadata was not modified.\n",
      "  res = mne_connectivity.spectral_connectivity_time(\n"
     ]
    },
    {
     "name": "stdout",
     "output_type": "stream",
     "text": [
      "[ 4  8 10 13 30 45]\n",
      "(6,)\n",
      "[ 4  8 10 13 30 45]\n",
      "(6,)\n",
      "only using indices for lower-triangular matrix\n",
      "Connectivity computation...\n",
      "   Processing epoch 1 / 1 ...\n",
      "[Connectivity computation done]\n"
     ]
    },
    {
     "name": "stderr",
     "output_type": "stream",
     "text": [
      "/Users/jakubblaha/Documents/thesis/thesis-python/common.py:114: RuntimeWarning: There were no Annotations stored in <EpochsArray | 1 events (all good), 0 – 7.992 s (baseline off), ~134 kB, data loaded,\n",
      " '1': 1>, so metadata was not modified.\n",
      "  res = mne_connectivity.spectral_connectivity_time(\n"
     ]
    },
    {
     "name": "stdout",
     "output_type": "stream",
     "text": [
      "Computing features for trial:  5\n",
      "[ 4  8 10 13 30 45]\n",
      "(6,)\n",
      "[ 4  8 10 13 30 45]\n",
      "(6,)\n",
      "only using indices for lower-triangular matrix\n",
      "Connectivity computation...\n",
      "   Processing epoch 1 / 1 ...\n",
      "[Connectivity computation done]\n",
      "Computing features for trial:  6\n"
     ]
    },
    {
     "name": "stderr",
     "output_type": "stream",
     "text": [
      "/Users/jakubblaha/Documents/thesis/thesis-python/common.py:114: RuntimeWarning: There were no Annotations stored in <EpochsArray | 1 events (all good), 0 – 7.992 s (baseline off), ~134 kB, data loaded,\n",
      " '1': 1>, so metadata was not modified.\n",
      "  res = mne_connectivity.spectral_connectivity_time(\n"
     ]
    },
    {
     "name": "stdout",
     "output_type": "stream",
     "text": [
      "[ 4  8 10 13 30 45]\n",
      "(6,)\n",
      "[ 4  8 10 13 30 45]\n",
      "(6,)\n",
      "only using indices for lower-triangular matrix\n",
      "Connectivity computation...\n",
      "   Processing epoch 1 / 1 ...\n"
     ]
    },
    {
     "name": "stderr",
     "output_type": "stream",
     "text": [
      "/Users/jakubblaha/Documents/thesis/thesis-python/common.py:114: RuntimeWarning: There were no Annotations stored in <EpochsArray | 1 events (all good), 0 – 7.992 s (baseline off), ~134 kB, data loaded,\n",
      " '1': 1>, so metadata was not modified.\n",
      "  res = mne_connectivity.spectral_connectivity_time(\n"
     ]
    },
    {
     "name": "stdout",
     "output_type": "stream",
     "text": [
      "[Connectivity computation done]\n",
      "Computing features for trial:  7\n",
      "[ 4  8 10 13 30 45]\n",
      "(6,)\n",
      "[ 4  8 10 13 30 45]\n",
      "(6,)\n",
      "only using indices for lower-triangular matrix\n",
      "Connectivity computation...\n",
      "   Processing epoch 1 / 1 ...\n"
     ]
    },
    {
     "name": "stderr",
     "output_type": "stream",
     "text": [
      "/Users/jakubblaha/Documents/thesis/thesis-python/common.py:114: RuntimeWarning: There were no Annotations stored in <EpochsArray | 1 events (all good), 0 – 7.992 s (baseline off), ~134 kB, data loaded,\n",
      " '1': 1>, so metadata was not modified.\n",
      "  res = mne_connectivity.spectral_connectivity_time(\n"
     ]
    },
    {
     "name": "stdout",
     "output_type": "stream",
     "text": [
      "[Connectivity computation done]\n",
      "Computing features for trial:  8\n",
      "[ 4  8 10 13 30 45]\n",
      "(6,)\n",
      "[ 4  8 10 13 30 45]\n",
      "(6,)\n",
      "only using indices for lower-triangular matrix\n",
      "Connectivity computation...\n",
      "   Processing epoch 1 / 1 ...\n"
     ]
    },
    {
     "name": "stderr",
     "output_type": "stream",
     "text": [
      "/Users/jakubblaha/Documents/thesis/thesis-python/common.py:114: RuntimeWarning: There were no Annotations stored in <EpochsArray | 1 events (all good), 0 – 7.992 s (baseline off), ~134 kB, data loaded,\n",
      " '1': 1>, so metadata was not modified.\n",
      "  res = mne_connectivity.spectral_connectivity_time(\n"
     ]
    },
    {
     "name": "stdout",
     "output_type": "stream",
     "text": [
      "[Connectivity computation done]\n",
      "Computing features for trial:  9\n",
      "[ 4  8 10 13 30 45]\n",
      "(6,)\n",
      "[ 4  8 10 13 30 45]\n",
      "(6,)\n",
      "only using indices for lower-triangular matrix\n",
      "Connectivity computation...\n",
      "   Processing epoch 1 / 1 ...\n",
      "[Connectivity computation done]\n"
     ]
    },
    {
     "name": "stderr",
     "output_type": "stream",
     "text": [
      "/Users/jakubblaha/Documents/thesis/thesis-python/common.py:114: RuntimeWarning: There were no Annotations stored in <EpochsArray | 1 events (all good), 0 – 7.992 s (baseline off), ~134 kB, data loaded,\n",
      " '1': 1>, so metadata was not modified.\n",
      "  res = mne_connectivity.spectral_connectivity_time(\n"
     ]
    },
    {
     "name": "stdout",
     "output_type": "stream",
     "text": [
      "Computing features for trial:  10\n",
      "[ 4  8 10 13 30 45]\n",
      "(6,)\n",
      "[ 4  8 10 13 30 45]\n",
      "(6,)\n",
      "only using indices for lower-triangular matrix\n",
      "Connectivity computation...\n",
      "   Processing epoch 1 / 1 ...\n",
      "[Connectivity computation done]\n",
      "Computing features for trial:  11\n"
     ]
    },
    {
     "name": "stderr",
     "output_type": "stream",
     "text": [
      "/Users/jakubblaha/Documents/thesis/thesis-python/common.py:114: RuntimeWarning: There were no Annotations stored in <EpochsArray | 1 events (all good), 0 – 7.992 s (baseline off), ~134 kB, data loaded,\n",
      " '1': 1>, so metadata was not modified.\n",
      "  res = mne_connectivity.spectral_connectivity_time(\n"
     ]
    },
    {
     "name": "stdout",
     "output_type": "stream",
     "text": [
      "[ 4  8 10 13 30 45]\n",
      "(6,)\n",
      "[ 4  8 10 13 30 45]\n",
      "(6,)\n",
      "only using indices for lower-triangular matrix\n",
      "Connectivity computation...\n",
      "   Processing epoch 1 / 1 ...\n"
     ]
    },
    {
     "name": "stderr",
     "output_type": "stream",
     "text": [
      "/Users/jakubblaha/Documents/thesis/thesis-python/common.py:114: RuntimeWarning: There were no Annotations stored in <EpochsArray | 1 events (all good), 0 – 7.992 s (baseline off), ~134 kB, data loaded,\n",
      " '1': 1>, so metadata was not modified.\n",
      "  res = mne_connectivity.spectral_connectivity_time(\n"
     ]
    },
    {
     "name": "stdout",
     "output_type": "stream",
     "text": [
      "[Connectivity computation done]\n",
      "Computing features for trial:  12\n",
      "[ 4  8 10 13 30 45]\n",
      "(6,)\n",
      "[ 4  8 10 13 30 45]\n",
      "(6,)\n",
      "only using indices for lower-triangular matrix\n",
      "Connectivity computation...\n",
      "   Processing epoch 1 / 1 ...\n",
      "[Connectivity computation done]\n"
     ]
    },
    {
     "name": "stderr",
     "output_type": "stream",
     "text": [
      "/Users/jakubblaha/Documents/thesis/thesis-python/common.py:114: RuntimeWarning: There were no Annotations stored in <EpochsArray | 1 events (all good), 0 – 7.992 s (baseline off), ~134 kB, data loaded,\n",
      " '1': 1>, so metadata was not modified.\n",
      "  res = mne_connectivity.spectral_connectivity_time(\n"
     ]
    },
    {
     "name": "stdout",
     "output_type": "stream",
     "text": [
      "Computing features for trial:  13\n",
      "[ 4  8 10 13 30 45]\n",
      "(6,)\n",
      "[ 4  8 10 13 30 45]\n",
      "(6,)\n",
      "only using indices for lower-triangular matrix\n",
      "Connectivity computation...\n",
      "   Processing epoch 1 / 1 ...\n"
     ]
    },
    {
     "name": "stderr",
     "output_type": "stream",
     "text": [
      "/Users/jakubblaha/Documents/thesis/thesis-python/common.py:114: RuntimeWarning: There were no Annotations stored in <EpochsArray | 1 events (all good), 0 – 7.992 s (baseline off), ~134 kB, data loaded,\n",
      " '1': 1>, so metadata was not modified.\n",
      "  res = mne_connectivity.spectral_connectivity_time(\n"
     ]
    },
    {
     "name": "stdout",
     "output_type": "stream",
     "text": [
      "[Connectivity computation done]\n",
      "Computing features for trial:  14\n",
      "[ 4  8 10 13 30 45]\n",
      "(6,)\n",
      "[ 4  8 10 13 30 45]\n",
      "(6,)\n",
      "only using indices for lower-triangular matrix\n",
      "Connectivity computation...\n",
      "   Processing epoch 1 / 1 ...\n",
      "[Connectivity computation done]\n"
     ]
    },
    {
     "name": "stderr",
     "output_type": "stream",
     "text": [
      "/Users/jakubblaha/Documents/thesis/thesis-python/common.py:114: RuntimeWarning: There were no Annotations stored in <EpochsArray | 1 events (all good), 0 – 7.992 s (baseline off), ~134 kB, data loaded,\n",
      " '1': 1>, so metadata was not modified.\n",
      "  res = mne_connectivity.spectral_connectivity_time(\n"
     ]
    },
    {
     "name": "stdout",
     "output_type": "stream",
     "text": [
      "Computing features for trial:  15\n",
      "[ 4  8 10 13 30 45]\n",
      "(6,)\n",
      "[ 4  8 10 13 30 45]\n",
      "(6,)\n",
      "only using indices for lower-triangular matrix\n",
      "Connectivity computation...\n",
      "   Processing epoch 1 / 1 ...\n"
     ]
    },
    {
     "name": "stderr",
     "output_type": "stream",
     "text": [
      "/Users/jakubblaha/Documents/thesis/thesis-python/common.py:114: RuntimeWarning: There were no Annotations stored in <EpochsArray | 1 events (all good), 0 – 7.992 s (baseline off), ~134 kB, data loaded,\n",
      " '1': 1>, so metadata was not modified.\n",
      "  res = mne_connectivity.spectral_connectivity_time(\n"
     ]
    },
    {
     "name": "stdout",
     "output_type": "stream",
     "text": [
      "[Connectivity computation done]\n",
      "Computing features for trial:  16\n",
      "[ 4  8 10 13 30 45]\n",
      "(6,)\n",
      "[ 4  8 10 13 30 45]\n",
      "(6,)\n",
      "only using indices for lower-triangular matrix\n",
      "Connectivity computation...\n",
      "   Processing epoch 1 / 1 ...\n",
      "[Connectivity computation done]\n"
     ]
    },
    {
     "name": "stderr",
     "output_type": "stream",
     "text": [
      "/Users/jakubblaha/Documents/thesis/thesis-python/common.py:114: RuntimeWarning: There were no Annotations stored in <EpochsArray | 1 events (all good), 0 – 7.992 s (baseline off), ~134 kB, data loaded,\n",
      " '1': 1>, so metadata was not modified.\n",
      "  res = mne_connectivity.spectral_connectivity_time(\n"
     ]
    },
    {
     "name": "stdout",
     "output_type": "stream",
     "text": [
      "Computing features for trial:  17\n",
      "[ 4  8 10 13 30 45]\n",
      "(6,)\n",
      "[ 4  8 10 13 30 45]\n",
      "(6,)\n",
      "only using indices for lower-triangular matrix\n",
      "Connectivity computation...\n",
      "   Processing epoch 1 / 1 ...\n",
      "[Connectivity computation done]\n",
      "Computing features for trial:  18\n"
     ]
    },
    {
     "name": "stderr",
     "output_type": "stream",
     "text": [
      "/Users/jakubblaha/Documents/thesis/thesis-python/common.py:114: RuntimeWarning: There were no Annotations stored in <EpochsArray | 1 events (all good), 0 – 7.992 s (baseline off), ~134 kB, data loaded,\n",
      " '1': 1>, so metadata was not modified.\n",
      "  res = mne_connectivity.spectral_connectivity_time(\n"
     ]
    },
    {
     "name": "stdout",
     "output_type": "stream",
     "text": [
      "[ 4  8 10 13 30 45]\n",
      "(6,)\n",
      "[ 4  8 10 13 30 45]\n",
      "(6,)\n",
      "only using indices for lower-triangular matrix\n",
      "Connectivity computation...\n",
      "   Processing epoch 1 / 1 ...\n"
     ]
    },
    {
     "name": "stderr",
     "output_type": "stream",
     "text": [
      "/Users/jakubblaha/Documents/thesis/thesis-python/common.py:114: RuntimeWarning: There were no Annotations stored in <EpochsArray | 1 events (all good), 0 – 7.992 s (baseline off), ~134 kB, data loaded,\n",
      " '1': 1>, so metadata was not modified.\n",
      "  res = mne_connectivity.spectral_connectivity_time(\n"
     ]
    },
    {
     "name": "stdout",
     "output_type": "stream",
     "text": [
      "[Connectivity computation done]\n",
      "Computing features for trial:  19\n",
      "[ 4  8 10 13 30 45]\n",
      "(6,)\n",
      "[ 4  8 10 13 30 45]\n",
      "(6,)\n",
      "only using indices for lower-triangular matrix\n",
      "Connectivity computation...\n",
      "   Processing epoch 1 / 1 ...\n",
      "[Connectivity computation done]\n"
     ]
    },
    {
     "name": "stderr",
     "output_type": "stream",
     "text": [
      "/Users/jakubblaha/Documents/thesis/thesis-python/common.py:114: RuntimeWarning: There were no Annotations stored in <EpochsArray | 1 events (all good), 0 – 7.992 s (baseline off), ~134 kB, data loaded,\n",
      " '1': 1>, so metadata was not modified.\n",
      "  res = mne_connectivity.spectral_connectivity_time(\n"
     ]
    },
    {
     "name": "stdout",
     "output_type": "stream",
     "text": [
      "Computing features for trial:  20\n",
      "[ 4  8 10 13 30 45]\n",
      "(6,)\n",
      "[ 4  8 10 13 30 45]\n",
      "(6,)\n",
      "only using indices for lower-triangular matrix\n",
      "Connectivity computation...\n",
      "   Processing epoch 1 / 1 ...\n",
      "[Connectivity computation done]\n",
      "Computing features for trial:  21\n"
     ]
    },
    {
     "name": "stderr",
     "output_type": "stream",
     "text": [
      "/Users/jakubblaha/Documents/thesis/thesis-python/common.py:114: RuntimeWarning: There were no Annotations stored in <EpochsArray | 1 events (all good), 0 – 7.992 s (baseline off), ~134 kB, data loaded,\n",
      " '1': 1>, so metadata was not modified.\n",
      "  res = mne_connectivity.spectral_connectivity_time(\n"
     ]
    },
    {
     "name": "stdout",
     "output_type": "stream",
     "text": [
      "[ 4  8 10 13 30 45]\n",
      "(6,)\n",
      "[ 4  8 10 13 30 45]\n",
      "(6,)\n",
      "only using indices for lower-triangular matrix\n",
      "Connectivity computation...\n",
      "   Processing epoch 1 / 1 ...\n",
      "[Connectivity computation done]\n",
      "Computing features for trial:  22\n"
     ]
    },
    {
     "name": "stderr",
     "output_type": "stream",
     "text": [
      "/Users/jakubblaha/Documents/thesis/thesis-python/common.py:114: RuntimeWarning: There were no Annotations stored in <EpochsArray | 1 events (all good), 0 – 7.992 s (baseline off), ~134 kB, data loaded,\n",
      " '1': 1>, so metadata was not modified.\n",
      "  res = mne_connectivity.spectral_connectivity_time(\n"
     ]
    },
    {
     "name": "stdout",
     "output_type": "stream",
     "text": [
      "[ 4  8 10 13 30 45]\n",
      "(6,)\n",
      "[ 4  8 10 13 30 45]\n",
      "(6,)\n",
      "only using indices for lower-triangular matrix\n",
      "Connectivity computation...\n",
      "   Processing epoch 1 / 1 ...\n"
     ]
    },
    {
     "name": "stderr",
     "output_type": "stream",
     "text": [
      "/Users/jakubblaha/Documents/thesis/thesis-python/common.py:114: RuntimeWarning: There were no Annotations stored in <EpochsArray | 1 events (all good), 0 – 7.992 s (baseline off), ~134 kB, data loaded,\n",
      " '1': 1>, so metadata was not modified.\n",
      "  res = mne_connectivity.spectral_connectivity_time(\n"
     ]
    },
    {
     "name": "stdout",
     "output_type": "stream",
     "text": [
      "[Connectivity computation done]\n",
      "Computing features for trial:  23\n",
      "[ 4  8 10 13 30 45]\n",
      "(6,)\n",
      "[ 4  8 10 13 30 45]\n",
      "(6,)\n",
      "only using indices for lower-triangular matrix\n",
      "Connectivity computation...\n",
      "   Processing epoch 1 / 1 ...\n"
     ]
    },
    {
     "name": "stderr",
     "output_type": "stream",
     "text": [
      "/Users/jakubblaha/Documents/thesis/thesis-python/common.py:114: RuntimeWarning: There were no Annotations stored in <EpochsArray | 1 events (all good), 0 – 7.992 s (baseline off), ~134 kB, data loaded,\n",
      " '1': 1>, so metadata was not modified.\n",
      "  res = mne_connectivity.spectral_connectivity_time(\n"
     ]
    },
    {
     "name": "stdout",
     "output_type": "stream",
     "text": [
      "[Connectivity computation done]\n",
      "Computing features for trial:  24\n",
      "[ 4  8 10 13 30 45]\n",
      "(6,)\n",
      "[ 4  8 10 13 30 45]\n",
      "(6,)\n",
      "only using indices for lower-triangular matrix\n",
      "Connectivity computation...\n",
      "   Processing epoch 1 / 1 ...\n"
     ]
    },
    {
     "name": "stderr",
     "output_type": "stream",
     "text": [
      "/Users/jakubblaha/Documents/thesis/thesis-python/common.py:114: RuntimeWarning: There were no Annotations stored in <EpochsArray | 1 events (all good), 0 – 7.992 s (baseline off), ~134 kB, data loaded,\n",
      " '1': 1>, so metadata was not modified.\n",
      "  res = mne_connectivity.spectral_connectivity_time(\n"
     ]
    },
    {
     "name": "stdout",
     "output_type": "stream",
     "text": [
      "[Connectivity computation done]\n",
      "Computing features for trial:  25\n",
      "[ 4  8 10 13 30 45]\n",
      "(6,)\n",
      "[ 4  8 10 13 30 45]\n",
      "(6,)\n",
      "only using indices for lower-triangular matrix\n",
      "Connectivity computation...\n",
      "   Processing epoch 1 / 1 ...\n"
     ]
    },
    {
     "name": "stderr",
     "output_type": "stream",
     "text": [
      "/Users/jakubblaha/Documents/thesis/thesis-python/common.py:114: RuntimeWarning: There were no Annotations stored in <EpochsArray | 1 events (all good), 0 – 7.992 s (baseline off), ~134 kB, data loaded,\n",
      " '1': 1>, so metadata was not modified.\n",
      "  res = mne_connectivity.spectral_connectivity_time(\n"
     ]
    },
    {
     "name": "stdout",
     "output_type": "stream",
     "text": [
      "[Connectivity computation done]\n",
      "Computing features for trial:  26\n",
      "[ 4  8 10 13 30 45]\n",
      "(6,)\n",
      "[ 4  8 10 13 30 45]\n",
      "(6,)\n",
      "only using indices for lower-triangular matrix\n",
      "Connectivity computation...\n",
      "   Processing epoch 1 / 1 ...\n",
      "[Connectivity computation done]\n"
     ]
    },
    {
     "name": "stderr",
     "output_type": "stream",
     "text": [
      "/Users/jakubblaha/Documents/thesis/thesis-python/common.py:114: RuntimeWarning: There were no Annotations stored in <EpochsArray | 1 events (all good), 0 – 7.992 s (baseline off), ~134 kB, data loaded,\n",
      " '1': 1>, so metadata was not modified.\n",
      "  res = mne_connectivity.spectral_connectivity_time(\n"
     ]
    },
    {
     "name": "stdout",
     "output_type": "stream",
     "text": [
      "Computing features for trial:  27\n",
      "[ 4  8 10 13 30 45]\n",
      "(6,)\n",
      "[ 4  8 10 13 30 45]\n",
      "(6,)\n",
      "only using indices for lower-triangular matrix\n",
      "Connectivity computation...\n",
      "   Processing epoch 1 / 1 ...\n",
      "[Connectivity computation done]\n",
      "Computing features for trial:  28\n"
     ]
    },
    {
     "name": "stderr",
     "output_type": "stream",
     "text": [
      "/Users/jakubblaha/Documents/thesis/thesis-python/common.py:114: RuntimeWarning: There were no Annotations stored in <EpochsArray | 1 events (all good), 0 – 7.992 s (baseline off), ~134 kB, data loaded,\n",
      " '1': 1>, so metadata was not modified.\n",
      "  res = mne_connectivity.spectral_connectivity_time(\n"
     ]
    },
    {
     "name": "stdout",
     "output_type": "stream",
     "text": [
      "[ 4  8 10 13 30 45]\n",
      "(6,)\n",
      "[ 4  8 10 13 30 45]\n",
      "(6,)\n",
      "only using indices for lower-triangular matrix\n",
      "Connectivity computation...\n",
      "   Processing epoch 1 / 1 ...\n",
      "[Connectivity computation done]\n",
      "Computing features for trial:  29\n"
     ]
    },
    {
     "name": "stderr",
     "output_type": "stream",
     "text": [
      "/Users/jakubblaha/Documents/thesis/thesis-python/common.py:114: RuntimeWarning: There were no Annotations stored in <EpochsArray | 1 events (all good), 0 – 7.992 s (baseline off), ~134 kB, data loaded,\n",
      " '1': 1>, so metadata was not modified.\n",
      "  res = mne_connectivity.spectral_connectivity_time(\n"
     ]
    },
    {
     "name": "stdout",
     "output_type": "stream",
     "text": [
      "[ 4  8 10 13 30 45]\n",
      "(6,)\n",
      "[ 4  8 10 13 30 45]\n",
      "(6,)\n",
      "only using indices for lower-triangular matrix\n",
      "Connectivity computation...\n",
      "   Processing epoch 1 / 1 ...\n",
      "[Connectivity computation done]\n",
      "Computing features for trial:  30\n"
     ]
    },
    {
     "name": "stderr",
     "output_type": "stream",
     "text": [
      "/Users/jakubblaha/Documents/thesis/thesis-python/common.py:114: RuntimeWarning: There were no Annotations stored in <EpochsArray | 1 events (all good), 0 – 7.992 s (baseline off), ~134 kB, data loaded,\n",
      " '1': 1>, so metadata was not modified.\n",
      "  res = mne_connectivity.spectral_connectivity_time(\n"
     ]
    },
    {
     "name": "stdout",
     "output_type": "stream",
     "text": [
      "[ 4  8 10 13 30 45]\n",
      "(6,)\n",
      "[ 4  8 10 13 30 45]\n",
      "(6,)\n",
      "only using indices for lower-triangular matrix\n",
      "Connectivity computation...\n",
      "   Processing epoch 1 / 1 ...\n",
      "[Connectivity computation done]\n",
      "Computing features for trial:  31\n"
     ]
    },
    {
     "name": "stderr",
     "output_type": "stream",
     "text": [
      "/Users/jakubblaha/Documents/thesis/thesis-python/common.py:114: RuntimeWarning: There were no Annotations stored in <EpochsArray | 1 events (all good), 0 – 7.992 s (baseline off), ~134 kB, data loaded,\n",
      " '1': 1>, so metadata was not modified.\n",
      "  res = mne_connectivity.spectral_connectivity_time(\n"
     ]
    },
    {
     "name": "stdout",
     "output_type": "stream",
     "text": [
      "[ 4  8 10 13 30 45]\n",
      "(6,)\n",
      "[ 4  8 10 13 30 45]\n",
      "(6,)\n",
      "only using indices for lower-triangular matrix\n",
      "Connectivity computation...\n",
      "   Processing epoch 1 / 1 ...\n",
      "[Connectivity computation done]\n",
      "Computing features for trial:  32\n"
     ]
    },
    {
     "name": "stderr",
     "output_type": "stream",
     "text": [
      "/Users/jakubblaha/Documents/thesis/thesis-python/common.py:114: RuntimeWarning: There were no Annotations stored in <EpochsArray | 1 events (all good), 0 – 7.992 s (baseline off), ~134 kB, data loaded,\n",
      " '1': 1>, so metadata was not modified.\n",
      "  res = mne_connectivity.spectral_connectivity_time(\n"
     ]
    },
    {
     "name": "stdout",
     "output_type": "stream",
     "text": [
      "[ 4  8 10 13 30 45]\n",
      "(6,)\n",
      "[ 4  8 10 13 30 45]\n",
      "(6,)\n",
      "only using indices for lower-triangular matrix\n",
      "Connectivity computation...\n",
      "   Processing epoch 1 / 1 ...\n"
     ]
    },
    {
     "name": "stderr",
     "output_type": "stream",
     "text": [
      "/Users/jakubblaha/Documents/thesis/thesis-python/common.py:114: RuntimeWarning: There were no Annotations stored in <EpochsArray | 1 events (all good), 0 – 7.992 s (baseline off), ~134 kB, data loaded,\n",
      " '1': 1>, so metadata was not modified.\n",
      "  res = mne_connectivity.spectral_connectivity_time(\n"
     ]
    },
    {
     "name": "stdout",
     "output_type": "stream",
     "text": [
      "[Connectivity computation done]\n",
      "Computing features for trial:  33\n",
      "[ 4  8 10 13 30 45]\n",
      "(6,)\n",
      "[ 4  8 10 13 30 45]\n",
      "(6,)\n",
      "only using indices for lower-triangular matrix\n",
      "Connectivity computation...\n",
      "   Processing epoch 1 / 1 ...\n"
     ]
    },
    {
     "name": "stderr",
     "output_type": "stream",
     "text": [
      "/Users/jakubblaha/Documents/thesis/thesis-python/common.py:114: RuntimeWarning: There were no Annotations stored in <EpochsArray | 1 events (all good), 0 – 7.992 s (baseline off), ~134 kB, data loaded,\n",
      " '1': 1>, so metadata was not modified.\n",
      "  res = mne_connectivity.spectral_connectivity_time(\n"
     ]
    },
    {
     "name": "stdout",
     "output_type": "stream",
     "text": [
      "[Connectivity computation done]\n",
      "Computing features for trial:  34\n",
      "[ 4  8 10 13 30 45]\n",
      "(6,)\n",
      "[ 4  8 10 13 30 45]\n",
      "(6,)\n",
      "only using indices for lower-triangular matrix\n",
      "Connectivity computation...\n",
      "   Processing epoch 1 / 1 ...\n",
      "[Connectivity computation done]\n"
     ]
    },
    {
     "name": "stderr",
     "output_type": "stream",
     "text": [
      "/Users/jakubblaha/Documents/thesis/thesis-python/common.py:114: RuntimeWarning: There were no Annotations stored in <EpochsArray | 1 events (all good), 0 – 7.992 s (baseline off), ~134 kB, data loaded,\n",
      " '1': 1>, so metadata was not modified.\n",
      "  res = mne_connectivity.spectral_connectivity_time(\n"
     ]
    },
    {
     "name": "stdout",
     "output_type": "stream",
     "text": [
      "Computing features for trial:  35\n",
      "[ 4  8 10 13 30 45]\n",
      "(6,)\n",
      "[ 4  8 10 13 30 45]\n",
      "(6,)\n",
      "only using indices for lower-triangular matrix\n",
      "Connectivity computation...\n",
      "   Processing epoch 1 / 1 ...\n",
      "[Connectivity computation done]\n",
      "Computing features for trial:  36\n"
     ]
    },
    {
     "name": "stderr",
     "output_type": "stream",
     "text": [
      "/Users/jakubblaha/Documents/thesis/thesis-python/common.py:114: RuntimeWarning: There were no Annotations stored in <EpochsArray | 1 events (all good), 0 – 7.992 s (baseline off), ~134 kB, data loaded,\n",
      " '1': 1>, so metadata was not modified.\n",
      "  res = mne_connectivity.spectral_connectivity_time(\n"
     ]
    },
    {
     "name": "stdout",
     "output_type": "stream",
     "text": [
      "[ 4  8 10 13 30 45]\n",
      "(6,)\n",
      "[ 4  8 10 13 30 45]\n",
      "(6,)\n",
      "only using indices for lower-triangular matrix\n",
      "Connectivity computation...\n",
      "   Processing epoch 1 / 1 ...\n",
      "[Connectivity computation done]\n",
      "Computing features for trial:  37\n"
     ]
    },
    {
     "name": "stderr",
     "output_type": "stream",
     "text": [
      "/Users/jakubblaha/Documents/thesis/thesis-python/common.py:114: RuntimeWarning: There were no Annotations stored in <EpochsArray | 1 events (all good), 0 – 7.992 s (baseline off), ~134 kB, data loaded,\n",
      " '1': 1>, so metadata was not modified.\n",
      "  res = mne_connectivity.spectral_connectivity_time(\n"
     ]
    },
    {
     "name": "stdout",
     "output_type": "stream",
     "text": [
      "[ 4  8 10 13 30 45]\n",
      "(6,)\n",
      "[ 4  8 10 13 30 45]\n",
      "(6,)\n",
      "only using indices for lower-triangular matrix\n",
      "Connectivity computation...\n",
      "   Processing epoch 1 / 1 ...\n",
      "[Connectivity computation done]\n",
      "Computing features for trial:  38\n"
     ]
    },
    {
     "name": "stderr",
     "output_type": "stream",
     "text": [
      "/Users/jakubblaha/Documents/thesis/thesis-python/common.py:114: RuntimeWarning: There were no Annotations stored in <EpochsArray | 1 events (all good), 0 – 7.992 s (baseline off), ~134 kB, data loaded,\n",
      " '1': 1>, so metadata was not modified.\n",
      "  res = mne_connectivity.spectral_connectivity_time(\n"
     ]
    },
    {
     "name": "stdout",
     "output_type": "stream",
     "text": [
      "[ 4  8 10 13 30 45]\n",
      "(6,)\n",
      "[ 4  8 10 13 30 45]\n",
      "(6,)\n",
      "only using indices for lower-triangular matrix\n",
      "Connectivity computation...\n",
      "   Processing epoch 1 / 1 ...\n",
      "[Connectivity computation done]\n",
      "Computing features for trial:  39\n"
     ]
    },
    {
     "name": "stderr",
     "output_type": "stream",
     "text": [
      "/Users/jakubblaha/Documents/thesis/thesis-python/common.py:114: RuntimeWarning: There were no Annotations stored in <EpochsArray | 1 events (all good), 0 – 7.992 s (baseline off), ~134 kB, data loaded,\n",
      " '1': 1>, so metadata was not modified.\n",
      "  res = mne_connectivity.spectral_connectivity_time(\n"
     ]
    },
    {
     "name": "stdout",
     "output_type": "stream",
     "text": [
      "[ 4  8 10 13 30 45]\n",
      "(6,)\n",
      "[ 4  8 10 13 30 45]\n",
      "(6,)\n",
      "only using indices for lower-triangular matrix\n",
      "Connectivity computation...\n",
      "   Processing epoch 1 / 1 ...\n"
     ]
    },
    {
     "name": "stderr",
     "output_type": "stream",
     "text": [
      "/Users/jakubblaha/Documents/thesis/thesis-python/common.py:114: RuntimeWarning: There were no Annotations stored in <EpochsArray | 1 events (all good), 0 – 7.992 s (baseline off), ~134 kB, data loaded,\n",
      " '1': 1>, so metadata was not modified.\n",
      "  res = mne_connectivity.spectral_connectivity_time(\n"
     ]
    },
    {
     "name": "stdout",
     "output_type": "stream",
     "text": [
      "[Connectivity computation done]\n",
      "Computing features for trial:  40\n",
      "[ 4  8 10 13 30 45]\n",
      "(6,)\n",
      "[ 4  8 10 13 30 45]\n",
      "(6,)\n",
      "only using indices for lower-triangular matrix\n",
      "Connectivity computation...\n",
      "   Processing epoch 1 / 1 ...\n",
      "[Connectivity computation done]\n",
      "Computing features for trial:  41\n",
      "[ 4  8 10 13 30 45]\n",
      "(6,)\n",
      "[ 4  8 10 13 30 45]\n",
      "(6,)\n",
      "only using indices for lower-triangular matrix\n",
      "Connectivity computation...\n",
      "   Processing epoch 1 / 1 ...\n"
     ]
    },
    {
     "name": "stderr",
     "output_type": "stream",
     "text": [
      "/Users/jakubblaha/Documents/thesis/thesis-python/common.py:114: RuntimeWarning: There were no Annotations stored in <EpochsArray | 1 events (all good), 0 – 7.992 s (baseline off), ~134 kB, data loaded,\n",
      " '1': 1>, so metadata was not modified.\n",
      "  res = mne_connectivity.spectral_connectivity_time(\n",
      "/Users/jakubblaha/Documents/thesis/thesis-python/common.py:114: RuntimeWarning: There were no Annotations stored in <EpochsArray | 1 events (all good), 0 – 7.992 s (baseline off), ~134 kB, data loaded,\n",
      " '1': 1>, so metadata was not modified.\n",
      "  res = mne_connectivity.spectral_connectivity_time(\n"
     ]
    },
    {
     "name": "stdout",
     "output_type": "stream",
     "text": [
      "[Connectivity computation done]\n",
      "Computing features for trial:  42\n",
      "[ 4  8 10 13 30 45]\n",
      "(6,)\n",
      "[ 4  8 10 13 30 45]\n",
      "(6,)\n",
      "only using indices for lower-triangular matrix\n",
      "Connectivity computation...\n",
      "   Processing epoch 1 / 1 ...\n",
      "[Connectivity computation done]\n",
      "Computing features for trial:  43\n"
     ]
    },
    {
     "name": "stderr",
     "output_type": "stream",
     "text": [
      "/Users/jakubblaha/Documents/thesis/thesis-python/common.py:114: RuntimeWarning: There were no Annotations stored in <EpochsArray | 1 events (all good), 0 – 7.992 s (baseline off), ~134 kB, data loaded,\n",
      " '1': 1>, so metadata was not modified.\n",
      "  res = mne_connectivity.spectral_connectivity_time(\n"
     ]
    },
    {
     "name": "stdout",
     "output_type": "stream",
     "text": [
      "[ 4  8 10 13 30 45]\n",
      "(6,)\n",
      "[ 4  8 10 13 30 45]\n",
      "(6,)\n",
      "only using indices for lower-triangular matrix\n",
      "Connectivity computation...\n",
      "   Processing epoch 1 / 1 ...\n",
      "[Connectivity computation done]\n",
      "Computing features for trial:  44\n"
     ]
    },
    {
     "name": "stderr",
     "output_type": "stream",
     "text": [
      "/Users/jakubblaha/Documents/thesis/thesis-python/common.py:114: RuntimeWarning: There were no Annotations stored in <EpochsArray | 1 events (all good), 0 – 7.992 s (baseline off), ~134 kB, data loaded,\n",
      " '1': 1>, so metadata was not modified.\n",
      "  res = mne_connectivity.spectral_connectivity_time(\n"
     ]
    },
    {
     "name": "stdout",
     "output_type": "stream",
     "text": [
      "[ 4  8 10 13 30 45]\n",
      "(6,)\n",
      "[ 4  8 10 13 30 45]\n",
      "(6,)\n",
      "only using indices for lower-triangular matrix\n",
      "Connectivity computation...\n",
      "   Processing epoch 1 / 1 ...\n",
      "[Connectivity computation done]\n",
      "Computing features for trial:  45\n"
     ]
    },
    {
     "name": "stderr",
     "output_type": "stream",
     "text": [
      "/Users/jakubblaha/Documents/thesis/thesis-python/common.py:114: RuntimeWarning: There were no Annotations stored in <EpochsArray | 1 events (all good), 0 – 7.992 s (baseline off), ~134 kB, data loaded,\n",
      " '1': 1>, so metadata was not modified.\n",
      "  res = mne_connectivity.spectral_connectivity_time(\n"
     ]
    },
    {
     "name": "stdout",
     "output_type": "stream",
     "text": [
      "[ 4  8 10 13 30 45]\n",
      "(6,)\n",
      "[ 4  8 10 13 30 45]\n",
      "(6,)\n",
      "only using indices for lower-triangular matrix\n",
      "Connectivity computation...\n",
      "   Processing epoch 1 / 1 ...\n"
     ]
    },
    {
     "name": "stderr",
     "output_type": "stream",
     "text": [
      "/Users/jakubblaha/Documents/thesis/thesis-python/common.py:114: RuntimeWarning: There were no Annotations stored in <EpochsArray | 1 events (all good), 0 – 7.992 s (baseline off), ~134 kB, data loaded,\n",
      " '1': 1>, so metadata was not modified.\n",
      "  res = mne_connectivity.spectral_connectivity_time(\n"
     ]
    },
    {
     "name": "stdout",
     "output_type": "stream",
     "text": [
      "[Connectivity computation done]\n",
      "Computing features for trial:  46\n",
      "[ 4  8 10 13 30 45]\n",
      "(6,)\n",
      "[ 4  8 10 13 30 45]\n",
      "(6,)\n",
      "only using indices for lower-triangular matrix\n",
      "Connectivity computation...\n",
      "   Processing epoch 1 / 1 ...\n",
      "[Connectivity computation done]\n"
     ]
    },
    {
     "name": "stderr",
     "output_type": "stream",
     "text": [
      "/Users/jakubblaha/Documents/thesis/thesis-python/common.py:114: RuntimeWarning: There were no Annotations stored in <EpochsArray | 1 events (all good), 0 – 7.992 s (baseline off), ~134 kB, data loaded,\n",
      " '1': 1>, so metadata was not modified.\n",
      "  res = mne_connectivity.spectral_connectivity_time(\n"
     ]
    },
    {
     "name": "stdout",
     "output_type": "stream",
     "text": [
      "Computing features for trial:  47\n",
      "[ 4  8 10 13 30 45]\n",
      "(6,)\n",
      "[ 4  8 10 13 30 45]\n",
      "(6,)\n",
      "only using indices for lower-triangular matrix\n",
      "Connectivity computation...\n",
      "   Processing epoch 1 / 1 ...\n"
     ]
    },
    {
     "name": "stderr",
     "output_type": "stream",
     "text": [
      "/Users/jakubblaha/Documents/thesis/thesis-python/common.py:114: RuntimeWarning: There were no Annotations stored in <EpochsArray | 1 events (all good), 0 – 7.992 s (baseline off), ~134 kB, data loaded,\n",
      " '1': 1>, so metadata was not modified.\n",
      "  res = mne_connectivity.spectral_connectivity_time(\n"
     ]
    },
    {
     "name": "stdout",
     "output_type": "stream",
     "text": [
      "[Connectivity computation done]\n",
      "Computing features for trial:  48\n",
      "[ 4  8 10 13 30 45]\n",
      "(6,)\n",
      "[ 4  8 10 13 30 45]\n",
      "(6,)\n",
      "only using indices for lower-triangular matrix\n",
      "Connectivity computation...\n",
      "   Processing epoch 1 / 1 ...\n",
      "[Connectivity computation done]\n",
      "Computing features for trial:  49\n"
     ]
    },
    {
     "name": "stderr",
     "output_type": "stream",
     "text": [
      "/Users/jakubblaha/Documents/thesis/thesis-python/common.py:114: RuntimeWarning: There were no Annotations stored in <EpochsArray | 1 events (all good), 0 – 7.992 s (baseline off), ~134 kB, data loaded,\n",
      " '1': 1>, so metadata was not modified.\n",
      "  res = mne_connectivity.spectral_connectivity_time(\n"
     ]
    },
    {
     "name": "stdout",
     "output_type": "stream",
     "text": [
      "[ 4  8 10 13 30 45]\n",
      "(6,)\n",
      "[ 4  8 10 13 30 45]\n",
      "(6,)\n",
      "only using indices for lower-triangular matrix\n",
      "Connectivity computation...\n",
      "   Processing epoch 1 / 1 ...\n"
     ]
    },
    {
     "name": "stderr",
     "output_type": "stream",
     "text": [
      "/Users/jakubblaha/Documents/thesis/thesis-python/common.py:114: RuntimeWarning: There were no Annotations stored in <EpochsArray | 1 events (all good), 0 – 7.992 s (baseline off), ~134 kB, data loaded,\n",
      " '1': 1>, so metadata was not modified.\n",
      "  res = mne_connectivity.spectral_connectivity_time(\n"
     ]
    },
    {
     "name": "stdout",
     "output_type": "stream",
     "text": [
      "[Connectivity computation done]\n",
      "Computing features for trial:  50\n",
      "[ 4  8 10 13 30 45]\n",
      "(6,)\n",
      "[ 4  8 10 13 30 45]\n",
      "(6,)\n",
      "only using indices for lower-triangular matrix\n",
      "Connectivity computation...\n",
      "   Processing epoch 1 / 1 ...\n",
      "[Connectivity computation done]\n"
     ]
    },
    {
     "name": "stderr",
     "output_type": "stream",
     "text": [
      "/Users/jakubblaha/Documents/thesis/thesis-python/common.py:114: RuntimeWarning: There were no Annotations stored in <EpochsArray | 1 events (all good), 0 – 7.992 s (baseline off), ~134 kB, data loaded,\n",
      " '1': 1>, so metadata was not modified.\n",
      "  res = mne_connectivity.spectral_connectivity_time(\n"
     ]
    },
    {
     "name": "stdout",
     "output_type": "stream",
     "text": [
      "Computing features for trial:  51\n",
      "[ 4  8 10 13 30 45]\n",
      "(6,)\n",
      "[ 4  8 10 13 30 45]\n",
      "(6,)\n",
      "only using indices for lower-triangular matrix\n",
      "Connectivity computation...\n",
      "   Processing epoch 1 / 1 ...\n",
      "[Connectivity computation done]\n",
      "Computing features for trial:  52\n"
     ]
    },
    {
     "name": "stderr",
     "output_type": "stream",
     "text": [
      "/Users/jakubblaha/Documents/thesis/thesis-python/common.py:114: RuntimeWarning: There were no Annotations stored in <EpochsArray | 1 events (all good), 0 – 7.992 s (baseline off), ~134 kB, data loaded,\n",
      " '1': 1>, so metadata was not modified.\n",
      "  res = mne_connectivity.spectral_connectivity_time(\n"
     ]
    },
    {
     "name": "stdout",
     "output_type": "stream",
     "text": [
      "[ 4  8 10 13 30 45]\n",
      "(6,)\n",
      "[ 4  8 10 13 30 45]\n",
      "(6,)\n",
      "only using indices for lower-triangular matrix\n",
      "Connectivity computation...\n",
      "   Processing epoch 1 / 1 ...\n",
      "[Connectivity computation done]\n",
      "Computing features for trial:  53\n"
     ]
    },
    {
     "name": "stderr",
     "output_type": "stream",
     "text": [
      "/Users/jakubblaha/Documents/thesis/thesis-python/common.py:114: RuntimeWarning: There were no Annotations stored in <EpochsArray | 1 events (all good), 0 – 7.992 s (baseline off), ~134 kB, data loaded,\n",
      " '1': 1>, so metadata was not modified.\n",
      "  res = mne_connectivity.spectral_connectivity_time(\n"
     ]
    },
    {
     "name": "stdout",
     "output_type": "stream",
     "text": [
      "[ 4  8 10 13 30 45]\n",
      "(6,)\n",
      "[ 4  8 10 13 30 45]\n",
      "(6,)\n",
      "only using indices for lower-triangular matrix\n",
      "Connectivity computation...\n",
      "   Processing epoch 1 / 1 ...\n",
      "[Connectivity computation done]\n",
      "Computing features for trial:  54\n"
     ]
    },
    {
     "name": "stderr",
     "output_type": "stream",
     "text": [
      "/Users/jakubblaha/Documents/thesis/thesis-python/common.py:114: RuntimeWarning: There were no Annotations stored in <EpochsArray | 1 events (all good), 0 – 7.992 s (baseline off), ~134 kB, data loaded,\n",
      " '1': 1>, so metadata was not modified.\n",
      "  res = mne_connectivity.spectral_connectivity_time(\n"
     ]
    },
    {
     "name": "stdout",
     "output_type": "stream",
     "text": [
      "[ 4  8 10 13 30 45]\n",
      "(6,)\n",
      "[ 4  8 10 13 30 45]\n",
      "(6,)\n",
      "only using indices for lower-triangular matrix\n",
      "Connectivity computation...\n",
      "   Processing epoch 1 / 1 ...\n",
      "[Connectivity computation done]\n",
      "Computing features for trial:  55\n"
     ]
    },
    {
     "name": "stderr",
     "output_type": "stream",
     "text": [
      "/Users/jakubblaha/Documents/thesis/thesis-python/common.py:114: RuntimeWarning: There were no Annotations stored in <EpochsArray | 1 events (all good), 0 – 7.992 s (baseline off), ~134 kB, data loaded,\n",
      " '1': 1>, so metadata was not modified.\n",
      "  res = mne_connectivity.spectral_connectivity_time(\n"
     ]
    },
    {
     "name": "stdout",
     "output_type": "stream",
     "text": [
      "[ 4  8 10 13 30 45]\n",
      "(6,)\n",
      "[ 4  8 10 13 30 45]\n",
      "(6,)\n",
      "only using indices for lower-triangular matrix\n",
      "Connectivity computation...\n",
      "   Processing epoch 1 / 1 ...\n",
      "[Connectivity computation done]\n",
      "Computing features for trial:  56\n"
     ]
    },
    {
     "name": "stderr",
     "output_type": "stream",
     "text": [
      "/Users/jakubblaha/Documents/thesis/thesis-python/common.py:114: RuntimeWarning: There were no Annotations stored in <EpochsArray | 1 events (all good), 0 – 7.992 s (baseline off), ~134 kB, data loaded,\n",
      " '1': 1>, so metadata was not modified.\n",
      "  res = mne_connectivity.spectral_connectivity_time(\n"
     ]
    },
    {
     "name": "stdout",
     "output_type": "stream",
     "text": [
      "[ 4  8 10 13 30 45]\n",
      "(6,)\n",
      "[ 4  8 10 13 30 45]\n",
      "(6,)\n",
      "only using indices for lower-triangular matrix\n",
      "Connectivity computation...\n",
      "   Processing epoch 1 / 1 ...\n",
      "[Connectivity computation done]\n",
      "Computing features for trial:  57\n"
     ]
    },
    {
     "name": "stderr",
     "output_type": "stream",
     "text": [
      "/Users/jakubblaha/Documents/thesis/thesis-python/common.py:114: RuntimeWarning: There were no Annotations stored in <EpochsArray | 1 events (all good), 0 – 7.992 s (baseline off), ~134 kB, data loaded,\n",
      " '1': 1>, so metadata was not modified.\n",
      "  res = mne_connectivity.spectral_connectivity_time(\n"
     ]
    },
    {
     "name": "stdout",
     "output_type": "stream",
     "text": [
      "[ 4  8 10 13 30 45]\n",
      "(6,)\n",
      "[ 4  8 10 13 30 45]\n",
      "(6,)\n",
      "only using indices for lower-triangular matrix\n",
      "Connectivity computation...\n",
      "   Processing epoch 1 / 1 ...\n",
      "[Connectivity computation done]\n",
      "Computing features for trial:  58\n"
     ]
    },
    {
     "name": "stderr",
     "output_type": "stream",
     "text": [
      "/Users/jakubblaha/Documents/thesis/thesis-python/common.py:114: RuntimeWarning: There were no Annotations stored in <EpochsArray | 1 events (all good), 0 – 7.992 s (baseline off), ~134 kB, data loaded,\n",
      " '1': 1>, so metadata was not modified.\n",
      "  res = mne_connectivity.spectral_connectivity_time(\n"
     ]
    },
    {
     "name": "stdout",
     "output_type": "stream",
     "text": [
      "[ 4  8 10 13 30 45]\n",
      "(6,)\n",
      "[ 4  8 10 13 30 45]\n",
      "(6,)\n",
      "only using indices for lower-triangular matrix\n",
      "Connectivity computation...\n",
      "   Processing epoch 1 / 1 ...\n",
      "[Connectivity computation done]\n",
      "Computing features for trial:  59\n"
     ]
    },
    {
     "name": "stderr",
     "output_type": "stream",
     "text": [
      "/Users/jakubblaha/Documents/thesis/thesis-python/common.py:114: RuntimeWarning: There were no Annotations stored in <EpochsArray | 1 events (all good), 0 – 7.992 s (baseline off), ~134 kB, data loaded,\n",
      " '1': 1>, so metadata was not modified.\n",
      "  res = mne_connectivity.spectral_connectivity_time(\n"
     ]
    },
    {
     "name": "stdout",
     "output_type": "stream",
     "text": [
      "[ 4  8 10 13 30 45]\n",
      "(6,)\n",
      "[ 4  8 10 13 30 45]\n",
      "(6,)\n",
      "only using indices for lower-triangular matrix\n",
      "Connectivity computation...\n",
      "   Processing epoch 1 / 1 ...\n",
      "[Connectivity computation done]\n",
      "Computing features for trial:  60\n"
     ]
    },
    {
     "name": "stderr",
     "output_type": "stream",
     "text": [
      "/Users/jakubblaha/Documents/thesis/thesis-python/common.py:114: RuntimeWarning: There were no Annotations stored in <EpochsArray | 1 events (all good), 0 – 7.992 s (baseline off), ~134 kB, data loaded,\n",
      " '1': 1>, so metadata was not modified.\n",
      "  res = mne_connectivity.spectral_connectivity_time(\n"
     ]
    },
    {
     "name": "stdout",
     "output_type": "stream",
     "text": [
      "[ 4  8 10 13 30 45]\n",
      "(6,)\n",
      "[ 4  8 10 13 30 45]\n",
      "(6,)\n",
      "only using indices for lower-triangular matrix\n",
      "Connectivity computation...\n",
      "   Processing epoch 1 / 1 ...\n",
      "[Connectivity computation done]\n",
      "Computing features for trial:  61\n"
     ]
    },
    {
     "name": "stderr",
     "output_type": "stream",
     "text": [
      "/Users/jakubblaha/Documents/thesis/thesis-python/common.py:114: RuntimeWarning: There were no Annotations stored in <EpochsArray | 1 events (all good), 0 – 7.992 s (baseline off), ~134 kB, data loaded,\n",
      " '1': 1>, so metadata was not modified.\n",
      "  res = mne_connectivity.spectral_connectivity_time(\n"
     ]
    },
    {
     "name": "stdout",
     "output_type": "stream",
     "text": [
      "[ 4  8 10 13 30 45]\n",
      "(6,)\n",
      "[ 4  8 10 13 30 45]\n",
      "(6,)\n",
      "only using indices for lower-triangular matrix\n",
      "Connectivity computation...\n",
      "   Processing epoch 1 / 1 ...\n"
     ]
    },
    {
     "name": "stderr",
     "output_type": "stream",
     "text": [
      "/Users/jakubblaha/Documents/thesis/thesis-python/common.py:114: RuntimeWarning: There were no Annotations stored in <EpochsArray | 1 events (all good), 0 – 7.992 s (baseline off), ~134 kB, data loaded,\n",
      " '1': 1>, so metadata was not modified.\n",
      "  res = mne_connectivity.spectral_connectivity_time(\n"
     ]
    },
    {
     "name": "stdout",
     "output_type": "stream",
     "text": [
      "[Connectivity computation done]\n",
      "Computing features for trial:  62\n",
      "[ 4  8 10 13 30 45]\n",
      "(6,)\n",
      "[ 4  8 10 13 30 45]\n",
      "(6,)\n",
      "only using indices for lower-triangular matrix\n",
      "Connectivity computation...\n",
      "   Processing epoch 1 / 1 ...\n",
      "[Connectivity computation done]\n",
      "Computing features for trial:  63\n",
      "[ 4  8 10 13 30 45]\n",
      "(6,)\n",
      "[ 4  8 10 13 30 45]\n",
      "(6,)\n",
      "only using indices for lower-triangular matrix\n"
     ]
    },
    {
     "name": "stderr",
     "output_type": "stream",
     "text": [
      "/Users/jakubblaha/Documents/thesis/thesis-python/common.py:114: RuntimeWarning: There were no Annotations stored in <EpochsArray | 1 events (all good), 0 – 7.992 s (baseline off), ~134 kB, data loaded,\n",
      " '1': 1>, so metadata was not modified.\n",
      "  res = mne_connectivity.spectral_connectivity_time(\n",
      "/Users/jakubblaha/Documents/thesis/thesis-python/common.py:114: RuntimeWarning: There were no Annotations stored in <EpochsArray | 1 events (all good), 0 – 7.992 s (baseline off), ~134 kB, data loaded,\n",
      " '1': 1>, so metadata was not modified.\n",
      "  res = mne_connectivity.spectral_connectivity_time(\n"
     ]
    },
    {
     "name": "stdout",
     "output_type": "stream",
     "text": [
      "Connectivity computation...\n",
      "   Processing epoch 1 / 1 ...\n",
      "[Connectivity computation done]\n",
      "Computing features for trial:  64\n",
      "[ 4  8 10 13 30 45]\n",
      "(6,)\n",
      "[ 4  8 10 13 30 45]\n",
      "(6,)\n",
      "only using indices for lower-triangular matrix\n",
      "Connectivity computation...\n",
      "   Processing epoch 1 / 1 ...\n",
      "[Connectivity computation done]\n",
      "Computing features for trial:  65\n"
     ]
    },
    {
     "name": "stderr",
     "output_type": "stream",
     "text": [
      "/Users/jakubblaha/Documents/thesis/thesis-python/common.py:114: RuntimeWarning: There were no Annotations stored in <EpochsArray | 1 events (all good), 0 – 7.992 s (baseline off), ~134 kB, data loaded,\n",
      " '1': 1>, so metadata was not modified.\n",
      "  res = mne_connectivity.spectral_connectivity_time(\n"
     ]
    },
    {
     "name": "stdout",
     "output_type": "stream",
     "text": [
      "[ 4  8 10 13 30 45]\n",
      "(6,)\n",
      "[ 4  8 10 13 30 45]\n",
      "(6,)\n",
      "only using indices for lower-triangular matrix\n",
      "Connectivity computation...\n",
      "   Processing epoch 1 / 1 ...\n",
      "[Connectivity computation done]\n",
      "Computing features for trial:  66\n"
     ]
    },
    {
     "name": "stderr",
     "output_type": "stream",
     "text": [
      "/Users/jakubblaha/Documents/thesis/thesis-python/common.py:114: RuntimeWarning: There were no Annotations stored in <EpochsArray | 1 events (all good), 0 – 7.992 s (baseline off), ~134 kB, data loaded,\n",
      " '1': 1>, so metadata was not modified.\n",
      "  res = mne_connectivity.spectral_connectivity_time(\n"
     ]
    },
    {
     "name": "stdout",
     "output_type": "stream",
     "text": [
      "[ 4  8 10 13 30 45]\n",
      "(6,)\n",
      "[ 4  8 10 13 30 45]\n",
      "(6,)\n",
      "only using indices for lower-triangular matrix\n",
      "Connectivity computation...\n",
      "   Processing epoch 1 / 1 ...\n",
      "[Connectivity computation done]\n",
      "Computing features for trial:  67\n"
     ]
    },
    {
     "name": "stderr",
     "output_type": "stream",
     "text": [
      "/Users/jakubblaha/Documents/thesis/thesis-python/common.py:114: RuntimeWarning: There were no Annotations stored in <EpochsArray | 1 events (all good), 0 – 7.992 s (baseline off), ~134 kB, data loaded,\n",
      " '1': 1>, so metadata was not modified.\n",
      "  res = mne_connectivity.spectral_connectivity_time(\n"
     ]
    },
    {
     "name": "stdout",
     "output_type": "stream",
     "text": [
      "[ 4  8 10 13 30 45]\n",
      "(6,)\n",
      "[ 4  8 10 13 30 45]\n",
      "(6,)\n",
      "only using indices for lower-triangular matrix\n",
      "Connectivity computation...\n",
      "   Processing epoch 1 / 1 ...\n",
      "[Connectivity computation done]\n",
      "Computing features for trial:  68\n"
     ]
    },
    {
     "name": "stderr",
     "output_type": "stream",
     "text": [
      "/Users/jakubblaha/Documents/thesis/thesis-python/common.py:114: RuntimeWarning: There were no Annotations stored in <EpochsArray | 1 events (all good), 0 – 7.992 s (baseline off), ~134 kB, data loaded,\n",
      " '1': 1>, so metadata was not modified.\n",
      "  res = mne_connectivity.spectral_connectivity_time(\n"
     ]
    },
    {
     "name": "stdout",
     "output_type": "stream",
     "text": [
      "[ 4  8 10 13 30 45]\n",
      "(6,)\n",
      "[ 4  8 10 13 30 45]\n",
      "(6,)\n",
      "only using indices for lower-triangular matrix\n",
      "Connectivity computation...\n",
      "   Processing epoch 1 / 1 ...\n"
     ]
    },
    {
     "name": "stderr",
     "output_type": "stream",
     "text": [
      "/Users/jakubblaha/Documents/thesis/thesis-python/common.py:114: RuntimeWarning: There were no Annotations stored in <EpochsArray | 1 events (all good), 0 – 7.992 s (baseline off), ~134 kB, data loaded,\n",
      " '1': 1>, so metadata was not modified.\n",
      "  res = mne_connectivity.spectral_connectivity_time(\n"
     ]
    },
    {
     "name": "stdout",
     "output_type": "stream",
     "text": [
      "[Connectivity computation done]\n",
      "Computing features for trial:  69\n",
      "[ 4  8 10 13 30 45]\n",
      "(6,)\n",
      "[ 4  8 10 13 30 45]\n",
      "(6,)\n",
      "only using indices for lower-triangular matrix\n",
      "Connectivity computation...\n",
      "   Processing epoch 1 / 1 ...\n",
      "[Connectivity computation done]\n"
     ]
    },
    {
     "name": "stderr",
     "output_type": "stream",
     "text": [
      "/Users/jakubblaha/Documents/thesis/thesis-python/common.py:114: RuntimeWarning: There were no Annotations stored in <EpochsArray | 1 events (all good), 0 – 7.992 s (baseline off), ~134 kB, data loaded,\n",
      " '1': 1>, so metadata was not modified.\n",
      "  res = mne_connectivity.spectral_connectivity_time(\n"
     ]
    },
    {
     "name": "stdout",
     "output_type": "stream",
     "text": [
      "Computing features for trial:  70\n",
      "[ 4  8 10 13 30 45]\n",
      "(6,)\n",
      "[ 4  8 10 13 30 45]\n",
      "(6,)\n",
      "only using indices for lower-triangular matrix\n",
      "Connectivity computation...\n",
      "   Processing epoch 1 / 1 ...\n",
      "[Connectivity computation done]\n",
      "Computing features for trial:  71\n"
     ]
    },
    {
     "name": "stderr",
     "output_type": "stream",
     "text": [
      "/Users/jakubblaha/Documents/thesis/thesis-python/common.py:114: RuntimeWarning: There were no Annotations stored in <EpochsArray | 1 events (all good), 0 – 7.992 s (baseline off), ~134 kB, data loaded,\n",
      " '1': 1>, so metadata was not modified.\n",
      "  res = mne_connectivity.spectral_connectivity_time(\n"
     ]
    },
    {
     "name": "stdout",
     "output_type": "stream",
     "text": [
      "[ 4  8 10 13 30 45]\n",
      "(6,)\n",
      "[ 4  8 10 13 30 45]\n",
      "(6,)\n",
      "only using indices for lower-triangular matrix\n",
      "Connectivity computation...\n",
      "   Processing epoch 1 / 1 ...\n",
      "[Connectivity computation done]\n",
      "Computing features for trial:  72\n"
     ]
    },
    {
     "name": "stderr",
     "output_type": "stream",
     "text": [
      "/Users/jakubblaha/Documents/thesis/thesis-python/common.py:114: RuntimeWarning: There were no Annotations stored in <EpochsArray | 1 events (all good), 0 – 7.992 s (baseline off), ~134 kB, data loaded,\n",
      " '1': 1>, so metadata was not modified.\n",
      "  res = mne_connectivity.spectral_connectivity_time(\n"
     ]
    },
    {
     "name": "stdout",
     "output_type": "stream",
     "text": [
      "[ 4  8 10 13 30 45]\n",
      "(6,)\n",
      "[ 4  8 10 13 30 45]\n",
      "(6,)\n",
      "only using indices for lower-triangular matrix\n",
      "Connectivity computation...\n",
      "   Processing epoch 1 / 1 ...\n",
      "[Connectivity computation done]\n",
      "Computing features for trial:  73\n"
     ]
    },
    {
     "name": "stderr",
     "output_type": "stream",
     "text": [
      "/Users/jakubblaha/Documents/thesis/thesis-python/common.py:114: RuntimeWarning: There were no Annotations stored in <EpochsArray | 1 events (all good), 0 – 7.992 s (baseline off), ~134 kB, data loaded,\n",
      " '1': 1>, so metadata was not modified.\n",
      "  res = mne_connectivity.spectral_connectivity_time(\n"
     ]
    },
    {
     "name": "stdout",
     "output_type": "stream",
     "text": [
      "[ 4  8 10 13 30 45]\n",
      "(6,)\n",
      "[ 4  8 10 13 30 45]\n",
      "(6,)\n",
      "only using indices for lower-triangular matrix\n",
      "Connectivity computation...\n",
      "   Processing epoch 1 / 1 ...\n",
      "[Connectivity computation done]\n",
      "Computing features for trial:  74\n"
     ]
    },
    {
     "name": "stderr",
     "output_type": "stream",
     "text": [
      "/Users/jakubblaha/Documents/thesis/thesis-python/common.py:114: RuntimeWarning: There were no Annotations stored in <EpochsArray | 1 events (all good), 0 – 7.992 s (baseline off), ~134 kB, data loaded,\n",
      " '1': 1>, so metadata was not modified.\n",
      "  res = mne_connectivity.spectral_connectivity_time(\n"
     ]
    },
    {
     "name": "stdout",
     "output_type": "stream",
     "text": [
      "[ 4  8 10 13 30 45]\n",
      "(6,)\n",
      "[ 4  8 10 13 30 45]\n",
      "(6,)\n",
      "only using indices for lower-triangular matrix\n",
      "Connectivity computation...\n",
      "   Processing epoch 1 / 1 ...\n",
      "[Connectivity computation done]\n",
      "Computing features for trial:  75\n"
     ]
    },
    {
     "name": "stderr",
     "output_type": "stream",
     "text": [
      "/Users/jakubblaha/Documents/thesis/thesis-python/common.py:114: RuntimeWarning: There were no Annotations stored in <EpochsArray | 1 events (all good), 0 – 7.992 s (baseline off), ~134 kB, data loaded,\n",
      " '1': 1>, so metadata was not modified.\n",
      "  res = mne_connectivity.spectral_connectivity_time(\n"
     ]
    },
    {
     "name": "stdout",
     "output_type": "stream",
     "text": [
      "[ 4  8 10 13 30 45]\n",
      "(6,)\n",
      "[ 4  8 10 13 30 45]\n",
      "(6,)\n",
      "only using indices for lower-triangular matrix\n",
      "Connectivity computation...\n",
      "   Processing epoch 1 / 1 ...\n"
     ]
    },
    {
     "name": "stderr",
     "output_type": "stream",
     "text": [
      "/Users/jakubblaha/Documents/thesis/thesis-python/common.py:114: RuntimeWarning: There were no Annotations stored in <EpochsArray | 1 events (all good), 0 – 7.992 s (baseline off), ~134 kB, data loaded,\n",
      " '1': 1>, so metadata was not modified.\n",
      "  res = mne_connectivity.spectral_connectivity_time(\n"
     ]
    },
    {
     "name": "stdout",
     "output_type": "stream",
     "text": [
      "[Connectivity computation done]\n",
      "Computing features for trial:  76\n",
      "[ 4  8 10 13 30 45]\n",
      "(6,)\n",
      "[ 4  8 10 13 30 45]\n",
      "(6,)\n",
      "only using indices for lower-triangular matrix\n",
      "Connectivity computation...\n",
      "   Processing epoch 1 / 1 ...\n",
      "[Connectivity computation done]\n"
     ]
    },
    {
     "name": "stderr",
     "output_type": "stream",
     "text": [
      "/Users/jakubblaha/Documents/thesis/thesis-python/common.py:114: RuntimeWarning: There were no Annotations stored in <EpochsArray | 1 events (all good), 0 – 7.992 s (baseline off), ~134 kB, data loaded,\n",
      " '1': 1>, so metadata was not modified.\n",
      "  res = mne_connectivity.spectral_connectivity_time(\n"
     ]
    },
    {
     "name": "stdout",
     "output_type": "stream",
     "text": [
      "Computing features for trial:  77\n",
      "[ 4  8 10 13 30 45]\n",
      "(6,)\n",
      "[ 4  8 10 13 30 45]\n",
      "(6,)\n",
      "only using indices for lower-triangular matrix\n",
      "Connectivity computation...\n",
      "   Processing epoch 1 / 1 ...\n",
      "[Connectivity computation done]\n",
      "Computing features for trial:  78\n"
     ]
    },
    {
     "name": "stderr",
     "output_type": "stream",
     "text": [
      "/Users/jakubblaha/Documents/thesis/thesis-python/common.py:114: RuntimeWarning: There were no Annotations stored in <EpochsArray | 1 events (all good), 0 – 7.992 s (baseline off), ~134 kB, data loaded,\n",
      " '1': 1>, so metadata was not modified.\n",
      "  res = mne_connectivity.spectral_connectivity_time(\n"
     ]
    },
    {
     "name": "stdout",
     "output_type": "stream",
     "text": [
      "[ 4  8 10 13 30 45]\n",
      "(6,)\n",
      "[ 4  8 10 13 30 45]\n",
      "(6,)\n",
      "only using indices for lower-triangular matrix\n",
      "Connectivity computation...\n",
      "   Processing epoch 1 / 1 ...\n",
      "[Connectivity computation done]\n",
      "Computing features for trial:  79\n"
     ]
    },
    {
     "name": "stderr",
     "output_type": "stream",
     "text": [
      "/Users/jakubblaha/Documents/thesis/thesis-python/common.py:114: RuntimeWarning: There were no Annotations stored in <EpochsArray | 1 events (all good), 0 – 7.992 s (baseline off), ~134 kB, data loaded,\n",
      " '1': 1>, so metadata was not modified.\n",
      "  res = mne_connectivity.spectral_connectivity_time(\n"
     ]
    },
    {
     "name": "stdout",
     "output_type": "stream",
     "text": [
      "[ 4  8 10 13 30 45]\n",
      "(6,)\n",
      "[ 4  8 10 13 30 45]\n",
      "(6,)\n",
      "only using indices for lower-triangular matrix\n",
      "Connectivity computation...\n",
      "   Processing epoch 1 / 1 ...\n",
      "[Connectivity computation done]\n",
      "Computing features for trial:  80\n"
     ]
    },
    {
     "name": "stderr",
     "output_type": "stream",
     "text": [
      "/Users/jakubblaha/Documents/thesis/thesis-python/common.py:114: RuntimeWarning: There were no Annotations stored in <EpochsArray | 1 events (all good), 0 – 7.992 s (baseline off), ~134 kB, data loaded,\n",
      " '1': 1>, so metadata was not modified.\n",
      "  res = mne_connectivity.spectral_connectivity_time(\n"
     ]
    },
    {
     "name": "stdout",
     "output_type": "stream",
     "text": [
      "[ 4  8 10 13 30 45]\n",
      "(6,)\n",
      "[ 4  8 10 13 30 45]\n",
      "(6,)\n",
      "only using indices for lower-triangular matrix\n",
      "Connectivity computation...\n",
      "   Processing epoch 1 / 1 ...\n",
      "[Connectivity computation done]\n",
      "Computing features for trial:  81\n"
     ]
    },
    {
     "name": "stderr",
     "output_type": "stream",
     "text": [
      "/Users/jakubblaha/Documents/thesis/thesis-python/common.py:114: RuntimeWarning: There were no Annotations stored in <EpochsArray | 1 events (all good), 0 – 7.992 s (baseline off), ~134 kB, data loaded,\n",
      " '1': 1>, so metadata was not modified.\n",
      "  res = mne_connectivity.spectral_connectivity_time(\n"
     ]
    },
    {
     "name": "stdout",
     "output_type": "stream",
     "text": [
      "[ 4  8 10 13 30 45]\n",
      "(6,)\n",
      "[ 4  8 10 13 30 45]\n",
      "(6,)\n",
      "only using indices for lower-triangular matrix\n",
      "Connectivity computation...\n",
      "   Processing epoch 1 / 1 ...\n",
      "[Connectivity computation done]\n",
      "Computing features for trial:  82\n"
     ]
    },
    {
     "name": "stderr",
     "output_type": "stream",
     "text": [
      "/Users/jakubblaha/Documents/thesis/thesis-python/common.py:114: RuntimeWarning: There were no Annotations stored in <EpochsArray | 1 events (all good), 0 – 7.992 s (baseline off), ~134 kB, data loaded,\n",
      " '1': 1>, so metadata was not modified.\n",
      "  res = mne_connectivity.spectral_connectivity_time(\n"
     ]
    },
    {
     "name": "stdout",
     "output_type": "stream",
     "text": [
      "[ 4  8 10 13 30 45]\n",
      "(6,)\n",
      "[ 4  8 10 13 30 45]\n",
      "(6,)\n",
      "only using indices for lower-triangular matrix\n",
      "Connectivity computation...\n",
      "   Processing epoch 1 / 1 ...\n"
     ]
    },
    {
     "name": "stderr",
     "output_type": "stream",
     "text": [
      "/Users/jakubblaha/Documents/thesis/thesis-python/common.py:114: RuntimeWarning: There were no Annotations stored in <EpochsArray | 1 events (all good), 0 – 7.992 s (baseline off), ~134 kB, data loaded,\n",
      " '1': 1>, so metadata was not modified.\n",
      "  res = mne_connectivity.spectral_connectivity_time(\n"
     ]
    },
    {
     "name": "stdout",
     "output_type": "stream",
     "text": [
      "[Connectivity computation done]\n",
      "Computing features for trial:  83\n",
      "[ 4  8 10 13 30 45]\n",
      "(6,)\n",
      "[ 4  8 10 13 30 45]\n",
      "(6,)\n",
      "only using indices for lower-triangular matrix\n",
      "Connectivity computation...\n",
      "   Processing epoch 1 / 1 ...\n",
      "[Connectivity computation done]\n"
     ]
    },
    {
     "name": "stderr",
     "output_type": "stream",
     "text": [
      "/Users/jakubblaha/Documents/thesis/thesis-python/common.py:114: RuntimeWarning: There were no Annotations stored in <EpochsArray | 1 events (all good), 0 – 7.992 s (baseline off), ~134 kB, data loaded,\n",
      " '1': 1>, so metadata was not modified.\n",
      "  res = mne_connectivity.spectral_connectivity_time(\n"
     ]
    },
    {
     "name": "stdout",
     "output_type": "stream",
     "text": [
      "Computing features for trial:  84\n",
      "[ 4  8 10 13 30 45]\n",
      "(6,)\n",
      "[ 4  8 10 13 30 45]\n",
      "(6,)\n",
      "only using indices for lower-triangular matrix\n",
      "Connectivity computation...\n",
      "   Processing epoch 1 / 1 ...\n",
      "[Connectivity computation done]\n",
      "Computing features for trial:  85\n"
     ]
    },
    {
     "name": "stderr",
     "output_type": "stream",
     "text": [
      "/Users/jakubblaha/Documents/thesis/thesis-python/common.py:114: RuntimeWarning: There were no Annotations stored in <EpochsArray | 1 events (all good), 0 – 7.992 s (baseline off), ~134 kB, data loaded,\n",
      " '1': 1>, so metadata was not modified.\n",
      "  res = mne_connectivity.spectral_connectivity_time(\n"
     ]
    },
    {
     "name": "stdout",
     "output_type": "stream",
     "text": [
      "[ 4  8 10 13 30 45]\n",
      "(6,)\n",
      "[ 4  8 10 13 30 45]\n",
      "(6,)\n",
      "only using indices for lower-triangular matrix\n",
      "Connectivity computation...\n",
      "   Processing epoch 1 / 1 ...\n",
      "[Connectivity computation done]\n",
      "Computing features for trial:  86\n"
     ]
    },
    {
     "name": "stderr",
     "output_type": "stream",
     "text": [
      "/Users/jakubblaha/Documents/thesis/thesis-python/common.py:114: RuntimeWarning: There were no Annotations stored in <EpochsArray | 1 events (all good), 0 – 7.992 s (baseline off), ~134 kB, data loaded,\n",
      " '1': 1>, so metadata was not modified.\n",
      "  res = mne_connectivity.spectral_connectivity_time(\n"
     ]
    },
    {
     "name": "stdout",
     "output_type": "stream",
     "text": [
      "[ 4  8 10 13 30 45]\n",
      "(6,)\n",
      "[ 4  8 10 13 30 45]\n",
      "(6,)\n",
      "only using indices for lower-triangular matrix\n",
      "Connectivity computation...\n",
      "   Processing epoch 1 / 1 ...\n",
      "[Connectivity computation done]\n",
      "Computing features for trial:  87\n"
     ]
    },
    {
     "name": "stderr",
     "output_type": "stream",
     "text": [
      "/Users/jakubblaha/Documents/thesis/thesis-python/common.py:114: RuntimeWarning: There were no Annotations stored in <EpochsArray | 1 events (all good), 0 – 7.992 s (baseline off), ~134 kB, data loaded,\n",
      " '1': 1>, so metadata was not modified.\n",
      "  res = mne_connectivity.spectral_connectivity_time(\n"
     ]
    },
    {
     "name": "stdout",
     "output_type": "stream",
     "text": [
      "[ 4  8 10 13 30 45]\n",
      "(6,)\n",
      "[ 4  8 10 13 30 45]\n",
      "(6,)\n",
      "only using indices for lower-triangular matrix\n",
      "Connectivity computation...\n",
      "   Processing epoch 1 / 1 ...\n",
      "[Connectivity computation done]\n",
      "Computing features for trial:  88\n"
     ]
    },
    {
     "name": "stderr",
     "output_type": "stream",
     "text": [
      "/Users/jakubblaha/Documents/thesis/thesis-python/common.py:114: RuntimeWarning: There were no Annotations stored in <EpochsArray | 1 events (all good), 0 – 7.992 s (baseline off), ~134 kB, data loaded,\n",
      " '1': 1>, so metadata was not modified.\n",
      "  res = mne_connectivity.spectral_connectivity_time(\n"
     ]
    },
    {
     "name": "stdout",
     "output_type": "stream",
     "text": [
      "[ 4  8 10 13 30 45]\n",
      "(6,)\n",
      "[ 4  8 10 13 30 45]\n",
      "(6,)\n",
      "only using indices for lower-triangular matrix\n",
      "Connectivity computation...\n",
      "   Processing epoch 1 / 1 ...\n",
      "[Connectivity computation done]\n",
      "Computing features for trial:  89\n"
     ]
    },
    {
     "name": "stderr",
     "output_type": "stream",
     "text": [
      "/Users/jakubblaha/Documents/thesis/thesis-python/common.py:114: RuntimeWarning: There were no Annotations stored in <EpochsArray | 1 events (all good), 0 – 7.992 s (baseline off), ~134 kB, data loaded,\n",
      " '1': 1>, so metadata was not modified.\n",
      "  res = mne_connectivity.spectral_connectivity_time(\n"
     ]
    },
    {
     "name": "stdout",
     "output_type": "stream",
     "text": [
      "[ 4  8 10 13 30 45]\n",
      "(6,)\n",
      "[ 4  8 10 13 30 45]\n",
      "(6,)\n",
      "only using indices for lower-triangular matrix\n",
      "Connectivity computation...\n",
      "   Processing epoch 1 / 1 ...\n"
     ]
    },
    {
     "name": "stderr",
     "output_type": "stream",
     "text": [
      "/Users/jakubblaha/Documents/thesis/thesis-python/common.py:114: RuntimeWarning: There were no Annotations stored in <EpochsArray | 1 events (all good), 0 – 7.992 s (baseline off), ~134 kB, data loaded,\n",
      " '1': 1>, so metadata was not modified.\n",
      "  res = mne_connectivity.spectral_connectivity_time(\n"
     ]
    },
    {
     "name": "stdout",
     "output_type": "stream",
     "text": [
      "[Connectivity computation done]\n",
      "Computing features for trial:  90\n",
      "[ 4  8 10 13 30 45]\n",
      "(6,)\n",
      "[ 4  8 10 13 30 45]\n",
      "(6,)\n",
      "only using indices for lower-triangular matrix\n",
      "Connectivity computation...\n",
      "   Processing epoch 1 / 1 ...\n",
      "[Connectivity computation done]\n"
     ]
    },
    {
     "name": "stderr",
     "output_type": "stream",
     "text": [
      "/Users/jakubblaha/Documents/thesis/thesis-python/common.py:114: RuntimeWarning: There were no Annotations stored in <EpochsArray | 1 events (all good), 0 – 7.992 s (baseline off), ~134 kB, data loaded,\n",
      " '1': 1>, so metadata was not modified.\n",
      "  res = mne_connectivity.spectral_connectivity_time(\n"
     ]
    },
    {
     "name": "stdout",
     "output_type": "stream",
     "text": [
      "Computing features for trial:  91\n",
      "[ 4  8 10 13 30 45]\n",
      "(6,)\n",
      "[ 4  8 10 13 30 45]\n",
      "(6,)\n",
      "only using indices for lower-triangular matrix\n",
      "Connectivity computation...\n",
      "   Processing epoch 1 / 1 ...\n",
      "[Connectivity computation done]\n",
      "Computing features for trial:  92\n"
     ]
    },
    {
     "name": "stderr",
     "output_type": "stream",
     "text": [
      "/Users/jakubblaha/Documents/thesis/thesis-python/common.py:114: RuntimeWarning: There were no Annotations stored in <EpochsArray | 1 events (all good), 0 – 7.992 s (baseline off), ~134 kB, data loaded,\n",
      " '1': 1>, so metadata was not modified.\n",
      "  res = mne_connectivity.spectral_connectivity_time(\n"
     ]
    },
    {
     "name": "stdout",
     "output_type": "stream",
     "text": [
      "[ 4  8 10 13 30 45]\n",
      "(6,)\n",
      "[ 4  8 10 13 30 45]\n",
      "(6,)\n",
      "only using indices for lower-triangular matrix\n",
      "Connectivity computation...\n",
      "   Processing epoch 1 / 1 ...\n",
      "[Connectivity computation done]\n",
      "Computing features for trial:  93\n"
     ]
    },
    {
     "name": "stderr",
     "output_type": "stream",
     "text": [
      "/Users/jakubblaha/Documents/thesis/thesis-python/common.py:114: RuntimeWarning: There were no Annotations stored in <EpochsArray | 1 events (all good), 0 – 7.992 s (baseline off), ~134 kB, data loaded,\n",
      " '1': 1>, so metadata was not modified.\n",
      "  res = mne_connectivity.spectral_connectivity_time(\n"
     ]
    },
    {
     "name": "stdout",
     "output_type": "stream",
     "text": [
      "[ 4  8 10 13 30 45]\n",
      "(6,)\n",
      "[ 4  8 10 13 30 45]\n",
      "(6,)\n",
      "only using indices for lower-triangular matrix\n",
      "Connectivity computation...\n",
      "   Processing epoch 1 / 1 ...\n",
      "[Connectivity computation done]\n",
      "Computing features for trial:  94\n"
     ]
    },
    {
     "name": "stderr",
     "output_type": "stream",
     "text": [
      "/Users/jakubblaha/Documents/thesis/thesis-python/common.py:114: RuntimeWarning: There were no Annotations stored in <EpochsArray | 1 events (all good), 0 – 7.992 s (baseline off), ~134 kB, data loaded,\n",
      " '1': 1>, so metadata was not modified.\n",
      "  res = mne_connectivity.spectral_connectivity_time(\n"
     ]
    },
    {
     "name": "stdout",
     "output_type": "stream",
     "text": [
      "[ 4  8 10 13 30 45]\n",
      "(6,)\n",
      "[ 4  8 10 13 30 45]\n",
      "(6,)\n",
      "only using indices for lower-triangular matrix\n",
      "Connectivity computation...\n",
      "   Processing epoch 1 / 1 ...\n",
      "[Connectivity computation done]\n",
      "Computing features for trial:  95\n"
     ]
    },
    {
     "name": "stderr",
     "output_type": "stream",
     "text": [
      "/Users/jakubblaha/Documents/thesis/thesis-python/common.py:114: RuntimeWarning: There were no Annotations stored in <EpochsArray | 1 events (all good), 0 – 7.992 s (baseline off), ~134 kB, data loaded,\n",
      " '1': 1>, so metadata was not modified.\n",
      "  res = mne_connectivity.spectral_connectivity_time(\n"
     ]
    },
    {
     "name": "stdout",
     "output_type": "stream",
     "text": [
      "[ 4  8 10 13 30 45]\n",
      "(6,)\n",
      "[ 4  8 10 13 30 45]\n",
      "(6,)\n",
      "only using indices for lower-triangular matrix\n",
      "Connectivity computation...\n",
      "   Processing epoch 1 / 1 ...\n",
      "[Connectivity computation done]\n",
      "Computing features for trial:  96\n"
     ]
    },
    {
     "name": "stderr",
     "output_type": "stream",
     "text": [
      "/Users/jakubblaha/Documents/thesis/thesis-python/common.py:114: RuntimeWarning: There were no Annotations stored in <EpochsArray | 1 events (all good), 0 – 7.992 s (baseline off), ~134 kB, data loaded,\n",
      " '1': 1>, so metadata was not modified.\n",
      "  res = mne_connectivity.spectral_connectivity_time(\n"
     ]
    },
    {
     "name": "stdout",
     "output_type": "stream",
     "text": [
      "[ 4  8 10 13 30 45]\n",
      "(6,)\n",
      "[ 4  8 10 13 30 45]\n",
      "(6,)\n",
      "only using indices for lower-triangular matrix\n",
      "Connectivity computation...\n",
      "   Processing epoch 1 / 1 ...\n"
     ]
    },
    {
     "name": "stderr",
     "output_type": "stream",
     "text": [
      "/Users/jakubblaha/Documents/thesis/thesis-python/common.py:114: RuntimeWarning: There were no Annotations stored in <EpochsArray | 1 events (all good), 0 – 7.992 s (baseline off), ~134 kB, data loaded,\n",
      " '1': 1>, so metadata was not modified.\n",
      "  res = mne_connectivity.spectral_connectivity_time(\n"
     ]
    },
    {
     "name": "stdout",
     "output_type": "stream",
     "text": [
      "[Connectivity computation done]\n",
      "Computing features for trial:  97\n",
      "[ 4  8 10 13 30 45]\n",
      "(6,)\n",
      "[ 4  8 10 13 30 45]\n",
      "(6,)\n",
      "only using indices for lower-triangular matrix\n",
      "Connectivity computation...\n",
      "   Processing epoch 1 / 1 ...\n",
      "[Connectivity computation done]\n",
      "Computing features for trial:  98\n"
     ]
    },
    {
     "name": "stderr",
     "output_type": "stream",
     "text": [
      "/Users/jakubblaha/Documents/thesis/thesis-python/common.py:114: RuntimeWarning: There were no Annotations stored in <EpochsArray | 1 events (all good), 0 – 7.992 s (baseline off), ~134 kB, data loaded,\n",
      " '1': 1>, so metadata was not modified.\n",
      "  res = mne_connectivity.spectral_connectivity_time(\n"
     ]
    },
    {
     "name": "stdout",
     "output_type": "stream",
     "text": [
      "[ 4  8 10 13 30 45]\n",
      "(6,)\n",
      "[ 4  8 10 13 30 45]\n",
      "(6,)\n",
      "only using indices for lower-triangular matrix\n",
      "Connectivity computation...\n",
      "   Processing epoch 1 / 1 ...\n",
      "[Connectivity computation done]\n",
      "Computing features for trial:  99\n"
     ]
    },
    {
     "name": "stderr",
     "output_type": "stream",
     "text": [
      "/Users/jakubblaha/Documents/thesis/thesis-python/common.py:114: RuntimeWarning: There were no Annotations stored in <EpochsArray | 1 events (all good), 0 – 7.992 s (baseline off), ~134 kB, data loaded,\n",
      " '1': 1>, so metadata was not modified.\n",
      "  res = mne_connectivity.spectral_connectivity_time(\n"
     ]
    },
    {
     "name": "stdout",
     "output_type": "stream",
     "text": [
      "[ 4  8 10 13 30 45]\n",
      "(6,)\n",
      "[ 4  8 10 13 30 45]\n",
      "(6,)\n",
      "only using indices for lower-triangular matrix\n",
      "Connectivity computation...\n",
      "   Processing epoch 1 / 1 ...\n",
      "[Connectivity computation done]\n",
      "Computing features for trial:  100\n"
     ]
    },
    {
     "name": "stderr",
     "output_type": "stream",
     "text": [
      "/Users/jakubblaha/Documents/thesis/thesis-python/common.py:114: RuntimeWarning: There were no Annotations stored in <EpochsArray | 1 events (all good), 0 – 7.992 s (baseline off), ~134 kB, data loaded,\n",
      " '1': 1>, so metadata was not modified.\n",
      "  res = mne_connectivity.spectral_connectivity_time(\n"
     ]
    },
    {
     "name": "stdout",
     "output_type": "stream",
     "text": [
      "[ 4  8 10 13 30 45]\n",
      "(6,)\n",
      "[ 4  8 10 13 30 45]\n",
      "(6,)\n",
      "only using indices for lower-triangular matrix\n",
      "Connectivity computation...\n",
      "   Processing epoch 1 / 1 ...\n",
      "[Connectivity computation done]\n",
      "Computing features for trial:  101\n"
     ]
    },
    {
     "name": "stderr",
     "output_type": "stream",
     "text": [
      "/Users/jakubblaha/Documents/thesis/thesis-python/common.py:114: RuntimeWarning: There were no Annotations stored in <EpochsArray | 1 events (all good), 0 – 7.992 s (baseline off), ~134 kB, data loaded,\n",
      " '1': 1>, so metadata was not modified.\n",
      "  res = mne_connectivity.spectral_connectivity_time(\n"
     ]
    },
    {
     "name": "stdout",
     "output_type": "stream",
     "text": [
      "[ 4  8 10 13 30 45]\n",
      "(6,)\n",
      "[ 4  8 10 13 30 45]\n",
      "(6,)\n",
      "only using indices for lower-triangular matrix\n",
      "Connectivity computation...\n",
      "   Processing epoch 1 / 1 ...\n",
      "[Connectivity computation done]\n",
      "Computing features for trial:  102\n"
     ]
    },
    {
     "name": "stderr",
     "output_type": "stream",
     "text": [
      "/Users/jakubblaha/Documents/thesis/thesis-python/common.py:114: RuntimeWarning: There were no Annotations stored in <EpochsArray | 1 events (all good), 0 – 7.992 s (baseline off), ~134 kB, data loaded,\n",
      " '1': 1>, so metadata was not modified.\n",
      "  res = mne_connectivity.spectral_connectivity_time(\n"
     ]
    },
    {
     "name": "stdout",
     "output_type": "stream",
     "text": [
      "[ 4  8 10 13 30 45]\n",
      "(6,)\n",
      "[ 4  8 10 13 30 45]\n",
      "(6,)\n",
      "only using indices for lower-triangular matrix\n",
      "Connectivity computation...\n",
      "   Processing epoch 1 / 1 ...\n",
      "[Connectivity computation done]\n",
      "Computing features for trial:  103\n"
     ]
    },
    {
     "name": "stderr",
     "output_type": "stream",
     "text": [
      "/Users/jakubblaha/Documents/thesis/thesis-python/common.py:114: RuntimeWarning: There were no Annotations stored in <EpochsArray | 1 events (all good), 0 – 7.992 s (baseline off), ~134 kB, data loaded,\n",
      " '1': 1>, so metadata was not modified.\n",
      "  res = mne_connectivity.spectral_connectivity_time(\n"
     ]
    },
    {
     "name": "stdout",
     "output_type": "stream",
     "text": [
      "[ 4  8 10 13 30 45]\n",
      "(6,)\n",
      "[ 4  8 10 13 30 45]\n",
      "(6,)\n",
      "only using indices for lower-triangular matrix\n",
      "Connectivity computation...\n",
      "   Processing epoch 1 / 1 ...\n",
      "[Connectivity computation done]\n",
      "Computing features for trial:  104\n"
     ]
    },
    {
     "name": "stderr",
     "output_type": "stream",
     "text": [
      "/Users/jakubblaha/Documents/thesis/thesis-python/common.py:114: RuntimeWarning: There were no Annotations stored in <EpochsArray | 1 events (all good), 0 – 7.992 s (baseline off), ~134 kB, data loaded,\n",
      " '1': 1>, so metadata was not modified.\n",
      "  res = mne_connectivity.spectral_connectivity_time(\n"
     ]
    },
    {
     "name": "stdout",
     "output_type": "stream",
     "text": [
      "[ 4  8 10 13 30 45]\n",
      "(6,)\n",
      "[ 4  8 10 13 30 45]\n",
      "(6,)\n",
      "only using indices for lower-triangular matrix\n",
      "Connectivity computation...\n",
      "   Processing epoch 1 / 1 ...\n",
      "[Connectivity computation done]\n",
      "Computing features for trial:  105\n"
     ]
    },
    {
     "name": "stderr",
     "output_type": "stream",
     "text": [
      "/Users/jakubblaha/Documents/thesis/thesis-python/common.py:114: RuntimeWarning: There were no Annotations stored in <EpochsArray | 1 events (all good), 0 – 7.992 s (baseline off), ~134 kB, data loaded,\n",
      " '1': 1>, so metadata was not modified.\n",
      "  res = mne_connectivity.spectral_connectivity_time(\n"
     ]
    },
    {
     "name": "stdout",
     "output_type": "stream",
     "text": [
      "[ 4  8 10 13 30 45]\n",
      "(6,)\n",
      "[ 4  8 10 13 30 45]\n",
      "(6,)\n",
      "only using indices for lower-triangular matrix\n",
      "Connectivity computation...\n",
      "   Processing epoch 1 / 1 ...\n",
      "[Connectivity computation done]\n",
      "Computing features for trial:  106\n"
     ]
    },
    {
     "name": "stderr",
     "output_type": "stream",
     "text": [
      "/Users/jakubblaha/Documents/thesis/thesis-python/common.py:114: RuntimeWarning: There were no Annotations stored in <EpochsArray | 1 events (all good), 0 – 7.992 s (baseline off), ~134 kB, data loaded,\n",
      " '1': 1>, so metadata was not modified.\n",
      "  res = mne_connectivity.spectral_connectivity_time(\n"
     ]
    },
    {
     "name": "stdout",
     "output_type": "stream",
     "text": [
      "[ 4  8 10 13 30 45]\n",
      "(6,)\n",
      "[ 4  8 10 13 30 45]\n",
      "(6,)\n",
      "only using indices for lower-triangular matrix\n",
      "Connectivity computation...\n",
      "   Processing epoch 1 / 1 ...\n",
      "[Connectivity computation done]\n",
      "Computing features for trial:  107\n"
     ]
    },
    {
     "name": "stderr",
     "output_type": "stream",
     "text": [
      "/Users/jakubblaha/Documents/thesis/thesis-python/common.py:114: RuntimeWarning: There were no Annotations stored in <EpochsArray | 1 events (all good), 0 – 7.992 s (baseline off), ~134 kB, data loaded,\n",
      " '1': 1>, so metadata was not modified.\n",
      "  res = mne_connectivity.spectral_connectivity_time(\n"
     ]
    },
    {
     "name": "stdout",
     "output_type": "stream",
     "text": [
      "[ 4  8 10 13 30 45]\n",
      "(6,)\n",
      "[ 4  8 10 13 30 45]\n",
      "(6,)\n",
      "only using indices for lower-triangular matrix\n",
      "Connectivity computation...\n",
      "   Processing epoch 1 / 1 ...\n",
      "[Connectivity computation done]\n",
      "Computing features for trial:  108\n"
     ]
    },
    {
     "name": "stderr",
     "output_type": "stream",
     "text": [
      "/Users/jakubblaha/Documents/thesis/thesis-python/common.py:114: RuntimeWarning: There were no Annotations stored in <EpochsArray | 1 events (all good), 0 – 7.992 s (baseline off), ~134 kB, data loaded,\n",
      " '1': 1>, so metadata was not modified.\n",
      "  res = mne_connectivity.spectral_connectivity_time(\n"
     ]
    },
    {
     "name": "stdout",
     "output_type": "stream",
     "text": [
      "[ 4  8 10 13 30 45]\n",
      "(6,)\n",
      "[ 4  8 10 13 30 45]\n",
      "(6,)\n",
      "only using indices for lower-triangular matrix\n",
      "Connectivity computation...\n",
      "   Processing epoch 1 / 1 ...\n",
      "[Connectivity computation done]\n",
      "Computing features for trial:  109\n"
     ]
    },
    {
     "name": "stderr",
     "output_type": "stream",
     "text": [
      "/Users/jakubblaha/Documents/thesis/thesis-python/common.py:114: RuntimeWarning: There were no Annotations stored in <EpochsArray | 1 events (all good), 0 – 7.992 s (baseline off), ~134 kB, data loaded,\n",
      " '1': 1>, so metadata was not modified.\n",
      "  res = mne_connectivity.spectral_connectivity_time(\n"
     ]
    },
    {
     "name": "stdout",
     "output_type": "stream",
     "text": [
      "[ 4  8 10 13 30 45]\n",
      "(6,)\n",
      "[ 4  8 10 13 30 45]\n",
      "(6,)\n",
      "only using indices for lower-triangular matrix\n",
      "Connectivity computation...\n",
      "   Processing epoch 1 / 1 ...\n"
     ]
    },
    {
     "name": "stderr",
     "output_type": "stream",
     "text": [
      "/Users/jakubblaha/Documents/thesis/thesis-python/common.py:114: RuntimeWarning: There were no Annotations stored in <EpochsArray | 1 events (all good), 0 – 7.992 s (baseline off), ~134 kB, data loaded,\n",
      " '1': 1>, so metadata was not modified.\n",
      "  res = mne_connectivity.spectral_connectivity_time(\n"
     ]
    },
    {
     "name": "stdout",
     "output_type": "stream",
     "text": [
      "[Connectivity computation done]\n",
      "Computing features for trial:  110\n",
      "[ 4  8 10 13 30 45]\n",
      "(6,)\n",
      "[ 4  8 10 13 30 45]\n",
      "(6,)\n",
      "only using indices for lower-triangular matrix\n",
      "Connectivity computation...\n",
      "   Processing epoch 1 / 1 ...\n",
      "[Connectivity computation done]\n"
     ]
    },
    {
     "name": "stderr",
     "output_type": "stream",
     "text": [
      "/Users/jakubblaha/Documents/thesis/thesis-python/common.py:114: RuntimeWarning: There were no Annotations stored in <EpochsArray | 1 events (all good), 0 – 7.992 s (baseline off), ~134 kB, data loaded,\n",
      " '1': 1>, so metadata was not modified.\n",
      "  res = mne_connectivity.spectral_connectivity_time(\n"
     ]
    },
    {
     "name": "stdout",
     "output_type": "stream",
     "text": [
      "Computing features for trial:  111\n",
      "[ 4  8 10 13 30 45]\n",
      "(6,)\n",
      "[ 4  8 10 13 30 45]\n",
      "(6,)\n",
      "only using indices for lower-triangular matrix\n",
      "Connectivity computation...\n",
      "   Processing epoch 1 / 1 ...\n",
      "[Connectivity computation done]\n",
      "Computing features for trial:  112\n"
     ]
    },
    {
     "name": "stderr",
     "output_type": "stream",
     "text": [
      "/Users/jakubblaha/Documents/thesis/thesis-python/common.py:114: RuntimeWarning: There were no Annotations stored in <EpochsArray | 1 events (all good), 0 – 7.992 s (baseline off), ~134 kB, data loaded,\n",
      " '1': 1>, so metadata was not modified.\n",
      "  res = mne_connectivity.spectral_connectivity_time(\n"
     ]
    },
    {
     "name": "stdout",
     "output_type": "stream",
     "text": [
      "[ 4  8 10 13 30 45]\n",
      "(6,)\n",
      "[ 4  8 10 13 30 45]\n",
      "(6,)\n",
      "only using indices for lower-triangular matrix\n",
      "Connectivity computation...\n",
      "   Processing epoch 1 / 1 ...\n",
      "[Connectivity computation done]\n",
      "Computing features for trial:  113\n"
     ]
    },
    {
     "name": "stderr",
     "output_type": "stream",
     "text": [
      "/Users/jakubblaha/Documents/thesis/thesis-python/common.py:114: RuntimeWarning: There were no Annotations stored in <EpochsArray | 1 events (all good), 0 – 7.992 s (baseline off), ~134 kB, data loaded,\n",
      " '1': 1>, so metadata was not modified.\n",
      "  res = mne_connectivity.spectral_connectivity_time(\n"
     ]
    },
    {
     "name": "stdout",
     "output_type": "stream",
     "text": [
      "[ 4  8 10 13 30 45]\n",
      "(6,)\n",
      "[ 4  8 10 13 30 45]\n",
      "(6,)\n",
      "only using indices for lower-triangular matrix\n",
      "Connectivity computation...\n",
      "   Processing epoch 1 / 1 ...\n",
      "[Connectivity computation done]\n",
      "Computing features for trial:  114\n"
     ]
    },
    {
     "name": "stderr",
     "output_type": "stream",
     "text": [
      "/Users/jakubblaha/Documents/thesis/thesis-python/common.py:114: RuntimeWarning: There were no Annotations stored in <EpochsArray | 1 events (all good), 0 – 7.992 s (baseline off), ~134 kB, data loaded,\n",
      " '1': 1>, so metadata was not modified.\n",
      "  res = mne_connectivity.spectral_connectivity_time(\n"
     ]
    },
    {
     "name": "stdout",
     "output_type": "stream",
     "text": [
      "[ 4  8 10 13 30 45]\n",
      "(6,)\n",
      "[ 4  8 10 13 30 45]\n",
      "(6,)\n",
      "only using indices for lower-triangular matrix\n",
      "Connectivity computation...\n",
      "   Processing epoch 1 / 1 ...\n",
      "[Connectivity computation done]\n",
      "Computing features for trial:  115\n"
     ]
    },
    {
     "name": "stderr",
     "output_type": "stream",
     "text": [
      "/Users/jakubblaha/Documents/thesis/thesis-python/common.py:114: RuntimeWarning: There were no Annotations stored in <EpochsArray | 1 events (all good), 0 – 7.992 s (baseline off), ~134 kB, data loaded,\n",
      " '1': 1>, so metadata was not modified.\n",
      "  res = mne_connectivity.spectral_connectivity_time(\n"
     ]
    },
    {
     "name": "stdout",
     "output_type": "stream",
     "text": [
      "[ 4  8 10 13 30 45]\n",
      "(6,)\n",
      "[ 4  8 10 13 30 45]\n",
      "(6,)\n",
      "only using indices for lower-triangular matrix\n",
      "Connectivity computation...\n",
      "   Processing epoch 1 / 1 ...\n",
      "[Connectivity computation done]\n",
      "Computing features for trial:  116\n"
     ]
    },
    {
     "name": "stderr",
     "output_type": "stream",
     "text": [
      "/Users/jakubblaha/Documents/thesis/thesis-python/common.py:114: RuntimeWarning: There were no Annotations stored in <EpochsArray | 1 events (all good), 0 – 7.992 s (baseline off), ~134 kB, data loaded,\n",
      " '1': 1>, so metadata was not modified.\n",
      "  res = mne_connectivity.spectral_connectivity_time(\n"
     ]
    },
    {
     "name": "stdout",
     "output_type": "stream",
     "text": [
      "[ 4  8 10 13 30 45]\n",
      "(6,)\n",
      "[ 4  8 10 13 30 45]\n",
      "(6,)\n",
      "only using indices for lower-triangular matrix\n",
      "Connectivity computation...\n",
      "   Processing epoch 1 / 1 ...\n"
     ]
    },
    {
     "name": "stderr",
     "output_type": "stream",
     "text": [
      "/Users/jakubblaha/Documents/thesis/thesis-python/common.py:114: RuntimeWarning: There were no Annotations stored in <EpochsArray | 1 events (all good), 0 – 7.992 s (baseline off), ~134 kB, data loaded,\n",
      " '1': 1>, so metadata was not modified.\n",
      "  res = mne_connectivity.spectral_connectivity_time(\n"
     ]
    },
    {
     "name": "stdout",
     "output_type": "stream",
     "text": [
      "[Connectivity computation done]\n",
      "Computing features for trial:  117\n",
      "[ 4  8 10 13 30 45]\n",
      "(6,)\n",
      "[ 4  8 10 13 30 45]\n",
      "(6,)\n",
      "only using indices for lower-triangular matrix\n",
      "Connectivity computation...\n",
      "   Processing epoch 1 / 1 ...\n",
      "[Connectivity computation done]\n"
     ]
    },
    {
     "name": "stderr",
     "output_type": "stream",
     "text": [
      "/Users/jakubblaha/Documents/thesis/thesis-python/common.py:114: RuntimeWarning: There were no Annotations stored in <EpochsArray | 1 events (all good), 0 – 7.992 s (baseline off), ~134 kB, data loaded,\n",
      " '1': 1>, so metadata was not modified.\n",
      "  res = mne_connectivity.spectral_connectivity_time(\n"
     ]
    },
    {
     "name": "stdout",
     "output_type": "stream",
     "text": [
      "Computing features for trial:  118\n",
      "[ 4  8 10 13 30 45]\n",
      "(6,)\n",
      "[ 4  8 10 13 30 45]\n",
      "(6,)\n",
      "only using indices for lower-triangular matrix\n",
      "Connectivity computation...\n",
      "   Processing epoch 1 / 1 ...\n",
      "[Connectivity computation done]\n",
      "Computing features for trial:  119\n"
     ]
    },
    {
     "name": "stderr",
     "output_type": "stream",
     "text": [
      "/Users/jakubblaha/Documents/thesis/thesis-python/common.py:114: RuntimeWarning: There were no Annotations stored in <EpochsArray | 1 events (all good), 0 – 7.992 s (baseline off), ~134 kB, data loaded,\n",
      " '1': 1>, so metadata was not modified.\n",
      "  res = mne_connectivity.spectral_connectivity_time(\n"
     ]
    },
    {
     "name": "stdout",
     "output_type": "stream",
     "text": [
      "[ 4  8 10 13 30 45]\n",
      "(6,)\n",
      "[ 4  8 10 13 30 45]\n",
      "(6,)\n",
      "only using indices for lower-triangular matrix\n",
      "Connectivity computation...\n",
      "   Processing epoch 1 / 1 ...\n",
      "[Connectivity computation done]\n",
      "Computing features for trial:  120\n"
     ]
    },
    {
     "name": "stderr",
     "output_type": "stream",
     "text": [
      "/Users/jakubblaha/Documents/thesis/thesis-python/common.py:114: RuntimeWarning: There were no Annotations stored in <EpochsArray | 1 events (all good), 0 – 7.992 s (baseline off), ~134 kB, data loaded,\n",
      " '1': 1>, so metadata was not modified.\n",
      "  res = mne_connectivity.spectral_connectivity_time(\n"
     ]
    },
    {
     "name": "stdout",
     "output_type": "stream",
     "text": [
      "[ 4  8 10 13 30 45]\n",
      "(6,)\n",
      "[ 4  8 10 13 30 45]\n",
      "(6,)\n",
      "only using indices for lower-triangular matrix\n",
      "Connectivity computation...\n",
      "   Processing epoch 1 / 1 ...\n",
      "[Connectivity computation done]\n",
      "Computing features for trial:  121\n"
     ]
    },
    {
     "name": "stderr",
     "output_type": "stream",
     "text": [
      "/Users/jakubblaha/Documents/thesis/thesis-python/common.py:114: RuntimeWarning: There were no Annotations stored in <EpochsArray | 1 events (all good), 0 – 7.992 s (baseline off), ~134 kB, data loaded,\n",
      " '1': 1>, so metadata was not modified.\n",
      "  res = mne_connectivity.spectral_connectivity_time(\n"
     ]
    },
    {
     "name": "stdout",
     "output_type": "stream",
     "text": [
      "[ 4  8 10 13 30 45]\n",
      "(6,)\n",
      "[ 4  8 10 13 30 45]\n",
      "(6,)\n",
      "only using indices for lower-triangular matrix\n",
      "Connectivity computation...\n",
      "   Processing epoch 1 / 1 ...\n",
      "[Connectivity computation done]\n",
      "Computing features for trial:  122\n"
     ]
    },
    {
     "name": "stderr",
     "output_type": "stream",
     "text": [
      "/Users/jakubblaha/Documents/thesis/thesis-python/common.py:114: RuntimeWarning: There were no Annotations stored in <EpochsArray | 1 events (all good), 0 – 7.992 s (baseline off), ~134 kB, data loaded,\n",
      " '1': 1>, so metadata was not modified.\n",
      "  res = mne_connectivity.spectral_connectivity_time(\n"
     ]
    },
    {
     "name": "stdout",
     "output_type": "stream",
     "text": [
      "[ 4  8 10 13 30 45]\n",
      "(6,)\n",
      "[ 4  8 10 13 30 45]\n",
      "(6,)\n",
      "only using indices for lower-triangular matrix\n",
      "Connectivity computation...\n",
      "   Processing epoch 1 / 1 ...\n",
      "[Connectivity computation done]\n",
      "Computing features for trial:  123\n"
     ]
    },
    {
     "name": "stderr",
     "output_type": "stream",
     "text": [
      "/Users/jakubblaha/Documents/thesis/thesis-python/common.py:114: RuntimeWarning: There were no Annotations stored in <EpochsArray | 1 events (all good), 0 – 7.992 s (baseline off), ~134 kB, data loaded,\n",
      " '1': 1>, so metadata was not modified.\n",
      "  res = mne_connectivity.spectral_connectivity_time(\n"
     ]
    },
    {
     "name": "stdout",
     "output_type": "stream",
     "text": [
      "[ 4  8 10 13 30 45]\n",
      "(6,)\n",
      "[ 4  8 10 13 30 45]\n",
      "(6,)\n",
      "only using indices for lower-triangular matrix\n",
      "Connectivity computation...\n",
      "   Processing epoch 1 / 1 ...\n",
      "[Connectivity computation done]\n",
      "Computing features for trial:  124\n"
     ]
    },
    {
     "name": "stderr",
     "output_type": "stream",
     "text": [
      "/Users/jakubblaha/Documents/thesis/thesis-python/common.py:114: RuntimeWarning: There were no Annotations stored in <EpochsArray | 1 events (all good), 0 – 7.992 s (baseline off), ~134 kB, data loaded,\n",
      " '1': 1>, so metadata was not modified.\n",
      "  res = mne_connectivity.spectral_connectivity_time(\n"
     ]
    },
    {
     "name": "stdout",
     "output_type": "stream",
     "text": [
      "[ 4  8 10 13 30 45]\n",
      "(6,)\n",
      "[ 4  8 10 13 30 45]\n",
      "(6,)\n",
      "only using indices for lower-triangular matrix\n",
      "Connectivity computation...\n",
      "   Processing epoch 1 / 1 ...\n",
      "[Connectivity computation done]\n",
      "Computing features for trial:  125\n"
     ]
    },
    {
     "name": "stderr",
     "output_type": "stream",
     "text": [
      "/Users/jakubblaha/Documents/thesis/thesis-python/common.py:114: RuntimeWarning: There were no Annotations stored in <EpochsArray | 1 events (all good), 0 – 7.992 s (baseline off), ~134 kB, data loaded,\n",
      " '1': 1>, so metadata was not modified.\n",
      "  res = mne_connectivity.spectral_connectivity_time(\n"
     ]
    },
    {
     "name": "stdout",
     "output_type": "stream",
     "text": [
      "[ 4  8 10 13 30 45]\n",
      "(6,)\n",
      "[ 4  8 10 13 30 45]\n",
      "(6,)\n",
      "only using indices for lower-triangular matrix\n",
      "Connectivity computation...\n",
      "   Processing epoch 1 / 1 ...\n",
      "[Connectivity computation done]\n",
      "Computing features for trial:  126\n"
     ]
    },
    {
     "name": "stderr",
     "output_type": "stream",
     "text": [
      "/Users/jakubblaha/Documents/thesis/thesis-python/common.py:114: RuntimeWarning: There were no Annotations stored in <EpochsArray | 1 events (all good), 0 – 7.992 s (baseline off), ~134 kB, data loaded,\n",
      " '1': 1>, so metadata was not modified.\n",
      "  res = mne_connectivity.spectral_connectivity_time(\n"
     ]
    },
    {
     "name": "stdout",
     "output_type": "stream",
     "text": [
      "[ 4  8 10 13 30 45]\n",
      "(6,)\n",
      "[ 4  8 10 13 30 45]\n",
      "(6,)\n",
      "only using indices for lower-triangular matrix\n",
      "Connectivity computation...\n",
      "   Processing epoch 1 / 1 ...\n",
      "[Connectivity computation done]\n",
      "Computing features for trial:  127\n"
     ]
    },
    {
     "name": "stderr",
     "output_type": "stream",
     "text": [
      "/Users/jakubblaha/Documents/thesis/thesis-python/common.py:114: RuntimeWarning: There were no Annotations stored in <EpochsArray | 1 events (all good), 0 – 7.992 s (baseline off), ~134 kB, data loaded,\n",
      " '1': 1>, so metadata was not modified.\n",
      "  res = mne_connectivity.spectral_connectivity_time(\n"
     ]
    },
    {
     "name": "stdout",
     "output_type": "stream",
     "text": [
      "[ 4  8 10 13 30 45]\n",
      "(6,)\n",
      "[ 4  8 10 13 30 45]\n",
      "(6,)\n",
      "only using indices for lower-triangular matrix\n",
      "Connectivity computation...\n",
      "   Processing epoch 1 / 1 ...\n",
      "[Connectivity computation done]\n",
      "Computing features for trial:  128\n"
     ]
    },
    {
     "name": "stderr",
     "output_type": "stream",
     "text": [
      "/Users/jakubblaha/Documents/thesis/thesis-python/common.py:114: RuntimeWarning: There were no Annotations stored in <EpochsArray | 1 events (all good), 0 – 7.992 s (baseline off), ~134 kB, data loaded,\n",
      " '1': 1>, so metadata was not modified.\n",
      "  res = mne_connectivity.spectral_connectivity_time(\n"
     ]
    },
    {
     "name": "stdout",
     "output_type": "stream",
     "text": [
      "[ 4  8 10 13 30 45]\n",
      "(6,)\n",
      "[ 4  8 10 13 30 45]\n",
      "(6,)\n",
      "only using indices for lower-triangular matrix\n",
      "Connectivity computation...\n",
      "   Processing epoch 1 / 1 ...\n",
      "[Connectivity computation done]\n",
      "Computing features for trial:  129\n"
     ]
    },
    {
     "name": "stderr",
     "output_type": "stream",
     "text": [
      "/Users/jakubblaha/Documents/thesis/thesis-python/common.py:114: RuntimeWarning: There were no Annotations stored in <EpochsArray | 1 events (all good), 0 – 7.992 s (baseline off), ~134 kB, data loaded,\n",
      " '1': 1>, so metadata was not modified.\n",
      "  res = mne_connectivity.spectral_connectivity_time(\n"
     ]
    },
    {
     "name": "stdout",
     "output_type": "stream",
     "text": [
      "[ 4  8 10 13 30 45]\n",
      "(6,)\n",
      "[ 4  8 10 13 30 45]\n",
      "(6,)\n",
      "only using indices for lower-triangular matrix\n",
      "Connectivity computation...\n",
      "   Processing epoch 1 / 1 ...\n",
      "[Connectivity computation done]\n",
      "Computing features for trial:  130\n"
     ]
    },
    {
     "name": "stderr",
     "output_type": "stream",
     "text": [
      "/Users/jakubblaha/Documents/thesis/thesis-python/common.py:114: RuntimeWarning: There were no Annotations stored in <EpochsArray | 1 events (all good), 0 – 7.992 s (baseline off), ~134 kB, data loaded,\n",
      " '1': 1>, so metadata was not modified.\n",
      "  res = mne_connectivity.spectral_connectivity_time(\n"
     ]
    },
    {
     "name": "stdout",
     "output_type": "stream",
     "text": [
      "[ 4  8 10 13 30 45]\n",
      "(6,)\n",
      "[ 4  8 10 13 30 45]\n",
      "(6,)\n",
      "only using indices for lower-triangular matrix\n",
      "Connectivity computation...\n",
      "   Processing epoch 1 / 1 ...\n",
      "[Connectivity computation done]\n",
      "Computing features for trial:  131\n"
     ]
    },
    {
     "name": "stderr",
     "output_type": "stream",
     "text": [
      "/Users/jakubblaha/Documents/thesis/thesis-python/common.py:114: RuntimeWarning: There were no Annotations stored in <EpochsArray | 1 events (all good), 0 – 7.992 s (baseline off), ~134 kB, data loaded,\n",
      " '1': 1>, so metadata was not modified.\n",
      "  res = mne_connectivity.spectral_connectivity_time(\n"
     ]
    },
    {
     "name": "stdout",
     "output_type": "stream",
     "text": [
      "[ 4  8 10 13 30 45]\n",
      "(6,)\n",
      "[ 4  8 10 13 30 45]\n",
      "(6,)\n",
      "only using indices for lower-triangular matrix\n",
      "Connectivity computation...\n",
      "   Processing epoch 1 / 1 ...\n",
      "[Connectivity computation done]\n",
      "Computing features for trial:  132\n"
     ]
    },
    {
     "name": "stderr",
     "output_type": "stream",
     "text": [
      "/Users/jakubblaha/Documents/thesis/thesis-python/common.py:114: RuntimeWarning: There were no Annotations stored in <EpochsArray | 1 events (all good), 0 – 7.992 s (baseline off), ~134 kB, data loaded,\n",
      " '1': 1>, so metadata was not modified.\n",
      "  res = mne_connectivity.spectral_connectivity_time(\n"
     ]
    },
    {
     "name": "stdout",
     "output_type": "stream",
     "text": [
      "[ 4  8 10 13 30 45]\n",
      "(6,)\n",
      "[ 4  8 10 13 30 45]\n",
      "(6,)\n",
      "only using indices for lower-triangular matrix\n",
      "Connectivity computation...\n",
      "   Processing epoch 1 / 1 ...\n",
      "[Connectivity computation done]\n",
      "Computing features for trial:  133\n"
     ]
    },
    {
     "name": "stderr",
     "output_type": "stream",
     "text": [
      "/Users/jakubblaha/Documents/thesis/thesis-python/common.py:114: RuntimeWarning: There were no Annotations stored in <EpochsArray | 1 events (all good), 0 – 7.992 s (baseline off), ~134 kB, data loaded,\n",
      " '1': 1>, so metadata was not modified.\n",
      "  res = mne_connectivity.spectral_connectivity_time(\n"
     ]
    },
    {
     "name": "stdout",
     "output_type": "stream",
     "text": [
      "[ 4  8 10 13 30 45]\n",
      "(6,)\n",
      "[ 4  8 10 13 30 45]\n",
      "(6,)\n",
      "only using indices for lower-triangular matrix\n",
      "Connectivity computation...\n",
      "   Processing epoch 1 / 1 ...\n",
      "[Connectivity computation done]\n",
      "Computing features for trial:  134\n"
     ]
    },
    {
     "name": "stderr",
     "output_type": "stream",
     "text": [
      "/Users/jakubblaha/Documents/thesis/thesis-python/common.py:114: RuntimeWarning: There were no Annotations stored in <EpochsArray | 1 events (all good), 0 – 7.992 s (baseline off), ~134 kB, data loaded,\n",
      " '1': 1>, so metadata was not modified.\n",
      "  res = mne_connectivity.spectral_connectivity_time(\n"
     ]
    },
    {
     "name": "stdout",
     "output_type": "stream",
     "text": [
      "[ 4  8 10 13 30 45]\n",
      "(6,)\n",
      "[ 4  8 10 13 30 45]\n",
      "(6,)\n",
      "only using indices for lower-triangular matrix\n",
      "Connectivity computation...\n",
      "   Processing epoch 1 / 1 ...\n",
      "[Connectivity computation done]\n",
      "Computing features for trial:  135\n"
     ]
    },
    {
     "name": "stderr",
     "output_type": "stream",
     "text": [
      "/Users/jakubblaha/Documents/thesis/thesis-python/common.py:114: RuntimeWarning: There were no Annotations stored in <EpochsArray | 1 events (all good), 0 – 7.992 s (baseline off), ~134 kB, data loaded,\n",
      " '1': 1>, so metadata was not modified.\n",
      "  res = mne_connectivity.spectral_connectivity_time(\n"
     ]
    },
    {
     "name": "stdout",
     "output_type": "stream",
     "text": [
      "[ 4  8 10 13 30 45]\n",
      "(6,)\n",
      "[ 4  8 10 13 30 45]\n",
      "(6,)\n",
      "only using indices for lower-triangular matrix\n",
      "Connectivity computation...\n",
      "   Processing epoch 1 / 1 ...\n",
      "[Connectivity computation done]\n",
      "Computing features for trial:  136\n"
     ]
    },
    {
     "name": "stderr",
     "output_type": "stream",
     "text": [
      "/Users/jakubblaha/Documents/thesis/thesis-python/common.py:114: RuntimeWarning: There were no Annotations stored in <EpochsArray | 1 events (all good), 0 – 7.992 s (baseline off), ~134 kB, data loaded,\n",
      " '1': 1>, so metadata was not modified.\n",
      "  res = mne_connectivity.spectral_connectivity_time(\n"
     ]
    },
    {
     "name": "stdout",
     "output_type": "stream",
     "text": [
      "[ 4  8 10 13 30 45]\n",
      "(6,)\n",
      "[ 4  8 10 13 30 45]\n",
      "(6,)\n",
      "only using indices for lower-triangular matrix\n",
      "Connectivity computation...\n",
      "   Processing epoch 1 / 1 ...\n"
     ]
    },
    {
     "name": "stderr",
     "output_type": "stream",
     "text": [
      "/Users/jakubblaha/Documents/thesis/thesis-python/common.py:114: RuntimeWarning: There were no Annotations stored in <EpochsArray | 1 events (all good), 0 – 7.992 s (baseline off), ~134 kB, data loaded,\n",
      " '1': 1>, so metadata was not modified.\n",
      "  res = mne_connectivity.spectral_connectivity_time(\n"
     ]
    },
    {
     "name": "stdout",
     "output_type": "stream",
     "text": [
      "[Connectivity computation done]\n",
      "Computing features for trial:  137\n",
      "[ 4  8 10 13 30 45]\n",
      "(6,)\n",
      "[ 4  8 10 13 30 45]\n",
      "(6,)\n",
      "only using indices for lower-triangular matrix\n",
      "Connectivity computation...\n",
      "   Processing epoch 1 / 1 ...\n",
      "[Connectivity computation done]\n"
     ]
    },
    {
     "name": "stderr",
     "output_type": "stream",
     "text": [
      "/Users/jakubblaha/Documents/thesis/thesis-python/common.py:114: RuntimeWarning: There were no Annotations stored in <EpochsArray | 1 events (all good), 0 – 7.992 s (baseline off), ~134 kB, data loaded,\n",
      " '1': 1>, so metadata was not modified.\n",
      "  res = mne_connectivity.spectral_connectivity_time(\n"
     ]
    },
    {
     "name": "stdout",
     "output_type": "stream",
     "text": [
      "Computing features for trial:  138\n",
      "[ 4  8 10 13 30 45]\n",
      "(6,)\n",
      "[ 4  8 10 13 30 45]\n",
      "(6,)\n",
      "only using indices for lower-triangular matrix\n",
      "Connectivity computation...\n",
      "   Processing epoch 1 / 1 ...\n",
      "[Connectivity computation done]\n",
      "Computing features for trial:  139\n"
     ]
    },
    {
     "name": "stderr",
     "output_type": "stream",
     "text": [
      "/Users/jakubblaha/Documents/thesis/thesis-python/common.py:114: RuntimeWarning: There were no Annotations stored in <EpochsArray | 1 events (all good), 0 – 7.992 s (baseline off), ~134 kB, data loaded,\n",
      " '1': 1>, so metadata was not modified.\n",
      "  res = mne_connectivity.spectral_connectivity_time(\n"
     ]
    },
    {
     "name": "stdout",
     "output_type": "stream",
     "text": [
      "[ 4  8 10 13 30 45]\n",
      "(6,)\n",
      "[ 4  8 10 13 30 45]\n",
      "(6,)\n",
      "only using indices for lower-triangular matrix\n",
      "Connectivity computation...\n",
      "   Processing epoch 1 / 1 ...\n",
      "[Connectivity computation done]\n",
      "Computing features for trial:  140\n"
     ]
    },
    {
     "name": "stderr",
     "output_type": "stream",
     "text": [
      "/Users/jakubblaha/Documents/thesis/thesis-python/common.py:114: RuntimeWarning: There were no Annotations stored in <EpochsArray | 1 events (all good), 0 – 7.992 s (baseline off), ~134 kB, data loaded,\n",
      " '1': 1>, so metadata was not modified.\n",
      "  res = mne_connectivity.spectral_connectivity_time(\n"
     ]
    },
    {
     "name": "stdout",
     "output_type": "stream",
     "text": [
      "[ 4  8 10 13 30 45]\n",
      "(6,)\n",
      "[ 4  8 10 13 30 45]\n",
      "(6,)\n",
      "only using indices for lower-triangular matrix\n",
      "Connectivity computation...\n",
      "   Processing epoch 1 / 1 ...\n",
      "[Connectivity computation done]\n",
      "Computing features for trial:  141\n"
     ]
    },
    {
     "name": "stderr",
     "output_type": "stream",
     "text": [
      "/Users/jakubblaha/Documents/thesis/thesis-python/common.py:114: RuntimeWarning: There were no Annotations stored in <EpochsArray | 1 events (all good), 0 – 7.992 s (baseline off), ~134 kB, data loaded,\n",
      " '1': 1>, so metadata was not modified.\n",
      "  res = mne_connectivity.spectral_connectivity_time(\n"
     ]
    },
    {
     "name": "stdout",
     "output_type": "stream",
     "text": [
      "[ 4  8 10 13 30 45]\n",
      "(6,)\n",
      "[ 4  8 10 13 30 45]\n",
      "(6,)\n",
      "only using indices for lower-triangular matrix\n",
      "Connectivity computation...\n",
      "   Processing epoch 1 / 1 ...\n",
      "[Connectivity computation done]\n",
      "Computing features for trial:  142\n"
     ]
    },
    {
     "name": "stderr",
     "output_type": "stream",
     "text": [
      "/Users/jakubblaha/Documents/thesis/thesis-python/common.py:114: RuntimeWarning: There were no Annotations stored in <EpochsArray | 1 events (all good), 0 – 7.992 s (baseline off), ~134 kB, data loaded,\n",
      " '1': 1>, so metadata was not modified.\n",
      "  res = mne_connectivity.spectral_connectivity_time(\n"
     ]
    },
    {
     "name": "stdout",
     "output_type": "stream",
     "text": [
      "[ 4  8 10 13 30 45]\n",
      "(6,)\n",
      "[ 4  8 10 13 30 45]\n",
      "(6,)\n",
      "only using indices for lower-triangular matrix\n",
      "Connectivity computation...\n",
      "   Processing epoch 1 / 1 ...\n",
      "[Connectivity computation done]\n",
      "Computing features for trial:  143\n"
     ]
    },
    {
     "name": "stderr",
     "output_type": "stream",
     "text": [
      "/Users/jakubblaha/Documents/thesis/thesis-python/common.py:114: RuntimeWarning: There were no Annotations stored in <EpochsArray | 1 events (all good), 0 – 7.992 s (baseline off), ~134 kB, data loaded,\n",
      " '1': 1>, so metadata was not modified.\n",
      "  res = mne_connectivity.spectral_connectivity_time(\n"
     ]
    },
    {
     "name": "stdout",
     "output_type": "stream",
     "text": [
      "[ 4  8 10 13 30 45]\n",
      "(6,)\n",
      "[ 4  8 10 13 30 45]\n",
      "(6,)\n",
      "only using indices for lower-triangular matrix\n",
      "Connectivity computation...\n",
      "   Processing epoch 1 / 1 ...\n",
      "[Connectivity computation done]\n",
      "Computing features for trial:  144\n"
     ]
    },
    {
     "name": "stderr",
     "output_type": "stream",
     "text": [
      "/Users/jakubblaha/Documents/thesis/thesis-python/common.py:114: RuntimeWarning: There were no Annotations stored in <EpochsArray | 1 events (all good), 0 – 7.992 s (baseline off), ~134 kB, data loaded,\n",
      " '1': 1>, so metadata was not modified.\n",
      "  res = mne_connectivity.spectral_connectivity_time(\n"
     ]
    },
    {
     "name": "stdout",
     "output_type": "stream",
     "text": [
      "[ 4  8 10 13 30 45]\n",
      "(6,)\n",
      "[ 4  8 10 13 30 45]\n",
      "(6,)\n",
      "only using indices for lower-triangular matrix\n",
      "Connectivity computation...\n",
      "   Processing epoch 1 / 1 ...\n",
      "[Connectivity computation done]\n",
      "Computing features for trial:  145\n"
     ]
    },
    {
     "name": "stderr",
     "output_type": "stream",
     "text": [
      "/Users/jakubblaha/Documents/thesis/thesis-python/common.py:114: RuntimeWarning: There were no Annotations stored in <EpochsArray | 1 events (all good), 0 – 7.992 s (baseline off), ~134 kB, data loaded,\n",
      " '1': 1>, so metadata was not modified.\n",
      "  res = mne_connectivity.spectral_connectivity_time(\n"
     ]
    },
    {
     "name": "stdout",
     "output_type": "stream",
     "text": [
      "[ 4  8 10 13 30 45]\n",
      "(6,)\n",
      "[ 4  8 10 13 30 45]\n",
      "(6,)\n",
      "only using indices for lower-triangular matrix\n",
      "Connectivity computation...\n",
      "   Processing epoch 1 / 1 ...\n",
      "[Connectivity computation done]\n",
      "Computing features for trial:  146\n"
     ]
    },
    {
     "name": "stderr",
     "output_type": "stream",
     "text": [
      "/Users/jakubblaha/Documents/thesis/thesis-python/common.py:114: RuntimeWarning: There were no Annotations stored in <EpochsArray | 1 events (all good), 0 – 7.992 s (baseline off), ~134 kB, data loaded,\n",
      " '1': 1>, so metadata was not modified.\n",
      "  res = mne_connectivity.spectral_connectivity_time(\n"
     ]
    },
    {
     "name": "stdout",
     "output_type": "stream",
     "text": [
      "[ 4  8 10 13 30 45]\n",
      "(6,)\n",
      "[ 4  8 10 13 30 45]\n",
      "(6,)\n",
      "only using indices for lower-triangular matrix\n",
      "Connectivity computation...\n",
      "   Processing epoch 1 / 1 ...\n",
      "[Connectivity computation done]\n",
      "Computing features for trial:  147\n"
     ]
    },
    {
     "name": "stderr",
     "output_type": "stream",
     "text": [
      "/Users/jakubblaha/Documents/thesis/thesis-python/common.py:114: RuntimeWarning: There were no Annotations stored in <EpochsArray | 1 events (all good), 0 – 7.992 s (baseline off), ~134 kB, data loaded,\n",
      " '1': 1>, so metadata was not modified.\n",
      "  res = mne_connectivity.spectral_connectivity_time(\n"
     ]
    },
    {
     "name": "stdout",
     "output_type": "stream",
     "text": [
      "[ 4  8 10 13 30 45]\n",
      "(6,)\n",
      "[ 4  8 10 13 30 45]\n",
      "(6,)\n",
      "only using indices for lower-triangular matrix\n",
      "Connectivity computation...\n",
      "   Processing epoch 1 / 1 ...\n",
      "[Connectivity computation done]\n",
      "Computing features for trial:  148\n"
     ]
    },
    {
     "name": "stderr",
     "output_type": "stream",
     "text": [
      "/Users/jakubblaha/Documents/thesis/thesis-python/common.py:114: RuntimeWarning: There were no Annotations stored in <EpochsArray | 1 events (all good), 0 – 7.992 s (baseline off), ~134 kB, data loaded,\n",
      " '1': 1>, so metadata was not modified.\n",
      "  res = mne_connectivity.spectral_connectivity_time(\n"
     ]
    },
    {
     "name": "stdout",
     "output_type": "stream",
     "text": [
      "[ 4  8 10 13 30 45]\n",
      "(6,)\n",
      "[ 4  8 10 13 30 45]\n",
      "(6,)\n",
      "only using indices for lower-triangular matrix\n",
      "Connectivity computation...\n",
      "   Processing epoch 1 / 1 ...\n",
      "[Connectivity computation done]\n",
      "Computing features for trial:  149\n"
     ]
    },
    {
     "name": "stderr",
     "output_type": "stream",
     "text": [
      "/Users/jakubblaha/Documents/thesis/thesis-python/common.py:114: RuntimeWarning: There were no Annotations stored in <EpochsArray | 1 events (all good), 0 – 7.992 s (baseline off), ~134 kB, data loaded,\n",
      " '1': 1>, so metadata was not modified.\n",
      "  res = mne_connectivity.spectral_connectivity_time(\n"
     ]
    },
    {
     "name": "stdout",
     "output_type": "stream",
     "text": [
      "[ 4  8 10 13 30 45]\n",
      "(6,)\n",
      "[ 4  8 10 13 30 45]\n",
      "(6,)\n",
      "only using indices for lower-triangular matrix\n",
      "Connectivity computation...\n",
      "   Processing epoch 1 / 1 ...\n",
      "[Connectivity computation done]\n",
      "Computing features for trial:  150\n"
     ]
    },
    {
     "name": "stderr",
     "output_type": "stream",
     "text": [
      "/Users/jakubblaha/Documents/thesis/thesis-python/common.py:114: RuntimeWarning: There were no Annotations stored in <EpochsArray | 1 events (all good), 0 – 7.992 s (baseline off), ~134 kB, data loaded,\n",
      " '1': 1>, so metadata was not modified.\n",
      "  res = mne_connectivity.spectral_connectivity_time(\n"
     ]
    },
    {
     "name": "stdout",
     "output_type": "stream",
     "text": [
      "[ 4  8 10 13 30 45]\n",
      "(6,)\n",
      "[ 4  8 10 13 30 45]\n",
      "(6,)\n",
      "only using indices for lower-triangular matrix\n",
      "Connectivity computation...\n",
      "   Processing epoch 1 / 1 ...\n",
      "[Connectivity computation done]\n",
      "Computing features for trial:  151\n"
     ]
    },
    {
     "name": "stderr",
     "output_type": "stream",
     "text": [
      "/Users/jakubblaha/Documents/thesis/thesis-python/common.py:114: RuntimeWarning: There were no Annotations stored in <EpochsArray | 1 events (all good), 0 – 7.992 s (baseline off), ~134 kB, data loaded,\n",
      " '1': 1>, so metadata was not modified.\n",
      "  res = mne_connectivity.spectral_connectivity_time(\n"
     ]
    },
    {
     "name": "stdout",
     "output_type": "stream",
     "text": [
      "[ 4  8 10 13 30 45]\n",
      "(6,)\n",
      "[ 4  8 10 13 30 45]\n",
      "(6,)\n",
      "only using indices for lower-triangular matrix\n",
      "Connectivity computation...\n",
      "   Processing epoch 1 / 1 ...\n",
      "[Connectivity computation done]\n",
      "Computing features for trial:  152\n"
     ]
    },
    {
     "name": "stderr",
     "output_type": "stream",
     "text": [
      "/Users/jakubblaha/Documents/thesis/thesis-python/common.py:114: RuntimeWarning: There were no Annotations stored in <EpochsArray | 1 events (all good), 0 – 7.992 s (baseline off), ~134 kB, data loaded,\n",
      " '1': 1>, so metadata was not modified.\n",
      "  res = mne_connectivity.spectral_connectivity_time(\n"
     ]
    },
    {
     "name": "stdout",
     "output_type": "stream",
     "text": [
      "[ 4  8 10 13 30 45]\n",
      "(6,)\n",
      "[ 4  8 10 13 30 45]\n",
      "(6,)\n",
      "only using indices for lower-triangular matrix\n",
      "Connectivity computation...\n",
      "   Processing epoch 1 / 1 ...\n",
      "[Connectivity computation done]\n",
      "Computing features for trial:  153\n"
     ]
    },
    {
     "name": "stderr",
     "output_type": "stream",
     "text": [
      "/Users/jakubblaha/Documents/thesis/thesis-python/common.py:114: RuntimeWarning: There were no Annotations stored in <EpochsArray | 1 events (all good), 0 – 7.992 s (baseline off), ~134 kB, data loaded,\n",
      " '1': 1>, so metadata was not modified.\n",
      "  res = mne_connectivity.spectral_connectivity_time(\n"
     ]
    },
    {
     "name": "stdout",
     "output_type": "stream",
     "text": [
      "[ 4  8 10 13 30 45]\n",
      "(6,)\n",
      "[ 4  8 10 13 30 45]\n",
      "(6,)\n",
      "only using indices for lower-triangular matrix\n",
      "Connectivity computation...\n",
      "   Processing epoch 1 / 1 ...\n",
      "[Connectivity computation done]\n",
      "Computing features for trial:  154\n"
     ]
    },
    {
     "name": "stderr",
     "output_type": "stream",
     "text": [
      "/Users/jakubblaha/Documents/thesis/thesis-python/common.py:114: RuntimeWarning: There were no Annotations stored in <EpochsArray | 1 events (all good), 0 – 7.992 s (baseline off), ~134 kB, data loaded,\n",
      " '1': 1>, so metadata was not modified.\n",
      "  res = mne_connectivity.spectral_connectivity_time(\n"
     ]
    },
    {
     "name": "stdout",
     "output_type": "stream",
     "text": [
      "[ 4  8 10 13 30 45]\n",
      "(6,)\n",
      "[ 4  8 10 13 30 45]\n",
      "(6,)\n",
      "only using indices for lower-triangular matrix\n",
      "Connectivity computation...\n",
      "   Processing epoch 1 / 1 ...\n",
      "[Connectivity computation done]\n",
      "Computing features for trial:  155\n"
     ]
    },
    {
     "name": "stderr",
     "output_type": "stream",
     "text": [
      "/Users/jakubblaha/Documents/thesis/thesis-python/common.py:114: RuntimeWarning: There were no Annotations stored in <EpochsArray | 1 events (all good), 0 – 7.992 s (baseline off), ~134 kB, data loaded,\n",
      " '1': 1>, so metadata was not modified.\n",
      "  res = mne_connectivity.spectral_connectivity_time(\n"
     ]
    },
    {
     "name": "stdout",
     "output_type": "stream",
     "text": [
      "[ 4  8 10 13 30 45]\n",
      "(6,)\n",
      "[ 4  8 10 13 30 45]\n",
      "(6,)\n",
      "only using indices for lower-triangular matrix\n",
      "Connectivity computation...\n",
      "   Processing epoch 1 / 1 ...\n",
      "[Connectivity computation done]\n",
      "Computing features for trial:  156\n"
     ]
    },
    {
     "name": "stderr",
     "output_type": "stream",
     "text": [
      "/Users/jakubblaha/Documents/thesis/thesis-python/common.py:114: RuntimeWarning: There were no Annotations stored in <EpochsArray | 1 events (all good), 0 – 7.992 s (baseline off), ~134 kB, data loaded,\n",
      " '1': 1>, so metadata was not modified.\n",
      "  res = mne_connectivity.spectral_connectivity_time(\n"
     ]
    },
    {
     "name": "stdout",
     "output_type": "stream",
     "text": [
      "[ 4  8 10 13 30 45]\n",
      "(6,)\n",
      "[ 4  8 10 13 30 45]\n",
      "(6,)\n",
      "only using indices for lower-triangular matrix\n",
      "Connectivity computation...\n",
      "   Processing epoch 1 / 1 ...\n"
     ]
    },
    {
     "name": "stderr",
     "output_type": "stream",
     "text": [
      "/Users/jakubblaha/Documents/thesis/thesis-python/common.py:114: RuntimeWarning: There were no Annotations stored in <EpochsArray | 1 events (all good), 0 – 7.992 s (baseline off), ~134 kB, data loaded,\n",
      " '1': 1>, so metadata was not modified.\n",
      "  res = mne_connectivity.spectral_connectivity_time(\n"
     ]
    },
    {
     "name": "stdout",
     "output_type": "stream",
     "text": [
      "[Connectivity computation done]\n",
      "Computing features for trial:  157\n",
      "[ 4  8 10 13 30 45]\n",
      "(6,)\n",
      "[ 4  8 10 13 30 45]\n",
      "(6,)\n",
      "only using indices for lower-triangular matrix\n",
      "Connectivity computation...\n",
      "   Processing epoch 1 / 1 ...\n",
      "[Connectivity computation done]\n"
     ]
    },
    {
     "name": "stderr",
     "output_type": "stream",
     "text": [
      "/Users/jakubblaha/Documents/thesis/thesis-python/common.py:114: RuntimeWarning: There were no Annotations stored in <EpochsArray | 1 events (all good), 0 – 7.992 s (baseline off), ~134 kB, data loaded,\n",
      " '1': 1>, so metadata was not modified.\n",
      "  res = mne_connectivity.spectral_connectivity_time(\n"
     ]
    },
    {
     "name": "stdout",
     "output_type": "stream",
     "text": [
      "Computing features for trial:  158\n",
      "[ 4  8 10 13 30 45]\n",
      "(6,)\n",
      "[ 4  8 10 13 30 45]\n",
      "(6,)\n",
      "only using indices for lower-triangular matrix\n",
      "Connectivity computation...\n",
      "   Processing epoch 1 / 1 ...\n",
      "[Connectivity computation done]\n",
      "Computing features for trial:  159\n"
     ]
    },
    {
     "name": "stderr",
     "output_type": "stream",
     "text": [
      "/Users/jakubblaha/Documents/thesis/thesis-python/common.py:114: RuntimeWarning: There were no Annotations stored in <EpochsArray | 1 events (all good), 0 – 7.992 s (baseline off), ~134 kB, data loaded,\n",
      " '1': 1>, so metadata was not modified.\n",
      "  res = mne_connectivity.spectral_connectivity_time(\n"
     ]
    },
    {
     "name": "stdout",
     "output_type": "stream",
     "text": [
      "[ 4  8 10 13 30 45]\n",
      "(6,)\n",
      "[ 4  8 10 13 30 45]\n",
      "(6,)\n",
      "only using indices for lower-triangular matrix\n",
      "Connectivity computation...\n",
      "   Processing epoch 1 / 1 ...\n",
      "[Connectivity computation done]\n",
      "Computing features for trial:  160\n"
     ]
    },
    {
     "name": "stderr",
     "output_type": "stream",
     "text": [
      "/Users/jakubblaha/Documents/thesis/thesis-python/common.py:114: RuntimeWarning: There were no Annotations stored in <EpochsArray | 1 events (all good), 0 – 7.992 s (baseline off), ~134 kB, data loaded,\n",
      " '1': 1>, so metadata was not modified.\n",
      "  res = mne_connectivity.spectral_connectivity_time(\n"
     ]
    },
    {
     "name": "stdout",
     "output_type": "stream",
     "text": [
      "[ 4  8 10 13 30 45]\n",
      "(6,)\n",
      "[ 4  8 10 13 30 45]\n",
      "(6,)\n",
      "only using indices for lower-triangular matrix\n",
      "Connectivity computation...\n",
      "   Processing epoch 1 / 1 ...\n",
      "[Connectivity computation done]\n",
      "Computing features for trial:  161\n"
     ]
    },
    {
     "name": "stderr",
     "output_type": "stream",
     "text": [
      "/Users/jakubblaha/Documents/thesis/thesis-python/common.py:114: RuntimeWarning: There were no Annotations stored in <EpochsArray | 1 events (all good), 0 – 7.992 s (baseline off), ~134 kB, data loaded,\n",
      " '1': 1>, so metadata was not modified.\n",
      "  res = mne_connectivity.spectral_connectivity_time(\n"
     ]
    },
    {
     "name": "stdout",
     "output_type": "stream",
     "text": [
      "[ 4  8 10 13 30 45]\n",
      "(6,)\n",
      "[ 4  8 10 13 30 45]\n",
      "(6,)\n",
      "only using indices for lower-triangular matrix\n",
      "Connectivity computation...\n",
      "   Processing epoch 1 / 1 ...\n",
      "[Connectivity computation done]\n",
      "Computing features for trial:  162\n"
     ]
    },
    {
     "name": "stderr",
     "output_type": "stream",
     "text": [
      "/Users/jakubblaha/Documents/thesis/thesis-python/common.py:114: RuntimeWarning: There were no Annotations stored in <EpochsArray | 1 events (all good), 0 – 7.992 s (baseline off), ~134 kB, data loaded,\n",
      " '1': 1>, so metadata was not modified.\n",
      "  res = mne_connectivity.spectral_connectivity_time(\n"
     ]
    },
    {
     "name": "stdout",
     "output_type": "stream",
     "text": [
      "[ 4  8 10 13 30 45]\n",
      "(6,)\n",
      "[ 4  8 10 13 30 45]\n",
      "(6,)\n",
      "only using indices for lower-triangular matrix\n",
      "Connectivity computation...\n",
      "   Processing epoch 1 / 1 ...\n",
      "[Connectivity computation done]\n",
      "Computing features for trial:  163\n"
     ]
    },
    {
     "name": "stderr",
     "output_type": "stream",
     "text": [
      "/Users/jakubblaha/Documents/thesis/thesis-python/common.py:114: RuntimeWarning: There were no Annotations stored in <EpochsArray | 1 events (all good), 0 – 7.992 s (baseline off), ~134 kB, data loaded,\n",
      " '1': 1>, so metadata was not modified.\n",
      "  res = mne_connectivity.spectral_connectivity_time(\n"
     ]
    },
    {
     "name": "stdout",
     "output_type": "stream",
     "text": [
      "[ 4  8 10 13 30 45]\n",
      "(6,)\n",
      "[ 4  8 10 13 30 45]\n",
      "(6,)\n",
      "only using indices for lower-triangular matrix\n",
      "Connectivity computation...\n",
      "   Processing epoch 1 / 1 ...\n"
     ]
    },
    {
     "name": "stderr",
     "output_type": "stream",
     "text": [
      "/Users/jakubblaha/Documents/thesis/thesis-python/common.py:114: RuntimeWarning: There were no Annotations stored in <EpochsArray | 1 events (all good), 0 – 7.992 s (baseline off), ~134 kB, data loaded,\n",
      " '1': 1>, so metadata was not modified.\n",
      "  res = mne_connectivity.spectral_connectivity_time(\n"
     ]
    },
    {
     "name": "stdout",
     "output_type": "stream",
     "text": [
      "[Connectivity computation done]\n",
      "Computing features for trial:  164\n",
      "[ 4  8 10 13 30 45]\n",
      "(6,)\n",
      "[ 4  8 10 13 30 45]\n",
      "(6,)\n",
      "only using indices for lower-triangular matrix\n",
      "Connectivity computation...\n",
      "   Processing epoch 1 / 1 ...\n",
      "[Connectivity computation done]\n"
     ]
    },
    {
     "name": "stderr",
     "output_type": "stream",
     "text": [
      "/Users/jakubblaha/Documents/thesis/thesis-python/common.py:114: RuntimeWarning: There were no Annotations stored in <EpochsArray | 1 events (all good), 0 – 7.992 s (baseline off), ~134 kB, data loaded,\n",
      " '1': 1>, so metadata was not modified.\n",
      "  res = mne_connectivity.spectral_connectivity_time(\n"
     ]
    },
    {
     "name": "stdout",
     "output_type": "stream",
     "text": [
      "Computing features for trial:  165\n",
      "[ 4  8 10 13 30 45]\n",
      "(6,)\n",
      "[ 4  8 10 13 30 45]\n",
      "(6,)\n",
      "only using indices for lower-triangular matrix\n",
      "Connectivity computation...\n",
      "   Processing epoch 1 / 1 ...\n",
      "[Connectivity computation done]\n",
      "Computing features for trial:  166\n"
     ]
    },
    {
     "name": "stderr",
     "output_type": "stream",
     "text": [
      "/Users/jakubblaha/Documents/thesis/thesis-python/common.py:114: RuntimeWarning: There were no Annotations stored in <EpochsArray | 1 events (all good), 0 – 7.992 s (baseline off), ~134 kB, data loaded,\n",
      " '1': 1>, so metadata was not modified.\n",
      "  res = mne_connectivity.spectral_connectivity_time(\n"
     ]
    },
    {
     "name": "stdout",
     "output_type": "stream",
     "text": [
      "[ 4  8 10 13 30 45]\n",
      "(6,)\n",
      "[ 4  8 10 13 30 45]\n",
      "(6,)\n",
      "only using indices for lower-triangular matrix\n",
      "Connectivity computation...\n",
      "   Processing epoch 1 / 1 ...\n",
      "[Connectivity computation done]\n",
      "Computing features for trial:  167\n"
     ]
    },
    {
     "name": "stderr",
     "output_type": "stream",
     "text": [
      "/Users/jakubblaha/Documents/thesis/thesis-python/common.py:114: RuntimeWarning: There were no Annotations stored in <EpochsArray | 1 events (all good), 0 – 7.992 s (baseline off), ~134 kB, data loaded,\n",
      " '1': 1>, so metadata was not modified.\n",
      "  res = mne_connectivity.spectral_connectivity_time(\n"
     ]
    },
    {
     "name": "stdout",
     "output_type": "stream",
     "text": [
      "[ 4  8 10 13 30 45]\n",
      "(6,)\n",
      "[ 4  8 10 13 30 45]\n",
      "(6,)\n",
      "only using indices for lower-triangular matrix\n",
      "Connectivity computation...\n",
      "   Processing epoch 1 / 1 ...\n",
      "[Connectivity computation done]\n",
      "Computing features for trial:  168\n"
     ]
    },
    {
     "name": "stderr",
     "output_type": "stream",
     "text": [
      "/Users/jakubblaha/Documents/thesis/thesis-python/common.py:114: RuntimeWarning: There were no Annotations stored in <EpochsArray | 1 events (all good), 0 – 7.992 s (baseline off), ~134 kB, data loaded,\n",
      " '1': 1>, so metadata was not modified.\n",
      "  res = mne_connectivity.spectral_connectivity_time(\n"
     ]
    },
    {
     "name": "stdout",
     "output_type": "stream",
     "text": [
      "[ 4  8 10 13 30 45]\n",
      "(6,)\n",
      "[ 4  8 10 13 30 45]\n",
      "(6,)\n",
      "only using indices for lower-triangular matrix\n",
      "Connectivity computation...\n",
      "   Processing epoch 1 / 1 ...\n",
      "[Connectivity computation done]\n",
      "Computing features for trial:  169\n"
     ]
    },
    {
     "name": "stderr",
     "output_type": "stream",
     "text": [
      "/Users/jakubblaha/Documents/thesis/thesis-python/common.py:114: RuntimeWarning: There were no Annotations stored in <EpochsArray | 1 events (all good), 0 – 7.992 s (baseline off), ~134 kB, data loaded,\n",
      " '1': 1>, so metadata was not modified.\n",
      "  res = mne_connectivity.spectral_connectivity_time(\n"
     ]
    },
    {
     "name": "stdout",
     "output_type": "stream",
     "text": [
      "[ 4  8 10 13 30 45]\n",
      "(6,)\n",
      "[ 4  8 10 13 30 45]\n",
      "(6,)\n",
      "only using indices for lower-triangular matrix\n",
      "Connectivity computation...\n",
      "   Processing epoch 1 / 1 ...\n",
      "[Connectivity computation done]\n",
      "Computing features for trial:  170\n"
     ]
    },
    {
     "name": "stderr",
     "output_type": "stream",
     "text": [
      "/Users/jakubblaha/Documents/thesis/thesis-python/common.py:114: RuntimeWarning: There were no Annotations stored in <EpochsArray | 1 events (all good), 0 – 7.992 s (baseline off), ~134 kB, data loaded,\n",
      " '1': 1>, so metadata was not modified.\n",
      "  res = mne_connectivity.spectral_connectivity_time(\n"
     ]
    },
    {
     "name": "stdout",
     "output_type": "stream",
     "text": [
      "[ 4  8 10 13 30 45]\n",
      "(6,)\n",
      "[ 4  8 10 13 30 45]\n",
      "(6,)\n",
      "only using indices for lower-triangular matrix\n",
      "Connectivity computation...\n",
      "   Processing epoch 1 / 1 ...\n",
      "[Connectivity computation done]\n",
      "Computing features for trial:  171\n"
     ]
    },
    {
     "name": "stderr",
     "output_type": "stream",
     "text": [
      "/Users/jakubblaha/Documents/thesis/thesis-python/common.py:114: RuntimeWarning: There were no Annotations stored in <EpochsArray | 1 events (all good), 0 – 7.992 s (baseline off), ~134 kB, data loaded,\n",
      " '1': 1>, so metadata was not modified.\n",
      "  res = mne_connectivity.spectral_connectivity_time(\n"
     ]
    },
    {
     "name": "stdout",
     "output_type": "stream",
     "text": [
      "[ 4  8 10 13 30 45]\n",
      "(6,)\n",
      "[ 4  8 10 13 30 45]\n",
      "(6,)\n",
      "only using indices for lower-triangular matrix\n",
      "Connectivity computation...\n",
      "   Processing epoch 1 / 1 ...\n",
      "[Connectivity computation done]\n",
      "Computing features for trial:  172\n"
     ]
    },
    {
     "name": "stderr",
     "output_type": "stream",
     "text": [
      "/Users/jakubblaha/Documents/thesis/thesis-python/common.py:114: RuntimeWarning: There were no Annotations stored in <EpochsArray | 1 events (all good), 0 – 7.992 s (baseline off), ~134 kB, data loaded,\n",
      " '1': 1>, so metadata was not modified.\n",
      "  res = mne_connectivity.spectral_connectivity_time(\n"
     ]
    },
    {
     "name": "stdout",
     "output_type": "stream",
     "text": [
      "[ 4  8 10 13 30 45]\n",
      "(6,)\n",
      "[ 4  8 10 13 30 45]\n",
      "(6,)\n",
      "only using indices for lower-triangular matrix\n",
      "Connectivity computation...\n",
      "   Processing epoch 1 / 1 ...\n",
      "[Connectivity computation done]\n",
      "Computing features for trial:  173\n"
     ]
    },
    {
     "name": "stderr",
     "output_type": "stream",
     "text": [
      "/Users/jakubblaha/Documents/thesis/thesis-python/common.py:114: RuntimeWarning: There were no Annotations stored in <EpochsArray | 1 events (all good), 0 – 7.992 s (baseline off), ~134 kB, data loaded,\n",
      " '1': 1>, so metadata was not modified.\n",
      "  res = mne_connectivity.spectral_connectivity_time(\n"
     ]
    },
    {
     "name": "stdout",
     "output_type": "stream",
     "text": [
      "[ 4  8 10 13 30 45]\n",
      "(6,)\n",
      "[ 4  8 10 13 30 45]\n",
      "(6,)\n",
      "only using indices for lower-triangular matrix\n",
      "Connectivity computation...\n",
      "   Processing epoch 1 / 1 ...\n",
      "[Connectivity computation done]\n",
      "Computing features for trial:  174\n"
     ]
    },
    {
     "name": "stderr",
     "output_type": "stream",
     "text": [
      "/Users/jakubblaha/Documents/thesis/thesis-python/common.py:114: RuntimeWarning: There were no Annotations stored in <EpochsArray | 1 events (all good), 0 – 7.992 s (baseline off), ~134 kB, data loaded,\n",
      " '1': 1>, so metadata was not modified.\n",
      "  res = mne_connectivity.spectral_connectivity_time(\n"
     ]
    },
    {
     "name": "stdout",
     "output_type": "stream",
     "text": [
      "[ 4  8 10 13 30 45]\n",
      "(6,)\n",
      "[ 4  8 10 13 30 45]\n",
      "(6,)\n",
      "only using indices for lower-triangular matrix\n",
      "Connectivity computation...\n",
      "   Processing epoch 1 / 1 ...\n",
      "[Connectivity computation done]\n",
      "Computing features for trial:  175\n"
     ]
    },
    {
     "name": "stderr",
     "output_type": "stream",
     "text": [
      "/Users/jakubblaha/Documents/thesis/thesis-python/common.py:114: RuntimeWarning: There were no Annotations stored in <EpochsArray | 1 events (all good), 0 – 7.992 s (baseline off), ~134 kB, data loaded,\n",
      " '1': 1>, so metadata was not modified.\n",
      "  res = mne_connectivity.spectral_connectivity_time(\n"
     ]
    },
    {
     "name": "stdout",
     "output_type": "stream",
     "text": [
      "[ 4  8 10 13 30 45]\n",
      "(6,)\n",
      "[ 4  8 10 13 30 45]\n",
      "(6,)\n",
      "only using indices for lower-triangular matrix\n",
      "Connectivity computation...\n",
      "   Processing epoch 1 / 1 ...\n",
      "[Connectivity computation done]\n",
      "Computing features for trial:  176\n"
     ]
    },
    {
     "name": "stderr",
     "output_type": "stream",
     "text": [
      "/Users/jakubblaha/Documents/thesis/thesis-python/common.py:114: RuntimeWarning: There were no Annotations stored in <EpochsArray | 1 events (all good), 0 – 7.992 s (baseline off), ~134 kB, data loaded,\n",
      " '1': 1>, so metadata was not modified.\n",
      "  res = mne_connectivity.spectral_connectivity_time(\n"
     ]
    },
    {
     "name": "stdout",
     "output_type": "stream",
     "text": [
      "[ 4  8 10 13 30 45]\n",
      "(6,)\n",
      "[ 4  8 10 13 30 45]\n",
      "(6,)\n",
      "only using indices for lower-triangular matrix\n",
      "Connectivity computation...\n",
      "   Processing epoch 1 / 1 ...\n"
     ]
    },
    {
     "name": "stderr",
     "output_type": "stream",
     "text": [
      "/Users/jakubblaha/Documents/thesis/thesis-python/common.py:114: RuntimeWarning: There were no Annotations stored in <EpochsArray | 1 events (all good), 0 – 7.992 s (baseline off), ~134 kB, data loaded,\n",
      " '1': 1>, so metadata was not modified.\n",
      "  res = mne_connectivity.spectral_connectivity_time(\n"
     ]
    },
    {
     "name": "stdout",
     "output_type": "stream",
     "text": [
      "[Connectivity computation done]\n",
      "Computing features for trial:  177\n",
      "[ 4  8 10 13 30 45]\n",
      "(6,)\n",
      "[ 4  8 10 13 30 45]\n",
      "(6,)\n",
      "only using indices for lower-triangular matrix\n",
      "Connectivity computation...\n",
      "   Processing epoch 1 / 1 ...\n",
      "[Connectivity computation done]\n"
     ]
    },
    {
     "name": "stderr",
     "output_type": "stream",
     "text": [
      "/Users/jakubblaha/Documents/thesis/thesis-python/common.py:114: RuntimeWarning: There were no Annotations stored in <EpochsArray | 1 events (all good), 0 – 7.992 s (baseline off), ~134 kB, data loaded,\n",
      " '1': 1>, so metadata was not modified.\n",
      "  res = mne_connectivity.spectral_connectivity_time(\n"
     ]
    },
    {
     "name": "stdout",
     "output_type": "stream",
     "text": [
      "Computing features for trial:  178\n",
      "[ 4  8 10 13 30 45]\n",
      "(6,)\n",
      "[ 4  8 10 13 30 45]\n",
      "(6,)\n",
      "only using indices for lower-triangular matrix\n",
      "Connectivity computation...\n",
      "   Processing epoch 1 / 1 ...\n",
      "[Connectivity computation done]\n",
      "Computing features for trial:  179\n"
     ]
    },
    {
     "name": "stderr",
     "output_type": "stream",
     "text": [
      "/Users/jakubblaha/Documents/thesis/thesis-python/common.py:114: RuntimeWarning: There were no Annotations stored in <EpochsArray | 1 events (all good), 0 – 7.992 s (baseline off), ~134 kB, data loaded,\n",
      " '1': 1>, so metadata was not modified.\n",
      "  res = mne_connectivity.spectral_connectivity_time(\n"
     ]
    },
    {
     "name": "stdout",
     "output_type": "stream",
     "text": [
      "[ 4  8 10 13 30 45]\n",
      "(6,)\n",
      "[ 4  8 10 13 30 45]\n",
      "(6,)\n",
      "only using indices for lower-triangular matrix\n",
      "Connectivity computation...\n",
      "   Processing epoch 1 / 1 ...\n",
      "[Connectivity computation done]\n",
      "Computing features for trial:  180\n"
     ]
    },
    {
     "name": "stderr",
     "output_type": "stream",
     "text": [
      "/Users/jakubblaha/Documents/thesis/thesis-python/common.py:114: RuntimeWarning: There were no Annotations stored in <EpochsArray | 1 events (all good), 0 – 7.992 s (baseline off), ~134 kB, data loaded,\n",
      " '1': 1>, so metadata was not modified.\n",
      "  res = mne_connectivity.spectral_connectivity_time(\n"
     ]
    },
    {
     "name": "stdout",
     "output_type": "stream",
     "text": [
      "[ 4  8 10 13 30 45]\n",
      "(6,)\n",
      "[ 4  8 10 13 30 45]\n",
      "(6,)\n",
      "only using indices for lower-triangular matrix\n",
      "Connectivity computation...\n",
      "   Processing epoch 1 / 1 ...\n",
      "[Connectivity computation done]\n",
      "Computing features for trial:  181\n"
     ]
    },
    {
     "name": "stderr",
     "output_type": "stream",
     "text": [
      "/Users/jakubblaha/Documents/thesis/thesis-python/common.py:114: RuntimeWarning: There were no Annotations stored in <EpochsArray | 1 events (all good), 0 – 7.992 s (baseline off), ~134 kB, data loaded,\n",
      " '1': 1>, so metadata was not modified.\n",
      "  res = mne_connectivity.spectral_connectivity_time(\n"
     ]
    },
    {
     "name": "stdout",
     "output_type": "stream",
     "text": [
      "[ 4  8 10 13 30 45]\n",
      "(6,)\n",
      "[ 4  8 10 13 30 45]\n",
      "(6,)\n",
      "only using indices for lower-triangular matrix\n",
      "Connectivity computation...\n",
      "   Processing epoch 1 / 1 ...\n",
      "[Connectivity computation done]\n",
      "Computing features for trial:  182\n"
     ]
    },
    {
     "name": "stderr",
     "output_type": "stream",
     "text": [
      "/Users/jakubblaha/Documents/thesis/thesis-python/common.py:114: RuntimeWarning: There were no Annotations stored in <EpochsArray | 1 events (all good), 0 – 7.992 s (baseline off), ~134 kB, data loaded,\n",
      " '1': 1>, so metadata was not modified.\n",
      "  res = mne_connectivity.spectral_connectivity_time(\n"
     ]
    },
    {
     "name": "stdout",
     "output_type": "stream",
     "text": [
      "[ 4  8 10 13 30 45]\n",
      "(6,)\n",
      "[ 4  8 10 13 30 45]\n",
      "(6,)\n",
      "only using indices for lower-triangular matrix\n",
      "Connectivity computation...\n",
      "   Processing epoch 1 / 1 ...\n",
      "[Connectivity computation done]\n",
      "Computing features for trial:  183\n"
     ]
    },
    {
     "name": "stderr",
     "output_type": "stream",
     "text": [
      "/Users/jakubblaha/Documents/thesis/thesis-python/common.py:114: RuntimeWarning: There were no Annotations stored in <EpochsArray | 1 events (all good), 0 – 7.992 s (baseline off), ~134 kB, data loaded,\n",
      " '1': 1>, so metadata was not modified.\n",
      "  res = mne_connectivity.spectral_connectivity_time(\n"
     ]
    },
    {
     "name": "stdout",
     "output_type": "stream",
     "text": [
      "[ 4  8 10 13 30 45]\n",
      "(6,)\n",
      "[ 4  8 10 13 30 45]\n",
      "(6,)\n",
      "only using indices for lower-triangular matrix\n",
      "Connectivity computation...\n",
      "   Processing epoch 1 / 1 ...\n",
      "[Connectivity computation done]\n",
      "Computing features for trial:  184\n"
     ]
    },
    {
     "name": "stderr",
     "output_type": "stream",
     "text": [
      "/Users/jakubblaha/Documents/thesis/thesis-python/common.py:114: RuntimeWarning: There were no Annotations stored in <EpochsArray | 1 events (all good), 0 – 7.992 s (baseline off), ~134 kB, data loaded,\n",
      " '1': 1>, so metadata was not modified.\n",
      "  res = mne_connectivity.spectral_connectivity_time(\n"
     ]
    },
    {
     "name": "stdout",
     "output_type": "stream",
     "text": [
      "[ 4  8 10 13 30 45]\n",
      "(6,)\n",
      "[ 4  8 10 13 30 45]\n",
      "(6,)\n",
      "only using indices for lower-triangular matrix\n",
      "Connectivity computation...\n",
      "   Processing epoch 1 / 1 ...\n",
      "[Connectivity computation done]\n",
      "Computing features for trial:  185\n"
     ]
    },
    {
     "name": "stderr",
     "output_type": "stream",
     "text": [
      "/Users/jakubblaha/Documents/thesis/thesis-python/common.py:114: RuntimeWarning: There were no Annotations stored in <EpochsArray | 1 events (all good), 0 – 7.992 s (baseline off), ~134 kB, data loaded,\n",
      " '1': 1>, so metadata was not modified.\n",
      "  res = mne_connectivity.spectral_connectivity_time(\n"
     ]
    },
    {
     "name": "stdout",
     "output_type": "stream",
     "text": [
      "[ 4  8 10 13 30 45]\n",
      "(6,)\n",
      "[ 4  8 10 13 30 45]\n",
      "(6,)\n",
      "only using indices for lower-triangular matrix\n",
      "Connectivity computation...\n",
      "   Processing epoch 1 / 1 ...\n"
     ]
    },
    {
     "name": "stderr",
     "output_type": "stream",
     "text": [
      "/Users/jakubblaha/Documents/thesis/thesis-python/common.py:114: RuntimeWarning: There were no Annotations stored in <EpochsArray | 1 events (all good), 0 – 7.992 s (baseline off), ~134 kB, data loaded,\n",
      " '1': 1>, so metadata was not modified.\n",
      "  res = mne_connectivity.spectral_connectivity_time(\n"
     ]
    },
    {
     "name": "stdout",
     "output_type": "stream",
     "text": [
      "[Connectivity computation done]\n",
      "Computing features for trial:  186\n",
      "[ 4  8 10 13 30 45]\n",
      "(6,)\n",
      "[ 4  8 10 13 30 45]\n",
      "(6,)\n",
      "only using indices for lower-triangular matrix\n",
      "Connectivity computation...\n",
      "   Processing epoch 1 / 1 ...\n",
      "[Connectivity computation done]\n"
     ]
    },
    {
     "name": "stderr",
     "output_type": "stream",
     "text": [
      "/Users/jakubblaha/Documents/thesis/thesis-python/common.py:114: RuntimeWarning: There were no Annotations stored in <EpochsArray | 1 events (all good), 0 – 7.992 s (baseline off), ~134 kB, data loaded,\n",
      " '1': 1>, so metadata was not modified.\n",
      "  res = mne_connectivity.spectral_connectivity_time(\n"
     ]
    },
    {
     "name": "stdout",
     "output_type": "stream",
     "text": [
      "Computing features for trial:  187\n",
      "[ 4  8 10 13 30 45]\n",
      "(6,)\n",
      "[ 4  8 10 13 30 45]\n",
      "(6,)\n",
      "only using indices for lower-triangular matrix\n",
      "Connectivity computation...\n",
      "   Processing epoch 1 / 1 ...\n",
      "[Connectivity computation done]\n",
      "Computing features for trial:  188\n"
     ]
    },
    {
     "name": "stderr",
     "output_type": "stream",
     "text": [
      "/Users/jakubblaha/Documents/thesis/thesis-python/common.py:114: RuntimeWarning: There were no Annotations stored in <EpochsArray | 1 events (all good), 0 – 7.992 s (baseline off), ~134 kB, data loaded,\n",
      " '1': 1>, so metadata was not modified.\n",
      "  res = mne_connectivity.spectral_connectivity_time(\n"
     ]
    },
    {
     "name": "stdout",
     "output_type": "stream",
     "text": [
      "[ 4  8 10 13 30 45]\n",
      "(6,)\n",
      "[ 4  8 10 13 30 45]\n",
      "(6,)\n",
      "only using indices for lower-triangular matrix\n",
      "Connectivity computation...\n",
      "   Processing epoch 1 / 1 ...\n",
      "[Connectivity computation done]\n",
      "Computing features for trial:  189\n"
     ]
    },
    {
     "name": "stderr",
     "output_type": "stream",
     "text": [
      "/Users/jakubblaha/Documents/thesis/thesis-python/common.py:114: RuntimeWarning: There were no Annotations stored in <EpochsArray | 1 events (all good), 0 – 7.992 s (baseline off), ~134 kB, data loaded,\n",
      " '1': 1>, so metadata was not modified.\n",
      "  res = mne_connectivity.spectral_connectivity_time(\n"
     ]
    },
    {
     "name": "stdout",
     "output_type": "stream",
     "text": [
      "[ 4  8 10 13 30 45]\n",
      "(6,)\n",
      "[ 4  8 10 13 30 45]\n",
      "(6,)\n",
      "only using indices for lower-triangular matrix\n",
      "Connectivity computation...\n",
      "   Processing epoch 1 / 1 ...\n"
     ]
    },
    {
     "name": "stderr",
     "output_type": "stream",
     "text": [
      "/Users/jakubblaha/Documents/thesis/thesis-python/common.py:114: RuntimeWarning: There were no Annotations stored in <EpochsArray | 1 events (all good), 0 – 7.992 s (baseline off), ~134 kB, data loaded,\n",
      " '1': 1>, so metadata was not modified.\n",
      "  res = mne_connectivity.spectral_connectivity_time(\n"
     ]
    },
    {
     "name": "stdout",
     "output_type": "stream",
     "text": [
      "[Connectivity computation done]\n",
      "Computing features for trial:  190\n",
      "[ 4  8 10 13 30 45]\n",
      "(6,)\n",
      "[ 4  8 10 13 30 45]\n",
      "(6,)\n",
      "only using indices for lower-triangular matrix\n",
      "Connectivity computation...\n",
      "   Processing epoch 1 / 1 ...\n",
      "[Connectivity computation done]\n",
      "Computing features for trial:  191\n",
      "[ 4  8 10 13 30 45]\n",
      "(6,)\n",
      "[ 4  8 10 13 30 45]\n",
      "(6,)\n",
      "only using indices for lower-triangular matrix\n"
     ]
    },
    {
     "name": "stderr",
     "output_type": "stream",
     "text": [
      "/Users/jakubblaha/Documents/thesis/thesis-python/common.py:114: RuntimeWarning: There were no Annotations stored in <EpochsArray | 1 events (all good), 0 – 7.992 s (baseline off), ~134 kB, data loaded,\n",
      " '1': 1>, so metadata was not modified.\n",
      "  res = mne_connectivity.spectral_connectivity_time(\n",
      "/Users/jakubblaha/Documents/thesis/thesis-python/common.py:114: RuntimeWarning: There were no Annotations stored in <EpochsArray | 1 events (all good), 0 – 7.992 s (baseline off), ~134 kB, data loaded,\n",
      " '1': 1>, so metadata was not modified.\n",
      "  res = mne_connectivity.spectral_connectivity_time(\n"
     ]
    },
    {
     "name": "stdout",
     "output_type": "stream",
     "text": [
      "Connectivity computation...\n",
      "   Processing epoch 1 / 1 ...\n",
      "[Connectivity computation done]\n",
      "Computing features for trial:  192\n",
      "[ 4  8 10 13 30 45]\n",
      "(6,)\n",
      "[ 4  8 10 13 30 45]\n",
      "(6,)\n",
      "only using indices for lower-triangular matrix\n",
      "Connectivity computation...\n",
      "   Processing epoch 1 / 1 ...\n",
      "[Connectivity computation done]\n",
      "Computing features for trial:  193\n"
     ]
    },
    {
     "name": "stderr",
     "output_type": "stream",
     "text": [
      "/Users/jakubblaha/Documents/thesis/thesis-python/common.py:114: RuntimeWarning: There were no Annotations stored in <EpochsArray | 1 events (all good), 0 – 7.992 s (baseline off), ~134 kB, data loaded,\n",
      " '1': 1>, so metadata was not modified.\n",
      "  res = mne_connectivity.spectral_connectivity_time(\n"
     ]
    },
    {
     "name": "stdout",
     "output_type": "stream",
     "text": [
      "[ 4  8 10 13 30 45]\n",
      "(6,)\n",
      "[ 4  8 10 13 30 45]\n",
      "(6,)\n",
      "only using indices for lower-triangular matrix\n",
      "Connectivity computation...\n",
      "   Processing epoch 1 / 1 ...\n",
      "[Connectivity computation done]\n",
      "Computing features for trial:  194\n"
     ]
    },
    {
     "name": "stderr",
     "output_type": "stream",
     "text": [
      "/Users/jakubblaha/Documents/thesis/thesis-python/common.py:114: RuntimeWarning: There were no Annotations stored in <EpochsArray | 1 events (all good), 0 – 7.992 s (baseline off), ~134 kB, data loaded,\n",
      " '1': 1>, so metadata was not modified.\n",
      "  res = mne_connectivity.spectral_connectivity_time(\n"
     ]
    },
    {
     "name": "stdout",
     "output_type": "stream",
     "text": [
      "[ 4  8 10 13 30 45]\n",
      "(6,)\n",
      "[ 4  8 10 13 30 45]\n",
      "(6,)\n",
      "only using indices for lower-triangular matrix\n",
      "Connectivity computation...\n",
      "   Processing epoch 1 / 1 ...\n",
      "[Connectivity computation done]\n",
      "Computing features for trial:  195\n"
     ]
    },
    {
     "name": "stderr",
     "output_type": "stream",
     "text": [
      "/Users/jakubblaha/Documents/thesis/thesis-python/common.py:114: RuntimeWarning: There were no Annotations stored in <EpochsArray | 1 events (all good), 0 – 7.992 s (baseline off), ~134 kB, data loaded,\n",
      " '1': 1>, so metadata was not modified.\n",
      "  res = mne_connectivity.spectral_connectivity_time(\n"
     ]
    },
    {
     "name": "stdout",
     "output_type": "stream",
     "text": [
      "[ 4  8 10 13 30 45]\n",
      "(6,)\n",
      "[ 4  8 10 13 30 45]\n",
      "(6,)\n",
      "only using indices for lower-triangular matrix\n",
      "Connectivity computation...\n",
      "   Processing epoch 1 / 1 ...\n",
      "[Connectivity computation done]\n",
      "Computing features for trial:  196\n"
     ]
    },
    {
     "name": "stderr",
     "output_type": "stream",
     "text": [
      "/Users/jakubblaha/Documents/thesis/thesis-python/common.py:114: RuntimeWarning: There were no Annotations stored in <EpochsArray | 1 events (all good), 0 – 7.992 s (baseline off), ~134 kB, data loaded,\n",
      " '1': 1>, so metadata was not modified.\n",
      "  res = mne_connectivity.spectral_connectivity_time(\n"
     ]
    },
    {
     "name": "stdout",
     "output_type": "stream",
     "text": [
      "[ 4  8 10 13 30 45]\n",
      "(6,)\n",
      "[ 4  8 10 13 30 45]\n",
      "(6,)\n",
      "only using indices for lower-triangular matrix\n",
      "Connectivity computation...\n",
      "   Processing epoch 1 / 1 ...\n"
     ]
    },
    {
     "name": "stderr",
     "output_type": "stream",
     "text": [
      "/Users/jakubblaha/Documents/thesis/thesis-python/common.py:114: RuntimeWarning: There were no Annotations stored in <EpochsArray | 1 events (all good), 0 – 7.992 s (baseline off), ~134 kB, data loaded,\n",
      " '1': 1>, so metadata was not modified.\n",
      "  res = mne_connectivity.spectral_connectivity_time(\n"
     ]
    },
    {
     "name": "stdout",
     "output_type": "stream",
     "text": [
      "[Connectivity computation done]\n",
      "Computing features for trial:  197\n",
      "[ 4  8 10 13 30 45]\n",
      "(6,)\n",
      "[ 4  8 10 13 30 45]\n",
      "(6,)\n",
      "only using indices for lower-triangular matrix\n",
      "Connectivity computation...\n",
      "   Processing epoch 1 / 1 ...\n",
      "[Connectivity computation done]\n"
     ]
    },
    {
     "name": "stderr",
     "output_type": "stream",
     "text": [
      "/Users/jakubblaha/Documents/thesis/thesis-python/common.py:114: RuntimeWarning: There were no Annotations stored in <EpochsArray | 1 events (all good), 0 – 7.992 s (baseline off), ~134 kB, data loaded,\n",
      " '1': 1>, so metadata was not modified.\n",
      "  res = mne_connectivity.spectral_connectivity_time(\n"
     ]
    },
    {
     "name": "stdout",
     "output_type": "stream",
     "text": [
      "Computing features for trial:  198\n",
      "[ 4  8 10 13 30 45]\n",
      "(6,)\n",
      "[ 4  8 10 13 30 45]\n",
      "(6,)\n",
      "only using indices for lower-triangular matrix\n",
      "Connectivity computation...\n",
      "   Processing epoch 1 / 1 ...\n",
      "[Connectivity computation done]\n",
      "Computing features for trial:  199\n"
     ]
    },
    {
     "name": "stderr",
     "output_type": "stream",
     "text": [
      "/Users/jakubblaha/Documents/thesis/thesis-python/common.py:114: RuntimeWarning: There were no Annotations stored in <EpochsArray | 1 events (all good), 0 – 7.992 s (baseline off), ~134 kB, data loaded,\n",
      " '1': 1>, so metadata was not modified.\n",
      "  res = mne_connectivity.spectral_connectivity_time(\n"
     ]
    },
    {
     "name": "stdout",
     "output_type": "stream",
     "text": [
      "[ 4  8 10 13 30 45]\n",
      "(6,)\n",
      "[ 4  8 10 13 30 45]\n",
      "(6,)\n",
      "only using indices for lower-triangular matrix\n",
      "Connectivity computation...\n",
      "   Processing epoch 1 / 1 ...\n",
      "[Connectivity computation done]\n",
      "Computing features for trial:  200\n"
     ]
    },
    {
     "name": "stderr",
     "output_type": "stream",
     "text": [
      "/Users/jakubblaha/Documents/thesis/thesis-python/common.py:114: RuntimeWarning: There were no Annotations stored in <EpochsArray | 1 events (all good), 0 – 7.992 s (baseline off), ~134 kB, data loaded,\n",
      " '1': 1>, so metadata was not modified.\n",
      "  res = mne_connectivity.spectral_connectivity_time(\n"
     ]
    },
    {
     "name": "stdout",
     "output_type": "stream",
     "text": [
      "[ 4  8 10 13 30 45]\n",
      "(6,)\n",
      "[ 4  8 10 13 30 45]\n",
      "(6,)\n",
      "only using indices for lower-triangular matrix\n",
      "Connectivity computation...\n",
      "   Processing epoch 1 / 1 ...\n",
      "[Connectivity computation done]\n",
      "Computing features for trial:  201\n"
     ]
    },
    {
     "name": "stderr",
     "output_type": "stream",
     "text": [
      "/Users/jakubblaha/Documents/thesis/thesis-python/common.py:114: RuntimeWarning: There were no Annotations stored in <EpochsArray | 1 events (all good), 0 – 7.992 s (baseline off), ~134 kB, data loaded,\n",
      " '1': 1>, so metadata was not modified.\n",
      "  res = mne_connectivity.spectral_connectivity_time(\n"
     ]
    },
    {
     "name": "stdout",
     "output_type": "stream",
     "text": [
      "[ 4  8 10 13 30 45]\n",
      "(6,)\n",
      "[ 4  8 10 13 30 45]\n",
      "(6,)\n",
      "only using indices for lower-triangular matrix\n",
      "Connectivity computation...\n",
      "   Processing epoch 1 / 1 ...\n",
      "[Connectivity computation done]\n",
      "Computing features for trial:  202\n"
     ]
    },
    {
     "name": "stderr",
     "output_type": "stream",
     "text": [
      "/Users/jakubblaha/Documents/thesis/thesis-python/common.py:114: RuntimeWarning: There were no Annotations stored in <EpochsArray | 1 events (all good), 0 – 7.992 s (baseline off), ~134 kB, data loaded,\n",
      " '1': 1>, so metadata was not modified.\n",
      "  res = mne_connectivity.spectral_connectivity_time(\n"
     ]
    },
    {
     "name": "stdout",
     "output_type": "stream",
     "text": [
      "[ 4  8 10 13 30 45]\n",
      "(6,)\n",
      "[ 4  8 10 13 30 45]\n",
      "(6,)\n",
      "only using indices for lower-triangular matrix\n",
      "Connectivity computation...\n",
      "   Processing epoch 1 / 1 ...\n"
     ]
    },
    {
     "name": "stderr",
     "output_type": "stream",
     "text": [
      "/Users/jakubblaha/Documents/thesis/thesis-python/common.py:114: RuntimeWarning: There were no Annotations stored in <EpochsArray | 1 events (all good), 0 – 7.992 s (baseline off), ~134 kB, data loaded,\n",
      " '1': 1>, so metadata was not modified.\n",
      "  res = mne_connectivity.spectral_connectivity_time(\n"
     ]
    },
    {
     "name": "stdout",
     "output_type": "stream",
     "text": [
      "[Connectivity computation done]\n",
      "Computing features for trial:  203\n",
      "[ 4  8 10 13 30 45]\n",
      "(6,)\n",
      "[ 4  8 10 13 30 45]\n",
      "(6,)\n",
      "only using indices for lower-triangular matrix\n",
      "Connectivity computation...\n",
      "   Processing epoch 1 / 1 ...\n",
      "[Connectivity computation done]\n"
     ]
    },
    {
     "name": "stderr",
     "output_type": "stream",
     "text": [
      "/Users/jakubblaha/Documents/thesis/thesis-python/common.py:114: RuntimeWarning: There were no Annotations stored in <EpochsArray | 1 events (all good), 0 – 7.992 s (baseline off), ~134 kB, data loaded,\n",
      " '1': 1>, so metadata was not modified.\n",
      "  res = mne_connectivity.spectral_connectivity_time(\n"
     ]
    },
    {
     "name": "stdout",
     "output_type": "stream",
     "text": [
      "Computing features for trial:  204\n",
      "[ 4  8 10 13 30 45]\n",
      "(6,)\n",
      "[ 4  8 10 13 30 45]\n",
      "(6,)\n",
      "only using indices for lower-triangular matrix\n",
      "Connectivity computation...\n",
      "   Processing epoch 1 / 1 ...\n",
      "[Connectivity computation done]\n",
      "Computing features for trial:  205\n"
     ]
    },
    {
     "name": "stderr",
     "output_type": "stream",
     "text": [
      "/Users/jakubblaha/Documents/thesis/thesis-python/common.py:114: RuntimeWarning: There were no Annotations stored in <EpochsArray | 1 events (all good), 0 – 7.992 s (baseline off), ~134 kB, data loaded,\n",
      " '1': 1>, so metadata was not modified.\n",
      "  res = mne_connectivity.spectral_connectivity_time(\n"
     ]
    },
    {
     "name": "stdout",
     "output_type": "stream",
     "text": [
      "[ 4  8 10 13 30 45]\n",
      "(6,)\n",
      "[ 4  8 10 13 30 45]\n",
      "(6,)\n",
      "only using indices for lower-triangular matrix\n",
      "Connectivity computation...\n",
      "   Processing epoch 1 / 1 ...\n",
      "[Connectivity computation done]\n",
      "Computing features for trial:  206\n"
     ]
    },
    {
     "name": "stderr",
     "output_type": "stream",
     "text": [
      "/Users/jakubblaha/Documents/thesis/thesis-python/common.py:114: RuntimeWarning: There were no Annotations stored in <EpochsArray | 1 events (all good), 0 – 7.992 s (baseline off), ~134 kB, data loaded,\n",
      " '1': 1>, so metadata was not modified.\n",
      "  res = mne_connectivity.spectral_connectivity_time(\n"
     ]
    },
    {
     "name": "stdout",
     "output_type": "stream",
     "text": [
      "[ 4  8 10 13 30 45]\n",
      "(6,)\n",
      "[ 4  8 10 13 30 45]\n",
      "(6,)\n",
      "only using indices for lower-triangular matrix\n",
      "Connectivity computation...\n",
      "   Processing epoch 1 / 1 ...\n",
      "[Connectivity computation done]\n",
      "Computing features for trial:  207\n"
     ]
    },
    {
     "name": "stderr",
     "output_type": "stream",
     "text": [
      "/Users/jakubblaha/Documents/thesis/thesis-python/common.py:114: RuntimeWarning: There were no Annotations stored in <EpochsArray | 1 events (all good), 0 – 7.992 s (baseline off), ~134 kB, data loaded,\n",
      " '1': 1>, so metadata was not modified.\n",
      "  res = mne_connectivity.spectral_connectivity_time(\n"
     ]
    },
    {
     "name": "stdout",
     "output_type": "stream",
     "text": [
      "[ 4  8 10 13 30 45]\n",
      "(6,)\n",
      "[ 4  8 10 13 30 45]\n",
      "(6,)\n",
      "only using indices for lower-triangular matrix\n",
      "Connectivity computation...\n",
      "   Processing epoch 1 / 1 ...\n",
      "[Connectivity computation done]\n",
      "Computing features for trial:  208\n"
     ]
    },
    {
     "name": "stderr",
     "output_type": "stream",
     "text": [
      "/Users/jakubblaha/Documents/thesis/thesis-python/common.py:114: RuntimeWarning: There were no Annotations stored in <EpochsArray | 1 events (all good), 0 – 7.992 s (baseline off), ~134 kB, data loaded,\n",
      " '1': 1>, so metadata was not modified.\n",
      "  res = mne_connectivity.spectral_connectivity_time(\n"
     ]
    },
    {
     "name": "stdout",
     "output_type": "stream",
     "text": [
      "[ 4  8 10 13 30 45]\n",
      "(6,)\n",
      "[ 4  8 10 13 30 45]\n",
      "(6,)\n",
      "only using indices for lower-triangular matrix\n",
      "Connectivity computation...\n",
      "   Processing epoch 1 / 1 ...\n"
     ]
    },
    {
     "name": "stderr",
     "output_type": "stream",
     "text": [
      "/Users/jakubblaha/Documents/thesis/thesis-python/common.py:114: RuntimeWarning: There were no Annotations stored in <EpochsArray | 1 events (all good), 0 – 7.992 s (baseline off), ~134 kB, data loaded,\n",
      " '1': 1>, so metadata was not modified.\n",
      "  res = mne_connectivity.spectral_connectivity_time(\n"
     ]
    },
    {
     "name": "stdout",
     "output_type": "stream",
     "text": [
      "[Connectivity computation done]\n",
      "Computing features for trial:  209\n",
      "[ 4  8 10 13 30 45]\n",
      "(6,)\n",
      "[ 4  8 10 13 30 45]\n",
      "(6,)\n",
      "only using indices for lower-triangular matrix\n",
      "Connectivity computation...\n",
      "   Processing epoch 1 / 1 ...\n",
      "[Connectivity computation done]\n"
     ]
    },
    {
     "name": "stderr",
     "output_type": "stream",
     "text": [
      "/Users/jakubblaha/Documents/thesis/thesis-python/common.py:114: RuntimeWarning: There were no Annotations stored in <EpochsArray | 1 events (all good), 0 – 7.992 s (baseline off), ~134 kB, data loaded,\n",
      " '1': 1>, so metadata was not modified.\n",
      "  res = mne_connectivity.spectral_connectivity_time(\n"
     ]
    },
    {
     "name": "stdout",
     "output_type": "stream",
     "text": [
      "Computing features for trial:  210\n",
      "[ 4  8 10 13 30 45]\n",
      "(6,)\n",
      "[ 4  8 10 13 30 45]\n",
      "(6,)\n",
      "only using indices for lower-triangular matrix\n",
      "Connectivity computation...\n",
      "   Processing epoch 1 / 1 ...\n",
      "[Connectivity computation done]\n",
      "Computing features for trial:  211\n"
     ]
    },
    {
     "name": "stderr",
     "output_type": "stream",
     "text": [
      "/Users/jakubblaha/Documents/thesis/thesis-python/common.py:114: RuntimeWarning: There were no Annotations stored in <EpochsArray | 1 events (all good), 0 – 7.992 s (baseline off), ~134 kB, data loaded,\n",
      " '1': 1>, so metadata was not modified.\n",
      "  res = mne_connectivity.spectral_connectivity_time(\n"
     ]
    },
    {
     "name": "stdout",
     "output_type": "stream",
     "text": [
      "[ 4  8 10 13 30 45]\n",
      "(6,)\n",
      "[ 4  8 10 13 30 45]\n",
      "(6,)\n",
      "only using indices for lower-triangular matrix\n",
      "Connectivity computation...\n",
      "   Processing epoch 1 / 1 ...\n",
      "[Connectivity computation done]\n",
      "Computing features for trial:  212\n"
     ]
    },
    {
     "name": "stderr",
     "output_type": "stream",
     "text": [
      "/Users/jakubblaha/Documents/thesis/thesis-python/common.py:114: RuntimeWarning: There were no Annotations stored in <EpochsArray | 1 events (all good), 0 – 7.992 s (baseline off), ~134 kB, data loaded,\n",
      " '1': 1>, so metadata was not modified.\n",
      "  res = mne_connectivity.spectral_connectivity_time(\n"
     ]
    },
    {
     "name": "stdout",
     "output_type": "stream",
     "text": [
      "[ 4  8 10 13 30 45]\n",
      "(6,)\n",
      "[ 4  8 10 13 30 45]\n",
      "(6,)\n",
      "only using indices for lower-triangular matrix\n",
      "Connectivity computation...\n",
      "   Processing epoch 1 / 1 ...\n",
      "[Connectivity computation done]\n",
      "Computing features for trial:  213\n"
     ]
    },
    {
     "name": "stderr",
     "output_type": "stream",
     "text": [
      "/Users/jakubblaha/Documents/thesis/thesis-python/common.py:114: RuntimeWarning: There were no Annotations stored in <EpochsArray | 1 events (all good), 0 – 7.992 s (baseline off), ~134 kB, data loaded,\n",
      " '1': 1>, so metadata was not modified.\n",
      "  res = mne_connectivity.spectral_connectivity_time(\n"
     ]
    },
    {
     "name": "stdout",
     "output_type": "stream",
     "text": [
      "[ 4  8 10 13 30 45]\n",
      "(6,)\n",
      "[ 4  8 10 13 30 45]\n",
      "(6,)\n",
      "only using indices for lower-triangular matrix\n",
      "Connectivity computation...\n",
      "   Processing epoch 1 / 1 ...\n",
      "[Connectivity computation done]\n",
      "Computing features for trial:  214\n"
     ]
    },
    {
     "name": "stderr",
     "output_type": "stream",
     "text": [
      "/Users/jakubblaha/Documents/thesis/thesis-python/common.py:114: RuntimeWarning: There were no Annotations stored in <EpochsArray | 1 events (all good), 0 – 7.992 s (baseline off), ~134 kB, data loaded,\n",
      " '1': 1>, so metadata was not modified.\n",
      "  res = mne_connectivity.spectral_connectivity_time(\n"
     ]
    },
    {
     "name": "stdout",
     "output_type": "stream",
     "text": [
      "[ 4  8 10 13 30 45]\n",
      "(6,)\n",
      "[ 4  8 10 13 30 45]\n",
      "(6,)\n",
      "only using indices for lower-triangular matrix\n",
      "Connectivity computation...\n",
      "   Processing epoch 1 / 1 ...\n",
      "[Connectivity computation done]\n",
      "Computing features for trial:  215\n"
     ]
    },
    {
     "name": "stderr",
     "output_type": "stream",
     "text": [
      "/Users/jakubblaha/Documents/thesis/thesis-python/common.py:114: RuntimeWarning: There were no Annotations stored in <EpochsArray | 1 events (all good), 0 – 7.992 s (baseline off), ~134 kB, data loaded,\n",
      " '1': 1>, so metadata was not modified.\n",
      "  res = mne_connectivity.spectral_connectivity_time(\n"
     ]
    },
    {
     "name": "stdout",
     "output_type": "stream",
     "text": [
      "[ 4  8 10 13 30 45]\n",
      "(6,)\n",
      "[ 4  8 10 13 30 45]\n",
      "(6,)\n",
      "only using indices for lower-triangular matrix\n",
      "Connectivity computation...\n",
      "   Processing epoch 1 / 1 ...\n",
      "[Connectivity computation done]\n",
      "Computing features for trial:  216\n"
     ]
    },
    {
     "name": "stderr",
     "output_type": "stream",
     "text": [
      "/Users/jakubblaha/Documents/thesis/thesis-python/common.py:114: RuntimeWarning: There were no Annotations stored in <EpochsArray | 1 events (all good), 0 – 7.992 s (baseline off), ~134 kB, data loaded,\n",
      " '1': 1>, so metadata was not modified.\n",
      "  res = mne_connectivity.spectral_connectivity_time(\n"
     ]
    },
    {
     "name": "stdout",
     "output_type": "stream",
     "text": [
      "[ 4  8 10 13 30 45]\n",
      "(6,)\n",
      "[ 4  8 10 13 30 45]\n",
      "(6,)\n",
      "only using indices for lower-triangular matrix\n",
      "Connectivity computation...\n",
      "   Processing epoch 1 / 1 ...\n",
      "[Connectivity computation done]\n",
      "Computing features for trial:  217\n"
     ]
    },
    {
     "name": "stderr",
     "output_type": "stream",
     "text": [
      "/Users/jakubblaha/Documents/thesis/thesis-python/common.py:114: RuntimeWarning: There were no Annotations stored in <EpochsArray | 1 events (all good), 0 – 7.992 s (baseline off), ~134 kB, data loaded,\n",
      " '1': 1>, so metadata was not modified.\n",
      "  res = mne_connectivity.spectral_connectivity_time(\n"
     ]
    },
    {
     "name": "stdout",
     "output_type": "stream",
     "text": [
      "[ 4  8 10 13 30 45]\n",
      "(6,)\n",
      "[ 4  8 10 13 30 45]\n",
      "(6,)\n",
      "only using indices for lower-triangular matrix\n",
      "Connectivity computation...\n",
      "   Processing epoch 1 / 1 ...\n",
      "[Connectivity computation done]\n",
      "Computing features for trial:  218\n"
     ]
    },
    {
     "name": "stderr",
     "output_type": "stream",
     "text": [
      "/Users/jakubblaha/Documents/thesis/thesis-python/common.py:114: RuntimeWarning: There were no Annotations stored in <EpochsArray | 1 events (all good), 0 – 7.992 s (baseline off), ~134 kB, data loaded,\n",
      " '1': 1>, so metadata was not modified.\n",
      "  res = mne_connectivity.spectral_connectivity_time(\n"
     ]
    },
    {
     "name": "stdout",
     "output_type": "stream",
     "text": [
      "[ 4  8 10 13 30 45]\n",
      "(6,)\n",
      "[ 4  8 10 13 30 45]\n",
      "(6,)\n",
      "only using indices for lower-triangular matrix\n",
      "Connectivity computation...\n",
      "   Processing epoch 1 / 1 ...\n",
      "[Connectivity computation done]\n",
      "Computing features for trial:  219\n"
     ]
    },
    {
     "name": "stderr",
     "output_type": "stream",
     "text": [
      "/Users/jakubblaha/Documents/thesis/thesis-python/common.py:114: RuntimeWarning: There were no Annotations stored in <EpochsArray | 1 events (all good), 0 – 7.992 s (baseline off), ~134 kB, data loaded,\n",
      " '1': 1>, so metadata was not modified.\n",
      "  res = mne_connectivity.spectral_connectivity_time(\n"
     ]
    },
    {
     "name": "stdout",
     "output_type": "stream",
     "text": [
      "[ 4  8 10 13 30 45]\n",
      "(6,)\n",
      "[ 4  8 10 13 30 45]\n",
      "(6,)\n",
      "only using indices for lower-triangular matrix\n",
      "Connectivity computation...\n",
      "   Processing epoch 1 / 1 ...\n",
      "[Connectivity computation done]\n",
      "Computing features for trial:  220\n"
     ]
    },
    {
     "name": "stderr",
     "output_type": "stream",
     "text": [
      "/Users/jakubblaha/Documents/thesis/thesis-python/common.py:114: RuntimeWarning: There were no Annotations stored in <EpochsArray | 1 events (all good), 0 – 7.992 s (baseline off), ~134 kB, data loaded,\n",
      " '1': 1>, so metadata was not modified.\n",
      "  res = mne_connectivity.spectral_connectivity_time(\n"
     ]
    },
    {
     "name": "stdout",
     "output_type": "stream",
     "text": [
      "[ 4  8 10 13 30 45]\n",
      "(6,)\n",
      "[ 4  8 10 13 30 45]\n",
      "(6,)\n",
      "only using indices for lower-triangular matrix\n",
      "Connectivity computation...\n",
      "   Processing epoch 1 / 1 ...\n",
      "[Connectivity computation done]\n",
      "Computing features for trial:  221\n"
     ]
    },
    {
     "name": "stderr",
     "output_type": "stream",
     "text": [
      "/Users/jakubblaha/Documents/thesis/thesis-python/common.py:114: RuntimeWarning: There were no Annotations stored in <EpochsArray | 1 events (all good), 0 – 7.992 s (baseline off), ~134 kB, data loaded,\n",
      " '1': 1>, so metadata was not modified.\n",
      "  res = mne_connectivity.spectral_connectivity_time(\n"
     ]
    },
    {
     "name": "stdout",
     "output_type": "stream",
     "text": [
      "[ 4  8 10 13 30 45]\n",
      "(6,)\n",
      "[ 4  8 10 13 30 45]\n",
      "(6,)\n",
      "only using indices for lower-triangular matrix\n",
      "Connectivity computation...\n",
      "   Processing epoch 1 / 1 ...\n"
     ]
    },
    {
     "name": "stderr",
     "output_type": "stream",
     "text": [
      "/Users/jakubblaha/Documents/thesis/thesis-python/common.py:114: RuntimeWarning: There were no Annotations stored in <EpochsArray | 1 events (all good), 0 – 7.992 s (baseline off), ~134 kB, data loaded,\n",
      " '1': 1>, so metadata was not modified.\n",
      "  res = mne_connectivity.spectral_connectivity_time(\n"
     ]
    },
    {
     "name": "stdout",
     "output_type": "stream",
     "text": [
      "[Connectivity computation done]\n",
      "Computing features for trial:  222\n",
      "[ 4  8 10 13 30 45]\n",
      "(6,)\n",
      "[ 4  8 10 13 30 45]\n",
      "(6,)\n",
      "only using indices for lower-triangular matrix\n",
      "Connectivity computation...\n",
      "   Processing epoch 1 / 1 ...\n",
      "[Connectivity computation done]\n"
     ]
    },
    {
     "name": "stderr",
     "output_type": "stream",
     "text": [
      "/Users/jakubblaha/Documents/thesis/thesis-python/common.py:114: RuntimeWarning: There were no Annotations stored in <EpochsArray | 1 events (all good), 0 – 7.992 s (baseline off), ~134 kB, data loaded,\n",
      " '1': 1>, so metadata was not modified.\n",
      "  res = mne_connectivity.spectral_connectivity_time(\n"
     ]
    },
    {
     "name": "stdout",
     "output_type": "stream",
     "text": [
      "Computing features for trial:  223\n",
      "[ 4  8 10 13 30 45]\n",
      "(6,)\n",
      "[ 4  8 10 13 30 45]\n",
      "(6,)\n",
      "only using indices for lower-triangular matrix\n",
      "Connectivity computation...\n",
      "   Processing epoch 1 / 1 ...\n",
      "[Connectivity computation done]\n",
      "Computing features for trial:  224\n"
     ]
    },
    {
     "name": "stderr",
     "output_type": "stream",
     "text": [
      "/Users/jakubblaha/Documents/thesis/thesis-python/common.py:114: RuntimeWarning: There were no Annotations stored in <EpochsArray | 1 events (all good), 0 – 7.992 s (baseline off), ~134 kB, data loaded,\n",
      " '1': 1>, so metadata was not modified.\n",
      "  res = mne_connectivity.spectral_connectivity_time(\n"
     ]
    },
    {
     "name": "stdout",
     "output_type": "stream",
     "text": [
      "[ 4  8 10 13 30 45]\n",
      "(6,)\n",
      "[ 4  8 10 13 30 45]\n",
      "(6,)\n",
      "only using indices for lower-triangular matrix\n",
      "Connectivity computation...\n",
      "   Processing epoch 1 / 1 ...\n",
      "[Connectivity computation done]\n",
      "Computing features for trial:  225\n"
     ]
    },
    {
     "name": "stderr",
     "output_type": "stream",
     "text": [
      "/Users/jakubblaha/Documents/thesis/thesis-python/common.py:114: RuntimeWarning: There were no Annotations stored in <EpochsArray | 1 events (all good), 0 – 7.992 s (baseline off), ~134 kB, data loaded,\n",
      " '1': 1>, so metadata was not modified.\n",
      "  res = mne_connectivity.spectral_connectivity_time(\n"
     ]
    },
    {
     "name": "stdout",
     "output_type": "stream",
     "text": [
      "[ 4  8 10 13 30 45]\n",
      "(6,)\n",
      "[ 4  8 10 13 30 45]\n",
      "(6,)\n",
      "only using indices for lower-triangular matrix\n",
      "Connectivity computation...\n",
      "   Processing epoch 1 / 1 ...\n",
      "[Connectivity computation done]\n",
      "Computing features for trial:  226\n"
     ]
    },
    {
     "name": "stderr",
     "output_type": "stream",
     "text": [
      "/Users/jakubblaha/Documents/thesis/thesis-python/common.py:114: RuntimeWarning: There were no Annotations stored in <EpochsArray | 1 events (all good), 0 – 7.992 s (baseline off), ~134 kB, data loaded,\n",
      " '1': 1>, so metadata was not modified.\n",
      "  res = mne_connectivity.spectral_connectivity_time(\n"
     ]
    },
    {
     "name": "stdout",
     "output_type": "stream",
     "text": [
      "[ 4  8 10 13 30 45]\n",
      "(6,)\n",
      "[ 4  8 10 13 30 45]\n",
      "(6,)\n",
      "only using indices for lower-triangular matrix\n",
      "Connectivity computation...\n",
      "   Processing epoch 1 / 1 ...\n",
      "[Connectivity computation done]\n",
      "Computing features for trial:  227\n"
     ]
    },
    {
     "name": "stderr",
     "output_type": "stream",
     "text": [
      "/Users/jakubblaha/Documents/thesis/thesis-python/common.py:114: RuntimeWarning: There were no Annotations stored in <EpochsArray | 1 events (all good), 0 – 7.992 s (baseline off), ~134 kB, data loaded,\n",
      " '1': 1>, so metadata was not modified.\n",
      "  res = mne_connectivity.spectral_connectivity_time(\n"
     ]
    },
    {
     "name": "stdout",
     "output_type": "stream",
     "text": [
      "[ 4  8 10 13 30 45]\n",
      "(6,)\n",
      "[ 4  8 10 13 30 45]\n",
      "(6,)\n",
      "only using indices for lower-triangular matrix\n",
      "Connectivity computation...\n",
      "   Processing epoch 1 / 1 ...\n"
     ]
    },
    {
     "name": "stderr",
     "output_type": "stream",
     "text": [
      "/Users/jakubblaha/Documents/thesis/thesis-python/common.py:114: RuntimeWarning: There were no Annotations stored in <EpochsArray | 1 events (all good), 0 – 7.992 s (baseline off), ~134 kB, data loaded,\n",
      " '1': 1>, so metadata was not modified.\n",
      "  res = mne_connectivity.spectral_connectivity_time(\n"
     ]
    },
    {
     "name": "stdout",
     "output_type": "stream",
     "text": [
      "[Connectivity computation done]\n",
      "Computing features for trial:  228\n",
      "[ 4  8 10 13 30 45]\n",
      "(6,)\n",
      "[ 4  8 10 13 30 45]\n",
      "(6,)\n",
      "only using indices for lower-triangular matrix\n",
      "Connectivity computation...\n",
      "   Processing epoch 1 / 1 ...\n",
      "[Connectivity computation done]\n"
     ]
    },
    {
     "name": "stderr",
     "output_type": "stream",
     "text": [
      "/Users/jakubblaha/Documents/thesis/thesis-python/common.py:114: RuntimeWarning: There were no Annotations stored in <EpochsArray | 1 events (all good), 0 – 7.992 s (baseline off), ~134 kB, data loaded,\n",
      " '1': 1>, so metadata was not modified.\n",
      "  res = mne_connectivity.spectral_connectivity_time(\n"
     ]
    },
    {
     "name": "stdout",
     "output_type": "stream",
     "text": [
      "Computing features for trial:  229\n",
      "[ 4  8 10 13 30 45]\n",
      "(6,)\n",
      "[ 4  8 10 13 30 45]\n",
      "(6,)\n",
      "only using indices for lower-triangular matrix\n",
      "Connectivity computation...\n",
      "   Processing epoch 1 / 1 ...\n",
      "[Connectivity computation done]\n",
      "Computing features for trial:  230\n"
     ]
    },
    {
     "name": "stderr",
     "output_type": "stream",
     "text": [
      "/Users/jakubblaha/Documents/thesis/thesis-python/common.py:114: RuntimeWarning: There were no Annotations stored in <EpochsArray | 1 events (all good), 0 – 7.992 s (baseline off), ~134 kB, data loaded,\n",
      " '1': 1>, so metadata was not modified.\n",
      "  res = mne_connectivity.spectral_connectivity_time(\n"
     ]
    },
    {
     "name": "stdout",
     "output_type": "stream",
     "text": [
      "[ 4  8 10 13 30 45]\n",
      "(6,)\n",
      "[ 4  8 10 13 30 45]\n",
      "(6,)\n",
      "only using indices for lower-triangular matrix\n",
      "Connectivity computation...\n",
      "   Processing epoch 1 / 1 ...\n",
      "[Connectivity computation done]\n",
      "Computing features for trial:  231\n"
     ]
    },
    {
     "name": "stderr",
     "output_type": "stream",
     "text": [
      "/Users/jakubblaha/Documents/thesis/thesis-python/common.py:114: RuntimeWarning: There were no Annotations stored in <EpochsArray | 1 events (all good), 0 – 7.992 s (baseline off), ~134 kB, data loaded,\n",
      " '1': 1>, so metadata was not modified.\n",
      "  res = mne_connectivity.spectral_connectivity_time(\n"
     ]
    },
    {
     "name": "stdout",
     "output_type": "stream",
     "text": [
      "[ 4  8 10 13 30 45]\n",
      "(6,)\n",
      "[ 4  8 10 13 30 45]\n",
      "(6,)\n",
      "only using indices for lower-triangular matrix\n",
      "Connectivity computation...\n",
      "   Processing epoch 1 / 1 ...\n",
      "[Connectivity computation done]\n",
      "Computing features for trial:  232\n"
     ]
    },
    {
     "name": "stderr",
     "output_type": "stream",
     "text": [
      "/Users/jakubblaha/Documents/thesis/thesis-python/common.py:114: RuntimeWarning: There were no Annotations stored in <EpochsArray | 1 events (all good), 0 – 7.992 s (baseline off), ~134 kB, data loaded,\n",
      " '1': 1>, so metadata was not modified.\n",
      "  res = mne_connectivity.spectral_connectivity_time(\n"
     ]
    },
    {
     "name": "stdout",
     "output_type": "stream",
     "text": [
      "[ 4  8 10 13 30 45]\n",
      "(6,)\n",
      "[ 4  8 10 13 30 45]\n",
      "(6,)\n",
      "only using indices for lower-triangular matrix\n",
      "Connectivity computation...\n",
      "   Processing epoch 1 / 1 ...\n",
      "[Connectivity computation done]\n",
      "Computing features for trial:  233\n"
     ]
    },
    {
     "name": "stderr",
     "output_type": "stream",
     "text": [
      "/Users/jakubblaha/Documents/thesis/thesis-python/common.py:114: RuntimeWarning: There were no Annotations stored in <EpochsArray | 1 events (all good), 0 – 7.992 s (baseline off), ~134 kB, data loaded,\n",
      " '1': 1>, so metadata was not modified.\n",
      "  res = mne_connectivity.spectral_connectivity_time(\n"
     ]
    },
    {
     "name": "stdout",
     "output_type": "stream",
     "text": [
      "[ 4  8 10 13 30 45]\n",
      "(6,)\n",
      "[ 4  8 10 13 30 45]\n",
      "(6,)\n",
      "only using indices for lower-triangular matrix\n",
      "Connectivity computation...\n",
      "   Processing epoch 1 / 1 ...\n"
     ]
    },
    {
     "name": "stderr",
     "output_type": "stream",
     "text": [
      "/Users/jakubblaha/Documents/thesis/thesis-python/common.py:114: RuntimeWarning: There were no Annotations stored in <EpochsArray | 1 events (all good), 0 – 7.992 s (baseline off), ~134 kB, data loaded,\n",
      " '1': 1>, so metadata was not modified.\n",
      "  res = mne_connectivity.spectral_connectivity_time(\n"
     ]
    },
    {
     "name": "stdout",
     "output_type": "stream",
     "text": [
      "[Connectivity computation done]\n",
      "Computing features for trial:  234\n",
      "[ 4  8 10 13 30 45]\n",
      "(6,)\n",
      "[ 4  8 10 13 30 45]\n",
      "(6,)\n",
      "only using indices for lower-triangular matrix\n",
      "Connectivity computation...\n",
      "   Processing epoch 1 / 1 ...\n",
      "[Connectivity computation done]\n"
     ]
    },
    {
     "name": "stderr",
     "output_type": "stream",
     "text": [
      "/Users/jakubblaha/Documents/thesis/thesis-python/common.py:114: RuntimeWarning: There were no Annotations stored in <EpochsArray | 1 events (all good), 0 – 7.992 s (baseline off), ~134 kB, data loaded,\n",
      " '1': 1>, so metadata was not modified.\n",
      "  res = mne_connectivity.spectral_connectivity_time(\n"
     ]
    },
    {
     "name": "stdout",
     "output_type": "stream",
     "text": [
      "Computing features for trial:  235\n",
      "[ 4  8 10 13 30 45]\n",
      "(6,)\n",
      "[ 4  8 10 13 30 45]\n",
      "(6,)\n",
      "only using indices for lower-triangular matrix\n",
      "Connectivity computation...\n",
      "   Processing epoch 1 / 1 ...\n",
      "[Connectivity computation done]\n",
      "Computing features for trial:  236\n"
     ]
    },
    {
     "name": "stderr",
     "output_type": "stream",
     "text": [
      "/Users/jakubblaha/Documents/thesis/thesis-python/common.py:114: RuntimeWarning: There were no Annotations stored in <EpochsArray | 1 events (all good), 0 – 7.992 s (baseline off), ~134 kB, data loaded,\n",
      " '1': 1>, so metadata was not modified.\n",
      "  res = mne_connectivity.spectral_connectivity_time(\n"
     ]
    },
    {
     "name": "stdout",
     "output_type": "stream",
     "text": [
      "[ 4  8 10 13 30 45]\n",
      "(6,)\n",
      "[ 4  8 10 13 30 45]\n",
      "(6,)\n",
      "only using indices for lower-triangular matrix\n",
      "Connectivity computation...\n",
      "   Processing epoch 1 / 1 ...\n",
      "[Connectivity computation done]\n",
      "Computing features for trial:  237\n"
     ]
    },
    {
     "name": "stderr",
     "output_type": "stream",
     "text": [
      "/Users/jakubblaha/Documents/thesis/thesis-python/common.py:114: RuntimeWarning: There were no Annotations stored in <EpochsArray | 1 events (all good), 0 – 7.992 s (baseline off), ~134 kB, data loaded,\n",
      " '1': 1>, so metadata was not modified.\n",
      "  res = mne_connectivity.spectral_connectivity_time(\n"
     ]
    },
    {
     "name": "stdout",
     "output_type": "stream",
     "text": [
      "[ 4  8 10 13 30 45]\n",
      "(6,)\n",
      "[ 4  8 10 13 30 45]\n",
      "(6,)\n",
      "only using indices for lower-triangular matrix\n",
      "Connectivity computation...\n",
      "   Processing epoch 1 / 1 ...\n",
      "[Connectivity computation done]\n",
      "Computing features for trial:  238\n"
     ]
    },
    {
     "name": "stderr",
     "output_type": "stream",
     "text": [
      "/Users/jakubblaha/Documents/thesis/thesis-python/common.py:114: RuntimeWarning: There were no Annotations stored in <EpochsArray | 1 events (all good), 0 – 7.992 s (baseline off), ~134 kB, data loaded,\n",
      " '1': 1>, so metadata was not modified.\n",
      "  res = mne_connectivity.spectral_connectivity_time(\n"
     ]
    },
    {
     "name": "stdout",
     "output_type": "stream",
     "text": [
      "[ 4  8 10 13 30 45]\n",
      "(6,)\n",
      "[ 4  8 10 13 30 45]\n",
      "(6,)\n",
      "only using indices for lower-triangular matrix\n",
      "Connectivity computation...\n",
      "   Processing epoch 1 / 1 ...\n",
      "[Connectivity computation done]\n",
      "Computing features for trial:  239\n"
     ]
    },
    {
     "name": "stderr",
     "output_type": "stream",
     "text": [
      "/Users/jakubblaha/Documents/thesis/thesis-python/common.py:114: RuntimeWarning: There were no Annotations stored in <EpochsArray | 1 events (all good), 0 – 7.992 s (baseline off), ~134 kB, data loaded,\n",
      " '1': 1>, so metadata was not modified.\n",
      "  res = mne_connectivity.spectral_connectivity_time(\n"
     ]
    },
    {
     "name": "stdout",
     "output_type": "stream",
     "text": [
      "[ 4  8 10 13 30 45]\n",
      "(6,)\n",
      "[ 4  8 10 13 30 45]\n",
      "(6,)\n",
      "only using indices for lower-triangular matrix\n",
      "Connectivity computation...\n",
      "   Processing epoch 1 / 1 ...\n"
     ]
    },
    {
     "name": "stderr",
     "output_type": "stream",
     "text": [
      "/Users/jakubblaha/Documents/thesis/thesis-python/common.py:114: RuntimeWarning: There were no Annotations stored in <EpochsArray | 1 events (all good), 0 – 7.992 s (baseline off), ~134 kB, data loaded,\n",
      " '1': 1>, so metadata was not modified.\n",
      "  res = mne_connectivity.spectral_connectivity_time(\n"
     ]
    },
    {
     "name": "stdout",
     "output_type": "stream",
     "text": [
      "[Connectivity computation done]\n",
      "Computing features for trial:  240\n",
      "[ 4  8 10 13 30 45]\n",
      "(6,)\n",
      "[ 4  8 10 13 30 45]\n",
      "(6,)\n",
      "only using indices for lower-triangular matrix\n",
      "Connectivity computation...\n",
      "   Processing epoch 1 / 1 ...\n",
      "[Connectivity computation done]\n"
     ]
    },
    {
     "name": "stderr",
     "output_type": "stream",
     "text": [
      "/Users/jakubblaha/Documents/thesis/thesis-python/common.py:114: RuntimeWarning: There were no Annotations stored in <EpochsArray | 1 events (all good), 0 – 7.992 s (baseline off), ~134 kB, data loaded,\n",
      " '1': 1>, so metadata was not modified.\n",
      "  res = mne_connectivity.spectral_connectivity_time(\n"
     ]
    },
    {
     "name": "stdout",
     "output_type": "stream",
     "text": [
      "Computing features for trial:  241\n",
      "[ 4  8 10 13 30 45]\n",
      "(6,)\n",
      "[ 4  8 10 13 30 45]\n",
      "(6,)\n",
      "only using indices for lower-triangular matrix\n",
      "Connectivity computation...\n",
      "   Processing epoch 1 / 1 ...\n",
      "[Connectivity computation done]\n",
      "Computing features for trial:  242\n"
     ]
    },
    {
     "name": "stderr",
     "output_type": "stream",
     "text": [
      "/Users/jakubblaha/Documents/thesis/thesis-python/common.py:114: RuntimeWarning: There were no Annotations stored in <EpochsArray | 1 events (all good), 0 – 7.992 s (baseline off), ~134 kB, data loaded,\n",
      " '1': 1>, so metadata was not modified.\n",
      "  res = mne_connectivity.spectral_connectivity_time(\n"
     ]
    },
    {
     "name": "stdout",
     "output_type": "stream",
     "text": [
      "[ 4  8 10 13 30 45]\n",
      "(6,)\n",
      "[ 4  8 10 13 30 45]\n",
      "(6,)\n",
      "only using indices for lower-triangular matrix\n",
      "Connectivity computation...\n",
      "   Processing epoch 1 / 1 ...\n",
      "[Connectivity computation done]\n",
      "Computing features for trial:  243\n"
     ]
    },
    {
     "name": "stderr",
     "output_type": "stream",
     "text": [
      "/Users/jakubblaha/Documents/thesis/thesis-python/common.py:114: RuntimeWarning: There were no Annotations stored in <EpochsArray | 1 events (all good), 0 – 7.992 s (baseline off), ~134 kB, data loaded,\n",
      " '1': 1>, so metadata was not modified.\n",
      "  res = mne_connectivity.spectral_connectivity_time(\n"
     ]
    },
    {
     "name": "stdout",
     "output_type": "stream",
     "text": [
      "[ 4  8 10 13 30 45]\n",
      "(6,)\n",
      "[ 4  8 10 13 30 45]\n",
      "(6,)\n",
      "only using indices for lower-triangular matrix\n",
      "Connectivity computation...\n",
      "   Processing epoch 1 / 1 ...\n",
      "[Connectivity computation done]\n",
      "Computing features for trial:  244\n"
     ]
    },
    {
     "name": "stderr",
     "output_type": "stream",
     "text": [
      "/Users/jakubblaha/Documents/thesis/thesis-python/common.py:114: RuntimeWarning: There were no Annotations stored in <EpochsArray | 1 events (all good), 0 – 7.992 s (baseline off), ~134 kB, data loaded,\n",
      " '1': 1>, so metadata was not modified.\n",
      "  res = mne_connectivity.spectral_connectivity_time(\n"
     ]
    },
    {
     "name": "stdout",
     "output_type": "stream",
     "text": [
      "[ 4  8 10 13 30 45]\n",
      "(6,)\n",
      "[ 4  8 10 13 30 45]\n",
      "(6,)\n",
      "only using indices for lower-triangular matrix\n",
      "Connectivity computation...\n",
      "   Processing epoch 1 / 1 ...\n",
      "[Connectivity computation done]\n",
      "Computing features for trial:  245\n"
     ]
    },
    {
     "name": "stderr",
     "output_type": "stream",
     "text": [
      "/Users/jakubblaha/Documents/thesis/thesis-python/common.py:114: RuntimeWarning: There were no Annotations stored in <EpochsArray | 1 events (all good), 0 – 7.992 s (baseline off), ~134 kB, data loaded,\n",
      " '1': 1>, so metadata was not modified.\n",
      "  res = mne_connectivity.spectral_connectivity_time(\n"
     ]
    },
    {
     "name": "stdout",
     "output_type": "stream",
     "text": [
      "[ 4  8 10 13 30 45]\n",
      "(6,)\n",
      "[ 4  8 10 13 30 45]\n",
      "(6,)\n",
      "only using indices for lower-triangular matrix\n",
      "Connectivity computation...\n",
      "   Processing epoch 1 / 1 ...\n"
     ]
    },
    {
     "name": "stderr",
     "output_type": "stream",
     "text": [
      "/Users/jakubblaha/Documents/thesis/thesis-python/common.py:114: RuntimeWarning: There were no Annotations stored in <EpochsArray | 1 events (all good), 0 – 7.992 s (baseline off), ~134 kB, data loaded,\n",
      " '1': 1>, so metadata was not modified.\n",
      "  res = mne_connectivity.spectral_connectivity_time(\n"
     ]
    },
    {
     "name": "stdout",
     "output_type": "stream",
     "text": [
      "[Connectivity computation done]\n",
      "Computing features for trial:  246\n",
      "[ 4  8 10 13 30 45]\n",
      "(6,)\n",
      "[ 4  8 10 13 30 45]\n",
      "(6,)\n",
      "only using indices for lower-triangular matrix\n",
      "Connectivity computation...\n",
      "   Processing epoch 1 / 1 ...\n",
      "[Connectivity computation done]\n"
     ]
    },
    {
     "name": "stderr",
     "output_type": "stream",
     "text": [
      "/Users/jakubblaha/Documents/thesis/thesis-python/common.py:114: RuntimeWarning: There were no Annotations stored in <EpochsArray | 1 events (all good), 0 – 7.992 s (baseline off), ~134 kB, data loaded,\n",
      " '1': 1>, so metadata was not modified.\n",
      "  res = mne_connectivity.spectral_connectivity_time(\n"
     ]
    },
    {
     "name": "stdout",
     "output_type": "stream",
     "text": [
      "Computing features for trial:  247\n",
      "[ 4  8 10 13 30 45]\n",
      "(6,)\n",
      "[ 4  8 10 13 30 45]\n",
      "(6,)\n",
      "only using indices for lower-triangular matrix\n",
      "Connectivity computation...\n",
      "   Processing epoch 1 / 1 ...\n",
      "[Connectivity computation done]\n",
      "Computing features for trial:  248\n"
     ]
    },
    {
     "name": "stderr",
     "output_type": "stream",
     "text": [
      "/Users/jakubblaha/Documents/thesis/thesis-python/common.py:114: RuntimeWarning: There were no Annotations stored in <EpochsArray | 1 events (all good), 0 – 7.992 s (baseline off), ~134 kB, data loaded,\n",
      " '1': 1>, so metadata was not modified.\n",
      "  res = mne_connectivity.spectral_connectivity_time(\n"
     ]
    },
    {
     "name": "stdout",
     "output_type": "stream",
     "text": [
      "[ 4  8 10 13 30 45]\n",
      "(6,)\n",
      "[ 4  8 10 13 30 45]\n",
      "(6,)\n",
      "only using indices for lower-triangular matrix\n",
      "Connectivity computation...\n",
      "   Processing epoch 1 / 1 ...\n",
      "[Connectivity computation done]\n",
      "Computing features for trial:  249\n"
     ]
    },
    {
     "name": "stderr",
     "output_type": "stream",
     "text": [
      "/Users/jakubblaha/Documents/thesis/thesis-python/common.py:114: RuntimeWarning: There were no Annotations stored in <EpochsArray | 1 events (all good), 0 – 7.992 s (baseline off), ~134 kB, data loaded,\n",
      " '1': 1>, so metadata was not modified.\n",
      "  res = mne_connectivity.spectral_connectivity_time(\n"
     ]
    },
    {
     "name": "stdout",
     "output_type": "stream",
     "text": [
      "[ 4  8 10 13 30 45]\n",
      "(6,)\n",
      "[ 4  8 10 13 30 45]\n",
      "(6,)\n",
      "only using indices for lower-triangular matrix\n",
      "Connectivity computation...\n",
      "   Processing epoch 1 / 1 ...\n"
     ]
    },
    {
     "name": "stderr",
     "output_type": "stream",
     "text": [
      "/Users/jakubblaha/Documents/thesis/thesis-python/common.py:114: RuntimeWarning: There were no Annotations stored in <EpochsArray | 1 events (all good), 0 – 7.992 s (baseline off), ~134 kB, data loaded,\n",
      " '1': 1>, so metadata was not modified.\n",
      "  res = mne_connectivity.spectral_connectivity_time(\n"
     ]
    },
    {
     "name": "stdout",
     "output_type": "stream",
     "text": [
      "[Connectivity computation done]\n",
      "Computing features for trial:  250\n",
      "[ 4  8 10 13 30 45]\n",
      "(6,)\n",
      "[ 4  8 10 13 30 45]\n",
      "(6,)\n",
      "only using indices for lower-triangular matrix\n",
      "Connectivity computation...\n",
      "   Processing epoch 1 / 1 ...\n",
      "[Connectivity computation done]\n"
     ]
    },
    {
     "name": "stderr",
     "output_type": "stream",
     "text": [
      "/Users/jakubblaha/Documents/thesis/thesis-python/common.py:114: RuntimeWarning: There were no Annotations stored in <EpochsArray | 1 events (all good), 0 – 7.992 s (baseline off), ~134 kB, data loaded,\n",
      " '1': 1>, so metadata was not modified.\n",
      "  res = mne_connectivity.spectral_connectivity_time(\n"
     ]
    },
    {
     "name": "stdout",
     "output_type": "stream",
     "text": [
      "Computing features for trial:  251\n",
      "[ 4  8 10 13 30 45]\n",
      "(6,)\n",
      "[ 4  8 10 13 30 45]\n",
      "(6,)\n",
      "only using indices for lower-triangular matrix\n",
      "Connectivity computation...\n",
      "   Processing epoch 1 / 1 ...\n"
     ]
    },
    {
     "name": "stderr",
     "output_type": "stream",
     "text": [
      "/Users/jakubblaha/Documents/thesis/thesis-python/common.py:114: RuntimeWarning: There were no Annotations stored in <EpochsArray | 1 events (all good), 0 – 7.992 s (baseline off), ~134 kB, data loaded,\n",
      " '1': 1>, so metadata was not modified.\n",
      "  res = mne_connectivity.spectral_connectivity_time(\n"
     ]
    },
    {
     "name": "stdout",
     "output_type": "stream",
     "text": [
      "[Connectivity computation done]\n",
      "Computing features for trial:  252\n",
      "[ 4  8 10 13 30 45]\n",
      "(6,)\n",
      "[ 4  8 10 13 30 45]\n",
      "(6,)\n",
      "only using indices for lower-triangular matrix\n",
      "Connectivity computation...\n",
      "   Processing epoch 1 / 1 ...\n",
      "[Connectivity computation done]\n"
     ]
    },
    {
     "name": "stderr",
     "output_type": "stream",
     "text": [
      "/Users/jakubblaha/Documents/thesis/thesis-python/common.py:114: RuntimeWarning: There were no Annotations stored in <EpochsArray | 1 events (all good), 0 – 7.992 s (baseline off), ~134 kB, data loaded,\n",
      " '1': 1>, so metadata was not modified.\n",
      "  res = mne_connectivity.spectral_connectivity_time(\n"
     ]
    },
    {
     "name": "stdout",
     "output_type": "stream",
     "text": [
      "Computing features for trial:  253\n",
      "[ 4  8 10 13 30 45]\n",
      "(6,)\n",
      "[ 4  8 10 13 30 45]\n",
      "(6,)\n",
      "only using indices for lower-triangular matrix\n",
      "Connectivity computation...\n",
      "   Processing epoch 1 / 1 ...\n",
      "[Connectivity computation done]\n",
      "Computing features for trial:  254\n"
     ]
    },
    {
     "name": "stderr",
     "output_type": "stream",
     "text": [
      "/Users/jakubblaha/Documents/thesis/thesis-python/common.py:114: RuntimeWarning: There were no Annotations stored in <EpochsArray | 1 events (all good), 0 – 7.992 s (baseline off), ~134 kB, data loaded,\n",
      " '1': 1>, so metadata was not modified.\n",
      "  res = mne_connectivity.spectral_connectivity_time(\n"
     ]
    },
    {
     "name": "stdout",
     "output_type": "stream",
     "text": [
      "[ 4  8 10 13 30 45]\n",
      "(6,)\n",
      "[ 4  8 10 13 30 45]\n",
      "(6,)\n",
      "only using indices for lower-triangular matrix\n",
      "Connectivity computation...\n",
      "   Processing epoch 1 / 1 ...\n"
     ]
    },
    {
     "name": "stderr",
     "output_type": "stream",
     "text": [
      "/Users/jakubblaha/Documents/thesis/thesis-python/common.py:114: RuntimeWarning: There were no Annotations stored in <EpochsArray | 1 events (all good), 0 – 7.992 s (baseline off), ~134 kB, data loaded,\n",
      " '1': 1>, so metadata was not modified.\n",
      "  res = mne_connectivity.spectral_connectivity_time(\n"
     ]
    },
    {
     "name": "stdout",
     "output_type": "stream",
     "text": [
      "[Connectivity computation done]\n",
      "Computing features for trial:  255\n",
      "[ 4  8 10 13 30 45]\n",
      "(6,)\n",
      "[ 4  8 10 13 30 45]\n",
      "(6,)\n",
      "only using indices for lower-triangular matrix\n",
      "Connectivity computation...\n",
      "   Processing epoch 1 / 1 ...\n",
      "[Connectivity computation done]\n"
     ]
    },
    {
     "name": "stderr",
     "output_type": "stream",
     "text": [
      "/Users/jakubblaha/Documents/thesis/thesis-python/common.py:114: RuntimeWarning: There were no Annotations stored in <EpochsArray | 1 events (all good), 0 – 7.992 s (baseline off), ~134 kB, data loaded,\n",
      " '1': 1>, so metadata was not modified.\n",
      "  res = mne_connectivity.spectral_connectivity_time(\n"
     ]
    },
    {
     "name": "stdout",
     "output_type": "stream",
     "text": [
      "Computing features for trial:  256\n",
      "[ 4  8 10 13 30 45]\n",
      "(6,)\n",
      "[ 4  8 10 13 30 45]\n",
      "(6,)\n",
      "only using indices for lower-triangular matrix\n",
      "Connectivity computation...\n",
      "   Processing epoch 1 / 1 ...\n",
      "[Connectivity computation done]\n",
      "Computing features for trial:  257\n"
     ]
    },
    {
     "name": "stderr",
     "output_type": "stream",
     "text": [
      "/Users/jakubblaha/Documents/thesis/thesis-python/common.py:114: RuntimeWarning: There were no Annotations stored in <EpochsArray | 1 events (all good), 0 – 7.992 s (baseline off), ~134 kB, data loaded,\n",
      " '1': 1>, so metadata was not modified.\n",
      "  res = mne_connectivity.spectral_connectivity_time(\n"
     ]
    },
    {
     "name": "stdout",
     "output_type": "stream",
     "text": [
      "[ 4  8 10 13 30 45]\n",
      "(6,)\n",
      "[ 4  8 10 13 30 45]\n",
      "(6,)\n",
      "only using indices for lower-triangular matrix\n",
      "Connectivity computation...\n",
      "   Processing epoch 1 / 1 ...\n",
      "[Connectivity computation done]\n",
      "Computing features for trial:  258\n",
      "[ 4  8 10 13 30 45]\n",
      "(6,)\n",
      "[ 4  8 10 13 30 45]\n",
      "(6,)\n",
      "only using indices for lower-triangular matrix\n"
     ]
    },
    {
     "name": "stderr",
     "output_type": "stream",
     "text": [
      "/Users/jakubblaha/Documents/thesis/thesis-python/common.py:114: RuntimeWarning: There were no Annotations stored in <EpochsArray | 1 events (all good), 0 – 7.992 s (baseline off), ~134 kB, data loaded,\n",
      " '1': 1>, so metadata was not modified.\n",
      "  res = mne_connectivity.spectral_connectivity_time(\n",
      "/Users/jakubblaha/Documents/thesis/thesis-python/common.py:114: RuntimeWarning: There were no Annotations stored in <EpochsArray | 1 events (all good), 0 – 7.992 s (baseline off), ~134 kB, data loaded,\n",
      " '1': 1>, so metadata was not modified.\n",
      "  res = mne_connectivity.spectral_connectivity_time(\n"
     ]
    },
    {
     "name": "stdout",
     "output_type": "stream",
     "text": [
      "Connectivity computation...\n",
      "   Processing epoch 1 / 1 ...\n",
      "[Connectivity computation done]\n",
      "Computing features for trial:  259\n",
      "[ 4  8 10 13 30 45]\n",
      "(6,)\n",
      "[ 4  8 10 13 30 45]\n",
      "(6,)\n",
      "only using indices for lower-triangular matrix\n",
      "Connectivity computation...\n",
      "   Processing epoch 1 / 1 ...\n",
      "[Connectivity computation done]\n",
      "Computing features for trial:  260\n"
     ]
    },
    {
     "name": "stderr",
     "output_type": "stream",
     "text": [
      "/Users/jakubblaha/Documents/thesis/thesis-python/common.py:114: RuntimeWarning: There were no Annotations stored in <EpochsArray | 1 events (all good), 0 – 7.992 s (baseline off), ~134 kB, data loaded,\n",
      " '1': 1>, so metadata was not modified.\n",
      "  res = mne_connectivity.spectral_connectivity_time(\n"
     ]
    },
    {
     "name": "stdout",
     "output_type": "stream",
     "text": [
      "[ 4  8 10 13 30 45]\n",
      "(6,)\n",
      "[ 4  8 10 13 30 45]\n",
      "(6,)\n",
      "only using indices for lower-triangular matrix\n",
      "Connectivity computation...\n",
      "   Processing epoch 1 / 1 ...\n",
      "[Connectivity computation done]\n",
      "Computing features for trial:  261\n"
     ]
    },
    {
     "name": "stderr",
     "output_type": "stream",
     "text": [
      "/Users/jakubblaha/Documents/thesis/thesis-python/common.py:114: RuntimeWarning: There were no Annotations stored in <EpochsArray | 1 events (all good), 0 – 7.992 s (baseline off), ~134 kB, data loaded,\n",
      " '1': 1>, so metadata was not modified.\n",
      "  res = mne_connectivity.spectral_connectivity_time(\n"
     ]
    },
    {
     "name": "stdout",
     "output_type": "stream",
     "text": [
      "[ 4  8 10 13 30 45]\n",
      "(6,)\n",
      "[ 4  8 10 13 30 45]\n",
      "(6,)\n",
      "only using indices for lower-triangular matrix\n",
      "Connectivity computation...\n",
      "   Processing epoch 1 / 1 ...\n",
      "[Connectivity computation done]\n",
      "Computing features for trial:  262\n"
     ]
    },
    {
     "name": "stderr",
     "output_type": "stream",
     "text": [
      "/Users/jakubblaha/Documents/thesis/thesis-python/common.py:114: RuntimeWarning: There were no Annotations stored in <EpochsArray | 1 events (all good), 0 – 7.992 s (baseline off), ~134 kB, data loaded,\n",
      " '1': 1>, so metadata was not modified.\n",
      "  res = mne_connectivity.spectral_connectivity_time(\n"
     ]
    },
    {
     "name": "stdout",
     "output_type": "stream",
     "text": [
      "[ 4  8 10 13 30 45]\n",
      "(6,)\n",
      "[ 4  8 10 13 30 45]\n",
      "(6,)\n",
      "only using indices for lower-triangular matrix\n",
      "Connectivity computation...\n",
      "   Processing epoch 1 / 1 ...\n",
      "[Connectivity computation done]\n",
      "Computing features for trial:  263\n",
      "[ 4  8 10 13 30 45]\n",
      "(6,)\n"
     ]
    },
    {
     "name": "stderr",
     "output_type": "stream",
     "text": [
      "/Users/jakubblaha/Documents/thesis/thesis-python/common.py:114: RuntimeWarning: There were no Annotations stored in <EpochsArray | 1 events (all good), 0 – 7.992 s (baseline off), ~134 kB, data loaded,\n",
      " '1': 1>, so metadata was not modified.\n",
      "  res = mne_connectivity.spectral_connectivity_time(\n"
     ]
    },
    {
     "name": "stdout",
     "output_type": "stream",
     "text": [
      "[ 4  8 10 13 30 45]\n",
      "(6,)\n",
      "only using indices for lower-triangular matrix\n",
      "Connectivity computation...\n",
      "   Processing epoch 1 / 1 ...\n",
      "[Connectivity computation done]\n",
      "Computing features for trial:  264\n"
     ]
    },
    {
     "name": "stderr",
     "output_type": "stream",
     "text": [
      "/Users/jakubblaha/Documents/thesis/thesis-python/common.py:114: RuntimeWarning: There were no Annotations stored in <EpochsArray | 1 events (all good), 0 – 7.992 s (baseline off), ~134 kB, data loaded,\n",
      " '1': 1>, so metadata was not modified.\n",
      "  res = mne_connectivity.spectral_connectivity_time(\n"
     ]
    },
    {
     "name": "stdout",
     "output_type": "stream",
     "text": [
      "[ 4  8 10 13 30 45]\n",
      "(6,)\n",
      "[ 4  8 10 13 30 45]\n",
      "(6,)\n",
      "only using indices for lower-triangular matrix\n",
      "Connectivity computation...\n",
      "   Processing epoch 1 / 1 ...\n",
      "[Connectivity computation done]\n",
      "Computing features for trial:  265\n"
     ]
    },
    {
     "name": "stderr",
     "output_type": "stream",
     "text": [
      "/Users/jakubblaha/Documents/thesis/thesis-python/common.py:114: RuntimeWarning: There were no Annotations stored in <EpochsArray | 1 events (all good), 0 – 7.992 s (baseline off), ~134 kB, data loaded,\n",
      " '1': 1>, so metadata was not modified.\n",
      "  res = mne_connectivity.spectral_connectivity_time(\n"
     ]
    },
    {
     "name": "stdout",
     "output_type": "stream",
     "text": [
      "[ 4  8 10 13 30 45]\n",
      "(6,)\n",
      "[ 4  8 10 13 30 45]\n",
      "(6,)\n",
      "only using indices for lower-triangular matrix\n",
      "Connectivity computation...\n",
      "   Processing epoch 1 / 1 ...\n"
     ]
    },
    {
     "name": "stderr",
     "output_type": "stream",
     "text": [
      "/Users/jakubblaha/Documents/thesis/thesis-python/common.py:114: RuntimeWarning: There were no Annotations stored in <EpochsArray | 1 events (all good), 0 – 7.992 s (baseline off), ~134 kB, data loaded,\n",
      " '1': 1>, so metadata was not modified.\n",
      "  res = mne_connectivity.spectral_connectivity_time(\n"
     ]
    },
    {
     "name": "stdout",
     "output_type": "stream",
     "text": [
      "[Connectivity computation done]\n",
      "Computing features for trial:  266\n",
      "[ 4  8 10 13 30 45]\n",
      "(6,)\n",
      "[ 4  8 10 13 30 45]\n",
      "(6,)\n",
      "only using indices for lower-triangular matrix\n",
      "Connectivity computation...\n",
      "   Processing epoch 1 / 1 ...\n",
      "[Connectivity computation done]\n",
      "Computing features for trial:  267\n"
     ]
    },
    {
     "name": "stderr",
     "output_type": "stream",
     "text": [
      "/Users/jakubblaha/Documents/thesis/thesis-python/common.py:114: RuntimeWarning: There were no Annotations stored in <EpochsArray | 1 events (all good), 0 – 7.992 s (baseline off), ~134 kB, data loaded,\n",
      " '1': 1>, so metadata was not modified.\n",
      "  res = mne_connectivity.spectral_connectivity_time(\n"
     ]
    },
    {
     "name": "stdout",
     "output_type": "stream",
     "text": [
      "[ 4  8 10 13 30 45]\n",
      "(6,)\n",
      "[ 4  8 10 13 30 45]\n",
      "(6,)\n",
      "only using indices for lower-triangular matrix\n",
      "Connectivity computation...\n",
      "   Processing epoch 1 / 1 ...\n",
      "[Connectivity computation done]\n",
      "Computing features for trial:  268\n"
     ]
    },
    {
     "name": "stderr",
     "output_type": "stream",
     "text": [
      "/Users/jakubblaha/Documents/thesis/thesis-python/common.py:114: RuntimeWarning: There were no Annotations stored in <EpochsArray | 1 events (all good), 0 – 7.992 s (baseline off), ~134 kB, data loaded,\n",
      " '1': 1>, so metadata was not modified.\n",
      "  res = mne_connectivity.spectral_connectivity_time(\n"
     ]
    },
    {
     "name": "stdout",
     "output_type": "stream",
     "text": [
      "[ 4  8 10 13 30 45]\n",
      "(6,)\n",
      "[ 4  8 10 13 30 45]\n",
      "(6,)\n",
      "only using indices for lower-triangular matrix\n",
      "Connectivity computation...\n",
      "   Processing epoch 1 / 1 ...\n",
      "[Connectivity computation done]\n",
      "Computing features for trial:  269\n"
     ]
    },
    {
     "name": "stderr",
     "output_type": "stream",
     "text": [
      "/Users/jakubblaha/Documents/thesis/thesis-python/common.py:114: RuntimeWarning: There were no Annotations stored in <EpochsArray | 1 events (all good), 0 – 7.992 s (baseline off), ~134 kB, data loaded,\n",
      " '1': 1>, so metadata was not modified.\n",
      "  res = mne_connectivity.spectral_connectivity_time(\n"
     ]
    },
    {
     "name": "stdout",
     "output_type": "stream",
     "text": [
      "[ 4  8 10 13 30 45]\n",
      "(6,)\n",
      "[ 4  8 10 13 30 45]\n",
      "(6,)\n",
      "only using indices for lower-triangular matrix\n",
      "Connectivity computation...\n",
      "   Processing epoch 1 / 1 ...\n",
      "[Connectivity computation done]\n",
      "Computing features for trial:  270\n"
     ]
    },
    {
     "name": "stderr",
     "output_type": "stream",
     "text": [
      "/Users/jakubblaha/Documents/thesis/thesis-python/common.py:114: RuntimeWarning: There were no Annotations stored in <EpochsArray | 1 events (all good), 0 – 7.992 s (baseline off), ~134 kB, data loaded,\n",
      " '1': 1>, so metadata was not modified.\n",
      "  res = mne_connectivity.spectral_connectivity_time(\n"
     ]
    },
    {
     "name": "stdout",
     "output_type": "stream",
     "text": [
      "[ 4  8 10 13 30 45]\n",
      "(6,)\n",
      "[ 4  8 10 13 30 45]\n",
      "(6,)\n",
      "only using indices for lower-triangular matrix\n",
      "Connectivity computation...\n",
      "   Processing epoch 1 / 1 ...\n",
      "[Connectivity computation done]\n",
      "Computing features for trial:  271\n"
     ]
    },
    {
     "name": "stderr",
     "output_type": "stream",
     "text": [
      "/Users/jakubblaha/Documents/thesis/thesis-python/common.py:114: RuntimeWarning: There were no Annotations stored in <EpochsArray | 1 events (all good), 0 – 7.992 s (baseline off), ~134 kB, data loaded,\n",
      " '1': 1>, so metadata was not modified.\n",
      "  res = mne_connectivity.spectral_connectivity_time(\n"
     ]
    },
    {
     "name": "stdout",
     "output_type": "stream",
     "text": [
      "[ 4  8 10 13 30 45]\n",
      "(6,)\n",
      "[ 4  8 10 13 30 45]\n",
      "(6,)\n",
      "only using indices for lower-triangular matrix\n",
      "Connectivity computation...\n",
      "   Processing epoch 1 / 1 ...\n",
      "[Connectivity computation done]\n",
      "Computing features for trial:  272\n"
     ]
    },
    {
     "name": "stderr",
     "output_type": "stream",
     "text": [
      "/Users/jakubblaha/Documents/thesis/thesis-python/common.py:114: RuntimeWarning: There were no Annotations stored in <EpochsArray | 1 events (all good), 0 – 7.992 s (baseline off), ~134 kB, data loaded,\n",
      " '1': 1>, so metadata was not modified.\n",
      "  res = mne_connectivity.spectral_connectivity_time(\n"
     ]
    },
    {
     "name": "stdout",
     "output_type": "stream",
     "text": [
      "[ 4  8 10 13 30 45]\n",
      "(6,)\n",
      "[ 4  8 10 13 30 45]\n",
      "(6,)\n",
      "only using indices for lower-triangular matrix\n",
      "Connectivity computation...\n",
      "   Processing epoch 1 / 1 ...\n"
     ]
    },
    {
     "name": "stderr",
     "output_type": "stream",
     "text": [
      "/Users/jakubblaha/Documents/thesis/thesis-python/common.py:114: RuntimeWarning: There were no Annotations stored in <EpochsArray | 1 events (all good), 0 – 7.992 s (baseline off), ~134 kB, data loaded,\n",
      " '1': 1>, so metadata was not modified.\n",
      "  res = mne_connectivity.spectral_connectivity_time(\n"
     ]
    },
    {
     "name": "stdout",
     "output_type": "stream",
     "text": [
      "[Connectivity computation done]\n",
      "Computing features for trial:  273\n",
      "[ 4  8 10 13 30 45]\n",
      "(6,)\n",
      "[ 4  8 10 13 30 45]\n",
      "(6,)\n",
      "only using indices for lower-triangular matrix\n",
      "Connectivity computation...\n",
      "   Processing epoch 1 / 1 ...\n",
      "[Connectivity computation done]\n"
     ]
    },
    {
     "name": "stderr",
     "output_type": "stream",
     "text": [
      "/Users/jakubblaha/Documents/thesis/thesis-python/common.py:114: RuntimeWarning: There were no Annotations stored in <EpochsArray | 1 events (all good), 0 – 7.992 s (baseline off), ~134 kB, data loaded,\n",
      " '1': 1>, so metadata was not modified.\n",
      "  res = mne_connectivity.spectral_connectivity_time(\n"
     ]
    },
    {
     "name": "stdout",
     "output_type": "stream",
     "text": [
      "Computing features for trial:  274\n",
      "[ 4  8 10 13 30 45]\n",
      "(6,)\n",
      "[ 4  8 10 13 30 45]\n",
      "(6,)\n",
      "only using indices for lower-triangular matrix\n",
      "Connectivity computation...\n",
      "   Processing epoch 1 / 1 ...\n"
     ]
    },
    {
     "name": "stderr",
     "output_type": "stream",
     "text": [
      "/Users/jakubblaha/Documents/thesis/thesis-python/common.py:114: RuntimeWarning: There were no Annotations stored in <EpochsArray | 1 events (all good), 0 – 7.992 s (baseline off), ~134 kB, data loaded,\n",
      " '1': 1>, so metadata was not modified.\n",
      "  res = mne_connectivity.spectral_connectivity_time(\n"
     ]
    },
    {
     "name": "stdout",
     "output_type": "stream",
     "text": [
      "[Connectivity computation done]\n",
      "Computing features for trial:  275\n",
      "[ 4  8 10 13 30 45]\n",
      "(6,)\n",
      "[ 4  8 10 13 30 45]\n",
      "(6,)\n",
      "only using indices for lower-triangular matrix\n",
      "Connectivity computation...\n",
      "   Processing epoch 1 / 1 ...\n",
      "[Connectivity computation done]\n"
     ]
    },
    {
     "name": "stderr",
     "output_type": "stream",
     "text": [
      "/Users/jakubblaha/Documents/thesis/thesis-python/common.py:114: RuntimeWarning: There were no Annotations stored in <EpochsArray | 1 events (all good), 0 – 7.992 s (baseline off), ~134 kB, data loaded,\n",
      " '1': 1>, so metadata was not modified.\n",
      "  res = mne_connectivity.spectral_connectivity_time(\n"
     ]
    },
    {
     "name": "stdout",
     "output_type": "stream",
     "text": [
      "Computing features for trial:  276\n",
      "[ 4  8 10 13 30 45]\n",
      "(6,)\n",
      "[ 4  8 10 13 30 45]\n",
      "(6,)\n",
      "only using indices for lower-triangular matrix\n",
      "Connectivity computation...\n",
      "   Processing epoch 1 / 1 ...\n",
      "[Connectivity computation done]\n",
      "Computing features for trial:  277\n"
     ]
    },
    {
     "name": "stderr",
     "output_type": "stream",
     "text": [
      "/Users/jakubblaha/Documents/thesis/thesis-python/common.py:114: RuntimeWarning: There were no Annotations stored in <EpochsArray | 1 events (all good), 0 – 7.992 s (baseline off), ~134 kB, data loaded,\n",
      " '1': 1>, so metadata was not modified.\n",
      "  res = mne_connectivity.spectral_connectivity_time(\n"
     ]
    },
    {
     "name": "stdout",
     "output_type": "stream",
     "text": [
      "[ 4  8 10 13 30 45]\n",
      "(6,)\n",
      "[ 4  8 10 13 30 45]\n",
      "(6,)\n",
      "only using indices for lower-triangular matrix\n",
      "Connectivity computation...\n",
      "   Processing epoch 1 / 1 ...\n",
      "[Connectivity computation done]\n",
      "Computing features for trial:  278\n"
     ]
    },
    {
     "name": "stderr",
     "output_type": "stream",
     "text": [
      "/Users/jakubblaha/Documents/thesis/thesis-python/common.py:114: RuntimeWarning: There were no Annotations stored in <EpochsArray | 1 events (all good), 0 – 7.992 s (baseline off), ~134 kB, data loaded,\n",
      " '1': 1>, so metadata was not modified.\n",
      "  res = mne_connectivity.spectral_connectivity_time(\n"
     ]
    },
    {
     "name": "stdout",
     "output_type": "stream",
     "text": [
      "[ 4  8 10 13 30 45]\n",
      "(6,)\n",
      "[ 4  8 10 13 30 45]\n",
      "(6,)\n",
      "only using indices for lower-triangular matrix\n",
      "Connectivity computation...\n",
      "   Processing epoch 1 / 1 ...\n"
     ]
    },
    {
     "name": "stderr",
     "output_type": "stream",
     "text": [
      "/Users/jakubblaha/Documents/thesis/thesis-python/common.py:114: RuntimeWarning: There were no Annotations stored in <EpochsArray | 1 events (all good), 0 – 7.992 s (baseline off), ~134 kB, data loaded,\n",
      " '1': 1>, so metadata was not modified.\n",
      "  res = mne_connectivity.spectral_connectivity_time(\n"
     ]
    },
    {
     "name": "stdout",
     "output_type": "stream",
     "text": [
      "[Connectivity computation done]\n",
      "Computing features for trial:  279\n",
      "[ 4  8 10 13 30 45]\n",
      "(6,)\n",
      "[ 4  8 10 13 30 45]\n",
      "(6,)\n",
      "only using indices for lower-triangular matrix\n",
      "Connectivity computation...\n",
      "   Processing epoch 1 / 1 ...\n"
     ]
    },
    {
     "name": "stderr",
     "output_type": "stream",
     "text": [
      "/Users/jakubblaha/Documents/thesis/thesis-python/common.py:114: RuntimeWarning: There were no Annotations stored in <EpochsArray | 1 events (all good), 0 – 7.992 s (baseline off), ~134 kB, data loaded,\n",
      " '1': 1>, so metadata was not modified.\n",
      "  res = mne_connectivity.spectral_connectivity_time(\n"
     ]
    },
    {
     "name": "stdout",
     "output_type": "stream",
     "text": [
      "[Connectivity computation done]\n",
      "Computing features for trial:  280\n",
      "[ 4  8 10 13 30 45]\n",
      "(6,)\n",
      "[ 4  8 10 13 30 45]\n",
      "(6,)\n",
      "only using indices for lower-triangular matrix\n",
      "Connectivity computation...\n",
      "   Processing epoch 1 / 1 ...\n",
      "[Connectivity computation done]\n"
     ]
    },
    {
     "name": "stderr",
     "output_type": "stream",
     "text": [
      "/Users/jakubblaha/Documents/thesis/thesis-python/common.py:114: RuntimeWarning: There were no Annotations stored in <EpochsArray | 1 events (all good), 0 – 7.992 s (baseline off), ~134 kB, data loaded,\n",
      " '1': 1>, so metadata was not modified.\n",
      "  res = mne_connectivity.spectral_connectivity_time(\n"
     ]
    },
    {
     "name": "stdout",
     "output_type": "stream",
     "text": [
      "Computing features for trial:  281\n",
      "[ 4  8 10 13 30 45]\n",
      "(6,)\n",
      "[ 4  8 10 13 30 45]\n",
      "(6,)\n",
      "only using indices for lower-triangular matrix\n",
      "Connectivity computation...\n",
      "   Processing epoch 1 / 1 ...\n",
      "[Connectivity computation done]\n",
      "Computing features for trial:  282\n"
     ]
    },
    {
     "name": "stderr",
     "output_type": "stream",
     "text": [
      "/Users/jakubblaha/Documents/thesis/thesis-python/common.py:114: RuntimeWarning: There were no Annotations stored in <EpochsArray | 1 events (all good), 0 – 7.992 s (baseline off), ~134 kB, data loaded,\n",
      " '1': 1>, so metadata was not modified.\n",
      "  res = mne_connectivity.spectral_connectivity_time(\n"
     ]
    },
    {
     "name": "stdout",
     "output_type": "stream",
     "text": [
      "[ 4  8 10 13 30 45]\n",
      "(6,)\n",
      "[ 4  8 10 13 30 45]\n",
      "(6,)\n",
      "only using indices for lower-triangular matrix\n",
      "Connectivity computation...\n",
      "   Processing epoch 1 / 1 ...\n",
      "[Connectivity computation done]\n",
      "Computing features for trial:  283\n"
     ]
    },
    {
     "name": "stderr",
     "output_type": "stream",
     "text": [
      "/Users/jakubblaha/Documents/thesis/thesis-python/common.py:114: RuntimeWarning: There were no Annotations stored in <EpochsArray | 1 events (all good), 0 – 7.992 s (baseline off), ~134 kB, data loaded,\n",
      " '1': 1>, so metadata was not modified.\n",
      "  res = mne_connectivity.spectral_connectivity_time(\n"
     ]
    },
    {
     "name": "stdout",
     "output_type": "stream",
     "text": [
      "[ 4  8 10 13 30 45]\n",
      "(6,)\n",
      "[ 4  8 10 13 30 45]\n",
      "(6,)\n",
      "only using indices for lower-triangular matrix\n",
      "Connectivity computation...\n",
      "   Processing epoch 1 / 1 ...\n",
      "[Connectivity computation done]\n",
      "Computing features for trial:  284\n"
     ]
    },
    {
     "name": "stderr",
     "output_type": "stream",
     "text": [
      "/Users/jakubblaha/Documents/thesis/thesis-python/common.py:114: RuntimeWarning: There were no Annotations stored in <EpochsArray | 1 events (all good), 0 – 7.992 s (baseline off), ~134 kB, data loaded,\n",
      " '1': 1>, so metadata was not modified.\n",
      "  res = mne_connectivity.spectral_connectivity_time(\n"
     ]
    },
    {
     "name": "stdout",
     "output_type": "stream",
     "text": [
      "[ 4  8 10 13 30 45]\n",
      "(6,)\n",
      "[ 4  8 10 13 30 45]\n",
      "(6,)\n",
      "only using indices for lower-triangular matrix\n",
      "Connectivity computation...\n",
      "   Processing epoch 1 / 1 ...\n"
     ]
    },
    {
     "name": "stderr",
     "output_type": "stream",
     "text": [
      "/Users/jakubblaha/Documents/thesis/thesis-python/common.py:114: RuntimeWarning: There were no Annotations stored in <EpochsArray | 1 events (all good), 0 – 7.992 s (baseline off), ~134 kB, data loaded,\n",
      " '1': 1>, so metadata was not modified.\n",
      "  res = mne_connectivity.spectral_connectivity_time(\n"
     ]
    },
    {
     "name": "stdout",
     "output_type": "stream",
     "text": [
      "[Connectivity computation done]\n",
      "Computing features for trial:  285\n",
      "[ 4  8 10 13 30 45]\n",
      "(6,)\n",
      "[ 4  8 10 13 30 45]\n",
      "(6,)\n",
      "only using indices for lower-triangular matrix\n",
      "Connectivity computation...\n",
      "   Processing epoch 1 / 1 ...\n"
     ]
    },
    {
     "name": "stderr",
     "output_type": "stream",
     "text": [
      "/Users/jakubblaha/Documents/thesis/thesis-python/common.py:114: RuntimeWarning: There were no Annotations stored in <EpochsArray | 1 events (all good), 0 – 7.992 s (baseline off), ~134 kB, data loaded,\n",
      " '1': 1>, so metadata was not modified.\n",
      "  res = mne_connectivity.spectral_connectivity_time(\n"
     ]
    },
    {
     "name": "stdout",
     "output_type": "stream",
     "text": [
      "[Connectivity computation done]\n",
      "Computing features for trial:  286\n",
      "[ 4  8 10 13 30 45]\n",
      "(6,)\n",
      "[ 4  8 10 13 30 45]\n",
      "(6,)\n",
      "only using indices for lower-triangular matrix\n",
      "Connectivity computation...\n",
      "   Processing epoch 1 / 1 ...\n"
     ]
    },
    {
     "name": "stderr",
     "output_type": "stream",
     "text": [
      "/Users/jakubblaha/Documents/thesis/thesis-python/common.py:114: RuntimeWarning: There were no Annotations stored in <EpochsArray | 1 events (all good), 0 – 7.992 s (baseline off), ~134 kB, data loaded,\n",
      " '1': 1>, so metadata was not modified.\n",
      "  res = mne_connectivity.spectral_connectivity_time(\n"
     ]
    },
    {
     "name": "stdout",
     "output_type": "stream",
     "text": [
      "[Connectivity computation done]\n",
      "Computing features for trial:  287\n",
      "[ 4  8 10 13 30 45]\n",
      "(6,)\n",
      "[ 4  8 10 13 30 45]\n",
      "(6,)\n",
      "only using indices for lower-triangular matrix\n",
      "Connectivity computation...\n",
      "   Processing epoch 1 / 1 ...\n"
     ]
    },
    {
     "name": "stderr",
     "output_type": "stream",
     "text": [
      "/Users/jakubblaha/Documents/thesis/thesis-python/common.py:114: RuntimeWarning: There were no Annotations stored in <EpochsArray | 1 events (all good), 0 – 7.992 s (baseline off), ~134 kB, data loaded,\n",
      " '1': 1>, so metadata was not modified.\n",
      "  res = mne_connectivity.spectral_connectivity_time(\n"
     ]
    },
    {
     "name": "stdout",
     "output_type": "stream",
     "text": [
      "[Connectivity computation done]\n",
      "Computing features for trial:  288\n",
      "[ 4  8 10 13 30 45]\n",
      "(6,)\n",
      "[ 4  8 10 13 30 45]\n",
      "(6,)\n",
      "only using indices for lower-triangular matrix\n",
      "Connectivity computation...\n",
      "   Processing epoch 1 / 1 ...\n",
      "[Connectivity computation done]\n",
      "Computing features for trial:  289\n"
     ]
    },
    {
     "name": "stderr",
     "output_type": "stream",
     "text": [
      "/Users/jakubblaha/Documents/thesis/thesis-python/common.py:114: RuntimeWarning: There were no Annotations stored in <EpochsArray | 1 events (all good), 0 – 7.992 s (baseline off), ~134 kB, data loaded,\n",
      " '1': 1>, so metadata was not modified.\n",
      "  res = mne_connectivity.spectral_connectivity_time(\n"
     ]
    },
    {
     "name": "stdout",
     "output_type": "stream",
     "text": [
      "[ 4  8 10 13 30 45]\n",
      "(6,)\n",
      "[ 4  8 10 13 30 45]\n",
      "(6,)\n",
      "only using indices for lower-triangular matrix\n",
      "Connectivity computation...\n",
      "   Processing epoch 1 / 1 ...\n"
     ]
    },
    {
     "name": "stderr",
     "output_type": "stream",
     "text": [
      "/Users/jakubblaha/Documents/thesis/thesis-python/common.py:114: RuntimeWarning: There were no Annotations stored in <EpochsArray | 1 events (all good), 0 – 7.992 s (baseline off), ~134 kB, data loaded,\n",
      " '1': 1>, so metadata was not modified.\n",
      "  res = mne_connectivity.spectral_connectivity_time(\n"
     ]
    },
    {
     "name": "stdout",
     "output_type": "stream",
     "text": [
      "[Connectivity computation done]\n",
      "Computing features for trial:  290\n",
      "[ 4  8 10 13 30 45]\n",
      "(6,)\n",
      "[ 4  8 10 13 30 45]\n",
      "(6,)\n",
      "only using indices for lower-triangular matrix\n",
      "Connectivity computation...\n",
      "   Processing epoch 1 / 1 ...\n",
      "[Connectivity computation done]\n",
      "Computing features for trial:  291\n"
     ]
    },
    {
     "name": "stderr",
     "output_type": "stream",
     "text": [
      "/Users/jakubblaha/Documents/thesis/thesis-python/common.py:114: RuntimeWarning: There were no Annotations stored in <EpochsArray | 1 events (all good), 0 – 7.992 s (baseline off), ~134 kB, data loaded,\n",
      " '1': 1>, so metadata was not modified.\n",
      "  res = mne_connectivity.spectral_connectivity_time(\n"
     ]
    },
    {
     "name": "stdout",
     "output_type": "stream",
     "text": [
      "[ 4  8 10 13 30 45]\n",
      "(6,)\n",
      "[ 4  8 10 13 30 45]\n",
      "(6,)\n",
      "only using indices for lower-triangular matrix\n",
      "Connectivity computation...\n",
      "   Processing epoch 1 / 1 ...\n",
      "[Connectivity computation done]\n",
      "Computing features for trial:  292\n"
     ]
    },
    {
     "name": "stderr",
     "output_type": "stream",
     "text": [
      "/Users/jakubblaha/Documents/thesis/thesis-python/common.py:114: RuntimeWarning: There were no Annotations stored in <EpochsArray | 1 events (all good), 0 – 7.992 s (baseline off), ~134 kB, data loaded,\n",
      " '1': 1>, so metadata was not modified.\n",
      "  res = mne_connectivity.spectral_connectivity_time(\n"
     ]
    },
    {
     "name": "stdout",
     "output_type": "stream",
     "text": [
      "[ 4  8 10 13 30 45]\n",
      "(6,)\n",
      "[ 4  8 10 13 30 45]\n",
      "(6,)\n",
      "only using indices for lower-triangular matrix\n",
      "Connectivity computation...\n",
      "   Processing epoch 1 / 1 ...\n",
      "[Connectivity computation done]\n",
      "Computing features for trial:  293\n"
     ]
    },
    {
     "name": "stderr",
     "output_type": "stream",
     "text": [
      "/Users/jakubblaha/Documents/thesis/thesis-python/common.py:114: RuntimeWarning: There were no Annotations stored in <EpochsArray | 1 events (all good), 0 – 7.992 s (baseline off), ~134 kB, data loaded,\n",
      " '1': 1>, so metadata was not modified.\n",
      "  res = mne_connectivity.spectral_connectivity_time(\n"
     ]
    },
    {
     "name": "stdout",
     "output_type": "stream",
     "text": [
      "[ 4  8 10 13 30 45]\n",
      "(6,)\n",
      "[ 4  8 10 13 30 45]\n",
      "(6,)\n",
      "only using indices for lower-triangular matrix\n",
      "Connectivity computation...\n",
      "   Processing epoch 1 / 1 ...\n",
      "[Connectivity computation done]\n",
      "Computing features for trial:  294\n"
     ]
    },
    {
     "name": "stderr",
     "output_type": "stream",
     "text": [
      "/Users/jakubblaha/Documents/thesis/thesis-python/common.py:114: RuntimeWarning: There were no Annotations stored in <EpochsArray | 1 events (all good), 0 – 7.992 s (baseline off), ~134 kB, data loaded,\n",
      " '1': 1>, so metadata was not modified.\n",
      "  res = mne_connectivity.spectral_connectivity_time(\n"
     ]
    },
    {
     "name": "stdout",
     "output_type": "stream",
     "text": [
      "[ 4  8 10 13 30 45]\n",
      "(6,)\n",
      "[ 4  8 10 13 30 45]\n",
      "(6,)\n",
      "only using indices for lower-triangular matrix\n",
      "Connectivity computation...\n",
      "   Processing epoch 1 / 1 ...\n",
      "[Connectivity computation done]\n",
      "Computing features for trial:  295\n",
      "[ 4  8 10 13 30 45]\n",
      "(6,)\n",
      "[ 4  8 10 13 30 45]\n",
      "(6,)\n",
      "only using indices for lower-triangular matrix\n",
      "Connectivity computation...\n",
      "   Processing epoch 1 / 1 ...\n"
     ]
    },
    {
     "name": "stderr",
     "output_type": "stream",
     "text": [
      "/Users/jakubblaha/Documents/thesis/thesis-python/common.py:114: RuntimeWarning: There were no Annotations stored in <EpochsArray | 1 events (all good), 0 – 7.992 s (baseline off), ~134 kB, data loaded,\n",
      " '1': 1>, so metadata was not modified.\n",
      "  res = mne_connectivity.spectral_connectivity_time(\n",
      "/Users/jakubblaha/Documents/thesis/thesis-python/common.py:114: RuntimeWarning: There were no Annotations stored in <EpochsArray | 1 events (all good), 0 – 7.992 s (baseline off), ~134 kB, data loaded,\n",
      " '1': 1>, so metadata was not modified.\n",
      "  res = mne_connectivity.spectral_connectivity_time(\n"
     ]
    },
    {
     "name": "stdout",
     "output_type": "stream",
     "text": [
      "[Connectivity computation done]\n",
      "Computing features for trial:  296\n",
      "[ 4  8 10 13 30 45]\n",
      "(6,)\n",
      "[ 4  8 10 13 30 45]\n",
      "(6,)\n",
      "only using indices for lower-triangular matrix\n",
      "Connectivity computation...\n",
      "   Processing epoch 1 / 1 ...\n",
      "[Connectivity computation done]\n",
      "Computing features for trial:  297\n",
      "[ 4  8 10 13 30 45]\n",
      "(6,)\n"
     ]
    },
    {
     "name": "stderr",
     "output_type": "stream",
     "text": [
      "/Users/jakubblaha/Documents/thesis/thesis-python/common.py:114: RuntimeWarning: There were no Annotations stored in <EpochsArray | 1 events (all good), 0 – 7.992 s (baseline off), ~134 kB, data loaded,\n",
      " '1': 1>, so metadata was not modified.\n",
      "  res = mne_connectivity.spectral_connectivity_time(\n"
     ]
    },
    {
     "name": "stdout",
     "output_type": "stream",
     "text": [
      "[ 4  8 10 13 30 45]\n",
      "(6,)\n",
      "only using indices for lower-triangular matrix\n",
      "Connectivity computation...\n",
      "   Processing epoch 1 / 1 ...\n"
     ]
    },
    {
     "name": "stderr",
     "output_type": "stream",
     "text": [
      "/Users/jakubblaha/Documents/thesis/thesis-python/common.py:114: RuntimeWarning: There were no Annotations stored in <EpochsArray | 1 events (all good), 0 – 7.992 s (baseline off), ~134 kB, data loaded,\n",
      " '1': 1>, so metadata was not modified.\n",
      "  res = mne_connectivity.spectral_connectivity_time(\n"
     ]
    },
    {
     "name": "stdout",
     "output_type": "stream",
     "text": [
      "[Connectivity computation done]\n",
      "Computing features for trial:  298\n",
      "[ 4  8 10 13 30 45]\n",
      "(6,)\n",
      "[ 4  8 10 13 30 45]\n",
      "(6,)\n",
      "only using indices for lower-triangular matrix\n",
      "Connectivity computation...\n",
      "   Processing epoch 1 / 1 ...\n",
      "[Connectivity computation done]\n"
     ]
    },
    {
     "name": "stderr",
     "output_type": "stream",
     "text": [
      "/Users/jakubblaha/Documents/thesis/thesis-python/common.py:114: RuntimeWarning: There were no Annotations stored in <EpochsArray | 1 events (all good), 0 – 7.992 s (baseline off), ~134 kB, data loaded,\n",
      " '1': 1>, so metadata was not modified.\n",
      "  res = mne_connectivity.spectral_connectivity_time(\n"
     ]
    },
    {
     "name": "stdout",
     "output_type": "stream",
     "text": [
      "Computing features for trial:  299\n",
      "[ 4  8 10 13 30 45]\n",
      "(6,)\n",
      "[ 4  8 10 13 30 45]\n",
      "(6,)\n",
      "only using indices for lower-triangular matrix\n",
      "Connectivity computation...\n",
      "   Processing epoch 1 / 1 ...\n",
      "[Connectivity computation done]\n"
     ]
    },
    {
     "name": "stderr",
     "output_type": "stream",
     "text": [
      "/Users/jakubblaha/Documents/thesis/thesis-python/common.py:114: RuntimeWarning: There were no Annotations stored in <EpochsArray | 1 events (all good), 0 – 7.992 s (baseline off), ~134 kB, data loaded,\n",
      " '1': 1>, so metadata was not modified.\n",
      "  res = mne_connectivity.spectral_connectivity_time(\n"
     ]
    },
    {
     "name": "stdout",
     "output_type": "stream",
     "text": [
      "Computing features for trial:  300\n",
      "[ 4  8 10 13 30 45]\n",
      "(6,)\n",
      "[ 4  8 10 13 30 45]\n",
      "(6,)\n",
      "only using indices for lower-triangular matrix\n",
      "Connectivity computation...\n",
      "   Processing epoch 1 / 1 ...\n",
      "[Connectivity computation done]\n",
      "Computing features for trial:  301\n"
     ]
    },
    {
     "name": "stderr",
     "output_type": "stream",
     "text": [
      "/Users/jakubblaha/Documents/thesis/thesis-python/common.py:114: RuntimeWarning: There were no Annotations stored in <EpochsArray | 1 events (all good), 0 – 7.992 s (baseline off), ~134 kB, data loaded,\n",
      " '1': 1>, so metadata was not modified.\n",
      "  res = mne_connectivity.spectral_connectivity_time(\n"
     ]
    },
    {
     "name": "stdout",
     "output_type": "stream",
     "text": [
      "[ 4  8 10 13 30 45]\n",
      "(6,)\n",
      "[ 4  8 10 13 30 45]\n",
      "(6,)\n",
      "only using indices for lower-triangular matrix\n",
      "Connectivity computation...\n",
      "   Processing epoch 1 / 1 ...\n",
      "[Connectivity computation done]\n",
      "Computing features for trial:  302\n",
      "[ 4  8 10 13 30 45]\n",
      "(6,)\n"
     ]
    },
    {
     "name": "stderr",
     "output_type": "stream",
     "text": [
      "/Users/jakubblaha/Documents/thesis/thesis-python/common.py:114: RuntimeWarning: There were no Annotations stored in <EpochsArray | 1 events (all good), 0 – 7.992 s (baseline off), ~134 kB, data loaded,\n",
      " '1': 1>, so metadata was not modified.\n",
      "  res = mne_connectivity.spectral_connectivity_time(\n"
     ]
    },
    {
     "name": "stdout",
     "output_type": "stream",
     "text": [
      "[ 4  8 10 13 30 45]\n",
      "(6,)\n",
      "only using indices for lower-triangular matrix\n",
      "Connectivity computation...\n",
      "   Processing epoch 1 / 1 ...\n",
      "[Connectivity computation done]\n",
      "Computing features for trial:  303\n"
     ]
    },
    {
     "name": "stderr",
     "output_type": "stream",
     "text": [
      "/Users/jakubblaha/Documents/thesis/thesis-python/common.py:114: RuntimeWarning: There were no Annotations stored in <EpochsArray | 1 events (all good), 0 – 7.992 s (baseline off), ~134 kB, data loaded,\n",
      " '1': 1>, so metadata was not modified.\n",
      "  res = mne_connectivity.spectral_connectivity_time(\n"
     ]
    },
    {
     "name": "stdout",
     "output_type": "stream",
     "text": [
      "[ 4  8 10 13 30 45]\n",
      "(6,)\n",
      "[ 4  8 10 13 30 45]\n",
      "(6,)\n",
      "only using indices for lower-triangular matrix\n",
      "Connectivity computation...\n",
      "   Processing epoch 1 / 1 ...\n"
     ]
    },
    {
     "name": "stderr",
     "output_type": "stream",
     "text": [
      "/Users/jakubblaha/Documents/thesis/thesis-python/common.py:114: RuntimeWarning: There were no Annotations stored in <EpochsArray | 1 events (all good), 0 – 7.992 s (baseline off), ~134 kB, data loaded,\n",
      " '1': 1>, so metadata was not modified.\n",
      "  res = mne_connectivity.spectral_connectivity_time(\n"
     ]
    },
    {
     "name": "stdout",
     "output_type": "stream",
     "text": [
      "[Connectivity computation done]\n",
      "Computing features for trial:  304\n",
      "[ 4  8 10 13 30 45]\n",
      "(6,)\n",
      "[ 4  8 10 13 30 45]\n",
      "(6,)\n",
      "only using indices for lower-triangular matrix\n",
      "Connectivity computation...\n",
      "   Processing epoch 1 / 1 ...\n",
      "[Connectivity computation done]\n"
     ]
    },
    {
     "name": "stderr",
     "output_type": "stream",
     "text": [
      "/Users/jakubblaha/Documents/thesis/thesis-python/common.py:114: RuntimeWarning: There were no Annotations stored in <EpochsArray | 1 events (all good), 0 – 7.992 s (baseline off), ~134 kB, data loaded,\n",
      " '1': 1>, so metadata was not modified.\n",
      "  res = mne_connectivity.spectral_connectivity_time(\n"
     ]
    },
    {
     "name": "stdout",
     "output_type": "stream",
     "text": [
      "Computing features for trial:  305\n",
      "[ 4  8 10 13 30 45]\n",
      "(6,)\n",
      "[ 4  8 10 13 30 45]\n",
      "(6,)\n",
      "only using indices for lower-triangular matrix\n",
      "Connectivity computation...\n",
      "   Processing epoch 1 / 1 ...\n",
      "[Connectivity computation done]\n",
      "Computing features for trial:  306\n"
     ]
    },
    {
     "name": "stderr",
     "output_type": "stream",
     "text": [
      "/Users/jakubblaha/Documents/thesis/thesis-python/common.py:114: RuntimeWarning: There were no Annotations stored in <EpochsArray | 1 events (all good), 0 – 7.992 s (baseline off), ~134 kB, data loaded,\n",
      " '1': 1>, so metadata was not modified.\n",
      "  res = mne_connectivity.spectral_connectivity_time(\n"
     ]
    },
    {
     "name": "stdout",
     "output_type": "stream",
     "text": [
      "[ 4  8 10 13 30 45]\n",
      "(6,)\n",
      "[ 4  8 10 13 30 45]\n",
      "(6,)\n",
      "only using indices for lower-triangular matrix\n",
      "Connectivity computation...\n",
      "   Processing epoch 1 / 1 ...\n"
     ]
    },
    {
     "name": "stderr",
     "output_type": "stream",
     "text": [
      "/Users/jakubblaha/Documents/thesis/thesis-python/common.py:114: RuntimeWarning: There were no Annotations stored in <EpochsArray | 1 events (all good), 0 – 7.992 s (baseline off), ~134 kB, data loaded,\n",
      " '1': 1>, so metadata was not modified.\n",
      "  res = mne_connectivity.spectral_connectivity_time(\n"
     ]
    },
    {
     "name": "stdout",
     "output_type": "stream",
     "text": [
      "[Connectivity computation done]\n",
      "Computing features for trial:  307\n",
      "[ 4  8 10 13 30 45]\n",
      "(6,)\n",
      "[ 4  8 10 13 30 45]\n",
      "(6,)\n",
      "only using indices for lower-triangular matrix\n",
      "Connectivity computation...\n",
      "   Processing epoch 1 / 1 ...\n"
     ]
    },
    {
     "name": "stderr",
     "output_type": "stream",
     "text": [
      "/Users/jakubblaha/Documents/thesis/thesis-python/common.py:114: RuntimeWarning: There were no Annotations stored in <EpochsArray | 1 events (all good), 0 – 7.992 s (baseline off), ~134 kB, data loaded,\n",
      " '1': 1>, so metadata was not modified.\n",
      "  res = mne_connectivity.spectral_connectivity_time(\n"
     ]
    },
    {
     "name": "stdout",
     "output_type": "stream",
     "text": [
      "[Connectivity computation done]\n",
      "Computing features for trial:  308\n",
      "[ 4  8 10 13 30 45]\n",
      "(6,)\n",
      "[ 4  8 10 13 30 45]\n",
      "(6,)\n",
      "only using indices for lower-triangular matrix\n",
      "Connectivity computation...\n",
      "   Processing epoch 1 / 1 ...\n"
     ]
    },
    {
     "name": "stderr",
     "output_type": "stream",
     "text": [
      "/Users/jakubblaha/Documents/thesis/thesis-python/common.py:114: RuntimeWarning: There were no Annotations stored in <EpochsArray | 1 events (all good), 0 – 7.992 s (baseline off), ~134 kB, data loaded,\n",
      " '1': 1>, so metadata was not modified.\n",
      "  res = mne_connectivity.spectral_connectivity_time(\n"
     ]
    },
    {
     "name": "stdout",
     "output_type": "stream",
     "text": [
      "[Connectivity computation done]\n",
      "Computing features for trial:  309\n",
      "[ 4  8 10 13 30 45]\n",
      "(6,)\n",
      "[ 4  8 10 13 30 45]\n",
      "(6,)\n",
      "only using indices for lower-triangular matrix\n",
      "Connectivity computation...\n",
      "   Processing epoch 1 / 1 ...\n",
      "[Connectivity computation done]\n"
     ]
    },
    {
     "name": "stderr",
     "output_type": "stream",
     "text": [
      "/Users/jakubblaha/Documents/thesis/thesis-python/common.py:114: RuntimeWarning: There were no Annotations stored in <EpochsArray | 1 events (all good), 0 – 7.992 s (baseline off), ~134 kB, data loaded,\n",
      " '1': 1>, so metadata was not modified.\n",
      "  res = mne_connectivity.spectral_connectivity_time(\n"
     ]
    },
    {
     "name": "stdout",
     "output_type": "stream",
     "text": [
      "Computing features for trial:  310\n",
      "[ 4  8 10 13 30 45]\n",
      "(6,)\n",
      "[ 4  8 10 13 30 45]\n",
      "(6,)\n",
      "only using indices for lower-triangular matrix\n",
      "Connectivity computation...\n",
      "   Processing epoch 1 / 1 ...\n",
      "[Connectivity computation done]\n"
     ]
    },
    {
     "name": "stderr",
     "output_type": "stream",
     "text": [
      "/Users/jakubblaha/Documents/thesis/thesis-python/common.py:114: RuntimeWarning: There were no Annotations stored in <EpochsArray | 1 events (all good), 0 – 7.992 s (baseline off), ~134 kB, data loaded,\n",
      " '1': 1>, so metadata was not modified.\n",
      "  res = mne_connectivity.spectral_connectivity_time(\n"
     ]
    },
    {
     "name": "stdout",
     "output_type": "stream",
     "text": [
      "Computing features for trial:  311\n",
      "[ 4  8 10 13 30 45]\n",
      "(6,)\n",
      "[ 4  8 10 13 30 45]\n",
      "(6,)\n",
      "only using indices for lower-triangular matrix\n",
      "Connectivity computation...\n",
      "   Processing epoch 1 / 1 ...\n",
      "[Connectivity computation done]\n",
      "Computing features for trial:  312\n"
     ]
    },
    {
     "name": "stderr",
     "output_type": "stream",
     "text": [
      "/Users/jakubblaha/Documents/thesis/thesis-python/common.py:114: RuntimeWarning: There were no Annotations stored in <EpochsArray | 1 events (all good), 0 – 7.992 s (baseline off), ~134 kB, data loaded,\n",
      " '1': 1>, so metadata was not modified.\n",
      "  res = mne_connectivity.spectral_connectivity_time(\n"
     ]
    },
    {
     "name": "stdout",
     "output_type": "stream",
     "text": [
      "[ 4  8 10 13 30 45]\n",
      "(6,)\n",
      "[ 4  8 10 13 30 45]\n",
      "(6,)\n",
      "only using indices for lower-triangular matrix\n",
      "Connectivity computation...\n",
      "   Processing epoch 1 / 1 ...\n",
      "[Connectivity computation done]\n",
      "Computing features for trial:  313\n"
     ]
    },
    {
     "name": "stderr",
     "output_type": "stream",
     "text": [
      "/Users/jakubblaha/Documents/thesis/thesis-python/common.py:114: RuntimeWarning: There were no Annotations stored in <EpochsArray | 1 events (all good), 0 – 7.992 s (baseline off), ~134 kB, data loaded,\n",
      " '1': 1>, so metadata was not modified.\n",
      "  res = mne_connectivity.spectral_connectivity_time(\n"
     ]
    },
    {
     "name": "stdout",
     "output_type": "stream",
     "text": [
      "[ 4  8 10 13 30 45]\n",
      "(6,)\n",
      "[ 4  8 10 13 30 45]\n",
      "(6,)\n",
      "only using indices for lower-triangular matrix\n",
      "Connectivity computation...\n",
      "   Processing epoch 1 / 1 ...\n"
     ]
    },
    {
     "name": "stderr",
     "output_type": "stream",
     "text": [
      "/Users/jakubblaha/Documents/thesis/thesis-python/common.py:114: RuntimeWarning: There were no Annotations stored in <EpochsArray | 1 events (all good), 0 – 7.992 s (baseline off), ~134 kB, data loaded,\n",
      " '1': 1>, so metadata was not modified.\n",
      "  res = mne_connectivity.spectral_connectivity_time(\n"
     ]
    },
    {
     "name": "stdout",
     "output_type": "stream",
     "text": [
      "[Connectivity computation done]\n",
      "Computing features for trial:  314\n",
      "[ 4  8 10 13 30 45]\n",
      "(6,)\n",
      "[ 4  8 10 13 30 45]\n",
      "(6,)\n",
      "only using indices for lower-triangular matrix\n",
      "Connectivity computation...\n",
      "   Processing epoch 1 / 1 ...\n"
     ]
    },
    {
     "name": "stderr",
     "output_type": "stream",
     "text": [
      "/Users/jakubblaha/Documents/thesis/thesis-python/common.py:114: RuntimeWarning: There were no Annotations stored in <EpochsArray | 1 events (all good), 0 – 7.992 s (baseline off), ~134 kB, data loaded,\n",
      " '1': 1>, so metadata was not modified.\n",
      "  res = mne_connectivity.spectral_connectivity_time(\n"
     ]
    },
    {
     "name": "stdout",
     "output_type": "stream",
     "text": [
      "[Connectivity computation done]\n",
      "Computing features for trial:  315\n",
      "[ 4  8 10 13 30 45]\n",
      "(6,)\n",
      "[ 4  8 10 13 30 45]\n",
      "(6,)\n",
      "only using indices for lower-triangular matrix\n",
      "Connectivity computation...\n",
      "   Processing epoch 1 / 1 ...\n",
      "[Connectivity computation done]\n"
     ]
    },
    {
     "name": "stderr",
     "output_type": "stream",
     "text": [
      "/Users/jakubblaha/Documents/thesis/thesis-python/common.py:114: RuntimeWarning: There were no Annotations stored in <EpochsArray | 1 events (all good), 0 – 7.992 s (baseline off), ~134 kB, data loaded,\n",
      " '1': 1>, so metadata was not modified.\n",
      "  res = mne_connectivity.spectral_connectivity_time(\n"
     ]
    },
    {
     "name": "stdout",
     "output_type": "stream",
     "text": [
      "Computing features for trial:  316\n",
      "[ 4  8 10 13 30 45]\n",
      "(6,)\n",
      "[ 4  8 10 13 30 45]\n",
      "(6,)\n",
      "only using indices for lower-triangular matrix\n",
      "Connectivity computation...\n",
      "   Processing epoch 1 / 1 ...\n",
      "[Connectivity computation done]\n",
      "Computing features for trial:  317\n"
     ]
    },
    {
     "name": "stderr",
     "output_type": "stream",
     "text": [
      "/Users/jakubblaha/Documents/thesis/thesis-python/common.py:114: RuntimeWarning: There were no Annotations stored in <EpochsArray | 1 events (all good), 0 – 7.992 s (baseline off), ~134 kB, data loaded,\n",
      " '1': 1>, so metadata was not modified.\n",
      "  res = mne_connectivity.spectral_connectivity_time(\n"
     ]
    },
    {
     "name": "stdout",
     "output_type": "stream",
     "text": [
      "[ 4  8 10 13 30 45]\n",
      "(6,)\n",
      "[ 4  8 10 13 30 45]\n",
      "(6,)\n",
      "only using indices for lower-triangular matrix\n",
      "Connectivity computation...\n",
      "   Processing epoch 1 / 1 ...\n",
      "[Connectivity computation done]\n",
      "Computing features for trial:  318\n"
     ]
    },
    {
     "name": "stderr",
     "output_type": "stream",
     "text": [
      "/Users/jakubblaha/Documents/thesis/thesis-python/common.py:114: RuntimeWarning: There were no Annotations stored in <EpochsArray | 1 events (all good), 0 – 7.992 s (baseline off), ~134 kB, data loaded,\n",
      " '1': 1>, so metadata was not modified.\n",
      "  res = mne_connectivity.spectral_connectivity_time(\n"
     ]
    },
    {
     "name": "stdout",
     "output_type": "stream",
     "text": [
      "[ 4  8 10 13 30 45]\n",
      "(6,)\n",
      "[ 4  8 10 13 30 45]\n",
      "(6,)\n",
      "only using indices for lower-triangular matrix\n",
      "Connectivity computation...\n",
      "   Processing epoch 1 / 1 ...\n",
      "[Connectivity computation done]\n",
      "Computing features for trial:  319\n"
     ]
    },
    {
     "name": "stderr",
     "output_type": "stream",
     "text": [
      "/Users/jakubblaha/Documents/thesis/thesis-python/common.py:114: RuntimeWarning: There were no Annotations stored in <EpochsArray | 1 events (all good), 0 – 7.992 s (baseline off), ~134 kB, data loaded,\n",
      " '1': 1>, so metadata was not modified.\n",
      "  res = mne_connectivity.spectral_connectivity_time(\n"
     ]
    },
    {
     "name": "stdout",
     "output_type": "stream",
     "text": [
      "[ 4  8 10 13 30 45]\n",
      "(6,)\n",
      "[ 4  8 10 13 30 45]\n",
      "(6,)\n",
      "only using indices for lower-triangular matrix\n",
      "Connectivity computation...\n",
      "   Processing epoch 1 / 1 ...\n",
      "[Connectivity computation done]\n",
      "Computing features for trial:  320\n"
     ]
    },
    {
     "name": "stderr",
     "output_type": "stream",
     "text": [
      "/Users/jakubblaha/Documents/thesis/thesis-python/common.py:114: RuntimeWarning: There were no Annotations stored in <EpochsArray | 1 events (all good), 0 – 7.992 s (baseline off), ~134 kB, data loaded,\n",
      " '1': 1>, so metadata was not modified.\n",
      "  res = mne_connectivity.spectral_connectivity_time(\n"
     ]
    },
    {
     "name": "stdout",
     "output_type": "stream",
     "text": [
      "[ 4  8 10 13 30 45]\n",
      "(6,)\n",
      "[ 4  8 10 13 30 45]\n",
      "(6,)\n",
      "only using indices for lower-triangular matrix\n",
      "Connectivity computation...\n",
      "   Processing epoch 1 / 1 ...\n",
      "[Connectivity computation done]\n",
      "Computing features for trial:  321\n"
     ]
    },
    {
     "name": "stderr",
     "output_type": "stream",
     "text": [
      "/Users/jakubblaha/Documents/thesis/thesis-python/common.py:114: RuntimeWarning: There were no Annotations stored in <EpochsArray | 1 events (all good), 0 – 7.992 s (baseline off), ~134 kB, data loaded,\n",
      " '1': 1>, so metadata was not modified.\n",
      "  res = mne_connectivity.spectral_connectivity_time(\n"
     ]
    },
    {
     "name": "stdout",
     "output_type": "stream",
     "text": [
      "[ 4  8 10 13 30 45]\n",
      "(6,)\n",
      "[ 4  8 10 13 30 45]\n",
      "(6,)\n",
      "only using indices for lower-triangular matrix\n",
      "Connectivity computation...\n",
      "   Processing epoch 1 / 1 ...\n"
     ]
    },
    {
     "name": "stderr",
     "output_type": "stream",
     "text": [
      "/Users/jakubblaha/Documents/thesis/thesis-python/common.py:114: RuntimeWarning: There were no Annotations stored in <EpochsArray | 1 events (all good), 0 – 7.992 s (baseline off), ~134 kB, data loaded,\n",
      " '1': 1>, so metadata was not modified.\n",
      "  res = mne_connectivity.spectral_connectivity_time(\n"
     ]
    },
    {
     "name": "stdout",
     "output_type": "stream",
     "text": [
      "[Connectivity computation done]\n",
      "Computing features for trial:  322\n",
      "[ 4  8 10 13 30 45]\n",
      "(6,)\n",
      "[ 4  8 10 13 30 45]\n",
      "(6,)\n",
      "only using indices for lower-triangular matrix\n",
      "Connectivity computation...\n",
      "   Processing epoch 1 / 1 ...\n",
      "[Connectivity computation done]\n"
     ]
    },
    {
     "name": "stderr",
     "output_type": "stream",
     "text": [
      "/Users/jakubblaha/Documents/thesis/thesis-python/common.py:114: RuntimeWarning: There were no Annotations stored in <EpochsArray | 1 events (all good), 0 – 7.992 s (baseline off), ~134 kB, data loaded,\n",
      " '1': 1>, so metadata was not modified.\n",
      "  res = mne_connectivity.spectral_connectivity_time(\n"
     ]
    },
    {
     "name": "stdout",
     "output_type": "stream",
     "text": [
      "Computing features for trial:  323\n",
      "[ 4  8 10 13 30 45]\n",
      "(6,)\n",
      "[ 4  8 10 13 30 45]\n",
      "(6,)\n",
      "only using indices for lower-triangular matrix\n",
      "Connectivity computation...\n",
      "   Processing epoch 1 / 1 ...\n",
      "[Connectivity computation done]\n",
      "Computing features for trial:  324\n"
     ]
    },
    {
     "name": "stderr",
     "output_type": "stream",
     "text": [
      "/Users/jakubblaha/Documents/thesis/thesis-python/common.py:114: RuntimeWarning: There were no Annotations stored in <EpochsArray | 1 events (all good), 0 – 7.992 s (baseline off), ~134 kB, data loaded,\n",
      " '1': 1>, so metadata was not modified.\n",
      "  res = mne_connectivity.spectral_connectivity_time(\n"
     ]
    },
    {
     "name": "stdout",
     "output_type": "stream",
     "text": [
      "[ 4  8 10 13 30 45]\n",
      "(6,)\n",
      "[ 4  8 10 13 30 45]\n",
      "(6,)\n",
      "only using indices for lower-triangular matrix\n",
      "Connectivity computation...\n",
      "   Processing epoch 1 / 1 ...\n",
      "[Connectivity computation done]\n",
      "Computing features for trial:  325\n"
     ]
    },
    {
     "name": "stderr",
     "output_type": "stream",
     "text": [
      "/Users/jakubblaha/Documents/thesis/thesis-python/common.py:114: RuntimeWarning: There were no Annotations stored in <EpochsArray | 1 events (all good), 0 – 7.992 s (baseline off), ~134 kB, data loaded,\n",
      " '1': 1>, so metadata was not modified.\n",
      "  res = mne_connectivity.spectral_connectivity_time(\n"
     ]
    },
    {
     "name": "stdout",
     "output_type": "stream",
     "text": [
      "[ 4  8 10 13 30 45]\n",
      "(6,)\n",
      "[ 4  8 10 13 30 45]\n",
      "(6,)\n",
      "only using indices for lower-triangular matrix\n",
      "Connectivity computation...\n",
      "   Processing epoch 1 / 1 ...\n",
      "[Connectivity computation done]\n",
      "Computing features for trial:  326\n"
     ]
    },
    {
     "name": "stderr",
     "output_type": "stream",
     "text": [
      "/Users/jakubblaha/Documents/thesis/thesis-python/common.py:114: RuntimeWarning: There were no Annotations stored in <EpochsArray | 1 events (all good), 0 – 7.992 s (baseline off), ~134 kB, data loaded,\n",
      " '1': 1>, so metadata was not modified.\n",
      "  res = mne_connectivity.spectral_connectivity_time(\n"
     ]
    },
    {
     "name": "stdout",
     "output_type": "stream",
     "text": [
      "[ 4  8 10 13 30 45]\n",
      "(6,)\n",
      "[ 4  8 10 13 30 45]\n",
      "(6,)\n",
      "only using indices for lower-triangular matrix\n",
      "Connectivity computation...\n",
      "   Processing epoch 1 / 1 ...\n",
      "[Connectivity computation done]\n",
      "Computing features for trial:  327\n"
     ]
    },
    {
     "name": "stderr",
     "output_type": "stream",
     "text": [
      "/Users/jakubblaha/Documents/thesis/thesis-python/common.py:114: RuntimeWarning: There were no Annotations stored in <EpochsArray | 1 events (all good), 0 – 7.992 s (baseline off), ~134 kB, data loaded,\n",
      " '1': 1>, so metadata was not modified.\n",
      "  res = mne_connectivity.spectral_connectivity_time(\n"
     ]
    },
    {
     "name": "stdout",
     "output_type": "stream",
     "text": [
      "[ 4  8 10 13 30 45]\n",
      "(6,)\n",
      "[ 4  8 10 13 30 45]\n",
      "(6,)\n",
      "only using indices for lower-triangular matrix\n",
      "Connectivity computation...\n",
      "   Processing epoch 1 / 1 ...\n",
      "[Connectivity computation done]\n",
      "Computing features for trial:  328\n"
     ]
    },
    {
     "name": "stderr",
     "output_type": "stream",
     "text": [
      "/Users/jakubblaha/Documents/thesis/thesis-python/common.py:114: RuntimeWarning: There were no Annotations stored in <EpochsArray | 1 events (all good), 0 – 7.992 s (baseline off), ~134 kB, data loaded,\n",
      " '1': 1>, so metadata was not modified.\n",
      "  res = mne_connectivity.spectral_connectivity_time(\n"
     ]
    },
    {
     "name": "stdout",
     "output_type": "stream",
     "text": [
      "[ 4  8 10 13 30 45]\n",
      "(6,)\n",
      "[ 4  8 10 13 30 45]\n",
      "(6,)\n",
      "only using indices for lower-triangular matrix\n",
      "Connectivity computation...\n",
      "   Processing epoch 1 / 1 ...\n",
      "[Connectivity computation done]\n",
      "Computing features for trial:  329\n"
     ]
    },
    {
     "name": "stderr",
     "output_type": "stream",
     "text": [
      "/Users/jakubblaha/Documents/thesis/thesis-python/common.py:114: RuntimeWarning: There were no Annotations stored in <EpochsArray | 1 events (all good), 0 – 7.992 s (baseline off), ~134 kB, data loaded,\n",
      " '1': 1>, so metadata was not modified.\n",
      "  res = mne_connectivity.spectral_connectivity_time(\n"
     ]
    },
    {
     "name": "stdout",
     "output_type": "stream",
     "text": [
      "[ 4  8 10 13 30 45]\n",
      "(6,)\n",
      "[ 4  8 10 13 30 45]\n",
      "(6,)\n",
      "only using indices for lower-triangular matrix\n",
      "Connectivity computation...\n",
      "   Processing epoch 1 / 1 ...\n",
      "[Connectivity computation done]\n",
      "Computing features for trial:  330\n"
     ]
    },
    {
     "name": "stderr",
     "output_type": "stream",
     "text": [
      "/Users/jakubblaha/Documents/thesis/thesis-python/common.py:114: RuntimeWarning: There were no Annotations stored in <EpochsArray | 1 events (all good), 0 – 7.992 s (baseline off), ~134 kB, data loaded,\n",
      " '1': 1>, so metadata was not modified.\n",
      "  res = mne_connectivity.spectral_connectivity_time(\n"
     ]
    },
    {
     "name": "stdout",
     "output_type": "stream",
     "text": [
      "[ 4  8 10 13 30 45]\n",
      "(6,)\n",
      "[ 4  8 10 13 30 45]\n",
      "(6,)\n",
      "only using indices for lower-triangular matrix\n",
      "Connectivity computation...\n",
      "   Processing epoch 1 / 1 ...\n",
      "[Connectivity computation done]\n",
      "Computing features for trial:  331\n"
     ]
    },
    {
     "name": "stderr",
     "output_type": "stream",
     "text": [
      "/Users/jakubblaha/Documents/thesis/thesis-python/common.py:114: RuntimeWarning: There were no Annotations stored in <EpochsArray | 1 events (all good), 0 – 7.992 s (baseline off), ~134 kB, data loaded,\n",
      " '1': 1>, so metadata was not modified.\n",
      "  res = mne_connectivity.spectral_connectivity_time(\n"
     ]
    },
    {
     "name": "stdout",
     "output_type": "stream",
     "text": [
      "[ 4  8 10 13 30 45]\n",
      "(6,)\n",
      "[ 4  8 10 13 30 45]\n",
      "(6,)\n",
      "only using indices for lower-triangular matrix\n",
      "Connectivity computation...\n",
      "   Processing epoch 1 / 1 ...\n",
      "[Connectivity computation done]\n",
      "Computing features for trial:  332\n"
     ]
    },
    {
     "name": "stderr",
     "output_type": "stream",
     "text": [
      "/Users/jakubblaha/Documents/thesis/thesis-python/common.py:114: RuntimeWarning: There were no Annotations stored in <EpochsArray | 1 events (all good), 0 – 7.992 s (baseline off), ~134 kB, data loaded,\n",
      " '1': 1>, so metadata was not modified.\n",
      "  res = mne_connectivity.spectral_connectivity_time(\n"
     ]
    },
    {
     "name": "stdout",
     "output_type": "stream",
     "text": [
      "[ 4  8 10 13 30 45]\n",
      "(6,)\n",
      "[ 4  8 10 13 30 45]\n",
      "(6,)\n",
      "only using indices for lower-triangular matrix\n",
      "Connectivity computation...\n",
      "   Processing epoch 1 / 1 ...\n",
      "[Connectivity computation done]\n",
      "Computing features for trial:  333\n"
     ]
    },
    {
     "name": "stderr",
     "output_type": "stream",
     "text": [
      "/Users/jakubblaha/Documents/thesis/thesis-python/common.py:114: RuntimeWarning: There were no Annotations stored in <EpochsArray | 1 events (all good), 0 – 7.992 s (baseline off), ~134 kB, data loaded,\n",
      " '1': 1>, so metadata was not modified.\n",
      "  res = mne_connectivity.spectral_connectivity_time(\n"
     ]
    },
    {
     "name": "stdout",
     "output_type": "stream",
     "text": [
      "[ 4  8 10 13 30 45]\n",
      "(6,)\n",
      "[ 4  8 10 13 30 45]\n",
      "(6,)\n",
      "only using indices for lower-triangular matrix\n",
      "Connectivity computation...\n",
      "   Processing epoch 1 / 1 ...\n",
      "[Connectivity computation done]\n",
      "Computing features for trial:  334\n"
     ]
    },
    {
     "name": "stderr",
     "output_type": "stream",
     "text": [
      "/Users/jakubblaha/Documents/thesis/thesis-python/common.py:114: RuntimeWarning: There were no Annotations stored in <EpochsArray | 1 events (all good), 0 – 7.992 s (baseline off), ~134 kB, data loaded,\n",
      " '1': 1>, so metadata was not modified.\n",
      "  res = mne_connectivity.spectral_connectivity_time(\n"
     ]
    },
    {
     "name": "stdout",
     "output_type": "stream",
     "text": [
      "[ 4  8 10 13 30 45]\n",
      "(6,)\n",
      "[ 4  8 10 13 30 45]\n",
      "(6,)\n",
      "only using indices for lower-triangular matrix\n",
      "Connectivity computation...\n",
      "   Processing epoch 1 / 1 ...\n",
      "[Connectivity computation done]\n",
      "Computing features for trial:  335\n"
     ]
    },
    {
     "name": "stderr",
     "output_type": "stream",
     "text": [
      "/Users/jakubblaha/Documents/thesis/thesis-python/common.py:114: RuntimeWarning: There were no Annotations stored in <EpochsArray | 1 events (all good), 0 – 7.992 s (baseline off), ~134 kB, data loaded,\n",
      " '1': 1>, so metadata was not modified.\n",
      "  res = mne_connectivity.spectral_connectivity_time(\n"
     ]
    },
    {
     "name": "stdout",
     "output_type": "stream",
     "text": [
      "[ 4  8 10 13 30 45]\n",
      "(6,)\n",
      "[ 4  8 10 13 30 45]\n",
      "(6,)\n",
      "only using indices for lower-triangular matrix\n",
      "Connectivity computation...\n",
      "   Processing epoch 1 / 1 ...\n",
      "[Connectivity computation done]\n",
      "Computing features for trial:  336\n"
     ]
    },
    {
     "name": "stderr",
     "output_type": "stream",
     "text": [
      "/Users/jakubblaha/Documents/thesis/thesis-python/common.py:114: RuntimeWarning: There were no Annotations stored in <EpochsArray | 1 events (all good), 0 – 7.992 s (baseline off), ~134 kB, data loaded,\n",
      " '1': 1>, so metadata was not modified.\n",
      "  res = mne_connectivity.spectral_connectivity_time(\n"
     ]
    },
    {
     "name": "stdout",
     "output_type": "stream",
     "text": [
      "[ 4  8 10 13 30 45]\n",
      "(6,)\n",
      "[ 4  8 10 13 30 45]\n",
      "(6,)\n",
      "only using indices for lower-triangular matrix\n",
      "Connectivity computation...\n",
      "   Processing epoch 1 / 1 ...\n",
      "[Connectivity computation done]\n",
      "Computing features for trial:  337\n"
     ]
    },
    {
     "name": "stderr",
     "output_type": "stream",
     "text": [
      "/Users/jakubblaha/Documents/thesis/thesis-python/common.py:114: RuntimeWarning: There were no Annotations stored in <EpochsArray | 1 events (all good), 0 – 7.992 s (baseline off), ~134 kB, data loaded,\n",
      " '1': 1>, so metadata was not modified.\n",
      "  res = mne_connectivity.spectral_connectivity_time(\n"
     ]
    },
    {
     "name": "stdout",
     "output_type": "stream",
     "text": [
      "[ 4  8 10 13 30 45]\n",
      "(6,)\n",
      "[ 4  8 10 13 30 45]\n",
      "(6,)\n",
      "only using indices for lower-triangular matrix\n",
      "Connectivity computation...\n",
      "   Processing epoch 1 / 1 ...\n"
     ]
    },
    {
     "name": "stderr",
     "output_type": "stream",
     "text": [
      "/Users/jakubblaha/Documents/thesis/thesis-python/common.py:114: RuntimeWarning: There were no Annotations stored in <EpochsArray | 1 events (all good), 0 – 7.992 s (baseline off), ~134 kB, data loaded,\n",
      " '1': 1>, so metadata was not modified.\n",
      "  res = mne_connectivity.spectral_connectivity_time(\n"
     ]
    },
    {
     "name": "stdout",
     "output_type": "stream",
     "text": [
      "[Connectivity computation done]\n",
      "Computing features for trial:  338\n",
      "[ 4  8 10 13 30 45]\n",
      "(6,)\n",
      "[ 4  8 10 13 30 45]\n",
      "(6,)\n",
      "only using indices for lower-triangular matrix\n",
      "Connectivity computation...\n",
      "   Processing epoch 1 / 1 ...\n",
      "[Connectivity computation done]\n"
     ]
    },
    {
     "name": "stderr",
     "output_type": "stream",
     "text": [
      "/Users/jakubblaha/Documents/thesis/thesis-python/common.py:114: RuntimeWarning: There were no Annotations stored in <EpochsArray | 1 events (all good), 0 – 7.992 s (baseline off), ~134 kB, data loaded,\n",
      " '1': 1>, so metadata was not modified.\n",
      "  res = mne_connectivity.spectral_connectivity_time(\n"
     ]
    },
    {
     "name": "stdout",
     "output_type": "stream",
     "text": [
      "Computing features for trial:  339\n",
      "[ 4  8 10 13 30 45]\n",
      "(6,)\n",
      "[ 4  8 10 13 30 45]\n",
      "(6,)\n",
      "only using indices for lower-triangular matrix\n",
      "Connectivity computation...\n",
      "   Processing epoch 1 / 1 ...\n",
      "[Connectivity computation done]\n",
      "Computing features for trial:  340\n",
      "[ 4  8 10 13 30 45]\n",
      "(6,)\n"
     ]
    },
    {
     "name": "stderr",
     "output_type": "stream",
     "text": [
      "/Users/jakubblaha/Documents/thesis/thesis-python/common.py:114: RuntimeWarning: There were no Annotations stored in <EpochsArray | 1 events (all good), 0 – 7.992 s (baseline off), ~134 kB, data loaded,\n",
      " '1': 1>, so metadata was not modified.\n",
      "  res = mne_connectivity.spectral_connectivity_time(\n"
     ]
    },
    {
     "name": "stdout",
     "output_type": "stream",
     "text": [
      "[ 4  8 10 13 30 45]\n",
      "(6,)\n",
      "only using indices for lower-triangular matrix\n",
      "Connectivity computation...\n",
      "   Processing epoch 1 / 1 ...\n"
     ]
    },
    {
     "name": "stderr",
     "output_type": "stream",
     "text": [
      "/Users/jakubblaha/Documents/thesis/thesis-python/common.py:114: RuntimeWarning: There were no Annotations stored in <EpochsArray | 1 events (all good), 0 – 7.992 s (baseline off), ~134 kB, data loaded,\n",
      " '1': 1>, so metadata was not modified.\n",
      "  res = mne_connectivity.spectral_connectivity_time(\n"
     ]
    },
    {
     "name": "stdout",
     "output_type": "stream",
     "text": [
      "[Connectivity computation done]\n",
      "Computing features for trial:  341\n",
      "[ 4  8 10 13 30 45]\n",
      "(6,)\n",
      "[ 4  8 10 13 30 45]\n",
      "(6,)\n",
      "only using indices for lower-triangular matrix\n",
      "Connectivity computation...\n",
      "   Processing epoch 1 / 1 ...\n",
      "[Connectivity computation done]\n"
     ]
    },
    {
     "name": "stderr",
     "output_type": "stream",
     "text": [
      "/Users/jakubblaha/Documents/thesis/thesis-python/common.py:114: RuntimeWarning: There were no Annotations stored in <EpochsArray | 1 events (all good), 0 – 7.992 s (baseline off), ~134 kB, data loaded,\n",
      " '1': 1>, so metadata was not modified.\n",
      "  res = mne_connectivity.spectral_connectivity_time(\n"
     ]
    },
    {
     "name": "stdout",
     "output_type": "stream",
     "text": [
      "Computing features for trial:  342\n",
      "[ 4  8 10 13 30 45]\n",
      "(6,)\n",
      "[ 4  8 10 13 30 45]\n",
      "(6,)\n",
      "only using indices for lower-triangular matrix\n",
      "Connectivity computation...\n",
      "   Processing epoch 1 / 1 ...\n",
      "[Connectivity computation done]\n",
      "Computing features for trial:  343\n"
     ]
    },
    {
     "name": "stderr",
     "output_type": "stream",
     "text": [
      "/Users/jakubblaha/Documents/thesis/thesis-python/common.py:114: RuntimeWarning: There were no Annotations stored in <EpochsArray | 1 events (all good), 0 – 7.992 s (baseline off), ~134 kB, data loaded,\n",
      " '1': 1>, so metadata was not modified.\n",
      "  res = mne_connectivity.spectral_connectivity_time(\n"
     ]
    },
    {
     "name": "stdout",
     "output_type": "stream",
     "text": [
      "[ 4  8 10 13 30 45]\n",
      "(6,)\n",
      "[ 4  8 10 13 30 45]\n",
      "(6,)\n",
      "only using indices for lower-triangular matrix\n",
      "Connectivity computation...\n",
      "   Processing epoch 1 / 1 ...\n",
      "[Connectivity computation done]\n",
      "Computing features for trial:  344\n"
     ]
    },
    {
     "name": "stderr",
     "output_type": "stream",
     "text": [
      "/Users/jakubblaha/Documents/thesis/thesis-python/common.py:114: RuntimeWarning: There were no Annotations stored in <EpochsArray | 1 events (all good), 0 – 7.992 s (baseline off), ~134 kB, data loaded,\n",
      " '1': 1>, so metadata was not modified.\n",
      "  res = mne_connectivity.spectral_connectivity_time(\n"
     ]
    },
    {
     "name": "stdout",
     "output_type": "stream",
     "text": [
      "[ 4  8 10 13 30 45]\n",
      "(6,)\n",
      "[ 4  8 10 13 30 45]\n",
      "(6,)\n",
      "only using indices for lower-triangular matrix\n",
      "Connectivity computation...\n",
      "   Processing epoch 1 / 1 ...\n",
      "[Connectivity computation done]\n",
      "Computing features for trial:  345\n",
      "[ 4  8 10 13 30 45]\n",
      "(6,)\n",
      "[ 4  8 10 13 30 45]\n",
      "(6,)\n",
      "only using indices for lower-triangular matrix\n",
      "Connectivity computation...\n",
      "   Processing epoch 1 / 1 ...\n"
     ]
    },
    {
     "name": "stderr",
     "output_type": "stream",
     "text": [
      "/Users/jakubblaha/Documents/thesis/thesis-python/common.py:114: RuntimeWarning: There were no Annotations stored in <EpochsArray | 1 events (all good), 0 – 7.992 s (baseline off), ~134 kB, data loaded,\n",
      " '1': 1>, so metadata was not modified.\n",
      "  res = mne_connectivity.spectral_connectivity_time(\n",
      "/Users/jakubblaha/Documents/thesis/thesis-python/common.py:114: RuntimeWarning: There were no Annotations stored in <EpochsArray | 1 events (all good), 0 – 7.992 s (baseline off), ~134 kB, data loaded,\n",
      " '1': 1>, so metadata was not modified.\n",
      "  res = mne_connectivity.spectral_connectivity_time(\n"
     ]
    },
    {
     "name": "stdout",
     "output_type": "stream",
     "text": [
      "[Connectivity computation done]\n",
      "Computing features for trial:  346\n",
      "[ 4  8 10 13 30 45]\n",
      "(6,)\n",
      "[ 4  8 10 13 30 45]\n",
      "(6,)\n",
      "only using indices for lower-triangular matrix\n",
      "Connectivity computation...\n",
      "   Processing epoch 1 / 1 ...\n",
      "[Connectivity computation done]\n",
      "Computing features for trial:  347\n"
     ]
    },
    {
     "name": "stderr",
     "output_type": "stream",
     "text": [
      "/Users/jakubblaha/Documents/thesis/thesis-python/common.py:114: RuntimeWarning: There were no Annotations stored in <EpochsArray | 1 events (all good), 0 – 7.992 s (baseline off), ~134 kB, data loaded,\n",
      " '1': 1>, so metadata was not modified.\n",
      "  res = mne_connectivity.spectral_connectivity_time(\n"
     ]
    },
    {
     "name": "stdout",
     "output_type": "stream",
     "text": [
      "[ 4  8 10 13 30 45]\n",
      "(6,)\n",
      "[ 4  8 10 13 30 45]\n",
      "(6,)\n",
      "only using indices for lower-triangular matrix\n",
      "Connectivity computation...\n",
      "   Processing epoch 1 / 1 ...\n",
      "[Connectivity computation done]\n",
      "Computing features for trial:  348\n"
     ]
    },
    {
     "name": "stderr",
     "output_type": "stream",
     "text": [
      "/Users/jakubblaha/Documents/thesis/thesis-python/common.py:114: RuntimeWarning: There were no Annotations stored in <EpochsArray | 1 events (all good), 0 – 7.992 s (baseline off), ~134 kB, data loaded,\n",
      " '1': 1>, so metadata was not modified.\n",
      "  res = mne_connectivity.spectral_connectivity_time(\n"
     ]
    },
    {
     "name": "stdout",
     "output_type": "stream",
     "text": [
      "[ 4  8 10 13 30 45]\n",
      "(6,)\n",
      "[ 4  8 10 13 30 45]\n",
      "(6,)\n",
      "only using indices for lower-triangular matrix\n",
      "Connectivity computation...\n",
      "   Processing epoch 1 / 1 ...\n",
      "[Connectivity computation done]\n",
      "Computing features for trial:  349\n"
     ]
    },
    {
     "name": "stderr",
     "output_type": "stream",
     "text": [
      "/Users/jakubblaha/Documents/thesis/thesis-python/common.py:114: RuntimeWarning: There were no Annotations stored in <EpochsArray | 1 events (all good), 0 – 7.992 s (baseline off), ~134 kB, data loaded,\n",
      " '1': 1>, so metadata was not modified.\n",
      "  res = mne_connectivity.spectral_connectivity_time(\n"
     ]
    },
    {
     "name": "stdout",
     "output_type": "stream",
     "text": [
      "[ 4  8 10 13 30 45]\n",
      "(6,)\n",
      "[ 4  8 10 13 30 45]\n",
      "(6,)\n",
      "only using indices for lower-triangular matrix\n",
      "Connectivity computation...\n",
      "   Processing epoch 1 / 1 ...\n",
      "[Connectivity computation done]\n",
      "Computing features for trial:  350\n"
     ]
    },
    {
     "name": "stderr",
     "output_type": "stream",
     "text": [
      "/Users/jakubblaha/Documents/thesis/thesis-python/common.py:114: RuntimeWarning: There were no Annotations stored in <EpochsArray | 1 events (all good), 0 – 7.992 s (baseline off), ~134 kB, data loaded,\n",
      " '1': 1>, so metadata was not modified.\n",
      "  res = mne_connectivity.spectral_connectivity_time(\n"
     ]
    },
    {
     "name": "stdout",
     "output_type": "stream",
     "text": [
      "[ 4  8 10 13 30 45]\n",
      "(6,)\n",
      "[ 4  8 10 13 30 45]\n",
      "(6,)\n",
      "only using indices for lower-triangular matrix\n",
      "Connectivity computation...\n",
      "   Processing epoch 1 / 1 ...\n",
      "[Connectivity computation done]\n",
      "Computing features for trial:  351\n"
     ]
    },
    {
     "name": "stderr",
     "output_type": "stream",
     "text": [
      "/Users/jakubblaha/Documents/thesis/thesis-python/common.py:114: RuntimeWarning: There were no Annotations stored in <EpochsArray | 1 events (all good), 0 – 7.992 s (baseline off), ~134 kB, data loaded,\n",
      " '1': 1>, so metadata was not modified.\n",
      "  res = mne_connectivity.spectral_connectivity_time(\n"
     ]
    },
    {
     "name": "stdout",
     "output_type": "stream",
     "text": [
      "[ 4  8 10 13 30 45]\n",
      "(6,)\n",
      "[ 4  8 10 13 30 45]\n",
      "(6,)\n",
      "only using indices for lower-triangular matrix\n",
      "Connectivity computation...\n",
      "   Processing epoch 1 / 1 ...\n",
      "[Connectivity computation done]\n",
      "Computing features for trial:  352\n"
     ]
    },
    {
     "name": "stderr",
     "output_type": "stream",
     "text": [
      "/Users/jakubblaha/Documents/thesis/thesis-python/common.py:114: RuntimeWarning: There were no Annotations stored in <EpochsArray | 1 events (all good), 0 – 7.992 s (baseline off), ~134 kB, data loaded,\n",
      " '1': 1>, so metadata was not modified.\n",
      "  res = mne_connectivity.spectral_connectivity_time(\n"
     ]
    },
    {
     "name": "stdout",
     "output_type": "stream",
     "text": [
      "[ 4  8 10 13 30 45]\n",
      "(6,)\n",
      "[ 4  8 10 13 30 45]\n",
      "(6,)\n",
      "only using indices for lower-triangular matrix\n",
      "Connectivity computation...\n",
      "   Processing epoch 1 / 1 ...\n",
      "[Connectivity computation done]\n",
      "Computing features for trial:  353\n"
     ]
    },
    {
     "name": "stderr",
     "output_type": "stream",
     "text": [
      "/Users/jakubblaha/Documents/thesis/thesis-python/common.py:114: RuntimeWarning: There were no Annotations stored in <EpochsArray | 1 events (all good), 0 – 7.992 s (baseline off), ~134 kB, data loaded,\n",
      " '1': 1>, so metadata was not modified.\n",
      "  res = mne_connectivity.spectral_connectivity_time(\n"
     ]
    },
    {
     "name": "stdout",
     "output_type": "stream",
     "text": [
      "[ 4  8 10 13 30 45]\n",
      "(6,)\n",
      "[ 4  8 10 13 30 45]\n",
      "(6,)\n",
      "only using indices for lower-triangular matrix\n",
      "Connectivity computation...\n",
      "   Processing epoch 1 / 1 ...\n"
     ]
    },
    {
     "name": "stderr",
     "output_type": "stream",
     "text": [
      "/Users/jakubblaha/Documents/thesis/thesis-python/common.py:114: RuntimeWarning: There were no Annotations stored in <EpochsArray | 1 events (all good), 0 – 7.992 s (baseline off), ~134 kB, data loaded,\n",
      " '1': 1>, so metadata was not modified.\n",
      "  res = mne_connectivity.spectral_connectivity_time(\n"
     ]
    },
    {
     "name": "stdout",
     "output_type": "stream",
     "text": [
      "[Connectivity computation done]\n",
      "Computing features for trial:  354\n",
      "[ 4  8 10 13 30 45]\n",
      "(6,)\n",
      "[ 4  8 10 13 30 45]\n",
      "(6,)\n",
      "only using indices for lower-triangular matrix\n",
      "Connectivity computation...\n",
      "   Processing epoch 1 / 1 ...\n",
      "[Connectivity computation done]\n"
     ]
    },
    {
     "name": "stderr",
     "output_type": "stream",
     "text": [
      "/Users/jakubblaha/Documents/thesis/thesis-python/common.py:114: RuntimeWarning: There were no Annotations stored in <EpochsArray | 1 events (all good), 0 – 7.992 s (baseline off), ~134 kB, data loaded,\n",
      " '1': 1>, so metadata was not modified.\n",
      "  res = mne_connectivity.spectral_connectivity_time(\n"
     ]
    },
    {
     "name": "stdout",
     "output_type": "stream",
     "text": [
      "Computing features for trial:  355\n",
      "[ 4  8 10 13 30 45]\n",
      "(6,)\n",
      "[ 4  8 10 13 30 45]\n",
      "(6,)\n",
      "only using indices for lower-triangular matrix\n",
      "Connectivity computation...\n",
      "   Processing epoch 1 / 1 ...\n",
      "[Connectivity computation done]\n",
      "Computing features for trial:  356\n"
     ]
    },
    {
     "name": "stderr",
     "output_type": "stream",
     "text": [
      "/Users/jakubblaha/Documents/thesis/thesis-python/common.py:114: RuntimeWarning: There were no Annotations stored in <EpochsArray | 1 events (all good), 0 – 7.992 s (baseline off), ~134 kB, data loaded,\n",
      " '1': 1>, so metadata was not modified.\n",
      "  res = mne_connectivity.spectral_connectivity_time(\n"
     ]
    },
    {
     "name": "stdout",
     "output_type": "stream",
     "text": [
      "[ 4  8 10 13 30 45]\n",
      "(6,)\n",
      "[ 4  8 10 13 30 45]\n",
      "(6,)\n",
      "only using indices for lower-triangular matrix\n",
      "Connectivity computation...\n",
      "   Processing epoch 1 / 1 ...\n",
      "[Connectivity computation done]\n",
      "Computing features for trial:  357\n"
     ]
    },
    {
     "name": "stderr",
     "output_type": "stream",
     "text": [
      "/Users/jakubblaha/Documents/thesis/thesis-python/common.py:114: RuntimeWarning: There were no Annotations stored in <EpochsArray | 1 events (all good), 0 – 7.992 s (baseline off), ~134 kB, data loaded,\n",
      " '1': 1>, so metadata was not modified.\n",
      "  res = mne_connectivity.spectral_connectivity_time(\n"
     ]
    },
    {
     "name": "stdout",
     "output_type": "stream",
     "text": [
      "[ 4  8 10 13 30 45]\n",
      "(6,)\n",
      "[ 4  8 10 13 30 45]\n",
      "(6,)\n",
      "only using indices for lower-triangular matrix\n",
      "Connectivity computation...\n",
      "   Processing epoch 1 / 1 ...\n",
      "[Connectivity computation done]\n",
      "Computing features for trial:  358\n"
     ]
    },
    {
     "name": "stderr",
     "output_type": "stream",
     "text": [
      "/Users/jakubblaha/Documents/thesis/thesis-python/common.py:114: RuntimeWarning: There were no Annotations stored in <EpochsArray | 1 events (all good), 0 – 7.992 s (baseline off), ~134 kB, data loaded,\n",
      " '1': 1>, so metadata was not modified.\n",
      "  res = mne_connectivity.spectral_connectivity_time(\n"
     ]
    },
    {
     "name": "stdout",
     "output_type": "stream",
     "text": [
      "[ 4  8 10 13 30 45]\n",
      "(6,)\n",
      "[ 4  8 10 13 30 45]\n",
      "(6,)\n",
      "only using indices for lower-triangular matrix\n",
      "Connectivity computation...\n",
      "   Processing epoch 1 / 1 ...\n"
     ]
    },
    {
     "name": "stderr",
     "output_type": "stream",
     "text": [
      "/Users/jakubblaha/Documents/thesis/thesis-python/common.py:114: RuntimeWarning: There were no Annotations stored in <EpochsArray | 1 events (all good), 0 – 7.992 s (baseline off), ~134 kB, data loaded,\n",
      " '1': 1>, so metadata was not modified.\n",
      "  res = mne_connectivity.spectral_connectivity_time(\n"
     ]
    },
    {
     "name": "stdout",
     "output_type": "stream",
     "text": [
      "[Connectivity computation done]\n",
      "Computing features for trial:  359\n",
      "[ 4  8 10 13 30 45]\n",
      "(6,)\n",
      "[ 4  8 10 13 30 45]\n",
      "(6,)\n",
      "only using indices for lower-triangular matrix\n",
      "Connectivity computation...\n",
      "   Processing epoch 1 / 1 ...\n",
      "[Connectivity computation done]\n"
     ]
    },
    {
     "name": "stderr",
     "output_type": "stream",
     "text": [
      "/Users/jakubblaha/Documents/thesis/thesis-python/common.py:114: RuntimeWarning: There were no Annotations stored in <EpochsArray | 1 events (all good), 0 – 7.992 s (baseline off), ~134 kB, data loaded,\n",
      " '1': 1>, so metadata was not modified.\n",
      "  res = mne_connectivity.spectral_connectivity_time(\n"
     ]
    },
    {
     "name": "stdout",
     "output_type": "stream",
     "text": [
      "Computing features for trial:  360\n",
      "[ 4  8 10 13 30 45]\n",
      "(6,)\n",
      "[ 4  8 10 13 30 45]\n",
      "(6,)\n",
      "only using indices for lower-triangular matrix\n",
      "Connectivity computation...\n",
      "   Processing epoch 1 / 1 ...\n",
      "[Connectivity computation done]\n",
      "Computing features for trial:  361\n"
     ]
    },
    {
     "name": "stderr",
     "output_type": "stream",
     "text": [
      "/Users/jakubblaha/Documents/thesis/thesis-python/common.py:114: RuntimeWarning: There were no Annotations stored in <EpochsArray | 1 events (all good), 0 – 7.992 s (baseline off), ~134 kB, data loaded,\n",
      " '1': 1>, so metadata was not modified.\n",
      "  res = mne_connectivity.spectral_connectivity_time(\n"
     ]
    },
    {
     "name": "stdout",
     "output_type": "stream",
     "text": [
      "[ 4  8 10 13 30 45]\n",
      "(6,)\n",
      "[ 4  8 10 13 30 45]\n",
      "(6,)\n",
      "only using indices for lower-triangular matrix\n",
      "Connectivity computation...\n",
      "   Processing epoch 1 / 1 ...\n",
      "[Connectivity computation done]\n",
      "Computing features for trial:  362\n"
     ]
    },
    {
     "name": "stderr",
     "output_type": "stream",
     "text": [
      "/Users/jakubblaha/Documents/thesis/thesis-python/common.py:114: RuntimeWarning: There were no Annotations stored in <EpochsArray | 1 events (all good), 0 – 7.992 s (baseline off), ~134 kB, data loaded,\n",
      " '1': 1>, so metadata was not modified.\n",
      "  res = mne_connectivity.spectral_connectivity_time(\n"
     ]
    },
    {
     "name": "stdout",
     "output_type": "stream",
     "text": [
      "[ 4  8 10 13 30 45]\n",
      "(6,)\n",
      "[ 4  8 10 13 30 45]\n",
      "(6,)\n",
      "only using indices for lower-triangular matrix\n",
      "Connectivity computation...\n",
      "   Processing epoch 1 / 1 ...\n",
      "[Connectivity computation done]\n",
      "Computing features for trial:  363\n"
     ]
    },
    {
     "name": "stderr",
     "output_type": "stream",
     "text": [
      "/Users/jakubblaha/Documents/thesis/thesis-python/common.py:114: RuntimeWarning: There were no Annotations stored in <EpochsArray | 1 events (all good), 0 – 7.992 s (baseline off), ~134 kB, data loaded,\n",
      " '1': 1>, so metadata was not modified.\n",
      "  res = mne_connectivity.spectral_connectivity_time(\n"
     ]
    },
    {
     "name": "stdout",
     "output_type": "stream",
     "text": [
      "[ 4  8 10 13 30 45]\n",
      "(6,)\n",
      "[ 4  8 10 13 30 45]\n",
      "(6,)\n",
      "only using indices for lower-triangular matrix\n",
      "Connectivity computation...\n",
      "   Processing epoch 1 / 1 ...\n",
      "[Connectivity computation done]\n",
      "Computing features for trial:  364\n"
     ]
    },
    {
     "name": "stderr",
     "output_type": "stream",
     "text": [
      "/Users/jakubblaha/Documents/thesis/thesis-python/common.py:114: RuntimeWarning: There were no Annotations stored in <EpochsArray | 1 events (all good), 0 – 7.992 s (baseline off), ~134 kB, data loaded,\n",
      " '1': 1>, so metadata was not modified.\n",
      "  res = mne_connectivity.spectral_connectivity_time(\n"
     ]
    },
    {
     "name": "stdout",
     "output_type": "stream",
     "text": [
      "[ 4  8 10 13 30 45]\n",
      "(6,)\n",
      "[ 4  8 10 13 30 45]\n",
      "(6,)\n",
      "only using indices for lower-triangular matrix\n",
      "Connectivity computation...\n",
      "   Processing epoch 1 / 1 ...\n",
      "[Connectivity computation done]\n",
      "Computing features for trial:  365\n"
     ]
    },
    {
     "name": "stderr",
     "output_type": "stream",
     "text": [
      "/Users/jakubblaha/Documents/thesis/thesis-python/common.py:114: RuntimeWarning: There were no Annotations stored in <EpochsArray | 1 events (all good), 0 – 7.992 s (baseline off), ~134 kB, data loaded,\n",
      " '1': 1>, so metadata was not modified.\n",
      "  res = mne_connectivity.spectral_connectivity_time(\n"
     ]
    },
    {
     "name": "stdout",
     "output_type": "stream",
     "text": [
      "[ 4  8 10 13 30 45]\n",
      "(6,)\n",
      "[ 4  8 10 13 30 45]\n",
      "(6,)\n",
      "only using indices for lower-triangular matrix\n",
      "Connectivity computation...\n",
      "   Processing epoch 1 / 1 ...\n",
      "[Connectivity computation done]\n",
      "Computing features for trial:  366\n"
     ]
    },
    {
     "name": "stderr",
     "output_type": "stream",
     "text": [
      "/Users/jakubblaha/Documents/thesis/thesis-python/common.py:114: RuntimeWarning: There were no Annotations stored in <EpochsArray | 1 events (all good), 0 – 7.992 s (baseline off), ~134 kB, data loaded,\n",
      " '1': 1>, so metadata was not modified.\n",
      "  res = mne_connectivity.spectral_connectivity_time(\n"
     ]
    },
    {
     "name": "stdout",
     "output_type": "stream",
     "text": [
      "[ 4  8 10 13 30 45]\n",
      "(6,)\n",
      "[ 4  8 10 13 30 45]\n",
      "(6,)\n",
      "only using indices for lower-triangular matrix\n",
      "Connectivity computation...\n",
      "   Processing epoch 1 / 1 ...\n",
      "[Connectivity computation done]\n",
      "Computing features for trial:  367\n"
     ]
    },
    {
     "name": "stderr",
     "output_type": "stream",
     "text": [
      "/Users/jakubblaha/Documents/thesis/thesis-python/common.py:114: RuntimeWarning: There were no Annotations stored in <EpochsArray | 1 events (all good), 0 – 7.992 s (baseline off), ~134 kB, data loaded,\n",
      " '1': 1>, so metadata was not modified.\n",
      "  res = mne_connectivity.spectral_connectivity_time(\n"
     ]
    },
    {
     "name": "stdout",
     "output_type": "stream",
     "text": [
      "[ 4  8 10 13 30 45]\n",
      "(6,)\n",
      "[ 4  8 10 13 30 45]\n",
      "(6,)\n",
      "only using indices for lower-triangular matrix\n",
      "Connectivity computation...\n",
      "   Processing epoch 1 / 1 ...\n",
      "[Connectivity computation done]\n",
      "Computing features for trial:  368\n"
     ]
    },
    {
     "name": "stderr",
     "output_type": "stream",
     "text": [
      "/Users/jakubblaha/Documents/thesis/thesis-python/common.py:114: RuntimeWarning: There were no Annotations stored in <EpochsArray | 1 events (all good), 0 – 7.992 s (baseline off), ~134 kB, data loaded,\n",
      " '1': 1>, so metadata was not modified.\n",
      "  res = mne_connectivity.spectral_connectivity_time(\n"
     ]
    },
    {
     "name": "stdout",
     "output_type": "stream",
     "text": [
      "[ 4  8 10 13 30 45]\n",
      "(6,)\n",
      "[ 4  8 10 13 30 45]\n",
      "(6,)\n",
      "only using indices for lower-triangular matrix\n",
      "Connectivity computation...\n",
      "   Processing epoch 1 / 1 ...\n",
      "[Connectivity computation done]\n",
      "Computing features for trial:  369\n"
     ]
    },
    {
     "name": "stderr",
     "output_type": "stream",
     "text": [
      "/Users/jakubblaha/Documents/thesis/thesis-python/common.py:114: RuntimeWarning: There were no Annotations stored in <EpochsArray | 1 events (all good), 0 – 7.992 s (baseline off), ~134 kB, data loaded,\n",
      " '1': 1>, so metadata was not modified.\n",
      "  res = mne_connectivity.spectral_connectivity_time(\n"
     ]
    },
    {
     "name": "stdout",
     "output_type": "stream",
     "text": [
      "[ 4  8 10 13 30 45]\n",
      "(6,)\n",
      "[ 4  8 10 13 30 45]\n",
      "(6,)\n",
      "only using indices for lower-triangular matrix\n",
      "Connectivity computation...\n",
      "   Processing epoch 1 / 1 ...\n",
      "[Connectivity computation done]\n"
     ]
    },
    {
     "name": "stderr",
     "output_type": "stream",
     "text": [
      "/Users/jakubblaha/Documents/thesis/thesis-python/common.py:114: RuntimeWarning: There were no Annotations stored in <EpochsArray | 1 events (all good), 0 – 7.992 s (baseline off), ~134 kB, data loaded,\n",
      " '1': 1>, so metadata was not modified.\n",
      "  res = mne_connectivity.spectral_connectivity_time(\n"
     ]
    },
    {
     "name": "stdout",
     "output_type": "stream",
     "text": [
      "Computing features for trial:  370\n",
      "[ 4  8 10 13 30 45]\n",
      "(6,)\n",
      "[ 4  8 10 13 30 45]\n",
      "(6,)\n",
      "only using indices for lower-triangular matrix\n",
      "Connectivity computation...\n",
      "   Processing epoch 1 / 1 ...\n",
      "[Connectivity computation done]\n",
      "Computing features for trial:  371\n"
     ]
    },
    {
     "name": "stderr",
     "output_type": "stream",
     "text": [
      "/Users/jakubblaha/Documents/thesis/thesis-python/common.py:114: RuntimeWarning: There were no Annotations stored in <EpochsArray | 1 events (all good), 0 – 7.992 s (baseline off), ~134 kB, data loaded,\n",
      " '1': 1>, so metadata was not modified.\n",
      "  res = mne_connectivity.spectral_connectivity_time(\n"
     ]
    },
    {
     "name": "stdout",
     "output_type": "stream",
     "text": [
      "[ 4  8 10 13 30 45]\n",
      "(6,)\n",
      "[ 4  8 10 13 30 45]\n",
      "(6,)\n",
      "only using indices for lower-triangular matrix\n",
      "Connectivity computation...\n",
      "   Processing epoch 1 / 1 ...\n",
      "[Connectivity computation done]\n",
      "Computing features for trial:  372\n"
     ]
    },
    {
     "name": "stderr",
     "output_type": "stream",
     "text": [
      "/Users/jakubblaha/Documents/thesis/thesis-python/common.py:114: RuntimeWarning: There were no Annotations stored in <EpochsArray | 1 events (all good), 0 – 7.992 s (baseline off), ~134 kB, data loaded,\n",
      " '1': 1>, so metadata was not modified.\n",
      "  res = mne_connectivity.spectral_connectivity_time(\n"
     ]
    },
    {
     "name": "stdout",
     "output_type": "stream",
     "text": [
      "[ 4  8 10 13 30 45]\n",
      "(6,)\n",
      "[ 4  8 10 13 30 45]\n",
      "(6,)\n",
      "only using indices for lower-triangular matrix\n",
      "Connectivity computation...\n",
      "   Processing epoch 1 / 1 ...\n",
      "[Connectivity computation done]\n",
      "Computing features for trial:  373\n"
     ]
    },
    {
     "name": "stderr",
     "output_type": "stream",
     "text": [
      "/Users/jakubblaha/Documents/thesis/thesis-python/common.py:114: RuntimeWarning: There were no Annotations stored in <EpochsArray | 1 events (all good), 0 – 7.992 s (baseline off), ~134 kB, data loaded,\n",
      " '1': 1>, so metadata was not modified.\n",
      "  res = mne_connectivity.spectral_connectivity_time(\n"
     ]
    },
    {
     "name": "stdout",
     "output_type": "stream",
     "text": [
      "[ 4  8 10 13 30 45]\n",
      "(6,)\n",
      "[ 4  8 10 13 30 45]\n",
      "(6,)\n",
      "only using indices for lower-triangular matrix\n",
      "Connectivity computation...\n",
      "   Processing epoch 1 / 1 ...\n",
      "[Connectivity computation done]\n",
      "Computing features for trial:  374\n"
     ]
    },
    {
     "name": "stderr",
     "output_type": "stream",
     "text": [
      "/Users/jakubblaha/Documents/thesis/thesis-python/common.py:114: RuntimeWarning: There were no Annotations stored in <EpochsArray | 1 events (all good), 0 – 7.992 s (baseline off), ~134 kB, data loaded,\n",
      " '1': 1>, so metadata was not modified.\n",
      "  res = mne_connectivity.spectral_connectivity_time(\n"
     ]
    },
    {
     "name": "stdout",
     "output_type": "stream",
     "text": [
      "[ 4  8 10 13 30 45]\n",
      "(6,)\n",
      "[ 4  8 10 13 30 45]\n",
      "(6,)\n",
      "only using indices for lower-triangular matrix\n",
      "Connectivity computation...\n",
      "   Processing epoch 1 / 1 ...\n",
      "[Connectivity computation done]\n",
      "Computing features for trial:  375\n"
     ]
    },
    {
     "name": "stderr",
     "output_type": "stream",
     "text": [
      "/Users/jakubblaha/Documents/thesis/thesis-python/common.py:114: RuntimeWarning: There were no Annotations stored in <EpochsArray | 1 events (all good), 0 – 7.992 s (baseline off), ~134 kB, data loaded,\n",
      " '1': 1>, so metadata was not modified.\n",
      "  res = mne_connectivity.spectral_connectivity_time(\n"
     ]
    },
    {
     "name": "stdout",
     "output_type": "stream",
     "text": [
      "[ 4  8 10 13 30 45]\n",
      "(6,)\n",
      "[ 4  8 10 13 30 45]\n",
      "(6,)\n",
      "only using indices for lower-triangular matrix\n",
      "Connectivity computation...\n",
      "   Processing epoch 1 / 1 ...\n",
      "[Connectivity computation done]\n",
      "Computing features for trial:  376\n"
     ]
    },
    {
     "name": "stderr",
     "output_type": "stream",
     "text": [
      "/Users/jakubblaha/Documents/thesis/thesis-python/common.py:114: RuntimeWarning: There were no Annotations stored in <EpochsArray | 1 events (all good), 0 – 7.992 s (baseline off), ~134 kB, data loaded,\n",
      " '1': 1>, so metadata was not modified.\n",
      "  res = mne_connectivity.spectral_connectivity_time(\n"
     ]
    },
    {
     "name": "stdout",
     "output_type": "stream",
     "text": [
      "[ 4  8 10 13 30 45]\n",
      "(6,)\n",
      "[ 4  8 10 13 30 45]\n",
      "(6,)\n",
      "only using indices for lower-triangular matrix\n",
      "Connectivity computation...\n",
      "   Processing epoch 1 / 1 ...\n"
     ]
    },
    {
     "name": "stderr",
     "output_type": "stream",
     "text": [
      "/Users/jakubblaha/Documents/thesis/thesis-python/common.py:114: RuntimeWarning: There were no Annotations stored in <EpochsArray | 1 events (all good), 0 – 7.992 s (baseline off), ~134 kB, data loaded,\n",
      " '1': 1>, so metadata was not modified.\n",
      "  res = mne_connectivity.spectral_connectivity_time(\n"
     ]
    },
    {
     "name": "stdout",
     "output_type": "stream",
     "text": [
      "[Connectivity computation done]\n",
      "Computing features for trial:  377\n",
      "[ 4  8 10 13 30 45]\n",
      "(6,)\n",
      "[ 4  8 10 13 30 45]\n",
      "(6,)\n",
      "only using indices for lower-triangular matrix\n",
      "Connectivity computation...\n",
      "   Processing epoch 1 / 1 ...\n",
      "[Connectivity computation done]\n"
     ]
    },
    {
     "name": "stderr",
     "output_type": "stream",
     "text": [
      "/Users/jakubblaha/Documents/thesis/thesis-python/common.py:114: RuntimeWarning: There were no Annotations stored in <EpochsArray | 1 events (all good), 0 – 7.992 s (baseline off), ~134 kB, data loaded,\n",
      " '1': 1>, so metadata was not modified.\n",
      "  res = mne_connectivity.spectral_connectivity_time(\n"
     ]
    },
    {
     "name": "stdout",
     "output_type": "stream",
     "text": [
      "Computing features for trial:  378\n",
      "[ 4  8 10 13 30 45]\n",
      "(6,)\n",
      "[ 4  8 10 13 30 45]\n",
      "(6,)\n",
      "only using indices for lower-triangular matrix\n",
      "Connectivity computation...\n",
      "   Processing epoch 1 / 1 ...\n",
      "[Connectivity computation done]\n",
      "Computing features for trial:  379\n"
     ]
    },
    {
     "name": "stderr",
     "output_type": "stream",
     "text": [
      "/Users/jakubblaha/Documents/thesis/thesis-python/common.py:114: RuntimeWarning: There were no Annotations stored in <EpochsArray | 1 events (all good), 0 – 7.992 s (baseline off), ~134 kB, data loaded,\n",
      " '1': 1>, so metadata was not modified.\n",
      "  res = mne_connectivity.spectral_connectivity_time(\n"
     ]
    },
    {
     "name": "stdout",
     "output_type": "stream",
     "text": [
      "[ 4  8 10 13 30 45]\n",
      "(6,)\n",
      "[ 4  8 10 13 30 45]\n",
      "(6,)\n",
      "only using indices for lower-triangular matrix\n",
      "Connectivity computation...\n",
      "   Processing epoch 1 / 1 ...\n",
      "[Connectivity computation done]\n",
      "Computing features for trial:  380\n"
     ]
    },
    {
     "name": "stderr",
     "output_type": "stream",
     "text": [
      "/Users/jakubblaha/Documents/thesis/thesis-python/common.py:114: RuntimeWarning: There were no Annotations stored in <EpochsArray | 1 events (all good), 0 – 7.992 s (baseline off), ~134 kB, data loaded,\n",
      " '1': 1>, so metadata was not modified.\n",
      "  res = mne_connectivity.spectral_connectivity_time(\n"
     ]
    },
    {
     "name": "stdout",
     "output_type": "stream",
     "text": [
      "[ 4  8 10 13 30 45]\n",
      "(6,)\n",
      "[ 4  8 10 13 30 45]\n",
      "(6,)\n",
      "only using indices for lower-triangular matrix\n",
      "Connectivity computation...\n",
      "   Processing epoch 1 / 1 ...\n",
      "[Connectivity computation done]\n",
      "Computing features for trial:  381\n"
     ]
    },
    {
     "name": "stderr",
     "output_type": "stream",
     "text": [
      "/Users/jakubblaha/Documents/thesis/thesis-python/common.py:114: RuntimeWarning: There were no Annotations stored in <EpochsArray | 1 events (all good), 0 – 7.992 s (baseline off), ~134 kB, data loaded,\n",
      " '1': 1>, so metadata was not modified.\n",
      "  res = mne_connectivity.spectral_connectivity_time(\n"
     ]
    },
    {
     "name": "stdout",
     "output_type": "stream",
     "text": [
      "[ 4  8 10 13 30 45]\n",
      "(6,)\n",
      "[ 4  8 10 13 30 45]\n",
      "(6,)\n",
      "only using indices for lower-triangular matrix\n",
      "Connectivity computation...\n",
      "   Processing epoch 1 / 1 ...\n"
     ]
    },
    {
     "name": "stderr",
     "output_type": "stream",
     "text": [
      "/Users/jakubblaha/Documents/thesis/thesis-python/common.py:114: RuntimeWarning: There were no Annotations stored in <EpochsArray | 1 events (all good), 0 – 7.992 s (baseline off), ~134 kB, data loaded,\n",
      " '1': 1>, so metadata was not modified.\n",
      "  res = mne_connectivity.spectral_connectivity_time(\n"
     ]
    },
    {
     "name": "stdout",
     "output_type": "stream",
     "text": [
      "[Connectivity computation done]\n",
      "Computing features for trial:  382\n",
      "[ 4  8 10 13 30 45]\n",
      "(6,)\n",
      "[ 4  8 10 13 30 45]\n",
      "(6,)\n",
      "only using indices for lower-triangular matrix\n",
      "Connectivity computation...\n",
      "   Processing epoch 1 / 1 ...\n"
     ]
    },
    {
     "name": "stderr",
     "output_type": "stream",
     "text": [
      "/Users/jakubblaha/Documents/thesis/thesis-python/common.py:114: RuntimeWarning: There were no Annotations stored in <EpochsArray | 1 events (all good), 0 – 7.992 s (baseline off), ~134 kB, data loaded,\n",
      " '1': 1>, so metadata was not modified.\n",
      "  res = mne_connectivity.spectral_connectivity_time(\n"
     ]
    },
    {
     "name": "stdout",
     "output_type": "stream",
     "text": [
      "[Connectivity computation done]\n",
      "Computing features for trial:  383\n",
      "[ 4  8 10 13 30 45]\n",
      "(6,)\n",
      "[ 4  8 10 13 30 45]\n",
      "(6,)\n",
      "only using indices for lower-triangular matrix\n",
      "Connectivity computation...\n",
      "   Processing epoch 1 / 1 ...\n",
      "[Connectivity computation done]\n"
     ]
    },
    {
     "name": "stderr",
     "output_type": "stream",
     "text": [
      "/Users/jakubblaha/Documents/thesis/thesis-python/common.py:114: RuntimeWarning: There were no Annotations stored in <EpochsArray | 1 events (all good), 0 – 7.992 s (baseline off), ~134 kB, data loaded,\n",
      " '1': 1>, so metadata was not modified.\n",
      "  res = mne_connectivity.spectral_connectivity_time(\n"
     ]
    },
    {
     "name": "stdout",
     "output_type": "stream",
     "text": [
      "Computing features for trial:  384\n",
      "[ 4  8 10 13 30 45]\n",
      "(6,)\n",
      "[ 4  8 10 13 30 45]\n",
      "(6,)\n",
      "only using indices for lower-triangular matrix\n",
      "Connectivity computation...\n",
      "   Processing epoch 1 / 1 ...\n",
      "[Connectivity computation done]\n",
      "Computing features for trial:  385\n"
     ]
    },
    {
     "name": "stderr",
     "output_type": "stream",
     "text": [
      "/Users/jakubblaha/Documents/thesis/thesis-python/common.py:114: RuntimeWarning: There were no Annotations stored in <EpochsArray | 1 events (all good), 0 – 7.992 s (baseline off), ~134 kB, data loaded,\n",
      " '1': 1>, so metadata was not modified.\n",
      "  res = mne_connectivity.spectral_connectivity_time(\n"
     ]
    },
    {
     "name": "stdout",
     "output_type": "stream",
     "text": [
      "[ 4  8 10 13 30 45]\n",
      "(6,)\n",
      "[ 4  8 10 13 30 45]\n",
      "(6,)\n",
      "only using indices for lower-triangular matrix\n",
      "Connectivity computation...\n",
      "   Processing epoch 1 / 1 ...\n",
      "[Connectivity computation done]\n",
      "Computing features for trial:  386\n"
     ]
    },
    {
     "name": "stderr",
     "output_type": "stream",
     "text": [
      "/Users/jakubblaha/Documents/thesis/thesis-python/common.py:114: RuntimeWarning: There were no Annotations stored in <EpochsArray | 1 events (all good), 0 – 7.992 s (baseline off), ~134 kB, data loaded,\n",
      " '1': 1>, so metadata was not modified.\n",
      "  res = mne_connectivity.spectral_connectivity_time(\n"
     ]
    },
    {
     "name": "stdout",
     "output_type": "stream",
     "text": [
      "[ 4  8 10 13 30 45]\n",
      "(6,)\n",
      "[ 4  8 10 13 30 45]\n",
      "(6,)\n",
      "only using indices for lower-triangular matrix\n",
      "Connectivity computation...\n",
      "   Processing epoch 1 / 1 ...\n",
      "[Connectivity computation done]\n",
      "Computing features for trial:  387\n"
     ]
    },
    {
     "name": "stderr",
     "output_type": "stream",
     "text": [
      "/Users/jakubblaha/Documents/thesis/thesis-python/common.py:114: RuntimeWarning: There were no Annotations stored in <EpochsArray | 1 events (all good), 0 – 7.992 s (baseline off), ~134 kB, data loaded,\n",
      " '1': 1>, so metadata was not modified.\n",
      "  res = mne_connectivity.spectral_connectivity_time(\n"
     ]
    },
    {
     "name": "stdout",
     "output_type": "stream",
     "text": [
      "[ 4  8 10 13 30 45]\n",
      "(6,)\n",
      "[ 4  8 10 13 30 45]\n",
      "(6,)\n",
      "only using indices for lower-triangular matrix\n",
      "Connectivity computation...\n",
      "   Processing epoch 1 / 1 ...\n"
     ]
    },
    {
     "name": "stderr",
     "output_type": "stream",
     "text": [
      "/Users/jakubblaha/Documents/thesis/thesis-python/common.py:114: RuntimeWarning: There were no Annotations stored in <EpochsArray | 1 events (all good), 0 – 7.992 s (baseline off), ~134 kB, data loaded,\n",
      " '1': 1>, so metadata was not modified.\n",
      "  res = mne_connectivity.spectral_connectivity_time(\n"
     ]
    },
    {
     "name": "stdout",
     "output_type": "stream",
     "text": [
      "[Connectivity computation done]\n",
      "Computing features for trial:  388\n",
      "[ 4  8 10 13 30 45]\n",
      "(6,)\n",
      "[ 4  8 10 13 30 45]\n",
      "(6,)\n",
      "only using indices for lower-triangular matrix\n",
      "Connectivity computation...\n",
      "   Processing epoch 1 / 1 ...\n",
      "[Connectivity computation done]\n",
      "Computing features for trial:  389\n",
      "[ 4  8 10 13 30 45]\n",
      "(6,)\n",
      "[ 4  8 10 13 30 45]\n",
      "(6,)\n",
      "only using indices for lower-triangular matrix\n",
      "Connectivity computation...\n",
      "   Processing epoch 1 / 1 ...\n"
     ]
    },
    {
     "name": "stderr",
     "output_type": "stream",
     "text": [
      "/Users/jakubblaha/Documents/thesis/thesis-python/common.py:114: RuntimeWarning: There were no Annotations stored in <EpochsArray | 1 events (all good), 0 – 7.992 s (baseline off), ~134 kB, data loaded,\n",
      " '1': 1>, so metadata was not modified.\n",
      "  res = mne_connectivity.spectral_connectivity_time(\n",
      "/Users/jakubblaha/Documents/thesis/thesis-python/common.py:114: RuntimeWarning: There were no Annotations stored in <EpochsArray | 1 events (all good), 0 – 7.992 s (baseline off), ~134 kB, data loaded,\n",
      " '1': 1>, so metadata was not modified.\n",
      "  res = mne_connectivity.spectral_connectivity_time(\n"
     ]
    },
    {
     "name": "stdout",
     "output_type": "stream",
     "text": [
      "[Connectivity computation done]\n",
      "Computing features for trial:  390\n",
      "[ 4  8 10 13 30 45]\n",
      "(6,)\n",
      "[ 4  8 10 13 30 45]\n",
      "(6,)\n",
      "only using indices for lower-triangular matrix\n",
      "Connectivity computation...\n",
      "   Processing epoch 1 / 1 ...\n",
      "[Connectivity computation done]\n",
      "Computing features for trial:  391\n"
     ]
    },
    {
     "name": "stderr",
     "output_type": "stream",
     "text": [
      "/Users/jakubblaha/Documents/thesis/thesis-python/common.py:114: RuntimeWarning: There were no Annotations stored in <EpochsArray | 1 events (all good), 0 – 7.992 s (baseline off), ~134 kB, data loaded,\n",
      " '1': 1>, so metadata was not modified.\n",
      "  res = mne_connectivity.spectral_connectivity_time(\n"
     ]
    },
    {
     "name": "stdout",
     "output_type": "stream",
     "text": [
      "[ 4  8 10 13 30 45]\n",
      "(6,)\n",
      "[ 4  8 10 13 30 45]\n",
      "(6,)\n",
      "only using indices for lower-triangular matrix\n",
      "Connectivity computation...\n",
      "   Processing epoch 1 / 1 ...\n",
      "[Connectivity computation done]\n",
      "Computing features for trial:  392\n"
     ]
    },
    {
     "name": "stderr",
     "output_type": "stream",
     "text": [
      "/Users/jakubblaha/Documents/thesis/thesis-python/common.py:114: RuntimeWarning: There were no Annotations stored in <EpochsArray | 1 events (all good), 0 – 7.992 s (baseline off), ~134 kB, data loaded,\n",
      " '1': 1>, so metadata was not modified.\n",
      "  res = mne_connectivity.spectral_connectivity_time(\n"
     ]
    },
    {
     "name": "stdout",
     "output_type": "stream",
     "text": [
      "[ 4  8 10 13 30 45]\n",
      "(6,)\n",
      "[ 4  8 10 13 30 45]\n",
      "(6,)\n",
      "only using indices for lower-triangular matrix\n",
      "Connectivity computation...\n",
      "   Processing epoch 1 / 1 ...\n",
      "[Connectivity computation done]\n",
      "Computing features for trial:  393\n"
     ]
    },
    {
     "name": "stderr",
     "output_type": "stream",
     "text": [
      "/Users/jakubblaha/Documents/thesis/thesis-python/common.py:114: RuntimeWarning: There were no Annotations stored in <EpochsArray | 1 events (all good), 0 – 7.992 s (baseline off), ~134 kB, data loaded,\n",
      " '1': 1>, so metadata was not modified.\n",
      "  res = mne_connectivity.spectral_connectivity_time(\n"
     ]
    },
    {
     "name": "stdout",
     "output_type": "stream",
     "text": [
      "[ 4  8 10 13 30 45]\n",
      "(6,)\n",
      "[ 4  8 10 13 30 45]\n",
      "(6,)\n",
      "only using indices for lower-triangular matrix\n",
      "Connectivity computation...\n",
      "   Processing epoch 1 / 1 ...\n"
     ]
    },
    {
     "name": "stderr",
     "output_type": "stream",
     "text": [
      "/Users/jakubblaha/Documents/thesis/thesis-python/common.py:114: RuntimeWarning: There were no Annotations stored in <EpochsArray | 1 events (all good), 0 – 7.992 s (baseline off), ~134 kB, data loaded,\n",
      " '1': 1>, so metadata was not modified.\n",
      "  res = mne_connectivity.spectral_connectivity_time(\n"
     ]
    },
    {
     "name": "stdout",
     "output_type": "stream",
     "text": [
      "[Connectivity computation done]\n",
      "Computing features for trial:  394\n",
      "[ 4  8 10 13 30 45]\n",
      "(6,)\n",
      "[ 4  8 10 13 30 45]\n",
      "(6,)\n",
      "only using indices for lower-triangular matrix\n",
      "Connectivity computation...\n",
      "   Processing epoch 1 / 1 ...\n",
      "[Connectivity computation done]\n"
     ]
    },
    {
     "name": "stderr",
     "output_type": "stream",
     "text": [
      "/Users/jakubblaha/Documents/thesis/thesis-python/common.py:114: RuntimeWarning: There were no Annotations stored in <EpochsArray | 1 events (all good), 0 – 7.992 s (baseline off), ~134 kB, data loaded,\n",
      " '1': 1>, so metadata was not modified.\n",
      "  res = mne_connectivity.spectral_connectivity_time(\n"
     ]
    },
    {
     "name": "stdout",
     "output_type": "stream",
     "text": [
      "Computing features for trial:  395\n",
      "[ 4  8 10 13 30 45]\n",
      "(6,)\n",
      "[ 4  8 10 13 30 45]\n",
      "(6,)\n",
      "only using indices for lower-triangular matrix\n",
      "Connectivity computation...\n",
      "   Processing epoch 1 / 1 ...\n",
      "[Connectivity computation done]\n",
      "Computing features for trial:  396\n"
     ]
    },
    {
     "name": "stderr",
     "output_type": "stream",
     "text": [
      "/Users/jakubblaha/Documents/thesis/thesis-python/common.py:114: RuntimeWarning: There were no Annotations stored in <EpochsArray | 1 events (all good), 0 – 7.992 s (baseline off), ~134 kB, data loaded,\n",
      " '1': 1>, so metadata was not modified.\n",
      "  res = mne_connectivity.spectral_connectivity_time(\n"
     ]
    },
    {
     "name": "stdout",
     "output_type": "stream",
     "text": [
      "[ 4  8 10 13 30 45]\n",
      "(6,)\n",
      "[ 4  8 10 13 30 45]\n",
      "(6,)\n",
      "only using indices for lower-triangular matrix\n",
      "Connectivity computation...\n",
      "   Processing epoch 1 / 1 ...\n",
      "[Connectivity computation done]\n",
      "Computing features for trial:  397\n"
     ]
    },
    {
     "name": "stderr",
     "output_type": "stream",
     "text": [
      "/Users/jakubblaha/Documents/thesis/thesis-python/common.py:114: RuntimeWarning: There were no Annotations stored in <EpochsArray | 1 events (all good), 0 – 7.992 s (baseline off), ~134 kB, data loaded,\n",
      " '1': 1>, so metadata was not modified.\n",
      "  res = mne_connectivity.spectral_connectivity_time(\n"
     ]
    },
    {
     "name": "stdout",
     "output_type": "stream",
     "text": [
      "[ 4  8 10 13 30 45]\n",
      "(6,)\n",
      "[ 4  8 10 13 30 45]\n",
      "(6,)\n",
      "only using indices for lower-triangular matrix\n",
      "Connectivity computation...\n",
      "   Processing epoch 1 / 1 ...\n",
      "[Connectivity computation done]\n",
      "Computing features for trial:  398\n"
     ]
    },
    {
     "name": "stderr",
     "output_type": "stream",
     "text": [
      "/Users/jakubblaha/Documents/thesis/thesis-python/common.py:114: RuntimeWarning: There were no Annotations stored in <EpochsArray | 1 events (all good), 0 – 7.992 s (baseline off), ~134 kB, data loaded,\n",
      " '1': 1>, so metadata was not modified.\n",
      "  res = mne_connectivity.spectral_connectivity_time(\n"
     ]
    },
    {
     "name": "stdout",
     "output_type": "stream",
     "text": [
      "[ 4  8 10 13 30 45]\n",
      "(6,)\n",
      "[ 4  8 10 13 30 45]\n",
      "(6,)\n",
      "only using indices for lower-triangular matrix\n",
      "Connectivity computation...\n",
      "   Processing epoch 1 / 1 ...\n",
      "[Connectivity computation done]\n",
      "Computing features for trial:  399\n"
     ]
    },
    {
     "name": "stderr",
     "output_type": "stream",
     "text": [
      "/Users/jakubblaha/Documents/thesis/thesis-python/common.py:114: RuntimeWarning: There were no Annotations stored in <EpochsArray | 1 events (all good), 0 – 7.992 s (baseline off), ~134 kB, data loaded,\n",
      " '1': 1>, so metadata was not modified.\n",
      "  res = mne_connectivity.spectral_connectivity_time(\n"
     ]
    },
    {
     "name": "stdout",
     "output_type": "stream",
     "text": [
      "[ 4  8 10 13 30 45]\n",
      "(6,)\n",
      "[ 4  8 10 13 30 45]\n",
      "(6,)\n",
      "only using indices for lower-triangular matrix\n",
      "Connectivity computation...\n",
      "   Processing epoch 1 / 1 ...\n",
      "[Connectivity computation done]\n",
      "Computing features for trial:  400\n"
     ]
    },
    {
     "name": "stderr",
     "output_type": "stream",
     "text": [
      "/Users/jakubblaha/Documents/thesis/thesis-python/common.py:114: RuntimeWarning: There were no Annotations stored in <EpochsArray | 1 events (all good), 0 – 7.992 s (baseline off), ~134 kB, data loaded,\n",
      " '1': 1>, so metadata was not modified.\n",
      "  res = mne_connectivity.spectral_connectivity_time(\n"
     ]
    },
    {
     "name": "stdout",
     "output_type": "stream",
     "text": [
      "[ 4  8 10 13 30 45]\n",
      "(6,)\n",
      "[ 4  8 10 13 30 45]\n",
      "(6,)\n",
      "only using indices for lower-triangular matrix\n",
      "Connectivity computation...\n",
      "   Processing epoch 1 / 1 ...\n",
      "[Connectivity computation done]\n",
      "Computing features for trial:  401\n",
      "[ 4  8 10 13 30 45]\n",
      "(6,)\n",
      "[ 4  8 10 13 30 45]\n",
      "(6,)\n",
      "only using indices for lower-triangular matrix\n"
     ]
    },
    {
     "name": "stderr",
     "output_type": "stream",
     "text": [
      "/Users/jakubblaha/Documents/thesis/thesis-python/common.py:114: RuntimeWarning: There were no Annotations stored in <EpochsArray | 1 events (all good), 0 – 7.992 s (baseline off), ~134 kB, data loaded,\n",
      " '1': 1>, so metadata was not modified.\n",
      "  res = mne_connectivity.spectral_connectivity_time(\n",
      "/Users/jakubblaha/Documents/thesis/thesis-python/common.py:114: RuntimeWarning: There were no Annotations stored in <EpochsArray | 1 events (all good), 0 – 7.992 s (baseline off), ~134 kB, data loaded,\n",
      " '1': 1>, so metadata was not modified.\n",
      "  res = mne_connectivity.spectral_connectivity_time(\n"
     ]
    },
    {
     "name": "stdout",
     "output_type": "stream",
     "text": [
      "Connectivity computation...\n",
      "   Processing epoch 1 / 1 ...\n",
      "[Connectivity computation done]\n",
      "Computing features for trial:  402\n",
      "[ 4  8 10 13 30 45]\n",
      "(6,)\n",
      "[ 4  8 10 13 30 45]\n",
      "(6,)\n",
      "only using indices for lower-triangular matrix\n",
      "Connectivity computation...\n",
      "   Processing epoch 1 / 1 ...\n",
      "[Connectivity computation done]\n",
      "Computing features for trial:  403\n"
     ]
    },
    {
     "name": "stderr",
     "output_type": "stream",
     "text": [
      "/Users/jakubblaha/Documents/thesis/thesis-python/common.py:114: RuntimeWarning: There were no Annotations stored in <EpochsArray | 1 events (all good), 0 – 7.992 s (baseline off), ~134 kB, data loaded,\n",
      " '1': 1>, so metadata was not modified.\n",
      "  res = mne_connectivity.spectral_connectivity_time(\n"
     ]
    },
    {
     "name": "stdout",
     "output_type": "stream",
     "text": [
      "[ 4  8 10 13 30 45]\n",
      "(6,)\n",
      "[ 4  8 10 13 30 45]\n",
      "(6,)\n",
      "only using indices for lower-triangular matrix\n",
      "Connectivity computation...\n",
      "   Processing epoch 1 / 1 ...\n",
      "[Connectivity computation done]\n",
      "Computing features for trial:  404\n"
     ]
    },
    {
     "name": "stderr",
     "output_type": "stream",
     "text": [
      "/Users/jakubblaha/Documents/thesis/thesis-python/common.py:114: RuntimeWarning: There were no Annotations stored in <EpochsArray | 1 events (all good), 0 – 7.992 s (baseline off), ~134 kB, data loaded,\n",
      " '1': 1>, so metadata was not modified.\n",
      "  res = mne_connectivity.spectral_connectivity_time(\n"
     ]
    },
    {
     "name": "stdout",
     "output_type": "stream",
     "text": [
      "[ 4  8 10 13 30 45]\n",
      "(6,)\n",
      "[ 4  8 10 13 30 45]\n",
      "(6,)\n",
      "only using indices for lower-triangular matrix\n",
      "Connectivity computation...\n",
      "   Processing epoch 1 / 1 ...\n",
      "[Connectivity computation done]\n",
      "Computing features for trial:  405\n"
     ]
    },
    {
     "name": "stderr",
     "output_type": "stream",
     "text": [
      "/Users/jakubblaha/Documents/thesis/thesis-python/common.py:114: RuntimeWarning: There were no Annotations stored in <EpochsArray | 1 events (all good), 0 – 7.992 s (baseline off), ~134 kB, data loaded,\n",
      " '1': 1>, so metadata was not modified.\n",
      "  res = mne_connectivity.spectral_connectivity_time(\n"
     ]
    },
    {
     "name": "stdout",
     "output_type": "stream",
     "text": [
      "[ 4  8 10 13 30 45]\n",
      "(6,)\n",
      "[ 4  8 10 13 30 45]\n",
      "(6,)\n",
      "only using indices for lower-triangular matrix\n",
      "Connectivity computation...\n",
      "   Processing epoch 1 / 1 ...\n",
      "[Connectivity computation done]\n",
      "Computing features for trial:  406\n"
     ]
    },
    {
     "name": "stderr",
     "output_type": "stream",
     "text": [
      "/Users/jakubblaha/Documents/thesis/thesis-python/common.py:114: RuntimeWarning: There were no Annotations stored in <EpochsArray | 1 events (all good), 0 – 7.992 s (baseline off), ~134 kB, data loaded,\n",
      " '1': 1>, so metadata was not modified.\n",
      "  res = mne_connectivity.spectral_connectivity_time(\n"
     ]
    },
    {
     "name": "stdout",
     "output_type": "stream",
     "text": [
      "[ 4  8 10 13 30 45]\n",
      "(6,)\n",
      "[ 4  8 10 13 30 45]\n",
      "(6,)\n",
      "only using indices for lower-triangular matrix\n",
      "Connectivity computation...\n",
      "   Processing epoch 1 / 1 ...\n",
      "[Connectivity computation done]\n",
      "Computing features for trial:  407\n"
     ]
    },
    {
     "name": "stderr",
     "output_type": "stream",
     "text": [
      "/Users/jakubblaha/Documents/thesis/thesis-python/common.py:114: RuntimeWarning: There were no Annotations stored in <EpochsArray | 1 events (all good), 0 – 7.992 s (baseline off), ~134 kB, data loaded,\n",
      " '1': 1>, so metadata was not modified.\n",
      "  res = mne_connectivity.spectral_connectivity_time(\n"
     ]
    },
    {
     "name": "stdout",
     "output_type": "stream",
     "text": [
      "[ 4  8 10 13 30 45]\n",
      "(6,)\n",
      "[ 4  8 10 13 30 45]\n",
      "(6,)\n",
      "only using indices for lower-triangular matrix\n",
      "Connectivity computation...\n",
      "   Processing epoch 1 / 1 ...\n",
      "[Connectivity computation done]\n",
      "Computing features for trial:  408\n"
     ]
    },
    {
     "name": "stderr",
     "output_type": "stream",
     "text": [
      "/Users/jakubblaha/Documents/thesis/thesis-python/common.py:114: RuntimeWarning: There were no Annotations stored in <EpochsArray | 1 events (all good), 0 – 7.992 s (baseline off), ~134 kB, data loaded,\n",
      " '1': 1>, so metadata was not modified.\n",
      "  res = mne_connectivity.spectral_connectivity_time(\n"
     ]
    },
    {
     "name": "stdout",
     "output_type": "stream",
     "text": [
      "[ 4  8 10 13 30 45]\n",
      "(6,)\n",
      "[ 4  8 10 13 30 45]\n",
      "(6,)\n",
      "only using indices for lower-triangular matrix\n",
      "Connectivity computation...\n",
      "   Processing epoch 1 / 1 ...\n",
      "[Connectivity computation done]\n",
      "Computing features for trial:  409\n",
      "[ 4  8 10 13 30 45]\n",
      "(6,)\n"
     ]
    },
    {
     "name": "stderr",
     "output_type": "stream",
     "text": [
      "/Users/jakubblaha/Documents/thesis/thesis-python/common.py:114: RuntimeWarning: There were no Annotations stored in <EpochsArray | 1 events (all good), 0 – 7.992 s (baseline off), ~134 kB, data loaded,\n",
      " '1': 1>, so metadata was not modified.\n",
      "  res = mne_connectivity.spectral_connectivity_time(\n"
     ]
    },
    {
     "name": "stdout",
     "output_type": "stream",
     "text": [
      "[ 4  8 10 13 30 45]\n",
      "(6,)\n",
      "only using indices for lower-triangular matrix\n",
      "Connectivity computation...\n",
      "   Processing epoch 1 / 1 ...\n",
      "[Connectivity computation done]\n",
      "Computing features for trial:  410\n"
     ]
    },
    {
     "name": "stderr",
     "output_type": "stream",
     "text": [
      "/Users/jakubblaha/Documents/thesis/thesis-python/common.py:114: RuntimeWarning: There were no Annotations stored in <EpochsArray | 1 events (all good), 0 – 7.992 s (baseline off), ~134 kB, data loaded,\n",
      " '1': 1>, so metadata was not modified.\n",
      "  res = mne_connectivity.spectral_connectivity_time(\n"
     ]
    },
    {
     "name": "stdout",
     "output_type": "stream",
     "text": [
      "[ 4  8 10 13 30 45]\n",
      "(6,)\n",
      "[ 4  8 10 13 30 45]\n",
      "(6,)\n",
      "only using indices for lower-triangular matrix\n",
      "Connectivity computation...\n",
      "   Processing epoch 1 / 1 ...\n"
     ]
    },
    {
     "name": "stderr",
     "output_type": "stream",
     "text": [
      "/Users/jakubblaha/Documents/thesis/thesis-python/common.py:114: RuntimeWarning: There were no Annotations stored in <EpochsArray | 1 events (all good), 0 – 7.992 s (baseline off), ~134 kB, data loaded,\n",
      " '1': 1>, so metadata was not modified.\n",
      "  res = mne_connectivity.spectral_connectivity_time(\n"
     ]
    },
    {
     "name": "stdout",
     "output_type": "stream",
     "text": [
      "[Connectivity computation done]\n",
      "Computing features for trial:  411\n",
      "[ 4  8 10 13 30 45]\n",
      "(6,)\n",
      "[ 4  8 10 13 30 45]\n",
      "(6,)\n",
      "only using indices for lower-triangular matrix\n",
      "Connectivity computation...\n",
      "   Processing epoch 1 / 1 ...\n",
      "[Connectivity computation done]\n"
     ]
    },
    {
     "name": "stderr",
     "output_type": "stream",
     "text": [
      "/Users/jakubblaha/Documents/thesis/thesis-python/common.py:114: RuntimeWarning: There were no Annotations stored in <EpochsArray | 1 events (all good), 0 – 7.992 s (baseline off), ~134 kB, data loaded,\n",
      " '1': 1>, so metadata was not modified.\n",
      "  res = mne_connectivity.spectral_connectivity_time(\n"
     ]
    },
    {
     "name": "stdout",
     "output_type": "stream",
     "text": [
      "Computing features for trial:  412\n",
      "[ 4  8 10 13 30 45]\n",
      "(6,)\n",
      "[ 4  8 10 13 30 45]\n",
      "(6,)\n",
      "only using indices for lower-triangular matrix\n",
      "Connectivity computation...\n",
      "   Processing epoch 1 / 1 ...\n",
      "[Connectivity computation done]\n",
      "Computing features for trial:  413\n"
     ]
    },
    {
     "name": "stderr",
     "output_type": "stream",
     "text": [
      "/Users/jakubblaha/Documents/thesis/thesis-python/common.py:114: RuntimeWarning: There were no Annotations stored in <EpochsArray | 1 events (all good), 0 – 7.992 s (baseline off), ~134 kB, data loaded,\n",
      " '1': 1>, so metadata was not modified.\n",
      "  res = mne_connectivity.spectral_connectivity_time(\n"
     ]
    },
    {
     "name": "stdout",
     "output_type": "stream",
     "text": [
      "[ 4  8 10 13 30 45]\n",
      "(6,)\n",
      "[ 4  8 10 13 30 45]\n",
      "(6,)\n",
      "only using indices for lower-triangular matrix\n",
      "Connectivity computation...\n",
      "   Processing epoch 1 / 1 ...\n",
      "[Connectivity computation done]\n",
      "Computing features for trial:  414\n"
     ]
    },
    {
     "name": "stderr",
     "output_type": "stream",
     "text": [
      "/Users/jakubblaha/Documents/thesis/thesis-python/common.py:114: RuntimeWarning: There were no Annotations stored in <EpochsArray | 1 events (all good), 0 – 7.992 s (baseline off), ~134 kB, data loaded,\n",
      " '1': 1>, so metadata was not modified.\n",
      "  res = mne_connectivity.spectral_connectivity_time(\n"
     ]
    },
    {
     "name": "stdout",
     "output_type": "stream",
     "text": [
      "[ 4  8 10 13 30 45]\n",
      "(6,)\n",
      "[ 4  8 10 13 30 45]\n",
      "(6,)\n",
      "only using indices for lower-triangular matrix\n",
      "Connectivity computation...\n",
      "   Processing epoch 1 / 1 ...\n",
      "[Connectivity computation done]\n",
      "Computing features for trial:  415\n"
     ]
    },
    {
     "name": "stderr",
     "output_type": "stream",
     "text": [
      "/Users/jakubblaha/Documents/thesis/thesis-python/common.py:114: RuntimeWarning: There were no Annotations stored in <EpochsArray | 1 events (all good), 0 – 7.992 s (baseline off), ~134 kB, data loaded,\n",
      " '1': 1>, so metadata was not modified.\n",
      "  res = mne_connectivity.spectral_connectivity_time(\n"
     ]
    },
    {
     "name": "stdout",
     "output_type": "stream",
     "text": [
      "[ 4  8 10 13 30 45]\n",
      "(6,)\n",
      "[ 4  8 10 13 30 45]\n",
      "(6,)\n",
      "only using indices for lower-triangular matrix\n",
      "Connectivity computation...\n",
      "   Processing epoch 1 / 1 ...\n",
      "[Connectivity computation done]\n",
      "Computing features for trial:  416\n"
     ]
    },
    {
     "name": "stderr",
     "output_type": "stream",
     "text": [
      "/Users/jakubblaha/Documents/thesis/thesis-python/common.py:114: RuntimeWarning: There were no Annotations stored in <EpochsArray | 1 events (all good), 0 – 7.992 s (baseline off), ~134 kB, data loaded,\n",
      " '1': 1>, so metadata was not modified.\n",
      "  res = mne_connectivity.spectral_connectivity_time(\n"
     ]
    },
    {
     "name": "stdout",
     "output_type": "stream",
     "text": [
      "[ 4  8 10 13 30 45]\n",
      "(6,)\n",
      "[ 4  8 10 13 30 45]\n",
      "(6,)\n",
      "only using indices for lower-triangular matrix\n",
      "Connectivity computation...\n",
      "   Processing epoch 1 / 1 ...\n",
      "[Connectivity computation done]\n",
      "Computing features for trial:  417\n"
     ]
    },
    {
     "name": "stderr",
     "output_type": "stream",
     "text": [
      "/Users/jakubblaha/Documents/thesis/thesis-python/common.py:114: RuntimeWarning: There were no Annotations stored in <EpochsArray | 1 events (all good), 0 – 7.992 s (baseline off), ~134 kB, data loaded,\n",
      " '1': 1>, so metadata was not modified.\n",
      "  res = mne_connectivity.spectral_connectivity_time(\n"
     ]
    },
    {
     "name": "stdout",
     "output_type": "stream",
     "text": [
      "[ 4  8 10 13 30 45]\n",
      "(6,)\n",
      "[ 4  8 10 13 30 45]\n",
      "(6,)\n",
      "only using indices for lower-triangular matrix\n",
      "Connectivity computation...\n",
      "   Processing epoch 1 / 1 ...\n",
      "[Connectivity computation done]\n",
      "Computing features for trial:  418\n"
     ]
    },
    {
     "name": "stderr",
     "output_type": "stream",
     "text": [
      "/Users/jakubblaha/Documents/thesis/thesis-python/common.py:114: RuntimeWarning: There were no Annotations stored in <EpochsArray | 1 events (all good), 0 – 7.992 s (baseline off), ~134 kB, data loaded,\n",
      " '1': 1>, so metadata was not modified.\n",
      "  res = mne_connectivity.spectral_connectivity_time(\n"
     ]
    },
    {
     "name": "stdout",
     "output_type": "stream",
     "text": [
      "[ 4  8 10 13 30 45]\n",
      "(6,)\n",
      "[ 4  8 10 13 30 45]\n",
      "(6,)\n",
      "only using indices for lower-triangular matrix\n",
      "Connectivity computation...\n",
      "   Processing epoch 1 / 1 ...\n",
      "[Connectivity computation done]\n",
      "Computing features for trial:  419\n"
     ]
    },
    {
     "name": "stderr",
     "output_type": "stream",
     "text": [
      "/Users/jakubblaha/Documents/thesis/thesis-python/common.py:114: RuntimeWarning: There were no Annotations stored in <EpochsArray | 1 events (all good), 0 – 7.992 s (baseline off), ~134 kB, data loaded,\n",
      " '1': 1>, so metadata was not modified.\n",
      "  res = mne_connectivity.spectral_connectivity_time(\n"
     ]
    },
    {
     "name": "stdout",
     "output_type": "stream",
     "text": [
      "[ 4  8 10 13 30 45]\n",
      "(6,)\n",
      "[ 4  8 10 13 30 45]\n",
      "(6,)\n",
      "only using indices for lower-triangular matrix\n",
      "Connectivity computation...\n",
      "   Processing epoch 1 / 1 ...\n",
      "[Connectivity computation done]\n",
      "Computing features for trial:  420\n"
     ]
    },
    {
     "name": "stderr",
     "output_type": "stream",
     "text": [
      "/Users/jakubblaha/Documents/thesis/thesis-python/common.py:114: RuntimeWarning: There were no Annotations stored in <EpochsArray | 1 events (all good), 0 – 7.992 s (baseline off), ~134 kB, data loaded,\n",
      " '1': 1>, so metadata was not modified.\n",
      "  res = mne_connectivity.spectral_connectivity_time(\n"
     ]
    },
    {
     "name": "stdout",
     "output_type": "stream",
     "text": [
      "[ 4  8 10 13 30 45]\n",
      "(6,)\n",
      "[ 4  8 10 13 30 45]\n",
      "(6,)\n",
      "only using indices for lower-triangular matrix\n",
      "Connectivity computation...\n",
      "   Processing epoch 1 / 1 ...\n",
      "[Connectivity computation done]\n",
      "Computing features for trial:  421\n"
     ]
    },
    {
     "name": "stderr",
     "output_type": "stream",
     "text": [
      "/Users/jakubblaha/Documents/thesis/thesis-python/common.py:114: RuntimeWarning: There were no Annotations stored in <EpochsArray | 1 events (all good), 0 – 7.992 s (baseline off), ~134 kB, data loaded,\n",
      " '1': 1>, so metadata was not modified.\n",
      "  res = mne_connectivity.spectral_connectivity_time(\n"
     ]
    },
    {
     "name": "stdout",
     "output_type": "stream",
     "text": [
      "[ 4  8 10 13 30 45]\n",
      "(6,)\n",
      "[ 4  8 10 13 30 45]\n",
      "(6,)\n",
      "only using indices for lower-triangular matrix\n",
      "Connectivity computation...\n",
      "   Processing epoch 1 / 1 ...\n",
      "[Connectivity computation done]\n",
      "Computing features for trial:  422\n"
     ]
    },
    {
     "name": "stderr",
     "output_type": "stream",
     "text": [
      "/Users/jakubblaha/Documents/thesis/thesis-python/common.py:114: RuntimeWarning: There were no Annotations stored in <EpochsArray | 1 events (all good), 0 – 7.992 s (baseline off), ~134 kB, data loaded,\n",
      " '1': 1>, so metadata was not modified.\n",
      "  res = mne_connectivity.spectral_connectivity_time(\n"
     ]
    },
    {
     "name": "stdout",
     "output_type": "stream",
     "text": [
      "[ 4  8 10 13 30 45]\n",
      "(6,)\n",
      "[ 4  8 10 13 30 45]\n",
      "(6,)\n",
      "only using indices for lower-triangular matrix\n",
      "Connectivity computation...\n",
      "   Processing epoch 1 / 1 ...\n",
      "[Connectivity computation done]\n",
      "Computing features for trial:  423\n"
     ]
    },
    {
     "name": "stderr",
     "output_type": "stream",
     "text": [
      "/Users/jakubblaha/Documents/thesis/thesis-python/common.py:114: RuntimeWarning: There were no Annotations stored in <EpochsArray | 1 events (all good), 0 – 7.992 s (baseline off), ~134 kB, data loaded,\n",
      " '1': 1>, so metadata was not modified.\n",
      "  res = mne_connectivity.spectral_connectivity_time(\n"
     ]
    },
    {
     "name": "stdout",
     "output_type": "stream",
     "text": [
      "[ 4  8 10 13 30 45]\n",
      "(6,)\n",
      "[ 4  8 10 13 30 45]\n",
      "(6,)\n",
      "only using indices for lower-triangular matrix\n",
      "Connectivity computation...\n",
      "   Processing epoch 1 / 1 ...\n"
     ]
    },
    {
     "name": "stderr",
     "output_type": "stream",
     "text": [
      "/Users/jakubblaha/Documents/thesis/thesis-python/common.py:114: RuntimeWarning: There were no Annotations stored in <EpochsArray | 1 events (all good), 0 – 7.992 s (baseline off), ~134 kB, data loaded,\n",
      " '1': 1>, so metadata was not modified.\n",
      "  res = mne_connectivity.spectral_connectivity_time(\n"
     ]
    },
    {
     "name": "stdout",
     "output_type": "stream",
     "text": [
      "[Connectivity computation done]\n",
      "Computing features for trial:  424\n",
      "[ 4  8 10 13 30 45]\n",
      "(6,)\n",
      "[ 4  8 10 13 30 45]\n",
      "(6,)\n",
      "only using indices for lower-triangular matrix\n",
      "Connectivity computation...\n",
      "   Processing epoch 1 / 1 ...\n"
     ]
    },
    {
     "name": "stderr",
     "output_type": "stream",
     "text": [
      "/Users/jakubblaha/Documents/thesis/thesis-python/common.py:114: RuntimeWarning: There were no Annotations stored in <EpochsArray | 1 events (all good), 0 – 7.992 s (baseline off), ~134 kB, data loaded,\n",
      " '1': 1>, so metadata was not modified.\n",
      "  res = mne_connectivity.spectral_connectivity_time(\n"
     ]
    },
    {
     "name": "stdout",
     "output_type": "stream",
     "text": [
      "[Connectivity computation done]\n",
      "Computing features for trial:  425\n",
      "[ 4  8 10 13 30 45]\n",
      "(6,)\n",
      "[ 4  8 10 13 30 45]\n",
      "(6,)\n",
      "only using indices for lower-triangular matrix\n",
      "Connectivity computation...\n",
      "   Processing epoch 1 / 1 ...\n"
     ]
    },
    {
     "name": "stderr",
     "output_type": "stream",
     "text": [
      "/Users/jakubblaha/Documents/thesis/thesis-python/common.py:114: RuntimeWarning: There were no Annotations stored in <EpochsArray | 1 events (all good), 0 – 7.992 s (baseline off), ~134 kB, data loaded,\n",
      " '1': 1>, so metadata was not modified.\n",
      "  res = mne_connectivity.spectral_connectivity_time(\n"
     ]
    },
    {
     "name": "stdout",
     "output_type": "stream",
     "text": [
      "[Connectivity computation done]\n",
      "Computing features for trial:  426\n",
      "[ 4  8 10 13 30 45]\n",
      "(6,)\n",
      "[ 4  8 10 13 30 45]\n",
      "(6,)\n",
      "only using indices for lower-triangular matrix\n",
      "Connectivity computation...\n",
      "   Processing epoch 1 / 1 ...\n",
      "[Connectivity computation done]\n"
     ]
    },
    {
     "name": "stderr",
     "output_type": "stream",
     "text": [
      "/Users/jakubblaha/Documents/thesis/thesis-python/common.py:114: RuntimeWarning: There were no Annotations stored in <EpochsArray | 1 events (all good), 0 – 7.992 s (baseline off), ~134 kB, data loaded,\n",
      " '1': 1>, so metadata was not modified.\n",
      "  res = mne_connectivity.spectral_connectivity_time(\n"
     ]
    },
    {
     "name": "stdout",
     "output_type": "stream",
     "text": [
      "Computing features for trial:  427\n",
      "[ 4  8 10 13 30 45]\n",
      "(6,)\n",
      "[ 4  8 10 13 30 45]\n",
      "(6,)\n",
      "only using indices for lower-triangular matrix\n",
      "Connectivity computation...\n",
      "   Processing epoch 1 / 1 ...\n",
      "[Connectivity computation done]\n",
      "Computing features for trial:  428\n"
     ]
    },
    {
     "name": "stderr",
     "output_type": "stream",
     "text": [
      "/Users/jakubblaha/Documents/thesis/thesis-python/common.py:114: RuntimeWarning: There were no Annotations stored in <EpochsArray | 1 events (all good), 0 – 7.992 s (baseline off), ~134 kB, data loaded,\n",
      " '1': 1>, so metadata was not modified.\n",
      "  res = mne_connectivity.spectral_connectivity_time(\n"
     ]
    },
    {
     "name": "stdout",
     "output_type": "stream",
     "text": [
      "[ 4  8 10 13 30 45]\n",
      "(6,)\n",
      "[ 4  8 10 13 30 45]\n",
      "(6,)\n",
      "only using indices for lower-triangular matrix\n",
      "Connectivity computation...\n",
      "   Processing epoch 1 / 1 ...\n",
      "[Connectivity computation done]\n",
      "Computing features for trial:  429\n"
     ]
    },
    {
     "name": "stderr",
     "output_type": "stream",
     "text": [
      "/Users/jakubblaha/Documents/thesis/thesis-python/common.py:114: RuntimeWarning: There were no Annotations stored in <EpochsArray | 1 events (all good), 0 – 7.992 s (baseline off), ~134 kB, data loaded,\n",
      " '1': 1>, so metadata was not modified.\n",
      "  res = mne_connectivity.spectral_connectivity_time(\n"
     ]
    },
    {
     "name": "stdout",
     "output_type": "stream",
     "text": [
      "[ 4  8 10 13 30 45]\n",
      "(6,)\n",
      "[ 4  8 10 13 30 45]\n",
      "(6,)\n",
      "only using indices for lower-triangular matrix\n",
      "Connectivity computation...\n",
      "   Processing epoch 1 / 1 ...\n",
      "[Connectivity computation done]\n",
      "Computing features for trial:  430\n"
     ]
    },
    {
     "name": "stderr",
     "output_type": "stream",
     "text": [
      "/Users/jakubblaha/Documents/thesis/thesis-python/common.py:114: RuntimeWarning: There were no Annotations stored in <EpochsArray | 1 events (all good), 0 – 7.992 s (baseline off), ~134 kB, data loaded,\n",
      " '1': 1>, so metadata was not modified.\n",
      "  res = mne_connectivity.spectral_connectivity_time(\n"
     ]
    },
    {
     "name": "stdout",
     "output_type": "stream",
     "text": [
      "[ 4  8 10 13 30 45]\n",
      "(6,)\n",
      "[ 4  8 10 13 30 45]\n",
      "(6,)\n",
      "only using indices for lower-triangular matrix\n",
      "Connectivity computation...\n",
      "   Processing epoch 1 / 1 ...\n"
     ]
    },
    {
     "name": "stderr",
     "output_type": "stream",
     "text": [
      "/Users/jakubblaha/Documents/thesis/thesis-python/common.py:114: RuntimeWarning: There were no Annotations stored in <EpochsArray | 1 events (all good), 0 – 7.992 s (baseline off), ~134 kB, data loaded,\n",
      " '1': 1>, so metadata was not modified.\n",
      "  res = mne_connectivity.spectral_connectivity_time(\n"
     ]
    },
    {
     "name": "stdout",
     "output_type": "stream",
     "text": [
      "[Connectivity computation done]\n",
      "Computing features for trial:  431\n",
      "[ 4  8 10 13 30 45]\n",
      "(6,)\n",
      "[ 4  8 10 13 30 45]\n",
      "(6,)\n",
      "only using indices for lower-triangular matrix\n",
      "Connectivity computation...\n",
      "   Processing epoch 1 / 1 ...\n",
      "[Connectivity computation done]\n"
     ]
    },
    {
     "name": "stderr",
     "output_type": "stream",
     "text": [
      "/Users/jakubblaha/Documents/thesis/thesis-python/common.py:114: RuntimeWarning: There were no Annotations stored in <EpochsArray | 1 events (all good), 0 – 7.992 s (baseline off), ~134 kB, data loaded,\n",
      " '1': 1>, so metadata was not modified.\n",
      "  res = mne_connectivity.spectral_connectivity_time(\n"
     ]
    },
    {
     "name": "stdout",
     "output_type": "stream",
     "text": [
      "Computing features for trial:  432\n",
      "[ 4  8 10 13 30 45]\n",
      "(6,)\n",
      "[ 4  8 10 13 30 45]\n",
      "(6,)\n",
      "only using indices for lower-triangular matrix\n",
      "Connectivity computation...\n",
      "   Processing epoch 1 / 1 ...\n",
      "[Connectivity computation done]\n",
      "Computing features for trial:  433\n"
     ]
    },
    {
     "name": "stderr",
     "output_type": "stream",
     "text": [
      "/Users/jakubblaha/Documents/thesis/thesis-python/common.py:114: RuntimeWarning: There were no Annotations stored in <EpochsArray | 1 events (all good), 0 – 7.992 s (baseline off), ~134 kB, data loaded,\n",
      " '1': 1>, so metadata was not modified.\n",
      "  res = mne_connectivity.spectral_connectivity_time(\n"
     ]
    },
    {
     "name": "stdout",
     "output_type": "stream",
     "text": [
      "[ 4  8 10 13 30 45]\n",
      "(6,)\n",
      "[ 4  8 10 13 30 45]\n",
      "(6,)\n",
      "only using indices for lower-triangular matrix\n",
      "Connectivity computation...\n",
      "   Processing epoch 1 / 1 ...\n",
      "[Connectivity computation done]\n",
      "Computing features for trial:  434\n"
     ]
    },
    {
     "name": "stderr",
     "output_type": "stream",
     "text": [
      "/Users/jakubblaha/Documents/thesis/thesis-python/common.py:114: RuntimeWarning: There were no Annotations stored in <EpochsArray | 1 events (all good), 0 – 7.992 s (baseline off), ~134 kB, data loaded,\n",
      " '1': 1>, so metadata was not modified.\n",
      "  res = mne_connectivity.spectral_connectivity_time(\n"
     ]
    },
    {
     "name": "stdout",
     "output_type": "stream",
     "text": [
      "[ 4  8 10 13 30 45]\n",
      "(6,)\n",
      "[ 4  8 10 13 30 45]\n",
      "(6,)\n",
      "only using indices for lower-triangular matrix\n",
      "Connectivity computation...\n",
      "   Processing epoch 1 / 1 ...\n",
      "[Connectivity computation done]\n",
      "Computing features for trial:  435\n"
     ]
    },
    {
     "name": "stderr",
     "output_type": "stream",
     "text": [
      "/Users/jakubblaha/Documents/thesis/thesis-python/common.py:114: RuntimeWarning: There were no Annotations stored in <EpochsArray | 1 events (all good), 0 – 7.992 s (baseline off), ~134 kB, data loaded,\n",
      " '1': 1>, so metadata was not modified.\n",
      "  res = mne_connectivity.spectral_connectivity_time(\n"
     ]
    },
    {
     "name": "stdout",
     "output_type": "stream",
     "text": [
      "[ 4  8 10 13 30 45]\n",
      "(6,)\n",
      "[ 4  8 10 13 30 45]\n",
      "(6,)\n",
      "only using indices for lower-triangular matrix\n",
      "Connectivity computation...\n",
      "   Processing epoch 1 / 1 ...\n",
      "[Connectivity computation done]\n",
      "Computing features for trial:  436\n"
     ]
    },
    {
     "name": "stderr",
     "output_type": "stream",
     "text": [
      "/Users/jakubblaha/Documents/thesis/thesis-python/common.py:114: RuntimeWarning: There were no Annotations stored in <EpochsArray | 1 events (all good), 0 – 7.992 s (baseline off), ~134 kB, data loaded,\n",
      " '1': 1>, so metadata was not modified.\n",
      "  res = mne_connectivity.spectral_connectivity_time(\n"
     ]
    },
    {
     "name": "stdout",
     "output_type": "stream",
     "text": [
      "[ 4  8 10 13 30 45]\n",
      "(6,)\n",
      "[ 4  8 10 13 30 45]\n",
      "(6,)\n",
      "only using indices for lower-triangular matrix\n",
      "Connectivity computation...\n",
      "   Processing epoch 1 / 1 ...\n",
      "[Connectivity computation done]\n",
      "Computing features for trial:  437\n"
     ]
    },
    {
     "name": "stderr",
     "output_type": "stream",
     "text": [
      "/Users/jakubblaha/Documents/thesis/thesis-python/common.py:114: RuntimeWarning: There were no Annotations stored in <EpochsArray | 1 events (all good), 0 – 7.992 s (baseline off), ~134 kB, data loaded,\n",
      " '1': 1>, so metadata was not modified.\n",
      "  res = mne_connectivity.spectral_connectivity_time(\n"
     ]
    },
    {
     "name": "stdout",
     "output_type": "stream",
     "text": [
      "[ 4  8 10 13 30 45]\n",
      "(6,)\n",
      "[ 4  8 10 13 30 45]\n",
      "(6,)\n",
      "only using indices for lower-triangular matrix\n",
      "Connectivity computation...\n",
      "   Processing epoch 1 / 1 ...\n",
      "[Connectivity computation done]\n",
      "Computing features for trial:  438\n"
     ]
    },
    {
     "name": "stderr",
     "output_type": "stream",
     "text": [
      "/Users/jakubblaha/Documents/thesis/thesis-python/common.py:114: RuntimeWarning: There were no Annotations stored in <EpochsArray | 1 events (all good), 0 – 7.992 s (baseline off), ~134 kB, data loaded,\n",
      " '1': 1>, so metadata was not modified.\n",
      "  res = mne_connectivity.spectral_connectivity_time(\n"
     ]
    },
    {
     "name": "stdout",
     "output_type": "stream",
     "text": [
      "[ 4  8 10 13 30 45]\n",
      "(6,)\n",
      "[ 4  8 10 13 30 45]\n",
      "(6,)\n",
      "only using indices for lower-triangular matrix\n",
      "Connectivity computation...\n",
      "   Processing epoch 1 / 1 ...\n",
      "[Connectivity computation done]\n",
      "Computing features for trial:  439\n"
     ]
    },
    {
     "name": "stderr",
     "output_type": "stream",
     "text": [
      "/Users/jakubblaha/Documents/thesis/thesis-python/common.py:114: RuntimeWarning: There were no Annotations stored in <EpochsArray | 1 events (all good), 0 – 7.992 s (baseline off), ~134 kB, data loaded,\n",
      " '1': 1>, so metadata was not modified.\n",
      "  res = mne_connectivity.spectral_connectivity_time(\n"
     ]
    },
    {
     "name": "stdout",
     "output_type": "stream",
     "text": [
      "[ 4  8 10 13 30 45]\n",
      "(6,)\n",
      "[ 4  8 10 13 30 45]\n",
      "(6,)\n",
      "only using indices for lower-triangular matrix\n",
      "Connectivity computation...\n",
      "   Processing epoch 1 / 1 ...\n",
      "[Connectivity computation done]\n",
      "Computing features for trial:  440\n"
     ]
    },
    {
     "name": "stderr",
     "output_type": "stream",
     "text": [
      "/Users/jakubblaha/Documents/thesis/thesis-python/common.py:114: RuntimeWarning: There were no Annotations stored in <EpochsArray | 1 events (all good), 0 – 7.992 s (baseline off), ~134 kB, data loaded,\n",
      " '1': 1>, so metadata was not modified.\n",
      "  res = mne_connectivity.spectral_connectivity_time(\n"
     ]
    },
    {
     "name": "stdout",
     "output_type": "stream",
     "text": [
      "[ 4  8 10 13 30 45]\n",
      "(6,)\n",
      "[ 4  8 10 13 30 45]\n",
      "(6,)\n",
      "only using indices for lower-triangular matrix\n",
      "Connectivity computation...\n",
      "   Processing epoch 1 / 1 ...\n",
      "[Connectivity computation done]\n",
      "Computing features for trial:  441\n"
     ]
    },
    {
     "name": "stderr",
     "output_type": "stream",
     "text": [
      "/Users/jakubblaha/Documents/thesis/thesis-python/common.py:114: RuntimeWarning: There were no Annotations stored in <EpochsArray | 1 events (all good), 0 – 7.992 s (baseline off), ~134 kB, data loaded,\n",
      " '1': 1>, so metadata was not modified.\n",
      "  res = mne_connectivity.spectral_connectivity_time(\n"
     ]
    },
    {
     "name": "stdout",
     "output_type": "stream",
     "text": [
      "[ 4  8 10 13 30 45]\n",
      "(6,)\n",
      "[ 4  8 10 13 30 45]\n",
      "(6,)\n",
      "only using indices for lower-triangular matrix\n",
      "Connectivity computation...\n",
      "   Processing epoch 1 / 1 ...\n",
      "[Connectivity computation done]\n",
      "Computing features for trial:  442\n"
     ]
    },
    {
     "name": "stderr",
     "output_type": "stream",
     "text": [
      "/Users/jakubblaha/Documents/thesis/thesis-python/common.py:114: RuntimeWarning: There were no Annotations stored in <EpochsArray | 1 events (all good), 0 – 7.992 s (baseline off), ~134 kB, data loaded,\n",
      " '1': 1>, so metadata was not modified.\n",
      "  res = mne_connectivity.spectral_connectivity_time(\n"
     ]
    },
    {
     "name": "stdout",
     "output_type": "stream",
     "text": [
      "[ 4  8 10 13 30 45]\n",
      "(6,)\n",
      "[ 4  8 10 13 30 45]\n",
      "(6,)\n",
      "only using indices for lower-triangular matrix\n",
      "Connectivity computation...\n",
      "   Processing epoch 1 / 1 ...\n",
      "[Connectivity computation done]\n",
      "Computing features for trial:  443\n"
     ]
    },
    {
     "name": "stderr",
     "output_type": "stream",
     "text": [
      "/Users/jakubblaha/Documents/thesis/thesis-python/common.py:114: RuntimeWarning: There were no Annotations stored in <EpochsArray | 1 events (all good), 0 – 7.992 s (baseline off), ~134 kB, data loaded,\n",
      " '1': 1>, so metadata was not modified.\n",
      "  res = mne_connectivity.spectral_connectivity_time(\n"
     ]
    },
    {
     "name": "stdout",
     "output_type": "stream",
     "text": [
      "[ 4  8 10 13 30 45]\n",
      "(6,)\n",
      "[ 4  8 10 13 30 45]\n",
      "(6,)\n",
      "only using indices for lower-triangular matrix\n",
      "Connectivity computation...\n",
      "   Processing epoch 1 / 1 ...\n",
      "[Connectivity computation done]\n",
      "Computing features for trial:  444\n"
     ]
    },
    {
     "name": "stderr",
     "output_type": "stream",
     "text": [
      "/Users/jakubblaha/Documents/thesis/thesis-python/common.py:114: RuntimeWarning: There were no Annotations stored in <EpochsArray | 1 events (all good), 0 – 7.992 s (baseline off), ~134 kB, data loaded,\n",
      " '1': 1>, so metadata was not modified.\n",
      "  res = mne_connectivity.spectral_connectivity_time(\n"
     ]
    },
    {
     "name": "stdout",
     "output_type": "stream",
     "text": [
      "[ 4  8 10 13 30 45]\n",
      "(6,)\n",
      "[ 4  8 10 13 30 45]\n",
      "(6,)\n",
      "only using indices for lower-triangular matrix\n",
      "Connectivity computation...\n",
      "   Processing epoch 1 / 1 ...\n",
      "[Connectivity computation done]\n",
      "Computing features for trial:  445\n"
     ]
    },
    {
     "name": "stderr",
     "output_type": "stream",
     "text": [
      "/Users/jakubblaha/Documents/thesis/thesis-python/common.py:114: RuntimeWarning: There were no Annotations stored in <EpochsArray | 1 events (all good), 0 – 7.992 s (baseline off), ~134 kB, data loaded,\n",
      " '1': 1>, so metadata was not modified.\n",
      "  res = mne_connectivity.spectral_connectivity_time(\n"
     ]
    },
    {
     "name": "stdout",
     "output_type": "stream",
     "text": [
      "[ 4  8 10 13 30 45]\n",
      "(6,)\n",
      "[ 4  8 10 13 30 45]\n",
      "(6,)\n",
      "only using indices for lower-triangular matrix\n",
      "Connectivity computation...\n",
      "   Processing epoch 1 / 1 ...\n",
      "[Connectivity computation done]\n",
      "Computing features for trial:  446\n"
     ]
    },
    {
     "name": "stderr",
     "output_type": "stream",
     "text": [
      "/Users/jakubblaha/Documents/thesis/thesis-python/common.py:114: RuntimeWarning: There were no Annotations stored in <EpochsArray | 1 events (all good), 0 – 7.992 s (baseline off), ~134 kB, data loaded,\n",
      " '1': 1>, so metadata was not modified.\n",
      "  res = mne_connectivity.spectral_connectivity_time(\n"
     ]
    },
    {
     "name": "stdout",
     "output_type": "stream",
     "text": [
      "[ 4  8 10 13 30 45]\n",
      "(6,)\n",
      "[ 4  8 10 13 30 45]\n",
      "(6,)\n",
      "only using indices for lower-triangular matrix\n",
      "Connectivity computation...\n",
      "   Processing epoch 1 / 1 ...\n"
     ]
    },
    {
     "name": "stderr",
     "output_type": "stream",
     "text": [
      "/Users/jakubblaha/Documents/thesis/thesis-python/common.py:114: RuntimeWarning: There were no Annotations stored in <EpochsArray | 1 events (all good), 0 – 7.992 s (baseline off), ~134 kB, data loaded,\n",
      " '1': 1>, so metadata was not modified.\n",
      "  res = mne_connectivity.spectral_connectivity_time(\n"
     ]
    },
    {
     "name": "stdout",
     "output_type": "stream",
     "text": [
      "[Connectivity computation done]\n",
      "Computing features for trial:  447\n",
      "[ 4  8 10 13 30 45]\n",
      "(6,)\n",
      "[ 4  8 10 13 30 45]\n",
      "(6,)\n",
      "only using indices for lower-triangular matrix\n",
      "Connectivity computation...\n",
      "   Processing epoch 1 / 1 ...\n",
      "[Connectivity computation done]\n"
     ]
    },
    {
     "name": "stderr",
     "output_type": "stream",
     "text": [
      "/Users/jakubblaha/Documents/thesis/thesis-python/common.py:114: RuntimeWarning: There were no Annotations stored in <EpochsArray | 1 events (all good), 0 – 7.992 s (baseline off), ~134 kB, data loaded,\n",
      " '1': 1>, so metadata was not modified.\n",
      "  res = mne_connectivity.spectral_connectivity_time(\n"
     ]
    },
    {
     "name": "stdout",
     "output_type": "stream",
     "text": [
      "Computing features for trial:  448\n",
      "[ 4  8 10 13 30 45]\n",
      "(6,)\n",
      "[ 4  8 10 13 30 45]\n",
      "(6,)\n",
      "only using indices for lower-triangular matrix\n",
      "Connectivity computation...\n",
      "   Processing epoch 1 / 1 ...\n",
      "[Connectivity computation done]\n",
      "Computing features for trial:  449\n"
     ]
    },
    {
     "name": "stderr",
     "output_type": "stream",
     "text": [
      "/Users/jakubblaha/Documents/thesis/thesis-python/common.py:114: RuntimeWarning: There were no Annotations stored in <EpochsArray | 1 events (all good), 0 – 7.992 s (baseline off), ~134 kB, data loaded,\n",
      " '1': 1>, so metadata was not modified.\n",
      "  res = mne_connectivity.spectral_connectivity_time(\n"
     ]
    },
    {
     "name": "stdout",
     "output_type": "stream",
     "text": [
      "[ 4  8 10 13 30 45]\n",
      "(6,)\n",
      "[ 4  8 10 13 30 45]\n",
      "(6,)\n",
      "only using indices for lower-triangular matrix\n",
      "Connectivity computation...\n",
      "   Processing epoch 1 / 1 ...\n",
      "[Connectivity computation done]\n",
      "Computing features for trial:  450\n"
     ]
    },
    {
     "name": "stderr",
     "output_type": "stream",
     "text": [
      "/Users/jakubblaha/Documents/thesis/thesis-python/common.py:114: RuntimeWarning: There were no Annotations stored in <EpochsArray | 1 events (all good), 0 – 7.992 s (baseline off), ~134 kB, data loaded,\n",
      " '1': 1>, so metadata was not modified.\n",
      "  res = mne_connectivity.spectral_connectivity_time(\n"
     ]
    },
    {
     "name": "stdout",
     "output_type": "stream",
     "text": [
      "[ 4  8 10 13 30 45]\n",
      "(6,)\n",
      "[ 4  8 10 13 30 45]\n",
      "(6,)\n",
      "only using indices for lower-triangular matrix\n",
      "Connectivity computation...\n",
      "   Processing epoch 1 / 1 ...\n",
      "[Connectivity computation done]\n",
      "Computing features for trial:  451\n"
     ]
    },
    {
     "name": "stderr",
     "output_type": "stream",
     "text": [
      "/Users/jakubblaha/Documents/thesis/thesis-python/common.py:114: RuntimeWarning: There were no Annotations stored in <EpochsArray | 1 events (all good), 0 – 7.992 s (baseline off), ~134 kB, data loaded,\n",
      " '1': 1>, so metadata was not modified.\n",
      "  res = mne_connectivity.spectral_connectivity_time(\n"
     ]
    },
    {
     "name": "stdout",
     "output_type": "stream",
     "text": [
      "[ 4  8 10 13 30 45]\n",
      "(6,)\n",
      "[ 4  8 10 13 30 45]\n",
      "(6,)\n",
      "only using indices for lower-triangular matrix\n",
      "Connectivity computation...\n",
      "   Processing epoch 1 / 1 ...\n",
      "[Connectivity computation done]\n",
      "Computing features for trial:  452\n"
     ]
    },
    {
     "name": "stderr",
     "output_type": "stream",
     "text": [
      "/Users/jakubblaha/Documents/thesis/thesis-python/common.py:114: RuntimeWarning: There were no Annotations stored in <EpochsArray | 1 events (all good), 0 – 7.992 s (baseline off), ~134 kB, data loaded,\n",
      " '1': 1>, so metadata was not modified.\n",
      "  res = mne_connectivity.spectral_connectivity_time(\n"
     ]
    },
    {
     "name": "stdout",
     "output_type": "stream",
     "text": [
      "[ 4  8 10 13 30 45]\n",
      "(6,)\n",
      "[ 4  8 10 13 30 45]\n",
      "(6,)\n",
      "only using indices for lower-triangular matrix\n",
      "Connectivity computation...\n",
      "   Processing epoch 1 / 1 ...\n",
      "[Connectivity computation done]\n",
      "Computing features for trial:  453\n"
     ]
    },
    {
     "name": "stderr",
     "output_type": "stream",
     "text": [
      "/Users/jakubblaha/Documents/thesis/thesis-python/common.py:114: RuntimeWarning: There were no Annotations stored in <EpochsArray | 1 events (all good), 0 – 7.992 s (baseline off), ~134 kB, data loaded,\n",
      " '1': 1>, so metadata was not modified.\n",
      "  res = mne_connectivity.spectral_connectivity_time(\n"
     ]
    },
    {
     "name": "stdout",
     "output_type": "stream",
     "text": [
      "[ 4  8 10 13 30 45]\n",
      "(6,)\n",
      "[ 4  8 10 13 30 45]\n",
      "(6,)\n",
      "only using indices for lower-triangular matrix\n",
      "Connectivity computation...\n",
      "   Processing epoch 1 / 1 ...\n",
      "[Connectivity computation done]\n",
      "Computing features for trial:  454\n"
     ]
    },
    {
     "name": "stderr",
     "output_type": "stream",
     "text": [
      "/Users/jakubblaha/Documents/thesis/thesis-python/common.py:114: RuntimeWarning: There were no Annotations stored in <EpochsArray | 1 events (all good), 0 – 7.992 s (baseline off), ~134 kB, data loaded,\n",
      " '1': 1>, so metadata was not modified.\n",
      "  res = mne_connectivity.spectral_connectivity_time(\n"
     ]
    },
    {
     "name": "stdout",
     "output_type": "stream",
     "text": [
      "[ 4  8 10 13 30 45]\n",
      "(6,)\n",
      "[ 4  8 10 13 30 45]\n",
      "(6,)\n",
      "only using indices for lower-triangular matrix\n",
      "Connectivity computation...\n",
      "   Processing epoch 1 / 1 ...\n",
      "[Connectivity computation done]\n",
      "Computing features for trial:  455\n"
     ]
    },
    {
     "name": "stderr",
     "output_type": "stream",
     "text": [
      "/Users/jakubblaha/Documents/thesis/thesis-python/common.py:114: RuntimeWarning: There were no Annotations stored in <EpochsArray | 1 events (all good), 0 – 7.992 s (baseline off), ~134 kB, data loaded,\n",
      " '1': 1>, so metadata was not modified.\n",
      "  res = mne_connectivity.spectral_connectivity_time(\n"
     ]
    },
    {
     "name": "stdout",
     "output_type": "stream",
     "text": [
      "[ 4  8 10 13 30 45]\n",
      "(6,)\n",
      "[ 4  8 10 13 30 45]\n",
      "(6,)\n",
      "only using indices for lower-triangular matrix\n",
      "Connectivity computation...\n",
      "   Processing epoch 1 / 1 ...\n",
      "[Connectivity computation done]\n",
      "Computing features for trial:  456\n"
     ]
    },
    {
     "name": "stderr",
     "output_type": "stream",
     "text": [
      "/Users/jakubblaha/Documents/thesis/thesis-python/common.py:114: RuntimeWarning: There were no Annotations stored in <EpochsArray | 1 events (all good), 0 – 7.992 s (baseline off), ~134 kB, data loaded,\n",
      " '1': 1>, so metadata was not modified.\n",
      "  res = mne_connectivity.spectral_connectivity_time(\n"
     ]
    },
    {
     "name": "stdout",
     "output_type": "stream",
     "text": [
      "[ 4  8 10 13 30 45]\n",
      "(6,)\n",
      "[ 4  8 10 13 30 45]\n",
      "(6,)\n",
      "only using indices for lower-triangular matrix\n",
      "Connectivity computation...\n",
      "   Processing epoch 1 / 1 ...\n",
      "[Connectivity computation done]\n",
      "Computing features for trial:  457\n"
     ]
    },
    {
     "name": "stderr",
     "output_type": "stream",
     "text": [
      "/Users/jakubblaha/Documents/thesis/thesis-python/common.py:114: RuntimeWarning: There were no Annotations stored in <EpochsArray | 1 events (all good), 0 – 7.992 s (baseline off), ~134 kB, data loaded,\n",
      " '1': 1>, so metadata was not modified.\n",
      "  res = mne_connectivity.spectral_connectivity_time(\n"
     ]
    },
    {
     "name": "stdout",
     "output_type": "stream",
     "text": [
      "[ 4  8 10 13 30 45]\n",
      "(6,)\n",
      "[ 4  8 10 13 30 45]\n",
      "(6,)\n",
      "only using indices for lower-triangular matrix\n",
      "Connectivity computation...\n",
      "   Processing epoch 1 / 1 ...\n",
      "[Connectivity computation done]\n",
      "Computing features for trial:  458\n"
     ]
    },
    {
     "name": "stderr",
     "output_type": "stream",
     "text": [
      "/Users/jakubblaha/Documents/thesis/thesis-python/common.py:114: RuntimeWarning: There were no Annotations stored in <EpochsArray | 1 events (all good), 0 – 7.992 s (baseline off), ~134 kB, data loaded,\n",
      " '1': 1>, so metadata was not modified.\n",
      "  res = mne_connectivity.spectral_connectivity_time(\n"
     ]
    },
    {
     "name": "stdout",
     "output_type": "stream",
     "text": [
      "[ 4  8 10 13 30 45]\n",
      "(6,)\n",
      "[ 4  8 10 13 30 45]\n",
      "(6,)\n",
      "only using indices for lower-triangular matrix\n",
      "Connectivity computation...\n",
      "   Processing epoch 1 / 1 ...\n",
      "[Connectivity computation done]\n",
      "Computing features for trial:  459\n"
     ]
    },
    {
     "name": "stderr",
     "output_type": "stream",
     "text": [
      "/Users/jakubblaha/Documents/thesis/thesis-python/common.py:114: RuntimeWarning: There were no Annotations stored in <EpochsArray | 1 events (all good), 0 – 7.992 s (baseline off), ~134 kB, data loaded,\n",
      " '1': 1>, so metadata was not modified.\n",
      "  res = mne_connectivity.spectral_connectivity_time(\n"
     ]
    },
    {
     "name": "stdout",
     "output_type": "stream",
     "text": [
      "[ 4  8 10 13 30 45]\n",
      "(6,)\n",
      "[ 4  8 10 13 30 45]\n",
      "(6,)\n",
      "only using indices for lower-triangular matrix\n",
      "Connectivity computation...\n",
      "   Processing epoch 1 / 1 ...\n",
      "[Connectivity computation done]\n",
      "Computing features for trial:  460\n"
     ]
    },
    {
     "name": "stderr",
     "output_type": "stream",
     "text": [
      "/Users/jakubblaha/Documents/thesis/thesis-python/common.py:114: RuntimeWarning: There were no Annotations stored in <EpochsArray | 1 events (all good), 0 – 7.992 s (baseline off), ~134 kB, data loaded,\n",
      " '1': 1>, so metadata was not modified.\n",
      "  res = mne_connectivity.spectral_connectivity_time(\n"
     ]
    },
    {
     "name": "stdout",
     "output_type": "stream",
     "text": [
      "[ 4  8 10 13 30 45]\n",
      "(6,)\n",
      "[ 4  8 10 13 30 45]\n",
      "(6,)\n",
      "only using indices for lower-triangular matrix\n",
      "Connectivity computation...\n",
      "   Processing epoch 1 / 1 ...\n",
      "[Connectivity computation done]\n",
      "Computing features for trial:  461\n"
     ]
    },
    {
     "name": "stderr",
     "output_type": "stream",
     "text": [
      "/Users/jakubblaha/Documents/thesis/thesis-python/common.py:114: RuntimeWarning: There were no Annotations stored in <EpochsArray | 1 events (all good), 0 – 7.992 s (baseline off), ~134 kB, data loaded,\n",
      " '1': 1>, so metadata was not modified.\n",
      "  res = mne_connectivity.spectral_connectivity_time(\n"
     ]
    },
    {
     "name": "stdout",
     "output_type": "stream",
     "text": [
      "[ 4  8 10 13 30 45]\n",
      "(6,)\n",
      "[ 4  8 10 13 30 45]\n",
      "(6,)\n",
      "only using indices for lower-triangular matrix\n",
      "Connectivity computation...\n",
      "   Processing epoch 1 / 1 ...\n",
      "[Connectivity computation done]\n",
      "Computing features for trial:  462\n"
     ]
    },
    {
     "name": "stderr",
     "output_type": "stream",
     "text": [
      "/Users/jakubblaha/Documents/thesis/thesis-python/common.py:114: RuntimeWarning: There were no Annotations stored in <EpochsArray | 1 events (all good), 0 – 7.992 s (baseline off), ~134 kB, data loaded,\n",
      " '1': 1>, so metadata was not modified.\n",
      "  res = mne_connectivity.spectral_connectivity_time(\n"
     ]
    },
    {
     "name": "stdout",
     "output_type": "stream",
     "text": [
      "[ 4  8 10 13 30 45]\n",
      "(6,)\n",
      "[ 4  8 10 13 30 45]\n",
      "(6,)\n",
      "only using indices for lower-triangular matrix\n",
      "Connectivity computation...\n",
      "   Processing epoch 1 / 1 ...\n",
      "[Connectivity computation done]\n",
      "Computing features for trial:  463\n"
     ]
    },
    {
     "name": "stderr",
     "output_type": "stream",
     "text": [
      "/Users/jakubblaha/Documents/thesis/thesis-python/common.py:114: RuntimeWarning: There were no Annotations stored in <EpochsArray | 1 events (all good), 0 – 7.992 s (baseline off), ~134 kB, data loaded,\n",
      " '1': 1>, so metadata was not modified.\n",
      "  res = mne_connectivity.spectral_connectivity_time(\n"
     ]
    },
    {
     "name": "stdout",
     "output_type": "stream",
     "text": [
      "[ 4  8 10 13 30 45]\n",
      "(6,)\n",
      "[ 4  8 10 13 30 45]\n",
      "(6,)\n",
      "only using indices for lower-triangular matrix\n",
      "Connectivity computation...\n",
      "   Processing epoch 1 / 1 ...\n",
      "[Connectivity computation done]\n",
      "Computing features for trial:  464\n"
     ]
    },
    {
     "name": "stderr",
     "output_type": "stream",
     "text": [
      "/Users/jakubblaha/Documents/thesis/thesis-python/common.py:114: RuntimeWarning: There were no Annotations stored in <EpochsArray | 1 events (all good), 0 – 7.992 s (baseline off), ~134 kB, data loaded,\n",
      " '1': 1>, so metadata was not modified.\n",
      "  res = mne_connectivity.spectral_connectivity_time(\n"
     ]
    },
    {
     "name": "stdout",
     "output_type": "stream",
     "text": [
      "[ 4  8 10 13 30 45]\n",
      "(6,)\n",
      "[ 4  8 10 13 30 45]\n",
      "(6,)\n",
      "only using indices for lower-triangular matrix\n",
      "Connectivity computation...\n",
      "   Processing epoch 1 / 1 ...\n",
      "[Connectivity computation done]\n"
     ]
    },
    {
     "name": "stderr",
     "output_type": "stream",
     "text": [
      "/Users/jakubblaha/Documents/thesis/thesis-python/common.py:114: RuntimeWarning: There were no Annotations stored in <EpochsArray | 1 events (all good), 0 – 7.992 s (baseline off), ~134 kB, data loaded,\n",
      " '1': 1>, so metadata was not modified.\n",
      "  res = mne_connectivity.spectral_connectivity_time(\n"
     ]
    },
    {
     "name": "stdout",
     "output_type": "stream",
     "text": [
      "Computing features for trial:  465\n",
      "[ 4  8 10 13 30 45]\n",
      "(6,)\n",
      "[ 4  8 10 13 30 45]\n",
      "(6,)\n",
      "only using indices for lower-triangular matrix\n",
      "Connectivity computation...\n",
      "   Processing epoch 1 / 1 ...\n",
      "[Connectivity computation done]\n",
      "Computing features for trial:  466\n"
     ]
    },
    {
     "name": "stderr",
     "output_type": "stream",
     "text": [
      "/Users/jakubblaha/Documents/thesis/thesis-python/common.py:114: RuntimeWarning: There were no Annotations stored in <EpochsArray | 1 events (all good), 0 – 7.992 s (baseline off), ~134 kB, data loaded,\n",
      " '1': 1>, so metadata was not modified.\n",
      "  res = mne_connectivity.spectral_connectivity_time(\n"
     ]
    },
    {
     "name": "stdout",
     "output_type": "stream",
     "text": [
      "[ 4  8 10 13 30 45]\n",
      "(6,)\n",
      "[ 4  8 10 13 30 45]\n",
      "(6,)\n",
      "only using indices for lower-triangular matrix\n",
      "Connectivity computation...\n",
      "   Processing epoch 1 / 1 ...\n",
      "[Connectivity computation done]\n",
      "Computing features for trial:  467\n"
     ]
    },
    {
     "name": "stderr",
     "output_type": "stream",
     "text": [
      "/Users/jakubblaha/Documents/thesis/thesis-python/common.py:114: RuntimeWarning: There were no Annotations stored in <EpochsArray | 1 events (all good), 0 – 7.992 s (baseline off), ~134 kB, data loaded,\n",
      " '1': 1>, so metadata was not modified.\n",
      "  res = mne_connectivity.spectral_connectivity_time(\n"
     ]
    },
    {
     "name": "stdout",
     "output_type": "stream",
     "text": [
      "[ 4  8 10 13 30 45]\n",
      "(6,)\n",
      "[ 4  8 10 13 30 45]\n",
      "(6,)\n",
      "only using indices for lower-triangular matrix\n",
      "Connectivity computation...\n",
      "   Processing epoch 1 / 1 ...\n",
      "[Connectivity computation done]\n",
      "Computing features for trial:  468\n"
     ]
    },
    {
     "name": "stderr",
     "output_type": "stream",
     "text": [
      "/Users/jakubblaha/Documents/thesis/thesis-python/common.py:114: RuntimeWarning: There were no Annotations stored in <EpochsArray | 1 events (all good), 0 – 7.992 s (baseline off), ~134 kB, data loaded,\n",
      " '1': 1>, so metadata was not modified.\n",
      "  res = mne_connectivity.spectral_connectivity_time(\n"
     ]
    },
    {
     "name": "stdout",
     "output_type": "stream",
     "text": [
      "[ 4  8 10 13 30 45]\n",
      "(6,)\n",
      "[ 4  8 10 13 30 45]\n",
      "(6,)\n",
      "only using indices for lower-triangular matrix\n",
      "Connectivity computation...\n",
      "   Processing epoch 1 / 1 ...\n",
      "[Connectivity computation done]\n",
      "Computing features for trial:  469\n"
     ]
    },
    {
     "name": "stderr",
     "output_type": "stream",
     "text": [
      "/Users/jakubblaha/Documents/thesis/thesis-python/common.py:114: RuntimeWarning: There were no Annotations stored in <EpochsArray | 1 events (all good), 0 – 7.992 s (baseline off), ~134 kB, data loaded,\n",
      " '1': 1>, so metadata was not modified.\n",
      "  res = mne_connectivity.spectral_connectivity_time(\n"
     ]
    },
    {
     "name": "stdout",
     "output_type": "stream",
     "text": [
      "[ 4  8 10 13 30 45]\n",
      "(6,)\n",
      "[ 4  8 10 13 30 45]\n",
      "(6,)\n",
      "only using indices for lower-triangular matrix\n",
      "Connectivity computation...\n",
      "   Processing epoch 1 / 1 ...\n",
      "[Connectivity computation done]\n",
      "Computing features for trial:  470\n"
     ]
    },
    {
     "name": "stderr",
     "output_type": "stream",
     "text": [
      "/Users/jakubblaha/Documents/thesis/thesis-python/common.py:114: RuntimeWarning: There were no Annotations stored in <EpochsArray | 1 events (all good), 0 – 7.992 s (baseline off), ~134 kB, data loaded,\n",
      " '1': 1>, so metadata was not modified.\n",
      "  res = mne_connectivity.spectral_connectivity_time(\n"
     ]
    },
    {
     "name": "stdout",
     "output_type": "stream",
     "text": [
      "[ 4  8 10 13 30 45]\n",
      "(6,)\n",
      "[ 4  8 10 13 30 45]\n",
      "(6,)\n",
      "only using indices for lower-triangular matrix\n",
      "Connectivity computation...\n",
      "   Processing epoch 1 / 1 ...\n",
      "[Connectivity computation done]\n",
      "Computing features for trial:  471\n"
     ]
    },
    {
     "name": "stderr",
     "output_type": "stream",
     "text": [
      "/Users/jakubblaha/Documents/thesis/thesis-python/common.py:114: RuntimeWarning: There were no Annotations stored in <EpochsArray | 1 events (all good), 0 – 7.992 s (baseline off), ~134 kB, data loaded,\n",
      " '1': 1>, so metadata was not modified.\n",
      "  res = mne_connectivity.spectral_connectivity_time(\n"
     ]
    },
    {
     "name": "stdout",
     "output_type": "stream",
     "text": [
      "[ 4  8 10 13 30 45]\n",
      "(6,)\n",
      "[ 4  8 10 13 30 45]\n",
      "(6,)\n",
      "only using indices for lower-triangular matrix\n",
      "Connectivity computation...\n",
      "   Processing epoch 1 / 1 ...\n",
      "[Connectivity computation done]\n",
      "Computing features for trial:  472\n"
     ]
    },
    {
     "name": "stderr",
     "output_type": "stream",
     "text": [
      "/Users/jakubblaha/Documents/thesis/thesis-python/common.py:114: RuntimeWarning: There were no Annotations stored in <EpochsArray | 1 events (all good), 0 – 7.992 s (baseline off), ~134 kB, data loaded,\n",
      " '1': 1>, so metadata was not modified.\n",
      "  res = mne_connectivity.spectral_connectivity_time(\n"
     ]
    },
    {
     "name": "stdout",
     "output_type": "stream",
     "text": [
      "[ 4  8 10 13 30 45]\n",
      "(6,)\n",
      "[ 4  8 10 13 30 45]\n",
      "(6,)\n",
      "only using indices for lower-triangular matrix\n",
      "Connectivity computation...\n",
      "   Processing epoch 1 / 1 ...\n",
      "[Connectivity computation done]\n",
      "Computing features for trial:  473\n"
     ]
    },
    {
     "name": "stderr",
     "output_type": "stream",
     "text": [
      "/Users/jakubblaha/Documents/thesis/thesis-python/common.py:114: RuntimeWarning: There were no Annotations stored in <EpochsArray | 1 events (all good), 0 – 7.992 s (baseline off), ~134 kB, data loaded,\n",
      " '1': 1>, so metadata was not modified.\n",
      "  res = mne_connectivity.spectral_connectivity_time(\n"
     ]
    },
    {
     "name": "stdout",
     "output_type": "stream",
     "text": [
      "[ 4  8 10 13 30 45]\n",
      "(6,)\n",
      "[ 4  8 10 13 30 45]\n",
      "(6,)\n",
      "only using indices for lower-triangular matrix\n",
      "Connectivity computation...\n",
      "   Processing epoch 1 / 1 ...\n",
      "[Connectivity computation done]\n",
      "Computing features for trial:  474\n"
     ]
    },
    {
     "name": "stderr",
     "output_type": "stream",
     "text": [
      "/Users/jakubblaha/Documents/thesis/thesis-python/common.py:114: RuntimeWarning: There were no Annotations stored in <EpochsArray | 1 events (all good), 0 – 7.992 s (baseline off), ~134 kB, data loaded,\n",
      " '1': 1>, so metadata was not modified.\n",
      "  res = mne_connectivity.spectral_connectivity_time(\n"
     ]
    },
    {
     "name": "stdout",
     "output_type": "stream",
     "text": [
      "[ 4  8 10 13 30 45]\n",
      "(6,)\n",
      "[ 4  8 10 13 30 45]\n",
      "(6,)\n",
      "only using indices for lower-triangular matrix\n",
      "Connectivity computation...\n",
      "   Processing epoch 1 / 1 ...\n",
      "[Connectivity computation done]\n",
      "Computing features for trial:  475\n"
     ]
    },
    {
     "name": "stderr",
     "output_type": "stream",
     "text": [
      "/Users/jakubblaha/Documents/thesis/thesis-python/common.py:114: RuntimeWarning: There were no Annotations stored in <EpochsArray | 1 events (all good), 0 – 7.992 s (baseline off), ~134 kB, data loaded,\n",
      " '1': 1>, so metadata was not modified.\n",
      "  res = mne_connectivity.spectral_connectivity_time(\n"
     ]
    },
    {
     "name": "stdout",
     "output_type": "stream",
     "text": [
      "[ 4  8 10 13 30 45]\n",
      "(6,)\n",
      "[ 4  8 10 13 30 45]\n",
      "(6,)\n",
      "only using indices for lower-triangular matrix\n",
      "Connectivity computation...\n",
      "   Processing epoch 1 / 1 ...\n",
      "[Connectivity computation done]\n",
      "Computing features for trial:  476\n"
     ]
    },
    {
     "name": "stderr",
     "output_type": "stream",
     "text": [
      "/Users/jakubblaha/Documents/thesis/thesis-python/common.py:114: RuntimeWarning: There were no Annotations stored in <EpochsArray | 1 events (all good), 0 – 7.992 s (baseline off), ~134 kB, data loaded,\n",
      " '1': 1>, so metadata was not modified.\n",
      "  res = mne_connectivity.spectral_connectivity_time(\n"
     ]
    },
    {
     "name": "stdout",
     "output_type": "stream",
     "text": [
      "[ 4  8 10 13 30 45]\n",
      "(6,)\n",
      "[ 4  8 10 13 30 45]\n",
      "(6,)\n",
      "only using indices for lower-triangular matrix\n",
      "Connectivity computation...\n",
      "   Processing epoch 1 / 1 ...\n",
      "[Connectivity computation done]\n",
      "Computing features for trial:  477\n"
     ]
    },
    {
     "name": "stderr",
     "output_type": "stream",
     "text": [
      "/Users/jakubblaha/Documents/thesis/thesis-python/common.py:114: RuntimeWarning: There were no Annotations stored in <EpochsArray | 1 events (all good), 0 – 7.992 s (baseline off), ~134 kB, data loaded,\n",
      " '1': 1>, so metadata was not modified.\n",
      "  res = mne_connectivity.spectral_connectivity_time(\n"
     ]
    },
    {
     "name": "stdout",
     "output_type": "stream",
     "text": [
      "[ 4  8 10 13 30 45]\n",
      "(6,)\n",
      "[ 4  8 10 13 30 45]\n",
      "(6,)\n",
      "only using indices for lower-triangular matrix\n",
      "Connectivity computation...\n",
      "   Processing epoch 1 / 1 ...\n",
      "[Connectivity computation done]\n",
      "Computing features for trial:  478\n"
     ]
    },
    {
     "name": "stderr",
     "output_type": "stream",
     "text": [
      "/Users/jakubblaha/Documents/thesis/thesis-python/common.py:114: RuntimeWarning: There were no Annotations stored in <EpochsArray | 1 events (all good), 0 – 7.992 s (baseline off), ~134 kB, data loaded,\n",
      " '1': 1>, so metadata was not modified.\n",
      "  res = mne_connectivity.spectral_connectivity_time(\n"
     ]
    },
    {
     "name": "stdout",
     "output_type": "stream",
     "text": [
      "[ 4  8 10 13 30 45]\n",
      "(6,)\n",
      "[ 4  8 10 13 30 45]\n",
      "(6,)\n",
      "only using indices for lower-triangular matrix\n",
      "Connectivity computation...\n",
      "   Processing epoch 1 / 1 ...\n",
      "[Connectivity computation done]\n",
      "Computing features for trial:  479\n"
     ]
    },
    {
     "name": "stderr",
     "output_type": "stream",
     "text": [
      "/Users/jakubblaha/Documents/thesis/thesis-python/common.py:114: RuntimeWarning: There were no Annotations stored in <EpochsArray | 1 events (all good), 0 – 7.992 s (baseline off), ~134 kB, data loaded,\n",
      " '1': 1>, so metadata was not modified.\n",
      "  res = mne_connectivity.spectral_connectivity_time(\n"
     ]
    },
    {
     "name": "stdout",
     "output_type": "stream",
     "text": [
      "[ 4  8 10 13 30 45]\n",
      "(6,)\n",
      "[ 4  8 10 13 30 45]\n",
      "(6,)\n",
      "only using indices for lower-triangular matrix\n",
      "Connectivity computation...\n",
      "   Processing epoch 1 / 1 ...\n"
     ]
    },
    {
     "name": "stderr",
     "output_type": "stream",
     "text": [
      "/Users/jakubblaha/Documents/thesis/thesis-python/common.py:114: RuntimeWarning: There were no Annotations stored in <EpochsArray | 1 events (all good), 0 – 7.992 s (baseline off), ~134 kB, data loaded,\n",
      " '1': 1>, so metadata was not modified.\n",
      "  res = mne_connectivity.spectral_connectivity_time(\n"
     ]
    },
    {
     "name": "stdout",
     "output_type": "stream",
     "text": [
      "[Connectivity computation done]\n",
      "Computing features for trial:  480\n",
      "[ 4  8 10 13 30 45]\n",
      "(6,)\n",
      "[ 4  8 10 13 30 45]\n",
      "(6,)\n",
      "only using indices for lower-triangular matrix\n",
      "Connectivity computation...\n",
      "   Processing epoch 1 / 1 ...\n",
      "[Connectivity computation done]\n"
     ]
    },
    {
     "name": "stderr",
     "output_type": "stream",
     "text": [
      "/Users/jakubblaha/Documents/thesis/thesis-python/common.py:114: RuntimeWarning: There were no Annotations stored in <EpochsArray | 1 events (all good), 0 – 7.992 s (baseline off), ~134 kB, data loaded,\n",
      " '1': 1>, so metadata was not modified.\n",
      "  res = mne_connectivity.spectral_connectivity_time(\n"
     ]
    },
    {
     "name": "stdout",
     "output_type": "stream",
     "text": [
      "Computing features for trial:  481\n",
      "[ 4  8 10 13 30 45]\n",
      "(6,)\n",
      "[ 4  8 10 13 30 45]\n",
      "(6,)\n",
      "only using indices for lower-triangular matrix\n",
      "Connectivity computation...\n",
      "   Processing epoch 1 / 1 ...\n",
      "[Connectivity computation done]\n",
      "Computing features for trial:  482\n"
     ]
    },
    {
     "name": "stderr",
     "output_type": "stream",
     "text": [
      "/Users/jakubblaha/Documents/thesis/thesis-python/common.py:114: RuntimeWarning: There were no Annotations stored in <EpochsArray | 1 events (all good), 0 – 7.992 s (baseline off), ~134 kB, data loaded,\n",
      " '1': 1>, so metadata was not modified.\n",
      "  res = mne_connectivity.spectral_connectivity_time(\n"
     ]
    },
    {
     "name": "stdout",
     "output_type": "stream",
     "text": [
      "[ 4  8 10 13 30 45]\n",
      "(6,)\n",
      "[ 4  8 10 13 30 45]\n",
      "(6,)\n",
      "only using indices for lower-triangular matrix\n",
      "Connectivity computation...\n",
      "   Processing epoch 1 / 1 ...\n"
     ]
    },
    {
     "name": "stderr",
     "output_type": "stream",
     "text": [
      "/Users/jakubblaha/Documents/thesis/thesis-python/common.py:114: RuntimeWarning: There were no Annotations stored in <EpochsArray | 1 events (all good), 0 – 7.992 s (baseline off), ~134 kB, data loaded,\n",
      " '1': 1>, so metadata was not modified.\n",
      "  res = mne_connectivity.spectral_connectivity_time(\n"
     ]
    },
    {
     "name": "stdout",
     "output_type": "stream",
     "text": [
      "[Connectivity computation done]\n",
      "Computing features for trial:  483\n",
      "[ 4  8 10 13 30 45]\n",
      "(6,)\n",
      "[ 4  8 10 13 30 45]\n",
      "(6,)\n",
      "only using indices for lower-triangular matrix\n",
      "Connectivity computation...\n",
      "   Processing epoch 1 / 1 ...\n",
      "[Connectivity computation done]\n"
     ]
    },
    {
     "name": "stderr",
     "output_type": "stream",
     "text": [
      "/Users/jakubblaha/Documents/thesis/thesis-python/common.py:114: RuntimeWarning: There were no Annotations stored in <EpochsArray | 1 events (all good), 0 – 7.992 s (baseline off), ~134 kB, data loaded,\n",
      " '1': 1>, so metadata was not modified.\n",
      "  res = mne_connectivity.spectral_connectivity_time(\n"
     ]
    },
    {
     "name": "stdout",
     "output_type": "stream",
     "text": [
      "Computing features for trial:  484\n",
      "[ 4  8 10 13 30 45]\n",
      "(6,)\n",
      "[ 4  8 10 13 30 45]\n",
      "(6,)\n",
      "only using indices for lower-triangular matrix\n",
      "Connectivity computation...\n",
      "   Processing epoch 1 / 1 ...\n",
      "[Connectivity computation done]\n"
     ]
    },
    {
     "name": "stderr",
     "output_type": "stream",
     "text": [
      "/Users/jakubblaha/Documents/thesis/thesis-python/common.py:114: RuntimeWarning: There were no Annotations stored in <EpochsArray | 1 events (all good), 0 – 7.992 s (baseline off), ~134 kB, data loaded,\n",
      " '1': 1>, so metadata was not modified.\n",
      "  res = mne_connectivity.spectral_connectivity_time(\n"
     ]
    },
    {
     "name": "stdout",
     "output_type": "stream",
     "text": [
      "Computing features for trial:  485\n",
      "[ 4  8 10 13 30 45]\n",
      "(6,)\n",
      "[ 4  8 10 13 30 45]\n",
      "(6,)\n",
      "only using indices for lower-triangular matrix\n",
      "Connectivity computation...\n",
      "   Processing epoch 1 / 1 ...\n"
     ]
    },
    {
     "name": "stderr",
     "output_type": "stream",
     "text": [
      "/Users/jakubblaha/Documents/thesis/thesis-python/common.py:114: RuntimeWarning: There were no Annotations stored in <EpochsArray | 1 events (all good), 0 – 7.992 s (baseline off), ~134 kB, data loaded,\n",
      " '1': 1>, so metadata was not modified.\n",
      "  res = mne_connectivity.spectral_connectivity_time(\n"
     ]
    },
    {
     "name": "stdout",
     "output_type": "stream",
     "text": [
      "[Connectivity computation done]\n",
      "Computing features for trial:  486\n",
      "[ 4  8 10 13 30 45]\n",
      "(6,)\n",
      "[ 4  8 10 13 30 45]\n",
      "(6,)\n",
      "only using indices for lower-triangular matrix\n",
      "Connectivity computation...\n",
      "   Processing epoch 1 / 1 ...\n",
      "[Connectivity computation done]\n"
     ]
    },
    {
     "name": "stderr",
     "output_type": "stream",
     "text": [
      "/Users/jakubblaha/Documents/thesis/thesis-python/common.py:114: RuntimeWarning: There were no Annotations stored in <EpochsArray | 1 events (all good), 0 – 7.992 s (baseline off), ~134 kB, data loaded,\n",
      " '1': 1>, so metadata was not modified.\n",
      "  res = mne_connectivity.spectral_connectivity_time(\n"
     ]
    },
    {
     "name": "stdout",
     "output_type": "stream",
     "text": [
      "Computing features for trial:  487\n",
      "[ 4  8 10 13 30 45]\n",
      "(6,)\n",
      "[ 4  8 10 13 30 45]\n",
      "(6,)\n",
      "only using indices for lower-triangular matrix\n",
      "Connectivity computation...\n",
      "   Processing epoch 1 / 1 ...\n"
     ]
    },
    {
     "name": "stderr",
     "output_type": "stream",
     "text": [
      "/Users/jakubblaha/Documents/thesis/thesis-python/common.py:114: RuntimeWarning: There were no Annotations stored in <EpochsArray | 1 events (all good), 0 – 7.992 s (baseline off), ~134 kB, data loaded,\n",
      " '1': 1>, so metadata was not modified.\n",
      "  res = mne_connectivity.spectral_connectivity_time(\n"
     ]
    },
    {
     "name": "stdout",
     "output_type": "stream",
     "text": [
      "[Connectivity computation done]\n",
      "Computing features for trial:  488\n",
      "[ 4  8 10 13 30 45]\n",
      "(6,)\n",
      "[ 4  8 10 13 30 45]\n",
      "(6,)\n",
      "only using indices for lower-triangular matrix\n",
      "Connectivity computation...\n",
      "   Processing epoch 1 / 1 ...\n",
      "[Connectivity computation done]\n"
     ]
    },
    {
     "name": "stderr",
     "output_type": "stream",
     "text": [
      "/Users/jakubblaha/Documents/thesis/thesis-python/common.py:114: RuntimeWarning: There were no Annotations stored in <EpochsArray | 1 events (all good), 0 – 7.992 s (baseline off), ~134 kB, data loaded,\n",
      " '1': 1>, so metadata was not modified.\n",
      "  res = mne_connectivity.spectral_connectivity_time(\n"
     ]
    },
    {
     "name": "stdout",
     "output_type": "stream",
     "text": [
      "Computing features for trial:  489\n",
      "[ 4  8 10 13 30 45]\n",
      "(6,)\n",
      "[ 4  8 10 13 30 45]\n",
      "(6,)\n",
      "only using indices for lower-triangular matrix\n",
      "Connectivity computation...\n",
      "   Processing epoch 1 / 1 ...\n",
      "[Connectivity computation done]\n",
      "Computing features for trial:  490\n",
      "[ 4  8 10 13 30 45]\n",
      "(6,)\n"
     ]
    },
    {
     "name": "stderr",
     "output_type": "stream",
     "text": [
      "/Users/jakubblaha/Documents/thesis/thesis-python/common.py:114: RuntimeWarning: There were no Annotations stored in <EpochsArray | 1 events (all good), 0 – 7.992 s (baseline off), ~134 kB, data loaded,\n",
      " '1': 1>, so metadata was not modified.\n",
      "  res = mne_connectivity.spectral_connectivity_time(\n"
     ]
    },
    {
     "name": "stdout",
     "output_type": "stream",
     "text": [
      "[ 4  8 10 13 30 45]\n",
      "(6,)\n",
      "only using indices for lower-triangular matrix\n",
      "Connectivity computation...\n",
      "   Processing epoch 1 / 1 ...\n",
      "[Connectivity computation done]\n",
      "Computing features for trial:  491\n"
     ]
    },
    {
     "name": "stderr",
     "output_type": "stream",
     "text": [
      "/Users/jakubblaha/Documents/thesis/thesis-python/common.py:114: RuntimeWarning: There were no Annotations stored in <EpochsArray | 1 events (all good), 0 – 7.992 s (baseline off), ~134 kB, data loaded,\n",
      " '1': 1>, so metadata was not modified.\n",
      "  res = mne_connectivity.spectral_connectivity_time(\n"
     ]
    },
    {
     "name": "stdout",
     "output_type": "stream",
     "text": [
      "[ 4  8 10 13 30 45]\n",
      "(6,)\n",
      "[ 4  8 10 13 30 45]\n",
      "(6,)\n",
      "only using indices for lower-triangular matrix\n",
      "Connectivity computation...\n",
      "   Processing epoch 1 / 1 ...\n",
      "[Connectivity computation done]\n",
      "Computing features for trial:  492\n"
     ]
    },
    {
     "name": "stderr",
     "output_type": "stream",
     "text": [
      "/Users/jakubblaha/Documents/thesis/thesis-python/common.py:114: RuntimeWarning: There were no Annotations stored in <EpochsArray | 1 events (all good), 0 – 7.992 s (baseline off), ~134 kB, data loaded,\n",
      " '1': 1>, so metadata was not modified.\n",
      "  res = mne_connectivity.spectral_connectivity_time(\n"
     ]
    },
    {
     "name": "stdout",
     "output_type": "stream",
     "text": [
      "[ 4  8 10 13 30 45]\n",
      "(6,)\n",
      "[ 4  8 10 13 30 45]\n",
      "(6,)\n",
      "only using indices for lower-triangular matrix\n",
      "Connectivity computation...\n",
      "   Processing epoch 1 / 1 ...\n"
     ]
    },
    {
     "name": "stderr",
     "output_type": "stream",
     "text": [
      "/Users/jakubblaha/Documents/thesis/thesis-python/common.py:114: RuntimeWarning: There were no Annotations stored in <EpochsArray | 1 events (all good), 0 – 7.992 s (baseline off), ~134 kB, data loaded,\n",
      " '1': 1>, so metadata was not modified.\n",
      "  res = mne_connectivity.spectral_connectivity_time(\n"
     ]
    },
    {
     "name": "stdout",
     "output_type": "stream",
     "text": [
      "[Connectivity computation done]\n",
      "Computing features for trial:  493\n",
      "[ 4  8 10 13 30 45]\n",
      "(6,)\n",
      "[ 4  8 10 13 30 45]\n",
      "(6,)\n",
      "only using indices for lower-triangular matrix\n",
      "Connectivity computation...\n",
      "   Processing epoch 1 / 1 ...\n",
      "[Connectivity computation done]\n"
     ]
    },
    {
     "name": "stderr",
     "output_type": "stream",
     "text": [
      "/Users/jakubblaha/Documents/thesis/thesis-python/common.py:114: RuntimeWarning: There were no Annotations stored in <EpochsArray | 1 events (all good), 0 – 7.992 s (baseline off), ~134 kB, data loaded,\n",
      " '1': 1>, so metadata was not modified.\n",
      "  res = mne_connectivity.spectral_connectivity_time(\n"
     ]
    },
    {
     "name": "stdout",
     "output_type": "stream",
     "text": [
      "Computing features for trial:  494\n",
      "[ 4  8 10 13 30 45]\n",
      "(6,)\n",
      "[ 4  8 10 13 30 45]\n",
      "(6,)\n",
      "only using indices for lower-triangular matrix\n",
      "Connectivity computation...\n",
      "   Processing epoch 1 / 1 ...\n",
      "[Connectivity computation done]\n",
      "Computing features for trial:  495\n",
      "[ 4  8 10 13 30 45]\n",
      "(6,)\n",
      "[ 4  8 10 13 30 45]\n",
      "(6,)\n",
      "only using indices for lower-triangular matrix\n",
      "Connectivity computation...\n",
      "   Processing epoch 1 / 1 ...\n"
     ]
    },
    {
     "name": "stderr",
     "output_type": "stream",
     "text": [
      "/Users/jakubblaha/Documents/thesis/thesis-python/common.py:114: RuntimeWarning: There were no Annotations stored in <EpochsArray | 1 events (all good), 0 – 7.992 s (baseline off), ~134 kB, data loaded,\n",
      " '1': 1>, so metadata was not modified.\n",
      "  res = mne_connectivity.spectral_connectivity_time(\n",
      "/Users/jakubblaha/Documents/thesis/thesis-python/common.py:114: RuntimeWarning: There were no Annotations stored in <EpochsArray | 1 events (all good), 0 – 7.992 s (baseline off), ~134 kB, data loaded,\n",
      " '1': 1>, so metadata was not modified.\n",
      "  res = mne_connectivity.spectral_connectivity_time(\n"
     ]
    },
    {
     "name": "stdout",
     "output_type": "stream",
     "text": [
      "[Connectivity computation done]\n",
      "Computing features for trial:  496\n",
      "[ 4  8 10 13 30 45]\n",
      "(6,)\n",
      "[ 4  8 10 13 30 45]\n",
      "(6,)\n",
      "only using indices for lower-triangular matrix\n",
      "Connectivity computation...\n",
      "   Processing epoch 1 / 1 ...\n",
      "[Connectivity computation done]\n",
      "Computing features for trial:  497\n"
     ]
    },
    {
     "name": "stderr",
     "output_type": "stream",
     "text": [
      "/Users/jakubblaha/Documents/thesis/thesis-python/common.py:114: RuntimeWarning: There were no Annotations stored in <EpochsArray | 1 events (all good), 0 – 7.992 s (baseline off), ~134 kB, data loaded,\n",
      " '1': 1>, so metadata was not modified.\n",
      "  res = mne_connectivity.spectral_connectivity_time(\n"
     ]
    },
    {
     "name": "stdout",
     "output_type": "stream",
     "text": [
      "[ 4  8 10 13 30 45]\n",
      "(6,)\n",
      "[ 4  8 10 13 30 45]\n",
      "(6,)\n",
      "only using indices for lower-triangular matrix\n",
      "Connectivity computation...\n",
      "   Processing epoch 1 / 1 ...\n",
      "[Connectivity computation done]\n",
      "Computing features for trial:  498\n"
     ]
    },
    {
     "name": "stderr",
     "output_type": "stream",
     "text": [
      "/Users/jakubblaha/Documents/thesis/thesis-python/common.py:114: RuntimeWarning: There were no Annotations stored in <EpochsArray | 1 events (all good), 0 – 7.992 s (baseline off), ~134 kB, data loaded,\n",
      " '1': 1>, so metadata was not modified.\n",
      "  res = mne_connectivity.spectral_connectivity_time(\n"
     ]
    },
    {
     "name": "stdout",
     "output_type": "stream",
     "text": [
      "[ 4  8 10 13 30 45]\n",
      "(6,)\n",
      "[ 4  8 10 13 30 45]\n",
      "(6,)\n",
      "only using indices for lower-triangular matrix\n",
      "Connectivity computation...\n",
      "   Processing epoch 1 / 1 ...\n"
     ]
    },
    {
     "name": "stderr",
     "output_type": "stream",
     "text": [
      "/Users/jakubblaha/Documents/thesis/thesis-python/common.py:114: RuntimeWarning: There were no Annotations stored in <EpochsArray | 1 events (all good), 0 – 7.992 s (baseline off), ~134 kB, data loaded,\n",
      " '1': 1>, so metadata was not modified.\n",
      "  res = mne_connectivity.spectral_connectivity_time(\n"
     ]
    },
    {
     "name": "stdout",
     "output_type": "stream",
     "text": [
      "[Connectivity computation done]\n",
      "Computing features for trial:  499\n",
      "[ 4  8 10 13 30 45]\n",
      "(6,)\n",
      "[ 4  8 10 13 30 45]\n",
      "(6,)\n",
      "only using indices for lower-triangular matrix\n",
      "Connectivity computation...\n",
      "   Processing epoch 1 / 1 ...\n",
      "[Connectivity computation done]\n"
     ]
    },
    {
     "name": "stderr",
     "output_type": "stream",
     "text": [
      "/Users/jakubblaha/Documents/thesis/thesis-python/common.py:114: RuntimeWarning: There were no Annotations stored in <EpochsArray | 1 events (all good), 0 – 7.992 s (baseline off), ~134 kB, data loaded,\n",
      " '1': 1>, so metadata was not modified.\n",
      "  res = mne_connectivity.spectral_connectivity_time(\n"
     ]
    },
    {
     "name": "stdout",
     "output_type": "stream",
     "text": [
      "Computing features for trial:  500\n",
      "[ 4  8 10 13 30 45]\n",
      "(6,)\n",
      "[ 4  8 10 13 30 45]\n",
      "(6,)\n",
      "only using indices for lower-triangular matrix\n",
      "Connectivity computation...\n",
      "   Processing epoch 1 / 1 ...\n",
      "[Connectivity computation done]\n",
      "Computing features for trial:  501\n"
     ]
    },
    {
     "name": "stderr",
     "output_type": "stream",
     "text": [
      "/Users/jakubblaha/Documents/thesis/thesis-python/common.py:114: RuntimeWarning: There were no Annotations stored in <EpochsArray | 1 events (all good), 0 – 7.992 s (baseline off), ~134 kB, data loaded,\n",
      " '1': 1>, so metadata was not modified.\n",
      "  res = mne_connectivity.spectral_connectivity_time(\n"
     ]
    },
    {
     "name": "stdout",
     "output_type": "stream",
     "text": [
      "[ 4  8 10 13 30 45]\n",
      "(6,)\n",
      "[ 4  8 10 13 30 45]\n",
      "(6,)\n",
      "only using indices for lower-triangular matrix\n",
      "Connectivity computation...\n",
      "   Processing epoch 1 / 1 ...\n",
      "[Connectivity computation done]\n",
      "Computing features for trial:  502\n"
     ]
    },
    {
     "name": "stderr",
     "output_type": "stream",
     "text": [
      "/Users/jakubblaha/Documents/thesis/thesis-python/common.py:114: RuntimeWarning: There were no Annotations stored in <EpochsArray | 1 events (all good), 0 – 7.992 s (baseline off), ~134 kB, data loaded,\n",
      " '1': 1>, so metadata was not modified.\n",
      "  res = mne_connectivity.spectral_connectivity_time(\n"
     ]
    },
    {
     "name": "stdout",
     "output_type": "stream",
     "text": [
      "[ 4  8 10 13 30 45]\n",
      "(6,)\n",
      "[ 4  8 10 13 30 45]\n",
      "(6,)\n",
      "only using indices for lower-triangular matrix\n",
      "Connectivity computation...\n",
      "   Processing epoch 1 / 1 ...\n",
      "[Connectivity computation done]\n",
      "Computing features for trial:  503\n"
     ]
    },
    {
     "name": "stderr",
     "output_type": "stream",
     "text": [
      "/Users/jakubblaha/Documents/thesis/thesis-python/common.py:114: RuntimeWarning: There were no Annotations stored in <EpochsArray | 1 events (all good), 0 – 7.992 s (baseline off), ~134 kB, data loaded,\n",
      " '1': 1>, so metadata was not modified.\n",
      "  res = mne_connectivity.spectral_connectivity_time(\n"
     ]
    },
    {
     "name": "stdout",
     "output_type": "stream",
     "text": [
      "[ 4  8 10 13 30 45]\n",
      "(6,)\n",
      "[ 4  8 10 13 30 45]\n",
      "(6,)\n",
      "only using indices for lower-triangular matrix\n",
      "Connectivity computation...\n",
      "   Processing epoch 1 / 1 ...\n"
     ]
    },
    {
     "name": "stderr",
     "output_type": "stream",
     "text": [
      "/Users/jakubblaha/Documents/thesis/thesis-python/common.py:114: RuntimeWarning: There were no Annotations stored in <EpochsArray | 1 events (all good), 0 – 7.992 s (baseline off), ~134 kB, data loaded,\n",
      " '1': 1>, so metadata was not modified.\n",
      "  res = mne_connectivity.spectral_connectivity_time(\n"
     ]
    },
    {
     "name": "stdout",
     "output_type": "stream",
     "text": [
      "[Connectivity computation done]\n",
      "Computing features for trial:  504\n",
      "[ 4  8 10 13 30 45]\n",
      "(6,)\n",
      "[ 4  8 10 13 30 45]\n",
      "(6,)\n",
      "only using indices for lower-triangular matrix\n",
      "Connectivity computation...\n",
      "   Processing epoch 1 / 1 ...\n",
      "[Connectivity computation done]\n"
     ]
    },
    {
     "name": "stderr",
     "output_type": "stream",
     "text": [
      "/Users/jakubblaha/Documents/thesis/thesis-python/common.py:114: RuntimeWarning: There were no Annotations stored in <EpochsArray | 1 events (all good), 0 – 7.992 s (baseline off), ~134 kB, data loaded,\n",
      " '1': 1>, so metadata was not modified.\n",
      "  res = mne_connectivity.spectral_connectivity_time(\n"
     ]
    },
    {
     "name": "stdout",
     "output_type": "stream",
     "text": [
      "Computing features for trial:  505\n",
      "[ 4  8 10 13 30 45]\n",
      "(6,)\n",
      "[ 4  8 10 13 30 45]\n",
      "(6,)\n",
      "only using indices for lower-triangular matrix\n",
      "Connectivity computation...\n",
      "   Processing epoch 1 / 1 ...\n",
      "[Connectivity computation done]\n",
      "Computing features for trial:  506\n"
     ]
    },
    {
     "name": "stderr",
     "output_type": "stream",
     "text": [
      "/Users/jakubblaha/Documents/thesis/thesis-python/common.py:114: RuntimeWarning: There were no Annotations stored in <EpochsArray | 1 events (all good), 0 – 7.992 s (baseline off), ~134 kB, data loaded,\n",
      " '1': 1>, so metadata was not modified.\n",
      "  res = mne_connectivity.spectral_connectivity_time(\n"
     ]
    },
    {
     "name": "stdout",
     "output_type": "stream",
     "text": [
      "[ 4  8 10 13 30 45]\n",
      "(6,)\n",
      "[ 4  8 10 13 30 45]\n",
      "(6,)\n",
      "only using indices for lower-triangular matrix\n",
      "Connectivity computation...\n",
      "   Processing epoch 1 / 1 ...\n",
      "[Connectivity computation done]\n",
      "Computing features for trial:  507\n"
     ]
    },
    {
     "name": "stderr",
     "output_type": "stream",
     "text": [
      "/Users/jakubblaha/Documents/thesis/thesis-python/common.py:114: RuntimeWarning: There were no Annotations stored in <EpochsArray | 1 events (all good), 0 – 7.992 s (baseline off), ~134 kB, data loaded,\n",
      " '1': 1>, so metadata was not modified.\n",
      "  res = mne_connectivity.spectral_connectivity_time(\n"
     ]
    },
    {
     "name": "stdout",
     "output_type": "stream",
     "text": [
      "[ 4  8 10 13 30 45]\n",
      "(6,)\n",
      "[ 4  8 10 13 30 45]\n",
      "(6,)\n",
      "only using indices for lower-triangular matrix\n",
      "Connectivity computation...\n",
      "   Processing epoch 1 / 1 ...\n",
      "[Connectivity computation done]\n",
      "Computing features for trial:  508\n"
     ]
    },
    {
     "name": "stderr",
     "output_type": "stream",
     "text": [
      "/Users/jakubblaha/Documents/thesis/thesis-python/common.py:114: RuntimeWarning: There were no Annotations stored in <EpochsArray | 1 events (all good), 0 – 7.992 s (baseline off), ~134 kB, data loaded,\n",
      " '1': 1>, so metadata was not modified.\n",
      "  res = mne_connectivity.spectral_connectivity_time(\n"
     ]
    },
    {
     "name": "stdout",
     "output_type": "stream",
     "text": [
      "[ 4  8 10 13 30 45]\n",
      "(6,)\n",
      "[ 4  8 10 13 30 45]\n",
      "(6,)\n",
      "only using indices for lower-triangular matrix\n",
      "Connectivity computation...\n",
      "   Processing epoch 1 / 1 ...\n"
     ]
    },
    {
     "name": "stderr",
     "output_type": "stream",
     "text": [
      "/Users/jakubblaha/Documents/thesis/thesis-python/common.py:114: RuntimeWarning: There were no Annotations stored in <EpochsArray | 1 events (all good), 0 – 7.992 s (baseline off), ~134 kB, data loaded,\n",
      " '1': 1>, so metadata was not modified.\n",
      "  res = mne_connectivity.spectral_connectivity_time(\n"
     ]
    },
    {
     "name": "stdout",
     "output_type": "stream",
     "text": [
      "[Connectivity computation done]\n",
      "Computing features for trial:  509\n",
      "[ 4  8 10 13 30 45]\n",
      "(6,)\n",
      "[ 4  8 10 13 30 45]\n",
      "(6,)\n",
      "only using indices for lower-triangular matrix\n",
      "Connectivity computation...\n",
      "   Processing epoch 1 / 1 ...\n",
      "[Connectivity computation done]\n"
     ]
    },
    {
     "name": "stderr",
     "output_type": "stream",
     "text": [
      "/Users/jakubblaha/Documents/thesis/thesis-python/common.py:114: RuntimeWarning: There were no Annotations stored in <EpochsArray | 1 events (all good), 0 – 7.992 s (baseline off), ~134 kB, data loaded,\n",
      " '1': 1>, so metadata was not modified.\n",
      "  res = mne_connectivity.spectral_connectivity_time(\n"
     ]
    },
    {
     "name": "stdout",
     "output_type": "stream",
     "text": [
      "Computing features for trial:  510\n",
      "[ 4  8 10 13 30 45]\n",
      "(6,)\n",
      "[ 4  8 10 13 30 45]\n",
      "(6,)\n",
      "only using indices for lower-triangular matrix\n",
      "Connectivity computation...\n",
      "   Processing epoch 1 / 1 ...\n",
      "[Connectivity computation done]\n",
      "Computing features for trial:  511\n"
     ]
    },
    {
     "name": "stderr",
     "output_type": "stream",
     "text": [
      "/Users/jakubblaha/Documents/thesis/thesis-python/common.py:114: RuntimeWarning: There were no Annotations stored in <EpochsArray | 1 events (all good), 0 – 7.992 s (baseline off), ~134 kB, data loaded,\n",
      " '1': 1>, so metadata was not modified.\n",
      "  res = mne_connectivity.spectral_connectivity_time(\n"
     ]
    },
    {
     "name": "stdout",
     "output_type": "stream",
     "text": [
      "[ 4  8 10 13 30 45]\n",
      "(6,)\n",
      "[ 4  8 10 13 30 45]\n",
      "(6,)\n",
      "only using indices for lower-triangular matrix\n",
      "Connectivity computation...\n",
      "   Processing epoch 1 / 1 ...\n",
      "[Connectivity computation done]\n",
      "Computing features for trial:  512\n",
      "[ 4  8 10 13 30 45]\n",
      "(6,)\n"
     ]
    },
    {
     "name": "stderr",
     "output_type": "stream",
     "text": [
      "/Users/jakubblaha/Documents/thesis/thesis-python/common.py:114: RuntimeWarning: There were no Annotations stored in <EpochsArray | 1 events (all good), 0 – 7.992 s (baseline off), ~134 kB, data loaded,\n",
      " '1': 1>, so metadata was not modified.\n",
      "  res = mne_connectivity.spectral_connectivity_time(\n"
     ]
    },
    {
     "name": "stdout",
     "output_type": "stream",
     "text": [
      "[ 4  8 10 13 30 45]\n",
      "(6,)\n",
      "only using indices for lower-triangular matrix\n",
      "Connectivity computation...\n",
      "   Processing epoch 1 / 1 ...\n",
      "[Connectivity computation done]\n",
      "Computing features for trial:  513\n"
     ]
    },
    {
     "name": "stderr",
     "output_type": "stream",
     "text": [
      "/Users/jakubblaha/Documents/thesis/thesis-python/common.py:114: RuntimeWarning: There were no Annotations stored in <EpochsArray | 1 events (all good), 0 – 7.992 s (baseline off), ~134 kB, data loaded,\n",
      " '1': 1>, so metadata was not modified.\n",
      "  res = mne_connectivity.spectral_connectivity_time(\n"
     ]
    },
    {
     "name": "stdout",
     "output_type": "stream",
     "text": [
      "[ 4  8 10 13 30 45]\n",
      "(6,)\n",
      "[ 4  8 10 13 30 45]\n",
      "(6,)\n",
      "only using indices for lower-triangular matrix\n",
      "Connectivity computation...\n",
      "   Processing epoch 1 / 1 ...\n"
     ]
    },
    {
     "name": "stderr",
     "output_type": "stream",
     "text": [
      "/Users/jakubblaha/Documents/thesis/thesis-python/common.py:114: RuntimeWarning: There were no Annotations stored in <EpochsArray | 1 events (all good), 0 – 7.992 s (baseline off), ~134 kB, data loaded,\n",
      " '1': 1>, so metadata was not modified.\n",
      "  res = mne_connectivity.spectral_connectivity_time(\n"
     ]
    },
    {
     "name": "stdout",
     "output_type": "stream",
     "text": [
      "[Connectivity computation done]\n",
      "Computing features for trial:  514\n",
      "[ 4  8 10 13 30 45]\n",
      "(6,)\n",
      "[ 4  8 10 13 30 45]\n",
      "(6,)\n",
      "only using indices for lower-triangular matrix\n",
      "Connectivity computation...\n",
      "   Processing epoch 1 / 1 ...\n",
      "[Connectivity computation done]\n",
      "Computing features for trial:  515\n",
      "[ 4  8 10 13 30 45]\n",
      "(6,)\n",
      "[ 4  8 10 13 30 45]\n",
      "(6,)\n",
      "only using indices for lower-triangular matrix\n",
      "Connectivity computation...\n"
     ]
    },
    {
     "name": "stderr",
     "output_type": "stream",
     "text": [
      "/Users/jakubblaha/Documents/thesis/thesis-python/common.py:114: RuntimeWarning: There were no Annotations stored in <EpochsArray | 1 events (all good), 0 – 7.992 s (baseline off), ~134 kB, data loaded,\n",
      " '1': 1>, so metadata was not modified.\n",
      "  res = mne_connectivity.spectral_connectivity_time(\n",
      "/Users/jakubblaha/Documents/thesis/thesis-python/common.py:114: RuntimeWarning: There were no Annotations stored in <EpochsArray | 1 events (all good), 0 – 7.992 s (baseline off), ~134 kB, data loaded,\n",
      " '1': 1>, so metadata was not modified.\n",
      "  res = mne_connectivity.spectral_connectivity_time(\n"
     ]
    },
    {
     "name": "stdout",
     "output_type": "stream",
     "text": [
      "   Processing epoch 1 / 1 ...\n",
      "[Connectivity computation done]\n",
      "Computing features for trial:  516\n",
      "[ 4  8 10 13 30 45]\n",
      "(6,)\n",
      "[ 4  8 10 13 30 45]\n",
      "(6,)\n",
      "only using indices for lower-triangular matrix\n",
      "Connectivity computation...\n",
      "   Processing epoch 1 / 1 ...\n",
      "[Connectivity computation done]\n",
      "Computing features for trial:  517\n"
     ]
    },
    {
     "name": "stderr",
     "output_type": "stream",
     "text": [
      "/Users/jakubblaha/Documents/thesis/thesis-python/common.py:114: RuntimeWarning: There were no Annotations stored in <EpochsArray | 1 events (all good), 0 – 7.992 s (baseline off), ~134 kB, data loaded,\n",
      " '1': 1>, so metadata was not modified.\n",
      "  res = mne_connectivity.spectral_connectivity_time(\n"
     ]
    },
    {
     "name": "stdout",
     "output_type": "stream",
     "text": [
      "[ 4  8 10 13 30 45]\n",
      "(6,)\n",
      "[ 4  8 10 13 30 45]\n",
      "(6,)\n",
      "only using indices for lower-triangular matrix\n",
      "Connectivity computation...\n",
      "   Processing epoch 1 / 1 ...\n",
      "[Connectivity computation done]\n",
      "Computing features for trial:  518\n"
     ]
    },
    {
     "name": "stderr",
     "output_type": "stream",
     "text": [
      "/Users/jakubblaha/Documents/thesis/thesis-python/common.py:114: RuntimeWarning: There were no Annotations stored in <EpochsArray | 1 events (all good), 0 – 7.992 s (baseline off), ~134 kB, data loaded,\n",
      " '1': 1>, so metadata was not modified.\n",
      "  res = mne_connectivity.spectral_connectivity_time(\n"
     ]
    },
    {
     "name": "stdout",
     "output_type": "stream",
     "text": [
      "[ 4  8 10 13 30 45]\n",
      "(6,)\n",
      "[ 4  8 10 13 30 45]\n",
      "(6,)\n",
      "only using indices for lower-triangular matrix\n",
      "Connectivity computation...\n",
      "   Processing epoch 1 / 1 ...\n",
      "[Connectivity computation done]\n",
      "Computing features for trial:  519\n"
     ]
    },
    {
     "name": "stderr",
     "output_type": "stream",
     "text": [
      "/Users/jakubblaha/Documents/thesis/thesis-python/common.py:114: RuntimeWarning: There were no Annotations stored in <EpochsArray | 1 events (all good), 0 – 7.992 s (baseline off), ~134 kB, data loaded,\n",
      " '1': 1>, so metadata was not modified.\n",
      "  res = mne_connectivity.spectral_connectivity_time(\n"
     ]
    },
    {
     "name": "stdout",
     "output_type": "stream",
     "text": [
      "[ 4  8 10 13 30 45]\n",
      "(6,)\n",
      "[ 4  8 10 13 30 45]\n",
      "(6,)\n",
      "only using indices for lower-triangular matrix\n",
      "Connectivity computation...\n",
      "   Processing epoch 1 / 1 ...\n"
     ]
    },
    {
     "name": "stderr",
     "output_type": "stream",
     "text": [
      "/Users/jakubblaha/Documents/thesis/thesis-python/common.py:114: RuntimeWarning: There were no Annotations stored in <EpochsArray | 1 events (all good), 0 – 7.992 s (baseline off), ~134 kB, data loaded,\n",
      " '1': 1>, so metadata was not modified.\n",
      "  res = mne_connectivity.spectral_connectivity_time(\n"
     ]
    },
    {
     "name": "stdout",
     "output_type": "stream",
     "text": [
      "[Connectivity computation done]\n",
      "Computing features for trial:  520\n",
      "[ 4  8 10 13 30 45]\n",
      "(6,)\n",
      "[ 4  8 10 13 30 45]\n",
      "(6,)\n",
      "only using indices for lower-triangular matrix\n",
      "Connectivity computation...\n",
      "   Processing epoch 1 / 1 ...\n",
      "[Connectivity computation done]\n"
     ]
    },
    {
     "name": "stderr",
     "output_type": "stream",
     "text": [
      "/Users/jakubblaha/Documents/thesis/thesis-python/common.py:114: RuntimeWarning: There were no Annotations stored in <EpochsArray | 1 events (all good), 0 – 7.992 s (baseline off), ~134 kB, data loaded,\n",
      " '1': 1>, so metadata was not modified.\n",
      "  res = mne_connectivity.spectral_connectivity_time(\n"
     ]
    },
    {
     "name": "stdout",
     "output_type": "stream",
     "text": [
      "Computing features for trial:  521\n",
      "[ 4  8 10 13 30 45]\n",
      "(6,)\n",
      "[ 4  8 10 13 30 45]\n",
      "(6,)\n",
      "only using indices for lower-triangular matrix\n",
      "Connectivity computation...\n",
      "   Processing epoch 1 / 1 ...\n",
      "[Connectivity computation done]\n",
      "Computing features for trial:  522\n"
     ]
    },
    {
     "name": "stderr",
     "output_type": "stream",
     "text": [
      "/Users/jakubblaha/Documents/thesis/thesis-python/common.py:114: RuntimeWarning: There were no Annotations stored in <EpochsArray | 1 events (all good), 0 – 7.992 s (baseline off), ~134 kB, data loaded,\n",
      " '1': 1>, so metadata was not modified.\n",
      "  res = mne_connectivity.spectral_connectivity_time(\n"
     ]
    },
    {
     "name": "stdout",
     "output_type": "stream",
     "text": [
      "[ 4  8 10 13 30 45]\n",
      "(6,)\n",
      "[ 4  8 10 13 30 45]\n",
      "(6,)\n",
      "only using indices for lower-triangular matrix\n",
      "Connectivity computation...\n",
      "   Processing epoch 1 / 1 ...\n",
      "[Connectivity computation done]\n",
      "Computing features for trial:  523\n"
     ]
    },
    {
     "name": "stderr",
     "output_type": "stream",
     "text": [
      "/Users/jakubblaha/Documents/thesis/thesis-python/common.py:114: RuntimeWarning: There were no Annotations stored in <EpochsArray | 1 events (all good), 0 – 7.992 s (baseline off), ~134 kB, data loaded,\n",
      " '1': 1>, so metadata was not modified.\n",
      "  res = mne_connectivity.spectral_connectivity_time(\n"
     ]
    },
    {
     "name": "stdout",
     "output_type": "stream",
     "text": [
      "[ 4  8 10 13 30 45]\n",
      "(6,)\n",
      "[ 4  8 10 13 30 45]\n",
      "(6,)\n",
      "only using indices for lower-triangular matrix\n",
      "Connectivity computation...\n",
      "   Processing epoch 1 / 1 ...\n",
      "[Connectivity computation done]\n",
      "Computing features for trial:  524\n"
     ]
    },
    {
     "name": "stderr",
     "output_type": "stream",
     "text": [
      "/Users/jakubblaha/Documents/thesis/thesis-python/common.py:114: RuntimeWarning: There were no Annotations stored in <EpochsArray | 1 events (all good), 0 – 7.992 s (baseline off), ~134 kB, data loaded,\n",
      " '1': 1>, so metadata was not modified.\n",
      "  res = mne_connectivity.spectral_connectivity_time(\n"
     ]
    },
    {
     "name": "stdout",
     "output_type": "stream",
     "text": [
      "[ 4  8 10 13 30 45]\n",
      "(6,)\n",
      "[ 4  8 10 13 30 45]\n",
      "(6,)\n",
      "only using indices for lower-triangular matrix\n",
      "Connectivity computation...\n",
      "   Processing epoch 1 / 1 ...\n",
      "[Connectivity computation done]\n",
      "Computing features for trial:  525\n"
     ]
    },
    {
     "name": "stderr",
     "output_type": "stream",
     "text": [
      "/Users/jakubblaha/Documents/thesis/thesis-python/common.py:114: RuntimeWarning: There were no Annotations stored in <EpochsArray | 1 events (all good), 0 – 7.992 s (baseline off), ~134 kB, data loaded,\n",
      " '1': 1>, so metadata was not modified.\n",
      "  res = mne_connectivity.spectral_connectivity_time(\n"
     ]
    },
    {
     "name": "stdout",
     "output_type": "stream",
     "text": [
      "[ 4  8 10 13 30 45]\n",
      "(6,)\n",
      "[ 4  8 10 13 30 45]\n",
      "(6,)\n",
      "only using indices for lower-triangular matrix\n",
      "Connectivity computation...\n",
      "   Processing epoch 1 / 1 ...\n",
      "[Connectivity computation done]\n",
      "Computing features for trial:  526\n"
     ]
    },
    {
     "name": "stderr",
     "output_type": "stream",
     "text": [
      "/Users/jakubblaha/Documents/thesis/thesis-python/common.py:114: RuntimeWarning: There were no Annotations stored in <EpochsArray | 1 events (all good), 0 – 7.992 s (baseline off), ~134 kB, data loaded,\n",
      " '1': 1>, so metadata was not modified.\n",
      "  res = mne_connectivity.spectral_connectivity_time(\n"
     ]
    },
    {
     "name": "stdout",
     "output_type": "stream",
     "text": [
      "[ 4  8 10 13 30 45]\n",
      "(6,)\n",
      "[ 4  8 10 13 30 45]\n",
      "(6,)\n",
      "only using indices for lower-triangular matrix\n",
      "Connectivity computation...\n",
      "   Processing epoch 1 / 1 ...\n",
      "[Connectivity computation done]\n",
      "Computing features for trial:  527\n"
     ]
    },
    {
     "name": "stderr",
     "output_type": "stream",
     "text": [
      "/Users/jakubblaha/Documents/thesis/thesis-python/common.py:114: RuntimeWarning: There were no Annotations stored in <EpochsArray | 1 events (all good), 0 – 7.992 s (baseline off), ~134 kB, data loaded,\n",
      " '1': 1>, so metadata was not modified.\n",
      "  res = mne_connectivity.spectral_connectivity_time(\n"
     ]
    },
    {
     "name": "stdout",
     "output_type": "stream",
     "text": [
      "[ 4  8 10 13 30 45]\n",
      "(6,)\n",
      "[ 4  8 10 13 30 45]\n",
      "(6,)\n",
      "only using indices for lower-triangular matrix\n",
      "Connectivity computation...\n",
      "   Processing epoch 1 / 1 ...\n",
      "[Connectivity computation done]\n",
      "Computing features for trial:  528\n"
     ]
    },
    {
     "name": "stderr",
     "output_type": "stream",
     "text": [
      "/Users/jakubblaha/Documents/thesis/thesis-python/common.py:114: RuntimeWarning: There were no Annotations stored in <EpochsArray | 1 events (all good), 0 – 7.992 s (baseline off), ~134 kB, data loaded,\n",
      " '1': 1>, so metadata was not modified.\n",
      "  res = mne_connectivity.spectral_connectivity_time(\n"
     ]
    },
    {
     "name": "stdout",
     "output_type": "stream",
     "text": [
      "[ 4  8 10 13 30 45]\n",
      "(6,)\n",
      "[ 4  8 10 13 30 45]\n",
      "(6,)\n",
      "only using indices for lower-triangular matrix\n",
      "Connectivity computation...\n",
      "   Processing epoch 1 / 1 ...\n",
      "[Connectivity computation done]\n",
      "Computing features for trial:  529\n"
     ]
    },
    {
     "name": "stderr",
     "output_type": "stream",
     "text": [
      "/Users/jakubblaha/Documents/thesis/thesis-python/common.py:114: RuntimeWarning: There were no Annotations stored in <EpochsArray | 1 events (all good), 0 – 7.992 s (baseline off), ~134 kB, data loaded,\n",
      " '1': 1>, so metadata was not modified.\n",
      "  res = mne_connectivity.spectral_connectivity_time(\n"
     ]
    },
    {
     "name": "stdout",
     "output_type": "stream",
     "text": [
      "[ 4  8 10 13 30 45]\n",
      "(6,)\n",
      "[ 4  8 10 13 30 45]\n",
      "(6,)\n",
      "only using indices for lower-triangular matrix\n",
      "Connectivity computation...\n",
      "   Processing epoch 1 / 1 ...\n",
      "[Connectivity computation done]\n",
      "Computing features for trial:  530\n"
     ]
    },
    {
     "name": "stderr",
     "output_type": "stream",
     "text": [
      "/Users/jakubblaha/Documents/thesis/thesis-python/common.py:114: RuntimeWarning: There were no Annotations stored in <EpochsArray | 1 events (all good), 0 – 7.992 s (baseline off), ~134 kB, data loaded,\n",
      " '1': 1>, so metadata was not modified.\n",
      "  res = mne_connectivity.spectral_connectivity_time(\n"
     ]
    },
    {
     "name": "stdout",
     "output_type": "stream",
     "text": [
      "[ 4  8 10 13 30 45]\n",
      "(6,)\n",
      "[ 4  8 10 13 30 45]\n",
      "(6,)\n",
      "only using indices for lower-triangular matrix\n",
      "Connectivity computation...\n",
      "   Processing epoch 1 / 1 ...\n"
     ]
    },
    {
     "name": "stderr",
     "output_type": "stream",
     "text": [
      "/Users/jakubblaha/Documents/thesis/thesis-python/common.py:114: RuntimeWarning: There were no Annotations stored in <EpochsArray | 1 events (all good), 0 – 7.992 s (baseline off), ~134 kB, data loaded,\n",
      " '1': 1>, so metadata was not modified.\n",
      "  res = mne_connectivity.spectral_connectivity_time(\n"
     ]
    },
    {
     "name": "stdout",
     "output_type": "stream",
     "text": [
      "[Connectivity computation done]\n",
      "Computing features for trial:  531\n",
      "[ 4  8 10 13 30 45]\n",
      "(6,)\n",
      "[ 4  8 10 13 30 45]\n",
      "(6,)\n",
      "only using indices for lower-triangular matrix\n",
      "Connectivity computation...\n",
      "   Processing epoch 1 / 1 ...\n",
      "[Connectivity computation done]\n",
      "Computing features for trial:  532\n"
     ]
    },
    {
     "name": "stderr",
     "output_type": "stream",
     "text": [
      "/Users/jakubblaha/Documents/thesis/thesis-python/common.py:114: RuntimeWarning: There were no Annotations stored in <EpochsArray | 1 events (all good), 0 – 7.992 s (baseline off), ~134 kB, data loaded,\n",
      " '1': 1>, so metadata was not modified.\n",
      "  res = mne_connectivity.spectral_connectivity_time(\n"
     ]
    },
    {
     "name": "stdout",
     "output_type": "stream",
     "text": [
      "[ 4  8 10 13 30 45]\n",
      "(6,)\n",
      "[ 4  8 10 13 30 45]\n",
      "(6,)\n",
      "only using indices for lower-triangular matrix\n",
      "Connectivity computation...\n",
      "   Processing epoch 1 / 1 ...\n",
      "[Connectivity computation done]\n",
      "Computing features for trial:  533\n",
      "[ 4  8 10 13 30 45]\n",
      "(6,)\n",
      "[ 4  8 10 13 30 45]\n",
      "(6,)\n"
     ]
    },
    {
     "name": "stderr",
     "output_type": "stream",
     "text": [
      "/Users/jakubblaha/Documents/thesis/thesis-python/common.py:114: RuntimeWarning: There were no Annotations stored in <EpochsArray | 1 events (all good), 0 – 7.992 s (baseline off), ~134 kB, data loaded,\n",
      " '1': 1>, so metadata was not modified.\n",
      "  res = mne_connectivity.spectral_connectivity_time(\n",
      "/Users/jakubblaha/Documents/thesis/thesis-python/common.py:114: RuntimeWarning: There were no Annotations stored in <EpochsArray | 1 events (all good), 0 – 7.992 s (baseline off), ~134 kB, data loaded,\n",
      " '1': 1>, so metadata was not modified.\n",
      "  res = mne_connectivity.spectral_connectivity_time(\n"
     ]
    },
    {
     "name": "stdout",
     "output_type": "stream",
     "text": [
      "only using indices for lower-triangular matrix\n",
      "Connectivity computation...\n",
      "   Processing epoch 1 / 1 ...\n",
      "[Connectivity computation done]\n",
      "Computing features for trial:  534\n",
      "[ 4  8 10 13 30 45]\n",
      "(6,)\n",
      "[ 4  8 10 13 30 45]\n",
      "(6,)\n",
      "only using indices for lower-triangular matrix\n",
      "Connectivity computation...\n",
      "   Processing epoch 1 / 1 ...\n",
      "[Connectivity computation done]\n",
      "Computing features for trial:  535\n"
     ]
    },
    {
     "name": "stderr",
     "output_type": "stream",
     "text": [
      "/Users/jakubblaha/Documents/thesis/thesis-python/common.py:114: RuntimeWarning: There were no Annotations stored in <EpochsArray | 1 events (all good), 0 – 7.992 s (baseline off), ~134 kB, data loaded,\n",
      " '1': 1>, so metadata was not modified.\n",
      "  res = mne_connectivity.spectral_connectivity_time(\n"
     ]
    },
    {
     "name": "stdout",
     "output_type": "stream",
     "text": [
      "[ 4  8 10 13 30 45]\n",
      "(6,)\n",
      "[ 4  8 10 13 30 45]\n",
      "(6,)\n",
      "only using indices for lower-triangular matrix\n",
      "Connectivity computation...\n",
      "   Processing epoch 1 / 1 ...\n",
      "[Connectivity computation done]\n",
      "Computing features for trial:  536\n"
     ]
    },
    {
     "name": "stderr",
     "output_type": "stream",
     "text": [
      "/Users/jakubblaha/Documents/thesis/thesis-python/common.py:114: RuntimeWarning: There were no Annotations stored in <EpochsArray | 1 events (all good), 0 – 7.992 s (baseline off), ~134 kB, data loaded,\n",
      " '1': 1>, so metadata was not modified.\n",
      "  res = mne_connectivity.spectral_connectivity_time(\n"
     ]
    },
    {
     "name": "stdout",
     "output_type": "stream",
     "text": [
      "[ 4  8 10 13 30 45]\n",
      "(6,)\n",
      "[ 4  8 10 13 30 45]\n",
      "(6,)\n",
      "only using indices for lower-triangular matrix\n",
      "Connectivity computation...\n",
      "   Processing epoch 1 / 1 ...\n"
     ]
    },
    {
     "name": "stderr",
     "output_type": "stream",
     "text": [
      "/Users/jakubblaha/Documents/thesis/thesis-python/common.py:114: RuntimeWarning: There were no Annotations stored in <EpochsArray | 1 events (all good), 0 – 7.992 s (baseline off), ~134 kB, data loaded,\n",
      " '1': 1>, so metadata was not modified.\n",
      "  res = mne_connectivity.spectral_connectivity_time(\n"
     ]
    },
    {
     "name": "stdout",
     "output_type": "stream",
     "text": [
      "[Connectivity computation done]\n",
      "Computing features for trial:  537\n",
      "[ 4  8 10 13 30 45]\n",
      "(6,)\n",
      "[ 4  8 10 13 30 45]\n",
      "(6,)\n",
      "only using indices for lower-triangular matrix\n",
      "Connectivity computation...\n",
      "   Processing epoch 1 / 1 ...\n",
      "[Connectivity computation done]\n"
     ]
    },
    {
     "name": "stderr",
     "output_type": "stream",
     "text": [
      "/Users/jakubblaha/Documents/thesis/thesis-python/common.py:114: RuntimeWarning: There were no Annotations stored in <EpochsArray | 1 events (all good), 0 – 7.992 s (baseline off), ~134 kB, data loaded,\n",
      " '1': 1>, so metadata was not modified.\n",
      "  res = mne_connectivity.spectral_connectivity_time(\n"
     ]
    },
    {
     "name": "stdout",
     "output_type": "stream",
     "text": [
      "Computing features for trial:  538\n",
      "[ 4  8 10 13 30 45]\n",
      "(6,)\n",
      "[ 4  8 10 13 30 45]\n",
      "(6,)\n",
      "only using indices for lower-triangular matrix\n",
      "Connectivity computation...\n",
      "   Processing epoch 1 / 1 ...\n",
      "[Connectivity computation done]\n",
      "Computing features for trial:  539\n"
     ]
    },
    {
     "name": "stderr",
     "output_type": "stream",
     "text": [
      "/Users/jakubblaha/Documents/thesis/thesis-python/common.py:114: RuntimeWarning: There were no Annotations stored in <EpochsArray | 1 events (all good), 0 – 7.992 s (baseline off), ~134 kB, data loaded,\n",
      " '1': 1>, so metadata was not modified.\n",
      "  res = mne_connectivity.spectral_connectivity_time(\n"
     ]
    },
    {
     "name": "stdout",
     "output_type": "stream",
     "text": [
      "[ 4  8 10 13 30 45]\n",
      "(6,)\n",
      "[ 4  8 10 13 30 45]\n",
      "(6,)\n",
      "only using indices for lower-triangular matrix\n",
      "Connectivity computation...\n",
      "   Processing epoch 1 / 1 ...\n",
      "[Connectivity computation done]\n",
      "Computing features for trial:  540\n"
     ]
    },
    {
     "name": "stderr",
     "output_type": "stream",
     "text": [
      "/Users/jakubblaha/Documents/thesis/thesis-python/common.py:114: RuntimeWarning: There were no Annotations stored in <EpochsArray | 1 events (all good), 0 – 7.992 s (baseline off), ~134 kB, data loaded,\n",
      " '1': 1>, so metadata was not modified.\n",
      "  res = mne_connectivity.spectral_connectivity_time(\n"
     ]
    },
    {
     "name": "stdout",
     "output_type": "stream",
     "text": [
      "[ 4  8 10 13 30 45]\n",
      "(6,)\n",
      "[ 4  8 10 13 30 45]\n",
      "(6,)\n",
      "only using indices for lower-triangular matrix\n",
      "Connectivity computation...\n",
      "   Processing epoch 1 / 1 ...\n",
      "[Connectivity computation done]\n",
      "Computing features for trial:  541\n"
     ]
    },
    {
     "name": "stderr",
     "output_type": "stream",
     "text": [
      "/Users/jakubblaha/Documents/thesis/thesis-python/common.py:114: RuntimeWarning: There were no Annotations stored in <EpochsArray | 1 events (all good), 0 – 7.992 s (baseline off), ~134 kB, data loaded,\n",
      " '1': 1>, so metadata was not modified.\n",
      "  res = mne_connectivity.spectral_connectivity_time(\n"
     ]
    },
    {
     "name": "stdout",
     "output_type": "stream",
     "text": [
      "[ 4  8 10 13 30 45]\n",
      "(6,)\n",
      "[ 4  8 10 13 30 45]\n",
      "(6,)\n",
      "only using indices for lower-triangular matrix\n",
      "Connectivity computation...\n",
      "   Processing epoch 1 / 1 ...\n"
     ]
    },
    {
     "name": "stderr",
     "output_type": "stream",
     "text": [
      "/Users/jakubblaha/Documents/thesis/thesis-python/common.py:114: RuntimeWarning: There were no Annotations stored in <EpochsArray | 1 events (all good), 0 – 7.992 s (baseline off), ~134 kB, data loaded,\n",
      " '1': 1>, so metadata was not modified.\n",
      "  res = mne_connectivity.spectral_connectivity_time(\n"
     ]
    },
    {
     "name": "stdout",
     "output_type": "stream",
     "text": [
      "[Connectivity computation done]\n",
      "Computing features for trial:  542\n",
      "[ 4  8 10 13 30 45]\n",
      "(6,)\n",
      "[ 4  8 10 13 30 45]\n",
      "(6,)\n",
      "only using indices for lower-triangular matrix\n",
      "Connectivity computation...\n",
      "   Processing epoch 1 / 1 ...\n",
      "[Connectivity computation done]\n"
     ]
    },
    {
     "name": "stderr",
     "output_type": "stream",
     "text": [
      "/Users/jakubblaha/Documents/thesis/thesis-python/common.py:114: RuntimeWarning: There were no Annotations stored in <EpochsArray | 1 events (all good), 0 – 7.992 s (baseline off), ~134 kB, data loaded,\n",
      " '1': 1>, so metadata was not modified.\n",
      "  res = mne_connectivity.spectral_connectivity_time(\n"
     ]
    },
    {
     "name": "stdout",
     "output_type": "stream",
     "text": [
      "Computing features for trial:  543\n",
      "[ 4  8 10 13 30 45]\n",
      "(6,)\n",
      "[ 4  8 10 13 30 45]\n",
      "(6,)\n",
      "only using indices for lower-triangular matrix\n",
      "Connectivity computation...\n",
      "   Processing epoch 1 / 1 ...\n",
      "[Connectivity computation done]\n"
     ]
    },
    {
     "name": "stderr",
     "output_type": "stream",
     "text": [
      "/Users/jakubblaha/Documents/thesis/thesis-python/common.py:114: RuntimeWarning: There were no Annotations stored in <EpochsArray | 1 events (all good), 0 – 7.992 s (baseline off), ~134 kB, data loaded,\n",
      " '1': 1>, so metadata was not modified.\n",
      "  res = mne_connectivity.spectral_connectivity_time(\n"
     ]
    },
    {
     "name": "stdout",
     "output_type": "stream",
     "text": [
      "Computing features for trial:  544\n",
      "[ 4  8 10 13 30 45]\n",
      "(6,)\n",
      "[ 4  8 10 13 30 45]\n",
      "(6,)\n",
      "only using indices for lower-triangular matrix\n",
      "Connectivity computation...\n",
      "   Processing epoch 1 / 1 ...\n",
      "[Connectivity computation done]\n",
      "Computing features for trial:  545\n"
     ]
    },
    {
     "name": "stderr",
     "output_type": "stream",
     "text": [
      "/Users/jakubblaha/Documents/thesis/thesis-python/common.py:114: RuntimeWarning: There were no Annotations stored in <EpochsArray | 1 events (all good), 0 – 7.992 s (baseline off), ~134 kB, data loaded,\n",
      " '1': 1>, so metadata was not modified.\n",
      "  res = mne_connectivity.spectral_connectivity_time(\n"
     ]
    },
    {
     "name": "stdout",
     "output_type": "stream",
     "text": [
      "[ 4  8 10 13 30 45]\n",
      "(6,)\n",
      "[ 4  8 10 13 30 45]\n",
      "(6,)\n",
      "only using indices for lower-triangular matrix\n",
      "Connectivity computation...\n",
      "   Processing epoch 1 / 1 ...\n",
      "[Connectivity computation done]\n",
      "Computing features for trial:  546\n"
     ]
    },
    {
     "name": "stderr",
     "output_type": "stream",
     "text": [
      "/Users/jakubblaha/Documents/thesis/thesis-python/common.py:114: RuntimeWarning: There were no Annotations stored in <EpochsArray | 1 events (all good), 0 – 7.992 s (baseline off), ~134 kB, data loaded,\n",
      " '1': 1>, so metadata was not modified.\n",
      "  res = mne_connectivity.spectral_connectivity_time(\n"
     ]
    },
    {
     "name": "stdout",
     "output_type": "stream",
     "text": [
      "[ 4  8 10 13 30 45]\n",
      "(6,)\n",
      "[ 4  8 10 13 30 45]\n",
      "(6,)\n",
      "only using indices for lower-triangular matrix\n",
      "Connectivity computation...\n",
      "   Processing epoch 1 / 1 ...\n"
     ]
    },
    {
     "name": "stderr",
     "output_type": "stream",
     "text": [
      "/Users/jakubblaha/Documents/thesis/thesis-python/common.py:114: RuntimeWarning: There were no Annotations stored in <EpochsArray | 1 events (all good), 0 – 7.992 s (baseline off), ~134 kB, data loaded,\n",
      " '1': 1>, so metadata was not modified.\n",
      "  res = mne_connectivity.spectral_connectivity_time(\n"
     ]
    },
    {
     "name": "stdout",
     "output_type": "stream",
     "text": [
      "[Connectivity computation done]\n",
      "Computing features for trial:  547\n",
      "[ 4  8 10 13 30 45]\n",
      "(6,)\n",
      "[ 4  8 10 13 30 45]\n",
      "(6,)\n",
      "only using indices for lower-triangular matrix\n",
      "Connectivity computation...\n",
      "   Processing epoch 1 / 1 ...\n",
      "[Connectivity computation done]\n"
     ]
    },
    {
     "name": "stderr",
     "output_type": "stream",
     "text": [
      "/Users/jakubblaha/Documents/thesis/thesis-python/common.py:114: RuntimeWarning: There were no Annotations stored in <EpochsArray | 1 events (all good), 0 – 7.992 s (baseline off), ~134 kB, data loaded,\n",
      " '1': 1>, so metadata was not modified.\n",
      "  res = mne_connectivity.spectral_connectivity_time(\n"
     ]
    },
    {
     "name": "stdout",
     "output_type": "stream",
     "text": [
      "Computing features for trial:  548\n",
      "[ 4  8 10 13 30 45]\n",
      "(6,)\n",
      "[ 4  8 10 13 30 45]\n",
      "(6,)\n",
      "only using indices for lower-triangular matrix\n",
      "Connectivity computation...\n",
      "   Processing epoch 1 / 1 ...\n",
      "[Connectivity computation done]\n",
      "Computing features for trial:  549\n"
     ]
    },
    {
     "name": "stderr",
     "output_type": "stream",
     "text": [
      "/Users/jakubblaha/Documents/thesis/thesis-python/common.py:114: RuntimeWarning: There were no Annotations stored in <EpochsArray | 1 events (all good), 0 – 7.992 s (baseline off), ~134 kB, data loaded,\n",
      " '1': 1>, so metadata was not modified.\n",
      "  res = mne_connectivity.spectral_connectivity_time(\n"
     ]
    },
    {
     "name": "stdout",
     "output_type": "stream",
     "text": [
      "[ 4  8 10 13 30 45]\n",
      "(6,)\n",
      "[ 4  8 10 13 30 45]\n",
      "(6,)\n",
      "only using indices for lower-triangular matrix\n",
      "Connectivity computation...\n",
      "   Processing epoch 1 / 1 ...\n",
      "[Connectivity computation done]\n",
      "Computing features for trial:  550\n"
     ]
    },
    {
     "name": "stderr",
     "output_type": "stream",
     "text": [
      "/Users/jakubblaha/Documents/thesis/thesis-python/common.py:114: RuntimeWarning: There were no Annotations stored in <EpochsArray | 1 events (all good), 0 – 7.992 s (baseline off), ~134 kB, data loaded,\n",
      " '1': 1>, so metadata was not modified.\n",
      "  res = mne_connectivity.spectral_connectivity_time(\n"
     ]
    },
    {
     "name": "stdout",
     "output_type": "stream",
     "text": [
      "[ 4  8 10 13 30 45]\n",
      "(6,)\n",
      "[ 4  8 10 13 30 45]\n",
      "(6,)\n",
      "only using indices for lower-triangular matrix\n",
      "Connectivity computation...\n",
      "   Processing epoch 1 / 1 ...\n",
      "[Connectivity computation done]\n",
      "Computing features for trial:  551\n"
     ]
    },
    {
     "name": "stderr",
     "output_type": "stream",
     "text": [
      "/Users/jakubblaha/Documents/thesis/thesis-python/common.py:114: RuntimeWarning: There were no Annotations stored in <EpochsArray | 1 events (all good), 0 – 7.992 s (baseline off), ~134 kB, data loaded,\n",
      " '1': 1>, so metadata was not modified.\n",
      "  res = mne_connectivity.spectral_connectivity_time(\n"
     ]
    },
    {
     "name": "stdout",
     "output_type": "stream",
     "text": [
      "[ 4  8 10 13 30 45]\n",
      "(6,)\n",
      "[ 4  8 10 13 30 45]\n",
      "(6,)\n",
      "only using indices for lower-triangular matrix\n",
      "Connectivity computation...\n",
      "   Processing epoch 1 / 1 ...\n"
     ]
    },
    {
     "name": "stderr",
     "output_type": "stream",
     "text": [
      "/Users/jakubblaha/Documents/thesis/thesis-python/common.py:114: RuntimeWarning: There were no Annotations stored in <EpochsArray | 1 events (all good), 0 – 7.992 s (baseline off), ~134 kB, data loaded,\n",
      " '1': 1>, so metadata was not modified.\n",
      "  res = mne_connectivity.spectral_connectivity_time(\n"
     ]
    },
    {
     "name": "stdout",
     "output_type": "stream",
     "text": [
      "[Connectivity computation done]\n",
      "Computing features for trial:  552\n",
      "[ 4  8 10 13 30 45]\n",
      "(6,)\n",
      "[ 4  8 10 13 30 45]\n",
      "(6,)\n",
      "only using indices for lower-triangular matrix\n",
      "Connectivity computation...\n",
      "   Processing epoch 1 / 1 ...\n",
      "[Connectivity computation done]\n"
     ]
    },
    {
     "name": "stderr",
     "output_type": "stream",
     "text": [
      "/Users/jakubblaha/Documents/thesis/thesis-python/common.py:114: RuntimeWarning: There were no Annotations stored in <EpochsArray | 1 events (all good), 0 – 7.992 s (baseline off), ~134 kB, data loaded,\n",
      " '1': 1>, so metadata was not modified.\n",
      "  res = mne_connectivity.spectral_connectivity_time(\n"
     ]
    },
    {
     "name": "stdout",
     "output_type": "stream",
     "text": [
      "Computing features for trial:  553\n",
      "[ 4  8 10 13 30 45]\n",
      "(6,)\n",
      "[ 4  8 10 13 30 45]\n",
      "(6,)\n",
      "only using indices for lower-triangular matrix\n",
      "Connectivity computation...\n",
      "   Processing epoch 1 / 1 ...\n",
      "[Connectivity computation done]\n",
      "Computing features for trial:  554\n"
     ]
    },
    {
     "name": "stderr",
     "output_type": "stream",
     "text": [
      "/Users/jakubblaha/Documents/thesis/thesis-python/common.py:114: RuntimeWarning: There were no Annotations stored in <EpochsArray | 1 events (all good), 0 – 7.992 s (baseline off), ~134 kB, data loaded,\n",
      " '1': 1>, so metadata was not modified.\n",
      "  res = mne_connectivity.spectral_connectivity_time(\n"
     ]
    },
    {
     "name": "stdout",
     "output_type": "stream",
     "text": [
      "[ 4  8 10 13 30 45]\n",
      "(6,)\n",
      "[ 4  8 10 13 30 45]\n",
      "(6,)\n",
      "only using indices for lower-triangular matrix\n",
      "Connectivity computation...\n",
      "   Processing epoch 1 / 1 ...\n",
      "[Connectivity computation done]\n",
      "Computing features for trial:  555\n"
     ]
    },
    {
     "name": "stderr",
     "output_type": "stream",
     "text": [
      "/Users/jakubblaha/Documents/thesis/thesis-python/common.py:114: RuntimeWarning: There were no Annotations stored in <EpochsArray | 1 events (all good), 0 – 7.992 s (baseline off), ~134 kB, data loaded,\n",
      " '1': 1>, so metadata was not modified.\n",
      "  res = mne_connectivity.spectral_connectivity_time(\n"
     ]
    },
    {
     "name": "stdout",
     "output_type": "stream",
     "text": [
      "[ 4  8 10 13 30 45]\n",
      "(6,)\n",
      "[ 4  8 10 13 30 45]\n",
      "(6,)\n",
      "only using indices for lower-triangular matrix\n",
      "Connectivity computation...\n",
      "   Processing epoch 1 / 1 ...\n",
      "[Connectivity computation done]\n",
      "Computing features for trial:  556\n"
     ]
    },
    {
     "name": "stderr",
     "output_type": "stream",
     "text": [
      "/Users/jakubblaha/Documents/thesis/thesis-python/common.py:114: RuntimeWarning: There were no Annotations stored in <EpochsArray | 1 events (all good), 0 – 7.992 s (baseline off), ~134 kB, data loaded,\n",
      " '1': 1>, so metadata was not modified.\n",
      "  res = mne_connectivity.spectral_connectivity_time(\n"
     ]
    },
    {
     "name": "stdout",
     "output_type": "stream",
     "text": [
      "[ 4  8 10 13 30 45]\n",
      "(6,)\n",
      "[ 4  8 10 13 30 45]\n",
      "(6,)\n",
      "only using indices for lower-triangular matrix\n",
      "Connectivity computation...\n",
      "   Processing epoch 1 / 1 ...\n"
     ]
    },
    {
     "name": "stderr",
     "output_type": "stream",
     "text": [
      "/Users/jakubblaha/Documents/thesis/thesis-python/common.py:114: RuntimeWarning: There were no Annotations stored in <EpochsArray | 1 events (all good), 0 – 7.992 s (baseline off), ~134 kB, data loaded,\n",
      " '1': 1>, so metadata was not modified.\n",
      "  res = mne_connectivity.spectral_connectivity_time(\n"
     ]
    },
    {
     "name": "stdout",
     "output_type": "stream",
     "text": [
      "[Connectivity computation done]\n",
      "Computing features for trial:  557\n",
      "[ 4  8 10 13 30 45]\n",
      "(6,)\n",
      "[ 4  8 10 13 30 45]\n",
      "(6,)\n",
      "only using indices for lower-triangular matrix\n",
      "Connectivity computation...\n",
      "   Processing epoch 1 / 1 ...\n",
      "[Connectivity computation done]\n"
     ]
    },
    {
     "name": "stderr",
     "output_type": "stream",
     "text": [
      "/Users/jakubblaha/Documents/thesis/thesis-python/common.py:114: RuntimeWarning: There were no Annotations stored in <EpochsArray | 1 events (all good), 0 – 7.992 s (baseline off), ~134 kB, data loaded,\n",
      " '1': 1>, so metadata was not modified.\n",
      "  res = mne_connectivity.spectral_connectivity_time(\n"
     ]
    },
    {
     "name": "stdout",
     "output_type": "stream",
     "text": [
      "Computing features for trial:  558\n",
      "[ 4  8 10 13 30 45]\n",
      "(6,)\n",
      "[ 4  8 10 13 30 45]\n",
      "(6,)\n",
      "only using indices for lower-triangular matrix\n",
      "Connectivity computation...\n",
      "   Processing epoch 1 / 1 ...\n"
     ]
    },
    {
     "name": "stderr",
     "output_type": "stream",
     "text": [
      "/Users/jakubblaha/Documents/thesis/thesis-python/common.py:114: RuntimeWarning: There were no Annotations stored in <EpochsArray | 1 events (all good), 0 – 7.992 s (baseline off), ~134 kB, data loaded,\n",
      " '1': 1>, so metadata was not modified.\n",
      "  res = mne_connectivity.spectral_connectivity_time(\n"
     ]
    },
    {
     "name": "stdout",
     "output_type": "stream",
     "text": [
      "[Connectivity computation done]\n",
      "Computing features for trial:  559\n",
      "[ 4  8 10 13 30 45]\n",
      "(6,)\n",
      "[ 4  8 10 13 30 45]\n",
      "(6,)\n",
      "only using indices for lower-triangular matrix\n",
      "Connectivity computation...\n",
      "   Processing epoch 1 / 1 ...\n",
      "[Connectivity computation done]\n"
     ]
    },
    {
     "name": "stderr",
     "output_type": "stream",
     "text": [
      "/Users/jakubblaha/Documents/thesis/thesis-python/common.py:114: RuntimeWarning: There were no Annotations stored in <EpochsArray | 1 events (all good), 0 – 7.992 s (baseline off), ~134 kB, data loaded,\n",
      " '1': 1>, so metadata was not modified.\n",
      "  res = mne_connectivity.spectral_connectivity_time(\n"
     ]
    },
    {
     "name": "stdout",
     "output_type": "stream",
     "text": [
      "Computing features for trial:  560\n",
      "[ 4  8 10 13 30 45]\n",
      "(6,)\n",
      "[ 4  8 10 13 30 45]\n",
      "(6,)\n",
      "only using indices for lower-triangular matrix\n",
      "Connectivity computation...\n",
      "   Processing epoch 1 / 1 ...\n",
      "[Connectivity computation done]\n",
      "Computing features for trial:  561\n"
     ]
    },
    {
     "name": "stderr",
     "output_type": "stream",
     "text": [
      "/Users/jakubblaha/Documents/thesis/thesis-python/common.py:114: RuntimeWarning: There were no Annotations stored in <EpochsArray | 1 events (all good), 0 – 7.992 s (baseline off), ~134 kB, data loaded,\n",
      " '1': 1>, so metadata was not modified.\n",
      "  res = mne_connectivity.spectral_connectivity_time(\n"
     ]
    },
    {
     "name": "stdout",
     "output_type": "stream",
     "text": [
      "[ 4  8 10 13 30 45]\n",
      "(6,)\n",
      "[ 4  8 10 13 30 45]\n",
      "(6,)\n",
      "only using indices for lower-triangular matrix\n",
      "Connectivity computation...\n",
      "   Processing epoch 1 / 1 ...\n"
     ]
    },
    {
     "name": "stderr",
     "output_type": "stream",
     "text": [
      "/Users/jakubblaha/Documents/thesis/thesis-python/common.py:114: RuntimeWarning: There were no Annotations stored in <EpochsArray | 1 events (all good), 0 – 7.992 s (baseline off), ~134 kB, data loaded,\n",
      " '1': 1>, so metadata was not modified.\n",
      "  res = mne_connectivity.spectral_connectivity_time(\n"
     ]
    },
    {
     "name": "stdout",
     "output_type": "stream",
     "text": [
      "[Connectivity computation done]\n",
      "Computing features for trial:  562\n",
      "[ 4  8 10 13 30 45]\n",
      "(6,)\n",
      "[ 4  8 10 13 30 45]\n",
      "(6,)\n",
      "only using indices for lower-triangular matrix\n",
      "Connectivity computation...\n",
      "   Processing epoch 1 / 1 ...\n"
     ]
    },
    {
     "name": "stderr",
     "output_type": "stream",
     "text": [
      "/Users/jakubblaha/Documents/thesis/thesis-python/common.py:114: RuntimeWarning: There were no Annotations stored in <EpochsArray | 1 events (all good), 0 – 7.992 s (baseline off), ~134 kB, data loaded,\n",
      " '1': 1>, so metadata was not modified.\n",
      "  res = mne_connectivity.spectral_connectivity_time(\n"
     ]
    },
    {
     "name": "stdout",
     "output_type": "stream",
     "text": [
      "[Connectivity computation done]\n",
      "Computing features for trial:  563\n",
      "[ 4  8 10 13 30 45]\n",
      "(6,)\n",
      "[ 4  8 10 13 30 45]\n",
      "(6,)\n",
      "only using indices for lower-triangular matrix\n",
      "Connectivity computation...\n",
      "   Processing epoch 1 / 1 ...\n"
     ]
    },
    {
     "name": "stderr",
     "output_type": "stream",
     "text": [
      "/Users/jakubblaha/Documents/thesis/thesis-python/common.py:114: RuntimeWarning: There were no Annotations stored in <EpochsArray | 1 events (all good), 0 – 7.992 s (baseline off), ~134 kB, data loaded,\n",
      " '1': 1>, so metadata was not modified.\n",
      "  res = mne_connectivity.spectral_connectivity_time(\n"
     ]
    },
    {
     "name": "stdout",
     "output_type": "stream",
     "text": [
      "[Connectivity computation done]\n",
      "Computing features for trial:  564\n",
      "[ 4  8 10 13 30 45]\n",
      "(6,)\n",
      "[ 4  8 10 13 30 45]\n",
      "(6,)\n",
      "only using indices for lower-triangular matrix\n",
      "Connectivity computation...\n",
      "   Processing epoch 1 / 1 ...\n"
     ]
    },
    {
     "name": "stderr",
     "output_type": "stream",
     "text": [
      "/Users/jakubblaha/Documents/thesis/thesis-python/common.py:114: RuntimeWarning: There were no Annotations stored in <EpochsArray | 1 events (all good), 0 – 7.992 s (baseline off), ~134 kB, data loaded,\n",
      " '1': 1>, so metadata was not modified.\n",
      "  res = mne_connectivity.spectral_connectivity_time(\n"
     ]
    },
    {
     "name": "stdout",
     "output_type": "stream",
     "text": [
      "[Connectivity computation done]\n",
      "Computing features for trial:  565\n",
      "[ 4  8 10 13 30 45]\n",
      "(6,)\n",
      "[ 4  8 10 13 30 45]\n",
      "(6,)\n",
      "only using indices for lower-triangular matrix\n",
      "Connectivity computation...\n",
      "   Processing epoch 1 / 1 ...\n",
      "[Connectivity computation done]\n"
     ]
    },
    {
     "name": "stderr",
     "output_type": "stream",
     "text": [
      "/Users/jakubblaha/Documents/thesis/thesis-python/common.py:114: RuntimeWarning: There were no Annotations stored in <EpochsArray | 1 events (all good), 0 – 7.992 s (baseline off), ~134 kB, data loaded,\n",
      " '1': 1>, so metadata was not modified.\n",
      "  res = mne_connectivity.spectral_connectivity_time(\n"
     ]
    },
    {
     "name": "stdout",
     "output_type": "stream",
     "text": [
      "Computing features for trial:  566\n",
      "[ 4  8 10 13 30 45]\n",
      "(6,)\n",
      "[ 4  8 10 13 30 45]\n",
      "(6,)\n",
      "only using indices for lower-triangular matrix\n",
      "Connectivity computation...\n",
      "   Processing epoch 1 / 1 ...\n",
      "[Connectivity computation done]\n",
      "Computing features for trial:  567\n"
     ]
    },
    {
     "name": "stderr",
     "output_type": "stream",
     "text": [
      "/Users/jakubblaha/Documents/thesis/thesis-python/common.py:114: RuntimeWarning: There were no Annotations stored in <EpochsArray | 1 events (all good), 0 – 7.992 s (baseline off), ~134 kB, data loaded,\n",
      " '1': 1>, so metadata was not modified.\n",
      "  res = mne_connectivity.spectral_connectivity_time(\n"
     ]
    },
    {
     "name": "stdout",
     "output_type": "stream",
     "text": [
      "[ 4  8 10 13 30 45]\n",
      "(6,)\n",
      "[ 4  8 10 13 30 45]\n",
      "(6,)\n",
      "only using indices for lower-triangular matrix\n",
      "Connectivity computation...\n",
      "   Processing epoch 1 / 1 ...\n"
     ]
    },
    {
     "name": "stderr",
     "output_type": "stream",
     "text": [
      "/Users/jakubblaha/Documents/thesis/thesis-python/common.py:114: RuntimeWarning: There were no Annotations stored in <EpochsArray | 1 events (all good), 0 – 7.992 s (baseline off), ~134 kB, data loaded,\n",
      " '1': 1>, so metadata was not modified.\n",
      "  res = mne_connectivity.spectral_connectivity_time(\n"
     ]
    },
    {
     "name": "stdout",
     "output_type": "stream",
     "text": [
      "[Connectivity computation done]\n",
      "Computing features for trial:  568\n",
      "[ 4  8 10 13 30 45]\n",
      "(6,)\n",
      "[ 4  8 10 13 30 45]\n",
      "(6,)\n",
      "only using indices for lower-triangular matrix\n",
      "Connectivity computation...\n",
      "   Processing epoch 1 / 1 ...\n"
     ]
    },
    {
     "name": "stderr",
     "output_type": "stream",
     "text": [
      "/Users/jakubblaha/Documents/thesis/thesis-python/common.py:114: RuntimeWarning: There were no Annotations stored in <EpochsArray | 1 events (all good), 0 – 7.992 s (baseline off), ~134 kB, data loaded,\n",
      " '1': 1>, so metadata was not modified.\n",
      "  res = mne_connectivity.spectral_connectivity_time(\n"
     ]
    },
    {
     "name": "stdout",
     "output_type": "stream",
     "text": [
      "[Connectivity computation done]\n",
      "Computing features for trial:  569\n",
      "[ 4  8 10 13 30 45]\n",
      "(6,)\n",
      "[ 4  8 10 13 30 45]\n",
      "(6,)\n",
      "only using indices for lower-triangular matrix\n",
      "Connectivity computation...\n",
      "   Processing epoch 1 / 1 ...\n"
     ]
    },
    {
     "name": "stderr",
     "output_type": "stream",
     "text": [
      "/Users/jakubblaha/Documents/thesis/thesis-python/common.py:114: RuntimeWarning: There were no Annotations stored in <EpochsArray | 1 events (all good), 0 – 7.992 s (baseline off), ~134 kB, data loaded,\n",
      " '1': 1>, so metadata was not modified.\n",
      "  res = mne_connectivity.spectral_connectivity_time(\n"
     ]
    },
    {
     "name": "stdout",
     "output_type": "stream",
     "text": [
      "[Connectivity computation done]\n",
      "Computing features for trial:  570\n",
      "[ 4  8 10 13 30 45]\n",
      "(6,)\n",
      "[ 4  8 10 13 30 45]\n",
      "(6,)\n",
      "only using indices for lower-triangular matrix\n",
      "Connectivity computation...\n",
      "   Processing epoch 1 / 1 ...\n"
     ]
    },
    {
     "name": "stderr",
     "output_type": "stream",
     "text": [
      "/Users/jakubblaha/Documents/thesis/thesis-python/common.py:114: RuntimeWarning: There were no Annotations stored in <EpochsArray | 1 events (all good), 0 – 7.992 s (baseline off), ~134 kB, data loaded,\n",
      " '1': 1>, so metadata was not modified.\n",
      "  res = mne_connectivity.spectral_connectivity_time(\n"
     ]
    },
    {
     "name": "stdout",
     "output_type": "stream",
     "text": [
      "[Connectivity computation done]\n",
      "Computing features for trial:  571\n",
      "[ 4  8 10 13 30 45]\n",
      "(6,)\n",
      "[ 4  8 10 13 30 45]\n",
      "(6,)\n",
      "only using indices for lower-triangular matrix\n",
      "Connectivity computation...\n",
      "   Processing epoch 1 / 1 ...\n"
     ]
    },
    {
     "name": "stderr",
     "output_type": "stream",
     "text": [
      "/Users/jakubblaha/Documents/thesis/thesis-python/common.py:114: RuntimeWarning: There were no Annotations stored in <EpochsArray | 1 events (all good), 0 – 7.992 s (baseline off), ~134 kB, data loaded,\n",
      " '1': 1>, so metadata was not modified.\n",
      "  res = mne_connectivity.spectral_connectivity_time(\n"
     ]
    },
    {
     "name": "stdout",
     "output_type": "stream",
     "text": [
      "[Connectivity computation done]\n",
      "Computing features for trial:  572\n",
      "[ 4  8 10 13 30 45]\n",
      "(6,)\n",
      "[ 4  8 10 13 30 45]\n",
      "(6,)\n",
      "only using indices for lower-triangular matrix\n",
      "Connectivity computation...\n",
      "   Processing epoch 1 / 1 ...\n"
     ]
    },
    {
     "name": "stderr",
     "output_type": "stream",
     "text": [
      "/Users/jakubblaha/Documents/thesis/thesis-python/common.py:114: RuntimeWarning: There were no Annotations stored in <EpochsArray | 1 events (all good), 0 – 7.992 s (baseline off), ~134 kB, data loaded,\n",
      " '1': 1>, so metadata was not modified.\n",
      "  res = mne_connectivity.spectral_connectivity_time(\n"
     ]
    },
    {
     "name": "stdout",
     "output_type": "stream",
     "text": [
      "[Connectivity computation done]\n",
      "Computing features for trial:  573\n",
      "[ 4  8 10 13 30 45]\n",
      "(6,)\n",
      "[ 4  8 10 13 30 45]\n",
      "(6,)\n",
      "only using indices for lower-triangular matrix\n",
      "Connectivity computation...\n",
      "   Processing epoch 1 / 1 ...\n"
     ]
    },
    {
     "name": "stderr",
     "output_type": "stream",
     "text": [
      "/Users/jakubblaha/Documents/thesis/thesis-python/common.py:114: RuntimeWarning: There were no Annotations stored in <EpochsArray | 1 events (all good), 0 – 7.992 s (baseline off), ~134 kB, data loaded,\n",
      " '1': 1>, so metadata was not modified.\n",
      "  res = mne_connectivity.spectral_connectivity_time(\n"
     ]
    },
    {
     "name": "stdout",
     "output_type": "stream",
     "text": [
      "[Connectivity computation done]\n",
      "Computing features for trial:  574\n",
      "[ 4  8 10 13 30 45]\n",
      "(6,)\n",
      "[ 4  8 10 13 30 45]\n",
      "(6,)\n",
      "only using indices for lower-triangular matrix\n",
      "Connectivity computation...\n",
      "   Processing epoch 1 / 1 ...\n",
      "[Connectivity computation done]\n"
     ]
    },
    {
     "name": "stderr",
     "output_type": "stream",
     "text": [
      "/Users/jakubblaha/Documents/thesis/thesis-python/common.py:114: RuntimeWarning: There were no Annotations stored in <EpochsArray | 1 events (all good), 0 – 7.992 s (baseline off), ~134 kB, data loaded,\n",
      " '1': 1>, so metadata was not modified.\n",
      "  res = mne_connectivity.spectral_connectivity_time(\n"
     ]
    },
    {
     "name": "stdout",
     "output_type": "stream",
     "text": [
      "Computing features for trial:  575\n",
      "[ 4  8 10 13 30 45]\n",
      "(6,)\n",
      "[ 4  8 10 13 30 45]\n",
      "(6,)\n",
      "only using indices for lower-triangular matrix\n",
      "Connectivity computation...\n",
      "   Processing epoch 1 / 1 ...\n",
      "[Connectivity computation done]\n",
      "Computing features for trial:  576\n"
     ]
    },
    {
     "name": "stderr",
     "output_type": "stream",
     "text": [
      "/Users/jakubblaha/Documents/thesis/thesis-python/common.py:114: RuntimeWarning: There were no Annotations stored in <EpochsArray | 1 events (all good), 0 – 7.992 s (baseline off), ~134 kB, data loaded,\n",
      " '1': 1>, so metadata was not modified.\n",
      "  res = mne_connectivity.spectral_connectivity_time(\n"
     ]
    },
    {
     "name": "stdout",
     "output_type": "stream",
     "text": [
      "[ 4  8 10 13 30 45]\n",
      "(6,)\n",
      "[ 4  8 10 13 30 45]\n",
      "(6,)\n",
      "only using indices for lower-triangular matrix\n",
      "Connectivity computation...\n",
      "   Processing epoch 1 / 1 ...\n",
      "[Connectivity computation done]\n",
      "Computing features for trial:  577\n"
     ]
    },
    {
     "name": "stderr",
     "output_type": "stream",
     "text": [
      "/Users/jakubblaha/Documents/thesis/thesis-python/common.py:114: RuntimeWarning: There were no Annotations stored in <EpochsArray | 1 events (all good), 0 – 7.992 s (baseline off), ~134 kB, data loaded,\n",
      " '1': 1>, so metadata was not modified.\n",
      "  res = mne_connectivity.spectral_connectivity_time(\n"
     ]
    },
    {
     "name": "stdout",
     "output_type": "stream",
     "text": [
      "[ 4  8 10 13 30 45]\n",
      "(6,)\n",
      "[ 4  8 10 13 30 45]\n",
      "(6,)\n",
      "only using indices for lower-triangular matrix\n",
      "Connectivity computation...\n",
      "   Processing epoch 1 / 1 ...\n"
     ]
    },
    {
     "name": "stderr",
     "output_type": "stream",
     "text": [
      "/Users/jakubblaha/Documents/thesis/thesis-python/common.py:114: RuntimeWarning: There were no Annotations stored in <EpochsArray | 1 events (all good), 0 – 7.992 s (baseline off), ~134 kB, data loaded,\n",
      " '1': 1>, so metadata was not modified.\n",
      "  res = mne_connectivity.spectral_connectivity_time(\n"
     ]
    },
    {
     "name": "stdout",
     "output_type": "stream",
     "text": [
      "[Connectivity computation done]\n",
      "Computing features for trial:  578\n",
      "[ 4  8 10 13 30 45]\n",
      "(6,)\n",
      "[ 4  8 10 13 30 45]\n",
      "(6,)\n",
      "only using indices for lower-triangular matrix\n",
      "Connectivity computation...\n",
      "   Processing epoch 1 / 1 ...\n",
      "[Connectivity computation done]\n"
     ]
    },
    {
     "name": "stderr",
     "output_type": "stream",
     "text": [
      "/Users/jakubblaha/Documents/thesis/thesis-python/common.py:114: RuntimeWarning: There were no Annotations stored in <EpochsArray | 1 events (all good), 0 – 7.992 s (baseline off), ~134 kB, data loaded,\n",
      " '1': 1>, so metadata was not modified.\n",
      "  res = mne_connectivity.spectral_connectivity_time(\n"
     ]
    },
    {
     "name": "stdout",
     "output_type": "stream",
     "text": [
      "Computing features for trial:  579\n",
      "[ 4  8 10 13 30 45]\n",
      "(6,)\n",
      "[ 4  8 10 13 30 45]\n",
      "(6,)\n",
      "only using indices for lower-triangular matrix\n",
      "Connectivity computation...\n",
      "   Processing epoch 1 / 1 ...\n",
      "[Connectivity computation done]\n"
     ]
    },
    {
     "name": "stderr",
     "output_type": "stream",
     "text": [
      "/Users/jakubblaha/Documents/thesis/thesis-python/common.py:114: RuntimeWarning: There were no Annotations stored in <EpochsArray | 1 events (all good), 0 – 7.992 s (baseline off), ~134 kB, data loaded,\n",
      " '1': 1>, so metadata was not modified.\n",
      "  res = mne_connectivity.spectral_connectivity_time(\n"
     ]
    },
    {
     "name": "stdout",
     "output_type": "stream",
     "text": [
      "Computing features for trial:  580\n",
      "[ 4  8 10 13 30 45]\n",
      "(6,)\n",
      "[ 4  8 10 13 30 45]\n",
      "(6,)\n",
      "only using indices for lower-triangular matrix\n",
      "Connectivity computation...\n",
      "   Processing epoch 1 / 1 ...\n",
      "[Connectivity computation done]\n",
      "Computing features for trial:  581\n"
     ]
    },
    {
     "name": "stderr",
     "output_type": "stream",
     "text": [
      "/Users/jakubblaha/Documents/thesis/thesis-python/common.py:114: RuntimeWarning: There were no Annotations stored in <EpochsArray | 1 events (all good), 0 – 7.992 s (baseline off), ~134 kB, data loaded,\n",
      " '1': 1>, so metadata was not modified.\n",
      "  res = mne_connectivity.spectral_connectivity_time(\n"
     ]
    },
    {
     "name": "stdout",
     "output_type": "stream",
     "text": [
      "[ 4  8 10 13 30 45]\n",
      "(6,)\n",
      "[ 4  8 10 13 30 45]\n",
      "(6,)\n",
      "only using indices for lower-triangular matrix\n",
      "Connectivity computation...\n",
      "   Processing epoch 1 / 1 ...\n",
      "[Connectivity computation done]\n",
      "Computing features for trial:  582\n"
     ]
    },
    {
     "name": "stderr",
     "output_type": "stream",
     "text": [
      "/Users/jakubblaha/Documents/thesis/thesis-python/common.py:114: RuntimeWarning: There were no Annotations stored in <EpochsArray | 1 events (all good), 0 – 7.992 s (baseline off), ~134 kB, data loaded,\n",
      " '1': 1>, so metadata was not modified.\n",
      "  res = mne_connectivity.spectral_connectivity_time(\n"
     ]
    },
    {
     "name": "stdout",
     "output_type": "stream",
     "text": [
      "[ 4  8 10 13 30 45]\n",
      "(6,)\n",
      "[ 4  8 10 13 30 45]\n",
      "(6,)\n",
      "only using indices for lower-triangular matrix\n",
      "Connectivity computation...\n",
      "   Processing epoch 1 / 1 ...\n",
      "[Connectivity computation done]\n",
      "Computing features for trial:  583\n"
     ]
    },
    {
     "name": "stderr",
     "output_type": "stream",
     "text": [
      "/Users/jakubblaha/Documents/thesis/thesis-python/common.py:114: RuntimeWarning: There were no Annotations stored in <EpochsArray | 1 events (all good), 0 – 7.992 s (baseline off), ~134 kB, data loaded,\n",
      " '1': 1>, so metadata was not modified.\n",
      "  res = mne_connectivity.spectral_connectivity_time(\n"
     ]
    },
    {
     "name": "stdout",
     "output_type": "stream",
     "text": [
      "[ 4  8 10 13 30 45]\n",
      "(6,)\n",
      "[ 4  8 10 13 30 45]\n",
      "(6,)\n",
      "only using indices for lower-triangular matrix\n",
      "Connectivity computation...\n",
      "   Processing epoch 1 / 1 ...\n",
      "[Connectivity computation done]\n",
      "Computing features for trial:  584\n"
     ]
    },
    {
     "name": "stderr",
     "output_type": "stream",
     "text": [
      "/Users/jakubblaha/Documents/thesis/thesis-python/common.py:114: RuntimeWarning: There were no Annotations stored in <EpochsArray | 1 events (all good), 0 – 7.992 s (baseline off), ~134 kB, data loaded,\n",
      " '1': 1>, so metadata was not modified.\n",
      "  res = mne_connectivity.spectral_connectivity_time(\n"
     ]
    },
    {
     "name": "stdout",
     "output_type": "stream",
     "text": [
      "[ 4  8 10 13 30 45]\n",
      "(6,)\n",
      "[ 4  8 10 13 30 45]\n",
      "(6,)\n",
      "only using indices for lower-triangular matrix\n",
      "Connectivity computation...\n",
      "   Processing epoch 1 / 1 ...\n",
      "[Connectivity computation done]\n"
     ]
    },
    {
     "name": "stderr",
     "output_type": "stream",
     "text": [
      "/Users/jakubblaha/Documents/thesis/thesis-python/common.py:114: RuntimeWarning: There were no Annotations stored in <EpochsArray | 1 events (all good), 0 – 7.992 s (baseline off), ~134 kB, data loaded,\n",
      " '1': 1>, so metadata was not modified.\n",
      "  res = mne_connectivity.spectral_connectivity_time(\n"
     ]
    },
    {
     "name": "stdout",
     "output_type": "stream",
     "text": [
      "Computing features for trial:  585\n",
      "[ 4  8 10 13 30 45]\n",
      "(6,)\n",
      "[ 4  8 10 13 30 45]\n",
      "(6,)\n",
      "only using indices for lower-triangular matrix\n",
      "Connectivity computation...\n",
      "   Processing epoch 1 / 1 ...\n",
      "[Connectivity computation done]\n",
      "Computing features for trial:  586\n"
     ]
    },
    {
     "name": "stderr",
     "output_type": "stream",
     "text": [
      "/Users/jakubblaha/Documents/thesis/thesis-python/common.py:114: RuntimeWarning: There were no Annotations stored in <EpochsArray | 1 events (all good), 0 – 7.992 s (baseline off), ~134 kB, data loaded,\n",
      " '1': 1>, so metadata was not modified.\n",
      "  res = mne_connectivity.spectral_connectivity_time(\n"
     ]
    },
    {
     "name": "stdout",
     "output_type": "stream",
     "text": [
      "[ 4  8 10 13 30 45]\n",
      "(6,)\n",
      "[ 4  8 10 13 30 45]\n",
      "(6,)\n",
      "only using indices for lower-triangular matrix\n",
      "Connectivity computation...\n",
      "   Processing epoch 1 / 1 ...\n",
      "[Connectivity computation done]\n",
      "Computing features for trial:  587\n"
     ]
    },
    {
     "name": "stderr",
     "output_type": "stream",
     "text": [
      "/Users/jakubblaha/Documents/thesis/thesis-python/common.py:114: RuntimeWarning: There were no Annotations stored in <EpochsArray | 1 events (all good), 0 – 7.992 s (baseline off), ~134 kB, data loaded,\n",
      " '1': 1>, so metadata was not modified.\n",
      "  res = mne_connectivity.spectral_connectivity_time(\n"
     ]
    },
    {
     "name": "stdout",
     "output_type": "stream",
     "text": [
      "[ 4  8 10 13 30 45]\n",
      "(6,)\n",
      "[ 4  8 10 13 30 45]\n",
      "(6,)\n",
      "only using indices for lower-triangular matrix\n",
      "Connectivity computation...\n",
      "   Processing epoch 1 / 1 ...\n",
      "[Connectivity computation done]\n",
      "Computing features for trial:  588\n"
     ]
    },
    {
     "name": "stderr",
     "output_type": "stream",
     "text": [
      "/Users/jakubblaha/Documents/thesis/thesis-python/common.py:114: RuntimeWarning: There were no Annotations stored in <EpochsArray | 1 events (all good), 0 – 7.992 s (baseline off), ~134 kB, data loaded,\n",
      " '1': 1>, so metadata was not modified.\n",
      "  res = mne_connectivity.spectral_connectivity_time(\n"
     ]
    },
    {
     "name": "stdout",
     "output_type": "stream",
     "text": [
      "[ 4  8 10 13 30 45]\n",
      "(6,)\n",
      "[ 4  8 10 13 30 45]\n",
      "(6,)\n",
      "only using indices for lower-triangular matrix\n",
      "Connectivity computation...\n",
      "   Processing epoch 1 / 1 ...\n",
      "[Connectivity computation done]\n",
      "Computing features for trial:  589\n"
     ]
    },
    {
     "name": "stderr",
     "output_type": "stream",
     "text": [
      "/Users/jakubblaha/Documents/thesis/thesis-python/common.py:114: RuntimeWarning: There were no Annotations stored in <EpochsArray | 1 events (all good), 0 – 7.992 s (baseline off), ~134 kB, data loaded,\n",
      " '1': 1>, so metadata was not modified.\n",
      "  res = mne_connectivity.spectral_connectivity_time(\n"
     ]
    },
    {
     "name": "stdout",
     "output_type": "stream",
     "text": [
      "[ 4  8 10 13 30 45]\n",
      "(6,)\n",
      "[ 4  8 10 13 30 45]\n",
      "(6,)\n",
      "only using indices for lower-triangular matrix\n",
      "Connectivity computation...\n",
      "   Processing epoch 1 / 1 ...\n"
     ]
    },
    {
     "name": "stderr",
     "output_type": "stream",
     "text": [
      "/Users/jakubblaha/Documents/thesis/thesis-python/common.py:114: RuntimeWarning: There were no Annotations stored in <EpochsArray | 1 events (all good), 0 – 7.992 s (baseline off), ~134 kB, data loaded,\n",
      " '1': 1>, so metadata was not modified.\n",
      "  res = mne_connectivity.spectral_connectivity_time(\n"
     ]
    },
    {
     "name": "stdout",
     "output_type": "stream",
     "text": [
      "[Connectivity computation done]\n",
      "Computing features for trial:  590\n",
      "[ 4  8 10 13 30 45]\n",
      "(6,)\n",
      "[ 4  8 10 13 30 45]\n",
      "(6,)\n",
      "only using indices for lower-triangular matrix\n",
      "Connectivity computation...\n",
      "   Processing epoch 1 / 1 ...\n",
      "[Connectivity computation done]\n"
     ]
    },
    {
     "name": "stderr",
     "output_type": "stream",
     "text": [
      "/Users/jakubblaha/Documents/thesis/thesis-python/common.py:114: RuntimeWarning: There were no Annotations stored in <EpochsArray | 1 events (all good), 0 – 7.992 s (baseline off), ~134 kB, data loaded,\n",
      " '1': 1>, so metadata was not modified.\n",
      "  res = mne_connectivity.spectral_connectivity_time(\n"
     ]
    },
    {
     "name": "stdout",
     "output_type": "stream",
     "text": [
      "Computing features for trial:  591\n",
      "[ 4  8 10 13 30 45]\n",
      "(6,)\n",
      "[ 4  8 10 13 30 45]\n",
      "(6,)\n",
      "only using indices for lower-triangular matrix\n",
      "Connectivity computation...\n",
      "   Processing epoch 1 / 1 ...\n",
      "[Connectivity computation done]\n",
      "Computing features for trial:  592\n"
     ]
    },
    {
     "name": "stderr",
     "output_type": "stream",
     "text": [
      "/Users/jakubblaha/Documents/thesis/thesis-python/common.py:114: RuntimeWarning: There were no Annotations stored in <EpochsArray | 1 events (all good), 0 – 7.992 s (baseline off), ~134 kB, data loaded,\n",
      " '1': 1>, so metadata was not modified.\n",
      "  res = mne_connectivity.spectral_connectivity_time(\n"
     ]
    },
    {
     "name": "stdout",
     "output_type": "stream",
     "text": [
      "[ 4  8 10 13 30 45]\n",
      "(6,)\n",
      "[ 4  8 10 13 30 45]\n",
      "(6,)\n",
      "only using indices for lower-triangular matrix\n",
      "Connectivity computation...\n",
      "   Processing epoch 1 / 1 ...\n"
     ]
    },
    {
     "name": "stderr",
     "output_type": "stream",
     "text": [
      "/Users/jakubblaha/Documents/thesis/thesis-python/common.py:114: RuntimeWarning: There were no Annotations stored in <EpochsArray | 1 events (all good), 0 – 7.992 s (baseline off), ~134 kB, data loaded,\n",
      " '1': 1>, so metadata was not modified.\n",
      "  res = mne_connectivity.spectral_connectivity_time(\n"
     ]
    },
    {
     "name": "stdout",
     "output_type": "stream",
     "text": [
      "[Connectivity computation done]\n",
      "Computing features for trial:  593\n",
      "[ 4  8 10 13 30 45]\n",
      "(6,)\n",
      "[ 4  8 10 13 30 45]\n",
      "(6,)\n",
      "only using indices for lower-triangular matrix\n",
      "Connectivity computation...\n",
      "   Processing epoch 1 / 1 ...\n",
      "[Connectivity computation done]\n"
     ]
    },
    {
     "name": "stderr",
     "output_type": "stream",
     "text": [
      "/Users/jakubblaha/Documents/thesis/thesis-python/common.py:114: RuntimeWarning: There were no Annotations stored in <EpochsArray | 1 events (all good), 0 – 7.992 s (baseline off), ~134 kB, data loaded,\n",
      " '1': 1>, so metadata was not modified.\n",
      "  res = mne_connectivity.spectral_connectivity_time(\n"
     ]
    },
    {
     "name": "stdout",
     "output_type": "stream",
     "text": [
      "Computing features for trial:  594\n",
      "[ 4  8 10 13 30 45]\n",
      "(6,)\n",
      "[ 4  8 10 13 30 45]\n",
      "(6,)\n",
      "only using indices for lower-triangular matrix\n",
      "Connectivity computation...\n",
      "   Processing epoch 1 / 1 ...\n"
     ]
    },
    {
     "name": "stderr",
     "output_type": "stream",
     "text": [
      "/Users/jakubblaha/Documents/thesis/thesis-python/common.py:114: RuntimeWarning: There were no Annotations stored in <EpochsArray | 1 events (all good), 0 – 7.992 s (baseline off), ~134 kB, data loaded,\n",
      " '1': 1>, so metadata was not modified.\n",
      "  res = mne_connectivity.spectral_connectivity_time(\n"
     ]
    },
    {
     "name": "stdout",
     "output_type": "stream",
     "text": [
      "[Connectivity computation done]\n",
      "Computing features for trial:  595\n",
      "[ 4  8 10 13 30 45]\n",
      "(6,)\n",
      "[ 4  8 10 13 30 45]\n",
      "(6,)\n",
      "only using indices for lower-triangular matrix\n",
      "Connectivity computation...\n",
      "   Processing epoch 1 / 1 ...\n"
     ]
    },
    {
     "name": "stderr",
     "output_type": "stream",
     "text": [
      "/Users/jakubblaha/Documents/thesis/thesis-python/common.py:114: RuntimeWarning: There were no Annotations stored in <EpochsArray | 1 events (all good), 0 – 7.992 s (baseline off), ~134 kB, data loaded,\n",
      " '1': 1>, so metadata was not modified.\n",
      "  res = mne_connectivity.spectral_connectivity_time(\n"
     ]
    },
    {
     "name": "stdout",
     "output_type": "stream",
     "text": [
      "[Connectivity computation done]\n",
      "Computing features for trial:  596\n",
      "[ 4  8 10 13 30 45]\n",
      "(6,)\n",
      "[ 4  8 10 13 30 45]\n",
      "(6,)\n",
      "only using indices for lower-triangular matrix\n",
      "Connectivity computation...\n",
      "   Processing epoch 1 / 1 ...\n"
     ]
    },
    {
     "name": "stderr",
     "output_type": "stream",
     "text": [
      "/Users/jakubblaha/Documents/thesis/thesis-python/common.py:114: RuntimeWarning: There were no Annotations stored in <EpochsArray | 1 events (all good), 0 – 7.992 s (baseline off), ~134 kB, data loaded,\n",
      " '1': 1>, so metadata was not modified.\n",
      "  res = mne_connectivity.spectral_connectivity_time(\n"
     ]
    },
    {
     "name": "stdout",
     "output_type": "stream",
     "text": [
      "[Connectivity computation done]\n",
      "Computing features for trial:  597\n",
      "[ 4  8 10 13 30 45]\n",
      "(6,)\n",
      "[ 4  8 10 13 30 45]\n",
      "(6,)\n",
      "only using indices for lower-triangular matrix\n",
      "Connectivity computation...\n",
      "   Processing epoch 1 / 1 ...\n",
      "[Connectivity computation done]\n",
      "Computing features for trial:  598\n"
     ]
    },
    {
     "name": "stderr",
     "output_type": "stream",
     "text": [
      "/Users/jakubblaha/Documents/thesis/thesis-python/common.py:114: RuntimeWarning: There were no Annotations stored in <EpochsArray | 1 events (all good), 0 – 7.992 s (baseline off), ~134 kB, data loaded,\n",
      " '1': 1>, so metadata was not modified.\n",
      "  res = mne_connectivity.spectral_connectivity_time(\n"
     ]
    },
    {
     "name": "stdout",
     "output_type": "stream",
     "text": [
      "[ 4  8 10 13 30 45]\n",
      "(6,)\n",
      "[ 4  8 10 13 30 45]\n",
      "(6,)\n",
      "only using indices for lower-triangular matrix\n",
      "Connectivity computation...\n",
      "   Processing epoch 1 / 1 ...\n"
     ]
    },
    {
     "name": "stderr",
     "output_type": "stream",
     "text": [
      "/Users/jakubblaha/Documents/thesis/thesis-python/common.py:114: RuntimeWarning: There were no Annotations stored in <EpochsArray | 1 events (all good), 0 – 7.992 s (baseline off), ~134 kB, data loaded,\n",
      " '1': 1>, so metadata was not modified.\n",
      "  res = mne_connectivity.spectral_connectivity_time(\n"
     ]
    },
    {
     "name": "stdout",
     "output_type": "stream",
     "text": [
      "[Connectivity computation done]\n",
      "Computing features for trial:  599\n",
      "[ 4  8 10 13 30 45]\n",
      "(6,)\n",
      "[ 4  8 10 13 30 45]\n",
      "(6,)\n",
      "only using indices for lower-triangular matrix\n",
      "Connectivity computation...\n",
      "   Processing epoch 1 / 1 ...\n",
      "[Connectivity computation done]\n"
     ]
    },
    {
     "name": "stderr",
     "output_type": "stream",
     "text": [
      "/Users/jakubblaha/Documents/thesis/thesis-python/common.py:114: RuntimeWarning: There were no Annotations stored in <EpochsArray | 1 events (all good), 0 – 7.992 s (baseline off), ~134 kB, data loaded,\n",
      " '1': 1>, so metadata was not modified.\n",
      "  res = mne_connectivity.spectral_connectivity_time(\n"
     ]
    },
    {
     "name": "stdout",
     "output_type": "stream",
     "text": [
      "Computing features for trial:  600\n",
      "[ 4  8 10 13 30 45]\n",
      "(6,)\n",
      "[ 4  8 10 13 30 45]\n",
      "(6,)\n",
      "only using indices for lower-triangular matrix\n",
      "Connectivity computation...\n",
      "   Processing epoch 1 / 1 ...\n",
      "[Connectivity computation done]\n",
      "Computing features for trial:  601\n"
     ]
    },
    {
     "name": "stderr",
     "output_type": "stream",
     "text": [
      "/Users/jakubblaha/Documents/thesis/thesis-python/common.py:114: RuntimeWarning: There were no Annotations stored in <EpochsArray | 1 events (all good), 0 – 7.992 s (baseline off), ~134 kB, data loaded,\n",
      " '1': 1>, so metadata was not modified.\n",
      "  res = mne_connectivity.spectral_connectivity_time(\n"
     ]
    },
    {
     "name": "stdout",
     "output_type": "stream",
     "text": [
      "[ 4  8 10 13 30 45]\n",
      "(6,)\n",
      "[ 4  8 10 13 30 45]\n",
      "(6,)\n",
      "only using indices for lower-triangular matrix\n",
      "Connectivity computation...\n",
      "   Processing epoch 1 / 1 ...\n",
      "[Connectivity computation done]\n",
      "Computing features for trial:  602\n"
     ]
    },
    {
     "name": "stderr",
     "output_type": "stream",
     "text": [
      "/Users/jakubblaha/Documents/thesis/thesis-python/common.py:114: RuntimeWarning: There were no Annotations stored in <EpochsArray | 1 events (all good), 0 – 7.992 s (baseline off), ~134 kB, data loaded,\n",
      " '1': 1>, so metadata was not modified.\n",
      "  res = mne_connectivity.spectral_connectivity_time(\n"
     ]
    },
    {
     "name": "stdout",
     "output_type": "stream",
     "text": [
      "[ 4  8 10 13 30 45]\n",
      "(6,)\n",
      "[ 4  8 10 13 30 45]\n",
      "(6,)\n",
      "only using indices for lower-triangular matrix\n",
      "Connectivity computation...\n",
      "   Processing epoch 1 / 1 ...\n",
      "[Connectivity computation done]\n",
      "Computing features for trial:  603\n"
     ]
    },
    {
     "name": "stderr",
     "output_type": "stream",
     "text": [
      "/Users/jakubblaha/Documents/thesis/thesis-python/common.py:114: RuntimeWarning: There were no Annotations stored in <EpochsArray | 1 events (all good), 0 – 7.992 s (baseline off), ~134 kB, data loaded,\n",
      " '1': 1>, so metadata was not modified.\n",
      "  res = mne_connectivity.spectral_connectivity_time(\n"
     ]
    },
    {
     "name": "stdout",
     "output_type": "stream",
     "text": [
      "[ 4  8 10 13 30 45]\n",
      "(6,)\n",
      "[ 4  8 10 13 30 45]\n",
      "(6,)\n",
      "only using indices for lower-triangular matrix\n",
      "Connectivity computation...\n",
      "   Processing epoch 1 / 1 ...\n",
      "[Connectivity computation done]\n",
      "Computing features for trial:  604\n"
     ]
    },
    {
     "name": "stderr",
     "output_type": "stream",
     "text": [
      "/Users/jakubblaha/Documents/thesis/thesis-python/common.py:114: RuntimeWarning: There were no Annotations stored in <EpochsArray | 1 events (all good), 0 – 7.992 s (baseline off), ~134 kB, data loaded,\n",
      " '1': 1>, so metadata was not modified.\n",
      "  res = mne_connectivity.spectral_connectivity_time(\n"
     ]
    },
    {
     "name": "stdout",
     "output_type": "stream",
     "text": [
      "[ 4  8 10 13 30 45]\n",
      "(6,)\n",
      "[ 4  8 10 13 30 45]\n",
      "(6,)\n",
      "only using indices for lower-triangular matrix\n",
      "Connectivity computation...\n",
      "   Processing epoch 1 / 1 ...\n"
     ]
    },
    {
     "name": "stderr",
     "output_type": "stream",
     "text": [
      "/Users/jakubblaha/Documents/thesis/thesis-python/common.py:114: RuntimeWarning: There were no Annotations stored in <EpochsArray | 1 events (all good), 0 – 7.992 s (baseline off), ~134 kB, data loaded,\n",
      " '1': 1>, so metadata was not modified.\n",
      "  res = mne_connectivity.spectral_connectivity_time(\n"
     ]
    },
    {
     "name": "stdout",
     "output_type": "stream",
     "text": [
      "[Connectivity computation done]\n",
      "Computing features for trial:  605\n",
      "[ 4  8 10 13 30 45]\n",
      "(6,)\n",
      "[ 4  8 10 13 30 45]\n",
      "(6,)\n",
      "only using indices for lower-triangular matrix\n",
      "Connectivity computation...\n",
      "   Processing epoch 1 / 1 ...\n",
      "[Connectivity computation done]\n"
     ]
    },
    {
     "name": "stderr",
     "output_type": "stream",
     "text": [
      "/Users/jakubblaha/Documents/thesis/thesis-python/common.py:114: RuntimeWarning: There were no Annotations stored in <EpochsArray | 1 events (all good), 0 – 7.992 s (baseline off), ~134 kB, data loaded,\n",
      " '1': 1>, so metadata was not modified.\n",
      "  res = mne_connectivity.spectral_connectivity_time(\n"
     ]
    },
    {
     "name": "stdout",
     "output_type": "stream",
     "text": [
      "Computing features for trial:  606\n",
      "[ 4  8 10 13 30 45]\n",
      "(6,)\n",
      "[ 4  8 10 13 30 45]\n",
      "(6,)\n",
      "only using indices for lower-triangular matrix\n",
      "Connectivity computation...\n",
      "   Processing epoch 1 / 1 ...\n"
     ]
    },
    {
     "name": "stderr",
     "output_type": "stream",
     "text": [
      "/Users/jakubblaha/Documents/thesis/thesis-python/common.py:114: RuntimeWarning: There were no Annotations stored in <EpochsArray | 1 events (all good), 0 – 7.992 s (baseline off), ~134 kB, data loaded,\n",
      " '1': 1>, so metadata was not modified.\n",
      "  res = mne_connectivity.spectral_connectivity_time(\n"
     ]
    },
    {
     "name": "stdout",
     "output_type": "stream",
     "text": [
      "[Connectivity computation done]\n",
      "Computing features for trial:  607\n",
      "[ 4  8 10 13 30 45]\n",
      "(6,)\n",
      "[ 4  8 10 13 30 45]\n",
      "(6,)\n",
      "only using indices for lower-triangular matrix\n",
      "Connectivity computation...\n",
      "   Processing epoch 1 / 1 ...\n"
     ]
    },
    {
     "name": "stderr",
     "output_type": "stream",
     "text": [
      "/Users/jakubblaha/Documents/thesis/thesis-python/common.py:114: RuntimeWarning: There were no Annotations stored in <EpochsArray | 1 events (all good), 0 – 7.992 s (baseline off), ~134 kB, data loaded,\n",
      " '1': 1>, so metadata was not modified.\n",
      "  res = mne_connectivity.spectral_connectivity_time(\n"
     ]
    },
    {
     "name": "stdout",
     "output_type": "stream",
     "text": [
      "[Connectivity computation done]\n",
      "Computing features for trial:  608\n",
      "[ 4  8 10 13 30 45]\n",
      "(6,)\n",
      "[ 4  8 10 13 30 45]\n",
      "(6,)\n",
      "only using indices for lower-triangular matrix\n",
      "Connectivity computation...\n",
      "   Processing epoch 1 / 1 ...\n",
      "[Connectivity computation done]\n"
     ]
    },
    {
     "name": "stderr",
     "output_type": "stream",
     "text": [
      "/Users/jakubblaha/Documents/thesis/thesis-python/common.py:114: RuntimeWarning: There were no Annotations stored in <EpochsArray | 1 events (all good), 0 – 7.992 s (baseline off), ~134 kB, data loaded,\n",
      " '1': 1>, so metadata was not modified.\n",
      "  res = mne_connectivity.spectral_connectivity_time(\n"
     ]
    },
    {
     "name": "stdout",
     "output_type": "stream",
     "text": [
      "Computing features for trial:  609\n",
      "[ 4  8 10 13 30 45]\n",
      "(6,)\n",
      "[ 4  8 10 13 30 45]\n",
      "(6,)\n",
      "only using indices for lower-triangular matrix\n",
      "Connectivity computation...\n",
      "   Processing epoch 1 / 1 ...\n"
     ]
    },
    {
     "name": "stderr",
     "output_type": "stream",
     "text": [
      "/Users/jakubblaha/Documents/thesis/thesis-python/common.py:114: RuntimeWarning: There were no Annotations stored in <EpochsArray | 1 events (all good), 0 – 7.992 s (baseline off), ~134 kB, data loaded,\n",
      " '1': 1>, so metadata was not modified.\n",
      "  res = mne_connectivity.spectral_connectivity_time(\n"
     ]
    },
    {
     "name": "stdout",
     "output_type": "stream",
     "text": [
      "[Connectivity computation done]\n",
      "Computing features for trial:  610\n",
      "[ 4  8 10 13 30 45]\n",
      "(6,)\n",
      "[ 4  8 10 13 30 45]\n",
      "(6,)\n",
      "only using indices for lower-triangular matrix\n",
      "Connectivity computation...\n",
      "   Processing epoch 1 / 1 ...\n"
     ]
    },
    {
     "name": "stderr",
     "output_type": "stream",
     "text": [
      "/Users/jakubblaha/Documents/thesis/thesis-python/common.py:114: RuntimeWarning: There were no Annotations stored in <EpochsArray | 1 events (all good), 0 – 7.992 s (baseline off), ~134 kB, data loaded,\n",
      " '1': 1>, so metadata was not modified.\n",
      "  res = mne_connectivity.spectral_connectivity_time(\n"
     ]
    },
    {
     "name": "stdout",
     "output_type": "stream",
     "text": [
      "[Connectivity computation done]\n",
      "Computing features for trial:  611\n",
      "[ 4  8 10 13 30 45]\n",
      "(6,)\n",
      "[ 4  8 10 13 30 45]\n",
      "(6,)\n",
      "only using indices for lower-triangular matrix\n",
      "Connectivity computation...\n",
      "   Processing epoch 1 / 1 ...\n"
     ]
    },
    {
     "name": "stderr",
     "output_type": "stream",
     "text": [
      "/Users/jakubblaha/Documents/thesis/thesis-python/common.py:114: RuntimeWarning: There were no Annotations stored in <EpochsArray | 1 events (all good), 0 – 7.992 s (baseline off), ~134 kB, data loaded,\n",
      " '1': 1>, so metadata was not modified.\n",
      "  res = mne_connectivity.spectral_connectivity_time(\n"
     ]
    },
    {
     "name": "stdout",
     "output_type": "stream",
     "text": [
      "[Connectivity computation done]\n",
      "Computing features for trial:  612\n",
      "[ 4  8 10 13 30 45]\n",
      "(6,)\n",
      "[ 4  8 10 13 30 45]\n",
      "(6,)\n",
      "only using indices for lower-triangular matrix\n",
      "Connectivity computation...\n",
      "   Processing epoch 1 / 1 ...\n",
      "[Connectivity computation done]\n"
     ]
    },
    {
     "name": "stderr",
     "output_type": "stream",
     "text": [
      "/Users/jakubblaha/Documents/thesis/thesis-python/common.py:114: RuntimeWarning: There were no Annotations stored in <EpochsArray | 1 events (all good), 0 – 7.992 s (baseline off), ~134 kB, data loaded,\n",
      " '1': 1>, so metadata was not modified.\n",
      "  res = mne_connectivity.spectral_connectivity_time(\n"
     ]
    },
    {
     "name": "stdout",
     "output_type": "stream",
     "text": [
      "Computing features for trial:  613\n",
      "[ 4  8 10 13 30 45]\n",
      "(6,)\n",
      "[ 4  8 10 13 30 45]\n",
      "(6,)\n",
      "only using indices for lower-triangular matrix\n",
      "Connectivity computation...\n",
      "   Processing epoch 1 / 1 ...\n",
      "[Connectivity computation done]\n",
      "Computing features for trial:  614\n",
      "[ 4  8 10 13 30 45]\n",
      "(6,)\n"
     ]
    },
    {
     "name": "stderr",
     "output_type": "stream",
     "text": [
      "/Users/jakubblaha/Documents/thesis/thesis-python/common.py:114: RuntimeWarning: There were no Annotations stored in <EpochsArray | 1 events (all good), 0 – 7.992 s (baseline off), ~134 kB, data loaded,\n",
      " '1': 1>, so metadata was not modified.\n",
      "  res = mne_connectivity.spectral_connectivity_time(\n",
      "/Users/jakubblaha/Documents/thesis/thesis-python/common.py:114: RuntimeWarning: There were no Annotations stored in <EpochsArray | 1 events (all good), 0 – 7.992 s (baseline off), ~134 kB, data loaded,\n",
      " '1': 1>, so metadata was not modified.\n",
      "  res = mne_connectivity.spectral_connectivity_time(\n"
     ]
    },
    {
     "name": "stdout",
     "output_type": "stream",
     "text": [
      "[ 4  8 10 13 30 45]\n",
      "(6,)\n",
      "only using indices for lower-triangular matrix\n",
      "Connectivity computation...\n",
      "   Processing epoch 1 / 1 ...\n",
      "[Connectivity computation done]\n",
      "Computing features for trial:  615\n",
      "[ 4  8 10 13 30 45]\n",
      "(6,)\n",
      "[ 4  8 10 13 30 45]\n",
      "(6,)\n",
      "only using indices for lower-triangular matrix\n",
      "Connectivity computation...\n",
      "   Processing epoch 1 / 1 ...\n",
      "[Connectivity computation done]\n",
      "Computing features for trial:  616\n"
     ]
    },
    {
     "name": "stderr",
     "output_type": "stream",
     "text": [
      "/Users/jakubblaha/Documents/thesis/thesis-python/common.py:114: RuntimeWarning: There were no Annotations stored in <EpochsArray | 1 events (all good), 0 – 7.992 s (baseline off), ~134 kB, data loaded,\n",
      " '1': 1>, so metadata was not modified.\n",
      "  res = mne_connectivity.spectral_connectivity_time(\n"
     ]
    },
    {
     "name": "stdout",
     "output_type": "stream",
     "text": [
      "[ 4  8 10 13 30 45]\n",
      "(6,)\n",
      "[ 4  8 10 13 30 45]\n",
      "(6,)\n",
      "only using indices for lower-triangular matrix\n",
      "Connectivity computation...\n",
      "   Processing epoch 1 / 1 ...\n"
     ]
    },
    {
     "name": "stderr",
     "output_type": "stream",
     "text": [
      "/Users/jakubblaha/Documents/thesis/thesis-python/common.py:114: RuntimeWarning: There were no Annotations stored in <EpochsArray | 1 events (all good), 0 – 7.992 s (baseline off), ~134 kB, data loaded,\n",
      " '1': 1>, so metadata was not modified.\n",
      "  res = mne_connectivity.spectral_connectivity_time(\n"
     ]
    },
    {
     "name": "stdout",
     "output_type": "stream",
     "text": [
      "[Connectivity computation done]\n",
      "Computing features for trial:  617\n",
      "[ 4  8 10 13 30 45]\n",
      "(6,)\n",
      "[ 4  8 10 13 30 45]\n",
      "(6,)\n",
      "only using indices for lower-triangular matrix\n",
      "Connectivity computation...\n",
      "   Processing epoch 1 / 1 ...\n"
     ]
    },
    {
     "name": "stderr",
     "output_type": "stream",
     "text": [
      "/Users/jakubblaha/Documents/thesis/thesis-python/common.py:114: RuntimeWarning: There were no Annotations stored in <EpochsArray | 1 events (all good), 0 – 7.992 s (baseline off), ~134 kB, data loaded,\n",
      " '1': 1>, so metadata was not modified.\n",
      "  res = mne_connectivity.spectral_connectivity_time(\n"
     ]
    },
    {
     "name": "stdout",
     "output_type": "stream",
     "text": [
      "[Connectivity computation done]\n",
      "Computing features for trial:  618\n",
      "[ 4  8 10 13 30 45]\n",
      "(6,)\n",
      "[ 4  8 10 13 30 45]\n",
      "(6,)\n",
      "only using indices for lower-triangular matrix\n",
      "Connectivity computation...\n",
      "   Processing epoch 1 / 1 ...\n"
     ]
    },
    {
     "name": "stderr",
     "output_type": "stream",
     "text": [
      "/Users/jakubblaha/Documents/thesis/thesis-python/common.py:114: RuntimeWarning: There were no Annotations stored in <EpochsArray | 1 events (all good), 0 – 7.992 s (baseline off), ~134 kB, data loaded,\n",
      " '1': 1>, so metadata was not modified.\n",
      "  res = mne_connectivity.spectral_connectivity_time(\n"
     ]
    },
    {
     "name": "stdout",
     "output_type": "stream",
     "text": [
      "[Connectivity computation done]\n",
      "Computing features for trial:  619\n",
      "[ 4  8 10 13 30 45]\n",
      "(6,)\n",
      "[ 4  8 10 13 30 45]\n",
      "(6,)\n",
      "only using indices for lower-triangular matrix\n",
      "Connectivity computation...\n",
      "   Processing epoch 1 / 1 ...\n",
      "[Connectivity computation done]\n"
     ]
    },
    {
     "name": "stderr",
     "output_type": "stream",
     "text": [
      "/Users/jakubblaha/Documents/thesis/thesis-python/common.py:114: RuntimeWarning: There were no Annotations stored in <EpochsArray | 1 events (all good), 0 – 7.992 s (baseline off), ~134 kB, data loaded,\n",
      " '1': 1>, so metadata was not modified.\n",
      "  res = mne_connectivity.spectral_connectivity_time(\n"
     ]
    },
    {
     "name": "stdout",
     "output_type": "stream",
     "text": [
      "Computing features for trial:  620\n",
      "[ 4  8 10 13 30 45]\n",
      "(6,)\n",
      "[ 4  8 10 13 30 45]\n",
      "(6,)\n",
      "only using indices for lower-triangular matrix\n",
      "Connectivity computation...\n",
      "   Processing epoch 1 / 1 ...\n",
      "[Connectivity computation done]\n",
      "Computing features for trial:  621\n",
      "[ 4  8 10 13 30 45]\n",
      "(6,)\n",
      "[ 4  8 10 13 30 45]\n",
      "(6,)\n",
      "only using indices for lower-triangular matrix\n",
      "Connectivity computation...\n",
      "   Processing epoch 1 / 1 ...\n"
     ]
    },
    {
     "name": "stderr",
     "output_type": "stream",
     "text": [
      "/Users/jakubblaha/Documents/thesis/thesis-python/common.py:114: RuntimeWarning: There were no Annotations stored in <EpochsArray | 1 events (all good), 0 – 7.992 s (baseline off), ~134 kB, data loaded,\n",
      " '1': 1>, so metadata was not modified.\n",
      "  res = mne_connectivity.spectral_connectivity_time(\n",
      "/Users/jakubblaha/Documents/thesis/thesis-python/common.py:114: RuntimeWarning: There were no Annotations stored in <EpochsArray | 1 events (all good), 0 – 7.992 s (baseline off), ~134 kB, data loaded,\n",
      " '1': 1>, so metadata was not modified.\n",
      "  res = mne_connectivity.spectral_connectivity_time(\n"
     ]
    },
    {
     "name": "stdout",
     "output_type": "stream",
     "text": [
      "[Connectivity computation done]\n",
      "Computing features for trial:  622\n",
      "[ 4  8 10 13 30 45]\n",
      "(6,)\n",
      "[ 4  8 10 13 30 45]\n",
      "(6,)\n",
      "only using indices for lower-triangular matrix\n",
      "Connectivity computation...\n",
      "   Processing epoch 1 / 1 ...\n"
     ]
    },
    {
     "name": "stderr",
     "output_type": "stream",
     "text": [
      "/Users/jakubblaha/Documents/thesis/thesis-python/common.py:114: RuntimeWarning: There were no Annotations stored in <EpochsArray | 1 events (all good), 0 – 7.992 s (baseline off), ~134 kB, data loaded,\n",
      " '1': 1>, so metadata was not modified.\n",
      "  res = mne_connectivity.spectral_connectivity_time(\n"
     ]
    },
    {
     "name": "stdout",
     "output_type": "stream",
     "text": [
      "[Connectivity computation done]\n",
      "Computing features for trial:  623\n",
      "[ 4  8 10 13 30 45]\n",
      "(6,)\n",
      "[ 4  8 10 13 30 45]\n",
      "(6,)\n",
      "only using indices for lower-triangular matrix\n",
      "Connectivity computation...\n",
      "   Processing epoch 1 / 1 ...\n",
      "[Connectivity computation done]\n"
     ]
    },
    {
     "name": "stderr",
     "output_type": "stream",
     "text": [
      "/Users/jakubblaha/Documents/thesis/thesis-python/common.py:114: RuntimeWarning: There were no Annotations stored in <EpochsArray | 1 events (all good), 0 – 7.992 s (baseline off), ~134 kB, data loaded,\n",
      " '1': 1>, so metadata was not modified.\n",
      "  res = mne_connectivity.spectral_connectivity_time(\n"
     ]
    },
    {
     "name": "stdout",
     "output_type": "stream",
     "text": [
      "Computing features for trial:  624\n",
      "[ 4  8 10 13 30 45]\n",
      "(6,)\n",
      "[ 4  8 10 13 30 45]\n",
      "(6,)\n",
      "only using indices for lower-triangular matrix\n",
      "Connectivity computation...\n",
      "   Processing epoch 1 / 1 ...\n"
     ]
    },
    {
     "name": "stderr",
     "output_type": "stream",
     "text": [
      "/Users/jakubblaha/Documents/thesis/thesis-python/common.py:114: RuntimeWarning: There were no Annotations stored in <EpochsArray | 1 events (all good), 0 – 7.992 s (baseline off), ~134 kB, data loaded,\n",
      " '1': 1>, so metadata was not modified.\n",
      "  res = mne_connectivity.spectral_connectivity_time(\n"
     ]
    },
    {
     "name": "stdout",
     "output_type": "stream",
     "text": [
      "[Connectivity computation done]\n",
      "Computing features for trial:  625\n",
      "[ 4  8 10 13 30 45]\n",
      "(6,)\n",
      "[ 4  8 10 13 30 45]\n",
      "(6,)\n",
      "only using indices for lower-triangular matrix\n",
      "Connectivity computation...\n",
      "   Processing epoch 1 / 1 ...\n"
     ]
    },
    {
     "name": "stderr",
     "output_type": "stream",
     "text": [
      "/Users/jakubblaha/Documents/thesis/thesis-python/common.py:114: RuntimeWarning: There were no Annotations stored in <EpochsArray | 1 events (all good), 0 – 7.992 s (baseline off), ~134 kB, data loaded,\n",
      " '1': 1>, so metadata was not modified.\n",
      "  res = mne_connectivity.spectral_connectivity_time(\n"
     ]
    },
    {
     "name": "stdout",
     "output_type": "stream",
     "text": [
      "[Connectivity computation done]\n",
      "Computing features for trial:  626\n",
      "[ 4  8 10 13 30 45]\n",
      "(6,)\n",
      "[ 4  8 10 13 30 45]\n",
      "(6,)\n",
      "only using indices for lower-triangular matrix\n",
      "Connectivity computation...\n",
      "   Processing epoch 1 / 1 ...\n"
     ]
    },
    {
     "name": "stderr",
     "output_type": "stream",
     "text": [
      "/Users/jakubblaha/Documents/thesis/thesis-python/common.py:114: RuntimeWarning: There were no Annotations stored in <EpochsArray | 1 events (all good), 0 – 7.992 s (baseline off), ~134 kB, data loaded,\n",
      " '1': 1>, so metadata was not modified.\n",
      "  res = mne_connectivity.spectral_connectivity_time(\n"
     ]
    },
    {
     "name": "stdout",
     "output_type": "stream",
     "text": [
      "[Connectivity computation done]\n",
      "Computing features for trial:  627\n",
      "[ 4  8 10 13 30 45]\n",
      "(6,)\n",
      "[ 4  8 10 13 30 45]\n",
      "(6,)\n",
      "only using indices for lower-triangular matrix\n",
      "Connectivity computation...\n",
      "   Processing epoch 1 / 1 ...\n"
     ]
    },
    {
     "name": "stderr",
     "output_type": "stream",
     "text": [
      "/Users/jakubblaha/Documents/thesis/thesis-python/common.py:114: RuntimeWarning: There were no Annotations stored in <EpochsArray | 1 events (all good), 0 – 7.992 s (baseline off), ~134 kB, data loaded,\n",
      " '1': 1>, so metadata was not modified.\n",
      "  res = mne_connectivity.spectral_connectivity_time(\n"
     ]
    },
    {
     "name": "stdout",
     "output_type": "stream",
     "text": [
      "[Connectivity computation done]\n",
      "Computing features for trial:  628\n",
      "[ 4  8 10 13 30 45]\n",
      "(6,)\n",
      "[ 4  8 10 13 30 45]\n",
      "(6,)\n",
      "only using indices for lower-triangular matrix\n",
      "Connectivity computation...\n",
      "   Processing epoch 1 / 1 ...\n",
      "[Connectivity computation done]\n"
     ]
    },
    {
     "name": "stderr",
     "output_type": "stream",
     "text": [
      "/Users/jakubblaha/Documents/thesis/thesis-python/common.py:114: RuntimeWarning: There were no Annotations stored in <EpochsArray | 1 events (all good), 0 – 7.992 s (baseline off), ~134 kB, data loaded,\n",
      " '1': 1>, so metadata was not modified.\n",
      "  res = mne_connectivity.spectral_connectivity_time(\n"
     ]
    },
    {
     "name": "stdout",
     "output_type": "stream",
     "text": [
      "Computing features for trial:  629\n",
      "[ 4  8 10 13 30 45]\n",
      "(6,)\n",
      "[ 4  8 10 13 30 45]\n",
      "(6,)\n",
      "only using indices for lower-triangular matrix\n",
      "Connectivity computation...\n",
      "   Processing epoch 1 / 1 ...\n",
      "[Connectivity computation done]\n",
      "Computing features for trial:  630\n"
     ]
    },
    {
     "name": "stderr",
     "output_type": "stream",
     "text": [
      "/Users/jakubblaha/Documents/thesis/thesis-python/common.py:114: RuntimeWarning: There were no Annotations stored in <EpochsArray | 1 events (all good), 0 – 7.992 s (baseline off), ~134 kB, data loaded,\n",
      " '1': 1>, so metadata was not modified.\n",
      "  res = mne_connectivity.spectral_connectivity_time(\n"
     ]
    },
    {
     "name": "stdout",
     "output_type": "stream",
     "text": [
      "[ 4  8 10 13 30 45]\n",
      "(6,)\n",
      "[ 4  8 10 13 30 45]\n",
      "(6,)\n",
      "only using indices for lower-triangular matrix\n",
      "Connectivity computation...\n",
      "   Processing epoch 1 / 1 ...\n",
      "[Connectivity computation done]\n",
      "Computing features for trial:  631\n"
     ]
    },
    {
     "name": "stderr",
     "output_type": "stream",
     "text": [
      "/Users/jakubblaha/Documents/thesis/thesis-python/common.py:114: RuntimeWarning: There were no Annotations stored in <EpochsArray | 1 events (all good), 0 – 7.992 s (baseline off), ~134 kB, data loaded,\n",
      " '1': 1>, so metadata was not modified.\n",
      "  res = mne_connectivity.spectral_connectivity_time(\n"
     ]
    },
    {
     "name": "stdout",
     "output_type": "stream",
     "text": [
      "[ 4  8 10 13 30 45]\n",
      "(6,)\n",
      "[ 4  8 10 13 30 45]\n",
      "(6,)\n",
      "only using indices for lower-triangular matrix\n",
      "Connectivity computation...\n",
      "   Processing epoch 1 / 1 ...\n",
      "[Connectivity computation done]\n",
      "Computing features for trial:  632\n"
     ]
    },
    {
     "name": "stderr",
     "output_type": "stream",
     "text": [
      "/Users/jakubblaha/Documents/thesis/thesis-python/common.py:114: RuntimeWarning: There were no Annotations stored in <EpochsArray | 1 events (all good), 0 – 7.992 s (baseline off), ~134 kB, data loaded,\n",
      " '1': 1>, so metadata was not modified.\n",
      "  res = mne_connectivity.spectral_connectivity_time(\n"
     ]
    },
    {
     "name": "stdout",
     "output_type": "stream",
     "text": [
      "[ 4  8 10 13 30 45]\n",
      "(6,)\n",
      "[ 4  8 10 13 30 45]\n",
      "(6,)\n",
      "only using indices for lower-triangular matrix\n",
      "Connectivity computation...\n",
      "   Processing epoch 1 / 1 ...\n",
      "[Connectivity computation done]\n",
      "Computing features for trial:  633\n"
     ]
    },
    {
     "name": "stderr",
     "output_type": "stream",
     "text": [
      "/Users/jakubblaha/Documents/thesis/thesis-python/common.py:114: RuntimeWarning: There were no Annotations stored in <EpochsArray | 1 events (all good), 0 – 7.992 s (baseline off), ~134 kB, data loaded,\n",
      " '1': 1>, so metadata was not modified.\n",
      "  res = mne_connectivity.spectral_connectivity_time(\n"
     ]
    },
    {
     "name": "stdout",
     "output_type": "stream",
     "text": [
      "[ 4  8 10 13 30 45]\n",
      "(6,)\n",
      "[ 4  8 10 13 30 45]\n",
      "(6,)\n",
      "only using indices for lower-triangular matrix\n",
      "Connectivity computation...\n",
      "   Processing epoch 1 / 1 ...\n"
     ]
    },
    {
     "name": "stderr",
     "output_type": "stream",
     "text": [
      "/Users/jakubblaha/Documents/thesis/thesis-python/common.py:114: RuntimeWarning: There were no Annotations stored in <EpochsArray | 1 events (all good), 0 – 7.992 s (baseline off), ~134 kB, data loaded,\n",
      " '1': 1>, so metadata was not modified.\n",
      "  res = mne_connectivity.spectral_connectivity_time(\n"
     ]
    },
    {
     "name": "stdout",
     "output_type": "stream",
     "text": [
      "[Connectivity computation done]\n",
      "Computing features for trial:  634\n",
      "[ 4  8 10 13 30 45]\n",
      "(6,)\n",
      "[ 4  8 10 13 30 45]\n",
      "(6,)\n",
      "only using indices for lower-triangular matrix\n",
      "Connectivity computation...\n",
      "   Processing epoch 1 / 1 ...\n",
      "[Connectivity computation done]\n"
     ]
    },
    {
     "name": "stderr",
     "output_type": "stream",
     "text": [
      "/Users/jakubblaha/Documents/thesis/thesis-python/common.py:114: RuntimeWarning: There were no Annotations stored in <EpochsArray | 1 events (all good), 0 – 7.992 s (baseline off), ~134 kB, data loaded,\n",
      " '1': 1>, so metadata was not modified.\n",
      "  res = mne_connectivity.spectral_connectivity_time(\n"
     ]
    },
    {
     "name": "stdout",
     "output_type": "stream",
     "text": [
      "Computing features for trial:  635\n",
      "[ 4  8 10 13 30 45]\n",
      "(6,)\n",
      "[ 4  8 10 13 30 45]\n",
      "(6,)\n",
      "only using indices for lower-triangular matrix\n",
      "Connectivity computation...\n",
      "   Processing epoch 1 / 1 ...\n",
      "[Connectivity computation done]\n",
      "Computing features for trial:  636\n"
     ]
    },
    {
     "name": "stderr",
     "output_type": "stream",
     "text": [
      "/Users/jakubblaha/Documents/thesis/thesis-python/common.py:114: RuntimeWarning: There were no Annotations stored in <EpochsArray | 1 events (all good), 0 – 7.992 s (baseline off), ~134 kB, data loaded,\n",
      " '1': 1>, so metadata was not modified.\n",
      "  res = mne_connectivity.spectral_connectivity_time(\n"
     ]
    },
    {
     "name": "stdout",
     "output_type": "stream",
     "text": [
      "[ 4  8 10 13 30 45]\n",
      "(6,)\n",
      "[ 4  8 10 13 30 45]\n",
      "(6,)\n",
      "only using indices for lower-triangular matrix\n",
      "Connectivity computation...\n",
      "   Processing epoch 1 / 1 ...\n"
     ]
    },
    {
     "name": "stderr",
     "output_type": "stream",
     "text": [
      "/Users/jakubblaha/Documents/thesis/thesis-python/common.py:114: RuntimeWarning: There were no Annotations stored in <EpochsArray | 1 events (all good), 0 – 7.992 s (baseline off), ~134 kB, data loaded,\n",
      " '1': 1>, so metadata was not modified.\n",
      "  res = mne_connectivity.spectral_connectivity_time(\n"
     ]
    },
    {
     "name": "stdout",
     "output_type": "stream",
     "text": [
      "[Connectivity computation done]\n",
      "Computing features for trial:  637\n",
      "[ 4  8 10 13 30 45]\n",
      "(6,)\n",
      "[ 4  8 10 13 30 45]\n",
      "(6,)\n",
      "only using indices for lower-triangular matrix\n",
      "Connectivity computation...\n",
      "   Processing epoch 1 / 1 ...\n"
     ]
    },
    {
     "name": "stderr",
     "output_type": "stream",
     "text": [
      "/Users/jakubblaha/Documents/thesis/thesis-python/common.py:114: RuntimeWarning: There were no Annotations stored in <EpochsArray | 1 events (all good), 0 – 7.992 s (baseline off), ~134 kB, data loaded,\n",
      " '1': 1>, so metadata was not modified.\n",
      "  res = mne_connectivity.spectral_connectivity_time(\n"
     ]
    },
    {
     "name": "stdout",
     "output_type": "stream",
     "text": [
      "[Connectivity computation done]\n",
      "Computing features for trial:  638\n",
      "[ 4  8 10 13 30 45]\n",
      "(6,)\n",
      "[ 4  8 10 13 30 45]\n",
      "(6,)\n",
      "only using indices for lower-triangular matrix\n",
      "Connectivity computation...\n",
      "   Processing epoch 1 / 1 ...\n"
     ]
    },
    {
     "name": "stderr",
     "output_type": "stream",
     "text": [
      "/Users/jakubblaha/Documents/thesis/thesis-python/common.py:114: RuntimeWarning: There were no Annotations stored in <EpochsArray | 1 events (all good), 0 – 7.992 s (baseline off), ~134 kB, data loaded,\n",
      " '1': 1>, so metadata was not modified.\n",
      "  res = mne_connectivity.spectral_connectivity_time(\n"
     ]
    },
    {
     "name": "stdout",
     "output_type": "stream",
     "text": [
      "[Connectivity computation done]\n",
      "Computing features for trial:  639\n",
      "[ 4  8 10 13 30 45]\n",
      "(6,)\n",
      "[ 4  8 10 13 30 45]\n",
      "(6,)\n",
      "only using indices for lower-triangular matrix\n",
      "Connectivity computation...\n",
      "   Processing epoch 1 / 1 ...\n",
      "[Connectivity computation done]\n",
      "Computing features for trial:  640\n"
     ]
    },
    {
     "name": "stderr",
     "output_type": "stream",
     "text": [
      "/Users/jakubblaha/Documents/thesis/thesis-python/common.py:114: RuntimeWarning: There were no Annotations stored in <EpochsArray | 1 events (all good), 0 – 7.992 s (baseline off), ~134 kB, data loaded,\n",
      " '1': 1>, so metadata was not modified.\n",
      "  res = mne_connectivity.spectral_connectivity_time(\n"
     ]
    },
    {
     "name": "stdout",
     "output_type": "stream",
     "text": [
      "[ 4  8 10 13 30 45]\n",
      "(6,)\n",
      "[ 4  8 10 13 30 45]\n",
      "(6,)\n",
      "only using indices for lower-triangular matrix\n",
      "Connectivity computation...\n",
      "   Processing epoch 1 / 1 ...\n",
      "[Connectivity computation done]\n",
      "Computing features for trial:  641\n"
     ]
    },
    {
     "name": "stderr",
     "output_type": "stream",
     "text": [
      "/Users/jakubblaha/Documents/thesis/thesis-python/common.py:114: RuntimeWarning: There were no Annotations stored in <EpochsArray | 1 events (all good), 0 – 7.992 s (baseline off), ~134 kB, data loaded,\n",
      " '1': 1>, so metadata was not modified.\n",
      "  res = mne_connectivity.spectral_connectivity_time(\n"
     ]
    },
    {
     "name": "stdout",
     "output_type": "stream",
     "text": [
      "[ 4  8 10 13 30 45]\n",
      "(6,)\n",
      "[ 4  8 10 13 30 45]\n",
      "(6,)\n",
      "only using indices for lower-triangular matrix\n",
      "Connectivity computation...\n",
      "   Processing epoch 1 / 1 ...\n",
      "[Connectivity computation done]\n",
      "Computing features for trial:  642\n"
     ]
    },
    {
     "name": "stderr",
     "output_type": "stream",
     "text": [
      "/Users/jakubblaha/Documents/thesis/thesis-python/common.py:114: RuntimeWarning: There were no Annotations stored in <EpochsArray | 1 events (all good), 0 – 7.992 s (baseline off), ~134 kB, data loaded,\n",
      " '1': 1>, so metadata was not modified.\n",
      "  res = mne_connectivity.spectral_connectivity_time(\n"
     ]
    },
    {
     "name": "stdout",
     "output_type": "stream",
     "text": [
      "[ 4  8 10 13 30 45]\n",
      "(6,)\n",
      "[ 4  8 10 13 30 45]\n",
      "(6,)\n",
      "only using indices for lower-triangular matrix\n",
      "Connectivity computation...\n",
      "   Processing epoch 1 / 1 ...\n"
     ]
    },
    {
     "name": "stderr",
     "output_type": "stream",
     "text": [
      "/Users/jakubblaha/Documents/thesis/thesis-python/common.py:114: RuntimeWarning: There were no Annotations stored in <EpochsArray | 1 events (all good), 0 – 7.992 s (baseline off), ~134 kB, data loaded,\n",
      " '1': 1>, so metadata was not modified.\n",
      "  res = mne_connectivity.spectral_connectivity_time(\n"
     ]
    },
    {
     "name": "stdout",
     "output_type": "stream",
     "text": [
      "[Connectivity computation done]\n",
      "Computing features for trial:  643\n",
      "[ 4  8 10 13 30 45]\n",
      "(6,)\n",
      "[ 4  8 10 13 30 45]\n",
      "(6,)\n",
      "only using indices for lower-triangular matrix\n",
      "Connectivity computation...\n",
      "   Processing epoch 1 / 1 ...\n",
      "[Connectivity computation done]\n"
     ]
    },
    {
     "name": "stderr",
     "output_type": "stream",
     "text": [
      "/Users/jakubblaha/Documents/thesis/thesis-python/common.py:114: RuntimeWarning: There were no Annotations stored in <EpochsArray | 1 events (all good), 0 – 7.992 s (baseline off), ~134 kB, data loaded,\n",
      " '1': 1>, so metadata was not modified.\n",
      "  res = mne_connectivity.spectral_connectivity_time(\n"
     ]
    },
    {
     "name": "stdout",
     "output_type": "stream",
     "text": [
      "Computing features for trial:  644\n",
      "[ 4  8 10 13 30 45]\n",
      "(6,)\n",
      "[ 4  8 10 13 30 45]\n",
      "(6,)\n",
      "only using indices for lower-triangular matrix\n",
      "Connectivity computation...\n",
      "   Processing epoch 1 / 1 ...\n",
      "[Connectivity computation done]\n",
      "Computing features for trial:  645\n"
     ]
    },
    {
     "name": "stderr",
     "output_type": "stream",
     "text": [
      "/Users/jakubblaha/Documents/thesis/thesis-python/common.py:114: RuntimeWarning: There were no Annotations stored in <EpochsArray | 1 events (all good), 0 – 7.992 s (baseline off), ~134 kB, data loaded,\n",
      " '1': 1>, so metadata was not modified.\n",
      "  res = mne_connectivity.spectral_connectivity_time(\n"
     ]
    },
    {
     "name": "stdout",
     "output_type": "stream",
     "text": [
      "[ 4  8 10 13 30 45]\n",
      "(6,)\n",
      "[ 4  8 10 13 30 45]\n",
      "(6,)\n",
      "only using indices for lower-triangular matrix\n",
      "Connectivity computation...\n",
      "   Processing epoch 1 / 1 ...\n"
     ]
    },
    {
     "name": "stderr",
     "output_type": "stream",
     "text": [
      "/Users/jakubblaha/Documents/thesis/thesis-python/common.py:114: RuntimeWarning: There were no Annotations stored in <EpochsArray | 1 events (all good), 0 – 7.992 s (baseline off), ~134 kB, data loaded,\n",
      " '1': 1>, so metadata was not modified.\n",
      "  res = mne_connectivity.spectral_connectivity_time(\n"
     ]
    },
    {
     "name": "stdout",
     "output_type": "stream",
     "text": [
      "[Connectivity computation done]\n",
      "Computing features for trial:  646\n",
      "[ 4  8 10 13 30 45]\n",
      "(6,)\n",
      "[ 4  8 10 13 30 45]\n",
      "(6,)\n",
      "only using indices for lower-triangular matrix\n",
      "Connectivity computation...\n",
      "   Processing epoch 1 / 1 ...\n"
     ]
    },
    {
     "name": "stderr",
     "output_type": "stream",
     "text": [
      "/Users/jakubblaha/Documents/thesis/thesis-python/common.py:114: RuntimeWarning: There were no Annotations stored in <EpochsArray | 1 events (all good), 0 – 7.992 s (baseline off), ~134 kB, data loaded,\n",
      " '1': 1>, so metadata was not modified.\n",
      "  res = mne_connectivity.spectral_connectivity_time(\n"
     ]
    },
    {
     "name": "stdout",
     "output_type": "stream",
     "text": [
      "[Connectivity computation done]\n",
      "Computing features for trial:  647\n",
      "[ 4  8 10 13 30 45]\n",
      "(6,)\n",
      "[ 4  8 10 13 30 45]\n",
      "(6,)\n",
      "only using indices for lower-triangular matrix\n",
      "Connectivity computation...\n",
      "   Processing epoch 1 / 1 ...\n",
      "[Connectivity computation done]\n"
     ]
    },
    {
     "name": "stderr",
     "output_type": "stream",
     "text": [
      "/Users/jakubblaha/Documents/thesis/thesis-python/common.py:114: RuntimeWarning: There were no Annotations stored in <EpochsArray | 1 events (all good), 0 – 7.992 s (baseline off), ~134 kB, data loaded,\n",
      " '1': 1>, so metadata was not modified.\n",
      "  res = mne_connectivity.spectral_connectivity_time(\n"
     ]
    },
    {
     "name": "stdout",
     "output_type": "stream",
     "text": [
      "Computing features for trial:  648\n",
      "[ 4  8 10 13 30 45]\n",
      "(6,)\n",
      "[ 4  8 10 13 30 45]\n",
      "(6,)\n",
      "only using indices for lower-triangular matrix\n",
      "Connectivity computation...\n",
      "   Processing epoch 1 / 1 ...\n",
      "[Connectivity computation done]\n",
      "Computing features for trial:  649\n"
     ]
    },
    {
     "name": "stderr",
     "output_type": "stream",
     "text": [
      "/Users/jakubblaha/Documents/thesis/thesis-python/common.py:114: RuntimeWarning: There were no Annotations stored in <EpochsArray | 1 events (all good), 0 – 7.992 s (baseline off), ~134 kB, data loaded,\n",
      " '1': 1>, so metadata was not modified.\n",
      "  res = mne_connectivity.spectral_connectivity_time(\n"
     ]
    },
    {
     "name": "stdout",
     "output_type": "stream",
     "text": [
      "[ 4  8 10 13 30 45]\n",
      "(6,)\n",
      "[ 4  8 10 13 30 45]\n",
      "(6,)\n",
      "only using indices for lower-triangular matrix\n",
      "Connectivity computation...\n",
      "   Processing epoch 1 / 1 ...\n",
      "[Connectivity computation done]\n",
      "Computing features for trial:  650\n"
     ]
    },
    {
     "name": "stderr",
     "output_type": "stream",
     "text": [
      "/Users/jakubblaha/Documents/thesis/thesis-python/common.py:114: RuntimeWarning: There were no Annotations stored in <EpochsArray | 1 events (all good), 0 – 7.992 s (baseline off), ~134 kB, data loaded,\n",
      " '1': 1>, so metadata was not modified.\n",
      "  res = mne_connectivity.spectral_connectivity_time(\n"
     ]
    },
    {
     "name": "stdout",
     "output_type": "stream",
     "text": [
      "[ 4  8 10 13 30 45]\n",
      "(6,)\n",
      "[ 4  8 10 13 30 45]\n",
      "(6,)\n",
      "only using indices for lower-triangular matrix\n",
      "Connectivity computation...\n",
      "   Processing epoch 1 / 1 ...\n",
      "[Connectivity computation done]\n",
      "Computing features for trial:  651\n"
     ]
    },
    {
     "name": "stderr",
     "output_type": "stream",
     "text": [
      "/Users/jakubblaha/Documents/thesis/thesis-python/common.py:114: RuntimeWarning: There were no Annotations stored in <EpochsArray | 1 events (all good), 0 – 7.992 s (baseline off), ~134 kB, data loaded,\n",
      " '1': 1>, so metadata was not modified.\n",
      "  res = mne_connectivity.spectral_connectivity_time(\n"
     ]
    },
    {
     "name": "stdout",
     "output_type": "stream",
     "text": [
      "[ 4  8 10 13 30 45]\n",
      "(6,)\n",
      "[ 4  8 10 13 30 45]\n",
      "(6,)\n",
      "only using indices for lower-triangular matrix\n",
      "Connectivity computation...\n",
      "   Processing epoch 1 / 1 ...\n",
      "[Connectivity computation done]\n",
      "Computing features for trial:  652\n"
     ]
    },
    {
     "name": "stderr",
     "output_type": "stream",
     "text": [
      "/Users/jakubblaha/Documents/thesis/thesis-python/common.py:114: RuntimeWarning: There were no Annotations stored in <EpochsArray | 1 events (all good), 0 – 7.992 s (baseline off), ~134 kB, data loaded,\n",
      " '1': 1>, so metadata was not modified.\n",
      "  res = mne_connectivity.spectral_connectivity_time(\n"
     ]
    },
    {
     "name": "stdout",
     "output_type": "stream",
     "text": [
      "[ 4  8 10 13 30 45]\n",
      "(6,)\n",
      "[ 4  8 10 13 30 45]\n",
      "(6,)\n",
      "only using indices for lower-triangular matrix\n",
      "Connectivity computation...\n",
      "   Processing epoch 1 / 1 ...\n"
     ]
    },
    {
     "name": "stderr",
     "output_type": "stream",
     "text": [
      "/Users/jakubblaha/Documents/thesis/thesis-python/common.py:114: RuntimeWarning: There were no Annotations stored in <EpochsArray | 1 events (all good), 0 – 7.992 s (baseline off), ~134 kB, data loaded,\n",
      " '1': 1>, so metadata was not modified.\n",
      "  res = mne_connectivity.spectral_connectivity_time(\n"
     ]
    },
    {
     "name": "stdout",
     "output_type": "stream",
     "text": [
      "[Connectivity computation done]\n",
      "Computing features for trial:  653\n",
      "[ 4  8 10 13 30 45]\n",
      "(6,)\n",
      "[ 4  8 10 13 30 45]\n",
      "(6,)\n",
      "only using indices for lower-triangular matrix\n",
      "Connectivity computation...\n",
      "   Processing epoch 1 / 1 ...\n",
      "[Connectivity computation done]\n"
     ]
    },
    {
     "name": "stderr",
     "output_type": "stream",
     "text": [
      "/Users/jakubblaha/Documents/thesis/thesis-python/common.py:114: RuntimeWarning: There were no Annotations stored in <EpochsArray | 1 events (all good), 0 – 7.992 s (baseline off), ~134 kB, data loaded,\n",
      " '1': 1>, so metadata was not modified.\n",
      "  res = mne_connectivity.spectral_connectivity_time(\n"
     ]
    },
    {
     "name": "stdout",
     "output_type": "stream",
     "text": [
      "Computing features for trial:  654\n",
      "[ 4  8 10 13 30 45]\n",
      "(6,)\n",
      "[ 4  8 10 13 30 45]\n",
      "(6,)\n",
      "only using indices for lower-triangular matrix\n",
      "Connectivity computation...\n",
      "   Processing epoch 1 / 1 ...\n",
      "[Connectivity computation done]\n",
      "Computing features for trial:  655\n"
     ]
    },
    {
     "name": "stderr",
     "output_type": "stream",
     "text": [
      "/Users/jakubblaha/Documents/thesis/thesis-python/common.py:114: RuntimeWarning: There were no Annotations stored in <EpochsArray | 1 events (all good), 0 – 7.992 s (baseline off), ~134 kB, data loaded,\n",
      " '1': 1>, so metadata was not modified.\n",
      "  res = mne_connectivity.spectral_connectivity_time(\n"
     ]
    },
    {
     "name": "stdout",
     "output_type": "stream",
     "text": [
      "[ 4  8 10 13 30 45]\n",
      "(6,)\n",
      "[ 4  8 10 13 30 45]\n",
      "(6,)\n",
      "only using indices for lower-triangular matrix\n",
      "Connectivity computation...\n",
      "   Processing epoch 1 / 1 ...\n",
      "[Connectivity computation done]\n",
      "Computing features for trial:  656\n"
     ]
    },
    {
     "name": "stderr",
     "output_type": "stream",
     "text": [
      "/Users/jakubblaha/Documents/thesis/thesis-python/common.py:114: RuntimeWarning: There were no Annotations stored in <EpochsArray | 1 events (all good), 0 – 7.992 s (baseline off), ~134 kB, data loaded,\n",
      " '1': 1>, so metadata was not modified.\n",
      "  res = mne_connectivity.spectral_connectivity_time(\n"
     ]
    },
    {
     "name": "stdout",
     "output_type": "stream",
     "text": [
      "[ 4  8 10 13 30 45]\n",
      "(6,)\n",
      "[ 4  8 10 13 30 45]\n",
      "(6,)\n",
      "only using indices for lower-triangular matrix\n",
      "Connectivity computation...\n",
      "   Processing epoch 1 / 1 ...\n"
     ]
    },
    {
     "name": "stderr",
     "output_type": "stream",
     "text": [
      "/Users/jakubblaha/Documents/thesis/thesis-python/common.py:114: RuntimeWarning: There were no Annotations stored in <EpochsArray | 1 events (all good), 0 – 7.992 s (baseline off), ~134 kB, data loaded,\n",
      " '1': 1>, so metadata was not modified.\n",
      "  res = mne_connectivity.spectral_connectivity_time(\n"
     ]
    },
    {
     "name": "stdout",
     "output_type": "stream",
     "text": [
      "[Connectivity computation done]\n",
      "Computing features for trial:  657\n",
      "[ 4  8 10 13 30 45]\n",
      "(6,)\n",
      "[ 4  8 10 13 30 45]\n",
      "(6,)\n",
      "only using indices for lower-triangular matrix\n",
      "Connectivity computation...\n",
      "   Processing epoch 1 / 1 ...\n",
      "[Connectivity computation done]\n"
     ]
    },
    {
     "name": "stderr",
     "output_type": "stream",
     "text": [
      "/Users/jakubblaha/Documents/thesis/thesis-python/common.py:114: RuntimeWarning: There were no Annotations stored in <EpochsArray | 1 events (all good), 0 – 7.992 s (baseline off), ~134 kB, data loaded,\n",
      " '1': 1>, so metadata was not modified.\n",
      "  res = mne_connectivity.spectral_connectivity_time(\n"
     ]
    },
    {
     "name": "stdout",
     "output_type": "stream",
     "text": [
      "Computing features for trial:  658\n",
      "[ 4  8 10 13 30 45]\n",
      "(6,)\n",
      "[ 4  8 10 13 30 45]\n",
      "(6,)\n",
      "only using indices for lower-triangular matrix\n",
      "Connectivity computation...\n",
      "   Processing epoch 1 / 1 ...\n",
      "[Connectivity computation done]\n",
      "Computing features for trial:  659\n"
     ]
    },
    {
     "name": "stderr",
     "output_type": "stream",
     "text": [
      "/Users/jakubblaha/Documents/thesis/thesis-python/common.py:114: RuntimeWarning: There were no Annotations stored in <EpochsArray | 1 events (all good), 0 – 7.992 s (baseline off), ~134 kB, data loaded,\n",
      " '1': 1>, so metadata was not modified.\n",
      "  res = mne_connectivity.spectral_connectivity_time(\n"
     ]
    },
    {
     "name": "stdout",
     "output_type": "stream",
     "text": [
      "[ 4  8 10 13 30 45]\n",
      "(6,)\n",
      "[ 4  8 10 13 30 45]\n",
      "(6,)\n",
      "only using indices for lower-triangular matrix\n",
      "Connectivity computation...\n",
      "   Processing epoch 1 / 1 ...\n",
      "[Connectivity computation done]\n",
      "Computing features for trial:  660\n"
     ]
    },
    {
     "name": "stderr",
     "output_type": "stream",
     "text": [
      "/Users/jakubblaha/Documents/thesis/thesis-python/common.py:114: RuntimeWarning: There were no Annotations stored in <EpochsArray | 1 events (all good), 0 – 7.992 s (baseline off), ~134 kB, data loaded,\n",
      " '1': 1>, so metadata was not modified.\n",
      "  res = mne_connectivity.spectral_connectivity_time(\n"
     ]
    },
    {
     "name": "stdout",
     "output_type": "stream",
     "text": [
      "[ 4  8 10 13 30 45]\n",
      "(6,)\n",
      "[ 4  8 10 13 30 45]\n",
      "(6,)\n",
      "only using indices for lower-triangular matrix\n",
      "Connectivity computation...\n",
      "   Processing epoch 1 / 1 ...\n",
      "[Connectivity computation done]\n",
      "Computing features for trial:  661\n"
     ]
    },
    {
     "name": "stderr",
     "output_type": "stream",
     "text": [
      "/Users/jakubblaha/Documents/thesis/thesis-python/common.py:114: RuntimeWarning: There were no Annotations stored in <EpochsArray | 1 events (all good), 0 – 7.992 s (baseline off), ~134 kB, data loaded,\n",
      " '1': 1>, so metadata was not modified.\n",
      "  res = mne_connectivity.spectral_connectivity_time(\n"
     ]
    },
    {
     "name": "stdout",
     "output_type": "stream",
     "text": [
      "[ 4  8 10 13 30 45]\n",
      "(6,)\n",
      "[ 4  8 10 13 30 45]\n",
      "(6,)\n",
      "only using indices for lower-triangular matrix\n",
      "Connectivity computation...\n",
      "   Processing epoch 1 / 1 ...\n",
      "[Connectivity computation done]\n",
      "Computing features for trial:  662\n"
     ]
    },
    {
     "name": "stderr",
     "output_type": "stream",
     "text": [
      "/Users/jakubblaha/Documents/thesis/thesis-python/common.py:114: RuntimeWarning: There were no Annotations stored in <EpochsArray | 1 events (all good), 0 – 7.992 s (baseline off), ~134 kB, data loaded,\n",
      " '1': 1>, so metadata was not modified.\n",
      "  res = mne_connectivity.spectral_connectivity_time(\n"
     ]
    },
    {
     "name": "stdout",
     "output_type": "stream",
     "text": [
      "[ 4  8 10 13 30 45]\n",
      "(6,)\n",
      "[ 4  8 10 13 30 45]\n",
      "(6,)\n",
      "only using indices for lower-triangular matrix\n",
      "Connectivity computation...\n",
      "   Processing epoch 1 / 1 ...\n",
      "[Connectivity computation done]\n",
      "Computing features for trial:  663\n"
     ]
    },
    {
     "name": "stderr",
     "output_type": "stream",
     "text": [
      "/Users/jakubblaha/Documents/thesis/thesis-python/common.py:114: RuntimeWarning: There were no Annotations stored in <EpochsArray | 1 events (all good), 0 – 7.992 s (baseline off), ~134 kB, data loaded,\n",
      " '1': 1>, so metadata was not modified.\n",
      "  res = mne_connectivity.spectral_connectivity_time(\n"
     ]
    },
    {
     "name": "stdout",
     "output_type": "stream",
     "text": [
      "[ 4  8 10 13 30 45]\n",
      "(6,)\n",
      "[ 4  8 10 13 30 45]\n",
      "(6,)\n",
      "only using indices for lower-triangular matrix\n",
      "Connectivity computation...\n",
      "   Processing epoch 1 / 1 ...\n",
      "[Connectivity computation done]\n",
      "Computing features for trial:  664\n"
     ]
    },
    {
     "name": "stderr",
     "output_type": "stream",
     "text": [
      "/Users/jakubblaha/Documents/thesis/thesis-python/common.py:114: RuntimeWarning: There were no Annotations stored in <EpochsArray | 1 events (all good), 0 – 7.992 s (baseline off), ~134 kB, data loaded,\n",
      " '1': 1>, so metadata was not modified.\n",
      "  res = mne_connectivity.spectral_connectivity_time(\n"
     ]
    },
    {
     "name": "stdout",
     "output_type": "stream",
     "text": [
      "[ 4  8 10 13 30 45]\n",
      "(6,)\n",
      "[ 4  8 10 13 30 45]\n",
      "(6,)\n",
      "only using indices for lower-triangular matrix\n",
      "Connectivity computation...\n",
      "   Processing epoch 1 / 1 ...\n"
     ]
    },
    {
     "name": "stderr",
     "output_type": "stream",
     "text": [
      "/Users/jakubblaha/Documents/thesis/thesis-python/common.py:114: RuntimeWarning: There were no Annotations stored in <EpochsArray | 1 events (all good), 0 – 7.992 s (baseline off), ~134 kB, data loaded,\n",
      " '1': 1>, so metadata was not modified.\n",
      "  res = mne_connectivity.spectral_connectivity_time(\n"
     ]
    },
    {
     "name": "stdout",
     "output_type": "stream",
     "text": [
      "[Connectivity computation done]\n",
      "Computing features for trial:  665\n",
      "[ 4  8 10 13 30 45]\n",
      "(6,)\n",
      "[ 4  8 10 13 30 45]\n",
      "(6,)\n",
      "only using indices for lower-triangular matrix\n",
      "Connectivity computation...\n",
      "   Processing epoch 1 / 1 ...\n",
      "[Connectivity computation done]\n"
     ]
    },
    {
     "name": "stderr",
     "output_type": "stream",
     "text": [
      "/Users/jakubblaha/Documents/thesis/thesis-python/common.py:114: RuntimeWarning: There were no Annotations stored in <EpochsArray | 1 events (all good), 0 – 7.992 s (baseline off), ~134 kB, data loaded,\n",
      " '1': 1>, so metadata was not modified.\n",
      "  res = mne_connectivity.spectral_connectivity_time(\n"
     ]
    },
    {
     "name": "stdout",
     "output_type": "stream",
     "text": [
      "Computing features for trial:  666\n",
      "[ 4  8 10 13 30 45]\n",
      "(6,)\n",
      "[ 4  8 10 13 30 45]\n",
      "(6,)\n",
      "only using indices for lower-triangular matrix\n",
      "Connectivity computation...\n",
      "   Processing epoch 1 / 1 ...\n",
      "[Connectivity computation done]\n",
      "Computing features for trial:  667\n"
     ]
    },
    {
     "name": "stderr",
     "output_type": "stream",
     "text": [
      "/Users/jakubblaha/Documents/thesis/thesis-python/common.py:114: RuntimeWarning: There were no Annotations stored in <EpochsArray | 1 events (all good), 0 – 7.992 s (baseline off), ~134 kB, data loaded,\n",
      " '1': 1>, so metadata was not modified.\n",
      "  res = mne_connectivity.spectral_connectivity_time(\n"
     ]
    },
    {
     "name": "stdout",
     "output_type": "stream",
     "text": [
      "[ 4  8 10 13 30 45]\n",
      "(6,)\n",
      "[ 4  8 10 13 30 45]\n",
      "(6,)\n",
      "only using indices for lower-triangular matrix\n",
      "Connectivity computation...\n",
      "   Processing epoch 1 / 1 ...\n",
      "[Connectivity computation done]\n",
      "Computing features for trial:  668\n"
     ]
    },
    {
     "name": "stderr",
     "output_type": "stream",
     "text": [
      "/Users/jakubblaha/Documents/thesis/thesis-python/common.py:114: RuntimeWarning: There were no Annotations stored in <EpochsArray | 1 events (all good), 0 – 7.992 s (baseline off), ~134 kB, data loaded,\n",
      " '1': 1>, so metadata was not modified.\n",
      "  res = mne_connectivity.spectral_connectivity_time(\n"
     ]
    },
    {
     "name": "stdout",
     "output_type": "stream",
     "text": [
      "[ 4  8 10 13 30 45]\n",
      "(6,)\n",
      "[ 4  8 10 13 30 45]\n",
      "(6,)\n",
      "only using indices for lower-triangular matrix\n",
      "Connectivity computation...\n",
      "   Processing epoch 1 / 1 ...\n",
      "[Connectivity computation done]\n",
      "Computing features for trial:  669\n"
     ]
    },
    {
     "name": "stderr",
     "output_type": "stream",
     "text": [
      "/Users/jakubblaha/Documents/thesis/thesis-python/common.py:114: RuntimeWarning: There were no Annotations stored in <EpochsArray | 1 events (all good), 0 – 7.992 s (baseline off), ~134 kB, data loaded,\n",
      " '1': 1>, so metadata was not modified.\n",
      "  res = mne_connectivity.spectral_connectivity_time(\n"
     ]
    },
    {
     "name": "stdout",
     "output_type": "stream",
     "text": [
      "[ 4  8 10 13 30 45]\n",
      "(6,)\n",
      "[ 4  8 10 13 30 45]\n",
      "(6,)\n",
      "only using indices for lower-triangular matrix\n",
      "Connectivity computation...\n",
      "   Processing epoch 1 / 1 ...\n",
      "[Connectivity computation done]\n",
      "Computing features for trial:  670\n"
     ]
    },
    {
     "name": "stderr",
     "output_type": "stream",
     "text": [
      "/Users/jakubblaha/Documents/thesis/thesis-python/common.py:114: RuntimeWarning: There were no Annotations stored in <EpochsArray | 1 events (all good), 0 – 7.992 s (baseline off), ~134 kB, data loaded,\n",
      " '1': 1>, so metadata was not modified.\n",
      "  res = mne_connectivity.spectral_connectivity_time(\n"
     ]
    },
    {
     "name": "stdout",
     "output_type": "stream",
     "text": [
      "[ 4  8 10 13 30 45]\n",
      "(6,)\n",
      "[ 4  8 10 13 30 45]\n",
      "(6,)\n",
      "only using indices for lower-triangular matrix\n",
      "Connectivity computation...\n",
      "   Processing epoch 1 / 1 ...\n",
      "[Connectivity computation done]\n",
      "Computing features for trial:  671\n"
     ]
    },
    {
     "name": "stderr",
     "output_type": "stream",
     "text": [
      "/Users/jakubblaha/Documents/thesis/thesis-python/common.py:114: RuntimeWarning: There were no Annotations stored in <EpochsArray | 1 events (all good), 0 – 7.992 s (baseline off), ~134 kB, data loaded,\n",
      " '1': 1>, so metadata was not modified.\n",
      "  res = mne_connectivity.spectral_connectivity_time(\n"
     ]
    },
    {
     "name": "stdout",
     "output_type": "stream",
     "text": [
      "[ 4  8 10 13 30 45]\n",
      "(6,)\n",
      "[ 4  8 10 13 30 45]\n",
      "(6,)\n",
      "only using indices for lower-triangular matrix\n",
      "Connectivity computation...\n",
      "   Processing epoch 1 / 1 ...\n",
      "[Connectivity computation done]\n",
      "Computing features for trial:  672\n"
     ]
    },
    {
     "name": "stderr",
     "output_type": "stream",
     "text": [
      "/Users/jakubblaha/Documents/thesis/thesis-python/common.py:114: RuntimeWarning: There were no Annotations stored in <EpochsArray | 1 events (all good), 0 – 7.992 s (baseline off), ~134 kB, data loaded,\n",
      " '1': 1>, so metadata was not modified.\n",
      "  res = mne_connectivity.spectral_connectivity_time(\n"
     ]
    },
    {
     "name": "stdout",
     "output_type": "stream",
     "text": [
      "[ 4  8 10 13 30 45]\n",
      "(6,)\n",
      "[ 4  8 10 13 30 45]\n",
      "(6,)\n",
      "only using indices for lower-triangular matrix\n",
      "Connectivity computation...\n",
      "   Processing epoch 1 / 1 ...\n",
      "[Connectivity computation done]\n",
      "Computing features for trial:  673\n"
     ]
    },
    {
     "name": "stderr",
     "output_type": "stream",
     "text": [
      "/Users/jakubblaha/Documents/thesis/thesis-python/common.py:114: RuntimeWarning: There were no Annotations stored in <EpochsArray | 1 events (all good), 0 – 7.992 s (baseline off), ~134 kB, data loaded,\n",
      " '1': 1>, so metadata was not modified.\n",
      "  res = mne_connectivity.spectral_connectivity_time(\n"
     ]
    },
    {
     "name": "stdout",
     "output_type": "stream",
     "text": [
      "[ 4  8 10 13 30 45]\n",
      "(6,)\n",
      "[ 4  8 10 13 30 45]\n",
      "(6,)\n",
      "only using indices for lower-triangular matrix\n",
      "Connectivity computation...\n",
      "   Processing epoch 1 / 1 ...\n",
      "[Connectivity computation done]\n",
      "Computing features for trial:  674\n"
     ]
    },
    {
     "name": "stderr",
     "output_type": "stream",
     "text": [
      "/Users/jakubblaha/Documents/thesis/thesis-python/common.py:114: RuntimeWarning: There were no Annotations stored in <EpochsArray | 1 events (all good), 0 – 7.992 s (baseline off), ~134 kB, data loaded,\n",
      " '1': 1>, so metadata was not modified.\n",
      "  res = mne_connectivity.spectral_connectivity_time(\n"
     ]
    },
    {
     "name": "stdout",
     "output_type": "stream",
     "text": [
      "[ 4  8 10 13 30 45]\n",
      "(6,)\n",
      "[ 4  8 10 13 30 45]\n",
      "(6,)\n",
      "only using indices for lower-triangular matrix\n",
      "Connectivity computation...\n",
      "   Processing epoch 1 / 1 ...\n",
      "[Connectivity computation done]\n",
      "Computing features for trial:  675\n"
     ]
    },
    {
     "name": "stderr",
     "output_type": "stream",
     "text": [
      "/Users/jakubblaha/Documents/thesis/thesis-python/common.py:114: RuntimeWarning: There were no Annotations stored in <EpochsArray | 1 events (all good), 0 – 7.992 s (baseline off), ~134 kB, data loaded,\n",
      " '1': 1>, so metadata was not modified.\n",
      "  res = mne_connectivity.spectral_connectivity_time(\n"
     ]
    },
    {
     "name": "stdout",
     "output_type": "stream",
     "text": [
      "[ 4  8 10 13 30 45]\n",
      "(6,)\n",
      "[ 4  8 10 13 30 45]\n",
      "(6,)\n",
      "only using indices for lower-triangular matrix\n",
      "Connectivity computation...\n",
      "   Processing epoch 1 / 1 ...\n",
      "[Connectivity computation done]\n",
      "Computing features for trial:  676\n"
     ]
    },
    {
     "name": "stderr",
     "output_type": "stream",
     "text": [
      "/Users/jakubblaha/Documents/thesis/thesis-python/common.py:114: RuntimeWarning: There were no Annotations stored in <EpochsArray | 1 events (all good), 0 – 7.992 s (baseline off), ~134 kB, data loaded,\n",
      " '1': 1>, so metadata was not modified.\n",
      "  res = mne_connectivity.spectral_connectivity_time(\n"
     ]
    },
    {
     "name": "stdout",
     "output_type": "stream",
     "text": [
      "[ 4  8 10 13 30 45]\n",
      "(6,)\n",
      "[ 4  8 10 13 30 45]\n",
      "(6,)\n",
      "only using indices for lower-triangular matrix\n",
      "Connectivity computation...\n",
      "   Processing epoch 1 / 1 ...\n",
      "[Connectivity computation done]\n",
      "Computing features for trial:  677\n"
     ]
    },
    {
     "name": "stderr",
     "output_type": "stream",
     "text": [
      "/Users/jakubblaha/Documents/thesis/thesis-python/common.py:114: RuntimeWarning: There were no Annotations stored in <EpochsArray | 1 events (all good), 0 – 7.992 s (baseline off), ~134 kB, data loaded,\n",
      " '1': 1>, so metadata was not modified.\n",
      "  res = mne_connectivity.spectral_connectivity_time(\n"
     ]
    },
    {
     "name": "stdout",
     "output_type": "stream",
     "text": [
      "[ 4  8 10 13 30 45]\n",
      "(6,)\n",
      "[ 4  8 10 13 30 45]\n",
      "(6,)\n",
      "only using indices for lower-triangular matrix\n",
      "Connectivity computation...\n",
      "   Processing epoch 1 / 1 ...\n",
      "[Connectivity computation done]\n"
     ]
    },
    {
     "name": "stderr",
     "output_type": "stream",
     "text": [
      "/Users/jakubblaha/Documents/thesis/thesis-python/common.py:114: RuntimeWarning: There were no Annotations stored in <EpochsArray | 1 events (all good), 0 – 7.992 s (baseline off), ~134 kB, data loaded,\n",
      " '1': 1>, so metadata was not modified.\n",
      "  res = mne_connectivity.spectral_connectivity_time(\n"
     ]
    },
    {
     "name": "stdout",
     "output_type": "stream",
     "text": [
      "Computing features for trial:  678\n",
      "[ 4  8 10 13 30 45]\n",
      "(6,)\n",
      "[ 4  8 10 13 30 45]\n",
      "(6,)\n",
      "only using indices for lower-triangular matrix\n",
      "Connectivity computation...\n",
      "   Processing epoch 1 / 1 ...\n"
     ]
    },
    {
     "name": "stderr",
     "output_type": "stream",
     "text": [
      "/Users/jakubblaha/Documents/thesis/thesis-python/common.py:114: RuntimeWarning: There were no Annotations stored in <EpochsArray | 1 events (all good), 0 – 7.992 s (baseline off), ~134 kB, data loaded,\n",
      " '1': 1>, so metadata was not modified.\n",
      "  res = mne_connectivity.spectral_connectivity_time(\n"
     ]
    },
    {
     "name": "stdout",
     "output_type": "stream",
     "text": [
      "[Connectivity computation done]\n",
      "Computing features for trial:  679\n",
      "[ 4  8 10 13 30 45]\n",
      "(6,)\n",
      "[ 4  8 10 13 30 45]\n",
      "(6,)\n",
      "only using indices for lower-triangular matrix\n",
      "Connectivity computation...\n",
      "   Processing epoch 1 / 1 ...\n",
      "[Connectivity computation done]\n"
     ]
    },
    {
     "name": "stderr",
     "output_type": "stream",
     "text": [
      "/Users/jakubblaha/Documents/thesis/thesis-python/common.py:114: RuntimeWarning: There were no Annotations stored in <EpochsArray | 1 events (all good), 0 – 7.992 s (baseline off), ~134 kB, data loaded,\n",
      " '1': 1>, so metadata was not modified.\n",
      "  res = mne_connectivity.spectral_connectivity_time(\n"
     ]
    },
    {
     "name": "stdout",
     "output_type": "stream",
     "text": [
      "Computing features for trial:  680\n",
      "[ 4  8 10 13 30 45]\n",
      "(6,)\n",
      "[ 4  8 10 13 30 45]\n",
      "(6,)\n",
      "only using indices for lower-triangular matrix\n",
      "Connectivity computation...\n",
      "   Processing epoch 1 / 1 ...\n",
      "[Connectivity computation done]\n",
      "Computing features for trial:  681\n"
     ]
    },
    {
     "name": "stderr",
     "output_type": "stream",
     "text": [
      "/Users/jakubblaha/Documents/thesis/thesis-python/common.py:114: RuntimeWarning: There were no Annotations stored in <EpochsArray | 1 events (all good), 0 – 7.992 s (baseline off), ~134 kB, data loaded,\n",
      " '1': 1>, so metadata was not modified.\n",
      "  res = mne_connectivity.spectral_connectivity_time(\n"
     ]
    },
    {
     "name": "stdout",
     "output_type": "stream",
     "text": [
      "[ 4  8 10 13 30 45]\n",
      "(6,)\n",
      "[ 4  8 10 13 30 45]\n",
      "(6,)\n",
      "only using indices for lower-triangular matrix\n",
      "Connectivity computation...\n",
      "   Processing epoch 1 / 1 ...\n"
     ]
    },
    {
     "name": "stderr",
     "output_type": "stream",
     "text": [
      "/Users/jakubblaha/Documents/thesis/thesis-python/common.py:114: RuntimeWarning: There were no Annotations stored in <EpochsArray | 1 events (all good), 0 – 7.992 s (baseline off), ~134 kB, data loaded,\n",
      " '1': 1>, so metadata was not modified.\n",
      "  res = mne_connectivity.spectral_connectivity_time(\n"
     ]
    },
    {
     "name": "stdout",
     "output_type": "stream",
     "text": [
      "[Connectivity computation done]\n",
      "Computing features for trial:  682\n",
      "[ 4  8 10 13 30 45]\n",
      "(6,)\n",
      "[ 4  8 10 13 30 45]\n",
      "(6,)\n",
      "only using indices for lower-triangular matrix\n",
      "Connectivity computation...\n",
      "   Processing epoch 1 / 1 ...\n",
      "[Connectivity computation done]\n"
     ]
    },
    {
     "name": "stderr",
     "output_type": "stream",
     "text": [
      "/Users/jakubblaha/Documents/thesis/thesis-python/common.py:114: RuntimeWarning: There were no Annotations stored in <EpochsArray | 1 events (all good), 0 – 7.992 s (baseline off), ~134 kB, data loaded,\n",
      " '1': 1>, so metadata was not modified.\n",
      "  res = mne_connectivity.spectral_connectivity_time(\n",
      "/Users/jakubblaha/Documents/thesis/thesis-python/common.py:114: RuntimeWarning: There were no Annotations stored in <EpochsArray | 1 events (all good), 0 – 7.992 s (baseline off), ~134 kB, data loaded,\n",
      " '1': 1>, so metadata was not modified.\n",
      "  res = mne_connectivity.spectral_connectivity_time(\n"
     ]
    },
    {
     "name": "stdout",
     "output_type": "stream",
     "text": [
      "Computing features for trial:  683\n",
      "[ 4  8 10 13 30 45]\n",
      "(6,)\n",
      "[ 4  8 10 13 30 45]\n",
      "(6,)\n",
      "only using indices for lower-triangular matrix\n",
      "Connectivity computation...\n",
      "   Processing epoch 1 / 1 ...\n",
      "[Connectivity computation done]\n",
      "Computing features for trial:  684\n",
      "[ 4  8 10 13 30 45]\n",
      "(6,)\n",
      "[ 4  8 10 13 30 45]\n",
      "(6,)\n",
      "only using indices for lower-triangular matrix\n",
      "Connectivity computation...\n",
      "   Processing epoch 1 / 1 ...\n",
      "[Connectivity computation done]\n",
      "Computing features for trial:  685\n"
     ]
    },
    {
     "name": "stderr",
     "output_type": "stream",
     "text": [
      "/Users/jakubblaha/Documents/thesis/thesis-python/common.py:114: RuntimeWarning: There were no Annotations stored in <EpochsArray | 1 events (all good), 0 – 7.992 s (baseline off), ~134 kB, data loaded,\n",
      " '1': 1>, so metadata was not modified.\n",
      "  res = mne_connectivity.spectral_connectivity_time(\n"
     ]
    },
    {
     "name": "stdout",
     "output_type": "stream",
     "text": [
      "[ 4  8 10 13 30 45]\n",
      "(6,)\n",
      "[ 4  8 10 13 30 45]\n",
      "(6,)\n",
      "only using indices for lower-triangular matrix\n",
      "Connectivity computation...\n",
      "   Processing epoch 1 / 1 ...\n",
      "[Connectivity computation done]\n",
      "Computing features for trial:  686\n"
     ]
    },
    {
     "name": "stderr",
     "output_type": "stream",
     "text": [
      "/Users/jakubblaha/Documents/thesis/thesis-python/common.py:114: RuntimeWarning: There were no Annotations stored in <EpochsArray | 1 events (all good), 0 – 7.992 s (baseline off), ~134 kB, data loaded,\n",
      " '1': 1>, so metadata was not modified.\n",
      "  res = mne_connectivity.spectral_connectivity_time(\n"
     ]
    },
    {
     "name": "stdout",
     "output_type": "stream",
     "text": [
      "[ 4  8 10 13 30 45]\n",
      "(6,)\n",
      "[ 4  8 10 13 30 45]\n",
      "(6,)\n",
      "only using indices for lower-triangular matrix\n",
      "Connectivity computation...\n",
      "   Processing epoch 1 / 1 ...\n",
      "[Connectivity computation done]\n",
      "Computing features for trial:  687\n"
     ]
    },
    {
     "name": "stderr",
     "output_type": "stream",
     "text": [
      "/Users/jakubblaha/Documents/thesis/thesis-python/common.py:114: RuntimeWarning: There were no Annotations stored in <EpochsArray | 1 events (all good), 0 – 7.992 s (baseline off), ~134 kB, data loaded,\n",
      " '1': 1>, so metadata was not modified.\n",
      "  res = mne_connectivity.spectral_connectivity_time(\n"
     ]
    },
    {
     "name": "stdout",
     "output_type": "stream",
     "text": [
      "[ 4  8 10 13 30 45]\n",
      "(6,)\n",
      "[ 4  8 10 13 30 45]\n",
      "(6,)\n",
      "only using indices for lower-triangular matrix\n",
      "Connectivity computation...\n",
      "   Processing epoch 1 / 1 ...\n",
      "[Connectivity computation done]\n",
      "Computing features for trial:  688\n"
     ]
    },
    {
     "name": "stderr",
     "output_type": "stream",
     "text": [
      "/Users/jakubblaha/Documents/thesis/thesis-python/common.py:114: RuntimeWarning: There were no Annotations stored in <EpochsArray | 1 events (all good), 0 – 7.992 s (baseline off), ~134 kB, data loaded,\n",
      " '1': 1>, so metadata was not modified.\n",
      "  res = mne_connectivity.spectral_connectivity_time(\n"
     ]
    },
    {
     "name": "stdout",
     "output_type": "stream",
     "text": [
      "[ 4  8 10 13 30 45]\n",
      "(6,)\n",
      "[ 4  8 10 13 30 45]\n",
      "(6,)\n",
      "only using indices for lower-triangular matrix\n",
      "Connectivity computation...\n",
      "   Processing epoch 1 / 1 ...\n",
      "[Connectivity computation done]\n",
      "Computing features for trial:  689\n"
     ]
    },
    {
     "name": "stderr",
     "output_type": "stream",
     "text": [
      "/Users/jakubblaha/Documents/thesis/thesis-python/common.py:114: RuntimeWarning: There were no Annotations stored in <EpochsArray | 1 events (all good), 0 – 7.992 s (baseline off), ~134 kB, data loaded,\n",
      " '1': 1>, so metadata was not modified.\n",
      "  res = mne_connectivity.spectral_connectivity_time(\n"
     ]
    },
    {
     "name": "stdout",
     "output_type": "stream",
     "text": [
      "[ 4  8 10 13 30 45]\n",
      "(6,)\n",
      "[ 4  8 10 13 30 45]\n",
      "(6,)\n",
      "only using indices for lower-triangular matrix\n",
      "Connectivity computation...\n",
      "   Processing epoch 1 / 1 ...\n",
      "[Connectivity computation done]\n",
      "Computing features for trial:  690\n"
     ]
    },
    {
     "name": "stderr",
     "output_type": "stream",
     "text": [
      "/Users/jakubblaha/Documents/thesis/thesis-python/common.py:114: RuntimeWarning: There were no Annotations stored in <EpochsArray | 1 events (all good), 0 – 7.992 s (baseline off), ~134 kB, data loaded,\n",
      " '1': 1>, so metadata was not modified.\n",
      "  res = mne_connectivity.spectral_connectivity_time(\n"
     ]
    },
    {
     "name": "stdout",
     "output_type": "stream",
     "text": [
      "[ 4  8 10 13 30 45]\n",
      "(6,)\n",
      "[ 4  8 10 13 30 45]\n",
      "(6,)\n",
      "only using indices for lower-triangular matrix\n",
      "Connectivity computation...\n",
      "   Processing epoch 1 / 1 ...\n",
      "[Connectivity computation done]\n",
      "Computing features for trial:  691\n"
     ]
    },
    {
     "name": "stderr",
     "output_type": "stream",
     "text": [
      "/Users/jakubblaha/Documents/thesis/thesis-python/common.py:114: RuntimeWarning: There were no Annotations stored in <EpochsArray | 1 events (all good), 0 – 7.992 s (baseline off), ~134 kB, data loaded,\n",
      " '1': 1>, so metadata was not modified.\n",
      "  res = mne_connectivity.spectral_connectivity_time(\n"
     ]
    },
    {
     "name": "stdout",
     "output_type": "stream",
     "text": [
      "[ 4  8 10 13 30 45]\n",
      "(6,)\n",
      "[ 4  8 10 13 30 45]\n",
      "(6,)\n",
      "only using indices for lower-triangular matrix\n",
      "Connectivity computation...\n",
      "   Processing epoch 1 / 1 ...\n",
      "[Connectivity computation done]\n",
      "Computing features for trial:  692\n"
     ]
    },
    {
     "name": "stderr",
     "output_type": "stream",
     "text": [
      "/Users/jakubblaha/Documents/thesis/thesis-python/common.py:114: RuntimeWarning: There were no Annotations stored in <EpochsArray | 1 events (all good), 0 – 7.992 s (baseline off), ~134 kB, data loaded,\n",
      " '1': 1>, so metadata was not modified.\n",
      "  res = mne_connectivity.spectral_connectivity_time(\n"
     ]
    },
    {
     "name": "stdout",
     "output_type": "stream",
     "text": [
      "[ 4  8 10 13 30 45]\n",
      "(6,)\n",
      "[ 4  8 10 13 30 45]\n",
      "(6,)\n",
      "only using indices for lower-triangular matrix\n",
      "Connectivity computation...\n",
      "   Processing epoch 1 / 1 ...\n",
      "[Connectivity computation done]\n",
      "Computing features for trial:  693\n"
     ]
    },
    {
     "name": "stderr",
     "output_type": "stream",
     "text": [
      "/Users/jakubblaha/Documents/thesis/thesis-python/common.py:114: RuntimeWarning: There were no Annotations stored in <EpochsArray | 1 events (all good), 0 – 7.992 s (baseline off), ~134 kB, data loaded,\n",
      " '1': 1>, so metadata was not modified.\n",
      "  res = mne_connectivity.spectral_connectivity_time(\n"
     ]
    },
    {
     "name": "stdout",
     "output_type": "stream",
     "text": [
      "[ 4  8 10 13 30 45]\n",
      "(6,)\n",
      "[ 4  8 10 13 30 45]\n",
      "(6,)\n",
      "only using indices for lower-triangular matrix\n",
      "Connectivity computation...\n",
      "   Processing epoch 1 / 1 ...\n",
      "[Connectivity computation done]\n",
      "Computing features for trial:  694\n"
     ]
    },
    {
     "name": "stderr",
     "output_type": "stream",
     "text": [
      "/Users/jakubblaha/Documents/thesis/thesis-python/common.py:114: RuntimeWarning: There were no Annotations stored in <EpochsArray | 1 events (all good), 0 – 7.992 s (baseline off), ~134 kB, data loaded,\n",
      " '1': 1>, so metadata was not modified.\n",
      "  res = mne_connectivity.spectral_connectivity_time(\n"
     ]
    },
    {
     "name": "stdout",
     "output_type": "stream",
     "text": [
      "[ 4  8 10 13 30 45]\n",
      "(6,)\n",
      "[ 4  8 10 13 30 45]\n",
      "(6,)\n",
      "only using indices for lower-triangular matrix\n",
      "Connectivity computation...\n",
      "   Processing epoch 1 / 1 ...\n",
      "[Connectivity computation done]\n",
      "Computing features for trial:  695\n"
     ]
    },
    {
     "name": "stderr",
     "output_type": "stream",
     "text": [
      "/Users/jakubblaha/Documents/thesis/thesis-python/common.py:114: RuntimeWarning: There were no Annotations stored in <EpochsArray | 1 events (all good), 0 – 7.992 s (baseline off), ~134 kB, data loaded,\n",
      " '1': 1>, so metadata was not modified.\n",
      "  res = mne_connectivity.spectral_connectivity_time(\n"
     ]
    },
    {
     "name": "stdout",
     "output_type": "stream",
     "text": [
      "[ 4  8 10 13 30 45]\n",
      "(6,)\n",
      "[ 4  8 10 13 30 45]\n",
      "(6,)\n",
      "only using indices for lower-triangular matrix\n",
      "Connectivity computation...\n",
      "   Processing epoch 1 / 1 ...\n",
      "[Connectivity computation done]\n",
      "Computing features for trial:  696\n"
     ]
    },
    {
     "name": "stderr",
     "output_type": "stream",
     "text": [
      "/Users/jakubblaha/Documents/thesis/thesis-python/common.py:114: RuntimeWarning: There were no Annotations stored in <EpochsArray | 1 events (all good), 0 – 7.992 s (baseline off), ~134 kB, data loaded,\n",
      " '1': 1>, so metadata was not modified.\n",
      "  res = mne_connectivity.spectral_connectivity_time(\n"
     ]
    },
    {
     "name": "stdout",
     "output_type": "stream",
     "text": [
      "[ 4  8 10 13 30 45]\n",
      "(6,)\n",
      "[ 4  8 10 13 30 45]\n",
      "(6,)\n",
      "only using indices for lower-triangular matrix\n",
      "Connectivity computation...\n",
      "   Processing epoch 1 / 1 ...\n",
      "[Connectivity computation done]\n",
      "Computing features for trial:  697\n"
     ]
    },
    {
     "name": "stderr",
     "output_type": "stream",
     "text": [
      "/Users/jakubblaha/Documents/thesis/thesis-python/common.py:114: RuntimeWarning: There were no Annotations stored in <EpochsArray | 1 events (all good), 0 – 7.992 s (baseline off), ~134 kB, data loaded,\n",
      " '1': 1>, so metadata was not modified.\n",
      "  res = mne_connectivity.spectral_connectivity_time(\n"
     ]
    },
    {
     "name": "stdout",
     "output_type": "stream",
     "text": [
      "[ 4  8 10 13 30 45]\n",
      "(6,)\n",
      "[ 4  8 10 13 30 45]\n",
      "(6,)\n",
      "only using indices for lower-triangular matrix\n",
      "Connectivity computation...\n",
      "   Processing epoch 1 / 1 ...\n"
     ]
    },
    {
     "name": "stderr",
     "output_type": "stream",
     "text": [
      "/Users/jakubblaha/Documents/thesis/thesis-python/common.py:114: RuntimeWarning: There were no Annotations stored in <EpochsArray | 1 events (all good), 0 – 7.992 s (baseline off), ~134 kB, data loaded,\n",
      " '1': 1>, so metadata was not modified.\n",
      "  res = mne_connectivity.spectral_connectivity_time(\n"
     ]
    },
    {
     "name": "stdout",
     "output_type": "stream",
     "text": [
      "[Connectivity computation done]\n",
      "Computing features for trial:  698\n",
      "[ 4  8 10 13 30 45]\n",
      "(6,)\n",
      "[ 4  8 10 13 30 45]\n",
      "(6,)\n",
      "only using indices for lower-triangular matrix\n",
      "Connectivity computation...\n",
      "   Processing epoch 1 / 1 ...\n"
     ]
    },
    {
     "name": "stderr",
     "output_type": "stream",
     "text": [
      "/Users/jakubblaha/Documents/thesis/thesis-python/common.py:114: RuntimeWarning: There were no Annotations stored in <EpochsArray | 1 events (all good), 0 – 7.992 s (baseline off), ~134 kB, data loaded,\n",
      " '1': 1>, so metadata was not modified.\n",
      "  res = mne_connectivity.spectral_connectivity_time(\n"
     ]
    },
    {
     "name": "stdout",
     "output_type": "stream",
     "text": [
      "[Connectivity computation done]\n",
      "Computing features for trial:  699\n",
      "[ 4  8 10 13 30 45]\n",
      "(6,)\n",
      "[ 4  8 10 13 30 45]\n",
      "(6,)\n",
      "only using indices for lower-triangular matrix\n",
      "Connectivity computation...\n",
      "   Processing epoch 1 / 1 ...\n"
     ]
    },
    {
     "name": "stderr",
     "output_type": "stream",
     "text": [
      "/Users/jakubblaha/Documents/thesis/thesis-python/common.py:114: RuntimeWarning: There were no Annotations stored in <EpochsArray | 1 events (all good), 0 – 7.992 s (baseline off), ~134 kB, data loaded,\n",
      " '1': 1>, so metadata was not modified.\n",
      "  res = mne_connectivity.spectral_connectivity_time(\n"
     ]
    },
    {
     "name": "stdout",
     "output_type": "stream",
     "text": [
      "[Connectivity computation done]\n",
      "Computing features for trial:  700\n",
      "[ 4  8 10 13 30 45]\n",
      "(6,)\n",
      "[ 4  8 10 13 30 45]\n",
      "(6,)\n",
      "only using indices for lower-triangular matrix\n",
      "Connectivity computation...\n",
      "   Processing epoch 1 / 1 ...\n",
      "[Connectivity computation done]\n"
     ]
    },
    {
     "name": "stderr",
     "output_type": "stream",
     "text": [
      "/Users/jakubblaha/Documents/thesis/thesis-python/common.py:114: RuntimeWarning: There were no Annotations stored in <EpochsArray | 1 events (all good), 0 – 7.992 s (baseline off), ~134 kB, data loaded,\n",
      " '1': 1>, so metadata was not modified.\n",
      "  res = mne_connectivity.spectral_connectivity_time(\n"
     ]
    },
    {
     "name": "stdout",
     "output_type": "stream",
     "text": [
      "Computing features for trial:  701\n",
      "[ 4  8 10 13 30 45]\n",
      "(6,)\n",
      "[ 4  8 10 13 30 45]\n",
      "(6,)\n",
      "only using indices for lower-triangular matrix\n",
      "Connectivity computation...\n",
      "   Processing epoch 1 / 1 ...\n"
     ]
    },
    {
     "name": "stderr",
     "output_type": "stream",
     "text": [
      "/Users/jakubblaha/Documents/thesis/thesis-python/common.py:114: RuntimeWarning: There were no Annotations stored in <EpochsArray | 1 events (all good), 0 – 7.992 s (baseline off), ~134 kB, data loaded,\n",
      " '1': 1>, so metadata was not modified.\n",
      "  res = mne_connectivity.spectral_connectivity_time(\n"
     ]
    },
    {
     "name": "stdout",
     "output_type": "stream",
     "text": [
      "[Connectivity computation done]\n",
      "Computing features for trial:  702\n",
      "[ 4  8 10 13 30 45]\n",
      "(6,)\n",
      "[ 4  8 10 13 30 45]\n",
      "(6,)\n",
      "only using indices for lower-triangular matrix\n",
      "Connectivity computation...\n",
      "   Processing epoch 1 / 1 ...\n",
      "[Connectivity computation done]\n"
     ]
    },
    {
     "name": "stderr",
     "output_type": "stream",
     "text": [
      "/Users/jakubblaha/Documents/thesis/thesis-python/common.py:114: RuntimeWarning: There were no Annotations stored in <EpochsArray | 1 events (all good), 0 – 7.992 s (baseline off), ~134 kB, data loaded,\n",
      " '1': 1>, so metadata was not modified.\n",
      "  res = mne_connectivity.spectral_connectivity_time(\n"
     ]
    },
    {
     "name": "stdout",
     "output_type": "stream",
     "text": [
      "Computing features for trial:  703\n",
      "[ 4  8 10 13 30 45]\n",
      "(6,)\n",
      "[ 4  8 10 13 30 45]\n",
      "(6,)\n",
      "only using indices for lower-triangular matrix\n",
      "Connectivity computation...\n",
      "   Processing epoch 1 / 1 ...\n",
      "[Connectivity computation done]\n",
      "Computing features for trial:  704\n"
     ]
    },
    {
     "name": "stderr",
     "output_type": "stream",
     "text": [
      "/Users/jakubblaha/Documents/thesis/thesis-python/common.py:114: RuntimeWarning: There were no Annotations stored in <EpochsArray | 1 events (all good), 0 – 7.992 s (baseline off), ~134 kB, data loaded,\n",
      " '1': 1>, so metadata was not modified.\n",
      "  res = mne_connectivity.spectral_connectivity_time(\n"
     ]
    },
    {
     "name": "stdout",
     "output_type": "stream",
     "text": [
      "[ 4  8 10 13 30 45]\n",
      "(6,)\n",
      "[ 4  8 10 13 30 45]\n",
      "(6,)\n",
      "only using indices for lower-triangular matrix\n",
      "Connectivity computation...\n",
      "   Processing epoch 1 / 1 ...\n",
      "[Connectivity computation done]\n",
      "Computing features for trial:  705\n"
     ]
    },
    {
     "name": "stderr",
     "output_type": "stream",
     "text": [
      "/Users/jakubblaha/Documents/thesis/thesis-python/common.py:114: RuntimeWarning: There were no Annotations stored in <EpochsArray | 1 events (all good), 0 – 7.992 s (baseline off), ~134 kB, data loaded,\n",
      " '1': 1>, so metadata was not modified.\n",
      "  res = mne_connectivity.spectral_connectivity_time(\n"
     ]
    },
    {
     "name": "stdout",
     "output_type": "stream",
     "text": [
      "[ 4  8 10 13 30 45]\n",
      "(6,)\n",
      "[ 4  8 10 13 30 45]\n",
      "(6,)\n",
      "only using indices for lower-triangular matrix\n",
      "Connectivity computation...\n",
      "   Processing epoch 1 / 1 ...\n",
      "[Connectivity computation done]\n",
      "Computing features for trial:  706\n"
     ]
    },
    {
     "name": "stderr",
     "output_type": "stream",
     "text": [
      "/Users/jakubblaha/Documents/thesis/thesis-python/common.py:114: RuntimeWarning: There were no Annotations stored in <EpochsArray | 1 events (all good), 0 – 7.992 s (baseline off), ~134 kB, data loaded,\n",
      " '1': 1>, so metadata was not modified.\n",
      "  res = mne_connectivity.spectral_connectivity_time(\n"
     ]
    },
    {
     "name": "stdout",
     "output_type": "stream",
     "text": [
      "[ 4  8 10 13 30 45]\n",
      "(6,)\n",
      "[ 4  8 10 13 30 45]\n",
      "(6,)\n",
      "only using indices for lower-triangular matrix\n",
      "Connectivity computation...\n",
      "   Processing epoch 1 / 1 ...\n",
      "[Connectivity computation done]\n",
      "Computing features for trial:  707\n"
     ]
    },
    {
     "name": "stderr",
     "output_type": "stream",
     "text": [
      "/Users/jakubblaha/Documents/thesis/thesis-python/common.py:114: RuntimeWarning: There were no Annotations stored in <EpochsArray | 1 events (all good), 0 – 7.992 s (baseline off), ~134 kB, data loaded,\n",
      " '1': 1>, so metadata was not modified.\n",
      "  res = mne_connectivity.spectral_connectivity_time(\n"
     ]
    },
    {
     "name": "stdout",
     "output_type": "stream",
     "text": [
      "[ 4  8 10 13 30 45]\n",
      "(6,)\n",
      "[ 4  8 10 13 30 45]\n",
      "(6,)\n",
      "only using indices for lower-triangular matrix\n",
      "Connectivity computation...\n",
      "   Processing epoch 1 / 1 ...\n",
      "[Connectivity computation done]\n",
      "Computing features for trial:  708\n"
     ]
    },
    {
     "name": "stderr",
     "output_type": "stream",
     "text": [
      "/Users/jakubblaha/Documents/thesis/thesis-python/common.py:114: RuntimeWarning: There were no Annotations stored in <EpochsArray | 1 events (all good), 0 – 7.992 s (baseline off), ~134 kB, data loaded,\n",
      " '1': 1>, so metadata was not modified.\n",
      "  res = mne_connectivity.spectral_connectivity_time(\n"
     ]
    },
    {
     "name": "stdout",
     "output_type": "stream",
     "text": [
      "[ 4  8 10 13 30 45]\n",
      "(6,)\n",
      "[ 4  8 10 13 30 45]\n",
      "(6,)\n",
      "only using indices for lower-triangular matrix\n",
      "Connectivity computation...\n",
      "   Processing epoch 1 / 1 ...\n",
      "[Connectivity computation done]\n",
      "Computing features for trial:  709\n"
     ]
    },
    {
     "name": "stderr",
     "output_type": "stream",
     "text": [
      "/Users/jakubblaha/Documents/thesis/thesis-python/common.py:114: RuntimeWarning: There were no Annotations stored in <EpochsArray | 1 events (all good), 0 – 7.992 s (baseline off), ~134 kB, data loaded,\n",
      " '1': 1>, so metadata was not modified.\n",
      "  res = mne_connectivity.spectral_connectivity_time(\n"
     ]
    },
    {
     "name": "stdout",
     "output_type": "stream",
     "text": [
      "[ 4  8 10 13 30 45]\n",
      "(6,)\n",
      "[ 4  8 10 13 30 45]\n",
      "(6,)\n",
      "only using indices for lower-triangular matrix\n",
      "Connectivity computation...\n",
      "   Processing epoch 1 / 1 ...\n",
      "[Connectivity computation done]\n",
      "Computing features for trial:  710\n"
     ]
    },
    {
     "name": "stderr",
     "output_type": "stream",
     "text": [
      "/Users/jakubblaha/Documents/thesis/thesis-python/common.py:114: RuntimeWarning: There were no Annotations stored in <EpochsArray | 1 events (all good), 0 – 7.992 s (baseline off), ~134 kB, data loaded,\n",
      " '1': 1>, so metadata was not modified.\n",
      "  res = mne_connectivity.spectral_connectivity_time(\n"
     ]
    },
    {
     "name": "stdout",
     "output_type": "stream",
     "text": [
      "[ 4  8 10 13 30 45]\n",
      "(6,)\n",
      "[ 4  8 10 13 30 45]\n",
      "(6,)\n",
      "only using indices for lower-triangular matrix\n",
      "Connectivity computation...\n",
      "   Processing epoch 1 / 1 ...\n",
      "[Connectivity computation done]\n",
      "Computing features for trial:  711\n"
     ]
    },
    {
     "name": "stderr",
     "output_type": "stream",
     "text": [
      "/Users/jakubblaha/Documents/thesis/thesis-python/common.py:114: RuntimeWarning: There were no Annotations stored in <EpochsArray | 1 events (all good), 0 – 7.992 s (baseline off), ~134 kB, data loaded,\n",
      " '1': 1>, so metadata was not modified.\n",
      "  res = mne_connectivity.spectral_connectivity_time(\n"
     ]
    },
    {
     "name": "stdout",
     "output_type": "stream",
     "text": [
      "[ 4  8 10 13 30 45]\n",
      "(6,)\n",
      "[ 4  8 10 13 30 45]\n",
      "(6,)\n",
      "only using indices for lower-triangular matrix\n",
      "Connectivity computation...\n",
      "   Processing epoch 1 / 1 ...\n",
      "[Connectivity computation done]\n",
      "Computing features for trial:  712\n"
     ]
    },
    {
     "name": "stderr",
     "output_type": "stream",
     "text": [
      "/Users/jakubblaha/Documents/thesis/thesis-python/common.py:114: RuntimeWarning: There were no Annotations stored in <EpochsArray | 1 events (all good), 0 – 7.992 s (baseline off), ~134 kB, data loaded,\n",
      " '1': 1>, so metadata was not modified.\n",
      "  res = mne_connectivity.spectral_connectivity_time(\n"
     ]
    },
    {
     "name": "stdout",
     "output_type": "stream",
     "text": [
      "[ 4  8 10 13 30 45]\n",
      "(6,)\n",
      "[ 4  8 10 13 30 45]\n",
      "(6,)\n",
      "only using indices for lower-triangular matrix\n",
      "Connectivity computation...\n",
      "   Processing epoch 1 / 1 ...\n",
      "[Connectivity computation done]\n",
      "Computing features for trial:  713\n"
     ]
    },
    {
     "name": "stderr",
     "output_type": "stream",
     "text": [
      "/Users/jakubblaha/Documents/thesis/thesis-python/common.py:114: RuntimeWarning: There were no Annotations stored in <EpochsArray | 1 events (all good), 0 – 7.992 s (baseline off), ~134 kB, data loaded,\n",
      " '1': 1>, so metadata was not modified.\n",
      "  res = mne_connectivity.spectral_connectivity_time(\n"
     ]
    },
    {
     "name": "stdout",
     "output_type": "stream",
     "text": [
      "[ 4  8 10 13 30 45]\n",
      "(6,)\n",
      "[ 4  8 10 13 30 45]\n",
      "(6,)\n",
      "only using indices for lower-triangular matrix\n",
      "Connectivity computation...\n",
      "   Processing epoch 1 / 1 ...\n",
      "[Connectivity computation done]\n",
      "Computing features for trial:  714\n"
     ]
    },
    {
     "name": "stderr",
     "output_type": "stream",
     "text": [
      "/Users/jakubblaha/Documents/thesis/thesis-python/common.py:114: RuntimeWarning: There were no Annotations stored in <EpochsArray | 1 events (all good), 0 – 7.992 s (baseline off), ~134 kB, data loaded,\n",
      " '1': 1>, so metadata was not modified.\n",
      "  res = mne_connectivity.spectral_connectivity_time(\n"
     ]
    },
    {
     "name": "stdout",
     "output_type": "stream",
     "text": [
      "[ 4  8 10 13 30 45]\n",
      "(6,)\n",
      "[ 4  8 10 13 30 45]\n",
      "(6,)\n",
      "only using indices for lower-triangular matrix\n",
      "Connectivity computation...\n",
      "   Processing epoch 1 / 1 ...\n",
      "[Connectivity computation done]\n",
      "Computing features for trial:  715\n"
     ]
    },
    {
     "name": "stderr",
     "output_type": "stream",
     "text": [
      "/Users/jakubblaha/Documents/thesis/thesis-python/common.py:114: RuntimeWarning: There were no Annotations stored in <EpochsArray | 1 events (all good), 0 – 7.992 s (baseline off), ~134 kB, data loaded,\n",
      " '1': 1>, so metadata was not modified.\n",
      "  res = mne_connectivity.spectral_connectivity_time(\n"
     ]
    },
    {
     "name": "stdout",
     "output_type": "stream",
     "text": [
      "[ 4  8 10 13 30 45]\n",
      "(6,)\n",
      "[ 4  8 10 13 30 45]\n",
      "(6,)\n",
      "only using indices for lower-triangular matrix\n",
      "Connectivity computation...\n",
      "   Processing epoch 1 / 1 ...\n",
      "[Connectivity computation done]\n",
      "Computing features for trial:  716\n"
     ]
    },
    {
     "name": "stderr",
     "output_type": "stream",
     "text": [
      "/Users/jakubblaha/Documents/thesis/thesis-python/common.py:114: RuntimeWarning: There were no Annotations stored in <EpochsArray | 1 events (all good), 0 – 7.992 s (baseline off), ~134 kB, data loaded,\n",
      " '1': 1>, so metadata was not modified.\n",
      "  res = mne_connectivity.spectral_connectivity_time(\n"
     ]
    },
    {
     "name": "stdout",
     "output_type": "stream",
     "text": [
      "[ 4  8 10 13 30 45]\n",
      "(6,)\n",
      "[ 4  8 10 13 30 45]\n",
      "(6,)\n",
      "only using indices for lower-triangular matrix\n",
      "Connectivity computation...\n",
      "   Processing epoch 1 / 1 ...\n",
      "[Connectivity computation done]\n",
      "Computing features for trial:  717\n"
     ]
    },
    {
     "name": "stderr",
     "output_type": "stream",
     "text": [
      "/Users/jakubblaha/Documents/thesis/thesis-python/common.py:114: RuntimeWarning: There were no Annotations stored in <EpochsArray | 1 events (all good), 0 – 7.992 s (baseline off), ~134 kB, data loaded,\n",
      " '1': 1>, so metadata was not modified.\n",
      "  res = mne_connectivity.spectral_connectivity_time(\n"
     ]
    },
    {
     "name": "stdout",
     "output_type": "stream",
     "text": [
      "[ 4  8 10 13 30 45]\n",
      "(6,)\n",
      "[ 4  8 10 13 30 45]\n",
      "(6,)\n",
      "only using indices for lower-triangular matrix\n",
      "Connectivity computation...\n",
      "   Processing epoch 1 / 1 ...\n",
      "[Connectivity computation done]\n",
      "Computing features for trial:  718\n"
     ]
    },
    {
     "name": "stderr",
     "output_type": "stream",
     "text": [
      "/Users/jakubblaha/Documents/thesis/thesis-python/common.py:114: RuntimeWarning: There were no Annotations stored in <EpochsArray | 1 events (all good), 0 – 7.992 s (baseline off), ~134 kB, data loaded,\n",
      " '1': 1>, so metadata was not modified.\n",
      "  res = mne_connectivity.spectral_connectivity_time(\n"
     ]
    },
    {
     "name": "stdout",
     "output_type": "stream",
     "text": [
      "[ 4  8 10 13 30 45]\n",
      "(6,)\n",
      "[ 4  8 10 13 30 45]\n",
      "(6,)\n",
      "only using indices for lower-triangular matrix\n",
      "Connectivity computation...\n",
      "   Processing epoch 1 / 1 ...\n",
      "[Connectivity computation done]\n",
      "Computing features for trial:  719\n"
     ]
    },
    {
     "name": "stderr",
     "output_type": "stream",
     "text": [
      "/Users/jakubblaha/Documents/thesis/thesis-python/common.py:114: RuntimeWarning: There were no Annotations stored in <EpochsArray | 1 events (all good), 0 – 7.992 s (baseline off), ~134 kB, data loaded,\n",
      " '1': 1>, so metadata was not modified.\n",
      "  res = mne_connectivity.spectral_connectivity_time(\n"
     ]
    },
    {
     "name": "stdout",
     "output_type": "stream",
     "text": [
      "[ 4  8 10 13 30 45]\n",
      "(6,)\n",
      "[ 4  8 10 13 30 45]\n",
      "(6,)\n",
      "only using indices for lower-triangular matrix\n",
      "Connectivity computation...\n",
      "   Processing epoch 1 / 1 ...\n",
      "[Connectivity computation done]\n",
      "Computing features for trial:  720\n"
     ]
    },
    {
     "name": "stderr",
     "output_type": "stream",
     "text": [
      "/Users/jakubblaha/Documents/thesis/thesis-python/common.py:114: RuntimeWarning: There were no Annotations stored in <EpochsArray | 1 events (all good), 0 – 7.992 s (baseline off), ~134 kB, data loaded,\n",
      " '1': 1>, so metadata was not modified.\n",
      "  res = mne_connectivity.spectral_connectivity_time(\n"
     ]
    },
    {
     "name": "stdout",
     "output_type": "stream",
     "text": [
      "[ 4  8 10 13 30 45]\n",
      "(6,)\n",
      "[ 4  8 10 13 30 45]\n",
      "(6,)\n",
      "only using indices for lower-triangular matrix\n",
      "Connectivity computation...\n",
      "   Processing epoch 1 / 1 ...\n",
      "[Connectivity computation done]\n",
      "Computing features for trial:  721\n"
     ]
    },
    {
     "name": "stderr",
     "output_type": "stream",
     "text": [
      "/Users/jakubblaha/Documents/thesis/thesis-python/common.py:114: RuntimeWarning: There were no Annotations stored in <EpochsArray | 1 events (all good), 0 – 7.992 s (baseline off), ~134 kB, data loaded,\n",
      " '1': 1>, so metadata was not modified.\n",
      "  res = mne_connectivity.spectral_connectivity_time(\n"
     ]
    },
    {
     "name": "stdout",
     "output_type": "stream",
     "text": [
      "[ 4  8 10 13 30 45]\n",
      "(6,)\n",
      "[ 4  8 10 13 30 45]\n",
      "(6,)\n",
      "only using indices for lower-triangular matrix\n",
      "Connectivity computation...\n",
      "   Processing epoch 1 / 1 ...\n",
      "[Connectivity computation done]\n",
      "Computing features for trial:  722\n"
     ]
    },
    {
     "name": "stderr",
     "output_type": "stream",
     "text": [
      "/Users/jakubblaha/Documents/thesis/thesis-python/common.py:114: RuntimeWarning: There were no Annotations stored in <EpochsArray | 1 events (all good), 0 – 7.992 s (baseline off), ~134 kB, data loaded,\n",
      " '1': 1>, so metadata was not modified.\n",
      "  res = mne_connectivity.spectral_connectivity_time(\n"
     ]
    },
    {
     "name": "stdout",
     "output_type": "stream",
     "text": [
      "[ 4  8 10 13 30 45]\n",
      "(6,)\n",
      "[ 4  8 10 13 30 45]\n",
      "(6,)\n",
      "only using indices for lower-triangular matrix\n",
      "Connectivity computation...\n",
      "   Processing epoch 1 / 1 ...\n"
     ]
    },
    {
     "name": "stderr",
     "output_type": "stream",
     "text": [
      "/Users/jakubblaha/Documents/thesis/thesis-python/common.py:114: RuntimeWarning: There were no Annotations stored in <EpochsArray | 1 events (all good), 0 – 7.992 s (baseline off), ~134 kB, data loaded,\n",
      " '1': 1>, so metadata was not modified.\n",
      "  res = mne_connectivity.spectral_connectivity_time(\n"
     ]
    },
    {
     "name": "stdout",
     "output_type": "stream",
     "text": [
      "[Connectivity computation done]\n",
      "Computing features for trial:  723\n",
      "[ 4  8 10 13 30 45]\n",
      "(6,)\n",
      "[ 4  8 10 13 30 45]\n",
      "(6,)\n",
      "only using indices for lower-triangular matrix\n",
      "Connectivity computation...\n",
      "   Processing epoch 1 / 1 ...\n",
      "[Connectivity computation done]\n"
     ]
    },
    {
     "name": "stderr",
     "output_type": "stream",
     "text": [
      "/Users/jakubblaha/Documents/thesis/thesis-python/common.py:114: RuntimeWarning: There were no Annotations stored in <EpochsArray | 1 events (all good), 0 – 7.992 s (baseline off), ~134 kB, data loaded,\n",
      " '1': 1>, so metadata was not modified.\n",
      "  res = mne_connectivity.spectral_connectivity_time(\n"
     ]
    },
    {
     "name": "stdout",
     "output_type": "stream",
     "text": [
      "Computing features for trial:  724\n",
      "[ 4  8 10 13 30 45]\n",
      "(6,)\n",
      "[ 4  8 10 13 30 45]\n",
      "(6,)\n",
      "only using indices for lower-triangular matrix\n",
      "Connectivity computation...\n",
      "   Processing epoch 1 / 1 ...\n",
      "[Connectivity computation done]\n",
      "Computing features for trial:  725\n"
     ]
    },
    {
     "name": "stderr",
     "output_type": "stream",
     "text": [
      "/Users/jakubblaha/Documents/thesis/thesis-python/common.py:114: RuntimeWarning: There were no Annotations stored in <EpochsArray | 1 events (all good), 0 – 7.992 s (baseline off), ~134 kB, data loaded,\n",
      " '1': 1>, so metadata was not modified.\n",
      "  res = mne_connectivity.spectral_connectivity_time(\n"
     ]
    },
    {
     "name": "stdout",
     "output_type": "stream",
     "text": [
      "[ 4  8 10 13 30 45]\n",
      "(6,)\n",
      "[ 4  8 10 13 30 45]\n",
      "(6,)\n",
      "only using indices for lower-triangular matrix\n",
      "Connectivity computation...\n",
      "   Processing epoch 1 / 1 ...\n",
      "[Connectivity computation done]\n",
      "Computing features for trial:  726\n"
     ]
    },
    {
     "name": "stderr",
     "output_type": "stream",
     "text": [
      "/Users/jakubblaha/Documents/thesis/thesis-python/common.py:114: RuntimeWarning: There were no Annotations stored in <EpochsArray | 1 events (all good), 0 – 7.992 s (baseline off), ~134 kB, data loaded,\n",
      " '1': 1>, so metadata was not modified.\n",
      "  res = mne_connectivity.spectral_connectivity_time(\n"
     ]
    },
    {
     "name": "stdout",
     "output_type": "stream",
     "text": [
      "[ 4  8 10 13 30 45]\n",
      "(6,)\n",
      "[ 4  8 10 13 30 45]\n",
      "(6,)\n",
      "only using indices for lower-triangular matrix\n",
      "Connectivity computation...\n",
      "   Processing epoch 1 / 1 ...\n",
      "[Connectivity computation done]\n",
      "Computing features for trial:  727\n"
     ]
    },
    {
     "name": "stderr",
     "output_type": "stream",
     "text": [
      "/Users/jakubblaha/Documents/thesis/thesis-python/common.py:114: RuntimeWarning: There were no Annotations stored in <EpochsArray | 1 events (all good), 0 – 7.992 s (baseline off), ~134 kB, data loaded,\n",
      " '1': 1>, so metadata was not modified.\n",
      "  res = mne_connectivity.spectral_connectivity_time(\n"
     ]
    },
    {
     "name": "stdout",
     "output_type": "stream",
     "text": [
      "[ 4  8 10 13 30 45]\n",
      "(6,)\n",
      "[ 4  8 10 13 30 45]\n",
      "(6,)\n",
      "only using indices for lower-triangular matrix\n",
      "Connectivity computation...\n",
      "   Processing epoch 1 / 1 ...\n",
      "[Connectivity computation done]\n",
      "Computing features for trial:  728\n"
     ]
    },
    {
     "name": "stderr",
     "output_type": "stream",
     "text": [
      "/Users/jakubblaha/Documents/thesis/thesis-python/common.py:114: RuntimeWarning: There were no Annotations stored in <EpochsArray | 1 events (all good), 0 – 7.992 s (baseline off), ~134 kB, data loaded,\n",
      " '1': 1>, so metadata was not modified.\n",
      "  res = mne_connectivity.spectral_connectivity_time(\n"
     ]
    },
    {
     "name": "stdout",
     "output_type": "stream",
     "text": [
      "[ 4  8 10 13 30 45]\n",
      "(6,)\n",
      "[ 4  8 10 13 30 45]\n",
      "(6,)\n",
      "only using indices for lower-triangular matrix\n",
      "Connectivity computation...\n",
      "   Processing epoch 1 / 1 ...\n",
      "[Connectivity computation done]\n",
      "Computing features for trial:  729\n"
     ]
    },
    {
     "name": "stderr",
     "output_type": "stream",
     "text": [
      "/Users/jakubblaha/Documents/thesis/thesis-python/common.py:114: RuntimeWarning: There were no Annotations stored in <EpochsArray | 1 events (all good), 0 – 7.992 s (baseline off), ~134 kB, data loaded,\n",
      " '1': 1>, so metadata was not modified.\n",
      "  res = mne_connectivity.spectral_connectivity_time(\n"
     ]
    },
    {
     "name": "stdout",
     "output_type": "stream",
     "text": [
      "[ 4  8 10 13 30 45]\n",
      "(6,)\n",
      "[ 4  8 10 13 30 45]\n",
      "(6,)\n",
      "only using indices for lower-triangular matrix\n",
      "Connectivity computation...\n",
      "   Processing epoch 1 / 1 ...\n",
      "[Connectivity computation done]\n",
      "Computing features for trial:  730\n"
     ]
    },
    {
     "name": "stderr",
     "output_type": "stream",
     "text": [
      "/Users/jakubblaha/Documents/thesis/thesis-python/common.py:114: RuntimeWarning: There were no Annotations stored in <EpochsArray | 1 events (all good), 0 – 7.992 s (baseline off), ~134 kB, data loaded,\n",
      " '1': 1>, so metadata was not modified.\n",
      "  res = mne_connectivity.spectral_connectivity_time(\n"
     ]
    },
    {
     "name": "stdout",
     "output_type": "stream",
     "text": [
      "[ 4  8 10 13 30 45]\n",
      "(6,)\n",
      "[ 4  8 10 13 30 45]\n",
      "(6,)\n",
      "only using indices for lower-triangular matrix\n",
      "Connectivity computation...\n",
      "   Processing epoch 1 / 1 ...\n",
      "[Connectivity computation done]\n",
      "Computing features for trial:  731\n"
     ]
    },
    {
     "name": "stderr",
     "output_type": "stream",
     "text": [
      "/Users/jakubblaha/Documents/thesis/thesis-python/common.py:114: RuntimeWarning: There were no Annotations stored in <EpochsArray | 1 events (all good), 0 – 7.992 s (baseline off), ~134 kB, data loaded,\n",
      " '1': 1>, so metadata was not modified.\n",
      "  res = mne_connectivity.spectral_connectivity_time(\n"
     ]
    },
    {
     "name": "stdout",
     "output_type": "stream",
     "text": [
      "[ 4  8 10 13 30 45]\n",
      "(6,)\n",
      "[ 4  8 10 13 30 45]\n",
      "(6,)\n",
      "only using indices for lower-triangular matrix\n",
      "Connectivity computation...\n",
      "   Processing epoch 1 / 1 ...\n",
      "[Connectivity computation done]\n",
      "Computing features for trial:  732\n"
     ]
    },
    {
     "name": "stderr",
     "output_type": "stream",
     "text": [
      "/Users/jakubblaha/Documents/thesis/thesis-python/common.py:114: RuntimeWarning: There were no Annotations stored in <EpochsArray | 1 events (all good), 0 – 7.992 s (baseline off), ~134 kB, data loaded,\n",
      " '1': 1>, so metadata was not modified.\n",
      "  res = mne_connectivity.spectral_connectivity_time(\n"
     ]
    },
    {
     "name": "stdout",
     "output_type": "stream",
     "text": [
      "[ 4  8 10 13 30 45]\n",
      "(6,)\n",
      "[ 4  8 10 13 30 45]\n",
      "(6,)\n",
      "only using indices for lower-triangular matrix\n",
      "Connectivity computation...\n",
      "   Processing epoch 1 / 1 ...\n"
     ]
    },
    {
     "name": "stderr",
     "output_type": "stream",
     "text": [
      "/Users/jakubblaha/Documents/thesis/thesis-python/common.py:114: RuntimeWarning: There were no Annotations stored in <EpochsArray | 1 events (all good), 0 – 7.992 s (baseline off), ~134 kB, data loaded,\n",
      " '1': 1>, so metadata was not modified.\n",
      "  res = mne_connectivity.spectral_connectivity_time(\n"
     ]
    },
    {
     "name": "stdout",
     "output_type": "stream",
     "text": [
      "[Connectivity computation done]\n",
      "Computing features for trial:  733\n",
      "[ 4  8 10 13 30 45]\n",
      "(6,)\n",
      "[ 4  8 10 13 30 45]\n",
      "(6,)\n",
      "only using indices for lower-triangular matrix\n",
      "Connectivity computation...\n",
      "   Processing epoch 1 / 1 ...\n",
      "[Connectivity computation done]\n"
     ]
    },
    {
     "name": "stderr",
     "output_type": "stream",
     "text": [
      "/Users/jakubblaha/Documents/thesis/thesis-python/common.py:114: RuntimeWarning: There were no Annotations stored in <EpochsArray | 1 events (all good), 0 – 7.992 s (baseline off), ~134 kB, data loaded,\n",
      " '1': 1>, so metadata was not modified.\n",
      "  res = mne_connectivity.spectral_connectivity_time(\n"
     ]
    },
    {
     "name": "stdout",
     "output_type": "stream",
     "text": [
      "Computing features for trial:  734\n",
      "[ 4  8 10 13 30 45]\n",
      "(6,)\n",
      "[ 4  8 10 13 30 45]\n",
      "(6,)\n",
      "only using indices for lower-triangular matrix\n",
      "Connectivity computation...\n",
      "   Processing epoch 1 / 1 ...\n",
      "[Connectivity computation done]\n",
      "Computing features for trial:  735\n"
     ]
    },
    {
     "name": "stderr",
     "output_type": "stream",
     "text": [
      "/Users/jakubblaha/Documents/thesis/thesis-python/common.py:114: RuntimeWarning: There were no Annotations stored in <EpochsArray | 1 events (all good), 0 – 7.992 s (baseline off), ~134 kB, data loaded,\n",
      " '1': 1>, so metadata was not modified.\n",
      "  res = mne_connectivity.spectral_connectivity_time(\n"
     ]
    },
    {
     "name": "stdout",
     "output_type": "stream",
     "text": [
      "[ 4  8 10 13 30 45]\n",
      "(6,)\n",
      "[ 4  8 10 13 30 45]\n",
      "(6,)\n",
      "only using indices for lower-triangular matrix\n",
      "Connectivity computation...\n",
      "   Processing epoch 1 / 1 ...\n",
      "[Connectivity computation done]\n",
      "Computing features for trial:  736\n"
     ]
    },
    {
     "name": "stderr",
     "output_type": "stream",
     "text": [
      "/Users/jakubblaha/Documents/thesis/thesis-python/common.py:114: RuntimeWarning: There were no Annotations stored in <EpochsArray | 1 events (all good), 0 – 7.992 s (baseline off), ~134 kB, data loaded,\n",
      " '1': 1>, so metadata was not modified.\n",
      "  res = mne_connectivity.spectral_connectivity_time(\n"
     ]
    },
    {
     "name": "stdout",
     "output_type": "stream",
     "text": [
      "[ 4  8 10 13 30 45]\n",
      "(6,)\n",
      "[ 4  8 10 13 30 45]\n",
      "(6,)\n",
      "only using indices for lower-triangular matrix\n",
      "Connectivity computation...\n",
      "   Processing epoch 1 / 1 ...\n",
      "[Connectivity computation done]\n",
      "Computing features for trial:  737\n"
     ]
    },
    {
     "name": "stderr",
     "output_type": "stream",
     "text": [
      "/Users/jakubblaha/Documents/thesis/thesis-python/common.py:114: RuntimeWarning: There were no Annotations stored in <EpochsArray | 1 events (all good), 0 – 7.992 s (baseline off), ~134 kB, data loaded,\n",
      " '1': 1>, so metadata was not modified.\n",
      "  res = mne_connectivity.spectral_connectivity_time(\n"
     ]
    },
    {
     "name": "stdout",
     "output_type": "stream",
     "text": [
      "[ 4  8 10 13 30 45]\n",
      "(6,)\n",
      "[ 4  8 10 13 30 45]\n",
      "(6,)\n",
      "only using indices for lower-triangular matrix\n",
      "Connectivity computation...\n",
      "   Processing epoch 1 / 1 ...\n"
     ]
    },
    {
     "name": "stderr",
     "output_type": "stream",
     "text": [
      "/Users/jakubblaha/Documents/thesis/thesis-python/common.py:114: RuntimeWarning: There were no Annotations stored in <EpochsArray | 1 events (all good), 0 – 7.992 s (baseline off), ~134 kB, data loaded,\n",
      " '1': 1>, so metadata was not modified.\n",
      "  res = mne_connectivity.spectral_connectivity_time(\n"
     ]
    },
    {
     "name": "stdout",
     "output_type": "stream",
     "text": [
      "[Connectivity computation done]\n",
      "Computing features for trial:  738\n",
      "[ 4  8 10 13 30 45]\n",
      "(6,)\n",
      "[ 4  8 10 13 30 45]\n",
      "(6,)\n",
      "only using indices for lower-triangular matrix\n",
      "Connectivity computation...\n",
      "   Processing epoch 1 / 1 ...\n",
      "[Connectivity computation done]\n"
     ]
    },
    {
     "name": "stderr",
     "output_type": "stream",
     "text": [
      "/Users/jakubblaha/Documents/thesis/thesis-python/common.py:114: RuntimeWarning: There were no Annotations stored in <EpochsArray | 1 events (all good), 0 – 7.992 s (baseline off), ~134 kB, data loaded,\n",
      " '1': 1>, so metadata was not modified.\n",
      "  res = mne_connectivity.spectral_connectivity_time(\n"
     ]
    },
    {
     "name": "stdout",
     "output_type": "stream",
     "text": [
      "Computing features for trial:  739\n",
      "[ 4  8 10 13 30 45]\n",
      "(6,)\n",
      "[ 4  8 10 13 30 45]\n",
      "(6,)\n",
      "only using indices for lower-triangular matrix\n",
      "Connectivity computation...\n",
      "   Processing epoch 1 / 1 ...\n",
      "[Connectivity computation done]\n",
      "Computing features for trial:  740\n"
     ]
    },
    {
     "name": "stderr",
     "output_type": "stream",
     "text": [
      "/Users/jakubblaha/Documents/thesis/thesis-python/common.py:114: RuntimeWarning: There were no Annotations stored in <EpochsArray | 1 events (all good), 0 – 7.992 s (baseline off), ~134 kB, data loaded,\n",
      " '1': 1>, so metadata was not modified.\n",
      "  res = mne_connectivity.spectral_connectivity_time(\n"
     ]
    },
    {
     "name": "stdout",
     "output_type": "stream",
     "text": [
      "[ 4  8 10 13 30 45]\n",
      "(6,)\n",
      "[ 4  8 10 13 30 45]\n",
      "(6,)\n",
      "only using indices for lower-triangular matrix\n",
      "Connectivity computation...\n",
      "   Processing epoch 1 / 1 ...\n",
      "[Connectivity computation done]\n",
      "Computing features for trial:  741\n"
     ]
    },
    {
     "name": "stderr",
     "output_type": "stream",
     "text": [
      "/Users/jakubblaha/Documents/thesis/thesis-python/common.py:114: RuntimeWarning: There were no Annotations stored in <EpochsArray | 1 events (all good), 0 – 7.992 s (baseline off), ~134 kB, data loaded,\n",
      " '1': 1>, so metadata was not modified.\n",
      "  res = mne_connectivity.spectral_connectivity_time(\n"
     ]
    },
    {
     "name": "stdout",
     "output_type": "stream",
     "text": [
      "[ 4  8 10 13 30 45]\n",
      "(6,)\n",
      "[ 4  8 10 13 30 45]\n",
      "(6,)\n",
      "only using indices for lower-triangular matrix\n",
      "Connectivity computation...\n",
      "   Processing epoch 1 / 1 ...\n",
      "[Connectivity computation done]\n",
      "Computing features for trial:  742\n"
     ]
    },
    {
     "name": "stderr",
     "output_type": "stream",
     "text": [
      "/Users/jakubblaha/Documents/thesis/thesis-python/common.py:114: RuntimeWarning: There were no Annotations stored in <EpochsArray | 1 events (all good), 0 – 7.992 s (baseline off), ~134 kB, data loaded,\n",
      " '1': 1>, so metadata was not modified.\n",
      "  res = mne_connectivity.spectral_connectivity_time(\n"
     ]
    },
    {
     "name": "stdout",
     "output_type": "stream",
     "text": [
      "[ 4  8 10 13 30 45]\n",
      "(6,)\n",
      "[ 4  8 10 13 30 45]\n",
      "(6,)\n",
      "only using indices for lower-triangular matrix\n",
      "Connectivity computation...\n",
      "   Processing epoch 1 / 1 ...\n",
      "[Connectivity computation done]\n",
      "Computing features for trial:  743\n"
     ]
    },
    {
     "name": "stderr",
     "output_type": "stream",
     "text": [
      "/Users/jakubblaha/Documents/thesis/thesis-python/common.py:114: RuntimeWarning: There were no Annotations stored in <EpochsArray | 1 events (all good), 0 – 7.992 s (baseline off), ~134 kB, data loaded,\n",
      " '1': 1>, so metadata was not modified.\n",
      "  res = mne_connectivity.spectral_connectivity_time(\n"
     ]
    },
    {
     "name": "stdout",
     "output_type": "stream",
     "text": [
      "[ 4  8 10 13 30 45]\n",
      "(6,)\n",
      "[ 4  8 10 13 30 45]\n",
      "(6,)\n",
      "only using indices for lower-triangular matrix\n",
      "Connectivity computation...\n",
      "   Processing epoch 1 / 1 ...\n",
      "[Connectivity computation done]\n",
      "Computing features for trial:  744\n"
     ]
    },
    {
     "name": "stderr",
     "output_type": "stream",
     "text": [
      "/Users/jakubblaha/Documents/thesis/thesis-python/common.py:114: RuntimeWarning: There were no Annotations stored in <EpochsArray | 1 events (all good), 0 – 7.992 s (baseline off), ~134 kB, data loaded,\n",
      " '1': 1>, so metadata was not modified.\n",
      "  res = mne_connectivity.spectral_connectivity_time(\n"
     ]
    },
    {
     "name": "stdout",
     "output_type": "stream",
     "text": [
      "[ 4  8 10 13 30 45]\n",
      "(6,)\n",
      "[ 4  8 10 13 30 45]\n",
      "(6,)\n",
      "only using indices for lower-triangular matrix\n",
      "Connectivity computation...\n",
      "   Processing epoch 1 / 1 ...\n",
      "[Connectivity computation done]\n",
      "Computing features for trial:  745\n"
     ]
    },
    {
     "name": "stderr",
     "output_type": "stream",
     "text": [
      "/Users/jakubblaha/Documents/thesis/thesis-python/common.py:114: RuntimeWarning: There were no Annotations stored in <EpochsArray | 1 events (all good), 0 – 7.992 s (baseline off), ~134 kB, data loaded,\n",
      " '1': 1>, so metadata was not modified.\n",
      "  res = mne_connectivity.spectral_connectivity_time(\n"
     ]
    },
    {
     "name": "stdout",
     "output_type": "stream",
     "text": [
      "[ 4  8 10 13 30 45]\n",
      "(6,)\n",
      "[ 4  8 10 13 30 45]\n",
      "(6,)\n",
      "only using indices for lower-triangular matrix\n",
      "Connectivity computation...\n",
      "   Processing epoch 1 / 1 ...\n",
      "[Connectivity computation done]\n",
      "Computing features for trial:  746\n"
     ]
    },
    {
     "name": "stderr",
     "output_type": "stream",
     "text": [
      "/Users/jakubblaha/Documents/thesis/thesis-python/common.py:114: RuntimeWarning: There were no Annotations stored in <EpochsArray | 1 events (all good), 0 – 7.992 s (baseline off), ~134 kB, data loaded,\n",
      " '1': 1>, so metadata was not modified.\n",
      "  res = mne_connectivity.spectral_connectivity_time(\n"
     ]
    },
    {
     "name": "stdout",
     "output_type": "stream",
     "text": [
      "[ 4  8 10 13 30 45]\n",
      "(6,)\n",
      "[ 4  8 10 13 30 45]\n",
      "(6,)\n",
      "only using indices for lower-triangular matrix\n",
      "Connectivity computation...\n",
      "   Processing epoch 1 / 1 ...\n",
      "[Connectivity computation done]\n",
      "Computing features for trial:  747\n"
     ]
    },
    {
     "name": "stderr",
     "output_type": "stream",
     "text": [
      "/Users/jakubblaha/Documents/thesis/thesis-python/common.py:114: RuntimeWarning: There were no Annotations stored in <EpochsArray | 1 events (all good), 0 – 7.992 s (baseline off), ~134 kB, data loaded,\n",
      " '1': 1>, so metadata was not modified.\n",
      "  res = mne_connectivity.spectral_connectivity_time(\n"
     ]
    },
    {
     "name": "stdout",
     "output_type": "stream",
     "text": [
      "[ 4  8 10 13 30 45]\n",
      "(6,)\n",
      "[ 4  8 10 13 30 45]\n",
      "(6,)\n",
      "only using indices for lower-triangular matrix\n",
      "Connectivity computation...\n",
      "   Processing epoch 1 / 1 ...\n"
     ]
    },
    {
     "name": "stderr",
     "output_type": "stream",
     "text": [
      "/Users/jakubblaha/Documents/thesis/thesis-python/common.py:114: RuntimeWarning: There were no Annotations stored in <EpochsArray | 1 events (all good), 0 – 7.992 s (baseline off), ~134 kB, data loaded,\n",
      " '1': 1>, so metadata was not modified.\n",
      "  res = mne_connectivity.spectral_connectivity_time(\n"
     ]
    },
    {
     "name": "stdout",
     "output_type": "stream",
     "text": [
      "[Connectivity computation done]\n",
      "Computing features for trial:  748\n",
      "[ 4  8 10 13 30 45]\n",
      "(6,)\n",
      "[ 4  8 10 13 30 45]\n",
      "(6,)\n",
      "only using indices for lower-triangular matrix\n",
      "Connectivity computation...\n",
      "   Processing epoch 1 / 1 ...\n",
      "[Connectivity computation done]\n"
     ]
    },
    {
     "name": "stderr",
     "output_type": "stream",
     "text": [
      "/Users/jakubblaha/Documents/thesis/thesis-python/common.py:114: RuntimeWarning: There were no Annotations stored in <EpochsArray | 1 events (all good), 0 – 7.992 s (baseline off), ~134 kB, data loaded,\n",
      " '1': 1>, so metadata was not modified.\n",
      "  res = mne_connectivity.spectral_connectivity_time(\n"
     ]
    },
    {
     "name": "stdout",
     "output_type": "stream",
     "text": [
      "Computing features for trial:  749\n",
      "[ 4  8 10 13 30 45]\n",
      "(6,)\n",
      "[ 4  8 10 13 30 45]\n",
      "(6,)\n",
      "only using indices for lower-triangular matrix\n",
      "Connectivity computation...\n",
      "   Processing epoch 1 / 1 ...\n",
      "[Connectivity computation done]\n",
      "Computing features for trial:  750\n"
     ]
    },
    {
     "name": "stderr",
     "output_type": "stream",
     "text": [
      "/Users/jakubblaha/Documents/thesis/thesis-python/common.py:114: RuntimeWarning: There were no Annotations stored in <EpochsArray | 1 events (all good), 0 – 7.992 s (baseline off), ~134 kB, data loaded,\n",
      " '1': 1>, so metadata was not modified.\n",
      "  res = mne_connectivity.spectral_connectivity_time(\n"
     ]
    },
    {
     "name": "stdout",
     "output_type": "stream",
     "text": [
      "[ 4  8 10 13 30 45]\n",
      "(6,)\n",
      "[ 4  8 10 13 30 45]\n",
      "(6,)\n",
      "only using indices for lower-triangular matrix\n",
      "Connectivity computation...\n",
      "   Processing epoch 1 / 1 ...\n",
      "[Connectivity computation done]\n",
      "Computing features for trial:  751\n"
     ]
    },
    {
     "name": "stderr",
     "output_type": "stream",
     "text": [
      "/Users/jakubblaha/Documents/thesis/thesis-python/common.py:114: RuntimeWarning: There were no Annotations stored in <EpochsArray | 1 events (all good), 0 – 7.992 s (baseline off), ~134 kB, data loaded,\n",
      " '1': 1>, so metadata was not modified.\n",
      "  res = mne_connectivity.spectral_connectivity_time(\n"
     ]
    },
    {
     "name": "stdout",
     "output_type": "stream",
     "text": [
      "[ 4  8 10 13 30 45]\n",
      "(6,)\n",
      "[ 4  8 10 13 30 45]\n",
      "(6,)\n",
      "only using indices for lower-triangular matrix\n",
      "Connectivity computation...\n",
      "   Processing epoch 1 / 1 ...\n"
     ]
    },
    {
     "name": "stderr",
     "output_type": "stream",
     "text": [
      "/Users/jakubblaha/Documents/thesis/thesis-python/common.py:114: RuntimeWarning: There were no Annotations stored in <EpochsArray | 1 events (all good), 0 – 7.992 s (baseline off), ~134 kB, data loaded,\n",
      " '1': 1>, so metadata was not modified.\n",
      "  res = mne_connectivity.spectral_connectivity_time(\n"
     ]
    },
    {
     "name": "stdout",
     "output_type": "stream",
     "text": [
      "[Connectivity computation done]\n",
      "Computing features for trial:  752\n",
      "[ 4  8 10 13 30 45]\n",
      "(6,)\n",
      "[ 4  8 10 13 30 45]\n",
      "(6,)\n",
      "only using indices for lower-triangular matrix\n",
      "Connectivity computation...\n",
      "   Processing epoch 1 / 1 ...\n",
      "[Connectivity computation done]\n"
     ]
    },
    {
     "name": "stderr",
     "output_type": "stream",
     "text": [
      "/Users/jakubblaha/Documents/thesis/thesis-python/common.py:114: RuntimeWarning: There were no Annotations stored in <EpochsArray | 1 events (all good), 0 – 7.992 s (baseline off), ~134 kB, data loaded,\n",
      " '1': 1>, so metadata was not modified.\n",
      "  res = mne_connectivity.spectral_connectivity_time(\n"
     ]
    },
    {
     "name": "stdout",
     "output_type": "stream",
     "text": [
      "Computing features for trial:  753\n",
      "[ 4  8 10 13 30 45]\n",
      "(6,)\n",
      "[ 4  8 10 13 30 45]\n",
      "(6,)\n",
      "only using indices for lower-triangular matrix\n",
      "Connectivity computation...\n",
      "   Processing epoch 1 / 1 ...\n",
      "[Connectivity computation done]\n",
      "Computing features for trial:  754\n"
     ]
    },
    {
     "name": "stderr",
     "output_type": "stream",
     "text": [
      "/Users/jakubblaha/Documents/thesis/thesis-python/common.py:114: RuntimeWarning: There were no Annotations stored in <EpochsArray | 1 events (all good), 0 – 7.992 s (baseline off), ~134 kB, data loaded,\n",
      " '1': 1>, so metadata was not modified.\n",
      "  res = mne_connectivity.spectral_connectivity_time(\n"
     ]
    },
    {
     "name": "stdout",
     "output_type": "stream",
     "text": [
      "[ 4  8 10 13 30 45]\n",
      "(6,)\n",
      "[ 4  8 10 13 30 45]\n",
      "(6,)\n",
      "only using indices for lower-triangular matrix\n",
      "Connectivity computation...\n",
      "   Processing epoch 1 / 1 ...\n",
      "[Connectivity computation done]\n",
      "Computing features for trial:  755\n"
     ]
    },
    {
     "name": "stderr",
     "output_type": "stream",
     "text": [
      "/Users/jakubblaha/Documents/thesis/thesis-python/common.py:114: RuntimeWarning: There were no Annotations stored in <EpochsArray | 1 events (all good), 0 – 7.992 s (baseline off), ~134 kB, data loaded,\n",
      " '1': 1>, so metadata was not modified.\n",
      "  res = mne_connectivity.spectral_connectivity_time(\n"
     ]
    },
    {
     "name": "stdout",
     "output_type": "stream",
     "text": [
      "[ 4  8 10 13 30 45]\n",
      "(6,)\n",
      "[ 4  8 10 13 30 45]\n",
      "(6,)\n",
      "only using indices for lower-triangular matrix\n",
      "Connectivity computation...\n",
      "   Processing epoch 1 / 1 ...\n"
     ]
    },
    {
     "name": "stderr",
     "output_type": "stream",
     "text": [
      "/Users/jakubblaha/Documents/thesis/thesis-python/common.py:114: RuntimeWarning: There were no Annotations stored in <EpochsArray | 1 events (all good), 0 – 7.992 s (baseline off), ~134 kB, data loaded,\n",
      " '1': 1>, so metadata was not modified.\n",
      "  res = mne_connectivity.spectral_connectivity_time(\n"
     ]
    },
    {
     "name": "stdout",
     "output_type": "stream",
     "text": [
      "[Connectivity computation done]\n",
      "Computing features for trial:  756\n",
      "[ 4  8 10 13 30 45]\n",
      "(6,)\n",
      "[ 4  8 10 13 30 45]\n",
      "(6,)\n",
      "only using indices for lower-triangular matrix\n",
      "Connectivity computation...\n",
      "   Processing epoch 1 / 1 ...\n",
      "[Connectivity computation done]\n"
     ]
    },
    {
     "name": "stderr",
     "output_type": "stream",
     "text": [
      "/Users/jakubblaha/Documents/thesis/thesis-python/common.py:114: RuntimeWarning: There were no Annotations stored in <EpochsArray | 1 events (all good), 0 – 7.992 s (baseline off), ~134 kB, data loaded,\n",
      " '1': 1>, so metadata was not modified.\n",
      "  res = mne_connectivity.spectral_connectivity_time(\n"
     ]
    },
    {
     "name": "stdout",
     "output_type": "stream",
     "text": [
      "Computing features for trial:  757\n",
      "[ 4  8 10 13 30 45]\n",
      "(6,)\n",
      "[ 4  8 10 13 30 45]\n",
      "(6,)\n",
      "only using indices for lower-triangular matrix\n",
      "Connectivity computation...\n",
      "   Processing epoch 1 / 1 ...\n",
      "[Connectivity computation done]\n",
      "Computing features for trial:  758\n"
     ]
    },
    {
     "name": "stderr",
     "output_type": "stream",
     "text": [
      "/Users/jakubblaha/Documents/thesis/thesis-python/common.py:114: RuntimeWarning: There were no Annotations stored in <EpochsArray | 1 events (all good), 0 – 7.992 s (baseline off), ~134 kB, data loaded,\n",
      " '1': 1>, so metadata was not modified.\n",
      "  res = mne_connectivity.spectral_connectivity_time(\n"
     ]
    },
    {
     "name": "stdout",
     "output_type": "stream",
     "text": [
      "[ 4  8 10 13 30 45]\n",
      "(6,)\n",
      "[ 4  8 10 13 30 45]\n",
      "(6,)\n",
      "only using indices for lower-triangular matrix\n",
      "Connectivity computation...\n",
      "   Processing epoch 1 / 1 ...\n",
      "[Connectivity computation done]\n",
      "Computing features for trial:  759\n"
     ]
    },
    {
     "name": "stderr",
     "output_type": "stream",
     "text": [
      "/Users/jakubblaha/Documents/thesis/thesis-python/common.py:114: RuntimeWarning: There were no Annotations stored in <EpochsArray | 1 events (all good), 0 – 7.992 s (baseline off), ~134 kB, data loaded,\n",
      " '1': 1>, so metadata was not modified.\n",
      "  res = mne_connectivity.spectral_connectivity_time(\n"
     ]
    },
    {
     "name": "stdout",
     "output_type": "stream",
     "text": [
      "[ 4  8 10 13 30 45]\n",
      "(6,)\n",
      "[ 4  8 10 13 30 45]\n",
      "(6,)\n",
      "only using indices for lower-triangular matrix\n",
      "Connectivity computation...\n",
      "   Processing epoch 1 / 1 ...\n",
      "[Connectivity computation done]\n",
      "Computing features for trial:  760\n"
     ]
    },
    {
     "name": "stderr",
     "output_type": "stream",
     "text": [
      "/Users/jakubblaha/Documents/thesis/thesis-python/common.py:114: RuntimeWarning: There were no Annotations stored in <EpochsArray | 1 events (all good), 0 – 7.992 s (baseline off), ~134 kB, data loaded,\n",
      " '1': 1>, so metadata was not modified.\n",
      "  res = mne_connectivity.spectral_connectivity_time(\n"
     ]
    },
    {
     "name": "stdout",
     "output_type": "stream",
     "text": [
      "[ 4  8 10 13 30 45]\n",
      "(6,)\n",
      "[ 4  8 10 13 30 45]\n",
      "(6,)\n",
      "only using indices for lower-triangular matrix\n",
      "Connectivity computation...\n",
      "   Processing epoch 1 / 1 ...\n"
     ]
    },
    {
     "name": "stderr",
     "output_type": "stream",
     "text": [
      "/Users/jakubblaha/Documents/thesis/thesis-python/common.py:114: RuntimeWarning: There were no Annotations stored in <EpochsArray | 1 events (all good), 0 – 7.992 s (baseline off), ~134 kB, data loaded,\n",
      " '1': 1>, so metadata was not modified.\n",
      "  res = mne_connectivity.spectral_connectivity_time(\n"
     ]
    },
    {
     "name": "stdout",
     "output_type": "stream",
     "text": [
      "[Connectivity computation done]\n",
      "Computing features for trial:  761\n",
      "[ 4  8 10 13 30 45]\n",
      "(6,)\n",
      "[ 4  8 10 13 30 45]\n",
      "(6,)\n",
      "only using indices for lower-triangular matrix\n",
      "Connectivity computation...\n",
      "   Processing epoch 1 / 1 ...\n",
      "[Connectivity computation done]\n"
     ]
    },
    {
     "name": "stderr",
     "output_type": "stream",
     "text": [
      "/Users/jakubblaha/Documents/thesis/thesis-python/common.py:114: RuntimeWarning: There were no Annotations stored in <EpochsArray | 1 events (all good), 0 – 7.992 s (baseline off), ~134 kB, data loaded,\n",
      " '1': 1>, so metadata was not modified.\n",
      "  res = mne_connectivity.spectral_connectivity_time(\n"
     ]
    },
    {
     "name": "stdout",
     "output_type": "stream",
     "text": [
      "Computing features for trial:  762\n",
      "[ 4  8 10 13 30 45]\n",
      "(6,)\n",
      "[ 4  8 10 13 30 45]\n",
      "(6,)\n",
      "only using indices for lower-triangular matrix\n",
      "Connectivity computation...\n",
      "   Processing epoch 1 / 1 ...\n",
      "[Connectivity computation done]\n",
      "Computing features for trial:  763\n"
     ]
    },
    {
     "name": "stderr",
     "output_type": "stream",
     "text": [
      "/Users/jakubblaha/Documents/thesis/thesis-python/common.py:114: RuntimeWarning: There were no Annotations stored in <EpochsArray | 1 events (all good), 0 – 7.992 s (baseline off), ~134 kB, data loaded,\n",
      " '1': 1>, so metadata was not modified.\n",
      "  res = mne_connectivity.spectral_connectivity_time(\n"
     ]
    },
    {
     "name": "stdout",
     "output_type": "stream",
     "text": [
      "[ 4  8 10 13 30 45]\n",
      "(6,)\n",
      "[ 4  8 10 13 30 45]\n",
      "(6,)\n",
      "only using indices for lower-triangular matrix\n",
      "Connectivity computation...\n",
      "   Processing epoch 1 / 1 ...\n",
      "[Connectivity computation done]\n",
      "Computing features for trial:  764\n"
     ]
    },
    {
     "name": "stderr",
     "output_type": "stream",
     "text": [
      "/Users/jakubblaha/Documents/thesis/thesis-python/common.py:114: RuntimeWarning: There were no Annotations stored in <EpochsArray | 1 events (all good), 0 – 7.992 s (baseline off), ~134 kB, data loaded,\n",
      " '1': 1>, so metadata was not modified.\n",
      "  res = mne_connectivity.spectral_connectivity_time(\n"
     ]
    },
    {
     "name": "stdout",
     "output_type": "stream",
     "text": [
      "[ 4  8 10 13 30 45]\n",
      "(6,)\n",
      "[ 4  8 10 13 30 45]\n",
      "(6,)\n",
      "only using indices for lower-triangular matrix\n",
      "Connectivity computation...\n",
      "   Processing epoch 1 / 1 ...\n"
     ]
    },
    {
     "name": "stderr",
     "output_type": "stream",
     "text": [
      "/Users/jakubblaha/Documents/thesis/thesis-python/common.py:114: RuntimeWarning: There were no Annotations stored in <EpochsArray | 1 events (all good), 0 – 7.992 s (baseline off), ~134 kB, data loaded,\n",
      " '1': 1>, so metadata was not modified.\n",
      "  res = mne_connectivity.spectral_connectivity_time(\n"
     ]
    },
    {
     "name": "stdout",
     "output_type": "stream",
     "text": [
      "[Connectivity computation done]\n",
      "Computing features for trial:  765\n",
      "[ 4  8 10 13 30 45]\n",
      "(6,)\n",
      "[ 4  8 10 13 30 45]\n",
      "(6,)\n",
      "only using indices for lower-triangular matrix\n",
      "Connectivity computation...\n",
      "   Processing epoch 1 / 1 ...\n",
      "[Connectivity computation done]\n"
     ]
    },
    {
     "name": "stderr",
     "output_type": "stream",
     "text": [
      "/Users/jakubblaha/Documents/thesis/thesis-python/common.py:114: RuntimeWarning: There were no Annotations stored in <EpochsArray | 1 events (all good), 0 – 7.992 s (baseline off), ~134 kB, data loaded,\n",
      " '1': 1>, so metadata was not modified.\n",
      "  res = mne_connectivity.spectral_connectivity_time(\n"
     ]
    },
    {
     "name": "stdout",
     "output_type": "stream",
     "text": [
      "Computing features for trial:  766\n",
      "[ 4  8 10 13 30 45]\n",
      "(6,)\n",
      "[ 4  8 10 13 30 45]\n",
      "(6,)\n",
      "only using indices for lower-triangular matrix\n",
      "Connectivity computation...\n",
      "   Processing epoch 1 / 1 ...\n",
      "[Connectivity computation done]\n",
      "Computing features for trial:  767\n"
     ]
    },
    {
     "name": "stderr",
     "output_type": "stream",
     "text": [
      "/Users/jakubblaha/Documents/thesis/thesis-python/common.py:114: RuntimeWarning: There were no Annotations stored in <EpochsArray | 1 events (all good), 0 – 7.992 s (baseline off), ~134 kB, data loaded,\n",
      " '1': 1>, so metadata was not modified.\n",
      "  res = mne_connectivity.spectral_connectivity_time(\n"
     ]
    },
    {
     "name": "stdout",
     "output_type": "stream",
     "text": [
      "[ 4  8 10 13 30 45]\n",
      "(6,)\n",
      "[ 4  8 10 13 30 45]\n",
      "(6,)\n",
      "only using indices for lower-triangular matrix\n",
      "Connectivity computation...\n",
      "   Processing epoch 1 / 1 ...\n",
      "[Connectivity computation done]\n"
     ]
    },
    {
     "name": "stderr",
     "output_type": "stream",
     "text": [
      "/Users/jakubblaha/Documents/thesis/thesis-python/common.py:114: RuntimeWarning: There were no Annotations stored in <EpochsArray | 1 events (all good), 0 – 7.992 s (baseline off), ~134 kB, data loaded,\n",
      " '1': 1>, so metadata was not modified.\n",
      "  res = mne_connectivity.spectral_connectivity_time(\n"
     ]
    }
   ],
   "source": [
    "# dataset.compute_features(groups=[FeatureGroup.TIME])\n",
    "dataset.compute_features()"
   ]
  },
  {
   "cell_type": "code",
   "execution_count": 50,
   "metadata": {},
   "outputs": [
    {
     "data": {
      "text/plain": [
       "770"
      ]
     },
     "execution_count": 50,
     "metadata": {},
     "output_type": "execute_result"
    }
   ],
   "source": [
    "# dataset.select_k_best(k=300)\n",
    "dataset.select_all_features()\n",
    "dataset.preprocess(normalize=True)\n",
    "\n",
    "dataset.n_features\n"
   ]
  },
  {
   "cell_type": "code",
   "execution_count": 51,
   "metadata": {},
   "outputs": [],
   "source": [
    "class Autoencoder(nn.Module):\n",
    "    def __init__(self, n_features: int):\n",
    "        super(Autoencoder, self).__init__()\n",
    "\n",
    "        self.encoder = nn.Sequential(\n",
    "            nn.Linear(n_features, 256),\n",
    "            nn.LeakyReLU(),\n",
    "            nn.Dropout(0.1),\n",
    "\n",
    "            nn.Linear(256, 128),\n",
    "            nn.LeakyReLU(),\n",
    "            nn.Dropout(0.1),\n",
    "\n",
    "            nn.Linear(128, 32),\n",
    "        )\n",
    "\n",
    "        # self.cls = nn.Sequential(\n",
    "        #     nn.Linear(n_bottleneck, n_bottleneck),\n",
    "        #     nn.LeakyReLU(),\n",
    "        #     nn.Linear(n_bottleneck, n_bottleneck),\n",
    "        #     nn.LeakyReLU(),\n",
    "        #     nn.Linear(n_bottleneck, 2),\n",
    "        # )\n",
    "\n",
    "        self.decoder = nn.Sequential(\n",
    "            nn.Linear(32, 128),\n",
    "            nn.LeakyReLU(),\n",
    "            nn.Dropout(0.1),\n",
    "\n",
    "            nn.Linear(128, 256),\n",
    "            nn.LeakyReLU(),\n",
    "            nn.Dropout(0.1),\n",
    "\n",
    "            nn.Linear(256, n_features),\n",
    "        )\n",
    "\n",
    "        self._dropout_modules = [module for module in self.modules() if isinstance(module,torch.nn.Dropout)]\n",
    "\n",
    "        self._freeze()\n",
    "\n",
    "    def _freeze(self):\n",
    "        # for params in itertools.chain(self.encoder, self.decoder, self.cls):\n",
    "        for params in itertools.chain(self.encoder, self.decoder):\n",
    "            params.requires_grad_(False)\n",
    "\n",
    "    def train_enc_dec(self):\n",
    "        self._freeze()\n",
    "\n",
    "        for params in itertools.chain(self.encoder, self.decoder):\n",
    "            params.requires_grad_(True)\n",
    "\n",
    "        for dropout in self._dropout_modules:\n",
    "            dropout.train()\n",
    "\n",
    "    def train_cls(self):\n",
    "        self._freeze()\n",
    "\n",
    "        for params in self.cls:\n",
    "            params.requires_grad_(True)\n",
    "\n",
    "        for dropout in self._dropout_modules:\n",
    "            dropout.eval()\n",
    "\n",
    "    def forward(self, x):\n",
    "        x = self.encoder(x)\n",
    "        x = self.decoder(x)\n",
    "\n",
    "        return x\n",
    "    \n",
    "    def get_latent_features(self, x):\n",
    "        return self.encoder(x)\n",
    "    \n",
    "    def map_to_latent(self, data):\n",
    "        latent = []\n",
    "\n",
    "        with torch.no_grad():\n",
    "            for feats in data:\n",
    "                latent.append(self.encoder(tensor(feats)))\n",
    "\n",
    "        return np.array(latent)\n",
    "\n",
    "    "
   ]
  },
  {
   "cell_type": "code",
   "execution_count": 52,
   "metadata": {},
   "outputs": [
    {
     "name": "stdout",
     "output_type": "stream",
     "text": [
      "Epoch [1/800], Loss: 0.8456\n",
      "Epoch [2/800], Loss: 0.8263\n",
      "Epoch [3/800], Loss: 0.7566\n",
      "Epoch [4/800], Loss: 0.7227\n",
      "Epoch [5/800], Loss: 0.6489\n",
      "Epoch [6/800], Loss: 0.7383\n",
      "Epoch [7/800], Loss: 0.5758\n",
      "Epoch [8/800], Loss: 0.5983\n",
      "Epoch [9/800], Loss: 0.4757\n",
      "Epoch [10/800], Loss: 0.5734\n",
      "Epoch [11/800], Loss: 0.6367\n",
      "Epoch [12/800], Loss: 0.5500\n",
      "Epoch [13/800], Loss: 0.5511\n",
      "Epoch [14/800], Loss: 0.5561\n",
      "Epoch [15/800], Loss: 0.5218\n",
      "Epoch [16/800], Loss: 0.6023\n",
      "Epoch [17/800], Loss: 0.5485\n",
      "Epoch [18/800], Loss: 0.4731\n",
      "Epoch [19/800], Loss: 0.5129\n",
      "Epoch [20/800], Loss: 0.5610\n",
      "Epoch [21/800], Loss: 0.4606\n",
      "Epoch [22/800], Loss: 0.4564\n",
      "Epoch [23/800], Loss: 0.3752\n",
      "Epoch [24/800], Loss: 0.4776\n",
      "Epoch [25/800], Loss: 0.4750\n",
      "Epoch [26/800], Loss: 0.4841\n",
      "Epoch [27/800], Loss: 0.4922\n",
      "Epoch [28/800], Loss: 0.4289\n",
      "Epoch [29/800], Loss: 0.4377\n",
      "Epoch [30/800], Loss: 0.4085\n",
      "Epoch [31/800], Loss: 0.4289\n",
      "Epoch [32/800], Loss: 0.4554\n",
      "Epoch [33/800], Loss: 0.4983\n",
      "Epoch [34/800], Loss: 0.4705\n",
      "Epoch [35/800], Loss: 0.4284\n",
      "Epoch [36/800], Loss: 0.4135\n",
      "Epoch [37/800], Loss: 0.4123\n",
      "Epoch [38/800], Loss: 0.3887\n",
      "Epoch [39/800], Loss: 0.4393\n",
      "Epoch [40/800], Loss: 0.4943\n",
      "Epoch [41/800], Loss: 0.4566\n",
      "Epoch [42/800], Loss: 0.4208\n",
      "Epoch [43/800], Loss: 0.3928\n",
      "Epoch [44/800], Loss: 0.4024\n",
      "Epoch [45/800], Loss: 0.4282\n",
      "Epoch [46/800], Loss: 0.3919\n",
      "Epoch [47/800], Loss: 0.4184\n",
      "Epoch [48/800], Loss: 0.4254\n",
      "Epoch [49/800], Loss: 0.3745\n",
      "Epoch [50/800], Loss: 0.3681\n",
      "Epoch [51/800], Loss: 0.3823\n",
      "Epoch [52/800], Loss: 0.4096\n",
      "Epoch [53/800], Loss: 0.3721\n",
      "Epoch [54/800], Loss: 0.4250\n",
      "Epoch [55/800], Loss: 0.3720\n",
      "Epoch [56/800], Loss: 0.3527\n",
      "Epoch [57/800], Loss: 0.3854\n",
      "Epoch [58/800], Loss: 0.3685\n",
      "Epoch [59/800], Loss: 0.3507\n",
      "Epoch [60/800], Loss: 0.3654\n",
      "Epoch [61/800], Loss: 0.3612\n",
      "Epoch [62/800], Loss: 0.3547\n",
      "Epoch [63/800], Loss: 0.3912\n",
      "Epoch [64/800], Loss: 0.3533\n",
      "Epoch [65/800], Loss: 0.3511\n",
      "Epoch [66/800], Loss: 0.3786\n",
      "Epoch [67/800], Loss: 0.3598\n",
      "Epoch [68/800], Loss: 0.3619\n",
      "Epoch [69/800], Loss: 0.4004\n",
      "Epoch [70/800], Loss: 0.3631\n",
      "Epoch [71/800], Loss: 0.3505\n",
      "Epoch [72/800], Loss: 0.3651\n",
      "Epoch [73/800], Loss: 0.4011\n",
      "Epoch [74/800], Loss: 0.2963\n",
      "Epoch [75/800], Loss: 0.3685\n",
      "Epoch [76/800], Loss: 0.3587\n",
      "Epoch [77/800], Loss: 0.3303\n",
      "Epoch [78/800], Loss: 0.4035\n",
      "Epoch [79/800], Loss: 0.3167\n",
      "Epoch [80/800], Loss: 0.3392\n",
      "Epoch [81/800], Loss: 0.3234\n",
      "Epoch [82/800], Loss: 0.3435\n",
      "Epoch [83/800], Loss: 0.3804\n",
      "Epoch [84/800], Loss: 0.3542\n",
      "Epoch [85/800], Loss: 0.3246\n",
      "Epoch [86/800], Loss: 0.3358\n",
      "Epoch [87/800], Loss: 0.3168\n",
      "Epoch [88/800], Loss: 0.3302\n",
      "Epoch [89/800], Loss: 0.3572\n",
      "Epoch [90/800], Loss: 0.3644\n",
      "Epoch [91/800], Loss: 0.3343\n",
      "Epoch [92/800], Loss: 0.3326\n",
      "Epoch [93/800], Loss: 0.3282\n",
      "Epoch [94/800], Loss: 0.3412\n",
      "Epoch [95/800], Loss: 0.3130\n",
      "Epoch [96/800], Loss: 0.3326\n",
      "Epoch [97/800], Loss: 0.3219\n",
      "Epoch [98/800], Loss: 0.3217\n",
      "Epoch [99/800], Loss: 0.2969\n",
      "Epoch [100/800], Loss: 0.2953\n",
      "Epoch [101/800], Loss: 0.3123\n",
      "Epoch [102/800], Loss: 0.3301\n",
      "Epoch [103/800], Loss: 0.3638\n",
      "Epoch [104/800], Loss: 0.3086\n",
      "Epoch [105/800], Loss: 0.2907\n",
      "Epoch [106/800], Loss: 0.3164\n",
      "Epoch [107/800], Loss: 0.3064\n",
      "Epoch [108/800], Loss: 0.2822\n",
      "Epoch [109/800], Loss: 0.3336\n",
      "Epoch [110/800], Loss: 0.3318\n",
      "Epoch [111/800], Loss: 0.3327\n",
      "Epoch [112/800], Loss: 0.3103\n",
      "Epoch [113/800], Loss: 0.2934\n",
      "Epoch [114/800], Loss: 0.3221\n",
      "Epoch [115/800], Loss: 0.2734\n",
      "Epoch [116/800], Loss: 0.3267\n",
      "Epoch [117/800], Loss: 0.3250\n",
      "Epoch [118/800], Loss: 0.2682\n",
      "Epoch [119/800], Loss: 0.3188\n",
      "Epoch [120/800], Loss: 0.3224\n",
      "Epoch [121/800], Loss: 0.2650\n",
      "Epoch [122/800], Loss: 0.2980\n",
      "Epoch [123/800], Loss: 0.2892\n",
      "Epoch [124/800], Loss: 0.2825\n",
      "Epoch [125/800], Loss: 0.3050\n",
      "Epoch [126/800], Loss: 0.2819\n",
      "Epoch [127/800], Loss: 0.3105\n",
      "Epoch [128/800], Loss: 0.3015\n",
      "Epoch [129/800], Loss: 0.3272\n",
      "Epoch [130/800], Loss: 0.2827\n",
      "Epoch [131/800], Loss: 0.2922\n",
      "Epoch [132/800], Loss: 0.3148\n",
      "Epoch [133/800], Loss: 0.3169\n",
      "Epoch [134/800], Loss: 0.2885\n",
      "Epoch [135/800], Loss: 0.3054\n",
      "Epoch [136/800], Loss: 0.3044\n",
      "Epoch [137/800], Loss: 0.2793\n",
      "Epoch [138/800], Loss: 0.3003\n",
      "Epoch [139/800], Loss: 0.2999\n",
      "Epoch [140/800], Loss: 0.2789\n",
      "Epoch [141/800], Loss: 0.3030\n",
      "Epoch [142/800], Loss: 0.2856\n",
      "Epoch [143/800], Loss: 0.2923\n",
      "Epoch [144/800], Loss: 0.2930\n",
      "Epoch [145/800], Loss: 0.2918\n",
      "Epoch [146/800], Loss: 0.3047\n",
      "Epoch [147/800], Loss: 0.3122\n",
      "Epoch [148/800], Loss: 0.2993\n",
      "Epoch [149/800], Loss: 0.3066\n",
      "Epoch [150/800], Loss: 0.2799\n",
      "Epoch [151/800], Loss: 0.3137\n",
      "Epoch [152/800], Loss: 0.2877\n",
      "Epoch [153/800], Loss: 0.3162\n",
      "Epoch [154/800], Loss: 0.2774\n",
      "Epoch [155/800], Loss: 0.3172\n",
      "Epoch [156/800], Loss: 0.2862\n",
      "Epoch [157/800], Loss: 0.3116\n",
      "Epoch [158/800], Loss: 0.2678\n",
      "Epoch [159/800], Loss: 0.3074\n",
      "Epoch [160/800], Loss: 0.2925\n",
      "Epoch [161/800], Loss: 0.2746\n",
      "Epoch [162/800], Loss: 0.2867\n",
      "Epoch [163/800], Loss: 0.2859\n",
      "Epoch [164/800], Loss: 0.3281\n",
      "Epoch [165/800], Loss: 0.2809\n",
      "Epoch [166/800], Loss: 0.2733\n",
      "Epoch [167/800], Loss: 0.2793\n",
      "Epoch [168/800], Loss: 0.2713\n",
      "Epoch [169/800], Loss: 0.2917\n",
      "Epoch [170/800], Loss: 0.2730\n",
      "Epoch [171/800], Loss: 0.2673\n",
      "Epoch [172/800], Loss: 0.2760\n",
      "Epoch [173/800], Loss: 0.2722\n",
      "Epoch [174/800], Loss: 0.3200\n",
      "Epoch [175/800], Loss: 0.3113\n",
      "Epoch [176/800], Loss: 0.2873\n",
      "Epoch [177/800], Loss: 0.2839\n",
      "Epoch [178/800], Loss: 0.2801\n",
      "Epoch [179/800], Loss: 0.2590\n",
      "Epoch [180/800], Loss: 0.2809\n",
      "Epoch [181/800], Loss: 0.2628\n",
      "Epoch [182/800], Loss: 0.2715\n",
      "Epoch [183/800], Loss: 0.2702\n",
      "Epoch [184/800], Loss: 0.2654\n",
      "Epoch [185/800], Loss: 0.2976\n",
      "Epoch [186/800], Loss: 0.2309\n",
      "Epoch [187/800], Loss: 0.2681\n",
      "Epoch [188/800], Loss: 0.2700\n",
      "Epoch [189/800], Loss: 0.2596\n",
      "Epoch [190/800], Loss: 0.2926\n",
      "Epoch [191/800], Loss: 0.2631\n",
      "Epoch [192/800], Loss: 0.2739\n",
      "Epoch [193/800], Loss: 0.2815\n",
      "Epoch [194/800], Loss: 0.2688\n",
      "Epoch [195/800], Loss: 0.2891\n",
      "Epoch [196/800], Loss: 0.2644\n",
      "Epoch [197/800], Loss: 0.2541\n",
      "Epoch [198/800], Loss: 0.2701\n",
      "Epoch [199/800], Loss: 0.2858\n",
      "Epoch [200/800], Loss: 0.2581\n",
      "Epoch [201/800], Loss: 0.2688\n",
      "Epoch [202/800], Loss: 0.2941\n",
      "Epoch [203/800], Loss: 0.2721\n",
      "Epoch [204/800], Loss: 0.2856\n",
      "Epoch [205/800], Loss: 0.2731\n",
      "Epoch [206/800], Loss: 0.2557\n",
      "Epoch [207/800], Loss: 0.2697\n",
      "Epoch [208/800], Loss: 0.2742\n",
      "Epoch [209/800], Loss: 0.2587\n",
      "Epoch [210/800], Loss: 0.2565\n",
      "Epoch [211/800], Loss: 0.2733\n",
      "Epoch [212/800], Loss: 0.2703\n",
      "Epoch [213/800], Loss: 0.2682\n",
      "Epoch [214/800], Loss: 0.2858\n",
      "Epoch [215/800], Loss: 0.2744\n",
      "Epoch [216/800], Loss: 0.2784\n",
      "Epoch [217/800], Loss: 0.2707\n",
      "Epoch [218/800], Loss: 0.2663\n",
      "Epoch [219/800], Loss: 0.2796\n",
      "Epoch [220/800], Loss: 0.2773\n",
      "Epoch [221/800], Loss: 0.2639\n",
      "Epoch [222/800], Loss: 0.2655\n",
      "Epoch [223/800], Loss: 0.2501\n",
      "Epoch [224/800], Loss: 0.2618\n",
      "Epoch [225/800], Loss: 0.2602\n",
      "Epoch [226/800], Loss: 0.2632\n",
      "Epoch [227/800], Loss: 0.3024\n",
      "Epoch [228/800], Loss: 0.2518\n",
      "Epoch [229/800], Loss: 0.2516\n",
      "Epoch [230/800], Loss: 0.2578\n",
      "Epoch [231/800], Loss: 0.2400\n",
      "Epoch [232/800], Loss: 0.2658\n",
      "Epoch [233/800], Loss: 0.2548\n",
      "Epoch [234/800], Loss: 0.2533\n",
      "Epoch [235/800], Loss: 0.2609\n",
      "Epoch [236/800], Loss: 0.2682\n",
      "Epoch [237/800], Loss: 0.2769\n",
      "Epoch [238/800], Loss: 0.2785\n",
      "Epoch [239/800], Loss: 0.2802\n",
      "Epoch [240/800], Loss: 0.2571\n",
      "Epoch [241/800], Loss: 0.2561\n",
      "Epoch [242/800], Loss: 0.2529\n",
      "Epoch [243/800], Loss: 0.2642\n",
      "Epoch [244/800], Loss: 0.2556\n",
      "Epoch [245/800], Loss: 0.2663\n",
      "Epoch [246/800], Loss: 0.2623\n",
      "Epoch [247/800], Loss: 0.2622\n",
      "Epoch [248/800], Loss: 0.2364\n",
      "Epoch [249/800], Loss: 0.2402\n",
      "Epoch [250/800], Loss: 0.2594\n",
      "Epoch [251/800], Loss: 0.2517\n",
      "Epoch [252/800], Loss: 0.2418\n",
      "Epoch [253/800], Loss: 0.2540\n",
      "Epoch [254/800], Loss: 0.2513\n",
      "Epoch [255/800], Loss: 0.2455\n",
      "Epoch [256/800], Loss: 0.2497\n",
      "Epoch [257/800], Loss: 0.2603\n",
      "Epoch [258/800], Loss: 0.2316\n",
      "Epoch [259/800], Loss: 0.2326\n",
      "Epoch [260/800], Loss: 0.2305\n",
      "Epoch [261/800], Loss: 0.2829\n",
      "Epoch [262/800], Loss: 0.2830\n",
      "Epoch [263/800], Loss: 0.2659\n",
      "Epoch [264/800], Loss: 0.2596\n",
      "Epoch [265/800], Loss: 0.2559\n",
      "Epoch [266/800], Loss: 0.2475\n",
      "Epoch [267/800], Loss: 0.2772\n",
      "Epoch [268/800], Loss: 0.2649\n",
      "Epoch [269/800], Loss: 0.2736\n",
      "Epoch [270/800], Loss: 0.2549\n",
      "Epoch [271/800], Loss: 0.2370\n",
      "Epoch [272/800], Loss: 0.2562\n",
      "Epoch [273/800], Loss: 0.2403\n",
      "Epoch [274/800], Loss: 0.2625\n",
      "Epoch [275/800], Loss: 0.2499\n",
      "Epoch [276/800], Loss: 0.2638\n",
      "Epoch [277/800], Loss: 0.2574\n",
      "Epoch [278/800], Loss: 0.2281\n",
      "Epoch [279/800], Loss: 0.2765\n",
      "Epoch [280/800], Loss: 0.2542\n",
      "Epoch [281/800], Loss: 0.2462\n",
      "Epoch [282/800], Loss: 0.2537\n",
      "Epoch [283/800], Loss: 0.2714\n",
      "Epoch [284/800], Loss: 0.2591\n",
      "Epoch [285/800], Loss: 0.2531\n",
      "Epoch [286/800], Loss: 0.2599\n",
      "Epoch [287/800], Loss: 0.2368\n",
      "Epoch [288/800], Loss: 0.2379\n",
      "Epoch [289/800], Loss: 0.2451\n",
      "Epoch [290/800], Loss: 0.2835\n",
      "Epoch [291/800], Loss: 0.2564\n",
      "Epoch [292/800], Loss: 0.2412\n",
      "Epoch [293/800], Loss: 0.2325\n",
      "Epoch [294/800], Loss: 0.2453\n",
      "Epoch [295/800], Loss: 0.2409\n",
      "Epoch [296/800], Loss: 0.2540\n",
      "Epoch [297/800], Loss: 0.2469\n",
      "Epoch [298/800], Loss: 0.2307\n",
      "Epoch [299/800], Loss: 0.2409\n",
      "Epoch [300/800], Loss: 0.2273\n",
      "Epoch [301/800], Loss: 0.2320\n",
      "Epoch [302/800], Loss: 0.2493\n",
      "Epoch [303/800], Loss: 0.2864\n",
      "Epoch [304/800], Loss: 0.2695\n",
      "Epoch [305/800], Loss: 0.2558\n",
      "Epoch [306/800], Loss: 0.2512\n",
      "Epoch [307/800], Loss: 0.2465\n",
      "Epoch [308/800], Loss: 0.2465\n",
      "Epoch [309/800], Loss: 0.2589\n",
      "Epoch [310/800], Loss: 0.2535\n",
      "Epoch [311/800], Loss: 0.2572\n",
      "Epoch [312/800], Loss: 0.2427\n",
      "Epoch [313/800], Loss: 0.2605\n",
      "Epoch [314/800], Loss: 0.2432\n",
      "Epoch [315/800], Loss: 0.2420\n",
      "Epoch [316/800], Loss: 0.2426\n",
      "Epoch [317/800], Loss: 0.2314\n",
      "Epoch [318/800], Loss: 0.2639\n",
      "Epoch [319/800], Loss: 0.2347\n",
      "Epoch [320/800], Loss: 0.2191\n",
      "Epoch [321/800], Loss: 0.2539\n",
      "Epoch [322/800], Loss: 0.2246\n",
      "Epoch [323/800], Loss: 0.2444\n",
      "Epoch [324/800], Loss: 0.2315\n",
      "Epoch [325/800], Loss: 0.2654\n",
      "Epoch [326/800], Loss: 0.2209\n",
      "Epoch [327/800], Loss: 0.2395\n",
      "Epoch [328/800], Loss: 0.2608\n",
      "Epoch [329/800], Loss: 0.2391\n",
      "Epoch [330/800], Loss: 0.2250\n",
      "Epoch [331/800], Loss: 0.2618\n",
      "Epoch [332/800], Loss: 0.2362\n",
      "Epoch [333/800], Loss: 0.2484\n",
      "Epoch [334/800], Loss: 0.2316\n",
      "Epoch [335/800], Loss: 0.2456\n",
      "Epoch [336/800], Loss: 0.2390\n",
      "Epoch [337/800], Loss: 0.2531\n",
      "Epoch [338/800], Loss: 0.2745\n",
      "Epoch [339/800], Loss: 0.2693\n",
      "Epoch [340/800], Loss: 0.2457\n",
      "Epoch [341/800], Loss: 0.2368\n",
      "Epoch [342/800], Loss: 0.2335\n",
      "Epoch [343/800], Loss: 0.2503\n",
      "Epoch [344/800], Loss: 0.2374\n",
      "Epoch [345/800], Loss: 0.2711\n",
      "Epoch [346/800], Loss: 0.2595\n",
      "Epoch [347/800], Loss: 0.2692\n",
      "Epoch [348/800], Loss: 0.2459\n",
      "Epoch [349/800], Loss: 0.2418\n",
      "Epoch [350/800], Loss: 0.2633\n",
      "Epoch [351/800], Loss: 0.2517\n",
      "Epoch [352/800], Loss: 0.2540\n",
      "Epoch [353/800], Loss: 0.2389\n",
      "Epoch [354/800], Loss: 0.2711\n",
      "Epoch [355/800], Loss: 0.2411\n",
      "Epoch [356/800], Loss: 0.2457\n",
      "Epoch [357/800], Loss: 0.2538\n",
      "Epoch [358/800], Loss: 0.2263\n",
      "Epoch [359/800], Loss: 0.2373\n",
      "Epoch [360/800], Loss: 0.2267\n",
      "Epoch [361/800], Loss: 0.2385\n",
      "Epoch [362/800], Loss: 0.2406\n",
      "Epoch [363/800], Loss: 0.2348\n",
      "Epoch [364/800], Loss: 0.2414\n",
      "Epoch [365/800], Loss: 0.2297\n",
      "Epoch [366/800], Loss: 0.2380\n",
      "Epoch [367/800], Loss: 0.2498\n",
      "Epoch [368/800], Loss: 0.2312\n",
      "Epoch [369/800], Loss: 0.2501\n",
      "Epoch [370/800], Loss: 0.2539\n",
      "Epoch [371/800], Loss: 0.2575\n",
      "Epoch [372/800], Loss: 0.2043\n",
      "Epoch [373/800], Loss: 0.2427\n",
      "Epoch [374/800], Loss: 0.2379\n",
      "Epoch [375/800], Loss: 0.2440\n",
      "Epoch [376/800], Loss: 0.2215\n",
      "Epoch [377/800], Loss: 0.2330\n",
      "Epoch [378/800], Loss: 0.2413\n",
      "Epoch [379/800], Loss: 0.2412\n",
      "Epoch [380/800], Loss: 0.2360\n",
      "Epoch [381/800], Loss: 0.2338\n",
      "Epoch [382/800], Loss: 0.2403\n",
      "Epoch [383/800], Loss: 0.2748\n",
      "Epoch [384/800], Loss: 0.2540\n",
      "Epoch [385/800], Loss: 0.2407\n",
      "Epoch [386/800], Loss: 0.2423\n",
      "Epoch [387/800], Loss: 0.2811\n",
      "Epoch [388/800], Loss: 0.2814\n",
      "Epoch [389/800], Loss: 0.2381\n",
      "Epoch [390/800], Loss: 0.2262\n",
      "Epoch [391/800], Loss: 0.2386\n",
      "Epoch [392/800], Loss: 0.2276\n",
      "Epoch [393/800], Loss: 0.2396\n",
      "Epoch [394/800], Loss: 0.2649\n",
      "Epoch [395/800], Loss: 0.2516\n",
      "Epoch [396/800], Loss: 0.2556\n",
      "Epoch [397/800], Loss: 0.2830\n",
      "Epoch [398/800], Loss: 0.2457\n",
      "Epoch [399/800], Loss: 0.2646\n",
      "Epoch [400/800], Loss: 0.2309\n",
      "Epoch [401/800], Loss: 0.2495\n",
      "Epoch [402/800], Loss: 0.2371\n",
      "Epoch [403/800], Loss: 0.2979\n",
      "Epoch [404/800], Loss: 0.2210\n",
      "Epoch [405/800], Loss: 0.2399\n",
      "Epoch [406/800], Loss: 0.2216\n",
      "Epoch [407/800], Loss: 0.2387\n",
      "Epoch [408/800], Loss: 0.2611\n",
      "Epoch [409/800], Loss: 0.2455\n",
      "Epoch [410/800], Loss: 0.2554\n",
      "Epoch [411/800], Loss: 0.2432\n",
      "Epoch [412/800], Loss: 0.2210\n",
      "Epoch [413/800], Loss: 0.2593\n",
      "Epoch [414/800], Loss: 0.2504\n",
      "Epoch [415/800], Loss: 0.2647\n",
      "Epoch [416/800], Loss: 0.2337\n",
      "Epoch [417/800], Loss: 0.2501\n",
      "Epoch [418/800], Loss: 0.2640\n",
      "Epoch [419/800], Loss: 0.2751\n",
      "Epoch [420/800], Loss: 0.2364\n",
      "Epoch [421/800], Loss: 0.2272\n",
      "Epoch [422/800], Loss: 0.2285\n",
      "Epoch [423/800], Loss: 0.2549\n",
      "Epoch [424/800], Loss: 0.2316\n",
      "Epoch [425/800], Loss: 0.2228\n",
      "Epoch [426/800], Loss: 0.2278\n",
      "Epoch [427/800], Loss: 0.2412\n",
      "Epoch [428/800], Loss: 0.2410\n",
      "Epoch [429/800], Loss: 0.2291\n",
      "Epoch [430/800], Loss: 0.2154\n",
      "Epoch [431/800], Loss: 0.2397\n",
      "Epoch [432/800], Loss: 0.2228\n",
      "Epoch [433/800], Loss: 0.2359\n",
      "Epoch [434/800], Loss: 0.2338\n",
      "Epoch [435/800], Loss: 0.2358\n",
      "Epoch [436/800], Loss: 0.2130\n",
      "Epoch [437/800], Loss: 0.2217\n",
      "Epoch [438/800], Loss: 0.2689\n",
      "Epoch [439/800], Loss: 0.2474\n",
      "Epoch [440/800], Loss: 0.2379\n",
      "Epoch [441/800], Loss: 0.2277\n",
      "Epoch [442/800], Loss: 0.2421\n",
      "Epoch [443/800], Loss: 0.2446\n",
      "Epoch [444/800], Loss: 0.2359\n",
      "Epoch [445/800], Loss: 0.2437\n",
      "Epoch [446/800], Loss: 0.2368\n",
      "Epoch [447/800], Loss: 0.2441\n",
      "Epoch [448/800], Loss: 0.2575\n",
      "Epoch [449/800], Loss: 0.2516\n",
      "Epoch [450/800], Loss: 0.2286\n",
      "Epoch [451/800], Loss: 0.2397\n",
      "Epoch [452/800], Loss: 0.2440\n",
      "Epoch [453/800], Loss: 0.2262\n",
      "Epoch [454/800], Loss: 0.2543\n",
      "Epoch [455/800], Loss: 0.2149\n",
      "Epoch [456/800], Loss: 0.2399\n",
      "Epoch [457/800], Loss: 0.2158\n",
      "Epoch [458/800], Loss: 0.2636\n",
      "Epoch [459/800], Loss: 0.2359\n",
      "Epoch [460/800], Loss: 0.2765\n",
      "Epoch [461/800], Loss: 0.2711\n",
      "Epoch [462/800], Loss: 0.2346\n",
      "Epoch [463/800], Loss: 0.2047\n",
      "Epoch [464/800], Loss: 0.2312\n",
      "Epoch [465/800], Loss: 0.2306\n",
      "Epoch [466/800], Loss: 0.2295\n",
      "Epoch [467/800], Loss: 0.2316\n",
      "Epoch [468/800], Loss: 0.2425\n",
      "Epoch [469/800], Loss: 0.2223\n",
      "Epoch [470/800], Loss: 0.2237\n",
      "Epoch [471/800], Loss: 0.2219\n",
      "Epoch [472/800], Loss: 0.2448\n",
      "Epoch [473/800], Loss: 0.2332\n",
      "Epoch [474/800], Loss: 0.2216\n",
      "Epoch [475/800], Loss: 0.2445\n",
      "Epoch [476/800], Loss: 0.2293\n",
      "Epoch [477/800], Loss: 0.1991\n",
      "Epoch [478/800], Loss: 0.2476\n",
      "Epoch [479/800], Loss: 0.2363\n",
      "Epoch [480/800], Loss: 0.2294\n",
      "Epoch [481/800], Loss: 0.2131\n",
      "Epoch [482/800], Loss: 0.2331\n",
      "Epoch [483/800], Loss: 0.2331\n",
      "Epoch [484/800], Loss: 0.2436\n",
      "Epoch [485/800], Loss: 0.2372\n",
      "Epoch [486/800], Loss: 0.2146\n",
      "Epoch [487/800], Loss: 0.2636\n",
      "Epoch [488/800], Loss: 0.2350\n",
      "Epoch [489/800], Loss: 0.2428\n",
      "Epoch [490/800], Loss: 0.2206\n",
      "Epoch [491/800], Loss: 0.2411\n",
      "Epoch [492/800], Loss: 0.2324\n",
      "Epoch [493/800], Loss: 0.2212\n",
      "Epoch [494/800], Loss: 0.2048\n",
      "Epoch [495/800], Loss: 0.2279\n",
      "Epoch [496/800], Loss: 0.2180\n",
      "Epoch [497/800], Loss: 0.2151\n",
      "Epoch [498/800], Loss: 0.2208\n",
      "Epoch [499/800], Loss: 0.2128\n",
      "Epoch [500/800], Loss: 0.2109\n",
      "Epoch [501/800], Loss: 0.2232\n",
      "Epoch [502/800], Loss: 0.2167\n",
      "Epoch [503/800], Loss: 0.2426\n",
      "Epoch [504/800], Loss: 0.2454\n",
      "Epoch [505/800], Loss: 0.2770\n",
      "Epoch [506/800], Loss: 0.2307\n",
      "Epoch [507/800], Loss: 0.2295\n",
      "Epoch [508/800], Loss: 0.2251\n",
      "Epoch [509/800], Loss: 0.2265\n",
      "Epoch [510/800], Loss: 0.2147\n",
      "Epoch [511/800], Loss: 0.2331\n",
      "Epoch [512/800], Loss: 0.2273\n",
      "Epoch [513/800], Loss: 0.2528\n",
      "Epoch [514/800], Loss: 0.2330\n",
      "Epoch [515/800], Loss: 0.2087\n",
      "Epoch [516/800], Loss: 0.2514\n",
      "Epoch [517/800], Loss: 0.2586\n",
      "Epoch [518/800], Loss: 0.2562\n",
      "Epoch [519/800], Loss: 0.2245\n",
      "Epoch [520/800], Loss: 0.2314\n",
      "Epoch [521/800], Loss: 0.2172\n",
      "Epoch [522/800], Loss: 0.2235\n",
      "Epoch [523/800], Loss: 0.2213\n",
      "Epoch [524/800], Loss: 0.2238\n",
      "Epoch [525/800], Loss: 0.2370\n",
      "Epoch [526/800], Loss: 0.2261\n",
      "Epoch [527/800], Loss: 0.2226\n",
      "Epoch [528/800], Loss: 0.2586\n",
      "Epoch [529/800], Loss: 0.2509\n",
      "Epoch [530/800], Loss: 0.2199\n",
      "Epoch [531/800], Loss: 0.2112\n",
      "Epoch [532/800], Loss: 0.2083\n",
      "Epoch [533/800], Loss: 0.2215\n",
      "Epoch [534/800], Loss: 0.2434\n",
      "Epoch [535/800], Loss: 0.2144\n",
      "Epoch [536/800], Loss: 0.2323\n",
      "Epoch [537/800], Loss: 0.2280\n",
      "Epoch [538/800], Loss: 0.2157\n",
      "Epoch [539/800], Loss: 0.2264\n",
      "Epoch [540/800], Loss: 0.2142\n",
      "Epoch [541/800], Loss: 0.2191\n",
      "Epoch [542/800], Loss: 0.2455\n",
      "Epoch [543/800], Loss: 0.2017\n",
      "Epoch [544/800], Loss: 0.2401\n",
      "Epoch [545/800], Loss: 0.2415\n",
      "Epoch [546/800], Loss: 0.2236\n",
      "Epoch [547/800], Loss: 0.2326\n",
      "Epoch [548/800], Loss: 0.2212\n",
      "Epoch [549/800], Loss: 0.2399\n",
      "Epoch [550/800], Loss: 0.2370\n",
      "Epoch [551/800], Loss: 0.2465\n",
      "Epoch [552/800], Loss: 0.2276\n",
      "Epoch [553/800], Loss: 0.2523\n",
      "Epoch [554/800], Loss: 0.2239\n",
      "Epoch [555/800], Loss: 0.2452\n",
      "Epoch [556/800], Loss: 0.2626\n",
      "Epoch [557/800], Loss: 0.2240\n",
      "Epoch [558/800], Loss: 0.2418\n",
      "Epoch [559/800], Loss: 0.2218\n",
      "Epoch [560/800], Loss: 0.2242\n",
      "Epoch [561/800], Loss: 0.2568\n",
      "Epoch [562/800], Loss: 0.2474\n",
      "Epoch [563/800], Loss: 0.2733\n",
      "Epoch [564/800], Loss: 0.2316\n",
      "Epoch [565/800], Loss: 0.2520\n",
      "Epoch [566/800], Loss: 0.2475\n",
      "Epoch [567/800], Loss: 0.2981\n",
      "Epoch [568/800], Loss: 0.2043\n",
      "Epoch [569/800], Loss: 0.2103\n",
      "Epoch [570/800], Loss: 0.2168\n",
      "Epoch [571/800], Loss: 0.2405\n",
      "Epoch [572/800], Loss: 0.2446\n",
      "Epoch [573/800], Loss: 0.2260\n",
      "Epoch [574/800], Loss: 0.2427\n",
      "Epoch [575/800], Loss: 0.2419\n",
      "Epoch [576/800], Loss: 0.2141\n",
      "Epoch [577/800], Loss: 0.2228\n",
      "Epoch [578/800], Loss: 0.2302\n",
      "Epoch [579/800], Loss: 0.2122\n",
      "Epoch [580/800], Loss: 0.2221\n",
      "Epoch [581/800], Loss: 0.2383\n",
      "Epoch [582/800], Loss: 0.2524\n",
      "Epoch [583/800], Loss: 0.2038\n",
      "Epoch [584/800], Loss: 0.2242\n",
      "Epoch [585/800], Loss: 0.2233\n",
      "Epoch [586/800], Loss: 0.2320\n",
      "Epoch [587/800], Loss: 0.2464\n",
      "Epoch [588/800], Loss: 0.2498\n",
      "Epoch [589/800], Loss: 0.2222\n",
      "Epoch [590/800], Loss: 0.2435\n",
      "Epoch [591/800], Loss: 0.2090\n",
      "Epoch [592/800], Loss: 0.2247\n",
      "Epoch [593/800], Loss: 0.2239\n",
      "Epoch [594/800], Loss: 0.2268\n",
      "Epoch [595/800], Loss: 0.2352\n",
      "Epoch [596/800], Loss: 0.2306\n",
      "Epoch [597/800], Loss: 0.2346\n",
      "Epoch [598/800], Loss: 0.2379\n",
      "Epoch [599/800], Loss: 0.2242\n",
      "Epoch [600/800], Loss: 0.2178\n",
      "Epoch [601/800], Loss: 0.2060\n",
      "Epoch [602/800], Loss: 0.2214\n",
      "Epoch [603/800], Loss: 0.2254\n",
      "Epoch [604/800], Loss: 0.2352\n",
      "Epoch [605/800], Loss: 0.2438\n",
      "Epoch [606/800], Loss: 0.2257\n",
      "Epoch [607/800], Loss: 0.2179\n",
      "Epoch [608/800], Loss: 0.2264\n",
      "Epoch [609/800], Loss: 0.2257\n",
      "Epoch [610/800], Loss: 0.2217\n",
      "Epoch [611/800], Loss: 0.2255\n",
      "Epoch [612/800], Loss: 0.2159\n",
      "Epoch [613/800], Loss: 0.2164\n",
      "Epoch [614/800], Loss: 0.2411\n",
      "Epoch [615/800], Loss: 0.2311\n",
      "Epoch [616/800], Loss: 0.2402\n",
      "Epoch [617/800], Loss: 0.2327\n",
      "Epoch [618/800], Loss: 0.2356\n",
      "Epoch [619/800], Loss: 0.2116\n",
      "Epoch [620/800], Loss: 0.2027\n",
      "Epoch [621/800], Loss: 0.2665\n",
      "Epoch [622/800], Loss: 0.2413\n",
      "Epoch [623/800], Loss: 0.2109\n",
      "Epoch [624/800], Loss: 0.2053\n",
      "Epoch [625/800], Loss: 0.2305\n",
      "Epoch [626/800], Loss: 0.2270\n",
      "Epoch [627/800], Loss: 0.2167\n",
      "Epoch [628/800], Loss: 0.2036\n",
      "Epoch [629/800], Loss: 0.2959\n",
      "Epoch [630/800], Loss: 0.2418\n",
      "Epoch [631/800], Loss: 0.2184\n",
      "Epoch [632/800], Loss: 0.2523\n",
      "Epoch [633/800], Loss: 0.2547\n",
      "Epoch [634/800], Loss: 0.2167\n",
      "Epoch [635/800], Loss: 0.2089\n",
      "Epoch [636/800], Loss: 0.2334\n",
      "Epoch [637/800], Loss: 0.2316\n",
      "Epoch [638/800], Loss: 0.2259\n",
      "Epoch [639/800], Loss: 0.2247\n",
      "Epoch [640/800], Loss: 0.2441\n",
      "Epoch [641/800], Loss: 0.1980\n",
      "Epoch [642/800], Loss: 0.2339\n",
      "Epoch [643/800], Loss: 0.2312\n",
      "Epoch [644/800], Loss: 0.2182\n",
      "Epoch [645/800], Loss: 0.2223\n",
      "Epoch [646/800], Loss: 0.2173\n",
      "Epoch [647/800], Loss: 0.2021\n",
      "Epoch [648/800], Loss: 0.2175\n",
      "Epoch [649/800], Loss: 0.2281\n",
      "Epoch [650/800], Loss: 0.2211\n",
      "Epoch [651/800], Loss: 0.2458\n",
      "Epoch [652/800], Loss: 0.2171\n",
      "Epoch [653/800], Loss: 0.1919\n",
      "Epoch [654/800], Loss: 0.2779\n",
      "Epoch [655/800], Loss: 0.2170\n",
      "Epoch [656/800], Loss: 0.2100\n",
      "Epoch [657/800], Loss: 0.2245\n",
      "Epoch [658/800], Loss: 0.2319\n",
      "Epoch [659/800], Loss: 0.2351\n",
      "Epoch [660/800], Loss: 0.2204\n",
      "Epoch [661/800], Loss: 0.2385\n",
      "Epoch [662/800], Loss: 0.2333\n",
      "Epoch [663/800], Loss: 0.2037\n",
      "Epoch [664/800], Loss: 0.2221\n",
      "Epoch [665/800], Loss: 0.2127\n",
      "Epoch [666/800], Loss: 0.2408\n",
      "Epoch [667/800], Loss: 0.2194\n",
      "Epoch [668/800], Loss: 0.2457\n",
      "Epoch [669/800], Loss: 0.2035\n",
      "Epoch [670/800], Loss: 0.2405\n",
      "Epoch [671/800], Loss: 0.2301\n",
      "Epoch [672/800], Loss: 0.2203\n",
      "Epoch [673/800], Loss: 0.2070\n",
      "Epoch [674/800], Loss: 0.2145\n",
      "Epoch [675/800], Loss: 0.2396\n",
      "Epoch [676/800], Loss: 0.2250\n",
      "Epoch [677/800], Loss: 0.2197\n",
      "Epoch [678/800], Loss: 0.2401\n",
      "Epoch [679/800], Loss: 0.2395\n",
      "Epoch [680/800], Loss: 0.2353\n",
      "Epoch [681/800], Loss: 0.2141\n",
      "Epoch [682/800], Loss: 0.2250\n",
      "Epoch [683/800], Loss: 0.2111\n",
      "Epoch [684/800], Loss: 0.2364\n",
      "Epoch [685/800], Loss: 0.2073\n",
      "Epoch [686/800], Loss: 0.2339\n",
      "Epoch [687/800], Loss: 0.2072\n",
      "Epoch [688/800], Loss: 0.2098\n",
      "Epoch [689/800], Loss: 0.2269\n",
      "Epoch [690/800], Loss: 0.2227\n",
      "Epoch [691/800], Loss: 0.2352\n",
      "Epoch [692/800], Loss: 0.2485\n",
      "Epoch [693/800], Loss: 0.2135\n",
      "Epoch [694/800], Loss: 0.2161\n",
      "Epoch [695/800], Loss: 0.1927\n",
      "Epoch [696/800], Loss: 0.2005\n",
      "Epoch [697/800], Loss: 0.2013\n",
      "Epoch [698/800], Loss: 0.1922\n",
      "Epoch [699/800], Loss: 0.2226\n",
      "Epoch [700/800], Loss: 0.2092\n",
      "Epoch [701/800], Loss: 0.2112\n",
      "Epoch [702/800], Loss: 0.2625\n",
      "Epoch [703/800], Loss: 0.1972\n",
      "Epoch [704/800], Loss: 0.2439\n",
      "Epoch [705/800], Loss: 0.2148\n",
      "Epoch [706/800], Loss: 0.2201\n",
      "Epoch [707/800], Loss: 0.2187\n",
      "Epoch [708/800], Loss: 0.2236\n",
      "Epoch [709/800], Loss: 0.2188\n",
      "Epoch [710/800], Loss: 0.2237\n",
      "Epoch [711/800], Loss: 0.1981\n",
      "Epoch [712/800], Loss: 0.2354\n",
      "Epoch [713/800], Loss: 0.2204\n",
      "Epoch [714/800], Loss: 0.2356\n",
      "Epoch [715/800], Loss: 0.2376\n",
      "Epoch [716/800], Loss: 0.2768\n",
      "Epoch [717/800], Loss: 0.2064\n",
      "Epoch [718/800], Loss: 0.2334\n",
      "Epoch [719/800], Loss: 0.2189\n",
      "Epoch [720/800], Loss: 0.2357\n",
      "Epoch [721/800], Loss: 0.2246\n",
      "Epoch [722/800], Loss: 0.2230\n",
      "Epoch [723/800], Loss: 0.2112\n",
      "Epoch [724/800], Loss: 0.1946\n",
      "Epoch [725/800], Loss: 0.2072\n",
      "Epoch [726/800], Loss: 0.2443\n",
      "Epoch [727/800], Loss: 0.2021\n",
      "Epoch [728/800], Loss: 0.2197\n",
      "Epoch [729/800], Loss: 0.2213\n",
      "Epoch [730/800], Loss: 0.2292\n",
      "Epoch [731/800], Loss: 0.2084\n",
      "Epoch [732/800], Loss: 0.2253\n",
      "Epoch [733/800], Loss: 0.2484\n",
      "Epoch [734/800], Loss: 0.2199\n",
      "Epoch [735/800], Loss: 0.2185\n",
      "Epoch [736/800], Loss: 0.2312\n",
      "Epoch [737/800], Loss: 0.2314\n",
      "Epoch [738/800], Loss: 0.2250\n",
      "Epoch [739/800], Loss: 0.2040\n",
      "Epoch [740/800], Loss: 0.2060\n",
      "Epoch [741/800], Loss: 0.2471\n",
      "Epoch [742/800], Loss: 0.2065\n",
      "Epoch [743/800], Loss: 0.2472\n",
      "Epoch [744/800], Loss: 0.2253\n",
      "Epoch [745/800], Loss: 0.1971\n",
      "Epoch [746/800], Loss: 0.2521\n",
      "Epoch [747/800], Loss: 0.2118\n",
      "Epoch [748/800], Loss: 0.2421\n",
      "Epoch [749/800], Loss: 0.2037\n",
      "Epoch [750/800], Loss: 0.2411\n",
      "Epoch [751/800], Loss: 0.2399\n",
      "Epoch [752/800], Loss: 0.2438\n",
      "Epoch [753/800], Loss: 0.2325\n",
      "Epoch [754/800], Loss: 0.2276\n",
      "Epoch [755/800], Loss: 0.2152\n",
      "Epoch [756/800], Loss: 0.2183\n",
      "Epoch [757/800], Loss: 0.2404\n",
      "Epoch [758/800], Loss: 0.2155\n",
      "Epoch [759/800], Loss: 0.2029\n",
      "Epoch [760/800], Loss: 0.2234\n",
      "Epoch [761/800], Loss: 0.2093\n",
      "Epoch [762/800], Loss: 0.2259\n",
      "Epoch [763/800], Loss: 0.2161\n",
      "Epoch [764/800], Loss: 0.2159\n",
      "Epoch [765/800], Loss: 0.2089\n",
      "Epoch [766/800], Loss: 0.2094\n",
      "Epoch [767/800], Loss: 0.2242\n",
      "Epoch [768/800], Loss: 0.2152\n",
      "Epoch [769/800], Loss: 0.2306\n",
      "Epoch [770/800], Loss: 0.2284\n",
      "Epoch [771/800], Loss: 0.2288\n",
      "Epoch [772/800], Loss: 0.2589\n",
      "Epoch [773/800], Loss: 0.2303\n",
      "Epoch [774/800], Loss: 0.2452\n",
      "Epoch [775/800], Loss: 0.2304\n",
      "Epoch [776/800], Loss: 0.2023\n",
      "Epoch [777/800], Loss: 0.2255\n",
      "Epoch [778/800], Loss: 0.1867\n",
      "Epoch [779/800], Loss: 0.2228\n",
      "Epoch [780/800], Loss: 0.2322\n",
      "Epoch [781/800], Loss: 0.2156\n",
      "Epoch [782/800], Loss: 0.2175\n",
      "Epoch [783/800], Loss: 0.2297\n",
      "Epoch [784/800], Loss: 0.2074\n",
      "Epoch [785/800], Loss: 0.2132\n",
      "Epoch [786/800], Loss: 0.2012\n",
      "Epoch [787/800], Loss: 0.2003\n",
      "Epoch [788/800], Loss: 0.2101\n",
      "Epoch [789/800], Loss: 0.2055\n",
      "Epoch [790/800], Loss: 0.2459\n",
      "Epoch [791/800], Loss: 0.2143\n",
      "Epoch [792/800], Loss: 0.2101\n",
      "Epoch [793/800], Loss: 0.2038\n",
      "Epoch [794/800], Loss: 0.2097\n",
      "Epoch [795/800], Loss: 0.2069\n",
      "Epoch [796/800], Loss: 0.2013\n",
      "Epoch [797/800], Loss: 0.2092\n",
      "Epoch [798/800], Loss: 0.1912\n",
      "Epoch [799/800], Loss: 0.1866\n",
      "Epoch [800/800], Loss: 0.2198\n"
     ]
    }
   ],
   "source": [
    "accuracies = []\n",
    "\n",
    "for i in range(1):\n",
    "    dataset.preprocess()\n",
    "\n",
    "    # Init model\n",
    "    model = Autoencoder(n_features=dataset.n_features)\n",
    "\n",
    "    losses = []\n",
    "\n",
    "    # Train model\n",
    "    model.train()\n",
    "\n",
    "    criterion = nn.MSELoss()\n",
    "    n_epochs = 800\n",
    "    optimizer = optim.Adam(model.parameters(), lr=0.001)\n",
    "\n",
    "    with dataset.train():\n",
    "        train_loader = DataLoader(dataset, batch_size=64, shuffle=True)\n",
    "\n",
    "        # Train encoder\n",
    "        model.train_enc_dec()\n",
    "\n",
    "        for epoch in range(n_epochs):\n",
    "            for feat_vecs, _ in train_loader:\n",
    "                optimizer.zero_grad()\n",
    "\n",
    "                output = model.forward(feat_vecs)\n",
    "\n",
    "                loss = criterion(output, feat_vecs)\n",
    "\n",
    "                loss.backward()\n",
    "                optimizer.step()\n",
    "\n",
    "            losses.append(loss.item())\n",
    "            print(f'Epoch [{epoch+1}/{n_epochs}], Loss: {loss.item():.4f}')\n",
    "\n",
    "        # # Train classification\n",
    "        # model.train_cls()\n",
    "\n",
    "        # criterion = nn.CrossEntropyLoss()\n",
    "        # n_epochs = 300\n",
    "        # optimizer = optim.Adam(model.parameters(), lr=0.001)\n",
    "\n",
    "        # for epoch in range(n_epochs):\n",
    "        #     for feat_vecs, labels in train_loader:\n",
    "        #         optimizer.zero_grad()\n",
    "\n",
    "        #         latent = model.encoder(feat_vecs)\n",
    "        #         en = model.cls(latent)\n",
    "\n",
    "        #         loss = criterion(en, labels)\n",
    "\n",
    "        #         loss.backward()\n",
    "        #         optimizer.step()\n",
    "\n",
    "        #     losses.append(loss.item())\n",
    "        #     print(f'Epoch [{epoch+1}/{n_epochs}], Loss: {loss.item():.4f}')\n",
    "\n",
    "#     # Test model\n",
    "#     with dataset.test():\n",
    "#         model.eval()\n",
    "\n",
    "#         metric = MulticlassAccuracy()\n",
    "\n",
    "#         latent = model.encoder(tensor(dataset.data))\n",
    "#         output = model.cls(latent)\n",
    "#         predicted = output.argmax(dim=1)\n",
    "\n",
    "#         target = tensor(dataset.labels)\n",
    "\n",
    "#         metric.update(predicted, target)\n",
    "#         acc = metric.compute()\n",
    "\n",
    "#         accuracies.append(acc)\n",
    "\n",
    "# plt.figure(figsize=(20, 5))\n",
    "# plt.plot(accuracies)\n",
    "# plt.ylim(0, 1)\n"
   ]
  },
  {
   "cell_type": "code",
   "execution_count": 53,
   "metadata": {},
   "outputs": [
    {
     "name": "stdout",
     "output_type": "stream",
     "text": [
      "Mean accuracy:  nan\n"
     ]
    },
    {
     "name": "stderr",
     "output_type": "stream",
     "text": [
      "/Users/jakubblaha/.local/share/virtualenvs/thesis-python-yCK4mToH/lib/python3.12/site-packages/numpy/core/fromnumeric.py:3504: RuntimeWarning: Mean of empty slice.\n",
      "  return _methods._mean(a, axis=axis, dtype=dtype,\n",
      "/Users/jakubblaha/.local/share/virtualenvs/thesis-python-yCK4mToH/lib/python3.12/site-packages/numpy/core/_methods.py:129: RuntimeWarning: invalid value encountered in scalar divide\n",
      "  ret = ret.dtype.type(ret / rcount)\n"
     ]
    }
   ],
   "source": [
    "print(\"Mean accuracy: \", np.mean(accuracies))"
   ]
  },
  {
   "cell_type": "code",
   "execution_count": 54,
   "metadata": {},
   "outputs": [
    {
     "data": {
      "text/plain": [
       "[<matplotlib.lines.Line2D at 0x17c87b1d0>]"
      ]
     },
     "execution_count": 54,
     "metadata": {},
     "output_type": "execute_result"
    },
    {
     "data": {
      "image/png": "[encoded data removed]",
      "text/plain": [
       "<Figure size 2000x500 with 1 Axes>"
      ]
     },
     "metadata": {},
     "output_type": "display_data"
    }
   ],
   "source": [
    "plt.figure(figsize=(20, 5))\n",
    "plt.plot(losses, linewidth=0.5)\n",
    "# plt.ylim(0, 1)"
   ]
  },
  {
   "cell_type": "code",
   "execution_count": 55,
   "metadata": {},
   "outputs": [
    {
     "name": "stdout",
     "output_type": "stream",
     "text": [
      "Orig score:  0.8482864944817385\n",
      "Encoded score:  0.7663391739674594\n"
     ]
    }
   ],
   "source": [
    "from sklearn.ensemble import RandomForestClassifier\n",
    "from sklearn.svm import SVC\n",
    "from sklearn.neural_network import MLPClassifier\n",
    "from sklearn.model_selection import RepeatedStratifiedKFold, cross_val_score\n",
    "\n",
    "rf = RandomForestClassifier(n_estimators=300)\n",
    "svm = SVC(kernel='linear')\n",
    "# mlp = MLPClassifier(hidden_layer_sizes=(800, 800, 800, 800))\n",
    "\n",
    "data, labels = dataset.all_data, dataset.all_labels\n",
    "encoded = model.map_to_latent(data)\n",
    "\n",
    "cv_enc = RepeatedStratifiedKFold(n_splits=5, n_repeats=10, random_state=0)\n",
    "encoded_score = cross_val_score(rf, encoded, labels, scoring='accuracy', cv=cv_enc, n_jobs=-1)\n",
    "\n",
    "cv_orig = RepeatedStratifiedKFold(n_splits=5, n_repeats=10, random_state=0)\n",
    "orig_score = cross_val_score(rf, data, labels, scoring='accuracy', cv=cv_orig, n_jobs=-1)\n",
    "\n",
    "print(\"Orig score: \", np.mean(orig_score))\n",
    "print(\"Encoded score: \", np.mean(encoded_score))"
   ]
  },
  {
   "cell_type": "code",
   "execution_count": 56,
   "metadata": {},
   "outputs": [
    {
     "data": {
      "text/plain": [
       "<matplotlib.collections.PathCollection at 0x31394e6f0>"
      ]
     },
     "execution_count": 56,
     "metadata": {},
     "output_type": "execute_result"
    },
    {
     "data": {
      "image/png": "[encoded data removed]",
      "text/plain": [
       "<Figure size 640x480 with 1 Axes>"
      ]
     },
     "metadata": {},
     "output_type": "display_data"
    }
   ],
   "source": [
    "from sklearn.manifold import TSNE\n",
    "\n",
    "tsne = TSNE(n_components=2, random_state=0)\n",
    "tsne_results = tsne.fit_transform(encoded)\n",
    "plt.scatter(tsne_results[:, 0], tsne_results[:, 1], c=labels)\n",
    "\n",
    "# tsne = TSNE(n_components=2, random_state=0)\n",
    "# tsne_results = tsne.fit_transform(encoded)\n",
    "# plt.scatter(tsne_results[:, 0], tsne_results[:, 1])"
   ]
  }
 ],
 "metadata": {
  "kernelspec": {
   "display_name": "thesis-python-yCK4mToH",
   "language": "python",
   "name": "python3"
  },
  "language_info": {
   "codemirror_mode": {
    "name": "ipython",
    "version": 3
   },
   "file_extension": ".py",
   "mimetype": "text/x-python",
   "name": "python",
   "nbconvert_exporter": "python",
   "pygments_lexer": "ipython3",
   "version": "3.12.7"
  }
 },
 "nbformat": 4,
 "nbformat_minor": 4
}
