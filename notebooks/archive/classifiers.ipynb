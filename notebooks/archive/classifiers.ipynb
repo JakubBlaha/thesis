{
 "cells": [
  {
   "cell_type": "code",
   "execution_count": 27,
   "metadata": {},
   "outputs": [],
   "source": [
    "%reload_ext autoreload\n",
    "%autoreload 2\n",
    "\n",
    "from sklearn.naive_bayes import ComplementNB, CategoricalNB, MultinomialNB, BernoulliNB, GaussianNB\n",
    "from xgboost import XGBClassifier\n",
    "from sklearn.ensemble import AdaBoostClassifier\n",
    "from sklearn.neural_network import MLPClassifier\n",
    "from sklearn.ensemble import RandomForestClassifier\n",
    "from sklearn.neighbors import KNeighborsClassifier\n",
    "from sklearn.discriminant_analysis import LinearDiscriminantAnalysis\n",
    "from sklearn.svm import SVC\n",
    "from sklearn.model_selection import RepeatedStratifiedKFold, cross_val_score\n",
    "from sklearn.ensemble import GradientBoostingClassifier\n",
    "from lightgbm import LGBMClassifier\n",
    "from imblearn.over_sampling import RandomOverSampler\n",
    "from sklearn.utils import shuffle\n",
    "from sklearn.preprocessing import StandardScaler\n",
    "import pandas as pd\n",
    "from main import *"
   ]
  },
  {
   "cell_type": "code",
   "execution_count": 28,
   "metadata": {},
   "outputs": [],
   "source": [
    "trial_time_spans = {\n",
    "    # \"1 second\": [7, 8],\n",
    "    # \"2 seconds\": [7, 9],\n",
    "    # \"4 seconds\": [7, 11],\n",
    "    # \"6 seconds\": [7, 13],\n",
    "    \"8 seconds\": [7, 15],\n",
    "    # \"10 seconds\": [5, 15],\n",
    "    # \"12 seconds\": [3, 15],\n",
    "    # \"15 seconds\": [0, 15],\n",
    "}\n",
    "\n",
    "classifiers = {\n",
    "    # 'ComplementNB': ComplementNB(),\n",
    "    # 'CategoricalNB': CategoricalNB(),\n",
    "    # 'MultinomialNB': MultinomialNB(),\n",
    "    # 'GaussianNB': GaussianNB(),\n",
    "\n",
    "    # 'BernoulliNB': BernoulliNB(),\n",
    "    # 'XGBClassifier': XGBClassifier(n_estimators=300, max_depth=6, learning_rate=0.1, objective='binary:logistic'),\n",
    "    # 'AdaBoostClassifier': AdaBoostClassifier(algorithm=\"SAMME\", learning_rate=0.1, n_estimators=200),\n",
    "    # 'MLP': MLPClassifier(),\n",
    "    'RF': RandomForestClassifier(n_estimators=300),\n",
    "    # 'KNN': KNeighborsClassifier(n_neighbors=3),\n",
    "    # 'LDA': LinearDiscriminantAnalysis(solver='svd'),\n",
    "    # 'SVC_poly': SVC(kernel=\"poly\", degree=3),\n",
    "    # 'SVC_linear': SVC(kernel=\"linear\"),\n",
    "    # 'SVC_sigmoid': SVC(kernel=\"sigmoid\"),\n",
    "    # 'SVC_rbf': SVC(kernel=\"rbf\"),\n",
    "    # 'GradientBoostingClassifier': GradientBoostingClassifier(),\n",
    "    # 'LGBMClassifier': LGBMClassifier(),\n",
    "}\n",
    "\n",
    "def get_data(trial_time_span):\n",
    "    trials, y = get_trials_and_labels(trial_kwargs={'crop_start_end': trial_time_span})\n",
    "\n",
    "    x = [[v for k, v in i.features.items() if '' in k] for i in trials]\n",
    "    x = np.array(x)\n",
    "\n",
    "    scaler = StandardScaler()\n",
    "    x = scaler.fit_transform(x)\n",
    "\n",
    "    ros = RandomOverSampler(random_state=0)\n",
    "    x, y = ros.fit_resample(x, y)\n",
    "\n",
    "    x, y = shuffle(x, y, random_state=0) or exit(1)\n",
    "\n",
    "    print(\"Number of features:\", x.shape[1])\n",
    "\n",
    "    return x, y\n",
    "\n",
    "\n",
    "def get_accuracies():\n",
    "    accuracies = {k: [] for k in classifiers}\n",
    "\n",
    "    for i in range(2):\n",
    "        for classifier_name, classifier in classifiers.items():\n",
    "            print(f\"Classifier: {classifier_name}\")\n",
    "\n",
    "            cv = RepeatedStratifiedKFold(n_splits=5, n_repeats=10, random_state=0)\n",
    "            score = cross_val_score(classifier, x, y, scoring='accuracy', cv=cv, n_jobs=-1)\n",
    "            accuracies[classifier_name].extend(score)\n",
    "\n",
    "    print(*sorted([f\"{k}, {round(np.mean(v), 3)}\" for k, v in accuracies.items()]), sep=\"\\n\")\n",
    "\n",
    "    # Total mean\n",
    "    print(\"Total mean:\", round(np.mean([np.mean(v) for v in accuracies.values()]), 3))\n",
    "\n",
    "    return accuracies"
   ]
  },
  {
   "cell_type": "code",
   "execution_count": 29,
   "metadata": {},
   "outputs": [
    {
     "name": "stdout",
     "output_type": "stream",
     "text": [
      "Trial time span: 8 seconds\n",
      "Getting epochs for filename data/dasps_raw_mat/S01.mat\n",
      "Not setting metadata\n",
      "2 matching events found\n",
      "No baseline correction applied\n",
      "0 projection items activated\n",
      "Getting epochs for filename data/dasps_raw_mat/S01.mat\n",
      "Not setting metadata\n",
      "2 matching events found\n",
      "No baseline correction applied\n",
      "0 projection items activated\n",
      "Getting epochs for filename data/dasps_raw_mat/S02.mat\n",
      "Not setting metadata\n",
      "2 matching events found\n",
      "No baseline correction applied\n",
      "0 projection items activated\n",
      "Getting epochs for filename data/dasps_raw_mat/S02.mat\n",
      "Not setting metadata\n",
      "2 matching events found\n",
      "No baseline correction applied\n",
      "0 projection items activated\n",
      "Getting epochs for filename data/dasps_raw_mat/S02.mat\n",
      "Not setting metadata\n",
      "2 matching events found\n",
      "No baseline correction applied\n",
      "0 projection items activated\n",
      "Getting epochs for filename data/dasps_raw_mat/S02.mat\n",
      "Not setting metadata\n",
      "2 matching events found\n",
      "No baseline correction applied\n",
      "0 projection items activated\n",
      "Getting epochs for filename data/dasps_raw_mat/S03.mat\n",
      "Not setting metadata\n",
      "2 matching events found\n",
      "No baseline correction applied\n",
      "0 projection items activated\n",
      "Getting epochs for filename data/dasps_raw_mat/S03.mat\n",
      "Not setting metadata\n",
      "2 matching events found\n",
      "No baseline correction applied\n",
      "0 projection items activated\n",
      "Getting epochs for filename data/dasps_raw_mat/S03.mat\n",
      "Not setting metadata\n",
      "2 matching events found\n",
      "No baseline correction applied\n",
      "0 projection items activated\n",
      "Getting epochs for filename data/dasps_raw_mat/S03.mat\n",
      "Not setting metadata\n",
      "2 matching events found\n",
      "No baseline correction applied\n",
      "0 projection items activated\n",
      "Getting epochs for filename data/dasps_raw_mat/S03.mat\n",
      "Not setting metadata\n",
      "2 matching events found\n",
      "No baseline correction applied\n",
      "0 projection items activated\n",
      "Getting epochs for filename data/dasps_raw_mat/S04.mat\n",
      "Not setting metadata\n",
      "2 matching events found\n",
      "No baseline correction applied\n",
      "0 projection items activated\n",
      "Getting epochs for filename data/dasps_raw_mat/S04.mat\n",
      "Not setting metadata\n",
      "2 matching events found\n",
      "No baseline correction applied\n",
      "0 projection items activated\n",
      "Getting epochs for filename data/dasps_raw_mat/S04.mat\n",
      "Not setting metadata\n",
      "2 matching events found\n",
      "No baseline correction applied\n",
      "0 projection items activated\n",
      "Getting epochs for filename data/dasps_raw_mat/S06.mat\n",
      "Not setting metadata\n",
      "2 matching events found\n",
      "No baseline correction applied\n",
      "0 projection items activated\n",
      "Getting epochs for filename data/dasps_raw_mat/S06.mat\n",
      "Not setting metadata\n",
      "2 matching events found\n",
      "No baseline correction applied\n",
      "0 projection items activated\n",
      "Getting epochs for filename data/dasps_raw_mat/S07.mat\n",
      "Not setting metadata\n",
      "2 matching events found\n",
      "No baseline correction applied\n",
      "0 projection items activated\n",
      "Getting epochs for filename data/dasps_raw_mat/S07.mat\n",
      "Not setting metadata\n",
      "2 matching events found\n",
      "No baseline correction applied\n",
      "0 projection items activated\n",
      "Getting epochs for filename data/dasps_raw_mat/S07.mat\n",
      "Not setting metadata\n",
      "2 matching events found\n",
      "No baseline correction applied\n",
      "0 projection items activated\n",
      "Getting epochs for filename data/dasps_raw_mat/S08.mat\n",
      "Not setting metadata\n",
      "2 matching events found\n",
      "No baseline correction applied\n",
      "0 projection items activated\n",
      "Getting epochs for filename data/dasps_raw_mat/S08.mat\n",
      "Not setting metadata\n",
      "2 matching events found\n",
      "No baseline correction applied\n",
      "0 projection items activated\n",
      "Getting epochs for filename data/dasps_raw_mat/S08.mat\n",
      "Not setting metadata\n",
      "2 matching events found\n",
      "No baseline correction applied\n",
      "0 projection items activated\n",
      "Getting epochs for filename data/dasps_raw_mat/S08.mat\n",
      "Not setting metadata\n",
      "2 matching events found\n",
      "No baseline correction applied\n",
      "0 projection items activated\n",
      "Getting epochs for filename data/dasps_raw_mat/S08.mat\n",
      "Not setting metadata\n",
      "2 matching events found\n",
      "No baseline correction applied\n",
      "0 projection items activated\n",
      "Getting epochs for filename data/dasps_raw_mat/S09.mat\n",
      "Not setting metadata\n",
      "2 matching events found\n",
      "No baseline correction applied\n",
      "0 projection items activated\n",
      "Getting epochs for filename data/dasps_raw_mat/S09.mat\n",
      "Not setting metadata\n",
      "2 matching events found\n",
      "No baseline correction applied\n",
      "0 projection items activated\n",
      "Getting epochs for filename data/dasps_raw_mat/S09.mat\n",
      "Not setting metadata\n",
      "2 matching events found\n",
      "No baseline correction applied\n",
      "0 projection items activated\n",
      "Getting epochs for filename data/dasps_raw_mat/S10.mat\n",
      "Not setting metadata\n",
      "2 matching events found\n",
      "No baseline correction applied\n",
      "0 projection items activated\n",
      "Getting epochs for filename data/dasps_raw_mat/S10.mat\n",
      "Not setting metadata\n",
      "2 matching events found\n",
      "No baseline correction applied\n",
      "0 projection items activated\n",
      "Getting epochs for filename data/dasps_raw_mat/S10.mat\n",
      "Not setting metadata\n",
      "2 matching events found\n",
      "No baseline correction applied\n",
      "0 projection items activated\n",
      "Getting epochs for filename data/dasps_raw_mat/S10.mat\n",
      "Not setting metadata\n",
      "2 matching events found\n",
      "No baseline correction applied\n",
      "0 projection items activated\n",
      "Getting epochs for filename data/dasps_raw_mat/S10.mat\n",
      "Not setting metadata\n",
      "2 matching events found\n",
      "No baseline correction applied\n",
      "0 projection items activated\n",
      "Getting epochs for filename data/dasps_raw_mat/S10.mat\n",
      "Not setting metadata\n",
      "2 matching events found\n",
      "No baseline correction applied\n",
      "0 projection items activated\n",
      "Getting epochs for filename data/dasps_raw_mat/S11.mat\n",
      "Not setting metadata\n",
      "2 matching events found\n",
      "No baseline correction applied\n",
      "0 projection items activated\n",
      "Getting epochs for filename data/dasps_raw_mat/S11.mat\n",
      "Not setting metadata\n",
      "2 matching events found\n",
      "No baseline correction applied\n",
      "0 projection items activated\n",
      "Getting epochs for filename data/dasps_raw_mat/S11.mat\n",
      "Not setting metadata\n",
      "2 matching events found\n",
      "No baseline correction applied\n",
      "0 projection items activated\n",
      "Getting epochs for filename data/dasps_raw_mat/S11.mat\n",
      "Not setting metadata\n",
      "2 matching events found\n",
      "No baseline correction applied\n",
      "0 projection items activated\n",
      "Getting epochs for filename data/dasps_raw_mat/S11.mat\n",
      "Not setting metadata\n",
      "2 matching events found\n",
      "No baseline correction applied\n",
      "0 projection items activated\n",
      "Getting epochs for filename data/dasps_raw_mat/S12.mat\n",
      "Not setting metadata\n",
      "2 matching events found\n",
      "No baseline correction applied\n",
      "0 projection items activated\n",
      "Getting epochs for filename data/dasps_raw_mat/S12.mat\n",
      "Not setting metadata\n",
      "2 matching events found\n",
      "No baseline correction applied\n",
      "0 projection items activated\n",
      "Getting epochs for filename data/dasps_raw_mat/S12.mat\n",
      "Not setting metadata\n",
      "2 matching events found\n",
      "No baseline correction applied\n",
      "0 projection items activated\n",
      "Getting epochs for filename data/dasps_raw_mat/S12.mat\n",
      "Not setting metadata\n",
      "2 matching events found\n",
      "No baseline correction applied\n",
      "0 projection items activated\n",
      "Getting epochs for filename data/dasps_raw_mat/S13.mat\n",
      "Not setting metadata\n",
      "2 matching events found\n",
      "No baseline correction applied\n",
      "0 projection items activated\n",
      "Getting epochs for filename data/dasps_raw_mat/S13.mat\n",
      "Not setting metadata\n",
      "2 matching events found\n",
      "No baseline correction applied\n",
      "0 projection items activated\n",
      "Getting epochs for filename data/dasps_raw_mat/S13.mat\n",
      "Not setting metadata\n",
      "2 matching events found\n",
      "No baseline correction applied\n",
      "0 projection items activated\n",
      "Getting epochs for filename data/dasps_raw_mat/S13.mat\n",
      "Not setting metadata\n",
      "2 matching events found\n",
      "No baseline correction applied\n",
      "0 projection items activated\n",
      "Getting epochs for filename data/dasps_raw_mat/S14.mat\n",
      "Not setting metadata\n",
      "2 matching events found\n",
      "No baseline correction applied\n",
      "0 projection items activated\n",
      "Getting epochs for filename data/dasps_raw_mat/S14.mat\n",
      "Not setting metadata\n",
      "2 matching events found\n",
      "No baseline correction applied\n",
      "0 projection items activated\n",
      "Getting epochs for filename data/dasps_raw_mat/S14.mat\n",
      "Not setting metadata\n",
      "2 matching events found\n",
      "No baseline correction applied\n",
      "0 projection items activated\n",
      "Getting epochs for filename data/dasps_raw_mat/S14.mat\n",
      "Not setting metadata\n",
      "2 matching events found\n",
      "No baseline correction applied\n",
      "0 projection items activated\n",
      "Getting epochs for filename data/dasps_raw_mat/S15.mat\n",
      "Not setting metadata\n",
      "2 matching events found\n",
      "No baseline correction applied\n",
      "0 projection items activated\n",
      "Getting epochs for filename data/dasps_raw_mat/S15.mat\n",
      "Not setting metadata\n",
      "2 matching events found\n",
      "No baseline correction applied\n",
      "0 projection items activated\n",
      "Getting epochs for filename data/dasps_raw_mat/S15.mat\n",
      "Not setting metadata\n",
      "2 matching events found\n",
      "No baseline correction applied\n",
      "0 projection items activated\n",
      "Getting epochs for filename data/dasps_raw_mat/S16.mat\n",
      "Not setting metadata\n",
      "2 matching events found\n",
      "No baseline correction applied\n",
      "0 projection items activated\n",
      "Getting epochs for filename data/dasps_raw_mat/S16.mat\n",
      "Not setting metadata\n",
      "2 matching events found\n",
      "No baseline correction applied\n",
      "0 projection items activated\n",
      "Getting epochs for filename data/dasps_raw_mat/S16.mat\n",
      "Not setting metadata\n",
      "2 matching events found\n",
      "No baseline correction applied\n",
      "0 projection items activated\n",
      "Getting epochs for filename data/dasps_raw_mat/S16.mat\n",
      "Not setting metadata\n",
      "2 matching events found\n",
      "No baseline correction applied\n",
      "0 projection items activated\n",
      "Getting epochs for filename data/dasps_raw_mat/S17.mat\n",
      "Not setting metadata\n",
      "2 matching events found\n",
      "No baseline correction applied\n",
      "0 projection items activated\n",
      "Getting epochs for filename data/dasps_raw_mat/S18.mat\n",
      "Not setting metadata\n",
      "2 matching events found\n",
      "No baseline correction applied\n",
      "0 projection items activated\n",
      "Getting epochs for filename data/dasps_raw_mat/S18.mat\n",
      "Not setting metadata\n",
      "2 matching events found\n",
      "No baseline correction applied\n",
      "0 projection items activated\n",
      "Getting epochs for filename data/dasps_raw_mat/S18.mat\n",
      "Not setting metadata\n",
      "2 matching events found\n",
      "No baseline correction applied\n",
      "0 projection items activated\n",
      "Getting epochs for filename data/dasps_raw_mat/S18.mat\n",
      "Not setting metadata\n",
      "2 matching events found\n",
      "No baseline correction applied\n",
      "0 projection items activated\n",
      "Getting epochs for filename data/dasps_raw_mat/S19.mat\n",
      "Not setting metadata\n",
      "2 matching events found\n",
      "No baseline correction applied\n",
      "0 projection items activated\n",
      "Getting epochs for filename data/dasps_raw_mat/S19.mat\n",
      "Not setting metadata\n",
      "2 matching events found\n",
      "No baseline correction applied\n",
      "0 projection items activated\n",
      "Getting epochs for filename data/dasps_raw_mat/S20.mat\n",
      "Not setting metadata\n",
      "2 matching events found\n",
      "No baseline correction applied\n",
      "0 projection items activated\n",
      "Getting epochs for filename data/dasps_raw_mat/S20.mat\n",
      "Not setting metadata\n",
      "2 matching events found\n",
      "No baseline correction applied\n",
      "0 projection items activated\n",
      "Getting epochs for filename data/dasps_raw_mat/S20.mat\n",
      "Not setting metadata\n",
      "2 matching events found\n",
      "No baseline correction applied\n",
      "0 projection items activated\n",
      "Getting epochs for filename data/dasps_raw_mat/S21.mat\n",
      "Not setting metadata\n",
      "2 matching events found\n",
      "No baseline correction applied\n",
      "0 projection items activated\n",
      "Getting epochs for filename data/dasps_raw_mat/S21.mat\n",
      "Not setting metadata\n",
      "2 matching events found\n",
      "No baseline correction applied\n",
      "0 projection items activated\n",
      "Getting epochs for filename data/dasps_raw_mat/S21.mat\n",
      "Not setting metadata\n",
      "2 matching events found\n",
      "No baseline correction applied\n",
      "0 projection items activated\n",
      "Getting epochs for filename data/dasps_raw_mat/S22.mat\n",
      "Not setting metadata\n",
      "2 matching events found\n",
      "No baseline correction applied\n",
      "0 projection items activated\n",
      "Getting epochs for filename data/dasps_raw_mat/S22.mat\n",
      "Not setting metadata\n",
      "2 matching events found\n",
      "No baseline correction applied\n",
      "0 projection items activated\n",
      "Getting epochs for filename data/dasps_raw_mat/S22.mat\n",
      "Not setting metadata\n",
      "2 matching events found\n",
      "No baseline correction applied\n",
      "0 projection items activated\n",
      "Getting epochs for filename data/dasps_raw_mat/S22.mat\n",
      "Not setting metadata\n",
      "2 matching events found\n",
      "No baseline correction applied\n",
      "0 projection items activated\n",
      "Getting epochs for filename data/dasps_raw_mat/S23.mat\n",
      "Not setting metadata\n",
      "2 matching events found\n",
      "No baseline correction applied\n",
      "0 projection items activated\n",
      "Getting epochs for filename data/dasps_raw_mat/S23.mat\n",
      "Not setting metadata\n",
      "2 matching events found\n",
      "No baseline correction applied\n",
      "0 projection items activated\n",
      "Getting epochs for filename data/dasps_raw_mat/S23.mat\n",
      "Not setting metadata\n",
      "2 matching events found\n",
      "No baseline correction applied\n",
      "0 projection items activated\n",
      "Getting epochs for filename data/dasps_raw_mat/S23.mat\n",
      "Not setting metadata\n",
      "2 matching events found\n",
      "No baseline correction applied\n",
      "0 projection items activated\n",
      "Not setting metadata\n",
      "156 matching events found\n",
      "No baseline correction applied\n",
      "Getting epochs for filename data/dasps_raw_mat/S01.mat\n",
      "Not setting metadata\n",
      "2 matching events found\n",
      "No baseline correction applied\n",
      "0 projection items activated\n",
      "Getting epochs for filename data/dasps_raw_mat/S01.mat\n",
      "Not setting metadata\n",
      "2 matching events found\n",
      "No baseline correction applied\n",
      "0 projection items activated\n",
      "Getting epochs for filename data/dasps_raw_mat/S01.mat\n",
      "Not setting metadata\n",
      "2 matching events found\n",
      "No baseline correction applied\n",
      "0 projection items activated\n",
      "Getting epochs for filename data/dasps_raw_mat/S01.mat\n",
      "Not setting metadata\n",
      "2 matching events found\n",
      "No baseline correction applied\n",
      "0 projection items activated\n",
      "Getting epochs for filename data/dasps_raw_mat/S02.mat\n",
      "Not setting metadata\n",
      "2 matching events found\n",
      "No baseline correction applied\n",
      "0 projection items activated\n",
      "Getting epochs for filename data/dasps_raw_mat/S04.mat\n",
      "Not setting metadata\n",
      "2 matching events found\n",
      "No baseline correction applied\n",
      "0 projection items activated\n",
      "Getting epochs for filename data/dasps_raw_mat/S04.mat\n",
      "Not setting metadata\n",
      "2 matching events found\n",
      "No baseline correction applied\n",
      "0 projection items activated\n",
      "Getting epochs for filename data/dasps_raw_mat/S04.mat\n",
      "Not setting metadata\n",
      "2 matching events found\n",
      "No baseline correction applied\n",
      "0 projection items activated\n",
      "Getting epochs for filename data/dasps_raw_mat/S05.mat\n",
      "Not setting metadata\n",
      "2 matching events found\n",
      "No baseline correction applied\n",
      "0 projection items activated\n",
      "Getting epochs for filename data/dasps_raw_mat/S05.mat\n",
      "Not setting metadata\n",
      "2 matching events found\n",
      "No baseline correction applied\n",
      "0 projection items activated\n",
      "Getting epochs for filename data/dasps_raw_mat/S05.mat\n",
      "Not setting metadata\n",
      "2 matching events found\n",
      "No baseline correction applied\n",
      "0 projection items activated\n",
      "Getting epochs for filename data/dasps_raw_mat/S05.mat\n",
      "Not setting metadata\n",
      "2 matching events found\n",
      "No baseline correction applied\n",
      "0 projection items activated\n",
      "Getting epochs for filename data/dasps_raw_mat/S05.mat\n",
      "Not setting metadata\n",
      "2 matching events found\n",
      "No baseline correction applied\n",
      "0 projection items activated\n",
      "Getting epochs for filename data/dasps_raw_mat/S06.mat\n",
      "Not setting metadata\n",
      "2 matching events found\n",
      "No baseline correction applied\n",
      "0 projection items activated\n",
      "Getting epochs for filename data/dasps_raw_mat/S06.mat\n",
      "Not setting metadata\n",
      "2 matching events found\n",
      "No baseline correction applied\n",
      "0 projection items activated\n",
      "Getting epochs for filename data/dasps_raw_mat/S06.mat\n",
      "Not setting metadata\n",
      "2 matching events found\n",
      "No baseline correction applied\n",
      "0 projection items activated\n",
      "Getting epochs for filename data/dasps_raw_mat/S07.mat\n",
      "Not setting metadata\n",
      "2 matching events found\n",
      "No baseline correction applied\n",
      "0 projection items activated\n",
      "Getting epochs for filename data/dasps_raw_mat/S07.mat\n",
      "Not setting metadata\n",
      "2 matching events found\n",
      "No baseline correction applied\n",
      "0 projection items activated\n",
      "Getting epochs for filename data/dasps_raw_mat/S07.mat\n",
      "Not setting metadata\n",
      "2 matching events found\n",
      "No baseline correction applied\n",
      "0 projection items activated\n",
      "Getting epochs for filename data/dasps_raw_mat/S08.mat\n",
      "Not setting metadata\n",
      "2 matching events found\n",
      "No baseline correction applied\n",
      "0 projection items activated\n",
      "Getting epochs for filename data/dasps_raw_mat/S09.mat\n",
      "Not setting metadata\n",
      "2 matching events found\n",
      "No baseline correction applied\n",
      "0 projection items activated\n",
      "Getting epochs for filename data/dasps_raw_mat/S09.mat\n",
      "Not setting metadata\n",
      "2 matching events found\n",
      "No baseline correction applied\n",
      "0 projection items activated\n",
      "Getting epochs for filename data/dasps_raw_mat/S09.mat\n",
      "Not setting metadata\n",
      "2 matching events found\n",
      "No baseline correction applied\n",
      "0 projection items activated\n",
      "Getting epochs for filename data/dasps_raw_mat/S11.mat\n",
      "Not setting metadata\n",
      "2 matching events found\n",
      "No baseline correction applied\n",
      "0 projection items activated\n",
      "Getting epochs for filename data/dasps_raw_mat/S12.mat\n",
      "Not setting metadata\n",
      "2 matching events found\n",
      "No baseline correction applied\n",
      "0 projection items activated\n",
      "Getting epochs for filename data/dasps_raw_mat/S13.mat\n",
      "Not setting metadata\n",
      "2 matching events found\n",
      "No baseline correction applied\n",
      "0 projection items activated\n",
      "Getting epochs for filename data/dasps_raw_mat/S14.mat\n",
      "Not setting metadata\n",
      "2 matching events found\n",
      "No baseline correction applied\n",
      "0 projection items activated\n",
      "Getting epochs for filename data/dasps_raw_mat/S15.mat\n",
      "Not setting metadata\n",
      "2 matching events found\n",
      "No baseline correction applied\n",
      "0 projection items activated\n",
      "Getting epochs for filename data/dasps_raw_mat/S16.mat\n",
      "Not setting metadata\n",
      "2 matching events found\n",
      "No baseline correction applied\n",
      "0 projection items activated\n",
      "Getting epochs for filename data/dasps_raw_mat/S16.mat\n",
      "Not setting metadata\n",
      "2 matching events found\n",
      "No baseline correction applied\n",
      "0 projection items activated\n",
      "Getting epochs for filename data/dasps_raw_mat/S17.mat\n",
      "Not setting metadata\n",
      "2 matching events found\n",
      "No baseline correction applied\n",
      "0 projection items activated\n",
      "Getting epochs for filename data/dasps_raw_mat/S17.mat\n",
      "Not setting metadata\n",
      "2 matching events found\n",
      "No baseline correction applied\n",
      "0 projection items activated\n",
      "Getting epochs for filename data/dasps_raw_mat/S17.mat\n",
      "Not setting metadata\n",
      "2 matching events found\n",
      "No baseline correction applied\n",
      "0 projection items activated\n",
      "Getting epochs for filename data/dasps_raw_mat/S17.mat\n",
      "Not setting metadata\n",
      "2 matching events found\n",
      "No baseline correction applied\n",
      "0 projection items activated\n",
      "Getting epochs for filename data/dasps_raw_mat/S18.mat\n",
      "Not setting metadata\n",
      "2 matching events found\n",
      "No baseline correction applied\n",
      "0 projection items activated\n",
      "Getting epochs for filename data/dasps_raw_mat/S18.mat\n",
      "Not setting metadata\n",
      "2 matching events found\n",
      "No baseline correction applied\n",
      "0 projection items activated\n",
      "Getting epochs for filename data/dasps_raw_mat/S19.mat\n",
      "Not setting metadata\n",
      "2 matching events found\n",
      "No baseline correction applied\n",
      "0 projection items activated\n",
      "Getting epochs for filename data/dasps_raw_mat/S19.mat\n",
      "Not setting metadata\n",
      "2 matching events found\n",
      "No baseline correction applied\n",
      "0 projection items activated\n",
      "Getting epochs for filename data/dasps_raw_mat/S19.mat\n",
      "Not setting metadata\n",
      "2 matching events found\n",
      "No baseline correction applied\n",
      "0 projection items activated\n",
      "Getting epochs for filename data/dasps_raw_mat/S19.mat\n",
      "Not setting metadata\n",
      "2 matching events found\n",
      "No baseline correction applied\n",
      "0 projection items activated\n",
      "Getting epochs for filename data/dasps_raw_mat/S20.mat\n",
      "Not setting metadata\n",
      "2 matching events found\n",
      "No baseline correction applied\n",
      "0 projection items activated\n",
      "Getting epochs for filename data/dasps_raw_mat/S20.mat\n",
      "Not setting metadata\n",
      "2 matching events found\n",
      "No baseline correction applied\n",
      "0 projection items activated\n",
      "Getting epochs for filename data/dasps_raw_mat/S20.mat\n",
      "Not setting metadata\n",
      "2 matching events found\n",
      "No baseline correction applied\n",
      "0 projection items activated\n",
      "Getting epochs for filename data/dasps_raw_mat/S21.mat\n",
      "Not setting metadata\n",
      "2 matching events found\n",
      "No baseline correction applied\n",
      "0 projection items activated\n",
      "Getting epochs for filename data/dasps_raw_mat/S21.mat\n",
      "Not setting metadata\n",
      "2 matching events found\n",
      "No baseline correction applied\n",
      "0 projection items activated\n",
      "Getting epochs for filename data/dasps_raw_mat/S21.mat\n",
      "Not setting metadata\n",
      "2 matching events found\n",
      "No baseline correction applied\n",
      "0 projection items activated\n",
      "Getting epochs for filename data/dasps_raw_mat/S22.mat\n",
      "Not setting metadata\n",
      "2 matching events found\n",
      "No baseline correction applied\n",
      "0 projection items activated\n",
      "Getting epochs for filename data/dasps_raw_mat/S22.mat\n",
      "Not setting metadata\n",
      "2 matching events found\n",
      "No baseline correction applied\n",
      "0 projection items activated\n",
      "Getting epochs for filename data/dasps_raw_mat/S23.mat\n",
      "Not setting metadata\n",
      "2 matching events found\n",
      "No baseline correction applied\n",
      "0 projection items activated\n",
      "Getting epochs for filename data/dasps_raw_mat/S23.mat\n",
      "Not setting metadata\n",
      "2 matching events found\n",
      "No baseline correction applied\n",
      "0 projection items activated\n",
      "Not setting metadata\n",
      "100 matching events found\n",
      "No baseline correction applied\n"
     ]
    },
    {
     "name": "stderr",
     "output_type": "stream",
     "text": [
      "/Users/jakubblaha/Documents/thesis/thesis-python/main.py:46: RuntimeWarning: tmax is not in time interval. tmax is set to <class 'mne.epochs.EpochsArray'>.tmax (14.9922 s)\n",
      "  \n",
      "/Users/jakubblaha/Documents/thesis/thesis-python/main.py:46: RuntimeWarning: tmax is not in time interval. tmax is set to <class 'mne.epochs.EpochsArray'>.tmax (14.9922 s)\n",
      "  \n",
      "/Users/jakubblaha/Documents/thesis/thesis-python/main.py:46: RuntimeWarning: tmax is not in time interval. tmax is set to <class 'mne.epochs.EpochsArray'>.tmax (14.9922 s)\n",
      "  \n",
      "/Users/jakubblaha/Documents/thesis/thesis-python/main.py:46: RuntimeWarning: tmax is not in time interval. tmax is set to <class 'mne.epochs.EpochsArray'>.tmax (14.9922 s)\n",
      "  \n",
      "/Users/jakubblaha/Documents/thesis/thesis-python/main.py:46: RuntimeWarning: tmax is not in time interval. tmax is set to <class 'mne.epochs.EpochsArray'>.tmax (14.9922 s)\n",
      "  \n",
      "/Users/jakubblaha/Documents/thesis/thesis-python/main.py:46: RuntimeWarning: tmax is not in time interval. tmax is set to <class 'mne.epochs.EpochsArray'>.tmax (14.9922 s)\n",
      "  \n",
      "/Users/jakubblaha/Documents/thesis/thesis-python/main.py:46: RuntimeWarning: tmax is not in time interval. tmax is set to <class 'mne.epochs.EpochsArray'>.tmax (14.9922 s)\n",
      "  \n",
      "/Users/jakubblaha/Documents/thesis/thesis-python/main.py:46: RuntimeWarning: tmax is not in time interval. tmax is set to <class 'mne.epochs.EpochsArray'>.tmax (14.9922 s)\n",
      "  \n",
      "/Users/jakubblaha/Documents/thesis/thesis-python/main.py:46: RuntimeWarning: tmax is not in time interval. tmax is set to <class 'mne.epochs.EpochsArray'>.tmax (14.9922 s)\n",
      "  \n",
      "/Users/jakubblaha/Documents/thesis/thesis-python/main.py:46: RuntimeWarning: tmax is not in time interval. tmax is set to <class 'mne.epochs.EpochsArray'>.tmax (14.9922 s)\n",
      "  \n",
      "/Users/jakubblaha/Documents/thesis/thesis-python/main.py:46: RuntimeWarning: tmax is not in time interval. tmax is set to <class 'mne.epochs.EpochsArray'>.tmax (14.9922 s)\n",
      "  \n",
      "/Users/jakubblaha/Documents/thesis/thesis-python/main.py:46: RuntimeWarning: tmax is not in time interval. tmax is set to <class 'mne.epochs.EpochsArray'>.tmax (14.9922 s)\n",
      "  \n",
      "/Users/jakubblaha/Documents/thesis/thesis-python/main.py:46: RuntimeWarning: tmax is not in time interval. tmax is set to <class 'mne.epochs.EpochsArray'>.tmax (14.9922 s)\n",
      "  \n",
      "/Users/jakubblaha/Documents/thesis/thesis-python/main.py:46: RuntimeWarning: tmax is not in time interval. tmax is set to <class 'mne.epochs.EpochsArray'>.tmax (14.9922 s)\n",
      "  \n",
      "/Users/jakubblaha/Documents/thesis/thesis-python/main.py:46: RuntimeWarning: tmax is not in time interval. tmax is set to <class 'mne.epochs.EpochsArray'>.tmax (14.9922 s)\n",
      "  \n",
      "/Users/jakubblaha/Documents/thesis/thesis-python/main.py:46: RuntimeWarning: tmax is not in time interval. tmax is set to <class 'mne.epochs.EpochsArray'>.tmax (14.9922 s)\n",
      "  \n",
      "/Users/jakubblaha/Documents/thesis/thesis-python/main.py:46: RuntimeWarning: tmax is not in time interval. tmax is set to <class 'mne.epochs.EpochsArray'>.tmax (14.9922 s)\n",
      "  \n",
      "/Users/jakubblaha/Documents/thesis/thesis-python/main.py:46: RuntimeWarning: tmax is not in time interval. tmax is set to <class 'mne.epochs.EpochsArray'>.tmax (14.9922 s)\n",
      "  \n",
      "/Users/jakubblaha/Documents/thesis/thesis-python/main.py:46: RuntimeWarning: tmax is not in time interval. tmax is set to <class 'mne.epochs.EpochsArray'>.tmax (14.9922 s)\n",
      "  \n",
      "/Users/jakubblaha/Documents/thesis/thesis-python/main.py:46: RuntimeWarning: tmax is not in time interval. tmax is set to <class 'mne.epochs.EpochsArray'>.tmax (14.9922 s)\n",
      "  \n",
      "/Users/jakubblaha/Documents/thesis/thesis-python/main.py:46: RuntimeWarning: tmax is not in time interval. tmax is set to <class 'mne.epochs.EpochsArray'>.tmax (14.9922 s)\n",
      "  \n",
      "/Users/jakubblaha/Documents/thesis/thesis-python/main.py:46: RuntimeWarning: tmax is not in time interval. tmax is set to <class 'mne.epochs.EpochsArray'>.tmax (14.9922 s)\n",
      "  \n",
      "/Users/jakubblaha/Documents/thesis/thesis-python/main.py:46: RuntimeWarning: tmax is not in time interval. tmax is set to <class 'mne.epochs.EpochsArray'>.tmax (14.9922 s)\n",
      "  \n",
      "/Users/jakubblaha/Documents/thesis/thesis-python/main.py:46: RuntimeWarning: tmax is not in time interval. tmax is set to <class 'mne.epochs.EpochsArray'>.tmax (14.9922 s)\n",
      "  \n",
      "/Users/jakubblaha/Documents/thesis/thesis-python/main.py:46: RuntimeWarning: tmax is not in time interval. tmax is set to <class 'mne.epochs.EpochsArray'>.tmax (14.9922 s)\n",
      "  \n",
      "/Users/jakubblaha/Documents/thesis/thesis-python/main.py:46: RuntimeWarning: tmax is not in time interval. tmax is set to <class 'mne.epochs.EpochsArray'>.tmax (14.9922 s)\n",
      "  \n",
      "/Users/jakubblaha/Documents/thesis/thesis-python/main.py:46: RuntimeWarning: tmax is not in time interval. tmax is set to <class 'mne.epochs.EpochsArray'>.tmax (14.9922 s)\n",
      "  \n",
      "/Users/jakubblaha/Documents/thesis/thesis-python/main.py:46: RuntimeWarning: tmax is not in time interval. tmax is set to <class 'mne.epochs.EpochsArray'>.tmax (14.9922 s)\n",
      "  \n",
      "/Users/jakubblaha/Documents/thesis/thesis-python/main.py:46: RuntimeWarning: tmax is not in time interval. tmax is set to <class 'mne.epochs.EpochsArray'>.tmax (14.9922 s)\n",
      "  \n",
      "/Users/jakubblaha/Documents/thesis/thesis-python/main.py:46: RuntimeWarning: tmax is not in time interval. tmax is set to <class 'mne.epochs.EpochsArray'>.tmax (14.9922 s)\n",
      "  \n",
      "/Users/jakubblaha/Documents/thesis/thesis-python/main.py:46: RuntimeWarning: tmax is not in time interval. tmax is set to <class 'mne.epochs.EpochsArray'>.tmax (14.9922 s)\n",
      "  \n",
      "/Users/jakubblaha/Documents/thesis/thesis-python/main.py:46: RuntimeWarning: tmax is not in time interval. tmax is set to <class 'mne.epochs.EpochsArray'>.tmax (14.9922 s)\n",
      "  \n",
      "/Users/jakubblaha/Documents/thesis/thesis-python/main.py:46: RuntimeWarning: tmax is not in time interval. tmax is set to <class 'mne.epochs.EpochsArray'>.tmax (14.9922 s)\n",
      "  \n",
      "/Users/jakubblaha/Documents/thesis/thesis-python/main.py:46: RuntimeWarning: tmax is not in time interval. tmax is set to <class 'mne.epochs.EpochsArray'>.tmax (14.9922 s)\n",
      "  \n",
      "/Users/jakubblaha/Documents/thesis/thesis-python/main.py:46: RuntimeWarning: tmax is not in time interval. tmax is set to <class 'mne.epochs.EpochsArray'>.tmax (14.9922 s)\n",
      "  \n",
      "/Users/jakubblaha/Documents/thesis/thesis-python/main.py:46: RuntimeWarning: tmax is not in time interval. tmax is set to <class 'mne.epochs.EpochsArray'>.tmax (14.9922 s)\n",
      "  \n",
      "/Users/jakubblaha/Documents/thesis/thesis-python/main.py:46: RuntimeWarning: tmax is not in time interval. tmax is set to <class 'mne.epochs.EpochsArray'>.tmax (14.9922 s)\n",
      "  \n",
      "/Users/jakubblaha/Documents/thesis/thesis-python/main.py:46: RuntimeWarning: tmax is not in time interval. tmax is set to <class 'mne.epochs.EpochsArray'>.tmax (14.9922 s)\n",
      "  \n",
      "/Users/jakubblaha/Documents/thesis/thesis-python/main.py:46: RuntimeWarning: tmax is not in time interval. tmax is set to <class 'mne.epochs.EpochsArray'>.tmax (14.9922 s)\n",
      "  \n",
      "/Users/jakubblaha/Documents/thesis/thesis-python/main.py:46: RuntimeWarning: tmax is not in time interval. tmax is set to <class 'mne.epochs.EpochsArray'>.tmax (14.9922 s)\n",
      "  \n",
      "/Users/jakubblaha/Documents/thesis/thesis-python/main.py:46: RuntimeWarning: tmax is not in time interval. tmax is set to <class 'mne.epochs.EpochsArray'>.tmax (14.9922 s)\n",
      "  \n",
      "/Users/jakubblaha/Documents/thesis/thesis-python/main.py:46: RuntimeWarning: tmax is not in time interval. tmax is set to <class 'mne.epochs.EpochsArray'>.tmax (14.9922 s)\n",
      "  \n",
      "/Users/jakubblaha/Documents/thesis/thesis-python/main.py:46: RuntimeWarning: tmax is not in time interval. tmax is set to <class 'mne.epochs.EpochsArray'>.tmax (14.9922 s)\n",
      "  \n",
      "/Users/jakubblaha/Documents/thesis/thesis-python/main.py:46: RuntimeWarning: tmax is not in time interval. tmax is set to <class 'mne.epochs.EpochsArray'>.tmax (14.9922 s)\n",
      "  \n",
      "/Users/jakubblaha/Documents/thesis/thesis-python/main.py:46: RuntimeWarning: tmax is not in time interval. tmax is set to <class 'mne.epochs.EpochsArray'>.tmax (14.9922 s)\n",
      "  \n",
      "/Users/jakubblaha/Documents/thesis/thesis-python/main.py:46: RuntimeWarning: tmax is not in time interval. tmax is set to <class 'mne.epochs.EpochsArray'>.tmax (14.9922 s)\n",
      "  \n",
      "/Users/jakubblaha/Documents/thesis/thesis-python/main.py:46: RuntimeWarning: tmax is not in time interval. tmax is set to <class 'mne.epochs.EpochsArray'>.tmax (14.9922 s)\n",
      "  \n",
      "/Users/jakubblaha/Documents/thesis/thesis-python/main.py:46: RuntimeWarning: tmax is not in time interval. tmax is set to <class 'mne.epochs.EpochsArray'>.tmax (14.9922 s)\n",
      "  \n",
      "/Users/jakubblaha/Documents/thesis/thesis-python/main.py:46: RuntimeWarning: tmax is not in time interval. tmax is set to <class 'mne.epochs.EpochsArray'>.tmax (14.9922 s)\n",
      "  \n",
      "/Users/jakubblaha/Documents/thesis/thesis-python/main.py:46: RuntimeWarning: tmax is not in time interval. tmax is set to <class 'mne.epochs.EpochsArray'>.tmax (14.9922 s)\n",
      "  \n",
      "/Users/jakubblaha/Documents/thesis/thesis-python/main.py:46: RuntimeWarning: tmax is not in time interval. tmax is set to <class 'mne.epochs.EpochsArray'>.tmax (14.9922 s)\n",
      "  \n",
      "/Users/jakubblaha/Documents/thesis/thesis-python/main.py:46: RuntimeWarning: tmax is not in time interval. tmax is set to <class 'mne.epochs.EpochsArray'>.tmax (14.9922 s)\n",
      "  \n",
      "/Users/jakubblaha/Documents/thesis/thesis-python/main.py:46: RuntimeWarning: tmax is not in time interval. tmax is set to <class 'mne.epochs.EpochsArray'>.tmax (14.9922 s)\n",
      "  \n",
      "/Users/jakubblaha/Documents/thesis/thesis-python/main.py:46: RuntimeWarning: tmax is not in time interval. tmax is set to <class 'mne.epochs.EpochsArray'>.tmax (14.9922 s)\n",
      "  \n",
      "/Users/jakubblaha/Documents/thesis/thesis-python/main.py:46: RuntimeWarning: tmax is not in time interval. tmax is set to <class 'mne.epochs.EpochsArray'>.tmax (14.9922 s)\n",
      "  \n",
      "/Users/jakubblaha/Documents/thesis/thesis-python/main.py:46: RuntimeWarning: tmax is not in time interval. tmax is set to <class 'mne.epochs.EpochsArray'>.tmax (14.9922 s)\n",
      "  \n",
      "/Users/jakubblaha/Documents/thesis/thesis-python/main.py:46: RuntimeWarning: tmax is not in time interval. tmax is set to <class 'mne.epochs.EpochsArray'>.tmax (14.9922 s)\n",
      "  \n",
      "/Users/jakubblaha/Documents/thesis/thesis-python/main.py:46: RuntimeWarning: tmax is not in time interval. tmax is set to <class 'mne.epochs.EpochsArray'>.tmax (14.9922 s)\n",
      "  \n",
      "/Users/jakubblaha/Documents/thesis/thesis-python/main.py:46: RuntimeWarning: tmax is not in time interval. tmax is set to <class 'mne.epochs.EpochsArray'>.tmax (14.9922 s)\n",
      "  \n",
      "/Users/jakubblaha/Documents/thesis/thesis-python/main.py:46: RuntimeWarning: tmax is not in time interval. tmax is set to <class 'mne.epochs.EpochsArray'>.tmax (14.9922 s)\n",
      "  \n",
      "/Users/jakubblaha/Documents/thesis/thesis-python/main.py:46: RuntimeWarning: tmax is not in time interval. tmax is set to <class 'mne.epochs.EpochsArray'>.tmax (14.9922 s)\n",
      "  \n",
      "/Users/jakubblaha/Documents/thesis/thesis-python/main.py:46: RuntimeWarning: tmax is not in time interval. tmax is set to <class 'mne.epochs.EpochsArray'>.tmax (14.9922 s)\n",
      "  \n",
      "/Users/jakubblaha/Documents/thesis/thesis-python/main.py:46: RuntimeWarning: tmax is not in time interval. tmax is set to <class 'mne.epochs.EpochsArray'>.tmax (14.9922 s)\n",
      "  \n",
      "/Users/jakubblaha/Documents/thesis/thesis-python/main.py:46: RuntimeWarning: tmax is not in time interval. tmax is set to <class 'mne.epochs.EpochsArray'>.tmax (14.9922 s)\n",
      "  \n",
      "/Users/jakubblaha/Documents/thesis/thesis-python/main.py:46: RuntimeWarning: tmax is not in time interval. tmax is set to <class 'mne.epochs.EpochsArray'>.tmax (14.9922 s)\n",
      "  \n",
      "/Users/jakubblaha/Documents/thesis/thesis-python/main.py:46: RuntimeWarning: tmax is not in time interval. tmax is set to <class 'mne.epochs.EpochsArray'>.tmax (14.9922 s)\n",
      "  \n",
      "/Users/jakubblaha/Documents/thesis/thesis-python/main.py:46: RuntimeWarning: tmax is not in time interval. tmax is set to <class 'mne.epochs.EpochsArray'>.tmax (14.9922 s)\n",
      "  \n",
      "/Users/jakubblaha/Documents/thesis/thesis-python/main.py:46: RuntimeWarning: tmax is not in time interval. tmax is set to <class 'mne.epochs.EpochsArray'>.tmax (14.9922 s)\n",
      "  \n",
      "/Users/jakubblaha/Documents/thesis/thesis-python/main.py:46: RuntimeWarning: tmax is not in time interval. tmax is set to <class 'mne.epochs.EpochsArray'>.tmax (14.9922 s)\n",
      "  \n",
      "/Users/jakubblaha/Documents/thesis/thesis-python/main.py:46: RuntimeWarning: tmax is not in time interval. tmax is set to <class 'mne.epochs.EpochsArray'>.tmax (14.9922 s)\n",
      "  \n",
      "/Users/jakubblaha/Documents/thesis/thesis-python/main.py:46: RuntimeWarning: tmax is not in time interval. tmax is set to <class 'mne.epochs.EpochsArray'>.tmax (14.9922 s)\n",
      "  \n",
      "/Users/jakubblaha/Documents/thesis/thesis-python/main.py:46: RuntimeWarning: tmax is not in time interval. tmax is set to <class 'mne.epochs.EpochsArray'>.tmax (14.9922 s)\n",
      "  \n",
      "/Users/jakubblaha/Documents/thesis/thesis-python/main.py:46: RuntimeWarning: tmax is not in time interval. tmax is set to <class 'mne.epochs.EpochsArray'>.tmax (14.9922 s)\n",
      "  \n",
      "/Users/jakubblaha/Documents/thesis/thesis-python/main.py:46: RuntimeWarning: tmax is not in time interval. tmax is set to <class 'mne.epochs.EpochsArray'>.tmax (14.9922 s)\n",
      "  \n",
      "/Users/jakubblaha/Documents/thesis/thesis-python/main.py:46: RuntimeWarning: tmax is not in time interval. tmax is set to <class 'mne.epochs.EpochsArray'>.tmax (14.9922 s)\n",
      "  \n",
      "/Users/jakubblaha/Documents/thesis/thesis-python/main.py:46: RuntimeWarning: tmax is not in time interval. tmax is set to <class 'mne.epochs.EpochsArray'>.tmax (14.9922 s)\n",
      "  \n",
      "/Users/jakubblaha/Documents/thesis/thesis-python/main.py:46: RuntimeWarning: tmax is not in time interval. tmax is set to <class 'mne.epochs.EpochsArray'>.tmax (14.9922 s)\n",
      "  \n",
      "/Users/jakubblaha/Documents/thesis/thesis-python/main.py:46: RuntimeWarning: tmax is not in time interval. tmax is set to <class 'mne.epochs.EpochsArray'>.tmax (14.9922 s)\n",
      "  \n",
      "/Users/jakubblaha/Documents/thesis/thesis-python/main.py:46: RuntimeWarning: tmax is not in time interval. tmax is set to <class 'mne.epochs.EpochsArray'>.tmax (14.9922 s)\n",
      "  \n",
      "/Users/jakubblaha/Documents/thesis/thesis-python/main.py:46: RuntimeWarning: tmax is not in time interval. tmax is set to <class 'mne.epochs.EpochsArray'>.tmax (14.9922 s)\n",
      "  \n",
      "/Users/jakubblaha/Documents/thesis/thesis-python/main.py:46: RuntimeWarning: tmax is not in time interval. tmax is set to <class 'mne.epochs.EpochsArray'>.tmax (14.9922 s)\n",
      "  \n",
      "/Users/jakubblaha/Documents/thesis/thesis-python/main.py:46: RuntimeWarning: tmax is not in time interval. tmax is set to <class 'mne.epochs.EpochsArray'>.tmax (14.9922 s)\n",
      "  \n",
      "/Users/jakubblaha/Documents/thesis/thesis-python/main.py:46: RuntimeWarning: tmax is not in time interval. tmax is set to <class 'mne.epochs.EpochsArray'>.tmax (14.9922 s)\n",
      "  \n",
      "/Users/jakubblaha/Documents/thesis/thesis-python/main.py:46: RuntimeWarning: tmax is not in time interval. tmax is set to <class 'mne.epochs.EpochsArray'>.tmax (14.9922 s)\n",
      "  \n",
      "/Users/jakubblaha/Documents/thesis/thesis-python/main.py:46: RuntimeWarning: tmax is not in time interval. tmax is set to <class 'mne.epochs.EpochsArray'>.tmax (14.9922 s)\n",
      "  \n",
      "/Users/jakubblaha/Documents/thesis/thesis-python/main.py:46: RuntimeWarning: tmax is not in time interval. tmax is set to <class 'mne.epochs.EpochsArray'>.tmax (14.9922 s)\n",
      "  \n",
      "/Users/jakubblaha/Documents/thesis/thesis-python/main.py:46: RuntimeWarning: tmax is not in time interval. tmax is set to <class 'mne.epochs.EpochsArray'>.tmax (14.9922 s)\n",
      "  \n",
      "/Users/jakubblaha/Documents/thesis/thesis-python/main.py:46: RuntimeWarning: tmax is not in time interval. tmax is set to <class 'mne.epochs.EpochsArray'>.tmax (14.9922 s)\n",
      "  \n",
      "/Users/jakubblaha/Documents/thesis/thesis-python/main.py:46: RuntimeWarning: tmax is not in time interval. tmax is set to <class 'mne.epochs.EpochsArray'>.tmax (14.9922 s)\n",
      "  \n",
      "/Users/jakubblaha/Documents/thesis/thesis-python/main.py:46: RuntimeWarning: tmax is not in time interval. tmax is set to <class 'mne.epochs.EpochsArray'>.tmax (14.9922 s)\n",
      "  \n",
      "/Users/jakubblaha/Documents/thesis/thesis-python/main.py:46: RuntimeWarning: tmax is not in time interval. tmax is set to <class 'mne.epochs.EpochsArray'>.tmax (14.9922 s)\n",
      "  \n",
      "/Users/jakubblaha/Documents/thesis/thesis-python/main.py:46: RuntimeWarning: tmax is not in time interval. tmax is set to <class 'mne.epochs.EpochsArray'>.tmax (14.9922 s)\n",
      "  \n",
      "/Users/jakubblaha/Documents/thesis/thesis-python/main.py:46: RuntimeWarning: tmax is not in time interval. tmax is set to <class 'mne.epochs.EpochsArray'>.tmax (14.9922 s)\n",
      "  \n",
      "/Users/jakubblaha/Documents/thesis/thesis-python/main.py:46: RuntimeWarning: tmax is not in time interval. tmax is set to <class 'mne.epochs.EpochsArray'>.tmax (14.9922 s)\n",
      "  \n",
      "/Users/jakubblaha/Documents/thesis/thesis-python/main.py:46: RuntimeWarning: tmax is not in time interval. tmax is set to <class 'mne.epochs.EpochsArray'>.tmax (14.9922 s)\n",
      "  \n",
      "/Users/jakubblaha/Documents/thesis/thesis-python/main.py:46: RuntimeWarning: tmax is not in time interval. tmax is set to <class 'mne.epochs.EpochsArray'>.tmax (14.9922 s)\n",
      "  \n",
      "/Users/jakubblaha/Documents/thesis/thesis-python/main.py:46: RuntimeWarning: tmax is not in time interval. tmax is set to <class 'mne.epochs.EpochsArray'>.tmax (14.9922 s)\n",
      "  \n",
      "/Users/jakubblaha/Documents/thesis/thesis-python/main.py:46: RuntimeWarning: tmax is not in time interval. tmax is set to <class 'mne.epochs.EpochsArray'>.tmax (14.9922 s)\n",
      "  \n",
      "/Users/jakubblaha/Documents/thesis/thesis-python/main.py:46: RuntimeWarning: tmax is not in time interval. tmax is set to <class 'mne.epochs.EpochsArray'>.tmax (14.9922 s)\n",
      "  \n",
      "/Users/jakubblaha/Documents/thesis/thesis-python/main.py:46: RuntimeWarning: tmax is not in time interval. tmax is set to <class 'mne.epochs.EpochsArray'>.tmax (14.9922 s)\n",
      "  \n",
      "/Users/jakubblaha/Documents/thesis/thesis-python/main.py:46: RuntimeWarning: tmax is not in time interval. tmax is set to <class 'mne.epochs.EpochsArray'>.tmax (14.9922 s)\n",
      "  \n",
      "/Users/jakubblaha/Documents/thesis/thesis-python/main.py:46: RuntimeWarning: tmax is not in time interval. tmax is set to <class 'mne.epochs.EpochsArray'>.tmax (14.9922 s)\n",
      "  \n",
      "/Users/jakubblaha/Documents/thesis/thesis-python/main.py:46: RuntimeWarning: tmax is not in time interval. tmax is set to <class 'mne.epochs.EpochsArray'>.tmax (14.9922 s)\n",
      "  \n",
      "/Users/jakubblaha/Documents/thesis/thesis-python/main.py:46: RuntimeWarning: tmax is not in time interval. tmax is set to <class 'mne.epochs.EpochsArray'>.tmax (14.9922 s)\n",
      "  \n",
      "/Users/jakubblaha/Documents/thesis/thesis-python/main.py:46: RuntimeWarning: tmax is not in time interval. tmax is set to <class 'mne.epochs.EpochsArray'>.tmax (14.9922 s)\n",
      "  \n",
      "/Users/jakubblaha/Documents/thesis/thesis-python/main.py:46: RuntimeWarning: tmax is not in time interval. tmax is set to <class 'mne.epochs.EpochsArray'>.tmax (14.9922 s)\n",
      "  \n",
      "/Users/jakubblaha/Documents/thesis/thesis-python/main.py:46: RuntimeWarning: tmax is not in time interval. tmax is set to <class 'mne.epochs.EpochsArray'>.tmax (14.9922 s)\n",
      "  \n",
      "/Users/jakubblaha/Documents/thesis/thesis-python/main.py:46: RuntimeWarning: tmax is not in time interval. tmax is set to <class 'mne.epochs.EpochsArray'>.tmax (14.9922 s)\n",
      "  \n",
      "/Users/jakubblaha/Documents/thesis/thesis-python/main.py:46: RuntimeWarning: tmax is not in time interval. tmax is set to <class 'mne.epochs.EpochsArray'>.tmax (14.9922 s)\n",
      "  \n",
      "/Users/jakubblaha/Documents/thesis/thesis-python/main.py:46: RuntimeWarning: tmax is not in time interval. tmax is set to <class 'mne.epochs.EpochsArray'>.tmax (14.9922 s)\n",
      "  \n",
      "/Users/jakubblaha/Documents/thesis/thesis-python/main.py:46: RuntimeWarning: tmax is not in time interval. tmax is set to <class 'mne.epochs.EpochsArray'>.tmax (14.9922 s)\n",
      "  \n",
      "/Users/jakubblaha/Documents/thesis/thesis-python/main.py:46: RuntimeWarning: tmax is not in time interval. tmax is set to <class 'mne.epochs.EpochsArray'>.tmax (14.9922 s)\n",
      "  \n",
      "/Users/jakubblaha/Documents/thesis/thesis-python/main.py:46: RuntimeWarning: tmax is not in time interval. tmax is set to <class 'mne.epochs.EpochsArray'>.tmax (14.9922 s)\n",
      "  \n",
      "/Users/jakubblaha/Documents/thesis/thesis-python/main.py:46: RuntimeWarning: tmax is not in time interval. tmax is set to <class 'mne.epochs.EpochsArray'>.tmax (14.9922 s)\n",
      "  \n",
      "/Users/jakubblaha/Documents/thesis/thesis-python/main.py:46: RuntimeWarning: tmax is not in time interval. tmax is set to <class 'mne.epochs.EpochsArray'>.tmax (14.9922 s)\n",
      "  \n",
      "/Users/jakubblaha/Documents/thesis/thesis-python/main.py:46: RuntimeWarning: tmax is not in time interval. tmax is set to <class 'mne.epochs.EpochsArray'>.tmax (14.9922 s)\n",
      "  \n",
      "/Users/jakubblaha/Documents/thesis/thesis-python/main.py:46: RuntimeWarning: tmax is not in time interval. tmax is set to <class 'mne.epochs.EpochsArray'>.tmax (14.9922 s)\n",
      "  \n",
      "/Users/jakubblaha/Documents/thesis/thesis-python/main.py:46: RuntimeWarning: tmax is not in time interval. tmax is set to <class 'mne.epochs.EpochsArray'>.tmax (14.9922 s)\n",
      "  \n",
      "/Users/jakubblaha/Documents/thesis/thesis-python/main.py:46: RuntimeWarning: tmax is not in time interval. tmax is set to <class 'mne.epochs.EpochsArray'>.tmax (14.9922 s)\n",
      "  \n",
      "/Users/jakubblaha/Documents/thesis/thesis-python/main.py:46: RuntimeWarning: tmax is not in time interval. tmax is set to <class 'mne.epochs.EpochsArray'>.tmax (14.9922 s)\n",
      "  \n",
      "/Users/jakubblaha/Documents/thesis/thesis-python/main.py:46: RuntimeWarning: tmax is not in time interval. tmax is set to <class 'mne.epochs.EpochsArray'>.tmax (14.9922 s)\n",
      "  \n",
      "/Users/jakubblaha/Documents/thesis/thesis-python/main.py:46: RuntimeWarning: tmax is not in time interval. tmax is set to <class 'mne.epochs.EpochsArray'>.tmax (14.9922 s)\n",
      "  \n",
      "/Users/jakubblaha/Documents/thesis/thesis-python/main.py:46: RuntimeWarning: tmax is not in time interval. tmax is set to <class 'mne.epochs.EpochsArray'>.tmax (14.9922 s)\n",
      "  \n",
      "/Users/jakubblaha/Documents/thesis/thesis-python/main.py:46: RuntimeWarning: tmax is not in time interval. tmax is set to <class 'mne.epochs.EpochsArray'>.tmax (14.9922 s)\n",
      "  \n",
      "/Users/jakubblaha/Documents/thesis/thesis-python/main.py:46: RuntimeWarning: tmax is not in time interval. tmax is set to <class 'mne.epochs.EpochsArray'>.tmax (14.9922 s)\n",
      "  \n",
      "/Users/jakubblaha/Documents/thesis/thesis-python/main.py:46: RuntimeWarning: tmax is not in time interval. tmax is set to <class 'mne.epochs.EpochsArray'>.tmax (14.9922 s)\n",
      "  \n",
      "/Users/jakubblaha/Documents/thesis/thesis-python/main.py:46: RuntimeWarning: tmax is not in time interval. tmax is set to <class 'mne.epochs.EpochsArray'>.tmax (14.9922 s)\n",
      "  \n",
      "/Users/jakubblaha/Documents/thesis/thesis-python/main.py:46: RuntimeWarning: tmax is not in time interval. tmax is set to <class 'mne.epochs.EpochsArray'>.tmax (14.9922 s)\n",
      "  \n",
      "/Users/jakubblaha/Documents/thesis/thesis-python/main.py:46: RuntimeWarning: tmax is not in time interval. tmax is set to <class 'mne.epochs.EpochsArray'>.tmax (14.9922 s)\n",
      "  \n",
      "/Users/jakubblaha/Documents/thesis/thesis-python/main.py:46: RuntimeWarning: tmax is not in time interval. tmax is set to <class 'mne.epochs.EpochsArray'>.tmax (14.9922 s)\n",
      "  \n",
      "/Users/jakubblaha/Documents/thesis/thesis-python/main.py:46: RuntimeWarning: tmax is not in time interval. tmax is set to <class 'mne.epochs.EpochsArray'>.tmax (14.9922 s)\n",
      "  \n",
      "/Users/jakubblaha/Documents/thesis/thesis-python/main.py:46: RuntimeWarning: tmax is not in time interval. tmax is set to <class 'mne.epochs.EpochsArray'>.tmax (14.9922 s)\n",
      "  \n",
      "/Users/jakubblaha/Documents/thesis/thesis-python/main.py:46: RuntimeWarning: tmax is not in time interval. tmax is set to <class 'mne.epochs.EpochsArray'>.tmax (14.9922 s)\n",
      "  \n",
      "/Users/jakubblaha/Documents/thesis/thesis-python/main.py:46: RuntimeWarning: tmax is not in time interval. tmax is set to <class 'mne.epochs.EpochsArray'>.tmax (14.9922 s)\n",
      "  \n",
      "/Users/jakubblaha/Documents/thesis/thesis-python/main.py:46: RuntimeWarning: tmax is not in time interval. tmax is set to <class 'mne.epochs.EpochsArray'>.tmax (14.9922 s)\n",
      "  \n",
      "/Users/jakubblaha/Documents/thesis/thesis-python/main.py:46: RuntimeWarning: tmax is not in time interval. tmax is set to <class 'mne.epochs.EpochsArray'>.tmax (14.9922 s)\n",
      "  \n",
      "/Users/jakubblaha/Documents/thesis/thesis-python/main.py:46: RuntimeWarning: tmax is not in time interval. tmax is set to <class 'mne.epochs.EpochsArray'>.tmax (14.9922 s)\n",
      "  \n",
      "/Users/jakubblaha/Documents/thesis/thesis-python/main.py:46: RuntimeWarning: tmax is not in time interval. tmax is set to <class 'mne.epochs.EpochsArray'>.tmax (14.9922 s)\n",
      "  \n",
      "/Users/jakubblaha/Documents/thesis/thesis-python/main.py:46: RuntimeWarning: tmax is not in time interval. tmax is set to <class 'mne.epochs.EpochsArray'>.tmax (14.9922 s)\n",
      "  \n",
      "/Users/jakubblaha/Documents/thesis/thesis-python/main.py:46: RuntimeWarning: tmax is not in time interval. tmax is set to <class 'mne.epochs.EpochsArray'>.tmax (14.9922 s)\n",
      "  \n",
      "/Users/jakubblaha/Documents/thesis/thesis-python/main.py:46: RuntimeWarning: tmax is not in time interval. tmax is set to <class 'mne.epochs.EpochsArray'>.tmax (14.9922 s)\n",
      "  \n",
      "/Users/jakubblaha/Documents/thesis/thesis-python/main.py:46: RuntimeWarning: tmax is not in time interval. tmax is set to <class 'mne.epochs.EpochsArray'>.tmax (14.9922 s)\n",
      "  \n",
      "/Users/jakubblaha/Documents/thesis/thesis-python/main.py:46: RuntimeWarning: tmax is not in time interval. tmax is set to <class 'mne.epochs.EpochsArray'>.tmax (14.9922 s)\n",
      "  \n",
      "/Users/jakubblaha/Documents/thesis/thesis-python/main.py:46: RuntimeWarning: tmax is not in time interval. tmax is set to <class 'mne.epochs.EpochsArray'>.tmax (14.9922 s)\n",
      "  \n",
      "/Users/jakubblaha/Documents/thesis/thesis-python/main.py:46: RuntimeWarning: tmax is not in time interval. tmax is set to <class 'mne.epochs.EpochsArray'>.tmax (14.9922 s)\n",
      "  \n",
      "/Users/jakubblaha/Documents/thesis/thesis-python/main.py:46: RuntimeWarning: tmax is not in time interval. tmax is set to <class 'mne.epochs.EpochsArray'>.tmax (14.9922 s)\n",
      "  \n",
      "/Users/jakubblaha/Documents/thesis/thesis-python/main.py:46: RuntimeWarning: tmax is not in time interval. tmax is set to <class 'mne.epochs.EpochsArray'>.tmax (14.9922 s)\n",
      "  \n",
      "/Users/jakubblaha/Documents/thesis/thesis-python/main.py:46: RuntimeWarning: tmax is not in time interval. tmax is set to <class 'mne.epochs.EpochsArray'>.tmax (14.9922 s)\n",
      "  \n",
      "/Users/jakubblaha/Documents/thesis/thesis-python/main.py:46: RuntimeWarning: tmax is not in time interval. tmax is set to <class 'mne.epochs.EpochsArray'>.tmax (14.9922 s)\n",
      "  \n",
      "/Users/jakubblaha/Documents/thesis/thesis-python/main.py:46: RuntimeWarning: tmax is not in time interval. tmax is set to <class 'mne.epochs.EpochsArray'>.tmax (14.9922 s)\n",
      "  \n",
      "/Users/jakubblaha/Documents/thesis/thesis-python/main.py:46: RuntimeWarning: tmax is not in time interval. tmax is set to <class 'mne.epochs.EpochsArray'>.tmax (14.9922 s)\n",
      "  \n",
      "/Users/jakubblaha/Documents/thesis/thesis-python/main.py:46: RuntimeWarning: tmax is not in time interval. tmax is set to <class 'mne.epochs.EpochsArray'>.tmax (14.9922 s)\n",
      "  \n",
      "/Users/jakubblaha/Documents/thesis/thesis-python/main.py:46: RuntimeWarning: tmax is not in time interval. tmax is set to <class 'mne.epochs.EpochsArray'>.tmax (14.9922 s)\n",
      "  \n",
      "/Users/jakubblaha/Documents/thesis/thesis-python/main.py:46: RuntimeWarning: tmax is not in time interval. tmax is set to <class 'mne.epochs.EpochsArray'>.tmax (14.9922 s)\n",
      "  \n",
      "/Users/jakubblaha/Documents/thesis/thesis-python/main.py:46: RuntimeWarning: tmax is not in time interval. tmax is set to <class 'mne.epochs.EpochsArray'>.tmax (14.9922 s)\n",
      "  \n",
      "/Users/jakubblaha/Documents/thesis/thesis-python/main.py:46: RuntimeWarning: tmax is not in time interval. tmax is set to <class 'mne.epochs.EpochsArray'>.tmax (14.9922 s)\n",
      "  \n",
      "/Users/jakubblaha/Documents/thesis/thesis-python/main.py:46: RuntimeWarning: tmax is not in time interval. tmax is set to <class 'mne.epochs.EpochsArray'>.tmax (14.9922 s)\n",
      "  \n",
      "/Users/jakubblaha/Documents/thesis/thesis-python/main.py:46: RuntimeWarning: tmax is not in time interval. tmax is set to <class 'mne.epochs.EpochsArray'>.tmax (14.9922 s)\n",
      "  \n",
      "/Users/jakubblaha/Documents/thesis/thesis-python/main.py:46: RuntimeWarning: tmax is not in time interval. tmax is set to <class 'mne.epochs.EpochsArray'>.tmax (14.9922 s)\n",
      "  \n",
      "/Users/jakubblaha/Documents/thesis/thesis-python/main.py:46: RuntimeWarning: tmax is not in time interval. tmax is set to <class 'mne.epochs.EpochsArray'>.tmax (14.9922 s)\n",
      "  \n",
      "/Users/jakubblaha/Documents/thesis/thesis-python/main.py:46: RuntimeWarning: tmax is not in time interval. tmax is set to <class 'mne.epochs.EpochsArray'>.tmax (14.9922 s)\n",
      "  \n",
      "/Users/jakubblaha/Documents/thesis/thesis-python/main.py:46: RuntimeWarning: tmax is not in time interval. tmax is set to <class 'mne.epochs.EpochsArray'>.tmax (14.9922 s)\n",
      "  \n",
      "/Users/jakubblaha/Documents/thesis/thesis-python/main.py:46: RuntimeWarning: tmax is not in time interval. tmax is set to <class 'mne.epochs.EpochsArray'>.tmax (14.9922 s)\n",
      "  \n",
      "/Users/jakubblaha/Documents/thesis/thesis-python/main.py:46: RuntimeWarning: tmax is not in time interval. tmax is set to <class 'mne.epochs.EpochsArray'>.tmax (14.9922 s)\n",
      "  \n",
      "/Users/jakubblaha/Documents/thesis/thesis-python/main.py:46: RuntimeWarning: tmax is not in time interval. tmax is set to <class 'mne.epochs.EpochsArray'>.tmax (14.9922 s)\n",
      "  \n",
      "/Users/jakubblaha/Documents/thesis/thesis-python/main.py:46: RuntimeWarning: tmax is not in time interval. tmax is set to <class 'mne.epochs.EpochsArray'>.tmax (14.9922 s)\n",
      "  \n",
      "/Users/jakubblaha/Documents/thesis/thesis-python/main.py:46: RuntimeWarning: tmax is not in time interval. tmax is set to <class 'mne.epochs.EpochsArray'>.tmax (14.9922 s)\n",
      "  \n",
      "/Users/jakubblaha/Documents/thesis/thesis-python/main.py:46: RuntimeWarning: tmax is not in time interval. tmax is set to <class 'mne.epochs.EpochsArray'>.tmax (14.9922 s)\n",
      "  \n",
      "/Users/jakubblaha/Documents/thesis/thesis-python/main.py:46: RuntimeWarning: tmax is not in time interval. tmax is set to <class 'mne.epochs.EpochsArray'>.tmax (14.9922 s)\n",
      "  \n",
      "/Users/jakubblaha/Documents/thesis/thesis-python/main.py:46: RuntimeWarning: tmax is not in time interval. tmax is set to <class 'mne.epochs.EpochsArray'>.tmax (14.9922 s)\n",
      "  \n",
      "/Users/jakubblaha/Documents/thesis/thesis-python/main.py:46: RuntimeWarning: tmax is not in time interval. tmax is set to <class 'mne.epochs.EpochsArray'>.tmax (14.9922 s)\n",
      "  \n",
      "/Users/jakubblaha/Documents/thesis/thesis-python/main.py:46: RuntimeWarning: tmax is not in time interval. tmax is set to <class 'mne.epochs.EpochsArray'>.tmax (14.9922 s)\n",
      "  \n",
      "/Users/jakubblaha/Documents/thesis/thesis-python/main.py:46: RuntimeWarning: tmax is not in time interval. tmax is set to <class 'mne.epochs.EpochsArray'>.tmax (14.9922 s)\n",
      "  \n",
      "/Users/jakubblaha/Documents/thesis/thesis-python/main.py:46: RuntimeWarning: tmax is not in time interval. tmax is set to <class 'mne.epochs.EpochsArray'>.tmax (14.9922 s)\n",
      "  \n",
      "/Users/jakubblaha/Documents/thesis/thesis-python/main.py:46: RuntimeWarning: tmax is not in time interval. tmax is set to <class 'mne.epochs.EpochsArray'>.tmax (14.9922 s)\n",
      "  \n",
      "/Users/jakubblaha/Documents/thesis/thesis-python/main.py:46: RuntimeWarning: tmax is not in time interval. tmax is set to <class 'mne.epochs.EpochsArray'>.tmax (14.9922 s)\n",
      "  \n",
      "/Users/jakubblaha/Documents/thesis/thesis-python/main.py:46: RuntimeWarning: tmax is not in time interval. tmax is set to <class 'mne.epochs.EpochsArray'>.tmax (14.9922 s)\n",
      "  \n",
      "/Users/jakubblaha/Documents/thesis/thesis-python/main.py:46: RuntimeWarning: tmax is not in time interval. tmax is set to <class 'mne.epochs.EpochsArray'>.tmax (14.9922 s)\n",
      "  \n",
      "/Users/jakubblaha/Documents/thesis/thesis-python/main.py:46: RuntimeWarning: tmax is not in time interval. tmax is set to <class 'mne.epochs.EpochsArray'>.tmax (14.9922 s)\n",
      "  \n",
      "/Users/jakubblaha/Documents/thesis/thesis-python/main.py:46: RuntimeWarning: tmax is not in time interval. tmax is set to <class 'mne.epochs.EpochsArray'>.tmax (14.9922 s)\n",
      "  \n",
      "/Users/jakubblaha/Documents/thesis/thesis-python/main.py:46: RuntimeWarning: tmax is not in time interval. tmax is set to <class 'mne.epochs.EpochsArray'>.tmax (14.9922 s)\n",
      "  \n",
      "/Users/jakubblaha/Documents/thesis/thesis-python/main.py:46: RuntimeWarning: tmax is not in time interval. tmax is set to <class 'mne.epochs.EpochsArray'>.tmax (14.9922 s)\n",
      "  \n",
      "/Users/jakubblaha/Documents/thesis/thesis-python/main.py:46: RuntimeWarning: tmax is not in time interval. tmax is set to <class 'mne.epochs.EpochsArray'>.tmax (14.9922 s)\n",
      "  \n",
      "/Users/jakubblaha/Documents/thesis/thesis-python/main.py:46: RuntimeWarning: tmax is not in time interval. tmax is set to <class 'mne.epochs.EpochsArray'>.tmax (14.9922 s)\n",
      "  \n",
      "/Users/jakubblaha/Documents/thesis/thesis-python/main.py:46: RuntimeWarning: tmax is not in time interval. tmax is set to <class 'mne.epochs.EpochsArray'>.tmax (14.9922 s)\n",
      "  \n",
      "/Users/jakubblaha/Documents/thesis/thesis-python/main.py:46: RuntimeWarning: tmax is not in time interval. tmax is set to <class 'mne.epochs.EpochsArray'>.tmax (14.9922 s)\n",
      "  \n",
      "/Users/jakubblaha/Documents/thesis/thesis-python/main.py:46: RuntimeWarning: tmax is not in time interval. tmax is set to <class 'mne.epochs.EpochsArray'>.tmax (14.9922 s)\n",
      "  \n",
      "/Users/jakubblaha/Documents/thesis/thesis-python/main.py:46: RuntimeWarning: tmax is not in time interval. tmax is set to <class 'mne.epochs.EpochsArray'>.tmax (14.9922 s)\n",
      "  \n",
      "/Users/jakubblaha/Documents/thesis/thesis-python/main.py:46: RuntimeWarning: tmax is not in time interval. tmax is set to <class 'mne.epochs.EpochsArray'>.tmax (14.9922 s)\n",
      "  \n",
      "/Users/jakubblaha/Documents/thesis/thesis-python/main.py:46: RuntimeWarning: tmax is not in time interval. tmax is set to <class 'mne.epochs.EpochsArray'>.tmax (14.9922 s)\n",
      "  \n",
      "/Users/jakubblaha/Documents/thesis/thesis-python/main.py:46: RuntimeWarning: tmax is not in time interval. tmax is set to <class 'mne.epochs.EpochsArray'>.tmax (14.9922 s)\n",
      "  \n",
      "/Users/jakubblaha/Documents/thesis/thesis-python/main.py:46: RuntimeWarning: tmax is not in time interval. tmax is set to <class 'mne.epochs.EpochsArray'>.tmax (14.9922 s)\n",
      "  \n",
      "/Users/jakubblaha/Documents/thesis/thesis-python/main.py:46: RuntimeWarning: tmax is not in time interval. tmax is set to <class 'mne.epochs.EpochsArray'>.tmax (14.9922 s)\n",
      "  \n",
      "/Users/jakubblaha/Documents/thesis/thesis-python/main.py:46: RuntimeWarning: tmax is not in time interval. tmax is set to <class 'mne.epochs.EpochsArray'>.tmax (14.9922 s)\n",
      "  \n",
      "/Users/jakubblaha/Documents/thesis/thesis-python/main.py:46: RuntimeWarning: tmax is not in time interval. tmax is set to <class 'mne.epochs.EpochsArray'>.tmax (14.9922 s)\n",
      "  \n",
      "/Users/jakubblaha/Documents/thesis/thesis-python/main.py:46: RuntimeWarning: tmax is not in time interval. tmax is set to <class 'mne.epochs.EpochsArray'>.tmax (14.9922 s)\n",
      "  \n",
      "/Users/jakubblaha/Documents/thesis/thesis-python/main.py:46: RuntimeWarning: tmax is not in time interval. tmax is set to <class 'mne.epochs.EpochsArray'>.tmax (14.9922 s)\n",
      "  \n",
      "/Users/jakubblaha/Documents/thesis/thesis-python/main.py:46: RuntimeWarning: tmax is not in time interval. tmax is set to <class 'mne.epochs.EpochsArray'>.tmax (14.9922 s)\n",
      "  \n",
      "/Users/jakubblaha/Documents/thesis/thesis-python/main.py:46: RuntimeWarning: tmax is not in time interval. tmax is set to <class 'mne.epochs.EpochsArray'>.tmax (14.9922 s)\n",
      "  \n",
      "/Users/jakubblaha/Documents/thesis/thesis-python/main.py:46: RuntimeWarning: tmax is not in time interval. tmax is set to <class 'mne.epochs.EpochsArray'>.tmax (14.9922 s)\n",
      "  \n",
      "/Users/jakubblaha/Documents/thesis/thesis-python/main.py:46: RuntimeWarning: tmax is not in time interval. tmax is set to <class 'mne.epochs.EpochsArray'>.tmax (14.9922 s)\n",
      "  \n",
      "/Users/jakubblaha/Documents/thesis/thesis-python/main.py:46: RuntimeWarning: tmax is not in time interval. tmax is set to <class 'mne.epochs.EpochsArray'>.tmax (14.9922 s)\n",
      "  \n",
      "/Users/jakubblaha/Documents/thesis/thesis-python/main.py:46: RuntimeWarning: tmax is not in time interval. tmax is set to <class 'mne.epochs.EpochsArray'>.tmax (14.9922 s)\n",
      "  \n",
      "/Users/jakubblaha/Documents/thesis/thesis-python/main.py:46: RuntimeWarning: tmax is not in time interval. tmax is set to <class 'mne.epochs.EpochsArray'>.tmax (14.9922 s)\n",
      "  \n",
      "/Users/jakubblaha/Documents/thesis/thesis-python/main.py:46: RuntimeWarning: tmax is not in time interval. tmax is set to <class 'mne.epochs.EpochsArray'>.tmax (14.9922 s)\n",
      "  \n",
      "/Users/jakubblaha/Documents/thesis/thesis-python/main.py:46: RuntimeWarning: tmax is not in time interval. tmax is set to <class 'mne.epochs.EpochsArray'>.tmax (14.9922 s)\n",
      "  \n",
      "/Users/jakubblaha/Documents/thesis/thesis-python/main.py:46: RuntimeWarning: tmax is not in time interval. tmax is set to <class 'mne.epochs.EpochsArray'>.tmax (14.9922 s)\n",
      "  \n",
      "/Users/jakubblaha/Documents/thesis/thesis-python/main.py:46: RuntimeWarning: tmax is not in time interval. tmax is set to <class 'mne.epochs.EpochsArray'>.tmax (14.9922 s)\n",
      "  \n",
      "/Users/jakubblaha/Documents/thesis/thesis-python/main.py:46: RuntimeWarning: tmax is not in time interval. tmax is set to <class 'mne.epochs.EpochsArray'>.tmax (14.9922 s)\n",
      "  \n",
      "/Users/jakubblaha/Documents/thesis/thesis-python/main.py:46: RuntimeWarning: tmax is not in time interval. tmax is set to <class 'mne.epochs.EpochsArray'>.tmax (14.9922 s)\n",
      "  \n",
      "/Users/jakubblaha/Documents/thesis/thesis-python/main.py:46: RuntimeWarning: tmax is not in time interval. tmax is set to <class 'mne.epochs.EpochsArray'>.tmax (14.9922 s)\n",
      "  \n",
      "/Users/jakubblaha/Documents/thesis/thesis-python/main.py:46: RuntimeWarning: tmax is not in time interval. tmax is set to <class 'mne.epochs.EpochsArray'>.tmax (14.9922 s)\n",
      "  \n",
      "/Users/jakubblaha/Documents/thesis/thesis-python/main.py:46: RuntimeWarning: tmax is not in time interval. tmax is set to <class 'mne.epochs.EpochsArray'>.tmax (14.9922 s)\n",
      "  \n",
      "/Users/jakubblaha/Documents/thesis/thesis-python/main.py:46: RuntimeWarning: tmax is not in time interval. tmax is set to <class 'mne.epochs.EpochsArray'>.tmax (14.9922 s)\n",
      "  \n",
      "/Users/jakubblaha/Documents/thesis/thesis-python/main.py:46: RuntimeWarning: tmax is not in time interval. tmax is set to <class 'mne.epochs.EpochsArray'>.tmax (14.9922 s)\n",
      "  \n",
      "/Users/jakubblaha/Documents/thesis/thesis-python/main.py:46: RuntimeWarning: tmax is not in time interval. tmax is set to <class 'mne.epochs.EpochsArray'>.tmax (14.9922 s)\n",
      "  \n",
      "/Users/jakubblaha/Documents/thesis/thesis-python/main.py:46: RuntimeWarning: tmax is not in time interval. tmax is set to <class 'mne.epochs.EpochsArray'>.tmax (14.9922 s)\n",
      "  \n",
      "/Users/jakubblaha/Documents/thesis/thesis-python/main.py:46: RuntimeWarning: tmax is not in time interval. tmax is set to <class 'mne.epochs.EpochsArray'>.tmax (14.9922 s)\n",
      "  \n",
      "/Users/jakubblaha/Documents/thesis/thesis-python/main.py:46: RuntimeWarning: tmax is not in time interval. tmax is set to <class 'mne.epochs.EpochsArray'>.tmax (14.9922 s)\n",
      "  \n",
      "/Users/jakubblaha/Documents/thesis/thesis-python/main.py:46: RuntimeWarning: tmax is not in time interval. tmax is set to <class 'mne.epochs.EpochsArray'>.tmax (14.9922 s)\n",
      "  \n",
      "/Users/jakubblaha/Documents/thesis/thesis-python/main.py:46: RuntimeWarning: tmax is not in time interval. tmax is set to <class 'mne.epochs.EpochsArray'>.tmax (14.9922 s)\n",
      "  \n",
      "/Users/jakubblaha/Documents/thesis/thesis-python/main.py:46: RuntimeWarning: tmax is not in time interval. tmax is set to <class 'mne.epochs.EpochsArray'>.tmax (14.9922 s)\n",
      "  \n",
      "/Users/jakubblaha/Documents/thesis/thesis-python/main.py:46: RuntimeWarning: tmax is not in time interval. tmax is set to <class 'mne.epochs.EpochsArray'>.tmax (14.9922 s)\n",
      "  \n",
      "/Users/jakubblaha/Documents/thesis/thesis-python/main.py:46: RuntimeWarning: tmax is not in time interval. tmax is set to <class 'mne.epochs.EpochsArray'>.tmax (14.9922 s)\n",
      "  \n",
      "/Users/jakubblaha/Documents/thesis/thesis-python/main.py:46: RuntimeWarning: tmax is not in time interval. tmax is set to <class 'mne.epochs.EpochsArray'>.tmax (14.9922 s)\n",
      "  \n",
      "/Users/jakubblaha/Documents/thesis/thesis-python/main.py:46: RuntimeWarning: tmax is not in time interval. tmax is set to <class 'mne.epochs.EpochsArray'>.tmax (14.9922 s)\n",
      "  \n",
      "/Users/jakubblaha/Documents/thesis/thesis-python/main.py:46: RuntimeWarning: tmax is not in time interval. tmax is set to <class 'mne.epochs.EpochsArray'>.tmax (14.9922 s)\n",
      "  \n",
      "/Users/jakubblaha/Documents/thesis/thesis-python/main.py:46: RuntimeWarning: tmax is not in time interval. tmax is set to <class 'mne.epochs.EpochsArray'>.tmax (14.9922 s)\n",
      "  \n",
      "/Users/jakubblaha/Documents/thesis/thesis-python/main.py:46: RuntimeWarning: tmax is not in time interval. tmax is set to <class 'mne.epochs.EpochsArray'>.tmax (14.9922 s)\n",
      "  \n",
      "/Users/jakubblaha/Documents/thesis/thesis-python/main.py:46: RuntimeWarning: tmax is not in time interval. tmax is set to <class 'mne.epochs.EpochsArray'>.tmax (14.9922 s)\n",
      "  \n",
      "/Users/jakubblaha/Documents/thesis/thesis-python/main.py:46: RuntimeWarning: tmax is not in time interval. tmax is set to <class 'mne.epochs.EpochsArray'>.tmax (14.9922 s)\n",
      "  \n",
      "/Users/jakubblaha/Documents/thesis/thesis-python/main.py:46: RuntimeWarning: tmax is not in time interval. tmax is set to <class 'mne.epochs.EpochsArray'>.tmax (14.9922 s)\n",
      "  \n",
      "/Users/jakubblaha/Documents/thesis/thesis-python/main.py:46: RuntimeWarning: tmax is not in time interval. tmax is set to <class 'mne.epochs.EpochsArray'>.tmax (14.9922 s)\n",
      "  \n",
      "/Users/jakubblaha/Documents/thesis/thesis-python/main.py:46: RuntimeWarning: tmax is not in time interval. tmax is set to <class 'mne.epochs.EpochsArray'>.tmax (14.9922 s)\n",
      "  \n",
      "/Users/jakubblaha/Documents/thesis/thesis-python/main.py:46: RuntimeWarning: tmax is not in time interval. tmax is set to <class 'mne.epochs.EpochsArray'>.tmax (14.9922 s)\n",
      "  \n",
      "/Users/jakubblaha/Documents/thesis/thesis-python/main.py:46: RuntimeWarning: tmax is not in time interval. tmax is set to <class 'mne.epochs.EpochsArray'>.tmax (14.9922 s)\n",
      "  \n",
      "/Users/jakubblaha/Documents/thesis/thesis-python/main.py:46: RuntimeWarning: tmax is not in time interval. tmax is set to <class 'mne.epochs.EpochsArray'>.tmax (14.9922 s)\n",
      "  \n",
      "/Users/jakubblaha/Documents/thesis/thesis-python/main.py:46: RuntimeWarning: tmax is not in time interval. tmax is set to <class 'mne.epochs.EpochsArray'>.tmax (14.9922 s)\n",
      "  \n",
      "/Users/jakubblaha/Documents/thesis/thesis-python/main.py:46: RuntimeWarning: tmax is not in time interval. tmax is set to <class 'mne.epochs.EpochsArray'>.tmax (14.9922 s)\n",
      "  \n",
      "/Users/jakubblaha/Documents/thesis/thesis-python/main.py:46: RuntimeWarning: tmax is not in time interval. tmax is set to <class 'mne.epochs.EpochsArray'>.tmax (14.9922 s)\n",
      "  \n",
      "/Users/jakubblaha/Documents/thesis/thesis-python/main.py:46: RuntimeWarning: tmax is not in time interval. tmax is set to <class 'mne.epochs.EpochsArray'>.tmax (14.9922 s)\n",
      "  \n",
      "/Users/jakubblaha/Documents/thesis/thesis-python/main.py:46: RuntimeWarning: tmax is not in time interval. tmax is set to <class 'mne.epochs.EpochsArray'>.tmax (14.9922 s)\n",
      "  \n",
      "/Users/jakubblaha/Documents/thesis/thesis-python/main.py:46: RuntimeWarning: tmax is not in time interval. tmax is set to <class 'mne.epochs.EpochsArray'>.tmax (14.9922 s)\n",
      "  \n",
      "/Users/jakubblaha/Documents/thesis/thesis-python/main.py:46: RuntimeWarning: tmax is not in time interval. tmax is set to <class 'mne.epochs.EpochsArray'>.tmax (14.9922 s)\n",
      "  \n",
      "/Users/jakubblaha/Documents/thesis/thesis-python/main.py:46: RuntimeWarning: tmax is not in time interval. tmax is set to <class 'mne.epochs.EpochsArray'>.tmax (14.9922 s)\n",
      "  \n",
      "/Users/jakubblaha/Documents/thesis/thesis-python/main.py:46: RuntimeWarning: tmax is not in time interval. tmax is set to <class 'mne.epochs.EpochsArray'>.tmax (14.9922 s)\n",
      "  \n",
      "/Users/jakubblaha/Documents/thesis/thesis-python/main.py:46: RuntimeWarning: tmax is not in time interval. tmax is set to <class 'mne.epochs.EpochsArray'>.tmax (14.9922 s)\n",
      "  \n",
      "/Users/jakubblaha/Documents/thesis/thesis-python/main.py:46: RuntimeWarning: tmax is not in time interval. tmax is set to <class 'mne.epochs.EpochsArray'>.tmax (14.9922 s)\n",
      "  \n",
      "/Users/jakubblaha/Documents/thesis/thesis-python/main.py:46: RuntimeWarning: tmax is not in time interval. tmax is set to <class 'mne.epochs.EpochsArray'>.tmax (14.9922 s)\n",
      "  \n",
      "/Users/jakubblaha/Documents/thesis/thesis-python/main.py:46: RuntimeWarning: tmax is not in time interval. tmax is set to <class 'mne.epochs.EpochsArray'>.tmax (14.9922 s)\n",
      "  \n",
      "/Users/jakubblaha/Documents/thesis/thesis-python/main.py:46: RuntimeWarning: tmax is not in time interval. tmax is set to <class 'mne.epochs.EpochsArray'>.tmax (14.9922 s)\n",
      "  \n",
      "/Users/jakubblaha/Documents/thesis/thesis-python/main.py:46: RuntimeWarning: tmax is not in time interval. tmax is set to <class 'mne.epochs.EpochsArray'>.tmax (14.9922 s)\n",
      "  \n",
      "/Users/jakubblaha/Documents/thesis/thesis-python/main.py:46: RuntimeWarning: tmax is not in time interval. tmax is set to <class 'mne.epochs.EpochsArray'>.tmax (14.9922 s)\n",
      "  \n"
     ]
    },
    {
     "name": "stdout",
     "output_type": "stream",
     "text": [
      "[ 4  8 10 13 30 45]\n",
      "(6,)\n",
      "[ 4  8 10 13 30 45]\n",
      "(6,)\n",
      "only using indices for lower-triangular matrix\n",
      "Connectivity computation...\n",
      "   Processing epoch 1 / 1 ...\n"
     ]
    },
    {
     "name": "stderr",
     "output_type": "stream",
     "text": [
      "/Users/jakubblaha/Documents/thesis/thesis-python/main.py:46: RuntimeWarning: tmax is not in time interval. tmax is set to <class 'mne.epochs.EpochsArray'>.tmax (14.9922 s)\n",
      "  \n",
      "/Users/jakubblaha/Documents/thesis/thesis-python/main.py:46: RuntimeWarning: tmax is not in time interval. tmax is set to <class 'mne.epochs.EpochsArray'>.tmax (14.9922 s)\n",
      "  \n",
      "/Users/jakubblaha/Documents/thesis/thesis-python/main.py:46: RuntimeWarning: tmax is not in time interval. tmax is set to <class 'mne.epochs.EpochsArray'>.tmax (14.9922 s)\n",
      "  \n",
      "/Users/jakubblaha/Documents/thesis/thesis-python/main.py:121: RuntimeWarning: There were no Annotations stored in <EpochsArray | 1 events (all good), 7 – 14.992 s (baseline off), ~127 kB, data loaded,\n",
      " '1': 1>, so metadata was not modified.\n",
      "  \n"
     ]
    },
    {
     "name": "stdout",
     "output_type": "stream",
     "text": [
      "[Connectivity computation done]\n",
      "[ 4  8 10 13 30 45]\n",
      "(6,)\n",
      "[ 4  8 10 13 30 45]\n",
      "(6,)\n",
      "only using indices for lower-triangular matrix\n",
      "Connectivity computation...\n",
      "   Processing epoch 1 / 1 ...\n",
      "[Connectivity computation done]\n"
     ]
    },
    {
     "name": "stderr",
     "output_type": "stream",
     "text": [
      "/Users/jakubblaha/Documents/thesis/thesis-python/main.py:121: RuntimeWarning: There were no Annotations stored in <EpochsArray | 1 events (all good), 7 – 14.992 s (baseline off), ~127 kB, data loaded,\n",
      " '1': 1>, so metadata was not modified.\n",
      "  \n"
     ]
    },
    {
     "name": "stdout",
     "output_type": "stream",
     "text": [
      "[ 4  8 10 13 30 45]\n",
      "(6,)\n",
      "[ 4  8 10 13 30 45]\n",
      "(6,)\n",
      "only using indices for lower-triangular matrix\n",
      "Connectivity computation...\n",
      "   Processing epoch 1 / 1 ...\n"
     ]
    },
    {
     "name": "stderr",
     "output_type": "stream",
     "text": [
      "/Users/jakubblaha/Documents/thesis/thesis-python/main.py:121: RuntimeWarning: There were no Annotations stored in <EpochsArray | 1 events (all good), 7 – 14.992 s (baseline off), ~127 kB, data loaded,\n",
      " '1': 1>, so metadata was not modified.\n",
      "  \n"
     ]
    },
    {
     "name": "stdout",
     "output_type": "stream",
     "text": [
      "[Connectivity computation done]\n",
      "[ 4  8 10 13 30 45]\n",
      "(6,)\n",
      "[ 4  8 10 13 30 45]\n",
      "(6,)\n",
      "only using indices for lower-triangular matrix\n",
      "Connectivity computation...\n",
      "   Processing epoch 1 / 1 ...\n"
     ]
    },
    {
     "name": "stderr",
     "output_type": "stream",
     "text": [
      "/Users/jakubblaha/Documents/thesis/thesis-python/main.py:121: RuntimeWarning: There were no Annotations stored in <EpochsArray | 1 events (all good), 7 – 14.992 s (baseline off), ~127 kB, data loaded,\n",
      " '1': 1>, so metadata was not modified.\n",
      "  \n"
     ]
    },
    {
     "name": "stdout",
     "output_type": "stream",
     "text": [
      "[Connectivity computation done]\n",
      "[ 4  8 10 13 30 45]\n",
      "(6,)\n",
      "[ 4  8 10 13 30 45]\n",
      "(6,)\n",
      "only using indices for lower-triangular matrix\n",
      "Connectivity computation...\n",
      "   Processing epoch 1 / 1 ...\n"
     ]
    },
    {
     "name": "stderr",
     "output_type": "stream",
     "text": [
      "/Users/jakubblaha/Documents/thesis/thesis-python/main.py:121: RuntimeWarning: There were no Annotations stored in <EpochsArray | 1 events (all good), 7 – 14.992 s (baseline off), ~127 kB, data loaded,\n",
      " '1': 1>, so metadata was not modified.\n",
      "  \n"
     ]
    },
    {
     "name": "stdout",
     "output_type": "stream",
     "text": [
      "[Connectivity computation done]\n",
      "[ 4  8 10 13 30 45]\n",
      "(6,)\n",
      "[ 4  8 10 13 30 45]\n",
      "(6,)\n",
      "only using indices for lower-triangular matrix\n",
      "Connectivity computation...\n",
      "   Processing epoch 1 / 1 ...\n"
     ]
    },
    {
     "name": "stderr",
     "output_type": "stream",
     "text": [
      "/Users/jakubblaha/Documents/thesis/thesis-python/main.py:121: RuntimeWarning: There were no Annotations stored in <EpochsArray | 1 events (all good), 7 – 14.992 s (baseline off), ~127 kB, data loaded,\n",
      " '1': 1>, so metadata was not modified.\n",
      "  \n"
     ]
    },
    {
     "name": "stdout",
     "output_type": "stream",
     "text": [
      "[Connectivity computation done]\n",
      "[ 4  8 10 13 30 45]\n",
      "(6,)\n",
      "[ 4  8 10 13 30 45]\n",
      "(6,)\n",
      "only using indices for lower-triangular matrix\n",
      "Connectivity computation...\n",
      "   Processing epoch 1 / 1 ...\n"
     ]
    },
    {
     "name": "stderr",
     "output_type": "stream",
     "text": [
      "/Users/jakubblaha/Documents/thesis/thesis-python/main.py:121: RuntimeWarning: There were no Annotations stored in <EpochsArray | 1 events (all good), 7 – 14.992 s (baseline off), ~127 kB, data loaded,\n",
      " '1': 1>, so metadata was not modified.\n",
      "  \n"
     ]
    },
    {
     "name": "stdout",
     "output_type": "stream",
     "text": [
      "[Connectivity computation done]\n",
      "[ 4  8 10 13 30 45]\n",
      "(6,)\n",
      "[ 4  8 10 13 30 45]\n",
      "(6,)\n",
      "only using indices for lower-triangular matrix\n",
      "Connectivity computation...\n",
      "   Processing epoch 1 / 1 ...\n"
     ]
    },
    {
     "name": "stderr",
     "output_type": "stream",
     "text": [
      "/Users/jakubblaha/Documents/thesis/thesis-python/main.py:121: RuntimeWarning: There were no Annotations stored in <EpochsArray | 1 events (all good), 7 – 14.992 s (baseline off), ~127 kB, data loaded,\n",
      " '1': 1>, so metadata was not modified.\n",
      "  \n"
     ]
    },
    {
     "name": "stdout",
     "output_type": "stream",
     "text": [
      "[Connectivity computation done]\n",
      "[ 4  8 10 13 30 45]\n",
      "(6,)\n",
      "[ 4  8 10 13 30 45]\n",
      "(6,)\n",
      "only using indices for lower-triangular matrix\n",
      "Connectivity computation...\n",
      "   Processing epoch 1 / 1 ...\n",
      "[Connectivity computation done]\n"
     ]
    },
    {
     "name": "stderr",
     "output_type": "stream",
     "text": [
      "/Users/jakubblaha/Documents/thesis/thesis-python/main.py:121: RuntimeWarning: There were no Annotations stored in <EpochsArray | 1 events (all good), 7 – 14.992 s (baseline off), ~127 kB, data loaded,\n",
      " '1': 1>, so metadata was not modified.\n",
      "  \n"
     ]
    },
    {
     "name": "stdout",
     "output_type": "stream",
     "text": [
      "[ 4  8 10 13 30 45]\n",
      "(6,)\n",
      "[ 4  8 10 13 30 45]\n",
      "(6,)\n",
      "only using indices for lower-triangular matrix\n",
      "Connectivity computation...\n",
      "   Processing epoch 1 / 1 ...\n"
     ]
    },
    {
     "name": "stderr",
     "output_type": "stream",
     "text": [
      "/Users/jakubblaha/Documents/thesis/thesis-python/main.py:121: RuntimeWarning: There were no Annotations stored in <EpochsArray | 1 events (all good), 7 – 14.992 s (baseline off), ~127 kB, data loaded,\n",
      " '1': 1>, so metadata was not modified.\n",
      "  \n"
     ]
    },
    {
     "name": "stdout",
     "output_type": "stream",
     "text": [
      "[Connectivity computation done]\n",
      "[ 4  8 10 13 30 45]\n",
      "(6,)\n",
      "[ 4  8 10 13 30 45]\n",
      "(6,)\n",
      "only using indices for lower-triangular matrix\n",
      "Connectivity computation...\n",
      "   Processing epoch 1 / 1 ...\n"
     ]
    },
    {
     "name": "stderr",
     "output_type": "stream",
     "text": [
      "/Users/jakubblaha/Documents/thesis/thesis-python/main.py:121: RuntimeWarning: There were no Annotations stored in <EpochsArray | 1 events (all good), 7 – 14.992 s (baseline off), ~127 kB, data loaded,\n",
      " '1': 1>, so metadata was not modified.\n",
      "  \n"
     ]
    },
    {
     "name": "stdout",
     "output_type": "stream",
     "text": [
      "[Connectivity computation done]\n",
      "[ 4  8 10 13 30 45]\n",
      "(6,)\n",
      "[ 4  8 10 13 30 45]\n",
      "(6,)\n",
      "only using indices for lower-triangular matrix\n",
      "Connectivity computation...\n",
      "   Processing epoch 1 / 1 ...\n"
     ]
    },
    {
     "name": "stderr",
     "output_type": "stream",
     "text": [
      "/Users/jakubblaha/Documents/thesis/thesis-python/main.py:121: RuntimeWarning: There were no Annotations stored in <EpochsArray | 1 events (all good), 7 – 14.992 s (baseline off), ~127 kB, data loaded,\n",
      " '1': 1>, so metadata was not modified.\n",
      "  \n"
     ]
    },
    {
     "name": "stdout",
     "output_type": "stream",
     "text": [
      "[Connectivity computation done]\n",
      "[ 4  8 10 13 30 45]\n",
      "(6,)\n",
      "[ 4  8 10 13 30 45]\n",
      "(6,)\n",
      "only using indices for lower-triangular matrix\n",
      "Connectivity computation...\n",
      "   Processing epoch 1 / 1 ...\n"
     ]
    },
    {
     "name": "stderr",
     "output_type": "stream",
     "text": [
      "/Users/jakubblaha/Documents/thesis/thesis-python/main.py:121: RuntimeWarning: There were no Annotations stored in <EpochsArray | 1 events (all good), 7 – 14.992 s (baseline off), ~127 kB, data loaded,\n",
      " '1': 1>, so metadata was not modified.\n",
      "  \n"
     ]
    },
    {
     "name": "stdout",
     "output_type": "stream",
     "text": [
      "[Connectivity computation done]\n",
      "[ 4  8 10 13 30 45]\n",
      "(6,)\n",
      "[ 4  8 10 13 30 45]\n",
      "(6,)\n",
      "only using indices for lower-triangular matrix\n",
      "Connectivity computation...\n",
      "   Processing epoch 1 / 1 ...\n"
     ]
    },
    {
     "name": "stderr",
     "output_type": "stream",
     "text": [
      "/Users/jakubblaha/Documents/thesis/thesis-python/main.py:121: RuntimeWarning: There were no Annotations stored in <EpochsArray | 1 events (all good), 7 – 14.992 s (baseline off), ~127 kB, data loaded,\n",
      " '1': 1>, so metadata was not modified.\n",
      "  \n"
     ]
    },
    {
     "name": "stdout",
     "output_type": "stream",
     "text": [
      "[Connectivity computation done]\n",
      "[ 4  8 10 13 30 45]\n",
      "(6,)\n",
      "[ 4  8 10 13 30 45]\n",
      "(6,)\n",
      "only using indices for lower-triangular matrix\n",
      "Connectivity computation...\n",
      "   Processing epoch 1 / 1 ...\n"
     ]
    },
    {
     "name": "stderr",
     "output_type": "stream",
     "text": [
      "/Users/jakubblaha/Documents/thesis/thesis-python/main.py:121: RuntimeWarning: There were no Annotations stored in <EpochsArray | 1 events (all good), 7 – 14.992 s (baseline off), ~127 kB, data loaded,\n",
      " '1': 1>, so metadata was not modified.\n",
      "  \n"
     ]
    },
    {
     "name": "stdout",
     "output_type": "stream",
     "text": [
      "[Connectivity computation done]\n",
      "[ 4  8 10 13 30 45]\n",
      "(6,)\n",
      "[ 4  8 10 13 30 45]\n",
      "(6,)\n",
      "only using indices for lower-triangular matrix\n",
      "Connectivity computation...\n",
      "   Processing epoch 1 / 1 ...\n"
     ]
    },
    {
     "name": "stderr",
     "output_type": "stream",
     "text": [
      "/Users/jakubblaha/Documents/thesis/thesis-python/main.py:121: RuntimeWarning: There were no Annotations stored in <EpochsArray | 1 events (all good), 7 – 14.992 s (baseline off), ~127 kB, data loaded,\n",
      " '1': 1>, so metadata was not modified.\n",
      "  \n"
     ]
    },
    {
     "name": "stdout",
     "output_type": "stream",
     "text": [
      "[Connectivity computation done]\n",
      "[ 4  8 10 13 30 45]\n",
      "(6,)\n",
      "[ 4  8 10 13 30 45]\n",
      "(6,)\n",
      "only using indices for lower-triangular matrix\n",
      "Connectivity computation...\n",
      "   Processing epoch 1 / 1 ...\n"
     ]
    },
    {
     "name": "stderr",
     "output_type": "stream",
     "text": [
      "/Users/jakubblaha/Documents/thesis/thesis-python/main.py:121: RuntimeWarning: There were no Annotations stored in <EpochsArray | 1 events (all good), 7 – 14.992 s (baseline off), ~127 kB, data loaded,\n",
      " '1': 1>, so metadata was not modified.\n",
      "  \n"
     ]
    },
    {
     "name": "stdout",
     "output_type": "stream",
     "text": [
      "[Connectivity computation done]\n",
      "[ 4  8 10 13 30 45]\n",
      "(6,)\n",
      "[ 4  8 10 13 30 45]\n",
      "(6,)\n",
      "only using indices for lower-triangular matrix\n",
      "Connectivity computation...\n",
      "   Processing epoch 1 / 1 ...\n"
     ]
    },
    {
     "name": "stderr",
     "output_type": "stream",
     "text": [
      "/Users/jakubblaha/Documents/thesis/thesis-python/main.py:121: RuntimeWarning: There were no Annotations stored in <EpochsArray | 1 events (all good), 7 – 14.992 s (baseline off), ~127 kB, data loaded,\n",
      " '1': 1>, so metadata was not modified.\n",
      "  \n"
     ]
    },
    {
     "name": "stdout",
     "output_type": "stream",
     "text": [
      "[Connectivity computation done]\n",
      "[ 4  8 10 13 30 45]\n",
      "(6,)\n",
      "[ 4  8 10 13 30 45]\n",
      "(6,)\n",
      "only using indices for lower-triangular matrix\n",
      "Connectivity computation...\n",
      "   Processing epoch 1 / 1 ...\n"
     ]
    },
    {
     "name": "stderr",
     "output_type": "stream",
     "text": [
      "/Users/jakubblaha/Documents/thesis/thesis-python/main.py:121: RuntimeWarning: There were no Annotations stored in <EpochsArray | 1 events (all good), 7 – 14.992 s (baseline off), ~127 kB, data loaded,\n",
      " '1': 1>, so metadata was not modified.\n",
      "  \n"
     ]
    },
    {
     "name": "stdout",
     "output_type": "stream",
     "text": [
      "[Connectivity computation done]\n",
      "[ 4  8 10 13 30 45]\n",
      "(6,)\n",
      "[ 4  8 10 13 30 45]\n",
      "(6,)\n",
      "only using indices for lower-triangular matrix\n",
      "Connectivity computation...\n",
      "   Processing epoch 1 / 1 ...\n"
     ]
    },
    {
     "name": "stderr",
     "output_type": "stream",
     "text": [
      "/Users/jakubblaha/Documents/thesis/thesis-python/main.py:121: RuntimeWarning: There were no Annotations stored in <EpochsArray | 1 events (all good), 7 – 14.992 s (baseline off), ~127 kB, data loaded,\n",
      " '1': 1>, so metadata was not modified.\n",
      "  \n"
     ]
    },
    {
     "name": "stdout",
     "output_type": "stream",
     "text": [
      "[Connectivity computation done]\n",
      "[ 4  8 10 13 30 45]\n",
      "(6,)\n",
      "[ 4  8 10 13 30 45]\n",
      "(6,)\n",
      "only using indices for lower-triangular matrix\n",
      "Connectivity computation...\n",
      "   Processing epoch 1 / 1 ...\n"
     ]
    },
    {
     "name": "stderr",
     "output_type": "stream",
     "text": [
      "/Users/jakubblaha/Documents/thesis/thesis-python/main.py:121: RuntimeWarning: There were no Annotations stored in <EpochsArray | 1 events (all good), 7 – 14.992 s (baseline off), ~127 kB, data loaded,\n",
      " '1': 1>, so metadata was not modified.\n",
      "  \n"
     ]
    },
    {
     "name": "stdout",
     "output_type": "stream",
     "text": [
      "[Connectivity computation done]\n",
      "[ 4  8 10 13 30 45]\n",
      "(6,)\n",
      "[ 4  8 10 13 30 45]\n",
      "(6,)\n",
      "only using indices for lower-triangular matrix\n",
      "Connectivity computation...\n",
      "   Processing epoch 1 / 1 ...\n"
     ]
    },
    {
     "name": "stderr",
     "output_type": "stream",
     "text": [
      "/Users/jakubblaha/Documents/thesis/thesis-python/main.py:121: RuntimeWarning: There were no Annotations stored in <EpochsArray | 1 events (all good), 7 – 14.992 s (baseline off), ~127 kB, data loaded,\n",
      " '1': 1>, so metadata was not modified.\n",
      "  \n"
     ]
    },
    {
     "name": "stdout",
     "output_type": "stream",
     "text": [
      "[Connectivity computation done]\n",
      "[ 4  8 10 13 30 45]\n",
      "(6,)\n",
      "[ 4  8 10 13 30 45]\n",
      "(6,)\n",
      "only using indices for lower-triangular matrix\n",
      "Connectivity computation...\n",
      "   Processing epoch 1 / 1 ...\n"
     ]
    },
    {
     "name": "stderr",
     "output_type": "stream",
     "text": [
      "/Users/jakubblaha/Documents/thesis/thesis-python/main.py:121: RuntimeWarning: There were no Annotations stored in <EpochsArray | 1 events (all good), 7 – 14.992 s (baseline off), ~127 kB, data loaded,\n",
      " '1': 1>, so metadata was not modified.\n",
      "  \n"
     ]
    },
    {
     "name": "stdout",
     "output_type": "stream",
     "text": [
      "[Connectivity computation done]\n",
      "[ 4  8 10 13 30 45]\n",
      "(6,)\n",
      "[ 4  8 10 13 30 45]\n",
      "(6,)\n",
      "only using indices for lower-triangular matrix\n",
      "Connectivity computation...\n",
      "   Processing epoch 1 / 1 ...\n"
     ]
    },
    {
     "name": "stderr",
     "output_type": "stream",
     "text": [
      "/Users/jakubblaha/Documents/thesis/thesis-python/main.py:121: RuntimeWarning: There were no Annotations stored in <EpochsArray | 1 events (all good), 7 – 14.992 s (baseline off), ~127 kB, data loaded,\n",
      " '1': 1>, so metadata was not modified.\n",
      "  \n"
     ]
    },
    {
     "name": "stdout",
     "output_type": "stream",
     "text": [
      "[Connectivity computation done]\n",
      "[ 4  8 10 13 30 45]\n",
      "(6,)\n",
      "[ 4  8 10 13 30 45]\n",
      "(6,)\n",
      "only using indices for lower-triangular matrix\n",
      "Connectivity computation...\n",
      "   Processing epoch 1 / 1 ...\n"
     ]
    },
    {
     "name": "stderr",
     "output_type": "stream",
     "text": [
      "/Users/jakubblaha/Documents/thesis/thesis-python/main.py:121: RuntimeWarning: There were no Annotations stored in <EpochsArray | 1 events (all good), 7 – 14.992 s (baseline off), ~127 kB, data loaded,\n",
      " '1': 1>, so metadata was not modified.\n",
      "  \n"
     ]
    },
    {
     "name": "stdout",
     "output_type": "stream",
     "text": [
      "[Connectivity computation done]\n",
      "[ 4  8 10 13 30 45]\n",
      "(6,)\n",
      "[ 4  8 10 13 30 45]\n",
      "(6,)\n",
      "only using indices for lower-triangular matrix\n",
      "Connectivity computation...\n",
      "   Processing epoch 1 / 1 ...\n"
     ]
    },
    {
     "name": "stderr",
     "output_type": "stream",
     "text": [
      "/Users/jakubblaha/Documents/thesis/thesis-python/main.py:121: RuntimeWarning: There were no Annotations stored in <EpochsArray | 1 events (all good), 7 – 14.992 s (baseline off), ~127 kB, data loaded,\n",
      " '1': 1>, so metadata was not modified.\n",
      "  \n"
     ]
    },
    {
     "name": "stdout",
     "output_type": "stream",
     "text": [
      "[Connectivity computation done]\n",
      "[ 4  8 10 13 30 45]\n",
      "(6,)\n",
      "[ 4  8 10 13 30 45]\n",
      "(6,)\n",
      "only using indices for lower-triangular matrix\n",
      "Connectivity computation...\n",
      "   Processing epoch 1 / 1 ...\n"
     ]
    },
    {
     "name": "stderr",
     "output_type": "stream",
     "text": [
      "/Users/jakubblaha/Documents/thesis/thesis-python/main.py:121: RuntimeWarning: There were no Annotations stored in <EpochsArray | 1 events (all good), 7 – 14.992 s (baseline off), ~127 kB, data loaded,\n",
      " '1': 1>, so metadata was not modified.\n",
      "  \n"
     ]
    },
    {
     "name": "stdout",
     "output_type": "stream",
     "text": [
      "[Connectivity computation done]\n",
      "[ 4  8 10 13 30 45]\n",
      "(6,)\n",
      "[ 4  8 10 13 30 45]\n",
      "(6,)\n",
      "only using indices for lower-triangular matrix\n",
      "Connectivity computation...\n",
      "   Processing epoch 1 / 1 ...\n"
     ]
    },
    {
     "name": "stderr",
     "output_type": "stream",
     "text": [
      "/Users/jakubblaha/Documents/thesis/thesis-python/main.py:121: RuntimeWarning: There were no Annotations stored in <EpochsArray | 1 events (all good), 7 – 14.992 s (baseline off), ~127 kB, data loaded,\n",
      " '1': 1>, so metadata was not modified.\n",
      "  \n"
     ]
    },
    {
     "name": "stdout",
     "output_type": "stream",
     "text": [
      "[Connectivity computation done]\n",
      "[ 4  8 10 13 30 45]\n",
      "(6,)\n",
      "[ 4  8 10 13 30 45]\n",
      "(6,)\n",
      "only using indices for lower-triangular matrix\n",
      "Connectivity computation...\n",
      "   Processing epoch 1 / 1 ...\n"
     ]
    },
    {
     "name": "stderr",
     "output_type": "stream",
     "text": [
      "/Users/jakubblaha/Documents/thesis/thesis-python/main.py:121: RuntimeWarning: There were no Annotations stored in <EpochsArray | 1 events (all good), 7 – 14.992 s (baseline off), ~127 kB, data loaded,\n",
      " '1': 1>, so metadata was not modified.\n",
      "  \n"
     ]
    },
    {
     "name": "stdout",
     "output_type": "stream",
     "text": [
      "[Connectivity computation done]\n",
      "[ 4  8 10 13 30 45]\n",
      "(6,)\n",
      "[ 4  8 10 13 30 45]\n",
      "(6,)\n",
      "only using indices for lower-triangular matrix\n",
      "Connectivity computation...\n",
      "   Processing epoch 1 / 1 ...\n"
     ]
    },
    {
     "name": "stderr",
     "output_type": "stream",
     "text": [
      "/Users/jakubblaha/Documents/thesis/thesis-python/main.py:121: RuntimeWarning: There were no Annotations stored in <EpochsArray | 1 events (all good), 7 – 14.992 s (baseline off), ~127 kB, data loaded,\n",
      " '1': 1>, so metadata was not modified.\n",
      "  \n"
     ]
    },
    {
     "name": "stdout",
     "output_type": "stream",
     "text": [
      "[Connectivity computation done]\n",
      "[ 4  8 10 13 30 45]\n",
      "(6,)\n",
      "[ 4  8 10 13 30 45]\n",
      "(6,)\n",
      "only using indices for lower-triangular matrix\n",
      "Connectivity computation...\n",
      "   Processing epoch 1 / 1 ...\n"
     ]
    },
    {
     "name": "stderr",
     "output_type": "stream",
     "text": [
      "/Users/jakubblaha/Documents/thesis/thesis-python/main.py:121: RuntimeWarning: There were no Annotations stored in <EpochsArray | 1 events (all good), 7 – 14.992 s (baseline off), ~127 kB, data loaded,\n",
      " '1': 1>, so metadata was not modified.\n",
      "  \n"
     ]
    },
    {
     "name": "stdout",
     "output_type": "stream",
     "text": [
      "[Connectivity computation done]\n",
      "[ 4  8 10 13 30 45]\n",
      "(6,)\n",
      "[ 4  8 10 13 30 45]\n",
      "(6,)\n",
      "only using indices for lower-triangular matrix\n",
      "Connectivity computation...\n",
      "   Processing epoch 1 / 1 ...\n"
     ]
    },
    {
     "name": "stderr",
     "output_type": "stream",
     "text": [
      "/Users/jakubblaha/Documents/thesis/thesis-python/main.py:121: RuntimeWarning: There were no Annotations stored in <EpochsArray | 1 events (all good), 7 – 14.992 s (baseline off), ~127 kB, data loaded,\n",
      " '1': 1>, so metadata was not modified.\n",
      "  \n"
     ]
    },
    {
     "name": "stdout",
     "output_type": "stream",
     "text": [
      "[Connectivity computation done]\n",
      "[ 4  8 10 13 30 45]\n",
      "(6,)\n",
      "[ 4  8 10 13 30 45]\n",
      "(6,)\n",
      "only using indices for lower-triangular matrix\n",
      "Connectivity computation...\n",
      "   Processing epoch 1 / 1 ...\n"
     ]
    },
    {
     "name": "stderr",
     "output_type": "stream",
     "text": [
      "/Users/jakubblaha/Documents/thesis/thesis-python/main.py:121: RuntimeWarning: There were no Annotations stored in <EpochsArray | 1 events (all good), 7 – 14.992 s (baseline off), ~127 kB, data loaded,\n",
      " '1': 1>, so metadata was not modified.\n",
      "  \n"
     ]
    },
    {
     "name": "stdout",
     "output_type": "stream",
     "text": [
      "[Connectivity computation done]\n",
      "[ 4  8 10 13 30 45]\n",
      "(6,)\n",
      "[ 4  8 10 13 30 45]\n",
      "(6,)\n",
      "only using indices for lower-triangular matrix\n",
      "Connectivity computation...\n",
      "   Processing epoch 1 / 1 ...\n"
     ]
    },
    {
     "name": "stderr",
     "output_type": "stream",
     "text": [
      "/Users/jakubblaha/Documents/thesis/thesis-python/main.py:121: RuntimeWarning: There were no Annotations stored in <EpochsArray | 1 events (all good), 7 – 14.992 s (baseline off), ~127 kB, data loaded,\n",
      " '1': 1>, so metadata was not modified.\n",
      "  \n"
     ]
    },
    {
     "name": "stdout",
     "output_type": "stream",
     "text": [
      "[Connectivity computation done]\n",
      "[ 4  8 10 13 30 45]\n",
      "(6,)\n",
      "[ 4  8 10 13 30 45]\n",
      "(6,)\n",
      "only using indices for lower-triangular matrix\n",
      "Connectivity computation...\n",
      "   Processing epoch 1 / 1 ...\n"
     ]
    },
    {
     "name": "stderr",
     "output_type": "stream",
     "text": [
      "/Users/jakubblaha/Documents/thesis/thesis-python/main.py:121: RuntimeWarning: There were no Annotations stored in <EpochsArray | 1 events (all good), 7 – 14.992 s (baseline off), ~127 kB, data loaded,\n",
      " '1': 1>, so metadata was not modified.\n",
      "  \n"
     ]
    },
    {
     "name": "stdout",
     "output_type": "stream",
     "text": [
      "[Connectivity computation done]\n",
      "[ 4  8 10 13 30 45]\n",
      "(6,)\n",
      "[ 4  8 10 13 30 45]\n",
      "(6,)\n",
      "only using indices for lower-triangular matrix\n",
      "Connectivity computation...\n",
      "   Processing epoch 1 / 1 ...\n"
     ]
    },
    {
     "name": "stderr",
     "output_type": "stream",
     "text": [
      "/Users/jakubblaha/Documents/thesis/thesis-python/main.py:121: RuntimeWarning: There were no Annotations stored in <EpochsArray | 1 events (all good), 7 – 14.992 s (baseline off), ~127 kB, data loaded,\n",
      " '1': 1>, so metadata was not modified.\n",
      "  \n"
     ]
    },
    {
     "name": "stdout",
     "output_type": "stream",
     "text": [
      "[Connectivity computation done]\n",
      "[ 4  8 10 13 30 45]\n",
      "(6,)\n",
      "[ 4  8 10 13 30 45]\n",
      "(6,)\n",
      "only using indices for lower-triangular matrix\n",
      "Connectivity computation...\n",
      "   Processing epoch 1 / 1 ...\n"
     ]
    },
    {
     "name": "stderr",
     "output_type": "stream",
     "text": [
      "/Users/jakubblaha/Documents/thesis/thesis-python/main.py:121: RuntimeWarning: There were no Annotations stored in <EpochsArray | 1 events (all good), 7 – 14.992 s (baseline off), ~127 kB, data loaded,\n",
      " '1': 1>, so metadata was not modified.\n",
      "  \n"
     ]
    },
    {
     "name": "stdout",
     "output_type": "stream",
     "text": [
      "[Connectivity computation done]\n",
      "[ 4  8 10 13 30 45]\n",
      "(6,)\n",
      "[ 4  8 10 13 30 45]\n",
      "(6,)\n",
      "only using indices for lower-triangular matrix\n",
      "Connectivity computation...\n",
      "   Processing epoch 1 / 1 ...\n"
     ]
    },
    {
     "name": "stderr",
     "output_type": "stream",
     "text": [
      "/Users/jakubblaha/Documents/thesis/thesis-python/main.py:121: RuntimeWarning: There were no Annotations stored in <EpochsArray | 1 events (all good), 7 – 14.992 s (baseline off), ~127 kB, data loaded,\n",
      " '1': 1>, so metadata was not modified.\n",
      "  \n"
     ]
    },
    {
     "name": "stdout",
     "output_type": "stream",
     "text": [
      "[Connectivity computation done]\n",
      "[ 4  8 10 13 30 45]\n",
      "(6,)\n",
      "[ 4  8 10 13 30 45]\n",
      "(6,)\n",
      "only using indices for lower-triangular matrix\n",
      "Connectivity computation...\n",
      "   Processing epoch 1 / 1 ...\n"
     ]
    },
    {
     "name": "stderr",
     "output_type": "stream",
     "text": [
      "/Users/jakubblaha/Documents/thesis/thesis-python/main.py:121: RuntimeWarning: There were no Annotations stored in <EpochsArray | 1 events (all good), 7 – 14.992 s (baseline off), ~127 kB, data loaded,\n",
      " '1': 1>, so metadata was not modified.\n",
      "  \n"
     ]
    },
    {
     "name": "stdout",
     "output_type": "stream",
     "text": [
      "[Connectivity computation done]\n",
      "[ 4  8 10 13 30 45]\n",
      "(6,)\n",
      "[ 4  8 10 13 30 45]\n",
      "(6,)\n",
      "only using indices for lower-triangular matrix\n",
      "Connectivity computation...\n",
      "   Processing epoch 1 / 1 ...\n"
     ]
    },
    {
     "name": "stderr",
     "output_type": "stream",
     "text": [
      "/Users/jakubblaha/Documents/thesis/thesis-python/main.py:121: RuntimeWarning: There were no Annotations stored in <EpochsArray | 1 events (all good), 7 – 14.992 s (baseline off), ~127 kB, data loaded,\n",
      " '1': 1>, so metadata was not modified.\n",
      "  \n"
     ]
    },
    {
     "name": "stdout",
     "output_type": "stream",
     "text": [
      "[Connectivity computation done]\n",
      "[ 4  8 10 13 30 45]\n",
      "(6,)\n",
      "[ 4  8 10 13 30 45]\n",
      "(6,)\n",
      "only using indices for lower-triangular matrix\n",
      "Connectivity computation...\n",
      "   Processing epoch 1 / 1 ...\n"
     ]
    },
    {
     "name": "stderr",
     "output_type": "stream",
     "text": [
      "/Users/jakubblaha/Documents/thesis/thesis-python/main.py:121: RuntimeWarning: There were no Annotations stored in <EpochsArray | 1 events (all good), 7 – 14.992 s (baseline off), ~127 kB, data loaded,\n",
      " '1': 1>, so metadata was not modified.\n",
      "  \n"
     ]
    },
    {
     "name": "stdout",
     "output_type": "stream",
     "text": [
      "[Connectivity computation done]\n",
      "[ 4  8 10 13 30 45]\n",
      "(6,)\n",
      "[ 4  8 10 13 30 45]\n",
      "(6,)\n",
      "only using indices for lower-triangular matrix\n",
      "Connectivity computation...\n",
      "   Processing epoch 1 / 1 ...\n"
     ]
    },
    {
     "name": "stderr",
     "output_type": "stream",
     "text": [
      "/Users/jakubblaha/Documents/thesis/thesis-python/main.py:121: RuntimeWarning: There were no Annotations stored in <EpochsArray | 1 events (all good), 7 – 14.992 s (baseline off), ~127 kB, data loaded,\n",
      " '1': 1>, so metadata was not modified.\n",
      "  \n"
     ]
    },
    {
     "name": "stdout",
     "output_type": "stream",
     "text": [
      "[Connectivity computation done]\n",
      "[ 4  8 10 13 30 45]\n",
      "(6,)\n",
      "[ 4  8 10 13 30 45]\n",
      "(6,)\n",
      "only using indices for lower-triangular matrix\n",
      "Connectivity computation...\n",
      "   Processing epoch 1 / 1 ...\n"
     ]
    },
    {
     "name": "stderr",
     "output_type": "stream",
     "text": [
      "/Users/jakubblaha/Documents/thesis/thesis-python/main.py:121: RuntimeWarning: There were no Annotations stored in <EpochsArray | 1 events (all good), 7 – 14.992 s (baseline off), ~127 kB, data loaded,\n",
      " '1': 1>, so metadata was not modified.\n",
      "  \n"
     ]
    },
    {
     "name": "stdout",
     "output_type": "stream",
     "text": [
      "[Connectivity computation done]\n",
      "[ 4  8 10 13 30 45]\n",
      "(6,)\n",
      "[ 4  8 10 13 30 45]\n",
      "(6,)\n",
      "only using indices for lower-triangular matrix\n",
      "Connectivity computation...\n",
      "   Processing epoch 1 / 1 ...\n"
     ]
    },
    {
     "name": "stderr",
     "output_type": "stream",
     "text": [
      "/Users/jakubblaha/Documents/thesis/thesis-python/main.py:121: RuntimeWarning: There were no Annotations stored in <EpochsArray | 1 events (all good), 7 – 14.992 s (baseline off), ~127 kB, data loaded,\n",
      " '1': 1>, so metadata was not modified.\n",
      "  \n"
     ]
    },
    {
     "name": "stdout",
     "output_type": "stream",
     "text": [
      "[Connectivity computation done]\n",
      "[ 4  8 10 13 30 45]\n",
      "(6,)\n",
      "[ 4  8 10 13 30 45]\n",
      "(6,)\n",
      "only using indices for lower-triangular matrix\n",
      "Connectivity computation...\n",
      "   Processing epoch 1 / 1 ...\n"
     ]
    },
    {
     "name": "stderr",
     "output_type": "stream",
     "text": [
      "/Users/jakubblaha/Documents/thesis/thesis-python/main.py:121: RuntimeWarning: There were no Annotations stored in <EpochsArray | 1 events (all good), 7 – 14.992 s (baseline off), ~127 kB, data loaded,\n",
      " '1': 1>, so metadata was not modified.\n",
      "  \n"
     ]
    },
    {
     "name": "stdout",
     "output_type": "stream",
     "text": [
      "[Connectivity computation done]\n",
      "[ 4  8 10 13 30 45]\n",
      "(6,)\n",
      "[ 4  8 10 13 30 45]\n",
      "(6,)\n",
      "only using indices for lower-triangular matrix\n",
      "Connectivity computation...\n",
      "   Processing epoch 1 / 1 ...\n"
     ]
    },
    {
     "name": "stderr",
     "output_type": "stream",
     "text": [
      "/Users/jakubblaha/Documents/thesis/thesis-python/main.py:121: RuntimeWarning: There were no Annotations stored in <EpochsArray | 1 events (all good), 7 – 14.992 s (baseline off), ~127 kB, data loaded,\n",
      " '1': 1>, so metadata was not modified.\n",
      "  \n"
     ]
    },
    {
     "name": "stdout",
     "output_type": "stream",
     "text": [
      "[Connectivity computation done]\n",
      "[ 4  8 10 13 30 45]\n",
      "(6,)\n",
      "[ 4  8 10 13 30 45]\n",
      "(6,)\n",
      "only using indices for lower-triangular matrix\n",
      "Connectivity computation...\n",
      "   Processing epoch 1 / 1 ...\n"
     ]
    },
    {
     "name": "stderr",
     "output_type": "stream",
     "text": [
      "/Users/jakubblaha/Documents/thesis/thesis-python/main.py:121: RuntimeWarning: There were no Annotations stored in <EpochsArray | 1 events (all good), 7 – 14.992 s (baseline off), ~127 kB, data loaded,\n",
      " '1': 1>, so metadata was not modified.\n",
      "  \n"
     ]
    },
    {
     "name": "stdout",
     "output_type": "stream",
     "text": [
      "[Connectivity computation done]\n",
      "[ 4  8 10 13 30 45]\n",
      "(6,)\n",
      "[ 4  8 10 13 30 45]\n",
      "(6,)\n",
      "only using indices for lower-triangular matrix\n",
      "Connectivity computation...\n",
      "   Processing epoch 1 / 1 ...\n"
     ]
    },
    {
     "name": "stderr",
     "output_type": "stream",
     "text": [
      "/Users/jakubblaha/Documents/thesis/thesis-python/main.py:121: RuntimeWarning: There were no Annotations stored in <EpochsArray | 1 events (all good), 7 – 14.992 s (baseline off), ~127 kB, data loaded,\n",
      " '1': 1>, so metadata was not modified.\n",
      "  \n"
     ]
    },
    {
     "name": "stdout",
     "output_type": "stream",
     "text": [
      "[Connectivity computation done]\n",
      "[ 4  8 10 13 30 45]\n",
      "(6,)\n",
      "[ 4  8 10 13 30 45]\n",
      "(6,)\n",
      "only using indices for lower-triangular matrix\n",
      "Connectivity computation...\n",
      "   Processing epoch 1 / 1 ...\n"
     ]
    },
    {
     "name": "stderr",
     "output_type": "stream",
     "text": [
      "/Users/jakubblaha/Documents/thesis/thesis-python/main.py:121: RuntimeWarning: There were no Annotations stored in <EpochsArray | 1 events (all good), 7 – 14.992 s (baseline off), ~127 kB, data loaded,\n",
      " '1': 1>, so metadata was not modified.\n",
      "  \n"
     ]
    },
    {
     "name": "stdout",
     "output_type": "stream",
     "text": [
      "[Connectivity computation done]\n",
      "[ 4  8 10 13 30 45]\n",
      "(6,)\n",
      "[ 4  8 10 13 30 45]\n",
      "(6,)\n",
      "only using indices for lower-triangular matrix\n",
      "Connectivity computation...\n",
      "   Processing epoch 1 / 1 ...\n"
     ]
    },
    {
     "name": "stderr",
     "output_type": "stream",
     "text": [
      "/Users/jakubblaha/Documents/thesis/thesis-python/main.py:121: RuntimeWarning: There were no Annotations stored in <EpochsArray | 1 events (all good), 7 – 14.992 s (baseline off), ~127 kB, data loaded,\n",
      " '1': 1>, so metadata was not modified.\n",
      "  \n"
     ]
    },
    {
     "name": "stdout",
     "output_type": "stream",
     "text": [
      "[Connectivity computation done]\n",
      "[ 4  8 10 13 30 45]\n",
      "(6,)\n",
      "[ 4  8 10 13 30 45]\n",
      "(6,)\n",
      "only using indices for lower-triangular matrix\n",
      "Connectivity computation...\n",
      "   Processing epoch 1 / 1 ...\n"
     ]
    },
    {
     "name": "stderr",
     "output_type": "stream",
     "text": [
      "/Users/jakubblaha/Documents/thesis/thesis-python/main.py:121: RuntimeWarning: There were no Annotations stored in <EpochsArray | 1 events (all good), 7 – 14.992 s (baseline off), ~127 kB, data loaded,\n",
      " '1': 1>, so metadata was not modified.\n",
      "  \n"
     ]
    },
    {
     "name": "stdout",
     "output_type": "stream",
     "text": [
      "[Connectivity computation done]\n",
      "[ 4  8 10 13 30 45]\n",
      "(6,)\n",
      "[ 4  8 10 13 30 45]\n",
      "(6,)\n",
      "only using indices for lower-triangular matrix\n",
      "Connectivity computation...\n",
      "   Processing epoch 1 / 1 ...\n",
      "[Connectivity computation done]\n"
     ]
    },
    {
     "name": "stderr",
     "output_type": "stream",
     "text": [
      "/Users/jakubblaha/Documents/thesis/thesis-python/main.py:121: RuntimeWarning: There were no Annotations stored in <EpochsArray | 1 events (all good), 7 – 14.992 s (baseline off), ~127 kB, data loaded,\n",
      " '1': 1>, so metadata was not modified.\n",
      "  \n"
     ]
    },
    {
     "name": "stdout",
     "output_type": "stream",
     "text": [
      "[ 4  8 10 13 30 45]\n",
      "(6,)\n",
      "[ 4  8 10 13 30 45]\n",
      "(6,)\n",
      "only using indices for lower-triangular matrix\n",
      "Connectivity computation...\n",
      "   Processing epoch 1 / 1 ...\n"
     ]
    },
    {
     "name": "stderr",
     "output_type": "stream",
     "text": [
      "/Users/jakubblaha/Documents/thesis/thesis-python/main.py:121: RuntimeWarning: There were no Annotations stored in <EpochsArray | 1 events (all good), 7 – 14.992 s (baseline off), ~127 kB, data loaded,\n",
      " '1': 1>, so metadata was not modified.\n",
      "  \n"
     ]
    },
    {
     "name": "stdout",
     "output_type": "stream",
     "text": [
      "[Connectivity computation done]\n",
      "[ 4  8 10 13 30 45]\n",
      "(6,)\n",
      "[ 4  8 10 13 30 45]\n",
      "(6,)\n",
      "only using indices for lower-triangular matrix\n",
      "Connectivity computation...\n",
      "   Processing epoch 1 / 1 ...\n"
     ]
    },
    {
     "name": "stderr",
     "output_type": "stream",
     "text": [
      "/Users/jakubblaha/Documents/thesis/thesis-python/main.py:121: RuntimeWarning: There were no Annotations stored in <EpochsArray | 1 events (all good), 7 – 14.992 s (baseline off), ~127 kB, data loaded,\n",
      " '1': 1>, so metadata was not modified.\n",
      "  \n"
     ]
    },
    {
     "name": "stdout",
     "output_type": "stream",
     "text": [
      "[Connectivity computation done]\n",
      "[ 4  8 10 13 30 45]\n",
      "(6,)\n",
      "[ 4  8 10 13 30 45]\n",
      "(6,)\n",
      "only using indices for lower-triangular matrix\n",
      "Connectivity computation...\n",
      "   Processing epoch 1 / 1 ...\n"
     ]
    },
    {
     "name": "stderr",
     "output_type": "stream",
     "text": [
      "/Users/jakubblaha/Documents/thesis/thesis-python/main.py:121: RuntimeWarning: There were no Annotations stored in <EpochsArray | 1 events (all good), 7 – 14.992 s (baseline off), ~127 kB, data loaded,\n",
      " '1': 1>, so metadata was not modified.\n",
      "  \n"
     ]
    },
    {
     "name": "stdout",
     "output_type": "stream",
     "text": [
      "[Connectivity computation done]\n",
      "[ 4  8 10 13 30 45]\n",
      "(6,)\n",
      "[ 4  8 10 13 30 45]\n",
      "(6,)\n",
      "only using indices for lower-triangular matrix\n",
      "Connectivity computation...\n",
      "   Processing epoch 1 / 1 ...\n"
     ]
    },
    {
     "name": "stderr",
     "output_type": "stream",
     "text": [
      "/Users/jakubblaha/Documents/thesis/thesis-python/main.py:121: RuntimeWarning: There were no Annotations stored in <EpochsArray | 1 events (all good), 7 – 14.992 s (baseline off), ~127 kB, data loaded,\n",
      " '1': 1>, so metadata was not modified.\n",
      "  \n"
     ]
    },
    {
     "name": "stdout",
     "output_type": "stream",
     "text": [
      "[Connectivity computation done]\n",
      "[ 4  8 10 13 30 45]\n",
      "(6,)\n",
      "[ 4  8 10 13 30 45]\n",
      "(6,)\n",
      "only using indices for lower-triangular matrix\n",
      "Connectivity computation...\n",
      "   Processing epoch 1 / 1 ...\n"
     ]
    },
    {
     "name": "stderr",
     "output_type": "stream",
     "text": [
      "/Users/jakubblaha/Documents/thesis/thesis-python/main.py:121: RuntimeWarning: There were no Annotations stored in <EpochsArray | 1 events (all good), 7 – 14.992 s (baseline off), ~127 kB, data loaded,\n",
      " '1': 1>, so metadata was not modified.\n",
      "  \n"
     ]
    },
    {
     "name": "stdout",
     "output_type": "stream",
     "text": [
      "[Connectivity computation done]\n",
      "[ 4  8 10 13 30 45]\n",
      "(6,)\n",
      "[ 4  8 10 13 30 45]\n",
      "(6,)\n",
      "only using indices for lower-triangular matrix\n",
      "Connectivity computation...\n",
      "   Processing epoch 1 / 1 ...\n"
     ]
    },
    {
     "name": "stderr",
     "output_type": "stream",
     "text": [
      "/Users/jakubblaha/Documents/thesis/thesis-python/main.py:121: RuntimeWarning: There were no Annotations stored in <EpochsArray | 1 events (all good), 7 – 14.992 s (baseline off), ~127 kB, data loaded,\n",
      " '1': 1>, so metadata was not modified.\n",
      "  \n"
     ]
    },
    {
     "name": "stdout",
     "output_type": "stream",
     "text": [
      "[Connectivity computation done]\n",
      "[ 4  8 10 13 30 45]\n",
      "(6,)\n",
      "[ 4  8 10 13 30 45]\n",
      "(6,)\n",
      "only using indices for lower-triangular matrix\n",
      "Connectivity computation...\n",
      "   Processing epoch 1 / 1 ...\n"
     ]
    },
    {
     "name": "stderr",
     "output_type": "stream",
     "text": [
      "/Users/jakubblaha/Documents/thesis/thesis-python/main.py:121: RuntimeWarning: There were no Annotations stored in <EpochsArray | 1 events (all good), 7 – 14.992 s (baseline off), ~127 kB, data loaded,\n",
      " '1': 1>, so metadata was not modified.\n",
      "  \n"
     ]
    },
    {
     "name": "stdout",
     "output_type": "stream",
     "text": [
      "[Connectivity computation done]\n",
      "[ 4  8 10 13 30 45]\n",
      "(6,)\n",
      "[ 4  8 10 13 30 45]\n",
      "(6,)\n",
      "only using indices for lower-triangular matrix\n",
      "Connectivity computation...\n",
      "   Processing epoch 1 / 1 ...\n"
     ]
    },
    {
     "name": "stderr",
     "output_type": "stream",
     "text": [
      "/Users/jakubblaha/Documents/thesis/thesis-python/main.py:121: RuntimeWarning: There were no Annotations stored in <EpochsArray | 1 events (all good), 7 – 14.992 s (baseline off), ~127 kB, data loaded,\n",
      " '1': 1>, so metadata was not modified.\n",
      "  \n"
     ]
    },
    {
     "name": "stdout",
     "output_type": "stream",
     "text": [
      "[Connectivity computation done]\n",
      "[ 4  8 10 13 30 45]\n",
      "(6,)\n",
      "[ 4  8 10 13 30 45]\n",
      "(6,)\n",
      "only using indices for lower-triangular matrix\n",
      "Connectivity computation...\n",
      "   Processing epoch 1 / 1 ...\n"
     ]
    },
    {
     "name": "stderr",
     "output_type": "stream",
     "text": [
      "/Users/jakubblaha/Documents/thesis/thesis-python/main.py:121: RuntimeWarning: There were no Annotations stored in <EpochsArray | 1 events (all good), 7 – 14.992 s (baseline off), ~127 kB, data loaded,\n",
      " '1': 1>, so metadata was not modified.\n",
      "  \n"
     ]
    },
    {
     "name": "stdout",
     "output_type": "stream",
     "text": [
      "[Connectivity computation done]\n",
      "[ 4  8 10 13 30 45]\n",
      "(6,)\n",
      "[ 4  8 10 13 30 45]\n",
      "(6,)\n",
      "only using indices for lower-triangular matrix\n",
      "Connectivity computation...\n",
      "   Processing epoch 1 / 1 ...\n"
     ]
    },
    {
     "name": "stderr",
     "output_type": "stream",
     "text": [
      "/Users/jakubblaha/Documents/thesis/thesis-python/main.py:121: RuntimeWarning: There were no Annotations stored in <EpochsArray | 1 events (all good), 7 – 14.992 s (baseline off), ~127 kB, data loaded,\n",
      " '1': 1>, so metadata was not modified.\n",
      "  \n"
     ]
    },
    {
     "name": "stdout",
     "output_type": "stream",
     "text": [
      "[Connectivity computation done]\n",
      "[ 4  8 10 13 30 45]\n",
      "(6,)\n",
      "[ 4  8 10 13 30 45]\n",
      "(6,)\n",
      "only using indices for lower-triangular matrix\n",
      "Connectivity computation...\n",
      "   Processing epoch 1 / 1 ...\n"
     ]
    },
    {
     "name": "stderr",
     "output_type": "stream",
     "text": [
      "/Users/jakubblaha/Documents/thesis/thesis-python/main.py:121: RuntimeWarning: There were no Annotations stored in <EpochsArray | 1 events (all good), 7 – 14.992 s (baseline off), ~127 kB, data loaded,\n",
      " '1': 1>, so metadata was not modified.\n",
      "  \n"
     ]
    },
    {
     "name": "stdout",
     "output_type": "stream",
     "text": [
      "[Connectivity computation done]\n",
      "[ 4  8 10 13 30 45]\n",
      "(6,)\n",
      "[ 4  8 10 13 30 45]\n",
      "(6,)\n",
      "only using indices for lower-triangular matrix\n",
      "Connectivity computation...\n",
      "   Processing epoch 1 / 1 ...\n"
     ]
    },
    {
     "name": "stderr",
     "output_type": "stream",
     "text": [
      "/Users/jakubblaha/Documents/thesis/thesis-python/main.py:121: RuntimeWarning: There were no Annotations stored in <EpochsArray | 1 events (all good), 7 – 14.992 s (baseline off), ~127 kB, data loaded,\n",
      " '1': 1>, so metadata was not modified.\n",
      "  \n"
     ]
    },
    {
     "name": "stdout",
     "output_type": "stream",
     "text": [
      "[Connectivity computation done]\n",
      "[ 4  8 10 13 30 45]\n",
      "(6,)\n",
      "[ 4  8 10 13 30 45]\n",
      "(6,)\n",
      "only using indices for lower-triangular matrix\n",
      "Connectivity computation...\n",
      "   Processing epoch 1 / 1 ...\n"
     ]
    },
    {
     "name": "stderr",
     "output_type": "stream",
     "text": [
      "/Users/jakubblaha/Documents/thesis/thesis-python/main.py:121: RuntimeWarning: There were no Annotations stored in <EpochsArray | 1 events (all good), 7 – 14.992 s (baseline off), ~127 kB, data loaded,\n",
      " '1': 1>, so metadata was not modified.\n",
      "  \n"
     ]
    },
    {
     "name": "stdout",
     "output_type": "stream",
     "text": [
      "[Connectivity computation done]\n",
      "[ 4  8 10 13 30 45]\n",
      "(6,)\n",
      "[ 4  8 10 13 30 45]\n",
      "(6,)\n",
      "only using indices for lower-triangular matrix\n",
      "Connectivity computation...\n",
      "   Processing epoch 1 / 1 ...\n"
     ]
    },
    {
     "name": "stderr",
     "output_type": "stream",
     "text": [
      "/Users/jakubblaha/Documents/thesis/thesis-python/main.py:121: RuntimeWarning: There were no Annotations stored in <EpochsArray | 1 events (all good), 7 – 14.992 s (baseline off), ~127 kB, data loaded,\n",
      " '1': 1>, so metadata was not modified.\n",
      "  \n"
     ]
    },
    {
     "name": "stdout",
     "output_type": "stream",
     "text": [
      "[Connectivity computation done]\n",
      "[ 4  8 10 13 30 45]\n",
      "(6,)\n",
      "[ 4  8 10 13 30 45]\n",
      "(6,)\n",
      "only using indices for lower-triangular matrix\n",
      "Connectivity computation...\n",
      "   Processing epoch 1 / 1 ...\n"
     ]
    },
    {
     "name": "stderr",
     "output_type": "stream",
     "text": [
      "/Users/jakubblaha/Documents/thesis/thesis-python/main.py:121: RuntimeWarning: There were no Annotations stored in <EpochsArray | 1 events (all good), 7 – 14.992 s (baseline off), ~127 kB, data loaded,\n",
      " '1': 1>, so metadata was not modified.\n",
      "  \n"
     ]
    },
    {
     "name": "stdout",
     "output_type": "stream",
     "text": [
      "[Connectivity computation done]\n",
      "[ 4  8 10 13 30 45]\n",
      "(6,)\n",
      "[ 4  8 10 13 30 45]\n",
      "(6,)\n",
      "only using indices for lower-triangular matrix\n",
      "Connectivity computation...\n",
      "   Processing epoch 1 / 1 ...\n"
     ]
    },
    {
     "name": "stderr",
     "output_type": "stream",
     "text": [
      "/Users/jakubblaha/Documents/thesis/thesis-python/main.py:121: RuntimeWarning: There were no Annotations stored in <EpochsArray | 1 events (all good), 7 – 14.992 s (baseline off), ~127 kB, data loaded,\n",
      " '1': 1>, so metadata was not modified.\n",
      "  \n"
     ]
    },
    {
     "name": "stdout",
     "output_type": "stream",
     "text": [
      "[Connectivity computation done]\n",
      "[ 4  8 10 13 30 45]\n",
      "(6,)\n",
      "[ 4  8 10 13 30 45]\n",
      "(6,)\n",
      "only using indices for lower-triangular matrix\n",
      "Connectivity computation...\n",
      "   Processing epoch 1 / 1 ...\n"
     ]
    },
    {
     "name": "stderr",
     "output_type": "stream",
     "text": [
      "/Users/jakubblaha/Documents/thesis/thesis-python/main.py:121: RuntimeWarning: There were no Annotations stored in <EpochsArray | 1 events (all good), 7 – 14.992 s (baseline off), ~127 kB, data loaded,\n",
      " '1': 1>, so metadata was not modified.\n",
      "  \n"
     ]
    },
    {
     "name": "stdout",
     "output_type": "stream",
     "text": [
      "[Connectivity computation done]\n",
      "[ 4  8 10 13 30 45]\n",
      "(6,)\n",
      "[ 4  8 10 13 30 45]\n",
      "(6,)\n",
      "only using indices for lower-triangular matrix\n",
      "Connectivity computation...\n",
      "   Processing epoch 1 / 1 ...\n"
     ]
    },
    {
     "name": "stderr",
     "output_type": "stream",
     "text": [
      "/Users/jakubblaha/Documents/thesis/thesis-python/main.py:121: RuntimeWarning: There were no Annotations stored in <EpochsArray | 1 events (all good), 7 – 14.992 s (baseline off), ~127 kB, data loaded,\n",
      " '1': 1>, so metadata was not modified.\n",
      "  \n"
     ]
    },
    {
     "name": "stdout",
     "output_type": "stream",
     "text": [
      "[Connectivity computation done]\n",
      "[ 4  8 10 13 30 45]\n",
      "(6,)\n",
      "[ 4  8 10 13 30 45]\n",
      "(6,)\n",
      "only using indices for lower-triangular matrix\n",
      "Connectivity computation...\n",
      "   Processing epoch 1 / 1 ...\n"
     ]
    },
    {
     "name": "stderr",
     "output_type": "stream",
     "text": [
      "/Users/jakubblaha/Documents/thesis/thesis-python/main.py:121: RuntimeWarning: There were no Annotations stored in <EpochsArray | 1 events (all good), 7 – 14.992 s (baseline off), ~127 kB, data loaded,\n",
      " '1': 1>, so metadata was not modified.\n",
      "  \n"
     ]
    },
    {
     "name": "stdout",
     "output_type": "stream",
     "text": [
      "[Connectivity computation done]\n",
      "[ 4  8 10 13 30 45]\n",
      "(6,)\n",
      "[ 4  8 10 13 30 45]\n",
      "(6,)\n",
      "only using indices for lower-triangular matrix\n",
      "Connectivity computation...\n",
      "   Processing epoch 1 / 1 ...\n"
     ]
    },
    {
     "name": "stderr",
     "output_type": "stream",
     "text": [
      "/Users/jakubblaha/Documents/thesis/thesis-python/main.py:121: RuntimeWarning: There were no Annotations stored in <EpochsArray | 1 events (all good), 7 – 14.992 s (baseline off), ~127 kB, data loaded,\n",
      " '1': 1>, so metadata was not modified.\n",
      "  \n"
     ]
    },
    {
     "name": "stdout",
     "output_type": "stream",
     "text": [
      "[Connectivity computation done]\n",
      "[ 4  8 10 13 30 45]\n",
      "(6,)\n",
      "[ 4  8 10 13 30 45]\n",
      "(6,)\n",
      "only using indices for lower-triangular matrix\n",
      "Connectivity computation...\n",
      "   Processing epoch 1 / 1 ...\n"
     ]
    },
    {
     "name": "stderr",
     "output_type": "stream",
     "text": [
      "/Users/jakubblaha/Documents/thesis/thesis-python/main.py:121: RuntimeWarning: There were no Annotations stored in <EpochsArray | 1 events (all good), 7 – 14.992 s (baseline off), ~127 kB, data loaded,\n",
      " '1': 1>, so metadata was not modified.\n",
      "  \n"
     ]
    },
    {
     "name": "stdout",
     "output_type": "stream",
     "text": [
      "[Connectivity computation done]\n",
      "[ 4  8 10 13 30 45]\n",
      "(6,)\n",
      "[ 4  8 10 13 30 45]\n",
      "(6,)\n",
      "only using indices for lower-triangular matrix\n",
      "Connectivity computation...\n",
      "   Processing epoch 1 / 1 ...\n",
      "[Connectivity computation done]\n"
     ]
    },
    {
     "name": "stderr",
     "output_type": "stream",
     "text": [
      "/Users/jakubblaha/Documents/thesis/thesis-python/main.py:121: RuntimeWarning: There were no Annotations stored in <EpochsArray | 1 events (all good), 7 – 14.992 s (baseline off), ~127 kB, data loaded,\n",
      " '1': 1>, so metadata was not modified.\n",
      "  \n"
     ]
    },
    {
     "name": "stdout",
     "output_type": "stream",
     "text": [
      "[ 4  8 10 13 30 45]\n",
      "(6,)\n",
      "[ 4  8 10 13 30 45]\n",
      "(6,)\n",
      "only using indices for lower-triangular matrix\n",
      "Connectivity computation...\n",
      "   Processing epoch 1 / 1 ...\n"
     ]
    },
    {
     "name": "stderr",
     "output_type": "stream",
     "text": [
      "/Users/jakubblaha/Documents/thesis/thesis-python/main.py:121: RuntimeWarning: There were no Annotations stored in <EpochsArray | 1 events (all good), 7 – 14.992 s (baseline off), ~127 kB, data loaded,\n",
      " '1': 1>, so metadata was not modified.\n",
      "  \n"
     ]
    },
    {
     "name": "stdout",
     "output_type": "stream",
     "text": [
      "[Connectivity computation done]\n",
      "[ 4  8 10 13 30 45]\n",
      "(6,)\n",
      "[ 4  8 10 13 30 45]\n",
      "(6,)\n",
      "only using indices for lower-triangular matrix\n",
      "Connectivity computation...\n",
      "   Processing epoch 1 / 1 ...\n",
      "[Connectivity computation done]\n"
     ]
    },
    {
     "name": "stderr",
     "output_type": "stream",
     "text": [
      "/Users/jakubblaha/Documents/thesis/thesis-python/main.py:121: RuntimeWarning: There were no Annotations stored in <EpochsArray | 1 events (all good), 7 – 14.992 s (baseline off), ~127 kB, data loaded,\n",
      " '1': 1>, so metadata was not modified.\n",
      "  \n"
     ]
    },
    {
     "name": "stdout",
     "output_type": "stream",
     "text": [
      "[ 4  8 10 13 30 45]\n",
      "(6,)\n",
      "[ 4  8 10 13 30 45]\n",
      "(6,)\n",
      "only using indices for lower-triangular matrix\n",
      "Connectivity computation...\n",
      "   Processing epoch 1 / 1 ...\n"
     ]
    },
    {
     "name": "stderr",
     "output_type": "stream",
     "text": [
      "/Users/jakubblaha/Documents/thesis/thesis-python/main.py:121: RuntimeWarning: There were no Annotations stored in <EpochsArray | 1 events (all good), 7 – 14.992 s (baseline off), ~127 kB, data loaded,\n",
      " '1': 1>, so metadata was not modified.\n",
      "  \n"
     ]
    },
    {
     "name": "stdout",
     "output_type": "stream",
     "text": [
      "[Connectivity computation done]\n",
      "[ 4  8 10 13 30 45]\n",
      "(6,)\n",
      "[ 4  8 10 13 30 45]\n",
      "(6,)\n",
      "only using indices for lower-triangular matrix\n",
      "Connectivity computation...\n",
      "   Processing epoch 1 / 1 ...\n",
      "[Connectivity computation done]\n"
     ]
    },
    {
     "name": "stderr",
     "output_type": "stream",
     "text": [
      "/Users/jakubblaha/Documents/thesis/thesis-python/main.py:121: RuntimeWarning: There were no Annotations stored in <EpochsArray | 1 events (all good), 7 – 14.992 s (baseline off), ~127 kB, data loaded,\n",
      " '1': 1>, so metadata was not modified.\n",
      "  \n"
     ]
    },
    {
     "name": "stdout",
     "output_type": "stream",
     "text": [
      "[ 4  8 10 13 30 45]\n",
      "(6,)\n",
      "[ 4  8 10 13 30 45]\n",
      "(6,)\n",
      "only using indices for lower-triangular matrix\n",
      "Connectivity computation...\n",
      "   Processing epoch 1 / 1 ...\n",
      "[Connectivity computation done]\n"
     ]
    },
    {
     "name": "stderr",
     "output_type": "stream",
     "text": [
      "/Users/jakubblaha/Documents/thesis/thesis-python/main.py:121: RuntimeWarning: There were no Annotations stored in <EpochsArray | 1 events (all good), 7 – 14.992 s (baseline off), ~127 kB, data loaded,\n",
      " '1': 1>, so metadata was not modified.\n",
      "  \n"
     ]
    },
    {
     "name": "stdout",
     "output_type": "stream",
     "text": [
      "[ 4  8 10 13 30 45]\n",
      "(6,)\n",
      "[ 4  8 10 13 30 45]\n",
      "(6,)\n",
      "only using indices for lower-triangular matrix\n",
      "Connectivity computation...\n",
      "   Processing epoch 1 / 1 ...\n"
     ]
    },
    {
     "name": "stderr",
     "output_type": "stream",
     "text": [
      "/Users/jakubblaha/Documents/thesis/thesis-python/main.py:121: RuntimeWarning: There were no Annotations stored in <EpochsArray | 1 events (all good), 7 – 14.992 s (baseline off), ~127 kB, data loaded,\n",
      " '1': 1>, so metadata was not modified.\n",
      "  \n"
     ]
    },
    {
     "name": "stdout",
     "output_type": "stream",
     "text": [
      "[Connectivity computation done]\n",
      "[ 4  8 10 13 30 45]\n",
      "(6,)\n",
      "[ 4  8 10 13 30 45]\n",
      "(6,)\n",
      "only using indices for lower-triangular matrix\n",
      "Connectivity computation...\n",
      "   Processing epoch 1 / 1 ...\n"
     ]
    },
    {
     "name": "stderr",
     "output_type": "stream",
     "text": [
      "/Users/jakubblaha/Documents/thesis/thesis-python/main.py:121: RuntimeWarning: There were no Annotations stored in <EpochsArray | 1 events (all good), 7 – 14.992 s (baseline off), ~127 kB, data loaded,\n",
      " '1': 1>, so metadata was not modified.\n",
      "  \n"
     ]
    },
    {
     "name": "stdout",
     "output_type": "stream",
     "text": [
      "[Connectivity computation done]\n",
      "[ 4  8 10 13 30 45]\n",
      "(6,)\n",
      "[ 4  8 10 13 30 45]\n",
      "(6,)\n",
      "only using indices for lower-triangular matrix\n",
      "Connectivity computation...\n",
      "   Processing epoch 1 / 1 ...\n"
     ]
    },
    {
     "name": "stderr",
     "output_type": "stream",
     "text": [
      "/Users/jakubblaha/Documents/thesis/thesis-python/main.py:121: RuntimeWarning: There were no Annotations stored in <EpochsArray | 1 events (all good), 7 – 14.992 s (baseline off), ~127 kB, data loaded,\n",
      " '1': 1>, so metadata was not modified.\n",
      "  \n"
     ]
    },
    {
     "name": "stdout",
     "output_type": "stream",
     "text": [
      "[Connectivity computation done]\n",
      "[ 4  8 10 13 30 45]\n",
      "(6,)\n",
      "[ 4  8 10 13 30 45]\n",
      "(6,)\n",
      "only using indices for lower-triangular matrix\n",
      "Connectivity computation...\n",
      "   Processing epoch 1 / 1 ...\n"
     ]
    },
    {
     "name": "stderr",
     "output_type": "stream",
     "text": [
      "/Users/jakubblaha/Documents/thesis/thesis-python/main.py:121: RuntimeWarning: There were no Annotations stored in <EpochsArray | 1 events (all good), 7 – 14.992 s (baseline off), ~127 kB, data loaded,\n",
      " '1': 1>, so metadata was not modified.\n",
      "  \n"
     ]
    },
    {
     "name": "stdout",
     "output_type": "stream",
     "text": [
      "[Connectivity computation done]\n",
      "[ 4  8 10 13 30 45]\n",
      "(6,)\n",
      "[ 4  8 10 13 30 45]\n",
      "(6,)\n",
      "only using indices for lower-triangular matrix\n",
      "Connectivity computation...\n",
      "   Processing epoch 1 / 1 ...\n"
     ]
    },
    {
     "name": "stderr",
     "output_type": "stream",
     "text": [
      "/Users/jakubblaha/Documents/thesis/thesis-python/main.py:121: RuntimeWarning: There were no Annotations stored in <EpochsArray | 1 events (all good), 7 – 14.992 s (baseline off), ~127 kB, data loaded,\n",
      " '1': 1>, so metadata was not modified.\n",
      "  \n"
     ]
    },
    {
     "name": "stdout",
     "output_type": "stream",
     "text": [
      "[Connectivity computation done]\n",
      "[ 4  8 10 13 30 45]\n",
      "(6,)\n",
      "[ 4  8 10 13 30 45]\n",
      "(6,)\n",
      "only using indices for lower-triangular matrix\n",
      "Connectivity computation...\n",
      "   Processing epoch 1 / 1 ...\n"
     ]
    },
    {
     "name": "stderr",
     "output_type": "stream",
     "text": [
      "/Users/jakubblaha/Documents/thesis/thesis-python/main.py:121: RuntimeWarning: There were no Annotations stored in <EpochsArray | 1 events (all good), 7 – 14.992 s (baseline off), ~127 kB, data loaded,\n",
      " '1': 1>, so metadata was not modified.\n",
      "  \n"
     ]
    },
    {
     "name": "stdout",
     "output_type": "stream",
     "text": [
      "[Connectivity computation done]\n",
      "[ 4  8 10 13 30 45]\n",
      "(6,)\n",
      "[ 4  8 10 13 30 45]\n",
      "(6,)\n",
      "only using indices for lower-triangular matrix\n",
      "Connectivity computation...\n",
      "   Processing epoch 1 / 1 ...\n"
     ]
    },
    {
     "name": "stderr",
     "output_type": "stream",
     "text": [
      "/Users/jakubblaha/Documents/thesis/thesis-python/main.py:121: RuntimeWarning: There were no Annotations stored in <EpochsArray | 1 events (all good), 7 – 14.992 s (baseline off), ~127 kB, data loaded,\n",
      " '1': 1>, so metadata was not modified.\n",
      "  \n"
     ]
    },
    {
     "name": "stdout",
     "output_type": "stream",
     "text": [
      "[Connectivity computation done]\n",
      "[ 4  8 10 13 30 45]\n",
      "(6,)\n",
      "[ 4  8 10 13 30 45]\n",
      "(6,)\n",
      "only using indices for lower-triangular matrix\n",
      "Connectivity computation...\n",
      "   Processing epoch 1 / 1 ...\n"
     ]
    },
    {
     "name": "stderr",
     "output_type": "stream",
     "text": [
      "/Users/jakubblaha/Documents/thesis/thesis-python/main.py:121: RuntimeWarning: There were no Annotations stored in <EpochsArray | 1 events (all good), 7 – 14.992 s (baseline off), ~127 kB, data loaded,\n",
      " '1': 1>, so metadata was not modified.\n",
      "  \n"
     ]
    },
    {
     "name": "stdout",
     "output_type": "stream",
     "text": [
      "[Connectivity computation done]\n",
      "[ 4  8 10 13 30 45]\n",
      "(6,)\n",
      "[ 4  8 10 13 30 45]\n",
      "(6,)\n",
      "only using indices for lower-triangular matrix\n",
      "Connectivity computation...\n",
      "   Processing epoch 1 / 1 ...\n"
     ]
    },
    {
     "name": "stderr",
     "output_type": "stream",
     "text": [
      "/Users/jakubblaha/Documents/thesis/thesis-python/main.py:121: RuntimeWarning: There were no Annotations stored in <EpochsArray | 1 events (all good), 7 – 14.992 s (baseline off), ~127 kB, data loaded,\n",
      " '1': 1>, so metadata was not modified.\n",
      "  \n"
     ]
    },
    {
     "name": "stdout",
     "output_type": "stream",
     "text": [
      "[Connectivity computation done]\n",
      "[ 4  8 10 13 30 45]\n",
      "(6,)\n",
      "[ 4  8 10 13 30 45]\n",
      "(6,)\n",
      "only using indices for lower-triangular matrix\n",
      "Connectivity computation...\n",
      "   Processing epoch 1 / 1 ...\n",
      "[Connectivity computation done]\n"
     ]
    },
    {
     "name": "stderr",
     "output_type": "stream",
     "text": [
      "/Users/jakubblaha/Documents/thesis/thesis-python/main.py:121: RuntimeWarning: There were no Annotations stored in <EpochsArray | 1 events (all good), 7 – 14.992 s (baseline off), ~127 kB, data loaded,\n",
      " '1': 1>, so metadata was not modified.\n",
      "  \n"
     ]
    },
    {
     "name": "stdout",
     "output_type": "stream",
     "text": [
      "[ 4  8 10 13 30 45]\n",
      "(6,)\n",
      "[ 4  8 10 13 30 45]\n",
      "(6,)\n",
      "only using indices for lower-triangular matrix\n",
      "Connectivity computation...\n",
      "   Processing epoch 1 / 1 ...\n"
     ]
    },
    {
     "name": "stderr",
     "output_type": "stream",
     "text": [
      "/Users/jakubblaha/Documents/thesis/thesis-python/main.py:121: RuntimeWarning: There were no Annotations stored in <EpochsArray | 1 events (all good), 7 – 14.992 s (baseline off), ~127 kB, data loaded,\n",
      " '1': 1>, so metadata was not modified.\n",
      "  \n"
     ]
    },
    {
     "name": "stdout",
     "output_type": "stream",
     "text": [
      "[Connectivity computation done]\n",
      "[ 4  8 10 13 30 45]\n",
      "(6,)\n",
      "[ 4  8 10 13 30 45]\n",
      "(6,)\n",
      "only using indices for lower-triangular matrix\n",
      "Connectivity computation...\n",
      "   Processing epoch 1 / 1 ...\n"
     ]
    },
    {
     "name": "stderr",
     "output_type": "stream",
     "text": [
      "/Users/jakubblaha/Documents/thesis/thesis-python/main.py:121: RuntimeWarning: There were no Annotations stored in <EpochsArray | 1 events (all good), 7 – 14.992 s (baseline off), ~127 kB, data loaded,\n",
      " '1': 1>, so metadata was not modified.\n",
      "  \n"
     ]
    },
    {
     "name": "stdout",
     "output_type": "stream",
     "text": [
      "[Connectivity computation done]\n",
      "[ 4  8 10 13 30 45]\n",
      "(6,)\n",
      "[ 4  8 10 13 30 45]\n",
      "(6,)\n",
      "only using indices for lower-triangular matrix\n",
      "Connectivity computation...\n",
      "   Processing epoch 1 / 1 ...\n"
     ]
    },
    {
     "name": "stderr",
     "output_type": "stream",
     "text": [
      "/Users/jakubblaha/Documents/thesis/thesis-python/main.py:121: RuntimeWarning: There were no Annotations stored in <EpochsArray | 1 events (all good), 7 – 14.992 s (baseline off), ~127 kB, data loaded,\n",
      " '1': 1>, so metadata was not modified.\n",
      "  \n"
     ]
    },
    {
     "name": "stdout",
     "output_type": "stream",
     "text": [
      "[Connectivity computation done]\n",
      "[ 4  8 10 13 30 45]\n",
      "(6,)\n",
      "[ 4  8 10 13 30 45]\n",
      "(6,)\n",
      "only using indices for lower-triangular matrix\n",
      "Connectivity computation...\n",
      "   Processing epoch 1 / 1 ...\n"
     ]
    },
    {
     "name": "stderr",
     "output_type": "stream",
     "text": [
      "/Users/jakubblaha/Documents/thesis/thesis-python/main.py:121: RuntimeWarning: There were no Annotations stored in <EpochsArray | 1 events (all good), 7 – 14.992 s (baseline off), ~127 kB, data loaded,\n",
      " '1': 1>, so metadata was not modified.\n",
      "  \n"
     ]
    },
    {
     "name": "stdout",
     "output_type": "stream",
     "text": [
      "[Connectivity computation done]\n",
      "[ 4  8 10 13 30 45]\n",
      "(6,)\n",
      "[ 4  8 10 13 30 45]\n",
      "(6,)\n",
      "only using indices for lower-triangular matrix\n",
      "Connectivity computation...\n",
      "   Processing epoch 1 / 1 ...\n"
     ]
    },
    {
     "name": "stderr",
     "output_type": "stream",
     "text": [
      "/Users/jakubblaha/Documents/thesis/thesis-python/main.py:121: RuntimeWarning: There were no Annotations stored in <EpochsArray | 1 events (all good), 7 – 14.992 s (baseline off), ~127 kB, data loaded,\n",
      " '1': 1>, so metadata was not modified.\n",
      "  \n"
     ]
    },
    {
     "name": "stdout",
     "output_type": "stream",
     "text": [
      "[Connectivity computation done]\n",
      "[ 4  8 10 13 30 45]\n",
      "(6,)\n",
      "[ 4  8 10 13 30 45]\n",
      "(6,)\n",
      "only using indices for lower-triangular matrix\n",
      "Connectivity computation...\n",
      "   Processing epoch 1 / 1 ...\n"
     ]
    },
    {
     "name": "stderr",
     "output_type": "stream",
     "text": [
      "/Users/jakubblaha/Documents/thesis/thesis-python/main.py:121: RuntimeWarning: There were no Annotations stored in <EpochsArray | 1 events (all good), 7 – 14.992 s (baseline off), ~127 kB, data loaded,\n",
      " '1': 1>, so metadata was not modified.\n",
      "  \n"
     ]
    },
    {
     "name": "stdout",
     "output_type": "stream",
     "text": [
      "[Connectivity computation done]\n",
      "[ 4  8 10 13 30 45]\n",
      "(6,)\n",
      "[ 4  8 10 13 30 45]\n",
      "(6,)\n",
      "only using indices for lower-triangular matrix\n",
      "Connectivity computation...\n",
      "   Processing epoch 1 / 1 ...\n"
     ]
    },
    {
     "name": "stderr",
     "output_type": "stream",
     "text": [
      "/Users/jakubblaha/Documents/thesis/thesis-python/main.py:121: RuntimeWarning: There were no Annotations stored in <EpochsArray | 1 events (all good), 7 – 14.992 s (baseline off), ~127 kB, data loaded,\n",
      " '1': 1>, so metadata was not modified.\n",
      "  \n"
     ]
    },
    {
     "name": "stdout",
     "output_type": "stream",
     "text": [
      "[Connectivity computation done]\n",
      "[ 4  8 10 13 30 45]\n",
      "(6,)\n",
      "[ 4  8 10 13 30 45]\n",
      "(6,)\n",
      "only using indices for lower-triangular matrix\n",
      "Connectivity computation...\n",
      "   Processing epoch 1 / 1 ...\n"
     ]
    },
    {
     "name": "stderr",
     "output_type": "stream",
     "text": [
      "/Users/jakubblaha/Documents/thesis/thesis-python/main.py:121: RuntimeWarning: There were no Annotations stored in <EpochsArray | 1 events (all good), 7 – 14.992 s (baseline off), ~127 kB, data loaded,\n",
      " '1': 1>, so metadata was not modified.\n",
      "  \n"
     ]
    },
    {
     "name": "stdout",
     "output_type": "stream",
     "text": [
      "[Connectivity computation done]\n",
      "[ 4  8 10 13 30 45]\n",
      "(6,)\n",
      "[ 4  8 10 13 30 45]\n",
      "(6,)\n",
      "only using indices for lower-triangular matrix\n",
      "Connectivity computation...\n",
      "   Processing epoch 1 / 1 ...\n"
     ]
    },
    {
     "name": "stderr",
     "output_type": "stream",
     "text": [
      "/Users/jakubblaha/Documents/thesis/thesis-python/main.py:121: RuntimeWarning: There were no Annotations stored in <EpochsArray | 1 events (all good), 7 – 14.992 s (baseline off), ~127 kB, data loaded,\n",
      " '1': 1>, so metadata was not modified.\n",
      "  \n"
     ]
    },
    {
     "name": "stdout",
     "output_type": "stream",
     "text": [
      "[Connectivity computation done]\n",
      "[ 4  8 10 13 30 45]\n",
      "(6,)\n",
      "[ 4  8 10 13 30 45]\n",
      "(6,)\n",
      "only using indices for lower-triangular matrix\n",
      "Connectivity computation...\n",
      "   Processing epoch 1 / 1 ...\n",
      "[Connectivity computation done]\n"
     ]
    },
    {
     "name": "stderr",
     "output_type": "stream",
     "text": [
      "/Users/jakubblaha/Documents/thesis/thesis-python/main.py:121: RuntimeWarning: There were no Annotations stored in <EpochsArray | 1 events (all good), 7 – 14.992 s (baseline off), ~127 kB, data loaded,\n",
      " '1': 1>, so metadata was not modified.\n",
      "  \n"
     ]
    },
    {
     "name": "stdout",
     "output_type": "stream",
     "text": [
      "[ 4  8 10 13 30 45]\n",
      "(6,)\n",
      "[ 4  8 10 13 30 45]\n",
      "(6,)\n",
      "only using indices for lower-triangular matrix\n",
      "Connectivity computation...\n",
      "   Processing epoch 1 / 1 ...\n"
     ]
    },
    {
     "name": "stderr",
     "output_type": "stream",
     "text": [
      "/Users/jakubblaha/Documents/thesis/thesis-python/main.py:121: RuntimeWarning: There were no Annotations stored in <EpochsArray | 1 events (all good), 7 – 14.992 s (baseline off), ~127 kB, data loaded,\n",
      " '1': 1>, so metadata was not modified.\n",
      "  \n"
     ]
    },
    {
     "name": "stdout",
     "output_type": "stream",
     "text": [
      "[Connectivity computation done]\n",
      "[ 4  8 10 13 30 45]\n",
      "(6,)\n",
      "[ 4  8 10 13 30 45]\n",
      "(6,)\n",
      "only using indices for lower-triangular matrix\n",
      "Connectivity computation...\n",
      "   Processing epoch 1 / 1 ...\n",
      "[Connectivity computation done]\n"
     ]
    },
    {
     "name": "stderr",
     "output_type": "stream",
     "text": [
      "/Users/jakubblaha/Documents/thesis/thesis-python/main.py:121: RuntimeWarning: There were no Annotations stored in <EpochsArray | 1 events (all good), 7 – 14.992 s (baseline off), ~127 kB, data loaded,\n",
      " '1': 1>, so metadata was not modified.\n",
      "  \n"
     ]
    },
    {
     "name": "stdout",
     "output_type": "stream",
     "text": [
      "[ 4  8 10 13 30 45]\n",
      "(6,)\n",
      "[ 4  8 10 13 30 45]\n",
      "(6,)\n",
      "only using indices for lower-triangular matrix\n",
      "Connectivity computation...\n",
      "   Processing epoch 1 / 1 ...\n"
     ]
    },
    {
     "name": "stderr",
     "output_type": "stream",
     "text": [
      "/Users/jakubblaha/Documents/thesis/thesis-python/main.py:121: RuntimeWarning: There were no Annotations stored in <EpochsArray | 1 events (all good), 7 – 14.992 s (baseline off), ~127 kB, data loaded,\n",
      " '1': 1>, so metadata was not modified.\n",
      "  \n"
     ]
    },
    {
     "name": "stdout",
     "output_type": "stream",
     "text": [
      "[Connectivity computation done]\n",
      "[ 4  8 10 13 30 45]\n",
      "(6,)\n",
      "[ 4  8 10 13 30 45]\n",
      "(6,)\n",
      "only using indices for lower-triangular matrix\n",
      "Connectivity computation...\n",
      "   Processing epoch 1 / 1 ...\n"
     ]
    },
    {
     "name": "stderr",
     "output_type": "stream",
     "text": [
      "/Users/jakubblaha/Documents/thesis/thesis-python/main.py:121: RuntimeWarning: There were no Annotations stored in <EpochsArray | 1 events (all good), 7 – 14.992 s (baseline off), ~127 kB, data loaded,\n",
      " '1': 1>, so metadata was not modified.\n",
      "  \n"
     ]
    },
    {
     "name": "stdout",
     "output_type": "stream",
     "text": [
      "[Connectivity computation done]\n",
      "[ 4  8 10 13 30 45]\n",
      "(6,)\n",
      "[ 4  8 10 13 30 45]\n",
      "(6,)\n",
      "only using indices for lower-triangular matrix\n",
      "Connectivity computation...\n",
      "   Processing epoch 1 / 1 ...\n"
     ]
    },
    {
     "name": "stderr",
     "output_type": "stream",
     "text": [
      "/Users/jakubblaha/Documents/thesis/thesis-python/main.py:121: RuntimeWarning: There were no Annotations stored in <EpochsArray | 1 events (all good), 7 – 14.992 s (baseline off), ~127 kB, data loaded,\n",
      " '1': 1>, so metadata was not modified.\n",
      "  \n"
     ]
    },
    {
     "name": "stdout",
     "output_type": "stream",
     "text": [
      "[Connectivity computation done]\n",
      "[ 4  8 10 13 30 45]\n",
      "(6,)\n",
      "[ 4  8 10 13 30 45]\n",
      "(6,)\n",
      "only using indices for lower-triangular matrix\n",
      "Connectivity computation...\n",
      "   Processing epoch 1 / 1 ...\n"
     ]
    },
    {
     "name": "stderr",
     "output_type": "stream",
     "text": [
      "/Users/jakubblaha/Documents/thesis/thesis-python/main.py:121: RuntimeWarning: There were no Annotations stored in <EpochsArray | 1 events (all good), 7 – 14.992 s (baseline off), ~127 kB, data loaded,\n",
      " '1': 1>, so metadata was not modified.\n",
      "  \n"
     ]
    },
    {
     "name": "stdout",
     "output_type": "stream",
     "text": [
      "[Connectivity computation done]\n",
      "[ 4  8 10 13 30 45]\n",
      "(6,)\n",
      "[ 4  8 10 13 30 45]\n",
      "(6,)\n",
      "only using indices for lower-triangular matrix\n",
      "Connectivity computation...\n",
      "   Processing epoch 1 / 1 ...\n"
     ]
    },
    {
     "name": "stderr",
     "output_type": "stream",
     "text": [
      "/Users/jakubblaha/Documents/thesis/thesis-python/main.py:121: RuntimeWarning: There were no Annotations stored in <EpochsArray | 1 events (all good), 7 – 14.992 s (baseline off), ~127 kB, data loaded,\n",
      " '1': 1>, so metadata was not modified.\n",
      "  \n"
     ]
    },
    {
     "name": "stdout",
     "output_type": "stream",
     "text": [
      "[Connectivity computation done]\n",
      "[ 4  8 10 13 30 45]\n",
      "(6,)\n",
      "[ 4  8 10 13 30 45]\n",
      "(6,)\n",
      "only using indices for lower-triangular matrix\n",
      "Connectivity computation...\n",
      "   Processing epoch 1 / 1 ...\n"
     ]
    },
    {
     "name": "stderr",
     "output_type": "stream",
     "text": [
      "/Users/jakubblaha/Documents/thesis/thesis-python/main.py:121: RuntimeWarning: There were no Annotations stored in <EpochsArray | 1 events (all good), 7 – 14.992 s (baseline off), ~127 kB, data loaded,\n",
      " '1': 1>, so metadata was not modified.\n",
      "  \n"
     ]
    },
    {
     "name": "stdout",
     "output_type": "stream",
     "text": [
      "[Connectivity computation done]\n",
      "[ 4  8 10 13 30 45]\n",
      "(6,)\n",
      "[ 4  8 10 13 30 45]\n",
      "(6,)\n",
      "only using indices for lower-triangular matrix\n",
      "Connectivity computation...\n",
      "   Processing epoch 1 / 1 ...\n"
     ]
    },
    {
     "name": "stderr",
     "output_type": "stream",
     "text": [
      "/Users/jakubblaha/Documents/thesis/thesis-python/main.py:121: RuntimeWarning: There were no Annotations stored in <EpochsArray | 1 events (all good), 7 – 14.992 s (baseline off), ~127 kB, data loaded,\n",
      " '1': 1>, so metadata was not modified.\n",
      "  \n"
     ]
    },
    {
     "name": "stdout",
     "output_type": "stream",
     "text": [
      "[Connectivity computation done]\n",
      "[ 4  8 10 13 30 45]\n",
      "(6,)\n",
      "[ 4  8 10 13 30 45]\n",
      "(6,)\n",
      "only using indices for lower-triangular matrix\n",
      "Connectivity computation...\n",
      "   Processing epoch 1 / 1 ...\n"
     ]
    },
    {
     "name": "stderr",
     "output_type": "stream",
     "text": [
      "/Users/jakubblaha/Documents/thesis/thesis-python/main.py:121: RuntimeWarning: There were no Annotations stored in <EpochsArray | 1 events (all good), 7 – 14.992 s (baseline off), ~127 kB, data loaded,\n",
      " '1': 1>, so metadata was not modified.\n",
      "  \n"
     ]
    },
    {
     "name": "stdout",
     "output_type": "stream",
     "text": [
      "[Connectivity computation done]\n",
      "[ 4  8 10 13 30 45]\n",
      "(6,)\n",
      "[ 4  8 10 13 30 45]\n",
      "(6,)\n",
      "only using indices for lower-triangular matrix\n",
      "Connectivity computation...\n",
      "   Processing epoch 1 / 1 ...\n"
     ]
    },
    {
     "name": "stderr",
     "output_type": "stream",
     "text": [
      "/Users/jakubblaha/Documents/thesis/thesis-python/main.py:121: RuntimeWarning: There were no Annotations stored in <EpochsArray | 1 events (all good), 7 – 14.992 s (baseline off), ~127 kB, data loaded,\n",
      " '1': 1>, so metadata was not modified.\n",
      "  \n"
     ]
    },
    {
     "name": "stdout",
     "output_type": "stream",
     "text": [
      "[Connectivity computation done]\n",
      "[ 4  8 10 13 30 45]\n",
      "(6,)\n",
      "[ 4  8 10 13 30 45]\n",
      "(6,)\n",
      "only using indices for lower-triangular matrix\n",
      "Connectivity computation...\n",
      "   Processing epoch 1 / 1 ...\n"
     ]
    },
    {
     "name": "stderr",
     "output_type": "stream",
     "text": [
      "/Users/jakubblaha/Documents/thesis/thesis-python/main.py:121: RuntimeWarning: There were no Annotations stored in <EpochsArray | 1 events (all good), 7 – 14.992 s (baseline off), ~127 kB, data loaded,\n",
      " '1': 1>, so metadata was not modified.\n",
      "  \n"
     ]
    },
    {
     "name": "stdout",
     "output_type": "stream",
     "text": [
      "[Connectivity computation done]\n",
      "[ 4  8 10 13 30 45]\n",
      "(6,)\n",
      "[ 4  8 10 13 30 45]\n",
      "(6,)\n",
      "only using indices for lower-triangular matrix\n",
      "Connectivity computation...\n",
      "   Processing epoch 1 / 1 ...\n"
     ]
    },
    {
     "name": "stderr",
     "output_type": "stream",
     "text": [
      "/Users/jakubblaha/Documents/thesis/thesis-python/main.py:121: RuntimeWarning: There were no Annotations stored in <EpochsArray | 1 events (all good), 7 – 14.992 s (baseline off), ~127 kB, data loaded,\n",
      " '1': 1>, so metadata was not modified.\n",
      "  \n"
     ]
    },
    {
     "name": "stdout",
     "output_type": "stream",
     "text": [
      "[Connectivity computation done]\n",
      "[ 4  8 10 13 30 45]\n",
      "(6,)\n",
      "[ 4  8 10 13 30 45]\n",
      "(6,)\n",
      "only using indices for lower-triangular matrix\n",
      "Connectivity computation...\n",
      "   Processing epoch 1 / 1 ...\n"
     ]
    },
    {
     "name": "stderr",
     "output_type": "stream",
     "text": [
      "/Users/jakubblaha/Documents/thesis/thesis-python/main.py:121: RuntimeWarning: There were no Annotations stored in <EpochsArray | 1 events (all good), 7 – 14.992 s (baseline off), ~127 kB, data loaded,\n",
      " '1': 1>, so metadata was not modified.\n",
      "  \n"
     ]
    },
    {
     "name": "stdout",
     "output_type": "stream",
     "text": [
      "[Connectivity computation done]\n",
      "[ 4  8 10 13 30 45]\n",
      "(6,)\n",
      "[ 4  8 10 13 30 45]\n",
      "(6,)\n",
      "only using indices for lower-triangular matrix\n",
      "Connectivity computation...\n",
      "   Processing epoch 1 / 1 ...\n"
     ]
    },
    {
     "name": "stderr",
     "output_type": "stream",
     "text": [
      "/Users/jakubblaha/Documents/thesis/thesis-python/main.py:121: RuntimeWarning: There were no Annotations stored in <EpochsArray | 1 events (all good), 7 – 14.992 s (baseline off), ~127 kB, data loaded,\n",
      " '1': 1>, so metadata was not modified.\n",
      "  \n"
     ]
    },
    {
     "name": "stdout",
     "output_type": "stream",
     "text": [
      "[Connectivity computation done]\n",
      "[ 4  8 10 13 30 45]\n",
      "(6,)\n",
      "[ 4  8 10 13 30 45]\n",
      "(6,)\n",
      "only using indices for lower-triangular matrix\n",
      "Connectivity computation...\n",
      "   Processing epoch 1 / 1 ...\n"
     ]
    },
    {
     "name": "stderr",
     "output_type": "stream",
     "text": [
      "/Users/jakubblaha/Documents/thesis/thesis-python/main.py:121: RuntimeWarning: There were no Annotations stored in <EpochsArray | 1 events (all good), 7 – 14.992 s (baseline off), ~127 kB, data loaded,\n",
      " '1': 1>, so metadata was not modified.\n",
      "  \n"
     ]
    },
    {
     "name": "stdout",
     "output_type": "stream",
     "text": [
      "[Connectivity computation done]\n",
      "[ 4  8 10 13 30 45]\n",
      "(6,)\n",
      "[ 4  8 10 13 30 45]\n",
      "(6,)\n",
      "only using indices for lower-triangular matrix\n",
      "Connectivity computation...\n",
      "   Processing epoch 1 / 1 ...\n"
     ]
    },
    {
     "name": "stderr",
     "output_type": "stream",
     "text": [
      "/Users/jakubblaha/Documents/thesis/thesis-python/main.py:121: RuntimeWarning: There were no Annotations stored in <EpochsArray | 1 events (all good), 7 – 14.992 s (baseline off), ~127 kB, data loaded,\n",
      " '1': 1>, so metadata was not modified.\n",
      "  \n"
     ]
    },
    {
     "name": "stdout",
     "output_type": "stream",
     "text": [
      "[Connectivity computation done]\n",
      "[ 4  8 10 13 30 45]\n",
      "(6,)\n",
      "[ 4  8 10 13 30 45]\n",
      "(6,)\n",
      "only using indices for lower-triangular matrix\n",
      "Connectivity computation...\n",
      "   Processing epoch 1 / 1 ...\n"
     ]
    },
    {
     "name": "stderr",
     "output_type": "stream",
     "text": [
      "/Users/jakubblaha/Documents/thesis/thesis-python/main.py:121: RuntimeWarning: There were no Annotations stored in <EpochsArray | 1 events (all good), 7 – 14.992 s (baseline off), ~127 kB, data loaded,\n",
      " '1': 1>, so metadata was not modified.\n",
      "  \n"
     ]
    },
    {
     "name": "stdout",
     "output_type": "stream",
     "text": [
      "[Connectivity computation done]\n",
      "[ 4  8 10 13 30 45]\n",
      "(6,)\n",
      "[ 4  8 10 13 30 45]\n",
      "(6,)\n",
      "only using indices for lower-triangular matrix\n",
      "Connectivity computation...\n",
      "   Processing epoch 1 / 1 ...\n"
     ]
    },
    {
     "name": "stderr",
     "output_type": "stream",
     "text": [
      "/Users/jakubblaha/Documents/thesis/thesis-python/main.py:121: RuntimeWarning: There were no Annotations stored in <EpochsArray | 1 events (all good), 7 – 14.992 s (baseline off), ~127 kB, data loaded,\n",
      " '1': 1>, so metadata was not modified.\n",
      "  \n"
     ]
    },
    {
     "name": "stdout",
     "output_type": "stream",
     "text": [
      "[Connectivity computation done]\n",
      "[ 4  8 10 13 30 45]\n",
      "(6,)\n",
      "[ 4  8 10 13 30 45]\n",
      "(6,)\n",
      "only using indices for lower-triangular matrix\n",
      "Connectivity computation...\n",
      "   Processing epoch 1 / 1 ...\n"
     ]
    },
    {
     "name": "stderr",
     "output_type": "stream",
     "text": [
      "/Users/jakubblaha/Documents/thesis/thesis-python/main.py:121: RuntimeWarning: There were no Annotations stored in <EpochsArray | 1 events (all good), 7 – 14.992 s (baseline off), ~127 kB, data loaded,\n",
      " '1': 1>, so metadata was not modified.\n",
      "  \n"
     ]
    },
    {
     "name": "stdout",
     "output_type": "stream",
     "text": [
      "[Connectivity computation done]\n",
      "[ 4  8 10 13 30 45]\n",
      "(6,)\n",
      "[ 4  8 10 13 30 45]\n",
      "(6,)\n",
      "only using indices for lower-triangular matrix\n",
      "Connectivity computation...\n",
      "   Processing epoch 1 / 1 ...\n"
     ]
    },
    {
     "name": "stderr",
     "output_type": "stream",
     "text": [
      "/Users/jakubblaha/Documents/thesis/thesis-python/main.py:121: RuntimeWarning: There were no Annotations stored in <EpochsArray | 1 events (all good), 7 – 14.992 s (baseline off), ~127 kB, data loaded,\n",
      " '1': 1>, so metadata was not modified.\n",
      "  \n"
     ]
    },
    {
     "name": "stdout",
     "output_type": "stream",
     "text": [
      "[Connectivity computation done]\n",
      "[ 4  8 10 13 30 45]\n",
      "(6,)\n",
      "[ 4  8 10 13 30 45]\n",
      "(6,)\n",
      "only using indices for lower-triangular matrix\n",
      "Connectivity computation...\n",
      "   Processing epoch 1 / 1 ...\n"
     ]
    },
    {
     "name": "stderr",
     "output_type": "stream",
     "text": [
      "/Users/jakubblaha/Documents/thesis/thesis-python/main.py:121: RuntimeWarning: There were no Annotations stored in <EpochsArray | 1 events (all good), 7 – 14.992 s (baseline off), ~127 kB, data loaded,\n",
      " '1': 1>, so metadata was not modified.\n",
      "  \n"
     ]
    },
    {
     "name": "stdout",
     "output_type": "stream",
     "text": [
      "[Connectivity computation done]\n",
      "[ 4  8 10 13 30 45]\n",
      "(6,)\n",
      "[ 4  8 10 13 30 45]\n",
      "(6,)\n",
      "only using indices for lower-triangular matrix\n",
      "Connectivity computation...\n",
      "   Processing epoch 1 / 1 ...\n"
     ]
    },
    {
     "name": "stderr",
     "output_type": "stream",
     "text": [
      "/Users/jakubblaha/Documents/thesis/thesis-python/main.py:121: RuntimeWarning: There were no Annotations stored in <EpochsArray | 1 events (all good), 7 – 14.992 s (baseline off), ~127 kB, data loaded,\n",
      " '1': 1>, so metadata was not modified.\n",
      "  \n"
     ]
    },
    {
     "name": "stdout",
     "output_type": "stream",
     "text": [
      "[Connectivity computation done]\n",
      "[ 4  8 10 13 30 45]\n",
      "(6,)\n",
      "[ 4  8 10 13 30 45]\n",
      "(6,)\n",
      "only using indices for lower-triangular matrix\n",
      "Connectivity computation...\n",
      "   Processing epoch 1 / 1 ...\n"
     ]
    },
    {
     "name": "stderr",
     "output_type": "stream",
     "text": [
      "/Users/jakubblaha/Documents/thesis/thesis-python/main.py:121: RuntimeWarning: There were no Annotations stored in <EpochsArray | 1 events (all good), 7 – 14.992 s (baseline off), ~127 kB, data loaded,\n",
      " '1': 1>, so metadata was not modified.\n",
      "  \n"
     ]
    },
    {
     "name": "stdout",
     "output_type": "stream",
     "text": [
      "[Connectivity computation done]\n",
      "[ 4  8 10 13 30 45]\n",
      "(6,)\n",
      "[ 4  8 10 13 30 45]\n",
      "(6,)\n",
      "only using indices for lower-triangular matrix\n",
      "Connectivity computation...\n",
      "   Processing epoch 1 / 1 ...\n",
      "[Connectivity computation done]\n"
     ]
    },
    {
     "name": "stderr",
     "output_type": "stream",
     "text": [
      "/Users/jakubblaha/Documents/thesis/thesis-python/main.py:121: RuntimeWarning: There were no Annotations stored in <EpochsArray | 1 events (all good), 7 – 14.992 s (baseline off), ~127 kB, data loaded,\n",
      " '1': 1>, so metadata was not modified.\n",
      "  \n"
     ]
    },
    {
     "name": "stdout",
     "output_type": "stream",
     "text": [
      "[ 4  8 10 13 30 45]\n",
      "(6,)\n",
      "[ 4  8 10 13 30 45]\n",
      "(6,)\n",
      "only using indices for lower-triangular matrix\n",
      "Connectivity computation...\n",
      "   Processing epoch 1 / 1 ...\n"
     ]
    },
    {
     "name": "stderr",
     "output_type": "stream",
     "text": [
      "/Users/jakubblaha/Documents/thesis/thesis-python/main.py:121: RuntimeWarning: There were no Annotations stored in <EpochsArray | 1 events (all good), 7 – 14.992 s (baseline off), ~127 kB, data loaded,\n",
      " '1': 1>, so metadata was not modified.\n",
      "  \n"
     ]
    },
    {
     "name": "stdout",
     "output_type": "stream",
     "text": [
      "[Connectivity computation done]\n",
      "[ 4  8 10 13 30 45]\n",
      "(6,)\n",
      "[ 4  8 10 13 30 45]\n",
      "(6,)\n",
      "only using indices for lower-triangular matrix\n",
      "Connectivity computation...\n",
      "   Processing epoch 1 / 1 ...\n"
     ]
    },
    {
     "name": "stderr",
     "output_type": "stream",
     "text": [
      "/Users/jakubblaha/Documents/thesis/thesis-python/main.py:121: RuntimeWarning: There were no Annotations stored in <EpochsArray | 1 events (all good), 7 – 14.992 s (baseline off), ~127 kB, data loaded,\n",
      " '1': 1>, so metadata was not modified.\n",
      "  \n"
     ]
    },
    {
     "name": "stdout",
     "output_type": "stream",
     "text": [
      "[Connectivity computation done]\n",
      "[ 4  8 10 13 30 45]\n",
      "(6,)\n",
      "[ 4  8 10 13 30 45]\n",
      "(6,)\n",
      "only using indices for lower-triangular matrix\n",
      "Connectivity computation...\n",
      "   Processing epoch 1 / 1 ...\n"
     ]
    },
    {
     "name": "stderr",
     "output_type": "stream",
     "text": [
      "/Users/jakubblaha/Documents/thesis/thesis-python/main.py:121: RuntimeWarning: There were no Annotations stored in <EpochsArray | 1 events (all good), 7 – 14.992 s (baseline off), ~127 kB, data loaded,\n",
      " '1': 1>, so metadata was not modified.\n",
      "  \n"
     ]
    },
    {
     "name": "stdout",
     "output_type": "stream",
     "text": [
      "[Connectivity computation done]\n",
      "[ 4  8 10 13 30 45]\n",
      "(6,)\n",
      "[ 4  8 10 13 30 45]\n",
      "(6,)\n",
      "only using indices for lower-triangular matrix\n",
      "Connectivity computation...\n",
      "   Processing epoch 1 / 1 ...\n"
     ]
    },
    {
     "name": "stderr",
     "output_type": "stream",
     "text": [
      "/Users/jakubblaha/Documents/thesis/thesis-python/main.py:121: RuntimeWarning: There were no Annotations stored in <EpochsArray | 1 events (all good), 7 – 14.992 s (baseline off), ~127 kB, data loaded,\n",
      " '1': 1>, so metadata was not modified.\n",
      "  \n"
     ]
    },
    {
     "name": "stdout",
     "output_type": "stream",
     "text": [
      "[Connectivity computation done]\n",
      "[ 4  8 10 13 30 45]\n",
      "(6,)\n",
      "[ 4  8 10 13 30 45]\n",
      "(6,)\n",
      "only using indices for lower-triangular matrix\n",
      "Connectivity computation...\n",
      "   Processing epoch 1 / 1 ...\n"
     ]
    },
    {
     "name": "stderr",
     "output_type": "stream",
     "text": [
      "/Users/jakubblaha/Documents/thesis/thesis-python/main.py:121: RuntimeWarning: There were no Annotations stored in <EpochsArray | 1 events (all good), 7 – 14.992 s (baseline off), ~127 kB, data loaded,\n",
      " '1': 1>, so metadata was not modified.\n",
      "  \n"
     ]
    },
    {
     "name": "stdout",
     "output_type": "stream",
     "text": [
      "[Connectivity computation done]\n",
      "[ 4  8 10 13 30 45]\n",
      "(6,)\n",
      "[ 4  8 10 13 30 45]\n",
      "(6,)\n",
      "only using indices for lower-triangular matrix\n",
      "Connectivity computation...\n",
      "   Processing epoch 1 / 1 ...\n"
     ]
    },
    {
     "name": "stderr",
     "output_type": "stream",
     "text": [
      "/Users/jakubblaha/Documents/thesis/thesis-python/main.py:121: RuntimeWarning: There were no Annotations stored in <EpochsArray | 1 events (all good), 7 – 14.992 s (baseline off), ~127 kB, data loaded,\n",
      " '1': 1>, so metadata was not modified.\n",
      "  \n"
     ]
    },
    {
     "name": "stdout",
     "output_type": "stream",
     "text": [
      "[Connectivity computation done]\n",
      "[ 4  8 10 13 30 45]\n",
      "(6,)\n",
      "[ 4  8 10 13 30 45]\n",
      "(6,)\n",
      "only using indices for lower-triangular matrix\n",
      "Connectivity computation...\n",
      "   Processing epoch 1 / 1 ...\n",
      "[Connectivity computation done]\n"
     ]
    },
    {
     "name": "stderr",
     "output_type": "stream",
     "text": [
      "/Users/jakubblaha/Documents/thesis/thesis-python/main.py:121: RuntimeWarning: There were no Annotations stored in <EpochsArray | 1 events (all good), 7 – 14.992 s (baseline off), ~127 kB, data loaded,\n",
      " '1': 1>, so metadata was not modified.\n",
      "  \n"
     ]
    },
    {
     "name": "stdout",
     "output_type": "stream",
     "text": [
      "[ 4  8 10 13 30 45]\n",
      "(6,)\n",
      "[ 4  8 10 13 30 45]\n",
      "(6,)\n",
      "only using indices for lower-triangular matrix\n",
      "Connectivity computation...\n",
      "   Processing epoch 1 / 1 ...\n"
     ]
    },
    {
     "name": "stderr",
     "output_type": "stream",
     "text": [
      "/Users/jakubblaha/Documents/thesis/thesis-python/main.py:121: RuntimeWarning: There were no Annotations stored in <EpochsArray | 1 events (all good), 7 – 14.992 s (baseline off), ~127 kB, data loaded,\n",
      " '1': 1>, so metadata was not modified.\n",
      "  \n"
     ]
    },
    {
     "name": "stdout",
     "output_type": "stream",
     "text": [
      "[Connectivity computation done]\n",
      "[ 4  8 10 13 30 45]\n",
      "(6,)\n",
      "[ 4  8 10 13 30 45]\n",
      "(6,)\n",
      "only using indices for lower-triangular matrix\n",
      "Connectivity computation...\n",
      "   Processing epoch 1 / 1 ...\n"
     ]
    },
    {
     "name": "stderr",
     "output_type": "stream",
     "text": [
      "/Users/jakubblaha/Documents/thesis/thesis-python/main.py:121: RuntimeWarning: There were no Annotations stored in <EpochsArray | 1 events (all good), 7 – 14.992 s (baseline off), ~127 kB, data loaded,\n",
      " '1': 1>, so metadata was not modified.\n",
      "  \n"
     ]
    },
    {
     "name": "stdout",
     "output_type": "stream",
     "text": [
      "[Connectivity computation done]\n",
      "[ 4  8 10 13 30 45]\n",
      "(6,)\n",
      "[ 4  8 10 13 30 45]\n",
      "(6,)\n",
      "only using indices for lower-triangular matrix\n",
      "Connectivity computation...\n",
      "   Processing epoch 1 / 1 ...\n"
     ]
    },
    {
     "name": "stderr",
     "output_type": "stream",
     "text": [
      "/Users/jakubblaha/Documents/thesis/thesis-python/main.py:121: RuntimeWarning: There were no Annotations stored in <EpochsArray | 1 events (all good), 7 – 14.992 s (baseline off), ~127 kB, data loaded,\n",
      " '1': 1>, so metadata was not modified.\n",
      "  \n"
     ]
    },
    {
     "name": "stdout",
     "output_type": "stream",
     "text": [
      "[Connectivity computation done]\n",
      "[ 4  8 10 13 30 45]\n",
      "(6,)\n",
      "[ 4  8 10 13 30 45]\n",
      "(6,)\n",
      "only using indices for lower-triangular matrix\n",
      "Connectivity computation...\n",
      "   Processing epoch 1 / 1 ...\n"
     ]
    },
    {
     "name": "stderr",
     "output_type": "stream",
     "text": [
      "/Users/jakubblaha/Documents/thesis/thesis-python/main.py:121: RuntimeWarning: There were no Annotations stored in <EpochsArray | 1 events (all good), 7 – 14.992 s (baseline off), ~127 kB, data loaded,\n",
      " '1': 1>, so metadata was not modified.\n",
      "  \n"
     ]
    },
    {
     "name": "stdout",
     "output_type": "stream",
     "text": [
      "[Connectivity computation done]\n",
      "[ 4  8 10 13 30 45]\n",
      "(6,)\n",
      "[ 4  8 10 13 30 45]\n",
      "(6,)\n",
      "only using indices for lower-triangular matrix\n",
      "Connectivity computation...\n",
      "   Processing epoch 1 / 1 ...\n"
     ]
    },
    {
     "name": "stderr",
     "output_type": "stream",
     "text": [
      "/Users/jakubblaha/Documents/thesis/thesis-python/main.py:121: RuntimeWarning: There were no Annotations stored in <EpochsArray | 1 events (all good), 7 – 14.992 s (baseline off), ~127 kB, data loaded,\n",
      " '1': 1>, so metadata was not modified.\n",
      "  \n"
     ]
    },
    {
     "name": "stdout",
     "output_type": "stream",
     "text": [
      "[Connectivity computation done]\n",
      "[ 4  8 10 13 30 45]\n",
      "(6,)\n",
      "[ 4  8 10 13 30 45]\n",
      "(6,)\n",
      "only using indices for lower-triangular matrix\n",
      "Connectivity computation...\n",
      "   Processing epoch 1 / 1 ...\n"
     ]
    },
    {
     "name": "stderr",
     "output_type": "stream",
     "text": [
      "/Users/jakubblaha/Documents/thesis/thesis-python/main.py:121: RuntimeWarning: There were no Annotations stored in <EpochsArray | 1 events (all good), 7 – 14.992 s (baseline off), ~127 kB, data loaded,\n",
      " '1': 1>, so metadata was not modified.\n",
      "  \n"
     ]
    },
    {
     "name": "stdout",
     "output_type": "stream",
     "text": [
      "[Connectivity computation done]\n",
      "[ 4  8 10 13 30 45]\n",
      "(6,)\n",
      "[ 4  8 10 13 30 45]\n",
      "(6,)\n",
      "only using indices for lower-triangular matrix\n",
      "Connectivity computation...\n",
      "   Processing epoch 1 / 1 ...\n"
     ]
    },
    {
     "name": "stderr",
     "output_type": "stream",
     "text": [
      "/Users/jakubblaha/Documents/thesis/thesis-python/main.py:121: RuntimeWarning: There were no Annotations stored in <EpochsArray | 1 events (all good), 7 – 14.992 s (baseline off), ~127 kB, data loaded,\n",
      " '1': 1>, so metadata was not modified.\n",
      "  \n"
     ]
    },
    {
     "name": "stdout",
     "output_type": "stream",
     "text": [
      "[Connectivity computation done]\n",
      "[ 4  8 10 13 30 45]\n",
      "(6,)\n",
      "[ 4  8 10 13 30 45]\n",
      "(6,)\n",
      "only using indices for lower-triangular matrix\n",
      "Connectivity computation...\n",
      "   Processing epoch 1 / 1 ...\n"
     ]
    },
    {
     "name": "stderr",
     "output_type": "stream",
     "text": [
      "/Users/jakubblaha/Documents/thesis/thesis-python/main.py:121: RuntimeWarning: There were no Annotations stored in <EpochsArray | 1 events (all good), 7 – 14.992 s (baseline off), ~127 kB, data loaded,\n",
      " '1': 1>, so metadata was not modified.\n",
      "  \n"
     ]
    },
    {
     "name": "stdout",
     "output_type": "stream",
     "text": [
      "[Connectivity computation done]\n",
      "[ 4  8 10 13 30 45]\n",
      "(6,)\n",
      "[ 4  8 10 13 30 45]\n",
      "(6,)\n",
      "only using indices for lower-triangular matrix\n",
      "Connectivity computation...\n",
      "   Processing epoch 1 / 1 ...\n"
     ]
    },
    {
     "name": "stderr",
     "output_type": "stream",
     "text": [
      "/Users/jakubblaha/Documents/thesis/thesis-python/main.py:121: RuntimeWarning: There were no Annotations stored in <EpochsArray | 1 events (all good), 7 – 14.992 s (baseline off), ~127 kB, data loaded,\n",
      " '1': 1>, so metadata was not modified.\n",
      "  \n"
     ]
    },
    {
     "name": "stdout",
     "output_type": "stream",
     "text": [
      "[Connectivity computation done]\n",
      "[ 4  8 10 13 30 45]\n",
      "(6,)\n",
      "[ 4  8 10 13 30 45]\n",
      "(6,)\n",
      "only using indices for lower-triangular matrix\n",
      "Connectivity computation...\n",
      "   Processing epoch 1 / 1 ...\n"
     ]
    },
    {
     "name": "stderr",
     "output_type": "stream",
     "text": [
      "/Users/jakubblaha/Documents/thesis/thesis-python/main.py:121: RuntimeWarning: There were no Annotations stored in <EpochsArray | 1 events (all good), 7 – 14.992 s (baseline off), ~127 kB, data loaded,\n",
      " '1': 1>, so metadata was not modified.\n",
      "  \n"
     ]
    },
    {
     "name": "stdout",
     "output_type": "stream",
     "text": [
      "[Connectivity computation done]\n",
      "[ 4  8 10 13 30 45]\n",
      "(6,)\n",
      "[ 4  8 10 13 30 45]\n",
      "(6,)\n",
      "only using indices for lower-triangular matrix\n",
      "Connectivity computation...\n",
      "   Processing epoch 1 / 1 ...\n"
     ]
    },
    {
     "name": "stderr",
     "output_type": "stream",
     "text": [
      "/Users/jakubblaha/Documents/thesis/thesis-python/main.py:121: RuntimeWarning: There were no Annotations stored in <EpochsArray | 1 events (all good), 7 – 14.992 s (baseline off), ~127 kB, data loaded,\n",
      " '1': 1>, so metadata was not modified.\n",
      "  \n"
     ]
    },
    {
     "name": "stdout",
     "output_type": "stream",
     "text": [
      "[Connectivity computation done]\n",
      "[ 4  8 10 13 30 45]\n",
      "(6,)\n",
      "[ 4  8 10 13 30 45]\n",
      "(6,)\n",
      "only using indices for lower-triangular matrix\n",
      "Connectivity computation...\n",
      "   Processing epoch 1 / 1 ...\n"
     ]
    },
    {
     "name": "stderr",
     "output_type": "stream",
     "text": [
      "/Users/jakubblaha/Documents/thesis/thesis-python/main.py:121: RuntimeWarning: There were no Annotations stored in <EpochsArray | 1 events (all good), 7 – 14.992 s (baseline off), ~127 kB, data loaded,\n",
      " '1': 1>, so metadata was not modified.\n",
      "  \n"
     ]
    },
    {
     "name": "stdout",
     "output_type": "stream",
     "text": [
      "[Connectivity computation done]\n",
      "[ 4  8 10 13 30 45]\n",
      "(6,)\n",
      "[ 4  8 10 13 30 45]\n",
      "(6,)\n",
      "only using indices for lower-triangular matrix\n",
      "Connectivity computation...\n",
      "   Processing epoch 1 / 1 ...\n"
     ]
    },
    {
     "name": "stderr",
     "output_type": "stream",
     "text": [
      "/Users/jakubblaha/Documents/thesis/thesis-python/main.py:121: RuntimeWarning: There were no Annotations stored in <EpochsArray | 1 events (all good), 7 – 14.992 s (baseline off), ~127 kB, data loaded,\n",
      " '1': 1>, so metadata was not modified.\n",
      "  \n"
     ]
    },
    {
     "name": "stdout",
     "output_type": "stream",
     "text": [
      "[Connectivity computation done]\n",
      "[ 4  8 10 13 30 45]\n",
      "(6,)\n",
      "[ 4  8 10 13 30 45]\n",
      "(6,)\n",
      "only using indices for lower-triangular matrix\n",
      "Connectivity computation...\n",
      "   Processing epoch 1 / 1 ...\n"
     ]
    },
    {
     "name": "stderr",
     "output_type": "stream",
     "text": [
      "/Users/jakubblaha/Documents/thesis/thesis-python/main.py:121: RuntimeWarning: There were no Annotations stored in <EpochsArray | 1 events (all good), 7 – 14.992 s (baseline off), ~127 kB, data loaded,\n",
      " '1': 1>, so metadata was not modified.\n",
      "  \n"
     ]
    },
    {
     "name": "stdout",
     "output_type": "stream",
     "text": [
      "[Connectivity computation done]\n",
      "[ 4  8 10 13 30 45]\n",
      "(6,)\n",
      "[ 4  8 10 13 30 45]\n",
      "(6,)\n",
      "only using indices for lower-triangular matrix\n",
      "Connectivity computation...\n",
      "   Processing epoch 1 / 1 ...\n"
     ]
    },
    {
     "name": "stderr",
     "output_type": "stream",
     "text": [
      "/Users/jakubblaha/Documents/thesis/thesis-python/main.py:121: RuntimeWarning: There were no Annotations stored in <EpochsArray | 1 events (all good), 7 – 14.992 s (baseline off), ~127 kB, data loaded,\n",
      " '1': 1>, so metadata was not modified.\n",
      "  \n"
     ]
    },
    {
     "name": "stdout",
     "output_type": "stream",
     "text": [
      "[Connectivity computation done]\n",
      "[ 4  8 10 13 30 45]\n",
      "(6,)\n",
      "[ 4  8 10 13 30 45]\n",
      "(6,)\n",
      "only using indices for lower-triangular matrix\n",
      "Connectivity computation...\n",
      "   Processing epoch 1 / 1 ...\n"
     ]
    },
    {
     "name": "stderr",
     "output_type": "stream",
     "text": [
      "/Users/jakubblaha/Documents/thesis/thesis-python/main.py:121: RuntimeWarning: There were no Annotations stored in <EpochsArray | 1 events (all good), 7 – 14.992 s (baseline off), ~127 kB, data loaded,\n",
      " '1': 1>, so metadata was not modified.\n",
      "  \n"
     ]
    },
    {
     "name": "stdout",
     "output_type": "stream",
     "text": [
      "[Connectivity computation done]\n",
      "[ 4  8 10 13 30 45]\n",
      "(6,)\n",
      "[ 4  8 10 13 30 45]\n",
      "(6,)\n",
      "only using indices for lower-triangular matrix\n",
      "Connectivity computation...\n",
      "   Processing epoch 1 / 1 ...\n"
     ]
    },
    {
     "name": "stderr",
     "output_type": "stream",
     "text": [
      "/Users/jakubblaha/Documents/thesis/thesis-python/main.py:121: RuntimeWarning: There were no Annotations stored in <EpochsArray | 1 events (all good), 7 – 14.992 s (baseline off), ~127 kB, data loaded,\n",
      " '1': 1>, so metadata was not modified.\n",
      "  \n"
     ]
    },
    {
     "name": "stdout",
     "output_type": "stream",
     "text": [
      "[Connectivity computation done]\n",
      "[ 4  8 10 13 30 45]\n",
      "(6,)\n",
      "[ 4  8 10 13 30 45]\n",
      "(6,)\n",
      "only using indices for lower-triangular matrix\n",
      "Connectivity computation...\n",
      "   Processing epoch 1 / 1 ...\n"
     ]
    },
    {
     "name": "stderr",
     "output_type": "stream",
     "text": [
      "/Users/jakubblaha/Documents/thesis/thesis-python/main.py:121: RuntimeWarning: There were no Annotations stored in <EpochsArray | 1 events (all good), 7 – 14.992 s (baseline off), ~127 kB, data loaded,\n",
      " '1': 1>, so metadata was not modified.\n",
      "  \n"
     ]
    },
    {
     "name": "stdout",
     "output_type": "stream",
     "text": [
      "[Connectivity computation done]\n",
      "[ 4  8 10 13 30 45]\n",
      "(6,)\n",
      "[ 4  8 10 13 30 45]\n",
      "(6,)\n",
      "only using indices for lower-triangular matrix\n",
      "Connectivity computation...\n",
      "   Processing epoch 1 / 1 ...\n"
     ]
    },
    {
     "name": "stderr",
     "output_type": "stream",
     "text": [
      "/Users/jakubblaha/Documents/thesis/thesis-python/main.py:121: RuntimeWarning: There were no Annotations stored in <EpochsArray | 1 events (all good), 7 – 14.992 s (baseline off), ~127 kB, data loaded,\n",
      " '1': 1>, so metadata was not modified.\n",
      "  \n"
     ]
    },
    {
     "name": "stdout",
     "output_type": "stream",
     "text": [
      "[Connectivity computation done]\n",
      "[ 4  8 10 13 30 45]\n",
      "(6,)\n",
      "[ 4  8 10 13 30 45]\n",
      "(6,)\n",
      "only using indices for lower-triangular matrix\n",
      "Connectivity computation...\n",
      "   Processing epoch 1 / 1 ...\n"
     ]
    },
    {
     "name": "stderr",
     "output_type": "stream",
     "text": [
      "/Users/jakubblaha/Documents/thesis/thesis-python/main.py:121: RuntimeWarning: There were no Annotations stored in <EpochsArray | 1 events (all good), 7 – 14.992 s (baseline off), ~127 kB, data loaded,\n",
      " '1': 1>, so metadata was not modified.\n",
      "  \n"
     ]
    },
    {
     "name": "stdout",
     "output_type": "stream",
     "text": [
      "[Connectivity computation done]\n",
      "[ 4  8 10 13 30 45]\n",
      "(6,)\n",
      "[ 4  8 10 13 30 45]\n",
      "(6,)\n",
      "only using indices for lower-triangular matrix\n",
      "Connectivity computation...\n",
      "   Processing epoch 1 / 1 ...\n"
     ]
    },
    {
     "name": "stderr",
     "output_type": "stream",
     "text": [
      "/Users/jakubblaha/Documents/thesis/thesis-python/main.py:121: RuntimeWarning: There were no Annotations stored in <EpochsArray | 1 events (all good), 7 – 14.992 s (baseline off), ~127 kB, data loaded,\n",
      " '1': 1>, so metadata was not modified.\n",
      "  \n"
     ]
    },
    {
     "name": "stdout",
     "output_type": "stream",
     "text": [
      "[Connectivity computation done]\n",
      "[ 4  8 10 13 30 45]\n",
      "(6,)\n",
      "[ 4  8 10 13 30 45]\n",
      "(6,)\n",
      "only using indices for lower-triangular matrix\n",
      "Connectivity computation...\n",
      "   Processing epoch 1 / 1 ...\n"
     ]
    },
    {
     "name": "stderr",
     "output_type": "stream",
     "text": [
      "/Users/jakubblaha/Documents/thesis/thesis-python/main.py:121: RuntimeWarning: There were no Annotations stored in <EpochsArray | 1 events (all good), 7 – 14.992 s (baseline off), ~127 kB, data loaded,\n",
      " '1': 1>, so metadata was not modified.\n",
      "  \n"
     ]
    },
    {
     "name": "stdout",
     "output_type": "stream",
     "text": [
      "[Connectivity computation done]\n",
      "[ 4  8 10 13 30 45]\n",
      "(6,)\n",
      "[ 4  8 10 13 30 45]\n",
      "(6,)\n",
      "only using indices for lower-triangular matrix\n",
      "Connectivity computation...\n",
      "   Processing epoch 1 / 1 ...\n"
     ]
    },
    {
     "name": "stderr",
     "output_type": "stream",
     "text": [
      "/Users/jakubblaha/Documents/thesis/thesis-python/main.py:121: RuntimeWarning: There were no Annotations stored in <EpochsArray | 1 events (all good), 7 – 14.992 s (baseline off), ~127 kB, data loaded,\n",
      " '1': 1>, so metadata was not modified.\n",
      "  \n"
     ]
    },
    {
     "name": "stdout",
     "output_type": "stream",
     "text": [
      "[Connectivity computation done]\n",
      "[ 4  8 10 13 30 45]\n",
      "(6,)\n",
      "[ 4  8 10 13 30 45]\n",
      "(6,)\n",
      "only using indices for lower-triangular matrix\n",
      "Connectivity computation...\n",
      "   Processing epoch 1 / 1 ...\n"
     ]
    },
    {
     "name": "stderr",
     "output_type": "stream",
     "text": [
      "/Users/jakubblaha/Documents/thesis/thesis-python/main.py:121: RuntimeWarning: There were no Annotations stored in <EpochsArray | 1 events (all good), 7 – 14.992 s (baseline off), ~127 kB, data loaded,\n",
      " '1': 1>, so metadata was not modified.\n",
      "  \n"
     ]
    },
    {
     "name": "stdout",
     "output_type": "stream",
     "text": [
      "[Connectivity computation done]\n",
      "[ 4  8 10 13 30 45]\n",
      "(6,)\n",
      "[ 4  8 10 13 30 45]\n",
      "(6,)\n",
      "only using indices for lower-triangular matrix\n",
      "Connectivity computation...\n",
      "   Processing epoch 1 / 1 ...\n"
     ]
    },
    {
     "name": "stderr",
     "output_type": "stream",
     "text": [
      "/Users/jakubblaha/Documents/thesis/thesis-python/main.py:121: RuntimeWarning: There were no Annotations stored in <EpochsArray | 1 events (all good), 7 – 14.992 s (baseline off), ~127 kB, data loaded,\n",
      " '1': 1>, so metadata was not modified.\n",
      "  \n"
     ]
    },
    {
     "name": "stdout",
     "output_type": "stream",
     "text": [
      "[Connectivity computation done]\n",
      "[ 4  8 10 13 30 45]\n",
      "(6,)\n",
      "[ 4  8 10 13 30 45]\n",
      "(6,)\n",
      "only using indices for lower-triangular matrix\n",
      "Connectivity computation...\n",
      "   Processing epoch 1 / 1 ...\n"
     ]
    },
    {
     "name": "stderr",
     "output_type": "stream",
     "text": [
      "/Users/jakubblaha/Documents/thesis/thesis-python/main.py:121: RuntimeWarning: There were no Annotations stored in <EpochsArray | 1 events (all good), 7 – 14.992 s (baseline off), ~127 kB, data loaded,\n",
      " '1': 1>, so metadata was not modified.\n",
      "  \n"
     ]
    },
    {
     "name": "stdout",
     "output_type": "stream",
     "text": [
      "[Connectivity computation done]\n",
      "[ 4  8 10 13 30 45]\n",
      "(6,)\n",
      "[ 4  8 10 13 30 45]\n",
      "(6,)\n",
      "only using indices for lower-triangular matrix\n",
      "Connectivity computation...\n",
      "   Processing epoch 1 / 1 ...\n"
     ]
    },
    {
     "name": "stderr",
     "output_type": "stream",
     "text": [
      "/Users/jakubblaha/Documents/thesis/thesis-python/main.py:121: RuntimeWarning: There were no Annotations stored in <EpochsArray | 1 events (all good), 7 – 14.992 s (baseline off), ~127 kB, data loaded,\n",
      " '1': 1>, so metadata was not modified.\n",
      "  \n"
     ]
    },
    {
     "name": "stdout",
     "output_type": "stream",
     "text": [
      "[Connectivity computation done]\n",
      "[ 4  8 10 13 30 45]\n",
      "(6,)\n",
      "[ 4  8 10 13 30 45]\n",
      "(6,)\n",
      "only using indices for lower-triangular matrix\n",
      "Connectivity computation...\n",
      "   Processing epoch 1 / 1 ...\n"
     ]
    },
    {
     "name": "stderr",
     "output_type": "stream",
     "text": [
      "/Users/jakubblaha/Documents/thesis/thesis-python/main.py:121: RuntimeWarning: There were no Annotations stored in <EpochsArray | 1 events (all good), 7 – 14.992 s (baseline off), ~127 kB, data loaded,\n",
      " '1': 1>, so metadata was not modified.\n",
      "  \n"
     ]
    },
    {
     "name": "stdout",
     "output_type": "stream",
     "text": [
      "[Connectivity computation done]\n",
      "[ 4  8 10 13 30 45]\n",
      "(6,)\n",
      "[ 4  8 10 13 30 45]\n",
      "(6,)\n",
      "only using indices for lower-triangular matrix\n",
      "Connectivity computation...\n",
      "   Processing epoch 1 / 1 ...\n"
     ]
    },
    {
     "name": "stderr",
     "output_type": "stream",
     "text": [
      "/Users/jakubblaha/Documents/thesis/thesis-python/main.py:121: RuntimeWarning: There were no Annotations stored in <EpochsArray | 1 events (all good), 7 – 14.992 s (baseline off), ~127 kB, data loaded,\n",
      " '1': 1>, so metadata was not modified.\n",
      "  \n"
     ]
    },
    {
     "name": "stdout",
     "output_type": "stream",
     "text": [
      "[Connectivity computation done]\n",
      "[ 4  8 10 13 30 45]\n",
      "(6,)\n",
      "[ 4  8 10 13 30 45]\n",
      "(6,)\n",
      "only using indices for lower-triangular matrix\n",
      "Connectivity computation...\n",
      "   Processing epoch 1 / 1 ...\n"
     ]
    },
    {
     "name": "stderr",
     "output_type": "stream",
     "text": [
      "/Users/jakubblaha/Documents/thesis/thesis-python/main.py:121: RuntimeWarning: There were no Annotations stored in <EpochsArray | 1 events (all good), 7 – 14.992 s (baseline off), ~127 kB, data loaded,\n",
      " '1': 1>, so metadata was not modified.\n",
      "  \n"
     ]
    },
    {
     "name": "stdout",
     "output_type": "stream",
     "text": [
      "[Connectivity computation done]\n",
      "[ 4  8 10 13 30 45]\n",
      "(6,)\n",
      "[ 4  8 10 13 30 45]\n",
      "(6,)\n",
      "only using indices for lower-triangular matrix\n",
      "Connectivity computation...\n",
      "   Processing epoch 1 / 1 ...\n"
     ]
    },
    {
     "name": "stderr",
     "output_type": "stream",
     "text": [
      "/Users/jakubblaha/Documents/thesis/thesis-python/main.py:121: RuntimeWarning: There were no Annotations stored in <EpochsArray | 1 events (all good), 7 – 14.992 s (baseline off), ~127 kB, data loaded,\n",
      " '1': 1>, so metadata was not modified.\n",
      "  \n"
     ]
    },
    {
     "name": "stdout",
     "output_type": "stream",
     "text": [
      "[Connectivity computation done]\n",
      "[ 4  8 10 13 30 45]\n",
      "(6,)\n",
      "[ 4  8 10 13 30 45]\n",
      "(6,)\n",
      "only using indices for lower-triangular matrix\n",
      "Connectivity computation...\n",
      "   Processing epoch 1 / 1 ...\n"
     ]
    },
    {
     "name": "stderr",
     "output_type": "stream",
     "text": [
      "/Users/jakubblaha/Documents/thesis/thesis-python/main.py:121: RuntimeWarning: There were no Annotations stored in <EpochsArray | 1 events (all good), 7 – 14.992 s (baseline off), ~127 kB, data loaded,\n",
      " '1': 1>, so metadata was not modified.\n",
      "  \n"
     ]
    },
    {
     "name": "stdout",
     "output_type": "stream",
     "text": [
      "[Connectivity computation done]\n",
      "[ 4  8 10 13 30 45]\n",
      "(6,)\n",
      "[ 4  8 10 13 30 45]\n",
      "(6,)\n",
      "only using indices for lower-triangular matrix\n",
      "Connectivity computation...\n",
      "   Processing epoch 1 / 1 ...\n"
     ]
    },
    {
     "name": "stderr",
     "output_type": "stream",
     "text": [
      "/Users/jakubblaha/Documents/thesis/thesis-python/main.py:121: RuntimeWarning: There were no Annotations stored in <EpochsArray | 1 events (all good), 7 – 14.992 s (baseline off), ~127 kB, data loaded,\n",
      " '1': 1>, so metadata was not modified.\n",
      "  \n"
     ]
    },
    {
     "name": "stdout",
     "output_type": "stream",
     "text": [
      "[Connectivity computation done]\n",
      "[ 4  8 10 13 30 45]\n",
      "(6,)\n",
      "[ 4  8 10 13 30 45]\n",
      "(6,)\n",
      "only using indices for lower-triangular matrix\n",
      "Connectivity computation...\n",
      "   Processing epoch 1 / 1 ...\n"
     ]
    },
    {
     "name": "stderr",
     "output_type": "stream",
     "text": [
      "/Users/jakubblaha/Documents/thesis/thesis-python/main.py:121: RuntimeWarning: There were no Annotations stored in <EpochsArray | 1 events (all good), 7 – 14.992 s (baseline off), ~127 kB, data loaded,\n",
      " '1': 1>, so metadata was not modified.\n",
      "  \n"
     ]
    },
    {
     "name": "stdout",
     "output_type": "stream",
     "text": [
      "[Connectivity computation done]\n",
      "[ 4  8 10 13 30 45]\n",
      "(6,)\n",
      "[ 4  8 10 13 30 45]\n",
      "(6,)\n",
      "only using indices for lower-triangular matrix\n",
      "Connectivity computation...\n",
      "   Processing epoch 1 / 1 ...\n"
     ]
    },
    {
     "name": "stderr",
     "output_type": "stream",
     "text": [
      "/Users/jakubblaha/Documents/thesis/thesis-python/main.py:121: RuntimeWarning: There were no Annotations stored in <EpochsArray | 1 events (all good), 7 – 14.992 s (baseline off), ~127 kB, data loaded,\n",
      " '1': 1>, so metadata was not modified.\n",
      "  \n"
     ]
    },
    {
     "name": "stdout",
     "output_type": "stream",
     "text": [
      "[Connectivity computation done]\n",
      "[ 4  8 10 13 30 45]\n",
      "(6,)\n",
      "[ 4  8 10 13 30 45]\n",
      "(6,)\n",
      "only using indices for lower-triangular matrix\n",
      "Connectivity computation...\n",
      "   Processing epoch 1 / 1 ...\n"
     ]
    },
    {
     "name": "stderr",
     "output_type": "stream",
     "text": [
      "/Users/jakubblaha/Documents/thesis/thesis-python/main.py:121: RuntimeWarning: There were no Annotations stored in <EpochsArray | 1 events (all good), 7 – 14.992 s (baseline off), ~127 kB, data loaded,\n",
      " '1': 1>, so metadata was not modified.\n",
      "  \n"
     ]
    },
    {
     "name": "stdout",
     "output_type": "stream",
     "text": [
      "[Connectivity computation done]\n",
      "[ 4  8 10 13 30 45]\n",
      "(6,)\n",
      "[ 4  8 10 13 30 45]\n",
      "(6,)\n",
      "only using indices for lower-triangular matrix\n",
      "Connectivity computation...\n",
      "   Processing epoch 1 / 1 ...\n"
     ]
    },
    {
     "name": "stderr",
     "output_type": "stream",
     "text": [
      "/Users/jakubblaha/Documents/thesis/thesis-python/main.py:121: RuntimeWarning: There were no Annotations stored in <EpochsArray | 1 events (all good), 7 – 14.992 s (baseline off), ~127 kB, data loaded,\n",
      " '1': 1>, so metadata was not modified.\n",
      "  \n"
     ]
    },
    {
     "name": "stdout",
     "output_type": "stream",
     "text": [
      "[Connectivity computation done]\n",
      "[ 4  8 10 13 30 45]\n",
      "(6,)\n",
      "[ 4  8 10 13 30 45]\n",
      "(6,)\n",
      "only using indices for lower-triangular matrix\n",
      "Connectivity computation...\n",
      "   Processing epoch 1 / 1 ...\n"
     ]
    },
    {
     "name": "stderr",
     "output_type": "stream",
     "text": [
      "/Users/jakubblaha/Documents/thesis/thesis-python/main.py:121: RuntimeWarning: There were no Annotations stored in <EpochsArray | 1 events (all good), 7 – 14.992 s (baseline off), ~127 kB, data loaded,\n",
      " '1': 1>, so metadata was not modified.\n",
      "  \n"
     ]
    },
    {
     "name": "stdout",
     "output_type": "stream",
     "text": [
      "[Connectivity computation done]\n",
      "[ 4  8 10 13 30 45]\n",
      "(6,)\n",
      "[ 4  8 10 13 30 45]\n",
      "(6,)\n",
      "only using indices for lower-triangular matrix\n",
      "Connectivity computation...\n",
      "   Processing epoch 1 / 1 ...\n"
     ]
    },
    {
     "name": "stderr",
     "output_type": "stream",
     "text": [
      "/Users/jakubblaha/Documents/thesis/thesis-python/main.py:121: RuntimeWarning: There were no Annotations stored in <EpochsArray | 1 events (all good), 7 – 14.992 s (baseline off), ~127 kB, data loaded,\n",
      " '1': 1>, so metadata was not modified.\n",
      "  \n"
     ]
    },
    {
     "name": "stdout",
     "output_type": "stream",
     "text": [
      "[Connectivity computation done]\n",
      "[ 4  8 10 13 30 45]\n",
      "(6,)\n",
      "[ 4  8 10 13 30 45]\n",
      "(6,)\n",
      "only using indices for lower-triangular matrix\n",
      "Connectivity computation...\n",
      "   Processing epoch 1 / 1 ...\n"
     ]
    },
    {
     "name": "stderr",
     "output_type": "stream",
     "text": [
      "/Users/jakubblaha/Documents/thesis/thesis-python/main.py:121: RuntimeWarning: There were no Annotations stored in <EpochsArray | 1 events (all good), 7 – 14.992 s (baseline off), ~127 kB, data loaded,\n",
      " '1': 1>, so metadata was not modified.\n",
      "  \n"
     ]
    },
    {
     "name": "stdout",
     "output_type": "stream",
     "text": [
      "[Connectivity computation done]\n",
      "[ 4  8 10 13 30 45]\n",
      "(6,)\n",
      "[ 4  8 10 13 30 45]\n",
      "(6,)\n",
      "only using indices for lower-triangular matrix\n",
      "Connectivity computation...\n",
      "   Processing epoch 1 / 1 ...\n"
     ]
    },
    {
     "name": "stderr",
     "output_type": "stream",
     "text": [
      "/Users/jakubblaha/Documents/thesis/thesis-python/main.py:121: RuntimeWarning: There were no Annotations stored in <EpochsArray | 1 events (all good), 7 – 14.992 s (baseline off), ~127 kB, data loaded,\n",
      " '1': 1>, so metadata was not modified.\n",
      "  \n"
     ]
    },
    {
     "name": "stdout",
     "output_type": "stream",
     "text": [
      "[Connectivity computation done]\n",
      "[ 4  8 10 13 30 45]\n",
      "(6,)\n",
      "[ 4  8 10 13 30 45]\n",
      "(6,)\n",
      "only using indices for lower-triangular matrix\n",
      "Connectivity computation...\n",
      "   Processing epoch 1 / 1 ...\n"
     ]
    },
    {
     "name": "stderr",
     "output_type": "stream",
     "text": [
      "/Users/jakubblaha/Documents/thesis/thesis-python/main.py:121: RuntimeWarning: There were no Annotations stored in <EpochsArray | 1 events (all good), 7 – 14.992 s (baseline off), ~127 kB, data loaded,\n",
      " '1': 1>, so metadata was not modified.\n",
      "  \n"
     ]
    },
    {
     "name": "stdout",
     "output_type": "stream",
     "text": [
      "[Connectivity computation done]\n",
      "[ 4  8 10 13 30 45]\n",
      "(6,)\n",
      "[ 4  8 10 13 30 45]\n",
      "(6,)\n",
      "only using indices for lower-triangular matrix\n",
      "Connectivity computation...\n",
      "   Processing epoch 1 / 1 ...\n"
     ]
    },
    {
     "name": "stderr",
     "output_type": "stream",
     "text": [
      "/Users/jakubblaha/Documents/thesis/thesis-python/main.py:121: RuntimeWarning: There were no Annotations stored in <EpochsArray | 1 events (all good), 7 – 14.992 s (baseline off), ~127 kB, data loaded,\n",
      " '1': 1>, so metadata was not modified.\n",
      "  \n"
     ]
    },
    {
     "name": "stdout",
     "output_type": "stream",
     "text": [
      "[Connectivity computation done]\n",
      "[ 4  8 10 13 30 45]\n",
      "(6,)\n",
      "[ 4  8 10 13 30 45]\n",
      "(6,)\n",
      "only using indices for lower-triangular matrix\n",
      "Connectivity computation...\n",
      "   Processing epoch 1 / 1 ...\n"
     ]
    },
    {
     "name": "stderr",
     "output_type": "stream",
     "text": [
      "/Users/jakubblaha/Documents/thesis/thesis-python/main.py:121: RuntimeWarning: There were no Annotations stored in <EpochsArray | 1 events (all good), 7 – 14.992 s (baseline off), ~127 kB, data loaded,\n",
      " '1': 1>, so metadata was not modified.\n",
      "  \n"
     ]
    },
    {
     "name": "stdout",
     "output_type": "stream",
     "text": [
      "[Connectivity computation done]\n",
      "[ 4  8 10 13 30 45]\n",
      "(6,)\n",
      "[ 4  8 10 13 30 45]\n",
      "(6,)\n",
      "only using indices for lower-triangular matrix\n",
      "Connectivity computation...\n",
      "   Processing epoch 1 / 1 ...\n"
     ]
    },
    {
     "name": "stderr",
     "output_type": "stream",
     "text": [
      "/Users/jakubblaha/Documents/thesis/thesis-python/main.py:121: RuntimeWarning: There were no Annotations stored in <EpochsArray | 1 events (all good), 7 – 14.992 s (baseline off), ~127 kB, data loaded,\n",
      " '1': 1>, so metadata was not modified.\n",
      "  \n"
     ]
    },
    {
     "name": "stdout",
     "output_type": "stream",
     "text": [
      "[Connectivity computation done]\n",
      "[ 4  8 10 13 30 45]\n",
      "(6,)\n",
      "[ 4  8 10 13 30 45]\n",
      "(6,)\n",
      "only using indices for lower-triangular matrix\n",
      "Connectivity computation...\n",
      "   Processing epoch 1 / 1 ...\n"
     ]
    },
    {
     "name": "stderr",
     "output_type": "stream",
     "text": [
      "/Users/jakubblaha/Documents/thesis/thesis-python/main.py:121: RuntimeWarning: There were no Annotations stored in <EpochsArray | 1 events (all good), 7 – 14.992 s (baseline off), ~127 kB, data loaded,\n",
      " '1': 1>, so metadata was not modified.\n",
      "  \n"
     ]
    },
    {
     "name": "stdout",
     "output_type": "stream",
     "text": [
      "[Connectivity computation done]\n",
      "[ 4  8 10 13 30 45]\n",
      "(6,)\n",
      "[ 4  8 10 13 30 45]\n",
      "(6,)\n",
      "only using indices for lower-triangular matrix\n",
      "Connectivity computation...\n",
      "   Processing epoch 1 / 1 ...\n"
     ]
    },
    {
     "name": "stderr",
     "output_type": "stream",
     "text": [
      "/Users/jakubblaha/Documents/thesis/thesis-python/main.py:121: RuntimeWarning: There were no Annotations stored in <EpochsArray | 1 events (all good), 7 – 14.992 s (baseline off), ~127 kB, data loaded,\n",
      " '1': 1>, so metadata was not modified.\n",
      "  \n"
     ]
    },
    {
     "name": "stdout",
     "output_type": "stream",
     "text": [
      "[Connectivity computation done]\n",
      "[ 4  8 10 13 30 45]\n",
      "(6,)\n",
      "[ 4  8 10 13 30 45]\n",
      "(6,)\n",
      "only using indices for lower-triangular matrix\n",
      "Connectivity computation...\n",
      "   Processing epoch 1 / 1 ...\n"
     ]
    },
    {
     "name": "stderr",
     "output_type": "stream",
     "text": [
      "/Users/jakubblaha/Documents/thesis/thesis-python/main.py:121: RuntimeWarning: There were no Annotations stored in <EpochsArray | 1 events (all good), 7 – 14.992 s (baseline off), ~127 kB, data loaded,\n",
      " '1': 1>, so metadata was not modified.\n",
      "  \n"
     ]
    },
    {
     "name": "stdout",
     "output_type": "stream",
     "text": [
      "[Connectivity computation done]\n",
      "[ 4  8 10 13 30 45]\n",
      "(6,)\n",
      "[ 4  8 10 13 30 45]\n",
      "(6,)\n",
      "only using indices for lower-triangular matrix\n",
      "Connectivity computation...\n",
      "   Processing epoch 1 / 1 ...\n"
     ]
    },
    {
     "name": "stderr",
     "output_type": "stream",
     "text": [
      "/Users/jakubblaha/Documents/thesis/thesis-python/main.py:121: RuntimeWarning: There were no Annotations stored in <EpochsArray | 1 events (all good), 7 – 14.992 s (baseline off), ~127 kB, data loaded,\n",
      " '1': 1>, so metadata was not modified.\n",
      "  \n"
     ]
    },
    {
     "name": "stdout",
     "output_type": "stream",
     "text": [
      "[Connectivity computation done]\n",
      "[ 4  8 10 13 30 45]\n",
      "(6,)\n",
      "[ 4  8 10 13 30 45]\n",
      "(6,)\n",
      "only using indices for lower-triangular matrix\n",
      "Connectivity computation...\n",
      "   Processing epoch 1 / 1 ...\n"
     ]
    },
    {
     "name": "stderr",
     "output_type": "stream",
     "text": [
      "/Users/jakubblaha/Documents/thesis/thesis-python/main.py:121: RuntimeWarning: There were no Annotations stored in <EpochsArray | 1 events (all good), 7 – 14.992 s (baseline off), ~127 kB, data loaded,\n",
      " '1': 1>, so metadata was not modified.\n",
      "  \n"
     ]
    },
    {
     "name": "stdout",
     "output_type": "stream",
     "text": [
      "[Connectivity computation done]\n",
      "[ 4  8 10 13 30 45]\n",
      "(6,)\n",
      "[ 4  8 10 13 30 45]\n",
      "(6,)\n",
      "only using indices for lower-triangular matrix\n",
      "Connectivity computation...\n",
      "   Processing epoch 1 / 1 ...\n",
      "[Connectivity computation done]\n"
     ]
    },
    {
     "name": "stderr",
     "output_type": "stream",
     "text": [
      "/Users/jakubblaha/Documents/thesis/thesis-python/main.py:121: RuntimeWarning: There were no Annotations stored in <EpochsArray | 1 events (all good), 7 – 14.992 s (baseline off), ~127 kB, data loaded,\n",
      " '1': 1>, so metadata was not modified.\n",
      "  \n"
     ]
    },
    {
     "name": "stdout",
     "output_type": "stream",
     "text": [
      "[ 4  8 10 13 30 45]\n",
      "(6,)\n",
      "[ 4  8 10 13 30 45]\n",
      "(6,)\n",
      "only using indices for lower-triangular matrix\n",
      "Connectivity computation...\n",
      "   Processing epoch 1 / 1 ...\n"
     ]
    },
    {
     "name": "stderr",
     "output_type": "stream",
     "text": [
      "/Users/jakubblaha/Documents/thesis/thesis-python/main.py:121: RuntimeWarning: There were no Annotations stored in <EpochsArray | 1 events (all good), 7 – 14.992 s (baseline off), ~127 kB, data loaded,\n",
      " '1': 1>, so metadata was not modified.\n",
      "  \n"
     ]
    },
    {
     "name": "stdout",
     "output_type": "stream",
     "text": [
      "[Connectivity computation done]\n",
      "[ 4  8 10 13 30 45]\n",
      "(6,)\n",
      "[ 4  8 10 13 30 45]\n",
      "(6,)\n",
      "only using indices for lower-triangular matrix\n",
      "Connectivity computation...\n",
      "   Processing epoch 1 / 1 ...\n"
     ]
    },
    {
     "name": "stderr",
     "output_type": "stream",
     "text": [
      "/Users/jakubblaha/Documents/thesis/thesis-python/main.py:121: RuntimeWarning: There were no Annotations stored in <EpochsArray | 1 events (all good), 7 – 14.992 s (baseline off), ~127 kB, data loaded,\n",
      " '1': 1>, so metadata was not modified.\n",
      "  \n"
     ]
    },
    {
     "name": "stdout",
     "output_type": "stream",
     "text": [
      "[Connectivity computation done]\n",
      "[ 4  8 10 13 30 45]\n",
      "(6,)\n",
      "[ 4  8 10 13 30 45]\n",
      "(6,)\n",
      "only using indices for lower-triangular matrix\n",
      "Connectivity computation...\n",
      "   Processing epoch 1 / 1 ...\n"
     ]
    },
    {
     "name": "stderr",
     "output_type": "stream",
     "text": [
      "/Users/jakubblaha/Documents/thesis/thesis-python/main.py:121: RuntimeWarning: There were no Annotations stored in <EpochsArray | 1 events (all good), 7 – 14.992 s (baseline off), ~127 kB, data loaded,\n",
      " '1': 1>, so metadata was not modified.\n",
      "  \n"
     ]
    },
    {
     "name": "stdout",
     "output_type": "stream",
     "text": [
      "[Connectivity computation done]\n",
      "[ 4  8 10 13 30 45]\n",
      "(6,)\n",
      "[ 4  8 10 13 30 45]\n",
      "(6,)\n",
      "only using indices for lower-triangular matrix\n",
      "Connectivity computation...\n",
      "   Processing epoch 1 / 1 ...\n"
     ]
    },
    {
     "name": "stderr",
     "output_type": "stream",
     "text": [
      "/Users/jakubblaha/Documents/thesis/thesis-python/main.py:121: RuntimeWarning: There were no Annotations stored in <EpochsArray | 1 events (all good), 7 – 14.992 s (baseline off), ~127 kB, data loaded,\n",
      " '1': 1>, so metadata was not modified.\n",
      "  \n"
     ]
    },
    {
     "name": "stdout",
     "output_type": "stream",
     "text": [
      "[Connectivity computation done]\n",
      "[ 4  8 10 13 30 45]\n",
      "(6,)\n",
      "[ 4  8 10 13 30 45]\n",
      "(6,)\n",
      "only using indices for lower-triangular matrix\n",
      "Connectivity computation...\n",
      "   Processing epoch 1 / 1 ...\n"
     ]
    },
    {
     "name": "stderr",
     "output_type": "stream",
     "text": [
      "/Users/jakubblaha/Documents/thesis/thesis-python/main.py:121: RuntimeWarning: There were no Annotations stored in <EpochsArray | 1 events (all good), 7 – 14.992 s (baseline off), ~127 kB, data loaded,\n",
      " '1': 1>, so metadata was not modified.\n",
      "  \n"
     ]
    },
    {
     "name": "stdout",
     "output_type": "stream",
     "text": [
      "[Connectivity computation done]\n",
      "[ 4  8 10 13 30 45]\n",
      "(6,)\n",
      "[ 4  8 10 13 30 45]\n",
      "(6,)\n",
      "only using indices for lower-triangular matrix\n",
      "Connectivity computation...\n",
      "   Processing epoch 1 / 1 ...\n"
     ]
    },
    {
     "name": "stderr",
     "output_type": "stream",
     "text": [
      "/Users/jakubblaha/Documents/thesis/thesis-python/main.py:121: RuntimeWarning: There were no Annotations stored in <EpochsArray | 1 events (all good), 7 – 14.992 s (baseline off), ~127 kB, data loaded,\n",
      " '1': 1>, so metadata was not modified.\n",
      "  \n"
     ]
    },
    {
     "name": "stdout",
     "output_type": "stream",
     "text": [
      "[Connectivity computation done]\n",
      "[ 4  8 10 13 30 45]\n",
      "(6,)\n",
      "[ 4  8 10 13 30 45]\n",
      "(6,)\n",
      "only using indices for lower-triangular matrix\n",
      "Connectivity computation...\n",
      "   Processing epoch 1 / 1 ...\n"
     ]
    },
    {
     "name": "stderr",
     "output_type": "stream",
     "text": [
      "/Users/jakubblaha/Documents/thesis/thesis-python/main.py:121: RuntimeWarning: There were no Annotations stored in <EpochsArray | 1 events (all good), 7 – 14.992 s (baseline off), ~127 kB, data loaded,\n",
      " '1': 1>, so metadata was not modified.\n",
      "  \n"
     ]
    },
    {
     "name": "stdout",
     "output_type": "stream",
     "text": [
      "[Connectivity computation done]\n",
      "[ 4  8 10 13 30 45]\n",
      "(6,)\n",
      "[ 4  8 10 13 30 45]\n",
      "(6,)\n",
      "only using indices for lower-triangular matrix\n",
      "Connectivity computation...\n",
      "   Processing epoch 1 / 1 ...\n"
     ]
    },
    {
     "name": "stderr",
     "output_type": "stream",
     "text": [
      "/Users/jakubblaha/Documents/thesis/thesis-python/main.py:121: RuntimeWarning: There were no Annotations stored in <EpochsArray | 1 events (all good), 7 – 14.992 s (baseline off), ~127 kB, data loaded,\n",
      " '1': 1>, so metadata was not modified.\n",
      "  \n"
     ]
    },
    {
     "name": "stdout",
     "output_type": "stream",
     "text": [
      "[Connectivity computation done]\n",
      "[ 4  8 10 13 30 45]\n",
      "(6,)\n",
      "[ 4  8 10 13 30 45]\n",
      "(6,)\n",
      "only using indices for lower-triangular matrix\n",
      "Connectivity computation...\n",
      "   Processing epoch 1 / 1 ...\n"
     ]
    },
    {
     "name": "stderr",
     "output_type": "stream",
     "text": [
      "/Users/jakubblaha/Documents/thesis/thesis-python/main.py:121: RuntimeWarning: There were no Annotations stored in <EpochsArray | 1 events (all good), 7 – 14.992 s (baseline off), ~127 kB, data loaded,\n",
      " '1': 1>, so metadata was not modified.\n",
      "  \n"
     ]
    },
    {
     "name": "stdout",
     "output_type": "stream",
     "text": [
      "[Connectivity computation done]\n",
      "[ 4  8 10 13 30 45]\n",
      "(6,)\n",
      "[ 4  8 10 13 30 45]\n",
      "(6,)\n",
      "only using indices for lower-triangular matrix\n",
      "Connectivity computation...\n",
      "   Processing epoch 1 / 1 ...\n"
     ]
    },
    {
     "name": "stderr",
     "output_type": "stream",
     "text": [
      "/Users/jakubblaha/Documents/thesis/thesis-python/main.py:121: RuntimeWarning: There were no Annotations stored in <EpochsArray | 1 events (all good), 7 – 14.992 s (baseline off), ~127 kB, data loaded,\n",
      " '1': 1>, so metadata was not modified.\n",
      "  \n"
     ]
    },
    {
     "name": "stdout",
     "output_type": "stream",
     "text": [
      "[Connectivity computation done]\n",
      "[ 4  8 10 13 30 45]\n",
      "(6,)\n",
      "[ 4  8 10 13 30 45]\n",
      "(6,)\n",
      "only using indices for lower-triangular matrix\n",
      "Connectivity computation...\n",
      "   Processing epoch 1 / 1 ...\n"
     ]
    },
    {
     "name": "stderr",
     "output_type": "stream",
     "text": [
      "/Users/jakubblaha/Documents/thesis/thesis-python/main.py:121: RuntimeWarning: There were no Annotations stored in <EpochsArray | 1 events (all good), 7 – 14.992 s (baseline off), ~127 kB, data loaded,\n",
      " '1': 1>, so metadata was not modified.\n",
      "  \n"
     ]
    },
    {
     "name": "stdout",
     "output_type": "stream",
     "text": [
      "[Connectivity computation done]\n",
      "[ 4  8 10 13 30 45]\n",
      "(6,)\n",
      "[ 4  8 10 13 30 45]\n",
      "(6,)\n",
      "only using indices for lower-triangular matrix\n",
      "Connectivity computation...\n",
      "   Processing epoch 1 / 1 ...\n"
     ]
    },
    {
     "name": "stderr",
     "output_type": "stream",
     "text": [
      "/Users/jakubblaha/Documents/thesis/thesis-python/main.py:121: RuntimeWarning: There were no Annotations stored in <EpochsArray | 1 events (all good), 7 – 14.992 s (baseline off), ~127 kB, data loaded,\n",
      " '1': 1>, so metadata was not modified.\n",
      "  \n"
     ]
    },
    {
     "name": "stdout",
     "output_type": "stream",
     "text": [
      "[Connectivity computation done]\n",
      "[ 4  8 10 13 30 45]\n",
      "(6,)\n",
      "[ 4  8 10 13 30 45]\n",
      "(6,)\n",
      "only using indices for lower-triangular matrix\n",
      "Connectivity computation...\n",
      "   Processing epoch 1 / 1 ...\n"
     ]
    },
    {
     "name": "stderr",
     "output_type": "stream",
     "text": [
      "/Users/jakubblaha/Documents/thesis/thesis-python/main.py:121: RuntimeWarning: There were no Annotations stored in <EpochsArray | 1 events (all good), 7 – 14.992 s (baseline off), ~127 kB, data loaded,\n",
      " '1': 1>, so metadata was not modified.\n",
      "  \n"
     ]
    },
    {
     "name": "stdout",
     "output_type": "stream",
     "text": [
      "[Connectivity computation done]\n",
      "[ 4  8 10 13 30 45]\n",
      "(6,)\n",
      "[ 4  8 10 13 30 45]\n",
      "(6,)\n",
      "only using indices for lower-triangular matrix\n",
      "Connectivity computation...\n",
      "   Processing epoch 1 / 1 ...\n"
     ]
    },
    {
     "name": "stderr",
     "output_type": "stream",
     "text": [
      "/Users/jakubblaha/Documents/thesis/thesis-python/main.py:121: RuntimeWarning: There were no Annotations stored in <EpochsArray | 1 events (all good), 7 – 14.992 s (baseline off), ~127 kB, data loaded,\n",
      " '1': 1>, so metadata was not modified.\n",
      "  \n"
     ]
    },
    {
     "name": "stdout",
     "output_type": "stream",
     "text": [
      "[Connectivity computation done]\n",
      "[ 4  8 10 13 30 45]\n",
      "(6,)\n",
      "[ 4  8 10 13 30 45]\n",
      "(6,)\n",
      "only using indices for lower-triangular matrix\n",
      "Connectivity computation...\n",
      "   Processing epoch 1 / 1 ...\n"
     ]
    },
    {
     "name": "stderr",
     "output_type": "stream",
     "text": [
      "/Users/jakubblaha/Documents/thesis/thesis-python/main.py:121: RuntimeWarning: There were no Annotations stored in <EpochsArray | 1 events (all good), 7 – 14.992 s (baseline off), ~127 kB, data loaded,\n",
      " '1': 1>, so metadata was not modified.\n",
      "  \n"
     ]
    },
    {
     "name": "stdout",
     "output_type": "stream",
     "text": [
      "[Connectivity computation done]\n",
      "[ 4  8 10 13 30 45]\n",
      "(6,)\n",
      "[ 4  8 10 13 30 45]\n",
      "(6,)\n",
      "only using indices for lower-triangular matrix\n",
      "Connectivity computation...\n",
      "   Processing epoch 1 / 1 ...\n"
     ]
    },
    {
     "name": "stderr",
     "output_type": "stream",
     "text": [
      "/Users/jakubblaha/Documents/thesis/thesis-python/main.py:121: RuntimeWarning: There were no Annotations stored in <EpochsArray | 1 events (all good), 7 – 14.992 s (baseline off), ~127 kB, data loaded,\n",
      " '1': 1>, so metadata was not modified.\n",
      "  \n"
     ]
    },
    {
     "name": "stdout",
     "output_type": "stream",
     "text": [
      "[Connectivity computation done]\n",
      "[ 4  8 10 13 30 45]\n",
      "(6,)\n",
      "[ 4  8 10 13 30 45]\n",
      "(6,)\n",
      "only using indices for lower-triangular matrix\n",
      "Connectivity computation...\n",
      "   Processing epoch 1 / 1 ...\n",
      "[Connectivity computation done]\n"
     ]
    },
    {
     "name": "stderr",
     "output_type": "stream",
     "text": [
      "/Users/jakubblaha/Documents/thesis/thesis-python/main.py:121: RuntimeWarning: There were no Annotations stored in <EpochsArray | 1 events (all good), 7 – 14.992 s (baseline off), ~127 kB, data loaded,\n",
      " '1': 1>, so metadata was not modified.\n",
      "  \n"
     ]
    },
    {
     "name": "stdout",
     "output_type": "stream",
     "text": [
      "[ 4  8 10 13 30 45]\n",
      "(6,)\n",
      "[ 4  8 10 13 30 45]\n",
      "(6,)\n",
      "only using indices for lower-triangular matrix\n",
      "Connectivity computation...\n",
      "   Processing epoch 1 / 1 ...\n"
     ]
    },
    {
     "name": "stderr",
     "output_type": "stream",
     "text": [
      "/Users/jakubblaha/Documents/thesis/thesis-python/main.py:121: RuntimeWarning: There were no Annotations stored in <EpochsArray | 1 events (all good), 7 – 14.992 s (baseline off), ~127 kB, data loaded,\n",
      " '1': 1>, so metadata was not modified.\n",
      "  \n"
     ]
    },
    {
     "name": "stdout",
     "output_type": "stream",
     "text": [
      "[Connectivity computation done]\n",
      "[ 4  8 10 13 30 45]\n",
      "(6,)\n",
      "[ 4  8 10 13 30 45]\n",
      "(6,)\n",
      "only using indices for lower-triangular matrix\n",
      "Connectivity computation...\n",
      "   Processing epoch 1 / 1 ...\n"
     ]
    },
    {
     "name": "stderr",
     "output_type": "stream",
     "text": [
      "/Users/jakubblaha/Documents/thesis/thesis-python/main.py:121: RuntimeWarning: There were no Annotations stored in <EpochsArray | 1 events (all good), 7 – 14.992 s (baseline off), ~127 kB, data loaded,\n",
      " '1': 1>, so metadata was not modified.\n",
      "  \n"
     ]
    },
    {
     "name": "stdout",
     "output_type": "stream",
     "text": [
      "[Connectivity computation done]\n",
      "[ 4  8 10 13 30 45]\n",
      "(6,)\n",
      "[ 4  8 10 13 30 45]\n",
      "(6,)\n",
      "only using indices for lower-triangular matrix\n",
      "Connectivity computation...\n",
      "   Processing epoch 1 / 1 ...\n"
     ]
    },
    {
     "name": "stderr",
     "output_type": "stream",
     "text": [
      "/Users/jakubblaha/Documents/thesis/thesis-python/main.py:121: RuntimeWarning: There were no Annotations stored in <EpochsArray | 1 events (all good), 7 – 14.992 s (baseline off), ~127 kB, data loaded,\n",
      " '1': 1>, so metadata was not modified.\n",
      "  \n"
     ]
    },
    {
     "name": "stdout",
     "output_type": "stream",
     "text": [
      "[Connectivity computation done]\n",
      "[ 4  8 10 13 30 45]\n",
      "(6,)\n",
      "[ 4  8 10 13 30 45]\n",
      "(6,)\n",
      "only using indices for lower-triangular matrix\n",
      "Connectivity computation...\n",
      "   Processing epoch 1 / 1 ...\n"
     ]
    },
    {
     "name": "stderr",
     "output_type": "stream",
     "text": [
      "/Users/jakubblaha/Documents/thesis/thesis-python/main.py:121: RuntimeWarning: There were no Annotations stored in <EpochsArray | 1 events (all good), 7 – 14.992 s (baseline off), ~127 kB, data loaded,\n",
      " '1': 1>, so metadata was not modified.\n",
      "  \n"
     ]
    },
    {
     "name": "stdout",
     "output_type": "stream",
     "text": [
      "[Connectivity computation done]\n",
      "[ 4  8 10 13 30 45]\n",
      "(6,)\n",
      "[ 4  8 10 13 30 45]\n",
      "(6,)\n",
      "only using indices for lower-triangular matrix\n",
      "Connectivity computation...\n",
      "   Processing epoch 1 / 1 ...\n"
     ]
    },
    {
     "name": "stderr",
     "output_type": "stream",
     "text": [
      "/Users/jakubblaha/Documents/thesis/thesis-python/main.py:121: RuntimeWarning: There were no Annotations stored in <EpochsArray | 1 events (all good), 7 – 14.992 s (baseline off), ~127 kB, data loaded,\n",
      " '1': 1>, so metadata was not modified.\n",
      "  \n"
     ]
    },
    {
     "name": "stdout",
     "output_type": "stream",
     "text": [
      "[Connectivity computation done]\n",
      "[ 4  8 10 13 30 45]\n",
      "(6,)\n",
      "[ 4  8 10 13 30 45]\n",
      "(6,)\n",
      "only using indices for lower-triangular matrix\n",
      "Connectivity computation...\n",
      "   Processing epoch 1 / 1 ...\n"
     ]
    },
    {
     "name": "stderr",
     "output_type": "stream",
     "text": [
      "/Users/jakubblaha/Documents/thesis/thesis-python/main.py:121: RuntimeWarning: There were no Annotations stored in <EpochsArray | 1 events (all good), 7 – 14.992 s (baseline off), ~127 kB, data loaded,\n",
      " '1': 1>, so metadata was not modified.\n",
      "  \n"
     ]
    },
    {
     "name": "stdout",
     "output_type": "stream",
     "text": [
      "[Connectivity computation done]\n",
      "[ 4  8 10 13 30 45]\n",
      "(6,)\n",
      "[ 4  8 10 13 30 45]\n",
      "(6,)\n",
      "only using indices for lower-triangular matrix\n",
      "Connectivity computation...\n",
      "   Processing epoch 1 / 1 ...\n"
     ]
    },
    {
     "name": "stderr",
     "output_type": "stream",
     "text": [
      "/Users/jakubblaha/Documents/thesis/thesis-python/main.py:121: RuntimeWarning: There were no Annotations stored in <EpochsArray | 1 events (all good), 7 – 14.992 s (baseline off), ~127 kB, data loaded,\n",
      " '1': 1>, so metadata was not modified.\n",
      "  \n"
     ]
    },
    {
     "name": "stdout",
     "output_type": "stream",
     "text": [
      "[Connectivity computation done]\n",
      "[ 4  8 10 13 30 45]\n",
      "(6,)\n",
      "[ 4  8 10 13 30 45]\n",
      "(6,)\n",
      "only using indices for lower-triangular matrix\n",
      "Connectivity computation...\n",
      "   Processing epoch 1 / 1 ...\n"
     ]
    },
    {
     "name": "stderr",
     "output_type": "stream",
     "text": [
      "/Users/jakubblaha/Documents/thesis/thesis-python/main.py:121: RuntimeWarning: There were no Annotations stored in <EpochsArray | 1 events (all good), 7 – 14.992 s (baseline off), ~127 kB, data loaded,\n",
      " '1': 1>, so metadata was not modified.\n",
      "  \n"
     ]
    },
    {
     "name": "stdout",
     "output_type": "stream",
     "text": [
      "[Connectivity computation done]\n",
      "[ 4  8 10 13 30 45]\n",
      "(6,)\n",
      "[ 4  8 10 13 30 45]\n",
      "(6,)\n",
      "only using indices for lower-triangular matrix\n",
      "Connectivity computation...\n",
      "   Processing epoch 1 / 1 ...\n"
     ]
    },
    {
     "name": "stderr",
     "output_type": "stream",
     "text": [
      "/Users/jakubblaha/Documents/thesis/thesis-python/main.py:121: RuntimeWarning: There were no Annotations stored in <EpochsArray | 1 events (all good), 7 – 14.992 s (baseline off), ~127 kB, data loaded,\n",
      " '1': 1>, so metadata was not modified.\n",
      "  \n"
     ]
    },
    {
     "name": "stdout",
     "output_type": "stream",
     "text": [
      "[Connectivity computation done]\n",
      "[ 4  8 10 13 30 45]\n",
      "(6,)\n",
      "[ 4  8 10 13 30 45]\n",
      "(6,)\n",
      "only using indices for lower-triangular matrix\n",
      "Connectivity computation...\n",
      "   Processing epoch 1 / 1 ...\n"
     ]
    },
    {
     "name": "stderr",
     "output_type": "stream",
     "text": [
      "/Users/jakubblaha/Documents/thesis/thesis-python/main.py:121: RuntimeWarning: There were no Annotations stored in <EpochsArray | 1 events (all good), 7 – 14.992 s (baseline off), ~127 kB, data loaded,\n",
      " '1': 1>, so metadata was not modified.\n",
      "  \n"
     ]
    },
    {
     "name": "stdout",
     "output_type": "stream",
     "text": [
      "[Connectivity computation done]\n",
      "[ 4  8 10 13 30 45]\n",
      "(6,)\n",
      "[ 4  8 10 13 30 45]\n",
      "(6,)\n",
      "only using indices for lower-triangular matrix\n",
      "Connectivity computation...\n",
      "   Processing epoch 1 / 1 ...\n"
     ]
    },
    {
     "name": "stderr",
     "output_type": "stream",
     "text": [
      "/Users/jakubblaha/Documents/thesis/thesis-python/main.py:121: RuntimeWarning: There were no Annotations stored in <EpochsArray | 1 events (all good), 7 – 14.992 s (baseline off), ~127 kB, data loaded,\n",
      " '1': 1>, so metadata was not modified.\n",
      "  \n"
     ]
    },
    {
     "name": "stdout",
     "output_type": "stream",
     "text": [
      "[Connectivity computation done]\n",
      "[ 4  8 10 13 30 45]\n",
      "(6,)\n",
      "[ 4  8 10 13 30 45]\n",
      "(6,)\n",
      "only using indices for lower-triangular matrix\n",
      "Connectivity computation...\n",
      "   Processing epoch 1 / 1 ...\n"
     ]
    },
    {
     "name": "stderr",
     "output_type": "stream",
     "text": [
      "/Users/jakubblaha/Documents/thesis/thesis-python/main.py:121: RuntimeWarning: There were no Annotations stored in <EpochsArray | 1 events (all good), 7 – 14.992 s (baseline off), ~127 kB, data loaded,\n",
      " '1': 1>, so metadata was not modified.\n",
      "  \n"
     ]
    },
    {
     "name": "stdout",
     "output_type": "stream",
     "text": [
      "[Connectivity computation done]\n",
      "[ 4  8 10 13 30 45]\n",
      "(6,)\n",
      "[ 4  8 10 13 30 45]\n",
      "(6,)\n",
      "only using indices for lower-triangular matrix\n",
      "Connectivity computation...\n",
      "   Processing epoch 1 / 1 ...\n"
     ]
    },
    {
     "name": "stderr",
     "output_type": "stream",
     "text": [
      "/Users/jakubblaha/Documents/thesis/thesis-python/main.py:121: RuntimeWarning: There were no Annotations stored in <EpochsArray | 1 events (all good), 7 – 14.992 s (baseline off), ~127 kB, data loaded,\n",
      " '1': 1>, so metadata was not modified.\n",
      "  \n"
     ]
    },
    {
     "name": "stdout",
     "output_type": "stream",
     "text": [
      "[Connectivity computation done]\n",
      "[ 4  8 10 13 30 45]\n",
      "(6,)\n",
      "[ 4  8 10 13 30 45]\n",
      "(6,)\n",
      "only using indices for lower-triangular matrix\n",
      "Connectivity computation...\n",
      "   Processing epoch 1 / 1 ...\n"
     ]
    },
    {
     "name": "stderr",
     "output_type": "stream",
     "text": [
      "/Users/jakubblaha/Documents/thesis/thesis-python/main.py:121: RuntimeWarning: There were no Annotations stored in <EpochsArray | 1 events (all good), 7 – 14.992 s (baseline off), ~127 kB, data loaded,\n",
      " '1': 1>, so metadata was not modified.\n",
      "  \n"
     ]
    },
    {
     "name": "stdout",
     "output_type": "stream",
     "text": [
      "[Connectivity computation done]\n",
      "[ 4  8 10 13 30 45]\n",
      "(6,)\n",
      "[ 4  8 10 13 30 45]\n",
      "(6,)\n",
      "only using indices for lower-triangular matrix\n",
      "Connectivity computation...\n",
      "   Processing epoch 1 / 1 ...\n"
     ]
    },
    {
     "name": "stderr",
     "output_type": "stream",
     "text": [
      "/Users/jakubblaha/Documents/thesis/thesis-python/main.py:121: RuntimeWarning: There were no Annotations stored in <EpochsArray | 1 events (all good), 7 – 14.992 s (baseline off), ~127 kB, data loaded,\n",
      " '1': 1>, so metadata was not modified.\n",
      "  \n"
     ]
    },
    {
     "name": "stdout",
     "output_type": "stream",
     "text": [
      "[Connectivity computation done]\n",
      "[ 4  8 10 13 30 45]\n",
      "(6,)\n",
      "[ 4  8 10 13 30 45]\n",
      "(6,)\n",
      "only using indices for lower-triangular matrix\n",
      "Connectivity computation...\n",
      "   Processing epoch 1 / 1 ...\n",
      "[Connectivity computation done]\n"
     ]
    },
    {
     "name": "stderr",
     "output_type": "stream",
     "text": [
      "/Users/jakubblaha/Documents/thesis/thesis-python/main.py:121: RuntimeWarning: There were no Annotations stored in <EpochsArray | 1 events (all good), 7 – 14.992 s (baseline off), ~127 kB, data loaded,\n",
      " '1': 1>, so metadata was not modified.\n",
      "  \n"
     ]
    },
    {
     "name": "stdout",
     "output_type": "stream",
     "text": [
      "[ 4  8 10 13 30 45]\n",
      "(6,)\n",
      "[ 4  8 10 13 30 45]\n",
      "(6,)\n",
      "only using indices for lower-triangular matrix\n",
      "Connectivity computation...\n",
      "   Processing epoch 1 / 1 ...\n"
     ]
    },
    {
     "name": "stderr",
     "output_type": "stream",
     "text": [
      "/Users/jakubblaha/Documents/thesis/thesis-python/main.py:121: RuntimeWarning: There were no Annotations stored in <EpochsArray | 1 events (all good), 7 – 14.992 s (baseline off), ~127 kB, data loaded,\n",
      " '1': 1>, so metadata was not modified.\n",
      "  \n"
     ]
    },
    {
     "name": "stdout",
     "output_type": "stream",
     "text": [
      "[Connectivity computation done]\n",
      "[ 4  8 10 13 30 45]\n",
      "(6,)\n",
      "[ 4  8 10 13 30 45]\n",
      "(6,)\n",
      "only using indices for lower-triangular matrix\n",
      "Connectivity computation...\n",
      "   Processing epoch 1 / 1 ...\n"
     ]
    },
    {
     "name": "stderr",
     "output_type": "stream",
     "text": [
      "/Users/jakubblaha/Documents/thesis/thesis-python/main.py:121: RuntimeWarning: There were no Annotations stored in <EpochsArray | 1 events (all good), 7 – 14.992 s (baseline off), ~127 kB, data loaded,\n",
      " '1': 1>, so metadata was not modified.\n",
      "  \n"
     ]
    },
    {
     "name": "stdout",
     "output_type": "stream",
     "text": [
      "[Connectivity computation done]\n",
      "[ 4  8 10 13 30 45]\n",
      "(6,)\n",
      "[ 4  8 10 13 30 45]\n",
      "(6,)\n",
      "only using indices for lower-triangular matrix\n",
      "Connectivity computation...\n",
      "   Processing epoch 1 / 1 ...\n"
     ]
    },
    {
     "name": "stderr",
     "output_type": "stream",
     "text": [
      "/Users/jakubblaha/Documents/thesis/thesis-python/main.py:121: RuntimeWarning: There were no Annotations stored in <EpochsArray | 1 events (all good), 7 – 14.992 s (baseline off), ~127 kB, data loaded,\n",
      " '1': 1>, so metadata was not modified.\n",
      "  \n"
     ]
    },
    {
     "name": "stdout",
     "output_type": "stream",
     "text": [
      "[Connectivity computation done]\n",
      "[ 4  8 10 13 30 45]\n",
      "(6,)\n",
      "[ 4  8 10 13 30 45]\n",
      "(6,)\n",
      "only using indices for lower-triangular matrix\n",
      "Connectivity computation...\n",
      "   Processing epoch 1 / 1 ...\n"
     ]
    },
    {
     "name": "stderr",
     "output_type": "stream",
     "text": [
      "/Users/jakubblaha/Documents/thesis/thesis-python/main.py:121: RuntimeWarning: There were no Annotations stored in <EpochsArray | 1 events (all good), 7 – 14.992 s (baseline off), ~127 kB, data loaded,\n",
      " '1': 1>, so metadata was not modified.\n",
      "  \n"
     ]
    },
    {
     "name": "stdout",
     "output_type": "stream",
     "text": [
      "[Connectivity computation done]\n",
      "[ 4  8 10 13 30 45]\n",
      "(6,)\n",
      "[ 4  8 10 13 30 45]\n",
      "(6,)\n",
      "only using indices for lower-triangular matrix\n",
      "Connectivity computation...\n",
      "   Processing epoch 1 / 1 ...\n"
     ]
    },
    {
     "name": "stderr",
     "output_type": "stream",
     "text": [
      "/Users/jakubblaha/Documents/thesis/thesis-python/main.py:121: RuntimeWarning: There were no Annotations stored in <EpochsArray | 1 events (all good), 7 – 14.992 s (baseline off), ~127 kB, data loaded,\n",
      " '1': 1>, so metadata was not modified.\n",
      "  \n"
     ]
    },
    {
     "name": "stdout",
     "output_type": "stream",
     "text": [
      "[Connectivity computation done]\n",
      "[ 4  8 10 13 30 45]\n",
      "(6,)\n",
      "[ 4  8 10 13 30 45]\n",
      "(6,)\n",
      "only using indices for lower-triangular matrix\n",
      "Connectivity computation...\n",
      "   Processing epoch 1 / 1 ...\n"
     ]
    },
    {
     "name": "stderr",
     "output_type": "stream",
     "text": [
      "/Users/jakubblaha/Documents/thesis/thesis-python/main.py:121: RuntimeWarning: There were no Annotations stored in <EpochsArray | 1 events (all good), 7 – 14.992 s (baseline off), ~127 kB, data loaded,\n",
      " '1': 1>, so metadata was not modified.\n",
      "  \n"
     ]
    },
    {
     "name": "stdout",
     "output_type": "stream",
     "text": [
      "[Connectivity computation done]\n",
      "[ 4  8 10 13 30 45]\n",
      "(6,)\n",
      "[ 4  8 10 13 30 45]\n",
      "(6,)\n",
      "only using indices for lower-triangular matrix\n",
      "Connectivity computation...\n",
      "   Processing epoch 1 / 1 ...\n"
     ]
    },
    {
     "name": "stderr",
     "output_type": "stream",
     "text": [
      "/Users/jakubblaha/Documents/thesis/thesis-python/main.py:121: RuntimeWarning: There were no Annotations stored in <EpochsArray | 1 events (all good), 7 – 14.992 s (baseline off), ~127 kB, data loaded,\n",
      " '1': 1>, so metadata was not modified.\n",
      "  \n"
     ]
    },
    {
     "name": "stdout",
     "output_type": "stream",
     "text": [
      "[Connectivity computation done]\n",
      "[ 4  8 10 13 30 45]\n",
      "(6,)\n",
      "[ 4  8 10 13 30 45]\n",
      "(6,)\n",
      "only using indices for lower-triangular matrix\n",
      "Connectivity computation...\n",
      "   Processing epoch 1 / 1 ...\n"
     ]
    },
    {
     "name": "stderr",
     "output_type": "stream",
     "text": [
      "/Users/jakubblaha/Documents/thesis/thesis-python/main.py:121: RuntimeWarning: There were no Annotations stored in <EpochsArray | 1 events (all good), 7 – 14.992 s (baseline off), ~127 kB, data loaded,\n",
      " '1': 1>, so metadata was not modified.\n",
      "  \n"
     ]
    },
    {
     "name": "stdout",
     "output_type": "stream",
     "text": [
      "[Connectivity computation done]\n",
      "[ 4  8 10 13 30 45]\n",
      "(6,)\n",
      "[ 4  8 10 13 30 45]\n",
      "(6,)\n",
      "only using indices for lower-triangular matrix\n",
      "Connectivity computation...\n",
      "   Processing epoch 1 / 1 ...\n"
     ]
    },
    {
     "name": "stderr",
     "output_type": "stream",
     "text": [
      "/Users/jakubblaha/Documents/thesis/thesis-python/main.py:121: RuntimeWarning: There were no Annotations stored in <EpochsArray | 1 events (all good), 7 – 14.992 s (baseline off), ~127 kB, data loaded,\n",
      " '1': 1>, so metadata was not modified.\n",
      "  \n"
     ]
    },
    {
     "name": "stdout",
     "output_type": "stream",
     "text": [
      "[Connectivity computation done]\n",
      "[ 4  8 10 13 30 45]\n",
      "(6,)\n",
      "[ 4  8 10 13 30 45]\n",
      "(6,)\n",
      "only using indices for lower-triangular matrix\n",
      "Connectivity computation...\n",
      "   Processing epoch 1 / 1 ...\n"
     ]
    },
    {
     "name": "stderr",
     "output_type": "stream",
     "text": [
      "/Users/jakubblaha/Documents/thesis/thesis-python/main.py:121: RuntimeWarning: There were no Annotations stored in <EpochsArray | 1 events (all good), 7 – 14.992 s (baseline off), ~127 kB, data loaded,\n",
      " '1': 1>, so metadata was not modified.\n",
      "  \n"
     ]
    },
    {
     "name": "stdout",
     "output_type": "stream",
     "text": [
      "[Connectivity computation done]\n",
      "[ 4  8 10 13 30 45]\n",
      "(6,)\n",
      "[ 4  8 10 13 30 45]\n",
      "(6,)\n",
      "only using indices for lower-triangular matrix\n",
      "Connectivity computation...\n",
      "   Processing epoch 1 / 1 ...\n"
     ]
    },
    {
     "name": "stderr",
     "output_type": "stream",
     "text": [
      "/Users/jakubblaha/Documents/thesis/thesis-python/main.py:121: RuntimeWarning: There were no Annotations stored in <EpochsArray | 1 events (all good), 7 – 14.992 s (baseline off), ~127 kB, data loaded,\n",
      " '1': 1>, so metadata was not modified.\n",
      "  \n"
     ]
    },
    {
     "name": "stdout",
     "output_type": "stream",
     "text": [
      "[Connectivity computation done]\n",
      "[ 4  8 10 13 30 45]\n",
      "(6,)\n",
      "[ 4  8 10 13 30 45]\n",
      "(6,)\n",
      "only using indices for lower-triangular matrix\n",
      "Connectivity computation...\n",
      "   Processing epoch 1 / 1 ...\n"
     ]
    },
    {
     "name": "stderr",
     "output_type": "stream",
     "text": [
      "/Users/jakubblaha/Documents/thesis/thesis-python/main.py:121: RuntimeWarning: There were no Annotations stored in <EpochsArray | 1 events (all good), 7 – 14.992 s (baseline off), ~127 kB, data loaded,\n",
      " '1': 1>, so metadata was not modified.\n",
      "  \n"
     ]
    },
    {
     "name": "stdout",
     "output_type": "stream",
     "text": [
      "[Connectivity computation done]\n",
      "[ 4  8 10 13 30 45]\n",
      "(6,)\n",
      "[ 4  8 10 13 30 45]\n",
      "(6,)\n",
      "only using indices for lower-triangular matrix\n",
      "Connectivity computation...\n",
      "   Processing epoch 1 / 1 ...\n"
     ]
    },
    {
     "name": "stderr",
     "output_type": "stream",
     "text": [
      "/Users/jakubblaha/Documents/thesis/thesis-python/main.py:121: RuntimeWarning: There were no Annotations stored in <EpochsArray | 1 events (all good), 7 – 14.992 s (baseline off), ~127 kB, data loaded,\n",
      " '1': 1>, so metadata was not modified.\n",
      "  \n"
     ]
    },
    {
     "name": "stdout",
     "output_type": "stream",
     "text": [
      "[Connectivity computation done]\n",
      "[ 4  8 10 13 30 45]\n",
      "(6,)\n",
      "[ 4  8 10 13 30 45]\n",
      "(6,)\n",
      "only using indices for lower-triangular matrix\n",
      "Connectivity computation...\n",
      "   Processing epoch 1 / 1 ...\n"
     ]
    },
    {
     "name": "stderr",
     "output_type": "stream",
     "text": [
      "/Users/jakubblaha/Documents/thesis/thesis-python/main.py:121: RuntimeWarning: There were no Annotations stored in <EpochsArray | 1 events (all good), 7 – 14.992 s (baseline off), ~127 kB, data loaded,\n",
      " '1': 1>, so metadata was not modified.\n",
      "  \n"
     ]
    },
    {
     "name": "stdout",
     "output_type": "stream",
     "text": [
      "[Connectivity computation done]\n",
      "[ 4  8 10 13 30 45]\n",
      "(6,)\n",
      "[ 4  8 10 13 30 45]\n",
      "(6,)\n",
      "only using indices for lower-triangular matrix\n",
      "Connectivity computation...\n",
      "   Processing epoch 1 / 1 ...\n"
     ]
    },
    {
     "name": "stderr",
     "output_type": "stream",
     "text": [
      "/Users/jakubblaha/Documents/thesis/thesis-python/main.py:121: RuntimeWarning: There were no Annotations stored in <EpochsArray | 1 events (all good), 7 – 14.992 s (baseline off), ~127 kB, data loaded,\n",
      " '1': 1>, so metadata was not modified.\n",
      "  \n"
     ]
    },
    {
     "name": "stdout",
     "output_type": "stream",
     "text": [
      "[Connectivity computation done]\n",
      "[ 4  8 10 13 30 45]\n",
      "(6,)\n",
      "[ 4  8 10 13 30 45]\n",
      "(6,)\n",
      "only using indices for lower-triangular matrix\n",
      "Connectivity computation...\n",
      "   Processing epoch 1 / 1 ...\n"
     ]
    },
    {
     "name": "stderr",
     "output_type": "stream",
     "text": [
      "/Users/jakubblaha/Documents/thesis/thesis-python/main.py:121: RuntimeWarning: There were no Annotations stored in <EpochsArray | 1 events (all good), 7 – 14.992 s (baseline off), ~127 kB, data loaded,\n",
      " '1': 1>, so metadata was not modified.\n",
      "  \n"
     ]
    },
    {
     "name": "stdout",
     "output_type": "stream",
     "text": [
      "[Connectivity computation done]\n",
      "[ 4  8 10 13 30 45]\n",
      "(6,)\n",
      "[ 4  8 10 13 30 45]\n",
      "(6,)\n",
      "only using indices for lower-triangular matrix\n",
      "Connectivity computation...\n",
      "   Processing epoch 1 / 1 ...\n"
     ]
    },
    {
     "name": "stderr",
     "output_type": "stream",
     "text": [
      "/Users/jakubblaha/Documents/thesis/thesis-python/main.py:121: RuntimeWarning: There were no Annotations stored in <EpochsArray | 1 events (all good), 7 – 14.992 s (baseline off), ~127 kB, data loaded,\n",
      " '1': 1>, so metadata was not modified.\n",
      "  \n"
     ]
    },
    {
     "name": "stdout",
     "output_type": "stream",
     "text": [
      "[Connectivity computation done]\n",
      "[ 4  8 10 13 30 45]\n",
      "(6,)\n",
      "[ 4  8 10 13 30 45]\n",
      "(6,)\n",
      "only using indices for lower-triangular matrix\n",
      "Connectivity computation...\n",
      "   Processing epoch 1 / 1 ...\n"
     ]
    },
    {
     "name": "stderr",
     "output_type": "stream",
     "text": [
      "/Users/jakubblaha/Documents/thesis/thesis-python/main.py:121: RuntimeWarning: There were no Annotations stored in <EpochsArray | 1 events (all good), 7 – 14.992 s (baseline off), ~127 kB, data loaded,\n",
      " '1': 1>, so metadata was not modified.\n",
      "  \n"
     ]
    },
    {
     "name": "stdout",
     "output_type": "stream",
     "text": [
      "[Connectivity computation done]\n",
      "[ 4  8 10 13 30 45]\n",
      "(6,)\n",
      "[ 4  8 10 13 30 45]\n",
      "(6,)\n",
      "only using indices for lower-triangular matrix\n",
      "Connectivity computation...\n",
      "   Processing epoch 1 / 1 ...\n"
     ]
    },
    {
     "name": "stderr",
     "output_type": "stream",
     "text": [
      "/Users/jakubblaha/Documents/thesis/thesis-python/main.py:121: RuntimeWarning: There were no Annotations stored in <EpochsArray | 1 events (all good), 7 – 14.992 s (baseline off), ~127 kB, data loaded,\n",
      " '1': 1>, so metadata was not modified.\n",
      "  \n"
     ]
    },
    {
     "name": "stdout",
     "output_type": "stream",
     "text": [
      "[Connectivity computation done]\n",
      "[ 4  8 10 13 30 45]\n",
      "(6,)\n",
      "[ 4  8 10 13 30 45]\n",
      "(6,)\n",
      "only using indices for lower-triangular matrix\n",
      "Connectivity computation...\n",
      "   Processing epoch 1 / 1 ...\n"
     ]
    },
    {
     "name": "stderr",
     "output_type": "stream",
     "text": [
      "/Users/jakubblaha/Documents/thesis/thesis-python/main.py:121: RuntimeWarning: There were no Annotations stored in <EpochsArray | 1 events (all good), 7 – 14.992 s (baseline off), ~127 kB, data loaded,\n",
      " '1': 1>, so metadata was not modified.\n",
      "  \n"
     ]
    },
    {
     "name": "stdout",
     "output_type": "stream",
     "text": [
      "[Connectivity computation done]\n",
      "[ 4  8 10 13 30 45]\n",
      "(6,)\n",
      "[ 4  8 10 13 30 45]\n",
      "(6,)\n",
      "only using indices for lower-triangular matrix\n",
      "Connectivity computation...\n",
      "   Processing epoch 1 / 1 ...\n"
     ]
    },
    {
     "name": "stderr",
     "output_type": "stream",
     "text": [
      "/Users/jakubblaha/Documents/thesis/thesis-python/main.py:121: RuntimeWarning: There were no Annotations stored in <EpochsArray | 1 events (all good), 7 – 14.992 s (baseline off), ~127 kB, data loaded,\n",
      " '1': 1>, so metadata was not modified.\n",
      "  \n"
     ]
    },
    {
     "name": "stdout",
     "output_type": "stream",
     "text": [
      "[Connectivity computation done]\n",
      "[ 4  8 10 13 30 45]\n",
      "(6,)\n",
      "[ 4  8 10 13 30 45]\n",
      "(6,)\n",
      "only using indices for lower-triangular matrix\n",
      "Connectivity computation...\n",
      "   Processing epoch 1 / 1 ...\n"
     ]
    },
    {
     "name": "stderr",
     "output_type": "stream",
     "text": [
      "/Users/jakubblaha/Documents/thesis/thesis-python/main.py:121: RuntimeWarning: There were no Annotations stored in <EpochsArray | 1 events (all good), 7 – 14.992 s (baseline off), ~127 kB, data loaded,\n",
      " '1': 1>, so metadata was not modified.\n",
      "  \n"
     ]
    },
    {
     "name": "stdout",
     "output_type": "stream",
     "text": [
      "[Connectivity computation done]\n",
      "[ 4  8 10 13 30 45]\n",
      "(6,)\n",
      "[ 4  8 10 13 30 45]\n",
      "(6,)\n",
      "only using indices for lower-triangular matrix\n",
      "Connectivity computation...\n",
      "   Processing epoch 1 / 1 ...\n"
     ]
    },
    {
     "name": "stderr",
     "output_type": "stream",
     "text": [
      "/Users/jakubblaha/Documents/thesis/thesis-python/main.py:121: RuntimeWarning: There were no Annotations stored in <EpochsArray | 1 events (all good), 7 – 14.992 s (baseline off), ~127 kB, data loaded,\n",
      " '1': 1>, so metadata was not modified.\n",
      "  \n"
     ]
    },
    {
     "name": "stdout",
     "output_type": "stream",
     "text": [
      "[Connectivity computation done]\n",
      "[ 4  8 10 13 30 45]\n",
      "(6,)\n",
      "[ 4  8 10 13 30 45]\n",
      "(6,)\n",
      "only using indices for lower-triangular matrix\n",
      "Connectivity computation...\n",
      "   Processing epoch 1 / 1 ...\n"
     ]
    },
    {
     "name": "stderr",
     "output_type": "stream",
     "text": [
      "/Users/jakubblaha/Documents/thesis/thesis-python/main.py:121: RuntimeWarning: There were no Annotations stored in <EpochsArray | 1 events (all good), 7 – 14.992 s (baseline off), ~127 kB, data loaded,\n",
      " '1': 1>, so metadata was not modified.\n",
      "  \n"
     ]
    },
    {
     "name": "stdout",
     "output_type": "stream",
     "text": [
      "[Connectivity computation done]\n",
      "[ 4  8 10 13 30 45]\n",
      "(6,)\n",
      "[ 4  8 10 13 30 45]\n",
      "(6,)\n",
      "only using indices for lower-triangular matrix\n",
      "Connectivity computation...\n",
      "   Processing epoch 1 / 1 ...\n"
     ]
    },
    {
     "name": "stderr",
     "output_type": "stream",
     "text": [
      "/Users/jakubblaha/Documents/thesis/thesis-python/main.py:121: RuntimeWarning: There were no Annotations stored in <EpochsArray | 1 events (all good), 7 – 14.992 s (baseline off), ~127 kB, data loaded,\n",
      " '1': 1>, so metadata was not modified.\n",
      "  \n"
     ]
    },
    {
     "name": "stdout",
     "output_type": "stream",
     "text": [
      "[Connectivity computation done]\n",
      "[ 4  8 10 13 30 45]\n",
      "(6,)\n",
      "[ 4  8 10 13 30 45]\n",
      "(6,)\n",
      "only using indices for lower-triangular matrix\n",
      "Connectivity computation...\n",
      "   Processing epoch 1 / 1 ...\n"
     ]
    },
    {
     "name": "stderr",
     "output_type": "stream",
     "text": [
      "/Users/jakubblaha/Documents/thesis/thesis-python/main.py:121: RuntimeWarning: There were no Annotations stored in <EpochsArray | 1 events (all good), 7 – 14.992 s (baseline off), ~127 kB, data loaded,\n",
      " '1': 1>, so metadata was not modified.\n",
      "  \n"
     ]
    },
    {
     "name": "stdout",
     "output_type": "stream",
     "text": [
      "[Connectivity computation done]\n",
      "[ 4  8 10 13 30 45]\n",
      "(6,)\n",
      "[ 4  8 10 13 30 45]\n",
      "(6,)\n",
      "only using indices for lower-triangular matrix\n",
      "Connectivity computation...\n",
      "   Processing epoch 1 / 1 ...\n"
     ]
    },
    {
     "name": "stderr",
     "output_type": "stream",
     "text": [
      "/Users/jakubblaha/Documents/thesis/thesis-python/main.py:121: RuntimeWarning: There were no Annotations stored in <EpochsArray | 1 events (all good), 7 – 14.992 s (baseline off), ~127 kB, data loaded,\n",
      " '1': 1>, so metadata was not modified.\n",
      "  \n"
     ]
    },
    {
     "name": "stdout",
     "output_type": "stream",
     "text": [
      "[Connectivity computation done]\n",
      "[ 4  8 10 13 30 45]\n",
      "(6,)\n",
      "[ 4  8 10 13 30 45]\n",
      "(6,)\n",
      "only using indices for lower-triangular matrix\n",
      "Connectivity computation...\n",
      "   Processing epoch 1 / 1 ...\n"
     ]
    },
    {
     "name": "stderr",
     "output_type": "stream",
     "text": [
      "/Users/jakubblaha/Documents/thesis/thesis-python/main.py:121: RuntimeWarning: There were no Annotations stored in <EpochsArray | 1 events (all good), 7 – 14.992 s (baseline off), ~127 kB, data loaded,\n",
      " '1': 1>, so metadata was not modified.\n",
      "  \n"
     ]
    },
    {
     "name": "stdout",
     "output_type": "stream",
     "text": [
      "[Connectivity computation done]\n",
      "[ 4  8 10 13 30 45]\n",
      "(6,)\n",
      "[ 4  8 10 13 30 45]\n",
      "(6,)\n",
      "only using indices for lower-triangular matrix\n",
      "Connectivity computation...\n",
      "   Processing epoch 1 / 1 ...\n"
     ]
    },
    {
     "name": "stderr",
     "output_type": "stream",
     "text": [
      "/Users/jakubblaha/Documents/thesis/thesis-python/main.py:121: RuntimeWarning: There were no Annotations stored in <EpochsArray | 1 events (all good), 7 – 14.992 s (baseline off), ~127 kB, data loaded,\n",
      " '1': 1>, so metadata was not modified.\n",
      "  \n"
     ]
    },
    {
     "name": "stdout",
     "output_type": "stream",
     "text": [
      "[Connectivity computation done]\n",
      "[ 4  8 10 13 30 45]\n",
      "(6,)\n",
      "[ 4  8 10 13 30 45]\n",
      "(6,)\n",
      "only using indices for lower-triangular matrix\n",
      "Connectivity computation...\n",
      "   Processing epoch 1 / 1 ...\n"
     ]
    },
    {
     "name": "stderr",
     "output_type": "stream",
     "text": [
      "/Users/jakubblaha/Documents/thesis/thesis-python/main.py:121: RuntimeWarning: There were no Annotations stored in <EpochsArray | 1 events (all good), 7 – 14.992 s (baseline off), ~127 kB, data loaded,\n",
      " '1': 1>, so metadata was not modified.\n",
      "  \n"
     ]
    },
    {
     "name": "stdout",
     "output_type": "stream",
     "text": [
      "[Connectivity computation done]\n",
      "[ 4  8 10 13 30 45]\n",
      "(6,)\n",
      "[ 4  8 10 13 30 45]\n",
      "(6,)\n",
      "only using indices for lower-triangular matrix\n",
      "Connectivity computation...\n",
      "   Processing epoch 1 / 1 ...\n"
     ]
    },
    {
     "name": "stderr",
     "output_type": "stream",
     "text": [
      "/Users/jakubblaha/Documents/thesis/thesis-python/main.py:121: RuntimeWarning: There were no Annotations stored in <EpochsArray | 1 events (all good), 7 – 14.992 s (baseline off), ~127 kB, data loaded,\n",
      " '1': 1>, so metadata was not modified.\n",
      "  \n"
     ]
    },
    {
     "name": "stdout",
     "output_type": "stream",
     "text": [
      "[Connectivity computation done]\n",
      "[ 4  8 10 13 30 45]\n",
      "(6,)\n",
      "[ 4  8 10 13 30 45]\n",
      "(6,)\n",
      "only using indices for lower-triangular matrix\n",
      "Connectivity computation...\n",
      "   Processing epoch 1 / 1 ...\n"
     ]
    },
    {
     "name": "stderr",
     "output_type": "stream",
     "text": [
      "/Users/jakubblaha/Documents/thesis/thesis-python/main.py:121: RuntimeWarning: There were no Annotations stored in <EpochsArray | 1 events (all good), 7 – 14.992 s (baseline off), ~127 kB, data loaded,\n",
      " '1': 1>, so metadata was not modified.\n",
      "  \n"
     ]
    },
    {
     "name": "stdout",
     "output_type": "stream",
     "text": [
      "[Connectivity computation done]\n",
      "[ 4  8 10 13 30 45]\n",
      "(6,)\n",
      "[ 4  8 10 13 30 45]\n",
      "(6,)\n",
      "only using indices for lower-triangular matrix\n",
      "Connectivity computation...\n",
      "   Processing epoch 1 / 1 ...\n"
     ]
    },
    {
     "name": "stderr",
     "output_type": "stream",
     "text": [
      "/Users/jakubblaha/Documents/thesis/thesis-python/main.py:121: RuntimeWarning: There were no Annotations stored in <EpochsArray | 1 events (all good), 7 – 14.992 s (baseline off), ~127 kB, data loaded,\n",
      " '1': 1>, so metadata was not modified.\n",
      "  \n"
     ]
    },
    {
     "name": "stdout",
     "output_type": "stream",
     "text": [
      "[Connectivity computation done]\n",
      "[ 4  8 10 13 30 45]\n",
      "(6,)\n",
      "[ 4  8 10 13 30 45]\n",
      "(6,)\n",
      "only using indices for lower-triangular matrix\n",
      "Connectivity computation...\n",
      "   Processing epoch 1 / 1 ...\n"
     ]
    },
    {
     "name": "stderr",
     "output_type": "stream",
     "text": [
      "/Users/jakubblaha/Documents/thesis/thesis-python/main.py:121: RuntimeWarning: There were no Annotations stored in <EpochsArray | 1 events (all good), 7 – 14.992 s (baseline off), ~127 kB, data loaded,\n",
      " '1': 1>, so metadata was not modified.\n",
      "  \n"
     ]
    },
    {
     "name": "stdout",
     "output_type": "stream",
     "text": [
      "[Connectivity computation done]\n",
      "[ 4  8 10 13 30 45]\n",
      "(6,)\n",
      "[ 4  8 10 13 30 45]\n",
      "(6,)\n",
      "only using indices for lower-triangular matrix\n",
      "Connectivity computation...\n",
      "   Processing epoch 1 / 1 ...\n",
      "[Connectivity computation done]\n"
     ]
    },
    {
     "name": "stderr",
     "output_type": "stream",
     "text": [
      "/Users/jakubblaha/Documents/thesis/thesis-python/main.py:121: RuntimeWarning: There were no Annotations stored in <EpochsArray | 1 events (all good), 7 – 14.992 s (baseline off), ~127 kB, data loaded,\n",
      " '1': 1>, so metadata was not modified.\n",
      "  \n"
     ]
    },
    {
     "name": "stdout",
     "output_type": "stream",
     "text": [
      "[ 4  8 10 13 30 45]\n",
      "(6,)\n",
      "[ 4  8 10 13 30 45]\n",
      "(6,)\n",
      "only using indices for lower-triangular matrix\n",
      "Connectivity computation...\n",
      "   Processing epoch 1 / 1 ...\n"
     ]
    },
    {
     "name": "stderr",
     "output_type": "stream",
     "text": [
      "/Users/jakubblaha/Documents/thesis/thesis-python/main.py:121: RuntimeWarning: There were no Annotations stored in <EpochsArray | 1 events (all good), 7 – 14.992 s (baseline off), ~127 kB, data loaded,\n",
      " '1': 1>, so metadata was not modified.\n",
      "  \n"
     ]
    },
    {
     "name": "stdout",
     "output_type": "stream",
     "text": [
      "[Connectivity computation done]\n",
      "[ 4  8 10 13 30 45]\n",
      "(6,)\n",
      "[ 4  8 10 13 30 45]\n",
      "(6,)\n",
      "only using indices for lower-triangular matrix\n",
      "Connectivity computation...\n",
      "   Processing epoch 1 / 1 ...\n"
     ]
    },
    {
     "name": "stderr",
     "output_type": "stream",
     "text": [
      "/Users/jakubblaha/Documents/thesis/thesis-python/main.py:121: RuntimeWarning: There were no Annotations stored in <EpochsArray | 1 events (all good), 7 – 14.992 s (baseline off), ~127 kB, data loaded,\n",
      " '1': 1>, so metadata was not modified.\n",
      "  \n"
     ]
    },
    {
     "name": "stdout",
     "output_type": "stream",
     "text": [
      "[Connectivity computation done]\n",
      "[ 4  8 10 13 30 45]\n",
      "(6,)\n",
      "[ 4  8 10 13 30 45]\n",
      "(6,)\n",
      "only using indices for lower-triangular matrix\n",
      "Connectivity computation...\n",
      "   Processing epoch 1 / 1 ...\n"
     ]
    },
    {
     "name": "stderr",
     "output_type": "stream",
     "text": [
      "/Users/jakubblaha/Documents/thesis/thesis-python/main.py:121: RuntimeWarning: There were no Annotations stored in <EpochsArray | 1 events (all good), 7 – 14.992 s (baseline off), ~127 kB, data loaded,\n",
      " '1': 1>, so metadata was not modified.\n",
      "  \n"
     ]
    },
    {
     "name": "stdout",
     "output_type": "stream",
     "text": [
      "[Connectivity computation done]\n",
      "[ 4  8 10 13 30 45]\n",
      "(6,)\n",
      "[ 4  8 10 13 30 45]\n",
      "(6,)\n",
      "only using indices for lower-triangular matrix\n",
      "Connectivity computation...\n",
      "   Processing epoch 1 / 1 ...\n"
     ]
    },
    {
     "name": "stderr",
     "output_type": "stream",
     "text": [
      "/Users/jakubblaha/Documents/thesis/thesis-python/main.py:121: RuntimeWarning: There were no Annotations stored in <EpochsArray | 1 events (all good), 7 – 14.992 s (baseline off), ~127 kB, data loaded,\n",
      " '1': 1>, so metadata was not modified.\n",
      "  \n"
     ]
    },
    {
     "name": "stdout",
     "output_type": "stream",
     "text": [
      "[Connectivity computation done]\n",
      "[ 4  8 10 13 30 45]\n",
      "(6,)\n",
      "[ 4  8 10 13 30 45]\n",
      "(6,)\n",
      "only using indices for lower-triangular matrix\n",
      "Connectivity computation...\n",
      "   Processing epoch 1 / 1 ...\n"
     ]
    },
    {
     "name": "stderr",
     "output_type": "stream",
     "text": [
      "/Users/jakubblaha/Documents/thesis/thesis-python/main.py:121: RuntimeWarning: There were no Annotations stored in <EpochsArray | 1 events (all good), 7 – 14.992 s (baseline off), ~127 kB, data loaded,\n",
      " '1': 1>, so metadata was not modified.\n",
      "  \n"
     ]
    },
    {
     "name": "stdout",
     "output_type": "stream",
     "text": [
      "[Connectivity computation done]\n",
      "[ 4  8 10 13 30 45]\n",
      "(6,)\n",
      "[ 4  8 10 13 30 45]\n",
      "(6,)\n",
      "only using indices for lower-triangular matrix\n",
      "Connectivity computation...\n",
      "   Processing epoch 1 / 1 ...\n"
     ]
    },
    {
     "name": "stderr",
     "output_type": "stream",
     "text": [
      "/Users/jakubblaha/Documents/thesis/thesis-python/main.py:121: RuntimeWarning: There were no Annotations stored in <EpochsArray | 1 events (all good), 7 – 14.992 s (baseline off), ~127 kB, data loaded,\n",
      " '1': 1>, so metadata was not modified.\n",
      "  \n"
     ]
    },
    {
     "name": "stdout",
     "output_type": "stream",
     "text": [
      "[Connectivity computation done]\n",
      "Number of features: 812\n",
      "Classifier: RF\n",
      "RF, 0.783\n",
      "Total mean: 0.783\n"
     ]
    }
   ],
   "source": [
    "duration_accs = []\n",
    "\n",
    "for trial_time_span_name, trial_time_span in trial_time_spans.items():\n",
    "    print(f\"Trial time span: {trial_time_span_name}\")\n",
    "\n",
    "    x, y = get_data(trial_time_span)\n",
    "    accuracies = get_accuracies()\n",
    "\n",
    "    duration_accs.append([np.mean(v) for v in accuracies.values()])\n",
    "\n",
    "dur_acc_df = pd.DataFrame(duration_accs, columns=classifiers.keys(), index=trial_time_spans.keys())"
   ]
  },
  {
   "cell_type": "code",
   "execution_count": 30,
   "metadata": {},
   "outputs": [
    {
     "name": "stdout",
     "output_type": "stream",
     "text": [
      "    8 seconds\n",
      "RF   0.783328\n"
     ]
    }
   ],
   "source": [
    "with pd.option_context('display.max_rows', None, 'display.max_columns', 10, 'display.width', 1000):\n",
    "    print(dur_acc_df.T)"
   ]
  },
  {
   "cell_type": "code",
   "execution_count": null,
   "metadata": {},
   "outputs": [],
   "source": []
  },
  {
   "cell_type": "code",
   "execution_count": 31,
   "metadata": {},
   "outputs": [
    {
     "name": "stdout",
     "output_type": "stream",
     "text": [
      "RF    0.783328\n",
      "dtype: float64\n"
     ]
    }
   ],
   "source": [
    "# Mean accuracy for each classifier\n",
    "print(dur_acc_df.mean(axis=0).sort_values(ascending=False))"
   ]
  },
  {
   "cell_type": "code",
   "execution_count": 32,
   "metadata": {},
   "outputs": [
    {
     "ename": "KeyError",
     "evalue": "'10 seconds'",
     "output_type": "error",
     "traceback": [
      "\u001b[0;31m---------------------------------------------------------------------------\u001b[0m",
      "\u001b[0;31mKeyError\u001b[0m                                  Traceback (most recent call last)",
      "File \u001b[0;32m~/.local/share/virtualenvs/thesis-python-yCK4mToH/lib/python3.12/site-packages/pandas/core/indexes/base.py:3805\u001b[0m, in \u001b[0;36mIndex.get_loc\u001b[0;34m(self, key)\u001b[0m\n\u001b[1;32m   3804\u001b[0m \u001b[38;5;28;01mtry\u001b[39;00m:\n\u001b[0;32m-> 3805\u001b[0m     \u001b[38;5;28;01mreturn\u001b[39;00m \u001b[38;5;28;43mself\u001b[39;49m\u001b[38;5;241;43m.\u001b[39;49m\u001b[43m_engine\u001b[49m\u001b[38;5;241;43m.\u001b[39;49m\u001b[43mget_loc\u001b[49m\u001b[43m(\u001b[49m\u001b[43mcasted_key\u001b[49m\u001b[43m)\u001b[49m\n\u001b[1;32m   3806\u001b[0m \u001b[38;5;28;01mexcept\u001b[39;00m \u001b[38;5;167;01mKeyError\u001b[39;00m \u001b[38;5;28;01mas\u001b[39;00m err:\n",
      "File \u001b[0;32mindex.pyx:167\u001b[0m, in \u001b[0;36mpandas._libs.index.IndexEngine.get_loc\u001b[0;34m()\u001b[0m\n",
      "File \u001b[0;32mindex.pyx:196\u001b[0m, in \u001b[0;36mpandas._libs.index.IndexEngine.get_loc\u001b[0;34m()\u001b[0m\n",
      "File \u001b[0;32mpandas/_libs/hashtable_class_helper.pxi:7081\u001b[0m, in \u001b[0;36mpandas._libs.hashtable.PyObjectHashTable.get_item\u001b[0;34m()\u001b[0m\n",
      "File \u001b[0;32mpandas/_libs/hashtable_class_helper.pxi:7089\u001b[0m, in \u001b[0;36mpandas._libs.hashtable.PyObjectHashTable.get_item\u001b[0;34m()\u001b[0m\n",
      "\u001b[0;31mKeyError\u001b[0m: '10 seconds'",
      "\nThe above exception was the direct cause of the following exception:\n",
      "\u001b[0;31mKeyError\u001b[0m                                  Traceback (most recent call last)",
      "Cell \u001b[0;32mIn[32], line 2\u001b[0m\n\u001b[1;32m      1\u001b[0m \u001b[38;5;66;03m# Print 12 seconds time span accuracies\u001b[39;00m\n\u001b[0;32m----> 2\u001b[0m \u001b[38;5;28mprint\u001b[39m(\u001b[43mdur_acc_df\u001b[49m\u001b[38;5;241;43m.\u001b[39;49m\u001b[43mloc\u001b[49m\u001b[43m[\u001b[49m\u001b[38;5;124;43m\"\u001b[39;49m\u001b[38;5;124;43m10 seconds\u001b[39;49m\u001b[38;5;124;43m\"\u001b[39;49m\u001b[43m]\u001b[49m\u001b[38;5;241m.\u001b[39msort_values(ascending\u001b[38;5;241m=\u001b[39m\u001b[38;5;28;01mFalse\u001b[39;00m))\n",
      "File \u001b[0;32m~/.local/share/virtualenvs/thesis-python-yCK4mToH/lib/python3.12/site-packages/pandas/core/indexing.py:1191\u001b[0m, in \u001b[0;36m_LocationIndexer.__getitem__\u001b[0;34m(self, key)\u001b[0m\n\u001b[1;32m   1189\u001b[0m maybe_callable \u001b[38;5;241m=\u001b[39m com\u001b[38;5;241m.\u001b[39mapply_if_callable(key, \u001b[38;5;28mself\u001b[39m\u001b[38;5;241m.\u001b[39mobj)\n\u001b[1;32m   1190\u001b[0m maybe_callable \u001b[38;5;241m=\u001b[39m \u001b[38;5;28mself\u001b[39m\u001b[38;5;241m.\u001b[39m_check_deprecated_callable_usage(key, maybe_callable)\n\u001b[0;32m-> 1191\u001b[0m \u001b[38;5;28;01mreturn\u001b[39;00m \u001b[38;5;28;43mself\u001b[39;49m\u001b[38;5;241;43m.\u001b[39;49m\u001b[43m_getitem_axis\u001b[49m\u001b[43m(\u001b[49m\u001b[43mmaybe_callable\u001b[49m\u001b[43m,\u001b[49m\u001b[43m \u001b[49m\u001b[43maxis\u001b[49m\u001b[38;5;241;43m=\u001b[39;49m\u001b[43maxis\u001b[49m\u001b[43m)\u001b[49m\n",
      "File \u001b[0;32m~/.local/share/virtualenvs/thesis-python-yCK4mToH/lib/python3.12/site-packages/pandas/core/indexing.py:1431\u001b[0m, in \u001b[0;36m_LocIndexer._getitem_axis\u001b[0;34m(self, key, axis)\u001b[0m\n\u001b[1;32m   1429\u001b[0m \u001b[38;5;66;03m# fall thru to straight lookup\u001b[39;00m\n\u001b[1;32m   1430\u001b[0m \u001b[38;5;28mself\u001b[39m\u001b[38;5;241m.\u001b[39m_validate_key(key, axis)\n\u001b[0;32m-> 1431\u001b[0m \u001b[38;5;28;01mreturn\u001b[39;00m \u001b[38;5;28;43mself\u001b[39;49m\u001b[38;5;241;43m.\u001b[39;49m\u001b[43m_get_label\u001b[49m\u001b[43m(\u001b[49m\u001b[43mkey\u001b[49m\u001b[43m,\u001b[49m\u001b[43m \u001b[49m\u001b[43maxis\u001b[49m\u001b[38;5;241;43m=\u001b[39;49m\u001b[43maxis\u001b[49m\u001b[43m)\u001b[49m\n",
      "File \u001b[0;32m~/.local/share/virtualenvs/thesis-python-yCK4mToH/lib/python3.12/site-packages/pandas/core/indexing.py:1381\u001b[0m, in \u001b[0;36m_LocIndexer._get_label\u001b[0;34m(self, label, axis)\u001b[0m\n\u001b[1;32m   1379\u001b[0m \u001b[38;5;28;01mdef\u001b[39;00m \u001b[38;5;21m_get_label\u001b[39m(\u001b[38;5;28mself\u001b[39m, label, axis: AxisInt):\n\u001b[1;32m   1380\u001b[0m     \u001b[38;5;66;03m# GH#5567 this will fail if the label is not present in the axis.\u001b[39;00m\n\u001b[0;32m-> 1381\u001b[0m     \u001b[38;5;28;01mreturn\u001b[39;00m \u001b[38;5;28;43mself\u001b[39;49m\u001b[38;5;241;43m.\u001b[39;49m\u001b[43mobj\u001b[49m\u001b[38;5;241;43m.\u001b[39;49m\u001b[43mxs\u001b[49m\u001b[43m(\u001b[49m\u001b[43mlabel\u001b[49m\u001b[43m,\u001b[49m\u001b[43m \u001b[49m\u001b[43maxis\u001b[49m\u001b[38;5;241;43m=\u001b[39;49m\u001b[43maxis\u001b[49m\u001b[43m)\u001b[49m\n",
      "File \u001b[0;32m~/.local/share/virtualenvs/thesis-python-yCK4mToH/lib/python3.12/site-packages/pandas/core/generic.py:4301\u001b[0m, in \u001b[0;36mNDFrame.xs\u001b[0;34m(self, key, axis, level, drop_level)\u001b[0m\n\u001b[1;32m   4299\u001b[0m             new_index \u001b[38;5;241m=\u001b[39m index[loc]\n\u001b[1;32m   4300\u001b[0m \u001b[38;5;28;01melse\u001b[39;00m:\n\u001b[0;32m-> 4301\u001b[0m     loc \u001b[38;5;241m=\u001b[39m \u001b[43mindex\u001b[49m\u001b[38;5;241;43m.\u001b[39;49m\u001b[43mget_loc\u001b[49m\u001b[43m(\u001b[49m\u001b[43mkey\u001b[49m\u001b[43m)\u001b[49m\n\u001b[1;32m   4303\u001b[0m     \u001b[38;5;28;01mif\u001b[39;00m \u001b[38;5;28misinstance\u001b[39m(loc, np\u001b[38;5;241m.\u001b[39mndarray):\n\u001b[1;32m   4304\u001b[0m         \u001b[38;5;28;01mif\u001b[39;00m loc\u001b[38;5;241m.\u001b[39mdtype \u001b[38;5;241m==\u001b[39m np\u001b[38;5;241m.\u001b[39mbool_:\n",
      "File \u001b[0;32m~/.local/share/virtualenvs/thesis-python-yCK4mToH/lib/python3.12/site-packages/pandas/core/indexes/base.py:3812\u001b[0m, in \u001b[0;36mIndex.get_loc\u001b[0;34m(self, key)\u001b[0m\n\u001b[1;32m   3807\u001b[0m     \u001b[38;5;28;01mif\u001b[39;00m \u001b[38;5;28misinstance\u001b[39m(casted_key, \u001b[38;5;28mslice\u001b[39m) \u001b[38;5;129;01mor\u001b[39;00m (\n\u001b[1;32m   3808\u001b[0m         \u001b[38;5;28misinstance\u001b[39m(casted_key, abc\u001b[38;5;241m.\u001b[39mIterable)\n\u001b[1;32m   3809\u001b[0m         \u001b[38;5;129;01mand\u001b[39;00m \u001b[38;5;28many\u001b[39m(\u001b[38;5;28misinstance\u001b[39m(x, \u001b[38;5;28mslice\u001b[39m) \u001b[38;5;28;01mfor\u001b[39;00m x \u001b[38;5;129;01min\u001b[39;00m casted_key)\n\u001b[1;32m   3810\u001b[0m     ):\n\u001b[1;32m   3811\u001b[0m         \u001b[38;5;28;01mraise\u001b[39;00m InvalidIndexError(key)\n\u001b[0;32m-> 3812\u001b[0m     \u001b[38;5;28;01mraise\u001b[39;00m \u001b[38;5;167;01mKeyError\u001b[39;00m(key) \u001b[38;5;28;01mfrom\u001b[39;00m \u001b[38;5;21;01merr\u001b[39;00m\n\u001b[1;32m   3813\u001b[0m \u001b[38;5;28;01mexcept\u001b[39;00m \u001b[38;5;167;01mTypeError\u001b[39;00m:\n\u001b[1;32m   3814\u001b[0m     \u001b[38;5;66;03m# If we have a listlike key, _check_indexing_error will raise\u001b[39;00m\n\u001b[1;32m   3815\u001b[0m     \u001b[38;5;66;03m#  InvalidIndexError. Otherwise we fall through and re-raise\u001b[39;00m\n\u001b[1;32m   3816\u001b[0m     \u001b[38;5;66;03m#  the TypeError.\u001b[39;00m\n\u001b[1;32m   3817\u001b[0m     \u001b[38;5;28mself\u001b[39m\u001b[38;5;241m.\u001b[39m_check_indexing_error(key)\n",
      "\u001b[0;31mKeyError\u001b[0m: '10 seconds'"
     ]
    }
   ],
   "source": [
    "# Print 12 seconds time span accuracies\n",
    "print(dur_acc_df.loc[\"10 seconds\"].sort_values(ascending=False))"
   ]
  },
  {
   "cell_type": "code",
   "execution_count": null,
   "metadata": {},
   "outputs": [
    {
     "name": "stdout",
     "output_type": "stream",
     "text": [
      "10 seconds    0.705105\n",
      "dtype: float64\n"
     ]
    }
   ],
   "source": [
    "print(dur_acc_df.mean(axis=1).sort_values(ascending=False))"
   ]
  },
  {
   "cell_type": "code",
   "execution_count": null,
   "metadata": {},
   "outputs": [
    {
     "data": {
      "image/png": "[encoded data removed]",
      "text/plain": [
       "<Figure size 1500x1000 with 1 Axes>"
      ]
     },
     "metadata": {},
     "output_type": "display_data"
    }
   ],
   "source": [
    "dur_acc_df.plot(kind='bar', figsize=(15, 10))\n",
    "plt.legend(loc='lower left')\n",
    "plt.show()"
   ]
  },
  {
   "cell_type": "code",
   "execution_count": null,
   "metadata": {},
   "outputs": [],
   "source": []
  },
  {
   "cell_type": "code",
   "execution_count": null,
   "metadata": {},
   "outputs": [],
   "source": []
  }
 ],
 "metadata": {
  "kernelspec": {
   "display_name": "thesis-python-yCK4mToH",
   "language": "python",
   "name": "python3"
  },
  "language_info": {
   "name": "python",
   "version": "3.12.7"
  }
 },
 "nbformat": 4,
 "nbformat_minor": 2
}
