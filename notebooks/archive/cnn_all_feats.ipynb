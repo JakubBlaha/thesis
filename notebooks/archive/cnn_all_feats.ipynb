{
 "cells": [
  {
   "cell_type": "code",
   "execution_count": 1,
   "metadata": {},
   "outputs": [],
   "source": [
    "%reload_ext autoreload\n",
    "%autoreload 2\n",
    "from tqdm.notebook import tqdm\n",
    "from src.preprocessors.dasps import DaspsPreprocessor\n",
    "from src.utils import oversample\n",
    "from src.utils import train_eval_pytorch_model\n",
    "from sklearn.model_selection import train_test_split\n",
    "from src.models.cnn import AllFeatsCNN, AllFeatsDataset"
   ]
  },
  {
   "cell_type": "code",
   "execution_count": 2,
   "metadata": {},
   "outputs": [
    {
     "name": "stdout",
     "output_type": "stream",
     "text": [
      "Getting epochs for filename data/dasps_raw_mat/S01.mat\n",
      "Not setting metadata\n",
      "2 matching events found\n",
      "No baseline correction applied\n",
      "0 projection items activated\n",
      "Creating RawArray with float64 data, n_channels=14, n_times=3840\n",
      "    Range : 0 ... 3839 =      0.000 ...    29.992 secs\n",
      "Ready.\n",
      "Not setting metadata\n",
      "6 matching events found\n",
      "No baseline correction applied\n",
      "0 projection items activated\n",
      "Getting epochs for filename data/dasps_raw_mat/S01.mat\n",
      "Not setting metadata\n",
      "2 matching events found\n",
      "No baseline correction applied\n",
      "0 projection items activated\n",
      "Creating RawArray with float64 data, n_channels=14, n_times=3840\n",
      "    Range : 0 ... 3839 =      0.000 ...    29.992 secs\n",
      "Ready.\n",
      "Not setting metadata\n",
      "6 matching events found\n",
      "No baseline correction applied\n",
      "0 projection items activated\n",
      "Getting epochs for filename data/dasps_raw_mat/S02.mat\n",
      "Not setting metadata\n",
      "2 matching events found\n",
      "No baseline correction applied\n",
      "0 projection items activated\n",
      "Creating RawArray with float64 data, n_channels=14, n_times=3840\n",
      "    Range : 0 ... 3839 =      0.000 ...    29.992 secs\n",
      "Ready.\n",
      "Not setting metadata\n",
      "6 matching events found\n",
      "No baseline correction applied\n",
      "0 projection items activated\n",
      "Getting epochs for filename data/dasps_raw_mat/S02.mat\n",
      "Not setting metadata\n",
      "2 matching events found\n",
      "No baseline correction applied\n",
      "0 projection items activated\n",
      "Creating RawArray with float64 data, n_channels=14, n_times=3840\n",
      "    Range : 0 ... 3839 =      0.000 ...    29.992 secs\n",
      "Ready.\n",
      "Not setting metadata\n",
      "6 matching events found\n",
      "No baseline correction applied\n",
      "0 projection items activated\n",
      "Getting epochs for filename data/dasps_raw_mat/S02.mat\n",
      "Not setting metadata\n",
      "2 matching events found\n",
      "No baseline correction applied\n",
      "0 projection items activated\n",
      "Creating RawArray with float64 data, n_channels=14, n_times=3840\n",
      "    Range : 0 ... 3839 =      0.000 ...    29.992 secs\n",
      "Ready.\n",
      "Not setting metadata\n",
      "6 matching events found\n",
      "No baseline correction applied\n",
      "0 projection items activated\n",
      "Getting epochs for filename data/dasps_raw_mat/S02.mat\n",
      "Not setting metadata\n",
      "2 matching events found\n",
      "No baseline correction applied\n",
      "0 projection items activated\n",
      "Creating RawArray with float64 data, n_channels=14, n_times=3840\n",
      "    Range : 0 ... 3839 =      0.000 ...    29.992 secs\n",
      "Ready.\n",
      "Not setting metadata\n",
      "6 matching events found\n",
      "No baseline correction applied\n",
      "0 projection items activated\n",
      "Getting epochs for filename data/dasps_raw_mat/S03.mat\n",
      "Not setting metadata\n",
      "2 matching events found\n",
      "No baseline correction applied\n",
      "0 projection items activated\n",
      "Creating RawArray with float64 data, n_channels=14, n_times=3840\n",
      "    Range : 0 ... 3839 =      0.000 ...    29.992 secs\n",
      "Ready.\n",
      "Not setting metadata\n",
      "6 matching events found\n",
      "No baseline correction applied\n",
      "0 projection items activated\n",
      "Getting epochs for filename data/dasps_raw_mat/S03.mat\n",
      "Not setting metadata\n",
      "2 matching events found\n",
      "No baseline correction applied\n",
      "0 projection items activated\n",
      "Creating RawArray with float64 data, n_channels=14, n_times=3840\n",
      "    Range : 0 ... 3839 =      0.000 ...    29.992 secs\n",
      "Ready.\n",
      "Not setting metadata\n",
      "6 matching events found\n",
      "No baseline correction applied\n",
      "0 projection items activated\n",
      "Getting epochs for filename data/dasps_raw_mat/S03.mat\n",
      "Not setting metadata\n",
      "2 matching events found\n",
      "No baseline correction applied\n",
      "0 projection items activated\n",
      "Creating RawArray with float64 data, n_channels=14, n_times=3840\n",
      "    Range : 0 ... 3839 =      0.000 ...    29.992 secs\n",
      "Ready.\n",
      "Not setting metadata\n",
      "6 matching events found\n",
      "No baseline correction applied\n",
      "0 projection items activated\n",
      "Getting epochs for filename data/dasps_raw_mat/S03.mat\n",
      "Not setting metadata\n",
      "2 matching events found\n",
      "No baseline correction applied\n",
      "0 projection items activated\n",
      "Creating RawArray with float64 data, n_channels=14, n_times=3840\n",
      "    Range : 0 ... 3839 =      0.000 ...    29.992 secs\n",
      "Ready.\n",
      "Not setting metadata\n",
      "6 matching events found\n",
      "No baseline correction applied\n",
      "0 projection items activated\n",
      "Getting epochs for filename data/dasps_raw_mat/S03.mat\n",
      "Not setting metadata\n",
      "2 matching events found\n",
      "No baseline correction applied\n",
      "0 projection items activated\n",
      "Creating RawArray with float64 data, n_channels=14, n_times=3840\n",
      "    Range : 0 ... 3839 =      0.000 ...    29.992 secs\n",
      "Ready.\n",
      "Not setting metadata\n",
      "6 matching events found\n",
      "No baseline correction applied\n",
      "0 projection items activated\n",
      "Getting epochs for filename data/dasps_raw_mat/S04.mat\n",
      "Not setting metadata\n",
      "2 matching events found\n",
      "No baseline correction applied\n",
      "0 projection items activated\n",
      "Creating RawArray with float64 data, n_channels=14, n_times=3840\n",
      "    Range : 0 ... 3839 =      0.000 ...    29.992 secs\n",
      "Ready.\n",
      "Not setting metadata\n",
      "6 matching events found\n",
      "No baseline correction applied\n",
      "0 projection items activated\n",
      "Getting epochs for filename data/dasps_raw_mat/S04.mat\n",
      "Not setting metadata\n",
      "2 matching events found\n",
      "No baseline correction applied\n",
      "0 projection items activated\n",
      "Creating RawArray with float64 data, n_channels=14, n_times=3840\n",
      "    Range : 0 ... 3839 =      0.000 ...    29.992 secs\n",
      "Ready.\n",
      "Not setting metadata\n",
      "6 matching events found\n",
      "No baseline correction applied\n",
      "0 projection items activated\n",
      "Getting epochs for filename data/dasps_raw_mat/S04.mat\n",
      "Not setting metadata\n",
      "2 matching events found\n",
      "No baseline correction applied\n",
      "0 projection items activated\n",
      "Creating RawArray with float64 data, n_channels=14, n_times=3840\n",
      "    Range : 0 ... 3839 =      0.000 ...    29.992 secs\n",
      "Ready.\n",
      "Not setting metadata\n",
      "6 matching events found\n",
      "No baseline correction applied\n",
      "0 projection items activated\n",
      "Getting epochs for filename data/dasps_raw_mat/S06.mat\n",
      "Not setting metadata\n",
      "2 matching events found\n",
      "No baseline correction applied\n",
      "0 projection items activated\n",
      "Creating RawArray with float64 data, n_channels=14, n_times=3840\n",
      "    Range : 0 ... 3839 =      0.000 ...    29.992 secs\n",
      "Ready.\n",
      "Not setting metadata\n",
      "6 matching events found\n",
      "No baseline correction applied\n",
      "0 projection items activated\n",
      "Getting epochs for filename data/dasps_raw_mat/S06.mat\n",
      "Not setting metadata\n",
      "2 matching events found\n",
      "No baseline correction applied\n",
      "0 projection items activated\n",
      "Creating RawArray with float64 data, n_channels=14, n_times=3840\n",
      "    Range : 0 ... 3839 =      0.000 ...    29.992 secs\n",
      "Ready.\n",
      "Not setting metadata\n",
      "6 matching events found\n",
      "No baseline correction applied\n",
      "0 projection items activated\n",
      "Getting epochs for filename data/dasps_raw_mat/S07.mat\n",
      "Not setting metadata\n",
      "2 matching events found\n",
      "No baseline correction applied\n",
      "0 projection items activated\n",
      "Creating RawArray with float64 data, n_channels=14, n_times=3840\n",
      "    Range : 0 ... 3839 =      0.000 ...    29.992 secs\n",
      "Ready.\n",
      "Not setting metadata\n",
      "6 matching events found\n",
      "No baseline correction applied\n",
      "0 projection items activated\n",
      "Getting epochs for filename data/dasps_raw_mat/S07.mat\n",
      "Not setting metadata\n",
      "2 matching events found\n",
      "No baseline correction applied\n",
      "0 projection items activated\n",
      "Creating RawArray with float64 data, n_channels=14, n_times=3840\n",
      "    Range : 0 ... 3839 =      0.000 ...    29.992 secs\n",
      "Ready.\n",
      "Not setting metadata\n",
      "6 matching events found\n",
      "No baseline correction applied\n",
      "0 projection items activated\n",
      "Getting epochs for filename data/dasps_raw_mat/S07.mat\n",
      "Not setting metadata\n",
      "2 matching events found\n",
      "No baseline correction applied\n",
      "0 projection items activated\n",
      "Creating RawArray with float64 data, n_channels=14, n_times=3840\n",
      "    Range : 0 ... 3839 =      0.000 ...    29.992 secs\n",
      "Ready.\n",
      "Not setting metadata\n",
      "6 matching events found\n",
      "No baseline correction applied\n",
      "0 projection items activated\n",
      "Getting epochs for filename data/dasps_raw_mat/S08.mat\n",
      "Not setting metadata\n",
      "2 matching events found\n",
      "No baseline correction applied\n",
      "0 projection items activated\n",
      "Creating RawArray with float64 data, n_channels=14, n_times=3840\n",
      "    Range : 0 ... 3839 =      0.000 ...    29.992 secs\n",
      "Ready.\n",
      "Not setting metadata\n",
      "6 matching events found\n",
      "No baseline correction applied\n",
      "0 projection items activated\n",
      "Getting epochs for filename data/dasps_raw_mat/S08.mat\n",
      "Not setting metadata\n",
      "2 matching events found\n",
      "No baseline correction applied\n",
      "0 projection items activated\n",
      "Creating RawArray with float64 data, n_channels=14, n_times=3840\n",
      "    Range : 0 ... 3839 =      0.000 ...    29.992 secs\n",
      "Ready.\n",
      "Not setting metadata\n",
      "6 matching events found\n",
      "No baseline correction applied\n",
      "0 projection items activated\n",
      "Getting epochs for filename data/dasps_raw_mat/S08.mat\n",
      "Not setting metadata\n",
      "2 matching events found\n",
      "No baseline correction applied\n",
      "0 projection items activated\n",
      "Creating RawArray with float64 data, n_channels=14, n_times=3840\n",
      "    Range : 0 ... 3839 =      0.000 ...    29.992 secs\n",
      "Ready.\n",
      "Not setting metadata\n",
      "6 matching events found\n",
      "No baseline correction applied\n",
      "0 projection items activated\n",
      "Getting epochs for filename data/dasps_raw_mat/S08.mat\n",
      "Not setting metadata\n",
      "2 matching events found\n",
      "No baseline correction applied\n",
      "0 projection items activated\n",
      "Creating RawArray with float64 data, n_channels=14, n_times=3840\n",
      "    Range : 0 ... 3839 =      0.000 ...    29.992 secs\n",
      "Ready.\n",
      "Not setting metadata\n",
      "6 matching events found\n",
      "No baseline correction applied\n",
      "0 projection items activated\n",
      "Getting epochs for filename data/dasps_raw_mat/S08.mat\n",
      "Not setting metadata\n",
      "2 matching events found\n",
      "No baseline correction applied\n",
      "0 projection items activated\n",
      "Creating RawArray with float64 data, n_channels=14, n_times=3840\n",
      "    Range : 0 ... 3839 =      0.000 ...    29.992 secs\n",
      "Ready.\n",
      "Not setting metadata\n",
      "6 matching events found\n",
      "No baseline correction applied\n",
      "0 projection items activated\n",
      "Getting epochs for filename data/dasps_raw_mat/S09.mat\n",
      "Not setting metadata\n",
      "2 matching events found\n",
      "No baseline correction applied\n",
      "0 projection items activated\n",
      "Creating RawArray with float64 data, n_channels=14, n_times=3840\n",
      "    Range : 0 ... 3839 =      0.000 ...    29.992 secs\n",
      "Ready.\n",
      "Not setting metadata\n",
      "6 matching events found\n",
      "No baseline correction applied\n",
      "0 projection items activated\n",
      "Getting epochs for filename data/dasps_raw_mat/S09.mat\n",
      "Not setting metadata\n",
      "2 matching events found\n",
      "No baseline correction applied\n",
      "0 projection items activated\n",
      "Creating RawArray with float64 data, n_channels=14, n_times=3840\n",
      "    Range : 0 ... 3839 =      0.000 ...    29.992 secs\n",
      "Ready.\n",
      "Not setting metadata\n",
      "6 matching events found\n",
      "No baseline correction applied\n",
      "0 projection items activated\n",
      "Getting epochs for filename data/dasps_raw_mat/S09.mat\n",
      "Not setting metadata\n",
      "2 matching events found\n",
      "No baseline correction applied\n",
      "0 projection items activated\n",
      "Creating RawArray with float64 data, n_channels=14, n_times=3840\n",
      "    Range : 0 ... 3839 =      0.000 ...    29.992 secs\n",
      "Ready.\n",
      "Not setting metadata\n",
      "6 matching events found\n",
      "No baseline correction applied\n",
      "0 projection items activated\n",
      "Getting epochs for filename data/dasps_raw_mat/S10.mat\n",
      "Not setting metadata\n",
      "2 matching events found\n",
      "No baseline correction applied\n",
      "0 projection items activated\n",
      "Creating RawArray with float64 data, n_channels=14, n_times=3840\n",
      "    Range : 0 ... 3839 =      0.000 ...    29.992 secs\n",
      "Ready.\n",
      "Not setting metadata\n",
      "6 matching events found\n",
      "No baseline correction applied\n",
      "0 projection items activated\n",
      "Getting epochs for filename data/dasps_raw_mat/S10.mat\n",
      "Not setting metadata\n",
      "2 matching events found\n",
      "No baseline correction applied\n",
      "0 projection items activated\n",
      "Creating RawArray with float64 data, n_channels=14, n_times=3840\n",
      "    Range : 0 ... 3839 =      0.000 ...    29.992 secs\n",
      "Ready.\n",
      "Not setting metadata\n",
      "6 matching events found\n",
      "No baseline correction applied\n",
      "0 projection items activated\n",
      "Getting epochs for filename data/dasps_raw_mat/S10.mat\n",
      "Not setting metadata\n",
      "2 matching events found\n",
      "No baseline correction applied\n",
      "0 projection items activated\n",
      "Creating RawArray with float64 data, n_channels=14, n_times=3840\n",
      "    Range : 0 ... 3839 =      0.000 ...    29.992 secs\n",
      "Ready.\n",
      "Not setting metadata\n",
      "6 matching events found\n",
      "No baseline correction applied\n",
      "0 projection items activated\n",
      "Getting epochs for filename data/dasps_raw_mat/S10.mat\n",
      "Not setting metadata\n",
      "2 matching events found\n",
      "No baseline correction applied\n",
      "0 projection items activated\n",
      "Creating RawArray with float64 data, n_channels=14, n_times=3840\n",
      "    Range : 0 ... 3839 =      0.000 ...    29.992 secs\n",
      "Ready.\n",
      "Not setting metadata\n",
      "6 matching events found\n",
      "No baseline correction applied\n",
      "0 projection items activated\n",
      "Getting epochs for filename data/dasps_raw_mat/S10.mat\n",
      "Not setting metadata\n",
      "2 matching events found\n",
      "No baseline correction applied\n",
      "0 projection items activated\n",
      "Creating RawArray with float64 data, n_channels=14, n_times=3840\n",
      "    Range : 0 ... 3839 =      0.000 ...    29.992 secs\n",
      "Ready.\n",
      "Not setting metadata\n",
      "6 matching events found\n",
      "No baseline correction applied\n",
      "0 projection items activated\n",
      "Getting epochs for filename data/dasps_raw_mat/S10.mat\n",
      "Not setting metadata\n",
      "2 matching events found\n",
      "No baseline correction applied\n",
      "0 projection items activated\n",
      "Creating RawArray with float64 data, n_channels=14, n_times=3840\n",
      "    Range : 0 ... 3839 =      0.000 ...    29.992 secs\n",
      "Ready.\n",
      "Not setting metadata\n",
      "6 matching events found\n",
      "No baseline correction applied\n",
      "0 projection items activated\n",
      "Getting epochs for filename data/dasps_raw_mat/S11.mat\n",
      "Not setting metadata\n",
      "2 matching events found\n",
      "No baseline correction applied\n",
      "0 projection items activated\n",
      "Creating RawArray with float64 data, n_channels=14, n_times=3840\n",
      "    Range : 0 ... 3839 =      0.000 ...    29.992 secs\n",
      "Ready.\n",
      "Not setting metadata\n",
      "6 matching events found\n",
      "No baseline correction applied\n",
      "0 projection items activated\n",
      "Getting epochs for filename data/dasps_raw_mat/S11.mat\n",
      "Not setting metadata\n",
      "2 matching events found\n",
      "No baseline correction applied\n",
      "0 projection items activated\n",
      "Creating RawArray with float64 data, n_channels=14, n_times=3840\n",
      "    Range : 0 ... 3839 =      0.000 ...    29.992 secs\n",
      "Ready.\n",
      "Not setting metadata\n",
      "6 matching events found\n",
      "No baseline correction applied\n",
      "0 projection items activated\n",
      "Getting epochs for filename data/dasps_raw_mat/S11.mat\n",
      "Not setting metadata\n",
      "2 matching events found\n",
      "No baseline correction applied\n",
      "0 projection items activated\n",
      "Creating RawArray with float64 data, n_channels=14, n_times=3840\n",
      "    Range : 0 ... 3839 =      0.000 ...    29.992 secs\n",
      "Ready.\n",
      "Not setting metadata\n",
      "6 matching events found\n",
      "No baseline correction applied\n",
      "0 projection items activated\n",
      "Getting epochs for filename data/dasps_raw_mat/S11.mat\n",
      "Not setting metadata\n",
      "2 matching events found\n",
      "No baseline correction applied\n",
      "0 projection items activated\n",
      "Creating RawArray with float64 data, n_channels=14, n_times=3840\n",
      "    Range : 0 ... 3839 =      0.000 ...    29.992 secs\n",
      "Ready.\n",
      "Not setting metadata\n",
      "6 matching events found\n",
      "No baseline correction applied\n",
      "0 projection items activated\n",
      "Getting epochs for filename data/dasps_raw_mat/S11.mat\n",
      "Not setting metadata\n",
      "2 matching events found\n",
      "No baseline correction applied\n",
      "0 projection items activated\n",
      "Creating RawArray with float64 data, n_channels=14, n_times=3840\n",
      "    Range : 0 ... 3839 =      0.000 ...    29.992 secs\n",
      "Ready.\n",
      "Not setting metadata\n",
      "6 matching events found\n",
      "No baseline correction applied\n",
      "0 projection items activated\n",
      "Getting epochs for filename data/dasps_raw_mat/S12.mat\n",
      "Not setting metadata\n",
      "2 matching events found\n",
      "No baseline correction applied\n",
      "0 projection items activated\n",
      "Creating RawArray with float64 data, n_channels=14, n_times=3840\n",
      "    Range : 0 ... 3839 =      0.000 ...    29.992 secs\n",
      "Ready.\n",
      "Not setting metadata\n",
      "6 matching events found\n",
      "No baseline correction applied\n",
      "0 projection items activated\n",
      "Getting epochs for filename data/dasps_raw_mat/S12.mat\n",
      "Not setting metadata\n",
      "2 matching events found\n",
      "No baseline correction applied\n",
      "0 projection items activated\n",
      "Creating RawArray with float64 data, n_channels=14, n_times=3840\n",
      "    Range : 0 ... 3839 =      0.000 ...    29.992 secs\n",
      "Ready.\n",
      "Not setting metadata\n",
      "6 matching events found\n",
      "No baseline correction applied\n",
      "0 projection items activated\n",
      "Getting epochs for filename data/dasps_raw_mat/S12.mat\n",
      "Not setting metadata\n",
      "2 matching events found\n",
      "No baseline correction applied\n",
      "0 projection items activated\n",
      "Creating RawArray with float64 data, n_channels=14, n_times=3840\n",
      "    Range : 0 ... 3839 =      0.000 ...    29.992 secs\n",
      "Ready.\n",
      "Not setting metadata\n",
      "6 matching events found\n",
      "No baseline correction applied\n",
      "0 projection items activated\n",
      "Getting epochs for filename data/dasps_raw_mat/S12.mat\n",
      "Not setting metadata\n",
      "2 matching events found\n",
      "No baseline correction applied\n",
      "0 projection items activated\n",
      "Creating RawArray with float64 data, n_channels=14, n_times=3840\n",
      "    Range : 0 ... 3839 =      0.000 ...    29.992 secs\n",
      "Ready.\n",
      "Not setting metadata\n",
      "6 matching events found\n",
      "No baseline correction applied\n",
      "0 projection items activated\n",
      "Getting epochs for filename data/dasps_raw_mat/S13.mat\n",
      "Not setting metadata\n",
      "2 matching events found\n",
      "No baseline correction applied\n",
      "0 projection items activated\n",
      "Creating RawArray with float64 data, n_channels=14, n_times=3840\n",
      "    Range : 0 ... 3839 =      0.000 ...    29.992 secs\n",
      "Ready.\n",
      "Not setting metadata\n",
      "6 matching events found\n",
      "No baseline correction applied\n",
      "0 projection items activated\n",
      "Getting epochs for filename data/dasps_raw_mat/S13.mat\n",
      "Not setting metadata\n",
      "2 matching events found\n",
      "No baseline correction applied\n",
      "0 projection items activated\n",
      "Creating RawArray with float64 data, n_channels=14, n_times=3840\n",
      "    Range : 0 ... 3839 =      0.000 ...    29.992 secs\n",
      "Ready.\n",
      "Not setting metadata\n",
      "6 matching events found\n",
      "No baseline correction applied\n",
      "0 projection items activated\n",
      "Getting epochs for filename data/dasps_raw_mat/S13.mat\n",
      "Not setting metadata\n",
      "2 matching events found\n",
      "No baseline correction applied\n",
      "0 projection items activated\n",
      "Creating RawArray with float64 data, n_channels=14, n_times=3840\n",
      "    Range : 0 ... 3839 =      0.000 ...    29.992 secs\n",
      "Ready.\n",
      "Not setting metadata\n",
      "6 matching events found\n",
      "No baseline correction applied\n",
      "0 projection items activated\n",
      "Getting epochs for filename data/dasps_raw_mat/S13.mat\n",
      "Not setting metadata\n",
      "2 matching events found\n",
      "No baseline correction applied\n",
      "0 projection items activated\n",
      "Creating RawArray with float64 data, n_channels=14, n_times=3840\n",
      "    Range : 0 ... 3839 =      0.000 ...    29.992 secs\n",
      "Ready.\n",
      "Not setting metadata\n",
      "6 matching events found\n",
      "No baseline correction applied\n",
      "0 projection items activated\n",
      "Getting epochs for filename data/dasps_raw_mat/S14.mat\n",
      "Not setting metadata\n",
      "2 matching events found\n",
      "No baseline correction applied\n",
      "0 projection items activated\n",
      "Creating RawArray with float64 data, n_channels=14, n_times=3840\n",
      "    Range : 0 ... 3839 =      0.000 ...    29.992 secs\n",
      "Ready.\n",
      "Not setting metadata\n",
      "6 matching events found\n",
      "No baseline correction applied\n",
      "0 projection items activated\n",
      "Getting epochs for filename data/dasps_raw_mat/S14.mat\n",
      "Not setting metadata\n",
      "2 matching events found\n",
      "No baseline correction applied\n",
      "0 projection items activated\n",
      "Creating RawArray with float64 data, n_channels=14, n_times=3840\n",
      "    Range : 0 ... 3839 =      0.000 ...    29.992 secs\n",
      "Ready.\n",
      "Not setting metadata\n",
      "6 matching events found\n",
      "No baseline correction applied\n",
      "0 projection items activated\n",
      "Getting epochs for filename data/dasps_raw_mat/S14.mat\n",
      "Not setting metadata\n",
      "2 matching events found\n",
      "No baseline correction applied\n",
      "0 projection items activated\n",
      "Creating RawArray with float64 data, n_channels=14, n_times=3840\n",
      "    Range : 0 ... 3839 =      0.000 ...    29.992 secs\n",
      "Ready.\n",
      "Not setting metadata\n",
      "6 matching events found\n",
      "No baseline correction applied\n",
      "0 projection items activated\n",
      "Getting epochs for filename data/dasps_raw_mat/S14.mat\n",
      "Not setting metadata\n",
      "2 matching events found\n",
      "No baseline correction applied\n",
      "0 projection items activated\n",
      "Creating RawArray with float64 data, n_channels=14, n_times=3840\n",
      "    Range : 0 ... 3839 =      0.000 ...    29.992 secs\n",
      "Ready.\n",
      "Not setting metadata\n",
      "6 matching events found\n",
      "No baseline correction applied\n",
      "0 projection items activated\n",
      "Getting epochs for filename data/dasps_raw_mat/S15.mat\n",
      "Not setting metadata\n",
      "2 matching events found\n",
      "No baseline correction applied\n",
      "0 projection items activated\n",
      "Creating RawArray with float64 data, n_channels=14, n_times=3840\n",
      "    Range : 0 ... 3839 =      0.000 ...    29.992 secs\n",
      "Ready.\n",
      "Not setting metadata\n",
      "6 matching events found\n",
      "No baseline correction applied\n",
      "0 projection items activated\n",
      "Getting epochs for filename data/dasps_raw_mat/S15.mat\n",
      "Not setting metadata\n",
      "2 matching events found\n",
      "No baseline correction applied\n",
      "0 projection items activated\n",
      "Creating RawArray with float64 data, n_channels=14, n_times=3840\n",
      "    Range : 0 ... 3839 =      0.000 ...    29.992 secs\n",
      "Ready.\n",
      "Not setting metadata\n",
      "6 matching events found\n",
      "No baseline correction applied\n",
      "0 projection items activated\n",
      "Getting epochs for filename data/dasps_raw_mat/S15.mat\n",
      "Not setting metadata\n",
      "2 matching events found\n",
      "No baseline correction applied\n",
      "0 projection items activated\n",
      "Creating RawArray with float64 data, n_channels=14, n_times=3840\n",
      "    Range : 0 ... 3839 =      0.000 ...    29.992 secs\n",
      "Ready.\n",
      "Not setting metadata\n",
      "6 matching events found\n",
      "No baseline correction applied\n",
      "0 projection items activated\n",
      "Getting epochs for filename data/dasps_raw_mat/S16.mat\n",
      "Not setting metadata\n",
      "2 matching events found\n",
      "No baseline correction applied\n",
      "0 projection items activated\n",
      "Creating RawArray with float64 data, n_channels=14, n_times=3840\n",
      "    Range : 0 ... 3839 =      0.000 ...    29.992 secs\n",
      "Ready.\n",
      "Not setting metadata\n",
      "6 matching events found\n",
      "No baseline correction applied\n",
      "0 projection items activated\n",
      "Getting epochs for filename data/dasps_raw_mat/S16.mat\n",
      "Not setting metadata\n",
      "2 matching events found\n",
      "No baseline correction applied\n",
      "0 projection items activated\n",
      "Creating RawArray with float64 data, n_channels=14, n_times=3840\n",
      "    Range : 0 ... 3839 =      0.000 ...    29.992 secs\n",
      "Ready.\n",
      "Not setting metadata\n",
      "6 matching events found\n",
      "No baseline correction applied\n",
      "0 projection items activated\n",
      "Getting epochs for filename data/dasps_raw_mat/S16.mat\n",
      "Not setting metadata\n",
      "2 matching events found\n",
      "No baseline correction applied\n",
      "0 projection items activated\n",
      "Creating RawArray with float64 data, n_channels=14, n_times=3840\n",
      "    Range : 0 ... 3839 =      0.000 ...    29.992 secs\n",
      "Ready.\n",
      "Not setting metadata\n",
      "6 matching events found\n",
      "No baseline correction applied\n",
      "0 projection items activated\n",
      "Getting epochs for filename data/dasps_raw_mat/S16.mat\n",
      "Not setting metadata\n",
      "2 matching events found\n",
      "No baseline correction applied\n",
      "0 projection items activated\n",
      "Creating RawArray with float64 data, n_channels=14, n_times=3840\n",
      "    Range : 0 ... 3839 =      0.000 ...    29.992 secs\n",
      "Ready.\n",
      "Not setting metadata\n",
      "6 matching events found\n",
      "No baseline correction applied\n",
      "0 projection items activated\n",
      "Getting epochs for filename data/dasps_raw_mat/S17.mat\n",
      "Not setting metadata\n",
      "2 matching events found\n",
      "No baseline correction applied\n",
      "0 projection items activated\n",
      "Creating RawArray with float64 data, n_channels=14, n_times=3840\n",
      "    Range : 0 ... 3839 =      0.000 ...    29.992 secs\n",
      "Ready.\n",
      "Not setting metadata\n",
      "6 matching events found\n",
      "No baseline correction applied\n",
      "0 projection items activated\n",
      "Getting epochs for filename data/dasps_raw_mat/S18.mat\n",
      "Not setting metadata\n",
      "2 matching events found\n",
      "No baseline correction applied\n",
      "0 projection items activated\n",
      "Creating RawArray with float64 data, n_channels=14, n_times=3840\n",
      "    Range : 0 ... 3839 =      0.000 ...    29.992 secs\n",
      "Ready.\n",
      "Not setting metadata\n",
      "6 matching events found\n",
      "No baseline correction applied\n",
      "0 projection items activated\n",
      "Getting epochs for filename data/dasps_raw_mat/S18.mat\n",
      "Not setting metadata\n",
      "2 matching events found\n",
      "No baseline correction applied\n",
      "0 projection items activated\n",
      "Creating RawArray with float64 data, n_channels=14, n_times=3840\n",
      "    Range : 0 ... 3839 =      0.000 ...    29.992 secs\n",
      "Ready.\n",
      "Not setting metadata\n",
      "6 matching events found\n",
      "No baseline correction applied\n",
      "0 projection items activated\n",
      "Getting epochs for filename data/dasps_raw_mat/S18.mat\n",
      "Not setting metadata\n",
      "2 matching events found\n",
      "No baseline correction applied\n",
      "0 projection items activated\n",
      "Creating RawArray with float64 data, n_channels=14, n_times=3840\n",
      "    Range : 0 ... 3839 =      0.000 ...    29.992 secs\n",
      "Ready.\n",
      "Not setting metadata\n",
      "6 matching events found\n",
      "No baseline correction applied\n",
      "0 projection items activated\n",
      "Getting epochs for filename data/dasps_raw_mat/S18.mat\n",
      "Not setting metadata\n",
      "2 matching events found\n",
      "No baseline correction applied\n",
      "0 projection items activated\n",
      "Creating RawArray with float64 data, n_channels=14, n_times=3840\n",
      "    Range : 0 ... 3839 =      0.000 ...    29.992 secs\n",
      "Ready.\n",
      "Not setting metadata\n",
      "6 matching events found\n",
      "No baseline correction applied\n",
      "0 projection items activated\n",
      "Getting epochs for filename data/dasps_raw_mat/S19.mat\n",
      "Not setting metadata\n",
      "2 matching events found\n",
      "No baseline correction applied\n",
      "0 projection items activated\n",
      "Creating RawArray with float64 data, n_channels=14, n_times=3840\n",
      "    Range : 0 ... 3839 =      0.000 ...    29.992 secs\n",
      "Ready.\n",
      "Not setting metadata\n",
      "6 matching events found\n",
      "No baseline correction applied\n",
      "0 projection items activated\n",
      "Getting epochs for filename data/dasps_raw_mat/S19.mat\n",
      "Not setting metadata\n",
      "2 matching events found\n",
      "No baseline correction applied\n",
      "0 projection items activated\n",
      "Creating RawArray with float64 data, n_channels=14, n_times=3840\n",
      "    Range : 0 ... 3839 =      0.000 ...    29.992 secs\n",
      "Ready.\n",
      "Not setting metadata\n",
      "6 matching events found\n",
      "No baseline correction applied\n",
      "0 projection items activated\n",
      "Getting epochs for filename data/dasps_raw_mat/S20.mat\n",
      "Not setting metadata\n",
      "2 matching events found\n",
      "No baseline correction applied\n",
      "0 projection items activated\n",
      "Creating RawArray with float64 data, n_channels=14, n_times=3840\n",
      "    Range : 0 ... 3839 =      0.000 ...    29.992 secs\n",
      "Ready.\n",
      "Not setting metadata\n",
      "6 matching events found\n",
      "No baseline correction applied\n",
      "0 projection items activated\n",
      "Getting epochs for filename data/dasps_raw_mat/S20.mat\n",
      "Not setting metadata\n",
      "2 matching events found\n",
      "No baseline correction applied\n",
      "0 projection items activated\n",
      "Creating RawArray with float64 data, n_channels=14, n_times=3840\n",
      "    Range : 0 ... 3839 =      0.000 ...    29.992 secs\n",
      "Ready.\n",
      "Not setting metadata\n",
      "6 matching events found\n",
      "No baseline correction applied\n",
      "0 projection items activated\n",
      "Getting epochs for filename data/dasps_raw_mat/S20.mat\n",
      "Not setting metadata\n",
      "2 matching events found\n",
      "No baseline correction applied\n",
      "0 projection items activated\n",
      "Creating RawArray with float64 data, n_channels=14, n_times=3840\n",
      "    Range : 0 ... 3839 =      0.000 ...    29.992 secs\n",
      "Ready.\n",
      "Not setting metadata\n",
      "6 matching events found\n",
      "No baseline correction applied\n",
      "0 projection items activated\n",
      "Getting epochs for filename data/dasps_raw_mat/S21.mat\n",
      "Not setting metadata\n",
      "2 matching events found\n",
      "No baseline correction applied\n",
      "0 projection items activated\n",
      "Creating RawArray with float64 data, n_channels=14, n_times=3840\n",
      "    Range : 0 ... 3839 =      0.000 ...    29.992 secs\n",
      "Ready.\n",
      "Not setting metadata\n",
      "6 matching events found\n",
      "No baseline correction applied\n",
      "0 projection items activated\n",
      "Getting epochs for filename data/dasps_raw_mat/S21.mat\n",
      "Not setting metadata\n",
      "2 matching events found\n",
      "No baseline correction applied\n",
      "0 projection items activated\n",
      "Creating RawArray with float64 data, n_channels=14, n_times=3840\n",
      "    Range : 0 ... 3839 =      0.000 ...    29.992 secs\n",
      "Ready.\n",
      "Not setting metadata\n",
      "6 matching events found\n",
      "No baseline correction applied\n",
      "0 projection items activated\n",
      "Getting epochs for filename data/dasps_raw_mat/S21.mat\n",
      "Not setting metadata\n",
      "2 matching events found\n",
      "No baseline correction applied\n",
      "0 projection items activated\n",
      "Creating RawArray with float64 data, n_channels=14, n_times=3840\n",
      "    Range : 0 ... 3839 =      0.000 ...    29.992 secs\n",
      "Ready.\n",
      "Not setting metadata\n",
      "6 matching events found\n",
      "No baseline correction applied\n",
      "0 projection items activated\n",
      "Getting epochs for filename data/dasps_raw_mat/S22.mat\n",
      "Not setting metadata\n",
      "2 matching events found\n",
      "No baseline correction applied\n",
      "0 projection items activated\n",
      "Creating RawArray with float64 data, n_channels=14, n_times=3840\n",
      "    Range : 0 ... 3839 =      0.000 ...    29.992 secs\n",
      "Ready.\n",
      "Not setting metadata\n",
      "6 matching events found\n",
      "No baseline correction applied\n",
      "0 projection items activated\n",
      "Getting epochs for filename data/dasps_raw_mat/S22.mat\n",
      "Not setting metadata\n",
      "2 matching events found\n",
      "No baseline correction applied\n",
      "0 projection items activated\n",
      "Creating RawArray with float64 data, n_channels=14, n_times=3840\n",
      "    Range : 0 ... 3839 =      0.000 ...    29.992 secs\n",
      "Ready.\n",
      "Not setting metadata\n",
      "6 matching events found\n",
      "No baseline correction applied\n",
      "0 projection items activated\n",
      "Getting epochs for filename data/dasps_raw_mat/S22.mat\n",
      "Not setting metadata\n",
      "2 matching events found\n",
      "No baseline correction applied\n",
      "0 projection items activated\n",
      "Creating RawArray with float64 data, n_channels=14, n_times=3840\n",
      "    Range : 0 ... 3839 =      0.000 ...    29.992 secs\n",
      "Ready.\n",
      "Not setting metadata\n",
      "6 matching events found\n",
      "No baseline correction applied\n",
      "0 projection items activated\n",
      "Getting epochs for filename data/dasps_raw_mat/S22.mat\n",
      "Not setting metadata\n",
      "2 matching events found\n",
      "No baseline correction applied\n",
      "0 projection items activated\n",
      "Creating RawArray with float64 data, n_channels=14, n_times=3840\n",
      "    Range : 0 ... 3839 =      0.000 ...    29.992 secs\n",
      "Ready.\n",
      "Not setting metadata\n",
      "6 matching events found\n",
      "No baseline correction applied\n",
      "0 projection items activated\n",
      "Getting epochs for filename data/dasps_raw_mat/S23.mat\n",
      "Not setting metadata\n",
      "2 matching events found\n",
      "No baseline correction applied\n",
      "0 projection items activated\n",
      "Creating RawArray with float64 data, n_channels=14, n_times=3840\n",
      "    Range : 0 ... 3839 =      0.000 ...    29.992 secs\n",
      "Ready.\n",
      "Not setting metadata\n",
      "6 matching events found\n",
      "No baseline correction applied\n",
      "0 projection items activated\n",
      "Getting epochs for filename data/dasps_raw_mat/S23.mat\n",
      "Not setting metadata\n",
      "2 matching events found\n",
      "No baseline correction applied\n",
      "0 projection items activated\n",
      "Creating RawArray with float64 data, n_channels=14, n_times=3840\n",
      "    Range : 0 ... 3839 =      0.000 ...    29.992 secs\n",
      "Ready.\n",
      "Not setting metadata\n",
      "6 matching events found\n",
      "No baseline correction applied\n",
      "0 projection items activated\n",
      "Getting epochs for filename data/dasps_raw_mat/S23.mat\n",
      "Not setting metadata\n",
      "2 matching events found\n",
      "No baseline correction applied\n",
      "0 projection items activated\n",
      "Creating RawArray with float64 data, n_channels=14, n_times=3840\n",
      "    Range : 0 ... 3839 =      0.000 ...    29.992 secs\n",
      "Ready.\n",
      "Not setting metadata\n",
      "6 matching events found\n",
      "No baseline correction applied\n",
      "0 projection items activated\n",
      "Getting epochs for filename data/dasps_raw_mat/S23.mat\n",
      "Not setting metadata\n",
      "2 matching events found\n",
      "No baseline correction applied\n",
      "0 projection items activated\n",
      "Creating RawArray with float64 data, n_channels=14, n_times=3840\n",
      "    Range : 0 ... 3839 =      0.000 ...    29.992 secs\n",
      "Ready.\n",
      "Not setting metadata\n",
      "6 matching events found\n",
      "No baseline correction applied\n",
      "0 projection items activated\n",
      "Using data from preloaded Raw for 6 events and 1024 original time points ...\n",
      "0 bad epochs dropped\n",
      "Using data from preloaded Raw for 6 events and 1024 original time points ...\n",
      "0 bad epochs dropped\n",
      "Using data from preloaded Raw for 6 events and 1024 original time points ...\n",
      "0 bad epochs dropped\n",
      "Using data from preloaded Raw for 6 events and 1024 original time points ...\n",
      "0 bad epochs dropped\n",
      "Using data from preloaded Raw for 6 events and 1024 original time points ...\n",
      "0 bad epochs dropped\n",
      "Using data from preloaded Raw for 6 events and 1024 original time points ...\n",
      "0 bad epochs dropped\n",
      "Using data from preloaded Raw for 6 events and 1024 original time points ...\n",
      "0 bad epochs dropped\n",
      "Using data from preloaded Raw for 6 events and 1024 original time points ...\n",
      "0 bad epochs dropped\n",
      "Using data from preloaded Raw for 6 events and 1024 original time points ...\n",
      "0 bad epochs dropped\n",
      "Using data from preloaded Raw for 6 events and 1024 original time points ...\n",
      "0 bad epochs dropped\n",
      "Using data from preloaded Raw for 6 events and 1024 original time points ...\n",
      "0 bad epochs dropped\n",
      "Using data from preloaded Raw for 6 events and 1024 original time points ...\n",
      "0 bad epochs dropped\n",
      "Using data from preloaded Raw for 6 events and 1024 original time points ...\n",
      "0 bad epochs dropped\n",
      "Using data from preloaded Raw for 6 events and 1024 original time points ...\n",
      "0 bad epochs dropped\n",
      "Using data from preloaded Raw for 6 events and 1024 original time points ...\n",
      "0 bad epochs dropped\n",
      "Using data from preloaded Raw for 6 events and 1024 original time points ...\n",
      "0 bad epochs dropped\n",
      "Using data from preloaded Raw for 6 events and 1024 original time points ...\n",
      "0 bad epochs dropped\n",
      "Using data from preloaded Raw for 6 events and 1024 original time points ...\n",
      "0 bad epochs dropped\n",
      "Using data from preloaded Raw for 6 events and 1024 original time points ...\n",
      "0 bad epochs dropped\n",
      "Using data from preloaded Raw for 6 events and 1024 original time points ...\n",
      "0 bad epochs dropped\n",
      "Using data from preloaded Raw for 6 events and 1024 original time points ...\n",
      "0 bad epochs dropped\n",
      "Using data from preloaded Raw for 6 events and 1024 original time points ...\n",
      "0 bad epochs dropped\n",
      "Using data from preloaded Raw for 6 events and 1024 original time points ...\n",
      "0 bad epochs dropped\n",
      "Using data from preloaded Raw for 6 events and 1024 original time points ...\n",
      "0 bad epochs dropped\n",
      "Using data from preloaded Raw for 6 events and 1024 original time points ...\n",
      "0 bad epochs dropped\n",
      "Using data from preloaded Raw for 6 events and 1024 original time points ...\n",
      "0 bad epochs dropped\n",
      "Using data from preloaded Raw for 6 events and 1024 original time points ...\n",
      "0 bad epochs dropped\n",
      "Using data from preloaded Raw for 6 events and 1024 original time points ...\n",
      "0 bad epochs dropped\n",
      "Using data from preloaded Raw for 6 events and 1024 original time points ...\n",
      "0 bad epochs dropped\n",
      "Using data from preloaded Raw for 6 events and 1024 original time points ...\n",
      "0 bad epochs dropped\n",
      "Using data from preloaded Raw for 6 events and 1024 original time points ...\n",
      "0 bad epochs dropped\n",
      "Using data from preloaded Raw for 6 events and 1024 original time points ...\n",
      "0 bad epochs dropped\n",
      "Using data from preloaded Raw for 6 events and 1024 original time points ...\n",
      "0 bad epochs dropped\n",
      "Using data from preloaded Raw for 6 events and 1024 original time points ...\n",
      "0 bad epochs dropped\n",
      "Using data from preloaded Raw for 6 events and 1024 original time points ...\n",
      "0 bad epochs dropped\n",
      "Using data from preloaded Raw for 6 events and 1024 original time points ...\n",
      "0 bad epochs dropped\n",
      "Using data from preloaded Raw for 6 events and 1024 original time points ...\n",
      "0 bad epochs dropped\n",
      "Using data from preloaded Raw for 6 events and 1024 original time points ...\n",
      "0 bad epochs dropped\n",
      "Using data from preloaded Raw for 6 events and 1024 original time points ...\n",
      "0 bad epochs dropped\n",
      "Using data from preloaded Raw for 6 events and 1024 original time points ...\n",
      "0 bad epochs dropped\n",
      "Using data from preloaded Raw for 6 events and 1024 original time points ...\n",
      "0 bad epochs dropped\n",
      "Using data from preloaded Raw for 6 events and 1024 original time points ...\n",
      "0 bad epochs dropped\n",
      "Using data from preloaded Raw for 6 events and 1024 original time points ...\n",
      "0 bad epochs dropped\n",
      "Using data from preloaded Raw for 6 events and 1024 original time points ...\n",
      "0 bad epochs dropped\n",
      "Using data from preloaded Raw for 6 events and 1024 original time points ...\n",
      "0 bad epochs dropped\n",
      "Using data from preloaded Raw for 6 events and 1024 original time points ...\n",
      "0 bad epochs dropped\n",
      "Using data from preloaded Raw for 6 events and 1024 original time points ...\n",
      "0 bad epochs dropped\n",
      "Using data from preloaded Raw for 6 events and 1024 original time points ...\n",
      "0 bad epochs dropped\n",
      "Using data from preloaded Raw for 6 events and 1024 original time points ...\n",
      "0 bad epochs dropped\n",
      "Using data from preloaded Raw for 6 events and 1024 original time points ...\n",
      "0 bad epochs dropped\n",
      "Using data from preloaded Raw for 6 events and 1024 original time points ...\n",
      "0 bad epochs dropped\n",
      "Using data from preloaded Raw for 6 events and 1024 original time points ...\n",
      "0 bad epochs dropped\n",
      "Using data from preloaded Raw for 6 events and 1024 original time points ...\n",
      "0 bad epochs dropped\n",
      "Using data from preloaded Raw for 6 events and 1024 original time points ...\n",
      "0 bad epochs dropped\n",
      "Using data from preloaded Raw for 6 events and 1024 original time points ...\n",
      "0 bad epochs dropped\n",
      "Using data from preloaded Raw for 6 events and 1024 original time points ...\n",
      "0 bad epochs dropped\n",
      "Using data from preloaded Raw for 6 events and 1024 original time points ...\n",
      "0 bad epochs dropped\n",
      "Using data from preloaded Raw for 6 events and 1024 original time points ...\n",
      "0 bad epochs dropped\n",
      "Using data from preloaded Raw for 6 events and 1024 original time points ...\n",
      "0 bad epochs dropped\n",
      "Using data from preloaded Raw for 6 events and 1024 original time points ...\n",
      "0 bad epochs dropped\n",
      "Using data from preloaded Raw for 6 events and 1024 original time points ...\n",
      "0 bad epochs dropped\n",
      "Using data from preloaded Raw for 6 events and 1024 original time points ...\n",
      "0 bad epochs dropped\n",
      "Using data from preloaded Raw for 6 events and 1024 original time points ...\n",
      "0 bad epochs dropped\n",
      "Using data from preloaded Raw for 6 events and 1024 original time points ...\n",
      "0 bad epochs dropped\n",
      "Using data from preloaded Raw for 6 events and 1024 original time points ...\n",
      "0 bad epochs dropped\n",
      "Using data from preloaded Raw for 6 events and 1024 original time points ...\n",
      "0 bad epochs dropped\n",
      "Using data from preloaded Raw for 6 events and 1024 original time points ...\n",
      "0 bad epochs dropped\n",
      "Using data from preloaded Raw for 6 events and 1024 original time points ...\n",
      "0 bad epochs dropped\n",
      "Using data from preloaded Raw for 6 events and 1024 original time points ...\n",
      "0 bad epochs dropped\n",
      "Using data from preloaded Raw for 6 events and 1024 original time points ...\n",
      "0 bad epochs dropped\n",
      "Using data from preloaded Raw for 6 events and 1024 original time points ...\n",
      "0 bad epochs dropped\n",
      "Using data from preloaded Raw for 6 events and 1024 original time points ...\n",
      "0 bad epochs dropped\n",
      "Using data from preloaded Raw for 6 events and 1024 original time points ...\n",
      "0 bad epochs dropped\n",
      "Using data from preloaded Raw for 6 events and 1024 original time points ...\n",
      "0 bad epochs dropped\n",
      "Using data from preloaded Raw for 6 events and 1024 original time points ...\n",
      "0 bad epochs dropped\n",
      "Using data from preloaded Raw for 6 events and 1024 original time points ...\n",
      "0 bad epochs dropped\n",
      "Using data from preloaded Raw for 6 events and 1024 original time points ...\n",
      "0 bad epochs dropped\n",
      "Using data from preloaded Raw for 6 events and 1024 original time points ...\n",
      "0 bad epochs dropped\n",
      "Using data from preloaded Raw for 6 events and 1024 original time points ...\n",
      "Using data from preloaded Raw for 6 events and 1024 original time points ...\n",
      "Using data from preloaded Raw for 6 events and 1024 original time points ...\n",
      "Using data from preloaded Raw for 6 events and 1024 original time points ...\n",
      "Using data from preloaded Raw for 6 events and 1024 original time points ...\n",
      "Using data from preloaded Raw for 6 events and 1024 original time points ...\n",
      "Using data from preloaded Raw for 6 events and 1024 original time points ...\n",
      "Using data from preloaded Raw for 6 events and 1024 original time points ...\n",
      "Using data from preloaded Raw for 6 events and 1024 original time points ...\n",
      "Using data from preloaded Raw for 6 events and 1024 original time points ...\n",
      "Using data from preloaded Raw for 6 events and 1024 original time points ...\n",
      "Using data from preloaded Raw for 6 events and 1024 original time points ...\n",
      "Using data from preloaded Raw for 6 events and 1024 original time points ...\n",
      "Using data from preloaded Raw for 6 events and 1024 original time points ...\n",
      "Using data from preloaded Raw for 6 events and 1024 original time points ...\n",
      "Using data from preloaded Raw for 6 events and 1024 original time points ...\n",
      "Using data from preloaded Raw for 6 events and 1024 original time points ...\n",
      "Using data from preloaded Raw for 6 events and 1024 original time points ...\n",
      "Using data from preloaded Raw for 6 events and 1024 original time points ...\n",
      "Using data from preloaded Raw for 6 events and 1024 original time points ...\n",
      "Using data from preloaded Raw for 6 events and 1024 original time points ...\n",
      "Using data from preloaded Raw for 6 events and 1024 original time points ...\n",
      "Using data from preloaded Raw for 6 events and 1024 original time points ...\n",
      "Using data from preloaded Raw for 6 events and 1024 original time points ...\n",
      "Using data from preloaded Raw for 6 events and 1024 original time points ...\n",
      "Using data from preloaded Raw for 6 events and 1024 original time points ...\n",
      "Using data from preloaded Raw for 6 events and 1024 original time points ...\n",
      "Using data from preloaded Raw for 6 events and 1024 original time points ...\n",
      "Using data from preloaded Raw for 6 events and 1024 original time points ...\n",
      "Using data from preloaded Raw for 6 events and 1024 original time points ...\n",
      "Using data from preloaded Raw for 6 events and 1024 original time points ...\n",
      "Using data from preloaded Raw for 6 events and 1024 original time points ...\n",
      "Using data from preloaded Raw for 6 events and 1024 original time points ...\n",
      "Using data from preloaded Raw for 6 events and 1024 original time points ...\n",
      "Using data from preloaded Raw for 6 events and 1024 original time points ...\n",
      "Using data from preloaded Raw for 6 events and 1024 original time points ...\n",
      "Using data from preloaded Raw for 6 events and 1024 original time points ...\n",
      "Using data from preloaded Raw for 6 events and 1024 original time points ...\n",
      "Using data from preloaded Raw for 6 events and 1024 original time points ...\n",
      "Using data from preloaded Raw for 6 events and 1024 original time points ...\n",
      "Using data from preloaded Raw for 6 events and 1024 original time points ...\n",
      "Using data from preloaded Raw for 6 events and 1024 original time points ...\n",
      "Using data from preloaded Raw for 6 events and 1024 original time points ...\n",
      "Using data from preloaded Raw for 6 events and 1024 original time points ...\n",
      "Using data from preloaded Raw for 6 events and 1024 original time points ...\n",
      "Using data from preloaded Raw for 6 events and 1024 original time points ...\n",
      "Using data from preloaded Raw for 6 events and 1024 original time points ...\n",
      "Using data from preloaded Raw for 6 events and 1024 original time points ...\n",
      "Using data from preloaded Raw for 6 events and 1024 original time points ...\n",
      "Using data from preloaded Raw for 6 events and 1024 original time points ...\n",
      "Using data from preloaded Raw for 6 events and 1024 original time points ...\n",
      "Using data from preloaded Raw for 6 events and 1024 original time points ...\n",
      "Using data from preloaded Raw for 6 events and 1024 original time points ...\n",
      "Using data from preloaded Raw for 6 events and 1024 original time points ...\n",
      "Using data from preloaded Raw for 6 events and 1024 original time points ...\n",
      "Using data from preloaded Raw for 6 events and 1024 original time points ...\n",
      "Using data from preloaded Raw for 6 events and 1024 original time points ...\n",
      "Using data from preloaded Raw for 6 events and 1024 original time points ...\n",
      "Using data from preloaded Raw for 6 events and 1024 original time points ...\n",
      "Using data from preloaded Raw for 6 events and 1024 original time points ...\n",
      "Using data from preloaded Raw for 6 events and 1024 original time points ...\n",
      "Using data from preloaded Raw for 6 events and 1024 original time points ...\n",
      "Using data from preloaded Raw for 6 events and 1024 original time points ...\n",
      "Using data from preloaded Raw for 6 events and 1024 original time points ...\n",
      "Using data from preloaded Raw for 6 events and 1024 original time points ...\n",
      "Using data from preloaded Raw for 6 events and 1024 original time points ...\n",
      "Using data from preloaded Raw for 6 events and 1024 original time points ...\n",
      "Using data from preloaded Raw for 6 events and 1024 original time points ...\n",
      "Using data from preloaded Raw for 6 events and 1024 original time points ...\n",
      "Using data from preloaded Raw for 6 events and 1024 original time points ...\n",
      "Using data from preloaded Raw for 6 events and 1024 original time points ...\n",
      "Using data from preloaded Raw for 6 events and 1024 original time points ...\n",
      "Using data from preloaded Raw for 6 events and 1024 original time points ...\n",
      "Using data from preloaded Raw for 6 events and 1024 original time points ...\n",
      "Using data from preloaded Raw for 6 events and 1024 original time points ...\n",
      "Using data from preloaded Raw for 6 events and 1024 original time points ...\n",
      "Using data from preloaded Raw for 6 events and 1024 original time points ...\n",
      "Using data from preloaded Raw for 6 events and 1024 original time points ...\n",
      "Not setting metadata\n",
      "468 matching events found\n",
      "No baseline correction applied\n",
      "Getting epochs for filename data/dasps_raw_mat/S01.mat\n",
      "Not setting metadata\n",
      "2 matching events found\n",
      "No baseline correction applied\n",
      "0 projection items activated\n",
      "Creating RawArray with float64 data, n_channels=14, n_times=3840\n",
      "    Range : 0 ... 3839 =      0.000 ...    29.992 secs\n",
      "Ready.\n",
      "Not setting metadata\n",
      "6 matching events found\n",
      "No baseline correction applied\n",
      "0 projection items activated\n",
      "Getting epochs for filename data/dasps_raw_mat/S01.mat\n",
      "Not setting metadata\n",
      "2 matching events found\n",
      "No baseline correction applied\n",
      "0 projection items activated\n",
      "Creating RawArray with float64 data, n_channels=14, n_times=3840\n",
      "    Range : 0 ... 3839 =      0.000 ...    29.992 secs\n",
      "Ready.\n",
      "Not setting metadata\n",
      "6 matching events found\n",
      "No baseline correction applied\n",
      "0 projection items activated\n",
      "Getting epochs for filename data/dasps_raw_mat/S01.mat\n",
      "Not setting metadata\n",
      "2 matching events found\n",
      "No baseline correction applied\n",
      "0 projection items activated\n",
      "Creating RawArray with float64 data, n_channels=14, n_times=3840\n",
      "    Range : 0 ... 3839 =      0.000 ...    29.992 secs\n",
      "Ready.\n",
      "Not setting metadata\n",
      "6 matching events found\n",
      "No baseline correction applied\n",
      "0 projection items activated\n",
      "Getting epochs for filename data/dasps_raw_mat/S01.mat\n",
      "Not setting metadata\n",
      "2 matching events found\n",
      "No baseline correction applied\n",
      "0 projection items activated\n",
      "Creating RawArray with float64 data, n_channels=14, n_times=3840\n",
      "    Range : 0 ... 3839 =      0.000 ...    29.992 secs\n",
      "Ready.\n",
      "Not setting metadata\n",
      "6 matching events found\n",
      "No baseline correction applied\n",
      "0 projection items activated\n",
      "Getting epochs for filename data/dasps_raw_mat/S02.mat\n",
      "Not setting metadata\n",
      "2 matching events found\n",
      "No baseline correction applied\n",
      "0 projection items activated\n",
      "Creating RawArray with float64 data, n_channels=14, n_times=3840\n",
      "    Range : 0 ... 3839 =      0.000 ...    29.992 secs\n",
      "Ready.\n",
      "Not setting metadata\n",
      "6 matching events found\n",
      "No baseline correction applied\n",
      "0 projection items activated\n",
      "Getting epochs for filename data/dasps_raw_mat/S04.mat\n",
      "Not setting metadata\n",
      "2 matching events found\n",
      "No baseline correction applied\n",
      "0 projection items activated\n",
      "Creating RawArray with float64 data, n_channels=14, n_times=3840\n",
      "    Range : 0 ... 3839 =      0.000 ...    29.992 secs\n",
      "Ready.\n",
      "Not setting metadata\n",
      "6 matching events found\n",
      "No baseline correction applied\n",
      "0 projection items activated\n",
      "Getting epochs for filename data/dasps_raw_mat/S04.mat\n",
      "Not setting metadata\n",
      "2 matching events found\n",
      "No baseline correction applied\n",
      "0 projection items activated\n",
      "Creating RawArray with float64 data, n_channels=14, n_times=3840\n",
      "    Range : 0 ... 3839 =      0.000 ...    29.992 secs\n",
      "Ready.\n",
      "Not setting metadata\n",
      "6 matching events found\n",
      "No baseline correction applied\n",
      "0 projection items activated\n",
      "Getting epochs for filename data/dasps_raw_mat/S04.mat\n",
      "Not setting metadata\n",
      "2 matching events found\n",
      "No baseline correction applied\n",
      "0 projection items activated\n",
      "Creating RawArray with float64 data, n_channels=14, n_times=3840\n",
      "    Range : 0 ... 3839 =      0.000 ...    29.992 secs\n",
      "Ready.\n",
      "Not setting metadata\n",
      "6 matching events found\n",
      "No baseline correction applied\n",
      "0 projection items activated\n",
      "Getting epochs for filename data/dasps_raw_mat/S05.mat\n",
      "Not setting metadata\n",
      "2 matching events found\n",
      "No baseline correction applied\n",
      "0 projection items activated\n",
      "Creating RawArray with float64 data, n_channels=14, n_times=3840\n",
      "    Range : 0 ... 3839 =      0.000 ...    29.992 secs\n",
      "Ready.\n",
      "Not setting metadata\n",
      "6 matching events found\n",
      "No baseline correction applied\n",
      "0 projection items activated\n",
      "Getting epochs for filename data/dasps_raw_mat/S05.mat\n",
      "Not setting metadata\n",
      "2 matching events found\n",
      "No baseline correction applied\n",
      "0 projection items activated\n",
      "Creating RawArray with float64 data, n_channels=14, n_times=3840\n",
      "    Range : 0 ... 3839 =      0.000 ...    29.992 secs\n",
      "Ready.\n",
      "Not setting metadata\n",
      "6 matching events found\n",
      "No baseline correction applied\n",
      "0 projection items activated\n",
      "Getting epochs for filename data/dasps_raw_mat/S05.mat\n",
      "Not setting metadata\n",
      "2 matching events found\n",
      "No baseline correction applied\n",
      "0 projection items activated\n",
      "Creating RawArray with float64 data, n_channels=14, n_times=3840\n",
      "    Range : 0 ... 3839 =      0.000 ...    29.992 secs\n",
      "Ready.\n",
      "Not setting metadata\n",
      "6 matching events found\n",
      "No baseline correction applied\n",
      "0 projection items activated\n",
      "Getting epochs for filename data/dasps_raw_mat/S05.mat\n",
      "Not setting metadata\n",
      "2 matching events found\n",
      "No baseline correction applied\n",
      "0 projection items activated\n",
      "Creating RawArray with float64 data, n_channels=14, n_times=3840\n",
      "    Range : 0 ... 3839 =      0.000 ...    29.992 secs\n",
      "Ready.\n",
      "Not setting metadata\n",
      "6 matching events found\n",
      "No baseline correction applied\n",
      "0 projection items activated\n",
      "Getting epochs for filename data/dasps_raw_mat/S05.mat\n",
      "Not setting metadata\n",
      "2 matching events found\n",
      "No baseline correction applied\n",
      "0 projection items activated\n",
      "Creating RawArray with float64 data, n_channels=14, n_times=3840\n",
      "    Range : 0 ... 3839 =      0.000 ...    29.992 secs\n",
      "Ready.\n",
      "Not setting metadata\n",
      "6 matching events found\n",
      "No baseline correction applied\n",
      "0 projection items activated\n",
      "Getting epochs for filename data/dasps_raw_mat/S06.mat\n",
      "Not setting metadata\n",
      "2 matching events found\n",
      "No baseline correction applied\n",
      "0 projection items activated\n",
      "Creating RawArray with float64 data, n_channels=14, n_times=3840\n",
      "    Range : 0 ... 3839 =      0.000 ...    29.992 secs\n",
      "Ready.\n",
      "Not setting metadata\n",
      "6 matching events found\n",
      "No baseline correction applied\n",
      "0 projection items activated\n",
      "Getting epochs for filename data/dasps_raw_mat/S06.mat\n",
      "Not setting metadata\n",
      "2 matching events found\n",
      "No baseline correction applied\n",
      "0 projection items activated\n",
      "Creating RawArray with float64 data, n_channels=14, n_times=3840\n",
      "    Range : 0 ... 3839 =      0.000 ...    29.992 secs\n",
      "Ready.\n",
      "Not setting metadata\n",
      "6 matching events found\n",
      "No baseline correction applied\n",
      "0 projection items activated\n",
      "Getting epochs for filename data/dasps_raw_mat/S06.mat\n",
      "Not setting metadata\n",
      "2 matching events found\n",
      "No baseline correction applied\n",
      "0 projection items activated\n",
      "Creating RawArray with float64 data, n_channels=14, n_times=3840\n",
      "    Range : 0 ... 3839 =      0.000 ...    29.992 secs\n",
      "Ready.\n",
      "Not setting metadata\n",
      "6 matching events found\n",
      "No baseline correction applied\n",
      "0 projection items activated\n",
      "Getting epochs for filename data/dasps_raw_mat/S07.mat\n",
      "Not setting metadata\n",
      "2 matching events found\n",
      "No baseline correction applied\n",
      "0 projection items activated\n",
      "Creating RawArray with float64 data, n_channels=14, n_times=3840\n",
      "    Range : 0 ... 3839 =      0.000 ...    29.992 secs\n",
      "Ready.\n",
      "Not setting metadata\n",
      "6 matching events found\n",
      "No baseline correction applied\n",
      "0 projection items activated\n",
      "Getting epochs for filename data/dasps_raw_mat/S07.mat\n",
      "Not setting metadata\n",
      "2 matching events found\n",
      "No baseline correction applied\n",
      "0 projection items activated\n",
      "Creating RawArray with float64 data, n_channels=14, n_times=3840\n",
      "    Range : 0 ... 3839 =      0.000 ...    29.992 secs\n",
      "Ready.\n",
      "Not setting metadata\n",
      "6 matching events found\n",
      "No baseline correction applied\n",
      "0 projection items activated\n",
      "Getting epochs for filename data/dasps_raw_mat/S07.mat\n",
      "Not setting metadata\n",
      "2 matching events found\n",
      "No baseline correction applied\n",
      "0 projection items activated\n",
      "Creating RawArray with float64 data, n_channels=14, n_times=3840\n",
      "    Range : 0 ... 3839 =      0.000 ...    29.992 secs\n",
      "Ready.\n",
      "Not setting metadata\n",
      "6 matching events found\n",
      "No baseline correction applied\n",
      "0 projection items activated\n",
      "Getting epochs for filename data/dasps_raw_mat/S08.mat\n",
      "Not setting metadata\n",
      "2 matching events found\n",
      "No baseline correction applied\n",
      "0 projection items activated\n",
      "Creating RawArray with float64 data, n_channels=14, n_times=3840\n",
      "    Range : 0 ... 3839 =      0.000 ...    29.992 secs\n",
      "Ready.\n",
      "Not setting metadata\n",
      "6 matching events found\n",
      "No baseline correction applied\n",
      "0 projection items activated\n",
      "Getting epochs for filename data/dasps_raw_mat/S09.mat\n",
      "Not setting metadata\n",
      "2 matching events found\n",
      "No baseline correction applied\n",
      "0 projection items activated\n",
      "Creating RawArray with float64 data, n_channels=14, n_times=3840\n",
      "    Range : 0 ... 3839 =      0.000 ...    29.992 secs\n",
      "Ready.\n",
      "Not setting metadata\n",
      "6 matching events found\n",
      "No baseline correction applied\n",
      "0 projection items activated\n",
      "Getting epochs for filename data/dasps_raw_mat/S09.mat\n",
      "Not setting metadata\n",
      "2 matching events found\n",
      "No baseline correction applied\n",
      "0 projection items activated\n",
      "Creating RawArray with float64 data, n_channels=14, n_times=3840\n",
      "    Range : 0 ... 3839 =      0.000 ...    29.992 secs\n",
      "Ready.\n",
      "Not setting metadata\n",
      "6 matching events found\n",
      "No baseline correction applied\n",
      "0 projection items activated\n",
      "Getting epochs for filename data/dasps_raw_mat/S09.mat\n",
      "Not setting metadata\n",
      "2 matching events found\n",
      "No baseline correction applied\n",
      "0 projection items activated\n",
      "Creating RawArray with float64 data, n_channels=14, n_times=3840\n",
      "    Range : 0 ... 3839 =      0.000 ...    29.992 secs\n",
      "Ready.\n",
      "Not setting metadata\n",
      "6 matching events found\n",
      "No baseline correction applied\n",
      "0 projection items activated\n",
      "Getting epochs for filename data/dasps_raw_mat/S11.mat\n",
      "Not setting metadata\n",
      "2 matching events found\n",
      "No baseline correction applied\n",
      "0 projection items activated\n",
      "Creating RawArray with float64 data, n_channels=14, n_times=3840\n",
      "    Range : 0 ... 3839 =      0.000 ...    29.992 secs\n",
      "Ready.\n",
      "Not setting metadata\n",
      "6 matching events found\n",
      "No baseline correction applied\n",
      "0 projection items activated\n",
      "Getting epochs for filename data/dasps_raw_mat/S12.mat\n",
      "Not setting metadata\n",
      "2 matching events found\n",
      "No baseline correction applied\n",
      "0 projection items activated\n",
      "Creating RawArray with float64 data, n_channels=14, n_times=3840\n",
      "    Range : 0 ... 3839 =      0.000 ...    29.992 secs\n",
      "Ready.\n",
      "Not setting metadata\n",
      "6 matching events found\n",
      "No baseline correction applied\n",
      "0 projection items activated\n",
      "Getting epochs for filename data/dasps_raw_mat/S13.mat\n",
      "Not setting metadata\n",
      "2 matching events found\n",
      "No baseline correction applied\n",
      "0 projection items activated\n",
      "Creating RawArray with float64 data, n_channels=14, n_times=3840\n",
      "    Range : 0 ... 3839 =      0.000 ...    29.992 secs\n",
      "Ready.\n",
      "Not setting metadata\n",
      "6 matching events found\n",
      "No baseline correction applied\n",
      "0 projection items activated\n",
      "Getting epochs for filename data/dasps_raw_mat/S14.mat\n",
      "Not setting metadata\n",
      "2 matching events found\n",
      "No baseline correction applied\n",
      "0 projection items activated\n",
      "Creating RawArray with float64 data, n_channels=14, n_times=3840\n",
      "    Range : 0 ... 3839 =      0.000 ...    29.992 secs\n",
      "Ready.\n",
      "Not setting metadata\n",
      "6 matching events found\n",
      "No baseline correction applied\n",
      "0 projection items activated\n",
      "Getting epochs for filename data/dasps_raw_mat/S15.mat\n",
      "Not setting metadata\n",
      "2 matching events found\n",
      "No baseline correction applied\n",
      "0 projection items activated\n",
      "Creating RawArray with float64 data, n_channels=14, n_times=3840\n",
      "    Range : 0 ... 3839 =      0.000 ...    29.992 secs\n",
      "Ready.\n",
      "Not setting metadata\n",
      "6 matching events found\n",
      "No baseline correction applied\n",
      "0 projection items activated\n",
      "Getting epochs for filename data/dasps_raw_mat/S16.mat\n",
      "Not setting metadata\n",
      "2 matching events found\n",
      "No baseline correction applied\n",
      "0 projection items activated\n",
      "Creating RawArray with float64 data, n_channels=14, n_times=3840\n",
      "    Range : 0 ... 3839 =      0.000 ...    29.992 secs\n",
      "Ready.\n",
      "Not setting metadata\n",
      "6 matching events found\n",
      "No baseline correction applied\n",
      "0 projection items activated\n",
      "Getting epochs for filename data/dasps_raw_mat/S16.mat\n",
      "Not setting metadata\n",
      "2 matching events found\n",
      "No baseline correction applied\n",
      "0 projection items activated\n",
      "Creating RawArray with float64 data, n_channels=14, n_times=3840\n",
      "    Range : 0 ... 3839 =      0.000 ...    29.992 secs\n",
      "Ready.\n",
      "Not setting metadata\n",
      "6 matching events found\n",
      "No baseline correction applied\n",
      "0 projection items activated\n",
      "Getting epochs for filename data/dasps_raw_mat/S17.mat\n",
      "Not setting metadata\n",
      "2 matching events found\n",
      "No baseline correction applied\n",
      "0 projection items activated\n",
      "Creating RawArray with float64 data, n_channels=14, n_times=3840\n",
      "    Range : 0 ... 3839 =      0.000 ...    29.992 secs\n",
      "Ready.\n",
      "Not setting metadata\n",
      "6 matching events found\n",
      "No baseline correction applied\n",
      "0 projection items activated\n",
      "Getting epochs for filename data/dasps_raw_mat/S17.mat\n",
      "Not setting metadata\n",
      "2 matching events found\n",
      "No baseline correction applied\n",
      "0 projection items activated\n",
      "Creating RawArray with float64 data, n_channels=14, n_times=3840\n",
      "    Range : 0 ... 3839 =      0.000 ...    29.992 secs\n",
      "Ready.\n",
      "Not setting metadata\n",
      "6 matching events found\n",
      "No baseline correction applied\n",
      "0 projection items activated\n",
      "Getting epochs for filename data/dasps_raw_mat/S17.mat\n",
      "Not setting metadata\n",
      "2 matching events found\n",
      "No baseline correction applied\n",
      "0 projection items activated\n",
      "Creating RawArray with float64 data, n_channels=14, n_times=3840\n",
      "    Range : 0 ... 3839 =      0.000 ...    29.992 secs\n",
      "Ready.\n",
      "Not setting metadata\n",
      "6 matching events found\n",
      "No baseline correction applied\n",
      "0 projection items activated\n",
      "Getting epochs for filename data/dasps_raw_mat/S17.mat\n",
      "Not setting metadata\n",
      "2 matching events found\n",
      "No baseline correction applied\n",
      "0 projection items activated\n",
      "Creating RawArray with float64 data, n_channels=14, n_times=3840\n",
      "    Range : 0 ... 3839 =      0.000 ...    29.992 secs\n",
      "Ready.\n",
      "Not setting metadata\n",
      "6 matching events found\n",
      "No baseline correction applied\n",
      "0 projection items activated\n",
      "Getting epochs for filename data/dasps_raw_mat/S18.mat\n",
      "Not setting metadata\n",
      "2 matching events found\n",
      "No baseline correction applied\n",
      "0 projection items activated\n",
      "Creating RawArray with float64 data, n_channels=14, n_times=3840\n",
      "    Range : 0 ... 3839 =      0.000 ...    29.992 secs\n",
      "Ready.\n",
      "Not setting metadata\n",
      "6 matching events found\n",
      "No baseline correction applied\n",
      "0 projection items activated\n",
      "Getting epochs for filename data/dasps_raw_mat/S18.mat\n",
      "Not setting metadata\n",
      "2 matching events found\n",
      "No baseline correction applied\n",
      "0 projection items activated\n",
      "Creating RawArray with float64 data, n_channels=14, n_times=3840\n",
      "    Range : 0 ... 3839 =      0.000 ...    29.992 secs\n",
      "Ready.\n",
      "Not setting metadata\n",
      "6 matching events found\n",
      "No baseline correction applied\n",
      "0 projection items activated\n",
      "Getting epochs for filename data/dasps_raw_mat/S19.mat\n",
      "Not setting metadata\n",
      "2 matching events found\n",
      "No baseline correction applied\n",
      "0 projection items activated\n",
      "Creating RawArray with float64 data, n_channels=14, n_times=3840\n",
      "    Range : 0 ... 3839 =      0.000 ...    29.992 secs\n",
      "Ready.\n",
      "Not setting metadata\n",
      "6 matching events found\n",
      "No baseline correction applied\n",
      "0 projection items activated\n",
      "Getting epochs for filename data/dasps_raw_mat/S19.mat\n",
      "Not setting metadata\n",
      "2 matching events found\n",
      "No baseline correction applied\n",
      "0 projection items activated\n",
      "Creating RawArray with float64 data, n_channels=14, n_times=3840\n",
      "    Range : 0 ... 3839 =      0.000 ...    29.992 secs\n",
      "Ready.\n",
      "Not setting metadata\n",
      "6 matching events found\n",
      "No baseline correction applied\n",
      "0 projection items activated\n",
      "Getting epochs for filename data/dasps_raw_mat/S19.mat\n",
      "Not setting metadata\n",
      "2 matching events found\n",
      "No baseline correction applied\n",
      "0 projection items activated\n",
      "Creating RawArray with float64 data, n_channels=14, n_times=3840\n",
      "    Range : 0 ... 3839 =      0.000 ...    29.992 secs\n",
      "Ready.\n",
      "Not setting metadata\n",
      "6 matching events found\n",
      "No baseline correction applied\n",
      "0 projection items activated\n",
      "Getting epochs for filename data/dasps_raw_mat/S19.mat\n",
      "Not setting metadata\n",
      "2 matching events found\n",
      "No baseline correction applied\n",
      "0 projection items activated\n",
      "Creating RawArray with float64 data, n_channels=14, n_times=3840\n",
      "    Range : 0 ... 3839 =      0.000 ...    29.992 secs\n",
      "Ready.\n",
      "Not setting metadata\n",
      "6 matching events found\n",
      "No baseline correction applied\n",
      "0 projection items activated\n",
      "Getting epochs for filename data/dasps_raw_mat/S20.mat\n",
      "Not setting metadata\n",
      "2 matching events found\n",
      "No baseline correction applied\n",
      "0 projection items activated\n",
      "Creating RawArray with float64 data, n_channels=14, n_times=3840\n",
      "    Range : 0 ... 3839 =      0.000 ...    29.992 secs\n",
      "Ready.\n",
      "Not setting metadata\n",
      "6 matching events found\n",
      "No baseline correction applied\n",
      "0 projection items activated\n",
      "Getting epochs for filename data/dasps_raw_mat/S20.mat\n",
      "Not setting metadata\n",
      "2 matching events found\n",
      "No baseline correction applied\n",
      "0 projection items activated\n",
      "Creating RawArray with float64 data, n_channels=14, n_times=3840\n",
      "    Range : 0 ... 3839 =      0.000 ...    29.992 secs\n",
      "Ready.\n",
      "Not setting metadata\n",
      "6 matching events found\n",
      "No baseline correction applied\n",
      "0 projection items activated\n",
      "Getting epochs for filename data/dasps_raw_mat/S20.mat\n",
      "Not setting metadata\n",
      "2 matching events found\n",
      "No baseline correction applied\n",
      "0 projection items activated\n",
      "Creating RawArray with float64 data, n_channels=14, n_times=3840\n",
      "    Range : 0 ... 3839 =      0.000 ...    29.992 secs\n",
      "Ready.\n",
      "Not setting metadata\n",
      "6 matching events found\n",
      "No baseline correction applied\n",
      "0 projection items activated\n",
      "Getting epochs for filename data/dasps_raw_mat/S21.mat\n",
      "Not setting metadata\n",
      "2 matching events found\n",
      "No baseline correction applied\n",
      "0 projection items activated\n",
      "Creating RawArray with float64 data, n_channels=14, n_times=3840\n",
      "    Range : 0 ... 3839 =      0.000 ...    29.992 secs\n",
      "Ready.\n",
      "Not setting metadata\n",
      "6 matching events found\n",
      "No baseline correction applied\n",
      "0 projection items activated\n",
      "Getting epochs for filename data/dasps_raw_mat/S21.mat\n",
      "Not setting metadata\n",
      "2 matching events found\n",
      "No baseline correction applied\n",
      "0 projection items activated\n",
      "Creating RawArray with float64 data, n_channels=14, n_times=3840\n",
      "    Range : 0 ... 3839 =      0.000 ...    29.992 secs\n",
      "Ready.\n",
      "Not setting metadata\n",
      "6 matching events found\n",
      "No baseline correction applied\n",
      "0 projection items activated\n",
      "Getting epochs for filename data/dasps_raw_mat/S21.mat\n",
      "Not setting metadata\n",
      "2 matching events found\n",
      "No baseline correction applied\n",
      "0 projection items activated\n",
      "Creating RawArray with float64 data, n_channels=14, n_times=3840\n",
      "    Range : 0 ... 3839 =      0.000 ...    29.992 secs\n",
      "Ready.\n",
      "Not setting metadata\n",
      "6 matching events found\n",
      "No baseline correction applied\n",
      "0 projection items activated\n",
      "Getting epochs for filename data/dasps_raw_mat/S22.mat\n",
      "Not setting metadata\n",
      "2 matching events found\n",
      "No baseline correction applied\n",
      "0 projection items activated\n",
      "Creating RawArray with float64 data, n_channels=14, n_times=3840\n",
      "    Range : 0 ... 3839 =      0.000 ...    29.992 secs\n",
      "Ready.\n",
      "Not setting metadata\n",
      "6 matching events found\n",
      "No baseline correction applied\n",
      "0 projection items activated\n",
      "Getting epochs for filename data/dasps_raw_mat/S22.mat\n",
      "Not setting metadata\n",
      "2 matching events found\n",
      "No baseline correction applied\n",
      "0 projection items activated\n",
      "Creating RawArray with float64 data, n_channels=14, n_times=3840\n",
      "    Range : 0 ... 3839 =      0.000 ...    29.992 secs\n",
      "Ready.\n",
      "Not setting metadata\n",
      "6 matching events found\n",
      "No baseline correction applied\n",
      "0 projection items activated\n",
      "Getting epochs for filename data/dasps_raw_mat/S23.mat\n",
      "Not setting metadata\n",
      "2 matching events found\n",
      "No baseline correction applied\n",
      "0 projection items activated\n",
      "Creating RawArray with float64 data, n_channels=14, n_times=3840\n",
      "    Range : 0 ... 3839 =      0.000 ...    29.992 secs\n",
      "Ready.\n",
      "Not setting metadata\n",
      "6 matching events found\n",
      "No baseline correction applied\n",
      "0 projection items activated\n",
      "Getting epochs for filename data/dasps_raw_mat/S23.mat\n",
      "Not setting metadata\n",
      "2 matching events found\n",
      "No baseline correction applied\n",
      "0 projection items activated\n",
      "Creating RawArray with float64 data, n_channels=14, n_times=3840\n",
      "    Range : 0 ... 3839 =      0.000 ...    29.992 secs\n",
      "Ready.\n",
      "Not setting metadata\n",
      "6 matching events found\n",
      "No baseline correction applied\n",
      "0 projection items activated\n",
      "Using data from preloaded Raw for 6 events and 1024 original time points ...\n",
      "0 bad epochs dropped\n",
      "Using data from preloaded Raw for 6 events and 1024 original time points ...\n",
      "0 bad epochs dropped\n",
      "Using data from preloaded Raw for 6 events and 1024 original time points ...\n",
      "0 bad epochs dropped\n",
      "Using data from preloaded Raw for 6 events and 1024 original time points ...\n",
      "0 bad epochs dropped\n",
      "Using data from preloaded Raw for 6 events and 1024 original time points ...\n",
      "0 bad epochs dropped\n",
      "Using data from preloaded Raw for 6 events and 1024 original time points ...\n",
      "0 bad epochs dropped\n",
      "Using data from preloaded Raw for 6 events and 1024 original time points ...\n",
      "0 bad epochs dropped\n",
      "Using data from preloaded Raw for 6 events and 1024 original time points ...\n",
      "0 bad epochs dropped\n",
      "Using data from preloaded Raw for 6 events and 1024 original time points ...\n",
      "0 bad epochs dropped\n",
      "Using data from preloaded Raw for 6 events and 1024 original time points ...\n",
      "0 bad epochs dropped\n",
      "Using data from preloaded Raw for 6 events and 1024 original time points ...\n",
      "0 bad epochs dropped\n",
      "Using data from preloaded Raw for 6 events and 1024 original time points ...\n",
      "0 bad epochs dropped\n",
      "Using data from preloaded Raw for 6 events and 1024 original time points ...\n",
      "0 bad epochs dropped\n",
      "Using data from preloaded Raw for 6 events and 1024 original time points ...\n",
      "0 bad epochs dropped\n",
      "Using data from preloaded Raw for 6 events and 1024 original time points ...\n",
      "0 bad epochs dropped\n",
      "Using data from preloaded Raw for 6 events and 1024 original time points ...\n",
      "0 bad epochs dropped\n",
      "Using data from preloaded Raw for 6 events and 1024 original time points ...\n",
      "0 bad epochs dropped\n",
      "Using data from preloaded Raw for 6 events and 1024 original time points ...\n",
      "0 bad epochs dropped\n",
      "Using data from preloaded Raw for 6 events and 1024 original time points ...\n",
      "0 bad epochs dropped\n",
      "Using data from preloaded Raw for 6 events and 1024 original time points ...\n",
      "0 bad epochs dropped\n",
      "Using data from preloaded Raw for 6 events and 1024 original time points ...\n",
      "0 bad epochs dropped\n",
      "Using data from preloaded Raw for 6 events and 1024 original time points ...\n",
      "0 bad epochs dropped\n",
      "Using data from preloaded Raw for 6 events and 1024 original time points ...\n",
      "0 bad epochs dropped\n",
      "Using data from preloaded Raw for 6 events and 1024 original time points ...\n",
      "0 bad epochs dropped\n",
      "Using data from preloaded Raw for 6 events and 1024 original time points ...\n",
      "0 bad epochs dropped\n",
      "Using data from preloaded Raw for 6 events and 1024 original time points ...\n",
      "0 bad epochs dropped\n",
      "Using data from preloaded Raw for 6 events and 1024 original time points ...\n",
      "0 bad epochs dropped\n",
      "Using data from preloaded Raw for 6 events and 1024 original time points ...\n",
      "0 bad epochs dropped\n",
      "Using data from preloaded Raw for 6 events and 1024 original time points ...\n",
      "0 bad epochs dropped\n",
      "Using data from preloaded Raw for 6 events and 1024 original time points ...\n",
      "0 bad epochs dropped\n",
      "Using data from preloaded Raw for 6 events and 1024 original time points ...\n",
      "0 bad epochs dropped\n",
      "Using data from preloaded Raw for 6 events and 1024 original time points ...\n",
      "0 bad epochs dropped\n",
      "Using data from preloaded Raw for 6 events and 1024 original time points ...\n",
      "0 bad epochs dropped\n",
      "Using data from preloaded Raw for 6 events and 1024 original time points ...\n",
      "0 bad epochs dropped\n",
      "Using data from preloaded Raw for 6 events and 1024 original time points ...\n",
      "0 bad epochs dropped\n",
      "Using data from preloaded Raw for 6 events and 1024 original time points ...\n",
      "0 bad epochs dropped\n",
      "Using data from preloaded Raw for 6 events and 1024 original time points ...\n",
      "0 bad epochs dropped\n",
      "Using data from preloaded Raw for 6 events and 1024 original time points ...\n",
      "0 bad epochs dropped\n",
      "Using data from preloaded Raw for 6 events and 1024 original time points ...\n",
      "0 bad epochs dropped\n",
      "Using data from preloaded Raw for 6 events and 1024 original time points ...\n",
      "0 bad epochs dropped\n",
      "Using data from preloaded Raw for 6 events and 1024 original time points ...\n",
      "0 bad epochs dropped\n",
      "Using data from preloaded Raw for 6 events and 1024 original time points ...\n",
      "0 bad epochs dropped\n",
      "Using data from preloaded Raw for 6 events and 1024 original time points ...\n",
      "0 bad epochs dropped\n",
      "Using data from preloaded Raw for 6 events and 1024 original time points ...\n",
      "0 bad epochs dropped\n",
      "Using data from preloaded Raw for 6 events and 1024 original time points ...\n",
      "0 bad epochs dropped\n",
      "Using data from preloaded Raw for 6 events and 1024 original time points ...\n",
      "0 bad epochs dropped\n",
      "Using data from preloaded Raw for 6 events and 1024 original time points ...\n",
      "0 bad epochs dropped\n",
      "Using data from preloaded Raw for 6 events and 1024 original time points ...\n",
      "0 bad epochs dropped\n",
      "Using data from preloaded Raw for 6 events and 1024 original time points ...\n",
      "0 bad epochs dropped\n",
      "Using data from preloaded Raw for 6 events and 1024 original time points ...\n",
      "0 bad epochs dropped\n",
      "Using data from preloaded Raw for 6 events and 1024 original time points ...\n",
      "Using data from preloaded Raw for 6 events and 1024 original time points ...\n",
      "Using data from preloaded Raw for 6 events and 1024 original time points ...\n",
      "Using data from preloaded Raw for 6 events and 1024 original time points ...\n",
      "Using data from preloaded Raw for 6 events and 1024 original time points ...\n",
      "Using data from preloaded Raw for 6 events and 1024 original time points ...\n",
      "Using data from preloaded Raw for 6 events and 1024 original time points ...\n",
      "Using data from preloaded Raw for 6 events and 1024 original time points ...\n",
      "Using data from preloaded Raw for 6 events and 1024 original time points ...\n",
      "Using data from preloaded Raw for 6 events and 1024 original time points ...\n",
      "Using data from preloaded Raw for 6 events and 1024 original time points ...\n",
      "Using data from preloaded Raw for 6 events and 1024 original time points ...\n",
      "Using data from preloaded Raw for 6 events and 1024 original time points ...\n",
      "Using data from preloaded Raw for 6 events and 1024 original time points ...\n",
      "Using data from preloaded Raw for 6 events and 1024 original time points ...\n",
      "Using data from preloaded Raw for 6 events and 1024 original time points ...\n",
      "Using data from preloaded Raw for 6 events and 1024 original time points ...\n",
      "Using data from preloaded Raw for 6 events and 1024 original time points ...\n",
      "Using data from preloaded Raw for 6 events and 1024 original time points ...\n",
      "Using data from preloaded Raw for 6 events and 1024 original time points ...\n",
      "Using data from preloaded Raw for 6 events and 1024 original time points ...\n",
      "Using data from preloaded Raw for 6 events and 1024 original time points ...\n",
      "Using data from preloaded Raw for 6 events and 1024 original time points ...\n",
      "Using data from preloaded Raw for 6 events and 1024 original time points ...\n",
      "Using data from preloaded Raw for 6 events and 1024 original time points ...\n",
      "Using data from preloaded Raw for 6 events and 1024 original time points ...\n",
      "Using data from preloaded Raw for 6 events and 1024 original time points ...\n",
      "Using data from preloaded Raw for 6 events and 1024 original time points ...\n",
      "Using data from preloaded Raw for 6 events and 1024 original time points ...\n",
      "Using data from preloaded Raw for 6 events and 1024 original time points ...\n",
      "Using data from preloaded Raw for 6 events and 1024 original time points ...\n",
      "Using data from preloaded Raw for 6 events and 1024 original time points ...\n",
      "Using data from preloaded Raw for 6 events and 1024 original time points ...\n",
      "Using data from preloaded Raw for 6 events and 1024 original time points ...\n",
      "Using data from preloaded Raw for 6 events and 1024 original time points ...\n",
      "Using data from preloaded Raw for 6 events and 1024 original time points ...\n",
      "Using data from preloaded Raw for 6 events and 1024 original time points ...\n",
      "Using data from preloaded Raw for 6 events and 1024 original time points ...\n",
      "Using data from preloaded Raw for 6 events and 1024 original time points ...\n",
      "Using data from preloaded Raw for 6 events and 1024 original time points ...\n",
      "Using data from preloaded Raw for 6 events and 1024 original time points ...\n",
      "Using data from preloaded Raw for 6 events and 1024 original time points ...\n",
      "Using data from preloaded Raw for 6 events and 1024 original time points ...\n",
      "Using data from preloaded Raw for 6 events and 1024 original time points ...\n",
      "Using data from preloaded Raw for 6 events and 1024 original time points ...\n",
      "Using data from preloaded Raw for 6 events and 1024 original time points ...\n",
      "Using data from preloaded Raw for 6 events and 1024 original time points ...\n",
      "Using data from preloaded Raw for 6 events and 1024 original time points ...\n",
      "Using data from preloaded Raw for 6 events and 1024 original time points ...\n",
      "Using data from preloaded Raw for 6 events and 1024 original time points ...\n",
      "Not setting metadata\n",
      "300 matching events found\n",
      "No baseline correction applied\n"
     ]
    }
   ],
   "source": [
    "\n",
    "trials = DaspsPreprocessor.get_trials(duration=8, autoreject=False)"
   ]
  },
  {
   "cell_type": "code",
   "execution_count": 17,
   "metadata": {},
   "outputs": [
    {
     "data": {
      "application/vnd.jupyter.widget-view+json": {
       "model_id": "030129314d344d1a90c57f55a5e08c7c",
       "version_major": 2,
       "version_minor": 0
      },
      "text/plain": [
       "  0%|          | 0/768 [00:00<?, ?it/s]"
      ]
     },
     "metadata": {},
     "output_type": "display_data"
    },
    {
     "name": "stdout",
     "output_type": "stream",
     "text": [
      "only using indices for lower-triangular matrix\n",
      "Connectivity computation...\n",
      "   Processing epoch 1 / 1 ...\n",
      "[Connectivity computation done]\n"
     ]
    },
    {
     "name": "stderr",
     "output_type": "stream",
     "text": [
      "/Users/jakubblaha/Documents/thesis/thesis-python/common.py:122: RuntimeWarning: There were no Annotations stored in <EpochsArray | 1 events (all good), 0 – 7.992 s (baseline off), ~134 kB, data loaded,\n",
      " '1': 1>, so metadata was not modified.\n",
      "  res = mne_connectivity.spectral_connectivity_time(\n"
     ]
    },
    {
     "name": "stdout",
     "output_type": "stream",
     "text": [
      "only using indices for lower-triangular matrix\n",
      "Connectivity computation...\n",
      "   Processing epoch 1 / 1 ...\n",
      "[Connectivity computation done]\n"
     ]
    },
    {
     "name": "stderr",
     "output_type": "stream",
     "text": [
      "/Users/jakubblaha/Documents/thesis/thesis-python/common.py:122: RuntimeWarning: There were no Annotations stored in <EpochsArray | 1 events (all good), 0 – 7.992 s (baseline off), ~134 kB, data loaded,\n",
      " '1': 1>, so metadata was not modified.\n",
      "  res = mne_connectivity.spectral_connectivity_time(\n"
     ]
    },
    {
     "name": "stdout",
     "output_type": "stream",
     "text": [
      "only using indices for lower-triangular matrix\n",
      "Connectivity computation...\n",
      "   Processing epoch 1 / 1 ...\n",
      "[Connectivity computation done]\n"
     ]
    },
    {
     "name": "stderr",
     "output_type": "stream",
     "text": [
      "/Users/jakubblaha/Documents/thesis/thesis-python/common.py:122: RuntimeWarning: There were no Annotations stored in <EpochsArray | 1 events (all good), 0 – 7.992 s (baseline off), ~134 kB, data loaded,\n",
      " '1': 1>, so metadata was not modified.\n",
      "  res = mne_connectivity.spectral_connectivity_time(\n"
     ]
    },
    {
     "name": "stdout",
     "output_type": "stream",
     "text": [
      "only using indices for lower-triangular matrix\n",
      "Connectivity computation...\n",
      "   Processing epoch 1 / 1 ...\n",
      "[Connectivity computation done]\n"
     ]
    },
    {
     "name": "stderr",
     "output_type": "stream",
     "text": [
      "/Users/jakubblaha/Documents/thesis/thesis-python/common.py:122: RuntimeWarning: There were no Annotations stored in <EpochsArray | 1 events (all good), 0 – 7.992 s (baseline off), ~134 kB, data loaded,\n",
      " '1': 1>, so metadata was not modified.\n",
      "  res = mne_connectivity.spectral_connectivity_time(\n"
     ]
    },
    {
     "name": "stdout",
     "output_type": "stream",
     "text": [
      "only using indices for lower-triangular matrix\n",
      "Connectivity computation...\n",
      "   Processing epoch 1 / 1 ...\n",
      "[Connectivity computation done]\n"
     ]
    },
    {
     "name": "stderr",
     "output_type": "stream",
     "text": [
      "/Users/jakubblaha/Documents/thesis/thesis-python/common.py:122: RuntimeWarning: There were no Annotations stored in <EpochsArray | 1 events (all good), 0 – 7.992 s (baseline off), ~134 kB, data loaded,\n",
      " '1': 1>, so metadata was not modified.\n",
      "  res = mne_connectivity.spectral_connectivity_time(\n"
     ]
    },
    {
     "name": "stdout",
     "output_type": "stream",
     "text": [
      "only using indices for lower-triangular matrix\n",
      "Connectivity computation...\n",
      "   Processing epoch 1 / 1 ...\n",
      "[Connectivity computation done]\n"
     ]
    },
    {
     "name": "stderr",
     "output_type": "stream",
     "text": [
      "/Users/jakubblaha/Documents/thesis/thesis-python/common.py:122: RuntimeWarning: There were no Annotations stored in <EpochsArray | 1 events (all good), 0 – 7.992 s (baseline off), ~134 kB, data loaded,\n",
      " '1': 1>, so metadata was not modified.\n",
      "  res = mne_connectivity.spectral_connectivity_time(\n"
     ]
    },
    {
     "name": "stdout",
     "output_type": "stream",
     "text": [
      "only using indices for lower-triangular matrix\n",
      "Connectivity computation...\n",
      "   Processing epoch 1 / 1 ...\n",
      "[Connectivity computation done]\n"
     ]
    },
    {
     "name": "stderr",
     "output_type": "stream",
     "text": [
      "/Users/jakubblaha/Documents/thesis/thesis-python/common.py:122: RuntimeWarning: There were no Annotations stored in <EpochsArray | 1 events (all good), 0 – 7.992 s (baseline off), ~134 kB, data loaded,\n",
      " '1': 1>, so metadata was not modified.\n",
      "  res = mne_connectivity.spectral_connectivity_time(\n"
     ]
    },
    {
     "name": "stdout",
     "output_type": "stream",
     "text": [
      "only using indices for lower-triangular matrix\n",
      "Connectivity computation...\n",
      "   Processing epoch 1 / 1 ...\n"
     ]
    },
    {
     "name": "stderr",
     "output_type": "stream",
     "text": [
      "/Users/jakubblaha/Documents/thesis/thesis-python/common.py:122: RuntimeWarning: There were no Annotations stored in <EpochsArray | 1 events (all good), 0 – 7.992 s (baseline off), ~134 kB, data loaded,\n",
      " '1': 1>, so metadata was not modified.\n",
      "  res = mne_connectivity.spectral_connectivity_time(\n"
     ]
    },
    {
     "name": "stdout",
     "output_type": "stream",
     "text": [
      "[Connectivity computation done]\n",
      "only using indices for lower-triangular matrix\n",
      "Connectivity computation...\n",
      "   Processing epoch 1 / 1 ...\n",
      "[Connectivity computation done]\n"
     ]
    },
    {
     "name": "stderr",
     "output_type": "stream",
     "text": [
      "/Users/jakubblaha/Documents/thesis/thesis-python/common.py:122: RuntimeWarning: There were no Annotations stored in <EpochsArray | 1 events (all good), 0 – 7.992 s (baseline off), ~134 kB, data loaded,\n",
      " '1': 1>, so metadata was not modified.\n",
      "  res = mne_connectivity.spectral_connectivity_time(\n"
     ]
    },
    {
     "name": "stdout",
     "output_type": "stream",
     "text": [
      "only using indices for lower-triangular matrix\n",
      "Connectivity computation...\n",
      "   Processing epoch 1 / 1 ...\n",
      "[Connectivity computation done]\n"
     ]
    },
    {
     "name": "stderr",
     "output_type": "stream",
     "text": [
      "/Users/jakubblaha/Documents/thesis/thesis-python/common.py:122: RuntimeWarning: There were no Annotations stored in <EpochsArray | 1 events (all good), 0 – 7.992 s (baseline off), ~134 kB, data loaded,\n",
      " '1': 1>, so metadata was not modified.\n",
      "  res = mne_connectivity.spectral_connectivity_time(\n"
     ]
    },
    {
     "name": "stdout",
     "output_type": "stream",
     "text": [
      "only using indices for lower-triangular matrix\n",
      "Connectivity computation...\n",
      "   Processing epoch 1 / 1 ...\n",
      "[Connectivity computation done]\n"
     ]
    },
    {
     "name": "stderr",
     "output_type": "stream",
     "text": [
      "/Users/jakubblaha/Documents/thesis/thesis-python/common.py:122: RuntimeWarning: There were no Annotations stored in <EpochsArray | 1 events (all good), 0 – 7.992 s (baseline off), ~134 kB, data loaded,\n",
      " '1': 1>, so metadata was not modified.\n",
      "  res = mne_connectivity.spectral_connectivity_time(\n"
     ]
    },
    {
     "name": "stdout",
     "output_type": "stream",
     "text": [
      "only using indices for lower-triangular matrix\n",
      "Connectivity computation...\n",
      "   Processing epoch 1 / 1 ...\n",
      "[Connectivity computation done]\n"
     ]
    },
    {
     "name": "stderr",
     "output_type": "stream",
     "text": [
      "/Users/jakubblaha/Documents/thesis/thesis-python/common.py:122: RuntimeWarning: There were no Annotations stored in <EpochsArray | 1 events (all good), 0 – 7.992 s (baseline off), ~134 kB, data loaded,\n",
      " '1': 1>, so metadata was not modified.\n",
      "  res = mne_connectivity.spectral_connectivity_time(\n"
     ]
    },
    {
     "name": "stdout",
     "output_type": "stream",
     "text": [
      "only using indices for lower-triangular matrix\n",
      "Connectivity computation...\n",
      "   Processing epoch 1 / 1 ...\n",
      "[Connectivity computation done]\n"
     ]
    },
    {
     "name": "stderr",
     "output_type": "stream",
     "text": [
      "/Users/jakubblaha/Documents/thesis/thesis-python/common.py:122: RuntimeWarning: There were no Annotations stored in <EpochsArray | 1 events (all good), 0 – 7.992 s (baseline off), ~134 kB, data loaded,\n",
      " '1': 1>, so metadata was not modified.\n",
      "  res = mne_connectivity.spectral_connectivity_time(\n"
     ]
    },
    {
     "name": "stdout",
     "output_type": "stream",
     "text": [
      "only using indices for lower-triangular matrix\n",
      "Connectivity computation...\n",
      "   Processing epoch 1 / 1 ...\n"
     ]
    },
    {
     "name": "stderr",
     "output_type": "stream",
     "text": [
      "/Users/jakubblaha/Documents/thesis/thesis-python/common.py:122: RuntimeWarning: There were no Annotations stored in <EpochsArray | 1 events (all good), 0 – 7.992 s (baseline off), ~134 kB, data loaded,\n",
      " '1': 1>, so metadata was not modified.\n",
      "  res = mne_connectivity.spectral_connectivity_time(\n"
     ]
    },
    {
     "name": "stdout",
     "output_type": "stream",
     "text": [
      "[Connectivity computation done]\n",
      "only using indices for lower-triangular matrix\n",
      "Connectivity computation...\n",
      "   Processing epoch 1 / 1 ...\n",
      "[Connectivity computation done]\n"
     ]
    },
    {
     "name": "stderr",
     "output_type": "stream",
     "text": [
      "/Users/jakubblaha/Documents/thesis/thesis-python/common.py:122: RuntimeWarning: There were no Annotations stored in <EpochsArray | 1 events (all good), 0 – 7.992 s (baseline off), ~134 kB, data loaded,\n",
      " '1': 1>, so metadata was not modified.\n",
      "  res = mne_connectivity.spectral_connectivity_time(\n"
     ]
    },
    {
     "name": "stdout",
     "output_type": "stream",
     "text": [
      "only using indices for lower-triangular matrix\n",
      "Connectivity computation...\n",
      "   Processing epoch 1 / 1 ...\n",
      "[Connectivity computation done]\n"
     ]
    },
    {
     "name": "stderr",
     "output_type": "stream",
     "text": [
      "/Users/jakubblaha/Documents/thesis/thesis-python/common.py:122: RuntimeWarning: There were no Annotations stored in <EpochsArray | 1 events (all good), 0 – 7.992 s (baseline off), ~134 kB, data loaded,\n",
      " '1': 1>, so metadata was not modified.\n",
      "  res = mne_connectivity.spectral_connectivity_time(\n"
     ]
    },
    {
     "name": "stdout",
     "output_type": "stream",
     "text": [
      "only using indices for lower-triangular matrix\n",
      "Connectivity computation...\n",
      "   Processing epoch 1 / 1 ...\n",
      "[Connectivity computation done]\n"
     ]
    },
    {
     "name": "stderr",
     "output_type": "stream",
     "text": [
      "/Users/jakubblaha/Documents/thesis/thesis-python/common.py:122: RuntimeWarning: There were no Annotations stored in <EpochsArray | 1 events (all good), 0 – 7.992 s (baseline off), ~134 kB, data loaded,\n",
      " '1': 1>, so metadata was not modified.\n",
      "  res = mne_connectivity.spectral_connectivity_time(\n"
     ]
    },
    {
     "name": "stdout",
     "output_type": "stream",
     "text": [
      "only using indices for lower-triangular matrix\n",
      "Connectivity computation...\n",
      "   Processing epoch 1 / 1 ...\n",
      "[Connectivity computation done]\n"
     ]
    },
    {
     "name": "stderr",
     "output_type": "stream",
     "text": [
      "/Users/jakubblaha/Documents/thesis/thesis-python/common.py:122: RuntimeWarning: There were no Annotations stored in <EpochsArray | 1 events (all good), 0 – 7.992 s (baseline off), ~134 kB, data loaded,\n",
      " '1': 1>, so metadata was not modified.\n",
      "  res = mne_connectivity.spectral_connectivity_time(\n"
     ]
    },
    {
     "name": "stdout",
     "output_type": "stream",
     "text": [
      "only using indices for lower-triangular matrix\n",
      "Connectivity computation...\n",
      "   Processing epoch 1 / 1 ...\n",
      "[Connectivity computation done]\n"
     ]
    },
    {
     "name": "stderr",
     "output_type": "stream",
     "text": [
      "/Users/jakubblaha/Documents/thesis/thesis-python/common.py:122: RuntimeWarning: There were no Annotations stored in <EpochsArray | 1 events (all good), 0 – 7.992 s (baseline off), ~134 kB, data loaded,\n",
      " '1': 1>, so metadata was not modified.\n",
      "  res = mne_connectivity.spectral_connectivity_time(\n"
     ]
    },
    {
     "name": "stdout",
     "output_type": "stream",
     "text": [
      "only using indices for lower-triangular matrix\n",
      "Connectivity computation...\n",
      "   Processing epoch 1 / 1 ...\n"
     ]
    },
    {
     "name": "stderr",
     "output_type": "stream",
     "text": [
      "/Users/jakubblaha/Documents/thesis/thesis-python/common.py:122: RuntimeWarning: There were no Annotations stored in <EpochsArray | 1 events (all good), 0 – 7.992 s (baseline off), ~134 kB, data loaded,\n",
      " '1': 1>, so metadata was not modified.\n",
      "  res = mne_connectivity.spectral_connectivity_time(\n"
     ]
    },
    {
     "name": "stdout",
     "output_type": "stream",
     "text": [
      "[Connectivity computation done]\n",
      "only using indices for lower-triangular matrix\n",
      "Connectivity computation...\n",
      "   Processing epoch 1 / 1 ...\n",
      "[Connectivity computation done]\n"
     ]
    },
    {
     "name": "stderr",
     "output_type": "stream",
     "text": [
      "/Users/jakubblaha/Documents/thesis/thesis-python/common.py:122: RuntimeWarning: There were no Annotations stored in <EpochsArray | 1 events (all good), 0 – 7.992 s (baseline off), ~134 kB, data loaded,\n",
      " '1': 1>, so metadata was not modified.\n",
      "  res = mne_connectivity.spectral_connectivity_time(\n"
     ]
    },
    {
     "name": "stdout",
     "output_type": "stream",
     "text": [
      "only using indices for lower-triangular matrix\n",
      "Connectivity computation...\n",
      "   Processing epoch 1 / 1 ...\n",
      "[Connectivity computation done]\n"
     ]
    },
    {
     "name": "stderr",
     "output_type": "stream",
     "text": [
      "/Users/jakubblaha/Documents/thesis/thesis-python/common.py:122: RuntimeWarning: There were no Annotations stored in <EpochsArray | 1 events (all good), 0 – 7.992 s (baseline off), ~134 kB, data loaded,\n",
      " '1': 1>, so metadata was not modified.\n",
      "  res = mne_connectivity.spectral_connectivity_time(\n"
     ]
    },
    {
     "name": "stdout",
     "output_type": "stream",
     "text": [
      "only using indices for lower-triangular matrix\n",
      "Connectivity computation...\n",
      "   Processing epoch 1 / 1 ...\n",
      "[Connectivity computation done]\n"
     ]
    },
    {
     "name": "stderr",
     "output_type": "stream",
     "text": [
      "/Users/jakubblaha/Documents/thesis/thesis-python/common.py:122: RuntimeWarning: There were no Annotations stored in <EpochsArray | 1 events (all good), 0 – 7.992 s (baseline off), ~134 kB, data loaded,\n",
      " '1': 1>, so metadata was not modified.\n",
      "  res = mne_connectivity.spectral_connectivity_time(\n"
     ]
    },
    {
     "name": "stdout",
     "output_type": "stream",
     "text": [
      "only using indices for lower-triangular matrix\n",
      "Connectivity computation...\n",
      "   Processing epoch 1 / 1 ...\n",
      "[Connectivity computation done]\n"
     ]
    },
    {
     "name": "stderr",
     "output_type": "stream",
     "text": [
      "/Users/jakubblaha/Documents/thesis/thesis-python/common.py:122: RuntimeWarning: There were no Annotations stored in <EpochsArray | 1 events (all good), 0 – 7.992 s (baseline off), ~134 kB, data loaded,\n",
      " '1': 1>, so metadata was not modified.\n",
      "  res = mne_connectivity.spectral_connectivity_time(\n"
     ]
    },
    {
     "name": "stdout",
     "output_type": "stream",
     "text": [
      "only using indices for lower-triangular matrix\n",
      "Connectivity computation...\n",
      "   Processing epoch 1 / 1 ...\n",
      "[Connectivity computation done]\n"
     ]
    },
    {
     "name": "stderr",
     "output_type": "stream",
     "text": [
      "/Users/jakubblaha/Documents/thesis/thesis-python/common.py:122: RuntimeWarning: There were no Annotations stored in <EpochsArray | 1 events (all good), 0 – 7.992 s (baseline off), ~134 kB, data loaded,\n",
      " '1': 1>, so metadata was not modified.\n",
      "  res = mne_connectivity.spectral_connectivity_time(\n"
     ]
    },
    {
     "name": "stdout",
     "output_type": "stream",
     "text": [
      "only using indices for lower-triangular matrix\n",
      "Connectivity computation...\n",
      "   Processing epoch 1 / 1 ...\n"
     ]
    },
    {
     "name": "stderr",
     "output_type": "stream",
     "text": [
      "/Users/jakubblaha/Documents/thesis/thesis-python/common.py:122: RuntimeWarning: There were no Annotations stored in <EpochsArray | 1 events (all good), 0 – 7.992 s (baseline off), ~134 kB, data loaded,\n",
      " '1': 1>, so metadata was not modified.\n",
      "  res = mne_connectivity.spectral_connectivity_time(\n"
     ]
    },
    {
     "name": "stdout",
     "output_type": "stream",
     "text": [
      "[Connectivity computation done]\n",
      "only using indices for lower-triangular matrix\n",
      "Connectivity computation...\n",
      "   Processing epoch 1 / 1 ...\n",
      "[Connectivity computation done]\n"
     ]
    },
    {
     "name": "stderr",
     "output_type": "stream",
     "text": [
      "/Users/jakubblaha/Documents/thesis/thesis-python/common.py:122: RuntimeWarning: There were no Annotations stored in <EpochsArray | 1 events (all good), 0 – 7.992 s (baseline off), ~134 kB, data loaded,\n",
      " '1': 1>, so metadata was not modified.\n",
      "  res = mne_connectivity.spectral_connectivity_time(\n"
     ]
    },
    {
     "name": "stdout",
     "output_type": "stream",
     "text": [
      "only using indices for lower-triangular matrix\n",
      "Connectivity computation...\n",
      "   Processing epoch 1 / 1 ...\n",
      "[Connectivity computation done]\n"
     ]
    },
    {
     "name": "stderr",
     "output_type": "stream",
     "text": [
      "/Users/jakubblaha/Documents/thesis/thesis-python/common.py:122: RuntimeWarning: There were no Annotations stored in <EpochsArray | 1 events (all good), 0 – 7.992 s (baseline off), ~134 kB, data loaded,\n",
      " '1': 1>, so metadata was not modified.\n",
      "  res = mne_connectivity.spectral_connectivity_time(\n"
     ]
    },
    {
     "name": "stdout",
     "output_type": "stream",
     "text": [
      "only using indices for lower-triangular matrix\n",
      "Connectivity computation...\n",
      "   Processing epoch 1 / 1 ...\n",
      "[Connectivity computation done]\n"
     ]
    },
    {
     "name": "stderr",
     "output_type": "stream",
     "text": [
      "/Users/jakubblaha/Documents/thesis/thesis-python/common.py:122: RuntimeWarning: There were no Annotations stored in <EpochsArray | 1 events (all good), 0 – 7.992 s (baseline off), ~134 kB, data loaded,\n",
      " '1': 1>, so metadata was not modified.\n",
      "  res = mne_connectivity.spectral_connectivity_time(\n"
     ]
    },
    {
     "name": "stdout",
     "output_type": "stream",
     "text": [
      "only using indices for lower-triangular matrix\n",
      "Connectivity computation...\n",
      "   Processing epoch 1 / 1 ...\n",
      "[Connectivity computation done]\n"
     ]
    },
    {
     "name": "stderr",
     "output_type": "stream",
     "text": [
      "/Users/jakubblaha/Documents/thesis/thesis-python/common.py:122: RuntimeWarning: There were no Annotations stored in <EpochsArray | 1 events (all good), 0 – 7.992 s (baseline off), ~134 kB, data loaded,\n",
      " '1': 1>, so metadata was not modified.\n",
      "  res = mne_connectivity.spectral_connectivity_time(\n"
     ]
    },
    {
     "name": "stdout",
     "output_type": "stream",
     "text": [
      "only using indices for lower-triangular matrix\n",
      "Connectivity computation...\n",
      "   Processing epoch 1 / 1 ...\n"
     ]
    },
    {
     "name": "stderr",
     "output_type": "stream",
     "text": [
      "/Users/jakubblaha/Documents/thesis/thesis-python/common.py:122: RuntimeWarning: There were no Annotations stored in <EpochsArray | 1 events (all good), 0 – 7.992 s (baseline off), ~134 kB, data loaded,\n",
      " '1': 1>, so metadata was not modified.\n",
      "  res = mne_connectivity.spectral_connectivity_time(\n"
     ]
    },
    {
     "name": "stdout",
     "output_type": "stream",
     "text": [
      "[Connectivity computation done]\n",
      "only using indices for lower-triangular matrix\n",
      "Connectivity computation...\n",
      "   Processing epoch 1 / 1 ...\n",
      "[Connectivity computation done]\n"
     ]
    },
    {
     "name": "stderr",
     "output_type": "stream",
     "text": [
      "/Users/jakubblaha/Documents/thesis/thesis-python/common.py:122: RuntimeWarning: There were no Annotations stored in <EpochsArray | 1 events (all good), 0 – 7.992 s (baseline off), ~134 kB, data loaded,\n",
      " '1': 1>, so metadata was not modified.\n",
      "  res = mne_connectivity.spectral_connectivity_time(\n"
     ]
    },
    {
     "name": "stdout",
     "output_type": "stream",
     "text": [
      "only using indices for lower-triangular matrix\n",
      "Connectivity computation...\n",
      "   Processing epoch 1 / 1 ...\n",
      "[Connectivity computation done]\n"
     ]
    },
    {
     "name": "stderr",
     "output_type": "stream",
     "text": [
      "/Users/jakubblaha/Documents/thesis/thesis-python/common.py:122: RuntimeWarning: There were no Annotations stored in <EpochsArray | 1 events (all good), 0 – 7.992 s (baseline off), ~134 kB, data loaded,\n",
      " '1': 1>, so metadata was not modified.\n",
      "  res = mne_connectivity.spectral_connectivity_time(\n"
     ]
    },
    {
     "name": "stdout",
     "output_type": "stream",
     "text": [
      "only using indices for lower-triangular matrix\n",
      "Connectivity computation...\n",
      "   Processing epoch 1 / 1 ...\n",
      "[Connectivity computation done]\n"
     ]
    },
    {
     "name": "stderr",
     "output_type": "stream",
     "text": [
      "/Users/jakubblaha/Documents/thesis/thesis-python/common.py:122: RuntimeWarning: There were no Annotations stored in <EpochsArray | 1 events (all good), 0 – 7.992 s (baseline off), ~134 kB, data loaded,\n",
      " '1': 1>, so metadata was not modified.\n",
      "  res = mne_connectivity.spectral_connectivity_time(\n"
     ]
    },
    {
     "name": "stdout",
     "output_type": "stream",
     "text": [
      "only using indices for lower-triangular matrix\n",
      "Connectivity computation...\n",
      "   Processing epoch 1 / 1 ...\n",
      "[Connectivity computation done]\n"
     ]
    },
    {
     "name": "stderr",
     "output_type": "stream",
     "text": [
      "/Users/jakubblaha/Documents/thesis/thesis-python/common.py:122: RuntimeWarning: There were no Annotations stored in <EpochsArray | 1 events (all good), 0 – 7.992 s (baseline off), ~134 kB, data loaded,\n",
      " '1': 1>, so metadata was not modified.\n",
      "  res = mne_connectivity.spectral_connectivity_time(\n"
     ]
    },
    {
     "name": "stdout",
     "output_type": "stream",
     "text": [
      "only using indices for lower-triangular matrix\n",
      "Connectivity computation...\n",
      "   Processing epoch 1 / 1 ...\n",
      "[Connectivity computation done]\n"
     ]
    },
    {
     "name": "stderr",
     "output_type": "stream",
     "text": [
      "/Users/jakubblaha/Documents/thesis/thesis-python/common.py:122: RuntimeWarning: There were no Annotations stored in <EpochsArray | 1 events (all good), 0 – 7.992 s (baseline off), ~134 kB, data loaded,\n",
      " '1': 1>, so metadata was not modified.\n",
      "  res = mne_connectivity.spectral_connectivity_time(\n"
     ]
    },
    {
     "name": "stdout",
     "output_type": "stream",
     "text": [
      "only using indices for lower-triangular matrix\n",
      "Connectivity computation...\n",
      "   Processing epoch 1 / 1 ...\n"
     ]
    },
    {
     "name": "stderr",
     "output_type": "stream",
     "text": [
      "/Users/jakubblaha/Documents/thesis/thesis-python/common.py:122: RuntimeWarning: There were no Annotations stored in <EpochsArray | 1 events (all good), 0 – 7.992 s (baseline off), ~134 kB, data loaded,\n",
      " '1': 1>, so metadata was not modified.\n",
      "  res = mne_connectivity.spectral_connectivity_time(\n"
     ]
    },
    {
     "name": "stdout",
     "output_type": "stream",
     "text": [
      "[Connectivity computation done]\n",
      "only using indices for lower-triangular matrix\n",
      "Connectivity computation...\n",
      "   Processing epoch 1 / 1 ...\n",
      "[Connectivity computation done]\n"
     ]
    },
    {
     "name": "stderr",
     "output_type": "stream",
     "text": [
      "/Users/jakubblaha/Documents/thesis/thesis-python/common.py:122: RuntimeWarning: There were no Annotations stored in <EpochsArray | 1 events (all good), 0 – 7.992 s (baseline off), ~134 kB, data loaded,\n",
      " '1': 1>, so metadata was not modified.\n",
      "  res = mne_connectivity.spectral_connectivity_time(\n"
     ]
    },
    {
     "name": "stdout",
     "output_type": "stream",
     "text": [
      "only using indices for lower-triangular matrix\n",
      "Connectivity computation...\n",
      "   Processing epoch 1 / 1 ...\n",
      "[Connectivity computation done]\n"
     ]
    },
    {
     "name": "stderr",
     "output_type": "stream",
     "text": [
      "/Users/jakubblaha/Documents/thesis/thesis-python/common.py:122: RuntimeWarning: There were no Annotations stored in <EpochsArray | 1 events (all good), 0 – 7.992 s (baseline off), ~134 kB, data loaded,\n",
      " '1': 1>, so metadata was not modified.\n",
      "  res = mne_connectivity.spectral_connectivity_time(\n"
     ]
    },
    {
     "name": "stdout",
     "output_type": "stream",
     "text": [
      "only using indices for lower-triangular matrix\n",
      "Connectivity computation...\n",
      "   Processing epoch 1 / 1 ...\n",
      "[Connectivity computation done]\n"
     ]
    },
    {
     "name": "stderr",
     "output_type": "stream",
     "text": [
      "/Users/jakubblaha/Documents/thesis/thesis-python/common.py:122: RuntimeWarning: There were no Annotations stored in <EpochsArray | 1 events (all good), 0 – 7.992 s (baseline off), ~134 kB, data loaded,\n",
      " '1': 1>, so metadata was not modified.\n",
      "  res = mne_connectivity.spectral_connectivity_time(\n"
     ]
    },
    {
     "name": "stdout",
     "output_type": "stream",
     "text": [
      "only using indices for lower-triangular matrix\n",
      "Connectivity computation...\n",
      "   Processing epoch 1 / 1 ...\n",
      "[Connectivity computation done]\n"
     ]
    },
    {
     "name": "stderr",
     "output_type": "stream",
     "text": [
      "/Users/jakubblaha/Documents/thesis/thesis-python/common.py:122: RuntimeWarning: There were no Annotations stored in <EpochsArray | 1 events (all good), 0 – 7.992 s (baseline off), ~134 kB, data loaded,\n",
      " '1': 1>, so metadata was not modified.\n",
      "  res = mne_connectivity.spectral_connectivity_time(\n"
     ]
    },
    {
     "name": "stdout",
     "output_type": "stream",
     "text": [
      "only using indices for lower-triangular matrix\n",
      "Connectivity computation...\n",
      "   Processing epoch 1 / 1 ...\n",
      "[Connectivity computation done]\n"
     ]
    },
    {
     "name": "stderr",
     "output_type": "stream",
     "text": [
      "/Users/jakubblaha/Documents/thesis/thesis-python/common.py:122: RuntimeWarning: There were no Annotations stored in <EpochsArray | 1 events (all good), 0 – 7.992 s (baseline off), ~134 kB, data loaded,\n",
      " '1': 1>, so metadata was not modified.\n",
      "  res = mne_connectivity.spectral_connectivity_time(\n"
     ]
    },
    {
     "name": "stdout",
     "output_type": "stream",
     "text": [
      "only using indices for lower-triangular matrix\n",
      "Connectivity computation...\n",
      "   Processing epoch 1 / 1 ...\n"
     ]
    },
    {
     "name": "stderr",
     "output_type": "stream",
     "text": [
      "/Users/jakubblaha/Documents/thesis/thesis-python/common.py:122: RuntimeWarning: There were no Annotations stored in <EpochsArray | 1 events (all good), 0 – 7.992 s (baseline off), ~134 kB, data loaded,\n",
      " '1': 1>, so metadata was not modified.\n",
      "  res = mne_connectivity.spectral_connectivity_time(\n"
     ]
    },
    {
     "name": "stdout",
     "output_type": "stream",
     "text": [
      "[Connectivity computation done]\n",
      "only using indices for lower-triangular matrix\n",
      "Connectivity computation...\n",
      "   Processing epoch 1 / 1 ...\n",
      "[Connectivity computation done]\n"
     ]
    },
    {
     "name": "stderr",
     "output_type": "stream",
     "text": [
      "/Users/jakubblaha/Documents/thesis/thesis-python/common.py:122: RuntimeWarning: There were no Annotations stored in <EpochsArray | 1 events (all good), 0 – 7.992 s (baseline off), ~134 kB, data loaded,\n",
      " '1': 1>, so metadata was not modified.\n",
      "  res = mne_connectivity.spectral_connectivity_time(\n"
     ]
    },
    {
     "name": "stdout",
     "output_type": "stream",
     "text": [
      "only using indices for lower-triangular matrix\n",
      "Connectivity computation...\n",
      "   Processing epoch 1 / 1 ...\n",
      "[Connectivity computation done]\n"
     ]
    },
    {
     "name": "stderr",
     "output_type": "stream",
     "text": [
      "/Users/jakubblaha/Documents/thesis/thesis-python/common.py:122: RuntimeWarning: There were no Annotations stored in <EpochsArray | 1 events (all good), 0 – 7.992 s (baseline off), ~134 kB, data loaded,\n",
      " '1': 1>, so metadata was not modified.\n",
      "  res = mne_connectivity.spectral_connectivity_time(\n"
     ]
    },
    {
     "name": "stdout",
     "output_type": "stream",
     "text": [
      "only using indices for lower-triangular matrix\n",
      "Connectivity computation...\n",
      "   Processing epoch 1 / 1 ...\n",
      "[Connectivity computation done]\n"
     ]
    },
    {
     "name": "stderr",
     "output_type": "stream",
     "text": [
      "/Users/jakubblaha/Documents/thesis/thesis-python/common.py:122: RuntimeWarning: There were no Annotations stored in <EpochsArray | 1 events (all good), 0 – 7.992 s (baseline off), ~134 kB, data loaded,\n",
      " '1': 1>, so metadata was not modified.\n",
      "  res = mne_connectivity.spectral_connectivity_time(\n"
     ]
    },
    {
     "name": "stdout",
     "output_type": "stream",
     "text": [
      "only using indices for lower-triangular matrix\n",
      "Connectivity computation...\n",
      "   Processing epoch 1 / 1 ...\n",
      "[Connectivity computation done]\n"
     ]
    },
    {
     "name": "stderr",
     "output_type": "stream",
     "text": [
      "/Users/jakubblaha/Documents/thesis/thesis-python/common.py:122: RuntimeWarning: There were no Annotations stored in <EpochsArray | 1 events (all good), 0 – 7.992 s (baseline off), ~134 kB, data loaded,\n",
      " '1': 1>, so metadata was not modified.\n",
      "  res = mne_connectivity.spectral_connectivity_time(\n"
     ]
    },
    {
     "name": "stdout",
     "output_type": "stream",
     "text": [
      "only using indices for lower-triangular matrix\n",
      "Connectivity computation...\n",
      "   Processing epoch 1 / 1 ...\n",
      "[Connectivity computation done]\n"
     ]
    },
    {
     "name": "stderr",
     "output_type": "stream",
     "text": [
      "/Users/jakubblaha/Documents/thesis/thesis-python/common.py:122: RuntimeWarning: There were no Annotations stored in <EpochsArray | 1 events (all good), 0 – 7.992 s (baseline off), ~134 kB, data loaded,\n",
      " '1': 1>, so metadata was not modified.\n",
      "  res = mne_connectivity.spectral_connectivity_time(\n"
     ]
    },
    {
     "name": "stdout",
     "output_type": "stream",
     "text": [
      "only using indices for lower-triangular matrix\n",
      "Connectivity computation...\n",
      "   Processing epoch 1 / 1 ...\n",
      "[Connectivity computation done]\n"
     ]
    },
    {
     "name": "stderr",
     "output_type": "stream",
     "text": [
      "/Users/jakubblaha/Documents/thesis/thesis-python/common.py:122: RuntimeWarning: There were no Annotations stored in <EpochsArray | 1 events (all good), 0 – 7.992 s (baseline off), ~134 kB, data loaded,\n",
      " '1': 1>, so metadata was not modified.\n",
      "  res = mne_connectivity.spectral_connectivity_time(\n"
     ]
    },
    {
     "name": "stdout",
     "output_type": "stream",
     "text": [
      "only using indices for lower-triangular matrix\n",
      "Connectivity computation...\n",
      "   Processing epoch 1 / 1 ...\n",
      "[Connectivity computation done]\n"
     ]
    },
    {
     "name": "stderr",
     "output_type": "stream",
     "text": [
      "/Users/jakubblaha/Documents/thesis/thesis-python/common.py:122: RuntimeWarning: There were no Annotations stored in <EpochsArray | 1 events (all good), 0 – 7.992 s (baseline off), ~134 kB, data loaded,\n",
      " '1': 1>, so metadata was not modified.\n",
      "  res = mne_connectivity.spectral_connectivity_time(\n"
     ]
    },
    {
     "name": "stdout",
     "output_type": "stream",
     "text": [
      "only using indices for lower-triangular matrix\n",
      "Connectivity computation...\n",
      "   Processing epoch 1 / 1 ...\n",
      "[Connectivity computation done]\n"
     ]
    },
    {
     "name": "stderr",
     "output_type": "stream",
     "text": [
      "/Users/jakubblaha/Documents/thesis/thesis-python/common.py:122: RuntimeWarning: There were no Annotations stored in <EpochsArray | 1 events (all good), 0 – 7.992 s (baseline off), ~134 kB, data loaded,\n",
      " '1': 1>, so metadata was not modified.\n",
      "  res = mne_connectivity.spectral_connectivity_time(\n"
     ]
    },
    {
     "name": "stdout",
     "output_type": "stream",
     "text": [
      "only using indices for lower-triangular matrix\n",
      "Connectivity computation...\n",
      "   Processing epoch 1 / 1 ...\n",
      "[Connectivity computation done]\n"
     ]
    },
    {
     "name": "stderr",
     "output_type": "stream",
     "text": [
      "/Users/jakubblaha/Documents/thesis/thesis-python/common.py:122: RuntimeWarning: There were no Annotations stored in <EpochsArray | 1 events (all good), 0 – 7.992 s (baseline off), ~134 kB, data loaded,\n",
      " '1': 1>, so metadata was not modified.\n",
      "  res = mne_connectivity.spectral_connectivity_time(\n"
     ]
    },
    {
     "name": "stdout",
     "output_type": "stream",
     "text": [
      "only using indices for lower-triangular matrix\n",
      "Connectivity computation...\n",
      "   Processing epoch 1 / 1 ...\n",
      "[Connectivity computation done]\n"
     ]
    },
    {
     "name": "stderr",
     "output_type": "stream",
     "text": [
      "/Users/jakubblaha/Documents/thesis/thesis-python/common.py:122: RuntimeWarning: There were no Annotations stored in <EpochsArray | 1 events (all good), 0 – 7.992 s (baseline off), ~134 kB, data loaded,\n",
      " '1': 1>, so metadata was not modified.\n",
      "  res = mne_connectivity.spectral_connectivity_time(\n"
     ]
    },
    {
     "name": "stdout",
     "output_type": "stream",
     "text": [
      "only using indices for lower-triangular matrix\n",
      "Connectivity computation...\n",
      "   Processing epoch 1 / 1 ...\n",
      "[Connectivity computation done]\n"
     ]
    },
    {
     "name": "stderr",
     "output_type": "stream",
     "text": [
      "/Users/jakubblaha/Documents/thesis/thesis-python/common.py:122: RuntimeWarning: There were no Annotations stored in <EpochsArray | 1 events (all good), 0 – 7.992 s (baseline off), ~134 kB, data loaded,\n",
      " '1': 1>, so metadata was not modified.\n",
      "  res = mne_connectivity.spectral_connectivity_time(\n"
     ]
    },
    {
     "name": "stdout",
     "output_type": "stream",
     "text": [
      "only using indices for lower-triangular matrix\n",
      "Connectivity computation...\n",
      "   Processing epoch 1 / 1 ...\n"
     ]
    },
    {
     "name": "stderr",
     "output_type": "stream",
     "text": [
      "/Users/jakubblaha/Documents/thesis/thesis-python/common.py:122: RuntimeWarning: There were no Annotations stored in <EpochsArray | 1 events (all good), 0 – 7.992 s (baseline off), ~134 kB, data loaded,\n",
      " '1': 1>, so metadata was not modified.\n",
      "  res = mne_connectivity.spectral_connectivity_time(\n"
     ]
    },
    {
     "name": "stdout",
     "output_type": "stream",
     "text": [
      "[Connectivity computation done]\n",
      "only using indices for lower-triangular matrix\n",
      "Connectivity computation...\n",
      "   Processing epoch 1 / 1 ...\n",
      "[Connectivity computation done]\n"
     ]
    },
    {
     "name": "stderr",
     "output_type": "stream",
     "text": [
      "/Users/jakubblaha/Documents/thesis/thesis-python/common.py:122: RuntimeWarning: There were no Annotations stored in <EpochsArray | 1 events (all good), 0 – 7.992 s (baseline off), ~134 kB, data loaded,\n",
      " '1': 1>, so metadata was not modified.\n",
      "  res = mne_connectivity.spectral_connectivity_time(\n"
     ]
    },
    {
     "name": "stdout",
     "output_type": "stream",
     "text": [
      "only using indices for lower-triangular matrix\n",
      "Connectivity computation...\n",
      "   Processing epoch 1 / 1 ...\n",
      "[Connectivity computation done]\n"
     ]
    },
    {
     "name": "stderr",
     "output_type": "stream",
     "text": [
      "/Users/jakubblaha/Documents/thesis/thesis-python/common.py:122: RuntimeWarning: There were no Annotations stored in <EpochsArray | 1 events (all good), 0 – 7.992 s (baseline off), ~134 kB, data loaded,\n",
      " '1': 1>, so metadata was not modified.\n",
      "  res = mne_connectivity.spectral_connectivity_time(\n"
     ]
    },
    {
     "name": "stdout",
     "output_type": "stream",
     "text": [
      "only using indices for lower-triangular matrix\n",
      "Connectivity computation...\n",
      "   Processing epoch 1 / 1 ...\n",
      "[Connectivity computation done]\n"
     ]
    },
    {
     "name": "stderr",
     "output_type": "stream",
     "text": [
      "/Users/jakubblaha/Documents/thesis/thesis-python/common.py:122: RuntimeWarning: There were no Annotations stored in <EpochsArray | 1 events (all good), 0 – 7.992 s (baseline off), ~134 kB, data loaded,\n",
      " '1': 1>, so metadata was not modified.\n",
      "  res = mne_connectivity.spectral_connectivity_time(\n"
     ]
    },
    {
     "name": "stdout",
     "output_type": "stream",
     "text": [
      "only using indices for lower-triangular matrix\n",
      "Connectivity computation...\n",
      "   Processing epoch 1 / 1 ...\n",
      "[Connectivity computation done]\n"
     ]
    },
    {
     "name": "stderr",
     "output_type": "stream",
     "text": [
      "/Users/jakubblaha/Documents/thesis/thesis-python/common.py:122: RuntimeWarning: There were no Annotations stored in <EpochsArray | 1 events (all good), 0 – 7.992 s (baseline off), ~134 kB, data loaded,\n",
      " '1': 1>, so metadata was not modified.\n",
      "  res = mne_connectivity.spectral_connectivity_time(\n"
     ]
    },
    {
     "name": "stdout",
     "output_type": "stream",
     "text": [
      "only using indices for lower-triangular matrix\n",
      "Connectivity computation...\n",
      "   Processing epoch 1 / 1 ...\n"
     ]
    },
    {
     "name": "stderr",
     "output_type": "stream",
     "text": [
      "/Users/jakubblaha/Documents/thesis/thesis-python/common.py:122: RuntimeWarning: There were no Annotations stored in <EpochsArray | 1 events (all good), 0 – 7.992 s (baseline off), ~134 kB, data loaded,\n",
      " '1': 1>, so metadata was not modified.\n",
      "  res = mne_connectivity.spectral_connectivity_time(\n"
     ]
    },
    {
     "name": "stdout",
     "output_type": "stream",
     "text": [
      "[Connectivity computation done]\n",
      "only using indices for lower-triangular matrix\n",
      "Connectivity computation...\n",
      "   Processing epoch 1 / 1 ...\n",
      "[Connectivity computation done]\n"
     ]
    },
    {
     "name": "stderr",
     "output_type": "stream",
     "text": [
      "/Users/jakubblaha/Documents/thesis/thesis-python/common.py:122: RuntimeWarning: There were no Annotations stored in <EpochsArray | 1 events (all good), 0 – 7.992 s (baseline off), ~134 kB, data loaded,\n",
      " '1': 1>, so metadata was not modified.\n",
      "  res = mne_connectivity.spectral_connectivity_time(\n"
     ]
    },
    {
     "name": "stdout",
     "output_type": "stream",
     "text": [
      "only using indices for lower-triangular matrix\n",
      "Connectivity computation...\n",
      "   Processing epoch 1 / 1 ...\n",
      "[Connectivity computation done]\n"
     ]
    },
    {
     "name": "stderr",
     "output_type": "stream",
     "text": [
      "/Users/jakubblaha/Documents/thesis/thesis-python/common.py:122: RuntimeWarning: There were no Annotations stored in <EpochsArray | 1 events (all good), 0 – 7.992 s (baseline off), ~134 kB, data loaded,\n",
      " '1': 1>, so metadata was not modified.\n",
      "  res = mne_connectivity.spectral_connectivity_time(\n"
     ]
    },
    {
     "name": "stdout",
     "output_type": "stream",
     "text": [
      "only using indices for lower-triangular matrix\n",
      "Connectivity computation...\n",
      "   Processing epoch 1 / 1 ...\n",
      "[Connectivity computation done]\n"
     ]
    },
    {
     "name": "stderr",
     "output_type": "stream",
     "text": [
      "/Users/jakubblaha/Documents/thesis/thesis-python/common.py:122: RuntimeWarning: There were no Annotations stored in <EpochsArray | 1 events (all good), 0 – 7.992 s (baseline off), ~134 kB, data loaded,\n",
      " '1': 1>, so metadata was not modified.\n",
      "  res = mne_connectivity.spectral_connectivity_time(\n"
     ]
    },
    {
     "name": "stdout",
     "output_type": "stream",
     "text": [
      "only using indices for lower-triangular matrix\n",
      "Connectivity computation...\n",
      "   Processing epoch 1 / 1 ...\n",
      "[Connectivity computation done]\n"
     ]
    },
    {
     "name": "stderr",
     "output_type": "stream",
     "text": [
      "/Users/jakubblaha/Documents/thesis/thesis-python/common.py:122: RuntimeWarning: There were no Annotations stored in <EpochsArray | 1 events (all good), 0 – 7.992 s (baseline off), ~134 kB, data loaded,\n",
      " '1': 1>, so metadata was not modified.\n",
      "  res = mne_connectivity.spectral_connectivity_time(\n"
     ]
    },
    {
     "name": "stdout",
     "output_type": "stream",
     "text": [
      "only using indices for lower-triangular matrix\n",
      "Connectivity computation...\n",
      "   Processing epoch 1 / 1 ...\n",
      "[Connectivity computation done]\n"
     ]
    },
    {
     "name": "stderr",
     "output_type": "stream",
     "text": [
      "/Users/jakubblaha/Documents/thesis/thesis-python/common.py:122: RuntimeWarning: There were no Annotations stored in <EpochsArray | 1 events (all good), 0 – 7.992 s (baseline off), ~134 kB, data loaded,\n",
      " '1': 1>, so metadata was not modified.\n",
      "  res = mne_connectivity.spectral_connectivity_time(\n"
     ]
    },
    {
     "name": "stdout",
     "output_type": "stream",
     "text": [
      "only using indices for lower-triangular matrix\n",
      "Connectivity computation...\n",
      "   Processing epoch 1 / 1 ...\n",
      "[Connectivity computation done]\n"
     ]
    },
    {
     "name": "stderr",
     "output_type": "stream",
     "text": [
      "/Users/jakubblaha/Documents/thesis/thesis-python/common.py:122: RuntimeWarning: There were no Annotations stored in <EpochsArray | 1 events (all good), 0 – 7.992 s (baseline off), ~134 kB, data loaded,\n",
      " '1': 1>, so metadata was not modified.\n",
      "  res = mne_connectivity.spectral_connectivity_time(\n"
     ]
    },
    {
     "name": "stdout",
     "output_type": "stream",
     "text": [
      "only using indices for lower-triangular matrix\n",
      "Connectivity computation...\n",
      "   Processing epoch 1 / 1 ...\n"
     ]
    },
    {
     "name": "stderr",
     "output_type": "stream",
     "text": [
      "/Users/jakubblaha/Documents/thesis/thesis-python/common.py:122: RuntimeWarning: There were no Annotations stored in <EpochsArray | 1 events (all good), 0 – 7.992 s (baseline off), ~134 kB, data loaded,\n",
      " '1': 1>, so metadata was not modified.\n",
      "  res = mne_connectivity.spectral_connectivity_time(\n"
     ]
    },
    {
     "name": "stdout",
     "output_type": "stream",
     "text": [
      "[Connectivity computation done]\n",
      "only using indices for lower-triangular matrix\n",
      "Connectivity computation...\n",
      "   Processing epoch 1 / 1 ...\n",
      "[Connectivity computation done]\n"
     ]
    },
    {
     "name": "stderr",
     "output_type": "stream",
     "text": [
      "/Users/jakubblaha/Documents/thesis/thesis-python/common.py:122: RuntimeWarning: There were no Annotations stored in <EpochsArray | 1 events (all good), 0 – 7.992 s (baseline off), ~134 kB, data loaded,\n",
      " '1': 1>, so metadata was not modified.\n",
      "  res = mne_connectivity.spectral_connectivity_time(\n"
     ]
    },
    {
     "name": "stdout",
     "output_type": "stream",
     "text": [
      "only using indices for lower-triangular matrix\n",
      "Connectivity computation...\n",
      "   Processing epoch 1 / 1 ...\n",
      "[Connectivity computation done]\n"
     ]
    },
    {
     "name": "stderr",
     "output_type": "stream",
     "text": [
      "/Users/jakubblaha/Documents/thesis/thesis-python/common.py:122: RuntimeWarning: There were no Annotations stored in <EpochsArray | 1 events (all good), 0 – 7.992 s (baseline off), ~134 kB, data loaded,\n",
      " '1': 1>, so metadata was not modified.\n",
      "  res = mne_connectivity.spectral_connectivity_time(\n"
     ]
    },
    {
     "name": "stdout",
     "output_type": "stream",
     "text": [
      "only using indices for lower-triangular matrix\n",
      "Connectivity computation...\n",
      "   Processing epoch 1 / 1 ...\n",
      "[Connectivity computation done]\n"
     ]
    },
    {
     "name": "stderr",
     "output_type": "stream",
     "text": [
      "/Users/jakubblaha/Documents/thesis/thesis-python/common.py:122: RuntimeWarning: There were no Annotations stored in <EpochsArray | 1 events (all good), 0 – 7.992 s (baseline off), ~134 kB, data loaded,\n",
      " '1': 1>, so metadata was not modified.\n",
      "  res = mne_connectivity.spectral_connectivity_time(\n"
     ]
    },
    {
     "name": "stdout",
     "output_type": "stream",
     "text": [
      "only using indices for lower-triangular matrix\n",
      "Connectivity computation...\n",
      "   Processing epoch 1 / 1 ...\n",
      "[Connectivity computation done]\n"
     ]
    },
    {
     "name": "stderr",
     "output_type": "stream",
     "text": [
      "/Users/jakubblaha/Documents/thesis/thesis-python/common.py:122: RuntimeWarning: There were no Annotations stored in <EpochsArray | 1 events (all good), 0 – 7.992 s (baseline off), ~134 kB, data loaded,\n",
      " '1': 1>, so metadata was not modified.\n",
      "  res = mne_connectivity.spectral_connectivity_time(\n"
     ]
    },
    {
     "name": "stdout",
     "output_type": "stream",
     "text": [
      "only using indices for lower-triangular matrix\n",
      "Connectivity computation...\n",
      "   Processing epoch 1 / 1 ...\n",
      "[Connectivity computation done]\n"
     ]
    },
    {
     "name": "stderr",
     "output_type": "stream",
     "text": [
      "/Users/jakubblaha/Documents/thesis/thesis-python/common.py:122: RuntimeWarning: There were no Annotations stored in <EpochsArray | 1 events (all good), 0 – 7.992 s (baseline off), ~134 kB, data loaded,\n",
      " '1': 1>, so metadata was not modified.\n",
      "  res = mne_connectivity.spectral_connectivity_time(\n"
     ]
    },
    {
     "name": "stdout",
     "output_type": "stream",
     "text": [
      "only using indices for lower-triangular matrix\n",
      "Connectivity computation...\n",
      "   Processing epoch 1 / 1 ...\n"
     ]
    },
    {
     "name": "stderr",
     "output_type": "stream",
     "text": [
      "/Users/jakubblaha/Documents/thesis/thesis-python/common.py:122: RuntimeWarning: There were no Annotations stored in <EpochsArray | 1 events (all good), 0 – 7.992 s (baseline off), ~134 kB, data loaded,\n",
      " '1': 1>, so metadata was not modified.\n",
      "  res = mne_connectivity.spectral_connectivity_time(\n"
     ]
    },
    {
     "name": "stdout",
     "output_type": "stream",
     "text": [
      "[Connectivity computation done]\n",
      "only using indices for lower-triangular matrix\n",
      "Connectivity computation...\n",
      "   Processing epoch 1 / 1 ...\n",
      "[Connectivity computation done]\n"
     ]
    },
    {
     "name": "stderr",
     "output_type": "stream",
     "text": [
      "/Users/jakubblaha/Documents/thesis/thesis-python/common.py:122: RuntimeWarning: There were no Annotations stored in <EpochsArray | 1 events (all good), 0 – 7.992 s (baseline off), ~134 kB, data loaded,\n",
      " '1': 1>, so metadata was not modified.\n",
      "  res = mne_connectivity.spectral_connectivity_time(\n"
     ]
    },
    {
     "name": "stdout",
     "output_type": "stream",
     "text": [
      "only using indices for lower-triangular matrix\n",
      "Connectivity computation...\n",
      "   Processing epoch 1 / 1 ...\n",
      "[Connectivity computation done]\n"
     ]
    },
    {
     "name": "stderr",
     "output_type": "stream",
     "text": [
      "/Users/jakubblaha/Documents/thesis/thesis-python/common.py:122: RuntimeWarning: There were no Annotations stored in <EpochsArray | 1 events (all good), 0 – 7.992 s (baseline off), ~134 kB, data loaded,\n",
      " '1': 1>, so metadata was not modified.\n",
      "  res = mne_connectivity.spectral_connectivity_time(\n"
     ]
    },
    {
     "name": "stdout",
     "output_type": "stream",
     "text": [
      "only using indices for lower-triangular matrix\n",
      "Connectivity computation...\n",
      "   Processing epoch 1 / 1 ...\n",
      "[Connectivity computation done]\n"
     ]
    },
    {
     "name": "stderr",
     "output_type": "stream",
     "text": [
      "/Users/jakubblaha/Documents/thesis/thesis-python/common.py:122: RuntimeWarning: There were no Annotations stored in <EpochsArray | 1 events (all good), 0 – 7.992 s (baseline off), ~134 kB, data loaded,\n",
      " '1': 1>, so metadata was not modified.\n",
      "  res = mne_connectivity.spectral_connectivity_time(\n"
     ]
    },
    {
     "name": "stdout",
     "output_type": "stream",
     "text": [
      "only using indices for lower-triangular matrix\n",
      "Connectivity computation...\n",
      "   Processing epoch 1 / 1 ...\n",
      "[Connectivity computation done]\n"
     ]
    },
    {
     "name": "stderr",
     "output_type": "stream",
     "text": [
      "/Users/jakubblaha/Documents/thesis/thesis-python/common.py:122: RuntimeWarning: There were no Annotations stored in <EpochsArray | 1 events (all good), 0 – 7.992 s (baseline off), ~134 kB, data loaded,\n",
      " '1': 1>, so metadata was not modified.\n",
      "  res = mne_connectivity.spectral_connectivity_time(\n"
     ]
    },
    {
     "name": "stdout",
     "output_type": "stream",
     "text": [
      "only using indices for lower-triangular matrix\n",
      "Connectivity computation...\n",
      "   Processing epoch 1 / 1 ...\n",
      "[Connectivity computation done]\n"
     ]
    },
    {
     "name": "stderr",
     "output_type": "stream",
     "text": [
      "/Users/jakubblaha/Documents/thesis/thesis-python/common.py:122: RuntimeWarning: There were no Annotations stored in <EpochsArray | 1 events (all good), 0 – 7.992 s (baseline off), ~134 kB, data loaded,\n",
      " '1': 1>, so metadata was not modified.\n",
      "  res = mne_connectivity.spectral_connectivity_time(\n"
     ]
    },
    {
     "name": "stdout",
     "output_type": "stream",
     "text": [
      "only using indices for lower-triangular matrix\n",
      "Connectivity computation...\n",
      "   Processing epoch 1 / 1 ...\n"
     ]
    },
    {
     "name": "stderr",
     "output_type": "stream",
     "text": [
      "/Users/jakubblaha/Documents/thesis/thesis-python/common.py:122: RuntimeWarning: There were no Annotations stored in <EpochsArray | 1 events (all good), 0 – 7.992 s (baseline off), ~134 kB, data loaded,\n",
      " '1': 1>, so metadata was not modified.\n",
      "  res = mne_connectivity.spectral_connectivity_time(\n"
     ]
    },
    {
     "name": "stdout",
     "output_type": "stream",
     "text": [
      "[Connectivity computation done]\n",
      "only using indices for lower-triangular matrix\n",
      "Connectivity computation...\n",
      "   Processing epoch 1 / 1 ...\n",
      "[Connectivity computation done]\n"
     ]
    },
    {
     "name": "stderr",
     "output_type": "stream",
     "text": [
      "/Users/jakubblaha/Documents/thesis/thesis-python/common.py:122: RuntimeWarning: There were no Annotations stored in <EpochsArray | 1 events (all good), 0 – 7.992 s (baseline off), ~134 kB, data loaded,\n",
      " '1': 1>, so metadata was not modified.\n",
      "  res = mne_connectivity.spectral_connectivity_time(\n"
     ]
    },
    {
     "name": "stdout",
     "output_type": "stream",
     "text": [
      "only using indices for lower-triangular matrix\n",
      "Connectivity computation...\n",
      "   Processing epoch 1 / 1 ...\n",
      "[Connectivity computation done]\n"
     ]
    },
    {
     "name": "stderr",
     "output_type": "stream",
     "text": [
      "/Users/jakubblaha/Documents/thesis/thesis-python/common.py:122: RuntimeWarning: There were no Annotations stored in <EpochsArray | 1 events (all good), 0 – 7.992 s (baseline off), ~134 kB, data loaded,\n",
      " '1': 1>, so metadata was not modified.\n",
      "  res = mne_connectivity.spectral_connectivity_time(\n"
     ]
    },
    {
     "name": "stdout",
     "output_type": "stream",
     "text": [
      "only using indices for lower-triangular matrix\n",
      "Connectivity computation...\n",
      "   Processing epoch 1 / 1 ...\n",
      "[Connectivity computation done]\n"
     ]
    },
    {
     "name": "stderr",
     "output_type": "stream",
     "text": [
      "/Users/jakubblaha/Documents/thesis/thesis-python/common.py:122: RuntimeWarning: There were no Annotations stored in <EpochsArray | 1 events (all good), 0 – 7.992 s (baseline off), ~134 kB, data loaded,\n",
      " '1': 1>, so metadata was not modified.\n",
      "  res = mne_connectivity.spectral_connectivity_time(\n"
     ]
    },
    {
     "name": "stdout",
     "output_type": "stream",
     "text": [
      "only using indices for lower-triangular matrix\n",
      "Connectivity computation...\n",
      "   Processing epoch 1 / 1 ...\n",
      "[Connectivity computation done]\n"
     ]
    },
    {
     "name": "stderr",
     "output_type": "stream",
     "text": [
      "/Users/jakubblaha/Documents/thesis/thesis-python/common.py:122: RuntimeWarning: There were no Annotations stored in <EpochsArray | 1 events (all good), 0 – 7.992 s (baseline off), ~134 kB, data loaded,\n",
      " '1': 1>, so metadata was not modified.\n",
      "  res = mne_connectivity.spectral_connectivity_time(\n"
     ]
    },
    {
     "name": "stdout",
     "output_type": "stream",
     "text": [
      "only using indices for lower-triangular matrix\n",
      "Connectivity computation...\n",
      "   Processing epoch 1 / 1 ...\n",
      "[Connectivity computation done]\n"
     ]
    },
    {
     "name": "stderr",
     "output_type": "stream",
     "text": [
      "/Users/jakubblaha/Documents/thesis/thesis-python/common.py:122: RuntimeWarning: There were no Annotations stored in <EpochsArray | 1 events (all good), 0 – 7.992 s (baseline off), ~134 kB, data loaded,\n",
      " '1': 1>, so metadata was not modified.\n",
      "  res = mne_connectivity.spectral_connectivity_time(\n"
     ]
    },
    {
     "name": "stdout",
     "output_type": "stream",
     "text": [
      "only using indices for lower-triangular matrix\n",
      "Connectivity computation...\n",
      "   Processing epoch 1 / 1 ...\n"
     ]
    },
    {
     "name": "stderr",
     "output_type": "stream",
     "text": [
      "/Users/jakubblaha/Documents/thesis/thesis-python/common.py:122: RuntimeWarning: There were no Annotations stored in <EpochsArray | 1 events (all good), 0 – 7.992 s (baseline off), ~134 kB, data loaded,\n",
      " '1': 1>, so metadata was not modified.\n",
      "  res = mne_connectivity.spectral_connectivity_time(\n"
     ]
    },
    {
     "name": "stdout",
     "output_type": "stream",
     "text": [
      "[Connectivity computation done]\n",
      "only using indices for lower-triangular matrix\n",
      "Connectivity computation...\n",
      "   Processing epoch 1 / 1 ...\n",
      "[Connectivity computation done]\n"
     ]
    },
    {
     "name": "stderr",
     "output_type": "stream",
     "text": [
      "/Users/jakubblaha/Documents/thesis/thesis-python/common.py:122: RuntimeWarning: There were no Annotations stored in <EpochsArray | 1 events (all good), 0 – 7.992 s (baseline off), ~134 kB, data loaded,\n",
      " '1': 1>, so metadata was not modified.\n",
      "  res = mne_connectivity.spectral_connectivity_time(\n"
     ]
    },
    {
     "name": "stdout",
     "output_type": "stream",
     "text": [
      "only using indices for lower-triangular matrix\n",
      "Connectivity computation...\n",
      "   Processing epoch 1 / 1 ...\n",
      "[Connectivity computation done]\n"
     ]
    },
    {
     "name": "stderr",
     "output_type": "stream",
     "text": [
      "/Users/jakubblaha/Documents/thesis/thesis-python/common.py:122: RuntimeWarning: There were no Annotations stored in <EpochsArray | 1 events (all good), 0 – 7.992 s (baseline off), ~134 kB, data loaded,\n",
      " '1': 1>, so metadata was not modified.\n",
      "  res = mne_connectivity.spectral_connectivity_time(\n"
     ]
    },
    {
     "name": "stdout",
     "output_type": "stream",
     "text": [
      "only using indices for lower-triangular matrix\n",
      "Connectivity computation...\n",
      "   Processing epoch 1 / 1 ...\n",
      "[Connectivity computation done]\n"
     ]
    },
    {
     "name": "stderr",
     "output_type": "stream",
     "text": [
      "/Users/jakubblaha/Documents/thesis/thesis-python/common.py:122: RuntimeWarning: There were no Annotations stored in <EpochsArray | 1 events (all good), 0 – 7.992 s (baseline off), ~134 kB, data loaded,\n",
      " '1': 1>, so metadata was not modified.\n",
      "  res = mne_connectivity.spectral_connectivity_time(\n"
     ]
    },
    {
     "name": "stdout",
     "output_type": "stream",
     "text": [
      "only using indices for lower-triangular matrix\n",
      "Connectivity computation...\n",
      "   Processing epoch 1 / 1 ...\n",
      "[Connectivity computation done]\n"
     ]
    },
    {
     "name": "stderr",
     "output_type": "stream",
     "text": [
      "/Users/jakubblaha/Documents/thesis/thesis-python/common.py:122: RuntimeWarning: There were no Annotations stored in <EpochsArray | 1 events (all good), 0 – 7.992 s (baseline off), ~134 kB, data loaded,\n",
      " '1': 1>, so metadata was not modified.\n",
      "  res = mne_connectivity.spectral_connectivity_time(\n"
     ]
    },
    {
     "name": "stdout",
     "output_type": "stream",
     "text": [
      "only using indices for lower-triangular matrix\n",
      "Connectivity computation...\n",
      "   Processing epoch 1 / 1 ...\n",
      "[Connectivity computation done]\n"
     ]
    },
    {
     "name": "stderr",
     "output_type": "stream",
     "text": [
      "/Users/jakubblaha/Documents/thesis/thesis-python/common.py:122: RuntimeWarning: There were no Annotations stored in <EpochsArray | 1 events (all good), 0 – 7.992 s (baseline off), ~134 kB, data loaded,\n",
      " '1': 1>, so metadata was not modified.\n",
      "  res = mne_connectivity.spectral_connectivity_time(\n"
     ]
    },
    {
     "name": "stdout",
     "output_type": "stream",
     "text": [
      "only using indices for lower-triangular matrix\n",
      "Connectivity computation...\n",
      "   Processing epoch 1 / 1 ...\n",
      "[Connectivity computation done]\n"
     ]
    },
    {
     "name": "stderr",
     "output_type": "stream",
     "text": [
      "/Users/jakubblaha/Documents/thesis/thesis-python/common.py:122: RuntimeWarning: There were no Annotations stored in <EpochsArray | 1 events (all good), 0 – 7.992 s (baseline off), ~134 kB, data loaded,\n",
      " '1': 1>, so metadata was not modified.\n",
      "  res = mne_connectivity.spectral_connectivity_time(\n"
     ]
    },
    {
     "name": "stdout",
     "output_type": "stream",
     "text": [
      "only using indices for lower-triangular matrix\n",
      "Connectivity computation...\n",
      "   Processing epoch 1 / 1 ...\n",
      "[Connectivity computation done]\n"
     ]
    },
    {
     "name": "stderr",
     "output_type": "stream",
     "text": [
      "/Users/jakubblaha/Documents/thesis/thesis-python/common.py:122: RuntimeWarning: There were no Annotations stored in <EpochsArray | 1 events (all good), 0 – 7.992 s (baseline off), ~134 kB, data loaded,\n",
      " '1': 1>, so metadata was not modified.\n",
      "  res = mne_connectivity.spectral_connectivity_time(\n"
     ]
    },
    {
     "name": "stdout",
     "output_type": "stream",
     "text": [
      "only using indices for lower-triangular matrix\n",
      "Connectivity computation...\n",
      "   Processing epoch 1 / 1 ...\n",
      "[Connectivity computation done]\n"
     ]
    },
    {
     "name": "stderr",
     "output_type": "stream",
     "text": [
      "/Users/jakubblaha/Documents/thesis/thesis-python/common.py:122: RuntimeWarning: There were no Annotations stored in <EpochsArray | 1 events (all good), 0 – 7.992 s (baseline off), ~134 kB, data loaded,\n",
      " '1': 1>, so metadata was not modified.\n",
      "  res = mne_connectivity.spectral_connectivity_time(\n"
     ]
    },
    {
     "name": "stdout",
     "output_type": "stream",
     "text": [
      "only using indices for lower-triangular matrix\n",
      "Connectivity computation...\n",
      "   Processing epoch 1 / 1 ...\n",
      "[Connectivity computation done]\n"
     ]
    },
    {
     "name": "stderr",
     "output_type": "stream",
     "text": [
      "/Users/jakubblaha/Documents/thesis/thesis-python/common.py:122: RuntimeWarning: There were no Annotations stored in <EpochsArray | 1 events (all good), 0 – 7.992 s (baseline off), ~134 kB, data loaded,\n",
      " '1': 1>, so metadata was not modified.\n",
      "  res = mne_connectivity.spectral_connectivity_time(\n"
     ]
    },
    {
     "name": "stdout",
     "output_type": "stream",
     "text": [
      "only using indices for lower-triangular matrix\n",
      "Connectivity computation...\n",
      "   Processing epoch 1 / 1 ...\n",
      "[Connectivity computation done]\n"
     ]
    },
    {
     "name": "stderr",
     "output_type": "stream",
     "text": [
      "/Users/jakubblaha/Documents/thesis/thesis-python/common.py:122: RuntimeWarning: There were no Annotations stored in <EpochsArray | 1 events (all good), 0 – 7.992 s (baseline off), ~134 kB, data loaded,\n",
      " '1': 1>, so metadata was not modified.\n",
      "  res = mne_connectivity.spectral_connectivity_time(\n"
     ]
    },
    {
     "name": "stdout",
     "output_type": "stream",
     "text": [
      "only using indices for lower-triangular matrix\n",
      "Connectivity computation...\n",
      "   Processing epoch 1 / 1 ...\n"
     ]
    },
    {
     "name": "stderr",
     "output_type": "stream",
     "text": [
      "/Users/jakubblaha/Documents/thesis/thesis-python/common.py:122: RuntimeWarning: There were no Annotations stored in <EpochsArray | 1 events (all good), 0 – 7.992 s (baseline off), ~134 kB, data loaded,\n",
      " '1': 1>, so metadata was not modified.\n",
      "  res = mne_connectivity.spectral_connectivity_time(\n"
     ]
    },
    {
     "name": "stdout",
     "output_type": "stream",
     "text": [
      "[Connectivity computation done]\n",
      "only using indices for lower-triangular matrix\n",
      "Connectivity computation...\n",
      "   Processing epoch 1 / 1 ...\n",
      "[Connectivity computation done]\n"
     ]
    },
    {
     "name": "stderr",
     "output_type": "stream",
     "text": [
      "/Users/jakubblaha/Documents/thesis/thesis-python/common.py:122: RuntimeWarning: There were no Annotations stored in <EpochsArray | 1 events (all good), 0 – 7.992 s (baseline off), ~134 kB, data loaded,\n",
      " '1': 1>, so metadata was not modified.\n",
      "  res = mne_connectivity.spectral_connectivity_time(\n"
     ]
    },
    {
     "name": "stdout",
     "output_type": "stream",
     "text": [
      "only using indices for lower-triangular matrix\n",
      "Connectivity computation...\n",
      "   Processing epoch 1 / 1 ...\n",
      "[Connectivity computation done]\n"
     ]
    },
    {
     "name": "stderr",
     "output_type": "stream",
     "text": [
      "/Users/jakubblaha/Documents/thesis/thesis-python/common.py:122: RuntimeWarning: There were no Annotations stored in <EpochsArray | 1 events (all good), 0 – 7.992 s (baseline off), ~134 kB, data loaded,\n",
      " '1': 1>, so metadata was not modified.\n",
      "  res = mne_connectivity.spectral_connectivity_time(\n"
     ]
    },
    {
     "name": "stdout",
     "output_type": "stream",
     "text": [
      "only using indices for lower-triangular matrix\n",
      "Connectivity computation...\n",
      "   Processing epoch 1 / 1 ...\n",
      "[Connectivity computation done]\n"
     ]
    },
    {
     "name": "stderr",
     "output_type": "stream",
     "text": [
      "/Users/jakubblaha/Documents/thesis/thesis-python/common.py:122: RuntimeWarning: There were no Annotations stored in <EpochsArray | 1 events (all good), 0 – 7.992 s (baseline off), ~134 kB, data loaded,\n",
      " '1': 1>, so metadata was not modified.\n",
      "  res = mne_connectivity.spectral_connectivity_time(\n"
     ]
    },
    {
     "name": "stdout",
     "output_type": "stream",
     "text": [
      "only using indices for lower-triangular matrix\n",
      "Connectivity computation...\n",
      "   Processing epoch 1 / 1 ...\n",
      "[Connectivity computation done]\n"
     ]
    },
    {
     "name": "stderr",
     "output_type": "stream",
     "text": [
      "/Users/jakubblaha/Documents/thesis/thesis-python/common.py:122: RuntimeWarning: There were no Annotations stored in <EpochsArray | 1 events (all good), 0 – 7.992 s (baseline off), ~134 kB, data loaded,\n",
      " '1': 1>, so metadata was not modified.\n",
      "  res = mne_connectivity.spectral_connectivity_time(\n"
     ]
    },
    {
     "name": "stdout",
     "output_type": "stream",
     "text": [
      "only using indices for lower-triangular matrix\n",
      "Connectivity computation...\n",
      "   Processing epoch 1 / 1 ...\n"
     ]
    },
    {
     "name": "stderr",
     "output_type": "stream",
     "text": [
      "/Users/jakubblaha/Documents/thesis/thesis-python/common.py:122: RuntimeWarning: There were no Annotations stored in <EpochsArray | 1 events (all good), 0 – 7.992 s (baseline off), ~134 kB, data loaded,\n",
      " '1': 1>, so metadata was not modified.\n",
      "  res = mne_connectivity.spectral_connectivity_time(\n"
     ]
    },
    {
     "name": "stdout",
     "output_type": "stream",
     "text": [
      "[Connectivity computation done]\n",
      "only using indices for lower-triangular matrix\n",
      "Connectivity computation...\n",
      "   Processing epoch 1 / 1 ...\n",
      "[Connectivity computation done]\n"
     ]
    },
    {
     "name": "stderr",
     "output_type": "stream",
     "text": [
      "/Users/jakubblaha/Documents/thesis/thesis-python/common.py:122: RuntimeWarning: There were no Annotations stored in <EpochsArray | 1 events (all good), 0 – 7.992 s (baseline off), ~134 kB, data loaded,\n",
      " '1': 1>, so metadata was not modified.\n",
      "  res = mne_connectivity.spectral_connectivity_time(\n"
     ]
    },
    {
     "name": "stdout",
     "output_type": "stream",
     "text": [
      "only using indices for lower-triangular matrix\n",
      "Connectivity computation...\n",
      "   Processing epoch 1 / 1 ...\n",
      "[Connectivity computation done]\n"
     ]
    },
    {
     "name": "stderr",
     "output_type": "stream",
     "text": [
      "/Users/jakubblaha/Documents/thesis/thesis-python/common.py:122: RuntimeWarning: There were no Annotations stored in <EpochsArray | 1 events (all good), 0 – 7.992 s (baseline off), ~134 kB, data loaded,\n",
      " '1': 1>, so metadata was not modified.\n",
      "  res = mne_connectivity.spectral_connectivity_time(\n"
     ]
    },
    {
     "name": "stdout",
     "output_type": "stream",
     "text": [
      "only using indices for lower-triangular matrix\n",
      "Connectivity computation...\n",
      "   Processing epoch 1 / 1 ...\n",
      "[Connectivity computation done]\n"
     ]
    },
    {
     "name": "stderr",
     "output_type": "stream",
     "text": [
      "/Users/jakubblaha/Documents/thesis/thesis-python/common.py:122: RuntimeWarning: There were no Annotations stored in <EpochsArray | 1 events (all good), 0 – 7.992 s (baseline off), ~134 kB, data loaded,\n",
      " '1': 1>, so metadata was not modified.\n",
      "  res = mne_connectivity.spectral_connectivity_time(\n"
     ]
    },
    {
     "name": "stdout",
     "output_type": "stream",
     "text": [
      "only using indices for lower-triangular matrix\n",
      "Connectivity computation...\n",
      "   Processing epoch 1 / 1 ...\n",
      "[Connectivity computation done]\n"
     ]
    },
    {
     "name": "stderr",
     "output_type": "stream",
     "text": [
      "/Users/jakubblaha/Documents/thesis/thesis-python/common.py:122: RuntimeWarning: There were no Annotations stored in <EpochsArray | 1 events (all good), 0 – 7.992 s (baseline off), ~134 kB, data loaded,\n",
      " '1': 1>, so metadata was not modified.\n",
      "  res = mne_connectivity.spectral_connectivity_time(\n"
     ]
    },
    {
     "name": "stdout",
     "output_type": "stream",
     "text": [
      "only using indices for lower-triangular matrix\n",
      "Connectivity computation...\n",
      "   Processing epoch 1 / 1 ...\n",
      "[Connectivity computation done]\n"
     ]
    },
    {
     "name": "stderr",
     "output_type": "stream",
     "text": [
      "/Users/jakubblaha/Documents/thesis/thesis-python/common.py:122: RuntimeWarning: There were no Annotations stored in <EpochsArray | 1 events (all good), 0 – 7.992 s (baseline off), ~134 kB, data loaded,\n",
      " '1': 1>, so metadata was not modified.\n",
      "  res = mne_connectivity.spectral_connectivity_time(\n"
     ]
    },
    {
     "name": "stdout",
     "output_type": "stream",
     "text": [
      "only using indices for lower-triangular matrix\n",
      "Connectivity computation...\n",
      "   Processing epoch 1 / 1 ...\n",
      "[Connectivity computation done]\n"
     ]
    },
    {
     "name": "stderr",
     "output_type": "stream",
     "text": [
      "/Users/jakubblaha/Documents/thesis/thesis-python/common.py:122: RuntimeWarning: There were no Annotations stored in <EpochsArray | 1 events (all good), 0 – 7.992 s (baseline off), ~134 kB, data loaded,\n",
      " '1': 1>, so metadata was not modified.\n",
      "  res = mne_connectivity.spectral_connectivity_time(\n"
     ]
    },
    {
     "name": "stdout",
     "output_type": "stream",
     "text": [
      "only using indices for lower-triangular matrix\n",
      "Connectivity computation...\n",
      "   Processing epoch 1 / 1 ...\n",
      "[Connectivity computation done]\n"
     ]
    },
    {
     "name": "stderr",
     "output_type": "stream",
     "text": [
      "/Users/jakubblaha/Documents/thesis/thesis-python/common.py:122: RuntimeWarning: There were no Annotations stored in <EpochsArray | 1 events (all good), 0 – 7.992 s (baseline off), ~134 kB, data loaded,\n",
      " '1': 1>, so metadata was not modified.\n",
      "  res = mne_connectivity.spectral_connectivity_time(\n"
     ]
    },
    {
     "name": "stdout",
     "output_type": "stream",
     "text": [
      "only using indices for lower-triangular matrix\n",
      "Connectivity computation...\n",
      "   Processing epoch 1 / 1 ...\n",
      "[Connectivity computation done]\n"
     ]
    },
    {
     "name": "stderr",
     "output_type": "stream",
     "text": [
      "/Users/jakubblaha/Documents/thesis/thesis-python/common.py:122: RuntimeWarning: There were no Annotations stored in <EpochsArray | 1 events (all good), 0 – 7.992 s (baseline off), ~134 kB, data loaded,\n",
      " '1': 1>, so metadata was not modified.\n",
      "  res = mne_connectivity.spectral_connectivity_time(\n"
     ]
    },
    {
     "name": "stdout",
     "output_type": "stream",
     "text": [
      "only using indices for lower-triangular matrix\n",
      "Connectivity computation...\n",
      "   Processing epoch 1 / 1 ...\n",
      "[Connectivity computation done]\n"
     ]
    },
    {
     "name": "stderr",
     "output_type": "stream",
     "text": [
      "/Users/jakubblaha/Documents/thesis/thesis-python/common.py:122: RuntimeWarning: There were no Annotations stored in <EpochsArray | 1 events (all good), 0 – 7.992 s (baseline off), ~134 kB, data loaded,\n",
      " '1': 1>, so metadata was not modified.\n",
      "  res = mne_connectivity.spectral_connectivity_time(\n"
     ]
    },
    {
     "name": "stdout",
     "output_type": "stream",
     "text": [
      "only using indices for lower-triangular matrix\n",
      "Connectivity computation...\n",
      "   Processing epoch 1 / 1 ...\n",
      "[Connectivity computation done]\n"
     ]
    },
    {
     "name": "stderr",
     "output_type": "stream",
     "text": [
      "/Users/jakubblaha/Documents/thesis/thesis-python/common.py:122: RuntimeWarning: There were no Annotations stored in <EpochsArray | 1 events (all good), 0 – 7.992 s (baseline off), ~134 kB, data loaded,\n",
      " '1': 1>, so metadata was not modified.\n",
      "  res = mne_connectivity.spectral_connectivity_time(\n"
     ]
    },
    {
     "name": "stdout",
     "output_type": "stream",
     "text": [
      "only using indices for lower-triangular matrix\n",
      "Connectivity computation...\n",
      "   Processing epoch 1 / 1 ...\n"
     ]
    },
    {
     "name": "stderr",
     "output_type": "stream",
     "text": [
      "/Users/jakubblaha/Documents/thesis/thesis-python/common.py:122: RuntimeWarning: There were no Annotations stored in <EpochsArray | 1 events (all good), 0 – 7.992 s (baseline off), ~134 kB, data loaded,\n",
      " '1': 1>, so metadata was not modified.\n",
      "  res = mne_connectivity.spectral_connectivity_time(\n"
     ]
    },
    {
     "name": "stdout",
     "output_type": "stream",
     "text": [
      "[Connectivity computation done]\n",
      "only using indices for lower-triangular matrix\n",
      "Connectivity computation...\n",
      "   Processing epoch 1 / 1 ...\n",
      "[Connectivity computation done]\n"
     ]
    },
    {
     "name": "stderr",
     "output_type": "stream",
     "text": [
      "/Users/jakubblaha/Documents/thesis/thesis-python/common.py:122: RuntimeWarning: There were no Annotations stored in <EpochsArray | 1 events (all good), 0 – 7.992 s (baseline off), ~134 kB, data loaded,\n",
      " '1': 1>, so metadata was not modified.\n",
      "  res = mne_connectivity.spectral_connectivity_time(\n"
     ]
    },
    {
     "name": "stdout",
     "output_type": "stream",
     "text": [
      "only using indices for lower-triangular matrix\n",
      "Connectivity computation...\n",
      "   Processing epoch 1 / 1 ...\n",
      "[Connectivity computation done]\n"
     ]
    },
    {
     "name": "stderr",
     "output_type": "stream",
     "text": [
      "/Users/jakubblaha/Documents/thesis/thesis-python/common.py:122: RuntimeWarning: There were no Annotations stored in <EpochsArray | 1 events (all good), 0 – 7.992 s (baseline off), ~134 kB, data loaded,\n",
      " '1': 1>, so metadata was not modified.\n",
      "  res = mne_connectivity.spectral_connectivity_time(\n"
     ]
    },
    {
     "name": "stdout",
     "output_type": "stream",
     "text": [
      "only using indices for lower-triangular matrix\n",
      "Connectivity computation...\n",
      "   Processing epoch 1 / 1 ...\n",
      "[Connectivity computation done]\n"
     ]
    },
    {
     "name": "stderr",
     "output_type": "stream",
     "text": [
      "/Users/jakubblaha/Documents/thesis/thesis-python/common.py:122: RuntimeWarning: There were no Annotations stored in <EpochsArray | 1 events (all good), 0 – 7.992 s (baseline off), ~134 kB, data loaded,\n",
      " '1': 1>, so metadata was not modified.\n",
      "  res = mne_connectivity.spectral_connectivity_time(\n"
     ]
    },
    {
     "name": "stdout",
     "output_type": "stream",
     "text": [
      "only using indices for lower-triangular matrix\n",
      "Connectivity computation...\n",
      "   Processing epoch 1 / 1 ...\n",
      "[Connectivity computation done]\n"
     ]
    },
    {
     "name": "stderr",
     "output_type": "stream",
     "text": [
      "/Users/jakubblaha/Documents/thesis/thesis-python/common.py:122: RuntimeWarning: There were no Annotations stored in <EpochsArray | 1 events (all good), 0 – 7.992 s (baseline off), ~134 kB, data loaded,\n",
      " '1': 1>, so metadata was not modified.\n",
      "  res = mne_connectivity.spectral_connectivity_time(\n"
     ]
    },
    {
     "name": "stdout",
     "output_type": "stream",
     "text": [
      "only using indices for lower-triangular matrix\n",
      "Connectivity computation...\n",
      "   Processing epoch 1 / 1 ...\n"
     ]
    },
    {
     "name": "stderr",
     "output_type": "stream",
     "text": [
      "/Users/jakubblaha/Documents/thesis/thesis-python/common.py:122: RuntimeWarning: There were no Annotations stored in <EpochsArray | 1 events (all good), 0 – 7.992 s (baseline off), ~134 kB, data loaded,\n",
      " '1': 1>, so metadata was not modified.\n",
      "  res = mne_connectivity.spectral_connectivity_time(\n"
     ]
    },
    {
     "name": "stdout",
     "output_type": "stream",
     "text": [
      "[Connectivity computation done]\n",
      "only using indices for lower-triangular matrix\n",
      "Connectivity computation...\n",
      "   Processing epoch 1 / 1 ...\n",
      "[Connectivity computation done]\n"
     ]
    },
    {
     "name": "stderr",
     "output_type": "stream",
     "text": [
      "/Users/jakubblaha/Documents/thesis/thesis-python/common.py:122: RuntimeWarning: There were no Annotations stored in <EpochsArray | 1 events (all good), 0 – 7.992 s (baseline off), ~134 kB, data loaded,\n",
      " '1': 1>, so metadata was not modified.\n",
      "  res = mne_connectivity.spectral_connectivity_time(\n"
     ]
    },
    {
     "name": "stdout",
     "output_type": "stream",
     "text": [
      "only using indices for lower-triangular matrix\n",
      "Connectivity computation...\n",
      "   Processing epoch 1 / 1 ...\n",
      "[Connectivity computation done]\n"
     ]
    },
    {
     "name": "stderr",
     "output_type": "stream",
     "text": [
      "/Users/jakubblaha/Documents/thesis/thesis-python/common.py:122: RuntimeWarning: There were no Annotations stored in <EpochsArray | 1 events (all good), 0 – 7.992 s (baseline off), ~134 kB, data loaded,\n",
      " '1': 1>, so metadata was not modified.\n",
      "  res = mne_connectivity.spectral_connectivity_time(\n"
     ]
    },
    {
     "name": "stdout",
     "output_type": "stream",
     "text": [
      "only using indices for lower-triangular matrix\n",
      "Connectivity computation...\n",
      "   Processing epoch 1 / 1 ...\n",
      "[Connectivity computation done]\n"
     ]
    },
    {
     "name": "stderr",
     "output_type": "stream",
     "text": [
      "/Users/jakubblaha/Documents/thesis/thesis-python/common.py:122: RuntimeWarning: There were no Annotations stored in <EpochsArray | 1 events (all good), 0 – 7.992 s (baseline off), ~134 kB, data loaded,\n",
      " '1': 1>, so metadata was not modified.\n",
      "  res = mne_connectivity.spectral_connectivity_time(\n"
     ]
    },
    {
     "name": "stdout",
     "output_type": "stream",
     "text": [
      "only using indices for lower-triangular matrix\n",
      "Connectivity computation...\n",
      "   Processing epoch 1 / 1 ...\n",
      "[Connectivity computation done]\n"
     ]
    },
    {
     "name": "stderr",
     "output_type": "stream",
     "text": [
      "/Users/jakubblaha/Documents/thesis/thesis-python/common.py:122: RuntimeWarning: There were no Annotations stored in <EpochsArray | 1 events (all good), 0 – 7.992 s (baseline off), ~134 kB, data loaded,\n",
      " '1': 1>, so metadata was not modified.\n",
      "  res = mne_connectivity.spectral_connectivity_time(\n"
     ]
    },
    {
     "name": "stdout",
     "output_type": "stream",
     "text": [
      "only using indices for lower-triangular matrix\n",
      "Connectivity computation...\n",
      "   Processing epoch 1 / 1 ...\n"
     ]
    },
    {
     "name": "stderr",
     "output_type": "stream",
     "text": [
      "/Users/jakubblaha/Documents/thesis/thesis-python/common.py:122: RuntimeWarning: There were no Annotations stored in <EpochsArray | 1 events (all good), 0 – 7.992 s (baseline off), ~134 kB, data loaded,\n",
      " '1': 1>, so metadata was not modified.\n",
      "  res = mne_connectivity.spectral_connectivity_time(\n"
     ]
    },
    {
     "name": "stdout",
     "output_type": "stream",
     "text": [
      "[Connectivity computation done]\n",
      "only using indices for lower-triangular matrix\n",
      "Connectivity computation...\n",
      "   Processing epoch 1 / 1 ...\n",
      "[Connectivity computation done]\n"
     ]
    },
    {
     "name": "stderr",
     "output_type": "stream",
     "text": [
      "/Users/jakubblaha/Documents/thesis/thesis-python/common.py:122: RuntimeWarning: There were no Annotations stored in <EpochsArray | 1 events (all good), 0 – 7.992 s (baseline off), ~134 kB, data loaded,\n",
      " '1': 1>, so metadata was not modified.\n",
      "  res = mne_connectivity.spectral_connectivity_time(\n"
     ]
    },
    {
     "name": "stdout",
     "output_type": "stream",
     "text": [
      "only using indices for lower-triangular matrix\n",
      "Connectivity computation...\n",
      "   Processing epoch 1 / 1 ...\n",
      "[Connectivity computation done]\n"
     ]
    },
    {
     "name": "stderr",
     "output_type": "stream",
     "text": [
      "/Users/jakubblaha/Documents/thesis/thesis-python/common.py:122: RuntimeWarning: There were no Annotations stored in <EpochsArray | 1 events (all good), 0 – 7.992 s (baseline off), ~134 kB, data loaded,\n",
      " '1': 1>, so metadata was not modified.\n",
      "  res = mne_connectivity.spectral_connectivity_time(\n"
     ]
    },
    {
     "name": "stdout",
     "output_type": "stream",
     "text": [
      "only using indices for lower-triangular matrix\n",
      "Connectivity computation...\n",
      "   Processing epoch 1 / 1 ...\n",
      "[Connectivity computation done]\n"
     ]
    },
    {
     "name": "stderr",
     "output_type": "stream",
     "text": [
      "/Users/jakubblaha/Documents/thesis/thesis-python/common.py:122: RuntimeWarning: There were no Annotations stored in <EpochsArray | 1 events (all good), 0 – 7.992 s (baseline off), ~134 kB, data loaded,\n",
      " '1': 1>, so metadata was not modified.\n",
      "  res = mne_connectivity.spectral_connectivity_time(\n"
     ]
    },
    {
     "name": "stdout",
     "output_type": "stream",
     "text": [
      "only using indices for lower-triangular matrix\n",
      "Connectivity computation...\n",
      "   Processing epoch 1 / 1 ...\n",
      "[Connectivity computation done]\n"
     ]
    },
    {
     "name": "stderr",
     "output_type": "stream",
     "text": [
      "/Users/jakubblaha/Documents/thesis/thesis-python/common.py:122: RuntimeWarning: There were no Annotations stored in <EpochsArray | 1 events (all good), 0 – 7.992 s (baseline off), ~134 kB, data loaded,\n",
      " '1': 1>, so metadata was not modified.\n",
      "  res = mne_connectivity.spectral_connectivity_time(\n"
     ]
    },
    {
     "name": "stdout",
     "output_type": "stream",
     "text": [
      "only using indices for lower-triangular matrix\n",
      "Connectivity computation...\n",
      "   Processing epoch 1 / 1 ...\n"
     ]
    },
    {
     "name": "stderr",
     "output_type": "stream",
     "text": [
      "/Users/jakubblaha/Documents/thesis/thesis-python/common.py:122: RuntimeWarning: There were no Annotations stored in <EpochsArray | 1 events (all good), 0 – 7.992 s (baseline off), ~134 kB, data loaded,\n",
      " '1': 1>, so metadata was not modified.\n",
      "  res = mne_connectivity.spectral_connectivity_time(\n"
     ]
    },
    {
     "name": "stdout",
     "output_type": "stream",
     "text": [
      "[Connectivity computation done]\n",
      "only using indices for lower-triangular matrix\n",
      "Connectivity computation...\n",
      "   Processing epoch 1 / 1 ...\n",
      "[Connectivity computation done]\n"
     ]
    },
    {
     "name": "stderr",
     "output_type": "stream",
     "text": [
      "/Users/jakubblaha/Documents/thesis/thesis-python/common.py:122: RuntimeWarning: There were no Annotations stored in <EpochsArray | 1 events (all good), 0 – 7.992 s (baseline off), ~134 kB, data loaded,\n",
      " '1': 1>, so metadata was not modified.\n",
      "  res = mne_connectivity.spectral_connectivity_time(\n"
     ]
    },
    {
     "name": "stdout",
     "output_type": "stream",
     "text": [
      "only using indices for lower-triangular matrix\n",
      "Connectivity computation...\n",
      "   Processing epoch 1 / 1 ...\n",
      "[Connectivity computation done]\n"
     ]
    },
    {
     "name": "stderr",
     "output_type": "stream",
     "text": [
      "/Users/jakubblaha/Documents/thesis/thesis-python/common.py:122: RuntimeWarning: There were no Annotations stored in <EpochsArray | 1 events (all good), 0 – 7.992 s (baseline off), ~134 kB, data loaded,\n",
      " '1': 1>, so metadata was not modified.\n",
      "  res = mne_connectivity.spectral_connectivity_time(\n"
     ]
    },
    {
     "name": "stdout",
     "output_type": "stream",
     "text": [
      "only using indices for lower-triangular matrix\n",
      "Connectivity computation...\n",
      "   Processing epoch 1 / 1 ...\n",
      "[Connectivity computation done]\n"
     ]
    },
    {
     "name": "stderr",
     "output_type": "stream",
     "text": [
      "/Users/jakubblaha/Documents/thesis/thesis-python/common.py:122: RuntimeWarning: There were no Annotations stored in <EpochsArray | 1 events (all good), 0 – 7.992 s (baseline off), ~134 kB, data loaded,\n",
      " '1': 1>, so metadata was not modified.\n",
      "  res = mne_connectivity.spectral_connectivity_time(\n"
     ]
    },
    {
     "name": "stdout",
     "output_type": "stream",
     "text": [
      "only using indices for lower-triangular matrix\n",
      "Connectivity computation...\n",
      "   Processing epoch 1 / 1 ...\n",
      "[Connectivity computation done]\n"
     ]
    },
    {
     "name": "stderr",
     "output_type": "stream",
     "text": [
      "/Users/jakubblaha/Documents/thesis/thesis-python/common.py:122: RuntimeWarning: There were no Annotations stored in <EpochsArray | 1 events (all good), 0 – 7.992 s (baseline off), ~134 kB, data loaded,\n",
      " '1': 1>, so metadata was not modified.\n",
      "  res = mne_connectivity.spectral_connectivity_time(\n"
     ]
    },
    {
     "name": "stdout",
     "output_type": "stream",
     "text": [
      "only using indices for lower-triangular matrix\n",
      "Connectivity computation...\n",
      "   Processing epoch 1 / 1 ...\n"
     ]
    },
    {
     "name": "stderr",
     "output_type": "stream",
     "text": [
      "/Users/jakubblaha/Documents/thesis/thesis-python/common.py:122: RuntimeWarning: There were no Annotations stored in <EpochsArray | 1 events (all good), 0 – 7.992 s (baseline off), ~134 kB, data loaded,\n",
      " '1': 1>, so metadata was not modified.\n",
      "  res = mne_connectivity.spectral_connectivity_time(\n"
     ]
    },
    {
     "name": "stdout",
     "output_type": "stream",
     "text": [
      "[Connectivity computation done]\n",
      "only using indices for lower-triangular matrix\n",
      "Connectivity computation...\n",
      "   Processing epoch 1 / 1 ...\n",
      "[Connectivity computation done]\n"
     ]
    },
    {
     "name": "stderr",
     "output_type": "stream",
     "text": [
      "/Users/jakubblaha/Documents/thesis/thesis-python/common.py:122: RuntimeWarning: There were no Annotations stored in <EpochsArray | 1 events (all good), 0 – 7.992 s (baseline off), ~134 kB, data loaded,\n",
      " '1': 1>, so metadata was not modified.\n",
      "  res = mne_connectivity.spectral_connectivity_time(\n"
     ]
    },
    {
     "name": "stdout",
     "output_type": "stream",
     "text": [
      "only using indices for lower-triangular matrix\n",
      "Connectivity computation...\n",
      "   Processing epoch 1 / 1 ...\n",
      "[Connectivity computation done]\n"
     ]
    },
    {
     "name": "stderr",
     "output_type": "stream",
     "text": [
      "/Users/jakubblaha/Documents/thesis/thesis-python/common.py:122: RuntimeWarning: There were no Annotations stored in <EpochsArray | 1 events (all good), 0 – 7.992 s (baseline off), ~134 kB, data loaded,\n",
      " '1': 1>, so metadata was not modified.\n",
      "  res = mne_connectivity.spectral_connectivity_time(\n"
     ]
    },
    {
     "name": "stdout",
     "output_type": "stream",
     "text": [
      "only using indices for lower-triangular matrix\n",
      "Connectivity computation...\n",
      "   Processing epoch 1 / 1 ...\n",
      "[Connectivity computation done]\n"
     ]
    },
    {
     "name": "stderr",
     "output_type": "stream",
     "text": [
      "/Users/jakubblaha/Documents/thesis/thesis-python/common.py:122: RuntimeWarning: There were no Annotations stored in <EpochsArray | 1 events (all good), 0 – 7.992 s (baseline off), ~134 kB, data loaded,\n",
      " '1': 1>, so metadata was not modified.\n",
      "  res = mne_connectivity.spectral_connectivity_time(\n"
     ]
    },
    {
     "name": "stdout",
     "output_type": "stream",
     "text": [
      "only using indices for lower-triangular matrix\n",
      "Connectivity computation...\n",
      "   Processing epoch 1 / 1 ...\n",
      "[Connectivity computation done]\n"
     ]
    },
    {
     "name": "stderr",
     "output_type": "stream",
     "text": [
      "/Users/jakubblaha/Documents/thesis/thesis-python/common.py:122: RuntimeWarning: There were no Annotations stored in <EpochsArray | 1 events (all good), 0 – 7.992 s (baseline off), ~134 kB, data loaded,\n",
      " '1': 1>, so metadata was not modified.\n",
      "  res = mne_connectivity.spectral_connectivity_time(\n"
     ]
    },
    {
     "name": "stdout",
     "output_type": "stream",
     "text": [
      "only using indices for lower-triangular matrix\n",
      "Connectivity computation...\n",
      "   Processing epoch 1 / 1 ...\n"
     ]
    },
    {
     "name": "stderr",
     "output_type": "stream",
     "text": [
      "/Users/jakubblaha/Documents/thesis/thesis-python/common.py:122: RuntimeWarning: There were no Annotations stored in <EpochsArray | 1 events (all good), 0 – 7.992 s (baseline off), ~134 kB, data loaded,\n",
      " '1': 1>, so metadata was not modified.\n",
      "  res = mne_connectivity.spectral_connectivity_time(\n"
     ]
    },
    {
     "name": "stdout",
     "output_type": "stream",
     "text": [
      "[Connectivity computation done]\n",
      "only using indices for lower-triangular matrix\n",
      "Connectivity computation...\n",
      "   Processing epoch 1 / 1 ...\n",
      "[Connectivity computation done]\n"
     ]
    },
    {
     "name": "stderr",
     "output_type": "stream",
     "text": [
      "/Users/jakubblaha/Documents/thesis/thesis-python/common.py:122: RuntimeWarning: There were no Annotations stored in <EpochsArray | 1 events (all good), 0 – 7.992 s (baseline off), ~134 kB, data loaded,\n",
      " '1': 1>, so metadata was not modified.\n",
      "  res = mne_connectivity.spectral_connectivity_time(\n"
     ]
    },
    {
     "name": "stdout",
     "output_type": "stream",
     "text": [
      "only using indices for lower-triangular matrix\n",
      "Connectivity computation...\n",
      "   Processing epoch 1 / 1 ...\n",
      "[Connectivity computation done]\n"
     ]
    },
    {
     "name": "stderr",
     "output_type": "stream",
     "text": [
      "/Users/jakubblaha/Documents/thesis/thesis-python/common.py:122: RuntimeWarning: There were no Annotations stored in <EpochsArray | 1 events (all good), 0 – 7.992 s (baseline off), ~134 kB, data loaded,\n",
      " '1': 1>, so metadata was not modified.\n",
      "  res = mne_connectivity.spectral_connectivity_time(\n"
     ]
    },
    {
     "name": "stdout",
     "output_type": "stream",
     "text": [
      "only using indices for lower-triangular matrix\n",
      "Connectivity computation...\n",
      "   Processing epoch 1 / 1 ...\n",
      "[Connectivity computation done]\n"
     ]
    },
    {
     "name": "stderr",
     "output_type": "stream",
     "text": [
      "/Users/jakubblaha/Documents/thesis/thesis-python/common.py:122: RuntimeWarning: There were no Annotations stored in <EpochsArray | 1 events (all good), 0 – 7.992 s (baseline off), ~134 kB, data loaded,\n",
      " '1': 1>, so metadata was not modified.\n",
      "  res = mne_connectivity.spectral_connectivity_time(\n"
     ]
    },
    {
     "name": "stdout",
     "output_type": "stream",
     "text": [
      "only using indices for lower-triangular matrix\n",
      "Connectivity computation...\n",
      "   Processing epoch 1 / 1 ...\n",
      "[Connectivity computation done]\n"
     ]
    },
    {
     "name": "stderr",
     "output_type": "stream",
     "text": [
      "/Users/jakubblaha/Documents/thesis/thesis-python/common.py:122: RuntimeWarning: There were no Annotations stored in <EpochsArray | 1 events (all good), 0 – 7.992 s (baseline off), ~134 kB, data loaded,\n",
      " '1': 1>, so metadata was not modified.\n",
      "  res = mne_connectivity.spectral_connectivity_time(\n"
     ]
    },
    {
     "name": "stdout",
     "output_type": "stream",
     "text": [
      "only using indices for lower-triangular matrix\n",
      "Connectivity computation...\n",
      "   Processing epoch 1 / 1 ...\n"
     ]
    },
    {
     "name": "stderr",
     "output_type": "stream",
     "text": [
      "/Users/jakubblaha/Documents/thesis/thesis-python/common.py:122: RuntimeWarning: There were no Annotations stored in <EpochsArray | 1 events (all good), 0 – 7.992 s (baseline off), ~134 kB, data loaded,\n",
      " '1': 1>, so metadata was not modified.\n",
      "  res = mne_connectivity.spectral_connectivity_time(\n"
     ]
    },
    {
     "name": "stdout",
     "output_type": "stream",
     "text": [
      "[Connectivity computation done]\n",
      "only using indices for lower-triangular matrix\n",
      "Connectivity computation...\n",
      "   Processing epoch 1 / 1 ...\n",
      "[Connectivity computation done]\n"
     ]
    },
    {
     "name": "stderr",
     "output_type": "stream",
     "text": [
      "/Users/jakubblaha/Documents/thesis/thesis-python/common.py:122: RuntimeWarning: There were no Annotations stored in <EpochsArray | 1 events (all good), 0 – 7.992 s (baseline off), ~134 kB, data loaded,\n",
      " '1': 1>, so metadata was not modified.\n",
      "  res = mne_connectivity.spectral_connectivity_time(\n"
     ]
    },
    {
     "name": "stdout",
     "output_type": "stream",
     "text": [
      "only using indices for lower-triangular matrix\n",
      "Connectivity computation...\n",
      "   Processing epoch 1 / 1 ...\n",
      "[Connectivity computation done]\n"
     ]
    },
    {
     "name": "stderr",
     "output_type": "stream",
     "text": [
      "/Users/jakubblaha/Documents/thesis/thesis-python/common.py:122: RuntimeWarning: There were no Annotations stored in <EpochsArray | 1 events (all good), 0 – 7.992 s (baseline off), ~134 kB, data loaded,\n",
      " '1': 1>, so metadata was not modified.\n",
      "  res = mne_connectivity.spectral_connectivity_time(\n"
     ]
    },
    {
     "name": "stdout",
     "output_type": "stream",
     "text": [
      "only using indices for lower-triangular matrix\n",
      "Connectivity computation...\n",
      "   Processing epoch 1 / 1 ...\n",
      "[Connectivity computation done]\n"
     ]
    },
    {
     "name": "stderr",
     "output_type": "stream",
     "text": [
      "/Users/jakubblaha/Documents/thesis/thesis-python/common.py:122: RuntimeWarning: There were no Annotations stored in <EpochsArray | 1 events (all good), 0 – 7.992 s (baseline off), ~134 kB, data loaded,\n",
      " '1': 1>, so metadata was not modified.\n",
      "  res = mne_connectivity.spectral_connectivity_time(\n"
     ]
    },
    {
     "name": "stdout",
     "output_type": "stream",
     "text": [
      "only using indices for lower-triangular matrix\n",
      "Connectivity computation...\n",
      "   Processing epoch 1 / 1 ...\n",
      "[Connectivity computation done]\n"
     ]
    },
    {
     "name": "stderr",
     "output_type": "stream",
     "text": [
      "/Users/jakubblaha/Documents/thesis/thesis-python/common.py:122: RuntimeWarning: There were no Annotations stored in <EpochsArray | 1 events (all good), 0 – 7.992 s (baseline off), ~134 kB, data loaded,\n",
      " '1': 1>, so metadata was not modified.\n",
      "  res = mne_connectivity.spectral_connectivity_time(\n"
     ]
    },
    {
     "name": "stdout",
     "output_type": "stream",
     "text": [
      "only using indices for lower-triangular matrix\n",
      "Connectivity computation...\n",
      "   Processing epoch 1 / 1 ...\n"
     ]
    },
    {
     "name": "stderr",
     "output_type": "stream",
     "text": [
      "/Users/jakubblaha/Documents/thesis/thesis-python/common.py:122: RuntimeWarning: There were no Annotations stored in <EpochsArray | 1 events (all good), 0 – 7.992 s (baseline off), ~134 kB, data loaded,\n",
      " '1': 1>, so metadata was not modified.\n",
      "  res = mne_connectivity.spectral_connectivity_time(\n"
     ]
    },
    {
     "name": "stdout",
     "output_type": "stream",
     "text": [
      "[Connectivity computation done]\n",
      "only using indices for lower-triangular matrix\n",
      "Connectivity computation...\n",
      "   Processing epoch 1 / 1 ...\n",
      "[Connectivity computation done]\n"
     ]
    },
    {
     "name": "stderr",
     "output_type": "stream",
     "text": [
      "/Users/jakubblaha/Documents/thesis/thesis-python/common.py:122: RuntimeWarning: There were no Annotations stored in <EpochsArray | 1 events (all good), 0 – 7.992 s (baseline off), ~134 kB, data loaded,\n",
      " '1': 1>, so metadata was not modified.\n",
      "  res = mne_connectivity.spectral_connectivity_time(\n"
     ]
    },
    {
     "name": "stdout",
     "output_type": "stream",
     "text": [
      "only using indices for lower-triangular matrix\n",
      "Connectivity computation...\n",
      "   Processing epoch 1 / 1 ...\n",
      "[Connectivity computation done]\n"
     ]
    },
    {
     "name": "stderr",
     "output_type": "stream",
     "text": [
      "/Users/jakubblaha/Documents/thesis/thesis-python/common.py:122: RuntimeWarning: There were no Annotations stored in <EpochsArray | 1 events (all good), 0 – 7.992 s (baseline off), ~134 kB, data loaded,\n",
      " '1': 1>, so metadata was not modified.\n",
      "  res = mne_connectivity.spectral_connectivity_time(\n"
     ]
    },
    {
     "name": "stdout",
     "output_type": "stream",
     "text": [
      "only using indices for lower-triangular matrix\n",
      "Connectivity computation...\n",
      "   Processing epoch 1 / 1 ...\n",
      "[Connectivity computation done]\n"
     ]
    },
    {
     "name": "stderr",
     "output_type": "stream",
     "text": [
      "/Users/jakubblaha/Documents/thesis/thesis-python/common.py:122: RuntimeWarning: There were no Annotations stored in <EpochsArray | 1 events (all good), 0 – 7.992 s (baseline off), ~134 kB, data loaded,\n",
      " '1': 1>, so metadata was not modified.\n",
      "  res = mne_connectivity.spectral_connectivity_time(\n"
     ]
    },
    {
     "name": "stdout",
     "output_type": "stream",
     "text": [
      "only using indices for lower-triangular matrix\n",
      "Connectivity computation...\n",
      "   Processing epoch 1 / 1 ...\n",
      "[Connectivity computation done]\n"
     ]
    },
    {
     "name": "stderr",
     "output_type": "stream",
     "text": [
      "/Users/jakubblaha/Documents/thesis/thesis-python/common.py:122: RuntimeWarning: There were no Annotations stored in <EpochsArray | 1 events (all good), 0 – 7.992 s (baseline off), ~134 kB, data loaded,\n",
      " '1': 1>, so metadata was not modified.\n",
      "  res = mne_connectivity.spectral_connectivity_time(\n"
     ]
    },
    {
     "name": "stdout",
     "output_type": "stream",
     "text": [
      "only using indices for lower-triangular matrix\n",
      "Connectivity computation...\n",
      "   Processing epoch 1 / 1 ...\n"
     ]
    },
    {
     "name": "stderr",
     "output_type": "stream",
     "text": [
      "/Users/jakubblaha/Documents/thesis/thesis-python/common.py:122: RuntimeWarning: There were no Annotations stored in <EpochsArray | 1 events (all good), 0 – 7.992 s (baseline off), ~134 kB, data loaded,\n",
      " '1': 1>, so metadata was not modified.\n",
      "  res = mne_connectivity.spectral_connectivity_time(\n"
     ]
    },
    {
     "name": "stdout",
     "output_type": "stream",
     "text": [
      "[Connectivity computation done]\n",
      "only using indices for lower-triangular matrix\n",
      "Connectivity computation...\n",
      "   Processing epoch 1 / 1 ...\n",
      "[Connectivity computation done]\n"
     ]
    },
    {
     "name": "stderr",
     "output_type": "stream",
     "text": [
      "/Users/jakubblaha/Documents/thesis/thesis-python/common.py:122: RuntimeWarning: There were no Annotations stored in <EpochsArray | 1 events (all good), 0 – 7.992 s (baseline off), ~134 kB, data loaded,\n",
      " '1': 1>, so metadata was not modified.\n",
      "  res = mne_connectivity.spectral_connectivity_time(\n"
     ]
    },
    {
     "name": "stdout",
     "output_type": "stream",
     "text": [
      "only using indices for lower-triangular matrix\n",
      "Connectivity computation...\n",
      "   Processing epoch 1 / 1 ...\n",
      "[Connectivity computation done]\n"
     ]
    },
    {
     "name": "stderr",
     "output_type": "stream",
     "text": [
      "/Users/jakubblaha/Documents/thesis/thesis-python/common.py:122: RuntimeWarning: There were no Annotations stored in <EpochsArray | 1 events (all good), 0 – 7.992 s (baseline off), ~134 kB, data loaded,\n",
      " '1': 1>, so metadata was not modified.\n",
      "  res = mne_connectivity.spectral_connectivity_time(\n"
     ]
    },
    {
     "name": "stdout",
     "output_type": "stream",
     "text": [
      "only using indices for lower-triangular matrix\n",
      "Connectivity computation...\n",
      "   Processing epoch 1 / 1 ...\n",
      "[Connectivity computation done]\n"
     ]
    },
    {
     "name": "stderr",
     "output_type": "stream",
     "text": [
      "/Users/jakubblaha/Documents/thesis/thesis-python/common.py:122: RuntimeWarning: There were no Annotations stored in <EpochsArray | 1 events (all good), 0 – 7.992 s (baseline off), ~134 kB, data loaded,\n",
      " '1': 1>, so metadata was not modified.\n",
      "  res = mne_connectivity.spectral_connectivity_time(\n"
     ]
    },
    {
     "name": "stdout",
     "output_type": "stream",
     "text": [
      "only using indices for lower-triangular matrix\n",
      "Connectivity computation...\n",
      "   Processing epoch 1 / 1 ...\n",
      "[Connectivity computation done]\n"
     ]
    },
    {
     "name": "stderr",
     "output_type": "stream",
     "text": [
      "/Users/jakubblaha/Documents/thesis/thesis-python/common.py:122: RuntimeWarning: There were no Annotations stored in <EpochsArray | 1 events (all good), 0 – 7.992 s (baseline off), ~134 kB, data loaded,\n",
      " '1': 1>, so metadata was not modified.\n",
      "  res = mne_connectivity.spectral_connectivity_time(\n"
     ]
    },
    {
     "name": "stdout",
     "output_type": "stream",
     "text": [
      "only using indices for lower-triangular matrix\n",
      "Connectivity computation...\n",
      "   Processing epoch 1 / 1 ...\n"
     ]
    },
    {
     "name": "stderr",
     "output_type": "stream",
     "text": [
      "/Users/jakubblaha/Documents/thesis/thesis-python/common.py:122: RuntimeWarning: There were no Annotations stored in <EpochsArray | 1 events (all good), 0 – 7.992 s (baseline off), ~134 kB, data loaded,\n",
      " '1': 1>, so metadata was not modified.\n",
      "  res = mne_connectivity.spectral_connectivity_time(\n"
     ]
    },
    {
     "name": "stdout",
     "output_type": "stream",
     "text": [
      "[Connectivity computation done]\n",
      "only using indices for lower-triangular matrix\n",
      "Connectivity computation...\n",
      "   Processing epoch 1 / 1 ...\n",
      "[Connectivity computation done]\n"
     ]
    },
    {
     "name": "stderr",
     "output_type": "stream",
     "text": [
      "/Users/jakubblaha/Documents/thesis/thesis-python/common.py:122: RuntimeWarning: There were no Annotations stored in <EpochsArray | 1 events (all good), 0 – 7.992 s (baseline off), ~134 kB, data loaded,\n",
      " '1': 1>, so metadata was not modified.\n",
      "  res = mne_connectivity.spectral_connectivity_time(\n"
     ]
    },
    {
     "name": "stdout",
     "output_type": "stream",
     "text": [
      "only using indices for lower-triangular matrix\n",
      "Connectivity computation...\n",
      "   Processing epoch 1 / 1 ...\n",
      "[Connectivity computation done]\n"
     ]
    },
    {
     "name": "stderr",
     "output_type": "stream",
     "text": [
      "/Users/jakubblaha/Documents/thesis/thesis-python/common.py:122: RuntimeWarning: There were no Annotations stored in <EpochsArray | 1 events (all good), 0 – 7.992 s (baseline off), ~134 kB, data loaded,\n",
      " '1': 1>, so metadata was not modified.\n",
      "  res = mne_connectivity.spectral_connectivity_time(\n"
     ]
    },
    {
     "name": "stdout",
     "output_type": "stream",
     "text": [
      "only using indices for lower-triangular matrix\n",
      "Connectivity computation...\n",
      "   Processing epoch 1 / 1 ...\n",
      "[Connectivity computation done]\n"
     ]
    },
    {
     "name": "stderr",
     "output_type": "stream",
     "text": [
      "/Users/jakubblaha/Documents/thesis/thesis-python/common.py:122: RuntimeWarning: There were no Annotations stored in <EpochsArray | 1 events (all good), 0 – 7.992 s (baseline off), ~134 kB, data loaded,\n",
      " '1': 1>, so metadata was not modified.\n",
      "  res = mne_connectivity.spectral_connectivity_time(\n"
     ]
    },
    {
     "name": "stdout",
     "output_type": "stream",
     "text": [
      "only using indices for lower-triangular matrix\n",
      "Connectivity computation...\n",
      "   Processing epoch 1 / 1 ...\n",
      "[Connectivity computation done]\n"
     ]
    },
    {
     "name": "stderr",
     "output_type": "stream",
     "text": [
      "/Users/jakubblaha/Documents/thesis/thesis-python/common.py:122: RuntimeWarning: There were no Annotations stored in <EpochsArray | 1 events (all good), 0 – 7.992 s (baseline off), ~134 kB, data loaded,\n",
      " '1': 1>, so metadata was not modified.\n",
      "  res = mne_connectivity.spectral_connectivity_time(\n"
     ]
    },
    {
     "name": "stdout",
     "output_type": "stream",
     "text": [
      "only using indices for lower-triangular matrix\n",
      "Connectivity computation...\n",
      "   Processing epoch 1 / 1 ...\n"
     ]
    },
    {
     "name": "stderr",
     "output_type": "stream",
     "text": [
      "/Users/jakubblaha/Documents/thesis/thesis-python/common.py:122: RuntimeWarning: There were no Annotations stored in <EpochsArray | 1 events (all good), 0 – 7.992 s (baseline off), ~134 kB, data loaded,\n",
      " '1': 1>, so metadata was not modified.\n",
      "  res = mne_connectivity.spectral_connectivity_time(\n"
     ]
    },
    {
     "name": "stdout",
     "output_type": "stream",
     "text": [
      "[Connectivity computation done]\n",
      "only using indices for lower-triangular matrix\n",
      "Connectivity computation...\n",
      "   Processing epoch 1 / 1 ...\n",
      "[Connectivity computation done]\n"
     ]
    },
    {
     "name": "stderr",
     "output_type": "stream",
     "text": [
      "/Users/jakubblaha/Documents/thesis/thesis-python/common.py:122: RuntimeWarning: There were no Annotations stored in <EpochsArray | 1 events (all good), 0 – 7.992 s (baseline off), ~134 kB, data loaded,\n",
      " '1': 1>, so metadata was not modified.\n",
      "  res = mne_connectivity.spectral_connectivity_time(\n"
     ]
    },
    {
     "name": "stdout",
     "output_type": "stream",
     "text": [
      "only using indices for lower-triangular matrix\n",
      "Connectivity computation...\n",
      "   Processing epoch 1 / 1 ...\n",
      "[Connectivity computation done]\n"
     ]
    },
    {
     "name": "stderr",
     "output_type": "stream",
     "text": [
      "/Users/jakubblaha/Documents/thesis/thesis-python/common.py:122: RuntimeWarning: There were no Annotations stored in <EpochsArray | 1 events (all good), 0 – 7.992 s (baseline off), ~134 kB, data loaded,\n",
      " '1': 1>, so metadata was not modified.\n",
      "  res = mne_connectivity.spectral_connectivity_time(\n"
     ]
    },
    {
     "name": "stdout",
     "output_type": "stream",
     "text": [
      "only using indices for lower-triangular matrix\n",
      "Connectivity computation...\n",
      "   Processing epoch 1 / 1 ...\n",
      "[Connectivity computation done]\n"
     ]
    },
    {
     "name": "stderr",
     "output_type": "stream",
     "text": [
      "/Users/jakubblaha/Documents/thesis/thesis-python/common.py:122: RuntimeWarning: There were no Annotations stored in <EpochsArray | 1 events (all good), 0 – 7.992 s (baseline off), ~134 kB, data loaded,\n",
      " '1': 1>, so metadata was not modified.\n",
      "  res = mne_connectivity.spectral_connectivity_time(\n"
     ]
    },
    {
     "name": "stdout",
     "output_type": "stream",
     "text": [
      "only using indices for lower-triangular matrix\n",
      "Connectivity computation...\n",
      "   Processing epoch 1 / 1 ...\n",
      "[Connectivity computation done]\n"
     ]
    },
    {
     "name": "stderr",
     "output_type": "stream",
     "text": [
      "/Users/jakubblaha/Documents/thesis/thesis-python/common.py:122: RuntimeWarning: There were no Annotations stored in <EpochsArray | 1 events (all good), 0 – 7.992 s (baseline off), ~134 kB, data loaded,\n",
      " '1': 1>, so metadata was not modified.\n",
      "  res = mne_connectivity.spectral_connectivity_time(\n"
     ]
    },
    {
     "name": "stdout",
     "output_type": "stream",
     "text": [
      "only using indices for lower-triangular matrix\n",
      "Connectivity computation...\n",
      "   Processing epoch 1 / 1 ...\n"
     ]
    },
    {
     "name": "stderr",
     "output_type": "stream",
     "text": [
      "/Users/jakubblaha/Documents/thesis/thesis-python/common.py:122: RuntimeWarning: There were no Annotations stored in <EpochsArray | 1 events (all good), 0 – 7.992 s (baseline off), ~134 kB, data loaded,\n",
      " '1': 1>, so metadata was not modified.\n",
      "  res = mne_connectivity.spectral_connectivity_time(\n"
     ]
    },
    {
     "name": "stdout",
     "output_type": "stream",
     "text": [
      "[Connectivity computation done]\n",
      "only using indices for lower-triangular matrix\n",
      "Connectivity computation...\n",
      "   Processing epoch 1 / 1 ...\n",
      "[Connectivity computation done]\n"
     ]
    },
    {
     "name": "stderr",
     "output_type": "stream",
     "text": [
      "/Users/jakubblaha/Documents/thesis/thesis-python/common.py:122: RuntimeWarning: There were no Annotations stored in <EpochsArray | 1 events (all good), 0 – 7.992 s (baseline off), ~134 kB, data loaded,\n",
      " '1': 1>, so metadata was not modified.\n",
      "  res = mne_connectivity.spectral_connectivity_time(\n"
     ]
    },
    {
     "name": "stdout",
     "output_type": "stream",
     "text": [
      "only using indices for lower-triangular matrix\n",
      "Connectivity computation...\n",
      "   Processing epoch 1 / 1 ...\n",
      "[Connectivity computation done]\n"
     ]
    },
    {
     "name": "stderr",
     "output_type": "stream",
     "text": [
      "/Users/jakubblaha/Documents/thesis/thesis-python/common.py:122: RuntimeWarning: There were no Annotations stored in <EpochsArray | 1 events (all good), 0 – 7.992 s (baseline off), ~134 kB, data loaded,\n",
      " '1': 1>, so metadata was not modified.\n",
      "  res = mne_connectivity.spectral_connectivity_time(\n"
     ]
    },
    {
     "name": "stdout",
     "output_type": "stream",
     "text": [
      "only using indices for lower-triangular matrix\n",
      "Connectivity computation...\n",
      "   Processing epoch 1 / 1 ...\n",
      "[Connectivity computation done]\n"
     ]
    },
    {
     "name": "stderr",
     "output_type": "stream",
     "text": [
      "/Users/jakubblaha/Documents/thesis/thesis-python/common.py:122: RuntimeWarning: There were no Annotations stored in <EpochsArray | 1 events (all good), 0 – 7.992 s (baseline off), ~134 kB, data loaded,\n",
      " '1': 1>, so metadata was not modified.\n",
      "  res = mne_connectivity.spectral_connectivity_time(\n"
     ]
    },
    {
     "name": "stdout",
     "output_type": "stream",
     "text": [
      "only using indices for lower-triangular matrix\n",
      "Connectivity computation...\n",
      "   Processing epoch 1 / 1 ...\n",
      "[Connectivity computation done]\n"
     ]
    },
    {
     "name": "stderr",
     "output_type": "stream",
     "text": [
      "/Users/jakubblaha/Documents/thesis/thesis-python/common.py:122: RuntimeWarning: There were no Annotations stored in <EpochsArray | 1 events (all good), 0 – 7.992 s (baseline off), ~134 kB, data loaded,\n",
      " '1': 1>, so metadata was not modified.\n",
      "  res = mne_connectivity.spectral_connectivity_time(\n"
     ]
    },
    {
     "name": "stdout",
     "output_type": "stream",
     "text": [
      "only using indices for lower-triangular matrix\n",
      "Connectivity computation...\n",
      "   Processing epoch 1 / 1 ...\n",
      "[Connectivity computation done]\n"
     ]
    },
    {
     "name": "stderr",
     "output_type": "stream",
     "text": [
      "/Users/jakubblaha/Documents/thesis/thesis-python/common.py:122: RuntimeWarning: There were no Annotations stored in <EpochsArray | 1 events (all good), 0 – 7.992 s (baseline off), ~134 kB, data loaded,\n",
      " '1': 1>, so metadata was not modified.\n",
      "  res = mne_connectivity.spectral_connectivity_time(\n"
     ]
    },
    {
     "name": "stdout",
     "output_type": "stream",
     "text": [
      "only using indices for lower-triangular matrix\n",
      "Connectivity computation...\n",
      "   Processing epoch 1 / 1 ...\n",
      "[Connectivity computation done]\n"
     ]
    },
    {
     "name": "stderr",
     "output_type": "stream",
     "text": [
      "/Users/jakubblaha/Documents/thesis/thesis-python/common.py:122: RuntimeWarning: There were no Annotations stored in <EpochsArray | 1 events (all good), 0 – 7.992 s (baseline off), ~134 kB, data loaded,\n",
      " '1': 1>, so metadata was not modified.\n",
      "  res = mne_connectivity.spectral_connectivity_time(\n"
     ]
    },
    {
     "name": "stdout",
     "output_type": "stream",
     "text": [
      "only using indices for lower-triangular matrix\n",
      "Connectivity computation...\n",
      "   Processing epoch 1 / 1 ...\n",
      "[Connectivity computation done]\n"
     ]
    },
    {
     "name": "stderr",
     "output_type": "stream",
     "text": [
      "/Users/jakubblaha/Documents/thesis/thesis-python/common.py:122: RuntimeWarning: There were no Annotations stored in <EpochsArray | 1 events (all good), 0 – 7.992 s (baseline off), ~134 kB, data loaded,\n",
      " '1': 1>, so metadata was not modified.\n",
      "  res = mne_connectivity.spectral_connectivity_time(\n"
     ]
    },
    {
     "name": "stdout",
     "output_type": "stream",
     "text": [
      "only using indices for lower-triangular matrix\n",
      "Connectivity computation...\n",
      "   Processing epoch 1 / 1 ...\n",
      "[Connectivity computation done]\n"
     ]
    },
    {
     "name": "stderr",
     "output_type": "stream",
     "text": [
      "/Users/jakubblaha/Documents/thesis/thesis-python/common.py:122: RuntimeWarning: There were no Annotations stored in <EpochsArray | 1 events (all good), 0 – 7.992 s (baseline off), ~134 kB, data loaded,\n",
      " '1': 1>, so metadata was not modified.\n",
      "  res = mne_connectivity.spectral_connectivity_time(\n"
     ]
    },
    {
     "name": "stdout",
     "output_type": "stream",
     "text": [
      "only using indices for lower-triangular matrix\n",
      "Connectivity computation...\n",
      "   Processing epoch 1 / 1 ...\n",
      "[Connectivity computation done]\n"
     ]
    },
    {
     "name": "stderr",
     "output_type": "stream",
     "text": [
      "/Users/jakubblaha/Documents/thesis/thesis-python/common.py:122: RuntimeWarning: There were no Annotations stored in <EpochsArray | 1 events (all good), 0 – 7.992 s (baseline off), ~134 kB, data loaded,\n",
      " '1': 1>, so metadata was not modified.\n",
      "  res = mne_connectivity.spectral_connectivity_time(\n"
     ]
    },
    {
     "name": "stdout",
     "output_type": "stream",
     "text": [
      "only using indices for lower-triangular matrix\n",
      "Connectivity computation...\n",
      "   Processing epoch 1 / 1 ...\n",
      "[Connectivity computation done]\n"
     ]
    },
    {
     "name": "stderr",
     "output_type": "stream",
     "text": [
      "/Users/jakubblaha/Documents/thesis/thesis-python/common.py:122: RuntimeWarning: There were no Annotations stored in <EpochsArray | 1 events (all good), 0 – 7.992 s (baseline off), ~134 kB, data loaded,\n",
      " '1': 1>, so metadata was not modified.\n",
      "  res = mne_connectivity.spectral_connectivity_time(\n"
     ]
    },
    {
     "name": "stdout",
     "output_type": "stream",
     "text": [
      "only using indices for lower-triangular matrix\n",
      "Connectivity computation...\n",
      "   Processing epoch 1 / 1 ...\n",
      "[Connectivity computation done]\n"
     ]
    },
    {
     "name": "stderr",
     "output_type": "stream",
     "text": [
      "/Users/jakubblaha/Documents/thesis/thesis-python/common.py:122: RuntimeWarning: There were no Annotations stored in <EpochsArray | 1 events (all good), 0 – 7.992 s (baseline off), ~134 kB, data loaded,\n",
      " '1': 1>, so metadata was not modified.\n",
      "  res = mne_connectivity.spectral_connectivity_time(\n"
     ]
    },
    {
     "name": "stdout",
     "output_type": "stream",
     "text": [
      "only using indices for lower-triangular matrix\n",
      "Connectivity computation...\n",
      "   Processing epoch 1 / 1 ...\n",
      "[Connectivity computation done]\n"
     ]
    },
    {
     "name": "stderr",
     "output_type": "stream",
     "text": [
      "/Users/jakubblaha/Documents/thesis/thesis-python/common.py:122: RuntimeWarning: There were no Annotations stored in <EpochsArray | 1 events (all good), 0 – 7.992 s (baseline off), ~134 kB, data loaded,\n",
      " '1': 1>, so metadata was not modified.\n",
      "  res = mne_connectivity.spectral_connectivity_time(\n"
     ]
    },
    {
     "name": "stdout",
     "output_type": "stream",
     "text": [
      "only using indices for lower-triangular matrix\n",
      "Connectivity computation...\n",
      "   Processing epoch 1 / 1 ...\n",
      "[Connectivity computation done]\n"
     ]
    },
    {
     "name": "stderr",
     "output_type": "stream",
     "text": [
      "/Users/jakubblaha/Documents/thesis/thesis-python/common.py:122: RuntimeWarning: There were no Annotations stored in <EpochsArray | 1 events (all good), 0 – 7.992 s (baseline off), ~134 kB, data loaded,\n",
      " '1': 1>, so metadata was not modified.\n",
      "  res = mne_connectivity.spectral_connectivity_time(\n"
     ]
    },
    {
     "name": "stdout",
     "output_type": "stream",
     "text": [
      "only using indices for lower-triangular matrix\n",
      "Connectivity computation...\n",
      "   Processing epoch 1 / 1 ...\n"
     ]
    },
    {
     "name": "stderr",
     "output_type": "stream",
     "text": [
      "/Users/jakubblaha/Documents/thesis/thesis-python/common.py:122: RuntimeWarning: There were no Annotations stored in <EpochsArray | 1 events (all good), 0 – 7.992 s (baseline off), ~134 kB, data loaded,\n",
      " '1': 1>, so metadata was not modified.\n",
      "  res = mne_connectivity.spectral_connectivity_time(\n"
     ]
    },
    {
     "name": "stdout",
     "output_type": "stream",
     "text": [
      "[Connectivity computation done]\n",
      "only using indices for lower-triangular matrix\n",
      "Connectivity computation...\n",
      "   Processing epoch 1 / 1 ...\n",
      "[Connectivity computation done]\n"
     ]
    },
    {
     "name": "stderr",
     "output_type": "stream",
     "text": [
      "/Users/jakubblaha/Documents/thesis/thesis-python/common.py:122: RuntimeWarning: There were no Annotations stored in <EpochsArray | 1 events (all good), 0 – 7.992 s (baseline off), ~134 kB, data loaded,\n",
      " '1': 1>, so metadata was not modified.\n",
      "  res = mne_connectivity.spectral_connectivity_time(\n"
     ]
    },
    {
     "name": "stdout",
     "output_type": "stream",
     "text": [
      "only using indices for lower-triangular matrix\n",
      "Connectivity computation...\n",
      "   Processing epoch 1 / 1 ...\n",
      "[Connectivity computation done]\n"
     ]
    },
    {
     "name": "stderr",
     "output_type": "stream",
     "text": [
      "/Users/jakubblaha/Documents/thesis/thesis-python/common.py:122: RuntimeWarning: There were no Annotations stored in <EpochsArray | 1 events (all good), 0 – 7.992 s (baseline off), ~134 kB, data loaded,\n",
      " '1': 1>, so metadata was not modified.\n",
      "  res = mne_connectivity.spectral_connectivity_time(\n"
     ]
    },
    {
     "name": "stdout",
     "output_type": "stream",
     "text": [
      "only using indices for lower-triangular matrix\n",
      "Connectivity computation...\n",
      "   Processing epoch 1 / 1 ...\n",
      "[Connectivity computation done]\n"
     ]
    },
    {
     "name": "stderr",
     "output_type": "stream",
     "text": [
      "/Users/jakubblaha/Documents/thesis/thesis-python/common.py:122: RuntimeWarning: There were no Annotations stored in <EpochsArray | 1 events (all good), 0 – 7.992 s (baseline off), ~134 kB, data loaded,\n",
      " '1': 1>, so metadata was not modified.\n",
      "  res = mne_connectivity.spectral_connectivity_time(\n"
     ]
    },
    {
     "name": "stdout",
     "output_type": "stream",
     "text": [
      "only using indices for lower-triangular matrix\n",
      "Connectivity computation...\n",
      "   Processing epoch 1 / 1 ...\n",
      "[Connectivity computation done]\n"
     ]
    },
    {
     "name": "stderr",
     "output_type": "stream",
     "text": [
      "/Users/jakubblaha/Documents/thesis/thesis-python/common.py:122: RuntimeWarning: There were no Annotations stored in <EpochsArray | 1 events (all good), 0 – 7.992 s (baseline off), ~134 kB, data loaded,\n",
      " '1': 1>, so metadata was not modified.\n",
      "  res = mne_connectivity.spectral_connectivity_time(\n"
     ]
    },
    {
     "name": "stdout",
     "output_type": "stream",
     "text": [
      "only using indices for lower-triangular matrix\n",
      "Connectivity computation...\n",
      "   Processing epoch 1 / 1 ...\n"
     ]
    },
    {
     "name": "stderr",
     "output_type": "stream",
     "text": [
      "/Users/jakubblaha/Documents/thesis/thesis-python/common.py:122: RuntimeWarning: There were no Annotations stored in <EpochsArray | 1 events (all good), 0 – 7.992 s (baseline off), ~134 kB, data loaded,\n",
      " '1': 1>, so metadata was not modified.\n",
      "  res = mne_connectivity.spectral_connectivity_time(\n"
     ]
    },
    {
     "name": "stdout",
     "output_type": "stream",
     "text": [
      "[Connectivity computation done]\n",
      "only using indices for lower-triangular matrix\n",
      "Connectivity computation...\n",
      "   Processing epoch 1 / 1 ...\n",
      "[Connectivity computation done]\n"
     ]
    },
    {
     "name": "stderr",
     "output_type": "stream",
     "text": [
      "/Users/jakubblaha/Documents/thesis/thesis-python/common.py:122: RuntimeWarning: There were no Annotations stored in <EpochsArray | 1 events (all good), 0 – 7.992 s (baseline off), ~134 kB, data loaded,\n",
      " '1': 1>, so metadata was not modified.\n",
      "  res = mne_connectivity.spectral_connectivity_time(\n"
     ]
    },
    {
     "name": "stdout",
     "output_type": "stream",
     "text": [
      "only using indices for lower-triangular matrix\n",
      "Connectivity computation...\n",
      "   Processing epoch 1 / 1 ...\n",
      "[Connectivity computation done]\n"
     ]
    },
    {
     "name": "stderr",
     "output_type": "stream",
     "text": [
      "/Users/jakubblaha/Documents/thesis/thesis-python/common.py:122: RuntimeWarning: There were no Annotations stored in <EpochsArray | 1 events (all good), 0 – 7.992 s (baseline off), ~134 kB, data loaded,\n",
      " '1': 1>, so metadata was not modified.\n",
      "  res = mne_connectivity.spectral_connectivity_time(\n"
     ]
    },
    {
     "name": "stdout",
     "output_type": "stream",
     "text": [
      "only using indices for lower-triangular matrix\n",
      "Connectivity computation...\n",
      "   Processing epoch 1 / 1 ...\n",
      "[Connectivity computation done]\n"
     ]
    },
    {
     "name": "stderr",
     "output_type": "stream",
     "text": [
      "/Users/jakubblaha/Documents/thesis/thesis-python/common.py:122: RuntimeWarning: There were no Annotations stored in <EpochsArray | 1 events (all good), 0 – 7.992 s (baseline off), ~134 kB, data loaded,\n",
      " '1': 1>, so metadata was not modified.\n",
      "  res = mne_connectivity.spectral_connectivity_time(\n"
     ]
    },
    {
     "name": "stdout",
     "output_type": "stream",
     "text": [
      "only using indices for lower-triangular matrix\n",
      "Connectivity computation...\n",
      "   Processing epoch 1 / 1 ...\n",
      "[Connectivity computation done]\n"
     ]
    },
    {
     "name": "stderr",
     "output_type": "stream",
     "text": [
      "/Users/jakubblaha/Documents/thesis/thesis-python/common.py:122: RuntimeWarning: There were no Annotations stored in <EpochsArray | 1 events (all good), 0 – 7.992 s (baseline off), ~134 kB, data loaded,\n",
      " '1': 1>, so metadata was not modified.\n",
      "  res = mne_connectivity.spectral_connectivity_time(\n"
     ]
    },
    {
     "name": "stdout",
     "output_type": "stream",
     "text": [
      "only using indices for lower-triangular matrix\n",
      "Connectivity computation...\n",
      "   Processing epoch 1 / 1 ...\n"
     ]
    },
    {
     "name": "stderr",
     "output_type": "stream",
     "text": [
      "/Users/jakubblaha/Documents/thesis/thesis-python/common.py:122: RuntimeWarning: There were no Annotations stored in <EpochsArray | 1 events (all good), 0 – 7.992 s (baseline off), ~134 kB, data loaded,\n",
      " '1': 1>, so metadata was not modified.\n",
      "  res = mne_connectivity.spectral_connectivity_time(\n"
     ]
    },
    {
     "name": "stdout",
     "output_type": "stream",
     "text": [
      "[Connectivity computation done]\n",
      "only using indices for lower-triangular matrix\n",
      "Connectivity computation...\n",
      "   Processing epoch 1 / 1 ...\n",
      "[Connectivity computation done]\n"
     ]
    },
    {
     "name": "stderr",
     "output_type": "stream",
     "text": [
      "/Users/jakubblaha/Documents/thesis/thesis-python/common.py:122: RuntimeWarning: There were no Annotations stored in <EpochsArray | 1 events (all good), 0 – 7.992 s (baseline off), ~134 kB, data loaded,\n",
      " '1': 1>, so metadata was not modified.\n",
      "  res = mne_connectivity.spectral_connectivity_time(\n"
     ]
    },
    {
     "name": "stdout",
     "output_type": "stream",
     "text": [
      "only using indices for lower-triangular matrix\n",
      "Connectivity computation...\n",
      "   Processing epoch 1 / 1 ...\n",
      "[Connectivity computation done]\n"
     ]
    },
    {
     "name": "stderr",
     "output_type": "stream",
     "text": [
      "/Users/jakubblaha/Documents/thesis/thesis-python/common.py:122: RuntimeWarning: There were no Annotations stored in <EpochsArray | 1 events (all good), 0 – 7.992 s (baseline off), ~134 kB, data loaded,\n",
      " '1': 1>, so metadata was not modified.\n",
      "  res = mne_connectivity.spectral_connectivity_time(\n"
     ]
    },
    {
     "name": "stdout",
     "output_type": "stream",
     "text": [
      "only using indices for lower-triangular matrix\n",
      "Connectivity computation...\n",
      "   Processing epoch 1 / 1 ...\n",
      "[Connectivity computation done]\n"
     ]
    },
    {
     "name": "stderr",
     "output_type": "stream",
     "text": [
      "/Users/jakubblaha/Documents/thesis/thesis-python/common.py:122: RuntimeWarning: There were no Annotations stored in <EpochsArray | 1 events (all good), 0 – 7.992 s (baseline off), ~134 kB, data loaded,\n",
      " '1': 1>, so metadata was not modified.\n",
      "  res = mne_connectivity.spectral_connectivity_time(\n"
     ]
    },
    {
     "name": "stdout",
     "output_type": "stream",
     "text": [
      "only using indices for lower-triangular matrix\n",
      "Connectivity computation...\n",
      "   Processing epoch 1 / 1 ...\n",
      "[Connectivity computation done]\n"
     ]
    },
    {
     "name": "stderr",
     "output_type": "stream",
     "text": [
      "/Users/jakubblaha/Documents/thesis/thesis-python/common.py:122: RuntimeWarning: There were no Annotations stored in <EpochsArray | 1 events (all good), 0 – 7.992 s (baseline off), ~134 kB, data loaded,\n",
      " '1': 1>, so metadata was not modified.\n",
      "  res = mne_connectivity.spectral_connectivity_time(\n"
     ]
    },
    {
     "name": "stdout",
     "output_type": "stream",
     "text": [
      "only using indices for lower-triangular matrix\n",
      "Connectivity computation...\n",
      "   Processing epoch 1 / 1 ...\n",
      "[Connectivity computation done]\n"
     ]
    },
    {
     "name": "stderr",
     "output_type": "stream",
     "text": [
      "/Users/jakubblaha/Documents/thesis/thesis-python/common.py:122: RuntimeWarning: There were no Annotations stored in <EpochsArray | 1 events (all good), 0 – 7.992 s (baseline off), ~134 kB, data loaded,\n",
      " '1': 1>, so metadata was not modified.\n",
      "  res = mne_connectivity.spectral_connectivity_time(\n"
     ]
    },
    {
     "name": "stdout",
     "output_type": "stream",
     "text": [
      "only using indices for lower-triangular matrix\n",
      "Connectivity computation...\n",
      "   Processing epoch 1 / 1 ...\n",
      "[Connectivity computation done]\n"
     ]
    },
    {
     "name": "stderr",
     "output_type": "stream",
     "text": [
      "/Users/jakubblaha/Documents/thesis/thesis-python/common.py:122: RuntimeWarning: There were no Annotations stored in <EpochsArray | 1 events (all good), 0 – 7.992 s (baseline off), ~134 kB, data loaded,\n",
      " '1': 1>, so metadata was not modified.\n",
      "  res = mne_connectivity.spectral_connectivity_time(\n"
     ]
    },
    {
     "name": "stdout",
     "output_type": "stream",
     "text": [
      "only using indices for lower-triangular matrix\n",
      "Connectivity computation...\n",
      "   Processing epoch 1 / 1 ...\n",
      "[Connectivity computation done]\n"
     ]
    },
    {
     "name": "stderr",
     "output_type": "stream",
     "text": [
      "/Users/jakubblaha/Documents/thesis/thesis-python/common.py:122: RuntimeWarning: There were no Annotations stored in <EpochsArray | 1 events (all good), 0 – 7.992 s (baseline off), ~134 kB, data loaded,\n",
      " '1': 1>, so metadata was not modified.\n",
      "  res = mne_connectivity.spectral_connectivity_time(\n"
     ]
    },
    {
     "name": "stdout",
     "output_type": "stream",
     "text": [
      "only using indices for lower-triangular matrix\n",
      "Connectivity computation...\n",
      "   Processing epoch 1 / 1 ...\n",
      "[Connectivity computation done]\n"
     ]
    },
    {
     "name": "stderr",
     "output_type": "stream",
     "text": [
      "/Users/jakubblaha/Documents/thesis/thesis-python/common.py:122: RuntimeWarning: There were no Annotations stored in <EpochsArray | 1 events (all good), 0 – 7.992 s (baseline off), ~134 kB, data loaded,\n",
      " '1': 1>, so metadata was not modified.\n",
      "  res = mne_connectivity.spectral_connectivity_time(\n"
     ]
    },
    {
     "name": "stdout",
     "output_type": "stream",
     "text": [
      "only using indices for lower-triangular matrix\n",
      "Connectivity computation...\n",
      "   Processing epoch 1 / 1 ...\n",
      "[Connectivity computation done]\n"
     ]
    },
    {
     "name": "stderr",
     "output_type": "stream",
     "text": [
      "/Users/jakubblaha/Documents/thesis/thesis-python/common.py:122: RuntimeWarning: There were no Annotations stored in <EpochsArray | 1 events (all good), 0 – 7.992 s (baseline off), ~134 kB, data loaded,\n",
      " '1': 1>, so metadata was not modified.\n",
      "  res = mne_connectivity.spectral_connectivity_time(\n"
     ]
    },
    {
     "name": "stdout",
     "output_type": "stream",
     "text": [
      "only using indices for lower-triangular matrix\n",
      "Connectivity computation...\n",
      "   Processing epoch 1 / 1 ...\n",
      "[Connectivity computation done]\n"
     ]
    },
    {
     "name": "stderr",
     "output_type": "stream",
     "text": [
      "/Users/jakubblaha/Documents/thesis/thesis-python/common.py:122: RuntimeWarning: There were no Annotations stored in <EpochsArray | 1 events (all good), 0 – 7.992 s (baseline off), ~134 kB, data loaded,\n",
      " '1': 1>, so metadata was not modified.\n",
      "  res = mne_connectivity.spectral_connectivity_time(\n"
     ]
    },
    {
     "name": "stdout",
     "output_type": "stream",
     "text": [
      "only using indices for lower-triangular matrix\n",
      "Connectivity computation...\n",
      "   Processing epoch 1 / 1 ...\n",
      "[Connectivity computation done]\n"
     ]
    },
    {
     "name": "stderr",
     "output_type": "stream",
     "text": [
      "/Users/jakubblaha/Documents/thesis/thesis-python/common.py:122: RuntimeWarning: There were no Annotations stored in <EpochsArray | 1 events (all good), 0 – 7.992 s (baseline off), ~134 kB, data loaded,\n",
      " '1': 1>, so metadata was not modified.\n",
      "  res = mne_connectivity.spectral_connectivity_time(\n"
     ]
    },
    {
     "name": "stdout",
     "output_type": "stream",
     "text": [
      "only using indices for lower-triangular matrix\n",
      "Connectivity computation...\n",
      "   Processing epoch 1 / 1 ...\n",
      "[Connectivity computation done]\n"
     ]
    },
    {
     "name": "stderr",
     "output_type": "stream",
     "text": [
      "/Users/jakubblaha/Documents/thesis/thesis-python/common.py:122: RuntimeWarning: There were no Annotations stored in <EpochsArray | 1 events (all good), 0 – 7.992 s (baseline off), ~134 kB, data loaded,\n",
      " '1': 1>, so metadata was not modified.\n",
      "  res = mne_connectivity.spectral_connectivity_time(\n"
     ]
    },
    {
     "name": "stdout",
     "output_type": "stream",
     "text": [
      "only using indices for lower-triangular matrix\n",
      "Connectivity computation...\n",
      "   Processing epoch 1 / 1 ...\n",
      "[Connectivity computation done]\n"
     ]
    },
    {
     "name": "stderr",
     "output_type": "stream",
     "text": [
      "/Users/jakubblaha/Documents/thesis/thesis-python/common.py:122: RuntimeWarning: There were no Annotations stored in <EpochsArray | 1 events (all good), 0 – 7.992 s (baseline off), ~134 kB, data loaded,\n",
      " '1': 1>, so metadata was not modified.\n",
      "  res = mne_connectivity.spectral_connectivity_time(\n"
     ]
    },
    {
     "name": "stdout",
     "output_type": "stream",
     "text": [
      "only using indices for lower-triangular matrix\n",
      "Connectivity computation...\n",
      "   Processing epoch 1 / 1 ...\n",
      "[Connectivity computation done]\n"
     ]
    },
    {
     "name": "stderr",
     "output_type": "stream",
     "text": [
      "/Users/jakubblaha/Documents/thesis/thesis-python/common.py:122: RuntimeWarning: There were no Annotations stored in <EpochsArray | 1 events (all good), 0 – 7.992 s (baseline off), ~134 kB, data loaded,\n",
      " '1': 1>, so metadata was not modified.\n",
      "  res = mne_connectivity.spectral_connectivity_time(\n"
     ]
    },
    {
     "name": "stdout",
     "output_type": "stream",
     "text": [
      "only using indices for lower-triangular matrix\n",
      "Connectivity computation...\n",
      "   Processing epoch 1 / 1 ...\n",
      "[Connectivity computation done]\n"
     ]
    },
    {
     "name": "stderr",
     "output_type": "stream",
     "text": [
      "/Users/jakubblaha/Documents/thesis/thesis-python/common.py:122: RuntimeWarning: There were no Annotations stored in <EpochsArray | 1 events (all good), 0 – 7.992 s (baseline off), ~134 kB, data loaded,\n",
      " '1': 1>, so metadata was not modified.\n",
      "  res = mne_connectivity.spectral_connectivity_time(\n"
     ]
    },
    {
     "name": "stdout",
     "output_type": "stream",
     "text": [
      "only using indices for lower-triangular matrix\n",
      "Connectivity computation...\n",
      "   Processing epoch 1 / 1 ...\n"
     ]
    },
    {
     "name": "stderr",
     "output_type": "stream",
     "text": [
      "/Users/jakubblaha/Documents/thesis/thesis-python/common.py:122: RuntimeWarning: There were no Annotations stored in <EpochsArray | 1 events (all good), 0 – 7.992 s (baseline off), ~134 kB, data loaded,\n",
      " '1': 1>, so metadata was not modified.\n",
      "  res = mne_connectivity.spectral_connectivity_time(\n"
     ]
    },
    {
     "name": "stdout",
     "output_type": "stream",
     "text": [
      "[Connectivity computation done]\n",
      "only using indices for lower-triangular matrix\n",
      "Connectivity computation...\n",
      "   Processing epoch 1 / 1 ...\n",
      "[Connectivity computation done]\n"
     ]
    },
    {
     "name": "stderr",
     "output_type": "stream",
     "text": [
      "/Users/jakubblaha/Documents/thesis/thesis-python/common.py:122: RuntimeWarning: There were no Annotations stored in <EpochsArray | 1 events (all good), 0 – 7.992 s (baseline off), ~134 kB, data loaded,\n",
      " '1': 1>, so metadata was not modified.\n",
      "  res = mne_connectivity.spectral_connectivity_time(\n"
     ]
    },
    {
     "name": "stdout",
     "output_type": "stream",
     "text": [
      "only using indices for lower-triangular matrix\n",
      "Connectivity computation...\n",
      "   Processing epoch 1 / 1 ...\n",
      "[Connectivity computation done]\n"
     ]
    },
    {
     "name": "stderr",
     "output_type": "stream",
     "text": [
      "/Users/jakubblaha/Documents/thesis/thesis-python/common.py:122: RuntimeWarning: There were no Annotations stored in <EpochsArray | 1 events (all good), 0 – 7.992 s (baseline off), ~134 kB, data loaded,\n",
      " '1': 1>, so metadata was not modified.\n",
      "  res = mne_connectivity.spectral_connectivity_time(\n"
     ]
    },
    {
     "name": "stdout",
     "output_type": "stream",
     "text": [
      "only using indices for lower-triangular matrix\n",
      "Connectivity computation...\n",
      "   Processing epoch 1 / 1 ...\n",
      "[Connectivity computation done]\n"
     ]
    },
    {
     "name": "stderr",
     "output_type": "stream",
     "text": [
      "/Users/jakubblaha/Documents/thesis/thesis-python/common.py:122: RuntimeWarning: There were no Annotations stored in <EpochsArray | 1 events (all good), 0 – 7.992 s (baseline off), ~134 kB, data loaded,\n",
      " '1': 1>, so metadata was not modified.\n",
      "  res = mne_connectivity.spectral_connectivity_time(\n"
     ]
    },
    {
     "name": "stdout",
     "output_type": "stream",
     "text": [
      "only using indices for lower-triangular matrix\n",
      "Connectivity computation...\n",
      "   Processing epoch 1 / 1 ...\n",
      "[Connectivity computation done]\n"
     ]
    },
    {
     "name": "stderr",
     "output_type": "stream",
     "text": [
      "/Users/jakubblaha/Documents/thesis/thesis-python/common.py:122: RuntimeWarning: There were no Annotations stored in <EpochsArray | 1 events (all good), 0 – 7.992 s (baseline off), ~134 kB, data loaded,\n",
      " '1': 1>, so metadata was not modified.\n",
      "  res = mne_connectivity.spectral_connectivity_time(\n"
     ]
    },
    {
     "name": "stdout",
     "output_type": "stream",
     "text": [
      "only using indices for lower-triangular matrix\n",
      "Connectivity computation...\n",
      "   Processing epoch 1 / 1 ...\n",
      "[Connectivity computation done]\n"
     ]
    },
    {
     "name": "stderr",
     "output_type": "stream",
     "text": [
      "/Users/jakubblaha/Documents/thesis/thesis-python/common.py:122: RuntimeWarning: There were no Annotations stored in <EpochsArray | 1 events (all good), 0 – 7.992 s (baseline off), ~134 kB, data loaded,\n",
      " '1': 1>, so metadata was not modified.\n",
      "  res = mne_connectivity.spectral_connectivity_time(\n"
     ]
    },
    {
     "name": "stdout",
     "output_type": "stream",
     "text": [
      "only using indices for lower-triangular matrix\n",
      "Connectivity computation...\n",
      "   Processing epoch 1 / 1 ...\n",
      "[Connectivity computation done]\n"
     ]
    },
    {
     "name": "stderr",
     "output_type": "stream",
     "text": [
      "/Users/jakubblaha/Documents/thesis/thesis-python/common.py:122: RuntimeWarning: There were no Annotations stored in <EpochsArray | 1 events (all good), 0 – 7.992 s (baseline off), ~134 kB, data loaded,\n",
      " '1': 1>, so metadata was not modified.\n",
      "  res = mne_connectivity.spectral_connectivity_time(\n"
     ]
    },
    {
     "name": "stdout",
     "output_type": "stream",
     "text": [
      "only using indices for lower-triangular matrix\n",
      "Connectivity computation...\n",
      "   Processing epoch 1 / 1 ...\n",
      "[Connectivity computation done]\n"
     ]
    },
    {
     "name": "stderr",
     "output_type": "stream",
     "text": [
      "/Users/jakubblaha/Documents/thesis/thesis-python/common.py:122: RuntimeWarning: There were no Annotations stored in <EpochsArray | 1 events (all good), 0 – 7.992 s (baseline off), ~134 kB, data loaded,\n",
      " '1': 1>, so metadata was not modified.\n",
      "  res = mne_connectivity.spectral_connectivity_time(\n"
     ]
    },
    {
     "name": "stdout",
     "output_type": "stream",
     "text": [
      "only using indices for lower-triangular matrix\n",
      "Connectivity computation...\n",
      "   Processing epoch 1 / 1 ...\n",
      "[Connectivity computation done]\n"
     ]
    },
    {
     "name": "stderr",
     "output_type": "stream",
     "text": [
      "/Users/jakubblaha/Documents/thesis/thesis-python/common.py:122: RuntimeWarning: There were no Annotations stored in <EpochsArray | 1 events (all good), 0 – 7.992 s (baseline off), ~134 kB, data loaded,\n",
      " '1': 1>, so metadata was not modified.\n",
      "  res = mne_connectivity.spectral_connectivity_time(\n"
     ]
    },
    {
     "name": "stdout",
     "output_type": "stream",
     "text": [
      "only using indices for lower-triangular matrix\n",
      "Connectivity computation...\n",
      "   Processing epoch 1 / 1 ...\n",
      "[Connectivity computation done]\n"
     ]
    },
    {
     "name": "stderr",
     "output_type": "stream",
     "text": [
      "/Users/jakubblaha/Documents/thesis/thesis-python/common.py:122: RuntimeWarning: There were no Annotations stored in <EpochsArray | 1 events (all good), 0 – 7.992 s (baseline off), ~134 kB, data loaded,\n",
      " '1': 1>, so metadata was not modified.\n",
      "  res = mne_connectivity.spectral_connectivity_time(\n"
     ]
    },
    {
     "name": "stdout",
     "output_type": "stream",
     "text": [
      "only using indices for lower-triangular matrix\n",
      "Connectivity computation...\n",
      "   Processing epoch 1 / 1 ...\n"
     ]
    },
    {
     "name": "stderr",
     "output_type": "stream",
     "text": [
      "/Users/jakubblaha/Documents/thesis/thesis-python/common.py:122: RuntimeWarning: There were no Annotations stored in <EpochsArray | 1 events (all good), 0 – 7.992 s (baseline off), ~134 kB, data loaded,\n",
      " '1': 1>, so metadata was not modified.\n",
      "  res = mne_connectivity.spectral_connectivity_time(\n"
     ]
    },
    {
     "name": "stdout",
     "output_type": "stream",
     "text": [
      "[Connectivity computation done]\n",
      "only using indices for lower-triangular matrix\n",
      "Connectivity computation...\n",
      "   Processing epoch 1 / 1 ...\n",
      "[Connectivity computation done]\n"
     ]
    },
    {
     "name": "stderr",
     "output_type": "stream",
     "text": [
      "/Users/jakubblaha/Documents/thesis/thesis-python/common.py:122: RuntimeWarning: There were no Annotations stored in <EpochsArray | 1 events (all good), 0 – 7.992 s (baseline off), ~134 kB, data loaded,\n",
      " '1': 1>, so metadata was not modified.\n",
      "  res = mne_connectivity.spectral_connectivity_time(\n"
     ]
    },
    {
     "name": "stdout",
     "output_type": "stream",
     "text": [
      "only using indices for lower-triangular matrix\n",
      "Connectivity computation...\n",
      "   Processing epoch 1 / 1 ...\n",
      "[Connectivity computation done]\n"
     ]
    },
    {
     "name": "stderr",
     "output_type": "stream",
     "text": [
      "/Users/jakubblaha/Documents/thesis/thesis-python/common.py:122: RuntimeWarning: There were no Annotations stored in <EpochsArray | 1 events (all good), 0 – 7.992 s (baseline off), ~134 kB, data loaded,\n",
      " '1': 1>, so metadata was not modified.\n",
      "  res = mne_connectivity.spectral_connectivity_time(\n"
     ]
    },
    {
     "name": "stdout",
     "output_type": "stream",
     "text": [
      "only using indices for lower-triangular matrix\n",
      "Connectivity computation...\n",
      "   Processing epoch 1 / 1 ...\n",
      "[Connectivity computation done]\n"
     ]
    },
    {
     "name": "stderr",
     "output_type": "stream",
     "text": [
      "/Users/jakubblaha/Documents/thesis/thesis-python/common.py:122: RuntimeWarning: There were no Annotations stored in <EpochsArray | 1 events (all good), 0 – 7.992 s (baseline off), ~134 kB, data loaded,\n",
      " '1': 1>, so metadata was not modified.\n",
      "  res = mne_connectivity.spectral_connectivity_time(\n"
     ]
    },
    {
     "name": "stdout",
     "output_type": "stream",
     "text": [
      "only using indices for lower-triangular matrix\n",
      "Connectivity computation...\n",
      "   Processing epoch 1 / 1 ...\n",
      "[Connectivity computation done]\n"
     ]
    },
    {
     "name": "stderr",
     "output_type": "stream",
     "text": [
      "/Users/jakubblaha/Documents/thesis/thesis-python/common.py:122: RuntimeWarning: There were no Annotations stored in <EpochsArray | 1 events (all good), 0 – 7.992 s (baseline off), ~134 kB, data loaded,\n",
      " '1': 1>, so metadata was not modified.\n",
      "  res = mne_connectivity.spectral_connectivity_time(\n"
     ]
    },
    {
     "name": "stdout",
     "output_type": "stream",
     "text": [
      "only using indices for lower-triangular matrix\n",
      "Connectivity computation...\n",
      "   Processing epoch 1 / 1 ...\n"
     ]
    },
    {
     "name": "stderr",
     "output_type": "stream",
     "text": [
      "/Users/jakubblaha/Documents/thesis/thesis-python/common.py:122: RuntimeWarning: There were no Annotations stored in <EpochsArray | 1 events (all good), 0 – 7.992 s (baseline off), ~134 kB, data loaded,\n",
      " '1': 1>, so metadata was not modified.\n",
      "  res = mne_connectivity.spectral_connectivity_time(\n"
     ]
    },
    {
     "name": "stdout",
     "output_type": "stream",
     "text": [
      "[Connectivity computation done]\n",
      "only using indices for lower-triangular matrix\n",
      "Connectivity computation...\n",
      "   Processing epoch 1 / 1 ...\n",
      "[Connectivity computation done]\n"
     ]
    },
    {
     "name": "stderr",
     "output_type": "stream",
     "text": [
      "/Users/jakubblaha/Documents/thesis/thesis-python/common.py:122: RuntimeWarning: There were no Annotations stored in <EpochsArray | 1 events (all good), 0 – 7.992 s (baseline off), ~134 kB, data loaded,\n",
      " '1': 1>, so metadata was not modified.\n",
      "  res = mne_connectivity.spectral_connectivity_time(\n"
     ]
    },
    {
     "name": "stdout",
     "output_type": "stream",
     "text": [
      "only using indices for lower-triangular matrix\n",
      "Connectivity computation...\n",
      "   Processing epoch 1 / 1 ...\n",
      "[Connectivity computation done]\n"
     ]
    },
    {
     "name": "stderr",
     "output_type": "stream",
     "text": [
      "/Users/jakubblaha/Documents/thesis/thesis-python/common.py:122: RuntimeWarning: There were no Annotations stored in <EpochsArray | 1 events (all good), 0 – 7.992 s (baseline off), ~134 kB, data loaded,\n",
      " '1': 1>, so metadata was not modified.\n",
      "  res = mne_connectivity.spectral_connectivity_time(\n"
     ]
    },
    {
     "name": "stdout",
     "output_type": "stream",
     "text": [
      "only using indices for lower-triangular matrix\n",
      "Connectivity computation...\n",
      "   Processing epoch 1 / 1 ...\n",
      "[Connectivity computation done]\n"
     ]
    },
    {
     "name": "stderr",
     "output_type": "stream",
     "text": [
      "/Users/jakubblaha/Documents/thesis/thesis-python/common.py:122: RuntimeWarning: There were no Annotations stored in <EpochsArray | 1 events (all good), 0 – 7.992 s (baseline off), ~134 kB, data loaded,\n",
      " '1': 1>, so metadata was not modified.\n",
      "  res = mne_connectivity.spectral_connectivity_time(\n"
     ]
    },
    {
     "name": "stdout",
     "output_type": "stream",
     "text": [
      "only using indices for lower-triangular matrix\n",
      "Connectivity computation...\n",
      "   Processing epoch 1 / 1 ...\n",
      "[Connectivity computation done]\n"
     ]
    },
    {
     "name": "stderr",
     "output_type": "stream",
     "text": [
      "/Users/jakubblaha/Documents/thesis/thesis-python/common.py:122: RuntimeWarning: There were no Annotations stored in <EpochsArray | 1 events (all good), 0 – 7.992 s (baseline off), ~134 kB, data loaded,\n",
      " '1': 1>, so metadata was not modified.\n",
      "  res = mne_connectivity.spectral_connectivity_time(\n"
     ]
    },
    {
     "name": "stdout",
     "output_type": "stream",
     "text": [
      "only using indices for lower-triangular matrix\n",
      "Connectivity computation...\n",
      "   Processing epoch 1 / 1 ...\n",
      "[Connectivity computation done]\n"
     ]
    },
    {
     "name": "stderr",
     "output_type": "stream",
     "text": [
      "/Users/jakubblaha/Documents/thesis/thesis-python/common.py:122: RuntimeWarning: There were no Annotations stored in <EpochsArray | 1 events (all good), 0 – 7.992 s (baseline off), ~134 kB, data loaded,\n",
      " '1': 1>, so metadata was not modified.\n",
      "  res = mne_connectivity.spectral_connectivity_time(\n"
     ]
    },
    {
     "name": "stdout",
     "output_type": "stream",
     "text": [
      "only using indices for lower-triangular matrix\n",
      "Connectivity computation...\n",
      "   Processing epoch 1 / 1 ...\n",
      "[Connectivity computation done]\n"
     ]
    },
    {
     "name": "stderr",
     "output_type": "stream",
     "text": [
      "/Users/jakubblaha/Documents/thesis/thesis-python/common.py:122: RuntimeWarning: There were no Annotations stored in <EpochsArray | 1 events (all good), 0 – 7.992 s (baseline off), ~134 kB, data loaded,\n",
      " '1': 1>, so metadata was not modified.\n",
      "  res = mne_connectivity.spectral_connectivity_time(\n"
     ]
    },
    {
     "name": "stdout",
     "output_type": "stream",
     "text": [
      "only using indices for lower-triangular matrix\n",
      "Connectivity computation...\n",
      "   Processing epoch 1 / 1 ...\n",
      "[Connectivity computation done]\n"
     ]
    },
    {
     "name": "stderr",
     "output_type": "stream",
     "text": [
      "/Users/jakubblaha/Documents/thesis/thesis-python/common.py:122: RuntimeWarning: There were no Annotations stored in <EpochsArray | 1 events (all good), 0 – 7.992 s (baseline off), ~134 kB, data loaded,\n",
      " '1': 1>, so metadata was not modified.\n",
      "  res = mne_connectivity.spectral_connectivity_time(\n"
     ]
    },
    {
     "name": "stdout",
     "output_type": "stream",
     "text": [
      "only using indices for lower-triangular matrix\n",
      "Connectivity computation...\n",
      "   Processing epoch 1 / 1 ...\n",
      "[Connectivity computation done]\n"
     ]
    },
    {
     "name": "stderr",
     "output_type": "stream",
     "text": [
      "/Users/jakubblaha/Documents/thesis/thesis-python/common.py:122: RuntimeWarning: There were no Annotations stored in <EpochsArray | 1 events (all good), 0 – 7.992 s (baseline off), ~134 kB, data loaded,\n",
      " '1': 1>, so metadata was not modified.\n",
      "  res = mne_connectivity.spectral_connectivity_time(\n"
     ]
    },
    {
     "name": "stdout",
     "output_type": "stream",
     "text": [
      "only using indices for lower-triangular matrix\n",
      "Connectivity computation...\n",
      "   Processing epoch 1 / 1 ...\n",
      "[Connectivity computation done]\n"
     ]
    },
    {
     "name": "stderr",
     "output_type": "stream",
     "text": [
      "/Users/jakubblaha/Documents/thesis/thesis-python/common.py:122: RuntimeWarning: There were no Annotations stored in <EpochsArray | 1 events (all good), 0 – 7.992 s (baseline off), ~134 kB, data loaded,\n",
      " '1': 1>, so metadata was not modified.\n",
      "  res = mne_connectivity.spectral_connectivity_time(\n"
     ]
    },
    {
     "name": "stdout",
     "output_type": "stream",
     "text": [
      "only using indices for lower-triangular matrix\n",
      "Connectivity computation...\n",
      "   Processing epoch 1 / 1 ...\n",
      "[Connectivity computation done]\n"
     ]
    },
    {
     "name": "stderr",
     "output_type": "stream",
     "text": [
      "/Users/jakubblaha/Documents/thesis/thesis-python/common.py:122: RuntimeWarning: There were no Annotations stored in <EpochsArray | 1 events (all good), 0 – 7.992 s (baseline off), ~134 kB, data loaded,\n",
      " '1': 1>, so metadata was not modified.\n",
      "  res = mne_connectivity.spectral_connectivity_time(\n"
     ]
    },
    {
     "name": "stdout",
     "output_type": "stream",
     "text": [
      "only using indices for lower-triangular matrix\n",
      "Connectivity computation...\n",
      "   Processing epoch 1 / 1 ...\n"
     ]
    },
    {
     "name": "stderr",
     "output_type": "stream",
     "text": [
      "/Users/jakubblaha/Documents/thesis/thesis-python/common.py:122: RuntimeWarning: There were no Annotations stored in <EpochsArray | 1 events (all good), 0 – 7.992 s (baseline off), ~134 kB, data loaded,\n",
      " '1': 1>, so metadata was not modified.\n",
      "  res = mne_connectivity.spectral_connectivity_time(\n"
     ]
    },
    {
     "name": "stdout",
     "output_type": "stream",
     "text": [
      "[Connectivity computation done]\n",
      "only using indices for lower-triangular matrix\n",
      "Connectivity computation...\n",
      "   Processing epoch 1 / 1 ...\n",
      "[Connectivity computation done]\n"
     ]
    },
    {
     "name": "stderr",
     "output_type": "stream",
     "text": [
      "/Users/jakubblaha/Documents/thesis/thesis-python/common.py:122: RuntimeWarning: There were no Annotations stored in <EpochsArray | 1 events (all good), 0 – 7.992 s (baseline off), ~134 kB, data loaded,\n",
      " '1': 1>, so metadata was not modified.\n",
      "  res = mne_connectivity.spectral_connectivity_time(\n"
     ]
    },
    {
     "name": "stdout",
     "output_type": "stream",
     "text": [
      "only using indices for lower-triangular matrix\n",
      "Connectivity computation...\n",
      "   Processing epoch 1 / 1 ...\n",
      "[Connectivity computation done]\n"
     ]
    },
    {
     "name": "stderr",
     "output_type": "stream",
     "text": [
      "/Users/jakubblaha/Documents/thesis/thesis-python/common.py:122: RuntimeWarning: There were no Annotations stored in <EpochsArray | 1 events (all good), 0 – 7.992 s (baseline off), ~134 kB, data loaded,\n",
      " '1': 1>, so metadata was not modified.\n",
      "  res = mne_connectivity.spectral_connectivity_time(\n"
     ]
    },
    {
     "name": "stdout",
     "output_type": "stream",
     "text": [
      "only using indices for lower-triangular matrix\n",
      "Connectivity computation...\n",
      "   Processing epoch 1 / 1 ...\n",
      "[Connectivity computation done]\n"
     ]
    },
    {
     "name": "stderr",
     "output_type": "stream",
     "text": [
      "/Users/jakubblaha/Documents/thesis/thesis-python/common.py:122: RuntimeWarning: There were no Annotations stored in <EpochsArray | 1 events (all good), 0 – 7.992 s (baseline off), ~134 kB, data loaded,\n",
      " '1': 1>, so metadata was not modified.\n",
      "  res = mne_connectivity.spectral_connectivity_time(\n"
     ]
    },
    {
     "name": "stdout",
     "output_type": "stream",
     "text": [
      "only using indices for lower-triangular matrix\n",
      "Connectivity computation...\n",
      "   Processing epoch 1 / 1 ...\n",
      "[Connectivity computation done]\n"
     ]
    },
    {
     "name": "stderr",
     "output_type": "stream",
     "text": [
      "/Users/jakubblaha/Documents/thesis/thesis-python/common.py:122: RuntimeWarning: There were no Annotations stored in <EpochsArray | 1 events (all good), 0 – 7.992 s (baseline off), ~134 kB, data loaded,\n",
      " '1': 1>, so metadata was not modified.\n",
      "  res = mne_connectivity.spectral_connectivity_time(\n"
     ]
    },
    {
     "name": "stdout",
     "output_type": "stream",
     "text": [
      "only using indices for lower-triangular matrix\n",
      "Connectivity computation...\n",
      "   Processing epoch 1 / 1 ...\n"
     ]
    },
    {
     "name": "stderr",
     "output_type": "stream",
     "text": [
      "/Users/jakubblaha/Documents/thesis/thesis-python/common.py:122: RuntimeWarning: There were no Annotations stored in <EpochsArray | 1 events (all good), 0 – 7.992 s (baseline off), ~134 kB, data loaded,\n",
      " '1': 1>, so metadata was not modified.\n",
      "  res = mne_connectivity.spectral_connectivity_time(\n"
     ]
    },
    {
     "name": "stdout",
     "output_type": "stream",
     "text": [
      "[Connectivity computation done]\n",
      "only using indices for lower-triangular matrix\n",
      "Connectivity computation...\n",
      "   Processing epoch 1 / 1 ...\n",
      "[Connectivity computation done]\n"
     ]
    },
    {
     "name": "stderr",
     "output_type": "stream",
     "text": [
      "/Users/jakubblaha/Documents/thesis/thesis-python/common.py:122: RuntimeWarning: There were no Annotations stored in <EpochsArray | 1 events (all good), 0 – 7.992 s (baseline off), ~134 kB, data loaded,\n",
      " '1': 1>, so metadata was not modified.\n",
      "  res = mne_connectivity.spectral_connectivity_time(\n"
     ]
    },
    {
     "name": "stdout",
     "output_type": "stream",
     "text": [
      "only using indices for lower-triangular matrix\n",
      "Connectivity computation...\n",
      "   Processing epoch 1 / 1 ...\n",
      "[Connectivity computation done]\n"
     ]
    },
    {
     "name": "stderr",
     "output_type": "stream",
     "text": [
      "/Users/jakubblaha/Documents/thesis/thesis-python/common.py:122: RuntimeWarning: There were no Annotations stored in <EpochsArray | 1 events (all good), 0 – 7.992 s (baseline off), ~134 kB, data loaded,\n",
      " '1': 1>, so metadata was not modified.\n",
      "  res = mne_connectivity.spectral_connectivity_time(\n"
     ]
    },
    {
     "name": "stdout",
     "output_type": "stream",
     "text": [
      "only using indices for lower-triangular matrix\n",
      "Connectivity computation...\n",
      "   Processing epoch 1 / 1 ...\n",
      "[Connectivity computation done]\n"
     ]
    },
    {
     "name": "stderr",
     "output_type": "stream",
     "text": [
      "/Users/jakubblaha/Documents/thesis/thesis-python/common.py:122: RuntimeWarning: There were no Annotations stored in <EpochsArray | 1 events (all good), 0 – 7.992 s (baseline off), ~134 kB, data loaded,\n",
      " '1': 1>, so metadata was not modified.\n",
      "  res = mne_connectivity.spectral_connectivity_time(\n"
     ]
    },
    {
     "name": "stdout",
     "output_type": "stream",
     "text": [
      "only using indices for lower-triangular matrix\n",
      "Connectivity computation...\n",
      "   Processing epoch 1 / 1 ...\n",
      "[Connectivity computation done]\n"
     ]
    },
    {
     "name": "stderr",
     "output_type": "stream",
     "text": [
      "/Users/jakubblaha/Documents/thesis/thesis-python/common.py:122: RuntimeWarning: There were no Annotations stored in <EpochsArray | 1 events (all good), 0 – 7.992 s (baseline off), ~134 kB, data loaded,\n",
      " '1': 1>, so metadata was not modified.\n",
      "  res = mne_connectivity.spectral_connectivity_time(\n"
     ]
    },
    {
     "name": "stdout",
     "output_type": "stream",
     "text": [
      "only using indices for lower-triangular matrix\n",
      "Connectivity computation...\n",
      "   Processing epoch 1 / 1 ...\n"
     ]
    },
    {
     "name": "stderr",
     "output_type": "stream",
     "text": [
      "/Users/jakubblaha/Documents/thesis/thesis-python/common.py:122: RuntimeWarning: There were no Annotations stored in <EpochsArray | 1 events (all good), 0 – 7.992 s (baseline off), ~134 kB, data loaded,\n",
      " '1': 1>, so metadata was not modified.\n",
      "  res = mne_connectivity.spectral_connectivity_time(\n"
     ]
    },
    {
     "name": "stdout",
     "output_type": "stream",
     "text": [
      "[Connectivity computation done]\n",
      "only using indices for lower-triangular matrix\n",
      "Connectivity computation...\n",
      "   Processing epoch 1 / 1 ...\n",
      "[Connectivity computation done]\n"
     ]
    },
    {
     "name": "stderr",
     "output_type": "stream",
     "text": [
      "/Users/jakubblaha/Documents/thesis/thesis-python/common.py:122: RuntimeWarning: There were no Annotations stored in <EpochsArray | 1 events (all good), 0 – 7.992 s (baseline off), ~134 kB, data loaded,\n",
      " '1': 1>, so metadata was not modified.\n",
      "  res = mne_connectivity.spectral_connectivity_time(\n"
     ]
    },
    {
     "name": "stdout",
     "output_type": "stream",
     "text": [
      "only using indices for lower-triangular matrix\n",
      "Connectivity computation...\n",
      "   Processing epoch 1 / 1 ...\n",
      "[Connectivity computation done]\n"
     ]
    },
    {
     "name": "stderr",
     "output_type": "stream",
     "text": [
      "/Users/jakubblaha/Documents/thesis/thesis-python/common.py:122: RuntimeWarning: There were no Annotations stored in <EpochsArray | 1 events (all good), 0 – 7.992 s (baseline off), ~134 kB, data loaded,\n",
      " '1': 1>, so metadata was not modified.\n",
      "  res = mne_connectivity.spectral_connectivity_time(\n"
     ]
    },
    {
     "name": "stdout",
     "output_type": "stream",
     "text": [
      "only using indices for lower-triangular matrix\n",
      "Connectivity computation...\n",
      "   Processing epoch 1 / 1 ...\n",
      "[Connectivity computation done]\n"
     ]
    },
    {
     "name": "stderr",
     "output_type": "stream",
     "text": [
      "/Users/jakubblaha/Documents/thesis/thesis-python/common.py:122: RuntimeWarning: There were no Annotations stored in <EpochsArray | 1 events (all good), 0 – 7.992 s (baseline off), ~134 kB, data loaded,\n",
      " '1': 1>, so metadata was not modified.\n",
      "  res = mne_connectivity.spectral_connectivity_time(\n"
     ]
    },
    {
     "name": "stdout",
     "output_type": "stream",
     "text": [
      "only using indices for lower-triangular matrix\n",
      "Connectivity computation...\n",
      "   Processing epoch 1 / 1 ...\n",
      "[Connectivity computation done]\n"
     ]
    },
    {
     "name": "stderr",
     "output_type": "stream",
     "text": [
      "/Users/jakubblaha/Documents/thesis/thesis-python/common.py:122: RuntimeWarning: There were no Annotations stored in <EpochsArray | 1 events (all good), 0 – 7.992 s (baseline off), ~134 kB, data loaded,\n",
      " '1': 1>, so metadata was not modified.\n",
      "  res = mne_connectivity.spectral_connectivity_time(\n"
     ]
    },
    {
     "name": "stdout",
     "output_type": "stream",
     "text": [
      "only using indices for lower-triangular matrix\n",
      "Connectivity computation...\n",
      "   Processing epoch 1 / 1 ...\n"
     ]
    },
    {
     "name": "stderr",
     "output_type": "stream",
     "text": [
      "/Users/jakubblaha/Documents/thesis/thesis-python/common.py:122: RuntimeWarning: There were no Annotations stored in <EpochsArray | 1 events (all good), 0 – 7.992 s (baseline off), ~134 kB, data loaded,\n",
      " '1': 1>, so metadata was not modified.\n",
      "  res = mne_connectivity.spectral_connectivity_time(\n"
     ]
    },
    {
     "name": "stdout",
     "output_type": "stream",
     "text": [
      "[Connectivity computation done]\n",
      "only using indices for lower-triangular matrix\n",
      "Connectivity computation...\n",
      "   Processing epoch 1 / 1 ...\n",
      "[Connectivity computation done]\n"
     ]
    },
    {
     "name": "stderr",
     "output_type": "stream",
     "text": [
      "/Users/jakubblaha/Documents/thesis/thesis-python/common.py:122: RuntimeWarning: There were no Annotations stored in <EpochsArray | 1 events (all good), 0 – 7.992 s (baseline off), ~134 kB, data loaded,\n",
      " '1': 1>, so metadata was not modified.\n",
      "  res = mne_connectivity.spectral_connectivity_time(\n"
     ]
    },
    {
     "name": "stdout",
     "output_type": "stream",
     "text": [
      "only using indices for lower-triangular matrix\n",
      "Connectivity computation...\n",
      "   Processing epoch 1 / 1 ...\n",
      "[Connectivity computation done]\n"
     ]
    },
    {
     "name": "stderr",
     "output_type": "stream",
     "text": [
      "/Users/jakubblaha/Documents/thesis/thesis-python/common.py:122: RuntimeWarning: There were no Annotations stored in <EpochsArray | 1 events (all good), 0 – 7.992 s (baseline off), ~134 kB, data loaded,\n",
      " '1': 1>, so metadata was not modified.\n",
      "  res = mne_connectivity.spectral_connectivity_time(\n"
     ]
    },
    {
     "name": "stdout",
     "output_type": "stream",
     "text": [
      "only using indices for lower-triangular matrix\n",
      "Connectivity computation...\n",
      "   Processing epoch 1 / 1 ...\n",
      "[Connectivity computation done]\n"
     ]
    },
    {
     "name": "stderr",
     "output_type": "stream",
     "text": [
      "/Users/jakubblaha/Documents/thesis/thesis-python/common.py:122: RuntimeWarning: There were no Annotations stored in <EpochsArray | 1 events (all good), 0 – 7.992 s (baseline off), ~134 kB, data loaded,\n",
      " '1': 1>, so metadata was not modified.\n",
      "  res = mne_connectivity.spectral_connectivity_time(\n"
     ]
    },
    {
     "name": "stdout",
     "output_type": "stream",
     "text": [
      "only using indices for lower-triangular matrix\n",
      "Connectivity computation...\n",
      "   Processing epoch 1 / 1 ...\n",
      "[Connectivity computation done]\n"
     ]
    },
    {
     "name": "stderr",
     "output_type": "stream",
     "text": [
      "/Users/jakubblaha/Documents/thesis/thesis-python/common.py:122: RuntimeWarning: There were no Annotations stored in <EpochsArray | 1 events (all good), 0 – 7.992 s (baseline off), ~134 kB, data loaded,\n",
      " '1': 1>, so metadata was not modified.\n",
      "  res = mne_connectivity.spectral_connectivity_time(\n"
     ]
    },
    {
     "name": "stdout",
     "output_type": "stream",
     "text": [
      "only using indices for lower-triangular matrix\n",
      "Connectivity computation...\n",
      "   Processing epoch 1 / 1 ...\n",
      "[Connectivity computation done]\n"
     ]
    },
    {
     "name": "stderr",
     "output_type": "stream",
     "text": [
      "/Users/jakubblaha/Documents/thesis/thesis-python/common.py:122: RuntimeWarning: There were no Annotations stored in <EpochsArray | 1 events (all good), 0 – 7.992 s (baseline off), ~134 kB, data loaded,\n",
      " '1': 1>, so metadata was not modified.\n",
      "  res = mne_connectivity.spectral_connectivity_time(\n"
     ]
    },
    {
     "name": "stdout",
     "output_type": "stream",
     "text": [
      "only using indices for lower-triangular matrix\n",
      "Connectivity computation...\n",
      "   Processing epoch 1 / 1 ...\n",
      "[Connectivity computation done]\n"
     ]
    },
    {
     "name": "stderr",
     "output_type": "stream",
     "text": [
      "/Users/jakubblaha/Documents/thesis/thesis-python/common.py:122: RuntimeWarning: There were no Annotations stored in <EpochsArray | 1 events (all good), 0 – 7.992 s (baseline off), ~134 kB, data loaded,\n",
      " '1': 1>, so metadata was not modified.\n",
      "  res = mne_connectivity.spectral_connectivity_time(\n"
     ]
    },
    {
     "name": "stdout",
     "output_type": "stream",
     "text": [
      "only using indices for lower-triangular matrix\n",
      "Connectivity computation...\n",
      "   Processing epoch 1 / 1 ...\n",
      "[Connectivity computation done]\n"
     ]
    },
    {
     "name": "stderr",
     "output_type": "stream",
     "text": [
      "/Users/jakubblaha/Documents/thesis/thesis-python/common.py:122: RuntimeWarning: There were no Annotations stored in <EpochsArray | 1 events (all good), 0 – 7.992 s (baseline off), ~134 kB, data loaded,\n",
      " '1': 1>, so metadata was not modified.\n",
      "  res = mne_connectivity.spectral_connectivity_time(\n"
     ]
    },
    {
     "name": "stdout",
     "output_type": "stream",
     "text": [
      "only using indices for lower-triangular matrix\n",
      "Connectivity computation...\n",
      "   Processing epoch 1 / 1 ...\n",
      "[Connectivity computation done]\n"
     ]
    },
    {
     "name": "stderr",
     "output_type": "stream",
     "text": [
      "/Users/jakubblaha/Documents/thesis/thesis-python/common.py:122: RuntimeWarning: There were no Annotations stored in <EpochsArray | 1 events (all good), 0 – 7.992 s (baseline off), ~134 kB, data loaded,\n",
      " '1': 1>, so metadata was not modified.\n",
      "  res = mne_connectivity.spectral_connectivity_time(\n"
     ]
    },
    {
     "name": "stdout",
     "output_type": "stream",
     "text": [
      "only using indices for lower-triangular matrix\n",
      "Connectivity computation...\n",
      "   Processing epoch 1 / 1 ...\n",
      "[Connectivity computation done]\n"
     ]
    },
    {
     "name": "stderr",
     "output_type": "stream",
     "text": [
      "/Users/jakubblaha/Documents/thesis/thesis-python/common.py:122: RuntimeWarning: There were no Annotations stored in <EpochsArray | 1 events (all good), 0 – 7.992 s (baseline off), ~134 kB, data loaded,\n",
      " '1': 1>, so metadata was not modified.\n",
      "  res = mne_connectivity.spectral_connectivity_time(\n"
     ]
    },
    {
     "name": "stdout",
     "output_type": "stream",
     "text": [
      "only using indices for lower-triangular matrix\n",
      "Connectivity computation...\n",
      "   Processing epoch 1 / 1 ...\n",
      "[Connectivity computation done]\n"
     ]
    },
    {
     "name": "stderr",
     "output_type": "stream",
     "text": [
      "/Users/jakubblaha/Documents/thesis/thesis-python/common.py:122: RuntimeWarning: There were no Annotations stored in <EpochsArray | 1 events (all good), 0 – 7.992 s (baseline off), ~134 kB, data loaded,\n",
      " '1': 1>, so metadata was not modified.\n",
      "  res = mne_connectivity.spectral_connectivity_time(\n"
     ]
    },
    {
     "name": "stdout",
     "output_type": "stream",
     "text": [
      "only using indices for lower-triangular matrix\n",
      "Connectivity computation...\n",
      "   Processing epoch 1 / 1 ...\n",
      "[Connectivity computation done]\n"
     ]
    },
    {
     "name": "stderr",
     "output_type": "stream",
     "text": [
      "/Users/jakubblaha/Documents/thesis/thesis-python/common.py:122: RuntimeWarning: There were no Annotations stored in <EpochsArray | 1 events (all good), 0 – 7.992 s (baseline off), ~134 kB, data loaded,\n",
      " '1': 1>, so metadata was not modified.\n",
      "  res = mne_connectivity.spectral_connectivity_time(\n"
     ]
    },
    {
     "name": "stdout",
     "output_type": "stream",
     "text": [
      "only using indices for lower-triangular matrix\n",
      "Connectivity computation...\n",
      "   Processing epoch 1 / 1 ...\n"
     ]
    },
    {
     "name": "stderr",
     "output_type": "stream",
     "text": [
      "/Users/jakubblaha/Documents/thesis/thesis-python/common.py:122: RuntimeWarning: There were no Annotations stored in <EpochsArray | 1 events (all good), 0 – 7.992 s (baseline off), ~134 kB, data loaded,\n",
      " '1': 1>, so metadata was not modified.\n",
      "  res = mne_connectivity.spectral_connectivity_time(\n"
     ]
    },
    {
     "name": "stdout",
     "output_type": "stream",
     "text": [
      "[Connectivity computation done]\n",
      "only using indices for lower-triangular matrix\n",
      "Connectivity computation...\n",
      "   Processing epoch 1 / 1 ...\n",
      "[Connectivity computation done]\n"
     ]
    },
    {
     "name": "stderr",
     "output_type": "stream",
     "text": [
      "/Users/jakubblaha/Documents/thesis/thesis-python/common.py:122: RuntimeWarning: There were no Annotations stored in <EpochsArray | 1 events (all good), 0 – 7.992 s (baseline off), ~134 kB, data loaded,\n",
      " '1': 1>, so metadata was not modified.\n",
      "  res = mne_connectivity.spectral_connectivity_time(\n"
     ]
    },
    {
     "name": "stdout",
     "output_type": "stream",
     "text": [
      "only using indices for lower-triangular matrix\n",
      "Connectivity computation...\n",
      "   Processing epoch 1 / 1 ...\n",
      "[Connectivity computation done]\n"
     ]
    },
    {
     "name": "stderr",
     "output_type": "stream",
     "text": [
      "/Users/jakubblaha/Documents/thesis/thesis-python/common.py:122: RuntimeWarning: There were no Annotations stored in <EpochsArray | 1 events (all good), 0 – 7.992 s (baseline off), ~134 kB, data loaded,\n",
      " '1': 1>, so metadata was not modified.\n",
      "  res = mne_connectivity.spectral_connectivity_time(\n"
     ]
    },
    {
     "name": "stdout",
     "output_type": "stream",
     "text": [
      "only using indices for lower-triangular matrix\n",
      "Connectivity computation...\n",
      "   Processing epoch 1 / 1 ...\n",
      "[Connectivity computation done]\n"
     ]
    },
    {
     "name": "stderr",
     "output_type": "stream",
     "text": [
      "/Users/jakubblaha/Documents/thesis/thesis-python/common.py:122: RuntimeWarning: There were no Annotations stored in <EpochsArray | 1 events (all good), 0 – 7.992 s (baseline off), ~134 kB, data loaded,\n",
      " '1': 1>, so metadata was not modified.\n",
      "  res = mne_connectivity.spectral_connectivity_time(\n"
     ]
    },
    {
     "name": "stdout",
     "output_type": "stream",
     "text": [
      "only using indices for lower-triangular matrix\n",
      "Connectivity computation...\n",
      "   Processing epoch 1 / 1 ...\n",
      "[Connectivity computation done]\n"
     ]
    },
    {
     "name": "stderr",
     "output_type": "stream",
     "text": [
      "/Users/jakubblaha/Documents/thesis/thesis-python/common.py:122: RuntimeWarning: There were no Annotations stored in <EpochsArray | 1 events (all good), 0 – 7.992 s (baseline off), ~134 kB, data loaded,\n",
      " '1': 1>, so metadata was not modified.\n",
      "  res = mne_connectivity.spectral_connectivity_time(\n"
     ]
    },
    {
     "name": "stdout",
     "output_type": "stream",
     "text": [
      "only using indices for lower-triangular matrix\n",
      "Connectivity computation...\n",
      "   Processing epoch 1 / 1 ...\n",
      "[Connectivity computation done]\n"
     ]
    },
    {
     "name": "stderr",
     "output_type": "stream",
     "text": [
      "/Users/jakubblaha/Documents/thesis/thesis-python/common.py:122: RuntimeWarning: There were no Annotations stored in <EpochsArray | 1 events (all good), 0 – 7.992 s (baseline off), ~134 kB, data loaded,\n",
      " '1': 1>, so metadata was not modified.\n",
      "  res = mne_connectivity.spectral_connectivity_time(\n"
     ]
    },
    {
     "name": "stdout",
     "output_type": "stream",
     "text": [
      "only using indices for lower-triangular matrix\n",
      "Connectivity computation...\n",
      "   Processing epoch 1 / 1 ...\n"
     ]
    },
    {
     "name": "stderr",
     "output_type": "stream",
     "text": [
      "/Users/jakubblaha/Documents/thesis/thesis-python/common.py:122: RuntimeWarning: There were no Annotations stored in <EpochsArray | 1 events (all good), 0 – 7.992 s (baseline off), ~134 kB, data loaded,\n",
      " '1': 1>, so metadata was not modified.\n",
      "  res = mne_connectivity.spectral_connectivity_time(\n"
     ]
    },
    {
     "name": "stdout",
     "output_type": "stream",
     "text": [
      "[Connectivity computation done]\n",
      "only using indices for lower-triangular matrix\n",
      "Connectivity computation...\n",
      "   Processing epoch 1 / 1 ...\n",
      "[Connectivity computation done]\n"
     ]
    },
    {
     "name": "stderr",
     "output_type": "stream",
     "text": [
      "/Users/jakubblaha/Documents/thesis/thesis-python/common.py:122: RuntimeWarning: There were no Annotations stored in <EpochsArray | 1 events (all good), 0 – 7.992 s (baseline off), ~134 kB, data loaded,\n",
      " '1': 1>, so metadata was not modified.\n",
      "  res = mne_connectivity.spectral_connectivity_time(\n"
     ]
    },
    {
     "name": "stdout",
     "output_type": "stream",
     "text": [
      "only using indices for lower-triangular matrix\n",
      "Connectivity computation...\n",
      "   Processing epoch 1 / 1 ...\n",
      "[Connectivity computation done]\n"
     ]
    },
    {
     "name": "stderr",
     "output_type": "stream",
     "text": [
      "/Users/jakubblaha/Documents/thesis/thesis-python/common.py:122: RuntimeWarning: There were no Annotations stored in <EpochsArray | 1 events (all good), 0 – 7.992 s (baseline off), ~134 kB, data loaded,\n",
      " '1': 1>, so metadata was not modified.\n",
      "  res = mne_connectivity.spectral_connectivity_time(\n"
     ]
    },
    {
     "name": "stdout",
     "output_type": "stream",
     "text": [
      "only using indices for lower-triangular matrix\n",
      "Connectivity computation...\n",
      "   Processing epoch 1 / 1 ...\n",
      "[Connectivity computation done]\n"
     ]
    },
    {
     "name": "stderr",
     "output_type": "stream",
     "text": [
      "/Users/jakubblaha/Documents/thesis/thesis-python/common.py:122: RuntimeWarning: There were no Annotations stored in <EpochsArray | 1 events (all good), 0 – 7.992 s (baseline off), ~134 kB, data loaded,\n",
      " '1': 1>, so metadata was not modified.\n",
      "  res = mne_connectivity.spectral_connectivity_time(\n"
     ]
    },
    {
     "name": "stdout",
     "output_type": "stream",
     "text": [
      "only using indices for lower-triangular matrix\n",
      "Connectivity computation...\n",
      "   Processing epoch 1 / 1 ...\n",
      "[Connectivity computation done]\n"
     ]
    },
    {
     "name": "stderr",
     "output_type": "stream",
     "text": [
      "/Users/jakubblaha/Documents/thesis/thesis-python/common.py:122: RuntimeWarning: There were no Annotations stored in <EpochsArray | 1 events (all good), 0 – 7.992 s (baseline off), ~134 kB, data loaded,\n",
      " '1': 1>, so metadata was not modified.\n",
      "  res = mne_connectivity.spectral_connectivity_time(\n"
     ]
    },
    {
     "name": "stdout",
     "output_type": "stream",
     "text": [
      "only using indices for lower-triangular matrix\n",
      "Connectivity computation...\n",
      "   Processing epoch 1 / 1 ...\n",
      "[Connectivity computation done]\n"
     ]
    },
    {
     "name": "stderr",
     "output_type": "stream",
     "text": [
      "/Users/jakubblaha/Documents/thesis/thesis-python/common.py:122: RuntimeWarning: There were no Annotations stored in <EpochsArray | 1 events (all good), 0 – 7.992 s (baseline off), ~134 kB, data loaded,\n",
      " '1': 1>, so metadata was not modified.\n",
      "  res = mne_connectivity.spectral_connectivity_time(\n"
     ]
    },
    {
     "name": "stdout",
     "output_type": "stream",
     "text": [
      "only using indices for lower-triangular matrix\n",
      "Connectivity computation...\n",
      "   Processing epoch 1 / 1 ...\n",
      "[Connectivity computation done]\n"
     ]
    },
    {
     "name": "stderr",
     "output_type": "stream",
     "text": [
      "/Users/jakubblaha/Documents/thesis/thesis-python/common.py:122: RuntimeWarning: There were no Annotations stored in <EpochsArray | 1 events (all good), 0 – 7.992 s (baseline off), ~134 kB, data loaded,\n",
      " '1': 1>, so metadata was not modified.\n",
      "  res = mne_connectivity.spectral_connectivity_time(\n"
     ]
    },
    {
     "name": "stdout",
     "output_type": "stream",
     "text": [
      "only using indices for lower-triangular matrix\n",
      "Connectivity computation...\n",
      "   Processing epoch 1 / 1 ...\n",
      "[Connectivity computation done]\n"
     ]
    },
    {
     "name": "stderr",
     "output_type": "stream",
     "text": [
      "/Users/jakubblaha/Documents/thesis/thesis-python/common.py:122: RuntimeWarning: There were no Annotations stored in <EpochsArray | 1 events (all good), 0 – 7.992 s (baseline off), ~134 kB, data loaded,\n",
      " '1': 1>, so metadata was not modified.\n",
      "  res = mne_connectivity.spectral_connectivity_time(\n"
     ]
    },
    {
     "name": "stdout",
     "output_type": "stream",
     "text": [
      "only using indices for lower-triangular matrix\n",
      "Connectivity computation...\n",
      "   Processing epoch 1 / 1 ...\n",
      "[Connectivity computation done]\n"
     ]
    },
    {
     "name": "stderr",
     "output_type": "stream",
     "text": [
      "/Users/jakubblaha/Documents/thesis/thesis-python/common.py:122: RuntimeWarning: There were no Annotations stored in <EpochsArray | 1 events (all good), 0 – 7.992 s (baseline off), ~134 kB, data loaded,\n",
      " '1': 1>, so metadata was not modified.\n",
      "  res = mne_connectivity.spectral_connectivity_time(\n"
     ]
    },
    {
     "name": "stdout",
     "output_type": "stream",
     "text": [
      "only using indices for lower-triangular matrix\n",
      "Connectivity computation...\n",
      "   Processing epoch 1 / 1 ...\n",
      "[Connectivity computation done]\n"
     ]
    },
    {
     "name": "stderr",
     "output_type": "stream",
     "text": [
      "/Users/jakubblaha/Documents/thesis/thesis-python/common.py:122: RuntimeWarning: There were no Annotations stored in <EpochsArray | 1 events (all good), 0 – 7.992 s (baseline off), ~134 kB, data loaded,\n",
      " '1': 1>, so metadata was not modified.\n",
      "  res = mne_connectivity.spectral_connectivity_time(\n"
     ]
    },
    {
     "name": "stdout",
     "output_type": "stream",
     "text": [
      "only using indices for lower-triangular matrix\n",
      "Connectivity computation...\n",
      "   Processing epoch 1 / 1 ...\n",
      "[Connectivity computation done]\n"
     ]
    },
    {
     "name": "stderr",
     "output_type": "stream",
     "text": [
      "/Users/jakubblaha/Documents/thesis/thesis-python/common.py:122: RuntimeWarning: There were no Annotations stored in <EpochsArray | 1 events (all good), 0 – 7.992 s (baseline off), ~134 kB, data loaded,\n",
      " '1': 1>, so metadata was not modified.\n",
      "  res = mne_connectivity.spectral_connectivity_time(\n"
     ]
    },
    {
     "name": "stdout",
     "output_type": "stream",
     "text": [
      "only using indices for lower-triangular matrix\n",
      "Connectivity computation...\n",
      "   Processing epoch 1 / 1 ...\n",
      "[Connectivity computation done]\n"
     ]
    },
    {
     "name": "stderr",
     "output_type": "stream",
     "text": [
      "/Users/jakubblaha/Documents/thesis/thesis-python/common.py:122: RuntimeWarning: There were no Annotations stored in <EpochsArray | 1 events (all good), 0 – 7.992 s (baseline off), ~134 kB, data loaded,\n",
      " '1': 1>, so metadata was not modified.\n",
      "  res = mne_connectivity.spectral_connectivity_time(\n"
     ]
    },
    {
     "name": "stdout",
     "output_type": "stream",
     "text": [
      "only using indices for lower-triangular matrix\n",
      "Connectivity computation...\n",
      "   Processing epoch 1 / 1 ...\n",
      "[Connectivity computation done]\n"
     ]
    },
    {
     "name": "stderr",
     "output_type": "stream",
     "text": [
      "/Users/jakubblaha/Documents/thesis/thesis-python/common.py:122: RuntimeWarning: There were no Annotations stored in <EpochsArray | 1 events (all good), 0 – 7.992 s (baseline off), ~134 kB, data loaded,\n",
      " '1': 1>, so metadata was not modified.\n",
      "  res = mne_connectivity.spectral_connectivity_time(\n"
     ]
    },
    {
     "name": "stdout",
     "output_type": "stream",
     "text": [
      "only using indices for lower-triangular matrix\n",
      "Connectivity computation...\n",
      "   Processing epoch 1 / 1 ...\n",
      "[Connectivity computation done]\n"
     ]
    },
    {
     "name": "stderr",
     "output_type": "stream",
     "text": [
      "/Users/jakubblaha/Documents/thesis/thesis-python/common.py:122: RuntimeWarning: There were no Annotations stored in <EpochsArray | 1 events (all good), 0 – 7.992 s (baseline off), ~134 kB, data loaded,\n",
      " '1': 1>, so metadata was not modified.\n",
      "  res = mne_connectivity.spectral_connectivity_time(\n"
     ]
    },
    {
     "name": "stdout",
     "output_type": "stream",
     "text": [
      "only using indices for lower-triangular matrix\n",
      "Connectivity computation...\n",
      "   Processing epoch 1 / 1 ...\n",
      "[Connectivity computation done]\n"
     ]
    },
    {
     "name": "stderr",
     "output_type": "stream",
     "text": [
      "/Users/jakubblaha/Documents/thesis/thesis-python/common.py:122: RuntimeWarning: There were no Annotations stored in <EpochsArray | 1 events (all good), 0 – 7.992 s (baseline off), ~134 kB, data loaded,\n",
      " '1': 1>, so metadata was not modified.\n",
      "  res = mne_connectivity.spectral_connectivity_time(\n"
     ]
    },
    {
     "name": "stdout",
     "output_type": "stream",
     "text": [
      "only using indices for lower-triangular matrix\n",
      "Connectivity computation...\n",
      "   Processing epoch 1 / 1 ...\n",
      "[Connectivity computation done]\n"
     ]
    },
    {
     "name": "stderr",
     "output_type": "stream",
     "text": [
      "/Users/jakubblaha/Documents/thesis/thesis-python/common.py:122: RuntimeWarning: There were no Annotations stored in <EpochsArray | 1 events (all good), 0 – 7.992 s (baseline off), ~134 kB, data loaded,\n",
      " '1': 1>, so metadata was not modified.\n",
      "  res = mne_connectivity.spectral_connectivity_time(\n"
     ]
    },
    {
     "name": "stdout",
     "output_type": "stream",
     "text": [
      "only using indices for lower-triangular matrix\n",
      "Connectivity computation...\n",
      "   Processing epoch 1 / 1 ...\n",
      "[Connectivity computation done]\n"
     ]
    },
    {
     "name": "stderr",
     "output_type": "stream",
     "text": [
      "/Users/jakubblaha/Documents/thesis/thesis-python/common.py:122: RuntimeWarning: There were no Annotations stored in <EpochsArray | 1 events (all good), 0 – 7.992 s (baseline off), ~134 kB, data loaded,\n",
      " '1': 1>, so metadata was not modified.\n",
      "  res = mne_connectivity.spectral_connectivity_time(\n"
     ]
    },
    {
     "name": "stdout",
     "output_type": "stream",
     "text": [
      "only using indices for lower-triangular matrix\n",
      "Connectivity computation...\n",
      "   Processing epoch 1 / 1 ...\n",
      "[Connectivity computation done]\n"
     ]
    },
    {
     "name": "stderr",
     "output_type": "stream",
     "text": [
      "/Users/jakubblaha/Documents/thesis/thesis-python/common.py:122: RuntimeWarning: There were no Annotations stored in <EpochsArray | 1 events (all good), 0 – 7.992 s (baseline off), ~134 kB, data loaded,\n",
      " '1': 1>, so metadata was not modified.\n",
      "  res = mne_connectivity.spectral_connectivity_time(\n"
     ]
    },
    {
     "name": "stdout",
     "output_type": "stream",
     "text": [
      "only using indices for lower-triangular matrix\n",
      "Connectivity computation...\n",
      "   Processing epoch 1 / 1 ...\n"
     ]
    },
    {
     "name": "stderr",
     "output_type": "stream",
     "text": [
      "/Users/jakubblaha/Documents/thesis/thesis-python/common.py:122: RuntimeWarning: There were no Annotations stored in <EpochsArray | 1 events (all good), 0 – 7.992 s (baseline off), ~134 kB, data loaded,\n",
      " '1': 1>, so metadata was not modified.\n",
      "  res = mne_connectivity.spectral_connectivity_time(\n"
     ]
    },
    {
     "name": "stdout",
     "output_type": "stream",
     "text": [
      "[Connectivity computation done]\n",
      "only using indices for lower-triangular matrix\n",
      "Connectivity computation...\n",
      "   Processing epoch 1 / 1 ...\n",
      "[Connectivity computation done]\n"
     ]
    },
    {
     "name": "stderr",
     "output_type": "stream",
     "text": [
      "/Users/jakubblaha/Documents/thesis/thesis-python/common.py:122: RuntimeWarning: There were no Annotations stored in <EpochsArray | 1 events (all good), 0 – 7.992 s (baseline off), ~134 kB, data loaded,\n",
      " '1': 1>, so metadata was not modified.\n",
      "  res = mne_connectivity.spectral_connectivity_time(\n"
     ]
    },
    {
     "name": "stdout",
     "output_type": "stream",
     "text": [
      "only using indices for lower-triangular matrix\n",
      "Connectivity computation...\n",
      "   Processing epoch 1 / 1 ...\n",
      "[Connectivity computation done]\n"
     ]
    },
    {
     "name": "stderr",
     "output_type": "stream",
     "text": [
      "/Users/jakubblaha/Documents/thesis/thesis-python/common.py:122: RuntimeWarning: There were no Annotations stored in <EpochsArray | 1 events (all good), 0 – 7.992 s (baseline off), ~134 kB, data loaded,\n",
      " '1': 1>, so metadata was not modified.\n",
      "  res = mne_connectivity.spectral_connectivity_time(\n"
     ]
    },
    {
     "name": "stdout",
     "output_type": "stream",
     "text": [
      "only using indices for lower-triangular matrix\n",
      "Connectivity computation...\n",
      "   Processing epoch 1 / 1 ...\n",
      "[Connectivity computation done]\n"
     ]
    },
    {
     "name": "stderr",
     "output_type": "stream",
     "text": [
      "/Users/jakubblaha/Documents/thesis/thesis-python/common.py:122: RuntimeWarning: There were no Annotations stored in <EpochsArray | 1 events (all good), 0 – 7.992 s (baseline off), ~134 kB, data loaded,\n",
      " '1': 1>, so metadata was not modified.\n",
      "  res = mne_connectivity.spectral_connectivity_time(\n"
     ]
    },
    {
     "name": "stdout",
     "output_type": "stream",
     "text": [
      "only using indices for lower-triangular matrix\n",
      "Connectivity computation...\n",
      "   Processing epoch 1 / 1 ...\n",
      "[Connectivity computation done]\n"
     ]
    },
    {
     "name": "stderr",
     "output_type": "stream",
     "text": [
      "/Users/jakubblaha/Documents/thesis/thesis-python/common.py:122: RuntimeWarning: There were no Annotations stored in <EpochsArray | 1 events (all good), 0 – 7.992 s (baseline off), ~134 kB, data loaded,\n",
      " '1': 1>, so metadata was not modified.\n",
      "  res = mne_connectivity.spectral_connectivity_time(\n"
     ]
    },
    {
     "name": "stdout",
     "output_type": "stream",
     "text": [
      "only using indices for lower-triangular matrix\n",
      "Connectivity computation...\n",
      "   Processing epoch 1 / 1 ...\n",
      "[Connectivity computation done]\n"
     ]
    },
    {
     "name": "stderr",
     "output_type": "stream",
     "text": [
      "/Users/jakubblaha/Documents/thesis/thesis-python/common.py:122: RuntimeWarning: There were no Annotations stored in <EpochsArray | 1 events (all good), 0 – 7.992 s (baseline off), ~134 kB, data loaded,\n",
      " '1': 1>, so metadata was not modified.\n",
      "  res = mne_connectivity.spectral_connectivity_time(\n"
     ]
    },
    {
     "name": "stdout",
     "output_type": "stream",
     "text": [
      "only using indices for lower-triangular matrix\n",
      "Connectivity computation...\n",
      "   Processing epoch 1 / 1 ...\n",
      "[Connectivity computation done]\n"
     ]
    },
    {
     "name": "stderr",
     "output_type": "stream",
     "text": [
      "/Users/jakubblaha/Documents/thesis/thesis-python/common.py:122: RuntimeWarning: There were no Annotations stored in <EpochsArray | 1 events (all good), 0 – 7.992 s (baseline off), ~134 kB, data loaded,\n",
      " '1': 1>, so metadata was not modified.\n",
      "  res = mne_connectivity.spectral_connectivity_time(\n"
     ]
    },
    {
     "name": "stdout",
     "output_type": "stream",
     "text": [
      "only using indices for lower-triangular matrix\n",
      "Connectivity computation...\n",
      "   Processing epoch 1 / 1 ...\n",
      "[Connectivity computation done]\n"
     ]
    },
    {
     "name": "stderr",
     "output_type": "stream",
     "text": [
      "/Users/jakubblaha/Documents/thesis/thesis-python/common.py:122: RuntimeWarning: There were no Annotations stored in <EpochsArray | 1 events (all good), 0 – 7.992 s (baseline off), ~134 kB, data loaded,\n",
      " '1': 1>, so metadata was not modified.\n",
      "  res = mne_connectivity.spectral_connectivity_time(\n"
     ]
    },
    {
     "name": "stdout",
     "output_type": "stream",
     "text": [
      "only using indices for lower-triangular matrix\n",
      "Connectivity computation...\n",
      "   Processing epoch 1 / 1 ...\n",
      "[Connectivity computation done]\n"
     ]
    },
    {
     "name": "stderr",
     "output_type": "stream",
     "text": [
      "/Users/jakubblaha/Documents/thesis/thesis-python/common.py:122: RuntimeWarning: There were no Annotations stored in <EpochsArray | 1 events (all good), 0 – 7.992 s (baseline off), ~134 kB, data loaded,\n",
      " '1': 1>, so metadata was not modified.\n",
      "  res = mne_connectivity.spectral_connectivity_time(\n"
     ]
    },
    {
     "name": "stdout",
     "output_type": "stream",
     "text": [
      "only using indices for lower-triangular matrix\n",
      "Connectivity computation...\n",
      "   Processing epoch 1 / 1 ...\n",
      "[Connectivity computation done]\n"
     ]
    },
    {
     "name": "stderr",
     "output_type": "stream",
     "text": [
      "/Users/jakubblaha/Documents/thesis/thesis-python/common.py:122: RuntimeWarning: There were no Annotations stored in <EpochsArray | 1 events (all good), 0 – 7.992 s (baseline off), ~134 kB, data loaded,\n",
      " '1': 1>, so metadata was not modified.\n",
      "  res = mne_connectivity.spectral_connectivity_time(\n"
     ]
    },
    {
     "name": "stdout",
     "output_type": "stream",
     "text": [
      "only using indices for lower-triangular matrix\n",
      "Connectivity computation...\n",
      "   Processing epoch 1 / 1 ...\n",
      "[Connectivity computation done]\n",
      "only using indices for lower-triangular matrix\n"
     ]
    },
    {
     "name": "stderr",
     "output_type": "stream",
     "text": [
      "/Users/jakubblaha/Documents/thesis/thesis-python/common.py:122: RuntimeWarning: There were no Annotations stored in <EpochsArray | 1 events (all good), 0 – 7.992 s (baseline off), ~134 kB, data loaded,\n",
      " '1': 1>, so metadata was not modified.\n",
      "  res = mne_connectivity.spectral_connectivity_time(\n",
      "/Users/jakubblaha/Documents/thesis/thesis-python/common.py:122: RuntimeWarning: There were no Annotations stored in <EpochsArray | 1 events (all good), 0 – 7.992 s (baseline off), ~134 kB, data loaded,\n",
      " '1': 1>, so metadata was not modified.\n",
      "  res = mne_connectivity.spectral_connectivity_time(\n"
     ]
    },
    {
     "name": "stdout",
     "output_type": "stream",
     "text": [
      "Connectivity computation...\n",
      "   Processing epoch 1 / 1 ...\n",
      "[Connectivity computation done]\n",
      "only using indices for lower-triangular matrix\n",
      "Connectivity computation...\n",
      "   Processing epoch 1 / 1 ...\n"
     ]
    },
    {
     "name": "stderr",
     "output_type": "stream",
     "text": [
      "/Users/jakubblaha/Documents/thesis/thesis-python/common.py:122: RuntimeWarning: There were no Annotations stored in <EpochsArray | 1 events (all good), 0 – 7.992 s (baseline off), ~134 kB, data loaded,\n",
      " '1': 1>, so metadata was not modified.\n",
      "  res = mne_connectivity.spectral_connectivity_time(\n"
     ]
    },
    {
     "name": "stdout",
     "output_type": "stream",
     "text": [
      "[Connectivity computation done]\n",
      "only using indices for lower-triangular matrix\n",
      "Connectivity computation...\n",
      "   Processing epoch 1 / 1 ...\n",
      "[Connectivity computation done]\n"
     ]
    },
    {
     "name": "stderr",
     "output_type": "stream",
     "text": [
      "/Users/jakubblaha/Documents/thesis/thesis-python/common.py:122: RuntimeWarning: There were no Annotations stored in <EpochsArray | 1 events (all good), 0 – 7.992 s (baseline off), ~134 kB, data loaded,\n",
      " '1': 1>, so metadata was not modified.\n",
      "  res = mne_connectivity.spectral_connectivity_time(\n"
     ]
    },
    {
     "name": "stdout",
     "output_type": "stream",
     "text": [
      "only using indices for lower-triangular matrix\n",
      "Connectivity computation...\n",
      "   Processing epoch 1 / 1 ...\n",
      "[Connectivity computation done]\n"
     ]
    },
    {
     "name": "stderr",
     "output_type": "stream",
     "text": [
      "/Users/jakubblaha/Documents/thesis/thesis-python/common.py:122: RuntimeWarning: There were no Annotations stored in <EpochsArray | 1 events (all good), 0 – 7.992 s (baseline off), ~134 kB, data loaded,\n",
      " '1': 1>, so metadata was not modified.\n",
      "  res = mne_connectivity.spectral_connectivity_time(\n"
     ]
    },
    {
     "name": "stdout",
     "output_type": "stream",
     "text": [
      "only using indices for lower-triangular matrix\n",
      "Connectivity computation...\n",
      "   Processing epoch 1 / 1 ...\n",
      "[Connectivity computation done]\n"
     ]
    },
    {
     "name": "stderr",
     "output_type": "stream",
     "text": [
      "/Users/jakubblaha/Documents/thesis/thesis-python/common.py:122: RuntimeWarning: There were no Annotations stored in <EpochsArray | 1 events (all good), 0 – 7.992 s (baseline off), ~134 kB, data loaded,\n",
      " '1': 1>, so metadata was not modified.\n",
      "  res = mne_connectivity.spectral_connectivity_time(\n"
     ]
    },
    {
     "name": "stdout",
     "output_type": "stream",
     "text": [
      "only using indices for lower-triangular matrix\n",
      "Connectivity computation...\n",
      "   Processing epoch 1 / 1 ...\n",
      "[Connectivity computation done]\n"
     ]
    },
    {
     "name": "stderr",
     "output_type": "stream",
     "text": [
      "/Users/jakubblaha/Documents/thesis/thesis-python/common.py:122: RuntimeWarning: There were no Annotations stored in <EpochsArray | 1 events (all good), 0 – 7.992 s (baseline off), ~134 kB, data loaded,\n",
      " '1': 1>, so metadata was not modified.\n",
      "  res = mne_connectivity.spectral_connectivity_time(\n"
     ]
    },
    {
     "name": "stdout",
     "output_type": "stream",
     "text": [
      "only using indices for lower-triangular matrix\n",
      "Connectivity computation...\n",
      "   Processing epoch 1 / 1 ...\n",
      "[Connectivity computation done]\n"
     ]
    },
    {
     "name": "stderr",
     "output_type": "stream",
     "text": [
      "/Users/jakubblaha/Documents/thesis/thesis-python/common.py:122: RuntimeWarning: There were no Annotations stored in <EpochsArray | 1 events (all good), 0 – 7.992 s (baseline off), ~134 kB, data loaded,\n",
      " '1': 1>, so metadata was not modified.\n",
      "  res = mne_connectivity.spectral_connectivity_time(\n"
     ]
    },
    {
     "name": "stdout",
     "output_type": "stream",
     "text": [
      "only using indices for lower-triangular matrix\n",
      "Connectivity computation...\n",
      "   Processing epoch 1 / 1 ...\n"
     ]
    },
    {
     "name": "stderr",
     "output_type": "stream",
     "text": [
      "/Users/jakubblaha/Documents/thesis/thesis-python/common.py:122: RuntimeWarning: There were no Annotations stored in <EpochsArray | 1 events (all good), 0 – 7.992 s (baseline off), ~134 kB, data loaded,\n",
      " '1': 1>, so metadata was not modified.\n",
      "  res = mne_connectivity.spectral_connectivity_time(\n"
     ]
    },
    {
     "name": "stdout",
     "output_type": "stream",
     "text": [
      "[Connectivity computation done]\n",
      "only using indices for lower-triangular matrix\n",
      "Connectivity computation...\n",
      "   Processing epoch 1 / 1 ...\n",
      "[Connectivity computation done]\n"
     ]
    },
    {
     "name": "stderr",
     "output_type": "stream",
     "text": [
      "/Users/jakubblaha/Documents/thesis/thesis-python/common.py:122: RuntimeWarning: There were no Annotations stored in <EpochsArray | 1 events (all good), 0 – 7.992 s (baseline off), ~134 kB, data loaded,\n",
      " '1': 1>, so metadata was not modified.\n",
      "  res = mne_connectivity.spectral_connectivity_time(\n"
     ]
    },
    {
     "name": "stdout",
     "output_type": "stream",
     "text": [
      "only using indices for lower-triangular matrix\n",
      "Connectivity computation...\n",
      "   Processing epoch 1 / 1 ...\n",
      "[Connectivity computation done]\n"
     ]
    },
    {
     "name": "stderr",
     "output_type": "stream",
     "text": [
      "/Users/jakubblaha/Documents/thesis/thesis-python/common.py:122: RuntimeWarning: There were no Annotations stored in <EpochsArray | 1 events (all good), 0 – 7.992 s (baseline off), ~134 kB, data loaded,\n",
      " '1': 1>, so metadata was not modified.\n",
      "  res = mne_connectivity.spectral_connectivity_time(\n"
     ]
    },
    {
     "name": "stdout",
     "output_type": "stream",
     "text": [
      "only using indices for lower-triangular matrix\n",
      "Connectivity computation...\n",
      "   Processing epoch 1 / 1 ...\n",
      "[Connectivity computation done]\n"
     ]
    },
    {
     "name": "stderr",
     "output_type": "stream",
     "text": [
      "/Users/jakubblaha/Documents/thesis/thesis-python/common.py:122: RuntimeWarning: There were no Annotations stored in <EpochsArray | 1 events (all good), 0 – 7.992 s (baseline off), ~134 kB, data loaded,\n",
      " '1': 1>, so metadata was not modified.\n",
      "  res = mne_connectivity.spectral_connectivity_time(\n"
     ]
    },
    {
     "name": "stdout",
     "output_type": "stream",
     "text": [
      "only using indices for lower-triangular matrix\n",
      "Connectivity computation...\n",
      "   Processing epoch 1 / 1 ...\n",
      "[Connectivity computation done]\n"
     ]
    },
    {
     "name": "stderr",
     "output_type": "stream",
     "text": [
      "/Users/jakubblaha/Documents/thesis/thesis-python/common.py:122: RuntimeWarning: There were no Annotations stored in <EpochsArray | 1 events (all good), 0 – 7.992 s (baseline off), ~134 kB, data loaded,\n",
      " '1': 1>, so metadata was not modified.\n",
      "  res = mne_connectivity.spectral_connectivity_time(\n"
     ]
    },
    {
     "name": "stdout",
     "output_type": "stream",
     "text": [
      "only using indices for lower-triangular matrix\n",
      "Connectivity computation...\n",
      "   Processing epoch 1 / 1 ...\n",
      "[Connectivity computation done]\n"
     ]
    },
    {
     "name": "stderr",
     "output_type": "stream",
     "text": [
      "/Users/jakubblaha/Documents/thesis/thesis-python/common.py:122: RuntimeWarning: There were no Annotations stored in <EpochsArray | 1 events (all good), 0 – 7.992 s (baseline off), ~134 kB, data loaded,\n",
      " '1': 1>, so metadata was not modified.\n",
      "  res = mne_connectivity.spectral_connectivity_time(\n"
     ]
    },
    {
     "name": "stdout",
     "output_type": "stream",
     "text": [
      "only using indices for lower-triangular matrix\n",
      "Connectivity computation...\n",
      "   Processing epoch 1 / 1 ...\n"
     ]
    },
    {
     "name": "stderr",
     "output_type": "stream",
     "text": [
      "/Users/jakubblaha/Documents/thesis/thesis-python/common.py:122: RuntimeWarning: There were no Annotations stored in <EpochsArray | 1 events (all good), 0 – 7.992 s (baseline off), ~134 kB, data loaded,\n",
      " '1': 1>, so metadata was not modified.\n",
      "  res = mne_connectivity.spectral_connectivity_time(\n"
     ]
    },
    {
     "name": "stdout",
     "output_type": "stream",
     "text": [
      "[Connectivity computation done]\n",
      "only using indices for lower-triangular matrix\n",
      "Connectivity computation...\n",
      "   Processing epoch 1 / 1 ...\n",
      "[Connectivity computation done]\n"
     ]
    },
    {
     "name": "stderr",
     "output_type": "stream",
     "text": [
      "/Users/jakubblaha/Documents/thesis/thesis-python/common.py:122: RuntimeWarning: There were no Annotations stored in <EpochsArray | 1 events (all good), 0 – 7.992 s (baseline off), ~134 kB, data loaded,\n",
      " '1': 1>, so metadata was not modified.\n",
      "  res = mne_connectivity.spectral_connectivity_time(\n"
     ]
    },
    {
     "name": "stdout",
     "output_type": "stream",
     "text": [
      "only using indices for lower-triangular matrix\n",
      "Connectivity computation...\n",
      "   Processing epoch 1 / 1 ...\n",
      "[Connectivity computation done]\n"
     ]
    },
    {
     "name": "stderr",
     "output_type": "stream",
     "text": [
      "/Users/jakubblaha/Documents/thesis/thesis-python/common.py:122: RuntimeWarning: There were no Annotations stored in <EpochsArray | 1 events (all good), 0 – 7.992 s (baseline off), ~134 kB, data loaded,\n",
      " '1': 1>, so metadata was not modified.\n",
      "  res = mne_connectivity.spectral_connectivity_time(\n"
     ]
    },
    {
     "name": "stdout",
     "output_type": "stream",
     "text": [
      "only using indices for lower-triangular matrix\n",
      "Connectivity computation...\n",
      "   Processing epoch 1 / 1 ...\n",
      "[Connectivity computation done]\n"
     ]
    },
    {
     "name": "stderr",
     "output_type": "stream",
     "text": [
      "/Users/jakubblaha/Documents/thesis/thesis-python/common.py:122: RuntimeWarning: There were no Annotations stored in <EpochsArray | 1 events (all good), 0 – 7.992 s (baseline off), ~134 kB, data loaded,\n",
      " '1': 1>, so metadata was not modified.\n",
      "  res = mne_connectivity.spectral_connectivity_time(\n"
     ]
    },
    {
     "name": "stdout",
     "output_type": "stream",
     "text": [
      "only using indices for lower-triangular matrix\n",
      "Connectivity computation...\n",
      "   Processing epoch 1 / 1 ...\n",
      "[Connectivity computation done]\n"
     ]
    },
    {
     "name": "stderr",
     "output_type": "stream",
     "text": [
      "/Users/jakubblaha/Documents/thesis/thesis-python/common.py:122: RuntimeWarning: There were no Annotations stored in <EpochsArray | 1 events (all good), 0 – 7.992 s (baseline off), ~134 kB, data loaded,\n",
      " '1': 1>, so metadata was not modified.\n",
      "  res = mne_connectivity.spectral_connectivity_time(\n"
     ]
    },
    {
     "name": "stdout",
     "output_type": "stream",
     "text": [
      "only using indices for lower-triangular matrix\n",
      "Connectivity computation...\n",
      "   Processing epoch 1 / 1 ...\n",
      "[Connectivity computation done]\n"
     ]
    },
    {
     "name": "stderr",
     "output_type": "stream",
     "text": [
      "/Users/jakubblaha/Documents/thesis/thesis-python/common.py:122: RuntimeWarning: There were no Annotations stored in <EpochsArray | 1 events (all good), 0 – 7.992 s (baseline off), ~134 kB, data loaded,\n",
      " '1': 1>, so metadata was not modified.\n",
      "  res = mne_connectivity.spectral_connectivity_time(\n"
     ]
    },
    {
     "name": "stdout",
     "output_type": "stream",
     "text": [
      "only using indices for lower-triangular matrix\n",
      "Connectivity computation...\n",
      "   Processing epoch 1 / 1 ...\n"
     ]
    },
    {
     "name": "stderr",
     "output_type": "stream",
     "text": [
      "/Users/jakubblaha/Documents/thesis/thesis-python/common.py:122: RuntimeWarning: There were no Annotations stored in <EpochsArray | 1 events (all good), 0 – 7.992 s (baseline off), ~134 kB, data loaded,\n",
      " '1': 1>, so metadata was not modified.\n",
      "  res = mne_connectivity.spectral_connectivity_time(\n"
     ]
    },
    {
     "name": "stdout",
     "output_type": "stream",
     "text": [
      "[Connectivity computation done]\n",
      "only using indices for lower-triangular matrix\n",
      "Connectivity computation...\n",
      "   Processing epoch 1 / 1 ...\n",
      "[Connectivity computation done]\n"
     ]
    },
    {
     "name": "stderr",
     "output_type": "stream",
     "text": [
      "/Users/jakubblaha/Documents/thesis/thesis-python/common.py:122: RuntimeWarning: There were no Annotations stored in <EpochsArray | 1 events (all good), 0 – 7.992 s (baseline off), ~134 kB, data loaded,\n",
      " '1': 1>, so metadata was not modified.\n",
      "  res = mne_connectivity.spectral_connectivity_time(\n"
     ]
    },
    {
     "name": "stdout",
     "output_type": "stream",
     "text": [
      "only using indices for lower-triangular matrix\n",
      "Connectivity computation...\n",
      "   Processing epoch 1 / 1 ...\n",
      "[Connectivity computation done]\n"
     ]
    },
    {
     "name": "stderr",
     "output_type": "stream",
     "text": [
      "/Users/jakubblaha/Documents/thesis/thesis-python/common.py:122: RuntimeWarning: There were no Annotations stored in <EpochsArray | 1 events (all good), 0 – 7.992 s (baseline off), ~134 kB, data loaded,\n",
      " '1': 1>, so metadata was not modified.\n",
      "  res = mne_connectivity.spectral_connectivity_time(\n"
     ]
    },
    {
     "name": "stdout",
     "output_type": "stream",
     "text": [
      "only using indices for lower-triangular matrix\n",
      "Connectivity computation...\n",
      "   Processing epoch 1 / 1 ...\n",
      "[Connectivity computation done]\n"
     ]
    },
    {
     "name": "stderr",
     "output_type": "stream",
     "text": [
      "/Users/jakubblaha/Documents/thesis/thesis-python/common.py:122: RuntimeWarning: There were no Annotations stored in <EpochsArray | 1 events (all good), 0 – 7.992 s (baseline off), ~134 kB, data loaded,\n",
      " '1': 1>, so metadata was not modified.\n",
      "  res = mne_connectivity.spectral_connectivity_time(\n"
     ]
    },
    {
     "name": "stdout",
     "output_type": "stream",
     "text": [
      "only using indices for lower-triangular matrix\n",
      "Connectivity computation...\n",
      "   Processing epoch 1 / 1 ...\n",
      "[Connectivity computation done]\n"
     ]
    },
    {
     "name": "stderr",
     "output_type": "stream",
     "text": [
      "/Users/jakubblaha/Documents/thesis/thesis-python/common.py:122: RuntimeWarning: There were no Annotations stored in <EpochsArray | 1 events (all good), 0 – 7.992 s (baseline off), ~134 kB, data loaded,\n",
      " '1': 1>, so metadata was not modified.\n",
      "  res = mne_connectivity.spectral_connectivity_time(\n"
     ]
    },
    {
     "name": "stdout",
     "output_type": "stream",
     "text": [
      "only using indices for lower-triangular matrix\n",
      "Connectivity computation...\n",
      "   Processing epoch 1 / 1 ...\n",
      "[Connectivity computation done]\n"
     ]
    },
    {
     "name": "stderr",
     "output_type": "stream",
     "text": [
      "/Users/jakubblaha/Documents/thesis/thesis-python/common.py:122: RuntimeWarning: There were no Annotations stored in <EpochsArray | 1 events (all good), 0 – 7.992 s (baseline off), ~134 kB, data loaded,\n",
      " '1': 1>, so metadata was not modified.\n",
      "  res = mne_connectivity.spectral_connectivity_time(\n"
     ]
    },
    {
     "name": "stdout",
     "output_type": "stream",
     "text": [
      "only using indices for lower-triangular matrix\n",
      "Connectivity computation...\n",
      "   Processing epoch 1 / 1 ...\n"
     ]
    },
    {
     "name": "stderr",
     "output_type": "stream",
     "text": [
      "/Users/jakubblaha/Documents/thesis/thesis-python/common.py:122: RuntimeWarning: There were no Annotations stored in <EpochsArray | 1 events (all good), 0 – 7.992 s (baseline off), ~134 kB, data loaded,\n",
      " '1': 1>, so metadata was not modified.\n",
      "  res = mne_connectivity.spectral_connectivity_time(\n"
     ]
    },
    {
     "name": "stdout",
     "output_type": "stream",
     "text": [
      "[Connectivity computation done]\n",
      "only using indices for lower-triangular matrix\n",
      "Connectivity computation...\n",
      "   Processing epoch 1 / 1 ...\n",
      "[Connectivity computation done]\n"
     ]
    },
    {
     "name": "stderr",
     "output_type": "stream",
     "text": [
      "/Users/jakubblaha/Documents/thesis/thesis-python/common.py:122: RuntimeWarning: There were no Annotations stored in <EpochsArray | 1 events (all good), 0 – 7.992 s (baseline off), ~134 kB, data loaded,\n",
      " '1': 1>, so metadata was not modified.\n",
      "  res = mne_connectivity.spectral_connectivity_time(\n"
     ]
    },
    {
     "name": "stdout",
     "output_type": "stream",
     "text": [
      "only using indices for lower-triangular matrix\n",
      "Connectivity computation...\n",
      "   Processing epoch 1 / 1 ...\n",
      "[Connectivity computation done]\n"
     ]
    },
    {
     "name": "stderr",
     "output_type": "stream",
     "text": [
      "/Users/jakubblaha/Documents/thesis/thesis-python/common.py:122: RuntimeWarning: There were no Annotations stored in <EpochsArray | 1 events (all good), 0 – 7.992 s (baseline off), ~134 kB, data loaded,\n",
      " '1': 1>, so metadata was not modified.\n",
      "  res = mne_connectivity.spectral_connectivity_time(\n"
     ]
    },
    {
     "name": "stdout",
     "output_type": "stream",
     "text": [
      "only using indices for lower-triangular matrix\n",
      "Connectivity computation...\n",
      "   Processing epoch 1 / 1 ...\n",
      "[Connectivity computation done]\n"
     ]
    },
    {
     "name": "stderr",
     "output_type": "stream",
     "text": [
      "/Users/jakubblaha/Documents/thesis/thesis-python/common.py:122: RuntimeWarning: There were no Annotations stored in <EpochsArray | 1 events (all good), 0 – 7.992 s (baseline off), ~134 kB, data loaded,\n",
      " '1': 1>, so metadata was not modified.\n",
      "  res = mne_connectivity.spectral_connectivity_time(\n"
     ]
    },
    {
     "name": "stdout",
     "output_type": "stream",
     "text": [
      "only using indices for lower-triangular matrix\n",
      "Connectivity computation...\n",
      "   Processing epoch 1 / 1 ...\n",
      "[Connectivity computation done]\n"
     ]
    },
    {
     "name": "stderr",
     "output_type": "stream",
     "text": [
      "/Users/jakubblaha/Documents/thesis/thesis-python/common.py:122: RuntimeWarning: There were no Annotations stored in <EpochsArray | 1 events (all good), 0 – 7.992 s (baseline off), ~134 kB, data loaded,\n",
      " '1': 1>, so metadata was not modified.\n",
      "  res = mne_connectivity.spectral_connectivity_time(\n"
     ]
    },
    {
     "name": "stdout",
     "output_type": "stream",
     "text": [
      "only using indices for lower-triangular matrix\n",
      "Connectivity computation...\n",
      "   Processing epoch 1 / 1 ...\n",
      "[Connectivity computation done]\n"
     ]
    },
    {
     "name": "stderr",
     "output_type": "stream",
     "text": [
      "/Users/jakubblaha/Documents/thesis/thesis-python/common.py:122: RuntimeWarning: There were no Annotations stored in <EpochsArray | 1 events (all good), 0 – 7.992 s (baseline off), ~134 kB, data loaded,\n",
      " '1': 1>, so metadata was not modified.\n",
      "  res = mne_connectivity.spectral_connectivity_time(\n"
     ]
    },
    {
     "name": "stdout",
     "output_type": "stream",
     "text": [
      "only using indices for lower-triangular matrix\n",
      "Connectivity computation...\n",
      "   Processing epoch 1 / 1 ...\n"
     ]
    },
    {
     "name": "stderr",
     "output_type": "stream",
     "text": [
      "/Users/jakubblaha/Documents/thesis/thesis-python/common.py:122: RuntimeWarning: There were no Annotations stored in <EpochsArray | 1 events (all good), 0 – 7.992 s (baseline off), ~134 kB, data loaded,\n",
      " '1': 1>, so metadata was not modified.\n",
      "  res = mne_connectivity.spectral_connectivity_time(\n"
     ]
    },
    {
     "name": "stdout",
     "output_type": "stream",
     "text": [
      "[Connectivity computation done]\n",
      "only using indices for lower-triangular matrix\n",
      "Connectivity computation...\n",
      "   Processing epoch 1 / 1 ...\n",
      "[Connectivity computation done]\n"
     ]
    },
    {
     "name": "stderr",
     "output_type": "stream",
     "text": [
      "/Users/jakubblaha/Documents/thesis/thesis-python/common.py:122: RuntimeWarning: There were no Annotations stored in <EpochsArray | 1 events (all good), 0 – 7.992 s (baseline off), ~134 kB, data loaded,\n",
      " '1': 1>, so metadata was not modified.\n",
      "  res = mne_connectivity.spectral_connectivity_time(\n"
     ]
    },
    {
     "name": "stdout",
     "output_type": "stream",
     "text": [
      "only using indices for lower-triangular matrix\n",
      "Connectivity computation...\n",
      "   Processing epoch 1 / 1 ...\n",
      "[Connectivity computation done]\n"
     ]
    },
    {
     "name": "stderr",
     "output_type": "stream",
     "text": [
      "/Users/jakubblaha/Documents/thesis/thesis-python/common.py:122: RuntimeWarning: There were no Annotations stored in <EpochsArray | 1 events (all good), 0 – 7.992 s (baseline off), ~134 kB, data loaded,\n",
      " '1': 1>, so metadata was not modified.\n",
      "  res = mne_connectivity.spectral_connectivity_time(\n"
     ]
    },
    {
     "name": "stdout",
     "output_type": "stream",
     "text": [
      "only using indices for lower-triangular matrix\n",
      "Connectivity computation...\n",
      "   Processing epoch 1 / 1 ...\n",
      "[Connectivity computation done]\n"
     ]
    },
    {
     "name": "stderr",
     "output_type": "stream",
     "text": [
      "/Users/jakubblaha/Documents/thesis/thesis-python/common.py:122: RuntimeWarning: There were no Annotations stored in <EpochsArray | 1 events (all good), 0 – 7.992 s (baseline off), ~134 kB, data loaded,\n",
      " '1': 1>, so metadata was not modified.\n",
      "  res = mne_connectivity.spectral_connectivity_time(\n"
     ]
    },
    {
     "name": "stdout",
     "output_type": "stream",
     "text": [
      "only using indices for lower-triangular matrix\n",
      "Connectivity computation...\n",
      "   Processing epoch 1 / 1 ...\n",
      "[Connectivity computation done]\n"
     ]
    },
    {
     "name": "stderr",
     "output_type": "stream",
     "text": [
      "/Users/jakubblaha/Documents/thesis/thesis-python/common.py:122: RuntimeWarning: There were no Annotations stored in <EpochsArray | 1 events (all good), 0 – 7.992 s (baseline off), ~134 kB, data loaded,\n",
      " '1': 1>, so metadata was not modified.\n",
      "  res = mne_connectivity.spectral_connectivity_time(\n"
     ]
    },
    {
     "name": "stdout",
     "output_type": "stream",
     "text": [
      "only using indices for lower-triangular matrix\n",
      "Connectivity computation...\n",
      "   Processing epoch 1 / 1 ...\n",
      "[Connectivity computation done]\n"
     ]
    },
    {
     "name": "stderr",
     "output_type": "stream",
     "text": [
      "/Users/jakubblaha/Documents/thesis/thesis-python/common.py:122: RuntimeWarning: There were no Annotations stored in <EpochsArray | 1 events (all good), 0 – 7.992 s (baseline off), ~134 kB, data loaded,\n",
      " '1': 1>, so metadata was not modified.\n",
      "  res = mne_connectivity.spectral_connectivity_time(\n"
     ]
    },
    {
     "name": "stdout",
     "output_type": "stream",
     "text": [
      "only using indices for lower-triangular matrix\n",
      "Connectivity computation...\n",
      "   Processing epoch 1 / 1 ...\n"
     ]
    },
    {
     "name": "stderr",
     "output_type": "stream",
     "text": [
      "/Users/jakubblaha/Documents/thesis/thesis-python/common.py:122: RuntimeWarning: There were no Annotations stored in <EpochsArray | 1 events (all good), 0 – 7.992 s (baseline off), ~134 kB, data loaded,\n",
      " '1': 1>, so metadata was not modified.\n",
      "  res = mne_connectivity.spectral_connectivity_time(\n"
     ]
    },
    {
     "name": "stdout",
     "output_type": "stream",
     "text": [
      "[Connectivity computation done]\n",
      "only using indices for lower-triangular matrix\n",
      "Connectivity computation...\n",
      "   Processing epoch 1 / 1 ...\n",
      "[Connectivity computation done]\n"
     ]
    },
    {
     "name": "stderr",
     "output_type": "stream",
     "text": [
      "/Users/jakubblaha/Documents/thesis/thesis-python/common.py:122: RuntimeWarning: There were no Annotations stored in <EpochsArray | 1 events (all good), 0 – 7.992 s (baseline off), ~134 kB, data loaded,\n",
      " '1': 1>, so metadata was not modified.\n",
      "  res = mne_connectivity.spectral_connectivity_time(\n"
     ]
    },
    {
     "name": "stdout",
     "output_type": "stream",
     "text": [
      "only using indices for lower-triangular matrix\n",
      "Connectivity computation...\n",
      "   Processing epoch 1 / 1 ...\n",
      "[Connectivity computation done]\n"
     ]
    },
    {
     "name": "stderr",
     "output_type": "stream",
     "text": [
      "/Users/jakubblaha/Documents/thesis/thesis-python/common.py:122: RuntimeWarning: There were no Annotations stored in <EpochsArray | 1 events (all good), 0 – 7.992 s (baseline off), ~134 kB, data loaded,\n",
      " '1': 1>, so metadata was not modified.\n",
      "  res = mne_connectivity.spectral_connectivity_time(\n"
     ]
    },
    {
     "name": "stdout",
     "output_type": "stream",
     "text": [
      "only using indices for lower-triangular matrix\n",
      "Connectivity computation...\n",
      "   Processing epoch 1 / 1 ...\n",
      "[Connectivity computation done]\n"
     ]
    },
    {
     "name": "stderr",
     "output_type": "stream",
     "text": [
      "/Users/jakubblaha/Documents/thesis/thesis-python/common.py:122: RuntimeWarning: There were no Annotations stored in <EpochsArray | 1 events (all good), 0 – 7.992 s (baseline off), ~134 kB, data loaded,\n",
      " '1': 1>, so metadata was not modified.\n",
      "  res = mne_connectivity.spectral_connectivity_time(\n"
     ]
    },
    {
     "name": "stdout",
     "output_type": "stream",
     "text": [
      "only using indices for lower-triangular matrix\n",
      "Connectivity computation...\n",
      "   Processing epoch 1 / 1 ...\n",
      "[Connectivity computation done]\n"
     ]
    },
    {
     "name": "stderr",
     "output_type": "stream",
     "text": [
      "/Users/jakubblaha/Documents/thesis/thesis-python/common.py:122: RuntimeWarning: There were no Annotations stored in <EpochsArray | 1 events (all good), 0 – 7.992 s (baseline off), ~134 kB, data loaded,\n",
      " '1': 1>, so metadata was not modified.\n",
      "  res = mne_connectivity.spectral_connectivity_time(\n"
     ]
    },
    {
     "name": "stdout",
     "output_type": "stream",
     "text": [
      "only using indices for lower-triangular matrix\n",
      "Connectivity computation...\n",
      "   Processing epoch 1 / 1 ...\n",
      "[Connectivity computation done]\n"
     ]
    },
    {
     "name": "stderr",
     "output_type": "stream",
     "text": [
      "/Users/jakubblaha/Documents/thesis/thesis-python/common.py:122: RuntimeWarning: There were no Annotations stored in <EpochsArray | 1 events (all good), 0 – 7.992 s (baseline off), ~134 kB, data loaded,\n",
      " '1': 1>, so metadata was not modified.\n",
      "  res = mne_connectivity.spectral_connectivity_time(\n"
     ]
    },
    {
     "name": "stdout",
     "output_type": "stream",
     "text": [
      "only using indices for lower-triangular matrix\n",
      "Connectivity computation...\n",
      "   Processing epoch 1 / 1 ...\n"
     ]
    },
    {
     "name": "stderr",
     "output_type": "stream",
     "text": [
      "/Users/jakubblaha/Documents/thesis/thesis-python/common.py:122: RuntimeWarning: There were no Annotations stored in <EpochsArray | 1 events (all good), 0 – 7.992 s (baseline off), ~134 kB, data loaded,\n",
      " '1': 1>, so metadata was not modified.\n",
      "  res = mne_connectivity.spectral_connectivity_time(\n"
     ]
    },
    {
     "name": "stdout",
     "output_type": "stream",
     "text": [
      "[Connectivity computation done]\n",
      "only using indices for lower-triangular matrix\n",
      "Connectivity computation...\n",
      "   Processing epoch 1 / 1 ...\n",
      "[Connectivity computation done]\n"
     ]
    },
    {
     "name": "stderr",
     "output_type": "stream",
     "text": [
      "/Users/jakubblaha/Documents/thesis/thesis-python/common.py:122: RuntimeWarning: There were no Annotations stored in <EpochsArray | 1 events (all good), 0 – 7.992 s (baseline off), ~134 kB, data loaded,\n",
      " '1': 1>, so metadata was not modified.\n",
      "  res = mne_connectivity.spectral_connectivity_time(\n"
     ]
    },
    {
     "name": "stdout",
     "output_type": "stream",
     "text": [
      "only using indices for lower-triangular matrix\n",
      "Connectivity computation...\n",
      "   Processing epoch 1 / 1 ...\n",
      "[Connectivity computation done]\n"
     ]
    },
    {
     "name": "stderr",
     "output_type": "stream",
     "text": [
      "/Users/jakubblaha/Documents/thesis/thesis-python/common.py:122: RuntimeWarning: There were no Annotations stored in <EpochsArray | 1 events (all good), 0 – 7.992 s (baseline off), ~134 kB, data loaded,\n",
      " '1': 1>, so metadata was not modified.\n",
      "  res = mne_connectivity.spectral_connectivity_time(\n"
     ]
    },
    {
     "name": "stdout",
     "output_type": "stream",
     "text": [
      "only using indices for lower-triangular matrix\n",
      "Connectivity computation...\n",
      "   Processing epoch 1 / 1 ...\n",
      "[Connectivity computation done]\n"
     ]
    },
    {
     "name": "stderr",
     "output_type": "stream",
     "text": [
      "/Users/jakubblaha/Documents/thesis/thesis-python/common.py:122: RuntimeWarning: There were no Annotations stored in <EpochsArray | 1 events (all good), 0 – 7.992 s (baseline off), ~134 kB, data loaded,\n",
      " '1': 1>, so metadata was not modified.\n",
      "  res = mne_connectivity.spectral_connectivity_time(\n"
     ]
    },
    {
     "name": "stdout",
     "output_type": "stream",
     "text": [
      "only using indices for lower-triangular matrix\n",
      "Connectivity computation...\n",
      "   Processing epoch 1 / 1 ...\n",
      "[Connectivity computation done]\n"
     ]
    },
    {
     "name": "stderr",
     "output_type": "stream",
     "text": [
      "/Users/jakubblaha/Documents/thesis/thesis-python/common.py:122: RuntimeWarning: There were no Annotations stored in <EpochsArray | 1 events (all good), 0 – 7.992 s (baseline off), ~134 kB, data loaded,\n",
      " '1': 1>, so metadata was not modified.\n",
      "  res = mne_connectivity.spectral_connectivity_time(\n"
     ]
    },
    {
     "name": "stdout",
     "output_type": "stream",
     "text": [
      "only using indices for lower-triangular matrix\n",
      "Connectivity computation...\n",
      "   Processing epoch 1 / 1 ...\n",
      "[Connectivity computation done]\n"
     ]
    },
    {
     "name": "stderr",
     "output_type": "stream",
     "text": [
      "/Users/jakubblaha/Documents/thesis/thesis-python/common.py:122: RuntimeWarning: There were no Annotations stored in <EpochsArray | 1 events (all good), 0 – 7.992 s (baseline off), ~134 kB, data loaded,\n",
      " '1': 1>, so metadata was not modified.\n",
      "  res = mne_connectivity.spectral_connectivity_time(\n"
     ]
    },
    {
     "name": "stdout",
     "output_type": "stream",
     "text": [
      "only using indices for lower-triangular matrix\n",
      "Connectivity computation...\n",
      "   Processing epoch 1 / 1 ...\n",
      "[Connectivity computation done]\n"
     ]
    },
    {
     "name": "stderr",
     "output_type": "stream",
     "text": [
      "/Users/jakubblaha/Documents/thesis/thesis-python/common.py:122: RuntimeWarning: There were no Annotations stored in <EpochsArray | 1 events (all good), 0 – 7.992 s (baseline off), ~134 kB, data loaded,\n",
      " '1': 1>, so metadata was not modified.\n",
      "  res = mne_connectivity.spectral_connectivity_time(\n"
     ]
    },
    {
     "name": "stdout",
     "output_type": "stream",
     "text": [
      "only using indices for lower-triangular matrix\n",
      "Connectivity computation...\n",
      "   Processing epoch 1 / 1 ...\n",
      "[Connectivity computation done]\n"
     ]
    },
    {
     "name": "stderr",
     "output_type": "stream",
     "text": [
      "/Users/jakubblaha/Documents/thesis/thesis-python/common.py:122: RuntimeWarning: There were no Annotations stored in <EpochsArray | 1 events (all good), 0 – 7.992 s (baseline off), ~134 kB, data loaded,\n",
      " '1': 1>, so metadata was not modified.\n",
      "  res = mne_connectivity.spectral_connectivity_time(\n"
     ]
    },
    {
     "name": "stdout",
     "output_type": "stream",
     "text": [
      "only using indices for lower-triangular matrix\n",
      "Connectivity computation...\n",
      "   Processing epoch 1 / 1 ...\n",
      "[Connectivity computation done]\n"
     ]
    },
    {
     "name": "stderr",
     "output_type": "stream",
     "text": [
      "/Users/jakubblaha/Documents/thesis/thesis-python/common.py:122: RuntimeWarning: There were no Annotations stored in <EpochsArray | 1 events (all good), 0 – 7.992 s (baseline off), ~134 kB, data loaded,\n",
      " '1': 1>, so metadata was not modified.\n",
      "  res = mne_connectivity.spectral_connectivity_time(\n"
     ]
    },
    {
     "name": "stdout",
     "output_type": "stream",
     "text": [
      "only using indices for lower-triangular matrix\n",
      "Connectivity computation...\n",
      "   Processing epoch 1 / 1 ...\n",
      "[Connectivity computation done]\n"
     ]
    },
    {
     "name": "stderr",
     "output_type": "stream",
     "text": [
      "/Users/jakubblaha/Documents/thesis/thesis-python/common.py:122: RuntimeWarning: There were no Annotations stored in <EpochsArray | 1 events (all good), 0 – 7.992 s (baseline off), ~134 kB, data loaded,\n",
      " '1': 1>, so metadata was not modified.\n",
      "  res = mne_connectivity.spectral_connectivity_time(\n"
     ]
    },
    {
     "name": "stdout",
     "output_type": "stream",
     "text": [
      "only using indices for lower-triangular matrix\n",
      "Connectivity computation...\n",
      "   Processing epoch 1 / 1 ...\n",
      "[Connectivity computation done]\n"
     ]
    },
    {
     "name": "stderr",
     "output_type": "stream",
     "text": [
      "/Users/jakubblaha/Documents/thesis/thesis-python/common.py:122: RuntimeWarning: There were no Annotations stored in <EpochsArray | 1 events (all good), 0 – 7.992 s (baseline off), ~134 kB, data loaded,\n",
      " '1': 1>, so metadata was not modified.\n",
      "  res = mne_connectivity.spectral_connectivity_time(\n"
     ]
    },
    {
     "name": "stdout",
     "output_type": "stream",
     "text": [
      "only using indices for lower-triangular matrix\n",
      "Connectivity computation...\n",
      "   Processing epoch 1 / 1 ...\n"
     ]
    },
    {
     "name": "stderr",
     "output_type": "stream",
     "text": [
      "/Users/jakubblaha/Documents/thesis/thesis-python/common.py:122: RuntimeWarning: There were no Annotations stored in <EpochsArray | 1 events (all good), 0 – 7.992 s (baseline off), ~134 kB, data loaded,\n",
      " '1': 1>, so metadata was not modified.\n",
      "  res = mne_connectivity.spectral_connectivity_time(\n"
     ]
    },
    {
     "name": "stdout",
     "output_type": "stream",
     "text": [
      "[Connectivity computation done]\n",
      "only using indices for lower-triangular matrix\n",
      "Connectivity computation...\n",
      "   Processing epoch 1 / 1 ...\n",
      "[Connectivity computation done]\n"
     ]
    },
    {
     "name": "stderr",
     "output_type": "stream",
     "text": [
      "/Users/jakubblaha/Documents/thesis/thesis-python/common.py:122: RuntimeWarning: There were no Annotations stored in <EpochsArray | 1 events (all good), 0 – 7.992 s (baseline off), ~134 kB, data loaded,\n",
      " '1': 1>, so metadata was not modified.\n",
      "  res = mne_connectivity.spectral_connectivity_time(\n"
     ]
    },
    {
     "name": "stdout",
     "output_type": "stream",
     "text": [
      "only using indices for lower-triangular matrix\n",
      "Connectivity computation...\n",
      "   Processing epoch 1 / 1 ...\n",
      "[Connectivity computation done]\n"
     ]
    },
    {
     "name": "stderr",
     "output_type": "stream",
     "text": [
      "/Users/jakubblaha/Documents/thesis/thesis-python/common.py:122: RuntimeWarning: There were no Annotations stored in <EpochsArray | 1 events (all good), 0 – 7.992 s (baseline off), ~134 kB, data loaded,\n",
      " '1': 1>, so metadata was not modified.\n",
      "  res = mne_connectivity.spectral_connectivity_time(\n"
     ]
    },
    {
     "name": "stdout",
     "output_type": "stream",
     "text": [
      "only using indices for lower-triangular matrix\n",
      "Connectivity computation...\n",
      "   Processing epoch 1 / 1 ...\n",
      "[Connectivity computation done]\n"
     ]
    },
    {
     "name": "stderr",
     "output_type": "stream",
     "text": [
      "/Users/jakubblaha/Documents/thesis/thesis-python/common.py:122: RuntimeWarning: There were no Annotations stored in <EpochsArray | 1 events (all good), 0 – 7.992 s (baseline off), ~134 kB, data loaded,\n",
      " '1': 1>, so metadata was not modified.\n",
      "  res = mne_connectivity.spectral_connectivity_time(\n"
     ]
    },
    {
     "name": "stdout",
     "output_type": "stream",
     "text": [
      "only using indices for lower-triangular matrix\n",
      "Connectivity computation...\n",
      "   Processing epoch 1 / 1 ...\n",
      "[Connectivity computation done]\n"
     ]
    },
    {
     "name": "stderr",
     "output_type": "stream",
     "text": [
      "/Users/jakubblaha/Documents/thesis/thesis-python/common.py:122: RuntimeWarning: There were no Annotations stored in <EpochsArray | 1 events (all good), 0 – 7.992 s (baseline off), ~134 kB, data loaded,\n",
      " '1': 1>, so metadata was not modified.\n",
      "  res = mne_connectivity.spectral_connectivity_time(\n"
     ]
    },
    {
     "name": "stdout",
     "output_type": "stream",
     "text": [
      "only using indices for lower-triangular matrix\n",
      "Connectivity computation...\n",
      "   Processing epoch 1 / 1 ...\n"
     ]
    },
    {
     "name": "stderr",
     "output_type": "stream",
     "text": [
      "/Users/jakubblaha/Documents/thesis/thesis-python/common.py:122: RuntimeWarning: There were no Annotations stored in <EpochsArray | 1 events (all good), 0 – 7.992 s (baseline off), ~134 kB, data loaded,\n",
      " '1': 1>, so metadata was not modified.\n",
      "  res = mne_connectivity.spectral_connectivity_time(\n"
     ]
    },
    {
     "name": "stdout",
     "output_type": "stream",
     "text": [
      "[Connectivity computation done]\n",
      "only using indices for lower-triangular matrix\n",
      "Connectivity computation...\n",
      "   Processing epoch 1 / 1 ...\n",
      "[Connectivity computation done]\n"
     ]
    },
    {
     "name": "stderr",
     "output_type": "stream",
     "text": [
      "/Users/jakubblaha/Documents/thesis/thesis-python/common.py:122: RuntimeWarning: There were no Annotations stored in <EpochsArray | 1 events (all good), 0 – 7.992 s (baseline off), ~134 kB, data loaded,\n",
      " '1': 1>, so metadata was not modified.\n",
      "  res = mne_connectivity.spectral_connectivity_time(\n"
     ]
    },
    {
     "name": "stdout",
     "output_type": "stream",
     "text": [
      "only using indices for lower-triangular matrix\n",
      "Connectivity computation...\n",
      "   Processing epoch 1 / 1 ...\n",
      "[Connectivity computation done]\n"
     ]
    },
    {
     "name": "stderr",
     "output_type": "stream",
     "text": [
      "/Users/jakubblaha/Documents/thesis/thesis-python/common.py:122: RuntimeWarning: There were no Annotations stored in <EpochsArray | 1 events (all good), 0 – 7.992 s (baseline off), ~134 kB, data loaded,\n",
      " '1': 1>, so metadata was not modified.\n",
      "  res = mne_connectivity.spectral_connectivity_time(\n"
     ]
    },
    {
     "name": "stdout",
     "output_type": "stream",
     "text": [
      "only using indices for lower-triangular matrix\n",
      "Connectivity computation...\n",
      "   Processing epoch 1 / 1 ...\n",
      "[Connectivity computation done]\n"
     ]
    },
    {
     "name": "stderr",
     "output_type": "stream",
     "text": [
      "/Users/jakubblaha/Documents/thesis/thesis-python/common.py:122: RuntimeWarning: There were no Annotations stored in <EpochsArray | 1 events (all good), 0 – 7.992 s (baseline off), ~134 kB, data loaded,\n",
      " '1': 1>, so metadata was not modified.\n",
      "  res = mne_connectivity.spectral_connectivity_time(\n"
     ]
    },
    {
     "name": "stdout",
     "output_type": "stream",
     "text": [
      "only using indices for lower-triangular matrix\n",
      "Connectivity computation...\n",
      "   Processing epoch 1 / 1 ...\n",
      "[Connectivity computation done]\n"
     ]
    },
    {
     "name": "stderr",
     "output_type": "stream",
     "text": [
      "/Users/jakubblaha/Documents/thesis/thesis-python/common.py:122: RuntimeWarning: There were no Annotations stored in <EpochsArray | 1 events (all good), 0 – 7.992 s (baseline off), ~134 kB, data loaded,\n",
      " '1': 1>, so metadata was not modified.\n",
      "  res = mne_connectivity.spectral_connectivity_time(\n"
     ]
    },
    {
     "name": "stdout",
     "output_type": "stream",
     "text": [
      "only using indices for lower-triangular matrix\n",
      "Connectivity computation...\n",
      "   Processing epoch 1 / 1 ...\n",
      "[Connectivity computation done]\n"
     ]
    },
    {
     "name": "stderr",
     "output_type": "stream",
     "text": [
      "/Users/jakubblaha/Documents/thesis/thesis-python/common.py:122: RuntimeWarning: There were no Annotations stored in <EpochsArray | 1 events (all good), 0 – 7.992 s (baseline off), ~134 kB, data loaded,\n",
      " '1': 1>, so metadata was not modified.\n",
      "  res = mne_connectivity.spectral_connectivity_time(\n"
     ]
    },
    {
     "name": "stdout",
     "output_type": "stream",
     "text": [
      "only using indices for lower-triangular matrix\n",
      "Connectivity computation...\n",
      "   Processing epoch 1 / 1 ...\n"
     ]
    },
    {
     "name": "stderr",
     "output_type": "stream",
     "text": [
      "/Users/jakubblaha/Documents/thesis/thesis-python/common.py:122: RuntimeWarning: There were no Annotations stored in <EpochsArray | 1 events (all good), 0 – 7.992 s (baseline off), ~134 kB, data loaded,\n",
      " '1': 1>, so metadata was not modified.\n",
      "  res = mne_connectivity.spectral_connectivity_time(\n"
     ]
    },
    {
     "name": "stdout",
     "output_type": "stream",
     "text": [
      "[Connectivity computation done]\n",
      "only using indices for lower-triangular matrix\n",
      "Connectivity computation...\n",
      "   Processing epoch 1 / 1 ...\n",
      "[Connectivity computation done]\n"
     ]
    },
    {
     "name": "stderr",
     "output_type": "stream",
     "text": [
      "/Users/jakubblaha/Documents/thesis/thesis-python/common.py:122: RuntimeWarning: There were no Annotations stored in <EpochsArray | 1 events (all good), 0 – 7.992 s (baseline off), ~134 kB, data loaded,\n",
      " '1': 1>, so metadata was not modified.\n",
      "  res = mne_connectivity.spectral_connectivity_time(\n"
     ]
    },
    {
     "name": "stdout",
     "output_type": "stream",
     "text": [
      "only using indices for lower-triangular matrix\n",
      "Connectivity computation...\n",
      "   Processing epoch 1 / 1 ...\n",
      "[Connectivity computation done]\n"
     ]
    },
    {
     "name": "stderr",
     "output_type": "stream",
     "text": [
      "/Users/jakubblaha/Documents/thesis/thesis-python/common.py:122: RuntimeWarning: There were no Annotations stored in <EpochsArray | 1 events (all good), 0 – 7.992 s (baseline off), ~134 kB, data loaded,\n",
      " '1': 1>, so metadata was not modified.\n",
      "  res = mne_connectivity.spectral_connectivity_time(\n"
     ]
    },
    {
     "name": "stdout",
     "output_type": "stream",
     "text": [
      "only using indices for lower-triangular matrix\n",
      "Connectivity computation...\n",
      "   Processing epoch 1 / 1 ...\n",
      "[Connectivity computation done]\n"
     ]
    },
    {
     "name": "stderr",
     "output_type": "stream",
     "text": [
      "/Users/jakubblaha/Documents/thesis/thesis-python/common.py:122: RuntimeWarning: There were no Annotations stored in <EpochsArray | 1 events (all good), 0 – 7.992 s (baseline off), ~134 kB, data loaded,\n",
      " '1': 1>, so metadata was not modified.\n",
      "  res = mne_connectivity.spectral_connectivity_time(\n"
     ]
    },
    {
     "name": "stdout",
     "output_type": "stream",
     "text": [
      "only using indices for lower-triangular matrix\n",
      "Connectivity computation...\n",
      "   Processing epoch 1 / 1 ...\n",
      "[Connectivity computation done]\n"
     ]
    },
    {
     "name": "stderr",
     "output_type": "stream",
     "text": [
      "/Users/jakubblaha/Documents/thesis/thesis-python/common.py:122: RuntimeWarning: There were no Annotations stored in <EpochsArray | 1 events (all good), 0 – 7.992 s (baseline off), ~134 kB, data loaded,\n",
      " '1': 1>, so metadata was not modified.\n",
      "  res = mne_connectivity.spectral_connectivity_time(\n"
     ]
    },
    {
     "name": "stdout",
     "output_type": "stream",
     "text": [
      "only using indices for lower-triangular matrix\n",
      "Connectivity computation...\n",
      "   Processing epoch 1 / 1 ...\n"
     ]
    },
    {
     "name": "stderr",
     "output_type": "stream",
     "text": [
      "/Users/jakubblaha/Documents/thesis/thesis-python/common.py:122: RuntimeWarning: There were no Annotations stored in <EpochsArray | 1 events (all good), 0 – 7.992 s (baseline off), ~134 kB, data loaded,\n",
      " '1': 1>, so metadata was not modified.\n",
      "  res = mne_connectivity.spectral_connectivity_time(\n"
     ]
    },
    {
     "name": "stdout",
     "output_type": "stream",
     "text": [
      "[Connectivity computation done]\n",
      "only using indices for lower-triangular matrix\n",
      "Connectivity computation...\n",
      "   Processing epoch 1 / 1 ...\n",
      "[Connectivity computation done]\n"
     ]
    },
    {
     "name": "stderr",
     "output_type": "stream",
     "text": [
      "/Users/jakubblaha/Documents/thesis/thesis-python/common.py:122: RuntimeWarning: There were no Annotations stored in <EpochsArray | 1 events (all good), 0 – 7.992 s (baseline off), ~134 kB, data loaded,\n",
      " '1': 1>, so metadata was not modified.\n",
      "  res = mne_connectivity.spectral_connectivity_time(\n"
     ]
    },
    {
     "name": "stdout",
     "output_type": "stream",
     "text": [
      "only using indices for lower-triangular matrix\n",
      "Connectivity computation...\n",
      "   Processing epoch 1 / 1 ...\n",
      "[Connectivity computation done]\n"
     ]
    },
    {
     "name": "stderr",
     "output_type": "stream",
     "text": [
      "/Users/jakubblaha/Documents/thesis/thesis-python/common.py:122: RuntimeWarning: There were no Annotations stored in <EpochsArray | 1 events (all good), 0 – 7.992 s (baseline off), ~134 kB, data loaded,\n",
      " '1': 1>, so metadata was not modified.\n",
      "  res = mne_connectivity.spectral_connectivity_time(\n"
     ]
    },
    {
     "name": "stdout",
     "output_type": "stream",
     "text": [
      "only using indices for lower-triangular matrix\n",
      "Connectivity computation...\n",
      "   Processing epoch 1 / 1 ...\n",
      "[Connectivity computation done]\n"
     ]
    },
    {
     "name": "stderr",
     "output_type": "stream",
     "text": [
      "/Users/jakubblaha/Documents/thesis/thesis-python/common.py:122: RuntimeWarning: There were no Annotations stored in <EpochsArray | 1 events (all good), 0 – 7.992 s (baseline off), ~134 kB, data loaded,\n",
      " '1': 1>, so metadata was not modified.\n",
      "  res = mne_connectivity.spectral_connectivity_time(\n"
     ]
    },
    {
     "name": "stdout",
     "output_type": "stream",
     "text": [
      "only using indices for lower-triangular matrix\n",
      "Connectivity computation...\n",
      "   Processing epoch 1 / 1 ...\n",
      "[Connectivity computation done]\n"
     ]
    },
    {
     "name": "stderr",
     "output_type": "stream",
     "text": [
      "/Users/jakubblaha/Documents/thesis/thesis-python/common.py:122: RuntimeWarning: There were no Annotations stored in <EpochsArray | 1 events (all good), 0 – 7.992 s (baseline off), ~134 kB, data loaded,\n",
      " '1': 1>, so metadata was not modified.\n",
      "  res = mne_connectivity.spectral_connectivity_time(\n"
     ]
    },
    {
     "name": "stdout",
     "output_type": "stream",
     "text": [
      "only using indices for lower-triangular matrix\n",
      "Connectivity computation...\n",
      "   Processing epoch 1 / 1 ...\n",
      "[Connectivity computation done]\n"
     ]
    },
    {
     "name": "stderr",
     "output_type": "stream",
     "text": [
      "/Users/jakubblaha/Documents/thesis/thesis-python/common.py:122: RuntimeWarning: There were no Annotations stored in <EpochsArray | 1 events (all good), 0 – 7.992 s (baseline off), ~134 kB, data loaded,\n",
      " '1': 1>, so metadata was not modified.\n",
      "  res = mne_connectivity.spectral_connectivity_time(\n"
     ]
    },
    {
     "name": "stdout",
     "output_type": "stream",
     "text": [
      "only using indices for lower-triangular matrix\n",
      "Connectivity computation...\n",
      "   Processing epoch 1 / 1 ...\n",
      "[Connectivity computation done]\n"
     ]
    },
    {
     "name": "stderr",
     "output_type": "stream",
     "text": [
      "/Users/jakubblaha/Documents/thesis/thesis-python/common.py:122: RuntimeWarning: There were no Annotations stored in <EpochsArray | 1 events (all good), 0 – 7.992 s (baseline off), ~134 kB, data loaded,\n",
      " '1': 1>, so metadata was not modified.\n",
      "  res = mne_connectivity.spectral_connectivity_time(\n"
     ]
    },
    {
     "name": "stdout",
     "output_type": "stream",
     "text": [
      "only using indices for lower-triangular matrix\n",
      "Connectivity computation...\n",
      "   Processing epoch 1 / 1 ...\n",
      "[Connectivity computation done]\n"
     ]
    },
    {
     "name": "stderr",
     "output_type": "stream",
     "text": [
      "/Users/jakubblaha/Documents/thesis/thesis-python/common.py:122: RuntimeWarning: There were no Annotations stored in <EpochsArray | 1 events (all good), 0 – 7.992 s (baseline off), ~134 kB, data loaded,\n",
      " '1': 1>, so metadata was not modified.\n",
      "  res = mne_connectivity.spectral_connectivity_time(\n"
     ]
    },
    {
     "name": "stdout",
     "output_type": "stream",
     "text": [
      "only using indices for lower-triangular matrix\n",
      "Connectivity computation...\n",
      "   Processing epoch 1 / 1 ...\n",
      "[Connectivity computation done]\n"
     ]
    },
    {
     "name": "stderr",
     "output_type": "stream",
     "text": [
      "/Users/jakubblaha/Documents/thesis/thesis-python/common.py:122: RuntimeWarning: There were no Annotations stored in <EpochsArray | 1 events (all good), 0 – 7.992 s (baseline off), ~134 kB, data loaded,\n",
      " '1': 1>, so metadata was not modified.\n",
      "  res = mne_connectivity.spectral_connectivity_time(\n"
     ]
    },
    {
     "name": "stdout",
     "output_type": "stream",
     "text": [
      "only using indices for lower-triangular matrix\n",
      "Connectivity computation...\n",
      "   Processing epoch 1 / 1 ...\n",
      "[Connectivity computation done]\n"
     ]
    },
    {
     "name": "stderr",
     "output_type": "stream",
     "text": [
      "/Users/jakubblaha/Documents/thesis/thesis-python/common.py:122: RuntimeWarning: There were no Annotations stored in <EpochsArray | 1 events (all good), 0 – 7.992 s (baseline off), ~134 kB, data loaded,\n",
      " '1': 1>, so metadata was not modified.\n",
      "  res = mne_connectivity.spectral_connectivity_time(\n"
     ]
    },
    {
     "name": "stdout",
     "output_type": "stream",
     "text": [
      "only using indices for lower-triangular matrix\n",
      "Connectivity computation...\n",
      "   Processing epoch 1 / 1 ...\n",
      "[Connectivity computation done]\n"
     ]
    },
    {
     "name": "stderr",
     "output_type": "stream",
     "text": [
      "/Users/jakubblaha/Documents/thesis/thesis-python/common.py:122: RuntimeWarning: There were no Annotations stored in <EpochsArray | 1 events (all good), 0 – 7.992 s (baseline off), ~134 kB, data loaded,\n",
      " '1': 1>, so metadata was not modified.\n",
      "  res = mne_connectivity.spectral_connectivity_time(\n"
     ]
    },
    {
     "name": "stdout",
     "output_type": "stream",
     "text": [
      "only using indices for lower-triangular matrix\n",
      "Connectivity computation...\n",
      "   Processing epoch 1 / 1 ...\n",
      "[Connectivity computation done]\n"
     ]
    },
    {
     "name": "stderr",
     "output_type": "stream",
     "text": [
      "/Users/jakubblaha/Documents/thesis/thesis-python/common.py:122: RuntimeWarning: There were no Annotations stored in <EpochsArray | 1 events (all good), 0 – 7.992 s (baseline off), ~134 kB, data loaded,\n",
      " '1': 1>, so metadata was not modified.\n",
      "  res = mne_connectivity.spectral_connectivity_time(\n"
     ]
    },
    {
     "name": "stdout",
     "output_type": "stream",
     "text": [
      "only using indices for lower-triangular matrix\n",
      "Connectivity computation...\n",
      "   Processing epoch 1 / 1 ...\n",
      "[Connectivity computation done]\n"
     ]
    },
    {
     "name": "stderr",
     "output_type": "stream",
     "text": [
      "/Users/jakubblaha/Documents/thesis/thesis-python/common.py:122: RuntimeWarning: There were no Annotations stored in <EpochsArray | 1 events (all good), 0 – 7.992 s (baseline off), ~134 kB, data loaded,\n",
      " '1': 1>, so metadata was not modified.\n",
      "  res = mne_connectivity.spectral_connectivity_time(\n"
     ]
    },
    {
     "name": "stdout",
     "output_type": "stream",
     "text": [
      "only using indices for lower-triangular matrix\n",
      "Connectivity computation...\n",
      "   Processing epoch 1 / 1 ...\n",
      "[Connectivity computation done]\n"
     ]
    },
    {
     "name": "stderr",
     "output_type": "stream",
     "text": [
      "/Users/jakubblaha/Documents/thesis/thesis-python/common.py:122: RuntimeWarning: There were no Annotations stored in <EpochsArray | 1 events (all good), 0 – 7.992 s (baseline off), ~134 kB, data loaded,\n",
      " '1': 1>, so metadata was not modified.\n",
      "  res = mne_connectivity.spectral_connectivity_time(\n"
     ]
    },
    {
     "name": "stdout",
     "output_type": "stream",
     "text": [
      "only using indices for lower-triangular matrix\n",
      "Connectivity computation...\n",
      "   Processing epoch 1 / 1 ...\n",
      "[Connectivity computation done]\n"
     ]
    },
    {
     "name": "stderr",
     "output_type": "stream",
     "text": [
      "/Users/jakubblaha/Documents/thesis/thesis-python/common.py:122: RuntimeWarning: There were no Annotations stored in <EpochsArray | 1 events (all good), 0 – 7.992 s (baseline off), ~134 kB, data loaded,\n",
      " '1': 1>, so metadata was not modified.\n",
      "  res = mne_connectivity.spectral_connectivity_time(\n"
     ]
    },
    {
     "name": "stdout",
     "output_type": "stream",
     "text": [
      "only using indices for lower-triangular matrix\n",
      "Connectivity computation...\n",
      "   Processing epoch 1 / 1 ...\n",
      "[Connectivity computation done]\n"
     ]
    },
    {
     "name": "stderr",
     "output_type": "stream",
     "text": [
      "/Users/jakubblaha/Documents/thesis/thesis-python/common.py:122: RuntimeWarning: There were no Annotations stored in <EpochsArray | 1 events (all good), 0 – 7.992 s (baseline off), ~134 kB, data loaded,\n",
      " '1': 1>, so metadata was not modified.\n",
      "  res = mne_connectivity.spectral_connectivity_time(\n"
     ]
    },
    {
     "name": "stdout",
     "output_type": "stream",
     "text": [
      "only using indices for lower-triangular matrix\n",
      "Connectivity computation...\n",
      "   Processing epoch 1 / 1 ...\n"
     ]
    },
    {
     "name": "stderr",
     "output_type": "stream",
     "text": [
      "/Users/jakubblaha/Documents/thesis/thesis-python/common.py:122: RuntimeWarning: There were no Annotations stored in <EpochsArray | 1 events (all good), 0 – 7.992 s (baseline off), ~134 kB, data loaded,\n",
      " '1': 1>, so metadata was not modified.\n",
      "  res = mne_connectivity.spectral_connectivity_time(\n"
     ]
    },
    {
     "name": "stdout",
     "output_type": "stream",
     "text": [
      "[Connectivity computation done]\n",
      "only using indices for lower-triangular matrix\n",
      "Connectivity computation...\n",
      "   Processing epoch 1 / 1 ...\n",
      "[Connectivity computation done]\n"
     ]
    },
    {
     "name": "stderr",
     "output_type": "stream",
     "text": [
      "/Users/jakubblaha/Documents/thesis/thesis-python/common.py:122: RuntimeWarning: There were no Annotations stored in <EpochsArray | 1 events (all good), 0 – 7.992 s (baseline off), ~134 kB, data loaded,\n",
      " '1': 1>, so metadata was not modified.\n",
      "  res = mne_connectivity.spectral_connectivity_time(\n"
     ]
    },
    {
     "name": "stdout",
     "output_type": "stream",
     "text": [
      "only using indices for lower-triangular matrix\n",
      "Connectivity computation...\n",
      "   Processing epoch 1 / 1 ...\n",
      "[Connectivity computation done]\n"
     ]
    },
    {
     "name": "stderr",
     "output_type": "stream",
     "text": [
      "/Users/jakubblaha/Documents/thesis/thesis-python/common.py:122: RuntimeWarning: There were no Annotations stored in <EpochsArray | 1 events (all good), 0 – 7.992 s (baseline off), ~134 kB, data loaded,\n",
      " '1': 1>, so metadata was not modified.\n",
      "  res = mne_connectivity.spectral_connectivity_time(\n"
     ]
    },
    {
     "name": "stdout",
     "output_type": "stream",
     "text": [
      "only using indices for lower-triangular matrix\n",
      "Connectivity computation...\n",
      "   Processing epoch 1 / 1 ...\n",
      "[Connectivity computation done]\n"
     ]
    },
    {
     "name": "stderr",
     "output_type": "stream",
     "text": [
      "/Users/jakubblaha/Documents/thesis/thesis-python/common.py:122: RuntimeWarning: There were no Annotations stored in <EpochsArray | 1 events (all good), 0 – 7.992 s (baseline off), ~134 kB, data loaded,\n",
      " '1': 1>, so metadata was not modified.\n",
      "  res = mne_connectivity.spectral_connectivity_time(\n"
     ]
    },
    {
     "name": "stdout",
     "output_type": "stream",
     "text": [
      "only using indices for lower-triangular matrix\n",
      "Connectivity computation...\n",
      "   Processing epoch 1 / 1 ...\n",
      "[Connectivity computation done]\n"
     ]
    },
    {
     "name": "stderr",
     "output_type": "stream",
     "text": [
      "/Users/jakubblaha/Documents/thesis/thesis-python/common.py:122: RuntimeWarning: There were no Annotations stored in <EpochsArray | 1 events (all good), 0 – 7.992 s (baseline off), ~134 kB, data loaded,\n",
      " '1': 1>, so metadata was not modified.\n",
      "  res = mne_connectivity.spectral_connectivity_time(\n"
     ]
    },
    {
     "name": "stdout",
     "output_type": "stream",
     "text": [
      "only using indices for lower-triangular matrix\n",
      "Connectivity computation...\n",
      "   Processing epoch 1 / 1 ...\n",
      "[Connectivity computation done]\n"
     ]
    },
    {
     "name": "stderr",
     "output_type": "stream",
     "text": [
      "/Users/jakubblaha/Documents/thesis/thesis-python/common.py:122: RuntimeWarning: There were no Annotations stored in <EpochsArray | 1 events (all good), 0 – 7.992 s (baseline off), ~134 kB, data loaded,\n",
      " '1': 1>, so metadata was not modified.\n",
      "  res = mne_connectivity.spectral_connectivity_time(\n"
     ]
    },
    {
     "name": "stdout",
     "output_type": "stream",
     "text": [
      "only using indices for lower-triangular matrix\n",
      "Connectivity computation...\n",
      "   Processing epoch 1 / 1 ...\n"
     ]
    },
    {
     "name": "stderr",
     "output_type": "stream",
     "text": [
      "/Users/jakubblaha/Documents/thesis/thesis-python/common.py:122: RuntimeWarning: There were no Annotations stored in <EpochsArray | 1 events (all good), 0 – 7.992 s (baseline off), ~134 kB, data loaded,\n",
      " '1': 1>, so metadata was not modified.\n",
      "  res = mne_connectivity.spectral_connectivity_time(\n"
     ]
    },
    {
     "name": "stdout",
     "output_type": "stream",
     "text": [
      "[Connectivity computation done]\n",
      "only using indices for lower-triangular matrix\n",
      "Connectivity computation...\n",
      "   Processing epoch 1 / 1 ...\n",
      "[Connectivity computation done]\n"
     ]
    },
    {
     "name": "stderr",
     "output_type": "stream",
     "text": [
      "/Users/jakubblaha/Documents/thesis/thesis-python/common.py:122: RuntimeWarning: There were no Annotations stored in <EpochsArray | 1 events (all good), 0 – 7.992 s (baseline off), ~134 kB, data loaded,\n",
      " '1': 1>, so metadata was not modified.\n",
      "  res = mne_connectivity.spectral_connectivity_time(\n"
     ]
    },
    {
     "name": "stdout",
     "output_type": "stream",
     "text": [
      "only using indices for lower-triangular matrix\n",
      "Connectivity computation...\n",
      "   Processing epoch 1 / 1 ...\n",
      "[Connectivity computation done]\n"
     ]
    },
    {
     "name": "stderr",
     "output_type": "stream",
     "text": [
      "/Users/jakubblaha/Documents/thesis/thesis-python/common.py:122: RuntimeWarning: There were no Annotations stored in <EpochsArray | 1 events (all good), 0 – 7.992 s (baseline off), ~134 kB, data loaded,\n",
      " '1': 1>, so metadata was not modified.\n",
      "  res = mne_connectivity.spectral_connectivity_time(\n"
     ]
    },
    {
     "name": "stdout",
     "output_type": "stream",
     "text": [
      "only using indices for lower-triangular matrix\n",
      "Connectivity computation...\n",
      "   Processing epoch 1 / 1 ...\n",
      "[Connectivity computation done]\n"
     ]
    },
    {
     "name": "stderr",
     "output_type": "stream",
     "text": [
      "/Users/jakubblaha/Documents/thesis/thesis-python/common.py:122: RuntimeWarning: There were no Annotations stored in <EpochsArray | 1 events (all good), 0 – 7.992 s (baseline off), ~134 kB, data loaded,\n",
      " '1': 1>, so metadata was not modified.\n",
      "  res = mne_connectivity.spectral_connectivity_time(\n"
     ]
    },
    {
     "name": "stdout",
     "output_type": "stream",
     "text": [
      "only using indices for lower-triangular matrix\n",
      "Connectivity computation...\n",
      "   Processing epoch 1 / 1 ...\n",
      "[Connectivity computation done]\n"
     ]
    },
    {
     "name": "stderr",
     "output_type": "stream",
     "text": [
      "/Users/jakubblaha/Documents/thesis/thesis-python/common.py:122: RuntimeWarning: There were no Annotations stored in <EpochsArray | 1 events (all good), 0 – 7.992 s (baseline off), ~134 kB, data loaded,\n",
      " '1': 1>, so metadata was not modified.\n",
      "  res = mne_connectivity.spectral_connectivity_time(\n"
     ]
    },
    {
     "name": "stdout",
     "output_type": "stream",
     "text": [
      "only using indices for lower-triangular matrix\n",
      "Connectivity computation...\n",
      "   Processing epoch 1 / 1 ...\n"
     ]
    },
    {
     "name": "stderr",
     "output_type": "stream",
     "text": [
      "/Users/jakubblaha/Documents/thesis/thesis-python/common.py:122: RuntimeWarning: There were no Annotations stored in <EpochsArray | 1 events (all good), 0 – 7.992 s (baseline off), ~134 kB, data loaded,\n",
      " '1': 1>, so metadata was not modified.\n",
      "  res = mne_connectivity.spectral_connectivity_time(\n"
     ]
    },
    {
     "name": "stdout",
     "output_type": "stream",
     "text": [
      "[Connectivity computation done]\n",
      "only using indices for lower-triangular matrix\n",
      "Connectivity computation...\n",
      "   Processing epoch 1 / 1 ...\n",
      "[Connectivity computation done]\n"
     ]
    },
    {
     "name": "stderr",
     "output_type": "stream",
     "text": [
      "/Users/jakubblaha/Documents/thesis/thesis-python/common.py:122: RuntimeWarning: There were no Annotations stored in <EpochsArray | 1 events (all good), 0 – 7.992 s (baseline off), ~134 kB, data loaded,\n",
      " '1': 1>, so metadata was not modified.\n",
      "  res = mne_connectivity.spectral_connectivity_time(\n"
     ]
    },
    {
     "name": "stdout",
     "output_type": "stream",
     "text": [
      "only using indices for lower-triangular matrix\n",
      "Connectivity computation...\n",
      "   Processing epoch 1 / 1 ...\n",
      "[Connectivity computation done]\n"
     ]
    },
    {
     "name": "stderr",
     "output_type": "stream",
     "text": [
      "/Users/jakubblaha/Documents/thesis/thesis-python/common.py:122: RuntimeWarning: There were no Annotations stored in <EpochsArray | 1 events (all good), 0 – 7.992 s (baseline off), ~134 kB, data loaded,\n",
      " '1': 1>, so metadata was not modified.\n",
      "  res = mne_connectivity.spectral_connectivity_time(\n"
     ]
    },
    {
     "name": "stdout",
     "output_type": "stream",
     "text": [
      "only using indices for lower-triangular matrix\n",
      "Connectivity computation...\n",
      "   Processing epoch 1 / 1 ...\n",
      "[Connectivity computation done]\n"
     ]
    },
    {
     "name": "stderr",
     "output_type": "stream",
     "text": [
      "/Users/jakubblaha/Documents/thesis/thesis-python/common.py:122: RuntimeWarning: There were no Annotations stored in <EpochsArray | 1 events (all good), 0 – 7.992 s (baseline off), ~134 kB, data loaded,\n",
      " '1': 1>, so metadata was not modified.\n",
      "  res = mne_connectivity.spectral_connectivity_time(\n"
     ]
    },
    {
     "name": "stdout",
     "output_type": "stream",
     "text": [
      "only using indices for lower-triangular matrix\n",
      "Connectivity computation...\n",
      "   Processing epoch 1 / 1 ...\n",
      "[Connectivity computation done]\n"
     ]
    },
    {
     "name": "stderr",
     "output_type": "stream",
     "text": [
      "/Users/jakubblaha/Documents/thesis/thesis-python/common.py:122: RuntimeWarning: There were no Annotations stored in <EpochsArray | 1 events (all good), 0 – 7.992 s (baseline off), ~134 kB, data loaded,\n",
      " '1': 1>, so metadata was not modified.\n",
      "  res = mne_connectivity.spectral_connectivity_time(\n"
     ]
    },
    {
     "name": "stdout",
     "output_type": "stream",
     "text": [
      "only using indices for lower-triangular matrix\n",
      "Connectivity computation...\n",
      "   Processing epoch 1 / 1 ...\n",
      "[Connectivity computation done]\n"
     ]
    },
    {
     "name": "stderr",
     "output_type": "stream",
     "text": [
      "/Users/jakubblaha/Documents/thesis/thesis-python/common.py:122: RuntimeWarning: There were no Annotations stored in <EpochsArray | 1 events (all good), 0 – 7.992 s (baseline off), ~134 kB, data loaded,\n",
      " '1': 1>, so metadata was not modified.\n",
      "  res = mne_connectivity.spectral_connectivity_time(\n"
     ]
    },
    {
     "name": "stdout",
     "output_type": "stream",
     "text": [
      "only using indices for lower-triangular matrix\n",
      "Connectivity computation...\n",
      "   Processing epoch 1 / 1 ...\n"
     ]
    },
    {
     "name": "stderr",
     "output_type": "stream",
     "text": [
      "/Users/jakubblaha/Documents/thesis/thesis-python/common.py:122: RuntimeWarning: There were no Annotations stored in <EpochsArray | 1 events (all good), 0 – 7.992 s (baseline off), ~134 kB, data loaded,\n",
      " '1': 1>, so metadata was not modified.\n",
      "  res = mne_connectivity.spectral_connectivity_time(\n"
     ]
    },
    {
     "name": "stdout",
     "output_type": "stream",
     "text": [
      "[Connectivity computation done]\n",
      "only using indices for lower-triangular matrix\n",
      "Connectivity computation...\n",
      "   Processing epoch 1 / 1 ...\n",
      "[Connectivity computation done]\n"
     ]
    },
    {
     "name": "stderr",
     "output_type": "stream",
     "text": [
      "/Users/jakubblaha/Documents/thesis/thesis-python/common.py:122: RuntimeWarning: There were no Annotations stored in <EpochsArray | 1 events (all good), 0 – 7.992 s (baseline off), ~134 kB, data loaded,\n",
      " '1': 1>, so metadata was not modified.\n",
      "  res = mne_connectivity.spectral_connectivity_time(\n"
     ]
    },
    {
     "name": "stdout",
     "output_type": "stream",
     "text": [
      "only using indices for lower-triangular matrix\n",
      "Connectivity computation...\n",
      "   Processing epoch 1 / 1 ...\n",
      "[Connectivity computation done]\n"
     ]
    },
    {
     "name": "stderr",
     "output_type": "stream",
     "text": [
      "/Users/jakubblaha/Documents/thesis/thesis-python/common.py:122: RuntimeWarning: There were no Annotations stored in <EpochsArray | 1 events (all good), 0 – 7.992 s (baseline off), ~134 kB, data loaded,\n",
      " '1': 1>, so metadata was not modified.\n",
      "  res = mne_connectivity.spectral_connectivity_time(\n"
     ]
    },
    {
     "name": "stdout",
     "output_type": "stream",
     "text": [
      "only using indices for lower-triangular matrix\n",
      "Connectivity computation...\n",
      "   Processing epoch 1 / 1 ...\n",
      "[Connectivity computation done]\n",
      "only using indices for lower-triangular matrix\n"
     ]
    },
    {
     "name": "stderr",
     "output_type": "stream",
     "text": [
      "/Users/jakubblaha/Documents/thesis/thesis-python/common.py:122: RuntimeWarning: There were no Annotations stored in <EpochsArray | 1 events (all good), 0 – 7.992 s (baseline off), ~134 kB, data loaded,\n",
      " '1': 1>, so metadata was not modified.\n",
      "  res = mne_connectivity.spectral_connectivity_time(\n",
      "/Users/jakubblaha/Documents/thesis/thesis-python/common.py:122: RuntimeWarning: There were no Annotations stored in <EpochsArray | 1 events (all good), 0 – 7.992 s (baseline off), ~134 kB, data loaded,\n",
      " '1': 1>, so metadata was not modified.\n",
      "  res = mne_connectivity.spectral_connectivity_time(\n"
     ]
    },
    {
     "name": "stdout",
     "output_type": "stream",
     "text": [
      "Connectivity computation...\n",
      "   Processing epoch 1 / 1 ...\n",
      "[Connectivity computation done]\n",
      "only using indices for lower-triangular matrix\n",
      "Connectivity computation...\n",
      "   Processing epoch 1 / 1 ...\n",
      "[Connectivity computation done]\n"
     ]
    },
    {
     "name": "stderr",
     "output_type": "stream",
     "text": [
      "/Users/jakubblaha/Documents/thesis/thesis-python/common.py:122: RuntimeWarning: There were no Annotations stored in <EpochsArray | 1 events (all good), 0 – 7.992 s (baseline off), ~134 kB, data loaded,\n",
      " '1': 1>, so metadata was not modified.\n",
      "  res = mne_connectivity.spectral_connectivity_time(\n"
     ]
    },
    {
     "name": "stdout",
     "output_type": "stream",
     "text": [
      "only using indices for lower-triangular matrix\n",
      "Connectivity computation...\n",
      "   Processing epoch 1 / 1 ...\n"
     ]
    },
    {
     "name": "stderr",
     "output_type": "stream",
     "text": [
      "/Users/jakubblaha/Documents/thesis/thesis-python/common.py:122: RuntimeWarning: There were no Annotations stored in <EpochsArray | 1 events (all good), 0 – 7.992 s (baseline off), ~134 kB, data loaded,\n",
      " '1': 1>, so metadata was not modified.\n",
      "  res = mne_connectivity.spectral_connectivity_time(\n"
     ]
    },
    {
     "name": "stdout",
     "output_type": "stream",
     "text": [
      "[Connectivity computation done]\n",
      "only using indices for lower-triangular matrix\n",
      "Connectivity computation...\n",
      "   Processing epoch 1 / 1 ...\n",
      "[Connectivity computation done]\n"
     ]
    },
    {
     "name": "stderr",
     "output_type": "stream",
     "text": [
      "/Users/jakubblaha/Documents/thesis/thesis-python/common.py:122: RuntimeWarning: There were no Annotations stored in <EpochsArray | 1 events (all good), 0 – 7.992 s (baseline off), ~134 kB, data loaded,\n",
      " '1': 1>, so metadata was not modified.\n",
      "  res = mne_connectivity.spectral_connectivity_time(\n"
     ]
    },
    {
     "name": "stdout",
     "output_type": "stream",
     "text": [
      "only using indices for lower-triangular matrix\n",
      "Connectivity computation...\n",
      "   Processing epoch 1 / 1 ...\n",
      "[Connectivity computation done]\n"
     ]
    },
    {
     "name": "stderr",
     "output_type": "stream",
     "text": [
      "/Users/jakubblaha/Documents/thesis/thesis-python/common.py:122: RuntimeWarning: There were no Annotations stored in <EpochsArray | 1 events (all good), 0 – 7.992 s (baseline off), ~134 kB, data loaded,\n",
      " '1': 1>, so metadata was not modified.\n",
      "  res = mne_connectivity.spectral_connectivity_time(\n"
     ]
    },
    {
     "name": "stdout",
     "output_type": "stream",
     "text": [
      "only using indices for lower-triangular matrix\n",
      "Connectivity computation...\n",
      "   Processing epoch 1 / 1 ...\n",
      "[Connectivity computation done]\n"
     ]
    },
    {
     "name": "stderr",
     "output_type": "stream",
     "text": [
      "/Users/jakubblaha/Documents/thesis/thesis-python/common.py:122: RuntimeWarning: There were no Annotations stored in <EpochsArray | 1 events (all good), 0 – 7.992 s (baseline off), ~134 kB, data loaded,\n",
      " '1': 1>, so metadata was not modified.\n",
      "  res = mne_connectivity.spectral_connectivity_time(\n"
     ]
    },
    {
     "name": "stdout",
     "output_type": "stream",
     "text": [
      "only using indices for lower-triangular matrix\n",
      "Connectivity computation...\n",
      "   Processing epoch 1 / 1 ...\n",
      "[Connectivity computation done]\n"
     ]
    },
    {
     "name": "stderr",
     "output_type": "stream",
     "text": [
      "/Users/jakubblaha/Documents/thesis/thesis-python/common.py:122: RuntimeWarning: There were no Annotations stored in <EpochsArray | 1 events (all good), 0 – 7.992 s (baseline off), ~134 kB, data loaded,\n",
      " '1': 1>, so metadata was not modified.\n",
      "  res = mne_connectivity.spectral_connectivity_time(\n"
     ]
    },
    {
     "name": "stdout",
     "output_type": "stream",
     "text": [
      "only using indices for lower-triangular matrix\n",
      "Connectivity computation...\n",
      "   Processing epoch 1 / 1 ...\n",
      "[Connectivity computation done]\n"
     ]
    },
    {
     "name": "stderr",
     "output_type": "stream",
     "text": [
      "/Users/jakubblaha/Documents/thesis/thesis-python/common.py:122: RuntimeWarning: There were no Annotations stored in <EpochsArray | 1 events (all good), 0 – 7.992 s (baseline off), ~134 kB, data loaded,\n",
      " '1': 1>, so metadata was not modified.\n",
      "  res = mne_connectivity.spectral_connectivity_time(\n"
     ]
    },
    {
     "name": "stdout",
     "output_type": "stream",
     "text": [
      "only using indices for lower-triangular matrix\n",
      "Connectivity computation...\n",
      "   Processing epoch 1 / 1 ...\n"
     ]
    },
    {
     "name": "stderr",
     "output_type": "stream",
     "text": [
      "/Users/jakubblaha/Documents/thesis/thesis-python/common.py:122: RuntimeWarning: There were no Annotations stored in <EpochsArray | 1 events (all good), 0 – 7.992 s (baseline off), ~134 kB, data loaded,\n",
      " '1': 1>, so metadata was not modified.\n",
      "  res = mne_connectivity.spectral_connectivity_time(\n"
     ]
    },
    {
     "name": "stdout",
     "output_type": "stream",
     "text": [
      "[Connectivity computation done]\n",
      "only using indices for lower-triangular matrix\n",
      "Connectivity computation...\n",
      "   Processing epoch 1 / 1 ...\n",
      "[Connectivity computation done]\n"
     ]
    },
    {
     "name": "stderr",
     "output_type": "stream",
     "text": [
      "/Users/jakubblaha/Documents/thesis/thesis-python/common.py:122: RuntimeWarning: There were no Annotations stored in <EpochsArray | 1 events (all good), 0 – 7.992 s (baseline off), ~134 kB, data loaded,\n",
      " '1': 1>, so metadata was not modified.\n",
      "  res = mne_connectivity.spectral_connectivity_time(\n"
     ]
    },
    {
     "name": "stdout",
     "output_type": "stream",
     "text": [
      "only using indices for lower-triangular matrix\n",
      "Connectivity computation...\n",
      "   Processing epoch 1 / 1 ...\n",
      "[Connectivity computation done]\n"
     ]
    },
    {
     "name": "stderr",
     "output_type": "stream",
     "text": [
      "/Users/jakubblaha/Documents/thesis/thesis-python/common.py:122: RuntimeWarning: There were no Annotations stored in <EpochsArray | 1 events (all good), 0 – 7.992 s (baseline off), ~134 kB, data loaded,\n",
      " '1': 1>, so metadata was not modified.\n",
      "  res = mne_connectivity.spectral_connectivity_time(\n"
     ]
    },
    {
     "name": "stdout",
     "output_type": "stream",
     "text": [
      "only using indices for lower-triangular matrix\n",
      "Connectivity computation...\n",
      "   Processing epoch 1 / 1 ...\n",
      "[Connectivity computation done]\n"
     ]
    },
    {
     "name": "stderr",
     "output_type": "stream",
     "text": [
      "/Users/jakubblaha/Documents/thesis/thesis-python/common.py:122: RuntimeWarning: There were no Annotations stored in <EpochsArray | 1 events (all good), 0 – 7.992 s (baseline off), ~134 kB, data loaded,\n",
      " '1': 1>, so metadata was not modified.\n",
      "  res = mne_connectivity.spectral_connectivity_time(\n"
     ]
    },
    {
     "name": "stdout",
     "output_type": "stream",
     "text": [
      "only using indices for lower-triangular matrix\n",
      "Connectivity computation...\n",
      "   Processing epoch 1 / 1 ...\n",
      "[Connectivity computation done]\n"
     ]
    },
    {
     "name": "stderr",
     "output_type": "stream",
     "text": [
      "/Users/jakubblaha/Documents/thesis/thesis-python/common.py:122: RuntimeWarning: There were no Annotations stored in <EpochsArray | 1 events (all good), 0 – 7.992 s (baseline off), ~134 kB, data loaded,\n",
      " '1': 1>, so metadata was not modified.\n",
      "  res = mne_connectivity.spectral_connectivity_time(\n"
     ]
    },
    {
     "name": "stdout",
     "output_type": "stream",
     "text": [
      "only using indices for lower-triangular matrix\n",
      "Connectivity computation...\n",
      "   Processing epoch 1 / 1 ...\n",
      "[Connectivity computation done]\n"
     ]
    },
    {
     "name": "stderr",
     "output_type": "stream",
     "text": [
      "/Users/jakubblaha/Documents/thesis/thesis-python/common.py:122: RuntimeWarning: There were no Annotations stored in <EpochsArray | 1 events (all good), 0 – 7.992 s (baseline off), ~134 kB, data loaded,\n",
      " '1': 1>, so metadata was not modified.\n",
      "  res = mne_connectivity.spectral_connectivity_time(\n"
     ]
    },
    {
     "name": "stdout",
     "output_type": "stream",
     "text": [
      "only using indices for lower-triangular matrix\n",
      "Connectivity computation...\n",
      "   Processing epoch 1 / 1 ...\n",
      "[Connectivity computation done]\n"
     ]
    },
    {
     "name": "stderr",
     "output_type": "stream",
     "text": [
      "/Users/jakubblaha/Documents/thesis/thesis-python/common.py:122: RuntimeWarning: There were no Annotations stored in <EpochsArray | 1 events (all good), 0 – 7.992 s (baseline off), ~134 kB, data loaded,\n",
      " '1': 1>, so metadata was not modified.\n",
      "  res = mne_connectivity.spectral_connectivity_time(\n"
     ]
    },
    {
     "name": "stdout",
     "output_type": "stream",
     "text": [
      "only using indices for lower-triangular matrix\n",
      "Connectivity computation...\n",
      "   Processing epoch 1 / 1 ...\n",
      "[Connectivity computation done]\n"
     ]
    },
    {
     "name": "stderr",
     "output_type": "stream",
     "text": [
      "/Users/jakubblaha/Documents/thesis/thesis-python/common.py:122: RuntimeWarning: There were no Annotations stored in <EpochsArray | 1 events (all good), 0 – 7.992 s (baseline off), ~134 kB, data loaded,\n",
      " '1': 1>, so metadata was not modified.\n",
      "  res = mne_connectivity.spectral_connectivity_time(\n"
     ]
    },
    {
     "name": "stdout",
     "output_type": "stream",
     "text": [
      "only using indices for lower-triangular matrix\n",
      "Connectivity computation...\n",
      "   Processing epoch 1 / 1 ...\n",
      "[Connectivity computation done]\n"
     ]
    },
    {
     "name": "stderr",
     "output_type": "stream",
     "text": [
      "/Users/jakubblaha/Documents/thesis/thesis-python/common.py:122: RuntimeWarning: There were no Annotations stored in <EpochsArray | 1 events (all good), 0 – 7.992 s (baseline off), ~134 kB, data loaded,\n",
      " '1': 1>, so metadata was not modified.\n",
      "  res = mne_connectivity.spectral_connectivity_time(\n"
     ]
    },
    {
     "name": "stdout",
     "output_type": "stream",
     "text": [
      "only using indices for lower-triangular matrix\n",
      "Connectivity computation...\n",
      "   Processing epoch 1 / 1 ...\n",
      "[Connectivity computation done]\n"
     ]
    },
    {
     "name": "stderr",
     "output_type": "stream",
     "text": [
      "/Users/jakubblaha/Documents/thesis/thesis-python/common.py:122: RuntimeWarning: There were no Annotations stored in <EpochsArray | 1 events (all good), 0 – 7.992 s (baseline off), ~134 kB, data loaded,\n",
      " '1': 1>, so metadata was not modified.\n",
      "  res = mne_connectivity.spectral_connectivity_time(\n"
     ]
    },
    {
     "name": "stdout",
     "output_type": "stream",
     "text": [
      "only using indices for lower-triangular matrix\n",
      "Connectivity computation...\n",
      "   Processing epoch 1 / 1 ...\n",
      "[Connectivity computation done]\n"
     ]
    },
    {
     "name": "stderr",
     "output_type": "stream",
     "text": [
      "/Users/jakubblaha/Documents/thesis/thesis-python/common.py:122: RuntimeWarning: There were no Annotations stored in <EpochsArray | 1 events (all good), 0 – 7.992 s (baseline off), ~134 kB, data loaded,\n",
      " '1': 1>, so metadata was not modified.\n",
      "  res = mne_connectivity.spectral_connectivity_time(\n"
     ]
    },
    {
     "name": "stdout",
     "output_type": "stream",
     "text": [
      "only using indices for lower-triangular matrix\n",
      "Connectivity computation...\n",
      "   Processing epoch 1 / 1 ...\n",
      "[Connectivity computation done]\n"
     ]
    },
    {
     "name": "stderr",
     "output_type": "stream",
     "text": [
      "/Users/jakubblaha/Documents/thesis/thesis-python/common.py:122: RuntimeWarning: There were no Annotations stored in <EpochsArray | 1 events (all good), 0 – 7.992 s (baseline off), ~134 kB, data loaded,\n",
      " '1': 1>, so metadata was not modified.\n",
      "  res = mne_connectivity.spectral_connectivity_time(\n"
     ]
    },
    {
     "name": "stdout",
     "output_type": "stream",
     "text": [
      "only using indices for lower-triangular matrix\n",
      "Connectivity computation...\n",
      "   Processing epoch 1 / 1 ...\n",
      "[Connectivity computation done]\n"
     ]
    },
    {
     "name": "stderr",
     "output_type": "stream",
     "text": [
      "/Users/jakubblaha/Documents/thesis/thesis-python/common.py:122: RuntimeWarning: There were no Annotations stored in <EpochsArray | 1 events (all good), 0 – 7.992 s (baseline off), ~134 kB, data loaded,\n",
      " '1': 1>, so metadata was not modified.\n",
      "  res = mne_connectivity.spectral_connectivity_time(\n"
     ]
    },
    {
     "name": "stdout",
     "output_type": "stream",
     "text": [
      "only using indices for lower-triangular matrix\n",
      "Connectivity computation...\n",
      "   Processing epoch 1 / 1 ...\n",
      "[Connectivity computation done]\n"
     ]
    },
    {
     "name": "stderr",
     "output_type": "stream",
     "text": [
      "/Users/jakubblaha/Documents/thesis/thesis-python/common.py:122: RuntimeWarning: There were no Annotations stored in <EpochsArray | 1 events (all good), 0 – 7.992 s (baseline off), ~134 kB, data loaded,\n",
      " '1': 1>, so metadata was not modified.\n",
      "  res = mne_connectivity.spectral_connectivity_time(\n"
     ]
    },
    {
     "name": "stdout",
     "output_type": "stream",
     "text": [
      "only using indices for lower-triangular matrix\n",
      "Connectivity computation...\n",
      "   Processing epoch 1 / 1 ...\n"
     ]
    },
    {
     "name": "stderr",
     "output_type": "stream",
     "text": [
      "/Users/jakubblaha/Documents/thesis/thesis-python/common.py:122: RuntimeWarning: There were no Annotations stored in <EpochsArray | 1 events (all good), 0 – 7.992 s (baseline off), ~134 kB, data loaded,\n",
      " '1': 1>, so metadata was not modified.\n",
      "  res = mne_connectivity.spectral_connectivity_time(\n"
     ]
    },
    {
     "name": "stdout",
     "output_type": "stream",
     "text": [
      "[Connectivity computation done]\n",
      "only using indices for lower-triangular matrix\n",
      "Connectivity computation...\n",
      "   Processing epoch 1 / 1 ...\n",
      "[Connectivity computation done]\n"
     ]
    },
    {
     "name": "stderr",
     "output_type": "stream",
     "text": [
      "/Users/jakubblaha/Documents/thesis/thesis-python/common.py:122: RuntimeWarning: There were no Annotations stored in <EpochsArray | 1 events (all good), 0 – 7.992 s (baseline off), ~134 kB, data loaded,\n",
      " '1': 1>, so metadata was not modified.\n",
      "  res = mne_connectivity.spectral_connectivity_time(\n"
     ]
    },
    {
     "name": "stdout",
     "output_type": "stream",
     "text": [
      "only using indices for lower-triangular matrix\n",
      "Connectivity computation...\n",
      "   Processing epoch 1 / 1 ...\n",
      "[Connectivity computation done]\n"
     ]
    },
    {
     "name": "stderr",
     "output_type": "stream",
     "text": [
      "/Users/jakubblaha/Documents/thesis/thesis-python/common.py:122: RuntimeWarning: There were no Annotations stored in <EpochsArray | 1 events (all good), 0 – 7.992 s (baseline off), ~134 kB, data loaded,\n",
      " '1': 1>, so metadata was not modified.\n",
      "  res = mne_connectivity.spectral_connectivity_time(\n"
     ]
    },
    {
     "name": "stdout",
     "output_type": "stream",
     "text": [
      "only using indices for lower-triangular matrix\n",
      "Connectivity computation...\n",
      "   Processing epoch 1 / 1 ...\n",
      "[Connectivity computation done]\n"
     ]
    },
    {
     "name": "stderr",
     "output_type": "stream",
     "text": [
      "/Users/jakubblaha/Documents/thesis/thesis-python/common.py:122: RuntimeWarning: There were no Annotations stored in <EpochsArray | 1 events (all good), 0 – 7.992 s (baseline off), ~134 kB, data loaded,\n",
      " '1': 1>, so metadata was not modified.\n",
      "  res = mne_connectivity.spectral_connectivity_time(\n"
     ]
    },
    {
     "name": "stdout",
     "output_type": "stream",
     "text": [
      "only using indices for lower-triangular matrix\n",
      "Connectivity computation...\n",
      "   Processing epoch 1 / 1 ...\n",
      "[Connectivity computation done]\n"
     ]
    },
    {
     "name": "stderr",
     "output_type": "stream",
     "text": [
      "/Users/jakubblaha/Documents/thesis/thesis-python/common.py:122: RuntimeWarning: There were no Annotations stored in <EpochsArray | 1 events (all good), 0 – 7.992 s (baseline off), ~134 kB, data loaded,\n",
      " '1': 1>, so metadata was not modified.\n",
      "  res = mne_connectivity.spectral_connectivity_time(\n"
     ]
    },
    {
     "name": "stdout",
     "output_type": "stream",
     "text": [
      "only using indices for lower-triangular matrix\n",
      "Connectivity computation...\n",
      "   Processing epoch 1 / 1 ...\n"
     ]
    },
    {
     "name": "stderr",
     "output_type": "stream",
     "text": [
      "/Users/jakubblaha/Documents/thesis/thesis-python/common.py:122: RuntimeWarning: There were no Annotations stored in <EpochsArray | 1 events (all good), 0 – 7.992 s (baseline off), ~134 kB, data loaded,\n",
      " '1': 1>, so metadata was not modified.\n",
      "  res = mne_connectivity.spectral_connectivity_time(\n"
     ]
    },
    {
     "name": "stdout",
     "output_type": "stream",
     "text": [
      "[Connectivity computation done]\n",
      "only using indices for lower-triangular matrix\n",
      "Connectivity computation...\n",
      "   Processing epoch 1 / 1 ...\n",
      "[Connectivity computation done]\n"
     ]
    },
    {
     "name": "stderr",
     "output_type": "stream",
     "text": [
      "/Users/jakubblaha/Documents/thesis/thesis-python/common.py:122: RuntimeWarning: There were no Annotations stored in <EpochsArray | 1 events (all good), 0 – 7.992 s (baseline off), ~134 kB, data loaded,\n",
      " '1': 1>, so metadata was not modified.\n",
      "  res = mne_connectivity.spectral_connectivity_time(\n"
     ]
    },
    {
     "name": "stdout",
     "output_type": "stream",
     "text": [
      "only using indices for lower-triangular matrix\n",
      "Connectivity computation...\n",
      "   Processing epoch 1 / 1 ...\n",
      "[Connectivity computation done]\n"
     ]
    },
    {
     "name": "stderr",
     "output_type": "stream",
     "text": [
      "/Users/jakubblaha/Documents/thesis/thesis-python/common.py:122: RuntimeWarning: There were no Annotations stored in <EpochsArray | 1 events (all good), 0 – 7.992 s (baseline off), ~134 kB, data loaded,\n",
      " '1': 1>, so metadata was not modified.\n",
      "  res = mne_connectivity.spectral_connectivity_time(\n"
     ]
    },
    {
     "name": "stdout",
     "output_type": "stream",
     "text": [
      "only using indices for lower-triangular matrix\n",
      "Connectivity computation...\n",
      "   Processing epoch 1 / 1 ...\n",
      "[Connectivity computation done]\n"
     ]
    },
    {
     "name": "stderr",
     "output_type": "stream",
     "text": [
      "/Users/jakubblaha/Documents/thesis/thesis-python/common.py:122: RuntimeWarning: There were no Annotations stored in <EpochsArray | 1 events (all good), 0 – 7.992 s (baseline off), ~134 kB, data loaded,\n",
      " '1': 1>, so metadata was not modified.\n",
      "  res = mne_connectivity.spectral_connectivity_time(\n"
     ]
    },
    {
     "name": "stdout",
     "output_type": "stream",
     "text": [
      "only using indices for lower-triangular matrix\n",
      "Connectivity computation...\n",
      "   Processing epoch 1 / 1 ...\n",
      "[Connectivity computation done]\n"
     ]
    },
    {
     "name": "stderr",
     "output_type": "stream",
     "text": [
      "/Users/jakubblaha/Documents/thesis/thesis-python/common.py:122: RuntimeWarning: There were no Annotations stored in <EpochsArray | 1 events (all good), 0 – 7.992 s (baseline off), ~134 kB, data loaded,\n",
      " '1': 1>, so metadata was not modified.\n",
      "  res = mne_connectivity.spectral_connectivity_time(\n"
     ]
    },
    {
     "name": "stdout",
     "output_type": "stream",
     "text": [
      "only using indices for lower-triangular matrix\n",
      "Connectivity computation...\n",
      "   Processing epoch 1 / 1 ...\n",
      "[Connectivity computation done]\n"
     ]
    },
    {
     "name": "stderr",
     "output_type": "stream",
     "text": [
      "/Users/jakubblaha/Documents/thesis/thesis-python/common.py:122: RuntimeWarning: There were no Annotations stored in <EpochsArray | 1 events (all good), 0 – 7.992 s (baseline off), ~134 kB, data loaded,\n",
      " '1': 1>, so metadata was not modified.\n",
      "  res = mne_connectivity.spectral_connectivity_time(\n"
     ]
    },
    {
     "name": "stdout",
     "output_type": "stream",
     "text": [
      "only using indices for lower-triangular matrix\n",
      "Connectivity computation...\n",
      "   Processing epoch 1 / 1 ...\n",
      "[Connectivity computation done]\n"
     ]
    },
    {
     "name": "stderr",
     "output_type": "stream",
     "text": [
      "/Users/jakubblaha/Documents/thesis/thesis-python/common.py:122: RuntimeWarning: There were no Annotations stored in <EpochsArray | 1 events (all good), 0 – 7.992 s (baseline off), ~134 kB, data loaded,\n",
      " '1': 1>, so metadata was not modified.\n",
      "  res = mne_connectivity.spectral_connectivity_time(\n"
     ]
    },
    {
     "name": "stdout",
     "output_type": "stream",
     "text": [
      "only using indices for lower-triangular matrix\n",
      "Connectivity computation...\n",
      "   Processing epoch 1 / 1 ...\n",
      "[Connectivity computation done]\n"
     ]
    },
    {
     "name": "stderr",
     "output_type": "stream",
     "text": [
      "/Users/jakubblaha/Documents/thesis/thesis-python/common.py:122: RuntimeWarning: There were no Annotations stored in <EpochsArray | 1 events (all good), 0 – 7.992 s (baseline off), ~134 kB, data loaded,\n",
      " '1': 1>, so metadata was not modified.\n",
      "  res = mne_connectivity.spectral_connectivity_time(\n"
     ]
    },
    {
     "name": "stdout",
     "output_type": "stream",
     "text": [
      "only using indices for lower-triangular matrix\n",
      "Connectivity computation...\n",
      "   Processing epoch 1 / 1 ...\n",
      "[Connectivity computation done]\n"
     ]
    },
    {
     "name": "stderr",
     "output_type": "stream",
     "text": [
      "/Users/jakubblaha/Documents/thesis/thesis-python/common.py:122: RuntimeWarning: There were no Annotations stored in <EpochsArray | 1 events (all good), 0 – 7.992 s (baseline off), ~134 kB, data loaded,\n",
      " '1': 1>, so metadata was not modified.\n",
      "  res = mne_connectivity.spectral_connectivity_time(\n"
     ]
    },
    {
     "name": "stdout",
     "output_type": "stream",
     "text": [
      "only using indices for lower-triangular matrix\n",
      "Connectivity computation...\n",
      "   Processing epoch 1 / 1 ...\n",
      "[Connectivity computation done]\n"
     ]
    },
    {
     "name": "stderr",
     "output_type": "stream",
     "text": [
      "/Users/jakubblaha/Documents/thesis/thesis-python/common.py:122: RuntimeWarning: There were no Annotations stored in <EpochsArray | 1 events (all good), 0 – 7.992 s (baseline off), ~134 kB, data loaded,\n",
      " '1': 1>, so metadata was not modified.\n",
      "  res = mne_connectivity.spectral_connectivity_time(\n"
     ]
    },
    {
     "name": "stdout",
     "output_type": "stream",
     "text": [
      "only using indices for lower-triangular matrix\n",
      "Connectivity computation...\n",
      "   Processing epoch 1 / 1 ...\n"
     ]
    },
    {
     "name": "stderr",
     "output_type": "stream",
     "text": [
      "/Users/jakubblaha/Documents/thesis/thesis-python/common.py:122: RuntimeWarning: There were no Annotations stored in <EpochsArray | 1 events (all good), 0 – 7.992 s (baseline off), ~134 kB, data loaded,\n",
      " '1': 1>, so metadata was not modified.\n",
      "  res = mne_connectivity.spectral_connectivity_time(\n"
     ]
    },
    {
     "name": "stdout",
     "output_type": "stream",
     "text": [
      "[Connectivity computation done]\n",
      "only using indices for lower-triangular matrix\n",
      "Connectivity computation...\n",
      "   Processing epoch 1 / 1 ...\n",
      "[Connectivity computation done]\n"
     ]
    },
    {
     "name": "stderr",
     "output_type": "stream",
     "text": [
      "/Users/jakubblaha/Documents/thesis/thesis-python/common.py:122: RuntimeWarning: There were no Annotations stored in <EpochsArray | 1 events (all good), 0 – 7.992 s (baseline off), ~134 kB, data loaded,\n",
      " '1': 1>, so metadata was not modified.\n",
      "  res = mne_connectivity.spectral_connectivity_time(\n"
     ]
    },
    {
     "name": "stdout",
     "output_type": "stream",
     "text": [
      "only using indices for lower-triangular matrix\n",
      "Connectivity computation...\n",
      "   Processing epoch 1 / 1 ...\n",
      "[Connectivity computation done]\n"
     ]
    },
    {
     "name": "stderr",
     "output_type": "stream",
     "text": [
      "/Users/jakubblaha/Documents/thesis/thesis-python/common.py:122: RuntimeWarning: There were no Annotations stored in <EpochsArray | 1 events (all good), 0 – 7.992 s (baseline off), ~134 kB, data loaded,\n",
      " '1': 1>, so metadata was not modified.\n",
      "  res = mne_connectivity.spectral_connectivity_time(\n"
     ]
    },
    {
     "name": "stdout",
     "output_type": "stream",
     "text": [
      "only using indices for lower-triangular matrix\n",
      "Connectivity computation...\n",
      "   Processing epoch 1 / 1 ...\n",
      "[Connectivity computation done]\n"
     ]
    },
    {
     "name": "stderr",
     "output_type": "stream",
     "text": [
      "/Users/jakubblaha/Documents/thesis/thesis-python/common.py:122: RuntimeWarning: There were no Annotations stored in <EpochsArray | 1 events (all good), 0 – 7.992 s (baseline off), ~134 kB, data loaded,\n",
      " '1': 1>, so metadata was not modified.\n",
      "  res = mne_connectivity.spectral_connectivity_time(\n"
     ]
    },
    {
     "name": "stdout",
     "output_type": "stream",
     "text": [
      "only using indices for lower-triangular matrix\n",
      "Connectivity computation...\n",
      "   Processing epoch 1 / 1 ...\n",
      "[Connectivity computation done]\n"
     ]
    },
    {
     "name": "stderr",
     "output_type": "stream",
     "text": [
      "/Users/jakubblaha/Documents/thesis/thesis-python/common.py:122: RuntimeWarning: There were no Annotations stored in <EpochsArray | 1 events (all good), 0 – 7.992 s (baseline off), ~134 kB, data loaded,\n",
      " '1': 1>, so metadata was not modified.\n",
      "  res = mne_connectivity.spectral_connectivity_time(\n"
     ]
    },
    {
     "name": "stdout",
     "output_type": "stream",
     "text": [
      "only using indices for lower-triangular matrix\n",
      "Connectivity computation...\n",
      "   Processing epoch 1 / 1 ...\n",
      "[Connectivity computation done]\n"
     ]
    },
    {
     "name": "stderr",
     "output_type": "stream",
     "text": [
      "/Users/jakubblaha/Documents/thesis/thesis-python/common.py:122: RuntimeWarning: There were no Annotations stored in <EpochsArray | 1 events (all good), 0 – 7.992 s (baseline off), ~134 kB, data loaded,\n",
      " '1': 1>, so metadata was not modified.\n",
      "  res = mne_connectivity.spectral_connectivity_time(\n"
     ]
    },
    {
     "name": "stdout",
     "output_type": "stream",
     "text": [
      "only using indices for lower-triangular matrix\n",
      "Connectivity computation...\n",
      "   Processing epoch 1 / 1 ...\n",
      "[Connectivity computation done]\n"
     ]
    },
    {
     "name": "stderr",
     "output_type": "stream",
     "text": [
      "/Users/jakubblaha/Documents/thesis/thesis-python/common.py:122: RuntimeWarning: There were no Annotations stored in <EpochsArray | 1 events (all good), 0 – 7.992 s (baseline off), ~134 kB, data loaded,\n",
      " '1': 1>, so metadata was not modified.\n",
      "  res = mne_connectivity.spectral_connectivity_time(\n"
     ]
    },
    {
     "name": "stdout",
     "output_type": "stream",
     "text": [
      "only using indices for lower-triangular matrix\n",
      "Connectivity computation...\n",
      "   Processing epoch 1 / 1 ...\n",
      "[Connectivity computation done]\n"
     ]
    },
    {
     "name": "stderr",
     "output_type": "stream",
     "text": [
      "/Users/jakubblaha/Documents/thesis/thesis-python/common.py:122: RuntimeWarning: There were no Annotations stored in <EpochsArray | 1 events (all good), 0 – 7.992 s (baseline off), ~134 kB, data loaded,\n",
      " '1': 1>, so metadata was not modified.\n",
      "  res = mne_connectivity.spectral_connectivity_time(\n"
     ]
    },
    {
     "name": "stdout",
     "output_type": "stream",
     "text": [
      "only using indices for lower-triangular matrix\n",
      "Connectivity computation...\n",
      "   Processing epoch 1 / 1 ...\n",
      "[Connectivity computation done]\n"
     ]
    },
    {
     "name": "stderr",
     "output_type": "stream",
     "text": [
      "/Users/jakubblaha/Documents/thesis/thesis-python/common.py:122: RuntimeWarning: There were no Annotations stored in <EpochsArray | 1 events (all good), 0 – 7.992 s (baseline off), ~134 kB, data loaded,\n",
      " '1': 1>, so metadata was not modified.\n",
      "  res = mne_connectivity.spectral_connectivity_time(\n"
     ]
    },
    {
     "name": "stdout",
     "output_type": "stream",
     "text": [
      "only using indices for lower-triangular matrix\n",
      "Connectivity computation...\n",
      "   Processing epoch 1 / 1 ...\n",
      "[Connectivity computation done]\n"
     ]
    },
    {
     "name": "stderr",
     "output_type": "stream",
     "text": [
      "/Users/jakubblaha/Documents/thesis/thesis-python/common.py:122: RuntimeWarning: There were no Annotations stored in <EpochsArray | 1 events (all good), 0 – 7.992 s (baseline off), ~134 kB, data loaded,\n",
      " '1': 1>, so metadata was not modified.\n",
      "  res = mne_connectivity.spectral_connectivity_time(\n"
     ]
    },
    {
     "name": "stdout",
     "output_type": "stream",
     "text": [
      "only using indices for lower-triangular matrix\n",
      "Connectivity computation...\n",
      "   Processing epoch 1 / 1 ...\n",
      "[Connectivity computation done]\n"
     ]
    },
    {
     "name": "stderr",
     "output_type": "stream",
     "text": [
      "/Users/jakubblaha/Documents/thesis/thesis-python/common.py:122: RuntimeWarning: There were no Annotations stored in <EpochsArray | 1 events (all good), 0 – 7.992 s (baseline off), ~134 kB, data loaded,\n",
      " '1': 1>, so metadata was not modified.\n",
      "  res = mne_connectivity.spectral_connectivity_time(\n"
     ]
    },
    {
     "name": "stdout",
     "output_type": "stream",
     "text": [
      "only using indices for lower-triangular matrix\n",
      "Connectivity computation...\n",
      "   Processing epoch 1 / 1 ...\n"
     ]
    },
    {
     "name": "stderr",
     "output_type": "stream",
     "text": [
      "/Users/jakubblaha/Documents/thesis/thesis-python/common.py:122: RuntimeWarning: There were no Annotations stored in <EpochsArray | 1 events (all good), 0 – 7.992 s (baseline off), ~134 kB, data loaded,\n",
      " '1': 1>, so metadata was not modified.\n",
      "  res = mne_connectivity.spectral_connectivity_time(\n"
     ]
    },
    {
     "name": "stdout",
     "output_type": "stream",
     "text": [
      "[Connectivity computation done]\n",
      "only using indices for lower-triangular matrix\n",
      "Connectivity computation...\n",
      "   Processing epoch 1 / 1 ...\n",
      "[Connectivity computation done]\n"
     ]
    },
    {
     "name": "stderr",
     "output_type": "stream",
     "text": [
      "/Users/jakubblaha/Documents/thesis/thesis-python/common.py:122: RuntimeWarning: There were no Annotations stored in <EpochsArray | 1 events (all good), 0 – 7.992 s (baseline off), ~134 kB, data loaded,\n",
      " '1': 1>, so metadata was not modified.\n",
      "  res = mne_connectivity.spectral_connectivity_time(\n"
     ]
    },
    {
     "name": "stdout",
     "output_type": "stream",
     "text": [
      "only using indices for lower-triangular matrix\n",
      "Connectivity computation...\n",
      "   Processing epoch 1 / 1 ...\n",
      "[Connectivity computation done]\n"
     ]
    },
    {
     "name": "stderr",
     "output_type": "stream",
     "text": [
      "/Users/jakubblaha/Documents/thesis/thesis-python/common.py:122: RuntimeWarning: There were no Annotations stored in <EpochsArray | 1 events (all good), 0 – 7.992 s (baseline off), ~134 kB, data loaded,\n",
      " '1': 1>, so metadata was not modified.\n",
      "  res = mne_connectivity.spectral_connectivity_time(\n"
     ]
    },
    {
     "name": "stdout",
     "output_type": "stream",
     "text": [
      "only using indices for lower-triangular matrix\n",
      "Connectivity computation...\n",
      "   Processing epoch 1 / 1 ...\n",
      "[Connectivity computation done]\n"
     ]
    },
    {
     "name": "stderr",
     "output_type": "stream",
     "text": [
      "/Users/jakubblaha/Documents/thesis/thesis-python/common.py:122: RuntimeWarning: There were no Annotations stored in <EpochsArray | 1 events (all good), 0 – 7.992 s (baseline off), ~134 kB, data loaded,\n",
      " '1': 1>, so metadata was not modified.\n",
      "  res = mne_connectivity.spectral_connectivity_time(\n"
     ]
    },
    {
     "name": "stdout",
     "output_type": "stream",
     "text": [
      "only using indices for lower-triangular matrix\n",
      "Connectivity computation...\n",
      "   Processing epoch 1 / 1 ...\n",
      "[Connectivity computation done]\n"
     ]
    },
    {
     "name": "stderr",
     "output_type": "stream",
     "text": [
      "/Users/jakubblaha/Documents/thesis/thesis-python/common.py:122: RuntimeWarning: There were no Annotations stored in <EpochsArray | 1 events (all good), 0 – 7.992 s (baseline off), ~134 kB, data loaded,\n",
      " '1': 1>, so metadata was not modified.\n",
      "  res = mne_connectivity.spectral_connectivity_time(\n"
     ]
    },
    {
     "name": "stdout",
     "output_type": "stream",
     "text": [
      "only using indices for lower-triangular matrix\n",
      "Connectivity computation...\n",
      "   Processing epoch 1 / 1 ...\n",
      "[Connectivity computation done]\n"
     ]
    },
    {
     "name": "stderr",
     "output_type": "stream",
     "text": [
      "/Users/jakubblaha/Documents/thesis/thesis-python/common.py:122: RuntimeWarning: There were no Annotations stored in <EpochsArray | 1 events (all good), 0 – 7.992 s (baseline off), ~134 kB, data loaded,\n",
      " '1': 1>, so metadata was not modified.\n",
      "  res = mne_connectivity.spectral_connectivity_time(\n"
     ]
    },
    {
     "name": "stdout",
     "output_type": "stream",
     "text": [
      "only using indices for lower-triangular matrix\n",
      "Connectivity computation...\n",
      "   Processing epoch 1 / 1 ...\n",
      "[Connectivity computation done]\n"
     ]
    },
    {
     "name": "stderr",
     "output_type": "stream",
     "text": [
      "/Users/jakubblaha/Documents/thesis/thesis-python/common.py:122: RuntimeWarning: There were no Annotations stored in <EpochsArray | 1 events (all good), 0 – 7.992 s (baseline off), ~134 kB, data loaded,\n",
      " '1': 1>, so metadata was not modified.\n",
      "  res = mne_connectivity.spectral_connectivity_time(\n"
     ]
    },
    {
     "name": "stdout",
     "output_type": "stream",
     "text": [
      "only using indices for lower-triangular matrix\n",
      "Connectivity computation...\n",
      "   Processing epoch 1 / 1 ...\n",
      "[Connectivity computation done]\n"
     ]
    },
    {
     "name": "stderr",
     "output_type": "stream",
     "text": [
      "/Users/jakubblaha/Documents/thesis/thesis-python/common.py:122: RuntimeWarning: There were no Annotations stored in <EpochsArray | 1 events (all good), 0 – 7.992 s (baseline off), ~134 kB, data loaded,\n",
      " '1': 1>, so metadata was not modified.\n",
      "  res = mne_connectivity.spectral_connectivity_time(\n"
     ]
    },
    {
     "name": "stdout",
     "output_type": "stream",
     "text": [
      "only using indices for lower-triangular matrix\n",
      "Connectivity computation...\n",
      "   Processing epoch 1 / 1 ...\n",
      "[Connectivity computation done]\n"
     ]
    },
    {
     "name": "stderr",
     "output_type": "stream",
     "text": [
      "/Users/jakubblaha/Documents/thesis/thesis-python/common.py:122: RuntimeWarning: There were no Annotations stored in <EpochsArray | 1 events (all good), 0 – 7.992 s (baseline off), ~134 kB, data loaded,\n",
      " '1': 1>, so metadata was not modified.\n",
      "  res = mne_connectivity.spectral_connectivity_time(\n"
     ]
    },
    {
     "name": "stdout",
     "output_type": "stream",
     "text": [
      "only using indices for lower-triangular matrix\n",
      "Connectivity computation...\n",
      "   Processing epoch 1 / 1 ...\n",
      "[Connectivity computation done]\n"
     ]
    },
    {
     "name": "stderr",
     "output_type": "stream",
     "text": [
      "/Users/jakubblaha/Documents/thesis/thesis-python/common.py:122: RuntimeWarning: There were no Annotations stored in <EpochsArray | 1 events (all good), 0 – 7.992 s (baseline off), ~134 kB, data loaded,\n",
      " '1': 1>, so metadata was not modified.\n",
      "  res = mne_connectivity.spectral_connectivity_time(\n"
     ]
    },
    {
     "name": "stdout",
     "output_type": "stream",
     "text": [
      "only using indices for lower-triangular matrix\n",
      "Connectivity computation...\n",
      "   Processing epoch 1 / 1 ...\n",
      "[Connectivity computation done]\n"
     ]
    },
    {
     "name": "stderr",
     "output_type": "stream",
     "text": [
      "/Users/jakubblaha/Documents/thesis/thesis-python/common.py:122: RuntimeWarning: There were no Annotations stored in <EpochsArray | 1 events (all good), 0 – 7.992 s (baseline off), ~134 kB, data loaded,\n",
      " '1': 1>, so metadata was not modified.\n",
      "  res = mne_connectivity.spectral_connectivity_time(\n"
     ]
    },
    {
     "name": "stdout",
     "output_type": "stream",
     "text": [
      "only using indices for lower-triangular matrix\n",
      "Connectivity computation...\n",
      "   Processing epoch 1 / 1 ...\n",
      "[Connectivity computation done]\n"
     ]
    },
    {
     "name": "stderr",
     "output_type": "stream",
     "text": [
      "/Users/jakubblaha/Documents/thesis/thesis-python/common.py:122: RuntimeWarning: There were no Annotations stored in <EpochsArray | 1 events (all good), 0 – 7.992 s (baseline off), ~134 kB, data loaded,\n",
      " '1': 1>, so metadata was not modified.\n",
      "  res = mne_connectivity.spectral_connectivity_time(\n"
     ]
    },
    {
     "name": "stdout",
     "output_type": "stream",
     "text": [
      "only using indices for lower-triangular matrix\n",
      "Connectivity computation...\n",
      "   Processing epoch 1 / 1 ...\n",
      "[Connectivity computation done]\n"
     ]
    },
    {
     "name": "stderr",
     "output_type": "stream",
     "text": [
      "/Users/jakubblaha/Documents/thesis/thesis-python/common.py:122: RuntimeWarning: There were no Annotations stored in <EpochsArray | 1 events (all good), 0 – 7.992 s (baseline off), ~134 kB, data loaded,\n",
      " '1': 1>, so metadata was not modified.\n",
      "  res = mne_connectivity.spectral_connectivity_time(\n"
     ]
    },
    {
     "name": "stdout",
     "output_type": "stream",
     "text": [
      "only using indices for lower-triangular matrix\n",
      "Connectivity computation...\n",
      "   Processing epoch 1 / 1 ...\n",
      "[Connectivity computation done]\n"
     ]
    },
    {
     "name": "stderr",
     "output_type": "stream",
     "text": [
      "/Users/jakubblaha/Documents/thesis/thesis-python/common.py:122: RuntimeWarning: There were no Annotations stored in <EpochsArray | 1 events (all good), 0 – 7.992 s (baseline off), ~134 kB, data loaded,\n",
      " '1': 1>, so metadata was not modified.\n",
      "  res = mne_connectivity.spectral_connectivity_time(\n"
     ]
    },
    {
     "name": "stdout",
     "output_type": "stream",
     "text": [
      "only using indices for lower-triangular matrix\n",
      "Connectivity computation...\n",
      "   Processing epoch 1 / 1 ...\n",
      "[Connectivity computation done]\n"
     ]
    },
    {
     "name": "stderr",
     "output_type": "stream",
     "text": [
      "/Users/jakubblaha/Documents/thesis/thesis-python/common.py:122: RuntimeWarning: There were no Annotations stored in <EpochsArray | 1 events (all good), 0 – 7.992 s (baseline off), ~134 kB, data loaded,\n",
      " '1': 1>, so metadata was not modified.\n",
      "  res = mne_connectivity.spectral_connectivity_time(\n"
     ]
    },
    {
     "name": "stdout",
     "output_type": "stream",
     "text": [
      "only using indices for lower-triangular matrix\n",
      "Connectivity computation...\n",
      "   Processing epoch 1 / 1 ...\n",
      "[Connectivity computation done]\n"
     ]
    },
    {
     "name": "stderr",
     "output_type": "stream",
     "text": [
      "/Users/jakubblaha/Documents/thesis/thesis-python/common.py:122: RuntimeWarning: There were no Annotations stored in <EpochsArray | 1 events (all good), 0 – 7.992 s (baseline off), ~134 kB, data loaded,\n",
      " '1': 1>, so metadata was not modified.\n",
      "  res = mne_connectivity.spectral_connectivity_time(\n"
     ]
    },
    {
     "name": "stdout",
     "output_type": "stream",
     "text": [
      "only using indices for lower-triangular matrix\n",
      "Connectivity computation...\n",
      "   Processing epoch 1 / 1 ...\n",
      "[Connectivity computation done]\n"
     ]
    },
    {
     "name": "stderr",
     "output_type": "stream",
     "text": [
      "/Users/jakubblaha/Documents/thesis/thesis-python/common.py:122: RuntimeWarning: There were no Annotations stored in <EpochsArray | 1 events (all good), 0 – 7.992 s (baseline off), ~134 kB, data loaded,\n",
      " '1': 1>, so metadata was not modified.\n",
      "  res = mne_connectivity.spectral_connectivity_time(\n"
     ]
    },
    {
     "name": "stdout",
     "output_type": "stream",
     "text": [
      "only using indices for lower-triangular matrix\n",
      "Connectivity computation...\n",
      "   Processing epoch 1 / 1 ...\n",
      "[Connectivity computation done]\n"
     ]
    },
    {
     "name": "stderr",
     "output_type": "stream",
     "text": [
      "/Users/jakubblaha/Documents/thesis/thesis-python/common.py:122: RuntimeWarning: There were no Annotations stored in <EpochsArray | 1 events (all good), 0 – 7.992 s (baseline off), ~134 kB, data loaded,\n",
      " '1': 1>, so metadata was not modified.\n",
      "  res = mne_connectivity.spectral_connectivity_time(\n"
     ]
    },
    {
     "name": "stdout",
     "output_type": "stream",
     "text": [
      "only using indices for lower-triangular matrix\n",
      "Connectivity computation...\n",
      "   Processing epoch 1 / 1 ...\n",
      "[Connectivity computation done]\n"
     ]
    },
    {
     "name": "stderr",
     "output_type": "stream",
     "text": [
      "/Users/jakubblaha/Documents/thesis/thesis-python/common.py:122: RuntimeWarning: There were no Annotations stored in <EpochsArray | 1 events (all good), 0 – 7.992 s (baseline off), ~134 kB, data loaded,\n",
      " '1': 1>, so metadata was not modified.\n",
      "  res = mne_connectivity.spectral_connectivity_time(\n"
     ]
    },
    {
     "name": "stdout",
     "output_type": "stream",
     "text": [
      "only using indices for lower-triangular matrix\n",
      "Connectivity computation...\n",
      "   Processing epoch 1 / 1 ...\n",
      "[Connectivity computation done]\n"
     ]
    },
    {
     "name": "stderr",
     "output_type": "stream",
     "text": [
      "/Users/jakubblaha/Documents/thesis/thesis-python/common.py:122: RuntimeWarning: There were no Annotations stored in <EpochsArray | 1 events (all good), 0 – 7.992 s (baseline off), ~134 kB, data loaded,\n",
      " '1': 1>, so metadata was not modified.\n",
      "  res = mne_connectivity.spectral_connectivity_time(\n"
     ]
    },
    {
     "name": "stdout",
     "output_type": "stream",
     "text": [
      "only using indices for lower-triangular matrix\n",
      "Connectivity computation...\n",
      "   Processing epoch 1 / 1 ...\n",
      "[Connectivity computation done]\n"
     ]
    },
    {
     "name": "stderr",
     "output_type": "stream",
     "text": [
      "/Users/jakubblaha/Documents/thesis/thesis-python/common.py:122: RuntimeWarning: There were no Annotations stored in <EpochsArray | 1 events (all good), 0 – 7.992 s (baseline off), ~134 kB, data loaded,\n",
      " '1': 1>, so metadata was not modified.\n",
      "  res = mne_connectivity.spectral_connectivity_time(\n"
     ]
    },
    {
     "name": "stdout",
     "output_type": "stream",
     "text": [
      "only using indices for lower-triangular matrix\n",
      "Connectivity computation...\n",
      "   Processing epoch 1 / 1 ...\n"
     ]
    },
    {
     "name": "stderr",
     "output_type": "stream",
     "text": [
      "/Users/jakubblaha/Documents/thesis/thesis-python/common.py:122: RuntimeWarning: There were no Annotations stored in <EpochsArray | 1 events (all good), 0 – 7.992 s (baseline off), ~134 kB, data loaded,\n",
      " '1': 1>, so metadata was not modified.\n",
      "  res = mne_connectivity.spectral_connectivity_time(\n"
     ]
    },
    {
     "name": "stdout",
     "output_type": "stream",
     "text": [
      "[Connectivity computation done]\n",
      "only using indices for lower-triangular matrix\n",
      "Connectivity computation...\n",
      "   Processing epoch 1 / 1 ...\n",
      "[Connectivity computation done]\n"
     ]
    },
    {
     "name": "stderr",
     "output_type": "stream",
     "text": [
      "/Users/jakubblaha/Documents/thesis/thesis-python/common.py:122: RuntimeWarning: There were no Annotations stored in <EpochsArray | 1 events (all good), 0 – 7.992 s (baseline off), ~134 kB, data loaded,\n",
      " '1': 1>, so metadata was not modified.\n",
      "  res = mne_connectivity.spectral_connectivity_time(\n"
     ]
    },
    {
     "name": "stdout",
     "output_type": "stream",
     "text": [
      "only using indices for lower-triangular matrix\n",
      "Connectivity computation...\n",
      "   Processing epoch 1 / 1 ...\n",
      "[Connectivity computation done]\n"
     ]
    },
    {
     "name": "stderr",
     "output_type": "stream",
     "text": [
      "/Users/jakubblaha/Documents/thesis/thesis-python/common.py:122: RuntimeWarning: There were no Annotations stored in <EpochsArray | 1 events (all good), 0 – 7.992 s (baseline off), ~134 kB, data loaded,\n",
      " '1': 1>, so metadata was not modified.\n",
      "  res = mne_connectivity.spectral_connectivity_time(\n"
     ]
    },
    {
     "name": "stdout",
     "output_type": "stream",
     "text": [
      "only using indices for lower-triangular matrix\n",
      "Connectivity computation...\n",
      "   Processing epoch 1 / 1 ...\n",
      "[Connectivity computation done]\n"
     ]
    },
    {
     "name": "stderr",
     "output_type": "stream",
     "text": [
      "/Users/jakubblaha/Documents/thesis/thesis-python/common.py:122: RuntimeWarning: There were no Annotations stored in <EpochsArray | 1 events (all good), 0 – 7.992 s (baseline off), ~134 kB, data loaded,\n",
      " '1': 1>, so metadata was not modified.\n",
      "  res = mne_connectivity.spectral_connectivity_time(\n"
     ]
    },
    {
     "name": "stdout",
     "output_type": "stream",
     "text": [
      "only using indices for lower-triangular matrix\n",
      "Connectivity computation...\n",
      "   Processing epoch 1 / 1 ...\n",
      "[Connectivity computation done]\n"
     ]
    },
    {
     "name": "stderr",
     "output_type": "stream",
     "text": [
      "/Users/jakubblaha/Documents/thesis/thesis-python/common.py:122: RuntimeWarning: There were no Annotations stored in <EpochsArray | 1 events (all good), 0 – 7.992 s (baseline off), ~134 kB, data loaded,\n",
      " '1': 1>, so metadata was not modified.\n",
      "  res = mne_connectivity.spectral_connectivity_time(\n"
     ]
    },
    {
     "name": "stdout",
     "output_type": "stream",
     "text": [
      "only using indices for lower-triangular matrix\n",
      "Connectivity computation...\n",
      "   Processing epoch 1 / 1 ...\n",
      "[Connectivity computation done]\n"
     ]
    },
    {
     "name": "stderr",
     "output_type": "stream",
     "text": [
      "/Users/jakubblaha/Documents/thesis/thesis-python/common.py:122: RuntimeWarning: There were no Annotations stored in <EpochsArray | 1 events (all good), 0 – 7.992 s (baseline off), ~134 kB, data loaded,\n",
      " '1': 1>, so metadata was not modified.\n",
      "  res = mne_connectivity.spectral_connectivity_time(\n"
     ]
    },
    {
     "name": "stdout",
     "output_type": "stream",
     "text": [
      "only using indices for lower-triangular matrix\n",
      "Connectivity computation...\n",
      "   Processing epoch 1 / 1 ...\n",
      "[Connectivity computation done]\n"
     ]
    },
    {
     "name": "stderr",
     "output_type": "stream",
     "text": [
      "/Users/jakubblaha/Documents/thesis/thesis-python/common.py:122: RuntimeWarning: There were no Annotations stored in <EpochsArray | 1 events (all good), 0 – 7.992 s (baseline off), ~134 kB, data loaded,\n",
      " '1': 1>, so metadata was not modified.\n",
      "  res = mne_connectivity.spectral_connectivity_time(\n"
     ]
    },
    {
     "name": "stdout",
     "output_type": "stream",
     "text": [
      "only using indices for lower-triangular matrix\n",
      "Connectivity computation...\n",
      "   Processing epoch 1 / 1 ...\n",
      "[Connectivity computation done]\n"
     ]
    },
    {
     "name": "stderr",
     "output_type": "stream",
     "text": [
      "/Users/jakubblaha/Documents/thesis/thesis-python/common.py:122: RuntimeWarning: There were no Annotations stored in <EpochsArray | 1 events (all good), 0 – 7.992 s (baseline off), ~134 kB, data loaded,\n",
      " '1': 1>, so metadata was not modified.\n",
      "  res = mne_connectivity.spectral_connectivity_time(\n"
     ]
    },
    {
     "name": "stdout",
     "output_type": "stream",
     "text": [
      "only using indices for lower-triangular matrix\n",
      "Connectivity computation...\n",
      "   Processing epoch 1 / 1 ...\n",
      "[Connectivity computation done]\n"
     ]
    },
    {
     "name": "stderr",
     "output_type": "stream",
     "text": [
      "/Users/jakubblaha/Documents/thesis/thesis-python/common.py:122: RuntimeWarning: There were no Annotations stored in <EpochsArray | 1 events (all good), 0 – 7.992 s (baseline off), ~134 kB, data loaded,\n",
      " '1': 1>, so metadata was not modified.\n",
      "  res = mne_connectivity.spectral_connectivity_time(\n"
     ]
    },
    {
     "name": "stdout",
     "output_type": "stream",
     "text": [
      "only using indices for lower-triangular matrix\n",
      "Connectivity computation...\n",
      "   Processing epoch 1 / 1 ...\n",
      "[Connectivity computation done]\n"
     ]
    },
    {
     "name": "stderr",
     "output_type": "stream",
     "text": [
      "/Users/jakubblaha/Documents/thesis/thesis-python/common.py:122: RuntimeWarning: There were no Annotations stored in <EpochsArray | 1 events (all good), 0 – 7.992 s (baseline off), ~134 kB, data loaded,\n",
      " '1': 1>, so metadata was not modified.\n",
      "  res = mne_connectivity.spectral_connectivity_time(\n"
     ]
    },
    {
     "name": "stdout",
     "output_type": "stream",
     "text": [
      "only using indices for lower-triangular matrix\n",
      "Connectivity computation...\n",
      "   Processing epoch 1 / 1 ...\n",
      "[Connectivity computation done]\n"
     ]
    },
    {
     "name": "stderr",
     "output_type": "stream",
     "text": [
      "/Users/jakubblaha/Documents/thesis/thesis-python/common.py:122: RuntimeWarning: There were no Annotations stored in <EpochsArray | 1 events (all good), 0 – 7.992 s (baseline off), ~134 kB, data loaded,\n",
      " '1': 1>, so metadata was not modified.\n",
      "  res = mne_connectivity.spectral_connectivity_time(\n"
     ]
    },
    {
     "name": "stdout",
     "output_type": "stream",
     "text": [
      "only using indices for lower-triangular matrix\n",
      "Connectivity computation...\n",
      "   Processing epoch 1 / 1 ...\n"
     ]
    },
    {
     "name": "stderr",
     "output_type": "stream",
     "text": [
      "/Users/jakubblaha/Documents/thesis/thesis-python/common.py:122: RuntimeWarning: There were no Annotations stored in <EpochsArray | 1 events (all good), 0 – 7.992 s (baseline off), ~134 kB, data loaded,\n",
      " '1': 1>, so metadata was not modified.\n",
      "  res = mne_connectivity.spectral_connectivity_time(\n"
     ]
    },
    {
     "name": "stdout",
     "output_type": "stream",
     "text": [
      "[Connectivity computation done]\n",
      "only using indices for lower-triangular matrix\n",
      "Connectivity computation...\n",
      "   Processing epoch 1 / 1 ...\n",
      "[Connectivity computation done]\n"
     ]
    },
    {
     "name": "stderr",
     "output_type": "stream",
     "text": [
      "/Users/jakubblaha/Documents/thesis/thesis-python/common.py:122: RuntimeWarning: There were no Annotations stored in <EpochsArray | 1 events (all good), 0 – 7.992 s (baseline off), ~134 kB, data loaded,\n",
      " '1': 1>, so metadata was not modified.\n",
      "  res = mne_connectivity.spectral_connectivity_time(\n"
     ]
    },
    {
     "name": "stdout",
     "output_type": "stream",
     "text": [
      "only using indices for lower-triangular matrix\n",
      "Connectivity computation...\n",
      "   Processing epoch 1 / 1 ...\n",
      "[Connectivity computation done]\n"
     ]
    },
    {
     "name": "stderr",
     "output_type": "stream",
     "text": [
      "/Users/jakubblaha/Documents/thesis/thesis-python/common.py:122: RuntimeWarning: There were no Annotations stored in <EpochsArray | 1 events (all good), 0 – 7.992 s (baseline off), ~134 kB, data loaded,\n",
      " '1': 1>, so metadata was not modified.\n",
      "  res = mne_connectivity.spectral_connectivity_time(\n"
     ]
    },
    {
     "name": "stdout",
     "output_type": "stream",
     "text": [
      "only using indices for lower-triangular matrix\n",
      "Connectivity computation...\n",
      "   Processing epoch 1 / 1 ...\n",
      "[Connectivity computation done]\n"
     ]
    },
    {
     "name": "stderr",
     "output_type": "stream",
     "text": [
      "/Users/jakubblaha/Documents/thesis/thesis-python/common.py:122: RuntimeWarning: There were no Annotations stored in <EpochsArray | 1 events (all good), 0 – 7.992 s (baseline off), ~134 kB, data loaded,\n",
      " '1': 1>, so metadata was not modified.\n",
      "  res = mne_connectivity.spectral_connectivity_time(\n"
     ]
    },
    {
     "name": "stdout",
     "output_type": "stream",
     "text": [
      "only using indices for lower-triangular matrix\n",
      "Connectivity computation...\n",
      "   Processing epoch 1 / 1 ...\n",
      "[Connectivity computation done]\n"
     ]
    },
    {
     "name": "stderr",
     "output_type": "stream",
     "text": [
      "/Users/jakubblaha/Documents/thesis/thesis-python/common.py:122: RuntimeWarning: There were no Annotations stored in <EpochsArray | 1 events (all good), 0 – 7.992 s (baseline off), ~134 kB, data loaded,\n",
      " '1': 1>, so metadata was not modified.\n",
      "  res = mne_connectivity.spectral_connectivity_time(\n"
     ]
    },
    {
     "name": "stdout",
     "output_type": "stream",
     "text": [
      "only using indices for lower-triangular matrix\n",
      "Connectivity computation...\n",
      "   Processing epoch 1 / 1 ...\n"
     ]
    },
    {
     "name": "stderr",
     "output_type": "stream",
     "text": [
      "/Users/jakubblaha/Documents/thesis/thesis-python/common.py:122: RuntimeWarning: There were no Annotations stored in <EpochsArray | 1 events (all good), 0 – 7.992 s (baseline off), ~134 kB, data loaded,\n",
      " '1': 1>, so metadata was not modified.\n",
      "  res = mne_connectivity.spectral_connectivity_time(\n"
     ]
    },
    {
     "name": "stdout",
     "output_type": "stream",
     "text": [
      "[Connectivity computation done]\n",
      "only using indices for lower-triangular matrix\n",
      "Connectivity computation...\n",
      "   Processing epoch 1 / 1 ...\n",
      "[Connectivity computation done]\n"
     ]
    },
    {
     "name": "stderr",
     "output_type": "stream",
     "text": [
      "/Users/jakubblaha/Documents/thesis/thesis-python/common.py:122: RuntimeWarning: There were no Annotations stored in <EpochsArray | 1 events (all good), 0 – 7.992 s (baseline off), ~134 kB, data loaded,\n",
      " '1': 1>, so metadata was not modified.\n",
      "  res = mne_connectivity.spectral_connectivity_time(\n"
     ]
    },
    {
     "name": "stdout",
     "output_type": "stream",
     "text": [
      "only using indices for lower-triangular matrix\n",
      "Connectivity computation...\n",
      "   Processing epoch 1 / 1 ...\n",
      "[Connectivity computation done]\n"
     ]
    },
    {
     "name": "stderr",
     "output_type": "stream",
     "text": [
      "/Users/jakubblaha/Documents/thesis/thesis-python/common.py:122: RuntimeWarning: There were no Annotations stored in <EpochsArray | 1 events (all good), 0 – 7.992 s (baseline off), ~134 kB, data loaded,\n",
      " '1': 1>, so metadata was not modified.\n",
      "  res = mne_connectivity.spectral_connectivity_time(\n"
     ]
    },
    {
     "name": "stdout",
     "output_type": "stream",
     "text": [
      "only using indices for lower-triangular matrix\n",
      "Connectivity computation...\n",
      "   Processing epoch 1 / 1 ...\n",
      "[Connectivity computation done]\n"
     ]
    },
    {
     "name": "stderr",
     "output_type": "stream",
     "text": [
      "/Users/jakubblaha/Documents/thesis/thesis-python/common.py:122: RuntimeWarning: There were no Annotations stored in <EpochsArray | 1 events (all good), 0 – 7.992 s (baseline off), ~134 kB, data loaded,\n",
      " '1': 1>, so metadata was not modified.\n",
      "  res = mne_connectivity.spectral_connectivity_time(\n"
     ]
    },
    {
     "name": "stdout",
     "output_type": "stream",
     "text": [
      "only using indices for lower-triangular matrix\n",
      "Connectivity computation...\n",
      "   Processing epoch 1 / 1 ...\n",
      "[Connectivity computation done]\n"
     ]
    },
    {
     "name": "stderr",
     "output_type": "stream",
     "text": [
      "/Users/jakubblaha/Documents/thesis/thesis-python/common.py:122: RuntimeWarning: There were no Annotations stored in <EpochsArray | 1 events (all good), 0 – 7.992 s (baseline off), ~134 kB, data loaded,\n",
      " '1': 1>, so metadata was not modified.\n",
      "  res = mne_connectivity.spectral_connectivity_time(\n"
     ]
    },
    {
     "name": "stdout",
     "output_type": "stream",
     "text": [
      "only using indices for lower-triangular matrix\n",
      "Connectivity computation...\n",
      "   Processing epoch 1 / 1 ...\n",
      "[Connectivity computation done]\n"
     ]
    },
    {
     "name": "stderr",
     "output_type": "stream",
     "text": [
      "/Users/jakubblaha/Documents/thesis/thesis-python/common.py:122: RuntimeWarning: There were no Annotations stored in <EpochsArray | 1 events (all good), 0 – 7.992 s (baseline off), ~134 kB, data loaded,\n",
      " '1': 1>, so metadata was not modified.\n",
      "  res = mne_connectivity.spectral_connectivity_time(\n"
     ]
    },
    {
     "name": "stdout",
     "output_type": "stream",
     "text": [
      "only using indices for lower-triangular matrix\n",
      "Connectivity computation...\n",
      "   Processing epoch 1 / 1 ...\n"
     ]
    },
    {
     "name": "stderr",
     "output_type": "stream",
     "text": [
      "/Users/jakubblaha/Documents/thesis/thesis-python/common.py:122: RuntimeWarning: There were no Annotations stored in <EpochsArray | 1 events (all good), 0 – 7.992 s (baseline off), ~134 kB, data loaded,\n",
      " '1': 1>, so metadata was not modified.\n",
      "  res = mne_connectivity.spectral_connectivity_time(\n"
     ]
    },
    {
     "name": "stdout",
     "output_type": "stream",
     "text": [
      "[Connectivity computation done]\n",
      "only using indices for lower-triangular matrix\n",
      "Connectivity computation...\n",
      "   Processing epoch 1 / 1 ...\n",
      "[Connectivity computation done]\n"
     ]
    },
    {
     "name": "stderr",
     "output_type": "stream",
     "text": [
      "/Users/jakubblaha/Documents/thesis/thesis-python/common.py:122: RuntimeWarning: There were no Annotations stored in <EpochsArray | 1 events (all good), 0 – 7.992 s (baseline off), ~134 kB, data loaded,\n",
      " '1': 1>, so metadata was not modified.\n",
      "  res = mne_connectivity.spectral_connectivity_time(\n"
     ]
    },
    {
     "name": "stdout",
     "output_type": "stream",
     "text": [
      "only using indices for lower-triangular matrix\n",
      "Connectivity computation...\n",
      "   Processing epoch 1 / 1 ...\n",
      "[Connectivity computation done]\n"
     ]
    },
    {
     "name": "stderr",
     "output_type": "stream",
     "text": [
      "/Users/jakubblaha/Documents/thesis/thesis-python/common.py:122: RuntimeWarning: There were no Annotations stored in <EpochsArray | 1 events (all good), 0 – 7.992 s (baseline off), ~134 kB, data loaded,\n",
      " '1': 1>, so metadata was not modified.\n",
      "  res = mne_connectivity.spectral_connectivity_time(\n"
     ]
    },
    {
     "name": "stdout",
     "output_type": "stream",
     "text": [
      "only using indices for lower-triangular matrix\n",
      "Connectivity computation...\n",
      "   Processing epoch 1 / 1 ...\n",
      "[Connectivity computation done]\n"
     ]
    },
    {
     "name": "stderr",
     "output_type": "stream",
     "text": [
      "/Users/jakubblaha/Documents/thesis/thesis-python/common.py:122: RuntimeWarning: There were no Annotations stored in <EpochsArray | 1 events (all good), 0 – 7.992 s (baseline off), ~134 kB, data loaded,\n",
      " '1': 1>, so metadata was not modified.\n",
      "  res = mne_connectivity.spectral_connectivity_time(\n"
     ]
    },
    {
     "name": "stdout",
     "output_type": "stream",
     "text": [
      "only using indices for lower-triangular matrix\n",
      "Connectivity computation...\n",
      "   Processing epoch 1 / 1 ...\n",
      "[Connectivity computation done]\n"
     ]
    },
    {
     "name": "stderr",
     "output_type": "stream",
     "text": [
      "/Users/jakubblaha/Documents/thesis/thesis-python/common.py:122: RuntimeWarning: There were no Annotations stored in <EpochsArray | 1 events (all good), 0 – 7.992 s (baseline off), ~134 kB, data loaded,\n",
      " '1': 1>, so metadata was not modified.\n",
      "  res = mne_connectivity.spectral_connectivity_time(\n"
     ]
    },
    {
     "name": "stdout",
     "output_type": "stream",
     "text": [
      "only using indices for lower-triangular matrix\n",
      "Connectivity computation...\n",
      "   Processing epoch 1 / 1 ...\n",
      "[Connectivity computation done]\n"
     ]
    },
    {
     "name": "stderr",
     "output_type": "stream",
     "text": [
      "/Users/jakubblaha/Documents/thesis/thesis-python/common.py:122: RuntimeWarning: There were no Annotations stored in <EpochsArray | 1 events (all good), 0 – 7.992 s (baseline off), ~134 kB, data loaded,\n",
      " '1': 1>, so metadata was not modified.\n",
      "  res = mne_connectivity.spectral_connectivity_time(\n"
     ]
    },
    {
     "name": "stdout",
     "output_type": "stream",
     "text": [
      "only using indices for lower-triangular matrix\n",
      "Connectivity computation...\n",
      "   Processing epoch 1 / 1 ...\n",
      "[Connectivity computation done]\n"
     ]
    },
    {
     "name": "stderr",
     "output_type": "stream",
     "text": [
      "/Users/jakubblaha/Documents/thesis/thesis-python/common.py:122: RuntimeWarning: There were no Annotations stored in <EpochsArray | 1 events (all good), 0 – 7.992 s (baseline off), ~134 kB, data loaded,\n",
      " '1': 1>, so metadata was not modified.\n",
      "  res = mne_connectivity.spectral_connectivity_time(\n"
     ]
    },
    {
     "name": "stdout",
     "output_type": "stream",
     "text": [
      "only using indices for lower-triangular matrix\n",
      "Connectivity computation...\n",
      "   Processing epoch 1 / 1 ...\n",
      "[Connectivity computation done]\n"
     ]
    },
    {
     "name": "stderr",
     "output_type": "stream",
     "text": [
      "/Users/jakubblaha/Documents/thesis/thesis-python/common.py:122: RuntimeWarning: There were no Annotations stored in <EpochsArray | 1 events (all good), 0 – 7.992 s (baseline off), ~134 kB, data loaded,\n",
      " '1': 1>, so metadata was not modified.\n",
      "  res = mne_connectivity.spectral_connectivity_time(\n"
     ]
    },
    {
     "name": "stdout",
     "output_type": "stream",
     "text": [
      "only using indices for lower-triangular matrix\n",
      "Connectivity computation...\n",
      "   Processing epoch 1 / 1 ...\n",
      "[Connectivity computation done]\n"
     ]
    },
    {
     "name": "stderr",
     "output_type": "stream",
     "text": [
      "/Users/jakubblaha/Documents/thesis/thesis-python/common.py:122: RuntimeWarning: There were no Annotations stored in <EpochsArray | 1 events (all good), 0 – 7.992 s (baseline off), ~134 kB, data loaded,\n",
      " '1': 1>, so metadata was not modified.\n",
      "  res = mne_connectivity.spectral_connectivity_time(\n"
     ]
    },
    {
     "name": "stdout",
     "output_type": "stream",
     "text": [
      "only using indices for lower-triangular matrix\n",
      "Connectivity computation...\n",
      "   Processing epoch 1 / 1 ...\n",
      "[Connectivity computation done]\n"
     ]
    },
    {
     "name": "stderr",
     "output_type": "stream",
     "text": [
      "/Users/jakubblaha/Documents/thesis/thesis-python/common.py:122: RuntimeWarning: There were no Annotations stored in <EpochsArray | 1 events (all good), 0 – 7.992 s (baseline off), ~134 kB, data loaded,\n",
      " '1': 1>, so metadata was not modified.\n",
      "  res = mne_connectivity.spectral_connectivity_time(\n"
     ]
    },
    {
     "name": "stdout",
     "output_type": "stream",
     "text": [
      "only using indices for lower-triangular matrix\n",
      "Connectivity computation...\n",
      "   Processing epoch 1 / 1 ...\n",
      "[Connectivity computation done]\n"
     ]
    },
    {
     "name": "stderr",
     "output_type": "stream",
     "text": [
      "/Users/jakubblaha/Documents/thesis/thesis-python/common.py:122: RuntimeWarning: There were no Annotations stored in <EpochsArray | 1 events (all good), 0 – 7.992 s (baseline off), ~134 kB, data loaded,\n",
      " '1': 1>, so metadata was not modified.\n",
      "  res = mne_connectivity.spectral_connectivity_time(\n"
     ]
    },
    {
     "name": "stdout",
     "output_type": "stream",
     "text": [
      "only using indices for lower-triangular matrix\n",
      "Connectivity computation...\n",
      "   Processing epoch 1 / 1 ...\n"
     ]
    },
    {
     "name": "stderr",
     "output_type": "stream",
     "text": [
      "/Users/jakubblaha/Documents/thesis/thesis-python/common.py:122: RuntimeWarning: There were no Annotations stored in <EpochsArray | 1 events (all good), 0 – 7.992 s (baseline off), ~134 kB, data loaded,\n",
      " '1': 1>, so metadata was not modified.\n",
      "  res = mne_connectivity.spectral_connectivity_time(\n"
     ]
    },
    {
     "name": "stdout",
     "output_type": "stream",
     "text": [
      "[Connectivity computation done]\n",
      "only using indices for lower-triangular matrix\n",
      "Connectivity computation...\n",
      "   Processing epoch 1 / 1 ...\n",
      "[Connectivity computation done]\n"
     ]
    },
    {
     "name": "stderr",
     "output_type": "stream",
     "text": [
      "/Users/jakubblaha/Documents/thesis/thesis-python/common.py:122: RuntimeWarning: There were no Annotations stored in <EpochsArray | 1 events (all good), 0 – 7.992 s (baseline off), ~134 kB, data loaded,\n",
      " '1': 1>, so metadata was not modified.\n",
      "  res = mne_connectivity.spectral_connectivity_time(\n"
     ]
    },
    {
     "name": "stdout",
     "output_type": "stream",
     "text": [
      "only using indices for lower-triangular matrix\n",
      "Connectivity computation...\n",
      "   Processing epoch 1 / 1 ...\n",
      "[Connectivity computation done]\n"
     ]
    },
    {
     "name": "stderr",
     "output_type": "stream",
     "text": [
      "/Users/jakubblaha/Documents/thesis/thesis-python/common.py:122: RuntimeWarning: There were no Annotations stored in <EpochsArray | 1 events (all good), 0 – 7.992 s (baseline off), ~134 kB, data loaded,\n",
      " '1': 1>, so metadata was not modified.\n",
      "  res = mne_connectivity.spectral_connectivity_time(\n"
     ]
    },
    {
     "name": "stdout",
     "output_type": "stream",
     "text": [
      "only using indices for lower-triangular matrix\n",
      "Connectivity computation...\n",
      "   Processing epoch 1 / 1 ...\n",
      "[Connectivity computation done]\n"
     ]
    },
    {
     "name": "stderr",
     "output_type": "stream",
     "text": [
      "/Users/jakubblaha/Documents/thesis/thesis-python/common.py:122: RuntimeWarning: There were no Annotations stored in <EpochsArray | 1 events (all good), 0 – 7.992 s (baseline off), ~134 kB, data loaded,\n",
      " '1': 1>, so metadata was not modified.\n",
      "  res = mne_connectivity.spectral_connectivity_time(\n"
     ]
    },
    {
     "name": "stdout",
     "output_type": "stream",
     "text": [
      "only using indices for lower-triangular matrix\n",
      "Connectivity computation...\n",
      "   Processing epoch 1 / 1 ...\n",
      "[Connectivity computation done]\n"
     ]
    },
    {
     "name": "stderr",
     "output_type": "stream",
     "text": [
      "/Users/jakubblaha/Documents/thesis/thesis-python/common.py:122: RuntimeWarning: There were no Annotations stored in <EpochsArray | 1 events (all good), 0 – 7.992 s (baseline off), ~134 kB, data loaded,\n",
      " '1': 1>, so metadata was not modified.\n",
      "  res = mne_connectivity.spectral_connectivity_time(\n"
     ]
    },
    {
     "name": "stdout",
     "output_type": "stream",
     "text": [
      "only using indices for lower-triangular matrix\n",
      "Connectivity computation...\n",
      "   Processing epoch 1 / 1 ...\n",
      "[Connectivity computation done]\n"
     ]
    },
    {
     "name": "stderr",
     "output_type": "stream",
     "text": [
      "/Users/jakubblaha/Documents/thesis/thesis-python/common.py:122: RuntimeWarning: There were no Annotations stored in <EpochsArray | 1 events (all good), 0 – 7.992 s (baseline off), ~134 kB, data loaded,\n",
      " '1': 1>, so metadata was not modified.\n",
      "  res = mne_connectivity.spectral_connectivity_time(\n"
     ]
    },
    {
     "name": "stdout",
     "output_type": "stream",
     "text": [
      "only using indices for lower-triangular matrix\n",
      "Connectivity computation...\n",
      "   Processing epoch 1 / 1 ...\n",
      "[Connectivity computation done]\n"
     ]
    },
    {
     "name": "stderr",
     "output_type": "stream",
     "text": [
      "/Users/jakubblaha/Documents/thesis/thesis-python/common.py:122: RuntimeWarning: There were no Annotations stored in <EpochsArray | 1 events (all good), 0 – 7.992 s (baseline off), ~134 kB, data loaded,\n",
      " '1': 1>, so metadata was not modified.\n",
      "  res = mne_connectivity.spectral_connectivity_time(\n"
     ]
    },
    {
     "name": "stdout",
     "output_type": "stream",
     "text": [
      "only using indices for lower-triangular matrix\n",
      "Connectivity computation...\n",
      "   Processing epoch 1 / 1 ...\n",
      "[Connectivity computation done]\n"
     ]
    },
    {
     "name": "stderr",
     "output_type": "stream",
     "text": [
      "/Users/jakubblaha/Documents/thesis/thesis-python/common.py:122: RuntimeWarning: There were no Annotations stored in <EpochsArray | 1 events (all good), 0 – 7.992 s (baseline off), ~134 kB, data loaded,\n",
      " '1': 1>, so metadata was not modified.\n",
      "  res = mne_connectivity.spectral_connectivity_time(\n"
     ]
    },
    {
     "name": "stdout",
     "output_type": "stream",
     "text": [
      "only using indices for lower-triangular matrix\n",
      "Connectivity computation...\n",
      "   Processing epoch 1 / 1 ...\n"
     ]
    },
    {
     "name": "stderr",
     "output_type": "stream",
     "text": [
      "/Users/jakubblaha/Documents/thesis/thesis-python/common.py:122: RuntimeWarning: There were no Annotations stored in <EpochsArray | 1 events (all good), 0 – 7.992 s (baseline off), ~134 kB, data loaded,\n",
      " '1': 1>, so metadata was not modified.\n",
      "  res = mne_connectivity.spectral_connectivity_time(\n"
     ]
    },
    {
     "name": "stdout",
     "output_type": "stream",
     "text": [
      "[Connectivity computation done]\n",
      "only using indices for lower-triangular matrix\n",
      "Connectivity computation...\n",
      "   Processing epoch 1 / 1 ...\n",
      "[Connectivity computation done]\n"
     ]
    },
    {
     "name": "stderr",
     "output_type": "stream",
     "text": [
      "/Users/jakubblaha/Documents/thesis/thesis-python/common.py:122: RuntimeWarning: There were no Annotations stored in <EpochsArray | 1 events (all good), 0 – 7.992 s (baseline off), ~134 kB, data loaded,\n",
      " '1': 1>, so metadata was not modified.\n",
      "  res = mne_connectivity.spectral_connectivity_time(\n"
     ]
    },
    {
     "name": "stdout",
     "output_type": "stream",
     "text": [
      "only using indices for lower-triangular matrix\n",
      "Connectivity computation...\n",
      "   Processing epoch 1 / 1 ...\n",
      "[Connectivity computation done]\n"
     ]
    },
    {
     "name": "stderr",
     "output_type": "stream",
     "text": [
      "/Users/jakubblaha/Documents/thesis/thesis-python/common.py:122: RuntimeWarning: There were no Annotations stored in <EpochsArray | 1 events (all good), 0 – 7.992 s (baseline off), ~134 kB, data loaded,\n",
      " '1': 1>, so metadata was not modified.\n",
      "  res = mne_connectivity.spectral_connectivity_time(\n"
     ]
    },
    {
     "name": "stdout",
     "output_type": "stream",
     "text": [
      "only using indices for lower-triangular matrix\n",
      "Connectivity computation...\n",
      "   Processing epoch 1 / 1 ...\n",
      "[Connectivity computation done]\n"
     ]
    },
    {
     "name": "stderr",
     "output_type": "stream",
     "text": [
      "/Users/jakubblaha/Documents/thesis/thesis-python/common.py:122: RuntimeWarning: There were no Annotations stored in <EpochsArray | 1 events (all good), 0 – 7.992 s (baseline off), ~134 kB, data loaded,\n",
      " '1': 1>, so metadata was not modified.\n",
      "  res = mne_connectivity.spectral_connectivity_time(\n"
     ]
    },
    {
     "name": "stdout",
     "output_type": "stream",
     "text": [
      "only using indices for lower-triangular matrix\n",
      "Connectivity computation...\n",
      "   Processing epoch 1 / 1 ...\n",
      "[Connectivity computation done]\n"
     ]
    },
    {
     "name": "stderr",
     "output_type": "stream",
     "text": [
      "/Users/jakubblaha/Documents/thesis/thesis-python/common.py:122: RuntimeWarning: There were no Annotations stored in <EpochsArray | 1 events (all good), 0 – 7.992 s (baseline off), ~134 kB, data loaded,\n",
      " '1': 1>, so metadata was not modified.\n",
      "  res = mne_connectivity.spectral_connectivity_time(\n"
     ]
    },
    {
     "name": "stdout",
     "output_type": "stream",
     "text": [
      "only using indices for lower-triangular matrix\n",
      "Connectivity computation...\n",
      "   Processing epoch 1 / 1 ...\n",
      "[Connectivity computation done]\n"
     ]
    },
    {
     "name": "stderr",
     "output_type": "stream",
     "text": [
      "/Users/jakubblaha/Documents/thesis/thesis-python/common.py:122: RuntimeWarning: There were no Annotations stored in <EpochsArray | 1 events (all good), 0 – 7.992 s (baseline off), ~134 kB, data loaded,\n",
      " '1': 1>, so metadata was not modified.\n",
      "  res = mne_connectivity.spectral_connectivity_time(\n"
     ]
    },
    {
     "name": "stdout",
     "output_type": "stream",
     "text": [
      "only using indices for lower-triangular matrix\n",
      "Connectivity computation...\n",
      "   Processing epoch 1 / 1 ...\n",
      "[Connectivity computation done]\n"
     ]
    },
    {
     "name": "stderr",
     "output_type": "stream",
     "text": [
      "/Users/jakubblaha/Documents/thesis/thesis-python/common.py:122: RuntimeWarning: There were no Annotations stored in <EpochsArray | 1 events (all good), 0 – 7.992 s (baseline off), ~134 kB, data loaded,\n",
      " '1': 1>, so metadata was not modified.\n",
      "  res = mne_connectivity.spectral_connectivity_time(\n"
     ]
    },
    {
     "name": "stdout",
     "output_type": "stream",
     "text": [
      "only using indices for lower-triangular matrix\n",
      "Connectivity computation...\n",
      "   Processing epoch 1 / 1 ...\n",
      "[Connectivity computation done]\n",
      "only using indices for lower-triangular matrix\n",
      "Connectivity computation...\n"
     ]
    },
    {
     "name": "stderr",
     "output_type": "stream",
     "text": [
      "/Users/jakubblaha/Documents/thesis/thesis-python/common.py:122: RuntimeWarning: There were no Annotations stored in <EpochsArray | 1 events (all good), 0 – 7.992 s (baseline off), ~134 kB, data loaded,\n",
      " '1': 1>, so metadata was not modified.\n",
      "  res = mne_connectivity.spectral_connectivity_time(\n",
      "/Users/jakubblaha/Documents/thesis/thesis-python/common.py:122: RuntimeWarning: There were no Annotations stored in <EpochsArray | 1 events (all good), 0 – 7.992 s (baseline off), ~134 kB, data loaded,\n",
      " '1': 1>, so metadata was not modified.\n",
      "  res = mne_connectivity.spectral_connectivity_time(\n"
     ]
    },
    {
     "name": "stdout",
     "output_type": "stream",
     "text": [
      "   Processing epoch 1 / 1 ...\n",
      "[Connectivity computation done]\n",
      "only using indices for lower-triangular matrix\n",
      "Connectivity computation...\n",
      "   Processing epoch 1 / 1 ...\n",
      "[Connectivity computation done]\n",
      "only using indices for lower-triangular matrix\n",
      "Connectivity computation...\n"
     ]
    },
    {
     "name": "stderr",
     "output_type": "stream",
     "text": [
      "/Users/jakubblaha/Documents/thesis/thesis-python/common.py:122: RuntimeWarning: There were no Annotations stored in <EpochsArray | 1 events (all good), 0 – 7.992 s (baseline off), ~134 kB, data loaded,\n",
      " '1': 1>, so metadata was not modified.\n",
      "  res = mne_connectivity.spectral_connectivity_time(\n",
      "/Users/jakubblaha/Documents/thesis/thesis-python/common.py:122: RuntimeWarning: There were no Annotations stored in <EpochsArray | 1 events (all good), 0 – 7.992 s (baseline off), ~134 kB, data loaded,\n",
      " '1': 1>, so metadata was not modified.\n",
      "  res = mne_connectivity.spectral_connectivity_time(\n"
     ]
    },
    {
     "name": "stdout",
     "output_type": "stream",
     "text": [
      "   Processing epoch 1 / 1 ...\n",
      "[Connectivity computation done]\n",
      "only using indices for lower-triangular matrix\n",
      "Connectivity computation...\n",
      "   Processing epoch 1 / 1 ...\n"
     ]
    },
    {
     "name": "stderr",
     "output_type": "stream",
     "text": [
      "/Users/jakubblaha/Documents/thesis/thesis-python/common.py:122: RuntimeWarning: There were no Annotations stored in <EpochsArray | 1 events (all good), 0 – 7.992 s (baseline off), ~134 kB, data loaded,\n",
      " '1': 1>, so metadata was not modified.\n",
      "  res = mne_connectivity.spectral_connectivity_time(\n"
     ]
    },
    {
     "name": "stdout",
     "output_type": "stream",
     "text": [
      "[Connectivity computation done]\n",
      "only using indices for lower-triangular matrix\n",
      "Connectivity computation...\n",
      "   Processing epoch 1 / 1 ...\n",
      "[Connectivity computation done]\n"
     ]
    },
    {
     "name": "stderr",
     "output_type": "stream",
     "text": [
      "/Users/jakubblaha/Documents/thesis/thesis-python/common.py:122: RuntimeWarning: There were no Annotations stored in <EpochsArray | 1 events (all good), 0 – 7.992 s (baseline off), ~134 kB, data loaded,\n",
      " '1': 1>, so metadata was not modified.\n",
      "  res = mne_connectivity.spectral_connectivity_time(\n"
     ]
    },
    {
     "name": "stdout",
     "output_type": "stream",
     "text": [
      "only using indices for lower-triangular matrix\n",
      "Connectivity computation...\n",
      "   Processing epoch 1 / 1 ...\n",
      "[Connectivity computation done]\n",
      "only using indices for lower-triangular matrix\n"
     ]
    },
    {
     "name": "stderr",
     "output_type": "stream",
     "text": [
      "/Users/jakubblaha/Documents/thesis/thesis-python/common.py:122: RuntimeWarning: There were no Annotations stored in <EpochsArray | 1 events (all good), 0 – 7.992 s (baseline off), ~134 kB, data loaded,\n",
      " '1': 1>, so metadata was not modified.\n",
      "  res = mne_connectivity.spectral_connectivity_time(\n",
      "/Users/jakubblaha/Documents/thesis/thesis-python/common.py:122: RuntimeWarning: There were no Annotations stored in <EpochsArray | 1 events (all good), 0 – 7.992 s (baseline off), ~134 kB, data loaded,\n",
      " '1': 1>, so metadata was not modified.\n",
      "  res = mne_connectivity.spectral_connectivity_time(\n"
     ]
    },
    {
     "name": "stdout",
     "output_type": "stream",
     "text": [
      "Connectivity computation...\n",
      "   Processing epoch 1 / 1 ...\n",
      "[Connectivity computation done]\n",
      "only using indices for lower-triangular matrix\n",
      "Connectivity computation...\n",
      "   Processing epoch 1 / 1 ...\n",
      "[Connectivity computation done]\n",
      "only using indices for lower-triangular matrix\n",
      "Connectivity computation...\n",
      "   Processing epoch 1 / 1 ...\n"
     ]
    },
    {
     "name": "stderr",
     "output_type": "stream",
     "text": [
      "/Users/jakubblaha/Documents/thesis/thesis-python/common.py:122: RuntimeWarning: There were no Annotations stored in <EpochsArray | 1 events (all good), 0 – 7.992 s (baseline off), ~134 kB, data loaded,\n",
      " '1': 1>, so metadata was not modified.\n",
      "  res = mne_connectivity.spectral_connectivity_time(\n",
      "/Users/jakubblaha/Documents/thesis/thesis-python/common.py:122: RuntimeWarning: There were no Annotations stored in <EpochsArray | 1 events (all good), 0 – 7.992 s (baseline off), ~134 kB, data loaded,\n",
      " '1': 1>, so metadata was not modified.\n",
      "  res = mne_connectivity.spectral_connectivity_time(\n"
     ]
    },
    {
     "name": "stdout",
     "output_type": "stream",
     "text": [
      "[Connectivity computation done]\n",
      "only using indices for lower-triangular matrix\n",
      "Connectivity computation...\n",
      "   Processing epoch 1 / 1 ...\n",
      "[Connectivity computation done]\n"
     ]
    },
    {
     "name": "stderr",
     "output_type": "stream",
     "text": [
      "/Users/jakubblaha/Documents/thesis/thesis-python/common.py:122: RuntimeWarning: There were no Annotations stored in <EpochsArray | 1 events (all good), 0 – 7.992 s (baseline off), ~134 kB, data loaded,\n",
      " '1': 1>, so metadata was not modified.\n",
      "  res = mne_connectivity.spectral_connectivity_time(\n"
     ]
    },
    {
     "name": "stdout",
     "output_type": "stream",
     "text": [
      "only using indices for lower-triangular matrix\n",
      "Connectivity computation...\n",
      "   Processing epoch 1 / 1 ...\n",
      "[Connectivity computation done]\n",
      "only using indices for lower-triangular matrix\n"
     ]
    },
    {
     "name": "stderr",
     "output_type": "stream",
     "text": [
      "/Users/jakubblaha/Documents/thesis/thesis-python/common.py:122: RuntimeWarning: There were no Annotations stored in <EpochsArray | 1 events (all good), 0 – 7.992 s (baseline off), ~134 kB, data loaded,\n",
      " '1': 1>, so metadata was not modified.\n",
      "  res = mne_connectivity.spectral_connectivity_time(\n",
      "/Users/jakubblaha/Documents/thesis/thesis-python/common.py:122: RuntimeWarning: There were no Annotations stored in <EpochsArray | 1 events (all good), 0 – 7.992 s (baseline off), ~134 kB, data loaded,\n",
      " '1': 1>, so metadata was not modified.\n",
      "  res = mne_connectivity.spectral_connectivity_time(\n"
     ]
    },
    {
     "name": "stdout",
     "output_type": "stream",
     "text": [
      "Connectivity computation...\n",
      "   Processing epoch 1 / 1 ...\n",
      "[Connectivity computation done]\n",
      "only using indices for lower-triangular matrix\n",
      "Connectivity computation...\n",
      "   Processing epoch 1 / 1 ...\n",
      "[Connectivity computation done]\n",
      "only using indices for lower-triangular matrix\n",
      "Connectivity computation...\n"
     ]
    },
    {
     "name": "stderr",
     "output_type": "stream",
     "text": [
      "/Users/jakubblaha/Documents/thesis/thesis-python/common.py:122: RuntimeWarning: There were no Annotations stored in <EpochsArray | 1 events (all good), 0 – 7.992 s (baseline off), ~134 kB, data loaded,\n",
      " '1': 1>, so metadata was not modified.\n",
      "  res = mne_connectivity.spectral_connectivity_time(\n",
      "/Users/jakubblaha/Documents/thesis/thesis-python/common.py:122: RuntimeWarning: There were no Annotations stored in <EpochsArray | 1 events (all good), 0 – 7.992 s (baseline off), ~134 kB, data loaded,\n",
      " '1': 1>, so metadata was not modified.\n",
      "  res = mne_connectivity.spectral_connectivity_time(\n"
     ]
    },
    {
     "name": "stdout",
     "output_type": "stream",
     "text": [
      "   Processing epoch 1 / 1 ...\n",
      "[Connectivity computation done]\n",
      "only using indices for lower-triangular matrix\n",
      "Connectivity computation...\n",
      "   Processing epoch 1 / 1 ...\n",
      "[Connectivity computation done]\n"
     ]
    },
    {
     "name": "stderr",
     "output_type": "stream",
     "text": [
      "/Users/jakubblaha/Documents/thesis/thesis-python/common.py:122: RuntimeWarning: There were no Annotations stored in <EpochsArray | 1 events (all good), 0 – 7.992 s (baseline off), ~134 kB, data loaded,\n",
      " '1': 1>, so metadata was not modified.\n",
      "  res = mne_connectivity.spectral_connectivity_time(\n"
     ]
    },
    {
     "name": "stdout",
     "output_type": "stream",
     "text": [
      "only using indices for lower-triangular matrix\n",
      "Connectivity computation...\n",
      "   Processing epoch 1 / 1 ...\n"
     ]
    },
    {
     "name": "stderr",
     "output_type": "stream",
     "text": [
      "/Users/jakubblaha/Documents/thesis/thesis-python/common.py:122: RuntimeWarning: There were no Annotations stored in <EpochsArray | 1 events (all good), 0 – 7.992 s (baseline off), ~134 kB, data loaded,\n",
      " '1': 1>, so metadata was not modified.\n",
      "  res = mne_connectivity.spectral_connectivity_time(\n"
     ]
    },
    {
     "name": "stdout",
     "output_type": "stream",
     "text": [
      "[Connectivity computation done]\n",
      "only using indices for lower-triangular matrix\n",
      "Connectivity computation...\n",
      "   Processing epoch 1 / 1 ...\n",
      "[Connectivity computation done]\n",
      "only using indices for lower-triangular matrix\n",
      "Connectivity computation...\n"
     ]
    },
    {
     "name": "stderr",
     "output_type": "stream",
     "text": [
      "/Users/jakubblaha/Documents/thesis/thesis-python/common.py:122: RuntimeWarning: There were no Annotations stored in <EpochsArray | 1 events (all good), 0 – 7.992 s (baseline off), ~134 kB, data loaded,\n",
      " '1': 1>, so metadata was not modified.\n",
      "  res = mne_connectivity.spectral_connectivity_time(\n",
      "/Users/jakubblaha/Documents/thesis/thesis-python/common.py:122: RuntimeWarning: There were no Annotations stored in <EpochsArray | 1 events (all good), 0 – 7.992 s (baseline off), ~134 kB, data loaded,\n",
      " '1': 1>, so metadata was not modified.\n",
      "  res = mne_connectivity.spectral_connectivity_time(\n"
     ]
    },
    {
     "name": "stdout",
     "output_type": "stream",
     "text": [
      "   Processing epoch 1 / 1 ...\n",
      "[Connectivity computation done]\n",
      "only using indices for lower-triangular matrix\n",
      "Connectivity computation...\n",
      "   Processing epoch 1 / 1 ...\n",
      "[Connectivity computation done]\n"
     ]
    },
    {
     "name": "stderr",
     "output_type": "stream",
     "text": [
      "/Users/jakubblaha/Documents/thesis/thesis-python/common.py:122: RuntimeWarning: There were no Annotations stored in <EpochsArray | 1 events (all good), 0 – 7.992 s (baseline off), ~134 kB, data loaded,\n",
      " '1': 1>, so metadata was not modified.\n",
      "  res = mne_connectivity.spectral_connectivity_time(\n"
     ]
    },
    {
     "name": "stdout",
     "output_type": "stream",
     "text": [
      "only using indices for lower-triangular matrix\n",
      "Connectivity computation...\n",
      "   Processing epoch 1 / 1 ...\n",
      "[Connectivity computation done]\n"
     ]
    },
    {
     "name": "stderr",
     "output_type": "stream",
     "text": [
      "/Users/jakubblaha/Documents/thesis/thesis-python/common.py:122: RuntimeWarning: There were no Annotations stored in <EpochsArray | 1 events (all good), 0 – 7.992 s (baseline off), ~134 kB, data loaded,\n",
      " '1': 1>, so metadata was not modified.\n",
      "  res = mne_connectivity.spectral_connectivity_time(\n"
     ]
    },
    {
     "name": "stdout",
     "output_type": "stream",
     "text": [
      "only using indices for lower-triangular matrix\n",
      "Connectivity computation...\n",
      "   Processing epoch 1 / 1 ...\n",
      "[Connectivity computation done]\n"
     ]
    },
    {
     "name": "stderr",
     "output_type": "stream",
     "text": [
      "/Users/jakubblaha/Documents/thesis/thesis-python/common.py:122: RuntimeWarning: There were no Annotations stored in <EpochsArray | 1 events (all good), 0 – 7.992 s (baseline off), ~134 kB, data loaded,\n",
      " '1': 1>, so metadata was not modified.\n",
      "  res = mne_connectivity.spectral_connectivity_time(\n"
     ]
    },
    {
     "name": "stdout",
     "output_type": "stream",
     "text": [
      "only using indices for lower-triangular matrix\n",
      "Connectivity computation...\n",
      "   Processing epoch 1 / 1 ...\n"
     ]
    },
    {
     "name": "stderr",
     "output_type": "stream",
     "text": [
      "/Users/jakubblaha/Documents/thesis/thesis-python/common.py:122: RuntimeWarning: There were no Annotations stored in <EpochsArray | 1 events (all good), 0 – 7.992 s (baseline off), ~134 kB, data loaded,\n",
      " '1': 1>, so metadata was not modified.\n",
      "  res = mne_connectivity.spectral_connectivity_time(\n"
     ]
    },
    {
     "name": "stdout",
     "output_type": "stream",
     "text": [
      "[Connectivity computation done]\n",
      "only using indices for lower-triangular matrix\n",
      "Connectivity computation...\n",
      "   Processing epoch 1 / 1 ...\n"
     ]
    },
    {
     "name": "stderr",
     "output_type": "stream",
     "text": [
      "/Users/jakubblaha/Documents/thesis/thesis-python/common.py:122: RuntimeWarning: There were no Annotations stored in <EpochsArray | 1 events (all good), 0 – 7.992 s (baseline off), ~134 kB, data loaded,\n",
      " '1': 1>, so metadata was not modified.\n",
      "  res = mne_connectivity.spectral_connectivity_time(\n"
     ]
    },
    {
     "name": "stdout",
     "output_type": "stream",
     "text": [
      "[Connectivity computation done]\n",
      "only using indices for lower-triangular matrix\n",
      "Connectivity computation...\n",
      "   Processing epoch 1 / 1 ...\n",
      "[Connectivity computation done]\n"
     ]
    },
    {
     "name": "stderr",
     "output_type": "stream",
     "text": [
      "/Users/jakubblaha/Documents/thesis/thesis-python/common.py:122: RuntimeWarning: There were no Annotations stored in <EpochsArray | 1 events (all good), 0 – 7.992 s (baseline off), ~134 kB, data loaded,\n",
      " '1': 1>, so metadata was not modified.\n",
      "  res = mne_connectivity.spectral_connectivity_time(\n"
     ]
    },
    {
     "name": "stdout",
     "output_type": "stream",
     "text": [
      "only using indices for lower-triangular matrix\n",
      "Connectivity computation...\n",
      "   Processing epoch 1 / 1 ...\n",
      "[Connectivity computation done]\n"
     ]
    },
    {
     "name": "stderr",
     "output_type": "stream",
     "text": [
      "/Users/jakubblaha/Documents/thesis/thesis-python/common.py:122: RuntimeWarning: There were no Annotations stored in <EpochsArray | 1 events (all good), 0 – 7.992 s (baseline off), ~134 kB, data loaded,\n",
      " '1': 1>, so metadata was not modified.\n",
      "  res = mne_connectivity.spectral_connectivity_time(\n"
     ]
    },
    {
     "name": "stdout",
     "output_type": "stream",
     "text": [
      "only using indices for lower-triangular matrix\n",
      "Connectivity computation...\n",
      "   Processing epoch 1 / 1 ...\n",
      "[Connectivity computation done]\n",
      "only using indices for lower-triangular matrix\n",
      "Connectivity computation...\n",
      "   Processing epoch 1 / 1 ...\n"
     ]
    },
    {
     "name": "stderr",
     "output_type": "stream",
     "text": [
      "/Users/jakubblaha/Documents/thesis/thesis-python/common.py:122: RuntimeWarning: There were no Annotations stored in <EpochsArray | 1 events (all good), 0 – 7.992 s (baseline off), ~134 kB, data loaded,\n",
      " '1': 1>, so metadata was not modified.\n",
      "  res = mne_connectivity.spectral_connectivity_time(\n",
      "/Users/jakubblaha/Documents/thesis/thesis-python/common.py:122: RuntimeWarning: There were no Annotations stored in <EpochsArray | 1 events (all good), 0 – 7.992 s (baseline off), ~134 kB, data loaded,\n",
      " '1': 1>, so metadata was not modified.\n",
      "  res = mne_connectivity.spectral_connectivity_time(\n"
     ]
    },
    {
     "name": "stdout",
     "output_type": "stream",
     "text": [
      "[Connectivity computation done]\n",
      "only using indices for lower-triangular matrix\n",
      "Connectivity computation...\n",
      "   Processing epoch 1 / 1 ...\n",
      "[Connectivity computation done]\n",
      "only using indices for lower-triangular matrix\n",
      "Connectivity computation...\n",
      "   Processing epoch 1 / 1 ...\n"
     ]
    },
    {
     "name": "stderr",
     "output_type": "stream",
     "text": [
      "/Users/jakubblaha/Documents/thesis/thesis-python/common.py:122: RuntimeWarning: There were no Annotations stored in <EpochsArray | 1 events (all good), 0 – 7.992 s (baseline off), ~134 kB, data loaded,\n",
      " '1': 1>, so metadata was not modified.\n",
      "  res = mne_connectivity.spectral_connectivity_time(\n",
      "/Users/jakubblaha/Documents/thesis/thesis-python/common.py:122: RuntimeWarning: There were no Annotations stored in <EpochsArray | 1 events (all good), 0 – 7.992 s (baseline off), ~134 kB, data loaded,\n",
      " '1': 1>, so metadata was not modified.\n",
      "  res = mne_connectivity.spectral_connectivity_time(\n"
     ]
    },
    {
     "name": "stdout",
     "output_type": "stream",
     "text": [
      "[Connectivity computation done]\n",
      "only using indices for lower-triangular matrix\n",
      "Connectivity computation...\n",
      "   Processing epoch 1 / 1 ...\n",
      "[Connectivity computation done]\n",
      "only using indices for lower-triangular matrix\n",
      "Connectivity computation...\n",
      "   Processing epoch 1 / 1 ...\n"
     ]
    },
    {
     "name": "stderr",
     "output_type": "stream",
     "text": [
      "/Users/jakubblaha/Documents/thesis/thesis-python/common.py:122: RuntimeWarning: There were no Annotations stored in <EpochsArray | 1 events (all good), 0 – 7.992 s (baseline off), ~134 kB, data loaded,\n",
      " '1': 1>, so metadata was not modified.\n",
      "  res = mne_connectivity.spectral_connectivity_time(\n",
      "/Users/jakubblaha/Documents/thesis/thesis-python/common.py:122: RuntimeWarning: There were no Annotations stored in <EpochsArray | 1 events (all good), 0 – 7.992 s (baseline off), ~134 kB, data loaded,\n",
      " '1': 1>, so metadata was not modified.\n",
      "  res = mne_connectivity.spectral_connectivity_time(\n"
     ]
    },
    {
     "name": "stdout",
     "output_type": "stream",
     "text": [
      "[Connectivity computation done]\n",
      "only using indices for lower-triangular matrix\n",
      "Connectivity computation...\n",
      "   Processing epoch 1 / 1 ...\n",
      "[Connectivity computation done]\n",
      "only using indices for lower-triangular matrix\n",
      "Connectivity computation...\n",
      "   Processing epoch 1 / 1 ...\n"
     ]
    },
    {
     "name": "stderr",
     "output_type": "stream",
     "text": [
      "/Users/jakubblaha/Documents/thesis/thesis-python/common.py:122: RuntimeWarning: There were no Annotations stored in <EpochsArray | 1 events (all good), 0 – 7.992 s (baseline off), ~134 kB, data loaded,\n",
      " '1': 1>, so metadata was not modified.\n",
      "  res = mne_connectivity.spectral_connectivity_time(\n",
      "/Users/jakubblaha/Documents/thesis/thesis-python/common.py:122: RuntimeWarning: There were no Annotations stored in <EpochsArray | 1 events (all good), 0 – 7.992 s (baseline off), ~134 kB, data loaded,\n",
      " '1': 1>, so metadata was not modified.\n",
      "  res = mne_connectivity.spectral_connectivity_time(\n"
     ]
    },
    {
     "name": "stdout",
     "output_type": "stream",
     "text": [
      "[Connectivity computation done]\n",
      "only using indices for lower-triangular matrix\n",
      "Connectivity computation...\n",
      "   Processing epoch 1 / 1 ...\n",
      "[Connectivity computation done]\n",
      "only using indices for lower-triangular matrix\n",
      "Connectivity computation...\n",
      "   Processing epoch 1 / 1 ...\n"
     ]
    },
    {
     "name": "stderr",
     "output_type": "stream",
     "text": [
      "/Users/jakubblaha/Documents/thesis/thesis-python/common.py:122: RuntimeWarning: There were no Annotations stored in <EpochsArray | 1 events (all good), 0 – 7.992 s (baseline off), ~134 kB, data loaded,\n",
      " '1': 1>, so metadata was not modified.\n",
      "  res = mne_connectivity.spectral_connectivity_time(\n",
      "/Users/jakubblaha/Documents/thesis/thesis-python/common.py:122: RuntimeWarning: There were no Annotations stored in <EpochsArray | 1 events (all good), 0 – 7.992 s (baseline off), ~134 kB, data loaded,\n",
      " '1': 1>, so metadata was not modified.\n",
      "  res = mne_connectivity.spectral_connectivity_time(\n"
     ]
    },
    {
     "name": "stdout",
     "output_type": "stream",
     "text": [
      "[Connectivity computation done]\n",
      "only using indices for lower-triangular matrix\n",
      "Connectivity computation...\n",
      "   Processing epoch 1 / 1 ...\n",
      "[Connectivity computation done]\n",
      "only using indices for lower-triangular matrix\n",
      "Connectivity computation...\n",
      "   Processing epoch 1 / 1 ...\n"
     ]
    },
    {
     "name": "stderr",
     "output_type": "stream",
     "text": [
      "/Users/jakubblaha/Documents/thesis/thesis-python/common.py:122: RuntimeWarning: There were no Annotations stored in <EpochsArray | 1 events (all good), 0 – 7.992 s (baseline off), ~134 kB, data loaded,\n",
      " '1': 1>, so metadata was not modified.\n",
      "  res = mne_connectivity.spectral_connectivity_time(\n",
      "/Users/jakubblaha/Documents/thesis/thesis-python/common.py:122: RuntimeWarning: There were no Annotations stored in <EpochsArray | 1 events (all good), 0 – 7.992 s (baseline off), ~134 kB, data loaded,\n",
      " '1': 1>, so metadata was not modified.\n",
      "  res = mne_connectivity.spectral_connectivity_time(\n"
     ]
    },
    {
     "name": "stdout",
     "output_type": "stream",
     "text": [
      "[Connectivity computation done]\n",
      "only using indices for lower-triangular matrix\n",
      "Connectivity computation...\n",
      "   Processing epoch 1 / 1 ...\n",
      "[Connectivity computation done]\n",
      "only using indices for lower-triangular matrix\n",
      "Connectivity computation...\n",
      "   Processing epoch 1 / 1 ...\n"
     ]
    },
    {
     "name": "stderr",
     "output_type": "stream",
     "text": [
      "/Users/jakubblaha/Documents/thesis/thesis-python/common.py:122: RuntimeWarning: There were no Annotations stored in <EpochsArray | 1 events (all good), 0 – 7.992 s (baseline off), ~134 kB, data loaded,\n",
      " '1': 1>, so metadata was not modified.\n",
      "  res = mne_connectivity.spectral_connectivity_time(\n",
      "/Users/jakubblaha/Documents/thesis/thesis-python/common.py:122: RuntimeWarning: There were no Annotations stored in <EpochsArray | 1 events (all good), 0 – 7.992 s (baseline off), ~134 kB, data loaded,\n",
      " '1': 1>, so metadata was not modified.\n",
      "  res = mne_connectivity.spectral_connectivity_time(\n"
     ]
    },
    {
     "name": "stdout",
     "output_type": "stream",
     "text": [
      "[Connectivity computation done]\n",
      "only using indices for lower-triangular matrix\n",
      "Connectivity computation...\n",
      "   Processing epoch 1 / 1 ...\n",
      "[Connectivity computation done]\n",
      "only using indices for lower-triangular matrix\n",
      "Connectivity computation...\n",
      "   Processing epoch 1 / 1 ...\n"
     ]
    },
    {
     "name": "stderr",
     "output_type": "stream",
     "text": [
      "/Users/jakubblaha/Documents/thesis/thesis-python/common.py:122: RuntimeWarning: There were no Annotations stored in <EpochsArray | 1 events (all good), 0 – 7.992 s (baseline off), ~134 kB, data loaded,\n",
      " '1': 1>, so metadata was not modified.\n",
      "  res = mne_connectivity.spectral_connectivity_time(\n",
      "/Users/jakubblaha/Documents/thesis/thesis-python/common.py:122: RuntimeWarning: There were no Annotations stored in <EpochsArray | 1 events (all good), 0 – 7.992 s (baseline off), ~134 kB, data loaded,\n",
      " '1': 1>, so metadata was not modified.\n",
      "  res = mne_connectivity.spectral_connectivity_time(\n"
     ]
    },
    {
     "name": "stdout",
     "output_type": "stream",
     "text": [
      "[Connectivity computation done]\n",
      "only using indices for lower-triangular matrix\n",
      "Connectivity computation...\n",
      "   Processing epoch 1 / 1 ...\n",
      "[Connectivity computation done]\n",
      "only using indices for lower-triangular matrix\n",
      "Connectivity computation...\n",
      "   Processing epoch 1 / 1 ...\n"
     ]
    },
    {
     "name": "stderr",
     "output_type": "stream",
     "text": [
      "/Users/jakubblaha/Documents/thesis/thesis-python/common.py:122: RuntimeWarning: There were no Annotations stored in <EpochsArray | 1 events (all good), 0 – 7.992 s (baseline off), ~134 kB, data loaded,\n",
      " '1': 1>, so metadata was not modified.\n",
      "  res = mne_connectivity.spectral_connectivity_time(\n",
      "/Users/jakubblaha/Documents/thesis/thesis-python/common.py:122: RuntimeWarning: There were no Annotations stored in <EpochsArray | 1 events (all good), 0 – 7.992 s (baseline off), ~134 kB, data loaded,\n",
      " '1': 1>, so metadata was not modified.\n",
      "  res = mne_connectivity.spectral_connectivity_time(\n"
     ]
    },
    {
     "name": "stdout",
     "output_type": "stream",
     "text": [
      "[Connectivity computation done]\n",
      "only using indices for lower-triangular matrix\n",
      "Connectivity computation...\n",
      "   Processing epoch 1 / 1 ...\n",
      "[Connectivity computation done]\n",
      "only using indices for lower-triangular matrix\n",
      "Connectivity computation...\n",
      "   Processing epoch 1 / 1 ...\n"
     ]
    },
    {
     "name": "stderr",
     "output_type": "stream",
     "text": [
      "/Users/jakubblaha/Documents/thesis/thesis-python/common.py:122: RuntimeWarning: There were no Annotations stored in <EpochsArray | 1 events (all good), 0 – 7.992 s (baseline off), ~134 kB, data loaded,\n",
      " '1': 1>, so metadata was not modified.\n",
      "  res = mne_connectivity.spectral_connectivity_time(\n",
      "/Users/jakubblaha/Documents/thesis/thesis-python/common.py:122: RuntimeWarning: There were no Annotations stored in <EpochsArray | 1 events (all good), 0 – 7.992 s (baseline off), ~134 kB, data loaded,\n",
      " '1': 1>, so metadata was not modified.\n",
      "  res = mne_connectivity.spectral_connectivity_time(\n"
     ]
    },
    {
     "name": "stdout",
     "output_type": "stream",
     "text": [
      "[Connectivity computation done]\n",
      "only using indices for lower-triangular matrix\n",
      "Connectivity computation...\n",
      "   Processing epoch 1 / 1 ...\n",
      "[Connectivity computation done]\n",
      "only using indices for lower-triangular matrix\n",
      "Connectivity computation...\n",
      "   Processing epoch 1 / 1 ...\n"
     ]
    },
    {
     "name": "stderr",
     "output_type": "stream",
     "text": [
      "/Users/jakubblaha/Documents/thesis/thesis-python/common.py:122: RuntimeWarning: There were no Annotations stored in <EpochsArray | 1 events (all good), 0 – 7.992 s (baseline off), ~134 kB, data loaded,\n",
      " '1': 1>, so metadata was not modified.\n",
      "  res = mne_connectivity.spectral_connectivity_time(\n",
      "/Users/jakubblaha/Documents/thesis/thesis-python/common.py:122: RuntimeWarning: There were no Annotations stored in <EpochsArray | 1 events (all good), 0 – 7.992 s (baseline off), ~134 kB, data loaded,\n",
      " '1': 1>, so metadata was not modified.\n",
      "  res = mne_connectivity.spectral_connectivity_time(\n"
     ]
    },
    {
     "name": "stdout",
     "output_type": "stream",
     "text": [
      "[Connectivity computation done]\n",
      "only using indices for lower-triangular matrix\n",
      "Connectivity computation...\n",
      "   Processing epoch 1 / 1 ...\n",
      "[Connectivity computation done]\n"
     ]
    },
    {
     "name": "stderr",
     "output_type": "stream",
     "text": [
      "/Users/jakubblaha/Documents/thesis/thesis-python/common.py:122: RuntimeWarning: There were no Annotations stored in <EpochsArray | 1 events (all good), 0 – 7.992 s (baseline off), ~134 kB, data loaded,\n",
      " '1': 1>, so metadata was not modified.\n",
      "  res = mne_connectivity.spectral_connectivity_time(\n"
     ]
    },
    {
     "name": "stdout",
     "output_type": "stream",
     "text": [
      "only using indices for lower-triangular matrix\n",
      "Connectivity computation...\n",
      "   Processing epoch 1 / 1 ...\n",
      "[Connectivity computation done]\n",
      "only using indices for lower-triangular matrix\n",
      "Connectivity computation...\n",
      "   Processing epoch 1 / 1 ...\n"
     ]
    },
    {
     "name": "stderr",
     "output_type": "stream",
     "text": [
      "/Users/jakubblaha/Documents/thesis/thesis-python/common.py:122: RuntimeWarning: There were no Annotations stored in <EpochsArray | 1 events (all good), 0 – 7.992 s (baseline off), ~134 kB, data loaded,\n",
      " '1': 1>, so metadata was not modified.\n",
      "  res = mne_connectivity.spectral_connectivity_time(\n",
      "/Users/jakubblaha/Documents/thesis/thesis-python/common.py:122: RuntimeWarning: There were no Annotations stored in <EpochsArray | 1 events (all good), 0 – 7.992 s (baseline off), ~134 kB, data loaded,\n",
      " '1': 1>, so metadata was not modified.\n",
      "  res = mne_connectivity.spectral_connectivity_time(\n"
     ]
    },
    {
     "name": "stdout",
     "output_type": "stream",
     "text": [
      "[Connectivity computation done]\n",
      "only using indices for lower-triangular matrix\n",
      "Connectivity computation...\n",
      "   Processing epoch 1 / 1 ...\n",
      "[Connectivity computation done]\n",
      "only using indices for lower-triangular matrix\n"
     ]
    },
    {
     "name": "stderr",
     "output_type": "stream",
     "text": [
      "/Users/jakubblaha/Documents/thesis/thesis-python/common.py:122: RuntimeWarning: There were no Annotations stored in <EpochsArray | 1 events (all good), 0 – 7.992 s (baseline off), ~134 kB, data loaded,\n",
      " '1': 1>, so metadata was not modified.\n",
      "  res = mne_connectivity.spectral_connectivity_time(\n",
      "/Users/jakubblaha/Documents/thesis/thesis-python/common.py:122: RuntimeWarning: There were no Annotations stored in <EpochsArray | 1 events (all good), 0 – 7.992 s (baseline off), ~134 kB, data loaded,\n",
      " '1': 1>, so metadata was not modified.\n",
      "  res = mne_connectivity.spectral_connectivity_time(\n"
     ]
    },
    {
     "name": "stdout",
     "output_type": "stream",
     "text": [
      "Connectivity computation...\n",
      "   Processing epoch 1 / 1 ...\n",
      "[Connectivity computation done]\n",
      "only using indices for lower-triangular matrix\n",
      "Connectivity computation...\n",
      "   Processing epoch 1 / 1 ...\n",
      "[Connectivity computation done]\n",
      "only using indices for lower-triangular matrix\n",
      "Connectivity computation...\n",
      "   Processing epoch 1 / 1 ...\n"
     ]
    },
    {
     "name": "stderr",
     "output_type": "stream",
     "text": [
      "/Users/jakubblaha/Documents/thesis/thesis-python/common.py:122: RuntimeWarning: There were no Annotations stored in <EpochsArray | 1 events (all good), 0 – 7.992 s (baseline off), ~134 kB, data loaded,\n",
      " '1': 1>, so metadata was not modified.\n",
      "  res = mne_connectivity.spectral_connectivity_time(\n",
      "/Users/jakubblaha/Documents/thesis/thesis-python/common.py:122: RuntimeWarning: There were no Annotations stored in <EpochsArray | 1 events (all good), 0 – 7.992 s (baseline off), ~134 kB, data loaded,\n",
      " '1': 1>, so metadata was not modified.\n",
      "  res = mne_connectivity.spectral_connectivity_time(\n"
     ]
    },
    {
     "name": "stdout",
     "output_type": "stream",
     "text": [
      "[Connectivity computation done]\n",
      "only using indices for lower-triangular matrix\n",
      "Connectivity computation...\n",
      "   Processing epoch 1 / 1 ...\n",
      "[Connectivity computation done]\n",
      "only using indices for lower-triangular matrix\n",
      "Connectivity computation...\n",
      "   Processing epoch 1 / 1 ...\n"
     ]
    },
    {
     "name": "stderr",
     "output_type": "stream",
     "text": [
      "/Users/jakubblaha/Documents/thesis/thesis-python/common.py:122: RuntimeWarning: There were no Annotations stored in <EpochsArray | 1 events (all good), 0 – 7.992 s (baseline off), ~134 kB, data loaded,\n",
      " '1': 1>, so metadata was not modified.\n",
      "  res = mne_connectivity.spectral_connectivity_time(\n",
      "/Users/jakubblaha/Documents/thesis/thesis-python/common.py:122: RuntimeWarning: There were no Annotations stored in <EpochsArray | 1 events (all good), 0 – 7.992 s (baseline off), ~134 kB, data loaded,\n",
      " '1': 1>, so metadata was not modified.\n",
      "  res = mne_connectivity.spectral_connectivity_time(\n"
     ]
    },
    {
     "name": "stdout",
     "output_type": "stream",
     "text": [
      "[Connectivity computation done]\n",
      "only using indices for lower-triangular matrix\n",
      "Connectivity computation...\n",
      "   Processing epoch 1 / 1 ...\n",
      "[Connectivity computation done]\n",
      "only using indices for lower-triangular matrix\n",
      "Connectivity computation...\n",
      "   Processing epoch 1 / 1 ...\n"
     ]
    },
    {
     "name": "stderr",
     "output_type": "stream",
     "text": [
      "/Users/jakubblaha/Documents/thesis/thesis-python/common.py:122: RuntimeWarning: There were no Annotations stored in <EpochsArray | 1 events (all good), 0 – 7.992 s (baseline off), ~134 kB, data loaded,\n",
      " '1': 1>, so metadata was not modified.\n",
      "  res = mne_connectivity.spectral_connectivity_time(\n",
      "/Users/jakubblaha/Documents/thesis/thesis-python/common.py:122: RuntimeWarning: There were no Annotations stored in <EpochsArray | 1 events (all good), 0 – 7.992 s (baseline off), ~134 kB, data loaded,\n",
      " '1': 1>, so metadata was not modified.\n",
      "  res = mne_connectivity.spectral_connectivity_time(\n"
     ]
    },
    {
     "name": "stdout",
     "output_type": "stream",
     "text": [
      "[Connectivity computation done]\n",
      "only using indices for lower-triangular matrix\n",
      "Connectivity computation...\n",
      "   Processing epoch 1 / 1 ...\n",
      "[Connectivity computation done]\n",
      "only using indices for lower-triangular matrix\n",
      "Connectivity computation...\n"
     ]
    },
    {
     "name": "stderr",
     "output_type": "stream",
     "text": [
      "/Users/jakubblaha/Documents/thesis/thesis-python/common.py:122: RuntimeWarning: There were no Annotations stored in <EpochsArray | 1 events (all good), 0 – 7.992 s (baseline off), ~134 kB, data loaded,\n",
      " '1': 1>, so metadata was not modified.\n",
      "  res = mne_connectivity.spectral_connectivity_time(\n",
      "/Users/jakubblaha/Documents/thesis/thesis-python/common.py:122: RuntimeWarning: There were no Annotations stored in <EpochsArray | 1 events (all good), 0 – 7.992 s (baseline off), ~134 kB, data loaded,\n",
      " '1': 1>, so metadata was not modified.\n",
      "  res = mne_connectivity.spectral_connectivity_time(\n"
     ]
    },
    {
     "name": "stdout",
     "output_type": "stream",
     "text": [
      "   Processing epoch 1 / 1 ...\n",
      "[Connectivity computation done]\n",
      "only using indices for lower-triangular matrix\n",
      "Connectivity computation...\n",
      "   Processing epoch 1 / 1 ...\n",
      "[Connectivity computation done]\n",
      "only using indices for lower-triangular matrix\n",
      "Connectivity computation...\n",
      "   Processing epoch 1 / 1 ...\n"
     ]
    },
    {
     "name": "stderr",
     "output_type": "stream",
     "text": [
      "/Users/jakubblaha/Documents/thesis/thesis-python/common.py:122: RuntimeWarning: There were no Annotations stored in <EpochsArray | 1 events (all good), 0 – 7.992 s (baseline off), ~134 kB, data loaded,\n",
      " '1': 1>, so metadata was not modified.\n",
      "  res = mne_connectivity.spectral_connectivity_time(\n",
      "/Users/jakubblaha/Documents/thesis/thesis-python/common.py:122: RuntimeWarning: There were no Annotations stored in <EpochsArray | 1 events (all good), 0 – 7.992 s (baseline off), ~134 kB, data loaded,\n",
      " '1': 1>, so metadata was not modified.\n",
      "  res = mne_connectivity.spectral_connectivity_time(\n"
     ]
    },
    {
     "name": "stdout",
     "output_type": "stream",
     "text": [
      "[Connectivity computation done]\n",
      "only using indices for lower-triangular matrix\n",
      "Connectivity computation...\n",
      "   Processing epoch 1 / 1 ...\n",
      "[Connectivity computation done]\n",
      "only using indices for lower-triangular matrix\n",
      "Connectivity computation...\n",
      "   Processing epoch 1 / 1 ...\n"
     ]
    },
    {
     "name": "stderr",
     "output_type": "stream",
     "text": [
      "/Users/jakubblaha/Documents/thesis/thesis-python/common.py:122: RuntimeWarning: There were no Annotations stored in <EpochsArray | 1 events (all good), 0 – 7.992 s (baseline off), ~134 kB, data loaded,\n",
      " '1': 1>, so metadata was not modified.\n",
      "  res = mne_connectivity.spectral_connectivity_time(\n",
      "/Users/jakubblaha/Documents/thesis/thesis-python/common.py:122: RuntimeWarning: There were no Annotations stored in <EpochsArray | 1 events (all good), 0 – 7.992 s (baseline off), ~134 kB, data loaded,\n",
      " '1': 1>, so metadata was not modified.\n",
      "  res = mne_connectivity.spectral_connectivity_time(\n"
     ]
    },
    {
     "name": "stdout",
     "output_type": "stream",
     "text": [
      "[Connectivity computation done]\n",
      "only using indices for lower-triangular matrix\n",
      "Connectivity computation...\n",
      "   Processing epoch 1 / 1 ...\n",
      "[Connectivity computation done]\n",
      "only using indices for lower-triangular matrix\n",
      "Connectivity computation...\n",
      "   Processing epoch 1 / 1 ...\n"
     ]
    },
    {
     "name": "stderr",
     "output_type": "stream",
     "text": [
      "/Users/jakubblaha/Documents/thesis/thesis-python/common.py:122: RuntimeWarning: There were no Annotations stored in <EpochsArray | 1 events (all good), 0 – 7.992 s (baseline off), ~134 kB, data loaded,\n",
      " '1': 1>, so metadata was not modified.\n",
      "  res = mne_connectivity.spectral_connectivity_time(\n",
      "/Users/jakubblaha/Documents/thesis/thesis-python/common.py:122: RuntimeWarning: There were no Annotations stored in <EpochsArray | 1 events (all good), 0 – 7.992 s (baseline off), ~134 kB, data loaded,\n",
      " '1': 1>, so metadata was not modified.\n",
      "  res = mne_connectivity.spectral_connectivity_time(\n"
     ]
    },
    {
     "name": "stdout",
     "output_type": "stream",
     "text": [
      "[Connectivity computation done]\n",
      "only using indices for lower-triangular matrix\n",
      "Connectivity computation...\n",
      "   Processing epoch 1 / 1 ...\n",
      "[Connectivity computation done]\n"
     ]
    },
    {
     "name": "stderr",
     "output_type": "stream",
     "text": [
      "/Users/jakubblaha/Documents/thesis/thesis-python/common.py:122: RuntimeWarning: There were no Annotations stored in <EpochsArray | 1 events (all good), 0 – 7.992 s (baseline off), ~134 kB, data loaded,\n",
      " '1': 1>, so metadata was not modified.\n",
      "  res = mne_connectivity.spectral_connectivity_time(\n"
     ]
    },
    {
     "name": "stdout",
     "output_type": "stream",
     "text": [
      "only using indices for lower-triangular matrix\n",
      "Connectivity computation...\n",
      "   Processing epoch 1 / 1 ...\n",
      "[Connectivity computation done]\n"
     ]
    },
    {
     "name": "stderr",
     "output_type": "stream",
     "text": [
      "/Users/jakubblaha/Documents/thesis/thesis-python/common.py:122: RuntimeWarning: There were no Annotations stored in <EpochsArray | 1 events (all good), 0 – 7.992 s (baseline off), ~134 kB, data loaded,\n",
      " '1': 1>, so metadata was not modified.\n",
      "  res = mne_connectivity.spectral_connectivity_time(\n"
     ]
    },
    {
     "name": "stdout",
     "output_type": "stream",
     "text": [
      "only using indices for lower-triangular matrix\n",
      "Connectivity computation...\n",
      "   Processing epoch 1 / 1 ...\n",
      "[Connectivity computation done]\n",
      "only using indices for lower-triangular matrix\n",
      "Connectivity computation...\n",
      "   Processing epoch 1 / 1 ...\n"
     ]
    },
    {
     "name": "stderr",
     "output_type": "stream",
     "text": [
      "/Users/jakubblaha/Documents/thesis/thesis-python/common.py:122: RuntimeWarning: There were no Annotations stored in <EpochsArray | 1 events (all good), 0 – 7.992 s (baseline off), ~134 kB, data loaded,\n",
      " '1': 1>, so metadata was not modified.\n",
      "  res = mne_connectivity.spectral_connectivity_time(\n",
      "/Users/jakubblaha/Documents/thesis/thesis-python/common.py:122: RuntimeWarning: There were no Annotations stored in <EpochsArray | 1 events (all good), 0 – 7.992 s (baseline off), ~134 kB, data loaded,\n",
      " '1': 1>, so metadata was not modified.\n",
      "  res = mne_connectivity.spectral_connectivity_time(\n"
     ]
    },
    {
     "name": "stdout",
     "output_type": "stream",
     "text": [
      "[Connectivity computation done]\n",
      "only using indices for lower-triangular matrix\n",
      "Connectivity computation...\n",
      "   Processing epoch 1 / 1 ...\n",
      "[Connectivity computation done]\n",
      "only using indices for lower-triangular matrix\n",
      "Connectivity computation...\n",
      "   Processing epoch 1 / 1 ...\n"
     ]
    },
    {
     "name": "stderr",
     "output_type": "stream",
     "text": [
      "/Users/jakubblaha/Documents/thesis/thesis-python/common.py:122: RuntimeWarning: There were no Annotations stored in <EpochsArray | 1 events (all good), 0 – 7.992 s (baseline off), ~134 kB, data loaded,\n",
      " '1': 1>, so metadata was not modified.\n",
      "  res = mne_connectivity.spectral_connectivity_time(\n",
      "/Users/jakubblaha/Documents/thesis/thesis-python/common.py:122: RuntimeWarning: There were no Annotations stored in <EpochsArray | 1 events (all good), 0 – 7.992 s (baseline off), ~134 kB, data loaded,\n",
      " '1': 1>, so metadata was not modified.\n",
      "  res = mne_connectivity.spectral_connectivity_time(\n"
     ]
    },
    {
     "name": "stdout",
     "output_type": "stream",
     "text": [
      "[Connectivity computation done]\n",
      "only using indices for lower-triangular matrix\n",
      "Connectivity computation...\n",
      "   Processing epoch 1 / 1 ...\n",
      "[Connectivity computation done]\n",
      "only using indices for lower-triangular matrix\n",
      "Connectivity computation...\n",
      "   Processing epoch 1 / 1 ...\n"
     ]
    },
    {
     "name": "stderr",
     "output_type": "stream",
     "text": [
      "/Users/jakubblaha/Documents/thesis/thesis-python/common.py:122: RuntimeWarning: There were no Annotations stored in <EpochsArray | 1 events (all good), 0 – 7.992 s (baseline off), ~134 kB, data loaded,\n",
      " '1': 1>, so metadata was not modified.\n",
      "  res = mne_connectivity.spectral_connectivity_time(\n",
      "/Users/jakubblaha/Documents/thesis/thesis-python/common.py:122: RuntimeWarning: There were no Annotations stored in <EpochsArray | 1 events (all good), 0 – 7.992 s (baseline off), ~134 kB, data loaded,\n",
      " '1': 1>, so metadata was not modified.\n",
      "  res = mne_connectivity.spectral_connectivity_time(\n"
     ]
    },
    {
     "name": "stdout",
     "output_type": "stream",
     "text": [
      "[Connectivity computation done]\n",
      "only using indices for lower-triangular matrix\n",
      "Connectivity computation...\n",
      "   Processing epoch 1 / 1 ...\n",
      "[Connectivity computation done]\n"
     ]
    },
    {
     "name": "stderr",
     "output_type": "stream",
     "text": [
      "/Users/jakubblaha/Documents/thesis/thesis-python/common.py:122: RuntimeWarning: There were no Annotations stored in <EpochsArray | 1 events (all good), 0 – 7.992 s (baseline off), ~134 kB, data loaded,\n",
      " '1': 1>, so metadata was not modified.\n",
      "  res = mne_connectivity.spectral_connectivity_time(\n"
     ]
    },
    {
     "name": "stdout",
     "output_type": "stream",
     "text": [
      "only using indices for lower-triangular matrix\n",
      "Connectivity computation...\n",
      "   Processing epoch 1 / 1 ...\n",
      "[Connectivity computation done]\n"
     ]
    },
    {
     "name": "stderr",
     "output_type": "stream",
     "text": [
      "/Users/jakubblaha/Documents/thesis/thesis-python/common.py:122: RuntimeWarning: There were no Annotations stored in <EpochsArray | 1 events (all good), 0 – 7.992 s (baseline off), ~134 kB, data loaded,\n",
      " '1': 1>, so metadata was not modified.\n",
      "  res = mne_connectivity.spectral_connectivity_time(\n"
     ]
    },
    {
     "name": "stdout",
     "output_type": "stream",
     "text": [
      "only using indices for lower-triangular matrix\n",
      "Connectivity computation...\n",
      "   Processing epoch 1 / 1 ...\n",
      "[Connectivity computation done]\n"
     ]
    },
    {
     "name": "stderr",
     "output_type": "stream",
     "text": [
      "/Users/jakubblaha/Documents/thesis/thesis-python/common.py:122: RuntimeWarning: There were no Annotations stored in <EpochsArray | 1 events (all good), 0 – 7.992 s (baseline off), ~134 kB, data loaded,\n",
      " '1': 1>, so metadata was not modified.\n",
      "  res = mne_connectivity.spectral_connectivity_time(\n"
     ]
    },
    {
     "name": "stdout",
     "output_type": "stream",
     "text": [
      "only using indices for lower-triangular matrix\n",
      "Connectivity computation...\n",
      "   Processing epoch 1 / 1 ...\n",
      "[Connectivity computation done]\n",
      "only using indices for lower-triangular matrix\n",
      "Connectivity computation...\n",
      "   Processing epoch 1 / 1 ...\n"
     ]
    },
    {
     "name": "stderr",
     "output_type": "stream",
     "text": [
      "/Users/jakubblaha/Documents/thesis/thesis-python/common.py:122: RuntimeWarning: There were no Annotations stored in <EpochsArray | 1 events (all good), 0 – 7.992 s (baseline off), ~134 kB, data loaded,\n",
      " '1': 1>, so metadata was not modified.\n",
      "  res = mne_connectivity.spectral_connectivity_time(\n",
      "/Users/jakubblaha/Documents/thesis/thesis-python/common.py:122: RuntimeWarning: There were no Annotations stored in <EpochsArray | 1 events (all good), 0 – 7.992 s (baseline off), ~134 kB, data loaded,\n",
      " '1': 1>, so metadata was not modified.\n",
      "  res = mne_connectivity.spectral_connectivity_time(\n"
     ]
    },
    {
     "name": "stdout",
     "output_type": "stream",
     "text": [
      "[Connectivity computation done]\n",
      "only using indices for lower-triangular matrix\n",
      "Connectivity computation...\n",
      "   Processing epoch 1 / 1 ...\n",
      "[Connectivity computation done]\n"
     ]
    },
    {
     "name": "stderr",
     "output_type": "stream",
     "text": [
      "/Users/jakubblaha/Documents/thesis/thesis-python/common.py:122: RuntimeWarning: There were no Annotations stored in <EpochsArray | 1 events (all good), 0 – 7.992 s (baseline off), ~134 kB, data loaded,\n",
      " '1': 1>, so metadata was not modified.\n",
      "  res = mne_connectivity.spectral_connectivity_time(\n"
     ]
    },
    {
     "name": "stdout",
     "output_type": "stream",
     "text": [
      "only using indices for lower-triangular matrix\n",
      "Connectivity computation...\n",
      "   Processing epoch 1 / 1 ...\n",
      "[Connectivity computation done]\n",
      "only using indices for lower-triangular matrix\n",
      "Connectivity computation...\n",
      "   Processing epoch 1 / 1 ...\n"
     ]
    },
    {
     "name": "stderr",
     "output_type": "stream",
     "text": [
      "/Users/jakubblaha/Documents/thesis/thesis-python/common.py:122: RuntimeWarning: There were no Annotations stored in <EpochsArray | 1 events (all good), 0 – 7.992 s (baseline off), ~134 kB, data loaded,\n",
      " '1': 1>, so metadata was not modified.\n",
      "  res = mne_connectivity.spectral_connectivity_time(\n",
      "/Users/jakubblaha/Documents/thesis/thesis-python/common.py:122: RuntimeWarning: There were no Annotations stored in <EpochsArray | 1 events (all good), 0 – 7.992 s (baseline off), ~134 kB, data loaded,\n",
      " '1': 1>, so metadata was not modified.\n",
      "  res = mne_connectivity.spectral_connectivity_time(\n"
     ]
    },
    {
     "name": "stdout",
     "output_type": "stream",
     "text": [
      "[Connectivity computation done]\n",
      "only using indices for lower-triangular matrix\n",
      "Connectivity computation...\n",
      "   Processing epoch 1 / 1 ...\n",
      "[Connectivity computation done]\n",
      "only using indices for lower-triangular matrix\n",
      "Connectivity computation...\n",
      "   Processing epoch 1 / 1 ...\n"
     ]
    },
    {
     "name": "stderr",
     "output_type": "stream",
     "text": [
      "/Users/jakubblaha/Documents/thesis/thesis-python/common.py:122: RuntimeWarning: There were no Annotations stored in <EpochsArray | 1 events (all good), 0 – 7.992 s (baseline off), ~134 kB, data loaded,\n",
      " '1': 1>, so metadata was not modified.\n",
      "  res = mne_connectivity.spectral_connectivity_time(\n",
      "/Users/jakubblaha/Documents/thesis/thesis-python/common.py:122: RuntimeWarning: There were no Annotations stored in <EpochsArray | 1 events (all good), 0 – 7.992 s (baseline off), ~134 kB, data loaded,\n",
      " '1': 1>, so metadata was not modified.\n",
      "  res = mne_connectivity.spectral_connectivity_time(\n"
     ]
    },
    {
     "name": "stdout",
     "output_type": "stream",
     "text": [
      "[Connectivity computation done]\n",
      "only using indices for lower-triangular matrix\n",
      "Connectivity computation...\n",
      "   Processing epoch 1 / 1 ...\n",
      "[Connectivity computation done]\n"
     ]
    },
    {
     "name": "stderr",
     "output_type": "stream",
     "text": [
      "/Users/jakubblaha/Documents/thesis/thesis-python/common.py:122: RuntimeWarning: There were no Annotations stored in <EpochsArray | 1 events (all good), 0 – 7.992 s (baseline off), ~134 kB, data loaded,\n",
      " '1': 1>, so metadata was not modified.\n",
      "  res = mne_connectivity.spectral_connectivity_time(\n"
     ]
    },
    {
     "name": "stdout",
     "output_type": "stream",
     "text": [
      "only using indices for lower-triangular matrix\n",
      "Connectivity computation...\n",
      "   Processing epoch 1 / 1 ...\n",
      "[Connectivity computation done]\n",
      "only using indices for lower-triangular matrix\n",
      "Connectivity computation...\n"
     ]
    },
    {
     "name": "stderr",
     "output_type": "stream",
     "text": [
      "/Users/jakubblaha/Documents/thesis/thesis-python/common.py:122: RuntimeWarning: There were no Annotations stored in <EpochsArray | 1 events (all good), 0 – 7.992 s (baseline off), ~134 kB, data loaded,\n",
      " '1': 1>, so metadata was not modified.\n",
      "  res = mne_connectivity.spectral_connectivity_time(\n",
      "/Users/jakubblaha/Documents/thesis/thesis-python/common.py:122: RuntimeWarning: There were no Annotations stored in <EpochsArray | 1 events (all good), 0 – 7.992 s (baseline off), ~134 kB, data loaded,\n",
      " '1': 1>, so metadata was not modified.\n",
      "  res = mne_connectivity.spectral_connectivity_time(\n"
     ]
    },
    {
     "name": "stdout",
     "output_type": "stream",
     "text": [
      "   Processing epoch 1 / 1 ...\n",
      "[Connectivity computation done]\n",
      "only using indices for lower-triangular matrix\n",
      "Connectivity computation...\n",
      "   Processing epoch 1 / 1 ...\n",
      "[Connectivity computation done]\n",
      "only using indices for lower-triangular matrix\n"
     ]
    },
    {
     "name": "stderr",
     "output_type": "stream",
     "text": [
      "/Users/jakubblaha/Documents/thesis/thesis-python/common.py:122: RuntimeWarning: There were no Annotations stored in <EpochsArray | 1 events (all good), 0 – 7.992 s (baseline off), ~134 kB, data loaded,\n",
      " '1': 1>, so metadata was not modified.\n",
      "  res = mne_connectivity.spectral_connectivity_time(\n",
      "/Users/jakubblaha/Documents/thesis/thesis-python/common.py:122: RuntimeWarning: There were no Annotations stored in <EpochsArray | 1 events (all good), 0 – 7.992 s (baseline off), ~134 kB, data loaded,\n",
      " '1': 1>, so metadata was not modified.\n",
      "  res = mne_connectivity.spectral_connectivity_time(\n"
     ]
    },
    {
     "name": "stdout",
     "output_type": "stream",
     "text": [
      "Connectivity computation...\n",
      "   Processing epoch 1 / 1 ...\n",
      "[Connectivity computation done]\n",
      "only using indices for lower-triangular matrix\n",
      "Connectivity computation...\n",
      "   Processing epoch 1 / 1 ...\n",
      "[Connectivity computation done]\n",
      "only using indices for lower-triangular matrix\n"
     ]
    },
    {
     "name": "stderr",
     "output_type": "stream",
     "text": [
      "/Users/jakubblaha/Documents/thesis/thesis-python/common.py:122: RuntimeWarning: There were no Annotations stored in <EpochsArray | 1 events (all good), 0 – 7.992 s (baseline off), ~134 kB, data loaded,\n",
      " '1': 1>, so metadata was not modified.\n",
      "  res = mne_connectivity.spectral_connectivity_time(\n",
      "/Users/jakubblaha/Documents/thesis/thesis-python/common.py:122: RuntimeWarning: There were no Annotations stored in <EpochsArray | 1 events (all good), 0 – 7.992 s (baseline off), ~134 kB, data loaded,\n",
      " '1': 1>, so metadata was not modified.\n",
      "  res = mne_connectivity.spectral_connectivity_time(\n"
     ]
    },
    {
     "name": "stdout",
     "output_type": "stream",
     "text": [
      "Connectivity computation...\n",
      "   Processing epoch 1 / 1 ...\n",
      "[Connectivity computation done]\n",
      "only using indices for lower-triangular matrix\n",
      "Connectivity computation...\n",
      "   Processing epoch 1 / 1 ...\n"
     ]
    },
    {
     "name": "stderr",
     "output_type": "stream",
     "text": [
      "/Users/jakubblaha/Documents/thesis/thesis-python/common.py:122: RuntimeWarning: There were no Annotations stored in <EpochsArray | 1 events (all good), 0 – 7.992 s (baseline off), ~134 kB, data loaded,\n",
      " '1': 1>, so metadata was not modified.\n",
      "  res = mne_connectivity.spectral_connectivity_time(\n"
     ]
    },
    {
     "name": "stdout",
     "output_type": "stream",
     "text": [
      "[Connectivity computation done]\n",
      "only using indices for lower-triangular matrix\n",
      "Connectivity computation...\n",
      "   Processing epoch 1 / 1 ...\n",
      "[Connectivity computation done]\n"
     ]
    },
    {
     "name": "stderr",
     "output_type": "stream",
     "text": [
      "/Users/jakubblaha/Documents/thesis/thesis-python/common.py:122: RuntimeWarning: There were no Annotations stored in <EpochsArray | 1 events (all good), 0 – 7.992 s (baseline off), ~134 kB, data loaded,\n",
      " '1': 1>, so metadata was not modified.\n",
      "  res = mne_connectivity.spectral_connectivity_time(\n"
     ]
    },
    {
     "name": "stdout",
     "output_type": "stream",
     "text": [
      "only using indices for lower-triangular matrix\n",
      "Connectivity computation...\n",
      "   Processing epoch 1 / 1 ...\n",
      "[Connectivity computation done]\n"
     ]
    },
    {
     "name": "stderr",
     "output_type": "stream",
     "text": [
      "/Users/jakubblaha/Documents/thesis/thesis-python/common.py:122: RuntimeWarning: There were no Annotations stored in <EpochsArray | 1 events (all good), 0 – 7.992 s (baseline off), ~134 kB, data loaded,\n",
      " '1': 1>, so metadata was not modified.\n",
      "  res = mne_connectivity.spectral_connectivity_time(\n"
     ]
    },
    {
     "name": "stdout",
     "output_type": "stream",
     "text": [
      "only using indices for lower-triangular matrix\n",
      "Connectivity computation...\n",
      "   Processing epoch 1 / 1 ...\n",
      "[Connectivity computation done]\n",
      "only using indices for lower-triangular matrix\n",
      "Connectivity computation...\n"
     ]
    },
    {
     "name": "stderr",
     "output_type": "stream",
     "text": [
      "/Users/jakubblaha/Documents/thesis/thesis-python/common.py:122: RuntimeWarning: There were no Annotations stored in <EpochsArray | 1 events (all good), 0 – 7.992 s (baseline off), ~134 kB, data loaded,\n",
      " '1': 1>, so metadata was not modified.\n",
      "  res = mne_connectivity.spectral_connectivity_time(\n",
      "/Users/jakubblaha/Documents/thesis/thesis-python/common.py:122: RuntimeWarning: There were no Annotations stored in <EpochsArray | 1 events (all good), 0 – 7.992 s (baseline off), ~134 kB, data loaded,\n",
      " '1': 1>, so metadata was not modified.\n",
      "  res = mne_connectivity.spectral_connectivity_time(\n"
     ]
    },
    {
     "name": "stdout",
     "output_type": "stream",
     "text": [
      "   Processing epoch 1 / 1 ...\n",
      "[Connectivity computation done]\n",
      "only using indices for lower-triangular matrix\n",
      "Connectivity computation...\n",
      "   Processing epoch 1 / 1 ...\n",
      "[Connectivity computation done]\n"
     ]
    },
    {
     "name": "stderr",
     "output_type": "stream",
     "text": [
      "/Users/jakubblaha/Documents/thesis/thesis-python/common.py:122: RuntimeWarning: There were no Annotations stored in <EpochsArray | 1 events (all good), 0 – 7.992 s (baseline off), ~134 kB, data loaded,\n",
      " '1': 1>, so metadata was not modified.\n",
      "  res = mne_connectivity.spectral_connectivity_time(\n"
     ]
    },
    {
     "name": "stdout",
     "output_type": "stream",
     "text": [
      "only using indices for lower-triangular matrix\n",
      "Connectivity computation...\n",
      "   Processing epoch 1 / 1 ...\n"
     ]
    },
    {
     "name": "stderr",
     "output_type": "stream",
     "text": [
      "/Users/jakubblaha/Documents/thesis/thesis-python/common.py:122: RuntimeWarning: There were no Annotations stored in <EpochsArray | 1 events (all good), 0 – 7.992 s (baseline off), ~134 kB, data loaded,\n",
      " '1': 1>, so metadata was not modified.\n",
      "  res = mne_connectivity.spectral_connectivity_time(\n"
     ]
    },
    {
     "name": "stdout",
     "output_type": "stream",
     "text": [
      "[Connectivity computation done]\n",
      "only using indices for lower-triangular matrix\n",
      "Connectivity computation...\n",
      "   Processing epoch 1 / 1 ...\n",
      "[Connectivity computation done]\n"
     ]
    },
    {
     "name": "stderr",
     "output_type": "stream",
     "text": [
      "/Users/jakubblaha/Documents/thesis/thesis-python/common.py:122: RuntimeWarning: There were no Annotations stored in <EpochsArray | 1 events (all good), 0 – 7.992 s (baseline off), ~134 kB, data loaded,\n",
      " '1': 1>, so metadata was not modified.\n",
      "  res = mne_connectivity.spectral_connectivity_time(\n"
     ]
    },
    {
     "name": "stdout",
     "output_type": "stream",
     "text": [
      "only using indices for lower-triangular matrix\n",
      "Connectivity computation...\n",
      "   Processing epoch 1 / 1 ...\n",
      "[Connectivity computation done]\n"
     ]
    },
    {
     "name": "stderr",
     "output_type": "stream",
     "text": [
      "/Users/jakubblaha/Documents/thesis/thesis-python/common.py:122: RuntimeWarning: There were no Annotations stored in <EpochsArray | 1 events (all good), 0 – 7.992 s (baseline off), ~134 kB, data loaded,\n",
      " '1': 1>, so metadata was not modified.\n",
      "  res = mne_connectivity.spectral_connectivity_time(\n"
     ]
    },
    {
     "name": "stdout",
     "output_type": "stream",
     "text": [
      "only using indices for lower-triangular matrix\n",
      "Connectivity computation...\n",
      "   Processing epoch 1 / 1 ...\n",
      "[Connectivity computation done]\n",
      "only using indices for lower-triangular matrix\n",
      "Connectivity computation...\n",
      "   Processing epoch 1 / 1 ...\n"
     ]
    },
    {
     "name": "stderr",
     "output_type": "stream",
     "text": [
      "/Users/jakubblaha/Documents/thesis/thesis-python/common.py:122: RuntimeWarning: There were no Annotations stored in <EpochsArray | 1 events (all good), 0 – 7.992 s (baseline off), ~134 kB, data loaded,\n",
      " '1': 1>, so metadata was not modified.\n",
      "  res = mne_connectivity.spectral_connectivity_time(\n",
      "/Users/jakubblaha/Documents/thesis/thesis-python/common.py:122: RuntimeWarning: There were no Annotations stored in <EpochsArray | 1 events (all good), 0 – 7.992 s (baseline off), ~134 kB, data loaded,\n",
      " '1': 1>, so metadata was not modified.\n",
      "  res = mne_connectivity.spectral_connectivity_time(\n"
     ]
    },
    {
     "name": "stdout",
     "output_type": "stream",
     "text": [
      "[Connectivity computation done]\n",
      "only using indices for lower-triangular matrix\n",
      "Connectivity computation...\n",
      "   Processing epoch 1 / 1 ...\n",
      "[Connectivity computation done]\n",
      "only using indices for lower-triangular matrix\n",
      "Connectivity computation...\n",
      "   Processing epoch 1 / 1 ...\n"
     ]
    },
    {
     "name": "stderr",
     "output_type": "stream",
     "text": [
      "/Users/jakubblaha/Documents/thesis/thesis-python/common.py:122: RuntimeWarning: There were no Annotations stored in <EpochsArray | 1 events (all good), 0 – 7.992 s (baseline off), ~134 kB, data loaded,\n",
      " '1': 1>, so metadata was not modified.\n",
      "  res = mne_connectivity.spectral_connectivity_time(\n",
      "/Users/jakubblaha/Documents/thesis/thesis-python/common.py:122: RuntimeWarning: There were no Annotations stored in <EpochsArray | 1 events (all good), 0 – 7.992 s (baseline off), ~134 kB, data loaded,\n",
      " '1': 1>, so metadata was not modified.\n",
      "  res = mne_connectivity.spectral_connectivity_time(\n"
     ]
    },
    {
     "name": "stdout",
     "output_type": "stream",
     "text": [
      "[Connectivity computation done]\n",
      "only using indices for lower-triangular matrix\n",
      "Connectivity computation...\n",
      "   Processing epoch 1 / 1 ...\n",
      "[Connectivity computation done]\n",
      "only using indices for lower-triangular matrix\n",
      "Connectivity computation...\n",
      "   Processing epoch 1 / 1 ...\n"
     ]
    },
    {
     "name": "stderr",
     "output_type": "stream",
     "text": [
      "/Users/jakubblaha/Documents/thesis/thesis-python/common.py:122: RuntimeWarning: There were no Annotations stored in <EpochsArray | 1 events (all good), 0 – 7.992 s (baseline off), ~134 kB, data loaded,\n",
      " '1': 1>, so metadata was not modified.\n",
      "  res = mne_connectivity.spectral_connectivity_time(\n",
      "/Users/jakubblaha/Documents/thesis/thesis-python/common.py:122: RuntimeWarning: There were no Annotations stored in <EpochsArray | 1 events (all good), 0 – 7.992 s (baseline off), ~134 kB, data loaded,\n",
      " '1': 1>, so metadata was not modified.\n",
      "  res = mne_connectivity.spectral_connectivity_time(\n"
     ]
    },
    {
     "name": "stdout",
     "output_type": "stream",
     "text": [
      "[Connectivity computation done]\n",
      "only using indices for lower-triangular matrix\n",
      "Connectivity computation...\n",
      "   Processing epoch 1 / 1 ...\n",
      "[Connectivity computation done]\n",
      "only using indices for lower-triangular matrix\n",
      "Connectivity computation...\n",
      "   Processing epoch 1 / 1 ...\n"
     ]
    },
    {
     "name": "stderr",
     "output_type": "stream",
     "text": [
      "/Users/jakubblaha/Documents/thesis/thesis-python/common.py:122: RuntimeWarning: There were no Annotations stored in <EpochsArray | 1 events (all good), 0 – 7.992 s (baseline off), ~134 kB, data loaded,\n",
      " '1': 1>, so metadata was not modified.\n",
      "  res = mne_connectivity.spectral_connectivity_time(\n",
      "/Users/jakubblaha/Documents/thesis/thesis-python/common.py:122: RuntimeWarning: There were no Annotations stored in <EpochsArray | 1 events (all good), 0 – 7.992 s (baseline off), ~134 kB, data loaded,\n",
      " '1': 1>, so metadata was not modified.\n",
      "  res = mne_connectivity.spectral_connectivity_time(\n"
     ]
    },
    {
     "name": "stdout",
     "output_type": "stream",
     "text": [
      "[Connectivity computation done]\n",
      "only using indices for lower-triangular matrix\n",
      "Connectivity computation...\n",
      "   Processing epoch 1 / 1 ...\n",
      "[Connectivity computation done]\n",
      "only using indices for lower-triangular matrix\n",
      "Connectivity computation...\n",
      "   Processing epoch 1 / 1 ...\n"
     ]
    },
    {
     "name": "stderr",
     "output_type": "stream",
     "text": [
      "/Users/jakubblaha/Documents/thesis/thesis-python/common.py:122: RuntimeWarning: There were no Annotations stored in <EpochsArray | 1 events (all good), 0 – 7.992 s (baseline off), ~134 kB, data loaded,\n",
      " '1': 1>, so metadata was not modified.\n",
      "  res = mne_connectivity.spectral_connectivity_time(\n",
      "/Users/jakubblaha/Documents/thesis/thesis-python/common.py:122: RuntimeWarning: There were no Annotations stored in <EpochsArray | 1 events (all good), 0 – 7.992 s (baseline off), ~134 kB, data loaded,\n",
      " '1': 1>, so metadata was not modified.\n",
      "  res = mne_connectivity.spectral_connectivity_time(\n"
     ]
    },
    {
     "name": "stdout",
     "output_type": "stream",
     "text": [
      "[Connectivity computation done]\n",
      "only using indices for lower-triangular matrix\n",
      "Connectivity computation...\n",
      "   Processing epoch 1 / 1 ...\n",
      "[Connectivity computation done]\n",
      "only using indices for lower-triangular matrix\n",
      "Connectivity computation...\n",
      "   Processing epoch 1 / 1 ...\n"
     ]
    },
    {
     "name": "stderr",
     "output_type": "stream",
     "text": [
      "/Users/jakubblaha/Documents/thesis/thesis-python/common.py:122: RuntimeWarning: There were no Annotations stored in <EpochsArray | 1 events (all good), 0 – 7.992 s (baseline off), ~134 kB, data loaded,\n",
      " '1': 1>, so metadata was not modified.\n",
      "  res = mne_connectivity.spectral_connectivity_time(\n",
      "/Users/jakubblaha/Documents/thesis/thesis-python/common.py:122: RuntimeWarning: There were no Annotations stored in <EpochsArray | 1 events (all good), 0 – 7.992 s (baseline off), ~134 kB, data loaded,\n",
      " '1': 1>, so metadata was not modified.\n",
      "  res = mne_connectivity.spectral_connectivity_time(\n"
     ]
    },
    {
     "name": "stdout",
     "output_type": "stream",
     "text": [
      "[Connectivity computation done]\n",
      "only using indices for lower-triangular matrix\n",
      "Connectivity computation...\n",
      "   Processing epoch 1 / 1 ...\n",
      "[Connectivity computation done]\n",
      "only using indices for lower-triangular matrix\n",
      "Connectivity computation...\n"
     ]
    },
    {
     "name": "stderr",
     "output_type": "stream",
     "text": [
      "/Users/jakubblaha/Documents/thesis/thesis-python/common.py:122: RuntimeWarning: There were no Annotations stored in <EpochsArray | 1 events (all good), 0 – 7.992 s (baseline off), ~134 kB, data loaded,\n",
      " '1': 1>, so metadata was not modified.\n",
      "  res = mne_connectivity.spectral_connectivity_time(\n",
      "/Users/jakubblaha/Documents/thesis/thesis-python/common.py:122: RuntimeWarning: There were no Annotations stored in <EpochsArray | 1 events (all good), 0 – 7.992 s (baseline off), ~134 kB, data loaded,\n",
      " '1': 1>, so metadata was not modified.\n",
      "  res = mne_connectivity.spectral_connectivity_time(\n"
     ]
    },
    {
     "name": "stdout",
     "output_type": "stream",
     "text": [
      "   Processing epoch 1 / 1 ...\n",
      "[Connectivity computation done]\n",
      "only using indices for lower-triangular matrix\n",
      "Connectivity computation...\n",
      "   Processing epoch 1 / 1 ...\n",
      "[Connectivity computation done]\n",
      "only using indices for lower-triangular matrix\n",
      "Connectivity computation...\n",
      "   Processing epoch 1 / 1 ...\n"
     ]
    },
    {
     "name": "stderr",
     "output_type": "stream",
     "text": [
      "/Users/jakubblaha/Documents/thesis/thesis-python/common.py:122: RuntimeWarning: There were no Annotations stored in <EpochsArray | 1 events (all good), 0 – 7.992 s (baseline off), ~134 kB, data loaded,\n",
      " '1': 1>, so metadata was not modified.\n",
      "  res = mne_connectivity.spectral_connectivity_time(\n",
      "/Users/jakubblaha/Documents/thesis/thesis-python/common.py:122: RuntimeWarning: There were no Annotations stored in <EpochsArray | 1 events (all good), 0 – 7.992 s (baseline off), ~134 kB, data loaded,\n",
      " '1': 1>, so metadata was not modified.\n",
      "  res = mne_connectivity.spectral_connectivity_time(\n"
     ]
    },
    {
     "name": "stdout",
     "output_type": "stream",
     "text": [
      "[Connectivity computation done]\n",
      "only using indices for lower-triangular matrix\n",
      "Connectivity computation...\n",
      "   Processing epoch 1 / 1 ...\n",
      "[Connectivity computation done]\n",
      "only using indices for lower-triangular matrix\n",
      "Connectivity computation...\n",
      "   Processing epoch 1 / 1 ...\n"
     ]
    },
    {
     "name": "stderr",
     "output_type": "stream",
     "text": [
      "/Users/jakubblaha/Documents/thesis/thesis-python/common.py:122: RuntimeWarning: There were no Annotations stored in <EpochsArray | 1 events (all good), 0 – 7.992 s (baseline off), ~134 kB, data loaded,\n",
      " '1': 1>, so metadata was not modified.\n",
      "  res = mne_connectivity.spectral_connectivity_time(\n",
      "/Users/jakubblaha/Documents/thesis/thesis-python/common.py:122: RuntimeWarning: There were no Annotations stored in <EpochsArray | 1 events (all good), 0 – 7.992 s (baseline off), ~134 kB, data loaded,\n",
      " '1': 1>, so metadata was not modified.\n",
      "  res = mne_connectivity.spectral_connectivity_time(\n"
     ]
    },
    {
     "name": "stdout",
     "output_type": "stream",
     "text": [
      "[Connectivity computation done]\n",
      "only using indices for lower-triangular matrix\n",
      "Connectivity computation...\n",
      "   Processing epoch 1 / 1 ...\n",
      "[Connectivity computation done]\n"
     ]
    },
    {
     "name": "stderr",
     "output_type": "stream",
     "text": [
      "/Users/jakubblaha/Documents/thesis/thesis-python/common.py:122: RuntimeWarning: There were no Annotations stored in <EpochsArray | 1 events (all good), 0 – 7.992 s (baseline off), ~134 kB, data loaded,\n",
      " '1': 1>, so metadata was not modified.\n",
      "  res = mne_connectivity.spectral_connectivity_time(\n"
     ]
    },
    {
     "name": "stdout",
     "output_type": "stream",
     "text": [
      "only using indices for lower-triangular matrix\n",
      "Connectivity computation...\n",
      "   Processing epoch 1 / 1 ...\n",
      "[Connectivity computation done]\n"
     ]
    },
    {
     "name": "stderr",
     "output_type": "stream",
     "text": [
      "/Users/jakubblaha/Documents/thesis/thesis-python/common.py:122: RuntimeWarning: There were no Annotations stored in <EpochsArray | 1 events (all good), 0 – 7.992 s (baseline off), ~134 kB, data loaded,\n",
      " '1': 1>, so metadata was not modified.\n",
      "  res = mne_connectivity.spectral_connectivity_time(\n"
     ]
    },
    {
     "name": "stdout",
     "output_type": "stream",
     "text": [
      "only using indices for lower-triangular matrix\n",
      "Connectivity computation...\n",
      "   Processing epoch 1 / 1 ...\n",
      "[Connectivity computation done]\n",
      "only using indices for lower-triangular matrix\n"
     ]
    },
    {
     "name": "stderr",
     "output_type": "stream",
     "text": [
      "/Users/jakubblaha/Documents/thesis/thesis-python/common.py:122: RuntimeWarning: There were no Annotations stored in <EpochsArray | 1 events (all good), 0 – 7.992 s (baseline off), ~134 kB, data loaded,\n",
      " '1': 1>, so metadata was not modified.\n",
      "  res = mne_connectivity.spectral_connectivity_time(\n",
      "/Users/jakubblaha/Documents/thesis/thesis-python/common.py:122: RuntimeWarning: There were no Annotations stored in <EpochsArray | 1 events (all good), 0 – 7.992 s (baseline off), ~134 kB, data loaded,\n",
      " '1': 1>, so metadata was not modified.\n",
      "  res = mne_connectivity.spectral_connectivity_time(\n"
     ]
    },
    {
     "name": "stdout",
     "output_type": "stream",
     "text": [
      "Connectivity computation...\n",
      "   Processing epoch 1 / 1 ...\n",
      "[Connectivity computation done]\n",
      "only using indices for lower-triangular matrix\n",
      "Connectivity computation...\n",
      "   Processing epoch 1 / 1 ...\n",
      "[Connectivity computation done]\n"
     ]
    },
    {
     "name": "stderr",
     "output_type": "stream",
     "text": [
      "/Users/jakubblaha/Documents/thesis/thesis-python/common.py:122: RuntimeWarning: There were no Annotations stored in <EpochsArray | 1 events (all good), 0 – 7.992 s (baseline off), ~134 kB, data loaded,\n",
      " '1': 1>, so metadata was not modified.\n",
      "  res = mne_connectivity.spectral_connectivity_time(\n"
     ]
    },
    {
     "name": "stdout",
     "output_type": "stream",
     "text": [
      "only using indices for lower-triangular matrix\n",
      "Connectivity computation...\n",
      "   Processing epoch 1 / 1 ...\n",
      "[Connectivity computation done]\n"
     ]
    },
    {
     "name": "stderr",
     "output_type": "stream",
     "text": [
      "/Users/jakubblaha/Documents/thesis/thesis-python/common.py:122: RuntimeWarning: There were no Annotations stored in <EpochsArray | 1 events (all good), 0 – 7.992 s (baseline off), ~134 kB, data loaded,\n",
      " '1': 1>, so metadata was not modified.\n",
      "  res = mne_connectivity.spectral_connectivity_time(\n"
     ]
    },
    {
     "name": "stdout",
     "output_type": "stream",
     "text": [
      "only using indices for lower-triangular matrix\n",
      "Connectivity computation...\n",
      "   Processing epoch 1 / 1 ...\n",
      "[Connectivity computation done]\n",
      "only using indices for lower-triangular matrix\n",
      "Connectivity computation...\n",
      "   Processing epoch 1 / 1 ...\n"
     ]
    },
    {
     "name": "stderr",
     "output_type": "stream",
     "text": [
      "/Users/jakubblaha/Documents/thesis/thesis-python/common.py:122: RuntimeWarning: There were no Annotations stored in <EpochsArray | 1 events (all good), 0 – 7.992 s (baseline off), ~134 kB, data loaded,\n",
      " '1': 1>, so metadata was not modified.\n",
      "  res = mne_connectivity.spectral_connectivity_time(\n",
      "/Users/jakubblaha/Documents/thesis/thesis-python/common.py:122: RuntimeWarning: There were no Annotations stored in <EpochsArray | 1 events (all good), 0 – 7.992 s (baseline off), ~134 kB, data loaded,\n",
      " '1': 1>, so metadata was not modified.\n",
      "  res = mne_connectivity.spectral_connectivity_time(\n"
     ]
    },
    {
     "name": "stdout",
     "output_type": "stream",
     "text": [
      "[Connectivity computation done]\n",
      "only using indices for lower-triangular matrix\n",
      "Connectivity computation...\n",
      "   Processing epoch 1 / 1 ...\n",
      "[Connectivity computation done]\n",
      "only using indices for lower-triangular matrix\n",
      "Connectivity computation...\n",
      "   Processing epoch 1 / 1 ...\n"
     ]
    },
    {
     "name": "stderr",
     "output_type": "stream",
     "text": [
      "/Users/jakubblaha/Documents/thesis/thesis-python/common.py:122: RuntimeWarning: There were no Annotations stored in <EpochsArray | 1 events (all good), 0 – 7.992 s (baseline off), ~134 kB, data loaded,\n",
      " '1': 1>, so metadata was not modified.\n",
      "  res = mne_connectivity.spectral_connectivity_time(\n",
      "/Users/jakubblaha/Documents/thesis/thesis-python/common.py:122: RuntimeWarning: There were no Annotations stored in <EpochsArray | 1 events (all good), 0 – 7.992 s (baseline off), ~134 kB, data loaded,\n",
      " '1': 1>, so metadata was not modified.\n",
      "  res = mne_connectivity.spectral_connectivity_time(\n"
     ]
    },
    {
     "name": "stdout",
     "output_type": "stream",
     "text": [
      "[Connectivity computation done]\n",
      "only using indices for lower-triangular matrix\n",
      "Connectivity computation...\n",
      "   Processing epoch 1 / 1 ...\n",
      "[Connectivity computation done]\n"
     ]
    },
    {
     "name": "stderr",
     "output_type": "stream",
     "text": [
      "/Users/jakubblaha/Documents/thesis/thesis-python/common.py:122: RuntimeWarning: There were no Annotations stored in <EpochsArray | 1 events (all good), 0 – 7.992 s (baseline off), ~134 kB, data loaded,\n",
      " '1': 1>, so metadata was not modified.\n",
      "  res = mne_connectivity.spectral_connectivity_time(\n"
     ]
    },
    {
     "name": "stdout",
     "output_type": "stream",
     "text": [
      "only using indices for lower-triangular matrix\n",
      "Connectivity computation...\n",
      "   Processing epoch 1 / 1 ...\n",
      "[Connectivity computation done]\n"
     ]
    },
    {
     "name": "stderr",
     "output_type": "stream",
     "text": [
      "/Users/jakubblaha/Documents/thesis/thesis-python/common.py:122: RuntimeWarning: There were no Annotations stored in <EpochsArray | 1 events (all good), 0 – 7.992 s (baseline off), ~134 kB, data loaded,\n",
      " '1': 1>, so metadata was not modified.\n",
      "  res = mne_connectivity.spectral_connectivity_time(\n"
     ]
    },
    {
     "name": "stdout",
     "output_type": "stream",
     "text": [
      "only using indices for lower-triangular matrix\n",
      "Connectivity computation...\n",
      "   Processing epoch 1 / 1 ...\n",
      "[Connectivity computation done]\n"
     ]
    },
    {
     "name": "stderr",
     "output_type": "stream",
     "text": [
      "/Users/jakubblaha/Documents/thesis/thesis-python/common.py:122: RuntimeWarning: There were no Annotations stored in <EpochsArray | 1 events (all good), 0 – 7.992 s (baseline off), ~134 kB, data loaded,\n",
      " '1': 1>, so metadata was not modified.\n",
      "  res = mne_connectivity.spectral_connectivity_time(\n"
     ]
    },
    {
     "name": "stdout",
     "output_type": "stream",
     "text": [
      "only using indices for lower-triangular matrix\n",
      "Connectivity computation...\n",
      "   Processing epoch 1 / 1 ...\n",
      "[Connectivity computation done]\n",
      "only using indices for lower-triangular matrix\n",
      "Connectivity computation...\n",
      "   Processing epoch 1 / 1 ...\n"
     ]
    },
    {
     "name": "stderr",
     "output_type": "stream",
     "text": [
      "/Users/jakubblaha/Documents/thesis/thesis-python/common.py:122: RuntimeWarning: There were no Annotations stored in <EpochsArray | 1 events (all good), 0 – 7.992 s (baseline off), ~134 kB, data loaded,\n",
      " '1': 1>, so metadata was not modified.\n",
      "  res = mne_connectivity.spectral_connectivity_time(\n",
      "/Users/jakubblaha/Documents/thesis/thesis-python/common.py:122: RuntimeWarning: There were no Annotations stored in <EpochsArray | 1 events (all good), 0 – 7.992 s (baseline off), ~134 kB, data loaded,\n",
      " '1': 1>, so metadata was not modified.\n",
      "  res = mne_connectivity.spectral_connectivity_time(\n"
     ]
    },
    {
     "name": "stdout",
     "output_type": "stream",
     "text": [
      "[Connectivity computation done]\n",
      "only using indices for lower-triangular matrix\n",
      "Connectivity computation...\n",
      "   Processing epoch 1 / 1 ...\n",
      "[Connectivity computation done]\n"
     ]
    },
    {
     "name": "stderr",
     "output_type": "stream",
     "text": [
      "/Users/jakubblaha/Documents/thesis/thesis-python/common.py:122: RuntimeWarning: There were no Annotations stored in <EpochsArray | 1 events (all good), 0 – 7.992 s (baseline off), ~134 kB, data loaded,\n",
      " '1': 1>, so metadata was not modified.\n",
      "  res = mne_connectivity.spectral_connectivity_time(\n"
     ]
    },
    {
     "name": "stdout",
     "output_type": "stream",
     "text": [
      "only using indices for lower-triangular matrix\n",
      "Connectivity computation...\n",
      "   Processing epoch 1 / 1 ...\n",
      "[Connectivity computation done]\n",
      "only using indices for lower-triangular matrix\n"
     ]
    },
    {
     "name": "stderr",
     "output_type": "stream",
     "text": [
      "/Users/jakubblaha/Documents/thesis/thesis-python/common.py:122: RuntimeWarning: There were no Annotations stored in <EpochsArray | 1 events (all good), 0 – 7.992 s (baseline off), ~134 kB, data loaded,\n",
      " '1': 1>, so metadata was not modified.\n",
      "  res = mne_connectivity.spectral_connectivity_time(\n",
      "/Users/jakubblaha/Documents/thesis/thesis-python/common.py:122: RuntimeWarning: There were no Annotations stored in <EpochsArray | 1 events (all good), 0 – 7.992 s (baseline off), ~134 kB, data loaded,\n",
      " '1': 1>, so metadata was not modified.\n",
      "  res = mne_connectivity.spectral_connectivity_time(\n"
     ]
    },
    {
     "name": "stdout",
     "output_type": "stream",
     "text": [
      "Connectivity computation...\n",
      "   Processing epoch 1 / 1 ...\n",
      "[Connectivity computation done]\n",
      "only using indices for lower-triangular matrix\n",
      "Connectivity computation...\n",
      "   Processing epoch 1 / 1 ...\n",
      "[Connectivity computation done]\n",
      "only using indices for lower-triangular matrix\n",
      "Connectivity computation...\n",
      "   Processing epoch 1 / 1 ...\n"
     ]
    },
    {
     "name": "stderr",
     "output_type": "stream",
     "text": [
      "/Users/jakubblaha/Documents/thesis/thesis-python/common.py:122: RuntimeWarning: There were no Annotations stored in <EpochsArray | 1 events (all good), 0 – 7.992 s (baseline off), ~134 kB, data loaded,\n",
      " '1': 1>, so metadata was not modified.\n",
      "  res = mne_connectivity.spectral_connectivity_time(\n",
      "/Users/jakubblaha/Documents/thesis/thesis-python/common.py:122: RuntimeWarning: There were no Annotations stored in <EpochsArray | 1 events (all good), 0 – 7.992 s (baseline off), ~134 kB, data loaded,\n",
      " '1': 1>, so metadata was not modified.\n",
      "  res = mne_connectivity.spectral_connectivity_time(\n"
     ]
    },
    {
     "name": "stdout",
     "output_type": "stream",
     "text": [
      "[Connectivity computation done]\n",
      "only using indices for lower-triangular matrix\n",
      "Connectivity computation...\n",
      "   Processing epoch 1 / 1 ...\n",
      "[Connectivity computation done]\n",
      "only using indices for lower-triangular matrix\n",
      "Connectivity computation...\n",
      "   Processing epoch 1 / 1 ...\n"
     ]
    },
    {
     "name": "stderr",
     "output_type": "stream",
     "text": [
      "/Users/jakubblaha/Documents/thesis/thesis-python/common.py:122: RuntimeWarning: There were no Annotations stored in <EpochsArray | 1 events (all good), 0 – 7.992 s (baseline off), ~134 kB, data loaded,\n",
      " '1': 1>, so metadata was not modified.\n",
      "  res = mne_connectivity.spectral_connectivity_time(\n",
      "/Users/jakubblaha/Documents/thesis/thesis-python/common.py:122: RuntimeWarning: There were no Annotations stored in <EpochsArray | 1 events (all good), 0 – 7.992 s (baseline off), ~134 kB, data loaded,\n",
      " '1': 1>, so metadata was not modified.\n",
      "  res = mne_connectivity.spectral_connectivity_time(\n"
     ]
    },
    {
     "name": "stdout",
     "output_type": "stream",
     "text": [
      "[Connectivity computation done]\n",
      "only using indices for lower-triangular matrix\n",
      "Connectivity computation...\n",
      "   Processing epoch 1 / 1 ...\n",
      "[Connectivity computation done]\n"
     ]
    },
    {
     "name": "stderr",
     "output_type": "stream",
     "text": [
      "/Users/jakubblaha/Documents/thesis/thesis-python/common.py:122: RuntimeWarning: There were no Annotations stored in <EpochsArray | 1 events (all good), 0 – 7.992 s (baseline off), ~134 kB, data loaded,\n",
      " '1': 1>, so metadata was not modified.\n",
      "  res = mne_connectivity.spectral_connectivity_time(\n"
     ]
    },
    {
     "name": "stdout",
     "output_type": "stream",
     "text": [
      "only using indices for lower-triangular matrix\n",
      "Connectivity computation...\n",
      "   Processing epoch 1 / 1 ...\n",
      "[Connectivity computation done]\n"
     ]
    },
    {
     "name": "stderr",
     "output_type": "stream",
     "text": [
      "/Users/jakubblaha/Documents/thesis/thesis-python/common.py:122: RuntimeWarning: There were no Annotations stored in <EpochsArray | 1 events (all good), 0 – 7.992 s (baseline off), ~134 kB, data loaded,\n",
      " '1': 1>, so metadata was not modified.\n",
      "  res = mne_connectivity.spectral_connectivity_time(\n"
     ]
    },
    {
     "name": "stdout",
     "output_type": "stream",
     "text": [
      "only using indices for lower-triangular matrix\n",
      "Connectivity computation...\n",
      "   Processing epoch 1 / 1 ...\n"
     ]
    },
    {
     "name": "stderr",
     "output_type": "stream",
     "text": [
      "/Users/jakubblaha/Documents/thesis/thesis-python/common.py:122: RuntimeWarning: There were no Annotations stored in <EpochsArray | 1 events (all good), 0 – 7.992 s (baseline off), ~134 kB, data loaded,\n",
      " '1': 1>, so metadata was not modified.\n",
      "  res = mne_connectivity.spectral_connectivity_time(\n"
     ]
    },
    {
     "name": "stdout",
     "output_type": "stream",
     "text": [
      "[Connectivity computation done]\n",
      "only using indices for lower-triangular matrix\n",
      "Connectivity computation...\n",
      "   Processing epoch 1 / 1 ...\n",
      "[Connectivity computation done]\n",
      "only using indices for lower-triangular matrix\n",
      "Connectivity computation...\n",
      "   Processing epoch 1 / 1 ...\n"
     ]
    },
    {
     "name": "stderr",
     "output_type": "stream",
     "text": [
      "/Users/jakubblaha/Documents/thesis/thesis-python/common.py:122: RuntimeWarning: There were no Annotations stored in <EpochsArray | 1 events (all good), 0 – 7.992 s (baseline off), ~134 kB, data loaded,\n",
      " '1': 1>, so metadata was not modified.\n",
      "  res = mne_connectivity.spectral_connectivity_time(\n",
      "/Users/jakubblaha/Documents/thesis/thesis-python/common.py:122: RuntimeWarning: There were no Annotations stored in <EpochsArray | 1 events (all good), 0 – 7.992 s (baseline off), ~134 kB, data loaded,\n",
      " '1': 1>, so metadata was not modified.\n",
      "  res = mne_connectivity.spectral_connectivity_time(\n"
     ]
    },
    {
     "name": "stdout",
     "output_type": "stream",
     "text": [
      "[Connectivity computation done]\n",
      "only using indices for lower-triangular matrix\n",
      "Connectivity computation...\n",
      "   Processing epoch 1 / 1 ...\n"
     ]
    },
    {
     "name": "stderr",
     "output_type": "stream",
     "text": [
      "/Users/jakubblaha/Documents/thesis/thesis-python/common.py:122: RuntimeWarning: There were no Annotations stored in <EpochsArray | 1 events (all good), 0 – 7.992 s (baseline off), ~134 kB, data loaded,\n",
      " '1': 1>, so metadata was not modified.\n",
      "  res = mne_connectivity.spectral_connectivity_time(\n"
     ]
    },
    {
     "name": "stdout",
     "output_type": "stream",
     "text": [
      "[Connectivity computation done]\n",
      "only using indices for lower-triangular matrix\n",
      "Connectivity computation...\n",
      "   Processing epoch 1 / 1 ...\n",
      "[Connectivity computation done]\n"
     ]
    },
    {
     "name": "stderr",
     "output_type": "stream",
     "text": [
      "/Users/jakubblaha/Documents/thesis/thesis-python/common.py:122: RuntimeWarning: There were no Annotations stored in <EpochsArray | 1 events (all good), 0 – 7.992 s (baseline off), ~134 kB, data loaded,\n",
      " '1': 1>, so metadata was not modified.\n",
      "  res = mne_connectivity.spectral_connectivity_time(\n"
     ]
    },
    {
     "name": "stdout",
     "output_type": "stream",
     "text": [
      "only using indices for lower-triangular matrix\n",
      "Connectivity computation...\n",
      "   Processing epoch 1 / 1 ...\n",
      "[Connectivity computation done]\n"
     ]
    },
    {
     "name": "stderr",
     "output_type": "stream",
     "text": [
      "/Users/jakubblaha/Documents/thesis/thesis-python/common.py:122: RuntimeWarning: There were no Annotations stored in <EpochsArray | 1 events (all good), 0 – 7.992 s (baseline off), ~134 kB, data loaded,\n",
      " '1': 1>, so metadata was not modified.\n",
      "  res = mne_connectivity.spectral_connectivity_time(\n"
     ]
    },
    {
     "name": "stdout",
     "output_type": "stream",
     "text": [
      "only using indices for lower-triangular matrix\n",
      "Connectivity computation...\n",
      "   Processing epoch 1 / 1 ...\n",
      "[Connectivity computation done]\n",
      "only using indices for lower-triangular matrix\n",
      "Connectivity computation...\n",
      "   Processing epoch 1 / 1 ...\n"
     ]
    },
    {
     "name": "stderr",
     "output_type": "stream",
     "text": [
      "/Users/jakubblaha/Documents/thesis/thesis-python/common.py:122: RuntimeWarning: There were no Annotations stored in <EpochsArray | 1 events (all good), 0 – 7.992 s (baseline off), ~134 kB, data loaded,\n",
      " '1': 1>, so metadata was not modified.\n",
      "  res = mne_connectivity.spectral_connectivity_time(\n",
      "/Users/jakubblaha/Documents/thesis/thesis-python/common.py:122: RuntimeWarning: There were no Annotations stored in <EpochsArray | 1 events (all good), 0 – 7.992 s (baseline off), ~134 kB, data loaded,\n",
      " '1': 1>, so metadata was not modified.\n",
      "  res = mne_connectivity.spectral_connectivity_time(\n"
     ]
    },
    {
     "name": "stdout",
     "output_type": "stream",
     "text": [
      "[Connectivity computation done]\n",
      "only using indices for lower-triangular matrix\n",
      "Connectivity computation...\n",
      "   Processing epoch 1 / 1 ...\n",
      "[Connectivity computation done]\n",
      "only using indices for lower-triangular matrix\n",
      "Connectivity computation...\n",
      "   Processing epoch 1 / 1 ...\n"
     ]
    },
    {
     "name": "stderr",
     "output_type": "stream",
     "text": [
      "/Users/jakubblaha/Documents/thesis/thesis-python/common.py:122: RuntimeWarning: There were no Annotations stored in <EpochsArray | 1 events (all good), 0 – 7.992 s (baseline off), ~134 kB, data loaded,\n",
      " '1': 1>, so metadata was not modified.\n",
      "  res = mne_connectivity.spectral_connectivity_time(\n",
      "/Users/jakubblaha/Documents/thesis/thesis-python/common.py:122: RuntimeWarning: There were no Annotations stored in <EpochsArray | 1 events (all good), 0 – 7.992 s (baseline off), ~134 kB, data loaded,\n",
      " '1': 1>, so metadata was not modified.\n",
      "  res = mne_connectivity.spectral_connectivity_time(\n"
     ]
    },
    {
     "name": "stdout",
     "output_type": "stream",
     "text": [
      "[Connectivity computation done]\n",
      "only using indices for lower-triangular matrix\n",
      "Connectivity computation...\n",
      "   Processing epoch 1 / 1 ...\n",
      "[Connectivity computation done]\n"
     ]
    },
    {
     "name": "stderr",
     "output_type": "stream",
     "text": [
      "/Users/jakubblaha/Documents/thesis/thesis-python/common.py:122: RuntimeWarning: There were no Annotations stored in <EpochsArray | 1 events (all good), 0 – 7.992 s (baseline off), ~134 kB, data loaded,\n",
      " '1': 1>, so metadata was not modified.\n",
      "  res = mne_connectivity.spectral_connectivity_time(\n",
      "/Users/jakubblaha/Documents/thesis/thesis-python/common.py:122: RuntimeWarning: There were no Annotations stored in <EpochsArray | 1 events (all good), 0 – 7.992 s (baseline off), ~134 kB, data loaded,\n",
      " '1': 1>, so metadata was not modified.\n",
      "  res = mne_connectivity.spectral_connectivity_time(\n"
     ]
    },
    {
     "name": "stdout",
     "output_type": "stream",
     "text": [
      "only using indices for lower-triangular matrix\n",
      "Connectivity computation...\n",
      "   Processing epoch 1 / 1 ...\n",
      "[Connectivity computation done]\n",
      "only using indices for lower-triangular matrix\n",
      "Connectivity computation...\n",
      "   Processing epoch 1 / 1 ...\n",
      "[Connectivity computation done]\n",
      "only using indices for lower-triangular matrix\n",
      "Connectivity computation...\n",
      "   Processing epoch 1 / 1 ...\n"
     ]
    },
    {
     "name": "stderr",
     "output_type": "stream",
     "text": [
      "/Users/jakubblaha/Documents/thesis/thesis-python/common.py:122: RuntimeWarning: There were no Annotations stored in <EpochsArray | 1 events (all good), 0 – 7.992 s (baseline off), ~134 kB, data loaded,\n",
      " '1': 1>, so metadata was not modified.\n",
      "  res = mne_connectivity.spectral_connectivity_time(\n",
      "/Users/jakubblaha/Documents/thesis/thesis-python/common.py:122: RuntimeWarning: There were no Annotations stored in <EpochsArray | 1 events (all good), 0 – 7.992 s (baseline off), ~134 kB, data loaded,\n",
      " '1': 1>, so metadata was not modified.\n",
      "  res = mne_connectivity.spectral_connectivity_time(\n"
     ]
    },
    {
     "name": "stdout",
     "output_type": "stream",
     "text": [
      "[Connectivity computation done]\n",
      "only using indices for lower-triangular matrix\n",
      "Connectivity computation...\n",
      "   Processing epoch 1 / 1 ...\n",
      "[Connectivity computation done]\n",
      "only using indices for lower-triangular matrix\n",
      "Connectivity computation...\n",
      "   Processing epoch 1 / 1 ...\n"
     ]
    },
    {
     "name": "stderr",
     "output_type": "stream",
     "text": [
      "/Users/jakubblaha/Documents/thesis/thesis-python/common.py:122: RuntimeWarning: There were no Annotations stored in <EpochsArray | 1 events (all good), 0 – 7.992 s (baseline off), ~134 kB, data loaded,\n",
      " '1': 1>, so metadata was not modified.\n",
      "  res = mne_connectivity.spectral_connectivity_time(\n",
      "/Users/jakubblaha/Documents/thesis/thesis-python/common.py:122: RuntimeWarning: There were no Annotations stored in <EpochsArray | 1 events (all good), 0 – 7.992 s (baseline off), ~134 kB, data loaded,\n",
      " '1': 1>, so metadata was not modified.\n",
      "  res = mne_connectivity.spectral_connectivity_time(\n"
     ]
    },
    {
     "name": "stdout",
     "output_type": "stream",
     "text": [
      "[Connectivity computation done]\n",
      "only using indices for lower-triangular matrix\n",
      "Connectivity computation...\n",
      "   Processing epoch 1 / 1 ...\n",
      "[Connectivity computation done]\n",
      "only using indices for lower-triangular matrix\n",
      "Connectivity computation...\n",
      "   Processing epoch 1 / 1 ...\n"
     ]
    },
    {
     "name": "stderr",
     "output_type": "stream",
     "text": [
      "/Users/jakubblaha/Documents/thesis/thesis-python/common.py:122: RuntimeWarning: There were no Annotations stored in <EpochsArray | 1 events (all good), 0 – 7.992 s (baseline off), ~134 kB, data loaded,\n",
      " '1': 1>, so metadata was not modified.\n",
      "  res = mne_connectivity.spectral_connectivity_time(\n",
      "/Users/jakubblaha/Documents/thesis/thesis-python/common.py:122: RuntimeWarning: There were no Annotations stored in <EpochsArray | 1 events (all good), 0 – 7.992 s (baseline off), ~134 kB, data loaded,\n",
      " '1': 1>, so metadata was not modified.\n",
      "  res = mne_connectivity.spectral_connectivity_time(\n"
     ]
    },
    {
     "name": "stdout",
     "output_type": "stream",
     "text": [
      "[Connectivity computation done]\n",
      "only using indices for lower-triangular matrix\n",
      "Connectivity computation...\n",
      "   Processing epoch 1 / 1 ...\n",
      "[Connectivity computation done]\n",
      "only using indices for lower-triangular matrix\n",
      "Connectivity computation...\n",
      "   Processing epoch 1 / 1 ...\n"
     ]
    },
    {
     "name": "stderr",
     "output_type": "stream",
     "text": [
      "/Users/jakubblaha/Documents/thesis/thesis-python/common.py:122: RuntimeWarning: There were no Annotations stored in <EpochsArray | 1 events (all good), 0 – 7.992 s (baseline off), ~134 kB, data loaded,\n",
      " '1': 1>, so metadata was not modified.\n",
      "  res = mne_connectivity.spectral_connectivity_time(\n",
      "/Users/jakubblaha/Documents/thesis/thesis-python/common.py:122: RuntimeWarning: There were no Annotations stored in <EpochsArray | 1 events (all good), 0 – 7.992 s (baseline off), ~134 kB, data loaded,\n",
      " '1': 1>, so metadata was not modified.\n",
      "  res = mne_connectivity.spectral_connectivity_time(\n"
     ]
    },
    {
     "name": "stdout",
     "output_type": "stream",
     "text": [
      "[Connectivity computation done]\n",
      "only using indices for lower-triangular matrix\n",
      "Connectivity computation...\n",
      "   Processing epoch 1 / 1 ...\n",
      "[Connectivity computation done]\n",
      "only using indices for lower-triangular matrix\n",
      "Connectivity computation...\n",
      "   Processing epoch 1 / 1 ...\n"
     ]
    },
    {
     "name": "stderr",
     "output_type": "stream",
     "text": [
      "/Users/jakubblaha/Documents/thesis/thesis-python/common.py:122: RuntimeWarning: There were no Annotations stored in <EpochsArray | 1 events (all good), 0 – 7.992 s (baseline off), ~134 kB, data loaded,\n",
      " '1': 1>, so metadata was not modified.\n",
      "  res = mne_connectivity.spectral_connectivity_time(\n",
      "/Users/jakubblaha/Documents/thesis/thesis-python/common.py:122: RuntimeWarning: There were no Annotations stored in <EpochsArray | 1 events (all good), 0 – 7.992 s (baseline off), ~134 kB, data loaded,\n",
      " '1': 1>, so metadata was not modified.\n",
      "  res = mne_connectivity.spectral_connectivity_time(\n"
     ]
    },
    {
     "name": "stdout",
     "output_type": "stream",
     "text": [
      "[Connectivity computation done]\n",
      "only using indices for lower-triangular matrix\n",
      "Connectivity computation...\n",
      "   Processing epoch 1 / 1 ...\n",
      "[Connectivity computation done]\n",
      "only using indices for lower-triangular matrix\n",
      "Connectivity computation...\n",
      "   Processing epoch 1 / 1 ...\n"
     ]
    },
    {
     "name": "stderr",
     "output_type": "stream",
     "text": [
      "/Users/jakubblaha/Documents/thesis/thesis-python/common.py:122: RuntimeWarning: There were no Annotations stored in <EpochsArray | 1 events (all good), 0 – 7.992 s (baseline off), ~134 kB, data loaded,\n",
      " '1': 1>, so metadata was not modified.\n",
      "  res = mne_connectivity.spectral_connectivity_time(\n",
      "/Users/jakubblaha/Documents/thesis/thesis-python/common.py:122: RuntimeWarning: There were no Annotations stored in <EpochsArray | 1 events (all good), 0 – 7.992 s (baseline off), ~134 kB, data loaded,\n",
      " '1': 1>, so metadata was not modified.\n",
      "  res = mne_connectivity.spectral_connectivity_time(\n"
     ]
    },
    {
     "name": "stdout",
     "output_type": "stream",
     "text": [
      "[Connectivity computation done]\n",
      "only using indices for lower-triangular matrix\n",
      "Connectivity computation...\n",
      "   Processing epoch 1 / 1 ...\n",
      "[Connectivity computation done]\n"
     ]
    },
    {
     "name": "stderr",
     "output_type": "stream",
     "text": [
      "/Users/jakubblaha/Documents/thesis/thesis-python/common.py:122: RuntimeWarning: There were no Annotations stored in <EpochsArray | 1 events (all good), 0 – 7.992 s (baseline off), ~134 kB, data loaded,\n",
      " '1': 1>, so metadata was not modified.\n",
      "  res = mne_connectivity.spectral_connectivity_time(\n"
     ]
    },
    {
     "name": "stdout",
     "output_type": "stream",
     "text": [
      "only using indices for lower-triangular matrix\n",
      "Connectivity computation...\n",
      "   Processing epoch 1 / 1 ...\n",
      "[Connectivity computation done]\n"
     ]
    },
    {
     "name": "stderr",
     "output_type": "stream",
     "text": [
      "/Users/jakubblaha/Documents/thesis/thesis-python/common.py:122: RuntimeWarning: There were no Annotations stored in <EpochsArray | 1 events (all good), 0 – 7.992 s (baseline off), ~134 kB, data loaded,\n",
      " '1': 1>, so metadata was not modified.\n",
      "  res = mne_connectivity.spectral_connectivity_time(\n",
      "/Users/jakubblaha/Documents/thesis/thesis-python/common.py:122: RuntimeWarning: There were no Annotations stored in <EpochsArray | 1 events (all good), 0 – 7.992 s (baseline off), ~134 kB, data loaded,\n",
      " '1': 1>, so metadata was not modified.\n",
      "  res = mne_connectivity.spectral_connectivity_time(\n"
     ]
    },
    {
     "name": "stdout",
     "output_type": "stream",
     "text": [
      "only using indices for lower-triangular matrix\n",
      "Connectivity computation...\n",
      "   Processing epoch 1 / 1 ...\n",
      "[Connectivity computation done]\n",
      "only using indices for lower-triangular matrix\n",
      "Connectivity computation...\n",
      "   Processing epoch 1 / 1 ...\n",
      "[Connectivity computation done]\n",
      "only using indices for lower-triangular matrix\n"
     ]
    },
    {
     "name": "stderr",
     "output_type": "stream",
     "text": [
      "/Users/jakubblaha/Documents/thesis/thesis-python/common.py:122: RuntimeWarning: There were no Annotations stored in <EpochsArray | 1 events (all good), 0 – 7.992 s (baseline off), ~134 kB, data loaded,\n",
      " '1': 1>, so metadata was not modified.\n",
      "  res = mne_connectivity.spectral_connectivity_time(\n",
      "/Users/jakubblaha/Documents/thesis/thesis-python/common.py:122: RuntimeWarning: There were no Annotations stored in <EpochsArray | 1 events (all good), 0 – 7.992 s (baseline off), ~134 kB, data loaded,\n",
      " '1': 1>, so metadata was not modified.\n",
      "  res = mne_connectivity.spectral_connectivity_time(\n"
     ]
    },
    {
     "name": "stdout",
     "output_type": "stream",
     "text": [
      "Connectivity computation...\n",
      "   Processing epoch 1 / 1 ...\n",
      "[Connectivity computation done]\n",
      "only using indices for lower-triangular matrix\n",
      "Connectivity computation...\n",
      "   Processing epoch 1 / 1 ...\n",
      "[Connectivity computation done]\n",
      "only using indices for lower-triangular matrix\n",
      "Connectivity computation...\n",
      "   Processing epoch 1 / 1 ...\n"
     ]
    },
    {
     "name": "stderr",
     "output_type": "stream",
     "text": [
      "/Users/jakubblaha/Documents/thesis/thesis-python/common.py:122: RuntimeWarning: There were no Annotations stored in <EpochsArray | 1 events (all good), 0 – 7.992 s (baseline off), ~134 kB, data loaded,\n",
      " '1': 1>, so metadata was not modified.\n",
      "  res = mne_connectivity.spectral_connectivity_time(\n",
      "/Users/jakubblaha/Documents/thesis/thesis-python/common.py:122: RuntimeWarning: There were no Annotations stored in <EpochsArray | 1 events (all good), 0 – 7.992 s (baseline off), ~134 kB, data loaded,\n",
      " '1': 1>, so metadata was not modified.\n",
      "  res = mne_connectivity.spectral_connectivity_time(\n"
     ]
    },
    {
     "name": "stdout",
     "output_type": "stream",
     "text": [
      "[Connectivity computation done]\n",
      "only using indices for lower-triangular matrix\n",
      "Connectivity computation...\n",
      "   Processing epoch 1 / 1 ...\n",
      "[Connectivity computation done]\n",
      "only using indices for lower-triangular matrix\n"
     ]
    },
    {
     "name": "stderr",
     "output_type": "stream",
     "text": [
      "/Users/jakubblaha/Documents/thesis/thesis-python/common.py:122: RuntimeWarning: There were no Annotations stored in <EpochsArray | 1 events (all good), 0 – 7.992 s (baseline off), ~134 kB, data loaded,\n",
      " '1': 1>, so metadata was not modified.\n",
      "  res = mne_connectivity.spectral_connectivity_time(\n",
      "/Users/jakubblaha/Documents/thesis/thesis-python/common.py:122: RuntimeWarning: There were no Annotations stored in <EpochsArray | 1 events (all good), 0 – 7.992 s (baseline off), ~134 kB, data loaded,\n",
      " '1': 1>, so metadata was not modified.\n",
      "  res = mne_connectivity.spectral_connectivity_time(\n"
     ]
    },
    {
     "name": "stdout",
     "output_type": "stream",
     "text": [
      "Connectivity computation...\n",
      "   Processing epoch 1 / 1 ...\n",
      "[Connectivity computation done]\n",
      "only using indices for lower-triangular matrix\n",
      "Connectivity computation...\n",
      "   Processing epoch 1 / 1 ...\n",
      "[Connectivity computation done]\n",
      "only using indices for lower-triangular matrix\n",
      "Connectivity computation...\n",
      "   Processing epoch 1 / 1 ...\n"
     ]
    },
    {
     "name": "stderr",
     "output_type": "stream",
     "text": [
      "/Users/jakubblaha/Documents/thesis/thesis-python/common.py:122: RuntimeWarning: There were no Annotations stored in <EpochsArray | 1 events (all good), 0 – 7.992 s (baseline off), ~134 kB, data loaded,\n",
      " '1': 1>, so metadata was not modified.\n",
      "  res = mne_connectivity.spectral_connectivity_time(\n",
      "/Users/jakubblaha/Documents/thesis/thesis-python/common.py:122: RuntimeWarning: There were no Annotations stored in <EpochsArray | 1 events (all good), 0 – 7.992 s (baseline off), ~134 kB, data loaded,\n",
      " '1': 1>, so metadata was not modified.\n",
      "  res = mne_connectivity.spectral_connectivity_time(\n"
     ]
    },
    {
     "name": "stdout",
     "output_type": "stream",
     "text": [
      "[Connectivity computation done]\n",
      "only using indices for lower-triangular matrix\n",
      "Connectivity computation...\n",
      "   Processing epoch 1 / 1 ...\n",
      "[Connectivity computation done]\n"
     ]
    },
    {
     "name": "stderr",
     "output_type": "stream",
     "text": [
      "/Users/jakubblaha/Documents/thesis/thesis-python/common.py:122: RuntimeWarning: There were no Annotations stored in <EpochsArray | 1 events (all good), 0 – 7.992 s (baseline off), ~134 kB, data loaded,\n",
      " '1': 1>, so metadata was not modified.\n",
      "  res = mne_connectivity.spectral_connectivity_time(\n"
     ]
    },
    {
     "name": "stdout",
     "output_type": "stream",
     "text": [
      "only using indices for lower-triangular matrix\n",
      "Connectivity computation...\n",
      "   Processing epoch 1 / 1 ...\n",
      "[Connectivity computation done]\n"
     ]
    },
    {
     "name": "stderr",
     "output_type": "stream",
     "text": [
      "/Users/jakubblaha/Documents/thesis/thesis-python/common.py:122: RuntimeWarning: There were no Annotations stored in <EpochsArray | 1 events (all good), 0 – 7.992 s (baseline off), ~134 kB, data loaded,\n",
      " '1': 1>, so metadata was not modified.\n",
      "  res = mne_connectivity.spectral_connectivity_time(\n"
     ]
    },
    {
     "name": "stdout",
     "output_type": "stream",
     "text": [
      "only using indices for lower-triangular matrix\n",
      "Connectivity computation...\n",
      "   Processing epoch 1 / 1 ...\n",
      "[Connectivity computation done]\n"
     ]
    },
    {
     "name": "stderr",
     "output_type": "stream",
     "text": [
      "/Users/jakubblaha/Documents/thesis/thesis-python/common.py:122: RuntimeWarning: There were no Annotations stored in <EpochsArray | 1 events (all good), 0 – 7.992 s (baseline off), ~134 kB, data loaded,\n",
      " '1': 1>, so metadata was not modified.\n",
      "  res = mne_connectivity.spectral_connectivity_time(\n"
     ]
    },
    {
     "name": "stdout",
     "output_type": "stream",
     "text": [
      "only using indices for lower-triangular matrix\n",
      "Connectivity computation...\n",
      "   Processing epoch 1 / 1 ...\n",
      "[Connectivity computation done]\n",
      "only using indices for lower-triangular matrix\n",
      "Connectivity computation...\n",
      "   Processing epoch 1 / 1 ...\n"
     ]
    },
    {
     "name": "stderr",
     "output_type": "stream",
     "text": [
      "/Users/jakubblaha/Documents/thesis/thesis-python/common.py:122: RuntimeWarning: There were no Annotations stored in <EpochsArray | 1 events (all good), 0 – 7.992 s (baseline off), ~134 kB, data loaded,\n",
      " '1': 1>, so metadata was not modified.\n",
      "  res = mne_connectivity.spectral_connectivity_time(\n",
      "/Users/jakubblaha/Documents/thesis/thesis-python/common.py:122: RuntimeWarning: There were no Annotations stored in <EpochsArray | 1 events (all good), 0 – 7.992 s (baseline off), ~134 kB, data loaded,\n",
      " '1': 1>, so metadata was not modified.\n",
      "  res = mne_connectivity.spectral_connectivity_time(\n"
     ]
    },
    {
     "name": "stdout",
     "output_type": "stream",
     "text": [
      "[Connectivity computation done]\n",
      "only using indices for lower-triangular matrix\n",
      "Connectivity computation...\n",
      "   Processing epoch 1 / 1 ...\n",
      "[Connectivity computation done]\n",
      "only using indices for lower-triangular matrix\n",
      "Connectivity computation...\n",
      "   Processing epoch 1 / 1 ...\n"
     ]
    },
    {
     "name": "stderr",
     "output_type": "stream",
     "text": [
      "/Users/jakubblaha/Documents/thesis/thesis-python/common.py:122: RuntimeWarning: There were no Annotations stored in <EpochsArray | 1 events (all good), 0 – 7.992 s (baseline off), ~134 kB, data loaded,\n",
      " '1': 1>, so metadata was not modified.\n",
      "  res = mne_connectivity.spectral_connectivity_time(\n",
      "/Users/jakubblaha/Documents/thesis/thesis-python/common.py:122: RuntimeWarning: There were no Annotations stored in <EpochsArray | 1 events (all good), 0 – 7.992 s (baseline off), ~134 kB, data loaded,\n",
      " '1': 1>, so metadata was not modified.\n",
      "  res = mne_connectivity.spectral_connectivity_time(\n"
     ]
    },
    {
     "name": "stdout",
     "output_type": "stream",
     "text": [
      "[Connectivity computation done]\n",
      "only using indices for lower-triangular matrix\n",
      "Connectivity computation...\n",
      "   Processing epoch 1 / 1 ...\n",
      "[Connectivity computation done]\n",
      "only using indices for lower-triangular matrix\n",
      "Connectivity computation...\n",
      "   Processing epoch 1 / 1 ...\n"
     ]
    },
    {
     "name": "stderr",
     "output_type": "stream",
     "text": [
      "/Users/jakubblaha/Documents/thesis/thesis-python/common.py:122: RuntimeWarning: There were no Annotations stored in <EpochsArray | 1 events (all good), 0 – 7.992 s (baseline off), ~134 kB, data loaded,\n",
      " '1': 1>, so metadata was not modified.\n",
      "  res = mne_connectivity.spectral_connectivity_time(\n",
      "/Users/jakubblaha/Documents/thesis/thesis-python/common.py:122: RuntimeWarning: There were no Annotations stored in <EpochsArray | 1 events (all good), 0 – 7.992 s (baseline off), ~134 kB, data loaded,\n",
      " '1': 1>, so metadata was not modified.\n",
      "  res = mne_connectivity.spectral_connectivity_time(\n"
     ]
    },
    {
     "name": "stdout",
     "output_type": "stream",
     "text": [
      "[Connectivity computation done]\n",
      "only using indices for lower-triangular matrix\n",
      "Connectivity computation...\n",
      "   Processing epoch 1 / 1 ...\n",
      "[Connectivity computation done]\n"
     ]
    },
    {
     "name": "stderr",
     "output_type": "stream",
     "text": [
      "/Users/jakubblaha/Documents/thesis/thesis-python/common.py:122: RuntimeWarning: There were no Annotations stored in <EpochsArray | 1 events (all good), 0 – 7.992 s (baseline off), ~134 kB, data loaded,\n",
      " '1': 1>, so metadata was not modified.\n",
      "  res = mne_connectivity.spectral_connectivity_time(\n",
      "/Users/jakubblaha/Documents/thesis/thesis-python/common.py:122: RuntimeWarning: There were no Annotations stored in <EpochsArray | 1 events (all good), 0 – 7.992 s (baseline off), ~134 kB, data loaded,\n",
      " '1': 1>, so metadata was not modified.\n",
      "  res = mne_connectivity.spectral_connectivity_time(\n"
     ]
    },
    {
     "name": "stdout",
     "output_type": "stream",
     "text": [
      "only using indices for lower-triangular matrix\n",
      "Connectivity computation...\n",
      "   Processing epoch 1 / 1 ...\n",
      "[Connectivity computation done]\n",
      "only using indices for lower-triangular matrix\n",
      "Connectivity computation...\n",
      "   Processing epoch 1 / 1 ...\n",
      "[Connectivity computation done]\n",
      "only using indices for lower-triangular matrix\n",
      "Connectivity computation...\n",
      "   Processing epoch 1 / 1 ...\n"
     ]
    },
    {
     "name": "stderr",
     "output_type": "stream",
     "text": [
      "/Users/jakubblaha/Documents/thesis/thesis-python/common.py:122: RuntimeWarning: There were no Annotations stored in <EpochsArray | 1 events (all good), 0 – 7.992 s (baseline off), ~134 kB, data loaded,\n",
      " '1': 1>, so metadata was not modified.\n",
      "  res = mne_connectivity.spectral_connectivity_time(\n",
      "/Users/jakubblaha/Documents/thesis/thesis-python/common.py:122: RuntimeWarning: There were no Annotations stored in <EpochsArray | 1 events (all good), 0 – 7.992 s (baseline off), ~134 kB, data loaded,\n",
      " '1': 1>, so metadata was not modified.\n",
      "  res = mne_connectivity.spectral_connectivity_time(\n"
     ]
    },
    {
     "name": "stdout",
     "output_type": "stream",
     "text": [
      "[Connectivity computation done]\n",
      "only using indices for lower-triangular matrix\n",
      "Connectivity computation...\n",
      "   Processing epoch 1 / 1 ...\n",
      "[Connectivity computation done]\n",
      "only using indices for lower-triangular matrix\n",
      "Connectivity computation...\n",
      "   Processing epoch 1 / 1 ...\n"
     ]
    },
    {
     "name": "stderr",
     "output_type": "stream",
     "text": [
      "/Users/jakubblaha/Documents/thesis/thesis-python/common.py:122: RuntimeWarning: There were no Annotations stored in <EpochsArray | 1 events (all good), 0 – 7.992 s (baseline off), ~134 kB, data loaded,\n",
      " '1': 1>, so metadata was not modified.\n",
      "  res = mne_connectivity.spectral_connectivity_time(\n",
      "/Users/jakubblaha/Documents/thesis/thesis-python/common.py:122: RuntimeWarning: There were no Annotations stored in <EpochsArray | 1 events (all good), 0 – 7.992 s (baseline off), ~134 kB, data loaded,\n",
      " '1': 1>, so metadata was not modified.\n",
      "  res = mne_connectivity.spectral_connectivity_time(\n"
     ]
    },
    {
     "name": "stdout",
     "output_type": "stream",
     "text": [
      "[Connectivity computation done]\n",
      "only using indices for lower-triangular matrix\n",
      "Connectivity computation...\n",
      "   Processing epoch 1 / 1 ...\n",
      "[Connectivity computation done]\n",
      "only using indices for lower-triangular matrix\n",
      "Connectivity computation...\n",
      "   Processing epoch 1 / 1 ...\n"
     ]
    },
    {
     "name": "stderr",
     "output_type": "stream",
     "text": [
      "/Users/jakubblaha/Documents/thesis/thesis-python/common.py:122: RuntimeWarning: There were no Annotations stored in <EpochsArray | 1 events (all good), 0 – 7.992 s (baseline off), ~134 kB, data loaded,\n",
      " '1': 1>, so metadata was not modified.\n",
      "  res = mne_connectivity.spectral_connectivity_time(\n",
      "/Users/jakubblaha/Documents/thesis/thesis-python/common.py:122: RuntimeWarning: There were no Annotations stored in <EpochsArray | 1 events (all good), 0 – 7.992 s (baseline off), ~134 kB, data loaded,\n",
      " '1': 1>, so metadata was not modified.\n",
      "  res = mne_connectivity.spectral_connectivity_time(\n"
     ]
    },
    {
     "name": "stdout",
     "output_type": "stream",
     "text": [
      "[Connectivity computation done]\n",
      "only using indices for lower-triangular matrix\n",
      "Connectivity computation...\n",
      "   Processing epoch 1 / 1 ...\n",
      "[Connectivity computation done]\n",
      "only using indices for lower-triangular matrix\n"
     ]
    },
    {
     "name": "stderr",
     "output_type": "stream",
     "text": [
      "/Users/jakubblaha/Documents/thesis/thesis-python/common.py:122: RuntimeWarning: There were no Annotations stored in <EpochsArray | 1 events (all good), 0 – 7.992 s (baseline off), ~134 kB, data loaded,\n",
      " '1': 1>, so metadata was not modified.\n",
      "  res = mne_connectivity.spectral_connectivity_time(\n",
      "/Users/jakubblaha/Documents/thesis/thesis-python/common.py:122: RuntimeWarning: There were no Annotations stored in <EpochsArray | 1 events (all good), 0 – 7.992 s (baseline off), ~134 kB, data loaded,\n",
      " '1': 1>, so metadata was not modified.\n",
      "  res = mne_connectivity.spectral_connectivity_time(\n"
     ]
    },
    {
     "name": "stdout",
     "output_type": "stream",
     "text": [
      "Connectivity computation...\n",
      "   Processing epoch 1 / 1 ...\n",
      "[Connectivity computation done]\n",
      "only using indices for lower-triangular matrix\n",
      "Connectivity computation...\n",
      "   Processing epoch 1 / 1 ...\n",
      "[Connectivity computation done]\n",
      "only using indices for lower-triangular matrix\n",
      "Connectivity computation...\n",
      "   Processing epoch 1 / 1 ...\n"
     ]
    },
    {
     "name": "stderr",
     "output_type": "stream",
     "text": [
      "/Users/jakubblaha/Documents/thesis/thesis-python/common.py:122: RuntimeWarning: There were no Annotations stored in <EpochsArray | 1 events (all good), 0 – 7.992 s (baseline off), ~134 kB, data loaded,\n",
      " '1': 1>, so metadata was not modified.\n",
      "  res = mne_connectivity.spectral_connectivity_time(\n",
      "/Users/jakubblaha/Documents/thesis/thesis-python/common.py:122: RuntimeWarning: There were no Annotations stored in <EpochsArray | 1 events (all good), 0 – 7.992 s (baseline off), ~134 kB, data loaded,\n",
      " '1': 1>, so metadata was not modified.\n",
      "  res = mne_connectivity.spectral_connectivity_time(\n"
     ]
    },
    {
     "name": "stdout",
     "output_type": "stream",
     "text": [
      "[Connectivity computation done]\n",
      "only using indices for lower-triangular matrix\n",
      "Connectivity computation...\n",
      "   Processing epoch 1 / 1 ...\n",
      "[Connectivity computation done]\n",
      "only using indices for lower-triangular matrix\n",
      "Connectivity computation...\n",
      "   Processing epoch 1 / 1 ...\n"
     ]
    },
    {
     "name": "stderr",
     "output_type": "stream",
     "text": [
      "/Users/jakubblaha/Documents/thesis/thesis-python/common.py:122: RuntimeWarning: There were no Annotations stored in <EpochsArray | 1 events (all good), 0 – 7.992 s (baseline off), ~134 kB, data loaded,\n",
      " '1': 1>, so metadata was not modified.\n",
      "  res = mne_connectivity.spectral_connectivity_time(\n",
      "/Users/jakubblaha/Documents/thesis/thesis-python/common.py:122: RuntimeWarning: There were no Annotations stored in <EpochsArray | 1 events (all good), 0 – 7.992 s (baseline off), ~134 kB, data loaded,\n",
      " '1': 1>, so metadata was not modified.\n",
      "  res = mne_connectivity.spectral_connectivity_time(\n"
     ]
    },
    {
     "name": "stdout",
     "output_type": "stream",
     "text": [
      "[Connectivity computation done]\n",
      "only using indices for lower-triangular matrix\n",
      "Connectivity computation...\n",
      "   Processing epoch 1 / 1 ...\n",
      "[Connectivity computation done]\n",
      "only using indices for lower-triangular matrix\n",
      "Connectivity computation...\n",
      "   Processing epoch 1 / 1 ...\n"
     ]
    },
    {
     "name": "stderr",
     "output_type": "stream",
     "text": [
      "/Users/jakubblaha/Documents/thesis/thesis-python/common.py:122: RuntimeWarning: There were no Annotations stored in <EpochsArray | 1 events (all good), 0 – 7.992 s (baseline off), ~134 kB, data loaded,\n",
      " '1': 1>, so metadata was not modified.\n",
      "  res = mne_connectivity.spectral_connectivity_time(\n",
      "/Users/jakubblaha/Documents/thesis/thesis-python/common.py:122: RuntimeWarning: There were no Annotations stored in <EpochsArray | 1 events (all good), 0 – 7.992 s (baseline off), ~134 kB, data loaded,\n",
      " '1': 1>, so metadata was not modified.\n",
      "  res = mne_connectivity.spectral_connectivity_time(\n"
     ]
    },
    {
     "name": "stdout",
     "output_type": "stream",
     "text": [
      "[Connectivity computation done]\n",
      "only using indices for lower-triangular matrix\n",
      "Connectivity computation...\n",
      "   Processing epoch 1 / 1 ...\n",
      "[Connectivity computation done]\n",
      "only using indices for lower-triangular matrix\n",
      "Connectivity computation...\n",
      "   Processing epoch 1 / 1 ...\n"
     ]
    },
    {
     "name": "stderr",
     "output_type": "stream",
     "text": [
      "/Users/jakubblaha/Documents/thesis/thesis-python/common.py:122: RuntimeWarning: There were no Annotations stored in <EpochsArray | 1 events (all good), 0 – 7.992 s (baseline off), ~134 kB, data loaded,\n",
      " '1': 1>, so metadata was not modified.\n",
      "  res = mne_connectivity.spectral_connectivity_time(\n",
      "/Users/jakubblaha/Documents/thesis/thesis-python/common.py:122: RuntimeWarning: There were no Annotations stored in <EpochsArray | 1 events (all good), 0 – 7.992 s (baseline off), ~134 kB, data loaded,\n",
      " '1': 1>, so metadata was not modified.\n",
      "  res = mne_connectivity.spectral_connectivity_time(\n"
     ]
    },
    {
     "name": "stdout",
     "output_type": "stream",
     "text": [
      "[Connectivity computation done]\n",
      "only using indices for lower-triangular matrix\n",
      "Connectivity computation...\n",
      "   Processing epoch 1 / 1 ...\n",
      "[Connectivity computation done]\n",
      "only using indices for lower-triangular matrix\n",
      "Connectivity computation...\n",
      "   Processing epoch 1 / 1 ...\n"
     ]
    },
    {
     "name": "stderr",
     "output_type": "stream",
     "text": [
      "/Users/jakubblaha/Documents/thesis/thesis-python/common.py:122: RuntimeWarning: There were no Annotations stored in <EpochsArray | 1 events (all good), 0 – 7.992 s (baseline off), ~134 kB, data loaded,\n",
      " '1': 1>, so metadata was not modified.\n",
      "  res = mne_connectivity.spectral_connectivity_time(\n",
      "/Users/jakubblaha/Documents/thesis/thesis-python/common.py:122: RuntimeWarning: There were no Annotations stored in <EpochsArray | 1 events (all good), 0 – 7.992 s (baseline off), ~134 kB, data loaded,\n",
      " '1': 1>, so metadata was not modified.\n",
      "  res = mne_connectivity.spectral_connectivity_time(\n"
     ]
    },
    {
     "name": "stdout",
     "output_type": "stream",
     "text": [
      "[Connectivity computation done]\n",
      "only using indices for lower-triangular matrix\n",
      "Connectivity computation...\n",
      "   Processing epoch 1 / 1 ...\n",
      "[Connectivity computation done]\n",
      "only using indices for lower-triangular matrix\n",
      "Connectivity computation...\n",
      "   Processing epoch 1 / 1 ...\n"
     ]
    },
    {
     "name": "stderr",
     "output_type": "stream",
     "text": [
      "/Users/jakubblaha/Documents/thesis/thesis-python/common.py:122: RuntimeWarning: There were no Annotations stored in <EpochsArray | 1 events (all good), 0 – 7.992 s (baseline off), ~134 kB, data loaded,\n",
      " '1': 1>, so metadata was not modified.\n",
      "  res = mne_connectivity.spectral_connectivity_time(\n",
      "/Users/jakubblaha/Documents/thesis/thesis-python/common.py:122: RuntimeWarning: There were no Annotations stored in <EpochsArray | 1 events (all good), 0 – 7.992 s (baseline off), ~134 kB, data loaded,\n",
      " '1': 1>, so metadata was not modified.\n",
      "  res = mne_connectivity.spectral_connectivity_time(\n"
     ]
    },
    {
     "name": "stdout",
     "output_type": "stream",
     "text": [
      "[Connectivity computation done]\n",
      "only using indices for lower-triangular matrix\n",
      "Connectivity computation...\n",
      "   Processing epoch 1 / 1 ...\n",
      "[Connectivity computation done]\n",
      "only using indices for lower-triangular matrix\n",
      "Connectivity computation...\n",
      "   Processing epoch 1 / 1 ...\n"
     ]
    },
    {
     "name": "stderr",
     "output_type": "stream",
     "text": [
      "/Users/jakubblaha/Documents/thesis/thesis-python/common.py:122: RuntimeWarning: There were no Annotations stored in <EpochsArray | 1 events (all good), 0 – 7.992 s (baseline off), ~134 kB, data loaded,\n",
      " '1': 1>, so metadata was not modified.\n",
      "  res = mne_connectivity.spectral_connectivity_time(\n",
      "/Users/jakubblaha/Documents/thesis/thesis-python/common.py:122: RuntimeWarning: There were no Annotations stored in <EpochsArray | 1 events (all good), 0 – 7.992 s (baseline off), ~134 kB, data loaded,\n",
      " '1': 1>, so metadata was not modified.\n",
      "  res = mne_connectivity.spectral_connectivity_time(\n"
     ]
    },
    {
     "name": "stdout",
     "output_type": "stream",
     "text": [
      "[Connectivity computation done]\n",
      "only using indices for lower-triangular matrix\n",
      "Connectivity computation...\n",
      "   Processing epoch 1 / 1 ...\n",
      "[Connectivity computation done]\n",
      "only using indices for lower-triangular matrix\n",
      "Connectivity computation...\n",
      "   Processing epoch 1 / 1 ...\n"
     ]
    },
    {
     "name": "stderr",
     "output_type": "stream",
     "text": [
      "/Users/jakubblaha/Documents/thesis/thesis-python/common.py:122: RuntimeWarning: There were no Annotations stored in <EpochsArray | 1 events (all good), 0 – 7.992 s (baseline off), ~134 kB, data loaded,\n",
      " '1': 1>, so metadata was not modified.\n",
      "  res = mne_connectivity.spectral_connectivity_time(\n",
      "/Users/jakubblaha/Documents/thesis/thesis-python/common.py:122: RuntimeWarning: There were no Annotations stored in <EpochsArray | 1 events (all good), 0 – 7.992 s (baseline off), ~134 kB, data loaded,\n",
      " '1': 1>, so metadata was not modified.\n",
      "  res = mne_connectivity.spectral_connectivity_time(\n"
     ]
    },
    {
     "name": "stdout",
     "output_type": "stream",
     "text": [
      "[Connectivity computation done]\n",
      "only using indices for lower-triangular matrix\n",
      "Connectivity computation...\n",
      "   Processing epoch 1 / 1 ...\n",
      "[Connectivity computation done]\n",
      "only using indices for lower-triangular matrix\n"
     ]
    },
    {
     "name": "stderr",
     "output_type": "stream",
     "text": [
      "/Users/jakubblaha/Documents/thesis/thesis-python/common.py:122: RuntimeWarning: There were no Annotations stored in <EpochsArray | 1 events (all good), 0 – 7.992 s (baseline off), ~134 kB, data loaded,\n",
      " '1': 1>, so metadata was not modified.\n",
      "  res = mne_connectivity.spectral_connectivity_time(\n",
      "/Users/jakubblaha/Documents/thesis/thesis-python/common.py:122: RuntimeWarning: There were no Annotations stored in <EpochsArray | 1 events (all good), 0 – 7.992 s (baseline off), ~134 kB, data loaded,\n",
      " '1': 1>, so metadata was not modified.\n",
      "  res = mne_connectivity.spectral_connectivity_time(\n"
     ]
    },
    {
     "name": "stdout",
     "output_type": "stream",
     "text": [
      "Connectivity computation...\n",
      "   Processing epoch 1 / 1 ...\n",
      "[Connectivity computation done]\n",
      "only using indices for lower-triangular matrix\n",
      "Connectivity computation...\n",
      "   Processing epoch 1 / 1 ...\n",
      "[Connectivity computation done]\n",
      "only using indices for lower-triangular matrix\n",
      "Connectivity computation...\n",
      "   Processing epoch 1 / 1 ...\n"
     ]
    },
    {
     "name": "stderr",
     "output_type": "stream",
     "text": [
      "/Users/jakubblaha/Documents/thesis/thesis-python/common.py:122: RuntimeWarning: There were no Annotations stored in <EpochsArray | 1 events (all good), 0 – 7.992 s (baseline off), ~134 kB, data loaded,\n",
      " '1': 1>, so metadata was not modified.\n",
      "  res = mne_connectivity.spectral_connectivity_time(\n",
      "/Users/jakubblaha/Documents/thesis/thesis-python/common.py:122: RuntimeWarning: There were no Annotations stored in <EpochsArray | 1 events (all good), 0 – 7.992 s (baseline off), ~134 kB, data loaded,\n",
      " '1': 1>, so metadata was not modified.\n",
      "  res = mne_connectivity.spectral_connectivity_time(\n"
     ]
    },
    {
     "name": "stdout",
     "output_type": "stream",
     "text": [
      "[Connectivity computation done]\n",
      "only using indices for lower-triangular matrix\n",
      "Connectivity computation...\n",
      "   Processing epoch 1 / 1 ...\n",
      "[Connectivity computation done]\n",
      "only using indices for lower-triangular matrix\n",
      "Connectivity computation...\n",
      "   Processing epoch 1 / 1 ...\n"
     ]
    },
    {
     "name": "stderr",
     "output_type": "stream",
     "text": [
      "/Users/jakubblaha/Documents/thesis/thesis-python/common.py:122: RuntimeWarning: There were no Annotations stored in <EpochsArray | 1 events (all good), 0 – 7.992 s (baseline off), ~134 kB, data loaded,\n",
      " '1': 1>, so metadata was not modified.\n",
      "  res = mne_connectivity.spectral_connectivity_time(\n",
      "/Users/jakubblaha/Documents/thesis/thesis-python/common.py:122: RuntimeWarning: There were no Annotations stored in <EpochsArray | 1 events (all good), 0 – 7.992 s (baseline off), ~134 kB, data loaded,\n",
      " '1': 1>, so metadata was not modified.\n",
      "  res = mne_connectivity.spectral_connectivity_time(\n"
     ]
    },
    {
     "name": "stdout",
     "output_type": "stream",
     "text": [
      "[Connectivity computation done]\n",
      "only using indices for lower-triangular matrix\n",
      "Connectivity computation...\n",
      "   Processing epoch 1 / 1 ...\n",
      "[Connectivity computation done]\n"
     ]
    },
    {
     "name": "stderr",
     "output_type": "stream",
     "text": [
      "/Users/jakubblaha/Documents/thesis/thesis-python/common.py:122: RuntimeWarning: There were no Annotations stored in <EpochsArray | 1 events (all good), 0 – 7.992 s (baseline off), ~134 kB, data loaded,\n",
      " '1': 1>, so metadata was not modified.\n",
      "  res = mne_connectivity.spectral_connectivity_time(\n"
     ]
    },
    {
     "name": "stdout",
     "output_type": "stream",
     "text": [
      "only using indices for lower-triangular matrix\n",
      "Connectivity computation...\n",
      "   Processing epoch 1 / 1 ...\n",
      "[Connectivity computation done]\n",
      "only using indices for lower-triangular matrix\n",
      "Connectivity computation...\n",
      "   Processing epoch 1 / 1 ...\n"
     ]
    },
    {
     "name": "stderr",
     "output_type": "stream",
     "text": [
      "/Users/jakubblaha/Documents/thesis/thesis-python/common.py:122: RuntimeWarning: There were no Annotations stored in <EpochsArray | 1 events (all good), 0 – 7.992 s (baseline off), ~134 kB, data loaded,\n",
      " '1': 1>, so metadata was not modified.\n",
      "  res = mne_connectivity.spectral_connectivity_time(\n",
      "/Users/jakubblaha/Documents/thesis/thesis-python/common.py:122: RuntimeWarning: There were no Annotations stored in <EpochsArray | 1 events (all good), 0 – 7.992 s (baseline off), ~134 kB, data loaded,\n",
      " '1': 1>, so metadata was not modified.\n",
      "  res = mne_connectivity.spectral_connectivity_time(\n"
     ]
    },
    {
     "name": "stdout",
     "output_type": "stream",
     "text": [
      "[Connectivity computation done]\n",
      "only using indices for lower-triangular matrix\n",
      "Connectivity computation...\n",
      "   Processing epoch 1 / 1 ...\n",
      "[Connectivity computation done]\n",
      "only using indices for lower-triangular matrix\n",
      "Connectivity computation...\n",
      "   Processing epoch 1 / 1 ...\n"
     ]
    },
    {
     "name": "stderr",
     "output_type": "stream",
     "text": [
      "/Users/jakubblaha/Documents/thesis/thesis-python/common.py:122: RuntimeWarning: There were no Annotations stored in <EpochsArray | 1 events (all good), 0 – 7.992 s (baseline off), ~134 kB, data loaded,\n",
      " '1': 1>, so metadata was not modified.\n",
      "  res = mne_connectivity.spectral_connectivity_time(\n",
      "/Users/jakubblaha/Documents/thesis/thesis-python/common.py:122: RuntimeWarning: There were no Annotations stored in <EpochsArray | 1 events (all good), 0 – 7.992 s (baseline off), ~134 kB, data loaded,\n",
      " '1': 1>, so metadata was not modified.\n",
      "  res = mne_connectivity.spectral_connectivity_time(\n"
     ]
    },
    {
     "name": "stdout",
     "output_type": "stream",
     "text": [
      "[Connectivity computation done]\n",
      "only using indices for lower-triangular matrix\n",
      "Connectivity computation...\n",
      "   Processing epoch 1 / 1 ...\n",
      "[Connectivity computation done]\n",
      "only using indices for lower-triangular matrix\n",
      "Connectivity computation...\n",
      "   Processing epoch 1 / 1 ...\n"
     ]
    },
    {
     "name": "stderr",
     "output_type": "stream",
     "text": [
      "/Users/jakubblaha/Documents/thesis/thesis-python/common.py:122: RuntimeWarning: There were no Annotations stored in <EpochsArray | 1 events (all good), 0 – 7.992 s (baseline off), ~134 kB, data loaded,\n",
      " '1': 1>, so metadata was not modified.\n",
      "  res = mne_connectivity.spectral_connectivity_time(\n",
      "/Users/jakubblaha/Documents/thesis/thesis-python/common.py:122: RuntimeWarning: There were no Annotations stored in <EpochsArray | 1 events (all good), 0 – 7.992 s (baseline off), ~134 kB, data loaded,\n",
      " '1': 1>, so metadata was not modified.\n",
      "  res = mne_connectivity.spectral_connectivity_time(\n"
     ]
    },
    {
     "name": "stdout",
     "output_type": "stream",
     "text": [
      "[Connectivity computation done]\n",
      "only using indices for lower-triangular matrix\n",
      "Connectivity computation...\n",
      "   Processing epoch 1 / 1 ...\n",
      "[Connectivity computation done]\n",
      "only using indices for lower-triangular matrix\n",
      "Connectivity computation...\n",
      "   Processing epoch 1 / 1 ...\n"
     ]
    },
    {
     "name": "stderr",
     "output_type": "stream",
     "text": [
      "/Users/jakubblaha/Documents/thesis/thesis-python/common.py:122: RuntimeWarning: There were no Annotations stored in <EpochsArray | 1 events (all good), 0 – 7.992 s (baseline off), ~134 kB, data loaded,\n",
      " '1': 1>, so metadata was not modified.\n",
      "  res = mne_connectivity.spectral_connectivity_time(\n",
      "/Users/jakubblaha/Documents/thesis/thesis-python/common.py:122: RuntimeWarning: There were no Annotations stored in <EpochsArray | 1 events (all good), 0 – 7.992 s (baseline off), ~134 kB, data loaded,\n",
      " '1': 1>, so metadata was not modified.\n",
      "  res = mne_connectivity.spectral_connectivity_time(\n"
     ]
    },
    {
     "name": "stdout",
     "output_type": "stream",
     "text": [
      "[Connectivity computation done]\n",
      "only using indices for lower-triangular matrix\n",
      "Connectivity computation...\n",
      "   Processing epoch 1 / 1 ...\n",
      "[Connectivity computation done]\n",
      "only using indices for lower-triangular matrix\n",
      "Connectivity computation...\n",
      "   Processing epoch 1 / 1 ...\n"
     ]
    },
    {
     "name": "stderr",
     "output_type": "stream",
     "text": [
      "/Users/jakubblaha/Documents/thesis/thesis-python/common.py:122: RuntimeWarning: There were no Annotations stored in <EpochsArray | 1 events (all good), 0 – 7.992 s (baseline off), ~134 kB, data loaded,\n",
      " '1': 1>, so metadata was not modified.\n",
      "  res = mne_connectivity.spectral_connectivity_time(\n",
      "/Users/jakubblaha/Documents/thesis/thesis-python/common.py:122: RuntimeWarning: There were no Annotations stored in <EpochsArray | 1 events (all good), 0 – 7.992 s (baseline off), ~134 kB, data loaded,\n",
      " '1': 1>, so metadata was not modified.\n",
      "  res = mne_connectivity.spectral_connectivity_time(\n"
     ]
    },
    {
     "name": "stdout",
     "output_type": "stream",
     "text": [
      "[Connectivity computation done]\n",
      "only using indices for lower-triangular matrix\n",
      "Connectivity computation...\n",
      "   Processing epoch 1 / 1 ...\n",
      "[Connectivity computation done]\n"
     ]
    },
    {
     "name": "stderr",
     "output_type": "stream",
     "text": [
      "/Users/jakubblaha/Documents/thesis/thesis-python/common.py:122: RuntimeWarning: There were no Annotations stored in <EpochsArray | 1 events (all good), 0 – 7.992 s (baseline off), ~134 kB, data loaded,\n",
      " '1': 1>, so metadata was not modified.\n",
      "  res = mne_connectivity.spectral_connectivity_time(\n"
     ]
    },
    {
     "name": "stdout",
     "output_type": "stream",
     "text": [
      "only using indices for lower-triangular matrix\n",
      "Connectivity computation...\n",
      "   Processing epoch 1 / 1 ...\n",
      "[Connectivity computation done]\n",
      "only using indices for lower-triangular matrix\n"
     ]
    },
    {
     "name": "stderr",
     "output_type": "stream",
     "text": [
      "/Users/jakubblaha/Documents/thesis/thesis-python/common.py:122: RuntimeWarning: There were no Annotations stored in <EpochsArray | 1 events (all good), 0 – 7.992 s (baseline off), ~134 kB, data loaded,\n",
      " '1': 1>, so metadata was not modified.\n",
      "  res = mne_connectivity.spectral_connectivity_time(\n",
      "/Users/jakubblaha/Documents/thesis/thesis-python/common.py:122: RuntimeWarning: There were no Annotations stored in <EpochsArray | 1 events (all good), 0 – 7.992 s (baseline off), ~134 kB, data loaded,\n",
      " '1': 1>, so metadata was not modified.\n",
      "  res = mne_connectivity.spectral_connectivity_time(\n"
     ]
    },
    {
     "name": "stdout",
     "output_type": "stream",
     "text": [
      "Connectivity computation...\n",
      "   Processing epoch 1 / 1 ...\n",
      "[Connectivity computation done]\n",
      "only using indices for lower-triangular matrix\n",
      "Connectivity computation...\n",
      "   Processing epoch 1 / 1 ...\n",
      "[Connectivity computation done]\n",
      "only using indices for lower-triangular matrix\n",
      "Connectivity computation...\n",
      "   Processing epoch 1 / 1 ...\n"
     ]
    },
    {
     "name": "stderr",
     "output_type": "stream",
     "text": [
      "/Users/jakubblaha/Documents/thesis/thesis-python/common.py:122: RuntimeWarning: There were no Annotations stored in <EpochsArray | 1 events (all good), 0 – 7.992 s (baseline off), ~134 kB, data loaded,\n",
      " '1': 1>, so metadata was not modified.\n",
      "  res = mne_connectivity.spectral_connectivity_time(\n",
      "/Users/jakubblaha/Documents/thesis/thesis-python/common.py:122: RuntimeWarning: There were no Annotations stored in <EpochsArray | 1 events (all good), 0 – 7.992 s (baseline off), ~134 kB, data loaded,\n",
      " '1': 1>, so metadata was not modified.\n",
      "  res = mne_connectivity.spectral_connectivity_time(\n"
     ]
    },
    {
     "name": "stdout",
     "output_type": "stream",
     "text": [
      "[Connectivity computation done]\n",
      "only using indices for lower-triangular matrix\n",
      "Connectivity computation...\n",
      "   Processing epoch 1 / 1 ...\n",
      "[Connectivity computation done]\n",
      "only using indices for lower-triangular matrix\n",
      "Connectivity computation...\n",
      "   Processing epoch 1 / 1 ...\n"
     ]
    },
    {
     "name": "stderr",
     "output_type": "stream",
     "text": [
      "/Users/jakubblaha/Documents/thesis/thesis-python/common.py:122: RuntimeWarning: There were no Annotations stored in <EpochsArray | 1 events (all good), 0 – 7.992 s (baseline off), ~134 kB, data loaded,\n",
      " '1': 1>, so metadata was not modified.\n",
      "  res = mne_connectivity.spectral_connectivity_time(\n",
      "/Users/jakubblaha/Documents/thesis/thesis-python/common.py:122: RuntimeWarning: There were no Annotations stored in <EpochsArray | 1 events (all good), 0 – 7.992 s (baseline off), ~134 kB, data loaded,\n",
      " '1': 1>, so metadata was not modified.\n",
      "  res = mne_connectivity.spectral_connectivity_time(\n"
     ]
    },
    {
     "name": "stdout",
     "output_type": "stream",
     "text": [
      "[Connectivity computation done]\n",
      "only using indices for lower-triangular matrix\n",
      "Connectivity computation...\n",
      "   Processing epoch 1 / 1 ...\n",
      "[Connectivity computation done]\n",
      "only using indices for lower-triangular matrix\n",
      "Connectivity computation...\n",
      "   Processing epoch 1 / 1 ...\n"
     ]
    },
    {
     "name": "stderr",
     "output_type": "stream",
     "text": [
      "/Users/jakubblaha/Documents/thesis/thesis-python/common.py:122: RuntimeWarning: There were no Annotations stored in <EpochsArray | 1 events (all good), 0 – 7.992 s (baseline off), ~134 kB, data loaded,\n",
      " '1': 1>, so metadata was not modified.\n",
      "  res = mne_connectivity.spectral_connectivity_time(\n",
      "/Users/jakubblaha/Documents/thesis/thesis-python/common.py:122: RuntimeWarning: There were no Annotations stored in <EpochsArray | 1 events (all good), 0 – 7.992 s (baseline off), ~134 kB, data loaded,\n",
      " '1': 1>, so metadata was not modified.\n",
      "  res = mne_connectivity.spectral_connectivity_time(\n"
     ]
    },
    {
     "name": "stdout",
     "output_type": "stream",
     "text": [
      "[Connectivity computation done]\n",
      "only using indices for lower-triangular matrix\n",
      "Connectivity computation...\n",
      "   Processing epoch 1 / 1 ...\n",
      "[Connectivity computation done]\n",
      "only using indices for lower-triangular matrix\n",
      "Connectivity computation...\n",
      "   Processing epoch 1 / 1 ...\n"
     ]
    },
    {
     "name": "stderr",
     "output_type": "stream",
     "text": [
      "/Users/jakubblaha/Documents/thesis/thesis-python/common.py:122: RuntimeWarning: There were no Annotations stored in <EpochsArray | 1 events (all good), 0 – 7.992 s (baseline off), ~134 kB, data loaded,\n",
      " '1': 1>, so metadata was not modified.\n",
      "  res = mne_connectivity.spectral_connectivity_time(\n",
      "/Users/jakubblaha/Documents/thesis/thesis-python/common.py:122: RuntimeWarning: There were no Annotations stored in <EpochsArray | 1 events (all good), 0 – 7.992 s (baseline off), ~134 kB, data loaded,\n",
      " '1': 1>, so metadata was not modified.\n",
      "  res = mne_connectivity.spectral_connectivity_time(\n"
     ]
    },
    {
     "name": "stdout",
     "output_type": "stream",
     "text": [
      "[Connectivity computation done]\n",
      "only using indices for lower-triangular matrix\n",
      "Connectivity computation...\n",
      "   Processing epoch 1 / 1 ...\n",
      "[Connectivity computation done]\n",
      "only using indices for lower-triangular matrix\n",
      "Connectivity computation...\n",
      "   Processing epoch 1 / 1 ...\n"
     ]
    },
    {
     "name": "stderr",
     "output_type": "stream",
     "text": [
      "/Users/jakubblaha/Documents/thesis/thesis-python/common.py:122: RuntimeWarning: There were no Annotations stored in <EpochsArray | 1 events (all good), 0 – 7.992 s (baseline off), ~134 kB, data loaded,\n",
      " '1': 1>, so metadata was not modified.\n",
      "  res = mne_connectivity.spectral_connectivity_time(\n",
      "/Users/jakubblaha/Documents/thesis/thesis-python/common.py:122: RuntimeWarning: There were no Annotations stored in <EpochsArray | 1 events (all good), 0 – 7.992 s (baseline off), ~134 kB, data loaded,\n",
      " '1': 1>, so metadata was not modified.\n",
      "  res = mne_connectivity.spectral_connectivity_time(\n"
     ]
    },
    {
     "name": "stdout",
     "output_type": "stream",
     "text": [
      "[Connectivity computation done]\n",
      "only using indices for lower-triangular matrix\n",
      "Connectivity computation...\n",
      "   Processing epoch 1 / 1 ...\n",
      "[Connectivity computation done]\n",
      "only using indices for lower-triangular matrix\n",
      "Connectivity computation...\n",
      "   Processing epoch 1 / 1 ...\n"
     ]
    },
    {
     "name": "stderr",
     "output_type": "stream",
     "text": [
      "/Users/jakubblaha/Documents/thesis/thesis-python/common.py:122: RuntimeWarning: There were no Annotations stored in <EpochsArray | 1 events (all good), 0 – 7.992 s (baseline off), ~134 kB, data loaded,\n",
      " '1': 1>, so metadata was not modified.\n",
      "  res = mne_connectivity.spectral_connectivity_time(\n",
      "/Users/jakubblaha/Documents/thesis/thesis-python/common.py:122: RuntimeWarning: There were no Annotations stored in <EpochsArray | 1 events (all good), 0 – 7.992 s (baseline off), ~134 kB, data loaded,\n",
      " '1': 1>, so metadata was not modified.\n",
      "  res = mne_connectivity.spectral_connectivity_time(\n"
     ]
    },
    {
     "name": "stdout",
     "output_type": "stream",
     "text": [
      "[Connectivity computation done]\n",
      "only using indices for lower-triangular matrix\n",
      "Connectivity computation...\n",
      "   Processing epoch 1 / 1 ...\n",
      "[Connectivity computation done]\n"
     ]
    },
    {
     "name": "stderr",
     "output_type": "stream",
     "text": [
      "/Users/jakubblaha/Documents/thesis/thesis-python/common.py:122: RuntimeWarning: There were no Annotations stored in <EpochsArray | 1 events (all good), 0 – 7.992 s (baseline off), ~134 kB, data loaded,\n",
      " '1': 1>, so metadata was not modified.\n",
      "  res = mne_connectivity.spectral_connectivity_time(\n"
     ]
    },
    {
     "name": "stdout",
     "output_type": "stream",
     "text": [
      "only using indices for lower-triangular matrix\n",
      "Connectivity computation...\n",
      "   Processing epoch 1 / 1 ...\n"
     ]
    },
    {
     "name": "stderr",
     "output_type": "stream",
     "text": [
      "/Users/jakubblaha/Documents/thesis/thesis-python/common.py:122: RuntimeWarning: There were no Annotations stored in <EpochsArray | 1 events (all good), 0 – 7.992 s (baseline off), ~134 kB, data loaded,\n",
      " '1': 1>, so metadata was not modified.\n",
      "  res = mne_connectivity.spectral_connectivity_time(\n"
     ]
    },
    {
     "name": "stdout",
     "output_type": "stream",
     "text": [
      "[Connectivity computation done]\n",
      "only using indices for lower-triangular matrix\n",
      "Connectivity computation...\n",
      "   Processing epoch 1 / 1 ...\n",
      "[Connectivity computation done]\n"
     ]
    },
    {
     "name": "stderr",
     "output_type": "stream",
     "text": [
      "/Users/jakubblaha/Documents/thesis/thesis-python/common.py:122: RuntimeWarning: There were no Annotations stored in <EpochsArray | 1 events (all good), 0 – 7.992 s (baseline off), ~134 kB, data loaded,\n",
      " '1': 1>, so metadata was not modified.\n",
      "  res = mne_connectivity.spectral_connectivity_time(\n"
     ]
    },
    {
     "name": "stdout",
     "output_type": "stream",
     "text": [
      "only using indices for lower-triangular matrix\n",
      "Connectivity computation...\n",
      "   Processing epoch 1 / 1 ...\n"
     ]
    },
    {
     "name": "stderr",
     "output_type": "stream",
     "text": [
      "/Users/jakubblaha/Documents/thesis/thesis-python/common.py:122: RuntimeWarning: There were no Annotations stored in <EpochsArray | 1 events (all good), 0 – 7.992 s (baseline off), ~134 kB, data loaded,\n",
      " '1': 1>, so metadata was not modified.\n",
      "  res = mne_connectivity.spectral_connectivity_time(\n"
     ]
    },
    {
     "name": "stdout",
     "output_type": "stream",
     "text": [
      "[Connectivity computation done]\n",
      "only using indices for lower-triangular matrix\n",
      "Connectivity computation...\n",
      "   Processing epoch 1 / 1 ...\n",
      "[Connectivity computation done]\n"
     ]
    },
    {
     "name": "stderr",
     "output_type": "stream",
     "text": [
      "/Users/jakubblaha/Documents/thesis/thesis-python/common.py:122: RuntimeWarning: There were no Annotations stored in <EpochsArray | 1 events (all good), 0 – 7.992 s (baseline off), ~134 kB, data loaded,\n",
      " '1': 1>, so metadata was not modified.\n",
      "  res = mne_connectivity.spectral_connectivity_time(\n"
     ]
    }
   ],
   "source": [
    "for trial in tqdm(trials):\n",
    "    trial.compute_all_features()"
   ]
  },
  {
   "cell_type": "code",
   "execution_count": 4,
   "metadata": {},
   "outputs": [
    {
     "data": {
      "text/plain": [
       "(936,)"
      ]
     },
     "execution_count": 4,
     "metadata": {},
     "output_type": "execute_result"
    }
   ],
   "source": [
    "oversampled_trials = oversample(trials)\n",
    "oversampled_trials.shape"
   ]
  },
  {
   "cell_type": "code",
   "execution_count": 16,
   "metadata": {},
   "outputs": [
    {
     "name": "stdout",
     "output_type": "stream",
     "text": [
      "Train samples:  748\n",
      "Test samples:  188\n"
     ]
    },
    {
     "data": {
      "application/vnd.jupyter.widget-view+json": {
       "model_id": "4929fe2bba624478865d4664477ee38e",
       "version_major": 2,
       "version_minor": 0
      },
      "text/plain": [
       "  0%|          | 0/200 [00:00<?, ?it/s]"
      ]
     },
     "metadata": {},
     "output_type": "display_data"
    },
    {
     "name": "stderr",
     "output_type": "stream",
     "text": [
      "/Users/jakubblaha/Documents/thesis/thesis-python/src/utils.py:66: UserWarning: To copy construct from a tensor, it is recommended to use sourceTensor.clone().detach() or sourceTensor.clone().detach().requires_grad_(True), rather than torch.tensor(sourceTensor).\n",
      "  \n",
      "/Users/jakubblaha/Documents/thesis/thesis-python/src/utils.py:94: UserWarning: To copy construct from a tensor, it is recommended to use sourceTensor.clone().detach() or sourceTensor.clone().detach().requires_grad_(True), rather than torch.tensor(sourceTensor).\n",
      "  loss = criterion(scores, targets)\n"
     ]
    },
    {
     "data": {
      "image/png": "[encoded data removed]",
      "text/plain": [
       "<Figure size 2000x500 with 1 Axes>"
      ]
     },
     "metadata": {},
     "output_type": "display_data"
    },
    {
     "data": {
      "image/png": "[encoded data removed]",
      "text/plain": [
       "<Figure size 2000x500 with 1 Axes>"
      ]
     },
     "metadata": {},
     "output_type": "display_data"
    },
    {
     "name": "stdout",
     "output_type": "stream",
     "text": [
      "Avg test acc last 30 epochs:  0.6952128\n"
     ]
    }
   ],
   "source": [
    "trials_train, trials_test = train_test_split(oversampled_trials, train_size=0.8)\n",
    "\n",
    "train_dataset = AllFeatsDataset(trials_train)\n",
    "test_dataset = AllFeatsDataset(trials_test)\n",
    "\n",
    "model = AllFeatsCNN(2)\n",
    "train_eval_pytorch_model(model, train_dataset, test_dataset, num_epochs=200, learning_rate=0.0001, last_epochs_avg=30)"
   ]
  }
 ],
 "metadata": {
  "kernelspec": {
   "display_name": "thesis-python-yCK4mToH",
   "language": "python",
   "name": "python3"
  },
  "language_info": {
   "codemirror_mode": {
    "name": "ipython",
    "version": 3
   },
   "file_extension": ".py",
   "mimetype": "text/x-python",
   "name": "python",
   "nbconvert_exporter": "python",
   "pygments_lexer": "ipython3",
   "version": "3.12.7"
  }
 },
 "nbformat": 4,
 "nbformat_minor": 2
}
