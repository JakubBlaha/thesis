{
 "cells": [
  {
   "cell_type": "code",
   "execution_count": 25,
   "metadata": {},
   "outputs": [
    {
     "name": "stdout",
     "output_type": "stream",
     "text": [
      "True\n",
      "True\n",
      "True\n",
      "True\n",
      "True\n",
      "True\n",
      "True\n",
      "True\n",
      "True\n",
      "True\n",
      "True\n",
      "True\n",
      "True\n",
      "True\n",
      "True\n",
      "True\n",
      "True\n",
      "True\n",
      "True\n",
      "True\n",
      "True\n",
      "True\n",
      "True\n"
     ]
    }
   ],
   "source": [
    "import h5py\n",
    "import numpy as np\n",
    "\n",
    "for i in range(1, 24):\n",
    "    raw_mat_path = \"../data/dasps/raw_mat/S{}.mat\".format(str(i).zfill(2))\n",
    "    prep_mat_path = \"../data/dasps/preprocessed/S{}preprocessed.mat\".format(str(i).zfill(2))\n",
    "\n",
    "    with h5py.File(raw_mat_path, 'r') as f:\n",
    "        raw_data = np.array(f['data'])\n",
    "\n",
    "    with h5py.File(prep_mat_path, 'r') as f:\n",
    "        prep_data = np.array(f['data'])\n",
    "\n",
    "    print(np.equal(raw_data, prep_data).all())"
   ]
  }
 ],
 "metadata": {
  "kernelspec": {
   "display_name": "thesis-python-yCK4mToH",
   "language": "python",
   "name": "python3"
  },
  "language_info": {
   "codemirror_mode": {
    "name": "ipython",
    "version": 3
   },
   "file_extension": ".py",
   "mimetype": "text/x-python",
   "name": "python",
   "nbconvert_exporter": "python",
   "pygments_lexer": "ipython3",
   "version": "3.12.7"
  }
 },
 "nbformat": 4,
 "nbformat_minor": 2
}
