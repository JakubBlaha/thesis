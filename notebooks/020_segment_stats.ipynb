{
 "cells": [
  {
   "cell_type": "code",
   "execution_count": 65,
   "metadata": {},
   "outputs": [
    {
     "data": {
      "text/html": [
       "<div>\n",
       "<style scoped>\n",
       "    .dataframe tbody tr th:only-of-type {\n",
       "        vertical-align: middle;\n",
       "    }\n",
       "\n",
       "    .dataframe tbody tr th {\n",
       "        vertical-align: top;\n",
       "    }\n",
       "\n",
       "    .dataframe thead th {\n",
       "        text-align: right;\n",
       "    }\n",
       "</style>\n",
       "<table border=\"1\" class=\"dataframe\">\n",
       "  <thead>\n",
       "    <tr style=\"text-align: right;\">\n",
       "      <th></th>\n",
       "      <th>dur</th>\n",
       "      <th>sam_la</th>\n",
       "      <th>sam_ha</th>\n",
       "      <th>ham_la</th>\n",
       "      <th>ham_ha</th>\n",
       "      <th>stai_la</th>\n",
       "      <th>stai_ha</th>\n",
       "      <th>pre</th>\n",
       "      <th>post</th>\n",
       "      <th>removed</th>\n",
       "    </tr>\n",
       "  </thead>\n",
       "  <tbody>\n",
       "    <tr>\n",
       "      <th>0</th>\n",
       "      <td>15</td>\n",
       "      <td>160</td>\n",
       "      <td>86</td>\n",
       "      <td>79</td>\n",
       "      <td>167</td>\n",
       "      <td>0</td>\n",
       "      <td>0</td>\n",
       "      <td>276</td>\n",
       "      <td>246</td>\n",
       "      <td>30</td>\n",
       "    </tr>\n",
       "  </tbody>\n",
       "</table>\n",
       "</div>"
      ],
      "text/plain": [
       "   dur  sam_la  sam_ha  ham_la  ham_ha  stai_la  stai_ha  pre  post  removed\n",
       "0   15     160      86      79     167        0        0  276   246       30"
      ]
     },
     "execution_count": 65,
     "metadata": {},
     "output_type": "execute_result"
    }
   ],
   "source": [
    "%matplotlib qt\n",
    "import mne, os, glob, pandas as pd, re\n",
    "\n",
    "mne.set_log_level(\"warning\")\n",
    "\n",
    "clean = glob.glob(\"../data/segmented/*/clean/*-epo.fif\")\n",
    "dirty = [path.replace(\"clean\", \"raw\") for path in clean]\n",
    "\n",
    "zipped = list(zip(dirty, clean))\n",
    "\n",
    "total = pd.DataFrame(columns=[\"dur\", \"sam_la\", \"sam_ha\", \"ham_la\", \"ham_ha\", \"stai_la\", \"stai_ha\", \"pre\", \"post\", \"removed\"])\n",
    "\n",
    "for pre_ar_path, post_ar_path in zipped:\n",
    "    pre = mne.read_epochs(pre_ar_path)\n",
    "    post = mne.read_epochs(post_ar_path)\n",
    "\n",
    "    duration = re.search(r\"/(\\d+)s/\", pre_ar_path).group(1)\n",
    "    duration = int(duration)\n",
    "\n",
    "    # Labeling\n",
    "    meta = post.metadata\n",
    "    row_with_dur = total[total[\"dur\"] == duration]\n",
    "\n",
    "    if len(row_with_dur) == 0:\n",
    "        total.loc[len(total)] = [duration, 0, 0, 0, 0, 0, 0, 0, 0, 0]\n",
    "\n",
    "    total.loc[total[\"dur\"] == duration, \"sam_la\"] += meta[meta[\"sam\"].isin([0, 1])].shape[0]\n",
    "    total.loc[total[\"dur\"] == duration, \"sam_ha\"] += meta[meta[\"sam\"].isin([2, 3])].shape[0]\n",
    "    total.loc[total[\"dur\"] == duration, \"ham_la\"] += meta[meta[\"ham\"].isin([0, 1])].shape[0]\n",
    "    total.loc[total[\"dur\"] == duration, \"ham_ha\"] += meta[meta[\"ham\"].isin([2, 3])].shape[0]\n",
    "\n",
    "    total.loc[total[\"dur\"] == duration, \"pre\"] += len(pre)\n",
    "    total.loc[total[\"dur\"] == duration, \"post\"] += len(post)\n",
    "    total.loc[total[\"dur\"] == duration, \"removed\"] += len(pre) - len(post)\n",
    "\n",
    "df = pd.DataFrame(d)\n",
    "\n",
    "df\n",
    "total"
   ]
  }
 ],
 "metadata": {
  "kernelspec": {
   "display_name": "thesis-python-yCK4mToH",
   "language": "python",
   "name": "python3"
  },
  "language_info": {
   "codemirror_mode": {
    "name": "ipython",
    "version": 3
   },
   "file_extension": ".py",
   "mimetype": "text/x-python",
   "name": "python",
   "nbconvert_exporter": "python",
   "pygments_lexer": "ipython3",
   "version": "3.12.7"
  }
 },
 "nbformat": 4,
 "nbformat_minor": 2
}
